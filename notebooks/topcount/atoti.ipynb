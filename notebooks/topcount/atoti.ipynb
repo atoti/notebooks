{
 "cells": [
  {
   "cell_type": "markdown",
   "metadata": {},
   "source": [
    "# Ways to visualize top count with atoti\n",
    "\n",
    "Given different categories of items, we will explore how to achieve the following with atoti:\n",
    "- Visualize top 10 apps with the highest rating in table\n",
    "- Visualize top 10 categories with most number of apps rated 5 in Pie chart\n",
    "- Visualize top 10 apps for each category in subplots\n",
    "\n",
    "See [pandas.ipynb](pandas.ipynb) to see how we can achieve the similar top count with Pandas.\n",
    "\n",
    "__Note on data:__\n",
    "We are using the [Google Play Store Apps data](https://www.kaggle.com/lava18/google-play-store-apps) from Kaggle. Data has been processed to convert strings with millions and thousands abbreviations into numeric data."
   ]
  },
  {
   "cell_type": "markdown",
   "metadata": {},
   "source": [
    "## Top count with atoti"
   ]
  },
  {
   "cell_type": "code",
   "execution_count": 1,
   "metadata": {},
   "outputs": [
    {
     "name": "stdout",
     "output_type": "stream",
     "text": [
      "Welcome to atoti 0.4.3!\n",
      "\n",
      "By using this community edition, you agree with the license available at https://www.atoti.io/eula.\n",
      "Browse the official documentation at https://docs.atoti.io.\n",
      "Join the community at https://www.atoti.io/register.\n",
      "\n",
      "You can hide this message by setting the ATOTI_HIDE_EULA_MESSAGE environment variable to True.\n"
     ]
    }
   ],
   "source": [
    "import atoti as tt\n",
    "from atoti.config import create_config\n",
    "\n",
    "config = create_config(metadata_db=\"./metadata.db\")\n",
    "session = tt.create_session(config=config)"
   ]
  },
  {
   "cell_type": "code",
   "execution_count": 2,
   "metadata": {},
   "outputs": [
    {
     "data": {
      "text/html": [
       "<div>\n",
       "<style scoped>\n",
       "    .dataframe tbody tr th:only-of-type {\n",
       "        vertical-align: middle;\n",
       "    }\n",
       "\n",
       "    .dataframe tbody tr th {\n",
       "        vertical-align: top;\n",
       "    }\n",
       "\n",
       "    .dataframe thead th {\n",
       "        text-align: right;\n",
       "    }\n",
       "</style>\n",
       "<table border=\"1\" class=\"dataframe\">\n",
       "  <thead>\n",
       "    <tr style=\"text-align: right;\">\n",
       "      <th></th>\n",
       "      <th></th>\n",
       "      <th></th>\n",
       "      <th></th>\n",
       "      <th>Rating</th>\n",
       "      <th>Reviews</th>\n",
       "      <th>Size</th>\n",
       "      <th>Installs</th>\n",
       "      <th>Type</th>\n",
       "      <th>Price</th>\n",
       "      <th>Content Rating</th>\n",
       "      <th>Last Updated</th>\n",
       "      <th>Android Ver</th>\n",
       "    </tr>\n",
       "    <tr>\n",
       "      <th>App</th>\n",
       "      <th>Category</th>\n",
       "      <th>Genres</th>\n",
       "      <th>Current Ver</th>\n",
       "      <th></th>\n",
       "      <th></th>\n",
       "      <th></th>\n",
       "      <th></th>\n",
       "      <th></th>\n",
       "      <th></th>\n",
       "      <th></th>\n",
       "      <th></th>\n",
       "      <th></th>\n",
       "    </tr>\n",
       "  </thead>\n",
       "  <tbody>\n",
       "    <tr>\n",
       "      <th>Weather forecast</th>\n",
       "      <th>WEATHER</th>\n",
       "      <th>Weather</th>\n",
       "      <th>1.11.93</th>\n",
       "      <td>4.8</td>\n",
       "      <td>159455.0</td>\n",
       "      <td>10000000.0</td>\n",
       "      <td>1000000.0</td>\n",
       "      <td>Free</td>\n",
       "      <td>0.00</td>\n",
       "      <td>Everyone</td>\n",
       "      <td>May 8, 2018</td>\n",
       "      <td>4.4 and up</td>\n",
       "    </tr>\n",
       "    <tr>\n",
       "      <th>Weather Live Pro</th>\n",
       "      <th>WEATHER</th>\n",
       "      <th>Weather</th>\n",
       "      <th>1.3</th>\n",
       "      <td>4.8</td>\n",
       "      <td>17493.0</td>\n",
       "      <td>11000000.0</td>\n",
       "      <td>100000.0</td>\n",
       "      <td>Paid</td>\n",
       "      <td>4.49</td>\n",
       "      <td>Everyone</td>\n",
       "      <td>April 20, 2018</td>\n",
       "      <td>4.4 and up</td>\n",
       "    </tr>\n",
       "    <tr>\n",
       "      <th>Live Weather Pro</th>\n",
       "      <th>WEATHER</th>\n",
       "      <th>Weather</th>\n",
       "      <th>1.1</th>\n",
       "      <td>4.8</td>\n",
       "      <td>892.0</td>\n",
       "      <td>17000000.0</td>\n",
       "      <td>10000.0</td>\n",
       "      <td>Free</td>\n",
       "      <td>0.00</td>\n",
       "      <td>Everyone</td>\n",
       "      <td>July 17, 2018</td>\n",
       "      <td>4.4 and up</td>\n",
       "    </tr>\n",
       "    <tr>\n",
       "      <th>Fu*** Weather (Funny Weather)</th>\n",
       "      <th>WEATHER</th>\n",
       "      <th>Weather</th>\n",
       "      <th>Varies with device</th>\n",
       "      <td>4.7</td>\n",
       "      <td>20001.0</td>\n",
       "      <td>NaN</td>\n",
       "      <td>1000000.0</td>\n",
       "      <td>Free</td>\n",
       "      <td>0.00</td>\n",
       "      <td>Mature 17</td>\n",
       "      <td>July 26, 2018</td>\n",
       "      <td>Varies with device</td>\n",
       "    </tr>\n",
       "    <tr>\n",
       "      <th>Weather Forecast Pro</th>\n",
       "      <th>WEATHER</th>\n",
       "      <th>Weather</th>\n",
       "      <th>8.5</th>\n",
       "      <td>4.7</td>\n",
       "      <td>14051.0</td>\n",
       "      <td>8700000.0</td>\n",
       "      <td>100000.0</td>\n",
       "      <td>Paid</td>\n",
       "      <td>3.99</td>\n",
       "      <td>Everyone</td>\n",
       "      <td>August 4, 2018</td>\n",
       "      <td>4.0 and up</td>\n",
       "    </tr>\n",
       "  </tbody>\n",
       "</table>\n",
       "</div>"
      ],
      "text/plain": [
       "                                                                   Rating  \\\n",
       "App                           Category Genres  Current Ver                  \n",
       "Weather forecast              WEATHER  Weather 1.11.93                4.8   \n",
       "Weather Live Pro              WEATHER  Weather 1.3                    4.8   \n",
       "Live Weather Pro              WEATHER  Weather 1.1                    4.8   \n",
       "Fu*** Weather (Funny Weather) WEATHER  Weather Varies with device     4.7   \n",
       "Weather Forecast Pro          WEATHER  Weather 8.5                    4.7   \n",
       "\n",
       "                                                                    Reviews  \\\n",
       "App                           Category Genres  Current Ver                    \n",
       "Weather forecast              WEATHER  Weather 1.11.93             159455.0   \n",
       "Weather Live Pro              WEATHER  Weather 1.3                  17493.0   \n",
       "Live Weather Pro              WEATHER  Weather 1.1                    892.0   \n",
       "Fu*** Weather (Funny Weather) WEATHER  Weather Varies with device   20001.0   \n",
       "Weather Forecast Pro          WEATHER  Weather 8.5                  14051.0   \n",
       "\n",
       "                                                                         Size  \\\n",
       "App                           Category Genres  Current Ver                      \n",
       "Weather forecast              WEATHER  Weather 1.11.93             10000000.0   \n",
       "Weather Live Pro              WEATHER  Weather 1.3                 11000000.0   \n",
       "Live Weather Pro              WEATHER  Weather 1.1                 17000000.0   \n",
       "Fu*** Weather (Funny Weather) WEATHER  Weather Varies with device         NaN   \n",
       "Weather Forecast Pro          WEATHER  Weather 8.5                  8700000.0   \n",
       "\n",
       "                                                                    Installs  \\\n",
       "App                           Category Genres  Current Ver                     \n",
       "Weather forecast              WEATHER  Weather 1.11.93             1000000.0   \n",
       "Weather Live Pro              WEATHER  Weather 1.3                  100000.0   \n",
       "Live Weather Pro              WEATHER  Weather 1.1                   10000.0   \n",
       "Fu*** Weather (Funny Weather) WEATHER  Weather Varies with device  1000000.0   \n",
       "Weather Forecast Pro          WEATHER  Weather 8.5                  100000.0   \n",
       "\n",
       "                                                                   Type  \\\n",
       "App                           Category Genres  Current Ver                \n",
       "Weather forecast              WEATHER  Weather 1.11.93             Free   \n",
       "Weather Live Pro              WEATHER  Weather 1.3                 Paid   \n",
       "Live Weather Pro              WEATHER  Weather 1.1                 Free   \n",
       "Fu*** Weather (Funny Weather) WEATHER  Weather Varies with device  Free   \n",
       "Weather Forecast Pro          WEATHER  Weather 8.5                 Paid   \n",
       "\n",
       "                                                                   Price  \\\n",
       "App                           Category Genres  Current Ver                 \n",
       "Weather forecast              WEATHER  Weather 1.11.93              0.00   \n",
       "Weather Live Pro              WEATHER  Weather 1.3                  4.49   \n",
       "Live Weather Pro              WEATHER  Weather 1.1                  0.00   \n",
       "Fu*** Weather (Funny Weather) WEATHER  Weather Varies with device   0.00   \n",
       "Weather Forecast Pro          WEATHER  Weather 8.5                  3.99   \n",
       "\n",
       "                                                                  Content Rating  \\\n",
       "App                           Category Genres  Current Ver                         \n",
       "Weather forecast              WEATHER  Weather 1.11.93                  Everyone   \n",
       "Weather Live Pro              WEATHER  Weather 1.3                      Everyone   \n",
       "Live Weather Pro              WEATHER  Weather 1.1                      Everyone   \n",
       "Fu*** Weather (Funny Weather) WEATHER  Weather Varies with device      Mature 17   \n",
       "Weather Forecast Pro          WEATHER  Weather 8.5                      Everyone   \n",
       "\n",
       "                                                                     Last Updated  \\\n",
       "App                           Category Genres  Current Ver                          \n",
       "Weather forecast              WEATHER  Weather 1.11.93                May 8, 2018   \n",
       "Weather Live Pro              WEATHER  Weather 1.3                 April 20, 2018   \n",
       "Live Weather Pro              WEATHER  Weather 1.1                  July 17, 2018   \n",
       "Fu*** Weather (Funny Weather) WEATHER  Weather Varies with device   July 26, 2018   \n",
       "Weather Forecast Pro          WEATHER  Weather 8.5                 August 4, 2018   \n",
       "\n",
       "                                                                          Android Ver  \n",
       "App                           Category Genres  Current Ver                             \n",
       "Weather forecast              WEATHER  Weather 1.11.93                     4.4 and up  \n",
       "Weather Live Pro              WEATHER  Weather 1.3                         4.4 and up  \n",
       "Live Weather Pro              WEATHER  Weather 1.1                         4.4 and up  \n",
       "Fu*** Weather (Funny Weather) WEATHER  Weather Varies with device  Varies with device  \n",
       "Weather Forecast Pro          WEATHER  Weather 8.5                         4.0 and up  "
      ]
     },
     "execution_count": 2,
     "metadata": {},
     "output_type": "execute_result"
    }
   ],
   "source": [
    "playstore = session.read_csv(\n",
    "    \"s3://data.atoti.io/notebooks/topcount/googleplaystore_cleaned.csv\",\n",
    "    store_name=\"playstore\",\n",
    "    keys=[\"App\", \"Category\", \"Genres\", \"Current Ver\"],\n",
    "    sampling_mode=tt.sampling.FULL,\n",
    "    types={\"Reviews\": tt.types.FLOAT, \"Installs\": tt.types.FLOAT},\n",
    ")\n",
    "\n",
    "playstore.head()"
   ]
  },
  {
   "cell_type": "code",
   "execution_count": 3,
   "metadata": {},
   "outputs": [
    {
     "data": {
      "image/svg+xml": [
       "<svg xmlns=\"http://www.w3.org/2000/svg\" xmlns:xlink=\"http://www.w3.org/1999/xlink\" width=\"195px\" height=\"354px\" viewBox=\"0.00 0.00 195.00 354.00\">\n",
       "<g id=\"graph0\" class=\"graph\" transform=\"scale(1.0 1.0) rotate(0) translate(4 350)\">\n",
       "<title>Google Playstore schema</title>\n",
       "<polygon fill=\"white\" stroke=\"none\" points=\"-4,4 -4,-350 191,-350 191,4 -4,4\"/>\n",
       "<!-- playstore -->\n",
       "<g id=\"node1\" class=\"node\"><title>playstore</title>\n",
       "<text text-anchor=\"start\" x=\"66.5\" y=\"-326.6\" font-family=\"-apple-system, BlinkMacSystemFont, 'Segoe UI', Helvetica, Arial, sans-serif, 'Apple Color Emoji', 'Segoe UI Emoji', 'Segoe UI Symbol'\" font-weight=\"bold\" font-size=\"13.00\">playstore</text>\n",
       "<polygon fill=\"#f5f5f5\" stroke=\"none\" points=\"9.5,-293 9.5,-317 40.5,-317 40.5,-293 9.5,-293\"/>\n",
       "<text text-anchor=\"start\" x=\"14.5\" y=\"-302.6\" font-family=\"-apple-system, BlinkMacSystemFont, 'Segoe UI', Helvetica, Arial, sans-serif, 'Apple Color Emoji', 'Segoe UI Emoji', 'Segoe UI Symbol'\" font-weight=\"bold\" font-size=\"13.00\">key</text>\n",
       "<polygon fill=\"#f5f5f5\" stroke=\"none\" points=\"40.5,-293 40.5,-317 131.5,-317 131.5,-293 40.5,-293\"/>\n",
       "<text text-anchor=\"start\" x=\"45.5\" y=\"-301.6\" font-family=\"-apple-system, BlinkMacSystemFont, 'Segoe UI', Helvetica, Arial, sans-serif, 'Apple Color Emoji', 'Segoe UI Emoji', 'Segoe UI Symbol'\" font-size=\"13.00\">App</text>\n",
       "<polygon fill=\"#f5f5f5\" stroke=\"none\" points=\"131.5,-293 131.5,-317 178.5,-317 178.5,-293 131.5,-293\"/>\n",
       "<text text-anchor=\"start\" x=\"140.5\" y=\"-302.6\" font-family=\"-apple-system, BlinkMacSystemFont, 'Segoe UI', Helvetica, Arial, sans-serif, 'Apple Color Emoji', 'Segoe UI Emoji', 'Segoe UI Symbol'\" font-style=\"italic\" font-size=\"13.00\">String</text>\n",
       "<polygon fill=\"#ffffff\" stroke=\"none\" points=\"9.5,-269 9.5,-293 40.5,-293 40.5,-269 9.5,-269\"/>\n",
       "<text text-anchor=\"start\" x=\"14.5\" y=\"-278.6\" font-family=\"-apple-system, BlinkMacSystemFont, 'Segoe UI', Helvetica, Arial, sans-serif, 'Apple Color Emoji', 'Segoe UI Emoji', 'Segoe UI Symbol'\" font-weight=\"bold\" font-size=\"13.00\">key</text>\n",
       "<polygon fill=\"#ffffff\" stroke=\"none\" points=\"40.5,-269 40.5,-293 131.5,-293 131.5,-269 40.5,-269\"/>\n",
       "<text text-anchor=\"start\" x=\"45.5\" y=\"-277.6\" font-family=\"-apple-system, BlinkMacSystemFont, 'Segoe UI', Helvetica, Arial, sans-serif, 'Apple Color Emoji', 'Segoe UI Emoji', 'Segoe UI Symbol'\" font-size=\"13.00\">Category</text>\n",
       "<polygon fill=\"#ffffff\" stroke=\"none\" points=\"131.5,-269 131.5,-293 178.5,-293 178.5,-269 131.5,-269\"/>\n",
       "<text text-anchor=\"start\" x=\"140.5\" y=\"-278.6\" font-family=\"-apple-system, BlinkMacSystemFont, 'Segoe UI', Helvetica, Arial, sans-serif, 'Apple Color Emoji', 'Segoe UI Emoji', 'Segoe UI Symbol'\" font-style=\"italic\" font-size=\"13.00\">String</text>\n",
       "<polygon fill=\"#f5f5f5\" stroke=\"none\" points=\"9.5,-245 9.5,-269 40.5,-269 40.5,-245 9.5,-245\"/>\n",
       "<polygon fill=\"#f5f5f5\" stroke=\"none\" points=\"40.5,-245 40.5,-269 131.5,-269 131.5,-245 40.5,-245\"/>\n",
       "<text text-anchor=\"start\" x=\"45.5\" y=\"-253.6\" font-family=\"-apple-system, BlinkMacSystemFont, 'Segoe UI', Helvetica, Arial, sans-serif, 'Apple Color Emoji', 'Segoe UI Emoji', 'Segoe UI Symbol'\" font-size=\"13.00\">Rating</text>\n",
       "<polygon fill=\"#f5f5f5\" stroke=\"none\" points=\"131.5,-245 131.5,-269 178.5,-269 178.5,-245 131.5,-245\"/>\n",
       "<text text-anchor=\"start\" x=\"136.5\" y=\"-254.6\" font-family=\"-apple-system, BlinkMacSystemFont, 'Segoe UI', Helvetica, Arial, sans-serif, 'Apple Color Emoji', 'Segoe UI Emoji', 'Segoe UI Symbol'\" font-style=\"italic\" font-size=\"13.00\">double</text>\n",
       "<polygon fill=\"#ffffff\" stroke=\"none\" points=\"9.5,-221 9.5,-245 40.5,-245 40.5,-221 9.5,-221\"/>\n",
       "<polygon fill=\"#ffffff\" stroke=\"none\" points=\"40.5,-221 40.5,-245 131.5,-245 131.5,-221 40.5,-221\"/>\n",
       "<text text-anchor=\"start\" x=\"45.5\" y=\"-229.6\" font-family=\"-apple-system, BlinkMacSystemFont, 'Segoe UI', Helvetica, Arial, sans-serif, 'Apple Color Emoji', 'Segoe UI Emoji', 'Segoe UI Symbol'\" font-size=\"13.00\">Reviews</text>\n",
       "<polygon fill=\"#ffffff\" stroke=\"none\" points=\"131.5,-221 131.5,-245 178.5,-245 178.5,-221 131.5,-221\"/>\n",
       "<text text-anchor=\"start\" x=\"148.5\" y=\"-230.6\" font-family=\"-apple-system, BlinkMacSystemFont, 'Segoe UI', Helvetica, Arial, sans-serif, 'Apple Color Emoji', 'Segoe UI Emoji', 'Segoe UI Symbol'\" font-style=\"italic\" font-size=\"13.00\">float</text>\n",
       "<polygon fill=\"#f5f5f5\" stroke=\"none\" points=\"9.5,-197 9.5,-221 40.5,-221 40.5,-197 9.5,-197\"/>\n",
       "<polygon fill=\"#f5f5f5\" stroke=\"none\" points=\"40.5,-197 40.5,-221 131.5,-221 131.5,-197 40.5,-197\"/>\n",
       "<text text-anchor=\"start\" x=\"45.5\" y=\"-205.6\" font-family=\"-apple-system, BlinkMacSystemFont, 'Segoe UI', Helvetica, Arial, sans-serif, 'Apple Color Emoji', 'Segoe UI Emoji', 'Segoe UI Symbol'\" font-size=\"13.00\">Size</text>\n",
       "<polygon fill=\"#f5f5f5\" stroke=\"none\" points=\"131.5,-197 131.5,-221 178.5,-221 178.5,-197 131.5,-197\"/>\n",
       "<text text-anchor=\"start\" x=\"136.5\" y=\"-206.6\" font-family=\"-apple-system, BlinkMacSystemFont, 'Segoe UI', Helvetica, Arial, sans-serif, 'Apple Color Emoji', 'Segoe UI Emoji', 'Segoe UI Symbol'\" font-style=\"italic\" font-size=\"13.00\">double</text>\n",
       "<polygon fill=\"#ffffff\" stroke=\"none\" points=\"9.5,-173 9.5,-197 40.5,-197 40.5,-173 9.5,-173\"/>\n",
       "<polygon fill=\"#ffffff\" stroke=\"none\" points=\"40.5,-173 40.5,-197 131.5,-197 131.5,-173 40.5,-173\"/>\n",
       "<text text-anchor=\"start\" x=\"45.5\" y=\"-181.6\" font-family=\"-apple-system, BlinkMacSystemFont, 'Segoe UI', Helvetica, Arial, sans-serif, 'Apple Color Emoji', 'Segoe UI Emoji', 'Segoe UI Symbol'\" font-size=\"13.00\">Installs</text>\n",
       "<polygon fill=\"#ffffff\" stroke=\"none\" points=\"131.5,-173 131.5,-197 178.5,-197 178.5,-173 131.5,-173\"/>\n",
       "<text text-anchor=\"start\" x=\"148.5\" y=\"-182.6\" font-family=\"-apple-system, BlinkMacSystemFont, 'Segoe UI', Helvetica, Arial, sans-serif, 'Apple Color Emoji', 'Segoe UI Emoji', 'Segoe UI Symbol'\" font-style=\"italic\" font-size=\"13.00\">float</text>\n",
       "<polygon fill=\"#f5f5f5\" stroke=\"none\" points=\"9.5,-149 9.5,-173 40.5,-173 40.5,-149 9.5,-149\"/>\n",
       "<polygon fill=\"#f5f5f5\" stroke=\"none\" points=\"40.5,-149 40.5,-173 131.5,-173 131.5,-149 40.5,-149\"/>\n",
       "<text text-anchor=\"start\" x=\"45.5\" y=\"-157.6\" font-family=\"-apple-system, BlinkMacSystemFont, 'Segoe UI', Helvetica, Arial, sans-serif, 'Apple Color Emoji', 'Segoe UI Emoji', 'Segoe UI Symbol'\" font-size=\"13.00\">Type</text>\n",
       "<polygon fill=\"#f5f5f5\" stroke=\"none\" points=\"131.5,-149 131.5,-173 178.5,-173 178.5,-149 131.5,-149\"/>\n",
       "<text text-anchor=\"start\" x=\"140.5\" y=\"-158.6\" font-family=\"-apple-system, BlinkMacSystemFont, 'Segoe UI', Helvetica, Arial, sans-serif, 'Apple Color Emoji', 'Segoe UI Emoji', 'Segoe UI Symbol'\" font-style=\"italic\" font-size=\"13.00\">String</text>\n",
       "<polygon fill=\"#ffffff\" stroke=\"none\" points=\"9.5,-125 9.5,-149 40.5,-149 40.5,-125 9.5,-125\"/>\n",
       "<polygon fill=\"#ffffff\" stroke=\"none\" points=\"40.5,-125 40.5,-149 131.5,-149 131.5,-125 40.5,-125\"/>\n",
       "<text text-anchor=\"start\" x=\"45.5\" y=\"-133.6\" font-family=\"-apple-system, BlinkMacSystemFont, 'Segoe UI', Helvetica, Arial, sans-serif, 'Apple Color Emoji', 'Segoe UI Emoji', 'Segoe UI Symbol'\" font-size=\"13.00\">Price</text>\n",
       "<polygon fill=\"#ffffff\" stroke=\"none\" points=\"131.5,-125 131.5,-149 178.5,-149 178.5,-125 131.5,-125\"/>\n",
       "<text text-anchor=\"start\" x=\"136.5\" y=\"-134.6\" font-family=\"-apple-system, BlinkMacSystemFont, 'Segoe UI', Helvetica, Arial, sans-serif, 'Apple Color Emoji', 'Segoe UI Emoji', 'Segoe UI Symbol'\" font-style=\"italic\" font-size=\"13.00\">double</text>\n",
       "<polygon fill=\"#f5f5f5\" stroke=\"none\" points=\"9.5,-101 9.5,-125 40.5,-125 40.5,-101 9.5,-101\"/>\n",
       "<polygon fill=\"#f5f5f5\" stroke=\"none\" points=\"40.5,-101 40.5,-125 131.5,-125 131.5,-101 40.5,-101\"/>\n",
       "<text text-anchor=\"start\" x=\"45.5\" y=\"-109.6\" font-family=\"-apple-system, BlinkMacSystemFont, 'Segoe UI', Helvetica, Arial, sans-serif, 'Apple Color Emoji', 'Segoe UI Emoji', 'Segoe UI Symbol'\" font-size=\"13.00\">Content Rating</text>\n",
       "<polygon fill=\"#f5f5f5\" stroke=\"none\" points=\"131.5,-101 131.5,-125 178.5,-125 178.5,-101 131.5,-101\"/>\n",
       "<text text-anchor=\"start\" x=\"140.5\" y=\"-110.6\" font-family=\"-apple-system, BlinkMacSystemFont, 'Segoe UI', Helvetica, Arial, sans-serif, 'Apple Color Emoji', 'Segoe UI Emoji', 'Segoe UI Symbol'\" font-style=\"italic\" font-size=\"13.00\">String</text>\n",
       "<polygon fill=\"#ffffff\" stroke=\"none\" points=\"9.5,-77 9.5,-101 40.5,-101 40.5,-77 9.5,-77\"/>\n",
       "<text text-anchor=\"start\" x=\"14.5\" y=\"-86.6\" font-family=\"-apple-system, BlinkMacSystemFont, 'Segoe UI', Helvetica, Arial, sans-serif, 'Apple Color Emoji', 'Segoe UI Emoji', 'Segoe UI Symbol'\" font-weight=\"bold\" font-size=\"13.00\">key</text>\n",
       "<polygon fill=\"#ffffff\" stroke=\"none\" points=\"40.5,-77 40.5,-101 131.5,-101 131.5,-77 40.5,-77\"/>\n",
       "<text text-anchor=\"start\" x=\"45.5\" y=\"-85.6\" font-family=\"-apple-system, BlinkMacSystemFont, 'Segoe UI', Helvetica, Arial, sans-serif, 'Apple Color Emoji', 'Segoe UI Emoji', 'Segoe UI Symbol'\" font-size=\"13.00\">Genres</text>\n",
       "<polygon fill=\"#ffffff\" stroke=\"none\" points=\"131.5,-77 131.5,-101 178.5,-101 178.5,-77 131.5,-77\"/>\n",
       "<text text-anchor=\"start\" x=\"140.5\" y=\"-86.6\" font-family=\"-apple-system, BlinkMacSystemFont, 'Segoe UI', Helvetica, Arial, sans-serif, 'Apple Color Emoji', 'Segoe UI Emoji', 'Segoe UI Symbol'\" font-style=\"italic\" font-size=\"13.00\">String</text>\n",
       "<polygon fill=\"#f5f5f5\" stroke=\"none\" points=\"9.5,-53 9.5,-77 40.5,-77 40.5,-53 9.5,-53\"/>\n",
       "<polygon fill=\"#f5f5f5\" stroke=\"none\" points=\"40.5,-53 40.5,-77 131.5,-77 131.5,-53 40.5,-53\"/>\n",
       "<text text-anchor=\"start\" x=\"45.5\" y=\"-61.6\" font-family=\"-apple-system, BlinkMacSystemFont, 'Segoe UI', Helvetica, Arial, sans-serif, 'Apple Color Emoji', 'Segoe UI Emoji', 'Segoe UI Symbol'\" font-size=\"13.00\">Last Updated</text>\n",
       "<polygon fill=\"#f5f5f5\" stroke=\"none\" points=\"131.5,-53 131.5,-77 178.5,-77 178.5,-53 131.5,-53\"/>\n",
       "<text text-anchor=\"start\" x=\"140.5\" y=\"-62.6\" font-family=\"-apple-system, BlinkMacSystemFont, 'Segoe UI', Helvetica, Arial, sans-serif, 'Apple Color Emoji', 'Segoe UI Emoji', 'Segoe UI Symbol'\" font-style=\"italic\" font-size=\"13.00\">String</text>\n",
       "<polygon fill=\"#ffffff\" stroke=\"none\" points=\"9.5,-29 9.5,-53 40.5,-53 40.5,-29 9.5,-29\"/>\n",
       "<text text-anchor=\"start\" x=\"14.5\" y=\"-38.6\" font-family=\"-apple-system, BlinkMacSystemFont, 'Segoe UI', Helvetica, Arial, sans-serif, 'Apple Color Emoji', 'Segoe UI Emoji', 'Segoe UI Symbol'\" font-weight=\"bold\" font-size=\"13.00\">key</text>\n",
       "<polygon fill=\"#ffffff\" stroke=\"none\" points=\"40.5,-29 40.5,-53 131.5,-53 131.5,-29 40.5,-29\"/>\n",
       "<text text-anchor=\"start\" x=\"45.5\" y=\"-37.6\" font-family=\"-apple-system, BlinkMacSystemFont, 'Segoe UI', Helvetica, Arial, sans-serif, 'Apple Color Emoji', 'Segoe UI Emoji', 'Segoe UI Symbol'\" font-size=\"13.00\">Current Ver</text>\n",
       "<polygon fill=\"#ffffff\" stroke=\"none\" points=\"131.5,-29 131.5,-53 178.5,-53 178.5,-29 131.5,-29\"/>\n",
       "<text text-anchor=\"start\" x=\"140.5\" y=\"-38.6\" font-family=\"-apple-system, BlinkMacSystemFont, 'Segoe UI', Helvetica, Arial, sans-serif, 'Apple Color Emoji', 'Segoe UI Emoji', 'Segoe UI Symbol'\" font-style=\"italic\" font-size=\"13.00\">String</text>\n",
       "<polygon fill=\"#f5f5f5\" stroke=\"none\" points=\"9.5,-5 9.5,-29 40.5,-29 40.5,-5 9.5,-5\"/>\n",
       "<polygon fill=\"#f5f5f5\" stroke=\"none\" points=\"40.5,-5 40.5,-29 131.5,-29 131.5,-5 40.5,-5\"/>\n",
       "<text text-anchor=\"start\" x=\"45.5\" y=\"-13.6\" font-family=\"-apple-system, BlinkMacSystemFont, 'Segoe UI', Helvetica, Arial, sans-serif, 'Apple Color Emoji', 'Segoe UI Emoji', 'Segoe UI Symbol'\" font-size=\"13.00\">Android Ver</text>\n",
       "<polygon fill=\"#f5f5f5\" stroke=\"none\" points=\"131.5,-5 131.5,-29 178.5,-29 178.5,-5 131.5,-5\"/>\n",
       "<text text-anchor=\"start\" x=\"140.5\" y=\"-14.6\" font-family=\"-apple-system, BlinkMacSystemFont, 'Segoe UI', Helvetica, Arial, sans-serif, 'Apple Color Emoji', 'Segoe UI Emoji', 'Segoe UI Symbol'\" font-style=\"italic\" font-size=\"13.00\">String</text>\n",
       "<polygon fill=\"none\" stroke=\"black\" points=\"8,-4 8,-342 179,-342 179,-4 8,-4\"/>\n",
       "</g>\n",
       "</g>\n",
       "</svg>"
      ],
      "text/plain": [
       "<IPython.core.display.SVG object>"
      ]
     },
     "execution_count": 3,
     "metadata": {},
     "output_type": "execute_result"
    }
   ],
   "source": [
    "cube = session.create_cube(playstore, \"Google Playstore\")\n",
    "cube.schema"
   ]
  },
  {
   "cell_type": "markdown",
   "metadata": {},
   "source": [
    "### Top 10 apps with highest rating across categories\n",
    "\n",
    "Use the content editor to apply a top count filter on the pivot table."
   ]
  },
  {
   "cell_type": "code",
   "execution_count": 4,
   "metadata": {
    "atoti": {
     "height": 363,
     "state": {
      "name": "Top 10 apps with highest rating across categories",
      "type": "container",
      "value": {
       "body": {
        "configuration": {
         "tabular": {
          "cellRenderers": [],
          "columns": [
           {
            "key": "[Measures].[Rating.MEAN]",
            "width": 276
           },
           {
            "key": "[Hierarchies].[App].[App]",
            "width": 256
           }
          ],
          "columnsGroups": [
           {
            "captionProducer": "firstColumn",
            "cellFactory": "kpi-status",
            "selector": "kpi-status"
           },
           {
            "captionProducer": "firstColumn",
            "cellFactory": "lookup",
            "selector": "lookup"
           },
           {
            "captionProducer": "expiry",
            "cellFactory": "expiry",
            "selector": "kpi-expiry"
           }
          ],
          "defaultOptions": {},
          "expansion": {
           "automaticExpansion": true
          },
          "hideAddButton": true,
          "pinnedHeaderSelector": "member",
          "sortingMode": "breaking",
          "statisticsShown": true
         }
        },
        "contextValues": {},
        "mdx": "SELECT NON EMPTY {[Measures].[Rating.SUM], [Measures].[Reviews.SUM]} ON COLUMNS, NON EMPTY Crossjoin([Hierarchies].[Category].[Category].Members, [Hierarchies].[Genres].[Genres].Members, [Hierarchies].[App].[App].Members) ON ROWS FROM (SELECT TopCount(Filter([Hierarchies].[App].Levels(1).Members, NOT IsEmpty([Measures].[Rating.MEAN])), 10, [Measures].[Rating.MEAN]) ON COLUMNS FROM [Google Playstore]) CELL PROPERTIES VALUE, FORMATTED_VALUE, BACK_COLOR, FORE_COLOR, FONT_FLAGS",
        "ranges": {
         "column": {
          "chunkSize": 50,
          "thresholdPercentage": 0.2
         },
         "row": {
          "chunkSize": 2000,
          "thresholdPercentage": 0.1
         }
        },
        "serverUrl": ""
       },
       "containerKey": "pivot-table",
       "showTitleBar": false,
       "style": {}
      }
     }
    }
   },
   "outputs": [
    {
     "data": {
      "application/vnd.atoti.v0+json": {
       "cellSet": {
        "axes": [
         {
          "hierarchies": [
           {
            "dimension": "Measures",
            "hierarchy": "Measures"
           }
          ],
          "id": 0,
          "positions": [
           [
            {
             "captionPath": [
              "Rating.SUM"
             ],
             "namePath": [
              "Rating.SUM"
             ],
             "properties": {
              "DISPLAY_INFO": 0
             }
            }
           ],
           [
            {
             "captionPath": [
              "Reviews.SUM"
             ],
             "namePath": [
              "Reviews.SUM"
             ],
             "properties": {
              "DISPLAY_INFO": 0
             }
            }
           ]
          ]
         },
         {
          "hierarchies": [
           {
            "dimension": "Hierarchies",
            "hierarchy": "Category"
           },
           {
            "dimension": "Hierarchies",
            "hierarchy": "Genres"
           },
           {
            "dimension": "Hierarchies",
            "hierarchy": "App"
           }
          ],
          "id": 1,
          "positions": [
           [
            {
             "captionPath": [
              "AllMember",
              "FAMILY"
             ],
             "namePath": [
              "AllMember",
              "FAMILY"
             ],
             "properties": {
              "DISPLAY_INFO": 0
             }
            },
            {
             "captionPath": [
              "AllMember",
              "Education"
             ],
             "namePath": [
              "AllMember",
              "Education"
             ],
             "properties": {
              "DISPLAY_INFO": 0
             }
            },
            {
             "captionPath": [
              "AllMember",
              "30WPM Amateur ham radio Koch CW Morse code trainer"
             ],
             "namePath": [
              "AllMember",
              "30WPM Amateur ham radio Koch CW Morse code trainer"
             ],
             "properties": {
              "DISPLAY_INFO": 0
             }
            }
           ],
           [
            {
             "captionPath": [
              "AllMember",
              "GAME"
             ],
             "namePath": [
              "AllMember",
              "GAME"
             ],
             "properties": {
              "DISPLAY_INFO": 131072
             }
            },
            {
             "captionPath": [
              "AllMember",
              "Arcade"
             ],
             "namePath": [
              "AllMember",
              "Arcade"
             ],
             "properties": {
              "DISPLAY_INFO": 131072
             }
            },
            {
             "captionPath": [
              "AllMember",
              "211:CK"
             ],
             "namePath": [
              "AllMember",
              "211:CK"
             ],
             "properties": {
              "DISPLAY_INFO": 131072
             }
            }
           ],
           [
            {
             "captionPath": [
              "AllMember",
              "LIFESTYLE"
             ],
             "namePath": [
              "AllMember",
              "LIFESTYLE"
             ],
             "properties": {
              "DISPLAY_INFO": 131072
             }
            },
            {
             "captionPath": [
              "AllMember",
              "Lifestyle"
             ],
             "namePath": [
              "AllMember",
              "Lifestyle"
             ],
             "properties": {
              "DISPLAY_INFO": 131072
             }
            },
            {
             "captionPath": [
              "AllMember",
              "AC DC Power Monitor"
             ],
             "namePath": [
              "AllMember",
              "AC DC Power Monitor"
             ],
             "properties": {
              "DISPLAY_INFO": 131072
             }
            }
           ],
           [
            {
             "captionPath": [
              "AllMember",
              "MEDICAL"
             ],
             "namePath": [
              "AllMember",
              "MEDICAL"
             ],
             "properties": {
              "DISPLAY_INFO": 131072
             }
            },
            {
             "captionPath": [
              "AllMember",
              "Medical"
             ],
             "namePath": [
              "AllMember",
              "Medical"
             ],
             "properties": {
              "DISPLAY_INFO": 131072
             }
            },
            {
             "captionPath": [
              "AllMember",
              "420 BZ Budeze Delivery"
             ],
             "namePath": [
              "AllMember",
              "420 BZ Budeze Delivery"
             ],
             "properties": {
              "DISPLAY_INFO": 131072
             }
            }
           ],
           [
            {
             "captionPath": [
              "AllMember",
              "NEWS_AND_MAGAZINES"
             ],
             "namePath": [
              "AllMember",
              "NEWS_AND_MAGAZINES"
             ],
             "properties": {
              "DISPLAY_INFO": 131072
             }
            },
            {
             "captionPath": [
              "AllMember",
              "News & Magazines"
             ],
             "namePath": [
              "AllMember",
              "News & Magazines"
             ],
             "properties": {
              "DISPLAY_INFO": 131072
             }
            },
            {
             "captionPath": [
              "AllMember",
              "AI Today : Artificial Intelligence News & AI 101"
             ],
             "namePath": [
              "AllMember",
              "AI Today : Artificial Intelligence News & AI 101"
             ],
             "properties": {
              "DISPLAY_INFO": 131072
             }
            }
           ],
           [
            {
             "captionPath": [
              "AllMember",
              "PERSONALIZATION"
             ],
             "namePath": [
              "AllMember",
              "PERSONALIZATION"
             ],
             "properties": {
              "DISPLAY_INFO": 131072
             }
            },
            {
             "captionPath": [
              "AllMember",
              "Personalization"
             ],
             "namePath": [
              "AllMember",
              "Personalization"
             ],
             "properties": {
              "DISPLAY_INFO": 131072
             }
            },
            {
             "captionPath": [
              "AllMember",
              "AJ Blue Icon Pack"
             ],
             "namePath": [
              "AllMember",
              "AJ Blue Icon Pack"
             ],
             "properties": {
              "DISPLAY_INFO": 131072
             }
            }
           ],
           [
            {
             "captionPath": [
              "AllMember",
              "PERSONALIZATION"
             ],
             "namePath": [
              "AllMember",
              "PERSONALIZATION"
             ],
             "properties": {
              "DISPLAY_INFO": 131072
             }
            },
            {
             "captionPath": [
              "AllMember",
              "Personalization"
             ],
             "namePath": [
              "AllMember",
              "Personalization"
             ],
             "properties": {
              "DISPLAY_INFO": 131072
             }
            },
            {
             "captionPath": [
              "AllMember",
              "AJ Gray Dark Icon Pack"
             ],
             "namePath": [
              "AllMember",
              "AJ Gray Dark Icon Pack"
             ],
             "properties": {
              "DISPLAY_INFO": 131072
             }
            }
           ],
           [
            {
             "captionPath": [
              "AllMember",
              "PHOTOGRAPHY"
             ],
             "namePath": [
              "AllMember",
              "PHOTOGRAPHY"
             ],
             "properties": {
              "DISPLAY_INFO": 131072
             }
            },
            {
             "captionPath": [
              "AllMember",
              "Photography"
             ],
             "namePath": [
              "AllMember",
              "Photography"
             ],
             "properties": {
              "DISPLAY_INFO": 131072
             }
            },
            {
             "captionPath": [
              "AllMember",
              "AJ Cam"
             ],
             "namePath": [
              "AllMember",
              "AJ Cam"
             ],
             "properties": {
              "DISPLAY_INFO": 131072
             }
            }
           ],
           [
            {
             "captionPath": [
              "AllMember",
              "SHOPPING"
             ],
             "namePath": [
              "AllMember",
              "SHOPPING"
             ],
             "properties": {
              "DISPLAY_INFO": 131072
             }
            },
            {
             "captionPath": [
              "AllMember",
              "Shopping"
             ],
             "namePath": [
              "AllMember",
              "Shopping"
             ],
             "properties": {
              "DISPLAY_INFO": 131072
             }
            },
            {
             "captionPath": [
              "AllMember",
              "A-Y Collection"
             ],
             "namePath": [
              "AllMember",
              "A-Y Collection"
             ],
             "properties": {
              "DISPLAY_INFO": 131072
             }
            }
           ],
           [
            {
             "captionPath": [
              "AllMember",
              "TOOLS"
             ],
             "namePath": [
              "AllMember",
              "TOOLS"
             ],
             "properties": {
              "DISPLAY_INFO": 131072
             }
            },
            {
             "captionPath": [
              "AllMember",
              "Tools"
             ],
             "namePath": [
              "AllMember",
              "Tools"
             ],
             "properties": {
              "DISPLAY_INFO": 131072
             }
            },
            {
             "captionPath": [
              "AllMember",
              "ADS-B Driver"
             ],
             "namePath": [
              "AllMember",
              "ADS-B Driver"
             ],
             "properties": {
              "DISPLAY_INFO": 131072
             }
            }
           ]
          ]
         }
        ],
        "cells": [
         {
          "formattedValue": "5.00",
          "ordinal": 0,
          "properties": {
           "BACK_COLOR": null,
           "FONT_FLAGS": 0,
           "FORE_COLOR": null
          },
          "value": 5
         },
         {
          "formattedValue": "1.00",
          "ordinal": 1,
          "properties": {
           "BACK_COLOR": null,
           "FONT_FLAGS": 0,
           "FORE_COLOR": null
          },
          "value": 1
         },
         {
          "formattedValue": "5.00",
          "ordinal": 2,
          "properties": {
           "BACK_COLOR": null,
           "FONT_FLAGS": 0,
           "FORE_COLOR": null
          },
          "value": 5
         },
         {
          "formattedValue": "8.00",
          "ordinal": 3,
          "properties": {
           "BACK_COLOR": null,
           "FONT_FLAGS": 0,
           "FORE_COLOR": null
          },
          "value": 8
         },
         {
          "formattedValue": "5.00",
          "ordinal": 4,
          "properties": {
           "BACK_COLOR": null,
           "FONT_FLAGS": 0,
           "FORE_COLOR": null
          },
          "value": 5
         },
         {
          "formattedValue": "1.00",
          "ordinal": 5,
          "properties": {
           "BACK_COLOR": null,
           "FONT_FLAGS": 0,
           "FORE_COLOR": null
          },
          "value": 1
         },
         {
          "formattedValue": "5.00",
          "ordinal": 6,
          "properties": {
           "BACK_COLOR": null,
           "FONT_FLAGS": 0,
           "FORE_COLOR": null
          },
          "value": 5
         },
         {
          "formattedValue": "2.00",
          "ordinal": 7,
          "properties": {
           "BACK_COLOR": null,
           "FONT_FLAGS": 0,
           "FORE_COLOR": null
          },
          "value": 2
         },
         {
          "formattedValue": "5.00",
          "ordinal": 8,
          "properties": {
           "BACK_COLOR": null,
           "FONT_FLAGS": 0,
           "FORE_COLOR": null
          },
          "value": 5
         },
         {
          "formattedValue": "43.00",
          "ordinal": 9,
          "properties": {
           "BACK_COLOR": null,
           "FONT_FLAGS": 0,
           "FORE_COLOR": null
          },
          "value": 43
         },
         {
          "formattedValue": "5.00",
          "ordinal": 10,
          "properties": {
           "BACK_COLOR": null,
           "FONT_FLAGS": 0,
           "FORE_COLOR": null
          },
          "value": 5
         },
         {
          "formattedValue": "4.00",
          "ordinal": 11,
          "properties": {
           "BACK_COLOR": null,
           "FONT_FLAGS": 0,
           "FORE_COLOR": null
          },
          "value": 4
         },
         {
          "formattedValue": "5.00",
          "ordinal": 12,
          "properties": {
           "BACK_COLOR": null,
           "FONT_FLAGS": 0,
           "FORE_COLOR": null
          },
          "value": 5
         },
         {
          "formattedValue": "2.00",
          "ordinal": 13,
          "properties": {
           "BACK_COLOR": null,
           "FONT_FLAGS": 0,
           "FORE_COLOR": null
          },
          "value": 2
         },
         {
          "formattedValue": "5.00",
          "ordinal": 14,
          "properties": {
           "BACK_COLOR": null,
           "FONT_FLAGS": 0,
           "FORE_COLOR": null
          },
          "value": 5
         },
         {
          "formattedValue": "44.00",
          "ordinal": 15,
          "properties": {
           "BACK_COLOR": null,
           "FONT_FLAGS": 0,
           "FORE_COLOR": null
          },
          "value": 44
         },
         {
          "formattedValue": "5.00",
          "ordinal": 16,
          "properties": {
           "BACK_COLOR": null,
           "FONT_FLAGS": 0,
           "FORE_COLOR": null
          },
          "value": 5
         },
         {
          "formattedValue": "2.00",
          "ordinal": 17,
          "properties": {
           "BACK_COLOR": null,
           "FONT_FLAGS": 0,
           "FORE_COLOR": null
          },
          "value": 2
         },
         {
          "formattedValue": "5.00",
          "ordinal": 18,
          "properties": {
           "BACK_COLOR": null,
           "FONT_FLAGS": 0,
           "FORE_COLOR": null
          },
          "value": 5
         },
         {
          "formattedValue": "2.00",
          "ordinal": 19,
          "properties": {
           "BACK_COLOR": null,
           "FONT_FLAGS": 0,
           "FORE_COLOR": null
          },
          "value": 2
         }
        ],
        "cube": "Google Playstore",
        "defaultMembers": [
         {
          "captionPath": [
           "Count"
          ],
          "dimension": "Measures",
          "hierarchy": "Measures",
          "path": [
           "contributors.COUNT"
          ]
         },
         {
          "captionPath": [
           "Base"
          ],
          "dimension": "Epoch",
          "hierarchy": "Epoch",
          "path": [
           "Base"
          ]
         }
        ],
        "epoch": 1
       },
       "cube": "Google Playstore",
       "error": null,
       "name": "Top 10 apps with highest rating across categories",
       "session": "Unnamed"
      },
      "text/html": [
       "<img src=\"data:image/svg+xml;charset=utf8,%3C?xml%20version=%221.0%22%20standalone=%22no%22?%3E%0A%20%20%20%20%3Csvg%20xmlns=%22http://www.w3.org/2000/svg%22%20width=%220%22%20height=%220%22%3E%0A%20%20%20%20%20%20%3CforeignObject%20x=%220%22%20y=%220%22%20width=%22100%25%22%20height=%22100%25%22%3E%0A%20%20%20%20%20%20%20%20%3Cstyle%20type=%22text/css%22%3E.css-xsa55j-dock%20%7Bposition:%20relative;%20z-index:%200;%20height:%20100%25;%20background-color:%20rgb(255,%20255,%20255);%20display:%20flex;%20flex-direction:%20column%7D%0A.css-1ibuxvk-DockBody%20%7Bpadding-top:%200px;%20padding-left:%200px;%20padding-right:%200px;%20padding-bottom:%200px;%20flex-grow:%201;%20flex-shrink:%201;%20flex-basis:%200%25;%20box-sizing:%20border-box;%20position:%20relative;%20z-index:%200;%20overflow-x:%20hidden;%20overflow-y:%20hidden%7D%0A.css-14zuz97%20%7Bbackground-image:%20initial;%20background-position-x:%20initial;%20background-position-y:%20initial;%20background-size:%20initial;%20background-repeat-x:%20initial;%20background-repeat-y:%20initial;%20background-attachment:%20initial;%20background-origin:%20initial;%20background-color:%20rgba(0,%200,%200,%200.2);%20z-index:%201;%20box-sizing:%20border-box;%20background-clip:%20padding-box%7D%0A.css-14zuz97.vertical%20%7Bwidth:%2012px;%20margin-top:%200px;%20margin-right:%20-6px;%20margin-bottom:%200px;%20margin-left:%20-6px;%20border-left-width:%205.5px;%20border-left-style:%20solid;%20border-left-color:%20transparent;%20border-right-width:%205.5px;%20border-right-style:%20solid;%20border-right-color:%20transparent;%20cursor:%20col-resize%7D%0A.css-14zuz97.disabled%20%7Bdisplay:%20none%7D%0A.css-1lrljg1-EditorSplitPane%20%7Bbackground-color:%20rgb(255,%20255,%20255);%20flex-grow:%201;%20flex-shrink:%201;%20flex-basis:%200%25;%20margin-right:%200px;%20position:%20relative%7D%0A.css-15fz3t7-EditorSplitPane%20%7Bposition:%20absolute;%20top:%200px;%20bottom:%200px;%20left:%200px;%20right:%200px;%20display:%20flex;%20flex-direction:%20column%7D%0A.css-1k1fxuh-Tabular%20%7Bwidth:%20100%25;%20height:%20100%25;%20position:%20relative%7D%0A.css-10klw3m%20%7Bheight:%20100%25%7D%0A.css-v3meis-Tabular%20%7Bposition:%20relative;%20height:%20100%25;%20width:%200px%7D%0A.css-mdjjdg-TabularHeader%20%7Bdisplay:%20flex%7D%0A.css-12nzxaz-PinnedTabularHeaders%20%7Bflex-shrink:%200;%20display:%20flex%7D%0A.css-r8w7wl-TabularHeaderGroup%20%7Bposition:%20relative;%20width:%200px%7D%0A.css-s4fjko-TabularPinnSeparator%20%7Bwidth:%202px;%20height:%2028px;%20background-color:%20rgb(233,%20233,%20233)%7D%0A.css-5jtkjp-UnpinnedTabularHeaders%20%7Bdisplay:%20flex;%20position:%20absolute;%20left:%200px%7D%0A.css-19w2ip5-TabularHeaderCell%20%7Bcursor:%20default;%20-webkit-box-flex:%201;%20flex-grow:%201;%20flex-shrink:%201;%20box-sizing:%20border-box;%20padding-left:%204px;%20padding-right:%204px;%20padding-top:%204px;%20padding-bottom:%204px;%20height:%20100%25;%20overflow-x:%20hidden;%20overflow-y:%20hidden;%20display:%20flex;%20white-space:%20nowrap;%20-webkit-box-pack:%20start;%20justify-content:%20flex-start;%20align-items:%20flex-start%7D%0A.css-jpazdc-TabularHeaderCell%20%7Boverflow-x:%20hidden;%20overflow-y:%20hidden;%20text-overflow:%20ellipsis%7D%0A.css-c7y3a7-TabularHeaderCell%20%7Bflex-shrink:%200;%20height:%20100%25;%20display:%20flex;%20-webkit-box-pack:%20center;%20justify-content:%20center%7D%0A.css-16pbov6-TabularBody%20%7Bposition:%20relative;%20overflow-x:%20hidden;%20overflow-y:%20hidden;%20top:%200px;%20width:%200px%7D%0A.css-1yxufrd-UnpinnedTabularRows%20%7Bposition:%20absolute;%20overflow-x:%20hidden;%20overflow-y:%20hidden;%20left:%200px%7D%0A.css-1id6sm3-UnpinnedTabularRows%20%7Bposition:%20absolute;%20top:%200px;%20left:%200px%7D%0A.css-3cge9w%20%7Bcursor:%20cell;%20display:%20flex;%20height:%2028px;%20user-select:%20none%7D%0A.css-f0grnd%20%7Boverflow-y:%20auto;%20overflow-x:%20hidden;%20z-index:%201%7D%0A.css-1drzbcy%20%7Bleft:%200px;%20position:%20absolute;%20bottom:%200px;%20overflow-x:%20auto;%20overflow-y:%20hidden;%20z-index:%201%7D%0A.css-1v4vipl-SelectionStatistics%20%7Bheight:%2020px;%20display:%20flex;%20padding-top:%205px;%20opacity:%200;%20transition-duration:%20300ms;%20transition-timing-function:%20ease;%20transition-delay:%200s;%20transition-property:%20opacity;%20position:%20absolute;%20right:%20unset;%20left:%200px%7D%0A.css-1ouk3zc-EditorSplitPane%20%7Bbackground-color:%20rgb(255,%20255,%20255);%20flex-grow:%201;%20flex-shrink:%201;%20flex-basis:%200%25%7D%0A.css-1jjvrwi-EditorSplitPane%20%7Bposition:%20absolute;%20top:%200px;%20bottom:%200px;%20left:%200px;%20right:%200px;%20overflow-y:%20auto%7D%0A.css-1c3elos-UnpinnedTabularHeaders%20%7Boverflow-x:%20hidden;%20overflow-y:%20hidden;%20position:%20relative;%20width:%20498px;%20height:%2028px%7D%0A.css-1sugrrn-TabularHeaderGroup%20%7Bposition:%20relative;%20width:%20120px%7D%0A.css-19jmy4t%20%7Bcolor:%20rgba(0,%200,%200,%200.85);%20display:%20flex;%20box-sizing:%20border-box;%20-webkit-box-align:%20center;%20align-items:%20center;%20height:%2028px;%20position:%20absolute;%20top:%200px;%20left:%200px;%20user-select:%20none;%20font-size:%2012px;%20line-height:%2022px;%20font-weight:%20600;%20border-bottom-width:%202px;%20border-bottom-style:%20solid;%20border-bottom-color:%20rgb(233,%20233,%20233);%20width:%20120px;%20border-right-width:%201px;%20border-right-style:%20solid;%20border-right-color:%20rgb(233,%20233,%20233)%7D%0A.css-w64vkb-HeaderResizer%20%7Bposition:%20absolute;%20z-index:%201;%20width:%2010px;%20height:%2028px;%20left:%20115px;%20top:%200px;%20cursor:%20col-resize%7D%0A.css-tlxtaa-HeaderResizer%20%7Bposition:%20absolute;%20z-index:%201;%20height:%2010px;%20width:%20120px;%20left:%200px;%20top:%2023px;%20cursor:%20row-resize%7D%0A.css-opbsu5-TabularCell%20%7Bheight:%2028px;%20box-sizing:%20border-box;%20display:%20flex;%20-webkit-box-pack:%20end;%20justify-content:%20flex-end;%20flex-direction:%20column;%20padding-top:%204px;%20padding-left:%204px;%20padding-right:%204px;%20padding-bottom:%203px;%20overflow-x:%20hidden;%20overflow-y:%20hidden;%20white-space:%20nowrap;%20border-right-width:%201px;%20border-right-style:%20solid;%20border-right-color:%20rgb(233,%20233,%20233);%20border-bottom-width:%201px;%20border-bottom-style:%20solid;%20border-bottom-color:%20rgb(233,%20233,%20233);%20width:%20120px;%20cursor:%20cell;%20user-select:%20none;%20align-items:%20flex-start%7D%0A.css-mkoicc-CaptionCellRenderer%20%7Bwidth:%20100%25;%20overflow-x:%20hidden;%20overflow-y:%20hidden;%20text-overflow:%20ellipsis;%20white-space:%20nowrap%7D%0A.css-1ns9f2p%20%7Bwidth:%201px%7D%0A.css-yqy9ep%20%7Bwidth:%20736px;%20height:%201px%7D%0A.ant-root%20html,%20.ant-root%20%7Bwidth:%20100%25;%20height:%20100%25%7D%0A.ant-root%20*,%20.ant-root%20::before,%20.ant-root%20::after%20%7Bbox-sizing:%20border-box%7D%0A.ant-root%20%7Bmargin-top:%200px;%20margin-right:%200px;%20margin-bottom:%200px;%20margin-left:%200px;%20color:%20rgba(0,%200,%200,%200.65);%20font-size:%2014px;%20font-family:%20-apple-system,%20BlinkMacSystemFont,%20%22Segoe%20UI%22,%20%22PingFang%20SC%22,%20%22Hiragino%20Sans%20GB%22,%20%22Microsoft%20YaHei%22,%20%22Helvetica%20Neue%22,%20Helvetica,%20Arial,%20sans-serif,%20%22Apple%20Color%20Emoji%22,%20%22Segoe%20UI%20Emoji%22,%20%22Segoe%20UI%20Symbol%22;%20font-variant-ligatures:%20normal;%20font-variant-numeric:%20tabular-nums;%20font-variant-east-asian:%20normal;%20font-variant-caps:%20normal;%20line-height:%201.5;%20background-color:%20rgb(255,%20255,%20255);%20font-feature-settings:%20%22tnum%22;%20--antd-wave-shadow-color:%20undefined%7D%0A.ant-root%20.ant-typography%20%7Bcolor:%20rgba(0,%200,%200,%200.65)%7D%0A.css-1sxolix-Widget%20%7Bheight:%20100%25%7D%0A.css-1sxolix-Widget%20.ant-root:not(.atoti-widget-chooser)%20%7Bbox-shadow:%20none%7D%3C/style%3E%0A%20%20%20%20%20%20%20%20%3Cdiv%20xmlns=%22http://www.w3.org/1999/xhtml%22%20style=%22height:%200px;%20width:%200px%22%3E%0A%20%20%20%20%20%20%20%20%20%20%3Cdiv%20xmlns=%22http://www.w3.org/1999/xhtml%22%20class=%22css-1sxolix-Widget%22%3E%3Cdiv%20class=%22ant-root%20css-xsa55j-dock%22%3E%3Cdiv%20class=%22css-1ibuxvk-DockBody%22%3E%3Cdiv%20class=%22SplitPane%20%20vertical%20disabled%22%20style=%22display:%20flex;%20flex:%201%201%200%25;%20height:%20100%25;%20position:%20relative;%20outline:%20none;%20overflow:%20hidden;%20user-select:%20text;%20flex-direction:%20row;%20left:%200px;%20right:%200px;%22%3E%3Cdiv%20class=%22Pane%20vertical%20Pane1%20%20%22%20style=%22flex:%201%201%200%25;%20position:%20relative;%20outline:%20none;%20display:%20flex;%20background-color:%20rgb(255,%20255,%20255);%22%3E%3Cdiv%20class=%22css-1lrljg1-EditorSplitPane%22%3E%3Cdiv%20class=%22css-15fz3t7-EditorSplitPane%22%3E%3Cdiv%20class=%22css-1k1fxuh-Tabular%22%3E%3Cdiv%20class=%22css-10klw3m%22%3E%3Cdiv%20tabindex=%220%22%20class=%22css-v3meis-Tabular%22%3E%3Cdiv%20class=%22css-192kvjv-Tabular%22%3E%3Cdiv%20class=%22css-mdjjdg-TabularHeader%22%3E%3Cdiv%20class=%22css-12nzxaz-PinnedTabularHeaders%22%3E%3Cdiv%20class=%22css-r8w7wl-TabularHeaderGroup%22%3E%3C/div%3E%3Cdiv%20class=%22css-s4fjko-TabularPinnSeparator%22%3E%3C/div%3E%3C/div%3E%3Cdiv%20class=%22css-1c3elos-UnpinnedTabularHeaders%22%3E%3Cdiv%20class=%22css-5jtkjp-UnpinnedTabularHeaders%22%3E%3Cdiv%20class=%22css-1sugrrn-TabularHeaderGroup%22%3E%3Cdiv%20class=%22css-19jmy4t%22%3E%3Cdiv%20class=%22css-19w2ip5-TabularHeaderCell%22%3E%3Cspan%20class=%22css-jpazdc-TabularHeaderCell%22%3E%3Cspan%3ECategory%3C/span%3E%3C/span%3E%3C/div%3E%3Cdiv%20class=%22css-c7y3a7-TabularHeaderCell%22%3E%3C/div%3E%3C/div%3E%3Cdiv%20class=%22css-w64vkb-HeaderResizer%22%3E%3C/div%3E%3Cdiv%20class=%22css-tlxtaa-HeaderResizer%22%3E%3C/div%3E%3C/div%3E%3C/div%3E%3C/div%3E%3C/div%3E%3Cdiv%20class=%22css-16pbov6-TabularBody%22%3E%3Cdiv%20class=%22css-1yxufrd-UnpinnedTabularRows%22%3E%3Cdiv%20class=%22css-1id6sm3-UnpinnedTabularRows%22%3E%3Cdiv%20class=%22css-3cge9w%22%3E%3Cdiv%3E%3Cdiv%20class=%22%20css-opbsu5-TabularCell%22%3E%3Cspan%20class=%22css-mkoicc-CaptionCellRenderer%22%3E%3Cspan%3E%3Cspan%20class=%22ant-typography%22%20style=%22font-size:%2012px;%20line-height:%2020px;%20font-weight:%20400;%22%3EFAMILY%3C/span%3E%3C/span%3E%3C/span%3E%3C/div%3E%3C/div%3E%3C/div%3E%3C/div%3E%3C/div%3E%3Cdiv%20class=%22css-f0grnd%22%3E%3Cdiv%20class=%22css-1ns9f2p%22%3E%3C/div%3E%3C/div%3E%3Cdiv%20class=%22css-1drzbcy%22%3E%3Cdiv%20class=%22css-yqy9ep%22%3E%3C/div%3E%3C/div%3E%3C/div%3E%3C/div%3E%3Cdiv%20class=%22css-1v4vipl-SelectionStatistics%22%3E%3C/div%3E%3C/div%3E%3C/div%3E%3C/div%3E%3C/div%3E%3C/div%3E%3C/div%3E%3Cspan%20role=%22presentation%22%20class=%22css-14zuz97%20Resizer%20vertical%20disabled%22%3E%3C/span%3E%3Cdiv%20class=%22Pane%20vertical%20Pane2%20%20%22%20style=%22flex:%200%200%20auto;%20position:%20relative;%20outline:%20none;%20width:%200px;%20display:%20flex;%20background-color:%20rgb(255,%20255,%20255);%20overflow:%20auto;%22%3E%3Cdiv%20class=%22css-1ouk3zc-EditorSplitPane%22%3E%3Cdiv%20class=%22css-1jjvrwi-EditorSplitPane%22%3E%3C/div%3E%3C/div%3E%3C/div%3E%3C/div%3E%3C/div%3E%3C/div%3E%3C/div%3E%0A%20%20%20%20%20%20%20%20%3C/div%3E%0A%20%20%20%20%20%20%3C/foreignObject%3E%0A%20%20%20%20%3C/svg%3E\">"
      ],
      "text/plain": [
       "Open the notebook in JupyterLab with the atoti extension installed and enabled to see this widget."
      ]
     },
     "metadata": {},
     "output_type": "display_data"
    }
   ],
   "source": [
    "cube.visualize(\"Top 10 apps with highest rating across categories\")"
   ]
  },
  {
   "cell_type": "markdown",
   "metadata": {},
   "source": [
    "### Top 10 categories with the most number of apps rated 5"
   ]
  },
  {
   "cell_type": "code",
   "execution_count": 10,
   "metadata": {},
   "outputs": [
    {
     "data": {
      "application/json": {
       "Count with rating 5": {
        "formatter": "INT[#,###]"
       },
       "Installs.MEAN": {
        "formatter": "DOUBLE[#,###.00]"
       },
       "Installs.SUM": {
        "formatter": "DOUBLE[#,###.00]"
       },
       "Price.MEAN": {
        "formatter": "DOUBLE[#,###.00]"
       },
       "Price.SUM": {
        "formatter": "DOUBLE[#,###.00]"
       },
       "Rating.MEAN": {
        "formatter": "DOUBLE[#,###.00]"
       },
       "Rating.SUM": {
        "formatter": "DOUBLE[#,###.00]"
       },
       "Reviews.MEAN": {
        "formatter": "DOUBLE[#,###.00]"
       },
       "Reviews.SUM": {
        "formatter": "DOUBLE[#,###.00]"
       },
       "Size.MEAN": {
        "formatter": "DOUBLE[#,###.00]"
       },
       "Size.SUM": {
        "formatter": "DOUBLE[#,###.00]"
       },
       "contributors.COUNT": {
        "formatter": null
       }
      },
      "text/html": [
       "<ul>\n",
       "<li>Measures\n",
       "  <ul>\n",
       "  <li>Count with rating 5\n",
       "    <ul>\n",
       "    <li>formatter: INT[#,###]</li>\n",
       "    </ul>\n",
       "  </li>\n",
       "  <li>Installs.MEAN\n",
       "    <ul>\n",
       "    <li>formatter: DOUBLE[#,###.00]</li>\n",
       "    </ul>\n",
       "  </li>\n",
       "  <li>Installs.SUM\n",
       "    <ul>\n",
       "    <li>formatter: DOUBLE[#,###.00]</li>\n",
       "    </ul>\n",
       "  </li>\n",
       "  <li>Price.MEAN\n",
       "    <ul>\n",
       "    <li>formatter: DOUBLE[#,###.00]</li>\n",
       "    </ul>\n",
       "  </li>\n",
       "  <li>Price.SUM\n",
       "    <ul>\n",
       "    <li>formatter: DOUBLE[#,###.00]</li>\n",
       "    </ul>\n",
       "  </li>\n",
       "  <li>Rating.MEAN\n",
       "    <ul>\n",
       "    <li>formatter: DOUBLE[#,###.00]</li>\n",
       "    </ul>\n",
       "  </li>\n",
       "  <li>Rating.SUM\n",
       "    <ul>\n",
       "    <li>formatter: DOUBLE[#,###.00]</li>\n",
       "    </ul>\n",
       "  </li>\n",
       "  <li>Reviews.MEAN\n",
       "    <ul>\n",
       "    <li>formatter: DOUBLE[#,###.00]</li>\n",
       "    </ul>\n",
       "  </li>\n",
       "  <li>Reviews.SUM\n",
       "    <ul>\n",
       "    <li>formatter: DOUBLE[#,###.00]</li>\n",
       "    </ul>\n",
       "  </li>\n",
       "  <li>Size.MEAN\n",
       "    <ul>\n",
       "    <li>formatter: DOUBLE[#,###.00]</li>\n",
       "    </ul>\n",
       "  </li>\n",
       "  <li>Size.SUM\n",
       "    <ul>\n",
       "    <li>formatter: DOUBLE[#,###.00]</li>\n",
       "    </ul>\n",
       "  </li>\n",
       "  <li>contributors.COUNT\n",
       "    <ul>\n",
       "    <li>formatter: None</li>\n",
       "    </ul>\n",
       "  </li>\n",
       "  </ul>\n",
       "</li>\n",
       "</ul>\n"
      ],
      "text/plain": [
       "Measures()"
      ]
     },
     "execution_count": 10,
     "metadata": {
      "application/json": {
       "expanded": false,
       "root": "Measures"
      }
     },
     "output_type": "execute_result"
    }
   ],
   "source": [
    "h = cube.hierarchies\n",
    "l = cube.levels\n",
    "m = cube.measures\n",
    "m"
   ]
  },
  {
   "cell_type": "markdown",
   "metadata": {},
   "source": [
    "#### Number of apps rated 5\n",
    "\n",
    "Create a measure that counts the number of apps rated 5 within categories and at levels below the category."
   ]
  },
  {
   "cell_type": "code",
   "execution_count": 6,
   "metadata": {},
   "outputs": [],
   "source": [
    "m[\"Count with rating 5\"] = tt.agg.sum(\n",
    "    tt.where(m[\"Rating.MEAN\"] == 5, m[\"contributors.COUNT\"], 0),\n",
    "    scope=tt.scope.origin(l[\"Category\"], l[\"App\"]),\n",
    ")"
   ]
  },
  {
   "cell_type": "markdown",
   "metadata": {},
   "source": [
    "We can drill down to different levels from category and the count is computed on the fly."
   ]
  },
  {
   "cell_type": "code",
   "execution_count": 7,
   "metadata": {
    "atoti": {
     "state": {
      "name": "Categories with apps rated 5",
      "type": "container",
      "value": {
       "body": {
        "configuration": {
         "tabular": {
          "addButtonFilter": "numeric",
          "cellRenderers": [
           "tree-layout"
          ],
          "columnOrder": {
           "args": {
            "orderedColumns": [
             "c-treeCells-member",
             "[Measures].[Count with rating 5]"
            ]
           },
           "key": "explicit"
          },
          "columns": [
           {
            "key": "[Measures].[Count with rating 5]",
            "width": 156
           }
          ],
          "columnsGroups": [
           {
            "captionProducer": "firstColumn",
            "cellFactory": "kpi-status",
            "selector": "kpi-status"
           },
           {
            "captionProducer": "firstColumn",
            "cellFactory": "lookup",
            "selector": "lookup"
           },
           {
            "captionProducer": "expiry",
            "cellFactory": "expiry",
            "selector": "kpi-expiry"
           },
           {
            "captionProducer": "columnMerge",
            "cellFactory": {
             "args": {},
             "key": "treeCells"
            },
            "selector": "member"
           }
          ],
          "defaultOptions": {},
          "expansion": {
           "automaticExpansion": true
          },
          "hideAddButton": true,
          "pinnedHeaderSelector": "member",
          "sortingMode": "non-breaking",
          "statisticsShown": true
         }
        },
        "contextValues": {},
        "mdx": "SELECT NON EMPTY Hierarchize(Union(Crossjoin(DrilldownLevel([Hierarchies].[Category].[ALL].[AllMember]), [Hierarchies].[Genres].DefaultMember, [Hierarchies].[Content Rating].DefaultMember), Crossjoin([Hierarchies].[Category].[ALL].[AllMember].[BUSINESS], [Hierarchies].[Genres].[Genres].Members, [Hierarchies].[Content Rating].DefaultMember), Crossjoin([Hierarchies].[Category].[ALL].[AllMember].[BUSINESS], [Hierarchies].[Genres].[ALL].[AllMember].[Business], [Hierarchies].[Content Rating].[Content Rating].Members))) ON ROWS, NON EMPTY [Measures].[Count with rating 5] ON COLUMNS FROM (SELECT Filter([Hierarchies].[Category].[Category].Members, [Measures].[Count with rating 5] > 0) ON COLUMNS FROM [Google Playstore]) CELL PROPERTIES VALUE, FORMATTED_VALUE, BACK_COLOR, FORE_COLOR, FONT_FLAGS",
        "ranges": {
         "column": {
          "chunkSize": 50,
          "thresholdPercentage": 0.2
         },
         "row": {
          "chunkSize": 2000,
          "thresholdPercentage": 0.1
         }
        },
        "serverUrl": ""
       },
       "containerKey": "pivot-table",
       "showTitleBar": false,
       "style": {}
      }
     }
    }
   },
   "outputs": [
    {
     "data": {
      "application/vnd.atoti.v0+json": {
       "cellSet": {
        "axes": [
         {
          "hierarchies": [
           {
            "dimension": "Measures",
            "hierarchy": "Measures"
           }
          ],
          "id": 0,
          "positions": [
           [
            {
             "captionPath": [
              "Count with rating 5"
             ],
             "namePath": [
              "Count with rating 5"
             ],
             "properties": {
              "DISPLAY_INFO": 0
             }
            }
           ]
          ]
         },
         {
          "hierarchies": [
           {
            "dimension": "Hierarchies",
            "hierarchy": "Category"
           },
           {
            "dimension": "Hierarchies",
            "hierarchy": "Genres"
           },
           {
            "dimension": "Hierarchies",
            "hierarchy": "Content Rating"
           }
          ],
          "id": 1,
          "positions": [
           [
            {
             "captionPath": [
              "AllMember"
             ],
             "namePath": [
              "AllMember"
             ],
             "properties": {
              "DISPLAY_INFO": 65569
             }
            },
            {
             "captionPath": [
              "AllMember"
             ],
             "namePath": [
              "AllMember"
             ],
             "properties": {
              "DISPLAY_INFO": 120
             }
            },
            {
             "captionPath": [
              "AllMember"
             ],
             "namePath": [
              "AllMember"
             ],
             "properties": {
              "DISPLAY_INFO": 6
             }
            }
           ],
           [
            {
             "captionPath": [
              "AllMember",
              "ART_AND_DESIGN"
             ],
             "namePath": [
              "AllMember",
              "ART_AND_DESIGN"
             ],
             "properties": {
              "DISPLAY_INFO": 0
             }
            },
            {
             "captionPath": [
              "AllMember"
             ],
             "namePath": [
              "AllMember"
             ],
             "properties": {
              "DISPLAY_INFO": 120
             }
            },
            {
             "captionPath": [
              "AllMember"
             ],
             "namePath": [
              "AllMember"
             ],
             "properties": {
              "DISPLAY_INFO": 6
             }
            }
           ],
           [
            {
             "captionPath": [
              "AllMember",
              "BOOKS_AND_REFERENCE"
             ],
             "namePath": [
              "AllMember",
              "BOOKS_AND_REFERENCE"
             ],
             "properties": {
              "DISPLAY_INFO": 131072
             }
            },
            {
             "captionPath": [
              "AllMember"
             ],
             "namePath": [
              "AllMember"
             ],
             "properties": {
              "DISPLAY_INFO": 120
             }
            },
            {
             "captionPath": [
              "AllMember"
             ],
             "namePath": [
              "AllMember"
             ],
             "properties": {
              "DISPLAY_INFO": 6
             }
            }
           ],
           [
            {
             "captionPath": [
              "AllMember",
              "BUSINESS"
             ],
             "namePath": [
              "AllMember",
              "BUSINESS"
             ],
             "properties": {
              "DISPLAY_INFO": 131072
             }
            },
            {
             "captionPath": [
              "AllMember"
             ],
             "namePath": [
              "AllMember"
             ],
             "properties": {
              "DISPLAY_INFO": 65656
             }
            },
            {
             "captionPath": [
              "AllMember"
             ],
             "namePath": [
              "AllMember"
             ],
             "properties": {
              "DISPLAY_INFO": 6
             }
            }
           ],
           [
            {
             "captionPath": [
              "AllMember",
              "BUSINESS"
             ],
             "namePath": [
              "AllMember",
              "BUSINESS"
             ],
             "properties": {
              "DISPLAY_INFO": 131072
             }
            },
            {
             "captionPath": [
              "AllMember",
              "Business"
             ],
             "namePath": [
              "AllMember",
              "Business"
             ],
             "properties": {
              "DISPLAY_INFO": 0
             }
            },
            {
             "captionPath": [
              "AllMember"
             ],
             "namePath": [
              "AllMember"
             ],
             "properties": {
              "DISPLAY_INFO": 65542
             }
            }
           ],
           [
            {
             "captionPath": [
              "AllMember",
              "BUSINESS"
             ],
             "namePath": [
              "AllMember",
              "BUSINESS"
             ],
             "properties": {
              "DISPLAY_INFO": 131072
             }
            },
            {
             "captionPath": [
              "AllMember",
              "Business"
             ],
             "namePath": [
              "AllMember",
              "Business"
             ],
             "properties": {
              "DISPLAY_INFO": 131072
             }
            },
            {
             "captionPath": [
              "AllMember",
              "Everyone"
             ],
             "namePath": [
              "AllMember",
              "Everyone"
             ],
             "properties": {
              "DISPLAY_INFO": 0
             }
            }
           ],
           [
            {
             "captionPath": [
              "AllMember",
              "BUSINESS"
             ],
             "namePath": [
              "AllMember",
              "BUSINESS"
             ],
             "properties": {
              "DISPLAY_INFO": 131072
             }
            },
            {
             "captionPath": [
              "AllMember",
              "Business"
             ],
             "namePath": [
              "AllMember",
              "Business"
             ],
             "properties": {
              "DISPLAY_INFO": 131072
             }
            },
            {
             "captionPath": [
              "AllMember",
              "Everyone 10"
             ],
             "namePath": [
              "AllMember",
              "Everyone 10"
             ],
             "properties": {
              "DISPLAY_INFO": 131072
             }
            }
           ],
           [
            {
             "captionPath": [
              "AllMember",
              "BUSINESS"
             ],
             "namePath": [
              "AllMember",
              "BUSINESS"
             ],
             "properties": {
              "DISPLAY_INFO": 131072
             }
            },
            {
             "captionPath": [
              "AllMember",
              "Business"
             ],
             "namePath": [
              "AllMember",
              "Business"
             ],
             "properties": {
              "DISPLAY_INFO": 131072
             }
            },
            {
             "captionPath": [
              "AllMember",
              "Mature 17"
             ],
             "namePath": [
              "AllMember",
              "Mature 17"
             ],
             "properties": {
              "DISPLAY_INFO": 131072
             }
            }
           ],
           [
            {
             "captionPath": [
              "AllMember",
              "BUSINESS"
             ],
             "namePath": [
              "AllMember",
              "BUSINESS"
             ],
             "properties": {
              "DISPLAY_INFO": 131072
             }
            },
            {
             "captionPath": [
              "AllMember",
              "Business"
             ],
             "namePath": [
              "AllMember",
              "Business"
             ],
             "properties": {
              "DISPLAY_INFO": 131072
             }
            },
            {
             "captionPath": [
              "AllMember",
              "Teen"
             ],
             "namePath": [
              "AllMember",
              "Teen"
             ],
             "properties": {
              "DISPLAY_INFO": 131072
             }
            }
           ],
           [
            {
             "captionPath": [
              "AllMember",
              "COMICS"
             ],
             "namePath": [
              "AllMember",
              "COMICS"
             ],
             "properties": {
              "DISPLAY_INFO": 131072
             }
            },
            {
             "captionPath": [
              "AllMember"
             ],
             "namePath": [
              "AllMember"
             ],
             "properties": {
              "DISPLAY_INFO": 120
             }
            },
            {
             "captionPath": [
              "AllMember"
             ],
             "namePath": [
              "AllMember"
             ],
             "properties": {
              "DISPLAY_INFO": 6
             }
            }
           ],
           [
            {
             "captionPath": [
              "AllMember",
              "COMMUNICATION"
             ],
             "namePath": [
              "AllMember",
              "COMMUNICATION"
             ],
             "properties": {
              "DISPLAY_INFO": 131072
             }
            },
            {
             "captionPath": [
              "AllMember"
             ],
             "namePath": [
              "AllMember"
             ],
             "properties": {
              "DISPLAY_INFO": 120
             }
            },
            {
             "captionPath": [
              "AllMember"
             ],
             "namePath": [
              "AllMember"
             ],
             "properties": {
              "DISPLAY_INFO": 6
             }
            }
           ],
           [
            {
             "captionPath": [
              "AllMember",
              "DATING"
             ],
             "namePath": [
              "AllMember",
              "DATING"
             ],
             "properties": {
              "DISPLAY_INFO": 131072
             }
            },
            {
             "captionPath": [
              "AllMember"
             ],
             "namePath": [
              "AllMember"
             ],
             "properties": {
              "DISPLAY_INFO": 120
             }
            },
            {
             "captionPath": [
              "AllMember"
             ],
             "namePath": [
              "AllMember"
             ],
             "properties": {
              "DISPLAY_INFO": 6
             }
            }
           ],
           [
            {
             "captionPath": [
              "AllMember",
              "EVENTS"
             ],
             "namePath": [
              "AllMember",
              "EVENTS"
             ],
             "properties": {
              "DISPLAY_INFO": 131072
             }
            },
            {
             "captionPath": [
              "AllMember"
             ],
             "namePath": [
              "AllMember"
             ],
             "properties": {
              "DISPLAY_INFO": 120
             }
            },
            {
             "captionPath": [
              "AllMember"
             ],
             "namePath": [
              "AllMember"
             ],
             "properties": {
              "DISPLAY_INFO": 6
             }
            }
           ],
           [
            {
             "captionPath": [
              "AllMember",
              "FAMILY"
             ],
             "namePath": [
              "AllMember",
              "FAMILY"
             ],
             "properties": {
              "DISPLAY_INFO": 131072
             }
            },
            {
             "captionPath": [
              "AllMember"
             ],
             "namePath": [
              "AllMember"
             ],
             "properties": {
              "DISPLAY_INFO": 120
             }
            },
            {
             "captionPath": [
              "AllMember"
             ],
             "namePath": [
              "AllMember"
             ],
             "properties": {
              "DISPLAY_INFO": 6
             }
            }
           ],
           [
            {
             "captionPath": [
              "AllMember",
              "FINANCE"
             ],
             "namePath": [
              "AllMember",
              "FINANCE"
             ],
             "properties": {
              "DISPLAY_INFO": 131072
             }
            },
            {
             "captionPath": [
              "AllMember"
             ],
             "namePath": [
              "AllMember"
             ],
             "properties": {
              "DISPLAY_INFO": 120
             }
            },
            {
             "captionPath": [
              "AllMember"
             ],
             "namePath": [
              "AllMember"
             ],
             "properties": {
              "DISPLAY_INFO": 6
             }
            }
           ],
           [
            {
             "captionPath": [
              "AllMember",
              "FOOD_AND_DRINK"
             ],
             "namePath": [
              "AllMember",
              "FOOD_AND_DRINK"
             ],
             "properties": {
              "DISPLAY_INFO": 131072
             }
            },
            {
             "captionPath": [
              "AllMember"
             ],
             "namePath": [
              "AllMember"
             ],
             "properties": {
              "DISPLAY_INFO": 120
             }
            },
            {
             "captionPath": [
              "AllMember"
             ],
             "namePath": [
              "AllMember"
             ],
             "properties": {
              "DISPLAY_INFO": 6
             }
            }
           ],
           [
            {
             "captionPath": [
              "AllMember",
              "GAME"
             ],
             "namePath": [
              "AllMember",
              "GAME"
             ],
             "properties": {
              "DISPLAY_INFO": 131072
             }
            },
            {
             "captionPath": [
              "AllMember"
             ],
             "namePath": [
              "AllMember"
             ],
             "properties": {
              "DISPLAY_INFO": 120
             }
            },
            {
             "captionPath": [
              "AllMember"
             ],
             "namePath": [
              "AllMember"
             ],
             "properties": {
              "DISPLAY_INFO": 6
             }
            }
           ],
           [
            {
             "captionPath": [
              "AllMember",
              "HEALTH_AND_FITNESS"
             ],
             "namePath": [
              "AllMember",
              "HEALTH_AND_FITNESS"
             ],
             "properties": {
              "DISPLAY_INFO": 131072
             }
            },
            {
             "captionPath": [
              "AllMember"
             ],
             "namePath": [
              "AllMember"
             ],
             "properties": {
              "DISPLAY_INFO": 120
             }
            },
            {
             "captionPath": [
              "AllMember"
             ],
             "namePath": [
              "AllMember"
             ],
             "properties": {
              "DISPLAY_INFO": 6
             }
            }
           ],
           [
            {
             "captionPath": [
              "AllMember",
              "LIBRARIES_AND_DEMO"
             ],
             "namePath": [
              "AllMember",
              "LIBRARIES_AND_DEMO"
             ],
             "properties": {
              "DISPLAY_INFO": 131072
             }
            },
            {
             "captionPath": [
              "AllMember"
             ],
             "namePath": [
              "AllMember"
             ],
             "properties": {
              "DISPLAY_INFO": 120
             }
            },
            {
             "captionPath": [
              "AllMember"
             ],
             "namePath": [
              "AllMember"
             ],
             "properties": {
              "DISPLAY_INFO": 6
             }
            }
           ],
           [
            {
             "captionPath": [
              "AllMember",
              "LIFESTYLE"
             ],
             "namePath": [
              "AllMember",
              "LIFESTYLE"
             ],
             "properties": {
              "DISPLAY_INFO": 131072
             }
            },
            {
             "captionPath": [
              "AllMember"
             ],
             "namePath": [
              "AllMember"
             ],
             "properties": {
              "DISPLAY_INFO": 120
             }
            },
            {
             "captionPath": [
              "AllMember"
             ],
             "namePath": [
              "AllMember"
             ],
             "properties": {
              "DISPLAY_INFO": 6
             }
            }
           ],
           [
            {
             "captionPath": [
              "AllMember",
              "MEDICAL"
             ],
             "namePath": [
              "AllMember",
              "MEDICAL"
             ],
             "properties": {
              "DISPLAY_INFO": 131072
             }
            },
            {
             "captionPath": [
              "AllMember"
             ],
             "namePath": [
              "AllMember"
             ],
             "properties": {
              "DISPLAY_INFO": 120
             }
            },
            {
             "captionPath": [
              "AllMember"
             ],
             "namePath": [
              "AllMember"
             ],
             "properties": {
              "DISPLAY_INFO": 6
             }
            }
           ],
           [
            {
             "captionPath": [
              "AllMember",
              "NEWS_AND_MAGAZINES"
             ],
             "namePath": [
              "AllMember",
              "NEWS_AND_MAGAZINES"
             ],
             "properties": {
              "DISPLAY_INFO": 131072
             }
            },
            {
             "captionPath": [
              "AllMember"
             ],
             "namePath": [
              "AllMember"
             ],
             "properties": {
              "DISPLAY_INFO": 120
             }
            },
            {
             "captionPath": [
              "AllMember"
             ],
             "namePath": [
              "AllMember"
             ],
             "properties": {
              "DISPLAY_INFO": 6
             }
            }
           ],
           [
            {
             "captionPath": [
              "AllMember",
              "PARENTING"
             ],
             "namePath": [
              "AllMember",
              "PARENTING"
             ],
             "properties": {
              "DISPLAY_INFO": 131072
             }
            },
            {
             "captionPath": [
              "AllMember"
             ],
             "namePath": [
              "AllMember"
             ],
             "properties": {
              "DISPLAY_INFO": 120
             }
            },
            {
             "captionPath": [
              "AllMember"
             ],
             "namePath": [
              "AllMember"
             ],
             "properties": {
              "DISPLAY_INFO": 6
             }
            }
           ],
           [
            {
             "captionPath": [
              "AllMember",
              "PERSONALIZATION"
             ],
             "namePath": [
              "AllMember",
              "PERSONALIZATION"
             ],
             "properties": {
              "DISPLAY_INFO": 131072
             }
            },
            {
             "captionPath": [
              "AllMember"
             ],
             "namePath": [
              "AllMember"
             ],
             "properties": {
              "DISPLAY_INFO": 120
             }
            },
            {
             "captionPath": [
              "AllMember"
             ],
             "namePath": [
              "AllMember"
             ],
             "properties": {
              "DISPLAY_INFO": 6
             }
            }
           ],
           [
            {
             "captionPath": [
              "AllMember",
              "PHOTOGRAPHY"
             ],
             "namePath": [
              "AllMember",
              "PHOTOGRAPHY"
             ],
             "properties": {
              "DISPLAY_INFO": 131072
             }
            },
            {
             "captionPath": [
              "AllMember"
             ],
             "namePath": [
              "AllMember"
             ],
             "properties": {
              "DISPLAY_INFO": 120
             }
            },
            {
             "captionPath": [
              "AllMember"
             ],
             "namePath": [
              "AllMember"
             ],
             "properties": {
              "DISPLAY_INFO": 6
             }
            }
           ],
           [
            {
             "captionPath": [
              "AllMember",
              "PRODUCTIVITY"
             ],
             "namePath": [
              "AllMember",
              "PRODUCTIVITY"
             ],
             "properties": {
              "DISPLAY_INFO": 131072
             }
            },
            {
             "captionPath": [
              "AllMember"
             ],
             "namePath": [
              "AllMember"
             ],
             "properties": {
              "DISPLAY_INFO": 120
             }
            },
            {
             "captionPath": [
              "AllMember"
             ],
             "namePath": [
              "AllMember"
             ],
             "properties": {
              "DISPLAY_INFO": 6
             }
            }
           ],
           [
            {
             "captionPath": [
              "AllMember",
              "SHOPPING"
             ],
             "namePath": [
              "AllMember",
              "SHOPPING"
             ],
             "properties": {
              "DISPLAY_INFO": 131072
             }
            },
            {
             "captionPath": [
              "AllMember"
             ],
             "namePath": [
              "AllMember"
             ],
             "properties": {
              "DISPLAY_INFO": 120
             }
            },
            {
             "captionPath": [
              "AllMember"
             ],
             "namePath": [
              "AllMember"
             ],
             "properties": {
              "DISPLAY_INFO": 6
             }
            }
           ],
           [
            {
             "captionPath": [
              "AllMember",
              "SOCIAL"
             ],
             "namePath": [
              "AllMember",
              "SOCIAL"
             ],
             "properties": {
              "DISPLAY_INFO": 131072
             }
            },
            {
             "captionPath": [
              "AllMember"
             ],
             "namePath": [
              "AllMember"
             ],
             "properties": {
              "DISPLAY_INFO": 120
             }
            },
            {
             "captionPath": [
              "AllMember"
             ],
             "namePath": [
              "AllMember"
             ],
             "properties": {
              "DISPLAY_INFO": 6
             }
            }
           ],
           [
            {
             "captionPath": [
              "AllMember",
              "SPORTS"
             ],
             "namePath": [
              "AllMember",
              "SPORTS"
             ],
             "properties": {
              "DISPLAY_INFO": 131072
             }
            },
            {
             "captionPath": [
              "AllMember"
             ],
             "namePath": [
              "AllMember"
             ],
             "properties": {
              "DISPLAY_INFO": 120
             }
            },
            {
             "captionPath": [
              "AllMember"
             ],
             "namePath": [
              "AllMember"
             ],
             "properties": {
              "DISPLAY_INFO": 6
             }
            }
           ],
           [
            {
             "captionPath": [
              "AllMember",
              "TOOLS"
             ],
             "namePath": [
              "AllMember",
              "TOOLS"
             ],
             "properties": {
              "DISPLAY_INFO": 131072
             }
            },
            {
             "captionPath": [
              "AllMember"
             ],
             "namePath": [
              "AllMember"
             ],
             "properties": {
              "DISPLAY_INFO": 120
             }
            },
            {
             "captionPath": [
              "AllMember"
             ],
             "namePath": [
              "AllMember"
             ],
             "properties": {
              "DISPLAY_INFO": 6
             }
            }
           ],
           [
            {
             "captionPath": [
              "AllMember",
              "TRAVEL_AND_LOCAL"
             ],
             "namePath": [
              "AllMember",
              "TRAVEL_AND_LOCAL"
             ],
             "properties": {
              "DISPLAY_INFO": 131072
             }
            },
            {
             "captionPath": [
              "AllMember"
             ],
             "namePath": [
              "AllMember"
             ],
             "properties": {
              "DISPLAY_INFO": 120
             }
            },
            {
             "captionPath": [
              "AllMember"
             ],
             "namePath": [
              "AllMember"
             ],
             "properties": {
              "DISPLAY_INFO": 6
             }
            }
           ]
          ]
         }
        ],
        "cells": [
         {
          "formattedValue": "271",
          "ordinal": 0,
          "properties": {
           "BACK_COLOR": null,
           "FONT_FLAGS": 0,
           "FORE_COLOR": null
          },
          "value": 271
         },
         {
          "formattedValue": "1",
          "ordinal": 1,
          "properties": {
           "BACK_COLOR": null,
           "FONT_FLAGS": 0,
           "FORE_COLOR": null
          },
          "value": 1
         },
         {
          "formattedValue": "6",
          "ordinal": 2,
          "properties": {
           "BACK_COLOR": null,
           "FONT_FLAGS": 0,
           "FORE_COLOR": null
          },
          "value": 6
         },
         {
          "formattedValue": "18",
          "ordinal": 3,
          "properties": {
           "BACK_COLOR": null,
           "FONT_FLAGS": 0,
           "FORE_COLOR": null
          },
          "value": 18
         },
         {
          "formattedValue": "18",
          "ordinal": 4,
          "properties": {
           "BACK_COLOR": null,
           "FONT_FLAGS": 0,
           "FORE_COLOR": null
          },
          "value": 18
         },
         {
          "formattedValue": "17",
          "ordinal": 5,
          "properties": {
           "BACK_COLOR": null,
           "FONT_FLAGS": 0,
           "FORE_COLOR": null
          },
          "value": 17
         },
         {
          "formattedValue": "0",
          "ordinal": 6,
          "properties": {
           "BACK_COLOR": null,
           "FONT_FLAGS": 0,
           "FORE_COLOR": null
          },
          "value": 0
         },
         {
          "formattedValue": "0",
          "ordinal": 7,
          "properties": {
           "BACK_COLOR": null,
           "FONT_FLAGS": 0,
           "FORE_COLOR": null
          },
          "value": 0
         },
         {
          "formattedValue": "1",
          "ordinal": 8,
          "properties": {
           "BACK_COLOR": null,
           "FONT_FLAGS": 0,
           "FORE_COLOR": null
          },
          "value": 1
         },
         {
          "formattedValue": "2",
          "ordinal": 9,
          "properties": {
           "BACK_COLOR": null,
           "FONT_FLAGS": 0,
           "FORE_COLOR": null
          },
          "value": 2
         },
         {
          "formattedValue": "5",
          "ordinal": 10,
          "properties": {
           "BACK_COLOR": null,
           "FONT_FLAGS": 0,
           "FORE_COLOR": null
          },
          "value": 5
         },
         {
          "formattedValue": "6",
          "ordinal": 11,
          "properties": {
           "BACK_COLOR": null,
           "FONT_FLAGS": 0,
           "FORE_COLOR": null
          },
          "value": 6
         },
         {
          "formattedValue": "6",
          "ordinal": 12,
          "properties": {
           "BACK_COLOR": null,
           "FONT_FLAGS": 0,
           "FORE_COLOR": null
          },
          "value": 6
         },
         {
          "formattedValue": "67",
          "ordinal": 13,
          "properties": {
           "BACK_COLOR": null,
           "FONT_FLAGS": 0,
           "FORE_COLOR": null
          },
          "value": 67
         },
         {
          "formattedValue": "8",
          "ordinal": 14,
          "properties": {
           "BACK_COLOR": null,
           "FONT_FLAGS": 0,
           "FORE_COLOR": null
          },
          "value": 8
         },
         {
          "formattedValue": "2",
          "ordinal": 15,
          "properties": {
           "BACK_COLOR": null,
           "FONT_FLAGS": 0,
           "FORE_COLOR": null
          },
          "value": 2
         },
         {
          "formattedValue": "12",
          "ordinal": 16,
          "properties": {
           "BACK_COLOR": null,
           "FONT_FLAGS": 0,
           "FORE_COLOR": null
          },
          "value": 12
         },
         {
          "formattedValue": "12",
          "ordinal": 17,
          "properties": {
           "BACK_COLOR": null,
           "FONT_FLAGS": 0,
           "FORE_COLOR": null
          },
          "value": 12
         },
         {
          "formattedValue": "2",
          "ordinal": 18,
          "properties": {
           "BACK_COLOR": null,
           "FONT_FLAGS": 0,
           "FORE_COLOR": null
          },
          "value": 2
         },
         {
          "formattedValue": "29",
          "ordinal": 19,
          "properties": {
           "BACK_COLOR": null,
           "FONT_FLAGS": 0,
           "FORE_COLOR": null
          },
          "value": 29
         },
         {
          "formattedValue": "25",
          "ordinal": 20,
          "properties": {
           "BACK_COLOR": null,
           "FONT_FLAGS": 0,
           "FORE_COLOR": null
          },
          "value": 25
         },
         {
          "formattedValue": "7",
          "ordinal": 21,
          "properties": {
           "BACK_COLOR": null,
           "FONT_FLAGS": 0,
           "FORE_COLOR": null
          },
          "value": 7
         },
         {
          "formattedValue": "1",
          "ordinal": 22,
          "properties": {
           "BACK_COLOR": null,
           "FONT_FLAGS": 0,
           "FORE_COLOR": null
          },
          "value": 1
         },
         {
          "formattedValue": "10",
          "ordinal": 23,
          "properties": {
           "BACK_COLOR": null,
           "FONT_FLAGS": 0,
           "FORE_COLOR": null
          },
          "value": 10
         },
         {
          "formattedValue": "6",
          "ordinal": 24,
          "properties": {
           "BACK_COLOR": null,
           "FONT_FLAGS": 0,
           "FORE_COLOR": null
          },
          "value": 6
         },
         {
          "formattedValue": "8",
          "ordinal": 25,
          "properties": {
           "BACK_COLOR": null,
           "FONT_FLAGS": 0,
           "FORE_COLOR": null
          },
          "value": 8
         },
         {
          "formattedValue": "6",
          "ordinal": 26,
          "properties": {
           "BACK_COLOR": null,
           "FONT_FLAGS": 0,
           "FORE_COLOR": null
          },
          "value": 6
         },
         {
          "formattedValue": "8",
          "ordinal": 27,
          "properties": {
           "BACK_COLOR": null,
           "FONT_FLAGS": 0,
           "FORE_COLOR": null
          },
          "value": 8
         },
         {
          "formattedValue": "4",
          "ordinal": 28,
          "properties": {
           "BACK_COLOR": null,
           "FONT_FLAGS": 0,
           "FORE_COLOR": null
          },
          "value": 4
         },
         {
          "formattedValue": "17",
          "ordinal": 29,
          "properties": {
           "BACK_COLOR": null,
           "FONT_FLAGS": 0,
           "FORE_COLOR": null
          },
          "value": 17
         },
         {
          "formattedValue": "3",
          "ordinal": 30,
          "properties": {
           "BACK_COLOR": null,
           "FONT_FLAGS": 0,
           "FORE_COLOR": null
          },
          "value": 3
         }
        ],
        "cube": "Google Playstore",
        "defaultMembers": [
         {
          "captionPath": [
           "Count"
          ],
          "dimension": "Measures",
          "hierarchy": "Measures",
          "path": [
           "contributors.COUNT"
          ]
         },
         {
          "captionPath": [
           "Base"
          ],
          "dimension": "Epoch",
          "hierarchy": "Epoch",
          "path": [
           "Base"
          ]
         }
        ],
        "epoch": 1
       },
       "cube": "Google Playstore",
       "error": null,
       "name": "Categories with apps rated 5",
       "session": "Unnamed"
      },
      "text/html": [
       "<img src=\"data:image/svg+xml;charset=utf8,%3C?xml%20version=%221.0%22%20standalone=%22no%22?%3E%0A%20%20%20%20%3Csvg%20xmlns=%22http://www.w3.org/2000/svg%22%20width=%220%22%20height=%220%22%3E%0A%20%20%20%20%20%20%3CforeignObject%20x=%220%22%20y=%220%22%20width=%22100%25%22%20height=%22100%25%22%3E%0A%20%20%20%20%20%20%20%20%3Cstyle%20type=%22text/css%22%3E.css-xsa55j-dock%20%7Bposition:%20relative;%20z-index:%200;%20height:%20100%25;%20background-color:%20rgb(255,%20255,%20255);%20display:%20flex;%20flex-direction:%20column%7D%0A.css-1ibuxvk-DockBody%20%7Bpadding-top:%200px;%20padding-left:%200px;%20padding-right:%200px;%20padding-bottom:%200px;%20flex-grow:%201;%20flex-shrink:%201;%20flex-basis:%200%25;%20box-sizing:%20border-box;%20position:%20relative;%20z-index:%200;%20overflow-x:%20hidden;%20overflow-y:%20hidden%7D%0A.css-14zuz97%20%7Bbackground-image:%20initial;%20background-position-x:%20initial;%20background-position-y:%20initial;%20background-size:%20initial;%20background-repeat-x:%20initial;%20background-repeat-y:%20initial;%20background-attachment:%20initial;%20background-origin:%20initial;%20background-color:%20rgba(0,%200,%200,%200.2);%20z-index:%201;%20box-sizing:%20border-box;%20background-clip:%20padding-box%7D%0A.css-14zuz97.vertical%20%7Bwidth:%2012px;%20margin-top:%200px;%20margin-right:%20-6px;%20margin-bottom:%200px;%20margin-left:%20-6px;%20border-left-width:%205.5px;%20border-left-style:%20solid;%20border-left-color:%20transparent;%20border-right-width:%205.5px;%20border-right-style:%20solid;%20border-right-color:%20transparent;%20cursor:%20col-resize%7D%0A.css-14zuz97.disabled%20%7Bdisplay:%20none%7D%0A.css-1lrljg1-EditorSplitPane%20%7Bbackground-color:%20rgb(255,%20255,%20255);%20flex-grow:%201;%20flex-shrink:%201;%20flex-basis:%200%25;%20margin-right:%200px;%20position:%20relative%7D%0A.css-15fz3t7-EditorSplitPane%20%7Bposition:%20absolute;%20top:%200px;%20bottom:%200px;%20left:%200px;%20right:%200px;%20display:%20flex;%20flex-direction:%20column%7D%0A.css-1k1fxuh-Tabular%20%7Bwidth:%20100%25;%20height:%20100%25;%20position:%20relative%7D%0A.css-10klw3m%20%7Bheight:%20100%25%7D%0A.css-v3meis-Tabular%20%7Bposition:%20relative;%20height:%20100%25;%20width:%200px%7D%0A.css-mdjjdg-TabularHeader%20%7Bdisplay:%20flex%7D%0A.css-12nzxaz-PinnedTabularHeaders%20%7Bflex-shrink:%200;%20display:%20flex%7D%0A.css-r8w7wl-TabularHeaderGroup%20%7Bposition:%20relative;%20width:%200px%7D%0A.css-s4fjko-TabularPinnSeparator%20%7Bwidth:%202px;%20height:%2028px;%20background-color:%20rgb(233,%20233,%20233)%7D%0A.css-17lf64q-UnpinnedTabularHeaders%20%7Boverflow-x:%20hidden;%20overflow-y:%20hidden;%20position:%20relative;%20width:%20302px;%20height:%2028px%7D%0A.css-5jtkjp-UnpinnedTabularHeaders%20%7Bdisplay:%20flex;%20position:%20absolute;%20left:%200px%7D%0A.css-90jv4-TabularHeaderGroup%20%7Bposition:%20relative;%20width:%20300px%7D%0A.css-7fgdvs%20%7Bcolor:%20rgba(0,%200,%200,%200.85);%20display:%20flex;%20box-sizing:%20border-box;%20-webkit-box-align:%20center;%20align-items:%20center;%20height:%2028px;%20position:%20absolute;%20top:%200px;%20left:%200px;%20user-select:%20none;%20font-size:%2012px;%20line-height:%2022px;%20font-weight:%20600;%20border-bottom-width:%202px;%20border-bottom-style:%20solid;%20border-bottom-color:%20rgb(233,%20233,%20233);%20width:%20300px;%20border-right-width:%201px;%20border-right-style:%20solid;%20border-right-color:%20rgb(233,%20233,%20233)%7D%0A.css-19w2ip5-TabularHeaderCell%20%7Bcursor:%20default;%20-webkit-box-flex:%201;%20flex-grow:%201;%20flex-shrink:%201;%20box-sizing:%20border-box;%20padding-left:%204px;%20padding-right:%204px;%20padding-top:%204px;%20padding-bottom:%204px;%20height:%20100%25;%20overflow-x:%20hidden;%20overflow-y:%20hidden;%20display:%20flex;%20white-space:%20nowrap;%20-webkit-box-pack:%20start;%20justify-content:%20flex-start;%20align-items:%20flex-start%7D%0A.css-jpazdc-TabularHeaderCell%20%7Boverflow-x:%20hidden;%20overflow-y:%20hidden;%20text-overflow:%20ellipsis%7D%0A.css-y3oqqp%20%7Bfont-size:%2012px;%20line-height:%2022px;%20font-weight:%20600;%20color:%20rgba(0,%200,%200,%200.85)%7D%0A.css-c7y3a7-TabularHeaderCell%20%7Bflex-shrink:%200;%20height:%20100%25;%20display:%20flex;%20-webkit-box-pack:%20center;%20justify-content:%20center%7D%0A.css-1xstd3f-HeaderResizer%20%7Bposition:%20absolute;%20z-index:%201;%20width:%2010px;%20height:%2028px;%20left:%20295px;%20top:%200px;%20cursor:%20col-resize%7D%0A.css-11buol4-HeaderResizer%20%7Bposition:%20absolute;%20z-index:%201;%20height:%2010px;%20width:%20300px;%20left:%200px;%20top:%2023px;%20cursor:%20row-resize%7D%0A.css-16pbov6-TabularBody%20%7Bposition:%20relative;%20overflow-x:%20hidden;%20overflow-y:%20hidden;%20top:%200px;%20width:%200px%7D%0A.css-1yxufrd-UnpinnedTabularRows%20%7Bposition:%20absolute;%20overflow-x:%20hidden;%20overflow-y:%20hidden;%20left:%200px%7D%0A.css-1id6sm3-UnpinnedTabularRows%20%7Bposition:%20absolute;%20top:%200px;%20left:%200px%7D%0A.css-3cge9w%20%7Bcursor:%20cell;%20display:%20flex;%20height:%2028px;%20user-select:%20none%7D%0A.css-dko0re%20%7Bheight:%20100%25;%20box-sizing:%20border-box;%20display:%20flex;%20-webkit-box-pack:%20end;%20justify-content:%20flex-end;%20flex-direction:%20column;%20padding-top:%204px;%20padding-left:%204px;%20padding-right:%204px;%20padding-bottom:%203px;%20overflow-x:%20hidden;%20overflow-y:%20hidden;%20white-space:%20nowrap;%20border-right-width:%201px;%20border-right-style:%20solid;%20border-right-color:%20rgb(233,%20233,%20233);%20border-bottom-width:%20initial;%20border-bottom-style:%20none;%20border-bottom-color:%20initial;%20width:%20300px;%20align-items:%20flex-start%7D%0A.css-9ssj44-TreeCell%20%7Bwidth:%20min-content%7D%0A.css-mkrhzq%20%7Bdisplay:%20flex;%20margin-left:%200px%7D%0A.css-8uhtka%20%7Boverflow-x:%20hidden;%20overflow-y:%20hidden;%20text-overflow:%20ellipsis;%20white-space:%20nowrap%7D%0A.css-f0grnd%20%7Boverflow-y:%20auto;%20overflow-x:%20hidden;%20z-index:%201%7D%0A.css-1rrx88z%20%7Bwidth:%201px%7D%0A.css-1drzbcy%20%7Bleft:%200px;%20position:%20absolute;%20bottom:%200px;%20overflow-x:%20auto;%20overflow-y:%20hidden;%20z-index:%201%7D%0A.css-1084bqp%20%7Bwidth:%20456px;%20height:%201px%7D%0A.css-1v4vipl-SelectionStatistics%20%7Bheight:%2020px;%20display:%20flex;%20padding-top:%205px;%20opacity:%200;%20transition-duration:%20300ms;%20transition-timing-function:%20ease;%20transition-delay:%200s;%20transition-property:%20opacity;%20position:%20absolute;%20right:%20unset;%20left:%200px%7D%0A.css-1ouk3zc-EditorSplitPane%20%7Bbackground-color:%20rgb(255,%20255,%20255);%20flex-grow:%201;%20flex-shrink:%201;%20flex-basis:%200%25%7D%0A.css-1jjvrwi-EditorSplitPane%20%7Bposition:%20absolute;%20top:%200px;%20bottom:%200px;%20left:%200px;%20right:%200px;%20overflow-y:%20auto%7D%0A.ant-root%20html,%20.ant-root%20%7Bwidth:%20100%25;%20height:%20100%25%7D%0A.ant-root%20*,%20.ant-root%20::before,%20.ant-root%20::after%20%7Bbox-sizing:%20border-box%7D%0A.ant-root%20%7Bmargin-top:%200px;%20margin-right:%200px;%20margin-bottom:%200px;%20margin-left:%200px;%20color:%20rgba(0,%200,%200,%200.65);%20font-size:%2014px;%20font-family:%20-apple-system,%20BlinkMacSystemFont,%20%22Segoe%20UI%22,%20%22PingFang%20SC%22,%20%22Hiragino%20Sans%20GB%22,%20%22Microsoft%20YaHei%22,%20%22Helvetica%20Neue%22,%20Helvetica,%20Arial,%20sans-serif,%20%22Apple%20Color%20Emoji%22,%20%22Segoe%20UI%20Emoji%22,%20%22Segoe%20UI%20Symbol%22;%20font-variant-ligatures:%20normal;%20font-variant-numeric:%20tabular-nums;%20font-variant-east-asian:%20normal;%20font-variant-caps:%20normal;%20line-height:%201.5;%20background-color:%20rgb(255,%20255,%20255);%20font-feature-settings:%20%22tnum%22;%20--antd-wave-shadow-color:%20undefined%7D%0A.ant-root%20.ant-typography%20%7Bcolor:%20rgba(0,%200,%200,%200.65)%7D%0A.css-1sxolix-Widget%20%7Bheight:%20100%25%7D%0A.css-1sxolix-Widget%20.ant-root:not(.atoti-widget-chooser)%20%7Bbox-shadow:%20none%7D%3C/style%3E%0A%20%20%20%20%20%20%20%20%3Cdiv%20xmlns=%22http://www.w3.org/1999/xhtml%22%20style=%22height:%200px;%20width:%200px%22%3E%0A%20%20%20%20%20%20%20%20%20%20%3Cdiv%20xmlns=%22http://www.w3.org/1999/xhtml%22%20class=%22css-1sxolix-Widget%22%3E%3Cdiv%20class=%22ant-root%20css-xsa55j-dock%22%3E%3Cdiv%20class=%22css-1ibuxvk-DockBody%22%3E%3Cdiv%20class=%22SplitPane%20%20vertical%20disabled%22%20style=%22display:%20flex;%20flex:%201%201%200%25;%20height:%20100%25;%20position:%20relative;%20outline:%20none;%20overflow:%20hidden;%20user-select:%20text;%20flex-direction:%20row;%20left:%200px;%20right:%200px;%22%3E%3Cdiv%20class=%22Pane%20vertical%20Pane1%20%20%22%20style=%22flex:%201%201%200%25;%20position:%20relative;%20outline:%20none;%20display:%20flex;%20background-color:%20rgb(255,%20255,%20255);%22%3E%3Cdiv%20class=%22css-1lrljg1-EditorSplitPane%22%3E%3Cdiv%20class=%22css-15fz3t7-EditorSplitPane%22%3E%3Cdiv%20class=%22css-1k1fxuh-Tabular%22%3E%3Cdiv%20class=%22css-10klw3m%22%3E%3Cdiv%20tabindex=%220%22%20class=%22css-v3meis-Tabular%22%3E%3Cdiv%20class=%22css-192kvjv-Tabular%22%3E%3Cdiv%20class=%22css-mdjjdg-TabularHeader%22%3E%3Cdiv%20class=%22css-12nzxaz-PinnedTabularHeaders%22%3E%3Cdiv%20class=%22css-r8w7wl-TabularHeaderGroup%22%3E%3C/div%3E%3Cdiv%20class=%22css-s4fjko-TabularPinnSeparator%22%3E%3C/div%3E%3C/div%3E%3Cdiv%20class=%22css-17lf64q-UnpinnedTabularHeaders%22%3E%3Cdiv%20class=%22css-5jtkjp-UnpinnedTabularHeaders%22%3E%3Cdiv%20class=%22css-90jv4-TabularHeaderGroup%22%3E%3Cdiv%20class=%22css-7fgdvs%22%3E%3Cdiv%20class=%22css-19w2ip5-TabularHeaderCell%22%3E%3Cspan%20class=%22css-jpazdc-TabularHeaderCell%22%3E%3Cspan%3E%3Cspan%3E%3Cspan%20class=%22css-y3oqqp%22%3ECategory%20/%20Genres%20/%20Content%20Rating%3C/span%3E%3C/span%3E%3C/span%3E%3C/span%3E%3C/div%3E%3Cdiv%20class=%22css-c7y3a7-TabularHeaderCell%22%3E%3C/div%3E%3C/div%3E%3Cdiv%20class=%22css-1xstd3f-HeaderResizer%22%3E%3C/div%3E%3Cdiv%20class=%22css-11buol4-HeaderResizer%22%3E%3C/div%3E%3C/div%3E%3C/div%3E%3C/div%3E%3C/div%3E%3Cdiv%20class=%22css-16pbov6-TabularBody%22%3E%3Cdiv%20class=%22css-1yxufrd-UnpinnedTabularRows%22%3E%3Cdiv%20class=%22css-1id6sm3-UnpinnedTabularRows%22%3E%3Cdiv%20class=%22css-3cge9w%22%3E%3Cdiv%3E%3Cdiv%20class=%22css-dko0re%22%3E%3Cdiv%20class=%22css-9ssj44-TreeCell%22%3E%3Cdiv%20class=%22css-mkrhzq%22%3E%3Cspan%20class=%22ant-typography%20css-8uhtka%22%20style=%22font-size:%2012px;%20line-height:%2020px;%20font-weight:%20600;%20color:%20rgba(0,%200,%200,%200.85);%22%3ETotal%20Category%3C/span%3E%3C/div%3E%3C/div%3E%3C/div%3E%3C/div%3E%3C/div%3E%3C/div%3E%3C/div%3E%3Cdiv%20class=%22css-f0grnd%22%3E%3Cdiv%20class=%22css-1rrx88z%22%3E%3C/div%3E%3C/div%3E%3Cdiv%20class=%22css-1drzbcy%22%3E%3Cdiv%20class=%22css-1084bqp%22%3E%3C/div%3E%3C/div%3E%3C/div%3E%3C/div%3E%3Cdiv%20class=%22css-1v4vipl-SelectionStatistics%22%3E%3C/div%3E%3C/div%3E%3C/div%3E%3C/div%3E%3C/div%3E%3C/div%3E%3C/div%3E%3Cspan%20role=%22presentation%22%20class=%22css-14zuz97%20Resizer%20vertical%20disabled%22%3E%3C/span%3E%3Cdiv%20class=%22Pane%20vertical%20Pane2%20%20%22%20style=%22flex:%200%200%20auto;%20position:%20relative;%20outline:%20none;%20width:%200px;%20display:%20flex;%20background-color:%20rgb(255,%20255,%20255);%20overflow:%20auto;%22%3E%3Cdiv%20class=%22css-1ouk3zc-EditorSplitPane%22%3E%3Cdiv%20class=%22css-1jjvrwi-EditorSplitPane%22%3E%3C/div%3E%3C/div%3E%3C/div%3E%3C/div%3E%3C/div%3E%3C/div%3E%3C/div%3E%0A%20%20%20%20%20%20%20%20%3C/div%3E%0A%20%20%20%20%20%20%3C/foreignObject%3E%0A%20%20%20%20%3C/svg%3E\">"
      ],
      "text/plain": [
       "Open the notebook in JupyterLab with the atoti extension installed and enabled to see this widget."
      ]
     },
     "metadata": {},
     "output_type": "display_data"
    }
   ],
   "source": [
    "cube.visualize(\"Categories with apps rated 5\")"
   ]
  },
  {
   "cell_type": "markdown",
   "metadata": {},
   "source": [
    "Apply top count filter from **atoti editor** on the category by the `Count with rating 5` measure. The atoti editor is the atoti's Jupyterlab extension on the right with the <img src=\"https://data.atoti.io/notebooks/topcount/atoti_editor.png\" alt=\"a.\" width=\"50\"> icon."
   ]
  },
  {
   "cell_type": "code",
   "execution_count": 8,
   "metadata": {
    "atoti": {
     "state": {
      "name": "Top 10 categories with most number of apps rated 5",
      "type": "container",
      "value": {
       "body": {
        "configuration": {
         "mapping": {
          "horizontalSubplots": [],
          "splitBy": [],
          "values": [
           "[Measures].[Count with rating 5]"
          ],
          "verticalSubplots": [],
          "xAxis": [
           "[Hierarchies].[Category].[Category]"
          ]
         },
         "switchedTo": "plotly-pie-chart",
         "type": "plotly-line-chart"
        },
        "query": {
         "contextValues": {},
         "mdx": "SELECT NON EMPTY [Measures].[Count with rating 5] ON COLUMNS, NON EMPTY [Hierarchies].[Category].[Category].Members ON ROWS FROM (SELECT TopCount(Filter([Hierarchies].[Category].Levels(1).Members, NOT IsEmpty([Measures].[Count with rating 5])), 10, [Measures].[Count with rating 5]) ON COLUMNS FROM [Google Playstore]) CELL PROPERTIES VALUE, FORMATTED_VALUE, BACK_COLOR, FORE_COLOR, FONT_FLAGS",
         "serverUrl": ""
        }
       },
       "containerKey": "chart",
       "showTitleBar": false,
       "style": {}
      }
     }
    }
   },
   "outputs": [
    {
     "data": {
      "application/vnd.atoti.v0+json": {
       "cellSet": {
        "axes": [
         {
          "hierarchies": [
           {
            "dimension": "Measures",
            "hierarchy": "Measures"
           }
          ],
          "id": 0,
          "positions": [
           [
            {
             "captionPath": [
              "Count with rating 5"
             ],
             "namePath": [
              "Count with rating 5"
             ],
             "properties": {
              "DISPLAY_INFO": 0
             }
            }
           ]
          ]
         },
         {
          "hierarchies": [
           {
            "dimension": "Hierarchies",
            "hierarchy": "Category"
           }
          ],
          "id": 1,
          "positions": [
           [
            {
             "captionPath": [
              "AllMember",
              "BUSINESS"
             ],
             "namePath": [
              "AllMember",
              "BUSINESS"
             ],
             "properties": {
              "DISPLAY_INFO": 0
             }
            }
           ],
           [
            {
             "captionPath": [
              "AllMember",
              "FAMILY"
             ],
             "namePath": [
              "AllMember",
              "FAMILY"
             ],
             "properties": {
              "DISPLAY_INFO": 131072
             }
            }
           ],
           [
            {
             "captionPath": [
              "AllMember",
              "FINANCE"
             ],
             "namePath": [
              "AllMember",
              "FINANCE"
             ],
             "properties": {
              "DISPLAY_INFO": 131072
             }
            }
           ],
           [
            {
             "captionPath": [
              "AllMember",
              "GAME"
             ],
             "namePath": [
              "AllMember",
              "GAME"
             ],
             "properties": {
              "DISPLAY_INFO": 131072
             }
            }
           ],
           [
            {
             "captionPath": [
              "AllMember",
              "HEALTH_AND_FITNESS"
             ],
             "namePath": [
              "AllMember",
              "HEALTH_AND_FITNESS"
             ],
             "properties": {
              "DISPLAY_INFO": 131072
             }
            }
           ],
           [
            {
             "captionPath": [
              "AllMember",
              "LIFESTYLE"
             ],
             "namePath": [
              "AllMember",
              "LIFESTYLE"
             ],
             "properties": {
              "DISPLAY_INFO": 131072
             }
            }
           ],
           [
            {
             "captionPath": [
              "AllMember",
              "MEDICAL"
             ],
             "namePath": [
              "AllMember",
              "MEDICAL"
             ],
             "properties": {
              "DISPLAY_INFO": 131072
             }
            }
           ],
           [
            {
             "captionPath": [
              "AllMember",
              "PERSONALIZATION"
             ],
             "namePath": [
              "AllMember",
              "PERSONALIZATION"
             ],
             "properties": {
              "DISPLAY_INFO": 131072
             }
            }
           ],
           [
            {
             "captionPath": [
              "AllMember",
              "PRODUCTIVITY"
             ],
             "namePath": [
              "AllMember",
              "PRODUCTIVITY"
             ],
             "properties": {
              "DISPLAY_INFO": 131072
             }
            }
           ],
           [
            {
             "captionPath": [
              "AllMember",
              "TOOLS"
             ],
             "namePath": [
              "AllMember",
              "TOOLS"
             ],
             "properties": {
              "DISPLAY_INFO": 131072
             }
            }
           ]
          ]
         }
        ],
        "cells": [
         {
          "formattedValue": "18",
          "ordinal": 0,
          "properties": {
           "BACK_COLOR": null,
           "FONT_FLAGS": 0,
           "FORE_COLOR": null
          },
          "value": 18
         },
         {
          "formattedValue": "67",
          "ordinal": 1,
          "properties": {
           "BACK_COLOR": null,
           "FONT_FLAGS": 0,
           "FORE_COLOR": null
          },
          "value": 67
         },
         {
          "formattedValue": "8",
          "ordinal": 2,
          "properties": {
           "BACK_COLOR": null,
           "FONT_FLAGS": 0,
           "FORE_COLOR": null
          },
          "value": 8
         },
         {
          "formattedValue": "12",
          "ordinal": 3,
          "properties": {
           "BACK_COLOR": null,
           "FONT_FLAGS": 0,
           "FORE_COLOR": null
          },
          "value": 12
         },
         {
          "formattedValue": "12",
          "ordinal": 4,
          "properties": {
           "BACK_COLOR": null,
           "FONT_FLAGS": 0,
           "FORE_COLOR": null
          },
          "value": 12
         },
         {
          "formattedValue": "29",
          "ordinal": 5,
          "properties": {
           "BACK_COLOR": null,
           "FONT_FLAGS": 0,
           "FORE_COLOR": null
          },
          "value": 29
         },
         {
          "formattedValue": "25",
          "ordinal": 6,
          "properties": {
           "BACK_COLOR": null,
           "FONT_FLAGS": 0,
           "FORE_COLOR": null
          },
          "value": 25
         },
         {
          "formattedValue": "10",
          "ordinal": 7,
          "properties": {
           "BACK_COLOR": null,
           "FONT_FLAGS": 0,
           "FORE_COLOR": null
          },
          "value": 10
         },
         {
          "formattedValue": "8",
          "ordinal": 8,
          "properties": {
           "BACK_COLOR": null,
           "FONT_FLAGS": 0,
           "FORE_COLOR": null
          },
          "value": 8
         },
         {
          "formattedValue": "17",
          "ordinal": 9,
          "properties": {
           "BACK_COLOR": null,
           "FONT_FLAGS": 0,
           "FORE_COLOR": null
          },
          "value": 17
         }
        ],
        "cube": "Google Playstore",
        "defaultMembers": [
         {
          "captionPath": [
           "Count"
          ],
          "dimension": "Measures",
          "hierarchy": "Measures",
          "path": [
           "contributors.COUNT"
          ]
         },
         {
          "captionPath": [
           "Base"
          ],
          "dimension": "Epoch",
          "hierarchy": "Epoch",
          "path": [
           "Base"
          ]
         }
        ],
        "epoch": 1
       },
       "cube": "Google Playstore",
       "error": null,
       "name": "Top 10 categories with most number of apps rated 5",
       "session": "Unnamed"
      },
      "text/html": [
       "<img src=\"data:image/svg+xml;charset=utf8,%3C%3Fxml%20version%3D%221.0%22%20standalone%3D%22no%22%3F%3E%3Csvg%20xmlns%3D%22http%3A%2F%2Fwww.w3.org%2F2000%2Fsvg%22%20xmlns%3Axlink%3D%22http%3A%2F%2Fwww.w3.org%2F1999%2Fxlink%22%20viewBox%3D%220%200%201064%20360%22%3E%3Cdefs%20id%3D%22defs-b4b101%22%3E%3Cg%20class%3D%22clips%22%2F%3E%3Cg%20class%3D%22gradients%22%2F%3E%3C%2Fdefs%3E%3Cg%20class%3D%22bglayer%22%2F%3E%3Cg%20class%3D%22draglayer%22%2F%3E%3Cg%20class%3D%22layer-below%22%3E%3Cg%20class%3D%22imagelayer%22%2F%3E%3Cg%20class%3D%22shapelayer%22%2F%3E%3C%2Fg%3E%3Cg%20class%3D%22cartesianlayer%22%2F%3E%3Cg%20class%3D%22polarlayer%22%2F%3E%3Cg%20class%3D%22ternarylayer%22%2F%3E%3Cg%20class%3D%22geolayer%22%2F%3E%3Cg%20class%3D%22funnelarealayer%22%2F%3E%3Cg%20class%3D%22pielayer%22%3E%3Cg%20class%3D%22trace%22%20stroke-linejoin%3D%22round%22%20style%3D%22opacity%3A%201%3B%22%3E%3Cg%20class%3D%22slice%22%3E%3Cpath%20class%3D%22surface%22%20d%3D%22M471%2C155l0%2C-125a125%2C125%200%200%201%20111.28914154885723%2C181.91859953757137Z%22%20style%3D%22pointer-events%3A%20all%3B%20stroke-width%3A%200%3B%20fill%3A%20rgb(242%2C%20142%2C%2044)%3B%20fill-opacity%3A%201%3B%20stroke%3A%20rgb(68%2C%2068%2C%2068)%3B%20stroke-opacity%3A%201%3B%22%2F%3E%3C%2Fg%3E%3Cg%20class%3D%22slice%22%3E%3Cpath%20class%3D%22surface%22%20d%3D%22M471%2C155l-96.70184700790305%2C-79.20702484792692a125%2C125%200%200%201%2096.70184700790305%2C-45.79297515207308Z%22%20style%3D%22pointer-events%3A%20all%3B%20stroke-width%3A%200%3B%20fill%3A%20rgb(237%2C%20201%2C%2073)%3B%20fill-opacity%3A%201%3B%20stroke%3A%20rgb(68%2C%2068%2C%2068)%3B%20stroke-opacity%3A%201%3B%22%2F%3E%3C%2Fg%3E%3Cg%20class%3D%22slice%22%3E%3Cpath%20class%3D%22surface%22%20d%3D%22M471%2C155l-124.63677570447882%2C9.522297096364706a125%2C125%200%200%201%2027.934928696575767%2C-88.72932194429163Z%22%20style%3D%22pointer-events%3A%20all%3B%20stroke-width%3A%200%3B%20fill%3A%20rgb(175%2C%20122%2C%20161)%3B%20fill-opacity%3A%201%3B%20stroke%3A%20rgb(68%2C%2068%2C%2068)%3B%20stroke-opacity%3A%201%3B%22%2F%3E%3C%2Fg%3E%3Cg%20class%3D%22slice%22%3E%3Cpath%20class%3D%22surface%22%20d%3D%22M471%2C155l-101.35075329119204%2C73.16436842690523a125%2C125%200%200%201%20-23.286022413286787%2C-63.64207133054052Z%22%20style%3D%22pointer-events%3A%20all%3B%20stroke-width%3A%200%3B%20fill%3A%20rgb(78%2C%20121%2C%20167)%3B%20fill-opacity%3A%201%3B%20stroke%3A%20rgb(68%2C%2068%2C%2068)%3B%20stroke-opacity%3A%201%3B%22%2F%3E%3C%2Fg%3E%3Cg%20class%3D%22slice%22%3E%3Cpath%20class%3D%22surface%22%20d%3D%22M471%2C155l-51.76918703166232%2C113.77588177676658a125%2C125%200%200%201%20-49.581566259529716%2C-40.611513349861355Z%22%20style%3D%22pointer-events%3A%20all%3B%20stroke-width%3A%200%3B%20fill%3A%20rgb(186%2C%20176%2C%20171)%3B%20fill-opacity%3A%201%3B%20stroke%3A%20rgb(68%2C%2068%2C%2068)%3B%20stroke-opacity%3A%201%3B%22%2F%3E%3C%2Fg%3E%3Cg%20class%3D%22slice%22%3E%3Cpath%20class%3D%22surface%22%20d%3D%22M471%2C155l-7.620496577944922%2C124.76749589498672a125%2C125%200%200%201%20-44.1486904537174%2C-10.991614118220141Z%22%20style%3D%22pointer-events%3A%20all%3B%20stroke-width%3A%200%3B%20fill%3A%20rgb(118%2C%20183%2C%20178)%3B%20fill-opacity%3A%201%3B%20stroke%3A%20rgb(68%2C%2068%2C%2068)%3B%20stroke-opacity%3A%201%3B%22%2F%3E%3C%2Fg%3E%3Cg%20class%3D%22slice%22%3E%3Cpath%20class%3D%22surface%22%20d%3D%22M471%2C155l37.53771944022467%2C119.23053140545412a125%2C125%200%200%201%20-45.15821601816959%2C5.536964489532608Z%22%20style%3D%22pointer-events%3A%20all%3B%20stroke-width%3A%200%3B%20fill%3A%20rgb(89%2C%20161%2C%2079)%3B%20fill-opacity%3A%201%3B%20stroke%3A%20rgb(68%2C%2068%2C%2068)%3B%20stroke-opacity%3A%201%3B%22%2F%3E%3C%2Fg%3E%3Cg%20class%3D%22slice%22%3E%3Cpath%20class%3D%22surface%22%20d%3D%22M471%2C155l71.61027578570939%2C102.45471390763161a125%2C125%200%200%201%20-34.07255634548472%2C16.7758174978225Z%22%20style%3D%22pointer-events%3A%20all%3B%20stroke-width%3A%200%3B%20fill%3A%20rgb(255%2C%20157%2C%20167)%3B%20fill-opacity%3A%201%3B%20stroke%3A%20rgb(68%2C%2068%2C%2068)%3B%20stroke-opacity%3A%201%3B%22%2F%3E%3C%2Fg%3E%3Cg%20class%3D%22slice%22%3E%3Cpath%20class%3D%22surface%22%20d%3D%22M471%2C155l94.24135845429961%2C82.11922038529234a125%2C125%200%200%201%20-22.631082668590224%2C20.335493522339277Z%22%20style%3D%22pointer-events%3A%20all%3B%20stroke-width%3A%200%3B%20fill%3A%20rgb(225%2C%2087%2C%2089)%3B%20fill-opacity%3A%201%3B%20stroke%3A%20rgb(68%2C%2068%2C%2068)%3B%20stroke-opacity%3A%201%3B%22%2F%3E%3C%2Fg%3E%3Cg%20class%3D%22slice%22%3E%3Cpath%20class%3D%22surface%22%20d%3D%22M471%2C155l111.28914154885716%2C56.91859953757149a125%2C125%200%200%201%20-17.047783094557545%2C25.20062084772085Z%22%20style%3D%22pointer-events%3A%20all%3B%20stroke-width%3A%200%3B%20fill%3A%20rgb(156%2C%20117%2C%2095)%3B%20fill-opacity%3A%201%3B%20stroke%3A%20rgb(68%2C%2068%2C%2068)%3B%20stroke-opacity%3A%201%3B%22%2F%3E%3C%2Fg%3E%3C%2Fg%3E%3C%2Fg%3E%3Cg%20class%3D%22treemaplayer%22%2F%3E%3Cg%20class%3D%22sunburstlayer%22%2F%3E%3Cg%20class%3D%22glimages%22%2F%3E%3Cdefs%20id%3D%22topdefs-b4b101%22%3E%3Cg%20class%3D%22clips%22%2F%3E%3CclipPath%20id%3D%22legendb4b101%22%3E%3Crect%20width%3D%22186%22%20height%3D%22200%22%20x%3D%220%22%20y%3D%220%22%2F%3E%3C%2FclipPath%3E%3C%2Fdefs%3E%3Cg%20class%3D%22indicatorlayer%22%2F%3E%3Cg%20class%3D%22layer-above%22%3E%3Cg%20class%3D%22imagelayer%22%2F%3E%3Cg%20class%3D%22shapelayer%22%2F%3E%3C%2Fg%3E%3Cg%20class%3D%22infolayer%22%3E%3Cg%20class%3D%22legend%22%20pointer-events%3D%22all%22%20transform%3D%22translate(877.64%2C%2030)%22%3E%3Crect%20class%3D%22bg%22%20shape-rendering%3D%22crispEdges%22%20width%3D%22186%22%20height%3D%22200%22%20x%3D%220%22%20y%3D%220%22%20style%3D%22stroke%3A%20rgb(68%2C%2068%2C%2068)%3B%20stroke-opacity%3A%201%3B%20fill%3A%20rgb(255%2C%20255%2C%20255)%3B%20fill-opacity%3A%201%3B%20stroke-width%3A%200px%3B%22%2F%3E%3Cg%20class%3D%22scrollbox%22%20transform%3D%22translate(0%2C%200)%22%20clip-path%3D%22url('%23legendb4b101')%22%3E%3Cg%20class%3D%22groups%22%3E%3Cg%20class%3D%22traces%22%20transform%3D%22translate(0%2C%2014.5)%22%20style%3D%22opacity%3A%201%3B%22%3E%3Ctext%20class%3D%22legendtext%20user-select-none%22%20text-anchor%3D%22start%22%20x%3D%2240%22%20y%3D%224.680000000000001%22%20data-unformatted%3D%22FAMILY%22%20data-math%3D%22N%22%20style%3D%22font-family%3A%20%26quot%3BOpen%20Sans%26quot%3B%2C%20verdana%2C%20arial%2C%20sans-serif%3B%20font-size%3A%2012px%3B%20fill%3A%20rgb(0%2C%200%2C%200)%3B%20fill-opacity%3A%200.65%3B%20white-space%3A%20pre%3B%22%3EFAMILY%3C%2Ftext%3E%3Cg%20class%3D%22layers%22%20style%3D%22opacity%3A%201%3B%22%3E%3Cg%20class%3D%22legendfill%22%2F%3E%3Cg%20class%3D%22legendlines%22%2F%3E%3Cg%20class%3D%22legendsymbols%22%3E%3Cg%20class%3D%22legendpoints%22%3E%3Cpath%20class%3D%22legendpie%22%20d%3D%22M6%2C6H-6V-6H6Z%22%20transform%3D%22translate(20%2C0)%22%20style%3D%22stroke-width%3A%200%3B%20fill%3A%20rgb(242%2C%20142%2C%2044)%3B%20fill-opacity%3A%201%3B%20stroke%3A%20rgb(68%2C%2068%2C%2068)%3B%20stroke-opacity%3A%201%3B%22%2F%3E%3C%2Fg%3E%3C%2Fg%3E%3C%2Fg%3E%3Crect%20class%3D%22legendtoggle%22%20pointer-events%3D%22all%22%20x%3D%220%22%20y%3D%22-9.5%22%20width%3D%22180.78125%22%20height%3D%2219%22%20style%3D%22cursor%3A%20pointer%3B%20fill%3A%20rgb(0%2C%200%2C%200)%3B%20fill-opacity%3A%200%3B%22%2F%3E%3C%2Fg%3E%3Cg%20class%3D%22traces%22%20transform%3D%22translate(0%2C%2033.5)%22%20style%3D%22opacity%3A%201%3B%22%3E%3Ctext%20class%3D%22legendtext%20user-select-none%22%20text-anchor%3D%22start%22%20x%3D%2240%22%20y%3D%224.680000000000001%22%20data-unformatted%3D%22LIFESTYLE%22%20data-math%3D%22N%22%20style%3D%22font-family%3A%20%26quot%3BOpen%20Sans%26quot%3B%2C%20verdana%2C%20arial%2C%20sans-serif%3B%20font-size%3A%2012px%3B%20fill%3A%20rgb(0%2C%200%2C%200)%3B%20fill-opacity%3A%200.65%3B%20white-space%3A%20pre%3B%22%3ELIFESTYLE%3C%2Ftext%3E%3Cg%20class%3D%22layers%22%20style%3D%22opacity%3A%201%3B%22%3E%3Cg%20class%3D%22legendfill%22%2F%3E%3Cg%20class%3D%22legendlines%22%2F%3E%3Cg%20class%3D%22legendsymbols%22%3E%3Cg%20class%3D%22legendpoints%22%3E%3Cpath%20class%3D%22legendpie%22%20d%3D%22M6%2C6H-6V-6H6Z%22%20transform%3D%22translate(20%2C0)%22%20style%3D%22stroke-width%3A%200%3B%20fill%3A%20rgb(237%2C%20201%2C%2073)%3B%20fill-opacity%3A%201%3B%20stroke%3A%20rgb(68%2C%2068%2C%2068)%3B%20stroke-opacity%3A%201%3B%22%2F%3E%3C%2Fg%3E%3C%2Fg%3E%3C%2Fg%3E%3Crect%20class%3D%22legendtoggle%22%20pointer-events%3D%22all%22%20x%3D%220%22%20y%3D%22-9.5%22%20width%3D%22180.78125%22%20height%3D%2219%22%20style%3D%22cursor%3A%20pointer%3B%20fill%3A%20rgb(0%2C%200%2C%200)%3B%20fill-opacity%3A%200%3B%22%2F%3E%3C%2Fg%3E%3Cg%20class%3D%22traces%22%20transform%3D%22translate(0%2C%2052.5)%22%20style%3D%22opacity%3A%201%3B%22%3E%3Ctext%20class%3D%22legendtext%20user-select-none%22%20text-anchor%3D%22start%22%20x%3D%2240%22%20y%3D%224.680000000000001%22%20data-unformatted%3D%22MEDICAL%22%20data-math%3D%22N%22%20style%3D%22font-family%3A%20%26quot%3BOpen%20Sans%26quot%3B%2C%20verdana%2C%20arial%2C%20sans-serif%3B%20font-size%3A%2012px%3B%20fill%3A%20rgb(0%2C%200%2C%200)%3B%20fill-opacity%3A%200.65%3B%20white-space%3A%20pre%3B%22%3EMEDICAL%3C%2Ftext%3E%3Cg%20class%3D%22layers%22%20style%3D%22opacity%3A%201%3B%22%3E%3Cg%20class%3D%22legendfill%22%2F%3E%3Cg%20class%3D%22legendlines%22%2F%3E%3Cg%20class%3D%22legendsymbols%22%3E%3Cg%20class%3D%22legendpoints%22%3E%3Cpath%20class%3D%22legendpie%22%20d%3D%22M6%2C6H-6V-6H6Z%22%20transform%3D%22translate(20%2C0)%22%20style%3D%22stroke-width%3A%200%3B%20fill%3A%20rgb(175%2C%20122%2C%20161)%3B%20fill-opacity%3A%201%3B%20stroke%3A%20rgb(68%2C%2068%2C%2068)%3B%20stroke-opacity%3A%201%3B%22%2F%3E%3C%2Fg%3E%3C%2Fg%3E%3C%2Fg%3E%3Crect%20class%3D%22legendtoggle%22%20pointer-events%3D%22all%22%20x%3D%220%22%20y%3D%22-9.5%22%20width%3D%22180.78125%22%20height%3D%2219%22%20style%3D%22cursor%3A%20pointer%3B%20fill%3A%20rgb(0%2C%200%2C%200)%3B%20fill-opacity%3A%200%3B%22%2F%3E%3C%2Fg%3E%3Cg%20class%3D%22traces%22%20transform%3D%22translate(0%2C%2071.5)%22%20style%3D%22opacity%3A%201%3B%22%3E%3Ctext%20class%3D%22legendtext%20user-select-none%22%20text-anchor%3D%22start%22%20x%3D%2240%22%20y%3D%224.680000000000001%22%20data-unformatted%3D%22BUSINESS%22%20data-math%3D%22N%22%20style%3D%22font-family%3A%20%26quot%3BOpen%20Sans%26quot%3B%2C%20verdana%2C%20arial%2C%20sans-serif%3B%20font-size%3A%2012px%3B%20fill%3A%20rgb(0%2C%200%2C%200)%3B%20fill-opacity%3A%200.65%3B%20white-space%3A%20pre%3B%22%3EBUSINESS%3C%2Ftext%3E%3Cg%20class%3D%22layers%22%20style%3D%22opacity%3A%201%3B%22%3E%3Cg%20class%3D%22legendfill%22%2F%3E%3Cg%20class%3D%22legendlines%22%2F%3E%3Cg%20class%3D%22legendsymbols%22%3E%3Cg%20class%3D%22legendpoints%22%3E%3Cpath%20class%3D%22legendpie%22%20d%3D%22M6%2C6H-6V-6H6Z%22%20transform%3D%22translate(20%2C0)%22%20style%3D%22stroke-width%3A%200%3B%20fill%3A%20rgb(78%2C%20121%2C%20167)%3B%20fill-opacity%3A%201%3B%20stroke%3A%20rgb(68%2C%2068%2C%2068)%3B%20stroke-opacity%3A%201%3B%22%2F%3E%3C%2Fg%3E%3C%2Fg%3E%3C%2Fg%3E%3Crect%20class%3D%22legendtoggle%22%20pointer-events%3D%22all%22%20x%3D%220%22%20y%3D%22-9.5%22%20width%3D%22180.78125%22%20height%3D%2219%22%20style%3D%22cursor%3A%20pointer%3B%20fill%3A%20rgb(0%2C%200%2C%200)%3B%20fill-opacity%3A%200%3B%22%2F%3E%3C%2Fg%3E%3Cg%20class%3D%22traces%22%20transform%3D%22translate(0%2C%2090.5)%22%20style%3D%22opacity%3A%201%3B%22%3E%3Ctext%20class%3D%22legendtext%20user-select-none%22%20text-anchor%3D%22start%22%20x%3D%2240%22%20y%3D%224.680000000000001%22%20data-unformatted%3D%22TOOLS%22%20data-math%3D%22N%22%20style%3D%22font-family%3A%20%26quot%3BOpen%20Sans%26quot%3B%2C%20verdana%2C%20arial%2C%20sans-serif%3B%20font-size%3A%2012px%3B%20fill%3A%20rgb(0%2C%200%2C%200)%3B%20fill-opacity%3A%200.65%3B%20white-space%3A%20pre%3B%22%3ETOOLS%3C%2Ftext%3E%3Cg%20class%3D%22layers%22%20style%3D%22opacity%3A%201%3B%22%3E%3Cg%20class%3D%22legendfill%22%2F%3E%3Cg%20class%3D%22legendlines%22%2F%3E%3Cg%20class%3D%22legendsymbols%22%3E%3Cg%20class%3D%22legendpoints%22%3E%3Cpath%20class%3D%22legendpie%22%20d%3D%22M6%2C6H-6V-6H6Z%22%20transform%3D%22translate(20%2C0)%22%20style%3D%22stroke-width%3A%200%3B%20fill%3A%20rgb(186%2C%20176%2C%20171)%3B%20fill-opacity%3A%201%3B%20stroke%3A%20rgb(68%2C%2068%2C%2068)%3B%20stroke-opacity%3A%201%3B%22%2F%3E%3C%2Fg%3E%3C%2Fg%3E%3C%2Fg%3E%3Crect%20class%3D%22legendtoggle%22%20pointer-events%3D%22all%22%20x%3D%220%22%20y%3D%22-9.5%22%20width%3D%22180.78125%22%20height%3D%2219%22%20style%3D%22cursor%3A%20pointer%3B%20fill%3A%20rgb(0%2C%200%2C%200)%3B%20fill-opacity%3A%200%3B%22%2F%3E%3C%2Fg%3E%3Cg%20class%3D%22traces%22%20transform%3D%22translate(0%2C%20109.5)%22%20style%3D%22opacity%3A%201%3B%22%3E%3Ctext%20class%3D%22legendtext%20user-select-none%22%20text-anchor%3D%22start%22%20x%3D%2240%22%20y%3D%224.680000000000001%22%20data-unformatted%3D%22GAME%22%20data-math%3D%22N%22%20style%3D%22font-family%3A%20%26quot%3BOpen%20Sans%26quot%3B%2C%20verdana%2C%20arial%2C%20sans-serif%3B%20font-size%3A%2012px%3B%20fill%3A%20rgb(0%2C%200%2C%200)%3B%20fill-opacity%3A%200.65%3B%20white-space%3A%20pre%3B%22%3EGAME%3C%2Ftext%3E%3Cg%20class%3D%22layers%22%20style%3D%22opacity%3A%201%3B%22%3E%3Cg%20class%3D%22legendfill%22%2F%3E%3Cg%20class%3D%22legendlines%22%2F%3E%3Cg%20class%3D%22legendsymbols%22%3E%3Cg%20class%3D%22legendpoints%22%3E%3Cpath%20class%3D%22legendpie%22%20d%3D%22M6%2C6H-6V-6H6Z%22%20transform%3D%22translate(20%2C0)%22%20style%3D%22stroke-width%3A%200%3B%20fill%3A%20rgb(118%2C%20183%2C%20178)%3B%20fill-opacity%3A%201%3B%20stroke%3A%20rgb(68%2C%2068%2C%2068)%3B%20stroke-opacity%3A%201%3B%22%2F%3E%3C%2Fg%3E%3C%2Fg%3E%3C%2Fg%3E%3Crect%20class%3D%22legendtoggle%22%20pointer-events%3D%22all%22%20x%3D%220%22%20y%3D%22-9.5%22%20width%3D%22180.78125%22%20height%3D%2219%22%20style%3D%22cursor%3A%20pointer%3B%20fill%3A%20rgb(0%2C%200%2C%200)%3B%20fill-opacity%3A%200%3B%22%2F%3E%3C%2Fg%3E%3Cg%20class%3D%22traces%22%20transform%3D%22translate(0%2C%20128.5)%22%20style%3D%22opacity%3A%201%3B%22%3E%3Ctext%20class%3D%22legendtext%20user-select-none%22%20text-anchor%3D%22start%22%20x%3D%2240%22%20y%3D%224.680000000000001%22%20data-unformatted%3D%22HEALTH_AND_FITNESS%22%20data-math%3D%22N%22%20style%3D%22font-family%3A%20%26quot%3BOpen%20Sans%26quot%3B%2C%20verdana%2C%20arial%2C%20sans-serif%3B%20font-size%3A%2012px%3B%20fill%3A%20rgb(0%2C%200%2C%200)%3B%20fill-opacity%3A%200.65%3B%20white-space%3A%20pre%3B%22%3EHEALTH_AND_FITNESS%3C%2Ftext%3E%3Cg%20class%3D%22layers%22%20style%3D%22opacity%3A%201%3B%22%3E%3Cg%20class%3D%22legendfill%22%2F%3E%3Cg%20class%3D%22legendlines%22%2F%3E%3Cg%20class%3D%22legendsymbols%22%3E%3Cg%20class%3D%22legendpoints%22%3E%3Cpath%20class%3D%22legendpie%22%20d%3D%22M6%2C6H-6V-6H6Z%22%20transform%3D%22translate(20%2C0)%22%20style%3D%22stroke-width%3A%200%3B%20fill%3A%20rgb(89%2C%20161%2C%2079)%3B%20fill-opacity%3A%201%3B%20stroke%3A%20rgb(68%2C%2068%2C%2068)%3B%20stroke-opacity%3A%201%3B%22%2F%3E%3C%2Fg%3E%3C%2Fg%3E%3C%2Fg%3E%3Crect%20class%3D%22legendtoggle%22%20pointer-events%3D%22all%22%20x%3D%220%22%20y%3D%22-9.5%22%20width%3D%22180.78125%22%20height%3D%2219%22%20style%3D%22cursor%3A%20pointer%3B%20fill%3A%20rgb(0%2C%200%2C%200)%3B%20fill-opacity%3A%200%3B%22%2F%3E%3C%2Fg%3E%3Cg%20class%3D%22traces%22%20transform%3D%22translate(0%2C%20147.5)%22%20style%3D%22opacity%3A%201%3B%22%3E%3Ctext%20class%3D%22legendtext%20user-select-none%22%20text-anchor%3D%22start%22%20x%3D%2240%22%20y%3D%224.680000000000001%22%20data-unformatted%3D%22PERSONALIZATION%22%20data-math%3D%22N%22%20style%3D%22font-family%3A%20%26quot%3BOpen%20Sans%26quot%3B%2C%20verdana%2C%20arial%2C%20sans-serif%3B%20font-size%3A%2012px%3B%20fill%3A%20rgb(0%2C%200%2C%200)%3B%20fill-opacity%3A%200.65%3B%20white-space%3A%20pre%3B%22%3EPERSONALIZATION%3C%2Ftext%3E%3Cg%20class%3D%22layers%22%20style%3D%22opacity%3A%201%3B%22%3E%3Cg%20class%3D%22legendfill%22%2F%3E%3Cg%20class%3D%22legendlines%22%2F%3E%3Cg%20class%3D%22legendsymbols%22%3E%3Cg%20class%3D%22legendpoints%22%3E%3Cpath%20class%3D%22legendpie%22%20d%3D%22M6%2C6H-6V-6H6Z%22%20transform%3D%22translate(20%2C0)%22%20style%3D%22stroke-width%3A%200%3B%20fill%3A%20rgb(255%2C%20157%2C%20167)%3B%20fill-opacity%3A%201%3B%20stroke%3A%20rgb(68%2C%2068%2C%2068)%3B%20stroke-opacity%3A%201%3B%22%2F%3E%3C%2Fg%3E%3C%2Fg%3E%3C%2Fg%3E%3Crect%20class%3D%22legendtoggle%22%20pointer-events%3D%22all%22%20x%3D%220%22%20y%3D%22-9.5%22%20width%3D%22180.78125%22%20height%3D%2219%22%20style%3D%22cursor%3A%20pointer%3B%20fill%3A%20rgb(0%2C%200%2C%200)%3B%20fill-opacity%3A%200%3B%22%2F%3E%3C%2Fg%3E%3Cg%20class%3D%22traces%22%20transform%3D%22translate(0%2C%20166.5)%22%20style%3D%22opacity%3A%201%3B%22%3E%3Ctext%20class%3D%22legendtext%20user-select-none%22%20text-anchor%3D%22start%22%20x%3D%2240%22%20y%3D%224.680000000000001%22%20data-unformatted%3D%22FINANCE%22%20data-math%3D%22N%22%20style%3D%22font-family%3A%20%26quot%3BOpen%20Sans%26quot%3B%2C%20verdana%2C%20arial%2C%20sans-serif%3B%20font-size%3A%2012px%3B%20fill%3A%20rgb(0%2C%200%2C%200)%3B%20fill-opacity%3A%200.65%3B%20white-space%3A%20pre%3B%22%3EFINANCE%3C%2Ftext%3E%3Cg%20class%3D%22layers%22%20style%3D%22opacity%3A%201%3B%22%3E%3Cg%20class%3D%22legendfill%22%2F%3E%3Cg%20class%3D%22legendlines%22%2F%3E%3Cg%20class%3D%22legendsymbols%22%3E%3Cg%20class%3D%22legendpoints%22%3E%3Cpath%20class%3D%22legendpie%22%20d%3D%22M6%2C6H-6V-6H6Z%22%20transform%3D%22translate(20%2C0)%22%20style%3D%22stroke-width%3A%200%3B%20fill%3A%20rgb(225%2C%2087%2C%2089)%3B%20fill-opacity%3A%201%3B%20stroke%3A%20rgb(68%2C%2068%2C%2068)%3B%20stroke-opacity%3A%201%3B%22%2F%3E%3C%2Fg%3E%3C%2Fg%3E%3C%2Fg%3E%3Crect%20class%3D%22legendtoggle%22%20pointer-events%3D%22all%22%20x%3D%220%22%20y%3D%22-9.5%22%20width%3D%22180.78125%22%20height%3D%2219%22%20style%3D%22cursor%3A%20pointer%3B%20fill%3A%20rgb(0%2C%200%2C%200)%3B%20fill-opacity%3A%200%3B%22%2F%3E%3C%2Fg%3E%3Cg%20class%3D%22traces%22%20transform%3D%22translate(0%2C%20185.5)%22%20style%3D%22opacity%3A%201%3B%22%3E%3Ctext%20class%3D%22legendtext%20user-select-none%22%20text-anchor%3D%22start%22%20x%3D%2240%22%20y%3D%224.680000000000001%22%20data-unformatted%3D%22PRODUCTIVITY%22%20data-math%3D%22N%22%20style%3D%22font-family%3A%20%26quot%3BOpen%20Sans%26quot%3B%2C%20verdana%2C%20arial%2C%20sans-serif%3B%20font-size%3A%2012px%3B%20fill%3A%20rgb(0%2C%200%2C%200)%3B%20fill-opacity%3A%200.65%3B%20white-space%3A%20pre%3B%22%3EPRODUCTIVITY%3C%2Ftext%3E%3Cg%20class%3D%22layers%22%20style%3D%22opacity%3A%201%3B%22%3E%3Cg%20class%3D%22legendfill%22%2F%3E%3Cg%20class%3D%22legendlines%22%2F%3E%3Cg%20class%3D%22legendsymbols%22%3E%3Cg%20class%3D%22legendpoints%22%3E%3Cpath%20class%3D%22legendpie%22%20d%3D%22M6%2C6H-6V-6H6Z%22%20transform%3D%22translate(20%2C0)%22%20style%3D%22stroke-width%3A%200%3B%20fill%3A%20rgb(156%2C%20117%2C%2095)%3B%20fill-opacity%3A%201%3B%20stroke%3A%20rgb(68%2C%2068%2C%2068)%3B%20stroke-opacity%3A%201%3B%22%2F%3E%3C%2Fg%3E%3C%2Fg%3E%3C%2Fg%3E%3Crect%20class%3D%22legendtoggle%22%20pointer-events%3D%22all%22%20x%3D%220%22%20y%3D%22-9.5%22%20width%3D%22180.78125%22%20height%3D%2219%22%20style%3D%22cursor%3A%20pointer%3B%20fill%3A%20rgb(0%2C%200%2C%200)%3B%20fill-opacity%3A%200%3B%22%2F%3E%3C%2Fg%3E%3C%2Fg%3E%3C%2Fg%3E%3Crect%20class%3D%22scrollbar%22%20rx%3D%2220%22%20ry%3D%223%22%20width%3D%220%22%20height%3D%220%22%20x%3D%220%22%20y%3D%220%22%20style%3D%22fill%3A%20rgb(128%2C%20139%2C%20164)%3B%20fill-opacity%3A%201%3B%22%2F%3E%3C%2Fg%3E%3Cg%20class%3D%22g-gtitle%22%2F%3E%3C%2Fg%3E%3Cg%20class%3D%22menulayer%22%2F%3E%3Cg%20class%3D%22zoomlayer%22%2F%3E%3Cg%20class%3D%22hoverlayer%22%2F%3E%3C%2Fsvg%3E\">"
      ],
      "text/plain": [
       "Open the notebook in JupyterLab with the atoti extension installed and enabled to see this widget."
      ]
     },
     "metadata": {},
     "output_type": "display_data"
    }
   ],
   "source": [
    "cube.visualize(\"Top 10 categories with most number of apps rated 5\")"
   ]
  },
  {
   "cell_type": "markdown",
   "metadata": {},
   "source": [
    "### Top 10 apps for each category\n",
    "\n",
    "Since we are performing top 10 apps filtering for each category, it's only right that we classify `App` under `Category`.  \n",
    "In this case, we create a multi-level hierarchy such as the following:"
   ]
  },
  {
   "cell_type": "code",
   "execution_count": 11,
   "metadata": {},
   "outputs": [
    {
     "data": {
      "application/json": {
       "Hierarchies": {
        "Android Ver": [
         "Android Ver"
        ],
        "App": [
         "App"
        ],
        "App Categories": [
         "Category",
         "App"
        ],
        "Category": [
         "Category"
        ],
        "Content Rating": [
         "Content Rating"
        ],
        "Current Ver": [
         "Current Ver"
        ],
        "Genres": [
         "Genres"
        ],
        "Last Updated": [
         "Last Updated"
        ],
        "Type": [
         "Type"
        ]
       }
      },
      "text/html": [
       "<ul>\n",
       "<li>Dimensions\n",
       "  <ul>\n",
       "  <li>Hierarchies\n",
       "    <ul>\n",
       "    <li>Android Ver\n",
       "      <ol>\n",
       "      <li>Android Ver</li>\n",
       "      </ol>    </li>\n",
       "    <li>App\n",
       "      <ol>\n",
       "      <li>App</li>\n",
       "      </ol>    </li>\n",
       "    <li>App Categories\n",
       "      <ol>\n",
       "      <li>Category</li>\n",
       "      <li>App</li>\n",
       "      </ol>    </li>\n",
       "    <li>Category\n",
       "      <ol>\n",
       "      <li>Category</li>\n",
       "      </ol>    </li>\n",
       "    <li>Content Rating\n",
       "      <ol>\n",
       "      <li>Content Rating</li>\n",
       "      </ol>    </li>\n",
       "    <li>Current Ver\n",
       "      <ol>\n",
       "      <li>Current Ver</li>\n",
       "      </ol>    </li>\n",
       "    <li>Genres\n",
       "      <ol>\n",
       "      <li>Genres</li>\n",
       "      </ol>    </li>\n",
       "    <li>Last Updated\n",
       "      <ol>\n",
       "      <li>Last Updated</li>\n",
       "      </ol>    </li>\n",
       "    <li>Type\n",
       "      <ol>\n",
       "      <li>Type</li>\n",
       "      </ol>    </li>\n",
       "    </ul>\n",
       "  </li>\n",
       "  </ul>\n",
       "</li>\n",
       "</ul>\n"
      ],
      "text/plain": [
       "Hierarchies()"
      ]
     },
     "execution_count": 11,
     "metadata": {
      "application/json": {
       "expanded": true,
       "root": "Dimensions"
      }
     },
     "output_type": "execute_result"
    }
   ],
   "source": [
    "h[\"App Categories\"] = [l[\"Category\"], l[\"App\"]]\n",
    "h"
   ]
  },
  {
   "cell_type": "markdown",
   "metadata": {},
   "source": [
    "This structure allows us to select at which level we want to apply the top count on from the atoti editor.  \n",
    "<img src=\"https://data.atoti.io/notebooks/topcount/filter_by_level.png\" alt=\"Filter by level\" width=\"30%\">"
   ]
  },
  {
   "cell_type": "code",
   "execution_count": 9,
   "metadata": {
    "atoti": {
     "height": 618,
     "state": {
      "name": "Top 10 apps with highest rating for each category",
      "type": "container",
      "value": {
       "body": {
        "configuration": {
         "tabular": {
          "addButtonFilter": "numeric",
          "cellRenderers": [
           "tree-layout"
          ],
          "columnsGroups": [
           {
            "captionProducer": "firstColumn",
            "cellFactory": "kpi-status",
            "selector": "kpi-status"
           },
           {
            "captionProducer": "firstColumn",
            "cellFactory": "lookup",
            "selector": "lookup"
           },
           {
            "captionProducer": "expiry",
            "cellFactory": "expiry",
            "selector": "kpi-expiry"
           },
           {
            "captionProducer": "columnMerge",
            "cellFactory": {
             "args": {},
             "key": "treeCells"
            },
            "selector": "member"
           }
          ],
          "defaultOptions": {},
          "expansion": {
           "automaticExpansion": true
          },
          "hideAddButton": true,
          "pinnedHeaderSelector": "member",
          "sortingMode": "non-breaking",
          "statisticsShown": true
         }
        },
        "contextValues": {},
        "mdx": "SELECT NON EMPTY Order(Hierarchize(Union(DrilldownLevel([Hierarchies].[App Categories].[ALL].[AllMember]), Descendants({[Hierarchies].[App Categories].[ALL].[AllMember].[ART_AND_DESIGN]}, [Hierarchies].[App Categories].[App]), Descendants({[Hierarchies].[App Categories].[ALL].[AllMember].[FINANCE]}, [Hierarchies].[App Categories].[App]))), [Measures].[Rating.MEAN], DESC) ON ROWS, NON EMPTY [Measures].[Rating.MEAN] ON COLUMNS FROM (SELECT Generate([Hierarchies].[App Categories].Levels(1).Members, TopCount(Filter([Hierarchies].[App Categories].CurrentMember.Children, NOT IsEmpty([Measures].[Rating.MEAN])), 10, [Measures].[Rating.MEAN])) ON COLUMNS FROM [Google Playstore]) CELL PROPERTIES VALUE, FORMATTED_VALUE, BACK_COLOR, FORE_COLOR, FONT_FLAGS",
        "ranges": {
         "column": {
          "chunkSize": 50,
          "thresholdPercentage": 0.2
         },
         "row": {
          "chunkSize": 2000,
          "thresholdPercentage": 0.1
         }
        },
        "serverUrl": ""
       },
       "containerKey": "pivot-table",
       "showTitleBar": false,
       "style": {}
      }
     }
    }
   },
   "outputs": [
    {
     "data": {
      "application/vnd.atoti.v0+json": {
       "cellSet": {
        "axes": [
         {
          "hierarchies": [
           {
            "dimension": "Measures",
            "hierarchy": "Measures"
           }
          ],
          "id": 0,
          "positions": [
           [
            {
             "captionPath": [
              "Rating.MEAN"
             ],
             "namePath": [
              "Rating.MEAN"
             ],
             "properties": {
              "DISPLAY_INFO": 0
             }
            }
           ],
           [
            {
             "captionPath": [
              "Reviews.MEAN"
             ],
             "namePath": [
              "Reviews.MEAN"
             ],
             "properties": {
              "DISPLAY_INFO": 0
             }
            }
           ]
          ]
         },
         {
          "hierarchies": [
           {
            "dimension": "Hierarchies",
            "hierarchy": "Category"
           },
           {
            "dimension": "Hierarchies",
            "hierarchy": "App"
           }
          ],
          "id": 1,
          "positions": [
           [
            {
             "captionPath": [
              "AllMember",
              "EVENTS"
             ],
             "namePath": [
              "AllMember",
              "EVENTS"
             ],
             "properties": {
              "DISPLAY_INFO": 0
             }
            },
            {
             "captionPath": [
              "AllMember",
              "Prosperity"
             ],
             "namePath": [
              "AllMember",
              "Prosperity"
             ],
             "properties": {
              "DISPLAY_INFO": 0
             }
            }
           ],
           [
            {
             "captionPath": [
              "AllMember",
              "EVENTS"
             ],
             "namePath": [
              "AllMember",
              "EVENTS"
             ],
             "properties": {
              "DISPLAY_INFO": 131072
             }
            },
            {
             "captionPath": [
              "AllMember",
              "EF Events"
             ],
             "namePath": [
              "AllMember",
              "EF Events"
             ],
             "properties": {
              "DISPLAY_INFO": 131072
             }
            }
           ],
           [
            {
             "captionPath": [
              "AllMember",
              "EVENTS"
             ],
             "namePath": [
              "AllMember",
              "EVENTS"
             ],
             "properties": {
              "DISPLAY_INFO": 131072
             }
            },
            {
             "captionPath": [
              "AllMember",
              "SUMMER SONIC app"
             ],
             "namePath": [
              "AllMember",
              "SUMMER SONIC app"
             ],
             "properties": {
              "DISPLAY_INFO": 131072
             }
            }
           ],
           [
            {
             "captionPath": [
              "AllMember",
              "EVENTS"
             ],
             "namePath": [
              "AllMember",
              "EVENTS"
             ],
             "properties": {
              "DISPLAY_INFO": 131072
             }
            },
            {
             "captionPath": [
              "AllMember",
              "EK Bailey Preaching Conference"
             ],
             "namePath": [
              "AllMember",
              "EK Bailey Preaching Conference"
             ],
             "properties": {
              "DISPLAY_INFO": 131072
             }
            }
           ],
           [
            {
             "captionPath": [
              "AllMember",
              "EVENTS"
             ],
             "namePath": [
              "AllMember",
              "EVENTS"
             ],
             "properties": {
              "DISPLAY_INFO": 131072
             }
            },
            {
             "captionPath": [
              "AllMember",
              "FAST EO"
             ],
             "namePath": [
              "AllMember",
              "FAST EO"
             ],
             "properties": {
              "DISPLAY_INFO": 131072
             }
            }
           ],
           [
            {
             "captionPath": [
              "AllMember",
              "EVENTS"
             ],
             "namePath": [
              "AllMember",
              "EVENTS"
             ],
             "properties": {
              "DISPLAY_INFO": 131072
             }
            },
            {
             "captionPath": [
              "AllMember",
              "Mindvalley U Tallinn 2018"
             ],
             "namePath": [
              "AllMember",
              "Mindvalley U Tallinn 2018"
             ],
             "properties": {
              "DISPLAY_INFO": 131072
             }
            }
           ],
           [
            {
             "captionPath": [
              "AllMember",
              "EVENTS"
             ],
             "namePath": [
              "AllMember",
              "EVENTS"
             ],
             "properties": {
              "DISPLAY_INFO": 131072
             }
            },
            {
             "captionPath": [
              "AllMember",
              "Mummatikabalkuragi"
             ],
             "namePath": [
              "AllMember",
              "Mummatikabalkuragi"
             ],
             "properties": {
              "DISPLAY_INFO": 131072
             }
            }
           ],
           [
            {
             "captionPath": [
              "AllMember",
              "EVENTS"
             ],
             "namePath": [
              "AllMember",
              "EVENTS"
             ],
             "properties": {
              "DISPLAY_INFO": 131072
             }
            },
            {
             "captionPath": [
              "AllMember",
              "Arab Halls - For Wedding & Events"
             ],
             "namePath": [
              "AllMember",
              "Arab Halls - For Wedding & Events"
             ],
             "properties": {
              "DISPLAY_INFO": 131072
             }
            }
           ],
           [
            {
             "captionPath": [
              "AllMember",
              "EVENTS"
             ],
             "namePath": [
              "AllMember",
              "EVENTS"
             ],
             "properties": {
              "DISPLAY_INFO": 131072
             }
            },
            {
             "captionPath": [
              "AllMember",
              "Emmabodafestivalen"
             ],
             "namePath": [
              "AllMember",
              "Emmabodafestivalen"
             ],
             "properties": {
              "DISPLAY_INFO": 131072
             }
            }
           ],
           [
            {
             "captionPath": [
              "AllMember",
              "EVENTS"
             ],
             "namePath": [
              "AllMember",
              "EVENTS"
             ],
             "properties": {
              "DISPLAY_INFO": 131072
             }
            },
            {
             "captionPath": [
              "AllMember",
              "NFP 2018"
             ],
             "namePath": [
              "AllMember",
              "NFP 2018"
             ],
             "properties": {
              "DISPLAY_INFO": 131072
             }
            }
           ],
           [
            {
             "captionPath": [
              "AllMember",
              "EDUCATION"
             ],
             "namePath": [
              "AllMember",
              "EDUCATION"
             ],
             "properties": {
              "DISPLAY_INFO": 131072
             }
            },
            {
             "captionPath": [
              "AllMember",
              "Learn Japanese, Korean, Chinese Offline & Free"
             ],
             "namePath": [
              "AllMember",
              "Learn Japanese, Korean, Chinese Offline & Free"
             ],
             "properties": {
              "DISPLAY_INFO": 131072
             }
            }
           ],
           [
            {
             "captionPath": [
              "AllMember",
              "EDUCATION"
             ],
             "namePath": [
              "AllMember",
              "EDUCATION"
             ],
             "properties": {
              "DISPLAY_INFO": 131072
             }
            },
            {
             "captionPath": [
              "AllMember",
              "Sago Mini Hat Maker"
             ],
             "namePath": [
              "AllMember",
              "Sago Mini Hat Maker"
             ],
             "properties": {
              "DISPLAY_INFO": 131072
             }
            }
           ],
           [
            {
             "captionPath": [
              "AllMember",
              "EDUCATION"
             ],
             "namePath": [
              "AllMember",
              "EDUCATION"
             ],
             "properties": {
              "DISPLAY_INFO": 131072
             }
            },
            {
             "captionPath": [
              "AllMember",
              "SoloLearn: Learn to Code for Free"
             ],
             "namePath": [
              "AllMember",
              "SoloLearn: Learn to Code for Free"
             ],
             "properties": {
              "DISPLAY_INFO": 131072
             }
            }
           ],
           [
            {
             "captionPath": [
              "AllMember",
              "EDUCATION"
             ],
             "namePath": [
              "AllMember",
              "EDUCATION"
             ],
             "properties": {
              "DISPLAY_INFO": 131072
             }
            },
            {
             "captionPath": [
              "AllMember",
              "English Grammar Test"
             ],
             "namePath": [
              "AllMember",
              "English Grammar Test"
             ],
             "properties": {
              "DISPLAY_INFO": 131072
             }
            }
           ],
           [
            {
             "captionPath": [
              "AllMember",
              "EDUCATION"
             ],
             "namePath": [
              "AllMember",
              "EDUCATION"
             ],
             "properties": {
              "DISPLAY_INFO": 131072
             }
            },
            {
             "captionPath": [
              "AllMember",
              "Duolingo: Learn Languages Free"
             ],
             "namePath": [
              "AllMember",
              "Duolingo: Learn Languages Free"
             ],
             "properties": {
              "DISPLAY_INFO": 131072
             }
            }
           ],
           [
            {
             "captionPath": [
              "AllMember",
              "EDUCATION"
             ],
             "namePath": [
              "AllMember",
              "EDUCATION"
             ],
             "properties": {
              "DISPLAY_INFO": 131072
             }
            },
            {
             "captionPath": [
              "AllMember",
              "English with Lingualeo"
             ],
             "namePath": [
              "AllMember",
              "English with Lingualeo"
             ],
             "properties": {
              "DISPLAY_INFO": 131072
             }
            }
           ],
           [
            {
             "captionPath": [
              "AllMember",
              "EDUCATION"
             ],
             "namePath": [
              "AllMember",
              "EDUCATION"
             ],
             "properties": {
              "DISPLAY_INFO": 131072
             }
            },
            {
             "captionPath": [
              "AllMember",
              "Free english course"
             ],
             "namePath": [
              "AllMember",
              "Free english course"
             ],
             "properties": {
              "DISPLAY_INFO": 131072
             }
            }
           ],
           [
            {
             "captionPath": [
              "AllMember",
              "EDUCATION"
             ],
             "namePath": [
              "AllMember",
              "EDUCATION"
             ],
             "properties": {
              "DISPLAY_INFO": 131072
             }
            },
            {
             "captionPath": [
              "AllMember",
              "English words application mikan"
             ],
             "namePath": [
              "AllMember",
              "English words application mikan"
             ],
             "properties": {
              "DISPLAY_INFO": 131072
             }
            }
           ],
           [
            {
             "captionPath": [
              "AllMember",
              "EDUCATION"
             ],
             "namePath": [
              "AllMember",
              "EDUCATION"
             ],
             "properties": {
              "DISPLAY_INFO": 131072
             }
            },
            {
             "captionPath": [
              "AllMember",
              "English Communication - Learn English for Chinese (Learn English for Chinese)"
             ],
             "namePath": [
              "AllMember",
              "English Communication - Learn English for Chinese (Learn English for Chinese)"
             ],
             "properties": {
              "DISPLAY_INFO": 131072
             }
            }
           ],
           [
            {
             "captionPath": [
              "AllMember",
              "EDUCATION"
             ],
             "namePath": [
              "AllMember",
              "EDUCATION"
             ],
             "properties": {
              "DISPLAY_INFO": 131072
             }
            },
            {
             "captionPath": [
              "AllMember",
              "Fuzzy Numbers: Pre-K Number Foundation"
             ],
             "namePath": [
              "AllMember",
              "Fuzzy Numbers: Pre-K Number Foundation"
             ],
             "properties": {
              "DISPLAY_INFO": 131072
             }
            }
           ],
           [
            {
             "captionPath": [
              "AllMember",
              "ART_AND_DESIGN"
             ],
             "namePath": [
              "AllMember",
              "ART_AND_DESIGN"
             ],
             "properties": {
              "DISPLAY_INFO": 131072
             }
            },
            {
             "captionPath": [
              "AllMember",
              "Spring flowers theme couleurs d t space"
             ],
             "namePath": [
              "AllMember",
              "Spring flowers theme couleurs d t space"
             ],
             "properties": {
              "DISPLAY_INFO": 131072
             }
            }
           ],
           [
            {
             "captionPath": [
              "AllMember",
              "ART_AND_DESIGN"
             ],
             "namePath": [
              "AllMember",
              "ART_AND_DESIGN"
             ],
             "properties": {
              "DISPLAY_INFO": 131072
             }
            },
            {
             "captionPath": [
              "AllMember",
              "X Launcher Pro - IOS Style Theme & Control Center"
             ],
             "namePath": [
              "AllMember",
              "X Launcher Pro - IOS Style Theme & Control Center"
             ],
             "properties": {
              "DISPLAY_INFO": 131072
             }
            }
           ],
           [
            {
             "captionPath": [
              "AllMember",
              "ART_AND_DESIGN"
             ],
             "namePath": [
              "AllMember",
              "ART_AND_DESIGN"
             ],
             "properties": {
              "DISPLAY_INFO": 131072
             }
            },
            {
             "captionPath": [
              "AllMember",
              "Cardi B Wallpaper"
             ],
             "namePath": [
              "AllMember",
              "Cardi B Wallpaper"
             ],
             "properties": {
              "DISPLAY_INFO": 131072
             }
            }
           ],
           [
            {
             "captionPath": [
              "AllMember",
              "ART_AND_DESIGN"
             ],
             "namePath": [
              "AllMember",
              "ART_AND_DESIGN"
             ],
             "properties": {
              "DISPLAY_INFO": 131072
             }
            },
            {
             "captionPath": [
              "AllMember",
              "Harley Quinn wallpapers HD"
             ],
             "namePath": [
              "AllMember",
              "Harley Quinn wallpapers HD"
             ],
             "properties": {
              "DISPLAY_INFO": 131072
             }
            }
           ],
           [
            {
             "captionPath": [
              "AllMember",
              "ART_AND_DESIGN"
             ],
             "namePath": [
              "AllMember",
              "ART_AND_DESIGN"
             ],
             "properties": {
              "DISPLAY_INFO": 131072
             }
            },
            {
             "captionPath": [
              "AllMember",
              "AJ Styles HD Wallpapers"
             ],
             "namePath": [
              "AllMember",
              "AJ Styles HD Wallpapers"
             ],
             "properties": {
              "DISPLAY_INFO": 131072
             }
            }
           ],
           [
            {
             "captionPath": [
              "AllMember",
              "ART_AND_DESIGN"
             ],
             "namePath": [
              "AllMember",
              "ART_AND_DESIGN"
             ],
             "properties": {
              "DISPLAY_INFO": 131072
             }
            },
            {
             "captionPath": [
              "AllMember",
              "Fantasy theme dark bw black building"
             ],
             "namePath": [
              "AllMember",
              "Fantasy theme dark bw black building"
             ],
             "properties": {
              "DISPLAY_INFO": 131072
             }
            }
           ],
           [
            {
             "captionPath": [
              "AllMember",
              "ART_AND_DESIGN"
             ],
             "namePath": [
              "AllMember",
              "ART_AND_DESIGN"
             ],
             "properties": {
              "DISPLAY_INFO": 131072
             }
            },
            {
             "captionPath": [
              "AllMember",
              "Canva: Poster, banner, card maker & graphic design"
             ],
             "namePath": [
              "AllMember",
              "Canva: Poster, banner, card maker & graphic design"
             ],
             "properties": {
              "DISPLAY_INFO": 131072
             }
            }
           ],
           [
            {
             "captionPath": [
              "AllMember",
              "ART_AND_DESIGN"
             ],
             "namePath": [
              "AllMember",
              "ART_AND_DESIGN"
             ],
             "properties": {
              "DISPLAY_INFO": 131072
             }
            },
            {
             "captionPath": [
              "AllMember",
              "Colorfit - Drawing & Coloring"
             ],
             "namePath": [
              "AllMember",
              "Colorfit - Drawing & Coloring"
             ],
             "properties": {
              "DISPLAY_INFO": 131072
             }
            }
           ],
           [
            {
             "captionPath": [
              "AllMember",
              "ART_AND_DESIGN"
             ],
             "namePath": [
              "AllMember",
              "ART_AND_DESIGN"
             ],
             "properties": {
              "DISPLAY_INFO": 131072
             }
            },
            {
             "captionPath": [
              "AllMember",
              "I Creative Idea"
             ],
             "namePath": [
              "AllMember",
              "I Creative Idea"
             ],
             "properties": {
              "DISPLAY_INFO": 131072
             }
            }
           ],
           [
            {
             "captionPath": [
              "AllMember",
              "ART_AND_DESIGN"
             ],
             "namePath": [
              "AllMember",
              "ART_AND_DESIGN"
             ],
             "properties": {
              "DISPLAY_INFO": 131072
             }
            },
            {
             "captionPath": [
              "AllMember",
              "HD Mickey Minnie Wallpapers"
             ],
             "namePath": [
              "AllMember",
              "HD Mickey Minnie Wallpapers"
             ],
             "properties": {
              "DISPLAY_INFO": 131072
             }
            }
           ],
           [
            {
             "captionPath": [
              "AllMember",
              "BOOKS_AND_REFERENCE"
             ],
             "namePath": [
              "AllMember",
              "BOOKS_AND_REFERENCE"
             ],
             "properties": {
              "DISPLAY_INFO": 131072
             }
            },
            {
             "captionPath": [
              "AllMember",
              "Catholic La Bu Zo Kam"
             ],
             "namePath": [
              "AllMember",
              "Catholic La Bu Zo Kam"
             ],
             "properties": {
              "DISPLAY_INFO": 131072
             }
            }
           ],
           [
            {
             "captionPath": [
              "AllMember",
              "BOOKS_AND_REFERENCE"
             ],
             "namePath": [
              "AllMember",
              "BOOKS_AND_REFERENCE"
             ],
             "properties": {
              "DISPLAY_INFO": 131072
             }
            },
            {
             "captionPath": [
              "AllMember",
              "Hey AJ! It's Saturday!"
             ],
             "namePath": [
              "AllMember",
              "Hey AJ! It's Saturday!"
             ],
             "properties": {
              "DISPLAY_INFO": 131072
             }
            }
           ],
           [
            {
             "captionPath": [
              "AllMember",
              "BOOKS_AND_REFERENCE"
             ],
             "namePath": [
              "AllMember",
              "BOOKS_AND_REFERENCE"
             ],
             "properties": {
              "DISPLAY_INFO": 131072
             }
            },
            {
             "captionPath": [
              "AllMember",
              "BC MVA Fines"
             ],
             "namePath": [
              "AllMember",
              "BC MVA Fines"
             ],
             "properties": {
              "DISPLAY_INFO": 131072
             }
            }
           ],
           [
            {
             "captionPath": [
              "AllMember",
              "BOOKS_AND_REFERENCE"
             ],
             "namePath": [
              "AllMember",
              "BOOKS_AND_REFERENCE"
             ],
             "properties": {
              "DISPLAY_INFO": 131072
             }
            },
            {
             "captionPath": [
              "AllMember",
              "Tozer Devotional -Series 1"
             ],
             "namePath": [
              "AllMember",
              "Tozer Devotional -Series 1"
             ],
             "properties": {
              "DISPLAY_INFO": 131072
             }
            }
           ],
           [
            {
             "captionPath": [
              "AllMember",
              "BOOKS_AND_REFERENCE"
             ],
             "namePath": [
              "AllMember",
              "BOOKS_AND_REFERENCE"
             ],
             "properties": {
              "DISPLAY_INFO": 131072
             }
            },
            {
             "captionPath": [
              "AllMember",
              "R Programing Offline Tutorial"
             ],
             "namePath": [
              "AllMember",
              "R Programing Offline Tutorial"
             ],
             "properties": {
              "DISPLAY_INFO": 131072
             }
            }
           ],
           [
            {
             "captionPath": [
              "AllMember",
              "BOOKS_AND_REFERENCE"
             ],
             "namePath": [
              "AllMember",
              "BOOKS_AND_REFERENCE"
             ],
             "properties": {
              "DISPLAY_INFO": 131072
             }
            },
            {
             "captionPath": [
              "AllMember",
              "CZ-Help"
             ],
             "namePath": [
              "AllMember",
              "CZ-Help"
             ],
             "properties": {
              "DISPLAY_INFO": 131072
             }
            }
           ],
           [
            {
             "captionPath": [
              "AllMember",
              "BOOKS_AND_REFERENCE"
             ],
             "namePath": [
              "AllMember",
              "BOOKS_AND_REFERENCE"
             ],
             "properties": {
              "DISPLAY_INFO": 131072
             }
            },
            {
             "captionPath": [
              "AllMember",
              "JW Library"
             ],
             "namePath": [
              "AllMember",
              "JW Library"
             ],
             "properties": {
              "DISPLAY_INFO": 131072
             }
            }
           ],
           [
            {
             "captionPath": [
              "AllMember",
              "BOOKS_AND_REFERENCE"
             ],
             "namePath": [
              "AllMember",
              "BOOKS_AND_REFERENCE"
             ],
             "properties": {
              "DISPLAY_INFO": 131072
             }
            },
            {
             "captionPath": [
              "AllMember",
              "eBoox new: Reader for fb2 epub zip books"
             ],
             "namePath": [
              "AllMember",
              "eBoox new: Reader for fb2 epub zip books"
             ],
             "properties": {
              "DISPLAY_INFO": 131072
             }
            }
           ],
           [
            {
             "captionPath": [
              "AllMember",
              "BOOKS_AND_REFERENCE"
             ],
             "namePath": [
              "AllMember",
              "BOOKS_AND_REFERENCE"
             ],
             "properties": {
              "DISPLAY_INFO": 131072
             }
            },
            {
             "captionPath": [
              "AllMember",
              "Borneo Bible, BM Bible"
             ],
             "namePath": [
              "AllMember",
              "Borneo Bible, BM Bible"
             ],
             "properties": {
              "DISPLAY_INFO": 131072
             }
            }
           ],
           [
            {
             "captionPath": [
              "AllMember",
              "BOOKS_AND_REFERENCE"
             ],
             "namePath": [
              "AllMember",
              "BOOKS_AND_REFERENCE"
             ],
             "properties": {
              "DISPLAY_INFO": 131072
             }
            },
            {
             "captionPath": [
              "AllMember",
              "Duaa Ek Ibaadat"
             ],
             "namePath": [
              "AllMember",
              "Duaa Ek Ibaadat"
             ],
             "properties": {
              "DISPLAY_INFO": 131072
             }
            }
           ],
           [
            {
             "captionPath": [
              "AllMember",
              "PERSONALIZATION"
             ],
             "namePath": [
              "AllMember",
              "PERSONALIZATION"
             ],
             "properties": {
              "DISPLAY_INFO": 131072
             }
            },
            {
             "captionPath": [
              "AllMember",
              "RETRO Shocked DW-6000"
             ],
             "namePath": [
              "AllMember",
              "RETRO Shocked DW-6000"
             ],
             "properties": {
              "DISPLAY_INFO": 131072
             }
            }
           ],
           [
            {
             "captionPath": [
              "AllMember",
              "PERSONALIZATION"
             ],
             "namePath": [
              "AllMember",
              "PERSONALIZATION"
             ],
             "properties": {
              "DISPLAY_INFO": 131072
             }
            },
            {
             "captionPath": [
              "AllMember",
              "FO Bixby"
             ],
             "namePath": [
              "AllMember",
              "FO Bixby"
             ],
             "properties": {
              "DISPLAY_INFO": 131072
             }
            }
           ],
           [
            {
             "captionPath": [
              "AllMember",
              "PERSONALIZATION"
             ],
             "namePath": [
              "AllMember",
              "PERSONALIZATION"
             ],
             "properties": {
              "DISPLAY_INFO": 131072
             }
            },
            {
             "captionPath": [
              "AllMember",
              "AJ Blue Icon Pack"
             ],
             "namePath": [
              "AllMember",
              "AJ Blue Icon Pack"
             ],
             "properties": {
              "DISPLAY_INFO": 131072
             }
            }
           ],
           [
            {
             "captionPath": [
              "AllMember",
              "PERSONALIZATION"
             ],
             "namePath": [
              "AllMember",
              "PERSONALIZATION"
             ],
             "properties": {
              "DISPLAY_INFO": 131072
             }
            },
            {
             "captionPath": [
              "AllMember",
              "Eh Bee Wallpapers HD"
             ],
             "namePath": [
              "AllMember",
              "Eh Bee Wallpapers HD"
             ],
             "properties": {
              "DISPLAY_INFO": 131072
             }
            }
           ],
           [
            {
             "captionPath": [
              "AllMember",
              "PERSONALIZATION"
             ],
             "namePath": [
              "AllMember",
              "PERSONALIZATION"
             ],
             "properties": {
              "DISPLAY_INFO": 131072
             }
            },
            {
             "captionPath": [
              "AllMember",
              "P-Home for KLWP"
             ],
             "namePath": [
              "AllMember",
              "P-Home for KLWP"
             ],
             "properties": {
              "DISPLAY_INFO": 131072
             }
            }
           ],
           [
            {
             "captionPath": [
              "AllMember",
              "PERSONALIZATION"
             ],
             "namePath": [
              "AllMember",
              "PERSONALIZATION"
             ],
             "properties": {
              "DISPLAY_INFO": 131072
             }
            },
            {
             "captionPath": [
              "AllMember",
              "Wallpapers FN SCAR H"
             ],
             "namePath": [
              "AllMember",
              "Wallpapers FN SCAR H"
             ],
             "properties": {
              "DISPLAY_INFO": 131072
             }
            }
           ],
           [
            {
             "captionPath": [
              "AllMember",
              "PERSONALIZATION"
             ],
             "namePath": [
              "AllMember",
              "PERSONALIZATION"
             ],
             "properties": {
              "DISPLAY_INFO": 131072
             }
            },
            {
             "captionPath": [
              "AllMember",
              "cx advance call blocker"
             ],
             "namePath": [
              "AllMember",
              "cx advance call blocker"
             ],
             "properties": {
              "DISPLAY_INFO": 131072
             }
            }
           ],
           [
            {
             "captionPath": [
              "AllMember",
              "PERSONALIZATION"
             ],
             "namePath": [
              "AllMember",
              "PERSONALIZATION"
             ],
             "properties": {
              "DISPLAY_INFO": 131072
             }
            },
            {
             "captionPath": [
              "AllMember",
              "AJ Gray Dark Icon Pack"
             ],
             "namePath": [
              "AllMember",
              "AJ Gray Dark Icon Pack"
             ],
             "properties": {
              "DISPLAY_INFO": 131072
             }
            }
           ],
           [
            {
             "captionPath": [
              "AllMember",
              "PERSONALIZATION"
             ],
             "namePath": [
              "AllMember",
              "PERSONALIZATION"
             ],
             "properties": {
              "DISPLAY_INFO": 131072
             }
            },
            {
             "captionPath": [
              "AllMember",
              "Android P Style Icon Pack"
             ],
             "namePath": [
              "AllMember",
              "Android P Style Icon Pack"
             ],
             "properties": {
              "DISPLAY_INFO": 131072
             }
            }
           ],
           [
            {
             "captionPath": [
              "AllMember",
              "PERSONALIZATION"
             ],
             "namePath": [
              "AllMember",
              "PERSONALIZATION"
             ],
             "properties": {
              "DISPLAY_INFO": 131072
             }
            },
            {
             "captionPath": [
              "AllMember",
              "CI 174 Gray Icon Pack"
             ],
             "namePath": [
              "AllMember",
              "CI 174 Gray Icon Pack"
             ],
             "properties": {
              "DISPLAY_INFO": 131072
             }
            }
           ],
           [
            {
             "captionPath": [
              "AllMember",
              "PARENTING"
             ],
             "namePath": [
              "AllMember",
              "PARENTING"
             ],
             "properties": {
              "DISPLAY_INFO": 131072
             }
            },
            {
             "captionPath": [
              "AllMember",
              "DF Glue Board"
             ],
             "namePath": [
              "AllMember",
              "DF Glue Board"
             ],
             "properties": {
              "DISPLAY_INFO": 131072
             }
            }
           ],
           [
            {
             "captionPath": [
              "AllMember",
              "PARENTING"
             ],
             "namePath": [
              "AllMember",
              "PARENTING"
             ],
             "properties": {
              "DISPLAY_INFO": 131072
             }
            },
            {
             "captionPath": [
              "AllMember",
              "White Noise for Baby"
             ],
             "namePath": [
              "AllMember",
              "White Noise for Baby"
             ],
             "properties": {
              "DISPLAY_INFO": 131072
             }
            }
           ],
           [
            {
             "captionPath": [
              "AllMember",
              "PARENTING"
             ],
             "namePath": [
              "AllMember",
              "PARENTING"
             ],
             "properties": {
              "DISPLAY_INFO": 131072
             }
            },
            {
             "captionPath": [
              "AllMember",
              "The first year of a baby's life"
             ],
             "namePath": [
              "AllMember",
              "The first year of a baby's life"
             ],
             "properties": {
              "DISPLAY_INFO": 131072
             }
            }
           ],
           [
            {
             "captionPath": [
              "AllMember",
              "PARENTING"
             ],
             "namePath": [
              "AllMember",
              "PARENTING"
             ],
             "properties": {
              "DISPLAY_INFO": 131072
             }
            },
            {
             "captionPath": [
              "AllMember",
              "Rainbow - Journal & Activities"
             ],
             "namePath": [
              "AllMember",
              "Rainbow - Journal & Activities"
             ],
             "properties": {
              "DISPLAY_INFO": 131072
             }
            }
           ],
           [
            {
             "captionPath": [
              "AllMember",
              "PARENTING"
             ],
             "namePath": [
              "AllMember",
              "PARENTING"
             ],
             "properties": {
              "DISPLAY_INFO": 131072
             }
            },
            {
             "captionPath": [
              "AllMember",
              "Classical music for baby"
             ],
             "namePath": [
              "AllMember",
              "Classical music for baby"
             ],
             "properties": {
              "DISPLAY_INFO": 131072
             }
            }
           ],
           [
            {
             "captionPath": [
              "AllMember",
              "PARENTING"
             ],
             "namePath": [
              "AllMember",
              "PARENTING"
             ],
             "properties": {
              "DISPLAY_INFO": 131072
             }
            },
            {
             "captionPath": [
              "AllMember",
              "How do I take care of my child?"
             ],
             "namePath": [
              "AllMember",
              "How do I take care of my child?"
             ],
             "properties": {
              "DISPLAY_INFO": 131072
             }
            }
           ],
           [
            {
             "captionPath": [
              "AllMember",
              "PARENTING"
             ],
             "namePath": [
              "AllMember",
              "PARENTING"
             ],
             "properties": {
              "DISPLAY_INFO": 131072
             }
            },
            {
             "captionPath": [
              "AllMember",
              "Family Album Mitene: Private Photo & Video Sharing"
             ],
             "namePath": [
              "AllMember",
              "Family Album Mitene: Private Photo & Video Sharing"
             ],
             "properties": {
              "DISPLAY_INFO": 131072
             }
            }
           ],
           [
            {
             "captionPath": [
              "AllMember",
              "PARENTING"
             ],
             "namePath": [
              "AllMember",
              "PARENTING"
             ],
             "properties": {
              "DISPLAY_INFO": 131072
             }
            },
            {
             "captionPath": [
              "AllMember",
              "Baby Connect (activity log)"
             ],
             "namePath": [
              "AllMember",
              "Baby Connect (activity log)"
             ],
             "properties": {
              "DISPLAY_INFO": 131072
             }
            }
           ],
           [
            {
             "captionPath": [
              "AllMember",
              "PARENTING"
             ],
             "namePath": [
              "AllMember",
              "PARENTING"
             ],
             "properties": {
              "DISPLAY_INFO": 131072
             }
            },
            {
             "captionPath": [
              "AllMember",
              "Daniel Tiger for Parents"
             ],
             "namePath": [
              "AllMember",
              "Daniel Tiger for Parents"
             ],
             "properties": {
              "DISPLAY_INFO": 131072
             }
            }
           ],
           [
            {
             "captionPath": [
              "AllMember",
              "PARENTING"
             ],
             "namePath": [
              "AllMember",
              "PARENTING"
             ],
             "properties": {
              "DISPLAY_INFO": 131072
             }
            },
            {
             "captionPath": [
              "AllMember",
              "Favorite children's songs"
             ],
             "namePath": [
              "AllMember",
              "Favorite children's songs"
             ],
             "properties": {
              "DISPLAY_INFO": 131072
             }
            }
           ],
           [
            {
             "captionPath": [
              "AllMember",
              "BEAUTY"
             ],
             "namePath": [
              "AllMember",
              "BEAUTY"
             ],
             "properties": {
              "DISPLAY_INFO": 131072
             }
            },
            {
             "captionPath": [
              "AllMember",
              "ipsy: Makeup, Beauty, and Tips"
             ],
             "namePath": [
              "AllMember",
              "ipsy: Makeup, Beauty, and Tips"
             ],
             "properties": {
              "DISPLAY_INFO": 131072
             }
            }
           ],
           [
            {
             "captionPath": [
              "AllMember",
              "BEAUTY"
             ],
             "namePath": [
              "AllMember",
              "BEAUTY"
             ],
             "properties": {
              "DISPLAY_INFO": 131072
             }
            },
            {
             "captionPath": [
              "AllMember",
              "Prom MakeUp Tutorial"
             ],
             "namePath": [
              "AllMember",
              "Prom MakeUp Tutorial"
             ],
             "properties": {
              "DISPLAY_INFO": 131072
             }
            }
           ],
           [
            {
             "captionPath": [
              "AllMember",
              "BEAUTY"
             ],
             "namePath": [
              "AllMember",
              "BEAUTY"
             ],
             "properties": {
              "DISPLAY_INFO": 131072
             }
            },
            {
             "captionPath": [
              "AllMember",
              "Ulta Beauty"
             ],
             "namePath": [
              "AllMember",
              "Ulta Beauty"
             ],
             "properties": {
              "DISPLAY_INFO": 131072
             }
            }
           ],
           [
            {
             "captionPath": [
              "AllMember",
              "BEAUTY"
             ],
             "namePath": [
              "AllMember",
              "BEAUTY"
             ],
             "properties": {
              "DISPLAY_INFO": 131072
             }
            },
            {
             "captionPath": [
              "AllMember",
              "Hush - Beauty for Everyone"
             ],
             "namePath": [
              "AllMember",
              "Hush - Beauty for Everyone"
             ],
             "properties": {
              "DISPLAY_INFO": 131072
             }
            }
           ],
           [
            {
             "captionPath": [
              "AllMember",
              "BEAUTY"
             ],
             "namePath": [
              "AllMember",
              "BEAUTY"
             ],
             "properties": {
              "DISPLAY_INFO": 131072
             }
            },
            {
             "captionPath": [
              "AllMember",
              "Natural recipes for your beauty"
             ],
             "namePath": [
              "AllMember",
              "Natural recipes for your beauty"
             ],
             "properties": {
              "DISPLAY_INFO": 131072
             }
            }
           ],
           [
            {
             "captionPath": [
              "AllMember",
              "BEAUTY"
             ],
             "namePath": [
              "AllMember",
              "BEAUTY"
             ],
             "properties": {
              "DISPLAY_INFO": 131072
             }
            },
            {
             "captionPath": [
              "AllMember",
              "Tie - Always be happy"
             ],
             "namePath": [
              "AllMember",
              "Tie - Always be happy"
             ],
             "properties": {
              "DISPLAY_INFO": 131072
             }
            }
           ],
           [
            {
             "captionPath": [
              "AllMember",
              "BEAUTY"
             ],
             "namePath": [
              "AllMember",
              "BEAUTY"
             ],
             "properties": {
              "DISPLAY_INFO": 131072
             }
            },
            {
             "captionPath": [
              "AllMember",
              "Beard Live Camera Photo Editor"
             ],
             "namePath": [
              "AllMember",
              "Beard Live Camera Photo Editor"
             ],
             "properties": {
              "DISPLAY_INFO": 131072
             }
            }
           ],
           [
            {
             "captionPath": [
              "AllMember",
              "BEAUTY"
             ],
             "namePath": [
              "AllMember",
              "BEAUTY"
             ],
             "properties": {
              "DISPLAY_INFO": 131072
             }
            },
            {
             "captionPath": [
              "AllMember",
              "Methods of teeth whitening"
             ],
             "namePath": [
              "AllMember",
              "Methods of teeth whitening"
             ],
             "properties": {
              "DISPLAY_INFO": 131072
             }
            }
           ],
           [
            {
             "captionPath": [
              "AllMember",
              "BEAUTY"
             ],
             "namePath": [
              "AllMember",
              "BEAUTY"
             ],
             "properties": {
              "DISPLAY_INFO": 131072
             }
            },
            {
             "captionPath": [
              "AllMember",
              "Facial Wrinkle Reduction"
             ],
             "namePath": [
              "AllMember",
              "Facial Wrinkle Reduction"
             ],
             "properties": {
              "DISPLAY_INFO": 131072
             }
            }
           ],
           [
            {
             "captionPath": [
              "AllMember",
              "BEAUTY"
             ],
             "namePath": [
              "AllMember",
              "BEAUTY"
             ],
             "properties": {
              "DISPLAY_INFO": 131072
             }
            },
            {
             "captionPath": [
              "AllMember",
              "Haircut Tutorials/Haircut Videos"
             ],
             "namePath": [
              "AllMember",
              "Haircut Tutorials/Haircut Videos"
             ],
             "properties": {
              "DISPLAY_INFO": 131072
             }
            }
           ],
           [
            {
             "captionPath": [
              "AllMember",
              "SOCIAL"
             ],
             "namePath": [
              "AllMember",
              "SOCIAL"
             ],
             "properties": {
              "DISPLAY_INFO": 131072
             }
            },
            {
             "captionPath": [
              "AllMember",
              "Eternal Light AG"
             ],
             "namePath": [
              "AllMember",
              "Eternal Light AG"
             ],
             "properties": {
              "DISPLAY_INFO": 131072
             }
            }
           ],
           [
            {
             "captionPath": [
              "AllMember",
              "SOCIAL"
             ],
             "namePath": [
              "AllMember",
              "SOCIAL"
             ],
             "properties": {
              "DISPLAY_INFO": 131072
             }
            },
            {
             "captionPath": [
              "AllMember",
              "DN Blog"
             ],
             "namePath": [
              "AllMember",
              "DN Blog"
             ],
             "properties": {
              "DISPLAY_INFO": 131072
             }
            }
           ],
           [
            {
             "captionPath": [
              "AllMember",
              "SOCIAL"
             ],
             "namePath": [
              "AllMember",
              "SOCIAL"
             ],
             "properties": {
              "DISPLAY_INFO": 131072
             }
            },
            {
             "captionPath": [
              "AllMember",
              "Movement BE"
             ],
             "namePath": [
              "AllMember",
              "Movement BE"
             ],
             "properties": {
              "DISPLAY_INFO": 131072
             }
            }
           ],
           [
            {
             "captionPath": [
              "AllMember",
              "SOCIAL"
             ],
             "namePath": [
              "AllMember",
              "SOCIAL"
             ],
             "properties": {
              "DISPLAY_INFO": 131072
             }
            },
            {
             "captionPath": [
              "AllMember",
              "CJ Gospel Hour"
             ],
             "namePath": [
              "AllMember",
              "CJ Gospel Hour"
             ],
             "properties": {
              "DISPLAY_INFO": 131072
             }
            }
           ],
           [
            {
             "captionPath": [
              "AllMember",
              "SOCIAL"
             ],
             "namePath": [
              "AllMember",
              "SOCIAL"
             ],
             "properties": {
              "DISPLAY_INFO": 131072
             }
            },
            {
             "captionPath": [
              "AllMember",
              "CB Heroes"
             ],
             "namePath": [
              "AllMember",
              "CB Heroes"
             ],
             "properties": {
              "DISPLAY_INFO": 131072
             }
            }
           ],
           [
            {
             "captionPath": [
              "AllMember",
              "SOCIAL"
             ],
             "namePath": [
              "AllMember",
              "SOCIAL"
             ],
             "properties": {
              "DISPLAY_INFO": 131072
             }
            },
            {
             "captionPath": [
              "AllMember",
              "UP EB Bill Payment & Details"
             ],
             "namePath": [
              "AllMember",
              "UP EB Bill Payment & Details"
             ],
             "properties": {
              "DISPLAY_INFO": 131072
             }
            }
           ],
           [
            {
             "captionPath": [
              "AllMember",
              "SOCIAL"
             ],
             "namePath": [
              "AllMember",
              "SOCIAL"
             ],
             "properties": {
              "DISPLAY_INFO": 131072
             }
            },
            {
             "captionPath": [
              "AllMember",
              "Hum Ek Hain 2.02"
             ],
             "namePath": [
              "AllMember",
              "Hum Ek Hain 2.02"
             ],
             "properties": {
              "DISPLAY_INFO": 131072
             }
            }
           ],
           [
            {
             "captionPath": [
              "AllMember",
              "SOCIAL"
             ],
             "namePath": [
              "AllMember",
              "SOCIAL"
             ],
             "properties": {
              "DISPLAY_INFO": 131072
             }
            },
            {
             "captionPath": [
              "AllMember",
              "iCard BD Plus"
             ],
             "namePath": [
              "AllMember",
              "iCard BD Plus"
             ],
             "properties": {
              "DISPLAY_INFO": 131072
             }
            }
           ],
           [
            {
             "captionPath": [
              "AllMember",
              "SOCIAL"
             ],
             "namePath": [
              "AllMember",
              "SOCIAL"
             ],
             "properties": {
              "DISPLAY_INFO": 131072
             }
            },
            {
             "captionPath": [
              "AllMember",
              "DC Comics Amino"
             ],
             "namePath": [
              "AllMember",
              "DC Comics Amino"
             ],
             "properties": {
              "DISPLAY_INFO": 131072
             }
            }
           ],
           [
            {
             "captionPath": [
              "AllMember",
              "SOCIAL"
             ],
             "namePath": [
              "AllMember",
              "SOCIAL"
             ],
             "properties": {
              "DISPLAY_INFO": 131072
             }
            },
            {
             "captionPath": [
              "AllMember",
              "Br Browser"
             ],
             "namePath": [
              "AllMember",
              "Br Browser"
             ],
             "properties": {
              "DISPLAY_INFO": 131072
             }
            }
           ],
           [
            {
             "captionPath": [
              "AllMember",
              "GAME"
             ],
             "namePath": [
              "AllMember",
              "GAME"
             ],
             "properties": {
              "DISPLAY_INFO": 131072
             }
            },
            {
             "captionPath": [
              "AllMember",
              "Mad Dash Fo' Cash"
             ],
             "namePath": [
              "AllMember",
              "Mad Dash Fo' Cash"
             ],
             "properties": {
              "DISPLAY_INFO": 131072
             }
            }
           ],
           [
            {
             "captionPath": [
              "AllMember",
              "GAME"
             ],
             "namePath": [
              "AllMember",
              "GAME"
             ],
             "properties": {
              "DISPLAY_INFO": 131072
             }
            },
            {
             "captionPath": [
              "AllMember",
              "211:CK"
             ],
             "namePath": [
              "AllMember",
              "211:CK"
             ],
             "properties": {
              "DISPLAY_INFO": 131072
             }
            }
           ],
           [
            {
             "captionPath": [
              "AllMember",
              "GAME"
             ],
             "namePath": [
              "AllMember",
              "GAME"
             ],
             "properties": {
              "DISPLAY_INFO": 131072
             }
            },
            {
             "captionPath": [
              "AllMember",
              "Axe Champs! Wars"
             ],
             "namePath": [
              "AllMember",
              "Axe Champs! Wars"
             ],
             "properties": {
              "DISPLAY_INFO": 131072
             }
            }
           ],
           [
            {
             "captionPath": [
              "AllMember",
              "GAME"
             ],
             "namePath": [
              "AllMember",
              "GAME"
             ],
             "properties": {
              "DISPLAY_INFO": 131072
             }
            },
            {
             "captionPath": [
              "AllMember",
              "Brick Breaker BR"
             ],
             "namePath": [
              "AllMember",
              "Brick Breaker BR"
             ],
             "properties": {
              "DISPLAY_INFO": 131072
             }
            }
           ],
           [
            {
             "captionPath": [
              "AllMember",
              "GAME"
             ],
             "namePath": [
              "AllMember",
              "GAME"
             ],
             "properties": {
              "DISPLAY_INFO": 131072
             }
            },
            {
             "captionPath": [
              "AllMember",
              "Flippy Axe : Flip The Knife & Axe Simulator"
             ],
             "namePath": [
              "AllMember",
              "Flippy Axe : Flip The Knife & Axe Simulator"
             ],
             "properties": {
              "DISPLAY_INFO": 131072
             }
            }
           ],
           [
            {
             "captionPath": [
              "AllMember",
              "GAME"
             ],
             "namePath": [
              "AllMember",
              "GAME"
             ],
             "properties": {
              "DISPLAY_INFO": 131072
             }
            },
            {
             "captionPath": [
              "AllMember",
              "CP Trivia"
             ],
             "namePath": [
              "AllMember",
              "CP Trivia"
             ],
             "properties": {
              "DISPLAY_INFO": 131072
             }
            }
           ],
           [
            {
             "captionPath": [
              "AllMember",
              "GAME"
             ],
             "namePath": [
              "AllMember",
              "GAME"
             ],
             "properties": {
              "DISPLAY_INFO": 131072
             }
            },
            {
             "captionPath": [
              "AllMember",
              "EC Mover"
             ],
             "namePath": [
              "AllMember",
              "EC Mover"
             ],
             "properties": {
              "DISPLAY_INFO": 131072
             }
            }
           ],
           [
            {
             "captionPath": [
              "AllMember",
              "GAME"
             ],
             "namePath": [
              "AllMember",
              "GAME"
             ],
             "properties": {
              "DISPLAY_INFO": 131072
             }
            },
            {
             "captionPath": [
              "AllMember",
              "Mu.F.O."
             ],
             "namePath": [
              "AllMember",
              "Mu.F.O."
             ],
             "properties": {
              "DISPLAY_INFO": 131072
             }
            }
           ],
           [
            {
             "captionPath": [
              "AllMember",
              "GAME"
             ],
             "namePath": [
              "AllMember",
              "GAME"
             ],
             "properties": {
              "DISPLAY_INFO": 131072
             }
            },
            {
             "captionPath": [
              "AllMember",
              "Ra Ga Ba"
             ],
             "namePath": [
              "AllMember",
              "Ra Ga Ba"
             ],
             "properties": {
              "DISPLAY_INFO": 131072
             }
            }
           ],
           [
            {
             "captionPath": [
              "AllMember",
              "GAME"
             ],
             "namePath": [
              "AllMember",
              "GAME"
             ],
             "properties": {
              "DISPLAY_INFO": 131072
             }
            },
            {
             "captionPath": [
              "AllMember",
              "Monster Ride Pro"
             ],
             "namePath": [
              "AllMember",
              "Monster Ride Pro"
             ],
             "properties": {
              "DISPLAY_INFO": 131072
             }
            }
           ],
           [
            {
             "captionPath": [
              "AllMember",
              "WEATHER"
             ],
             "namePath": [
              "AllMember",
              "WEATHER"
             ],
             "properties": {
              "DISPLAY_INFO": 131072
             }
            },
            {
             "captionPath": [
              "AllMember",
              "Weather forecast"
             ],
             "namePath": [
              "AllMember",
              "Weather forecast"
             ],
             "properties": {
              "DISPLAY_INFO": 131072
             }
            }
           ],
           [
            {
             "captionPath": [
              "AllMember",
              "WEATHER"
             ],
             "namePath": [
              "AllMember",
              "WEATHER"
             ],
             "properties": {
              "DISPLAY_INFO": 131072
             }
            },
            {
             "captionPath": [
              "AllMember",
              "Weather Live Pro"
             ],
             "namePath": [
              "AllMember",
              "Weather Live Pro"
             ],
             "properties": {
              "DISPLAY_INFO": 131072
             }
            }
           ],
           [
            {
             "captionPath": [
              "AllMember",
              "WEATHER"
             ],
             "namePath": [
              "AllMember",
              "WEATHER"
             ],
             "properties": {
              "DISPLAY_INFO": 131072
             }
            },
            {
             "captionPath": [
              "AllMember",
              "Live Weather Pro"
             ],
             "namePath": [
              "AllMember",
              "Live Weather Pro"
             ],
             "properties": {
              "DISPLAY_INFO": 131072
             }
            }
           ],
           [
            {
             "captionPath": [
              "AllMember",
              "WEATHER"
             ],
             "namePath": [
              "AllMember",
              "WEATHER"
             ],
             "properties": {
              "DISPLAY_INFO": 131072
             }
            },
            {
             "captionPath": [
              "AllMember",
              "Fu*** Weather (Funny Weather)"
             ],
             "namePath": [
              "AllMember",
              "Fu*** Weather (Funny Weather)"
             ],
             "properties": {
              "DISPLAY_INFO": 131072
             }
            }
           ],
           [
            {
             "captionPath": [
              "AllMember",
              "WEATHER"
             ],
             "namePath": [
              "AllMember",
              "WEATHER"
             ],
             "properties": {
              "DISPLAY_INFO": 131072
             }
            },
            {
             "captionPath": [
              "AllMember",
              "Weather Forecast Pro"
             ],
             "namePath": [
              "AllMember",
              "Weather Forecast Pro"
             ],
             "properties": {
              "DISPLAY_INFO": 131072
             }
            }
           ],
           [
            {
             "captionPath": [
              "AllMember",
              "WEATHER"
             ],
             "namePath": [
              "AllMember",
              "WEATHER"
             ],
             "properties": {
              "DISPLAY_INFO": 131072
             }
            },
            {
             "captionPath": [
              "AllMember",
              "weather - weather forecast"
             ],
             "namePath": [
              "AllMember",
              "weather - weather forecast"
             ],
             "properties": {
              "DISPLAY_INFO": 131072
             }
            }
           ],
           [
            {
             "captionPath": [
              "AllMember",
              "WEATHER"
             ],
             "namePath": [
              "AllMember",
              "WEATHER"
             ],
             "properties": {
              "DISPLAY_INFO": 131072
             }
            },
            {
             "captionPath": [
              "AllMember",
              "Storm Radar: Tornado Tracker & Hurricane Alerts"
             ],
             "namePath": [
              "AllMember",
              "Storm Radar: Tornado Tracker & Hurricane Alerts"
             ],
             "properties": {
              "DISPLAY_INFO": 131072
             }
            }
           ],
           [
            {
             "captionPath": [
              "AllMember",
              "WEATHER"
             ],
             "namePath": [
              "AllMember",
              "WEATHER"
             ],
             "properties": {
              "DISPLAY_INFO": 131072
             }
            },
            {
             "captionPath": [
              "AllMember",
              "Klara weather"
             ],
             "namePath": [
              "AllMember",
              "Klara weather"
             ],
             "properties": {
              "DISPLAY_INFO": 131072
             }
            }
           ],
           [
            {
             "captionPath": [
              "AllMember",
              "WEATHER"
             ],
             "namePath": [
              "AllMember",
              "WEATHER"
             ],
             "properties": {
              "DISPLAY_INFO": 131072
             }
            },
            {
             "captionPath": [
              "AllMember",
              "WebCams"
             ],
             "namePath": [
              "AllMember",
              "WebCams"
             ],
             "properties": {
              "DISPLAY_INFO": 131072
             }
            }
           ],
           [
            {
             "captionPath": [
              "AllMember",
              "WEATHER"
             ],
             "namePath": [
              "AllMember",
              "WEATHER"
             ],
             "properties": {
              "DISPLAY_INFO": 131072
             }
            },
            {
             "captionPath": [
              "AllMember",
              "GO Weather - Widget, Theme, Wallpaper, Efficient"
             ],
             "namePath": [
              "AllMember",
              "GO Weather - Widget, Theme, Wallpaper, Efficient"
             ],
             "properties": {
              "DISPLAY_INFO": 131072
             }
            }
           ],
           [
            {
             "captionPath": [
              "AllMember",
              "HEALTH_AND_FITNESS"
             ],
             "namePath": [
              "AllMember",
              "HEALTH_AND_FITNESS"
             ],
             "properties": {
              "DISPLAY_INFO": 131072
             }
            },
            {
             "captionPath": [
              "AllMember",
              "Dt. Jyothi Srinivas"
             ],
             "namePath": [
              "AllMember",
              "Dt. Jyothi Srinivas"
             ],
             "properties": {
              "DISPLAY_INFO": 131072
             }
            }
           ],
           [
            {
             "captionPath": [
              "AllMember",
              "HEALTH_AND_FITNESS"
             ],
             "namePath": [
              "AllMember",
              "HEALTH_AND_FITNESS"
             ],
             "properties": {
              "DISPLAY_INFO": 131072
             }
            },
            {
             "captionPath": [
              "AllMember",
              "Cloud DX Connected Health"
             ],
             "namePath": [
              "AllMember",
              "Cloud DX Connected Health"
             ],
             "properties": {
              "DISPLAY_INFO": 131072
             }
            }
           ],
           [
            {
             "captionPath": [
              "AllMember",
              "HEALTH_AND_FITNESS"
             ],
             "namePath": [
              "AllMember",
              "HEALTH_AND_FITNESS"
             ],
             "properties": {
              "DISPLAY_INFO": 131072
             }
            },
            {
             "captionPath": [
              "AllMember",
              "C B Patel Health Club"
             ],
             "namePath": [
              "AllMember",
              "C B Patel Health Club"
             ],
             "properties": {
              "DISPLAY_INFO": 131072
             }
            }
           ],
           [
            {
             "captionPath": [
              "AllMember",
              "HEALTH_AND_FITNESS"
             ],
             "namePath": [
              "AllMember",
              "HEALTH_AND_FITNESS"
             ],
             "properties": {
              "DISPLAY_INFO": 131072
             }
            },
            {
             "captionPath": [
              "AllMember",
              "CF Townsville"
             ],
             "namePath": [
              "AllMember",
              "CF Townsville"
             ],
             "properties": {
              "DISPLAY_INFO": 131072
             }
            }
           ],
           [
            {
             "captionPath": [
              "AllMember",
              "HEALTH_AND_FITNESS"
             ],
             "namePath": [
              "AllMember",
              "HEALTH_AND_FITNESS"
             ],
             "properties": {
              "DISPLAY_INFO": 131072
             }
            },
            {
             "captionPath": [
              "AllMember",
              "EF Academy"
             ],
             "namePath": [
              "AllMember",
              "EF Academy"
             ],
             "properties": {
              "DISPLAY_INFO": 131072
             }
            }
           ],
           [
            {
             "captionPath": [
              "AllMember",
              "HEALTH_AND_FITNESS"
             ],
             "namePath": [
              "AllMember",
              "HEALTH_AND_FITNESS"
             ],
             "properties": {
              "DISPLAY_INFO": 131072
             }
            },
            {
             "captionPath": [
              "AllMember",
              "BM Physiotherapy Clinic"
             ],
             "namePath": [
              "AllMember",
              "BM Physiotherapy Clinic"
             ],
             "properties": {
              "DISPLAY_INFO": 131072
             }
            }
           ],
           [
            {
             "captionPath": [
              "AllMember",
              "HEALTH_AND_FITNESS"
             ],
             "namePath": [
              "AllMember",
              "HEALTH_AND_FITNESS"
             ],
             "properties": {
              "DISPLAY_INFO": 131072
             }
            },
            {
             "captionPath": [
              "AllMember",
              "CL Strength"
             ],
             "namePath": [
              "AllMember",
              "CL Strength"
             ],
             "properties": {
              "DISPLAY_INFO": 131072
             }
            }
           ],
           [
            {
             "captionPath": [
              "AllMember",
              "HEALTH_AND_FITNESS"
             ],
             "namePath": [
              "AllMember",
              "HEALTH_AND_FITNESS"
             ],
             "properties": {
              "DISPLAY_INFO": 131072
             }
            },
            {
             "captionPath": [
              "AllMember",
              "Bacterial vaginosis Treatment - Sexual disease"
             ],
             "namePath": [
              "AllMember",
              "Bacterial vaginosis Treatment - Sexual disease"
             ],
             "properties": {
              "DISPLAY_INFO": 131072
             }
            }
           ],
           [
            {
             "captionPath": [
              "AllMember",
              "HEALTH_AND_FITNESS"
             ],
             "namePath": [
              "AllMember",
              "HEALTH_AND_FITNESS"
             ],
             "properties": {
              "DISPLAY_INFO": 131072
             }
            },
            {
             "captionPath": [
              "AllMember",
              "CB Fit"
             ],
             "namePath": [
              "AllMember",
              "CB Fit"
             ],
             "properties": {
              "DISPLAY_INFO": 131072
             }
            }
           ],
           [
            {
             "captionPath": [
              "AllMember",
              "HEALTH_AND_FITNESS"
             ],
             "namePath": [
              "AllMember",
              "HEALTH_AND_FITNESS"
             ],
             "properties": {
              "DISPLAY_INFO": 131072
             }
            },
            {
             "captionPath": [
              "AllMember",
              "MI-BP"
             ],
             "namePath": [
              "AllMember",
              "MI-BP"
             ],
             "properties": {
              "DISPLAY_INFO": 131072
             }
            }
           ],
           [
            {
             "captionPath": [
              "AllMember",
              "SHOPPING"
             ],
             "namePath": [
              "AllMember",
              "SHOPPING"
             ],
             "properties": {
              "DISPLAY_INFO": 131072
             }
            },
            {
             "captionPath": [
              "AllMember",
              "BL Flowers Digital"
             ],
             "namePath": [
              "AllMember",
              "BL Flowers Digital"
             ],
             "properties": {
              "DISPLAY_INFO": 131072
             }
            }
           ],
           [
            {
             "captionPath": [
              "AllMember",
              "SHOPPING"
             ],
             "namePath": [
              "AllMember",
              "SHOPPING"
             ],
             "properties": {
              "DISPLAY_INFO": 131072
             }
            },
            {
             "captionPath": [
              "AllMember",
              "AJ RETAILS"
             ],
             "namePath": [
              "AllMember",
              "AJ RETAILS"
             ],
             "properties": {
              "DISPLAY_INFO": 131072
             }
            }
           ],
           [
            {
             "captionPath": [
              "AllMember",
              "SHOPPING"
             ],
             "namePath": [
              "AllMember",
              "SHOPPING"
             ],
             "properties": {
              "DISPLAY_INFO": 131072
             }
            },
            {
             "captionPath": [
              "AllMember",
              "Dine In CT - Food Delivery"
             ],
             "namePath": [
              "AllMember",
              "Dine In CT - Food Delivery"
             ],
             "properties": {
              "DISPLAY_INFO": 131072
             }
            }
           ],
           [
            {
             "captionPath": [
              "AllMember",
              "SHOPPING"
             ],
             "namePath": [
              "AllMember",
              "SHOPPING"
             ],
             "properties": {
              "DISPLAY_INFO": 131072
             }
            },
            {
             "captionPath": [
              "AllMember",
              "A-Y Collection"
             ],
             "namePath": [
              "AllMember",
              "A-Y Collection"
             ],
             "properties": {
              "DISPLAY_INFO": 131072
             }
            }
           ],
           [
            {
             "captionPath": [
              "AllMember",
              "SHOPPING"
             ],
             "namePath": [
              "AllMember",
              "SHOPPING"
             ],
             "properties": {
              "DISPLAY_INFO": 131072
             }
            },
            {
             "captionPath": [
              "AllMember",
              "DG OFF - 100% Free Coupons & Deals"
             ],
             "namePath": [
              "AllMember",
              "DG OFF - 100% Free Coupons & Deals"
             ],
             "properties": {
              "DISPLAY_INFO": 131072
             }
            }
           ],
           [
            {
             "captionPath": [
              "AllMember",
              "SHOPPING"
             ],
             "namePath": [
              "AllMember",
              "SHOPPING"
             ],
             "properties": {
              "DISPLAY_INFO": 131072
             }
            },
            {
             "captionPath": [
              "AllMember",
              "DT CLOTHINGS"
             ],
             "namePath": [
              "AllMember",
              "DT CLOTHINGS"
             ],
             "properties": {
              "DISPLAY_INFO": 131072
             }
            }
           ],
           [
            {
             "captionPath": [
              "AllMember",
              "SHOPPING"
             ],
             "namePath": [
              "AllMember",
              "SHOPPING"
             ],
             "properties": {
              "DISPLAY_INFO": 131072
             }
            },
            {
             "captionPath": [
              "AllMember",
              "Shopping List S PRO"
             ],
             "namePath": [
              "AllMember",
              "Shopping List S PRO"
             ],
             "properties": {
              "DISPLAY_INFO": 131072
             }
            }
           ],
           [
            {
             "captionPath": [
              "AllMember",
              "SHOPPING"
             ],
             "namePath": [
              "AllMember",
              "SHOPPING"
             ],
             "properties": {
              "DISPLAY_INFO": 131072
             }
            },
            {
             "captionPath": [
              "AllMember",
              "ASOS"
             ],
             "namePath": [
              "AllMember",
              "ASOS"
             ],
             "properties": {
              "DISPLAY_INFO": 131072
             }
            }
           ],
           [
            {
             "captionPath": [
              "AllMember",
              "SHOPPING"
             ],
             "namePath": [
              "AllMember",
              "SHOPPING"
             ],
             "properties": {
              "DISPLAY_INFO": 131072
             }
            },
            {
             "captionPath": [
              "AllMember",
              "All States Ag Parts"
             ],
             "namePath": [
              "AllMember",
              "All States Ag Parts"
             ],
             "properties": {
              "DISPLAY_INFO": 131072
             }
            }
           ],
           [
            {
             "captionPath": [
              "AllMember",
              "SHOPPING"
             ],
             "namePath": [
              "AllMember",
              "SHOPPING"
             ],
             "properties": {
              "DISPLAY_INFO": 131072
             }
            },
            {
             "captionPath": [
              "AllMember",
              "BJ Toys"
             ],
             "namePath": [
              "AllMember",
              "BJ Toys"
             ],
             "properties": {
              "DISPLAY_INFO": 131072
             }
            }
           ],
           [
            {
             "captionPath": [
              "AllMember",
              "SPORTS"
             ],
             "namePath": [
              "AllMember",
              "SPORTS"
             ],
             "properties": {
              "DISPLAY_INFO": 131072
             }
            },
            {
             "captionPath": [
              "AllMember",
              "FK Dedinje BGD"
             ],
             "namePath": [
              "AllMember",
              "FK Dedinje BGD"
             ],
             "properties": {
              "DISPLAY_INFO": 131072
             }
            }
           ],
           [
            {
             "captionPath": [
              "AllMember",
              "SPORTS"
             ],
             "namePath": [
              "AllMember",
              "SPORTS"
             ],
             "properties": {
              "DISPLAY_INFO": 131072
             }
            },
            {
             "captionPath": [
              "AllMember",
              "CricQuick"
             ],
             "namePath": [
              "AllMember",
              "CricQuick"
             ],
             "properties": {
              "DISPLAY_INFO": 131072
             }
            }
           ],
           [
            {
             "captionPath": [
              "AllMember",
              "SPORTS"
             ],
             "namePath": [
              "AllMember",
              "SPORTS"
             ],
             "properties": {
              "DISPLAY_INFO": 131072
             }
            },
            {
             "captionPath": [
              "AllMember",
              "FA Player Essentials"
             ],
             "namePath": [
              "AllMember",
              "FA Player Essentials"
             ],
             "properties": {
              "DISPLAY_INFO": 131072
             }
            }
           ],
           [
            {
             "captionPath": [
              "AllMember",
              "SPORTS"
             ],
             "namePath": [
              "AllMember",
              "SPORTS"
             ],
             "properties": {
              "DISPLAY_INFO": 131072
             }
            },
            {
             "captionPath": [
              "AllMember",
              "EC SPORTS"
             ],
             "namePath": [
              "AllMember",
              "EC SPORTS"
             ],
             "properties": {
              "DISPLAY_INFO": 131072
             }
            }
           ],
           [
            {
             "captionPath": [
              "AllMember",
              "SPORTS"
             ],
             "namePath": [
              "AllMember",
              "SPORTS"
             ],
             "properties": {
              "DISPLAY_INFO": 131072
             }
            },
            {
             "captionPath": [
              "AllMember",
              "FC Porto"
             ],
             "namePath": [
              "AllMember",
              "FC Porto"
             ],
             "properties": {
              "DISPLAY_INFO": 131072
             }
            }
           ],
           [
            {
             "captionPath": [
              "AllMember",
              "SPORTS"
             ],
             "namePath": [
              "AllMember",
              "SPORTS"
             ],
             "properties": {
              "DISPLAY_INFO": 131072
             }
            },
            {
             "captionPath": [
              "AllMember",
              "FK Željezničar"
             ],
             "namePath": [
              "AllMember",
              "FK Željezničar"
             ],
             "properties": {
              "DISPLAY_INFO": 131072
             }
            }
           ],
           [
            {
             "captionPath": [
              "AllMember",
              "SPORTS"
             ],
             "namePath": [
              "AllMember",
              "SPORTS"
             ],
             "properties": {
              "DISPLAY_INFO": 131072
             }
            },
            {
             "captionPath": [
              "AllMember",
              "FK Crvena zvezda"
             ],
             "namePath": [
              "AllMember",
              "FK Crvena zvezda"
             ],
             "properties": {
              "DISPLAY_INFO": 131072
             }
            }
           ],
           [
            {
             "captionPath": [
              "AllMember",
              "SPORTS"
             ],
             "namePath": [
              "AllMember",
              "SPORTS"
             ],
             "properties": {
              "DISPLAY_INFO": 131072
             }
            },
            {
             "captionPath": [
              "AllMember",
              "Burnley FC"
             ],
             "namePath": [
              "AllMember",
              "Burnley FC"
             ],
             "properties": {
              "DISPLAY_INFO": 131072
             }
            }
           ],
           [
            {
             "captionPath": [
              "AllMember",
              "SPORTS"
             ],
             "namePath": [
              "AllMember",
              "SPORTS"
             ],
             "properties": {
              "DISPLAY_INFO": 131072
             }
            },
            {
             "captionPath": [
              "AllMember",
              "Las Vegas Lights FC"
             ],
             "namePath": [
              "AllMember",
              "Las Vegas Lights FC"
             ],
             "properties": {
              "DISPLAY_INFO": 131072
             }
            }
           ],
           [
            {
             "captionPath": [
              "AllMember",
              "SPORTS"
             ],
             "namePath": [
              "AllMember",
              "SPORTS"
             ],
             "properties": {
              "DISPLAY_INFO": 131072
             }
            },
            {
             "captionPath": [
              "AllMember",
              "Barca News - FC Barcelona, World Foot & Transfers"
             ],
             "namePath": [
              "AllMember",
              "Barca News - FC Barcelona, World Foot & Transfers"
             ],
             "properties": {
              "DISPLAY_INFO": 131072
             }
            }
           ],
           [
            {
             "captionPath": [
              "AllMember",
              "AUTO_AND_VEHICLES"
             ],
             "namePath": [
              "AllMember",
              "AUTO_AND_VEHICLES"
             ],
             "properties": {
              "DISPLAY_INFO": 131072
             }
            },
            {
             "captionPath": [
              "AllMember",
              "Tickets  PDA 2018 Exam"
             ],
             "namePath": [
              "AllMember",
              "Tickets  PDA 2018 Exam"
             ],
             "properties": {
              "DISPLAY_INFO": 131072
             }
            }
           ],
           [
            {
             "captionPath": [
              "AllMember",
              "AUTO_AND_VEHICLES"
             ],
             "namePath": [
              "AllMember",
              "AUTO_AND_VEHICLES"
             ],
             "properties": {
              "DISPLAY_INFO": 131072
             }
            },
            {
             "captionPath": [
              "AllMember",
              "Tickets SDA 2018 and Exam from the State Traffic Safety Inspectorate with Drom.ru"
             ],
             "namePath": [
              "AllMember",
              "Tickets SDA 2018 and Exam from the State Traffic Safety Inspectorate with Drom.ru"
             ],
             "properties": {
              "DISPLAY_INFO": 131072
             }
            }
           ],
           [
            {
             "captionPath": [
              "AllMember",
              "AUTO_AND_VEHICLES"
             ],
             "namePath": [
              "AllMember",
              "AUTO_AND_VEHICLES"
             ],
             "properties": {
              "DISPLAY_INFO": 131072
             }
            },
            {
             "captionPath": [
              "AllMember",
              "CDL Practice Test 2018 Edition"
             ],
             "namePath": [
              "AllMember",
              "CDL Practice Test 2018 Edition"
             ],
             "properties": {
              "DISPLAY_INFO": 131072
             }
            }
           ],
           [
            {
             "captionPath": [
              "AllMember",
              "AUTO_AND_VEHICLES"
             ],
             "namePath": [
              "AllMember",
              "AUTO_AND_VEHICLES"
             ],
             "properties": {
              "DISPLAY_INFO": 131072
             }
            },
            {
             "captionPath": [
              "AllMember",
              "DMV Permit Practice Test 2018 Edition"
             ],
             "namePath": [
              "AllMember",
              "DMV Permit Practice Test 2018 Edition"
             ],
             "properties": {
              "DISPLAY_INFO": 131072
             }
            }
           ],
           [
            {
             "captionPath": [
              "AllMember",
              "AUTO_AND_VEHICLES"
             ],
             "namePath": [
              "AllMember",
              "AUTO_AND_VEHICLES"
             ],
             "properties": {
              "DISPLAY_INFO": 131072
             }
            },
            {
             "captionPath": [
              "AllMember",
              "MHD F-Series"
             ],
             "namePath": [
              "AllMember",
              "MHD F-Series"
             ],
             "properties": {
              "DISPLAY_INFO": 131072
             }
            }
           ],
           [
            {
             "captionPath": [
              "AllMember",
              "AUTO_AND_VEHICLES"
             ],
             "namePath": [
              "AllMember",
              "AUTO_AND_VEHICLES"
             ],
             "properties": {
              "DISPLAY_INFO": 131072
             }
            },
            {
             "captionPath": [
              "AllMember",
              "Fines of the State Traffic Safety Inspectorate are official: inspection, payment of fines"
             ],
             "namePath": [
              "AllMember",
              "Fines of the State Traffic Safety Inspectorate are official: inspection, payment of fines"
             ],
             "properties": {
              "DISPLAY_INFO": 131072
             }
            }
           ],
           [
            {
             "captionPath": [
              "AllMember",
              "AUTO_AND_VEHICLES"
             ],
             "namePath": [
              "AllMember",
              "AUTO_AND_VEHICLES"
             ],
             "properties": {
              "DISPLAY_INFO": 131072
             }
            },
            {
             "captionPath": [
              "AllMember",
              "Tickets SDA 2019  Exam RF"
             ],
             "namePath": [
              "AllMember",
              "Tickets SDA 2019  Exam RF"
             ],
             "properties": {
              "DISPLAY_INFO": 131072
             }
            }
           ],
           [
            {
             "captionPath": [
              "AllMember",
              "AUTO_AND_VEHICLES"
             ],
             "namePath": [
              "AllMember",
              "AUTO_AND_VEHICLES"
             ],
             "properties": {
              "DISPLAY_INFO": 131072
             }
            },
            {
             "captionPath": [
              "AllMember",
              "PDD-UA"
             ],
             "namePath": [
              "AllMember",
              "PDD-UA"
             ],
             "properties": {
              "DISPLAY_INFO": 131072
             }
            }
           ],
           [
            {
             "captionPath": [
              "AllMember",
              "AUTO_AND_VEHICLES"
             ],
             "namePath": [
              "AllMember",
              "AUTO_AND_VEHICLES"
             ],
             "properties": {
              "DISPLAY_INFO": 131072
             }
            },
            {
             "captionPath": [
              "AllMember",
              "BH Patrole"
             ],
             "namePath": [
              "AllMember",
              "BH Patrole"
             ],
             "properties": {
              "DISPLAY_INFO": 131072
             }
            }
           ],
           [
            {
             "captionPath": [
              "AllMember",
              "AUTO_AND_VEHICLES"
             ],
             "namePath": [
              "AllMember",
              "AUTO_AND_VEHICLES"
             ],
             "properties": {
              "DISPLAY_INFO": 131072
             }
            },
            {
             "captionPath": [
              "AllMember",
              "BG Products"
             ],
             "namePath": [
              "AllMember",
              "BG Products"
             ],
             "properties": {
              "DISPLAY_INFO": 131072
             }
            }
           ],
           [
            {
             "captionPath": [
              "AllMember",
              "FAMILY"
             ],
             "namePath": [
              "AllMember",
              "FAMILY"
             ],
             "properties": {
              "DISPLAY_INFO": 131072
             }
            },
            {
             "captionPath": [
              "AllMember",
              "Accounting Quiz (AQ) Malaysia"
             ],
             "namePath": [
              "AllMember",
              "Accounting Quiz (AQ) Malaysia"
             ],
             "properties": {
              "DISPLAY_INFO": 131072
             }
            }
           ],
           [
            {
             "captionPath": [
              "AllMember",
              "FAMILY"
             ],
             "namePath": [
              "AllMember",
              "FAMILY"
             ],
             "properties": {
              "DISPLAY_INFO": 131072
             }
            },
            {
             "captionPath": [
              "AllMember",
              "BK Video Status"
             ],
             "namePath": [
              "AllMember",
              "BK Video Status"
             ],
             "properties": {
              "DISPLAY_INFO": 131072
             }
            }
           ],
           [
            {
             "captionPath": [
              "AllMember",
              "FAMILY"
             ],
             "namePath": [
              "AllMember",
              "FAMILY"
             ],
             "properties": {
              "DISPLAY_INFO": 131072
             }
            },
            {
             "captionPath": [
              "AllMember",
              "BV Sridhara Maharaj"
             ],
             "namePath": [
              "AllMember",
              "BV Sridhara Maharaj"
             ],
             "properties": {
              "DISPLAY_INFO": 131072
             }
            }
           ],
           [
            {
             "captionPath": [
              "AllMember",
              "FAMILY"
             ],
             "namePath": [
              "AllMember",
              "FAMILY"
             ],
             "properties": {
              "DISPLAY_INFO": 131072
             }
            },
            {
             "captionPath": [
              "AllMember",
              "BU Study"
             ],
             "namePath": [
              "AllMember",
              "BU Study"
             ],
             "properties": {
              "DISPLAY_INFO": 131072
             }
            }
           ],
           [
            {
             "captionPath": [
              "AllMember",
              "FAMILY"
             ],
             "namePath": [
              "AllMember",
              "FAMILY"
             ],
             "properties": {
              "DISPLAY_INFO": 131072
             }
            },
            {
             "captionPath": [
              "AllMember",
              "BM SPM Practice"
             ],
             "namePath": [
              "AllMember",
              "BM SPM Practice"
             ],
             "properties": {
              "DISPLAY_INFO": 131072
             }
            }
           ],
           [
            {
             "captionPath": [
              "AllMember",
              "FAMILY"
             ],
             "namePath": [
              "AllMember",
              "FAMILY"
             ],
             "properties": {
              "DISPLAY_INFO": 131072
             }
            },
            {
             "captionPath": [
              "AllMember",
              "AQ Ria Retail"
             ],
             "namePath": [
              "AllMember",
              "AQ Ria Retail"
             ],
             "properties": {
              "DISPLAY_INFO": 131072
             }
            }
           ],
           [
            {
             "captionPath": [
              "AllMember",
              "FAMILY"
             ],
             "namePath": [
              "AllMember",
              "FAMILY"
             ],
             "properties": {
              "DISPLAY_INFO": 131072
             }
            },
            {
             "captionPath": [
              "AllMember",
              "AP® Guide"
             ],
             "namePath": [
              "AllMember",
              "AP® Guide"
             ],
             "properties": {
              "DISPLAY_INFO": 131072
             }
            }
           ],
           [
            {
             "captionPath": [
              "AllMember",
              "FAMILY"
             ],
             "namePath": [
              "AllMember",
              "FAMILY"
             ],
             "properties": {
              "DISPLAY_INFO": 131072
             }
            },
            {
             "captionPath": [
              "AllMember",
              "30WPM Amateur ham radio Koch CW Morse code trainer"
             ],
             "namePath": [
              "AllMember",
              "30WPM Amateur ham radio Koch CW Morse code trainer"
             ],
             "properties": {
              "DISPLAY_INFO": 131072
             }
            }
           ],
           [
            {
             "captionPath": [
              "AllMember",
              "FAMILY"
             ],
             "namePath": [
              "AllMember",
              "FAMILY"
             ],
             "properties": {
              "DISPLAY_INFO": 131072
             }
            },
            {
             "captionPath": [
              "AllMember",
              "AJ Rafael Music Lessons"
             ],
             "namePath": [
              "AllMember",
              "AJ Rafael Music Lessons"
             ],
             "properties": {
              "DISPLAY_INFO": 131072
             }
            }
           ],
           [
            {
             "captionPath": [
              "AllMember",
              "FAMILY"
             ],
             "namePath": [
              "AllMember",
              "FAMILY"
             ],
             "properties": {
              "DISPLAY_INFO": 131072
             }
            },
            {
             "captionPath": [
              "AllMember",
              "AP Art History Flashcards"
             ],
             "namePath": [
              "AllMember",
              "AP Art History Flashcards"
             ],
             "properties": {
              "DISPLAY_INFO": 131072
             }
            }
           ],
           [
            {
             "captionPath": [
              "AllMember",
              "PRODUCTIVITY"
             ],
             "namePath": [
              "AllMember",
              "PRODUCTIVITY"
             ],
             "properties": {
              "DISPLAY_INFO": 131072
             }
            },
            {
             "captionPath": [
              "AllMember",
              "Ek Vote"
             ],
             "namePath": [
              "AllMember",
              "Ek Vote"
             ],
             "properties": {
              "DISPLAY_INFO": 131072
             }
            }
           ],
           [
            {
             "captionPath": [
              "AllMember",
              "PRODUCTIVITY"
             ],
             "namePath": [
              "AllMember",
              "PRODUCTIVITY"
             ],
             "properties": {
              "DISPLAY_INFO": 131072
             }
            },
            {
             "captionPath": [
              "AllMember",
              "EB Scanner"
             ],
             "namePath": [
              "AllMember",
              "EB Scanner"
             ],
             "properties": {
              "DISPLAY_INFO": 131072
             }
            }
           ],
           [
            {
             "captionPath": [
              "AllMember",
              "PRODUCTIVITY"
             ],
             "namePath": [
              "AllMember",
              "PRODUCTIVITY"
             ],
             "properties": {
              "DISPLAY_INFO": 131072
             }
            },
            {
             "captionPath": [
              "AllMember",
              "iReadMe"
             ],
             "namePath": [
              "AllMember",
              "iReadMe"
             ],
             "properties": {
              "DISPLAY_INFO": 131072
             }
            }
           ],
           [
            {
             "captionPath": [
              "AllMember",
              "PRODUCTIVITY"
             ],
             "namePath": [
              "AllMember",
              "PRODUCTIVITY"
             ],
             "properties": {
              "DISPLAY_INFO": 131072
             }
            },
            {
             "captionPath": [
              "AllMember",
              "CJ'S TIRE AND AUTO INC."
             ],
             "namePath": [
              "AllMember",
              "CJ'S TIRE AND AUTO INC."
             ],
             "properties": {
              "DISPLAY_INFO": 131072
             }
            }
           ],
           [
            {
             "captionPath": [
              "AllMember",
              "PRODUCTIVITY"
             ],
             "namePath": [
              "AllMember",
              "PRODUCTIVITY"
             ],
             "properties": {
              "DISPLAY_INFO": 131072
             }
            },
            {
             "captionPath": [
              "AllMember",
              "BV Mobile Apps"
             ],
             "namePath": [
              "AllMember",
              "BV Mobile Apps"
             ],
             "properties": {
              "DISPLAY_INFO": 131072
             }
            }
           ],
           [
            {
             "captionPath": [
              "AllMember",
              "PRODUCTIVITY"
             ],
             "namePath": [
              "AllMember",
              "PRODUCTIVITY"
             ],
             "properties": {
              "DISPLAY_INFO": 131072
             }
            },
            {
             "captionPath": [
              "AllMember",
              "ER Assist"
             ],
             "namePath": [
              "AllMember",
              "ER Assist"
             ],
             "properties": {
              "DISPLAY_INFO": 131072
             }
            }
           ],
           [
            {
             "captionPath": [
              "AllMember",
              "PRODUCTIVITY"
             ],
             "namePath": [
              "AllMember",
              "PRODUCTIVITY"
             ],
             "properties": {
              "DISPLAY_INFO": 131072
             }
            },
            {
             "captionPath": [
              "AllMember",
              "DL Image Manager"
             ],
             "namePath": [
              "AllMember",
              "DL Image Manager"
             ],
             "properties": {
              "DISPLAY_INFO": 131072
             }
            }
           ],
           [
            {
             "captionPath": [
              "AllMember",
              "PRODUCTIVITY"
             ],
             "namePath": [
              "AllMember",
              "PRODUCTIVITY"
             ],
             "properties": {
              "DISPLAY_INFO": 131072
             }
            },
            {
             "captionPath": [
              "AllMember",
              "ES Billing System (Offline App)"
             ],
             "namePath": [
              "AllMember",
              "ES Billing System (Offline App)"
             ],
             "properties": {
              "DISPLAY_INFO": 131072
             }
            }
           ],
           [
            {
             "captionPath": [
              "AllMember",
              "PRODUCTIVITY"
             ],
             "namePath": [
              "AllMember",
              "PRODUCTIVITY"
             ],
             "properties": {
              "DISPLAY_INFO": 131072
             }
            },
            {
             "captionPath": [
              "AllMember",
              "Sai Baba - Sabka Malik Ek"
             ],
             "namePath": [
              "AllMember",
              "Sai Baba - Sabka Malik Ek"
             ],
             "properties": {
              "DISPLAY_INFO": 131072
             }
            }
           ],
           [
            {
             "captionPath": [
              "AllMember",
              "PRODUCTIVITY"
             ],
             "namePath": [
              "AllMember",
              "PRODUCTIVITY"
             ],
             "properties": {
              "DISPLAY_INFO": 131072
             }
            },
            {
             "captionPath": [
              "AllMember",
              "DF-Server Mobile"
             ],
             "namePath": [
              "AllMember",
              "DF-Server Mobile"
             ],
             "properties": {
              "DISPLAY_INFO": 131072
             }
            }
           ],
           [
            {
             "captionPath": [
              "AllMember",
              "COMICS"
             ],
             "namePath": [
              "AllMember",
              "COMICS"
             ],
             "properties": {
              "DISPLAY_INFO": 131072
             }
            },
            {
             "captionPath": [
              "AllMember",
              "Superheroes, Marvel, DC, Comics, TV, Movies News"
             ],
             "namePath": [
              "AllMember",
              "Superheroes, Marvel, DC, Comics, TV, Movies News"
             ],
             "properties": {
              "DISPLAY_INFO": 131072
             }
            }
           ],
           [
            {
             "captionPath": [
              "AllMember",
              "COMICS"
             ],
             "namePath": [
              "AllMember",
              "COMICS"
             ],
             "properties": {
              "DISPLAY_INFO": 131072
             }
            },
            {
             "captionPath": [
              "AllMember",
              "Hojiboy Tojiboyev Life Hacks"
             ],
             "namePath": [
              "AllMember",
              "Hojiboy Tojiboyev Life Hacks"
             ],
             "properties": {
              "DISPLAY_INFO": 131072
             }
            }
           ],
           [
            {
             "captionPath": [
              "AllMember",
              "COMICS"
             ],
             "namePath": [
              "AllMember",
              "COMICS"
             ],
             "properties": {
              "DISPLAY_INFO": 131072
             }
            },
            {
             "captionPath": [
              "AllMember",
              "WebComics"
             ],
             "namePath": [
              "AllMember",
              "WebComics"
             ],
             "properties": {
              "DISPLAY_INFO": 131072
             }
            }
           ],
           [
            {
             "captionPath": [
              "AllMember",
              "COMICS"
             ],
             "namePath": [
              "AllMember",
              "COMICS"
             ],
             "properties": {
              "DISPLAY_INFO": 131072
             }
            },
            {
             "captionPath": [
              "AllMember",
              "Unicorn Pokez - Color By Number"
             ],
             "namePath": [
              "AllMember",
              "Unicorn Pokez - Color By Number"
             ],
             "properties": {
              "DISPLAY_INFO": 131072
             }
            }
           ],
           [
            {
             "captionPath": [
              "AllMember",
              "COMICS"
             ],
             "namePath": [
              "AllMember",
              "COMICS"
             ],
             "properties": {
              "DISPLAY_INFO": 131072
             }
            },
            {
             "captionPath": [
              "AllMember",
              "GANMA! - All original stories free of charge for all original comics"
             ],
             "namePath": [
              "AllMember",
              "GANMA! - All original stories free of charge for all original comics"
             ],
             "properties": {
              "DISPLAY_INFO": 131072
             }
            }
           ],
           [
            {
             "captionPath": [
              "AllMember",
              "COMICS"
             ],
             "namePath": [
              "AllMember",
              "COMICS"
             ],
             "properties": {
              "DISPLAY_INFO": 131072
             }
            },
            {
             "captionPath": [
              "AllMember",
              "Best Wallpapers Backgrounds(100,000 4K HD)"
             ],
             "namePath": [
              "AllMember",
              "Best Wallpapers Backgrounds(100,000 4K HD)"
             ],
             "properties": {
              "DISPLAY_INFO": 131072
             }
            }
           ],
           [
            {
             "captionPath": [
              "AllMember",
              "COMICS"
             ],
             "namePath": [
              "AllMember",
              "COMICS"
             ],
             "properties": {
              "DISPLAY_INFO": 131072
             }
            },
            {
             "captionPath": [
              "AllMember",
              "Röhrich Werner Soundboard"
             ],
             "namePath": [
              "AllMember",
              "Röhrich Werner Soundboard"
             ],
             "properties": {
              "DISPLAY_INFO": 131072
             }
            }
           ],
           [
            {
             "captionPath": [
              "AllMember",
              "COMICS"
             ],
             "namePath": [
              "AllMember",
              "COMICS"
             ],
             "properties": {
              "DISPLAY_INFO": 131072
             }
            },
            {
             "captionPath": [
              "AllMember",
              "Faustop Sounds"
             ],
             "namePath": [
              "AllMember",
              "Faustop Sounds"
             ],
             "properties": {
              "DISPLAY_INFO": 131072
             }
            }
           ],
           [
            {
             "captionPath": [
              "AllMember",
              "COMICS"
             ],
             "namePath": [
              "AllMember",
              "COMICS"
             ],
             "properties": {
              "DISPLAY_INFO": 131072
             }
            },
            {
             "captionPath": [
              "AllMember",
              "Dragon Ball Wallpaper - Ringtones"
             ],
             "namePath": [
              "AllMember",
              "Dragon Ball Wallpaper - Ringtones"
             ],
             "properties": {
              "DISPLAY_INFO": 131072
             }
            }
           ],
           [
            {
             "captionPath": [
              "AllMember",
              "COMICS"
             ],
             "namePath": [
              "AllMember",
              "COMICS"
             ],
             "properties": {
              "DISPLAY_INFO": 131072
             }
            },
            {
             "captionPath": [
              "AllMember",
              "Children's cartoons (Mithu-Mina-Raju)"
             ],
             "namePath": [
              "AllMember",
              "Children's cartoons (Mithu-Mina-Raju)"
             ],
             "properties": {
              "DISPLAY_INFO": 131072
             }
            }
           ],
           [
            {
             "captionPath": [
              "AllMember",
              "LIBRARIES_AND_DEMO"
             ],
             "namePath": [
              "AllMember",
              "LIBRARIES_AND_DEMO"
             ],
             "properties": {
              "DISPLAY_INFO": 131072
             }
            },
            {
             "captionPath": [
              "AllMember",
              "Eternal life"
             ],
             "namePath": [
              "AllMember",
              "Eternal life"
             ],
             "properties": {
              "DISPLAY_INFO": 131072
             }
            }
           ],
           [
            {
             "captionPath": [
              "AllMember",
              "LIBRARIES_AND_DEMO"
             ],
             "namePath": [
              "AllMember",
              "LIBRARIES_AND_DEMO"
             ],
             "properties": {
              "DISPLAY_INFO": 131072
             }
            },
            {
             "captionPath": [
              "AllMember",
              "Nur təfsiri 1-ci cild"
             ],
             "namePath": [
              "AllMember",
              "Nur təfsiri 1-ci cild"
             ],
             "properties": {
              "DISPLAY_INFO": 131072
             }
            }
           ],
           [
            {
             "captionPath": [
              "AllMember",
              "LIBRARIES_AND_DEMO"
             ],
             "namePath": [
              "AllMember",
              "LIBRARIES_AND_DEMO"
             ],
             "properties": {
              "DISPLAY_INFO": 131072
             }
            },
            {
             "captionPath": [
              "AllMember",
              "Girls Nancy Ajram Without Net"
             ],
             "namePath": [
              "AllMember",
              "Girls Nancy Ajram Without Net"
             ],
             "properties": {
              "DISPLAY_INFO": 131072
             }
            }
           ],
           [
            {
             "captionPath": [
              "AllMember",
              "LIBRARIES_AND_DEMO"
             ],
             "namePath": [
              "AllMember",
              "LIBRARIES_AND_DEMO"
             ],
             "properties": {
              "DISPLAY_INFO": 131072
             }
            },
            {
             "captionPath": [
              "AllMember",
              "Blackpink as if it's your last"
             ],
             "namePath": [
              "AllMember",
              "Blackpink as if it's your last"
             ],
             "properties": {
              "DISPLAY_INFO": 131072
             }
            }
           ],
           [
            {
             "captionPath": [
              "AllMember",
              "LIBRARIES_AND_DEMO"
             ],
             "namePath": [
              "AllMember",
              "LIBRARIES_AND_DEMO"
             ],
             "properties": {
              "DISPLAY_INFO": 131072
             }
            },
            {
             "captionPath": [
              "AllMember",
              "Call Recorder"
             ],
             "namePath": [
              "AllMember",
              "Call Recorder"
             ],
             "properties": {
              "DISPLAY_INFO": 131072
             }
            }
           ],
           [
            {
             "captionPath": [
              "AllMember",
              "LIBRARIES_AND_DEMO"
             ],
             "namePath": [
              "AllMember",
              "LIBRARIES_AND_DEMO"
             ],
             "properties": {
              "DISPLAY_INFO": 131072
             }
            },
            {
             "captionPath": [
              "AllMember",
              "Best New Ringtones 2018 Free 🔥 For Android™"
             ],
             "namePath": [
              "AllMember",
              "Best New Ringtones 2018 Free 🔥 For Android™"
             ],
             "properties": {
              "DISPLAY_INFO": 131072
             }
            }
           ],
           [
            {
             "captionPath": [
              "AllMember",
              "LIBRARIES_AND_DEMO"
             ],
             "namePath": [
              "AllMember",
              "LIBRARIES_AND_DEMO"
             ],
             "properties": {
              "DISPLAY_INFO": 131072
             }
            },
            {
             "captionPath": [
              "AllMember",
              "MOMOLAND BBoom BBoom"
             ],
             "namePath": [
              "AllMember",
              "MOMOLAND BBoom BBoom"
             ],
             "properties": {
              "DISPLAY_INFO": 131072
             }
            }
           ],
           [
            {
             "captionPath": [
              "AllMember",
              "LIBRARIES_AND_DEMO"
             ],
             "namePath": [
              "AllMember",
              "LIBRARIES_AND_DEMO"
             ],
             "properties": {
              "DISPLAY_INFO": 131072
             }
            },
            {
             "captionPath": [
              "AllMember",
              "Chakra Cleansing"
             ],
             "namePath": [
              "AllMember",
              "Chakra Cleansing"
             ],
             "properties": {
              "DISPLAY_INFO": 131072
             }
            }
           ],
           [
            {
             "captionPath": [
              "AllMember",
              "LIBRARIES_AND_DEMO"
             ],
             "namePath": [
              "AllMember",
              "LIBRARIES_AND_DEMO"
             ],
             "properties": {
              "DISPLAY_INFO": 131072
             }
            },
            {
             "captionPath": [
              "AllMember",
              "Essential Resources"
             ],
             "namePath": [
              "AllMember",
              "Essential Resources"
             ],
             "properties": {
              "DISPLAY_INFO": 131072
             }
            }
           ],
           [
            {
             "captionPath": [
              "AllMember",
              "LIBRARIES_AND_DEMO"
             ],
             "namePath": [
              "AllMember",
              "LIBRARIES_AND_DEMO"
             ],
             "properties": {
              "DISPLAY_INFO": 131072
             }
            },
            {
             "captionPath": [
              "AllMember",
              "Bird Sounds & Bird Ringtones for Free 2018"
             ],
             "namePath": [
              "AllMember",
              "Bird Sounds & Bird Ringtones for Free 2018"
             ],
             "properties": {
              "DISPLAY_INFO": 131072
             }
            }
           ],
           [
            {
             "captionPath": [
              "AllMember",
              "FOOD_AND_DRINK"
             ],
             "namePath": [
              "AllMember",
              "FOOD_AND_DRINK"
             ],
             "properties": {
              "DISPLAY_INFO": 131072
             }
            },
            {
             "captionPath": [
              "AllMember",
              "Bar-B-Q Rib House"
             ],
             "namePath": [
              "AllMember",
              "Bar-B-Q Rib House"
             ],
             "properties": {
              "DISPLAY_INFO": 131072
             }
            }
           ],
           [
            {
             "captionPath": [
              "AllMember",
              "FOOD_AND_DRINK"
             ],
             "namePath": [
              "AllMember",
              "FOOD_AND_DRINK"
             ],
             "properties": {
              "DISPLAY_INFO": 131072
             }
            },
            {
             "captionPath": [
              "AllMember",
              "Food-Aw - Order Food Online in Aruba"
             ],
             "namePath": [
              "AllMember",
              "Food-Aw - Order Food Online in Aruba"
             ],
             "properties": {
              "DISPLAY_INFO": 131072
             }
            }
           ],
           [
            {
             "captionPath": [
              "AllMember",
              "FOOD_AND_DRINK"
             ],
             "namePath": [
              "AllMember",
              "FOOD_AND_DRINK"
             ],
             "properties": {
              "DISPLAY_INFO": 131072
             }
            },
            {
             "captionPath": [
              "AllMember",
              "SarashpazPapion (Cooking with Chef Bowls)"
             ],
             "namePath": [
              "AllMember",
              "SarashpazPapion (Cooking with Chef Bowls)"
             ],
             "properties": {
              "DISPLAY_INFO": 131072
             }
            }
           ],
           [
            {
             "captionPath": [
              "AllMember",
              "FOOD_AND_DRINK"
             ],
             "namePath": [
              "AllMember",
              "FOOD_AND_DRINK"
             ],
             "properties": {
              "DISPLAY_INFO": 131072
             }
            },
            {
             "captionPath": [
              "AllMember",
              "Bar-B-Q Recipes"
             ],
             "namePath": [
              "AllMember",
              "Bar-B-Q Recipes"
             ],
             "properties": {
              "DISPLAY_INFO": 131072
             }
            }
           ],
           [
            {
             "captionPath": [
              "AllMember",
              "FOOD_AND_DRINK"
             ],
             "namePath": [
              "AllMember",
              "FOOD_AND_DRINK"
             ],
             "properties": {
              "DISPLAY_INFO": 131072
             }
            },
            {
             "captionPath": [
              "AllMember",
              "Domino's Pizza USA"
             ],
             "namePath": [
              "AllMember",
              "Domino's Pizza USA"
             ],
             "properties": {
              "DISPLAY_INFO": 131072
             }
            }
           ],
           [
            {
             "captionPath": [
              "AllMember",
              "FOOD_AND_DRINK"
             ],
             "namePath": [
              "AllMember",
              "FOOD_AND_DRINK"
             ],
             "properties": {
              "DISPLAY_INFO": 131072
             }
            },
            {
             "captionPath": [
              "AllMember",
              "Delicious Recipes"
             ],
             "namePath": [
              "AllMember",
              "Delicious Recipes"
             ],
             "properties": {
              "DISPLAY_INFO": 131072
             }
            }
           ],
           [
            {
             "captionPath": [
              "AllMember",
              "FOOD_AND_DRINK"
             ],
             "namePath": [
              "AllMember",
              "FOOD_AND_DRINK"
             ],
             "properties": {
              "DISPLAY_INFO": 131072
             }
            },
            {
             "captionPath": [
              "AllMember",
              "BeyondMenu Food Delivery"
             ],
             "namePath": [
              "AllMember",
              "BeyondMenu Food Delivery"
             ],
             "properties": {
              "DISPLAY_INFO": 131072
             }
            }
           ],
           [
            {
             "captionPath": [
              "AllMember",
              "FOOD_AND_DRINK"
             ],
             "namePath": [
              "AllMember",
              "FOOD_AND_DRINK"
             ],
             "properties": {
              "DISPLAY_INFO": 131072
             }
            },
            {
             "captionPath": [
              "AllMember",
              "Recipes Pastries and homemade pies More than 500 recipes for pastries"
             ],
             "namePath": [
              "AllMember",
              "Recipes Pastries and homemade pies More than 500 recipes for pastries"
             ],
             "properties": {
              "DISPLAY_INFO": 131072
             }
            }
           ],
           [
            {
             "captionPath": [
              "AllMember",
              "FOOD_AND_DRINK"
             ],
             "namePath": [
              "AllMember",
              "FOOD_AND_DRINK"
             ],
             "properties": {
              "DISPLAY_INFO": 131072
             }
            },
            {
             "captionPath": [
              "AllMember",
              "Pastry & Cooking (Without Net)"
             ],
             "namePath": [
              "AllMember",
              "Pastry & Cooking (Without Net)"
             ],
             "properties": {
              "DISPLAY_INFO": 131072
             }
            }
           ],
           [
            {
             "captionPath": [
              "AllMember",
              "FOOD_AND_DRINK"
             ],
             "namePath": [
              "AllMember",
              "FOOD_AND_DRINK"
             ],
             "properties": {
              "DISPLAY_INFO": 131072
             }
            },
            {
             "captionPath": [
              "AllMember",
              "Easy Recipes"
             ],
             "namePath": [
              "AllMember",
              "Easy Recipes"
             ],
             "properties": {
              "DISPLAY_INFO": 131072
             }
            }
           ],
           [
            {
             "captionPath": [
              "AllMember",
              "MEDICAL"
             ],
             "namePath": [
              "AllMember",
              "MEDICAL"
             ],
             "properties": {
              "DISPLAY_INFO": 131072
             }
            },
            {
             "captionPath": [
              "AllMember",
              "BP Journal - Blood Pressure Diary"
             ],
             "namePath": [
              "AllMember",
              "BP Journal - Blood Pressure Diary"
             ],
             "properties": {
              "DISPLAY_INFO": 131072
             }
            }
           ],
           [
            {
             "captionPath": [
              "AllMember",
              "MEDICAL"
             ],
             "namePath": [
              "AllMember",
              "MEDICAL"
             ],
             "properties": {
              "DISPLAY_INFO": 131072
             }
            },
            {
             "captionPath": [
              "AllMember",
              "CARDIAC CT TECHNIQUE"
             ],
             "namePath": [
              "AllMember",
              "CARDIAC CT TECHNIQUE"
             ],
             "properties": {
              "DISPLAY_INFO": 131072
             }
            }
           ],
           [
            {
             "captionPath": [
              "AllMember",
              "MEDICAL"
             ],
             "namePath": [
              "AllMember",
              "MEDICAL"
             ],
             "properties": {
              "DISPLAY_INFO": 131072
             }
            },
            {
             "captionPath": [
              "AllMember",
              "CT Cervical Spine"
             ],
             "namePath": [
              "AllMember",
              "CT Cervical Spine"
             ],
             "properties": {
              "DISPLAY_INFO": 131072
             }
            }
           ],
           [
            {
             "captionPath": [
              "AllMember",
              "MEDICAL"
             ],
             "namePath": [
              "AllMember",
              "MEDICAL"
             ],
             "properties": {
              "DISPLAY_INFO": 131072
             }
            },
            {
             "captionPath": [
              "AllMember",
              "Arrowhead AH App"
             ],
             "namePath": [
              "AllMember",
              "Arrowhead AH App"
             ],
             "properties": {
              "DISPLAY_INFO": 131072
             }
            }
           ],
           [
            {
             "captionPath": [
              "AllMember",
              "MEDICAL"
             ],
             "namePath": [
              "AllMember",
              "MEDICAL"
             ],
             "properties": {
              "DISPLAY_INFO": 131072
             }
            },
            {
             "captionPath": [
              "AllMember",
              "420 BZ Budeze Delivery"
             ],
             "namePath": [
              "AllMember",
              "420 BZ Budeze Delivery"
             ],
             "properties": {
              "DISPLAY_INFO": 131072
             }
            }
           ],
           [
            {
             "captionPath": [
              "AllMember",
              "MEDICAL"
             ],
             "namePath": [
              "AllMember",
              "MEDICAL"
             ],
             "properties": {
              "DISPLAY_INFO": 131072
             }
            },
            {
             "captionPath": [
              "AllMember",
              "Asha Ek Hope - ALS/ MND"
             ],
             "namePath": [
              "AllMember",
              "Asha Ek Hope - ALS/ MND"
             ],
             "properties": {
              "DISPLAY_INFO": 131072
             }
            }
           ],
           [
            {
             "captionPath": [
              "AllMember",
              "MEDICAL"
             ],
             "namePath": [
              "AllMember",
              "MEDICAL"
             ],
             "properties": {
              "DISPLAY_INFO": 131072
             }
            },
            {
             "captionPath": [
              "AllMember",
              "Clinic Doctor EHr"
             ],
             "namePath": [
              "AllMember",
              "Clinic Doctor EHr"
             ],
             "properties": {
              "DISPLAY_INFO": 131072
             }
            }
           ],
           [
            {
             "captionPath": [
              "AllMember",
              "MEDICAL"
             ],
             "namePath": [
              "AllMember",
              "MEDICAL"
             ],
             "properties": {
              "DISPLAY_INFO": 131072
             }
            },
            {
             "captionPath": [
              "AllMember",
              "Anatomy & Physiology Vocabulary Exam Review App"
             ],
             "namePath": [
              "AllMember",
              "Anatomy & Physiology Vocabulary Exam Review App"
             ],
             "properties": {
              "DISPLAY_INFO": 131072
             }
            }
           ],
           [
            {
             "captionPath": [
              "AllMember",
              "MEDICAL"
             ],
             "namePath": [
              "AllMember",
              "MEDICAL"
             ],
             "properties": {
              "DISPLAY_INFO": 131072
             }
            },
            {
             "captionPath": [
              "AllMember",
              "Basics of Orthopaedics"
             ],
             "namePath": [
              "AllMember",
              "Basics of Orthopaedics"
             ],
             "properties": {
              "DISPLAY_INFO": 131072
             }
            }
           ],
           [
            {
             "captionPath": [
              "AllMember",
              "MEDICAL"
             ],
             "namePath": [
              "AllMember",
              "MEDICAL"
             ],
             "properties": {
              "DISPLAY_INFO": 131072
             }
            },
            {
             "captionPath": [
              "AllMember",
              "Chenoweth AH"
             ],
             "namePath": [
              "AllMember",
              "Chenoweth AH"
             ],
             "properties": {
              "DISPLAY_INFO": 131072
             }
            }
           ],
           [
            {
             "captionPath": [
              "AllMember",
              "PHOTOGRAPHY"
             ],
             "namePath": [
              "AllMember",
              "PHOTOGRAPHY"
             ],
             "properties": {
              "DISPLAY_INFO": 131072
             }
            },
            {
             "captionPath": [
              "AllMember",
              "AJ Cam"
             ],
             "namePath": [
              "AllMember",
              "AJ Cam"
             ],
             "properties": {
              "DISPLAY_INFO": 131072
             }
            }
           ],
           [
            {
             "captionPath": [
              "AllMember",
              "PHOTOGRAPHY"
             ],
             "namePath": [
              "AllMember",
              "PHOTOGRAPHY"
             ],
             "properties": {
              "DISPLAY_INFO": 131072
             }
            },
            {
             "captionPath": [
              "AllMember",
              "CB VIDEO VISION"
             ],
             "namePath": [
              "AllMember",
              "CB VIDEO VISION"
             ],
             "properties": {
              "DISPLAY_INFO": 131072
             }
            }
           ],
           [
            {
             "captionPath": [
              "AllMember",
              "PHOTOGRAPHY"
             ],
             "namePath": [
              "AllMember",
              "PHOTOGRAPHY"
             ],
             "properties": {
              "DISPLAY_INFO": 131072
             }
            },
            {
             "captionPath": [
              "AllMember",
              "DC-014"
             ],
             "namePath": [
              "AllMember",
              "DC-014"
             ],
             "properties": {
              "DISPLAY_INFO": 131072
             }
            }
           ],
           [
            {
             "captionPath": [
              "AllMember",
              "PHOTOGRAPHY"
             ],
             "namePath": [
              "AllMember",
              "PHOTOGRAPHY"
             ],
             "properties": {
              "DISPLAY_INFO": 131072
             }
            },
            {
             "captionPath": [
              "AllMember",
              "Selfie With Champion AJ Style"
             ],
             "namePath": [
              "AllMember",
              "Selfie With Champion AJ Style"
             ],
             "properties": {
              "DISPLAY_INFO": 131072
             }
            }
           ],
           [
            {
             "captionPath": [
              "AllMember",
              "PHOTOGRAPHY"
             ],
             "namePath": [
              "AllMember",
              "PHOTOGRAPHY"
             ],
             "properties": {
              "DISPLAY_INFO": 131072
             }
            },
            {
             "captionPath": [
              "AllMember",
              "CG Prints"
             ],
             "namePath": [
              "AllMember",
              "CG Prints"
             ],
             "properties": {
              "DISPLAY_INFO": 131072
             }
            }
           ],
           [
            {
             "captionPath": [
              "AllMember",
              "PHOTOGRAPHY"
             ],
             "namePath": [
              "AllMember",
              "PHOTOGRAPHY"
             ],
             "properties": {
              "DISPLAY_INFO": 131072
             }
            },
            {
             "captionPath": [
              "AllMember",
              "i am EB"
             ],
             "namePath": [
              "AllMember",
              "i am EB"
             ],
             "properties": {
              "DISPLAY_INFO": 131072
             }
            }
           ],
           [
            {
             "captionPath": [
              "AllMember",
              "PHOTOGRAPHY"
             ],
             "namePath": [
              "AllMember",
              "PHOTOGRAPHY"
             ],
             "properties": {
              "DISPLAY_INFO": 131072
             }
            },
            {
             "captionPath": [
              "AllMember",
              "Wallpaper.cz"
             ],
             "namePath": [
              "AllMember",
              "Wallpaper.cz"
             ],
             "properties": {
              "DISPLAY_INFO": 131072
             }
            }
           ],
           [
            {
             "captionPath": [
              "AllMember",
              "PHOTOGRAPHY"
             ],
             "namePath": [
              "AllMember",
              "PHOTOGRAPHY"
             ],
             "properties": {
              "DISPLAY_INFO": 131072
             }
            },
            {
             "captionPath": [
              "AllMember",
              "FreePrints – Free Photos Delivered"
             ],
             "namePath": [
              "AllMember",
              "FreePrints – Free Photos Delivered"
             ],
             "properties": {
              "DISPLAY_INFO": 131072
             }
            }
           ],
           [
            {
             "captionPath": [
              "AllMember",
              "PHOTOGRAPHY"
             ],
             "namePath": [
              "AllMember",
              "PHOTOGRAPHY"
             ],
             "properties": {
              "DISPLAY_INFO": 131072
             }
            },
            {
             "captionPath": [
              "AllMember",
              "Pocket AC"
             ],
             "namePath": [
              "AllMember",
              "Pocket AC"
             ],
             "properties": {
              "DISPLAY_INFO": 131072
             }
            }
           ],
           [
            {
             "captionPath": [
              "AllMember",
              "PHOTOGRAPHY"
             ],
             "namePath": [
              "AllMember",
              "PHOTOGRAPHY"
             ],
             "properties": {
              "DISPLAY_INFO": 131072
             }
            },
            {
             "captionPath": [
              "AllMember",
              "DU Collage Maker - Photo Collage & Grid & Layout"
             ],
             "namePath": [
              "AllMember",
              "DU Collage Maker - Photo Collage & Grid & Layout"
             ],
             "properties": {
              "DISPLAY_INFO": 131072
             }
            }
           ],
           [
            {
             "captionPath": [
              "AllMember",
              "HOUSE_AND_HOME"
             ],
             "namePath": [
              "AllMember",
              "HOUSE_AND_HOME"
             ],
             "properties": {
              "DISPLAY_INFO": 131072
             }
            },
            {
             "captionPath": [
              "AllMember",
              "Viva Decora - Decoration, Photos, Architecture, House"
             ],
             "namePath": [
              "AllMember",
              "Viva Decora - Decoration, Photos, Architecture, House"
             ],
             "properties": {
              "DISPLAY_INFO": 131072
             }
            }
           ],
           [
            {
             "captionPath": [
              "AllMember",
              "HOUSE_AND_HOME"
             ],
             "namePath": [
              "AllMember",
              "HOUSE_AND_HOME"
             ],
             "properties": {
              "DISPLAY_INFO": 131072
             }
            },
            {
             "captionPath": [
              "AllMember",
              "Ruler"
             ],
             "namePath": [
              "AllMember",
              "Ruler"
             ],
             "properties": {
              "DISPLAY_INFO": 131072
             }
            }
           ],
           [
            {
             "captionPath": [
              "AllMember",
              "HOUSE_AND_HOME"
             ],
             "namePath": [
              "AllMember",
              "HOUSE_AND_HOME"
             ],
             "properties": {
              "DISPLAY_INFO": 131072
             }
            },
            {
             "captionPath": [
              "AllMember",
              "DIY On A Budget"
             ],
             "namePath": [
              "AllMember",
              "DIY On A Budget"
             ],
             "properties": {
              "DISPLAY_INFO": 131072
             }
            }
           ],
           [
            {
             "captionPath": [
              "AllMember",
              "HOUSE_AND_HOME"
             ],
             "namePath": [
              "AllMember",
              "HOUSE_AND_HOME"
             ],
             "properties": {
              "DISPLAY_INFO": 131072
             }
            },
            {
             "captionPath": [
              "AllMember",
              "Houzz Interior Design Ideas"
             ],
             "namePath": [
              "AllMember",
              "Houzz Interior Design Ideas"
             ],
             "properties": {
              "DISPLAY_INFO": 131072
             }
            }
           ],
           [
            {
             "captionPath": [
              "AllMember",
              "HOUSE_AND_HOME"
             ],
             "namePath": [
              "AllMember",
              "HOUSE_AND_HOME"
             ],
             "properties": {
              "DISPLAY_INFO": 131072
             }
            },
            {
             "captionPath": [
              "AllMember",
              "Living Smart Home"
             ],
             "namePath": [
              "AllMember",
              "Living Smart Home"
             ],
             "properties": {
              "DISPLAY_INFO": 131072
             }
            }
           ],
           [
            {
             "captionPath": [
              "AllMember",
              "HOUSE_AND_HOME"
             ],
             "namePath": [
              "AllMember",
              "HOUSE_AND_HOME"
             ],
             "properties": {
              "DISPLAY_INFO": 131072
             }
            },
            {
             "captionPath": [
              "AllMember",
              "Redfin Real Estate"
             ],
             "namePath": [
              "AllMember",
              "Redfin Real Estate"
             ],
             "properties": {
              "DISPLAY_INFO": 131072
             }
            }
           ],
           [
            {
             "captionPath": [
              "AllMember",
              "HOUSE_AND_HOME"
             ],
             "namePath": [
              "AllMember",
              "HOUSE_AND_HOME"
             ],
             "properties": {
              "DISPLAY_INFO": 131072
             }
            },
            {
             "captionPath": [
              "AllMember",
              "House app: beautiful everyday ~"
             ],
             "namePath": [
              "AllMember",
              "House app: beautiful everyday ~"
             ],
             "properties": {
              "DISPLAY_INFO": 131072
             }
            }
           ],
           [
            {
             "captionPath": [
              "AllMember",
              "HOUSE_AND_HOME"
             ],
             "namePath": [
              "AllMember",
              "HOUSE_AND_HOME"
             ],
             "properties": {
              "DISPLAY_INFO": 131072
             }
            },
            {
             "captionPath": [
              "AllMember",
              "Alfred Home Security Camera"
             ],
             "namePath": [
              "AllMember",
              "Alfred Home Security Camera"
             ],
             "properties": {
              "DISPLAY_INFO": 131072
             }
            }
           ],
           [
            {
             "captionPath": [
              "AllMember",
              "HOUSE_AND_HOME"
             ],
             "namePath": [
              "AllMember",
              "HOUSE_AND_HOME"
             ],
             "properties": {
              "DISPLAY_INFO": 131072
             }
            },
            {
             "captionPath": [
              "AllMember",
              "Apartment List: Housing, Apt, and Property Rentals"
             ],
             "namePath": [
              "AllMember",
              "Apartment List: Housing, Apt, and Property Rentals"
             ],
             "properties": {
              "DISPLAY_INFO": 131072
             }
            }
           ],
           [
            {
             "captionPath": [
              "AllMember",
              "HOUSE_AND_HOME"
             ],
             "namePath": [
              "AllMember",
              "HOUSE_AND_HOME"
             ],
             "properties": {
              "DISPLAY_INFO": 131072
             }
            },
            {
             "captionPath": [
              "AllMember",
              "Build.com - Shop Home Improvement & Expert Advice"
             ],
             "namePath": [
              "AllMember",
              "Build.com - Shop Home Improvement & Expert Advice"
             ],
             "properties": {
              "DISPLAY_INFO": 131072
             }
            }
           ],
           [
            {
             "captionPath": [
              "AllMember",
              "ENTERTAINMENT"
             ],
             "namePath": [
              "AllMember",
              "ENTERTAINMENT"
             ],
             "properties": {
              "DISPLAY_INFO": 131072
             }
            },
            {
             "captionPath": [
              "AllMember",
              "🔥 Football Wallpapers 4K | Full HD Backgrounds 😍"
             ],
             "namePath": [
              "AllMember",
              "🔥 Football Wallpapers 4K | Full HD Backgrounds 😍"
             ],
             "properties": {
              "DISPLAY_INFO": 131072
             }
            }
           ],
           [
            {
             "captionPath": [
              "AllMember",
              "ENTERTAINMENT"
             ],
             "namePath": [
              "AllMember",
              "ENTERTAINMENT"
             ],
             "properties": {
              "DISPLAY_INFO": 131072
             }
            },
            {
             "captionPath": [
              "AllMember",
              "Twitch: Livestream Multiplayer Games & Esports"
             ],
             "namePath": [
              "AllMember",
              "Twitch: Livestream Multiplayer Games & Esports"
             ],
             "properties": {
              "DISPLAY_INFO": 131072
             }
            }
           ],
           [
            {
             "captionPath": [
              "AllMember",
              "ENTERTAINMENT"
             ],
             "namePath": [
              "AllMember",
              "ENTERTAINMENT"
             ],
             "properties": {
              "DISPLAY_INFO": 131072
             }
            },
            {
             "captionPath": [
              "AllMember",
              "Fandango Movies - Times  Tickets"
             ],
             "namePath": [
              "AllMember",
              "Fandango Movies - Times  Tickets"
             ],
             "properties": {
              "DISPLAY_INFO": 131072
             }
            }
           ],
           [
            {
             "captionPath": [
              "AllMember",
              "ENTERTAINMENT"
             ],
             "namePath": [
              "AllMember",
              "ENTERTAINMENT"
             ],
             "properties": {
              "DISPLAY_INFO": 131072
             }
            },
            {
             "captionPath": [
              "AllMember",
              "ColorFul - Adult Coloring Book"
             ],
             "namePath": [
              "AllMember",
              "ColorFul - Adult Coloring Book"
             ],
             "properties": {
              "DISPLAY_INFO": 131072
             }
            }
           ],
           [
            {
             "captionPath": [
              "AllMember",
              "ENTERTAINMENT"
             ],
             "namePath": [
              "AllMember",
              "ENTERTAINMENT"
             ],
             "properties": {
              "DISPLAY_INFO": 131072
             }
            },
            {
             "captionPath": [
              "AllMember",
              "Motorola Spotlight Player™"
             ],
             "namePath": [
              "AllMember",
              "Motorola Spotlight Player™"
             ],
             "properties": {
              "DISPLAY_INFO": 131072
             }
            }
           ],
           [
            {
             "captionPath": [
              "AllMember",
              "ENTERTAINMENT"
             ],
             "namePath": [
              "AllMember",
              "ENTERTAINMENT"
             ],
             "properties": {
              "DISPLAY_INFO": 131072
             }
            },
            {
             "captionPath": [
              "AllMember",
              "My Talking Pet"
             ],
             "namePath": [
              "AllMember",
              "My Talking Pet"
             ],
             "properties": {
              "DISPLAY_INFO": 131072
             }
            }
           ],
           [
            {
             "captionPath": [
              "AllMember",
              "ENTERTAINMENT"
             ],
             "namePath": [
              "AllMember",
              "ENTERTAINMENT"
             ],
             "properties": {
              "DISPLAY_INFO": 131072
             }
            },
            {
             "captionPath": [
              "AllMember",
              "Meme Generator"
             ],
             "namePath": [
              "AllMember",
              "Meme Generator"
             ],
             "properties": {
              "DISPLAY_INFO": 131072
             }
            }
           ],
           [
            {
             "captionPath": [
              "AllMember",
              "ENTERTAINMENT"
             ],
             "namePath": [
              "AllMember",
              "ENTERTAINMENT"
             ],
             "properties": {
              "DISPLAY_INFO": 131072
             }
            },
            {
             "captionPath": [
              "AllMember",
              "Kidjo TV Kids Have Fun & Learn"
             ],
             "namePath": [
              "AllMember",
              "Kidjo TV Kids Have Fun & Learn"
             ],
             "properties": {
              "DISPLAY_INFO": 131072
             }
            }
           ],
           [
            {
             "captionPath": [
              "AllMember",
              "ENTERTAINMENT"
             ],
             "namePath": [
              "AllMember",
              "ENTERTAINMENT"
             ],
             "properties": {
              "DISPLAY_INFO": 131072
             }
            },
            {
             "captionPath": [
              "AllMember",
              "Colorfy: Coloring Book for Adults - Free"
             ],
             "namePath": [
              "AllMember",
              "Colorfy: Coloring Book for Adults - Free"
             ],
             "properties": {
              "DISPLAY_INFO": 131072
             }
            }
           ],
           [
            {
             "captionPath": [
              "AllMember",
              "ENTERTAINMENT"
             ],
             "namePath": [
              "AllMember",
              "ENTERTAINMENT"
             ],
             "properties": {
              "DISPLAY_INFO": 131072
             }
            },
            {
             "captionPath": [
              "AllMember",
              "CW Seed"
             ],
             "namePath": [
              "AllMember",
              "CW Seed"
             ],
             "properties": {
              "DISPLAY_INFO": 131072
             }
            }
           ],
           [
            {
             "captionPath": [
              "AllMember",
              "NEWS_AND_MAGAZINES"
             ],
             "namePath": [
              "AllMember",
              "NEWS_AND_MAGAZINES"
             ],
             "properties": {
              "DISPLAY_INFO": 131072
             }
            },
            {
             "captionPath": [
              "AllMember",
              "AI Today : Artificial Intelligence News & AI 101"
             ],
             "namePath": [
              "AllMember",
              "AI Today : Artificial Intelligence News & AI 101"
             ],
             "properties": {
              "DISPLAY_INFO": 131072
             }
            }
           ],
           [
            {
             "captionPath": [
              "AllMember",
              "NEWS_AND_MAGAZINES"
             ],
             "namePath": [
              "AllMember",
              "NEWS_AND_MAGAZINES"
             ],
             "properties": {
              "DISPLAY_INFO": 131072
             }
            },
            {
             "captionPath": [
              "AllMember",
              "BI News"
             ],
             "namePath": [
              "AllMember",
              "BI News"
             ],
             "properties": {
              "DISPLAY_INFO": 131072
             }
            }
           ],
           [
            {
             "captionPath": [
              "AllMember",
              "NEWS_AND_MAGAZINES"
             ],
             "namePath": [
              "AllMember",
              "NEWS_AND_MAGAZINES"
             ],
             "properties": {
              "DISPLAY_INFO": 131072
             }
            },
            {
             "captionPath": [
              "AllMember",
              "Kolkata News:Anandbazar Patrika,ei samay&AllRating"
             ],
             "namePath": [
              "AllMember",
              "Kolkata News:Anandbazar Patrika,ei samay&AllRating"
             ],
             "properties": {
              "DISPLAY_INFO": 131072
             }
            }
           ],
           [
            {
             "captionPath": [
              "AllMember",
              "NEWS_AND_MAGAZINES"
             ],
             "namePath": [
              "AllMember",
              "NEWS_AND_MAGAZINES"
             ],
             "properties": {
              "DISPLAY_INFO": 131072
             }
            },
            {
             "captionPath": [
              "AllMember",
              "Noticias FC Barcelona"
             ],
             "namePath": [
              "AllMember",
              "Noticias FC Barcelona"
             ],
             "properties": {
              "DISPLAY_INFO": 131072
             }
            }
           ],
           [
            {
             "captionPath": [
              "AllMember",
              "NEWS_AND_MAGAZINES"
             ],
             "namePath": [
              "AllMember",
              "NEWS_AND_MAGAZINES"
             ],
             "properties": {
              "DISPLAY_INFO": 131072
             }
            },
            {
             "captionPath": [
              "AllMember",
              "Startupticker.ch News, Events"
             ],
             "namePath": [
              "AllMember",
              "Startupticker.ch News, Events"
             ],
             "properties": {
              "DISPLAY_INFO": 131072
             }
            }
           ],
           [
            {
             "captionPath": [
              "AllMember",
              "NEWS_AND_MAGAZINES"
             ],
             "namePath": [
              "AllMember",
              "NEWS_AND_MAGAZINES"
             ],
             "properties": {
              "DISPLAY_INFO": 131072
             }
            },
            {
             "captionPath": [
              "AllMember",
              "DG TV"
             ],
             "namePath": [
              "AllMember",
              "DG TV"
             ],
             "properties": {
              "DISPLAY_INFO": 131072
             }
            }
           ],
           [
            {
             "captionPath": [
              "AllMember",
              "NEWS_AND_MAGAZINES"
             ],
             "namePath": [
              "AllMember",
              "NEWS_AND_MAGAZINES"
             ],
             "properties": {
              "DISPLAY_INFO": 131072
             }
            },
            {
             "captionPath": [
              "AllMember",
              "NOMISMA.com.cy by FMW"
             ],
             "namePath": [
              "AllMember",
              "NOMISMA.com.cy by FMW"
             ],
             "properties": {
              "DISPLAY_INFO": 131072
             }
            }
           ],
           [
            {
             "captionPath": [
              "AllMember",
              "NEWS_AND_MAGAZINES"
             ],
             "namePath": [
              "AllMember",
              "NEWS_AND_MAGAZINES"
             ],
             "properties": {
              "DISPLAY_INFO": 131072
             }
            },
            {
             "captionPath": [
              "AllMember",
              "M"
             ],
             "namePath": [
              "AllMember",
              "M"
             ],
             "properties": {
              "DISPLAY_INFO": 131072
             }
            }
           ],
           [
            {
             "captionPath": [
              "AllMember",
              "NEWS_AND_MAGAZINES"
             ],
             "namePath": [
              "AllMember",
              "NEWS_AND_MAGAZINES"
             ],
             "properties": {
              "DISPLAY_INFO": 131072
             }
            },
            {
             "captionPath": [
              "AllMember",
              "Aaj Bangla: ei samay er khobor"
             ],
             "namePath": [
              "AllMember",
              "Aaj Bangla: ei samay er khobor"
             ],
             "properties": {
              "DISPLAY_INFO": 131072
             }
            }
           ],
           [
            {
             "captionPath": [
              "AllMember",
              "NEWS_AND_MAGAZINES"
             ],
             "namePath": [
              "AllMember",
              "NEWS_AND_MAGAZINES"
             ],
             "properties": {
              "DISPLAY_INFO": 131072
             }
            },
            {
             "captionPath": [
              "AllMember",
              "BD Internet Package Activator"
             ],
             "namePath": [
              "AllMember",
              "BD Internet Package Activator"
             ],
             "properties": {
              "DISPLAY_INFO": 131072
             }
            }
           ],
           [
            {
             "captionPath": [
              "AllMember",
              "COMMUNICATION"
             ],
             "namePath": [
              "AllMember",
              "COMMUNICATION"
             ],
             "properties": {
              "DISPLAY_INFO": 131072
             }
            },
            {
             "captionPath": [
              "AllMember",
              "chat dz"
             ],
             "namePath": [
              "AllMember",
              "chat dz"
             ],
             "properties": {
              "DISPLAY_INFO": 131072
             }
            }
           ],
           [
            {
             "captionPath": [
              "AllMember",
              "COMMUNICATION"
             ],
             "namePath": [
              "AllMember",
              "COMMUNICATION"
             ],
             "properties": {
              "DISPLAY_INFO": 131072
             }
            },
            {
             "captionPath": [
              "AllMember",
              "Cb browser"
             ],
             "namePath": [
              "AllMember",
              "Cb browser"
             ],
             "properties": {
              "DISPLAY_INFO": 131072
             }
            }
           ],
           [
            {
             "captionPath": [
              "AllMember",
              "COMMUNICATION"
             ],
             "namePath": [
              "AllMember",
              "COMMUNICATION"
             ],
             "properties": {
              "DISPLAY_INFO": 131072
             }
            },
            {
             "captionPath": [
              "AllMember",
              "BV"
             ],
             "namePath": [
              "AllMember",
              "BV"
             ],
             "properties": {
              "DISPLAY_INFO": 131072
             }
            }
           ],
           [
            {
             "captionPath": [
              "AllMember",
              "COMMUNICATION"
             ],
             "namePath": [
              "AllMember",
              "COMMUNICATION"
             ],
             "properties": {
              "DISPLAY_INFO": 131072
             }
            },
            {
             "captionPath": [
              "AllMember",
              "BS-Mobile"
             ],
             "namePath": [
              "AllMember",
              "BS-Mobile"
             ],
             "properties": {
              "DISPLAY_INFO": 131072
             }
            }
           ],
           [
            {
             "captionPath": [
              "AllMember",
              "COMMUNICATION"
             ],
             "namePath": [
              "AllMember",
              "COMMUNICATION"
             ],
             "properties": {
              "DISPLAY_INFO": 131072
             }
            },
            {
             "captionPath": [
              "AllMember",
              "EJ messenger"
             ],
             "namePath": [
              "AllMember",
              "EJ messenger"
             ],
             "properties": {
              "DISPLAY_INFO": 131072
             }
            }
           ],
           [
            {
             "captionPath": [
              "AllMember",
              "COMMUNICATION"
             ],
             "namePath": [
              "AllMember",
              "COMMUNICATION"
             ],
             "properties": {
              "DISPLAY_INFO": 131072
             }
            },
            {
             "captionPath": [
              "AllMember",
              "ClanPlay: Community and Tools for Gamers"
             ],
             "namePath": [
              "AllMember",
              "ClanPlay: Community and Tools for Gamers"
             ],
             "properties": {
              "DISPLAY_INFO": 131072
             }
            }
           ],
           [
            {
             "captionPath": [
              "AllMember",
              "COMMUNICATION"
             ],
             "namePath": [
              "AllMember",
              "COMMUNICATION"
             ],
             "properties": {
              "DISPLAY_INFO": 131072
             }
            },
            {
             "captionPath": [
              "AllMember",
              "Morse Machine for Ham Radio"
             ],
             "namePath": [
              "AllMember",
              "Morse Machine for Ham Radio"
             ],
             "properties": {
              "DISPLAY_INFO": 131072
             }
            }
           ],
           [
            {
             "captionPath": [
              "AllMember",
              "COMMUNICATION"
             ],
             "namePath": [
              "AllMember",
              "COMMUNICATION"
             ],
             "properties": {
              "DISPLAY_INFO": 131072
             }
            },
            {
             "captionPath": [
              "AllMember",
              "CW Beacon for Ham Radio"
             ],
             "namePath": [
              "AllMember",
              "CW Beacon for Ham Radio"
             ],
             "properties": {
              "DISPLAY_INFO": 131072
             }
            }
           ],
           [
            {
             "captionPath": [
              "AllMember",
              "COMMUNICATION"
             ],
             "namePath": [
              "AllMember",
              "COMMUNICATION"
             ],
             "properties": {
              "DISPLAY_INFO": 131072
             }
            },
            {
             "captionPath": [
              "AllMember",
              "2 Amateur ham radio CW Morse code practice keys TX"
             ],
             "namePath": [
              "AllMember",
              "2 Amateur ham radio CW Morse code practice keys TX"
             ],
             "properties": {
              "DISPLAY_INFO": 131072
             }
            }
           ],
           [
            {
             "captionPath": [
              "AllMember",
              "COMMUNICATION"
             ],
             "namePath": [
              "AllMember",
              "COMMUNICATION"
             ],
             "properties": {
              "DISPLAY_INFO": 131072
             }
            },
            {
             "captionPath": [
              "AllMember",
              "Best Browser BD social networking"
             ],
             "namePath": [
              "AllMember",
              "Best Browser BD social networking"
             ],
             "properties": {
              "DISPLAY_INFO": 131072
             }
            }
           ],
           [
            {
             "captionPath": [
              "AllMember",
              "FINANCE"
             ],
             "namePath": [
              "AllMember",
              "FINANCE"
             ],
             "properties": {
              "DISPLAY_INFO": 131072
             }
            },
            {
             "captionPath": [
              "AllMember",
              "FD Calculator (EMI, SIP, RD & Loan Eligilibility)"
             ],
             "namePath": [
              "AllMember",
              "FD Calculator (EMI, SIP, RD & Loan Eligilibility)"
             ],
             "properties": {
              "DISPLAY_INFO": 131072
             }
            }
           ],
           [
            {
             "captionPath": [
              "AllMember",
              "FINANCE"
             ],
             "namePath": [
              "AllMember",
              "FINANCE"
             ],
             "properties": {
              "DISPLAY_INFO": 131072
             }
            },
            {
             "captionPath": [
              "AllMember",
              "DN Calculators"
             ],
             "namePath": [
              "AllMember",
              "DN Calculators"
             ],
             "properties": {
              "DISPLAY_INFO": 131072
             }
            }
           ],
           [
            {
             "captionPath": [
              "AllMember",
              "FINANCE"
             ],
             "namePath": [
              "AllMember",
              "FINANCE"
             ],
             "properties": {
              "DISPLAY_INFO": 131072
             }
            },
            {
             "captionPath": [
              "AllMember",
              "BK Gold App"
             ],
             "namePath": [
              "AllMember",
              "BK Gold App"
             ],
             "properties": {
              "DISPLAY_INFO": 131072
             }
            }
           ],
           [
            {
             "captionPath": [
              "AllMember",
              "FINANCE"
             ],
             "namePath": [
              "AllMember",
              "FINANCE"
             ],
             "properties": {
              "DISPLAY_INFO": 131072
             }
            },
            {
             "captionPath": [
              "AllMember",
              "BxPort - Bitcoin Bx (Thailand)"
             ],
             "namePath": [
              "AllMember",
              "BxPort - Bitcoin Bx (Thailand)"
             ],
             "properties": {
              "DISPLAY_INFO": 131072
             }
            }
           ],
           [
            {
             "captionPath": [
              "AllMember",
              "FINANCE"
             ],
             "namePath": [
              "AllMember",
              "FINANCE"
             ],
             "properties": {
              "DISPLAY_INFO": 131072
             }
            },
            {
             "captionPath": [
              "AllMember",
              "Free coupons and vouchers"
             ],
             "namePath": [
              "AllMember",
              "Free coupons and vouchers"
             ],
             "properties": {
              "DISPLAY_INFO": 131072
             }
            }
           ],
           [
            {
             "captionPath": [
              "AllMember",
              "FINANCE"
             ],
             "namePath": [
              "AllMember",
              "FINANCE"
             ],
             "properties": {
              "DISPLAY_INFO": 131072
             }
            },
            {
             "captionPath": [
              "AllMember",
              "BI APP"
             ],
             "namePath": [
              "AllMember",
              "BI APP"
             ],
             "properties": {
              "DISPLAY_INFO": 131072
             }
            }
           ],
           [
            {
             "captionPath": [
              "AllMember",
              "FINANCE"
             ],
             "namePath": [
              "AllMember",
              "FINANCE"
             ],
             "properties": {
              "DISPLAY_INFO": 131072
             }
            },
            {
             "captionPath": [
              "AllMember",
              "CF"
             ],
             "namePath": [
              "AllMember",
              "CF"
             ],
             "properties": {
              "DISPLAY_INFO": 131072
             }
            }
           ],
           [
            {
             "captionPath": [
              "AllMember",
              "FINANCE"
             ],
             "namePath": [
              "AllMember",
              "FINANCE"
             ],
             "properties": {
              "DISPLAY_INFO": 131072
             }
            },
            {
             "captionPath": [
              "AllMember",
              "CT Checkout"
             ],
             "namePath": [
              "AllMember",
              "CT Checkout"
             ],
             "properties": {
              "DISPLAY_INFO": 131072
             }
            }
           ],
           [
            {
             "captionPath": [
              "AllMember",
              "FINANCE"
             ],
             "namePath": [
              "AllMember",
              "FINANCE"
             ],
             "properties": {
              "DISPLAY_INFO": 131072
             }
            },
            {
             "captionPath": [
              "AllMember",
              "EC Tax"
             ],
             "namePath": [
              "AllMember",
              "EC Tax"
             ],
             "properties": {
              "DISPLAY_INFO": 131072
             }
            }
           ],
           [
            {
             "captionPath": [
              "AllMember",
              "FINANCE"
             ],
             "namePath": [
              "AllMember",
              "FINANCE"
             ],
             "properties": {
              "DISPLAY_INFO": 131072
             }
            },
            {
             "captionPath": [
              "AllMember",
              "EY Forensics"
             ],
             "namePath": [
              "AllMember",
              "EY Forensics"
             ],
             "properties": {
              "DISPLAY_INFO": 131072
             }
            }
           ],
           [
            {
             "captionPath": [
              "AllMember",
              "BUSINESS"
             ],
             "namePath": [
              "AllMember",
              "BUSINESS"
             ],
             "properties": {
              "DISPLAY_INFO": 131072
             }
            },
            {
             "captionPath": [
              "AllMember",
              "BK Arogyam Task Track"
             ],
             "namePath": [
              "AllMember",
              "BK Arogyam Task Track"
             ],
             "properties": {
              "DISPLAY_INFO": 131072
             }
            }
           ],
           [
            {
             "captionPath": [
              "AllMember",
              "BUSINESS"
             ],
             "namePath": [
              "AllMember",
              "BUSINESS"
             ],
             "properties": {
              "DISPLAY_INFO": 131072
             }
            },
            {
             "captionPath": [
              "AllMember",
              "CK Employee Portal"
             ],
             "namePath": [
              "AllMember",
              "CK Employee Portal"
             ],
             "properties": {
              "DISPLAY_INFO": 131072
             }
            }
           ],
           [
            {
             "captionPath": [
              "AllMember",
              "BUSINESS"
             ],
             "namePath": [
              "AllMember",
              "BUSINESS"
             ],
             "properties": {
              "DISPLAY_INFO": 131072
             }
            },
            {
             "captionPath": [
              "AllMember",
              "Ag Valley Cooperative"
             ],
             "namePath": [
              "AllMember",
              "Ag Valley Cooperative"
             ],
             "properties": {
              "DISPLAY_INFO": 131072
             }
            }
           ],
           [
            {
             "captionPath": [
              "AllMember",
              "BUSINESS"
             ],
             "namePath": [
              "AllMember",
              "BUSINESS"
             ],
             "properties": {
              "DISPLAY_INFO": 131072
             }
            },
            {
             "captionPath": [
              "AllMember",
              "DW Security"
             ],
             "namePath": [
              "AllMember",
              "DW Security"
             ],
             "properties": {
              "DISPLAY_INFO": 131072
             }
            }
           ],
           [
            {
             "captionPath": [
              "AllMember",
              "BUSINESS"
             ],
             "namePath": [
              "AllMember",
              "BUSINESS"
             ],
             "properties": {
              "DISPLAY_INFO": 131072
             }
            },
            {
             "captionPath": [
              "AllMember",
              "DB Pickles"
             ],
             "namePath": [
              "AllMember",
              "DB Pickles"
             ],
             "properties": {
              "DISPLAY_INFO": 131072
             }
            }
           ],
           [
            {
             "captionPath": [
              "AllMember",
              "BUSINESS"
             ],
             "namePath": [
              "AllMember",
              "BUSINESS"
             ],
             "properties": {
              "DISPLAY_INFO": 131072
             }
            },
            {
             "captionPath": [
              "AllMember",
              "CP Installer App"
             ],
             "namePath": [
              "AllMember",
              "CP Installer App"
             ],
             "properties": {
              "DISPLAY_INFO": 131072
             }
            }
           ],
           [
            {
             "captionPath": [
              "AllMember",
              "BUSINESS"
             ],
             "namePath": [
              "AllMember",
              "BUSINESS"
             ],
             "properties": {
              "DISPLAY_INFO": 131072
             }
            },
            {
             "captionPath": [
              "AllMember",
              "BJ Foods"
             ],
             "namePath": [
              "AllMember",
              "BJ Foods"
             ],
             "properties": {
              "DISPLAY_INFO": 131072
             }
            }
           ],
           [
            {
             "captionPath": [
              "AllMember",
              "BUSINESS"
             ],
             "namePath": [
              "AllMember",
              "BUSINESS"
             ],
             "properties": {
              "DISPLAY_INFO": 131072
             }
            },
            {
             "captionPath": [
              "AllMember",
              "CQ ESPM"
             ],
             "namePath": [
              "AllMember",
              "CQ ESPM"
             ],
             "properties": {
              "DISPLAY_INFO": 131072
             }
            }
           ],
           [
            {
             "captionPath": [
              "AllMember",
              "BUSINESS"
             ],
             "namePath": [
              "AllMember",
              "BUSINESS"
             ],
             "properties": {
              "DISPLAY_INFO": 131072
             }
            },
            {
             "captionPath": [
              "AllMember",
              "CJ the REALTOR"
             ],
             "namePath": [
              "AllMember",
              "CJ the REALTOR"
             ],
             "properties": {
              "DISPLAY_INFO": 131072
             }
            }
           ],
           [
            {
             "captionPath": [
              "AllMember",
              "BUSINESS"
             ],
             "namePath": [
              "AllMember",
              "BUSINESS"
             ],
             "properties": {
              "DISPLAY_INFO": 131072
             }
            },
            {
             "captionPath": [
              "AllMember",
              "EB Cash Collections"
             ],
             "namePath": [
              "AllMember",
              "EB Cash Collections"
             ],
             "properties": {
              "DISPLAY_INFO": 131072
             }
            }
           ],
           [
            {
             "captionPath": [
              "AllMember",
              "LIFESTYLE"
             ],
             "namePath": [
              "AllMember",
              "LIFESTYLE"
             ],
             "properties": {
              "DISPLAY_INFO": 131072
             }
            },
            {
             "captionPath": [
              "AllMember",
              "Comunidad De Fe Minitries"
             ],
             "namePath": [
              "AllMember",
              "Comunidad De Fe Minitries"
             ],
             "properties": {
              "DISPLAY_INFO": 131072
             }
            }
           ],
           [
            {
             "captionPath": [
              "AllMember",
              "LIFESTYLE"
             ],
             "namePath": [
              "AllMember",
              "LIFESTYLE"
             ],
             "properties": {
              "DISPLAY_INFO": 131072
             }
            },
            {
             "captionPath": [
              "AllMember",
              "Beacon Baptist Jupiter, FL"
             ],
             "namePath": [
              "AllMember",
              "Beacon Baptist Jupiter, FL"
             ],
             "properties": {
              "DISPLAY_INFO": 131072
             }
            }
           ],
           [
            {
             "captionPath": [
              "AllMember",
              "LIFESTYLE"
             ],
             "namePath": [
              "AllMember",
              "LIFESTYLE"
             ],
             "properties": {
              "DISPLAY_INFO": 131072
             }
            },
            {
             "captionPath": [
              "AllMember",
              "CA Speakers"
             ],
             "namePath": [
              "AllMember",
              "CA Speakers"
             ],
             "properties": {
              "DISPLAY_INFO": 131072
             }
            }
           ],
           [
            {
             "captionPath": [
              "AllMember",
              "LIFESTYLE"
             ],
             "namePath": [
              "AllMember",
              "LIFESTYLE"
             ],
             "properties": {
              "DISPLAY_INFO": 131072
             }
            },
            {
             "captionPath": [
              "AllMember",
              "Bk Usha behn"
             ],
             "namePath": [
              "AllMember",
              "Bk Usha behn"
             ],
             "properties": {
              "DISPLAY_INFO": 131072
             }
            }
           ],
           [
            {
             "captionPath": [
              "AllMember",
              "LIFESTYLE"
             ],
             "namePath": [
              "AllMember",
              "LIFESTYLE"
             ],
             "properties": {
              "DISPLAY_INFO": 131072
             }
            },
            {
             "captionPath": [
              "AllMember",
              "BP Log lite"
             ],
             "namePath": [
              "AllMember",
              "BP Log lite"
             ],
             "properties": {
              "DISPLAY_INFO": 131072
             }
            }
           ],
           [
            {
             "captionPath": [
              "AllMember",
              "LIFESTYLE"
             ],
             "namePath": [
              "AllMember",
              "LIFESTYLE"
             ],
             "properties": {
              "DISPLAY_INFO": 131072
             }
            },
            {
             "captionPath": [
              "AllMember",
              "AJ Men's Grooming"
             ],
             "namePath": [
              "AllMember",
              "AJ Men's Grooming"
             ],
             "properties": {
              "DISPLAY_INFO": 131072
             }
            }
           ],
           [
            {
             "captionPath": [
              "AllMember",
              "LIFESTYLE"
             ],
             "namePath": [
              "AllMember",
              "LIFESTYLE"
             ],
             "properties": {
              "DISPLAY_INFO": 131072
             }
            },
            {
             "captionPath": [
              "AllMember",
              "Barbers.BH"
             ],
             "namePath": [
              "AllMember",
              "Barbers.BH"
             ],
             "properties": {
              "DISPLAY_INFO": 131072
             }
            }
           ],
           [
            {
             "captionPath": [
              "AllMember",
              "LIFESTYLE"
             ],
             "namePath": [
              "AllMember",
              "LIFESTYLE"
             ],
             "properties": {
              "DISPLAY_INFO": 131072
             }
            },
            {
             "captionPath": [
              "AllMember",
              "Color CL"
             ],
             "namePath": [
              "AllMember",
              "Color CL"
             ],
             "properties": {
              "DISPLAY_INFO": 131072
             }
            }
           ],
           [
            {
             "captionPath": [
              "AllMember",
              "LIFESTYLE"
             ],
             "namePath": [
              "AllMember",
              "LIFESTYLE"
             ],
             "properties": {
              "DISPLAY_INFO": 131072
             }
            },
            {
             "captionPath": [
              "AllMember",
              "Cy-Fair Christian Church"
             ],
             "namePath": [
              "AllMember",
              "Cy-Fair Christian Church"
             ],
             "properties": {
              "DISPLAY_INFO": 131072
             }
            }
           ],
           [
            {
             "captionPath": [
              "AllMember",
              "LIFESTYLE"
             ],
             "namePath": [
              "AllMember",
              "LIFESTYLE"
             ],
             "properties": {
              "DISPLAY_INFO": 131072
             }
            },
            {
             "captionPath": [
              "AllMember",
              "AC DC Power Monitor"
             ],
             "namePath": [
              "AllMember",
              "AC DC Power Monitor"
             ],
             "properties": {
              "DISPLAY_INFO": 131072
             }
            }
           ],
           [
            {
             "captionPath": [
              "AllMember",
              "TRAVEL_AND_LOCAL"
             ],
             "namePath": [
              "AllMember",
              "TRAVEL_AND_LOCAL"
             ],
             "properties": {
              "DISPLAY_INFO": 131072
             }
            },
            {
             "captionPath": [
              "AllMember",
              "CJ's Coffee Cafe"
             ],
             "namePath": [
              "AllMember",
              "CJ's Coffee Cafe"
             ],
             "properties": {
              "DISPLAY_INFO": 131072
             }
            }
           ],
           [
            {
             "captionPath": [
              "AllMember",
              "TRAVEL_AND_LOCAL"
             ],
             "namePath": [
              "AllMember",
              "TRAVEL_AND_LOCAL"
             ],
             "properties": {
              "DISPLAY_INFO": 131072
             }
            },
            {
             "captionPath": [
              "AllMember",
              "BG Guide"
             ],
             "namePath": [
              "AllMember",
              "BG Guide"
             ],
             "properties": {
              "DISPLAY_INFO": 131072
             }
            }
           ],
           [
            {
             "captionPath": [
              "AllMember",
              "TRAVEL_AND_LOCAL"
             ],
             "namePath": [
              "AllMember",
              "TRAVEL_AND_LOCAL"
             ],
             "properties": {
              "DISPLAY_INFO": 131072
             }
            },
            {
             "captionPath": [
              "AllMember",
              "Florida Beach Wallpapers HD"
             ],
             "namePath": [
              "AllMember",
              "Florida Beach Wallpapers HD"
             ],
             "properties": {
              "DISPLAY_INFO": 131072
             }
            }
           ],
           [
            {
             "captionPath": [
              "AllMember",
              "TRAVEL_AND_LOCAL"
             ],
             "namePath": [
              "AllMember",
              "TRAVEL_AND_LOCAL"
             ],
             "properties": {
              "DISPLAY_INFO": 131072
             }
            },
            {
             "captionPath": [
              "AllMember",
              "TravelPirates"
             ],
             "namePath": [
              "AllMember",
              "TravelPirates"
             ],
             "properties": {
              "DISPLAY_INFO": 131072
             }
            }
           ],
           [
            {
             "captionPath": [
              "AllMember",
              "TRAVEL_AND_LOCAL"
             ],
             "namePath": [
              "AllMember",
              "TRAVEL_AND_LOCAL"
             ],
             "properties": {
              "DISPLAY_INFO": 131072
             }
            },
            {
             "captionPath": [
              "AllMember",
              "Yoriza Pension - travel, lodging, pension, camping, caravan, pool villas accommodation discount"
             ],
             "namePath": [
              "AllMember",
              "Yoriza Pension - travel, lodging, pension, camping, caravan, pool villas accommodation discount"
             ],
             "properties": {
              "DISPLAY_INFO": 131072
             }
            }
           ],
           [
            {
             "captionPath": [
              "AllMember",
              "TRAVEL_AND_LOCAL"
             ],
             "namePath": [
              "AllMember",
              "TRAVEL_AND_LOCAL"
             ],
             "properties": {
              "DISPLAY_INFO": 131072
             }
            },
            {
             "captionPath": [
              "AllMember",
              "BG Metro - Red voznje"
             ],
             "namePath": [
              "AllMember",
              "BG Metro - Red voznje"
             ],
             "properties": {
              "DISPLAY_INFO": 131072
             }
            }
           ],
           [
            {
             "captionPath": [
              "AllMember",
              "TRAVEL_AND_LOCAL"
             ],
             "namePath": [
              "AllMember",
              "TRAVEL_AND_LOCAL"
             ],
             "properties": {
              "DISPLAY_INFO": 131072
             }
            },
            {
             "captionPath": [
              "AllMember",
              "Booking.com Travel Deals"
             ],
             "namePath": [
              "AllMember",
              "Booking.com Travel Deals"
             ],
             "properties": {
              "DISPLAY_INFO": 131072
             }
            }
           ],
           [
            {
             "captionPath": [
              "AllMember",
              "TRAVEL_AND_LOCAL"
             ],
             "namePath": [
              "AllMember",
              "TRAVEL_AND_LOCAL"
             ],
             "properties": {
              "DISPLAY_INFO": 131072
             }
            },
            {
             "captionPath": [
              "AllMember",
              "DreamTrips"
             ],
             "namePath": [
              "AllMember",
              "DreamTrips"
             ],
             "properties": {
              "DISPLAY_INFO": 131072
             }
            }
           ],
           [
            {
             "captionPath": [
              "AllMember",
              "TRAVEL_AND_LOCAL"
             ],
             "namePath": [
              "AllMember",
              "TRAVEL_AND_LOCAL"
             ],
             "properties": {
              "DISPLAY_INFO": 131072
             }
            },
            {
             "captionPath": [
              "AllMember",
              "Arizona Trail"
             ],
             "namePath": [
              "AllMember",
              "Arizona Trail"
             ],
             "properties": {
              "DISPLAY_INFO": 131072
             }
            }
           ],
           [
            {
             "captionPath": [
              "AllMember",
              "TRAVEL_AND_LOCAL"
             ],
             "namePath": [
              "AllMember",
              "TRAVEL_AND_LOCAL"
             ],
             "properties": {
              "DISPLAY_INFO": 131072
             }
            },
            {
             "captionPath": [
              "AllMember",
              "IRIS : Customer Service - DZ Algeria"
             ],
             "namePath": [
              "AllMember",
              "IRIS : Customer Service - DZ Algeria"
             ],
             "properties": {
              "DISPLAY_INFO": 131072
             }
            }
           ],
           [
            {
             "captionPath": [
              "AllMember",
              "VIDEO_PLAYERS"
             ],
             "namePath": [
              "AllMember",
              "VIDEO_PLAYERS"
             ],
             "properties": {
              "DISPLAY_INFO": 131072
             }
            },
            {
             "captionPath": [
              "AllMember",
              "AK Lodi Films"
             ],
             "namePath": [
              "AllMember",
              "AK Lodi Films"
             ],
             "properties": {
              "DISPLAY_INFO": 131072
             }
            }
           ],
           [
            {
             "captionPath": [
              "AllMember",
              "VIDEO_PLAYERS"
             ],
             "namePath": [
              "AllMember",
              "VIDEO_PLAYERS"
             ],
             "properties": {
              "DISPLAY_INFO": 131072
             }
            },
            {
             "captionPath": [
              "AllMember",
              "DU Recorder – Screen Recorder, Video Editor, Live"
             ],
             "namePath": [
              "AllMember",
              "DU Recorder – Screen Recorder, Video Editor, Live"
             ],
             "properties": {
              "DISPLAY_INFO": 131072
             }
            }
           ],
           [
            {
             "captionPath": [
              "AllMember",
              "VIDEO_PLAYERS"
             ],
             "namePath": [
              "AllMember",
              "VIDEO_PLAYERS"
             ],
             "properties": {
              "DISPLAY_INFO": 131072
             }
            },
            {
             "captionPath": [
              "AllMember",
              "Video Downloader - for Instagram Repost App"
             ],
             "namePath": [
              "AllMember",
              "Video Downloader - for Instagram Repost App"
             ],
             "properties": {
              "DISPLAY_INFO": 131072
             }
            }
           ],
           [
            {
             "captionPath": [
              "AllMember",
              "VIDEO_PLAYERS"
             ],
             "namePath": [
              "AllMember",
              "VIDEO_PLAYERS"
             ],
             "properties": {
              "DISPLAY_INFO": 131072
             }
            },
            {
             "captionPath": [
              "AllMember",
              "Video Player All Format"
             ],
             "namePath": [
              "AllMember",
              "Video Player All Format"
             ],
             "properties": {
              "DISPLAY_INFO": 131072
             }
            }
           ],
           [
            {
             "captionPath": [
              "AllMember",
              "VIDEO_PLAYERS"
             ],
             "namePath": [
              "AllMember",
              "VIDEO_PLAYERS"
             ],
             "properties": {
              "DISPLAY_INFO": 131072
             }
            },
            {
             "captionPath": [
              "AllMember",
              "Flud (Ad free)"
             ],
             "namePath": [
              "AllMember",
              "Flud (Ad free)"
             ],
             "properties": {
              "DISPLAY_INFO": 131072
             }
            }
           ],
           [
            {
             "captionPath": [
              "AllMember",
              "VIDEO_PLAYERS"
             ],
             "namePath": [
              "AllMember",
              "VIDEO_PLAYERS"
             ],
             "properties": {
              "DISPLAY_INFO": 131072
             }
            },
            {
             "captionPath": [
              "AllMember",
              "AJ Player"
             ],
             "namePath": [
              "AllMember",
              "AJ Player"
             ],
             "properties": {
              "DISPLAY_INFO": 131072
             }
            }
           ],
           [
            {
             "captionPath": [
              "AllMember",
              "VIDEO_PLAYERS"
             ],
             "namePath": [
              "AllMember",
              "VIDEO_PLAYERS"
             ],
             "properties": {
              "DISPLAY_INFO": 131072
             }
            },
            {
             "captionPath": [
              "AllMember",
              "Quik – Free Video Editor for photos, clips, music"
             ],
             "namePath": [
              "AllMember",
              "Quik – Free Video Editor for photos, clips, music"
             ],
             "properties": {
              "DISPLAY_INFO": 131072
             }
            }
           ],
           [
            {
             "captionPath": [
              "AllMember",
              "VIDEO_PLAYERS"
             ],
             "namePath": [
              "AllMember",
              "VIDEO_PLAYERS"
             ],
             "properties": {
              "DISPLAY_INFO": 131072
             }
            },
            {
             "captionPath": [
              "AllMember",
              "Ez Screen Recorder (no ad)"
             ],
             "namePath": [
              "AllMember",
              "Ez Screen Recorder (no ad)"
             ],
             "properties": {
              "DISPLAY_INFO": 131072
             }
            }
           ],
           [
            {
             "captionPath": [
              "AllMember",
              "VIDEO_PLAYERS"
             ],
             "namePath": [
              "AllMember",
              "VIDEO_PLAYERS"
             ],
             "properties": {
              "DISPLAY_INFO": 131072
             }
            },
            {
             "captionPath": [
              "AllMember",
              "Movie Downloader Torrent : Az Torrent"
             ],
             "namePath": [
              "AllMember",
              "Movie Downloader Torrent : Az Torrent"
             ],
             "properties": {
              "DISPLAY_INFO": 131072
             }
            }
           ],
           [
            {
             "captionPath": [
              "AllMember",
              "VIDEO_PLAYERS"
             ],
             "namePath": [
              "AllMember",
              "VIDEO_PLAYERS"
             ],
             "properties": {
              "DISPLAY_INFO": 131072
             }
            },
            {
             "captionPath": [
              "AllMember",
              "CJ Camcorder"
             ],
             "namePath": [
              "AllMember",
              "CJ Camcorder"
             ],
             "properties": {
              "DISPLAY_INFO": 131072
             }
            }
           ],
           [
            {
             "captionPath": [
              "AllMember",
              "TOOLS"
             ],
             "namePath": [
              "AllMember",
              "TOOLS"
             ],
             "properties": {
              "DISPLAY_INFO": 131072
             }
            },
            {
             "captionPath": [
              "AllMember",
              "CL REPL"
             ],
             "namePath": [
              "AllMember",
              "CL REPL"
             ],
             "properties": {
              "DISPLAY_INFO": 131072
             }
            }
           ],
           [
            {
             "captionPath": [
              "AllMember",
              "TOOLS"
             ],
             "namePath": [
              "AllMember",
              "TOOLS"
             ],
             "properties": {
              "DISPLAY_INFO": 131072
             }
            },
            {
             "captionPath": [
              "AllMember",
              "CL Notifier"
             ],
             "namePath": [
              "AllMember",
              "CL Notifier"
             ],
             "properties": {
              "DISPLAY_INFO": 131072
             }
            }
           ],
           [
            {
             "captionPath": [
              "AllMember",
              "TOOLS"
             ],
             "namePath": [
              "AllMember",
              "TOOLS"
             ],
             "properties": {
              "DISPLAY_INFO": 131072
             }
            },
            {
             "captionPath": [
              "AllMember",
              "CL Keyboard - Myanmar Keyboard (No Ads)"
             ],
             "namePath": [
              "AllMember",
              "CL Keyboard - Myanmar Keyboard (No Ads)"
             ],
             "properties": {
              "DISPLAY_INFO": 131072
             }
            }
           ],
           [
            {
             "captionPath": [
              "AllMember",
              "TOOLS"
             ],
             "namePath": [
              "AllMember",
              "TOOLS"
             ],
             "properties": {
              "DISPLAY_INFO": 131072
             }
            },
            {
             "captionPath": [
              "AllMember",
              "BK Formula Calculator"
             ],
             "namePath": [
              "AllMember",
              "BK Formula Calculator"
             ],
             "properties": {
              "DISPLAY_INFO": 131072
             }
            }
           ],
           [
            {
             "captionPath": [
              "AllMember",
              "TOOLS"
             ],
             "namePath": [
              "AllMember",
              "TOOLS"
             ],
             "properties": {
              "DISPLAY_INFO": 131072
             }
            },
            {
             "captionPath": [
              "AllMember",
              "CR Tracker for Chests"
             ],
             "namePath": [
              "AllMember",
              "CR Tracker for Chests"
             ],
             "properties": {
              "DISPLAY_INFO": 131072
             }
            }
           ],
           [
            {
             "captionPath": [
              "AllMember",
              "TOOLS"
             ],
             "namePath": [
              "AllMember",
              "TOOLS"
             ],
             "properties": {
              "DISPLAY_INFO": 131072
             }
            },
            {
             "captionPath": [
              "AllMember",
              "CE Smart"
             ],
             "namePath": [
              "AllMember",
              "CE Smart"
             ],
             "properties": {
              "DISPLAY_INFO": 131072
             }
            }
           ],
           [
            {
             "captionPath": [
              "AllMember",
              "TOOLS"
             ],
             "namePath": [
              "AllMember",
              "TOOLS"
             ],
             "properties": {
              "DISPLAY_INFO": 131072
             }
            },
            {
             "captionPath": [
              "AllMember",
              "ADS-B Driver"
             ],
             "namePath": [
              "AllMember",
              "ADS-B Driver"
             ],
             "properties": {
              "DISPLAY_INFO": 131072
             }
            }
           ],
           [
            {
             "captionPath": [
              "AllMember",
              "TOOLS"
             ],
             "namePath": [
              "AllMember",
              "TOOLS"
             ],
             "properties": {
              "DISPLAY_INFO": 131072
             }
            },
            {
             "captionPath": [
              "AllMember",
              "CZ Kompas"
             ],
             "namePath": [
              "AllMember",
              "CZ Kompas"
             ],
             "properties": {
              "DISPLAY_INFO": 131072
             }
            }
           ],
           [
            {
             "captionPath": [
              "AllMember",
              "TOOLS"
             ],
             "namePath": [
              "AllMember",
              "TOOLS"
             ],
             "properties": {
              "DISPLAY_INFO": 131072
             }
            },
            {
             "captionPath": [
              "AllMember",
              "BM speed test"
             ],
             "namePath": [
              "AllMember",
              "BM speed test"
             ],
             "properties": {
              "DISPLAY_INFO": 131072
             }
            }
           ],
           [
            {
             "captionPath": [
              "AllMember",
              "TOOLS"
             ],
             "namePath": [
              "AllMember",
              "TOOLS"
             ],
             "properties": {
              "DISPLAY_INFO": 131072
             }
            },
            {
             "captionPath": [
              "AllMember",
              "DG-App"
             ],
             "namePath": [
              "AllMember",
              "DG-App"
             ],
             "properties": {
              "DISPLAY_INFO": 131072
             }
            }
           ],
           [
            {
             "captionPath": [
              "AllMember",
              "MAPS_AND_NAVIGATION"
             ],
             "namePath": [
              "AllMember",
              "MAPS_AND_NAVIGATION"
             ],
             "properties": {
              "DISPLAY_INFO": 131072
             }
            },
            {
             "captionPath": [
              "AllMember",
              "BL Taxi"
             ],
             "namePath": [
              "AllMember",
              "BL Taxi"
             ],
             "properties": {
              "DISPLAY_INFO": 131072
             }
            }
           ],
           [
            {
             "captionPath": [
              "AllMember",
              "MAPS_AND_NAVIGATION"
             ],
             "namePath": [
              "AllMember",
              "MAPS_AND_NAVIGATION"
             ],
             "properties": {
              "DISPLAY_INFO": 131072
             }
            },
            {
             "captionPath": [
              "AllMember",
              "Tour BD (Bahir Dar Map)"
             ],
             "namePath": [
              "AllMember",
              "Tour BD (Bahir Dar Map)"
             ],
             "properties": {
              "DISPLAY_INFO": 131072
             }
            }
           ],
           [
            {
             "captionPath": [
              "AllMember",
              "MAPS_AND_NAVIGATION"
             ],
             "namePath": [
              "AllMember",
              "MAPS_AND_NAVIGATION"
             ],
             "properties": {
              "DISPLAY_INFO": 131072
             }
            },
            {
             "captionPath": [
              "AllMember",
              "GPS Speedometer and Odometer"
             ],
             "namePath": [
              "AllMember",
              "GPS Speedometer and Odometer"
             ],
             "properties": {
              "DISPLAY_INFO": 131072
             }
            }
           ],
           [
            {
             "captionPath": [
              "AllMember",
              "MAPS_AND_NAVIGATION"
             ],
             "namePath": [
              "AllMember",
              "MAPS_AND_NAVIGATION"
             ],
             "properties": {
              "DISPLAY_INFO": 131072
             }
            },
            {
             "captionPath": [
              "AllMember",
              "Sygic Car Navigation"
             ],
             "namePath": [
              "AllMember",
              "Sygic Car Navigation"
             ],
             "properties": {
              "DISPLAY_INFO": 131072
             }
            }
           ],
           [
            {
             "captionPath": [
              "AllMember",
              "MAPS_AND_NAVIGATION"
             ],
             "namePath": [
              "AllMember",
              "MAPS_AND_NAVIGATION"
             ],
             "properties": {
              "DISPLAY_INFO": 131072
             }
            },
            {
             "captionPath": [
              "AllMember",
              "Trucker Path – Truck Stops & Weigh Stations"
             ],
             "namePath": [
              "AllMember",
              "Trucker Path – Truck Stops & Weigh Stations"
             ],
             "properties": {
              "DISPLAY_INFO": 131072
             }
            }
           ],
           [
            {
             "captionPath": [
              "AllMember",
              "MAPS_AND_NAVIGATION"
             ],
             "namePath": [
              "AllMember",
              "MAPS_AND_NAVIGATION"
             ],
             "properties": {
              "DISPLAY_INFO": 131072
             }
            },
            {
             "captionPath": [
              "AllMember",
              "PlugShare"
             ],
             "namePath": [
              "AllMember",
              "PlugShare"
             ],
             "properties": {
              "DISPLAY_INFO": 131072
             }
            }
           ],
           [
            {
             "captionPath": [
              "AllMember",
              "MAPS_AND_NAVIGATION"
             ],
             "namePath": [
              "AllMember",
              "MAPS_AND_NAVIGATION"
             ],
             "properties": {
              "DISPLAY_INFO": 131072
             }
            },
            {
             "captionPath": [
              "AllMember",
              "GPS Speedometer, Distance Meter"
             ],
             "namePath": [
              "AllMember",
              "GPS Speedometer, Distance Meter"
             ],
             "properties": {
              "DISPLAY_INFO": 131072
             }
            }
           ],
           [
            {
             "captionPath": [
              "AllMember",
              "MAPS_AND_NAVIGATION"
             ],
             "namePath": [
              "AllMember",
              "MAPS_AND_NAVIGATION"
             ],
             "properties": {
              "DISPLAY_INFO": 131072
             }
            },
            {
             "captionPath": [
              "AllMember",
              "Cestovné poriadky CP"
             ],
             "namePath": [
              "AllMember",
              "Cestovné poriadky CP"
             ],
             "properties": {
              "DISPLAY_INFO": 131072
             }
            }
           ],
           [
            {
             "captionPath": [
              "AllMember",
              "MAPS_AND_NAVIGATION"
             ],
             "namePath": [
              "AllMember",
              "MAPS_AND_NAVIGATION"
             ],
             "properties": {
              "DISPLAY_INFO": 131072
             }
            },
            {
             "captionPath": [
              "AllMember",
              "ChargeHub - Find EV & Tesla Charging Stations"
             ],
             "namePath": [
              "AllMember",
              "ChargeHub - Find EV & Tesla Charging Stations"
             ],
             "properties": {
              "DISPLAY_INFO": 131072
             }
            }
           ],
           [
            {
             "captionPath": [
              "AllMember",
              "MAPS_AND_NAVIGATION"
             ],
             "namePath": [
              "AllMember",
              "MAPS_AND_NAVIGATION"
             ],
             "properties": {
              "DISPLAY_INFO": 131072
             }
            },
            {
             "captionPath": [
              "AllMember",
              "DV Car Service"
             ],
             "namePath": [
              "AllMember",
              "DV Car Service"
             ],
             "properties": {
              "DISPLAY_INFO": 131072
             }
            }
           ],
           [
            {
             "captionPath": [
              "AllMember",
              "DATING"
             ],
             "namePath": [
              "AllMember",
              "DATING"
             ],
             "properties": {
              "DISPLAY_INFO": 131072
             }
            },
            {
             "captionPath": [
              "AllMember",
              "Girls Live Talk - Free Text and Video Chat"
             ],
             "namePath": [
              "AllMember",
              "Girls Live Talk - Free Text and Video Chat"
             ],
             "properties": {
              "DISPLAY_INFO": 131072
             }
            }
           ],
           [
            {
             "captionPath": [
              "AllMember",
              "DATING"
             ],
             "namePath": [
              "AllMember",
              "DATING"
             ],
             "properties": {
              "DISPLAY_INFO": 131072
             }
            },
            {
             "captionPath": [
              "AllMember",
              "American Girls Mobile Numbers"
             ],
             "namePath": [
              "AllMember",
              "American Girls Mobile Numbers"
             ],
             "properties": {
              "DISPLAY_INFO": 131072
             }
            }
           ],
           [
            {
             "captionPath": [
              "AllMember",
              "DATING"
             ],
             "namePath": [
              "AllMember",
              "DATING"
             ],
             "properties": {
              "DISPLAY_INFO": 131072
             }
            },
            {
             "captionPath": [
              "AllMember",
              "Online Girls Chat Group"
             ],
             "namePath": [
              "AllMember",
              "Online Girls Chat Group"
             ],
             "properties": {
              "DISPLAY_INFO": 131072
             }
            }
           ],
           [
            {
             "captionPath": [
              "AllMember",
              "DATING"
             ],
             "namePath": [
              "AllMember",
              "DATING"
             ],
             "properties": {
              "DISPLAY_INFO": 131072
             }
            },
            {
             "captionPath": [
              "AllMember",
              "Spine- The dating app"
             ],
             "namePath": [
              "AllMember",
              "Spine- The dating app"
             ],
             "properties": {
              "DISPLAY_INFO": 131072
             }
            }
           ],
           [
            {
             "captionPath": [
              "AllMember",
              "DATING"
             ],
             "namePath": [
              "AllMember",
              "DATING"
             ],
             "properties": {
              "DISPLAY_INFO": 131072
             }
            },
            {
             "captionPath": [
              "AllMember",
              "Speeding Joyride & Car Meet App"
             ],
             "namePath": [
              "AllMember",
              "Speeding Joyride & Car Meet App"
             ],
             "properties": {
              "DISPLAY_INFO": 131072
             }
            }
           ],
           [
            {
             "captionPath": [
              "AllMember",
              "DATING"
             ],
             "namePath": [
              "AllMember",
              "DATING"
             ],
             "properties": {
              "DISPLAY_INFO": 131072
             }
            },
            {
             "captionPath": [
              "AllMember",
              "Awake Dating"
             ],
             "namePath": [
              "AllMember",
              "Awake Dating"
             ],
             "properties": {
              "DISPLAY_INFO": 131072
             }
            }
           ],
           [
            {
             "captionPath": [
              "AllMember",
              "DATING"
             ],
             "namePath": [
              "AllMember",
              "DATING"
             ],
             "properties": {
              "DISPLAY_INFO": 131072
             }
            },
            {
             "captionPath": [
              "AllMember",
              "FREE LIVE TALK"
             ],
             "namePath": [
              "AllMember",
              "FREE LIVE TALK"
             ],
             "properties": {
              "DISPLAY_INFO": 131072
             }
            }
           ],
           [
            {
             "captionPath": [
              "AllMember",
              "DATING"
             ],
             "namePath": [
              "AllMember",
              "DATING"
             ],
             "properties": {
              "DISPLAY_INFO": 131072
             }
            },
            {
             "captionPath": [
              "AllMember",
              "Girls Live Chat - Free Text & Video Chat"
             ],
             "namePath": [
              "AllMember",
              "Girls Live Chat - Free Text & Video Chat"
             ],
             "properties": {
              "DISPLAY_INFO": 131072
             }
            }
           ],
           [
            {
             "captionPath": [
              "AllMember",
              "DATING"
             ],
             "namePath": [
              "AllMember",
              "DATING"
             ],
             "properties": {
              "DISPLAY_INFO": 131072
             }
            },
            {
             "captionPath": [
              "AllMember",
              "FREE VIDEO CHAT - LIVE VIDEO AND TEXT CHAT"
             ],
             "namePath": [
              "AllMember",
              "FREE VIDEO CHAT - LIVE VIDEO AND TEXT CHAT"
             ],
             "properties": {
              "DISPLAY_INFO": 131072
             }
            }
           ],
           [
            {
             "captionPath": [
              "AllMember",
              "DATING"
             ],
             "namePath": [
              "AllMember",
              "DATING"
             ],
             "properties": {
              "DISPLAY_INFO": 131072
             }
            },
            {
             "captionPath": [
              "AllMember",
              "Live Chat - Free Video Chat Rooms"
             ],
             "namePath": [
              "AllMember",
              "Live Chat - Free Video Chat Rooms"
             ],
             "properties": {
              "DISPLAY_INFO": 131072
             }
            }
           ]
          ]
         }
        ],
        "cells": [
         {
          "formattedValue": "5.00",
          "ordinal": 0,
          "properties": {
           "BACK_COLOR": null,
           "FONT_FLAGS": 0,
           "FORE_COLOR": null
          },
          "value": 5
         },
         {
          "formattedValue": "16.00",
          "ordinal": 1,
          "properties": {
           "BACK_COLOR": null,
           "FONT_FLAGS": 0,
           "FORE_COLOR": null
          },
          "value": 16
         },
         {
          "formattedValue": "5.00",
          "ordinal": 2,
          "properties": {
           "BACK_COLOR": null,
           "FONT_FLAGS": 0,
           "FORE_COLOR": null
          },
          "value": 5
         },
         {
          "formattedValue": "7.00",
          "ordinal": 3,
          "properties": {
           "BACK_COLOR": null,
           "FONT_FLAGS": 0,
           "FORE_COLOR": null
          },
          "value": 7
         },
         {
          "formattedValue": "5.00",
          "ordinal": 4,
          "properties": {
           "BACK_COLOR": null,
           "FONT_FLAGS": 0,
           "FORE_COLOR": null
          },
          "value": 5
         },
         {
          "formattedValue": "4.00",
          "ordinal": 5,
          "properties": {
           "BACK_COLOR": null,
           "FONT_FLAGS": 0,
           "FORE_COLOR": null
          },
          "value": 4
         },
         {
          "formattedValue": "5.00",
          "ordinal": 6,
          "properties": {
           "BACK_COLOR": null,
           "FONT_FLAGS": 0,
           "FORE_COLOR": null
          },
          "value": 5
         },
         {
          "formattedValue": "3.00",
          "ordinal": 7,
          "properties": {
           "BACK_COLOR": null,
           "FONT_FLAGS": 0,
           "FORE_COLOR": null
          },
          "value": 3
         },
         {
          "formattedValue": "5.00",
          "ordinal": 8,
          "properties": {
           "BACK_COLOR": null,
           "FONT_FLAGS": 0,
           "FORE_COLOR": null
          },
          "value": 5
         },
         {
          "formattedValue": "1.00",
          "ordinal": 9,
          "properties": {
           "BACK_COLOR": null,
           "FONT_FLAGS": 0,
           "FORE_COLOR": null
          },
          "value": 1
         },
         {
          "formattedValue": "5.00",
          "ordinal": 10,
          "properties": {
           "BACK_COLOR": null,
           "FONT_FLAGS": 0,
           "FORE_COLOR": null
          },
          "value": 5
         },
         {
          "formattedValue": "1.00",
          "ordinal": 11,
          "properties": {
           "BACK_COLOR": null,
           "FONT_FLAGS": 0,
           "FORE_COLOR": null
          },
          "value": 1
         },
         {
          "formattedValue": "4.90",
          "ordinal": 12,
          "properties": {
           "BACK_COLOR": null,
           "FONT_FLAGS": 0,
           "FORE_COLOR": null
          },
          "value": 4.9
         },
         {
          "formattedValue": "69.00",
          "ordinal": 13,
          "properties": {
           "BACK_COLOR": null,
           "FONT_FLAGS": 0,
           "FORE_COLOR": null
          },
          "value": 69
         },
         {
          "formattedValue": "4.80",
          "ordinal": 14,
          "properties": {
           "BACK_COLOR": null,
           "FONT_FLAGS": 0,
           "FORE_COLOR": null
          },
          "value": 4.8
         },
         {
          "formattedValue": "28.00",
          "ordinal": 15,
          "properties": {
           "BACK_COLOR": null,
           "FONT_FLAGS": 0,
           "FORE_COLOR": null
          },
          "value": 28
         },
         {
          "formattedValue": "4.80",
          "ordinal": 16,
          "properties": {
           "BACK_COLOR": null,
           "FONT_FLAGS": 0,
           "FORE_COLOR": null
          },
          "value": 4.8
         },
         {
          "formattedValue": "12.00",
          "ordinal": 17,
          "properties": {
           "BACK_COLOR": null,
           "FONT_FLAGS": 0,
           "FORE_COLOR": null
          },
          "value": 12
         },
         {
          "formattedValue": "4.80",
          "ordinal": 18,
          "properties": {
           "BACK_COLOR": null,
           "FONT_FLAGS": 0,
           "FORE_COLOR": null
          },
          "value": 4.8
         },
         {
          "formattedValue": "8.00",
          "ordinal": 19,
          "properties": {
           "BACK_COLOR": null,
           "FONT_FLAGS": 0,
           "FORE_COLOR": null
          },
          "value": 8
         },
         {
          "formattedValue": "4.90",
          "ordinal": 20,
          "properties": {
           "BACK_COLOR": null,
           "FONT_FLAGS": 0,
           "FORE_COLOR": null
          },
          "value": 4.9
         },
         {
          "formattedValue": "133,136.00",
          "ordinal": 21,
          "properties": {
           "BACK_COLOR": null,
           "FONT_FLAGS": 0,
           "FORE_COLOR": null
          },
          "value": 133136
         },
         {
          "formattedValue": "4.90",
          "ordinal": 22,
          "properties": {
           "BACK_COLOR": null,
           "FONT_FLAGS": 0,
           "FORE_COLOR": null
          },
          "value": 4.9
         },
         {
          "formattedValue": "11.00",
          "ordinal": 23,
          "properties": {
           "BACK_COLOR": null,
           "FONT_FLAGS": 0,
           "FORE_COLOR": null
          },
          "value": 11
         },
         {
          "formattedValue": "4.80",
          "ordinal": 24,
          "properties": {
           "BACK_COLOR": null,
           "FONT_FLAGS": 0,
           "FORE_COLOR": null
          },
          "value": 4.8
         },
         {
          "formattedValue": "256,079.00",
          "ordinal": 25,
          "properties": {
           "BACK_COLOR": null,
           "FONT_FLAGS": 0,
           "FORE_COLOR": null
          },
          "value": 256079
         },
         {
          "formattedValue": "4.80",
          "ordinal": 26,
          "properties": {
           "BACK_COLOR": null,
           "FONT_FLAGS": 0,
           "FORE_COLOR": null
          },
          "value": 4.8
         },
         {
          "formattedValue": "4,075.00",
          "ordinal": 27,
          "properties": {
           "BACK_COLOR": null,
           "FONT_FLAGS": 0,
           "FORE_COLOR": null
          },
          "value": 4075
         },
         {
          "formattedValue": "4.70",
          "ordinal": 28,
          "properties": {
           "BACK_COLOR": null,
           "FONT_FLAGS": 0,
           "FORE_COLOR": null
          },
          "value": 4.7
         },
         {
          "formattedValue": "6,290,507.00",
          "ordinal": 29,
          "properties": {
           "BACK_COLOR": null,
           "FONT_FLAGS": 0,
           "FORE_COLOR": null
          },
          "value": 6290507
         },
         {
          "formattedValue": "4.70",
          "ordinal": 30,
          "properties": {
           "BACK_COLOR": null,
           "FONT_FLAGS": 0,
           "FORE_COLOR": null
          },
          "value": 4.7
         },
         {
          "formattedValue": "254,519.00",
          "ordinal": 31,
          "properties": {
           "BACK_COLOR": null,
           "FONT_FLAGS": 0,
           "FORE_COLOR": null
          },
          "value": 254519
         },
         {
          "formattedValue": "4.70",
          "ordinal": 32,
          "properties": {
           "BACK_COLOR": null,
           "FONT_FLAGS": 0,
           "FORE_COLOR": null
          },
          "value": 4.7
         },
         {
          "formattedValue": "142,632.00",
          "ordinal": 33,
          "properties": {
           "BACK_COLOR": null,
           "FONT_FLAGS": 0,
           "FORE_COLOR": null
          },
          "value": 142632
         },
         {
          "formattedValue": "4.70",
          "ordinal": 34,
          "properties": {
           "BACK_COLOR": null,
           "FONT_FLAGS": 0,
           "FORE_COLOR": null
          },
          "value": 4.7
         },
         {
          "formattedValue": "9,888.00",
          "ordinal": 35,
          "properties": {
           "BACK_COLOR": null,
           "FONT_FLAGS": 0,
           "FORE_COLOR": null
          },
          "value": 9888
         },
         {
          "formattedValue": "4.70",
          "ordinal": 36,
          "properties": {
           "BACK_COLOR": null,
           "FONT_FLAGS": 0,
           "FORE_COLOR": null
          },
          "value": 4.7
         },
         {
          "formattedValue": "2,544.00",
          "ordinal": 37,
          "properties": {
           "BACK_COLOR": null,
           "FONT_FLAGS": 0,
           "FORE_COLOR": null
          },
          "value": 2544
         },
         {
          "formattedValue": "4.70",
          "ordinal": 38,
          "properties": {
           "BACK_COLOR": null,
           "FONT_FLAGS": 0,
           "FORE_COLOR": null
          },
          "value": 4.7
         },
         {
          "formattedValue": "21.00",
          "ordinal": 39,
          "properties": {
           "BACK_COLOR": null,
           "FONT_FLAGS": 0,
           "FORE_COLOR": null
          },
          "value": 21
         },
         {
          "formattedValue": "5.00",
          "ordinal": 40,
          "properties": {
           "BACK_COLOR": null,
           "FONT_FLAGS": 0,
           "FORE_COLOR": null
          },
          "value": 5
         },
         {
          "formattedValue": "1.00",
          "ordinal": 41,
          "properties": {
           "BACK_COLOR": null,
           "FONT_FLAGS": 0,
           "FORE_COLOR": null
          },
          "value": 1
         },
         {
          "formattedValue": "4.80",
          "ordinal": 42,
          "properties": {
           "BACK_COLOR": null,
           "FONT_FLAGS": 0,
           "FORE_COLOR": null
          },
          "value": 4.8
         },
         {
          "formattedValue": "1,216.00",
          "ordinal": 43,
          "properties": {
           "BACK_COLOR": null,
           "FONT_FLAGS": 0,
           "FORE_COLOR": null
          },
          "value": 1216
         },
         {
          "formattedValue": "4.80",
          "ordinal": 44,
          "properties": {
           "BACK_COLOR": null,
           "FONT_FLAGS": 0,
           "FORE_COLOR": null
          },
          "value": 4.8
         },
         {
          "formattedValue": "253.00",
          "ordinal": 45,
          "properties": {
           "BACK_COLOR": null,
           "FONT_FLAGS": 0,
           "FORE_COLOR": null
          },
          "value": 253
         },
         {
          "formattedValue": "4.80",
          "ordinal": 46,
          "properties": {
           "BACK_COLOR": null,
           "FONT_FLAGS": 0,
           "FORE_COLOR": null
          },
          "value": 4.8
         },
         {
          "formattedValue": "192.00",
          "ordinal": 47,
          "properties": {
           "BACK_COLOR": null,
           "FONT_FLAGS": 0,
           "FORE_COLOR": null
          },
          "value": 192
         },
         {
          "formattedValue": "4.80",
          "ordinal": 48,
          "properties": {
           "BACK_COLOR": null,
           "FONT_FLAGS": 0,
           "FORE_COLOR": null
          },
          "value": 4.8
         },
         {
          "formattedValue": "48.00",
          "ordinal": 49,
          "properties": {
           "BACK_COLOR": null,
           "FONT_FLAGS": 0,
           "FORE_COLOR": null
          },
          "value": 48
         },
         {
          "formattedValue": "4.80",
          "ordinal": 50,
          "properties": {
           "BACK_COLOR": null,
           "FONT_FLAGS": 0,
           "FORE_COLOR": null
          },
          "value": 4.8
         },
         {
          "formattedValue": "41.00",
          "ordinal": 51,
          "properties": {
           "BACK_COLOR": null,
           "FONT_FLAGS": 0,
           "FORE_COLOR": null
          },
          "value": 41
         },
         {
          "formattedValue": "4.70",
          "ordinal": 52,
          "properties": {
           "BACK_COLOR": null,
           "FONT_FLAGS": 0,
           "FORE_COLOR": null
          },
          "value": 4.7
         },
         {
          "formattedValue": "174,531.00",
          "ordinal": 53,
          "properties": {
           "BACK_COLOR": null,
           "FONT_FLAGS": 0,
           "FORE_COLOR": null
          },
          "value": 174531
         },
         {
          "formattedValue": "4.70",
          "ordinal": 54,
          "properties": {
           "BACK_COLOR": null,
           "FONT_FLAGS": 0,
           "FORE_COLOR": null
          },
          "value": 4.7
         },
         {
          "formattedValue": "20,260.00",
          "ordinal": 55,
          "properties": {
           "BACK_COLOR": null,
           "FONT_FLAGS": 0,
           "FORE_COLOR": null
          },
          "value": 20260
         },
         {
          "formattedValue": "4.70",
          "ordinal": 56,
          "properties": {
           "BACK_COLOR": null,
           "FONT_FLAGS": 0,
           "FORE_COLOR": null
          },
          "value": 4.7
         },
         {
          "formattedValue": "353.00",
          "ordinal": 57,
          "properties": {
           "BACK_COLOR": null,
           "FONT_FLAGS": 0,
           "FORE_COLOR": null
          },
          "value": 353
         },
         {
          "formattedValue": "4.70",
          "ordinal": 58,
          "properties": {
           "BACK_COLOR": null,
           "FONT_FLAGS": 0,
           "FORE_COLOR": null
          },
          "value": 4.7
         },
         {
          "formattedValue": "118.00",
          "ordinal": 59,
          "properties": {
           "BACK_COLOR": null,
           "FONT_FLAGS": 0,
           "FORE_COLOR": null
          },
          "value": 118
         },
         {
          "formattedValue": "5.00",
          "ordinal": 60,
          "properties": {
           "BACK_COLOR": null,
           "FONT_FLAGS": 0,
           "FORE_COLOR": null
          },
          "value": 5
         },
         {
          "formattedValue": "23.00",
          "ordinal": 61,
          "properties": {
           "BACK_COLOR": null,
           "FONT_FLAGS": 0,
           "FORE_COLOR": null
          },
          "value": 23
         },
         {
          "formattedValue": "5.00",
          "ordinal": 62,
          "properties": {
           "BACK_COLOR": null,
           "FONT_FLAGS": 0,
           "FORE_COLOR": null
          },
          "value": 5
         },
         {
          "formattedValue": "12.00",
          "ordinal": 63,
          "properties": {
           "BACK_COLOR": null,
           "FONT_FLAGS": 0,
           "FORE_COLOR": null
          },
          "value": 12
         },
         {
          "formattedValue": "5.00",
          "ordinal": 64,
          "properties": {
           "BACK_COLOR": null,
           "FONT_FLAGS": 0,
           "FORE_COLOR": null
          },
          "value": 5
         },
         {
          "formattedValue": "5.00",
          "ordinal": 65,
          "properties": {
           "BACK_COLOR": null,
           "FONT_FLAGS": 0,
           "FORE_COLOR": null
          },
          "value": 5
         },
         {
          "formattedValue": "5.00",
          "ordinal": 66,
          "properties": {
           "BACK_COLOR": null,
           "FONT_FLAGS": 0,
           "FORE_COLOR": null
          },
          "value": 5
         },
         {
          "formattedValue": "5.00",
          "ordinal": 67,
          "properties": {
           "BACK_COLOR": null,
           "FONT_FLAGS": 0,
           "FORE_COLOR": null
          },
          "value": 5
         },
         {
          "formattedValue": "5.00",
          "ordinal": 68,
          "properties": {
           "BACK_COLOR": null,
           "FONT_FLAGS": 0,
           "FORE_COLOR": null
          },
          "value": 5
         },
         {
          "formattedValue": "4.00",
          "ordinal": 69,
          "properties": {
           "BACK_COLOR": null,
           "FONT_FLAGS": 0,
           "FORE_COLOR": null
          },
          "value": 4
         },
         {
          "formattedValue": "5.00",
          "ordinal": 70,
          "properties": {
           "BACK_COLOR": null,
           "FONT_FLAGS": 0,
           "FORE_COLOR": null
          },
          "value": 5
         },
         {
          "formattedValue": "2.00",
          "ordinal": 71,
          "properties": {
           "BACK_COLOR": null,
           "FONT_FLAGS": 0,
           "FORE_COLOR": null
          },
          "value": 2
         },
         {
          "formattedValue": "4.90",
          "ordinal": 72,
          "properties": {
           "BACK_COLOR": null,
           "FONT_FLAGS": 0,
           "FORE_COLOR": null
          },
          "value": 4.9
         },
         {
          "formattedValue": "922,752.00",
          "ordinal": 73,
          "properties": {
           "BACK_COLOR": null,
           "FONT_FLAGS": 0,
           "FORE_COLOR": null
          },
          "value": 922752
         },
         {
          "formattedValue": "4.90",
          "ordinal": 74,
          "properties": {
           "BACK_COLOR": null,
           "FONT_FLAGS": 0,
           "FORE_COLOR": null
          },
          "value": 4.9
         },
         {
          "formattedValue": "2,739.00",
          "ordinal": 75,
          "properties": {
           "BACK_COLOR": null,
           "FONT_FLAGS": 0,
           "FORE_COLOR": null
          },
          "value": 2739
         },
         {
          "formattedValue": "4.90",
          "ordinal": 76,
          "properties": {
           "BACK_COLOR": null,
           "FONT_FLAGS": 0,
           "FORE_COLOR": null
          },
          "value": 4.9
         },
         {
          "formattedValue": "659.00",
          "ordinal": 77,
          "properties": {
           "BACK_COLOR": null,
           "FONT_FLAGS": 0,
           "FORE_COLOR": null
          },
          "value": 659
         },
         {
          "formattedValue": "4.90",
          "ordinal": 78,
          "properties": {
           "BACK_COLOR": null,
           "FONT_FLAGS": 0,
           "FORE_COLOR": null
          },
          "value": 4.9
         },
         {
          "formattedValue": "122.00",
          "ordinal": 79,
          "properties": {
           "BACK_COLOR": null,
           "FONT_FLAGS": 0,
           "FORE_COLOR": null
          },
          "value": 122
         },
         {
          "formattedValue": "5.00",
          "ordinal": 80,
          "properties": {
           "BACK_COLOR": null,
           "FONT_FLAGS": 0,
           "FORE_COLOR": null
          },
          "value": 5
         },
         {
          "formattedValue": "13.00",
          "ordinal": 81,
          "properties": {
           "BACK_COLOR": null,
           "FONT_FLAGS": 0,
           "FORE_COLOR": null
          },
          "value": 13
         },
         {
          "formattedValue": "5.00",
          "ordinal": 82,
          "properties": {
           "BACK_COLOR": null,
           "FONT_FLAGS": 0,
           "FORE_COLOR": null
          },
          "value": 5
         },
         {
          "formattedValue": "5.00",
          "ordinal": 83,
          "properties": {
           "BACK_COLOR": null,
           "FONT_FLAGS": 0,
           "FORE_COLOR": null
          },
          "value": 5
         },
         {
          "formattedValue": "5.00",
          "ordinal": 84,
          "properties": {
           "BACK_COLOR": null,
           "FONT_FLAGS": 0,
           "FORE_COLOR": null
          },
          "value": 5
         },
         {
          "formattedValue": "4.00",
          "ordinal": 85,
          "properties": {
           "BACK_COLOR": null,
           "FONT_FLAGS": 0,
           "FORE_COLOR": null
          },
          "value": 4
         },
         {
          "formattedValue": "5.00",
          "ordinal": 86,
          "properties": {
           "BACK_COLOR": null,
           "FONT_FLAGS": 0,
           "FORE_COLOR": null
          },
          "value": 5
         },
         {
          "formattedValue": "4.00",
          "ordinal": 87,
          "properties": {
           "BACK_COLOR": null,
           "FONT_FLAGS": 0,
           "FORE_COLOR": null
          },
          "value": 4
         },
         {
          "formattedValue": "5.00",
          "ordinal": 88,
          "properties": {
           "BACK_COLOR": null,
           "FONT_FLAGS": 0,
           "FORE_COLOR": null
          },
          "value": 5
         },
         {
          "formattedValue": "4.00",
          "ordinal": 89,
          "properties": {
           "BACK_COLOR": null,
           "FONT_FLAGS": 0,
           "FORE_COLOR": null
          },
          "value": 4
         },
         {
          "formattedValue": "5.00",
          "ordinal": 90,
          "properties": {
           "BACK_COLOR": null,
           "FONT_FLAGS": 0,
           "FORE_COLOR": null
          },
          "value": 5
         },
         {
          "formattedValue": "4.00",
          "ordinal": 91,
          "properties": {
           "BACK_COLOR": null,
           "FONT_FLAGS": 0,
           "FORE_COLOR": null
          },
          "value": 4
         },
         {
          "formattedValue": "5.00",
          "ordinal": 92,
          "properties": {
           "BACK_COLOR": null,
           "FONT_FLAGS": 0,
           "FORE_COLOR": null
          },
          "value": 5
         },
         {
          "formattedValue": "3.00",
          "ordinal": 93,
          "properties": {
           "BACK_COLOR": null,
           "FONT_FLAGS": 0,
           "FORE_COLOR": null
          },
          "value": 3
         },
         {
          "formattedValue": "5.00",
          "ordinal": 94,
          "properties": {
           "BACK_COLOR": null,
           "FONT_FLAGS": 0,
           "FORE_COLOR": null
          },
          "value": 5
         },
         {
          "formattedValue": "2.00",
          "ordinal": 95,
          "properties": {
           "BACK_COLOR": null,
           "FONT_FLAGS": 0,
           "FORE_COLOR": null
          },
          "value": 2
         },
         {
          "formattedValue": "5.00",
          "ordinal": 96,
          "properties": {
           "BACK_COLOR": null,
           "FONT_FLAGS": 0,
           "FORE_COLOR": null
          },
          "value": 5
         },
         {
          "formattedValue": "1.00",
          "ordinal": 97,
          "properties": {
           "BACK_COLOR": null,
           "FONT_FLAGS": 0,
           "FORE_COLOR": null
          },
          "value": 1
         },
         {
          "formattedValue": "5.00",
          "ordinal": 98,
          "properties": {
           "BACK_COLOR": null,
           "FONT_FLAGS": 0,
           "FORE_COLOR": null
          },
          "value": 5
         },
         {
          "formattedValue": "1.00",
          "ordinal": 99,
          "properties": {
           "BACK_COLOR": null,
           "FONT_FLAGS": 0,
           "FORE_COLOR": null
          },
          "value": 1
         },
         {
          "formattedValue": "5.00",
          "ordinal": 100,
          "properties": {
           "BACK_COLOR": null,
           "FONT_FLAGS": 0,
           "FORE_COLOR": null
          },
          "value": 5
         },
         {
          "formattedValue": "1.00",
          "ordinal": 101,
          "properties": {
           "BACK_COLOR": null,
           "FONT_FLAGS": 0,
           "FORE_COLOR": null
          },
          "value": 1
         },
         {
          "formattedValue": "4.90",
          "ordinal": 102,
          "properties": {
           "BACK_COLOR": null,
           "FONT_FLAGS": 0,
           "FORE_COLOR": null
          },
          "value": 4.9
         },
         {
          "formattedValue": "717.00",
          "ordinal": 103,
          "properties": {
           "BACK_COLOR": null,
           "FONT_FLAGS": 0,
           "FORE_COLOR": null
          },
          "value": 717
         },
         {
          "formattedValue": "4.80",
          "ordinal": 104,
          "properties": {
           "BACK_COLOR": null,
           "FONT_FLAGS": 0,
           "FORE_COLOR": null
          },
          "value": 4.8
         },
         {
          "formattedValue": "7,505.00",
          "ordinal": 105,
          "properties": {
           "BACK_COLOR": null,
           "FONT_FLAGS": 0,
           "FORE_COLOR": null
          },
          "value": 7505
         },
         {
          "formattedValue": "4.80",
          "ordinal": 106,
          "properties": {
           "BACK_COLOR": null,
           "FONT_FLAGS": 0,
           "FORE_COLOR": null
          },
          "value": 4.8
         },
         {
          "formattedValue": "6,668.00",
          "ordinal": 107,
          "properties": {
           "BACK_COLOR": null,
           "FONT_FLAGS": 0,
           "FORE_COLOR": null
          },
          "value": 6668
         },
         {
          "formattedValue": "4.80",
          "ordinal": 108,
          "properties": {
           "BACK_COLOR": null,
           "FONT_FLAGS": 0,
           "FORE_COLOR": null
          },
          "value": 4.8
         },
         {
          "formattedValue": "1,940.00",
          "ordinal": 109,
          "properties": {
           "BACK_COLOR": null,
           "FONT_FLAGS": 0,
           "FORE_COLOR": null
          },
          "value": 1940
         },
         {
          "formattedValue": "4.80",
          "ordinal": 110,
          "properties": {
           "BACK_COLOR": null,
           "FONT_FLAGS": 0,
           "FORE_COLOR": null
          },
          "value": 4.8
         },
         {
          "formattedValue": "190.00",
          "ordinal": 111,
          "properties": {
           "BACK_COLOR": null,
           "FONT_FLAGS": 0,
           "FORE_COLOR": null
          },
          "value": 190
         },
         {
          "formattedValue": "4.70",
          "ordinal": 112,
          "properties": {
           "BACK_COLOR": null,
           "FONT_FLAGS": 0,
           "FORE_COLOR": null
          },
          "value": 4.7
         },
         {
          "formattedValue": "34,336.00",
          "ordinal": 113,
          "properties": {
           "BACK_COLOR": null,
           "FONT_FLAGS": 0,
           "FORE_COLOR": null
          },
          "value": 34336
         },
         {
          "formattedValue": "4.70",
          "ordinal": 114,
          "properties": {
           "BACK_COLOR": null,
           "FONT_FLAGS": 0,
           "FORE_COLOR": null
          },
          "value": 4.7
         },
         {
          "formattedValue": "8,343.00",
          "ordinal": 115,
          "properties": {
           "BACK_COLOR": null,
           "FONT_FLAGS": 0,
           "FORE_COLOR": null
          },
          "value": 8343
         },
         {
          "formattedValue": "4.70",
          "ordinal": 116,
          "properties": {
           "BACK_COLOR": null,
           "FONT_FLAGS": 0,
           "FORE_COLOR": null
          },
          "value": 4.7
         },
         {
          "formattedValue": "247.00",
          "ordinal": 117,
          "properties": {
           "BACK_COLOR": null,
           "FONT_FLAGS": 0,
           "FORE_COLOR": null
          },
          "value": 247
         },
         {
          "formattedValue": "4.70",
          "ordinal": 118,
          "properties": {
           "BACK_COLOR": null,
           "FONT_FLAGS": 0,
           "FORE_COLOR": null
          },
          "value": 4.7
         },
         {
          "formattedValue": "39.00",
          "ordinal": 119,
          "properties": {
           "BACK_COLOR": null,
           "FONT_FLAGS": 0,
           "FORE_COLOR": null
          },
          "value": 39
         },
         {
          "formattedValue": "4.90",
          "ordinal": 120,
          "properties": {
           "BACK_COLOR": null,
           "FONT_FLAGS": 0,
           "FORE_COLOR": null
          },
          "value": 4.9
         },
         {
          "formattedValue": "49,790.00",
          "ordinal": 121,
          "properties": {
           "BACK_COLOR": null,
           "FONT_FLAGS": 0,
           "FORE_COLOR": null
          },
          "value": 49790
         },
         {
          "formattedValue": "4.80",
          "ordinal": 122,
          "properties": {
           "BACK_COLOR": null,
           "FONT_FLAGS": 0,
           "FORE_COLOR": null
          },
          "value": 4.8
         },
         {
          "formattedValue": "104.00",
          "ordinal": 123,
          "properties": {
           "BACK_COLOR": null,
           "FONT_FLAGS": 0,
           "FORE_COLOR": null
          },
          "value": 104
         },
         {
          "formattedValue": "4.70",
          "ordinal": 124,
          "properties": {
           "BACK_COLOR": null,
           "FONT_FLAGS": 0,
           "FORE_COLOR": null
          },
          "value": 4.7
         },
         {
          "formattedValue": "42,050.00",
          "ordinal": 125,
          "properties": {
           "BACK_COLOR": null,
           "FONT_FLAGS": 0,
           "FORE_COLOR": null
          },
          "value": 42050
         },
         {
          "formattedValue": "4.70",
          "ordinal": 126,
          "properties": {
           "BACK_COLOR": null,
           "FONT_FLAGS": 0,
           "FORE_COLOR": null
          },
          "value": 4.7
         },
         {
          "formattedValue": "18,900.00",
          "ordinal": 127,
          "properties": {
           "BACK_COLOR": null,
           "FONT_FLAGS": 0,
           "FORE_COLOR": null
          },
          "value": 18900
         },
         {
          "formattedValue": "4.70",
          "ordinal": 128,
          "properties": {
           "BACK_COLOR": null,
           "FONT_FLAGS": 0,
           "FORE_COLOR": null
          },
          "value": 4.7
         },
         {
          "formattedValue": "1,150.00",
          "ordinal": 129,
          "properties": {
           "BACK_COLOR": null,
           "FONT_FLAGS": 0,
           "FORE_COLOR": null
          },
          "value": 1150
         },
         {
          "formattedValue": "4.70",
          "ordinal": 130,
          "properties": {
           "BACK_COLOR": null,
           "FONT_FLAGS": 0,
           "FORE_COLOR": null
          },
          "value": 4.7
         },
         {
          "formattedValue": "964.00",
          "ordinal": 131,
          "properties": {
           "BACK_COLOR": null,
           "FONT_FLAGS": 0,
           "FORE_COLOR": null
          },
          "value": 964
         },
         {
          "formattedValue": "4.70",
          "ordinal": 132,
          "properties": {
           "BACK_COLOR": null,
           "FONT_FLAGS": 0,
           "FORE_COLOR": null
          },
          "value": 4.7
         },
         {
          "formattedValue": "900.00",
          "ordinal": 133,
          "properties": {
           "BACK_COLOR": null,
           "FONT_FLAGS": 0,
           "FORE_COLOR": null
          },
          "value": 900
         },
         {
          "formattedValue": "4.70",
          "ordinal": 134,
          "properties": {
           "BACK_COLOR": null,
           "FONT_FLAGS": 0,
           "FORE_COLOR": null
          },
          "value": 4.7
         },
         {
          "formattedValue": "257.00",
          "ordinal": 135,
          "properties": {
           "BACK_COLOR": null,
           "FONT_FLAGS": 0,
           "FORE_COLOR": null
          },
          "value": 257
         },
         {
          "formattedValue": "4.60",
          "ordinal": 136,
          "properties": {
           "BACK_COLOR": null,
           "FONT_FLAGS": 0,
           "FORE_COLOR": null
          },
          "value": 4.6
         },
         {
          "formattedValue": "184.00",
          "ordinal": 137,
          "properties": {
           "BACK_COLOR": null,
           "FONT_FLAGS": 0,
           "FORE_COLOR": null
          },
          "value": 184
         },
         {
          "formattedValue": "4.60",
          "ordinal": 138,
          "properties": {
           "BACK_COLOR": null,
           "FONT_FLAGS": 0,
           "FORE_COLOR": null
          },
          "value": 4.6
         },
         {
          "formattedValue": "38.00",
          "ordinal": 139,
          "properties": {
           "BACK_COLOR": null,
           "FONT_FLAGS": 0,
           "FORE_COLOR": null
          },
          "value": 38
         },
         {
          "formattedValue": "5.00",
          "ordinal": 140,
          "properties": {
           "BACK_COLOR": null,
           "FONT_FLAGS": 0,
           "FORE_COLOR": null
          },
          "value": 5
         },
         {
          "formattedValue": "30.00",
          "ordinal": 141,
          "properties": {
           "BACK_COLOR": null,
           "FONT_FLAGS": 0,
           "FORE_COLOR": null
          },
          "value": 30
         },
         {
          "formattedValue": "5.00",
          "ordinal": 142,
          "properties": {
           "BACK_COLOR": null,
           "FONT_FLAGS": 0,
           "FORE_COLOR": null
          },
          "value": 5
         },
         {
          "formattedValue": "20.00",
          "ordinal": 143,
          "properties": {
           "BACK_COLOR": null,
           "FONT_FLAGS": 0,
           "FORE_COLOR": null
          },
          "value": 20
         },
         {
          "formattedValue": "5.00",
          "ordinal": 144,
          "properties": {
           "BACK_COLOR": null,
           "FONT_FLAGS": 0,
           "FORE_COLOR": null
          },
          "value": 5
         },
         {
          "formattedValue": "20.00",
          "ordinal": 145,
          "properties": {
           "BACK_COLOR": null,
           "FONT_FLAGS": 0,
           "FORE_COLOR": null
          },
          "value": 20
         },
         {
          "formattedValue": "5.00",
          "ordinal": 146,
          "properties": {
           "BACK_COLOR": null,
           "FONT_FLAGS": 0,
           "FORE_COLOR": null
          },
          "value": 5
         },
         {
          "formattedValue": "7.00",
          "ordinal": 147,
          "properties": {
           "BACK_COLOR": null,
           "FONT_FLAGS": 0,
           "FORE_COLOR": null
          },
          "value": 7
         },
         {
          "formattedValue": "5.00",
          "ordinal": 148,
          "properties": {
           "BACK_COLOR": null,
           "FONT_FLAGS": 0,
           "FORE_COLOR": null
          },
          "value": 5
         },
         {
          "formattedValue": "5.00",
          "ordinal": 149,
          "properties": {
           "BACK_COLOR": null,
           "FONT_FLAGS": 0,
           "FORE_COLOR": null
          },
          "value": 5
         },
         {
          "formattedValue": "5.00",
          "ordinal": 150,
          "properties": {
           "BACK_COLOR": null,
           "FONT_FLAGS": 0,
           "FORE_COLOR": null
          },
          "value": 5
         },
         {
          "formattedValue": "3.00",
          "ordinal": 151,
          "properties": {
           "BACK_COLOR": null,
           "FONT_FLAGS": 0,
           "FORE_COLOR": null
          },
          "value": 3
         },
         {
          "formattedValue": "5.00",
          "ordinal": 152,
          "properties": {
           "BACK_COLOR": null,
           "FONT_FLAGS": 0,
           "FORE_COLOR": null
          },
          "value": 5
         },
         {
          "formattedValue": "2.00",
          "ordinal": 153,
          "properties": {
           "BACK_COLOR": null,
           "FONT_FLAGS": 0,
           "FORE_COLOR": null
          },
          "value": 2
         },
         {
          "formattedValue": "5.00",
          "ordinal": 154,
          "properties": {
           "BACK_COLOR": null,
           "FONT_FLAGS": 0,
           "FORE_COLOR": null
          },
          "value": 5
         },
         {
          "formattedValue": "2.00",
          "ordinal": 155,
          "properties": {
           "BACK_COLOR": null,
           "FONT_FLAGS": 0,
           "FORE_COLOR": null
          },
          "value": 2
         },
         {
          "formattedValue": "4.90",
          "ordinal": 156,
          "properties": {
           "BACK_COLOR": null,
           "FONT_FLAGS": 0,
           "FORE_COLOR": null
          },
          "value": 4.9
         },
         {
          "formattedValue": "117.00",
          "ordinal": 157,
          "properties": {
           "BACK_COLOR": null,
           "FONT_FLAGS": 0,
           "FORE_COLOR": null
          },
          "value": 117
         },
         {
          "formattedValue": "4.90",
          "ordinal": 158,
          "properties": {
           "BACK_COLOR": null,
           "FONT_FLAGS": 0,
           "FORE_COLOR": null
          },
          "value": 4.9
         },
         {
          "formattedValue": "29.00",
          "ordinal": 159,
          "properties": {
           "BACK_COLOR": null,
           "FONT_FLAGS": 0,
           "FORE_COLOR": null
          },
          "value": 29
         },
         {
          "formattedValue": "5.00",
          "ordinal": 160,
          "properties": {
           "BACK_COLOR": null,
           "FONT_FLAGS": 0,
           "FORE_COLOR": null
          },
          "value": 5
         },
         {
          "formattedValue": "14.00",
          "ordinal": 161,
          "properties": {
           "BACK_COLOR": null,
           "FONT_FLAGS": 0,
           "FORE_COLOR": null
          },
          "value": 14
         },
         {
          "formattedValue": "5.00",
          "ordinal": 162,
          "properties": {
           "BACK_COLOR": null,
           "FONT_FLAGS": 0,
           "FORE_COLOR": null
          },
          "value": 5
         },
         {
          "formattedValue": "8.00",
          "ordinal": 163,
          "properties": {
           "BACK_COLOR": null,
           "FONT_FLAGS": 0,
           "FORE_COLOR": null
          },
          "value": 8
         },
         {
          "formattedValue": "5.00",
          "ordinal": 164,
          "properties": {
           "BACK_COLOR": null,
           "FONT_FLAGS": 0,
           "FORE_COLOR": null
          },
          "value": 5
         },
         {
          "formattedValue": "8.00",
          "ordinal": 165,
          "properties": {
           "BACK_COLOR": null,
           "FONT_FLAGS": 0,
           "FORE_COLOR": null
          },
          "value": 8
         },
         {
          "formattedValue": "5.00",
          "ordinal": 166,
          "properties": {
           "BACK_COLOR": null,
           "FONT_FLAGS": 0,
           "FORE_COLOR": null
          },
          "value": 5
         },
         {
          "formattedValue": "7.00",
          "ordinal": 167,
          "properties": {
           "BACK_COLOR": null,
           "FONT_FLAGS": 0,
           "FORE_COLOR": null
          },
          "value": 7
         },
         {
          "formattedValue": "5.00",
          "ordinal": 168,
          "properties": {
           "BACK_COLOR": null,
           "FONT_FLAGS": 0,
           "FORE_COLOR": null
          },
          "value": 5
         },
         {
          "formattedValue": "7.00",
          "ordinal": 169,
          "properties": {
           "BACK_COLOR": null,
           "FONT_FLAGS": 0,
           "FORE_COLOR": null
          },
          "value": 7
         },
         {
          "formattedValue": "5.00",
          "ordinal": 170,
          "properties": {
           "BACK_COLOR": null,
           "FONT_FLAGS": 0,
           "FORE_COLOR": null
          },
          "value": 5
         },
         {
          "formattedValue": "5.00",
          "ordinal": 171,
          "properties": {
           "BACK_COLOR": null,
           "FONT_FLAGS": 0,
           "FORE_COLOR": null
          },
          "value": 5
         },
         {
          "formattedValue": "5.00",
          "ordinal": 172,
          "properties": {
           "BACK_COLOR": null,
           "FONT_FLAGS": 0,
           "FORE_COLOR": null
          },
          "value": 5
         },
         {
          "formattedValue": "5.00",
          "ordinal": 173,
          "properties": {
           "BACK_COLOR": null,
           "FONT_FLAGS": 0,
           "FORE_COLOR": null
          },
          "value": 5
         },
         {
          "formattedValue": "5.00",
          "ordinal": 174,
          "properties": {
           "BACK_COLOR": null,
           "FONT_FLAGS": 0,
           "FORE_COLOR": null
          },
          "value": 5
         },
         {
          "formattedValue": "2.00",
          "ordinal": 175,
          "properties": {
           "BACK_COLOR": null,
           "FONT_FLAGS": 0,
           "FORE_COLOR": null
          },
          "value": 2
         },
         {
          "formattedValue": "5.00",
          "ordinal": 176,
          "properties": {
           "BACK_COLOR": null,
           "FONT_FLAGS": 0,
           "FORE_COLOR": null
          },
          "value": 5
         },
         {
          "formattedValue": "2.00",
          "ordinal": 177,
          "properties": {
           "BACK_COLOR": null,
           "FONT_FLAGS": 0,
           "FORE_COLOR": null
          },
          "value": 2
         },
         {
          "formattedValue": "5.00",
          "ordinal": 178,
          "properties": {
           "BACK_COLOR": null,
           "FONT_FLAGS": 0,
           "FORE_COLOR": null
          },
          "value": 5
         },
         {
          "formattedValue": "1.00",
          "ordinal": 179,
          "properties": {
           "BACK_COLOR": null,
           "FONT_FLAGS": 0,
           "FORE_COLOR": null
          },
          "value": 1
         },
         {
          "formattedValue": "4.80",
          "ordinal": 180,
          "properties": {
           "BACK_COLOR": null,
           "FONT_FLAGS": 0,
           "FORE_COLOR": null
          },
          "value": 4.8
         },
         {
          "formattedValue": "159,455.00",
          "ordinal": 181,
          "properties": {
           "BACK_COLOR": null,
           "FONT_FLAGS": 0,
           "FORE_COLOR": null
          },
          "value": 159455
         },
         {
          "formattedValue": "4.80",
          "ordinal": 182,
          "properties": {
           "BACK_COLOR": null,
           "FONT_FLAGS": 0,
           "FORE_COLOR": null
          },
          "value": 4.8
         },
         {
          "formattedValue": "17,493.00",
          "ordinal": 183,
          "properties": {
           "BACK_COLOR": null,
           "FONT_FLAGS": 0,
           "FORE_COLOR": null
          },
          "value": 17493
         },
         {
          "formattedValue": "4.80",
          "ordinal": 184,
          "properties": {
           "BACK_COLOR": null,
           "FONT_FLAGS": 0,
           "FORE_COLOR": null
          },
          "value": 4.8
         },
         {
          "formattedValue": "892.00",
          "ordinal": 185,
          "properties": {
           "BACK_COLOR": null,
           "FONT_FLAGS": 0,
           "FORE_COLOR": null
          },
          "value": 892
         },
         {
          "formattedValue": "4.70",
          "ordinal": 186,
          "properties": {
           "BACK_COLOR": null,
           "FONT_FLAGS": 0,
           "FORE_COLOR": null
          },
          "value": 4.7
         },
         {
          "formattedValue": "20,001.00",
          "ordinal": 187,
          "properties": {
           "BACK_COLOR": null,
           "FONT_FLAGS": 0,
           "FORE_COLOR": null
          },
          "value": 20001
         },
         {
          "formattedValue": "4.70",
          "ordinal": 188,
          "properties": {
           "BACK_COLOR": null,
           "FONT_FLAGS": 0,
           "FORE_COLOR": null
          },
          "value": 4.7
         },
         {
          "formattedValue": "14,051.00",
          "ordinal": 189,
          "properties": {
           "BACK_COLOR": null,
           "FONT_FLAGS": 0,
           "FORE_COLOR": null
          },
          "value": 14051
         },
         {
          "formattedValue": "4.70",
          "ordinal": 190,
          "properties": {
           "BACK_COLOR": null,
           "FONT_FLAGS": 0,
           "FORE_COLOR": null
          },
          "value": 4.7
         },
         {
          "formattedValue": "11,118.00",
          "ordinal": 191,
          "properties": {
           "BACK_COLOR": null,
           "FONT_FLAGS": 0,
           "FORE_COLOR": null
          },
          "value": 11118
         },
         {
          "formattedValue": "4.60",
          "ordinal": 192,
          "properties": {
           "BACK_COLOR": null,
           "FONT_FLAGS": 0,
           "FORE_COLOR": null
          },
          "value": 4.6
         },
         {
          "formattedValue": "89,868.00",
          "ordinal": 193,
          "properties": {
           "BACK_COLOR": null,
           "FONT_FLAGS": 0,
           "FORE_COLOR": null
          },
          "value": 89868
         },
         {
          "formattedValue": "4.60",
          "ordinal": 194,
          "properties": {
           "BACK_COLOR": null,
           "FONT_FLAGS": 0,
           "FORE_COLOR": null
          },
          "value": 4.6
         },
         {
          "formattedValue": "36,900.00",
          "ordinal": 195,
          "properties": {
           "BACK_COLOR": null,
           "FONT_FLAGS": 0,
           "FORE_COLOR": null
          },
          "value": 36900
         },
         {
          "formattedValue": "4.60",
          "ordinal": 196,
          "properties": {
           "BACK_COLOR": null,
           "FONT_FLAGS": 0,
           "FORE_COLOR": null
          },
          "value": 4.6
         },
         {
          "formattedValue": "3,963.00",
          "ordinal": 197,
          "properties": {
           "BACK_COLOR": null,
           "FONT_FLAGS": 0,
           "FORE_COLOR": null
          },
          "value": 3963
         },
         {
          "formattedValue": "4.50",
          "ordinal": 198,
          "properties": {
           "BACK_COLOR": null,
           "FONT_FLAGS": 0,
           "FORE_COLOR": null
          },
          "value": 4.5
         },
         {
          "formattedValue": "1,422,858.00",
          "ordinal": 199,
          "properties": {
           "BACK_COLOR": null,
           "FONT_FLAGS": 0,
           "FORE_COLOR": null
          },
          "value": 1422858
         },
         {
          "formattedValue": "5.00",
          "ordinal": 200,
          "properties": {
           "BACK_COLOR": null,
           "FONT_FLAGS": 0,
           "FORE_COLOR": null
          },
          "value": 5
         },
         {
          "formattedValue": "18.00",
          "ordinal": 201,
          "properties": {
           "BACK_COLOR": null,
           "FONT_FLAGS": 0,
           "FORE_COLOR": null
          },
          "value": 18
         },
         {
          "formattedValue": "5.00",
          "ordinal": 202,
          "properties": {
           "BACK_COLOR": null,
           "FONT_FLAGS": 0,
           "FORE_COLOR": null
          },
          "value": 5
         },
         {
          "formattedValue": "6.00",
          "ordinal": 203,
          "properties": {
           "BACK_COLOR": null,
           "FONT_FLAGS": 0,
           "FORE_COLOR": null
          },
          "value": 6
         },
         {
          "formattedValue": "5.00",
          "ordinal": 204,
          "properties": {
           "BACK_COLOR": null,
           "FONT_FLAGS": 0,
           "FORE_COLOR": null
          },
          "value": 5
         },
         {
          "formattedValue": "5.00",
          "ordinal": 205,
          "properties": {
           "BACK_COLOR": null,
           "FONT_FLAGS": 0,
           "FORE_COLOR": null
          },
          "value": 5
         },
         {
          "formattedValue": "5.00",
          "ordinal": 206,
          "properties": {
           "BACK_COLOR": null,
           "FONT_FLAGS": 0,
           "FORE_COLOR": null
          },
          "value": 5
         },
         {
          "formattedValue": "4.00",
          "ordinal": 207,
          "properties": {
           "BACK_COLOR": null,
           "FONT_FLAGS": 0,
           "FORE_COLOR": null
          },
          "value": 4
         },
         {
          "formattedValue": "5.00",
          "ordinal": 208,
          "properties": {
           "BACK_COLOR": null,
           "FONT_FLAGS": 0,
           "FORE_COLOR": null
          },
          "value": 5
         },
         {
          "formattedValue": "4.00",
          "ordinal": 209,
          "properties": {
           "BACK_COLOR": null,
           "FONT_FLAGS": 0,
           "FORE_COLOR": null
          },
          "value": 4
         },
         {
          "formattedValue": "5.00",
          "ordinal": 210,
          "properties": {
           "BACK_COLOR": null,
           "FONT_FLAGS": 0,
           "FORE_COLOR": null
          },
          "value": 5
         },
         {
          "formattedValue": "3.00",
          "ordinal": 211,
          "properties": {
           "BACK_COLOR": null,
           "FONT_FLAGS": 0,
           "FORE_COLOR": null
          },
          "value": 3
         },
         {
          "formattedValue": "5.00",
          "ordinal": 212,
          "properties": {
           "BACK_COLOR": null,
           "FONT_FLAGS": 0,
           "FORE_COLOR": null
          },
          "value": 5
         },
         {
          "formattedValue": "3.00",
          "ordinal": 213,
          "properties": {
           "BACK_COLOR": null,
           "FONT_FLAGS": 0,
           "FORE_COLOR": null
          },
          "value": 3
         },
         {
          "formattedValue": "5.00",
          "ordinal": 214,
          "properties": {
           "BACK_COLOR": null,
           "FONT_FLAGS": 0,
           "FORE_COLOR": null
          },
          "value": 5
         },
         {
          "formattedValue": "2.00",
          "ordinal": 215,
          "properties": {
           "BACK_COLOR": null,
           "FONT_FLAGS": 0,
           "FORE_COLOR": null
          },
          "value": 2
         },
         {
          "formattedValue": "5.00",
          "ordinal": 216,
          "properties": {
           "BACK_COLOR": null,
           "FONT_FLAGS": 0,
           "FORE_COLOR": null
          },
          "value": 5
         },
         {
          "formattedValue": "1.00",
          "ordinal": 217,
          "properties": {
           "BACK_COLOR": null,
           "FONT_FLAGS": 0,
           "FORE_COLOR": null
          },
          "value": 1
         },
         {
          "formattedValue": "5.00",
          "ordinal": 218,
          "properties": {
           "BACK_COLOR": null,
           "FONT_FLAGS": 0,
           "FORE_COLOR": null
          },
          "value": 5
         },
         {
          "formattedValue": "1.00",
          "ordinal": 219,
          "properties": {
           "BACK_COLOR": null,
           "FONT_FLAGS": 0,
           "FORE_COLOR": null
          },
          "value": 1
         },
         {
          "formattedValue": "5.00",
          "ordinal": 220,
          "properties": {
           "BACK_COLOR": null,
           "FONT_FLAGS": 0,
           "FORE_COLOR": null
          },
          "value": 5
         },
         {
          "formattedValue": "21.00",
          "ordinal": 221,
          "properties": {
           "BACK_COLOR": null,
           "FONT_FLAGS": 0,
           "FORE_COLOR": null
          },
          "value": 21
         },
         {
          "formattedValue": "5.00",
          "ordinal": 222,
          "properties": {
           "BACK_COLOR": null,
           "FONT_FLAGS": 0,
           "FORE_COLOR": null
          },
          "value": 5
         },
         {
          "formattedValue": "9.00",
          "ordinal": 223,
          "properties": {
           "BACK_COLOR": null,
           "FONT_FLAGS": 0,
           "FORE_COLOR": null
          },
          "value": 9
         },
         {
          "formattedValue": "5.00",
          "ordinal": 224,
          "properties": {
           "BACK_COLOR": null,
           "FONT_FLAGS": 0,
           "FORE_COLOR": null
          },
          "value": 5
         },
         {
          "formattedValue": "4.00",
          "ordinal": 225,
          "properties": {
           "BACK_COLOR": null,
           "FONT_FLAGS": 0,
           "FORE_COLOR": null
          },
          "value": 4
         },
         {
          "formattedValue": "5.00",
          "ordinal": 226,
          "properties": {
           "BACK_COLOR": null,
           "FONT_FLAGS": 0,
           "FORE_COLOR": null
          },
          "value": 5
         },
         {
          "formattedValue": "2.00",
          "ordinal": 227,
          "properties": {
           "BACK_COLOR": null,
           "FONT_FLAGS": 0,
           "FORE_COLOR": null
          },
          "value": 2
         },
         {
          "formattedValue": "5.00",
          "ordinal": 228,
          "properties": {
           "BACK_COLOR": null,
           "FONT_FLAGS": 0,
           "FORE_COLOR": null
          },
          "value": 5
         },
         {
          "formattedValue": "1.00",
          "ordinal": 229,
          "properties": {
           "BACK_COLOR": null,
           "FONT_FLAGS": 0,
           "FORE_COLOR": null
          },
          "value": 1
         },
         {
          "formattedValue": "5.00",
          "ordinal": 230,
          "properties": {
           "BACK_COLOR": null,
           "FONT_FLAGS": 0,
           "FORE_COLOR": null
          },
          "value": 5
         },
         {
          "formattedValue": "1.00",
          "ordinal": 231,
          "properties": {
           "BACK_COLOR": null,
           "FONT_FLAGS": 0,
           "FORE_COLOR": null
          },
          "value": 1
         },
         {
          "formattedValue": "4.80",
          "ordinal": 232,
          "properties": {
           "BACK_COLOR": null,
           "FONT_FLAGS": 0,
           "FORE_COLOR": null
          },
          "value": 4.8
         },
         {
          "formattedValue": "14.00",
          "ordinal": 233,
          "properties": {
           "BACK_COLOR": null,
           "FONT_FLAGS": 0,
           "FORE_COLOR": null
          },
          "value": 14
         },
         {
          "formattedValue": "4.70",
          "ordinal": 234,
          "properties": {
           "BACK_COLOR": null,
           "FONT_FLAGS": 0,
           "FORE_COLOR": null
          },
          "value": 4.7
         },
         {
          "formattedValue": "181,823.00",
          "ordinal": 235,
          "properties": {
           "BACK_COLOR": null,
           "FONT_FLAGS": 0,
           "FORE_COLOR": null
          },
          "value": 181823
         },
         {
          "formattedValue": "4.70",
          "ordinal": 236,
          "properties": {
           "BACK_COLOR": null,
           "FONT_FLAGS": 0,
           "FORE_COLOR": null
          },
          "value": 4.7
         },
         {
          "formattedValue": "68.00",
          "ordinal": 237,
          "properties": {
           "BACK_COLOR": null,
           "FONT_FLAGS": 0,
           "FORE_COLOR": null
          },
          "value": 68
         },
         {
          "formattedValue": "4.70",
          "ordinal": 238,
          "properties": {
           "BACK_COLOR": null,
           "FONT_FLAGS": 0,
           "FORE_COLOR": null
          },
          "value": 4.7
         },
         {
          "formattedValue": "55.00",
          "ordinal": 239,
          "properties": {
           "BACK_COLOR": null,
           "FONT_FLAGS": 0,
           "FORE_COLOR": null
          },
          "value": 55
         },
         {
          "formattedValue": "5.00",
          "ordinal": 240,
          "properties": {
           "BACK_COLOR": null,
           "FONT_FLAGS": 0,
           "FORE_COLOR": null
          },
          "value": 5
         },
         {
          "formattedValue": "36.00",
          "ordinal": 241,
          "properties": {
           "BACK_COLOR": null,
           "FONT_FLAGS": 0,
           "FORE_COLOR": null
          },
          "value": 36
         },
         {
          "formattedValue": "5.00",
          "ordinal": 242,
          "properties": {
           "BACK_COLOR": null,
           "FONT_FLAGS": 0,
           "FORE_COLOR": null
          },
          "value": 5
         },
         {
          "formattedValue": "17.00",
          "ordinal": 243,
          "properties": {
           "BACK_COLOR": null,
           "FONT_FLAGS": 0,
           "FORE_COLOR": null
          },
          "value": 17
         },
         {
          "formattedValue": "5.00",
          "ordinal": 244,
          "properties": {
           "BACK_COLOR": null,
           "FONT_FLAGS": 0,
           "FORE_COLOR": null
          },
          "value": 5
         },
         {
          "formattedValue": "7.00",
          "ordinal": 245,
          "properties": {
           "BACK_COLOR": null,
           "FONT_FLAGS": 0,
           "FORE_COLOR": null
          },
          "value": 7
         },
         {
          "formattedValue": "5.00",
          "ordinal": 246,
          "properties": {
           "BACK_COLOR": null,
           "FONT_FLAGS": 0,
           "FORE_COLOR": null
          },
          "value": 5
         },
         {
          "formattedValue": "1.00",
          "ordinal": 247,
          "properties": {
           "BACK_COLOR": null,
           "FONT_FLAGS": 0,
           "FORE_COLOR": null
          },
          "value": 1
         },
         {
          "formattedValue": "4.90",
          "ordinal": 248,
          "properties": {
           "BACK_COLOR": null,
           "FONT_FLAGS": 0,
           "FORE_COLOR": null
          },
          "value": 4.9
         },
         {
          "formattedValue": "15,883.00",
          "ordinal": 249,
          "properties": {
           "BACK_COLOR": null,
           "FONT_FLAGS": 0,
           "FORE_COLOR": null
          },
          "value": 15883
         },
         {
          "formattedValue": "4.90",
          "ordinal": 250,
          "properties": {
           "BACK_COLOR": null,
           "FONT_FLAGS": 0,
           "FORE_COLOR": null
          },
          "value": 4.9
         },
         {
          "formattedValue": "1,420.00",
          "ordinal": 251,
          "properties": {
           "BACK_COLOR": null,
           "FONT_FLAGS": 0,
           "FORE_COLOR": null
          },
          "value": 1420
         },
         {
          "formattedValue": "4.90",
          "ordinal": 252,
          "properties": {
           "BACK_COLOR": null,
           "FONT_FLAGS": 0,
           "FORE_COLOR": null
          },
          "value": 4.9
         },
         {
          "formattedValue": "1,211.00",
          "ordinal": 253,
          "properties": {
           "BACK_COLOR": null,
           "FONT_FLAGS": 0,
           "FORE_COLOR": null
          },
          "value": 1211
         },
         {
          "formattedValue": "4.90",
          "ordinal": 254,
          "properties": {
           "BACK_COLOR": null,
           "FONT_FLAGS": 0,
           "FORE_COLOR": null
          },
          "value": 4.9
         },
         {
          "formattedValue": "195.00",
          "ordinal": 255,
          "properties": {
           "BACK_COLOR": null,
           "FONT_FLAGS": 0,
           "FORE_COLOR": null
          },
          "value": 195
         },
         {
          "formattedValue": "4.90",
          "ordinal": 256,
          "properties": {
           "BACK_COLOR": null,
           "FONT_FLAGS": 0,
           "FORE_COLOR": null
          },
          "value": 4.9
         },
         {
          "formattedValue": "10.00",
          "ordinal": 257,
          "properties": {
           "BACK_COLOR": null,
           "FONT_FLAGS": 0,
           "FORE_COLOR": null
          },
          "value": 10
         },
         {
          "formattedValue": "4.80",
          "ordinal": 258,
          "properties": {
           "BACK_COLOR": null,
           "FONT_FLAGS": 0,
           "FORE_COLOR": null
          },
          "value": 4.8
         },
         {
          "formattedValue": "160.00",
          "ordinal": 259,
          "properties": {
           "BACK_COLOR": null,
           "FONT_FLAGS": 0,
           "FORE_COLOR": null
          },
          "value": 160
         },
         {
          "formattedValue": "4.90",
          "ordinal": 260,
          "properties": {
           "BACK_COLOR": null,
           "FONT_FLAGS": 0,
           "FORE_COLOR": null
          },
          "value": 4.9
         },
         {
          "formattedValue": "197,136.00",
          "ordinal": 261,
          "properties": {
           "BACK_COLOR": null,
           "FONT_FLAGS": 0,
           "FORE_COLOR": null
          },
          "value": 197136
         },
         {
          "formattedValue": "4.90",
          "ordinal": 262,
          "properties": {
           "BACK_COLOR": null,
           "FONT_FLAGS": 0,
           "FORE_COLOR": null
          },
          "value": 4.9
         },
         {
          "formattedValue": "10,479.00",
          "ordinal": 263,
          "properties": {
           "BACK_COLOR": null,
           "FONT_FLAGS": 0,
           "FORE_COLOR": null
          },
          "value": 10479
         },
         {
          "formattedValue": "4.90",
          "ordinal": 264,
          "properties": {
           "BACK_COLOR": null,
           "FONT_FLAGS": 0,
           "FORE_COLOR": null
          },
          "value": 4.9
         },
         {
          "formattedValue": "7,774.00",
          "ordinal": 265,
          "properties": {
           "BACK_COLOR": null,
           "FONT_FLAGS": 0,
           "FORE_COLOR": null
          },
          "value": 7774
         },
         {
          "formattedValue": "4.90",
          "ordinal": 266,
          "properties": {
           "BACK_COLOR": null,
           "FONT_FLAGS": 0,
           "FORE_COLOR": null
          },
          "value": 4.9
         },
         {
          "formattedValue": "6,090.00",
          "ordinal": 267,
          "properties": {
           "BACK_COLOR": null,
           "FONT_FLAGS": 0,
           "FORE_COLOR": null
          },
          "value": 6090
         },
         {
          "formattedValue": "4.90",
          "ordinal": 268,
          "properties": {
           "BACK_COLOR": null,
           "FONT_FLAGS": 0,
           "FORE_COLOR": null
          },
          "value": 4.9
         },
         {
          "formattedValue": "73.00",
          "ordinal": 269,
          "properties": {
           "BACK_COLOR": null,
           "FONT_FLAGS": 0,
           "FORE_COLOR": null
          },
          "value": 73
         },
         {
          "formattedValue": "4.80",
          "ordinal": 270,
          "properties": {
           "BACK_COLOR": null,
           "FONT_FLAGS": 0,
           "FORE_COLOR": null
          },
          "value": 4.8
         },
         {
          "formattedValue": "116,986.00",
          "ordinal": 271,
          "properties": {
           "BACK_COLOR": null,
           "FONT_FLAGS": 0,
           "FORE_COLOR": null
          },
          "value": 116986
         },
         {
          "formattedValue": "4.80",
          "ordinal": 272,
          "properties": {
           "BACK_COLOR": null,
           "FONT_FLAGS": 0,
           "FORE_COLOR": null
          },
          "value": 4.8
         },
         {
          "formattedValue": "7,021.00",
          "ordinal": 273,
          "properties": {
           "BACK_COLOR": null,
           "FONT_FLAGS": 0,
           "FORE_COLOR": null
          },
          "value": 7021
         },
         {
          "formattedValue": "4.80",
          "ordinal": 274,
          "properties": {
           "BACK_COLOR": null,
           "FONT_FLAGS": 0,
           "FORE_COLOR": null
          },
          "value": 4.8
         },
         {
          "formattedValue": "736.00",
          "ordinal": 275,
          "properties": {
           "BACK_COLOR": null,
           "FONT_FLAGS": 0,
           "FORE_COLOR": null
          },
          "value": 736
         },
         {
          "formattedValue": "4.80",
          "ordinal": 276,
          "properties": {
           "BACK_COLOR": null,
           "FONT_FLAGS": 0,
           "FORE_COLOR": null
          },
          "value": 4.8
         },
         {
          "formattedValue": "27.00",
          "ordinal": 277,
          "properties": {
           "BACK_COLOR": null,
           "FONT_FLAGS": 0,
           "FORE_COLOR": null
          },
          "value": 27
         },
         {
          "formattedValue": "4.80",
          "ordinal": 278,
          "properties": {
           "BACK_COLOR": null,
           "FONT_FLAGS": 0,
           "FORE_COLOR": null
          },
          "value": 4.8
         },
         {
          "formattedValue": "4.00",
          "ordinal": 279,
          "properties": {
           "BACK_COLOR": null,
           "FONT_FLAGS": 0,
           "FORE_COLOR": null
          },
          "value": 4
         },
         {
          "formattedValue": "5.00",
          "ordinal": 280,
          "properties": {
           "BACK_COLOR": null,
           "FONT_FLAGS": 0,
           "FORE_COLOR": null
          },
          "value": 5
         },
         {
          "formattedValue": "25.00",
          "ordinal": 281,
          "properties": {
           "BACK_COLOR": null,
           "FONT_FLAGS": 0,
           "FORE_COLOR": null
          },
          "value": 25
         },
         {
          "formattedValue": "5.00",
          "ordinal": 282,
          "properties": {
           "BACK_COLOR": null,
           "FONT_FLAGS": 0,
           "FORE_COLOR": null
          },
          "value": 5
         },
         {
          "formattedValue": "13.00",
          "ordinal": 283,
          "properties": {
           "BACK_COLOR": null,
           "FONT_FLAGS": 0,
           "FORE_COLOR": null
          },
          "value": 13
         },
         {
          "formattedValue": "5.00",
          "ordinal": 284,
          "properties": {
           "BACK_COLOR": null,
           "FONT_FLAGS": 0,
           "FORE_COLOR": null
          },
          "value": 5
         },
         {
          "formattedValue": "8.00",
          "ordinal": 285,
          "properties": {
           "BACK_COLOR": null,
           "FONT_FLAGS": 0,
           "FORE_COLOR": null
          },
          "value": 8
         },
         {
          "formattedValue": "5.00",
          "ordinal": 286,
          "properties": {
           "BACK_COLOR": null,
           "FONT_FLAGS": 0,
           "FORE_COLOR": null
          },
          "value": 5
         },
         {
          "formattedValue": "7.00",
          "ordinal": 287,
          "properties": {
           "BACK_COLOR": null,
           "FONT_FLAGS": 0,
           "FORE_COLOR": null
          },
          "value": 7
         },
         {
          "formattedValue": "5.00",
          "ordinal": 288,
          "properties": {
           "BACK_COLOR": null,
           "FONT_FLAGS": 0,
           "FORE_COLOR": null
          },
          "value": 5
         },
         {
          "formattedValue": "6.00",
          "ordinal": 289,
          "properties": {
           "BACK_COLOR": null,
           "FONT_FLAGS": 0,
           "FORE_COLOR": null
          },
          "value": 6
         },
         {
          "formattedValue": "5.00",
          "ordinal": 290,
          "properties": {
           "BACK_COLOR": null,
           "FONT_FLAGS": 0,
           "FORE_COLOR": null
          },
          "value": 5
         },
         {
          "formattedValue": "4.00",
          "ordinal": 291,
          "properties": {
           "BACK_COLOR": null,
           "FONT_FLAGS": 0,
           "FORE_COLOR": null
          },
          "value": 4
         },
         {
          "formattedValue": "5.00",
          "ordinal": 292,
          "properties": {
           "BACK_COLOR": null,
           "FONT_FLAGS": 0,
           "FORE_COLOR": null
          },
          "value": 5
         },
         {
          "formattedValue": "3.00",
          "ordinal": 293,
          "properties": {
           "BACK_COLOR": null,
           "FONT_FLAGS": 0,
           "FORE_COLOR": null
          },
          "value": 3
         },
         {
          "formattedValue": "5.00",
          "ordinal": 294,
          "properties": {
           "BACK_COLOR": null,
           "FONT_FLAGS": 0,
           "FORE_COLOR": null
          },
          "value": 5
         },
         {
          "formattedValue": "1.00",
          "ordinal": 295,
          "properties": {
           "BACK_COLOR": null,
           "FONT_FLAGS": 0,
           "FORE_COLOR": null
          },
          "value": 1
         },
         {
          "formattedValue": "5.00",
          "ordinal": 296,
          "properties": {
           "BACK_COLOR": null,
           "FONT_FLAGS": 0,
           "FORE_COLOR": null
          },
          "value": 5
         },
         {
          "formattedValue": "1.00",
          "ordinal": 297,
          "properties": {
           "BACK_COLOR": null,
           "FONT_FLAGS": 0,
           "FORE_COLOR": null
          },
          "value": 1
         },
         {
          "formattedValue": "5.00",
          "ordinal": 298,
          "properties": {
           "BACK_COLOR": null,
           "FONT_FLAGS": 0,
           "FORE_COLOR": null
          },
          "value": 5
         },
         {
          "formattedValue": "1.00",
          "ordinal": 299,
          "properties": {
           "BACK_COLOR": null,
           "FONT_FLAGS": 0,
           "FORE_COLOR": null
          },
          "value": 1
         },
         {
          "formattedValue": "5.00",
          "ordinal": 300,
          "properties": {
           "BACK_COLOR": null,
           "FONT_FLAGS": 0,
           "FORE_COLOR": null
          },
          "value": 5
         },
         {
          "formattedValue": "43.00",
          "ordinal": 301,
          "properties": {
           "BACK_COLOR": null,
           "FONT_FLAGS": 0,
           "FORE_COLOR": null
          },
          "value": 43
         },
         {
          "formattedValue": "5.00",
          "ordinal": 302,
          "properties": {
           "BACK_COLOR": null,
           "FONT_FLAGS": 0,
           "FORE_COLOR": null
          },
          "value": 5
         },
         {
          "formattedValue": "9.00",
          "ordinal": 303,
          "properties": {
           "BACK_COLOR": null,
           "FONT_FLAGS": 0,
           "FORE_COLOR": null
          },
          "value": 9
         },
         {
          "formattedValue": "5.00",
          "ordinal": 304,
          "properties": {
           "BACK_COLOR": null,
           "FONT_FLAGS": 0,
           "FORE_COLOR": null
          },
          "value": 5
         },
         {
          "formattedValue": "8.00",
          "ordinal": 305,
          "properties": {
           "BACK_COLOR": null,
           "FONT_FLAGS": 0,
           "FORE_COLOR": null
          },
          "value": 8
         },
         {
          "formattedValue": "5.00",
          "ordinal": 306,
          "properties": {
           "BACK_COLOR": null,
           "FONT_FLAGS": 0,
           "FORE_COLOR": null
          },
          "value": 5
         },
         {
          "formattedValue": "5.00",
          "ordinal": 307,
          "properties": {
           "BACK_COLOR": null,
           "FONT_FLAGS": 0,
           "FORE_COLOR": null
          },
          "value": 5
         },
         {
          "formattedValue": "5.00",
          "ordinal": 308,
          "properties": {
           "BACK_COLOR": null,
           "FONT_FLAGS": 0,
           "FORE_COLOR": null
          },
          "value": 5
         },
         {
          "formattedValue": "3.00",
          "ordinal": 309,
          "properties": {
           "BACK_COLOR": null,
           "FONT_FLAGS": 0,
           "FORE_COLOR": null
          },
          "value": 3
         },
         {
          "formattedValue": "5.00",
          "ordinal": 310,
          "properties": {
           "BACK_COLOR": null,
           "FONT_FLAGS": 0,
           "FORE_COLOR": null
          },
          "value": 5
         },
         {
          "formattedValue": "3.00",
          "ordinal": 311,
          "properties": {
           "BACK_COLOR": null,
           "FONT_FLAGS": 0,
           "FORE_COLOR": null
          },
          "value": 3
         },
         {
          "formattedValue": "5.00",
          "ordinal": 312,
          "properties": {
           "BACK_COLOR": null,
           "FONT_FLAGS": 0,
           "FORE_COLOR": null
          },
          "value": 5
         },
         {
          "formattedValue": "2.00",
          "ordinal": 313,
          "properties": {
           "BACK_COLOR": null,
           "FONT_FLAGS": 0,
           "FORE_COLOR": null
          },
          "value": 2
         },
         {
          "formattedValue": "5.00",
          "ordinal": 314,
          "properties": {
           "BACK_COLOR": null,
           "FONT_FLAGS": 0,
           "FORE_COLOR": null
          },
          "value": 5
         },
         {
          "formattedValue": "1.00",
          "ordinal": 315,
          "properties": {
           "BACK_COLOR": null,
           "FONT_FLAGS": 0,
           "FORE_COLOR": null
          },
          "value": 1
         },
         {
          "formattedValue": "4.90",
          "ordinal": 316,
          "properties": {
           "BACK_COLOR": null,
           "FONT_FLAGS": 0,
           "FORE_COLOR": null
          },
          "value": 4.9
         },
         {
          "formattedValue": "42.00",
          "ordinal": 317,
          "properties": {
           "BACK_COLOR": null,
           "FONT_FLAGS": 0,
           "FORE_COLOR": null
          },
          "value": 42
         },
         {
          "formattedValue": "4.90",
          "ordinal": 318,
          "properties": {
           "BACK_COLOR": null,
           "FONT_FLAGS": 0,
           "FORE_COLOR": null
          },
          "value": 4.9
         },
         {
          "formattedValue": "17.00",
          "ordinal": 319,
          "properties": {
           "BACK_COLOR": null,
           "FONT_FLAGS": 0,
           "FORE_COLOR": null
          },
          "value": 17
         },
         {
          "formattedValue": "5.00",
          "ordinal": 320,
          "properties": {
           "BACK_COLOR": null,
           "FONT_FLAGS": 0,
           "FORE_COLOR": null
          },
          "value": 5
         },
         {
          "formattedValue": "34.00",
          "ordinal": 321,
          "properties": {
           "BACK_COLOR": null,
           "FONT_FLAGS": 0,
           "FORE_COLOR": null
          },
          "value": 34
         },
         {
          "formattedValue": "5.00",
          "ordinal": 322,
          "properties": {
           "BACK_COLOR": null,
           "FONT_FLAGS": 0,
           "FORE_COLOR": null
          },
          "value": 5
         },
         {
          "formattedValue": "15.00",
          "ordinal": 323,
          "properties": {
           "BACK_COLOR": null,
           "FONT_FLAGS": 0,
           "FORE_COLOR": null
          },
          "value": 15
         },
         {
          "formattedValue": "4.80",
          "ordinal": 324,
          "properties": {
           "BACK_COLOR": null,
           "FONT_FLAGS": 0,
           "FORE_COLOR": null
          },
          "value": 4.8
         },
         {
          "formattedValue": "33,783.00",
          "ordinal": 325,
          "properties": {
           "BACK_COLOR": null,
           "FONT_FLAGS": 0,
           "FORE_COLOR": null
          },
          "value": 33783
         },
         {
          "formattedValue": "4.80",
          "ordinal": 326,
          "properties": {
           "BACK_COLOR": null,
           "FONT_FLAGS": 0,
           "FORE_COLOR": null
          },
          "value": 4.8
         },
         {
          "formattedValue": "516.00",
          "ordinal": 327,
          "properties": {
           "BACK_COLOR": null,
           "FONT_FLAGS": 0,
           "FORE_COLOR": null
          },
          "value": 516
         },
         {
          "formattedValue": "4.70",
          "ordinal": 328,
          "properties": {
           "BACK_COLOR": null,
           "FONT_FLAGS": 0,
           "FORE_COLOR": null
          },
          "value": 4.7
         },
         {
          "formattedValue": "57,106.00",
          "ordinal": 329,
          "properties": {
           "BACK_COLOR": null,
           "FONT_FLAGS": 0,
           "FORE_COLOR": null
          },
          "value": 57106
         },
         {
          "formattedValue": "4.70",
          "ordinal": 330,
          "properties": {
           "BACK_COLOR": null,
           "FONT_FLAGS": 0,
           "FORE_COLOR": null
          },
          "value": 4.7
         },
         {
          "formattedValue": "3,596.00",
          "ordinal": 331,
          "properties": {
           "BACK_COLOR": null,
           "FONT_FLAGS": 0,
           "FORE_COLOR": null
          },
          "value": 3596
         },
         {
          "formattedValue": "4.70",
          "ordinal": 332,
          "properties": {
           "BACK_COLOR": null,
           "FONT_FLAGS": 0,
           "FORE_COLOR": null
          },
          "value": 4.7
         },
         {
          "formattedValue": "2,249.00",
          "ordinal": 333,
          "properties": {
           "BACK_COLOR": null,
           "FONT_FLAGS": 0,
           "FORE_COLOR": null
          },
          "value": 2249
         },
         {
          "formattedValue": "4.70",
          "ordinal": 334,
          "properties": {
           "BACK_COLOR": null,
           "FONT_FLAGS": 0,
           "FORE_COLOR": null
          },
          "value": 4.7
         },
         {
          "formattedValue": "1,677.00",
          "ordinal": 335,
          "properties": {
           "BACK_COLOR": null,
           "FONT_FLAGS": 0,
           "FORE_COLOR": null
          },
          "value": 1677
         },
         {
          "formattedValue": "4.70",
          "ordinal": 336,
          "properties": {
           "BACK_COLOR": null,
           "FONT_FLAGS": 0,
           "FORE_COLOR": null
          },
          "value": 4.7
         },
         {
          "formattedValue": "73.00",
          "ordinal": 337,
          "properties": {
           "BACK_COLOR": null,
           "FONT_FLAGS": 0,
           "FORE_COLOR": null
          },
          "value": 73
         },
         {
          "formattedValue": "4.60",
          "ordinal": 338,
          "properties": {
           "BACK_COLOR": null,
           "FONT_FLAGS": 0,
           "FORE_COLOR": null
          },
          "value": 4.6
         },
         {
          "formattedValue": "279.00",
          "ordinal": 339,
          "properties": {
           "BACK_COLOR": null,
           "FONT_FLAGS": 0,
           "FORE_COLOR": null
          },
          "value": 279
         },
         {
          "formattedValue": "5.00",
          "ordinal": 340,
          "properties": {
           "BACK_COLOR": null,
           "FONT_FLAGS": 0,
           "FORE_COLOR": null
          },
          "value": 5
         },
         {
          "formattedValue": "26.00",
          "ordinal": 341,
          "properties": {
           "BACK_COLOR": null,
           "FONT_FLAGS": 0,
           "FORE_COLOR": null
          },
          "value": 26
         },
         {
          "formattedValue": "5.00",
          "ordinal": 342,
          "properties": {
           "BACK_COLOR": null,
           "FONT_FLAGS": 0,
           "FORE_COLOR": null
          },
          "value": 5
         },
         {
          "formattedValue": "15.00",
          "ordinal": 343,
          "properties": {
           "BACK_COLOR": null,
           "FONT_FLAGS": 0,
           "FORE_COLOR": null
          },
          "value": 15
         },
         {
          "formattedValue": "4.70",
          "ordinal": 344,
          "properties": {
           "BACK_COLOR": null,
           "FONT_FLAGS": 0,
           "FORE_COLOR": null
          },
          "value": 4.7
         },
         {
          "formattedValue": "2,639.00",
          "ordinal": 345,
          "properties": {
           "BACK_COLOR": null,
           "FONT_FLAGS": 0,
           "FORE_COLOR": null
          },
          "value": 2639
         },
         {
          "formattedValue": "4.70",
          "ordinal": 346,
          "properties": {
           "BACK_COLOR": null,
           "FONT_FLAGS": 0,
           "FORE_COLOR": null
          },
          "value": 4.7
         },
         {
          "formattedValue": "831.00",
          "ordinal": 347,
          "properties": {
           "BACK_COLOR": null,
           "FONT_FLAGS": 0,
           "FORE_COLOR": null
          },
          "value": 831
         },
         {
          "formattedValue": "4.70",
          "ordinal": 348,
          "properties": {
           "BACK_COLOR": null,
           "FONT_FLAGS": 0,
           "FORE_COLOR": null
          },
          "value": 4.7
         },
         {
          "formattedValue": "48.00",
          "ordinal": 349,
          "properties": {
           "BACK_COLOR": null,
           "FONT_FLAGS": 0,
           "FORE_COLOR": null
          },
          "value": 48
         },
         {
          "formattedValue": "4.60",
          "ordinal": 350,
          "properties": {
           "BACK_COLOR": null,
           "FONT_FLAGS": 0,
           "FORE_COLOR": null
          },
          "value": 4.6
         },
         {
          "formattedValue": "3,014.00",
          "ordinal": 351,
          "properties": {
           "BACK_COLOR": null,
           "FONT_FLAGS": 0,
           "FORE_COLOR": null
          },
          "value": 3014
         },
         {
          "formattedValue": "4.60",
          "ordinal": 352,
          "properties": {
           "BACK_COLOR": null,
           "FONT_FLAGS": 0,
           "FORE_COLOR": null
          },
          "value": 4.6
         },
         {
          "formattedValue": "2,580.00",
          "ordinal": 353,
          "properties": {
           "BACK_COLOR": null,
           "FONT_FLAGS": 0,
           "FORE_COLOR": null
          },
          "value": 2580
         },
         {
          "formattedValue": "4.60",
          "ordinal": 354,
          "properties": {
           "BACK_COLOR": null,
           "FONT_FLAGS": 0,
           "FORE_COLOR": null
          },
          "value": 4.6
         },
         {
          "formattedValue": "539.00",
          "ordinal": 355,
          "properties": {
           "BACK_COLOR": null,
           "FONT_FLAGS": 0,
           "FORE_COLOR": null
          },
          "value": 539
         },
         {
          "formattedValue": "4.60",
          "ordinal": 356,
          "properties": {
           "BACK_COLOR": null,
           "FONT_FLAGS": 0,
           "FORE_COLOR": null
          },
          "value": 4.6
         },
         {
          "formattedValue": "237.00",
          "ordinal": 357,
          "properties": {
           "BACK_COLOR": null,
           "FONT_FLAGS": 0,
           "FORE_COLOR": null
          },
          "value": 237
         },
         {
          "formattedValue": "4.60",
          "ordinal": 358,
          "properties": {
           "BACK_COLOR": null,
           "FONT_FLAGS": 0,
           "FORE_COLOR": null
          },
          "value": 4.6
         },
         {
          "formattedValue": "130.00",
          "ordinal": 359,
          "properties": {
           "BACK_COLOR": null,
           "FONT_FLAGS": 0,
           "FORE_COLOR": null
          },
          "value": 130
         },
         {
          "formattedValue": "5.00",
          "ordinal": 360,
          "properties": {
           "BACK_COLOR": null,
           "FONT_FLAGS": 0,
           "FORE_COLOR": null
          },
          "value": 5
         },
         {
          "formattedValue": "2.00",
          "ordinal": 361,
          "properties": {
           "BACK_COLOR": null,
           "FONT_FLAGS": 0,
           "FORE_COLOR": null
          },
          "value": 2
         },
         {
          "formattedValue": "5.00",
          "ordinal": 362,
          "properties": {
           "BACK_COLOR": null,
           "FONT_FLAGS": 0,
           "FORE_COLOR": null
          },
          "value": 5
         },
         {
          "formattedValue": "1.00",
          "ordinal": 363,
          "properties": {
           "BACK_COLOR": null,
           "FONT_FLAGS": 0,
           "FORE_COLOR": null
          },
          "value": 1
         },
         {
          "formattedValue": "4.80",
          "ordinal": 364,
          "properties": {
           "BACK_COLOR": null,
           "FONT_FLAGS": 0,
           "FORE_COLOR": null
          },
          "value": 4.8
         },
         {
          "formattedValue": "1,250.00",
          "ordinal": 365,
          "properties": {
           "BACK_COLOR": null,
           "FONT_FLAGS": 0,
           "FORE_COLOR": null
          },
          "value": 1250
         },
         {
          "formattedValue": "4.80",
          "ordinal": 366,
          "properties": {
           "BACK_COLOR": null,
           "FONT_FLAGS": 0,
           "FORE_COLOR": null
          },
          "value": 4.8
         },
         {
          "formattedValue": "18.00",
          "ordinal": 367,
          "properties": {
           "BACK_COLOR": null,
           "FONT_FLAGS": 0,
           "FORE_COLOR": null
          },
          "value": 18
         },
         {
          "formattedValue": "4.70",
          "ordinal": 368,
          "properties": {
           "BACK_COLOR": null,
           "FONT_FLAGS": 0,
           "FORE_COLOR": null
          },
          "value": 4.7
         },
         {
          "formattedValue": "1,032,935.00",
          "ordinal": 369,
          "properties": {
           "BACK_COLOR": null,
           "FONT_FLAGS": 0,
           "FORE_COLOR": null
          },
          "value": 1032935
         },
         {
          "formattedValue": "4.70",
          "ordinal": 370,
          "properties": {
           "BACK_COLOR": null,
           "FONT_FLAGS": 0,
           "FORE_COLOR": null
          },
          "value": 4.7
         },
         {
          "formattedValue": "129,737.00",
          "ordinal": 371,
          "properties": {
           "BACK_COLOR": null,
           "FONT_FLAGS": 0,
           "FORE_COLOR": null
          },
          "value": 129737
         },
         {
          "formattedValue": "4.70",
          "ordinal": 372,
          "properties": {
           "BACK_COLOR": null,
           "FONT_FLAGS": 0,
           "FORE_COLOR": null
          },
          "value": 4.7
         },
         {
          "formattedValue": "51,543.00",
          "ordinal": 373,
          "properties": {
           "BACK_COLOR": null,
           "FONT_FLAGS": 0,
           "FORE_COLOR": null
          },
          "value": 51543
         },
         {
          "formattedValue": "4.70",
          "ordinal": 374,
          "properties": {
           "BACK_COLOR": null,
           "FONT_FLAGS": 0,
           "FORE_COLOR": null
          },
          "value": 4.7
         },
         {
          "formattedValue": "14,065.00",
          "ordinal": 375,
          "properties": {
           "BACK_COLOR": null,
           "FONT_FLAGS": 0,
           "FORE_COLOR": null
          },
          "value": 14065
         },
         {
          "formattedValue": "4.70",
          "ordinal": 376,
          "properties": {
           "BACK_COLOR": null,
           "FONT_FLAGS": 0,
           "FORE_COLOR": null
          },
          "value": 4.7
         },
         {
          "formattedValue": "6,118.00",
          "ordinal": 377,
          "properties": {
           "BACK_COLOR": null,
           "FONT_FLAGS": 0,
           "FORE_COLOR": null
          },
          "value": 6118
         },
         {
          "formattedValue": "4.70",
          "ordinal": 378,
          "properties": {
           "BACK_COLOR": null,
           "FONT_FLAGS": 0,
           "FORE_COLOR": null
          },
          "value": 4.7
         },
         {
          "formattedValue": "2,707.00",
          "ordinal": 379,
          "properties": {
           "BACK_COLOR": null,
           "FONT_FLAGS": 0,
           "FORE_COLOR": null
          },
          "value": 2707
         },
         {
          "formattedValue": "5.00",
          "ordinal": 380,
          "properties": {
           "BACK_COLOR": null,
           "FONT_FLAGS": 0,
           "FORE_COLOR": null
          },
          "value": 5
         },
         {
          "formattedValue": "6.00",
          "ordinal": 381,
          "properties": {
           "BACK_COLOR": null,
           "FONT_FLAGS": 0,
           "FORE_COLOR": null
          },
          "value": 6
         },
         {
          "formattedValue": "5.00",
          "ordinal": 382,
          "properties": {
           "BACK_COLOR": null,
           "FONT_FLAGS": 0,
           "FORE_COLOR": null
          },
          "value": 5
         },
         {
          "formattedValue": "6.00",
          "ordinal": 383,
          "properties": {
           "BACK_COLOR": null,
           "FONT_FLAGS": 0,
           "FORE_COLOR": null
          },
          "value": 6
         },
         {
          "formattedValue": "5.00",
          "ordinal": 384,
          "properties": {
           "BACK_COLOR": null,
           "FONT_FLAGS": 0,
           "FORE_COLOR": null
          },
          "value": 5
         },
         {
          "formattedValue": "5.00",
          "ordinal": 385,
          "properties": {
           "BACK_COLOR": null,
           "FONT_FLAGS": 0,
           "FORE_COLOR": null
          },
          "value": 5
         },
         {
          "formattedValue": "5.00",
          "ordinal": 386,
          "properties": {
           "BACK_COLOR": null,
           "FONT_FLAGS": 0,
           "FORE_COLOR": null
          },
          "value": 5
         },
         {
          "formattedValue": "3.00",
          "ordinal": 387,
          "properties": {
           "BACK_COLOR": null,
           "FONT_FLAGS": 0,
           "FORE_COLOR": null
          },
          "value": 3
         },
         {
          "formattedValue": "5.00",
          "ordinal": 388,
          "properties": {
           "BACK_COLOR": null,
           "FONT_FLAGS": 0,
           "FORE_COLOR": null
          },
          "value": 5
         },
         {
          "formattedValue": "2.00",
          "ordinal": 389,
          "properties": {
           "BACK_COLOR": null,
           "FONT_FLAGS": 0,
           "FORE_COLOR": null
          },
          "value": 2
         },
         {
          "formattedValue": "5.00",
          "ordinal": 390,
          "properties": {
           "BACK_COLOR": null,
           "FONT_FLAGS": 0,
           "FORE_COLOR": null
          },
          "value": 5
         },
         {
          "formattedValue": "2.00",
          "ordinal": 391,
          "properties": {
           "BACK_COLOR": null,
           "FONT_FLAGS": 0,
           "FORE_COLOR": null
          },
          "value": 2
         },
         {
          "formattedValue": "5.00",
          "ordinal": 392,
          "properties": {
           "BACK_COLOR": null,
           "FONT_FLAGS": 0,
           "FORE_COLOR": null
          },
          "value": 5
         },
         {
          "formattedValue": "2.00",
          "ordinal": 393,
          "properties": {
           "BACK_COLOR": null,
           "FONT_FLAGS": 0,
           "FORE_COLOR": null
          },
          "value": 2
         },
         {
          "formattedValue": "5.00",
          "ordinal": 394,
          "properties": {
           "BACK_COLOR": null,
           "FONT_FLAGS": 0,
           "FORE_COLOR": null
          },
          "value": 5
         },
         {
          "formattedValue": "1.00",
          "ordinal": 395,
          "properties": {
           "BACK_COLOR": null,
           "FONT_FLAGS": 0,
           "FORE_COLOR": null
          },
          "value": 1
         },
         {
          "formattedValue": "5.00",
          "ordinal": 396,
          "properties": {
           "BACK_COLOR": null,
           "FONT_FLAGS": 0,
           "FORE_COLOR": null
          },
          "value": 5
         },
         {
          "formattedValue": "1.00",
          "ordinal": 397,
          "properties": {
           "BACK_COLOR": null,
           "FONT_FLAGS": 0,
           "FORE_COLOR": null
          },
          "value": 1
         },
         {
          "formattedValue": "5.00",
          "ordinal": 398,
          "properties": {
           "BACK_COLOR": null,
           "FONT_FLAGS": 0,
           "FORE_COLOR": null
          },
          "value": 5
         },
         {
          "formattedValue": "1.00",
          "ordinal": 399,
          "properties": {
           "BACK_COLOR": null,
           "FONT_FLAGS": 0,
           "FORE_COLOR": null
          },
          "value": 1
         },
         {
          "formattedValue": "5.00",
          "ordinal": 400,
          "properties": {
           "BACK_COLOR": null,
           "FONT_FLAGS": 0,
           "FORE_COLOR": null
          },
          "value": 5
         },
         {
          "formattedValue": "44.00",
          "ordinal": 401,
          "properties": {
           "BACK_COLOR": null,
           "FONT_FLAGS": 0,
           "FORE_COLOR": null
          },
          "value": 44
         },
         {
          "formattedValue": "5.00",
          "ordinal": 402,
          "properties": {
           "BACK_COLOR": null,
           "FONT_FLAGS": 0,
           "FORE_COLOR": null
          },
          "value": 5
         },
         {
          "formattedValue": "13.00",
          "ordinal": 403,
          "properties": {
           "BACK_COLOR": null,
           "FONT_FLAGS": 0,
           "FORE_COLOR": null
          },
          "value": 13
         },
         {
          "formattedValue": "5.00",
          "ordinal": 404,
          "properties": {
           "BACK_COLOR": null,
           "FONT_FLAGS": 0,
           "FORE_COLOR": null
          },
          "value": 5
         },
         {
          "formattedValue": "3.00",
          "ordinal": 405,
          "properties": {
           "BACK_COLOR": null,
           "FONT_FLAGS": 0,
           "FORE_COLOR": null
          },
          "value": 3
         },
         {
          "formattedValue": "5.00",
          "ordinal": 406,
          "properties": {
           "BACK_COLOR": null,
           "FONT_FLAGS": 0,
           "FORE_COLOR": null
          },
          "value": 5
         },
         {
          "formattedValue": "2.00",
          "ordinal": 407,
          "properties": {
           "BACK_COLOR": null,
           "FONT_FLAGS": 0,
           "FORE_COLOR": null
          },
          "value": 2
         },
         {
          "formattedValue": "5.00",
          "ordinal": 408,
          "properties": {
           "BACK_COLOR": null,
           "FONT_FLAGS": 0,
           "FORE_COLOR": null
          },
          "value": 5
         },
         {
          "formattedValue": "1.00",
          "ordinal": 409,
          "properties": {
           "BACK_COLOR": null,
           "FONT_FLAGS": 0,
           "FORE_COLOR": null
          },
          "value": 1
         },
         {
          "formattedValue": "5.00",
          "ordinal": 410,
          "properties": {
           "BACK_COLOR": null,
           "FONT_FLAGS": 0,
           "FORE_COLOR": null
          },
          "value": 5
         },
         {
          "formattedValue": "1.00",
          "ordinal": 411,
          "properties": {
           "BACK_COLOR": null,
           "FONT_FLAGS": 0,
           "FORE_COLOR": null
          },
          "value": 1
         },
         {
          "formattedValue": "4.90",
          "ordinal": 412,
          "properties": {
           "BACK_COLOR": null,
           "FONT_FLAGS": 0,
           "FORE_COLOR": null
          },
          "value": 4.9
         },
         {
          "formattedValue": "7.00",
          "ordinal": 413,
          "properties": {
           "BACK_COLOR": null,
           "FONT_FLAGS": 0,
           "FORE_COLOR": null
          },
          "value": 7
         },
         {
          "formattedValue": "4.80",
          "ordinal": 414,
          "properties": {
           "BACK_COLOR": null,
           "FONT_FLAGS": 0,
           "FORE_COLOR": null
          },
          "value": 4.8
         },
         {
          "formattedValue": "109,500.00",
          "ordinal": 415,
          "properties": {
           "BACK_COLOR": null,
           "FONT_FLAGS": 0,
           "FORE_COLOR": null
          },
          "value": 109500
         },
         {
          "formattedValue": "4.80",
          "ordinal": 416,
          "properties": {
           "BACK_COLOR": null,
           "FONT_FLAGS": 0,
           "FORE_COLOR": null
          },
          "value": 4.8
         },
         {
          "formattedValue": "130.00",
          "ordinal": 417,
          "properties": {
           "BACK_COLOR": null,
           "FONT_FLAGS": 0,
           "FORE_COLOR": null
          },
          "value": 130
         },
         {
          "formattedValue": "4.70",
          "ordinal": 418,
          "properties": {
           "BACK_COLOR": null,
           "FONT_FLAGS": 0,
           "FORE_COLOR": null
          },
          "value": 4.7
         },
         {
          "formattedValue": "4,595.00",
          "ordinal": 419,
          "properties": {
           "BACK_COLOR": null,
           "FONT_FLAGS": 0,
           "FORE_COLOR": null
          },
          "value": 4595
         },
         {
          "formattedValue": "4.80",
          "ordinal": 420,
          "properties": {
           "BACK_COLOR": null,
           "FONT_FLAGS": 0,
           "FORE_COLOR": null
          },
          "value": 4.8
         },
         {
          "formattedValue": "3,167.00",
          "ordinal": 421,
          "properties": {
           "BACK_COLOR": null,
           "FONT_FLAGS": 0,
           "FORE_COLOR": null
          },
          "value": 3167
         },
         {
          "formattedValue": "4.70",
          "ordinal": 422,
          "properties": {
           "BACK_COLOR": null,
           "FONT_FLAGS": 0,
           "FORE_COLOR": null
          },
          "value": 4.7
         },
         {
          "formattedValue": "126.00",
          "ordinal": 423,
          "properties": {
           "BACK_COLOR": null,
           "FONT_FLAGS": 0,
           "FORE_COLOR": null
          },
          "value": 126
         },
         {
          "formattedValue": "4.70",
          "ordinal": 424,
          "properties": {
           "BACK_COLOR": null,
           "FONT_FLAGS": 0,
           "FORE_COLOR": null
          },
          "value": 4.7
         },
         {
          "formattedValue": "114.00",
          "ordinal": 425,
          "properties": {
           "BACK_COLOR": null,
           "FONT_FLAGS": 0,
           "FORE_COLOR": null
          },
          "value": 114
         },
         {
          "formattedValue": "4.60",
          "ordinal": 426,
          "properties": {
           "BACK_COLOR": null,
           "FONT_FLAGS": 0,
           "FORE_COLOR": null
          },
          "value": 4.6
         },
         {
          "formattedValue": "353,813.00",
          "ordinal": 427,
          "properties": {
           "BACK_COLOR": null,
           "FONT_FLAGS": 0,
           "FORE_COLOR": null
          },
          "value": 353813
         },
         {
          "formattedValue": "4.60",
          "ordinal": 428,
          "properties": {
           "BACK_COLOR": null,
           "FONT_FLAGS": 0,
           "FORE_COLOR": null
          },
          "value": 4.6
         },
         {
          "formattedValue": "39,189.00",
          "ordinal": 429,
          "properties": {
           "BACK_COLOR": null,
           "FONT_FLAGS": 0,
           "FORE_COLOR": null
          },
          "value": 39189
         },
         {
          "formattedValue": "4.60",
          "ordinal": 430,
          "properties": {
           "BACK_COLOR": null,
           "FONT_FLAGS": 0,
           "FORE_COLOR": null
          },
          "value": 4.6
         },
         {
          "formattedValue": "36,857.00",
          "ordinal": 431,
          "properties": {
           "BACK_COLOR": null,
           "FONT_FLAGS": 0,
           "FORE_COLOR": null
          },
          "value": 36857
         },
         {
          "formattedValue": "4.60",
          "ordinal": 432,
          "properties": {
           "BACK_COLOR": null,
           "FONT_FLAGS": 0,
           "FORE_COLOR": null
          },
          "value": 4.6
         },
         {
          "formattedValue": "2,669.00",
          "ordinal": 433,
          "properties": {
           "BACK_COLOR": null,
           "FONT_FLAGS": 0,
           "FORE_COLOR": null
          },
          "value": 2669
         },
         {
          "formattedValue": "4.50",
          "ordinal": 434,
          "properties": {
           "BACK_COLOR": null,
           "FONT_FLAGS": 0,
           "FORE_COLOR": null
          },
          "value": 4.5
         },
         {
          "formattedValue": "103,305.00",
          "ordinal": 435,
          "properties": {
           "BACK_COLOR": null,
           "FONT_FLAGS": 0,
           "FORE_COLOR": null
          },
          "value": 103305
         },
         {
          "formattedValue": "4.50",
          "ordinal": 436,
          "properties": {
           "BACK_COLOR": null,
           "FONT_FLAGS": 0,
           "FORE_COLOR": null
          },
          "value": 4.5
         },
         {
          "formattedValue": "8,481.00",
          "ordinal": 437,
          "properties": {
           "BACK_COLOR": null,
           "FONT_FLAGS": 0,
           "FORE_COLOR": null
          },
          "value": 8481
         },
         {
          "formattedValue": "4.50",
          "ordinal": 438,
          "properties": {
           "BACK_COLOR": null,
           "FONT_FLAGS": 0,
           "FORE_COLOR": null
          },
          "value": 4.5
         },
         {
          "formattedValue": "118.00",
          "ordinal": 439,
          "properties": {
           "BACK_COLOR": null,
           "FONT_FLAGS": 0,
           "FORE_COLOR": null
          },
          "value": 118
         },
         {
          "formattedValue": "4.70",
          "ordinal": 440,
          "properties": {
           "BACK_COLOR": null,
           "FONT_FLAGS": 0,
           "FORE_COLOR": null
          },
          "value": 4.7
         },
         {
          "formattedValue": "11,661.00",
          "ordinal": 441,
          "properties": {
           "BACK_COLOR": null,
           "FONT_FLAGS": 0,
           "FORE_COLOR": null
          },
          "value": 11661
         },
         {
          "formattedValue": "4.60",
          "ordinal": 442,
          "properties": {
           "BACK_COLOR": null,
           "FONT_FLAGS": 0,
           "FORE_COLOR": null
          },
          "value": 4.6
         },
         {
          "formattedValue": "2,133,296.00",
          "ordinal": 443,
          "properties": {
           "BACK_COLOR": null,
           "FONT_FLAGS": 0,
           "FORE_COLOR": null
          },
          "value": 2133296
         },
         {
          "formattedValue": "4.60",
          "ordinal": 444,
          "properties": {
           "BACK_COLOR": null,
           "FONT_FLAGS": 0,
           "FORE_COLOR": null
          },
          "value": 4.6
         },
         {
          "formattedValue": "243,747.00",
          "ordinal": 445,
          "properties": {
           "BACK_COLOR": null,
           "FONT_FLAGS": 0,
           "FORE_COLOR": null
          },
          "value": 243747
         },
         {
          "formattedValue": "4.60",
          "ordinal": 446,
          "properties": {
           "BACK_COLOR": null,
           "FONT_FLAGS": 0,
           "FORE_COLOR": null
          },
          "value": 4.6
         },
         {
          "formattedValue": "50,725.00",
          "ordinal": 447,
          "properties": {
           "BACK_COLOR": null,
           "FONT_FLAGS": 0,
           "FORE_COLOR": null
          },
          "value": 50725
         },
         {
          "formattedValue": "4.60",
          "ordinal": 448,
          "properties": {
           "BACK_COLOR": null,
           "FONT_FLAGS": 0,
           "FORE_COLOR": null
          },
          "value": 4.6
         },
         {
          "formattedValue": "22,508.00",
          "ordinal": 449,
          "properties": {
           "BACK_COLOR": null,
           "FONT_FLAGS": 0,
           "FORE_COLOR": null
          },
          "value": 22508
         },
         {
          "formattedValue": "4.60",
          "ordinal": 450,
          "properties": {
           "BACK_COLOR": null,
           "FONT_FLAGS": 0,
           "FORE_COLOR": null
          },
          "value": 4.6
         },
         {
          "formattedValue": "6,238.00",
          "ordinal": 451,
          "properties": {
           "BACK_COLOR": null,
           "FONT_FLAGS": 0,
           "FORE_COLOR": null
          },
          "value": 6238
         },
         {
          "formattedValue": "4.60",
          "ordinal": 452,
          "properties": {
           "BACK_COLOR": null,
           "FONT_FLAGS": 0,
           "FORE_COLOR": null
          },
          "value": 4.6
         },
         {
          "formattedValue": "3,771.00",
          "ordinal": 453,
          "properties": {
           "BACK_COLOR": null,
           "FONT_FLAGS": 0,
           "FORE_COLOR": null
          },
          "value": 3771
         },
         {
          "formattedValue": "4.60",
          "ordinal": 454,
          "properties": {
           "BACK_COLOR": null,
           "FONT_FLAGS": 0,
           "FORE_COLOR": null
          },
          "value": 4.6
         },
         {
          "formattedValue": "732.00",
          "ordinal": 455,
          "properties": {
           "BACK_COLOR": null,
           "FONT_FLAGS": 0,
           "FORE_COLOR": null
          },
          "value": 732
         },
         {
          "formattedValue": "4.50",
          "ordinal": 456,
          "properties": {
           "BACK_COLOR": null,
           "FONT_FLAGS": 0,
           "FORE_COLOR": null
          },
          "value": 4.5
         },
         {
          "formattedValue": "787,177.00",
          "ordinal": 457,
          "properties": {
           "BACK_COLOR": null,
           "FONT_FLAGS": 0,
           "FORE_COLOR": null
          },
          "value": 787177
         },
         {
          "formattedValue": "4.50",
          "ordinal": 458,
          "properties": {
           "BACK_COLOR": null,
           "FONT_FLAGS": 0,
           "FORE_COLOR": null
          },
          "value": 4.5
         },
         {
          "formattedValue": "16,372.00",
          "ordinal": 459,
          "properties": {
           "BACK_COLOR": null,
           "FONT_FLAGS": 0,
           "FORE_COLOR": null
          },
          "value": 16372
         },
         {
          "formattedValue": "5.00",
          "ordinal": 460,
          "properties": {
           "BACK_COLOR": null,
           "FONT_FLAGS": 0,
           "FORE_COLOR": null
          },
          "value": 5
         },
         {
          "formattedValue": "43.00",
          "ordinal": 461,
          "properties": {
           "BACK_COLOR": null,
           "FONT_FLAGS": 0,
           "FORE_COLOR": null
          },
          "value": 43
         },
         {
          "formattedValue": "5.00",
          "ordinal": 462,
          "properties": {
           "BACK_COLOR": null,
           "FONT_FLAGS": 0,
           "FORE_COLOR": null
          },
          "value": 5
         },
         {
          "formattedValue": "22.00",
          "ordinal": 463,
          "properties": {
           "BACK_COLOR": null,
           "FONT_FLAGS": 0,
           "FORE_COLOR": null
          },
          "value": 22
         },
         {
          "formattedValue": "5.00",
          "ordinal": 464,
          "properties": {
           "BACK_COLOR": null,
           "FONT_FLAGS": 0,
           "FORE_COLOR": null
          },
          "value": 5
         },
         {
          "formattedValue": "10.00",
          "ordinal": 465,
          "properties": {
           "BACK_COLOR": null,
           "FONT_FLAGS": 0,
           "FORE_COLOR": null
          },
          "value": 10
         },
         {
          "formattedValue": "5.00",
          "ordinal": 466,
          "properties": {
           "BACK_COLOR": null,
           "FONT_FLAGS": 0,
           "FORE_COLOR": null
          },
          "value": 5
         },
         {
          "formattedValue": "4.00",
          "ordinal": 467,
          "properties": {
           "BACK_COLOR": null,
           "FONT_FLAGS": 0,
           "FORE_COLOR": null
          },
          "value": 4
         },
         {
          "formattedValue": "5.00",
          "ordinal": 468,
          "properties": {
           "BACK_COLOR": null,
           "FONT_FLAGS": 0,
           "FORE_COLOR": null
          },
          "value": 5
         },
         {
          "formattedValue": "4.00",
          "ordinal": 469,
          "properties": {
           "BACK_COLOR": null,
           "FONT_FLAGS": 0,
           "FORE_COLOR": null
          },
          "value": 4
         },
         {
          "formattedValue": "5.00",
          "ordinal": 470,
          "properties": {
           "BACK_COLOR": null,
           "FONT_FLAGS": 0,
           "FORE_COLOR": null
          },
          "value": 5
         },
         {
          "formattedValue": "3.00",
          "ordinal": 471,
          "properties": {
           "BACK_COLOR": null,
           "FONT_FLAGS": 0,
           "FORE_COLOR": null
          },
          "value": 3
         },
         {
          "formattedValue": "5.00",
          "ordinal": 472,
          "properties": {
           "BACK_COLOR": null,
           "FONT_FLAGS": 0,
           "FORE_COLOR": null
          },
          "value": 5
         },
         {
          "formattedValue": "3.00",
          "ordinal": 473,
          "properties": {
           "BACK_COLOR": null,
           "FONT_FLAGS": 0,
           "FORE_COLOR": null
          },
          "value": 3
         },
         {
          "formattedValue": "4.90",
          "ordinal": 474,
          "properties": {
           "BACK_COLOR": null,
           "FONT_FLAGS": 0,
           "FORE_COLOR": null
          },
          "value": 4.9
         },
         {
          "formattedValue": "198.00",
          "ordinal": 475,
          "properties": {
           "BACK_COLOR": null,
           "FONT_FLAGS": 0,
           "FORE_COLOR": null
          },
          "value": 198
         },
         {
          "formattedValue": "4.90",
          "ordinal": 476,
          "properties": {
           "BACK_COLOR": null,
           "FONT_FLAGS": 0,
           "FORE_COLOR": null
          },
          "value": 4.9
         },
         {
          "formattedValue": "34.00",
          "ordinal": 477,
          "properties": {
           "BACK_COLOR": null,
           "FONT_FLAGS": 0,
           "FORE_COLOR": null
          },
          "value": 34
         },
         {
          "formattedValue": "4.90",
          "ordinal": 478,
          "properties": {
           "BACK_COLOR": null,
           "FONT_FLAGS": 0,
           "FORE_COLOR": null
          },
          "value": 4.9
         },
         {
          "formattedValue": "13.00",
          "ordinal": 479,
          "properties": {
           "BACK_COLOR": null,
           "FONT_FLAGS": 0,
           "FORE_COLOR": null
          },
          "value": 13
         },
         {
          "formattedValue": "5.00",
          "ordinal": 480,
          "properties": {
           "BACK_COLOR": null,
           "FONT_FLAGS": 0,
           "FORE_COLOR": null
          },
          "value": 5
         },
         {
          "formattedValue": "8.00",
          "ordinal": 481,
          "properties": {
           "BACK_COLOR": null,
           "FONT_FLAGS": 0,
           "FORE_COLOR": null
          },
          "value": 8
         },
         {
          "formattedValue": "5.00",
          "ordinal": 482,
          "properties": {
           "BACK_COLOR": null,
           "FONT_FLAGS": 0,
           "FORE_COLOR": null
          },
          "value": 5
         },
         {
          "formattedValue": "5.00",
          "ordinal": 483,
          "properties": {
           "BACK_COLOR": null,
           "FONT_FLAGS": 0,
           "FORE_COLOR": null
          },
          "value": 5
         },
         {
          "formattedValue": "5.00",
          "ordinal": 484,
          "properties": {
           "BACK_COLOR": null,
           "FONT_FLAGS": 0,
           "FORE_COLOR": null
          },
          "value": 5
         },
         {
          "formattedValue": "3.00",
          "ordinal": 485,
          "properties": {
           "BACK_COLOR": null,
           "FONT_FLAGS": 0,
           "FORE_COLOR": null
          },
          "value": 3
         },
         {
          "formattedValue": "5.00",
          "ordinal": 486,
          "properties": {
           "BACK_COLOR": null,
           "FONT_FLAGS": 0,
           "FORE_COLOR": null
          },
          "value": 5
         },
         {
          "formattedValue": "1.00",
          "ordinal": 487,
          "properties": {
           "BACK_COLOR": null,
           "FONT_FLAGS": 0,
           "FORE_COLOR": null
          },
          "value": 1
         },
         {
          "formattedValue": "5.00",
          "ordinal": 488,
          "properties": {
           "BACK_COLOR": null,
           "FONT_FLAGS": 0,
           "FORE_COLOR": null
          },
          "value": 5
         },
         {
          "formattedValue": "1.00",
          "ordinal": 489,
          "properties": {
           "BACK_COLOR": null,
           "FONT_FLAGS": 0,
           "FORE_COLOR": null
          },
          "value": 1
         },
         {
          "formattedValue": "4.80",
          "ordinal": 490,
          "properties": {
           "BACK_COLOR": null,
           "FONT_FLAGS": 0,
           "FORE_COLOR": null
          },
          "value": 4.8
         },
         {
          "formattedValue": "34,443.00",
          "ordinal": 491,
          "properties": {
           "BACK_COLOR": null,
           "FONT_FLAGS": 0,
           "FORE_COLOR": null
          },
          "value": 34443
         },
         {
          "formattedValue": "4.80",
          "ordinal": 492,
          "properties": {
           "BACK_COLOR": null,
           "FONT_FLAGS": 0,
           "FORE_COLOR": null
          },
          "value": 4.8
         },
         {
          "formattedValue": "341.00",
          "ordinal": 493,
          "properties": {
           "BACK_COLOR": null,
           "FONT_FLAGS": 0,
           "FORE_COLOR": null
          },
          "value": 341
         },
         {
          "formattedValue": "4.80",
          "ordinal": 494,
          "properties": {
           "BACK_COLOR": null,
           "FONT_FLAGS": 0,
           "FORE_COLOR": null
          },
          "value": 4.8
         },
         {
          "formattedValue": "10.00",
          "ordinal": 495,
          "properties": {
           "BACK_COLOR": null,
           "FONT_FLAGS": 0,
           "FORE_COLOR": null
          },
          "value": 10
         },
         {
          "formattedValue": "4.80",
          "ordinal": 496,
          "properties": {
           "BACK_COLOR": null,
           "FONT_FLAGS": 0,
           "FORE_COLOR": null
          },
          "value": 4.8
         },
         {
          "formattedValue": "6.00",
          "ordinal": 497,
          "properties": {
           "BACK_COLOR": null,
           "FONT_FLAGS": 0,
           "FORE_COLOR": null
          },
          "value": 6
         },
         {
          "formattedValue": "4.80",
          "ordinal": 498,
          "properties": {
           "BACK_COLOR": null,
           "FONT_FLAGS": 0,
           "FORE_COLOR": null
          },
          "value": 4.8
         },
         {
          "formattedValue": "6.00",
          "ordinal": 499,
          "properties": {
           "BACK_COLOR": null,
           "FONT_FLAGS": 0,
           "FORE_COLOR": null
          },
          "value": 6
         },
         {
          "formattedValue": "5.00",
          "ordinal": 500,
          "properties": {
           "BACK_COLOR": null,
           "FONT_FLAGS": 0,
           "FORE_COLOR": null
          },
          "value": 5
         },
         {
          "formattedValue": "104.00",
          "ordinal": 501,
          "properties": {
           "BACK_COLOR": null,
           "FONT_FLAGS": 0,
           "FORE_COLOR": null
          },
          "value": 104
         },
         {
          "formattedValue": "5.00",
          "ordinal": 502,
          "properties": {
           "BACK_COLOR": null,
           "FONT_FLAGS": 0,
           "FORE_COLOR": null
          },
          "value": 5
         },
         {
          "formattedValue": "12.00",
          "ordinal": 503,
          "properties": {
           "BACK_COLOR": null,
           "FONT_FLAGS": 0,
           "FORE_COLOR": null
          },
          "value": 12
         },
         {
          "formattedValue": "5.00",
          "ordinal": 504,
          "properties": {
           "BACK_COLOR": null,
           "FONT_FLAGS": 0,
           "FORE_COLOR": null
          },
          "value": 5
         },
         {
          "formattedValue": "4.00",
          "ordinal": 505,
          "properties": {
           "BACK_COLOR": null,
           "FONT_FLAGS": 0,
           "FORE_COLOR": null
          },
          "value": 4
         },
         {
          "formattedValue": "5.00",
          "ordinal": 506,
          "properties": {
           "BACK_COLOR": null,
           "FONT_FLAGS": 0,
           "FORE_COLOR": null
          },
          "value": 5
         },
         {
          "formattedValue": "4.00",
          "ordinal": 507,
          "properties": {
           "BACK_COLOR": null,
           "FONT_FLAGS": 0,
           "FORE_COLOR": null
          },
          "value": 4
         },
         {
          "formattedValue": "5.00",
          "ordinal": 508,
          "properties": {
           "BACK_COLOR": null,
           "FONT_FLAGS": 0,
           "FORE_COLOR": null
          },
          "value": 5
         },
         {
          "formattedValue": "4.00",
          "ordinal": 509,
          "properties": {
           "BACK_COLOR": null,
           "FONT_FLAGS": 0,
           "FORE_COLOR": null
          },
          "value": 4
         },
         {
          "formattedValue": "5.00",
          "ordinal": 510,
          "properties": {
           "BACK_COLOR": null,
           "FONT_FLAGS": 0,
           "FORE_COLOR": null
          },
          "value": 5
         },
         {
          "formattedValue": "2.00",
          "ordinal": 511,
          "properties": {
           "BACK_COLOR": null,
           "FONT_FLAGS": 0,
           "FORE_COLOR": null
          },
          "value": 2
         },
         {
          "formattedValue": "5.00",
          "ordinal": 512,
          "properties": {
           "BACK_COLOR": null,
           "FONT_FLAGS": 0,
           "FORE_COLOR": null
          },
          "value": 5
         },
         {
          "formattedValue": "2.00",
          "ordinal": 513,
          "properties": {
           "BACK_COLOR": null,
           "FONT_FLAGS": 0,
           "FORE_COLOR": null
          },
          "value": 2
         },
         {
          "formattedValue": "5.00",
          "ordinal": 514,
          "properties": {
           "BACK_COLOR": null,
           "FONT_FLAGS": 0,
           "FORE_COLOR": null
          },
          "value": 5
         },
         {
          "formattedValue": "1.00",
          "ordinal": 515,
          "properties": {
           "BACK_COLOR": null,
           "FONT_FLAGS": 0,
           "FORE_COLOR": null
          },
          "value": 1
         },
         {
          "formattedValue": "4.90",
          "ordinal": 516,
          "properties": {
           "BACK_COLOR": null,
           "FONT_FLAGS": 0,
           "FORE_COLOR": null
          },
          "value": 4.9
         },
         {
          "formattedValue": "8.00",
          "ordinal": 517,
          "properties": {
           "BACK_COLOR": null,
           "FONT_FLAGS": 0,
           "FORE_COLOR": null
          },
          "value": 8
         },
         {
          "formattedValue": "4.90",
          "ordinal": 518,
          "properties": {
           "BACK_COLOR": null,
           "FONT_FLAGS": 0,
           "FORE_COLOR": null
          },
          "value": 4.9
         },
         {
          "formattedValue": "7.00",
          "ordinal": 519,
          "properties": {
           "BACK_COLOR": null,
           "FONT_FLAGS": 0,
           "FORE_COLOR": null
          },
          "value": 7
         },
         {
          "formattedValue": "5.00",
          "ordinal": 520,
          "properties": {
           "BACK_COLOR": null,
           "FONT_FLAGS": 0,
           "FORE_COLOR": null
          },
          "value": 5
         },
         {
          "formattedValue": "8.00",
          "ordinal": 521,
          "properties": {
           "BACK_COLOR": null,
           "FONT_FLAGS": 0,
           "FORE_COLOR": null
          },
          "value": 8
         },
         {
          "formattedValue": "5.00",
          "ordinal": 522,
          "properties": {
           "BACK_COLOR": null,
           "FONT_FLAGS": 0,
           "FORE_COLOR": null
          },
          "value": 5
         },
         {
          "formattedValue": "7.00",
          "ordinal": 523,
          "properties": {
           "BACK_COLOR": null,
           "FONT_FLAGS": 0,
           "FORE_COLOR": null
          },
          "value": 7
         },
         {
          "formattedValue": "5.00",
          "ordinal": 524,
          "properties": {
           "BACK_COLOR": null,
           "FONT_FLAGS": 0,
           "FORE_COLOR": null
          },
          "value": 5
         },
         {
          "formattedValue": "6.00",
          "ordinal": 525,
          "properties": {
           "BACK_COLOR": null,
           "FONT_FLAGS": 0,
           "FORE_COLOR": null
          },
          "value": 6
         },
         {
          "formattedValue": "5.00",
          "ordinal": 526,
          "properties": {
           "BACK_COLOR": null,
           "FONT_FLAGS": 0,
           "FORE_COLOR": null
          },
          "value": 5
         },
         {
          "formattedValue": "6.00",
          "ordinal": 527,
          "properties": {
           "BACK_COLOR": null,
           "FONT_FLAGS": 0,
           "FORE_COLOR": null
          },
          "value": 6
         },
         {
          "formattedValue": "5.00",
          "ordinal": 528,
          "properties": {
           "BACK_COLOR": null,
           "FONT_FLAGS": 0,
           "FORE_COLOR": null
          },
          "value": 5
         },
         {
          "formattedValue": "5.00",
          "ordinal": 529,
          "properties": {
           "BACK_COLOR": null,
           "FONT_FLAGS": 0,
           "FORE_COLOR": null
          },
          "value": 5
         },
         {
          "formattedValue": "5.00",
          "ordinal": 530,
          "properties": {
           "BACK_COLOR": null,
           "FONT_FLAGS": 0,
           "FORE_COLOR": null
          },
          "value": 5
         },
         {
          "formattedValue": "4.00",
          "ordinal": 531,
          "properties": {
           "BACK_COLOR": null,
           "FONT_FLAGS": 0,
           "FORE_COLOR": null
          },
          "value": 4
         },
         {
          "formattedValue": "5.00",
          "ordinal": 532,
          "properties": {
           "BACK_COLOR": null,
           "FONT_FLAGS": 0,
           "FORE_COLOR": null
          },
          "value": 5
         },
         {
          "formattedValue": "3.00",
          "ordinal": 533,
          "properties": {
           "BACK_COLOR": null,
           "FONT_FLAGS": 0,
           "FORE_COLOR": null
          },
          "value": 3
         },
         {
          "formattedValue": "5.00",
          "ordinal": 534,
          "properties": {
           "BACK_COLOR": null,
           "FONT_FLAGS": 0,
           "FORE_COLOR": null
          },
          "value": 5
         },
         {
          "formattedValue": "2.00",
          "ordinal": 535,
          "properties": {
           "BACK_COLOR": null,
           "FONT_FLAGS": 0,
           "FORE_COLOR": null
          },
          "value": 2
         },
         {
          "formattedValue": "5.00",
          "ordinal": 536,
          "properties": {
           "BACK_COLOR": null,
           "FONT_FLAGS": 0,
           "FORE_COLOR": null
          },
          "value": 5
         },
         {
          "formattedValue": "1.00",
          "ordinal": 537,
          "properties": {
           "BACK_COLOR": null,
           "FONT_FLAGS": 0,
           "FORE_COLOR": null
          },
          "value": 1
         },
         {
          "formattedValue": "5.00",
          "ordinal": 538,
          "properties": {
           "BACK_COLOR": null,
           "FONT_FLAGS": 0,
           "FORE_COLOR": null
          },
          "value": 5
         },
         {
          "formattedValue": "1.00",
          "ordinal": 539,
          "properties": {
           "BACK_COLOR": null,
           "FONT_FLAGS": 0,
           "FORE_COLOR": null
          },
          "value": 1
         },
         {
          "formattedValue": "5.00",
          "ordinal": 540,
          "properties": {
           "BACK_COLOR": null,
           "FONT_FLAGS": 0,
           "FORE_COLOR": null
          },
          "value": 5
         },
         {
          "formattedValue": "19.00",
          "ordinal": 541,
          "properties": {
           "BACK_COLOR": null,
           "FONT_FLAGS": 0,
           "FORE_COLOR": null
          },
          "value": 19
         },
         {
          "formattedValue": "5.00",
          "ordinal": 542,
          "properties": {
           "BACK_COLOR": null,
           "FONT_FLAGS": 0,
           "FORE_COLOR": null
          },
          "value": 5
         },
         {
          "formattedValue": "14.00",
          "ordinal": 543,
          "properties": {
           "BACK_COLOR": null,
           "FONT_FLAGS": 0,
           "FORE_COLOR": null
          },
          "value": 14
         },
         {
          "formattedValue": "5.00",
          "ordinal": 544,
          "properties": {
           "BACK_COLOR": null,
           "FONT_FLAGS": 0,
           "FORE_COLOR": null
          },
          "value": 5
         },
         {
          "formattedValue": "12.00",
          "ordinal": 545,
          "properties": {
           "BACK_COLOR": null,
           "FONT_FLAGS": 0,
           "FORE_COLOR": null
          },
          "value": 12
         },
         {
          "formattedValue": "5.00",
          "ordinal": 546,
          "properties": {
           "BACK_COLOR": null,
           "FONT_FLAGS": 0,
           "FORE_COLOR": null
          },
          "value": 5
         },
         {
          "formattedValue": "10.00",
          "ordinal": 547,
          "properties": {
           "BACK_COLOR": null,
           "FONT_FLAGS": 0,
           "FORE_COLOR": null
          },
          "value": 10
         },
         {
          "formattedValue": "5.00",
          "ordinal": 548,
          "properties": {
           "BACK_COLOR": null,
           "FONT_FLAGS": 0,
           "FORE_COLOR": null
          },
          "value": 5
         },
         {
          "formattedValue": "3.00",
          "ordinal": 549,
          "properties": {
           "BACK_COLOR": null,
           "FONT_FLAGS": 0,
           "FORE_COLOR": null
          },
          "value": 3
         },
         {
          "formattedValue": "5.00",
          "ordinal": 550,
          "properties": {
           "BACK_COLOR": null,
           "FONT_FLAGS": 0,
           "FORE_COLOR": null
          },
          "value": 5
         },
         {
          "formattedValue": "2.00",
          "ordinal": 551,
          "properties": {
           "BACK_COLOR": null,
           "FONT_FLAGS": 0,
           "FORE_COLOR": null
          },
          "value": 2
         },
         {
          "formattedValue": "5.00",
          "ordinal": 552,
          "properties": {
           "BACK_COLOR": null,
           "FONT_FLAGS": 0,
           "FORE_COLOR": null
          },
          "value": 5
         },
         {
          "formattedValue": "2.00",
          "ordinal": 553,
          "properties": {
           "BACK_COLOR": null,
           "FONT_FLAGS": 0,
           "FORE_COLOR": null
          },
          "value": 2
         },
         {
          "formattedValue": "5.00",
          "ordinal": 554,
          "properties": {
           "BACK_COLOR": null,
           "FONT_FLAGS": 0,
           "FORE_COLOR": null
          },
          "value": 5
         },
         {
          "formattedValue": "2.00",
          "ordinal": 555,
          "properties": {
           "BACK_COLOR": null,
           "FONT_FLAGS": 0,
           "FORE_COLOR": null
          },
          "value": 2
         },
         {
          "formattedValue": "5.00",
          "ordinal": 556,
          "properties": {
           "BACK_COLOR": null,
           "FONT_FLAGS": 0,
           "FORE_COLOR": null
          },
          "value": 5
         },
         {
          "formattedValue": "2.00",
          "ordinal": 557,
          "properties": {
           "BACK_COLOR": null,
           "FONT_FLAGS": 0,
           "FORE_COLOR": null
          },
          "value": 2
         },
         {
          "formattedValue": "5.00",
          "ordinal": 558,
          "properties": {
           "BACK_COLOR": null,
           "FONT_FLAGS": 0,
           "FORE_COLOR": null
          },
          "value": 5
         },
         {
          "formattedValue": "1.00",
          "ordinal": 559,
          "properties": {
           "BACK_COLOR": null,
           "FONT_FLAGS": 0,
           "FORE_COLOR": null
          },
          "value": 1
         },
         {
          "formattedValue": "5.00",
          "ordinal": 560,
          "properties": {
           "BACK_COLOR": null,
           "FONT_FLAGS": 0,
           "FORE_COLOR": null
          },
          "value": 5
         },
         {
          "formattedValue": "6.00",
          "ordinal": 561,
          "properties": {
           "BACK_COLOR": null,
           "FONT_FLAGS": 0,
           "FORE_COLOR": null
          },
          "value": 6
         },
         {
          "formattedValue": "5.00",
          "ordinal": 562,
          "properties": {
           "BACK_COLOR": null,
           "FONT_FLAGS": 0,
           "FORE_COLOR": null
          },
          "value": 5
         },
         {
          "formattedValue": "3.00",
          "ordinal": 563,
          "properties": {
           "BACK_COLOR": null,
           "FONT_FLAGS": 0,
           "FORE_COLOR": null
          },
          "value": 3
         },
         {
          "formattedValue": "5.00",
          "ordinal": 564,
          "properties": {
           "BACK_COLOR": null,
           "FONT_FLAGS": 0,
           "FORE_COLOR": null
          },
          "value": 5
         },
         {
          "formattedValue": "3.00",
          "ordinal": 565,
          "properties": {
           "BACK_COLOR": null,
           "FONT_FLAGS": 0,
           "FORE_COLOR": null
          },
          "value": 3
         },
         {
          "formattedValue": "4.80",
          "ordinal": 566,
          "properties": {
           "BACK_COLOR": null,
           "FONT_FLAGS": 0,
           "FORE_COLOR": null
          },
          "value": 4.8
         },
         {
          "formattedValue": "43,054.00",
          "ordinal": 567,
          "properties": {
           "BACK_COLOR": null,
           "FONT_FLAGS": 0,
           "FORE_COLOR": null
          },
          "value": 43054
         },
         {
          "formattedValue": "4.80",
          "ordinal": 568,
          "properties": {
           "BACK_COLOR": null,
           "FONT_FLAGS": 0,
           "FORE_COLOR": null
          },
          "value": 4.8
         },
         {
          "formattedValue": "17,882.00",
          "ordinal": 569,
          "properties": {
           "BACK_COLOR": null,
           "FONT_FLAGS": 0,
           "FORE_COLOR": null
          },
          "value": 17882
         },
         {
          "formattedValue": "4.80",
          "ordinal": 570,
          "properties": {
           "BACK_COLOR": null,
           "FONT_FLAGS": 0,
           "FORE_COLOR": null
          },
          "value": 4.8
         },
         {
          "formattedValue": "89.00",
          "ordinal": 571,
          "properties": {
           "BACK_COLOR": null,
           "FONT_FLAGS": 0,
           "FORE_COLOR": null
          },
          "value": 89
         },
         {
          "formattedValue": "4.70",
          "ordinal": 572,
          "properties": {
           "BACK_COLOR": null,
           "FONT_FLAGS": 0,
           "FORE_COLOR": null
          },
          "value": 4.7
         },
         {
          "formattedValue": "1,830,388.00",
          "ordinal": 573,
          "properties": {
           "BACK_COLOR": null,
           "FONT_FLAGS": 0,
           "FORE_COLOR": null
          },
          "value": 1830388
         },
         {
          "formattedValue": "4.70",
          "ordinal": 574,
          "properties": {
           "BACK_COLOR": null,
           "FONT_FLAGS": 0,
           "FORE_COLOR": null
          },
          "value": 4.7
         },
         {
          "formattedValue": "9,971.00",
          "ordinal": 575,
          "properties": {
           "BACK_COLOR": null,
           "FONT_FLAGS": 0,
           "FORE_COLOR": null
          },
          "value": 9971
         },
         {
          "formattedValue": "4.70",
          "ordinal": 576,
          "properties": {
           "BACK_COLOR": null,
           "FONT_FLAGS": 0,
           "FORE_COLOR": null
          },
          "value": 4.7
         },
         {
          "formattedValue": "65.00",
          "ordinal": 577,
          "properties": {
           "BACK_COLOR": null,
           "FONT_FLAGS": 0,
           "FORE_COLOR": null
          },
          "value": 65
         },
         {
          "formattedValue": "4.70",
          "ordinal": 578,
          "properties": {
           "BACK_COLOR": null,
           "FONT_FLAGS": 0,
           "FORE_COLOR": null
          },
          "value": 4.7
         },
         {
          "formattedValue": "57.00",
          "ordinal": 579,
          "properties": {
           "BACK_COLOR": null,
           "FONT_FLAGS": 0,
           "FORE_COLOR": null
          },
          "value": 57
         },
         {
          "formattedValue": "4.90",
          "ordinal": 580,
          "properties": {
           "BACK_COLOR": null,
           "FONT_FLAGS": 0,
           "FORE_COLOR": null
          },
          "value": 4.9
         },
         {
          "formattedValue": "23.00",
          "ordinal": 581,
          "properties": {
           "BACK_COLOR": null,
           "FONT_FLAGS": 0,
           "FORE_COLOR": null
          },
          "value": 23
         },
         {
          "formattedValue": "4.80",
          "ordinal": 582,
          "properties": {
           "BACK_COLOR": null,
           "FONT_FLAGS": 0,
           "FORE_COLOR": null
          },
          "value": 4.8
         },
         {
          "formattedValue": "2,588,730.00",
          "ordinal": 583,
          "properties": {
           "BACK_COLOR": null,
           "FONT_FLAGS": 0,
           "FORE_COLOR": null
          },
          "value": 2588730
         },
         {
          "formattedValue": "4.80",
          "ordinal": 584,
          "properties": {
           "BACK_COLOR": null,
           "FONT_FLAGS": 0,
           "FORE_COLOR": null
          },
          "value": 4.8
         },
         {
          "formattedValue": "332,623.00",
          "ordinal": 585,
          "properties": {
           "BACK_COLOR": null,
           "FONT_FLAGS": 0,
           "FORE_COLOR": null
          },
          "value": 332623
         },
         {
          "formattedValue": "4.80",
          "ordinal": 586,
          "properties": {
           "BACK_COLOR": null,
           "FONT_FLAGS": 0,
           "FORE_COLOR": null
          },
          "value": 4.8
         },
         {
          "formattedValue": "259,003.00",
          "ordinal": 587,
          "properties": {
           "BACK_COLOR": null,
           "FONT_FLAGS": 0,
           "FORE_COLOR": null
          },
          "value": 259003
         },
         {
          "formattedValue": "4.80",
          "ordinal": 588,
          "properties": {
           "BACK_COLOR": null,
           "FONT_FLAGS": 0,
           "FORE_COLOR": null
          },
          "value": 4.8
         },
         {
          "formattedValue": "5,639.00",
          "ordinal": 589,
          "properties": {
           "BACK_COLOR": null,
           "FONT_FLAGS": 0,
           "FORE_COLOR": null
          },
          "value": 5639
         },
         {
          "formattedValue": "4.80",
          "ordinal": 590,
          "properties": {
           "BACK_COLOR": null,
           "FONT_FLAGS": 0,
           "FORE_COLOR": null
          },
          "value": 4.8
         },
         {
          "formattedValue": "18.00",
          "ordinal": 591,
          "properties": {
           "BACK_COLOR": null,
           "FONT_FLAGS": 0,
           "FORE_COLOR": null
          },
          "value": 18
         },
         {
          "formattedValue": "4.70",
          "ordinal": 592,
          "properties": {
           "BACK_COLOR": null,
           "FONT_FLAGS": 0,
           "FORE_COLOR": null
          },
          "value": 4.7
         },
         {
          "formattedValue": "696,665.00",
          "ordinal": 593,
          "properties": {
           "BACK_COLOR": null,
           "FONT_FLAGS": 0,
           "FORE_COLOR": null
          },
          "value": 696665
         },
         {
          "formattedValue": "4.70",
          "ordinal": 594,
          "properties": {
           "BACK_COLOR": null,
           "FONT_FLAGS": 0,
           "FORE_COLOR": null
          },
          "value": 4.7
         },
         {
          "formattedValue": "8,696.00",
          "ordinal": 595,
          "properties": {
           "BACK_COLOR": null,
           "FONT_FLAGS": 0,
           "FORE_COLOR": null
          },
          "value": 8696
         },
         {
          "formattedValue": "4.70",
          "ordinal": 596,
          "properties": {
           "BACK_COLOR": null,
           "FONT_FLAGS": 0,
           "FORE_COLOR": null
          },
          "value": 4.7
         },
         {
          "formattedValue": "70.00",
          "ordinal": 597,
          "properties": {
           "BACK_COLOR": null,
           "FONT_FLAGS": 0,
           "FORE_COLOR": null
          },
          "value": 70
         },
         {
          "formattedValue": "4.70",
          "ordinal": 598,
          "properties": {
           "BACK_COLOR": null,
           "FONT_FLAGS": 0,
           "FORE_COLOR": null
          },
          "value": 4.7
         },
         {
          "formattedValue": "3.00",
          "ordinal": 599,
          "properties": {
           "BACK_COLOR": null,
           "FONT_FLAGS": 0,
           "FORE_COLOR": null
          },
          "value": 3
         },
         {
          "formattedValue": "5.00",
          "ordinal": 600,
          "properties": {
           "BACK_COLOR": null,
           "FONT_FLAGS": 0,
           "FORE_COLOR": null
          },
          "value": 5
         },
         {
          "formattedValue": "47.00",
          "ordinal": 601,
          "properties": {
           "BACK_COLOR": null,
           "FONT_FLAGS": 0,
           "FORE_COLOR": null
          },
          "value": 47
         },
         {
          "formattedValue": "5.00",
          "ordinal": 602,
          "properties": {
           "BACK_COLOR": null,
           "FONT_FLAGS": 0,
           "FORE_COLOR": null
          },
          "value": 5
         },
         {
          "formattedValue": "36.00",
          "ordinal": 603,
          "properties": {
           "BACK_COLOR": null,
           "FONT_FLAGS": 0,
           "FORE_COLOR": null
          },
          "value": 36
         },
         {
          "formattedValue": "5.00",
          "ordinal": 604,
          "properties": {
           "BACK_COLOR": null,
           "FONT_FLAGS": 0,
           "FORE_COLOR": null
          },
          "value": 5
         },
         {
          "formattedValue": "24.00",
          "ordinal": 605,
          "properties": {
           "BACK_COLOR": null,
           "FONT_FLAGS": 0,
           "FORE_COLOR": null
          },
          "value": 24
         },
         {
          "formattedValue": "5.00",
          "ordinal": 606,
          "properties": {
           "BACK_COLOR": null,
           "FONT_FLAGS": 0,
           "FORE_COLOR": null
          },
          "value": 5
         },
         {
          "formattedValue": "6.00",
          "ordinal": 607,
          "properties": {
           "BACK_COLOR": null,
           "FONT_FLAGS": 0,
           "FORE_COLOR": null
          },
          "value": 6
         },
         {
          "formattedValue": "5.00",
          "ordinal": 608,
          "properties": {
           "BACK_COLOR": null,
           "FONT_FLAGS": 0,
           "FORE_COLOR": null
          },
          "value": 5
         },
         {
          "formattedValue": "6.00",
          "ordinal": 609,
          "properties": {
           "BACK_COLOR": null,
           "FONT_FLAGS": 0,
           "FORE_COLOR": null
          },
          "value": 6
         },
         {
          "formattedValue": "5.00",
          "ordinal": 610,
          "properties": {
           "BACK_COLOR": null,
           "FONT_FLAGS": 0,
           "FORE_COLOR": null
          },
          "value": 5
         },
         {
          "formattedValue": "3.00",
          "ordinal": 611,
          "properties": {
           "BACK_COLOR": null,
           "FONT_FLAGS": 0,
           "FORE_COLOR": null
          },
          "value": 3
         },
         {
          "formattedValue": "5.00",
          "ordinal": 612,
          "properties": {
           "BACK_COLOR": null,
           "FONT_FLAGS": 0,
           "FORE_COLOR": null
          },
          "value": 5
         },
         {
          "formattedValue": "2.00",
          "ordinal": 613,
          "properties": {
           "BACK_COLOR": null,
           "FONT_FLAGS": 0,
           "FORE_COLOR": null
          },
          "value": 2
         },
         {
          "formattedValue": "5.00",
          "ordinal": 614,
          "properties": {
           "BACK_COLOR": null,
           "FONT_FLAGS": 0,
           "FORE_COLOR": null
          },
          "value": 5
         },
         {
          "formattedValue": "2.00",
          "ordinal": 615,
          "properties": {
           "BACK_COLOR": null,
           "FONT_FLAGS": 0,
           "FORE_COLOR": null
          },
          "value": 2
         },
         {
          "formattedValue": "5.00",
          "ordinal": 616,
          "properties": {
           "BACK_COLOR": null,
           "FONT_FLAGS": 0,
           "FORE_COLOR": null
          },
          "value": 5
         },
         {
          "formattedValue": "1.00",
          "ordinal": 617,
          "properties": {
           "BACK_COLOR": null,
           "FONT_FLAGS": 0,
           "FORE_COLOR": null
          },
          "value": 1
         },
         {
          "formattedValue": "5.00",
          "ordinal": 618,
          "properties": {
           "BACK_COLOR": null,
           "FONT_FLAGS": 0,
           "FORE_COLOR": null
          },
          "value": 5
         },
         {
          "formattedValue": "1.00",
          "ordinal": 619,
          "properties": {
           "BACK_COLOR": null,
           "FONT_FLAGS": 0,
           "FORE_COLOR": null
          },
          "value": 1
         },
         {
          "formattedValue": "4.90",
          "ordinal": 620,
          "properties": {
           "BACK_COLOR": null,
           "FONT_FLAGS": 0,
           "FORE_COLOR": null
          },
          "value": 4.9
         },
         {
          "formattedValue": "124.00",
          "ordinal": 621,
          "properties": {
           "BACK_COLOR": null,
           "FONT_FLAGS": 0,
           "FORE_COLOR": null
          },
          "value": 124
         },
         {
          "formattedValue": "4.90",
          "ordinal": 622,
          "properties": {
           "BACK_COLOR": null,
           "FONT_FLAGS": 0,
           "FORE_COLOR": null
          },
          "value": 4.9
         },
         {
          "formattedValue": "49.00",
          "ordinal": 623,
          "properties": {
           "BACK_COLOR": null,
           "FONT_FLAGS": 0,
           "FORE_COLOR": null
          },
          "value": 49
         },
         {
          "formattedValue": "4.80",
          "ordinal": 624,
          "properties": {
           "BACK_COLOR": null,
           "FONT_FLAGS": 0,
           "FORE_COLOR": null
          },
          "value": 4.8
         },
         {
          "formattedValue": "15,865.00",
          "ordinal": 625,
          "properties": {
           "BACK_COLOR": null,
           "FONT_FLAGS": 0,
           "FORE_COLOR": null
          },
          "value": 15865
         },
         {
          "formattedValue": "4.70",
          "ordinal": 626,
          "properties": {
           "BACK_COLOR": null,
           "FONT_FLAGS": 0,
           "FORE_COLOR": null
          },
          "value": 4.7
         },
         {
          "formattedValue": "162,049.00",
          "ordinal": 627,
          "properties": {
           "BACK_COLOR": null,
           "FONT_FLAGS": 0,
           "FORE_COLOR": null
          },
          "value": 162049
         },
         {
          "formattedValue": "4.70",
          "ordinal": 628,
          "properties": {
           "BACK_COLOR": null,
           "FONT_FLAGS": 0,
           "FORE_COLOR": null
          },
          "value": 4.7
         },
         {
          "formattedValue": "38,375.00",
          "ordinal": 629,
          "properties": {
           "BACK_COLOR": null,
           "FONT_FLAGS": 0,
           "FORE_COLOR": null
          },
          "value": 38375
         },
         {
          "formattedValue": "4.70",
          "ordinal": 630,
          "properties": {
           "BACK_COLOR": null,
           "FONT_FLAGS": 0,
           "FORE_COLOR": null
          },
          "value": 4.7
         },
         {
          "formattedValue": "4,501.00",
          "ordinal": 631,
          "properties": {
           "BACK_COLOR": null,
           "FONT_FLAGS": 0,
           "FORE_COLOR": null
          },
          "value": 4501
         },
         {
          "formattedValue": "4.60",
          "ordinal": 632,
          "properties": {
           "BACK_COLOR": null,
           "FONT_FLAGS": 0,
           "FORE_COLOR": null
          },
          "value": 4.6
         },
         {
          "formattedValue": "16,094.00",
          "ordinal": 633,
          "properties": {
           "BACK_COLOR": null,
           "FONT_FLAGS": 0,
           "FORE_COLOR": null
          },
          "value": 16094
         },
         {
          "formattedValue": "4.60",
          "ordinal": 634,
          "properties": {
           "BACK_COLOR": null,
           "FONT_FLAGS": 0,
           "FORE_COLOR": null
          },
          "value": 4.6
         },
         {
          "formattedValue": "2,681.00",
          "ordinal": 635,
          "properties": {
           "BACK_COLOR": null,
           "FONT_FLAGS": 0,
           "FORE_COLOR": null
          },
          "value": 2681
         },
         {
          "formattedValue": "4.60",
          "ordinal": 636,
          "properties": {
           "BACK_COLOR": null,
           "FONT_FLAGS": 0,
           "FORE_COLOR": null
          },
          "value": 4.6
         },
         {
          "formattedValue": "796.00",
          "ordinal": 637,
          "properties": {
           "BACK_COLOR": null,
           "FONT_FLAGS": 0,
           "FORE_COLOR": null
          },
          "value": 796
         },
         {
          "formattedValue": "4.60",
          "ordinal": 638,
          "properties": {
           "BACK_COLOR": null,
           "FONT_FLAGS": 0,
           "FORE_COLOR": null
          },
          "value": 4.6
         },
         {
          "formattedValue": "10.00",
          "ordinal": 639,
          "properties": {
           "BACK_COLOR": null,
           "FONT_FLAGS": 0,
           "FORE_COLOR": null
          },
          "value": 10
         },
         {
          "formattedValue": "5.00",
          "ordinal": 640,
          "properties": {
           "BACK_COLOR": null,
           "FONT_FLAGS": 0,
           "FORE_COLOR": null
          },
          "value": 5
         },
         {
          "formattedValue": "6.00",
          "ordinal": 641,
          "properties": {
           "BACK_COLOR": null,
           "FONT_FLAGS": 0,
           "FORE_COLOR": null
          },
          "value": 6
         },
         {
          "formattedValue": "5.00",
          "ordinal": 642,
          "properties": {
           "BACK_COLOR": null,
           "FONT_FLAGS": 0,
           "FORE_COLOR": null
          },
          "value": 5
         },
         {
          "formattedValue": "5.00",
          "ordinal": 643,
          "properties": {
           "BACK_COLOR": null,
           "FONT_FLAGS": 0,
           "FORE_COLOR": null
          },
          "value": 5
         },
         {
          "formattedValue": "5.00",
          "ordinal": 644,
          "properties": {
           "BACK_COLOR": null,
           "FONT_FLAGS": 0,
           "FORE_COLOR": null
          },
          "value": 5
         },
         {
          "formattedValue": "5.00",
          "ordinal": 645,
          "properties": {
           "BACK_COLOR": null,
           "FONT_FLAGS": 0,
           "FORE_COLOR": null
          },
          "value": 5
         },
         {
          "formattedValue": "5.00",
          "ordinal": 646,
          "properties": {
           "BACK_COLOR": null,
           "FONT_FLAGS": 0,
           "FORE_COLOR": null
          },
          "value": 5
         },
         {
          "formattedValue": "5.00",
          "ordinal": 647,
          "properties": {
           "BACK_COLOR": null,
           "FONT_FLAGS": 0,
           "FORE_COLOR": null
          },
          "value": 5
         },
         {
          "formattedValue": "5.00",
          "ordinal": 648,
          "properties": {
           "BACK_COLOR": null,
           "FONT_FLAGS": 0,
           "FORE_COLOR": null
          },
          "value": 5
         },
         {
          "formattedValue": "3.00",
          "ordinal": 649,
          "properties": {
           "BACK_COLOR": null,
           "FONT_FLAGS": 0,
           "FORE_COLOR": null
          },
          "value": 3
         },
         {
          "formattedValue": "5.00",
          "ordinal": 650,
          "properties": {
           "BACK_COLOR": null,
           "FONT_FLAGS": 0,
           "FORE_COLOR": null
          },
          "value": 5
         },
         {
          "formattedValue": "2.00",
          "ordinal": 651,
          "properties": {
           "BACK_COLOR": null,
           "FONT_FLAGS": 0,
           "FORE_COLOR": null
          },
          "value": 2
         },
         {
          "formattedValue": "4.90",
          "ordinal": 652,
          "properties": {
           "BACK_COLOR": null,
           "FONT_FLAGS": 0,
           "FORE_COLOR": null
          },
          "value": 4.9
         },
         {
          "formattedValue": "776.00",
          "ordinal": 653,
          "properties": {
           "BACK_COLOR": null,
           "FONT_FLAGS": 0,
           "FORE_COLOR": null
          },
          "value": 776
         },
         {
          "formattedValue": "4.80",
          "ordinal": 654,
          "properties": {
           "BACK_COLOR": null,
           "FONT_FLAGS": 0,
           "FORE_COLOR": null
          },
          "value": 4.8
         },
         {
          "formattedValue": "110.00",
          "ordinal": 655,
          "properties": {
           "BACK_COLOR": null,
           "FONT_FLAGS": 0,
           "FORE_COLOR": null
          },
          "value": 110
         },
         {
          "formattedValue": "4.80",
          "ordinal": 656,
          "properties": {
           "BACK_COLOR": null,
           "FONT_FLAGS": 0,
           "FORE_COLOR": null
          },
          "value": 4.8
         },
         {
          "formattedValue": "84.00",
          "ordinal": 657,
          "properties": {
           "BACK_COLOR": null,
           "FONT_FLAGS": 0,
           "FORE_COLOR": null
          },
          "value": 84
         },
         {
          "formattedValue": "4.80",
          "ordinal": 658,
          "properties": {
           "BACK_COLOR": null,
           "FONT_FLAGS": 0,
           "FORE_COLOR": null
          },
          "value": 4.8
         },
         {
          "formattedValue": "20.00",
          "ordinal": 659,
          "properties": {
           "BACK_COLOR": null,
           "FONT_FLAGS": 0,
           "FORE_COLOR": null
          },
          "value": 20
         }
        ],
        "cube": "Google Playstore",
        "defaultMembers": [
         {
          "captionPath": [
           "Count"
          ],
          "dimension": "Measures",
          "hierarchy": "Measures",
          "path": [
           "contributors.COUNT"
          ]
         },
         {
          "captionPath": [
           "Base"
          ],
          "dimension": "Epoch",
          "hierarchy": "Epoch",
          "path": [
           "Base"
          ]
         }
        ],
        "epoch": 1
       },
       "cube": "Google Playstore",
       "error": null,
       "name": "Top 10 apps with highest rating for each category",
       "session": "Unnamed"
      },
      "text/html": [
       "<img src=\"data:image/svg+xml;charset=utf8,%3C?xml%20version=%221.0%22%20standalone=%22no%22?%3E%0A%20%20%20%20%3Csvg%20xmlns=%22http://www.w3.org/2000/svg%22%20width=%220%22%20height=%220%22%3E%0A%20%20%20%20%20%20%3CforeignObject%20x=%220%22%20y=%220%22%20width=%22100%25%22%20height=%22100%25%22%3E%0A%20%20%20%20%20%20%20%20%3Cstyle%20type=%22text/css%22%3E.css-xsa55j-dock%20%7Bposition:%20relative;%20z-index:%200;%20height:%20100%25;%20background-color:%20rgb(255,%20255,%20255);%20display:%20flex;%20flex-direction:%20column%7D%0A.css-1ibuxvk-DockBody%20%7Bpadding-top:%200px;%20padding-left:%200px;%20padding-right:%200px;%20padding-bottom:%200px;%20flex-grow:%201;%20flex-shrink:%201;%20flex-basis:%200%25;%20box-sizing:%20border-box;%20position:%20relative;%20z-index:%200;%20overflow-x:%20hidden;%20overflow-y:%20hidden%7D%0A.css-14zuz97%20%7Bbackground-image:%20initial;%20background-position-x:%20initial;%20background-position-y:%20initial;%20background-size:%20initial;%20background-repeat-x:%20initial;%20background-repeat-y:%20initial;%20background-attachment:%20initial;%20background-origin:%20initial;%20background-color:%20rgba(0,%200,%200,%200.2);%20z-index:%201;%20box-sizing:%20border-box;%20background-clip:%20padding-box%7D%0A.css-14zuz97.vertical%20%7Bwidth:%2012px;%20margin-top:%200px;%20margin-right:%20-6px;%20margin-bottom:%200px;%20margin-left:%20-6px;%20border-left-width:%205.5px;%20border-left-style:%20solid;%20border-left-color:%20transparent;%20border-right-width:%205.5px;%20border-right-style:%20solid;%20border-right-color:%20transparent;%20cursor:%20col-resize%7D%0A.css-14zuz97.disabled%20%7Bdisplay:%20none%7D%0A.css-1lrljg1-EditorSplitPane%20%7Bbackground-color:%20rgb(255,%20255,%20255);%20flex-grow:%201;%20flex-shrink:%201;%20flex-basis:%200%25;%20margin-right:%200px;%20position:%20relative%7D%0A.css-15fz3t7-EditorSplitPane%20%7Bposition:%20absolute;%20top:%200px;%20bottom:%200px;%20left:%200px;%20right:%200px;%20display:%20flex;%20flex-direction:%20column%7D%0A.css-1k1fxuh-Tabular%20%7Bwidth:%20100%25;%20height:%20100%25;%20position:%20relative%7D%0A.css-10klw3m%20%7Bheight:%20100%25%7D%0A.css-v3meis-Tabular%20%7Bposition:%20relative;%20height:%20100%25;%20width:%200px%7D%0A.css-mdjjdg-TabularHeader%20%7Bdisplay:%20flex%7D%0A.css-12nzxaz-PinnedTabularHeaders%20%7Bflex-shrink:%200;%20display:%20flex%7D%0A.css-r8w7wl-TabularHeaderGroup%20%7Bposition:%20relative;%20width:%200px%7D%0A.css-s4fjko-TabularPinnSeparator%20%7Bwidth:%202px;%20height:%2028px;%20background-color:%20rgb(233,%20233,%20233)%7D%0A.css-17lf64q-UnpinnedTabularHeaders%20%7Boverflow-x:%20hidden;%20overflow-y:%20hidden;%20position:%20relative;%20width:%20302px;%20height:%2028px%7D%0A.css-5jtkjp-UnpinnedTabularHeaders%20%7Bdisplay:%20flex;%20position:%20absolute;%20left:%200px%7D%0A.css-90jv4-TabularHeaderGroup%20%7Bposition:%20relative;%20width:%20300px%7D%0A.css-7fgdvs%20%7Bcolor:%20rgba(0,%200,%200,%200.85);%20display:%20flex;%20box-sizing:%20border-box;%20-webkit-box-align:%20center;%20align-items:%20center;%20height:%2028px;%20position:%20absolute;%20top:%200px;%20left:%200px;%20user-select:%20none;%20font-size:%2012px;%20line-height:%2022px;%20font-weight:%20600;%20border-bottom-width:%202px;%20border-bottom-style:%20solid;%20border-bottom-color:%20rgb(233,%20233,%20233);%20width:%20300px;%20border-right-width:%201px;%20border-right-style:%20solid;%20border-right-color:%20rgb(233,%20233,%20233)%7D%0A.css-19w2ip5-TabularHeaderCell%20%7Bcursor:%20default;%20-webkit-box-flex:%201;%20flex-grow:%201;%20flex-shrink:%201;%20box-sizing:%20border-box;%20padding-left:%204px;%20padding-right:%204px;%20padding-top:%204px;%20padding-bottom:%204px;%20height:%20100%25;%20overflow-x:%20hidden;%20overflow-y:%20hidden;%20display:%20flex;%20white-space:%20nowrap;%20-webkit-box-pack:%20start;%20justify-content:%20flex-start;%20align-items:%20flex-start%7D%0A.css-jpazdc-TabularHeaderCell%20%7Boverflow-x:%20hidden;%20overflow-y:%20hidden;%20text-overflow:%20ellipsis%7D%0A.css-y3oqqp%20%7Bfont-size:%2012px;%20line-height:%2022px;%20font-weight:%20600;%20color:%20rgba(0,%200,%200,%200.85)%7D%0A.css-c7y3a7-TabularHeaderCell%20%7Bflex-shrink:%200;%20height:%20100%25;%20display:%20flex;%20-webkit-box-pack:%20center;%20justify-content:%20center%7D%0A.css-1xstd3f-HeaderResizer%20%7Bposition:%20absolute;%20z-index:%201;%20width:%2010px;%20height:%2028px;%20left:%20295px;%20top:%200px;%20cursor:%20col-resize%7D%0A.css-11buol4-HeaderResizer%20%7Bposition:%20absolute;%20z-index:%201;%20height:%2010px;%20width:%20300px;%20left:%200px;%20top:%2023px;%20cursor:%20row-resize%7D%0A.css-16pbov6-TabularBody%20%7Bposition:%20relative;%20overflow-x:%20hidden;%20overflow-y:%20hidden;%20top:%200px;%20width:%200px%7D%0A.css-1yxufrd-UnpinnedTabularRows%20%7Bposition:%20absolute;%20overflow-x:%20hidden;%20overflow-y:%20hidden;%20left:%200px%7D%0A.css-1id6sm3-UnpinnedTabularRows%20%7Bposition:%20absolute;%20top:%200px;%20left:%200px%7D%0A.css-3cge9w%20%7Bcursor:%20cell;%20display:%20flex;%20height:%2028px;%20user-select:%20none%7D%0A.css-dko0re%20%7Bheight:%20100%25;%20box-sizing:%20border-box;%20display:%20flex;%20-webkit-box-pack:%20end;%20justify-content:%20flex-end;%20flex-direction:%20column;%20padding-top:%204px;%20padding-left:%204px;%20padding-right:%204px;%20padding-bottom:%203px;%20overflow-x:%20hidden;%20overflow-y:%20hidden;%20white-space:%20nowrap;%20border-right-width:%201px;%20border-right-style:%20solid;%20border-right-color:%20rgb(233,%20233,%20233);%20border-bottom-width:%20initial;%20border-bottom-style:%20none;%20border-bottom-color:%20initial;%20width:%20300px;%20align-items:%20flex-start%7D%0A.css-9ssj44-TreeCell%20%7Bwidth:%20min-content%7D%0A.css-mkrhzq%20%7Bdisplay:%20flex;%20margin-left:%200px%7D%0A.css-8uhtka%20%7Boverflow-x:%20hidden;%20overflow-y:%20hidden;%20text-overflow:%20ellipsis;%20white-space:%20nowrap%7D%0A.css-f0grnd%20%7Boverflow-y:%20auto;%20overflow-x:%20hidden;%20z-index:%201%7D%0A.css-1drzbcy%20%7Bleft:%200px;%20position:%20absolute;%20bottom:%200px;%20overflow-x:%20auto;%20overflow-y:%20hidden;%20z-index:%201%7D%0A.css-1v4vipl-SelectionStatistics%20%7Bheight:%2020px;%20display:%20flex;%20padding-top:%205px;%20opacity:%200;%20transition-duration:%20300ms;%20transition-timing-function:%20ease;%20transition-delay:%200s;%20transition-property:%20opacity;%20position:%20absolute;%20right:%20unset;%20left:%200px%7D%0A.css-1ouk3zc-EditorSplitPane%20%7Bbackground-color:%20rgb(255,%20255,%20255);%20flex-grow:%201;%20flex-shrink:%201;%20flex-basis:%200%25%7D%0A.css-1jjvrwi-EditorSplitPane%20%7Bposition:%20absolute;%20top:%200px;%20bottom:%200px;%20left:%200px;%20right:%200px;%20overflow-y:%20auto%7D%0A.css-13sn1qt%20%7Bwidth:%201px%7D%0A.css-1p23tay%20%7Bwidth:%20420px;%20height:%201px%7D%0A.css-ax6qwc-TabularSelectionOverlay%20%7Bposition:%20absolute;%20pointer-events:%20none;%20top:%2028px;%20left:%200px;%20width:%20300px;%20background-image:%20initial;%20background-position-x:%20initial;%20background-position-y:%20initial;%20background-size:%20initial;%20background-repeat-x:%20initial;%20background-repeat-y:%20initial;%20background-attachment:%20initial;%20background-origin:%20initial;%20background-clip:%20initial;%20background-color:%20rgba(0,%20140,%20255,%200.1);%20border-top-width:%201px;%20border-right-width:%201px;%20border-bottom-width:%201px;%20border-left-width:%201px;%20border-top-style:%20solid;%20border-right-style:%20solid;%20border-bottom-style:%20solid;%20border-left-style:%20solid;%20border-top-color:%20rgb(77,%20181,%20255);%20border-right-color:%20rgb(77,%20181,%20255);%20border-bottom-color:%20rgb(77,%20181,%20255);%20border-left-color:%20rgb(77,%20181,%20255);%20border-image-source:%20initial;%20border-image-slice:%20initial;%20border-image-width:%20initial;%20border-image-outset:%20initial;%20border-image-repeat:%20initial;%20display:%20inherit%7D%0A.ant-root%20html,%20.ant-root%20%7Bwidth:%20100%25;%20height:%20100%25%7D%0A.ant-root%20*,%20.ant-root%20::before,%20.ant-root%20::after%20%7Bbox-sizing:%20border-box%7D%0A.ant-root%20%7Bmargin-top:%200px;%20margin-right:%200px;%20margin-bottom:%200px;%20margin-left:%200px;%20color:%20rgba(0,%200,%200,%200.65);%20font-size:%2014px;%20font-family:%20-apple-system,%20BlinkMacSystemFont,%20%22Segoe%20UI%22,%20%22PingFang%20SC%22,%20%22Hiragino%20Sans%20GB%22,%20%22Microsoft%20YaHei%22,%20%22Helvetica%20Neue%22,%20Helvetica,%20Arial,%20sans-serif,%20%22Apple%20Color%20Emoji%22,%20%22Segoe%20UI%20Emoji%22,%20%22Segoe%20UI%20Symbol%22;%20font-variant-ligatures:%20normal;%20font-variant-numeric:%20tabular-nums;%20font-variant-east-asian:%20normal;%20font-variant-caps:%20normal;%20line-height:%201.5;%20background-color:%20rgb(255,%20255,%20255);%20font-feature-settings:%20%22tnum%22;%20--antd-wave-shadow-color:%20undefined%7D%0A.ant-root%20.ant-typography%20%7Bcolor:%20rgba(0,%200,%200,%200.65)%7D%0A.css-1sxolix-Widget%20%7Bheight:%20100%25%7D%0A.css-1sxolix-Widget%20.ant-root:not(.atoti-widget-chooser)%20%7Bbox-shadow:%20none%7D%3C/style%3E%0A%20%20%20%20%20%20%20%20%3Cdiv%20xmlns=%22http://www.w3.org/1999/xhtml%22%20style=%22height:%200px;%20width:%200px%22%3E%0A%20%20%20%20%20%20%20%20%20%20%3Cdiv%20xmlns=%22http://www.w3.org/1999/xhtml%22%20class=%22css-1sxolix-Widget%22%3E%3Cdiv%20class=%22ant-root%20css-xsa55j-dock%22%3E%3Cdiv%20class=%22css-1ibuxvk-DockBody%22%3E%3Cdiv%20class=%22SplitPane%20%20vertical%20disabled%22%20style=%22display:%20flex;%20flex:%201%201%200%25;%20height:%20100%25;%20position:%20relative;%20outline:%20none;%20overflow:%20hidden;%20user-select:%20text;%20flex-direction:%20row;%20left:%200px;%20right:%200px;%22%3E%3Cdiv%20class=%22Pane%20vertical%20Pane1%20%20%22%20style=%22flex:%201%201%200%25;%20position:%20relative;%20outline:%20none;%20display:%20flex;%20background-color:%20rgb(255,%20255,%20255);%22%3E%3Cdiv%20class=%22css-1lrljg1-EditorSplitPane%22%3E%3Cdiv%20class=%22css-15fz3t7-EditorSplitPane%22%3E%3Cdiv%20class=%22css-1k1fxuh-Tabular%22%3E%3Cdiv%20class=%22css-10klw3m%22%3E%3Cdiv%20tabindex=%220%22%20class=%22css-v3meis-Tabular%22%3E%3Cdiv%20class=%22css-192kvjv-Tabular%22%3E%3Cdiv%20class=%22css-mdjjdg-TabularHeader%22%3E%3Cdiv%20class=%22css-12nzxaz-PinnedTabularHeaders%22%3E%3Cdiv%20class=%22css-r8w7wl-TabularHeaderGroup%22%3E%3C/div%3E%3Cdiv%20class=%22css-s4fjko-TabularPinnSeparator%22%3E%3C/div%3E%3C/div%3E%3Cdiv%20class=%22css-17lf64q-UnpinnedTabularHeaders%22%3E%3Cdiv%20class=%22css-5jtkjp-UnpinnedTabularHeaders%22%3E%3Cdiv%20class=%22css-90jv4-TabularHeaderGroup%22%3E%3Cdiv%20class=%22css-7fgdvs%22%3E%3Cdiv%20class=%22css-19w2ip5-TabularHeaderCell%22%3E%3Cspan%20class=%22css-jpazdc-TabularHeaderCell%22%3E%3Cspan%3E%3Cspan%3E%3Cspan%20class=%22css-y3oqqp%22%3ECategory%20/%20App%3C/span%3E%3C/span%3E%3C/span%3E%3C/span%3E%3C/div%3E%3Cdiv%20class=%22css-c7y3a7-TabularHeaderCell%22%3E%3C/div%3E%3C/div%3E%3Cdiv%20class=%22css-1xstd3f-HeaderResizer%22%3E%3C/div%3E%3Cdiv%20class=%22css-11buol4-HeaderResizer%22%3E%3C/div%3E%3C/div%3E%3C/div%3E%3C/div%3E%3C/div%3E%3Cdiv%20class=%22css-16pbov6-TabularBody%22%3E%3Cdiv%20class=%22css-1yxufrd-UnpinnedTabularRows%22%3E%3Cdiv%20class=%22css-1id6sm3-UnpinnedTabularRows%22%3E%3Cdiv%20class=%22css-3cge9w%22%3E%3Cdiv%3E%3Cdiv%20class=%22css-dko0re%22%3E%3Cdiv%20class=%22css-9ssj44-TreeCell%22%3E%3Cdiv%20class=%22css-mkrhzq%22%3E%3Cspan%20class=%22ant-typography%20css-8uhtka%22%20style=%22font-size:%2012px;%20line-height:%2020px;%20font-weight:%20600;%20color:%20rgba(0,%200,%200,%200.85);%22%3ETotal%20Category%3C/span%3E%3C/div%3E%3C/div%3E%3C/div%3E%3C/div%3E%3C/div%3E%3C/div%3E%3C/div%3E%3Cdiv%20class=%22css-f0grnd%22%3E%3Cdiv%20class=%22css-13sn1qt%22%3E%3C/div%3E%3C/div%3E%3Cdiv%20class=%22css-1drzbcy%22%3E%3Cdiv%20class=%22css-1p23tay%22%3E%3C/div%3E%3C/div%3E%3Cdiv%20class=%22css-ax6qwc-TabularSelectionOverlay%22%3E%3C/div%3E%3C/div%3E%3C/div%3E%3Cdiv%20class=%22css-1v4vipl-SelectionStatistics%22%3E%3C/div%3E%3C/div%3E%3C/div%3E%3C/div%3E%3C/div%3E%3C/div%3E%3C/div%3E%3Cspan%20role=%22presentation%22%20class=%22css-14zuz97%20Resizer%20vertical%20disabled%22%3E%3C/span%3E%3Cdiv%20class=%22Pane%20vertical%20Pane2%20%20%22%20style=%22flex:%200%200%20auto;%20position:%20relative;%20outline:%20none;%20width:%200px;%20display:%20flex;%20background-color:%20rgb(255,%20255,%20255);%20overflow:%20auto;%22%3E%3Cdiv%20class=%22css-1ouk3zc-EditorSplitPane%22%3E%3Cdiv%20class=%22css-1jjvrwi-EditorSplitPane%22%3E%3C/div%3E%3C/div%3E%3C/div%3E%3C/div%3E%3C/div%3E%3C/div%3E%3C/div%3E%0A%20%20%20%20%20%20%20%20%3C/div%3E%0A%20%20%20%20%20%20%3C/foreignObject%3E%0A%20%20%20%20%3C/svg%3E\">"
      ],
      "text/plain": [
       "Open the notebook in JupyterLab with the atoti extension installed and enabled to see this widget."
      ]
     },
     "metadata": {},
     "output_type": "display_data"
    }
   ],
   "source": [
    "cube.visualize(\"Top 10 apps with highest rating for each category\")"
   ]
  },
  {
   "cell_type": "markdown",
   "metadata": {},
   "source": [
    "#### Creating subplot to visualize top count per category\n",
    "\n",
    "Again, go to the atoti's Jupyterlab extension and click on the ellipsis to show the subplot controls.  \n",
    "![show subplot controls](https://data.atoti.io/notebooks/topcount/show_subplot_controls.png)  \n",
    "\n",
    "You should be able to add `Category` level to the subplot section sliced by `Apps`. Apply filter on `App` level of the `App Categories`"
   ]
  },
  {
   "cell_type": "code",
   "execution_count": 12,
   "metadata": {
    "atoti": {
     "state": {
      "name": "Top 10 apps within each categories",
      "type": "container",
      "value": {
       "body": {
        "configuration": {
         "mapping": {
          "horizontalSubplots": [
           "[Hierarchies].[Category].[Category]"
          ],
          "sliceBy": [
           "[Hierarchies].[App].[App]"
          ],
          "values": [
           "[Measures].[Reviews.MEAN]"
          ],
          "verticalSubplots": []
         },
         "subplotModeEnabled": true,
         "type": "plotly-pie-chart"
        },
        "query": {
         "contextValues": {},
         "mdx": "SELECT NON EMPTY [Measures].[Reviews.MEAN] ON COLUMNS, NON EMPTY Crossjoin([Hierarchies].[App].[App].Members, [Hierarchies].[Category].[Category].Members) ON ROWS FROM (SELECT Generate([Hierarchies].[App Categories].Levels(1).Members, TopCount(Filter([Hierarchies].[App Categories].CurrentMember.Children, NOT IsEmpty([Measures].[Rating.MEAN])), 10, [Measures].[Rating.MEAN])) ON COLUMNS FROM [Google Playstore]) CELL PROPERTIES VALUE, FORMATTED_VALUE, BACK_COLOR, FORE_COLOR, FONT_FLAGS",
         "serverUrl": ""
        }
       },
       "containerKey": "chart",
       "showTitleBar": false,
       "style": {}
      }
     }
    }
   },
   "outputs": [
    {
     "data": {
      "application/vnd.atoti.v0+json": {
       "cellSet": {
        "axes": [
         {
          "hierarchies": [
           {
            "dimension": "Measures",
            "hierarchy": "Measures"
           }
          ],
          "id": 0,
          "positions": [
           [
            {
             "captionPath": [
              "Reviews.MEAN"
             ],
             "namePath": [
              "Reviews.MEAN"
             ],
             "properties": {
              "DISPLAY_INFO": 0
             }
            }
           ]
          ]
         },
         {
          "hierarchies": [
           {
            "dimension": "Hierarchies",
            "hierarchy": "Category"
           },
           {
            "dimension": "Hierarchies",
            "hierarchy": "App"
           }
          ],
          "id": 1,
          "positions": [
           [
            {
             "captionPath": [
              "AllMember",
              "SOCIAL"
             ],
             "namePath": [
              "AllMember",
              "SOCIAL"
             ],
             "properties": {
              "DISPLAY_INFO": 0
             }
            },
            {
             "captionPath": [
              "AllMember",
              "EXO-L Amino for EXO Fans"
             ],
             "namePath": [
              "AllMember",
              "EXO-L Amino for EXO Fans"
             ],
             "properties": {
              "DISPLAY_INFO": 0
             }
            }
           ],
           [
            {
             "captionPath": [
              "AllMember",
              "SOCIAL"
             ],
             "namePath": [
              "AllMember",
              "SOCIAL"
             ],
             "properties": {
              "DISPLAY_INFO": 131072
             }
            },
            {
             "captionPath": [
              "AllMember",
              "Eddsworld Amino"
             ],
             "namePath": [
              "AllMember",
              "Eddsworld Amino"
             ],
             "properties": {
              "DISPLAY_INFO": 131072
             }
            }
           ],
           [
            {
             "captionPath": [
              "AllMember",
              "SOCIAL"
             ],
             "namePath": [
              "AllMember",
              "SOCIAL"
             ],
             "properties": {
              "DISPLAY_INFO": 131072
             }
            },
            {
             "captionPath": [
              "AllMember",
              "Eternal Light AG"
             ],
             "namePath": [
              "AllMember",
              "Eternal Light AG"
             ],
             "properties": {
              "DISPLAY_INFO": 131072
             }
            }
           ],
           [
            {
             "captionPath": [
              "AllMember",
              "SOCIAL"
             ],
             "namePath": [
              "AllMember",
              "SOCIAL"
             ],
             "properties": {
              "DISPLAY_INFO": 131072
             }
            },
            {
             "captionPath": [
              "AllMember",
              "DN Blog"
             ],
             "namePath": [
              "AllMember",
              "DN Blog"
             ],
             "properties": {
              "DISPLAY_INFO": 131072
             }
            }
           ],
           [
            {
             "captionPath": [
              "AllMember",
              "SOCIAL"
             ],
             "namePath": [
              "AllMember",
              "SOCIAL"
             ],
             "properties": {
              "DISPLAY_INFO": 131072
             }
            },
            {
             "captionPath": [
              "AllMember",
              "Movement BE"
             ],
             "namePath": [
              "AllMember",
              "Movement BE"
             ],
             "properties": {
              "DISPLAY_INFO": 131072
             }
            }
           ],
           [
            {
             "captionPath": [
              "AllMember",
              "SOCIAL"
             ],
             "namePath": [
              "AllMember",
              "SOCIAL"
             ],
             "properties": {
              "DISPLAY_INFO": 131072
             }
            },
            {
             "captionPath": [
              "AllMember",
              "CJ Gospel Hour"
             ],
             "namePath": [
              "AllMember",
              "CJ Gospel Hour"
             ],
             "properties": {
              "DISPLAY_INFO": 131072
             }
            }
           ],
           [
            {
             "captionPath": [
              "AllMember",
              "SOCIAL"
             ],
             "namePath": [
              "AllMember",
              "SOCIAL"
             ],
             "properties": {
              "DISPLAY_INFO": 131072
             }
            },
            {
             "captionPath": [
              "AllMember",
              "CB Heroes"
             ],
             "namePath": [
              "AllMember",
              "CB Heroes"
             ],
             "properties": {
              "DISPLAY_INFO": 131072
             }
            }
           ],
           [
            {
             "captionPath": [
              "AllMember",
              "SOCIAL"
             ],
             "namePath": [
              "AllMember",
              "SOCIAL"
             ],
             "properties": {
              "DISPLAY_INFO": 131072
             }
            },
            {
             "captionPath": [
              "AllMember",
              "UP EB Bill Payment & Details"
             ],
             "namePath": [
              "AllMember",
              "UP EB Bill Payment & Details"
             ],
             "properties": {
              "DISPLAY_INFO": 131072
             }
            }
           ],
           [
            {
             "captionPath": [
              "AllMember",
              "SOCIAL"
             ],
             "namePath": [
              "AllMember",
              "SOCIAL"
             ],
             "properties": {
              "DISPLAY_INFO": 131072
             }
            },
            {
             "captionPath": [
              "AllMember",
              "Hum Ek Hain 2.02"
             ],
             "namePath": [
              "AllMember",
              "Hum Ek Hain 2.02"
             ],
             "properties": {
              "DISPLAY_INFO": 131072
             }
            }
           ],
           [
            {
             "captionPath": [
              "AllMember",
              "SOCIAL"
             ],
             "namePath": [
              "AllMember",
              "SOCIAL"
             ],
             "properties": {
              "DISPLAY_INFO": 131072
             }
            },
            {
             "captionPath": [
              "AllMember",
              "iCard BD Plus"
             ],
             "namePath": [
              "AllMember",
              "iCard BD Plus"
             ],
             "properties": {
              "DISPLAY_INFO": 131072
             }
            }
           ],
           [
            {
             "captionPath": [
              "AllMember",
              "COMMUNICATION"
             ],
             "namePath": [
              "AllMember",
              "COMMUNICATION"
             ],
             "properties": {
              "DISPLAY_INFO": 131072
             }
            },
            {
             "captionPath": [
              "AllMember",
              "Should I Answer?"
             ],
             "namePath": [
              "AllMember",
              "Should I Answer?"
             ],
             "properties": {
              "DISPLAY_INFO": 131072
             }
            }
           ],
           [
            {
             "captionPath": [
              "AllMember",
              "COMMUNICATION"
             ],
             "namePath": [
              "AllMember",
              "COMMUNICATION"
             ],
             "properties": {
              "DISPLAY_INFO": 131072
             }
            },
            {
             "captionPath": [
              "AllMember",
              "ClanPlay: Community and Tools for Gamers"
             ],
             "namePath": [
              "AllMember",
              "ClanPlay: Community and Tools for Gamers"
             ],
             "properties": {
              "DISPLAY_INFO": 131072
             }
            }
           ],
           [
            {
             "captionPath": [
              "AllMember",
              "COMMUNICATION"
             ],
             "namePath": [
              "AllMember",
              "COMMUNICATION"
             ],
             "properties": {
              "DISPLAY_INFO": 131072
             }
            },
            {
             "captionPath": [
              "AllMember",
              "Morse Machine for Ham Radio"
             ],
             "namePath": [
              "AllMember",
              "Morse Machine for Ham Radio"
             ],
             "properties": {
              "DISPLAY_INFO": 131072
             }
            }
           ],
           [
            {
             "captionPath": [
              "AllMember",
              "COMMUNICATION"
             ],
             "namePath": [
              "AllMember",
              "COMMUNICATION"
             ],
             "properties": {
              "DISPLAY_INFO": 131072
             }
            },
            {
             "captionPath": [
              "AllMember",
              "CW Beacon for Ham Radio"
             ],
             "namePath": [
              "AllMember",
              "CW Beacon for Ham Radio"
             ],
             "properties": {
              "DISPLAY_INFO": 131072
             }
            }
           ],
           [
            {
             "captionPath": [
              "AllMember",
              "COMMUNICATION"
             ],
             "namePath": [
              "AllMember",
              "COMMUNICATION"
             ],
             "properties": {
              "DISPLAY_INFO": 131072
             }
            },
            {
             "captionPath": [
              "AllMember",
              "chat dz"
             ],
             "namePath": [
              "AllMember",
              "chat dz"
             ],
             "properties": {
              "DISPLAY_INFO": 131072
             }
            }
           ],
           [
            {
             "captionPath": [
              "AllMember",
              "COMMUNICATION"
             ],
             "namePath": [
              "AllMember",
              "COMMUNICATION"
             ],
             "properties": {
              "DISPLAY_INFO": 131072
             }
            },
            {
             "captionPath": [
              "AllMember",
              "2 Amateur ham radio CW Morse code practice keys TX"
             ],
             "namePath": [
              "AllMember",
              "2 Amateur ham radio CW Morse code practice keys TX"
             ],
             "properties": {
              "DISPLAY_INFO": 131072
             }
            }
           ],
           [
            {
             "captionPath": [
              "AllMember",
              "COMMUNICATION"
             ],
             "namePath": [
              "AllMember",
              "COMMUNICATION"
             ],
             "properties": {
              "DISPLAY_INFO": 131072
             }
            },
            {
             "captionPath": [
              "AllMember",
              "Cb browser"
             ],
             "namePath": [
              "AllMember",
              "Cb browser"
             ],
             "properties": {
              "DISPLAY_INFO": 131072
             }
            }
           ],
           [
            {
             "captionPath": [
              "AllMember",
              "COMMUNICATION"
             ],
             "namePath": [
              "AllMember",
              "COMMUNICATION"
             ],
             "properties": {
              "DISPLAY_INFO": 131072
             }
            },
            {
             "captionPath": [
              "AllMember",
              "BV"
             ],
             "namePath": [
              "AllMember",
              "BV"
             ],
             "properties": {
              "DISPLAY_INFO": 131072
             }
            }
           ],
           [
            {
             "captionPath": [
              "AllMember",
              "COMMUNICATION"
             ],
             "namePath": [
              "AllMember",
              "COMMUNICATION"
             ],
             "properties": {
              "DISPLAY_INFO": 131072
             }
            },
            {
             "captionPath": [
              "AllMember",
              "BS-Mobile"
             ],
             "namePath": [
              "AllMember",
              "BS-Mobile"
             ],
             "properties": {
              "DISPLAY_INFO": 131072
             }
            }
           ],
           [
            {
             "captionPath": [
              "AllMember",
              "COMMUNICATION"
             ],
             "namePath": [
              "AllMember",
              "COMMUNICATION"
             ],
             "properties": {
              "DISPLAY_INFO": 131072
             }
            },
            {
             "captionPath": [
              "AllMember",
              "EJ messenger"
             ],
             "namePath": [
              "AllMember",
              "EJ messenger"
             ],
             "properties": {
              "DISPLAY_INFO": 131072
             }
            }
           ],
           [
            {
             "captionPath": [
              "AllMember",
              "GAME"
             ],
             "namePath": [
              "AllMember",
              "GAME"
             ],
             "properties": {
              "DISPLAY_INFO": 131072
             }
            },
            {
             "captionPath": [
              "AllMember",
              "Mad Dash Fo' Cash"
             ],
             "namePath": [
              "AllMember",
              "Mad Dash Fo' Cash"
             ],
             "properties": {
              "DISPLAY_INFO": 131072
             }
            }
           ],
           [
            {
             "captionPath": [
              "AllMember",
              "GAME"
             ],
             "namePath": [
              "AllMember",
              "GAME"
             ],
             "properties": {
              "DISPLAY_INFO": 131072
             }
            },
            {
             "captionPath": [
              "AllMember",
              "Trovami se ci riesci"
             ],
             "namePath": [
              "AllMember",
              "Trovami se ci riesci"
             ],
             "properties": {
              "DISPLAY_INFO": 131072
             }
            }
           ],
           [
            {
             "captionPath": [
              "AllMember",
              "GAME"
             ],
             "namePath": [
              "AllMember",
              "GAME"
             ],
             "properties": {
              "DISPLAY_INFO": 131072
             }
            },
            {
             "captionPath": [
              "AllMember",
              "211:CK"
             ],
             "namePath": [
              "AllMember",
              "211:CK"
             ],
             "properties": {
              "DISPLAY_INFO": 131072
             }
            }
           ],
           [
            {
             "captionPath": [
              "AllMember",
              "GAME"
             ],
             "namePath": [
              "AllMember",
              "GAME"
             ],
             "properties": {
              "DISPLAY_INFO": 131072
             }
            },
            {
             "captionPath": [
              "AllMember",
              "Brick Breaker BR"
             ],
             "namePath": [
              "AllMember",
              "Brick Breaker BR"
             ],
             "properties": {
              "DISPLAY_INFO": 131072
             }
            }
           ],
           [
            {
             "captionPath": [
              "AllMember",
              "GAME"
             ],
             "namePath": [
              "AllMember",
              "GAME"
             ],
             "properties": {
              "DISPLAY_INFO": 131072
             }
            },
            {
             "captionPath": [
              "AllMember",
              "Flippy Axe : Flip The Knife & Axe Simulator"
             ],
             "namePath": [
              "AllMember",
              "Flippy Axe : Flip The Knife & Axe Simulator"
             ],
             "properties": {
              "DISPLAY_INFO": 131072
             }
            }
           ],
           [
            {
             "captionPath": [
              "AllMember",
              "GAME"
             ],
             "namePath": [
              "AllMember",
              "GAME"
             ],
             "properties": {
              "DISPLAY_INFO": 131072
             }
            },
            {
             "captionPath": [
              "AllMember",
              "CP Trivia"
             ],
             "namePath": [
              "AllMember",
              "CP Trivia"
             ],
             "properties": {
              "DISPLAY_INFO": 131072
             }
            }
           ],
           [
            {
             "captionPath": [
              "AllMember",
              "GAME"
             ],
             "namePath": [
              "AllMember",
              "GAME"
             ],
             "properties": {
              "DISPLAY_INFO": 131072
             }
            },
            {
             "captionPath": [
              "AllMember",
              "Santa's Monster Shootout DX"
             ],
             "namePath": [
              "AllMember",
              "Santa's Monster Shootout DX"
             ],
             "properties": {
              "DISPLAY_INFO": 131072
             }
            }
           ],
           [
            {
             "captionPath": [
              "AllMember",
              "GAME"
             ],
             "namePath": [
              "AllMember",
              "GAME"
             ],
             "properties": {
              "DISPLAY_INFO": 131072
             }
            },
            {
             "captionPath": [
              "AllMember",
              "Mu.F.O."
             ],
             "namePath": [
              "AllMember",
              "Mu.F.O."
             ],
             "properties": {
              "DISPLAY_INFO": 131072
             }
            }
           ],
           [
            {
             "captionPath": [
              "AllMember",
              "GAME"
             ],
             "namePath": [
              "AllMember",
              "GAME"
             ],
             "properties": {
              "DISPLAY_INFO": 131072
             }
            },
            {
             "captionPath": [
              "AllMember",
              "Ra Ga Ba"
             ],
             "namePath": [
              "AllMember",
              "Ra Ga Ba"
             ],
             "properties": {
              "DISPLAY_INFO": 131072
             }
            }
           ],
           [
            {
             "captionPath": [
              "AllMember",
              "GAME"
             ],
             "namePath": [
              "AllMember",
              "GAME"
             ],
             "properties": {
              "DISPLAY_INFO": 131072
             }
            },
            {
             "captionPath": [
              "AllMember",
              "Monster Ride Pro"
             ],
             "namePath": [
              "AllMember",
              "Monster Ride Pro"
             ],
             "properties": {
              "DISPLAY_INFO": 131072
             }
            }
           ],
           [
            {
             "captionPath": [
              "AllMember",
              "VIDEO_PLAYERS"
             ],
             "namePath": [
              "AllMember",
              "VIDEO_PLAYERS"
             ],
             "properties": {
              "DISPLAY_INFO": 131072
             }
            },
            {
             "captionPath": [
              "AllMember",
              "DU Recorder – Screen Recorder, Video Editor, Live"
             ],
             "namePath": [
              "AllMember",
              "DU Recorder – Screen Recorder, Video Editor, Live"
             ],
             "properties": {
              "DISPLAY_INFO": 131072
             }
            }
           ],
           [
            {
             "captionPath": [
              "AllMember",
              "VIDEO_PLAYERS"
             ],
             "namePath": [
              "AllMember",
              "VIDEO_PLAYERS"
             ],
             "properties": {
              "DISPLAY_INFO": 131072
             }
            },
            {
             "captionPath": [
              "AllMember",
              "Quik – Free Video Editor for photos, clips, music"
             ],
             "namePath": [
              "AllMember",
              "Quik – Free Video Editor for photos, clips, music"
             ],
             "properties": {
              "DISPLAY_INFO": 131072
             }
            }
           ],
           [
            {
             "captionPath": [
              "AllMember",
              "VIDEO_PLAYERS"
             ],
             "namePath": [
              "AllMember",
              "VIDEO_PLAYERS"
             ],
             "properties": {
              "DISPLAY_INFO": 131072
             }
            },
            {
             "captionPath": [
              "AllMember",
              "Video Downloader - for Instagram Repost App"
             ],
             "namePath": [
              "AllMember",
              "Video Downloader - for Instagram Repost App"
             ],
             "properties": {
              "DISPLAY_INFO": 131072
             }
            }
           ],
           [
            {
             "captionPath": [
              "AllMember",
              "VIDEO_PLAYERS"
             ],
             "namePath": [
              "AllMember",
              "VIDEO_PLAYERS"
             ],
             "properties": {
              "DISPLAY_INFO": 131072
             }
            },
            {
             "captionPath": [
              "AllMember",
              "Video Player All Format"
             ],
             "namePath": [
              "AllMember",
              "Video Player All Format"
             ],
             "properties": {
              "DISPLAY_INFO": 131072
             }
            }
           ],
           [
            {
             "captionPath": [
              "AllMember",
              "VIDEO_PLAYERS"
             ],
             "namePath": [
              "AllMember",
              "VIDEO_PLAYERS"
             ],
             "properties": {
              "DISPLAY_INFO": 131072
             }
            },
            {
             "captionPath": [
              "AllMember",
              "Video Editor,Crop Video,Movie Video,Music,Effects"
             ],
             "namePath": [
              "AllMember",
              "Video Editor,Crop Video,Movie Video,Music,Effects"
             ],
             "properties": {
              "DISPLAY_INFO": 131072
             }
            }
           ],
           [
            {
             "captionPath": [
              "AllMember",
              "VIDEO_PLAYERS"
             ],
             "namePath": [
              "AllMember",
              "VIDEO_PLAYERS"
             ],
             "properties": {
              "DISPLAY_INFO": 131072
             }
            },
            {
             "captionPath": [
              "AllMember",
              "Ez Screen Recorder (no ad)"
             ],
             "namePath": [
              "AllMember",
              "Ez Screen Recorder (no ad)"
             ],
             "properties": {
              "DISPLAY_INFO": 131072
             }
            }
           ],
           [
            {
             "captionPath": [
              "AllMember",
              "VIDEO_PLAYERS"
             ],
             "namePath": [
              "AllMember",
              "VIDEO_PLAYERS"
             ],
             "properties": {
              "DISPLAY_INFO": 131072
             }
            },
            {
             "captionPath": [
              "AllMember",
              "Flud (Ad free)"
             ],
             "namePath": [
              "AllMember",
              "Flud (Ad free)"
             ],
             "properties": {
              "DISPLAY_INFO": 131072
             }
            }
           ],
           [
            {
             "captionPath": [
              "AllMember",
              "VIDEO_PLAYERS"
             ],
             "namePath": [
              "AllMember",
              "VIDEO_PLAYERS"
             ],
             "properties": {
              "DISPLAY_INFO": 131072
             }
            },
            {
             "captionPath": [
              "AllMember",
              "AK Lodi Films"
             ],
             "namePath": [
              "AllMember",
              "AK Lodi Films"
             ],
             "properties": {
              "DISPLAY_INFO": 131072
             }
            }
           ],
           [
            {
             "captionPath": [
              "AllMember",
              "VIDEO_PLAYERS"
             ],
             "namePath": [
              "AllMember",
              "VIDEO_PLAYERS"
             ],
             "properties": {
              "DISPLAY_INFO": 131072
             }
            },
            {
             "captionPath": [
              "AllMember",
              "AJ Player"
             ],
             "namePath": [
              "AllMember",
              "AJ Player"
             ],
             "properties": {
              "DISPLAY_INFO": 131072
             }
            }
           ],
           [
            {
             "captionPath": [
              "AllMember",
              "VIDEO_PLAYERS"
             ],
             "namePath": [
              "AllMember",
              "VIDEO_PLAYERS"
             ],
             "properties": {
              "DISPLAY_INFO": 131072
             }
            },
            {
             "captionPath": [
              "AllMember",
              "CJ Camcorder"
             ],
             "namePath": [
              "AllMember",
              "CJ Camcorder"
             ],
             "properties": {
              "DISPLAY_INFO": 131072
             }
            }
           ],
           [
            {
             "captionPath": [
              "AllMember",
              "PHOTOGRAPHY"
             ],
             "namePath": [
              "AllMember",
              "PHOTOGRAPHY"
             ],
             "properties": {
              "DISPLAY_INFO": 131072
             }
            },
            {
             "captionPath": [
              "AllMember",
              "Video Editor Music,Cut,No Crop"
             ],
             "namePath": [
              "AllMember",
              "Video Editor Music,Cut,No Crop"
             ],
             "properties": {
              "DISPLAY_INFO": 131072
             }
            }
           ],
           [
            {
             "captionPath": [
              "AllMember",
              "PHOTOGRAPHY"
             ],
             "namePath": [
              "AllMember",
              "PHOTOGRAPHY"
             ],
             "properties": {
              "DISPLAY_INFO": 131072
             }
            },
            {
             "captionPath": [
              "AllMember",
              "FreePrints – Free Photos Delivered"
             ],
             "namePath": [
              "AllMember",
              "FreePrints – Free Photos Delivered"
             ],
             "properties": {
              "DISPLAY_INFO": 131072
             }
            }
           ],
           [
            {
             "captionPath": [
              "AllMember",
              "PHOTOGRAPHY"
             ],
             "namePath": [
              "AllMember",
              "PHOTOGRAPHY"
             ],
             "properties": {
              "DISPLAY_INFO": 131072
             }
            },
            {
             "captionPath": [
              "AllMember",
              "Pocket AC"
             ],
             "namePath": [
              "AllMember",
              "Pocket AC"
             ],
             "properties": {
              "DISPLAY_INFO": 131072
             }
            }
           ],
           [
            {
             "captionPath": [
              "AllMember",
              "PHOTOGRAPHY"
             ],
             "namePath": [
              "AllMember",
              "PHOTOGRAPHY"
             ],
             "properties": {
              "DISPLAY_INFO": 131072
             }
            },
            {
             "captionPath": [
              "AllMember",
              "AJ Cam"
             ],
             "namePath": [
              "AllMember",
              "AJ Cam"
             ],
             "properties": {
              "DISPLAY_INFO": 131072
             }
            }
           ],
           [
            {
             "captionPath": [
              "AllMember",
              "PHOTOGRAPHY"
             ],
             "namePath": [
              "AllMember",
              "PHOTOGRAPHY"
             ],
             "properties": {
              "DISPLAY_INFO": 131072
             }
            },
            {
             "captionPath": [
              "AllMember",
              "CB VIDEO VISION"
             ],
             "namePath": [
              "AllMember",
              "CB VIDEO VISION"
             ],
             "properties": {
              "DISPLAY_INFO": 131072
             }
            }
           ],
           [
            {
             "captionPath": [
              "AllMember",
              "PHOTOGRAPHY"
             ],
             "namePath": [
              "AllMember",
              "PHOTOGRAPHY"
             ],
             "properties": {
              "DISPLAY_INFO": 131072
             }
            },
            {
             "captionPath": [
              "AllMember",
              "Wallpaper.cz"
             ],
             "namePath": [
              "AllMember",
              "Wallpaper.cz"
             ],
             "properties": {
              "DISPLAY_INFO": 131072
             }
            }
           ],
           [
            {
             "captionPath": [
              "AllMember",
              "PHOTOGRAPHY"
             ],
             "namePath": [
              "AllMember",
              "PHOTOGRAPHY"
             ],
             "properties": {
              "DISPLAY_INFO": 131072
             }
            },
            {
             "captionPath": [
              "AllMember",
              "DC-014"
             ],
             "namePath": [
              "AllMember",
              "DC-014"
             ],
             "properties": {
              "DISPLAY_INFO": 131072
             }
            }
           ],
           [
            {
             "captionPath": [
              "AllMember",
              "PHOTOGRAPHY"
             ],
             "namePath": [
              "AllMember",
              "PHOTOGRAPHY"
             ],
             "properties": {
              "DISPLAY_INFO": 131072
             }
            },
            {
             "captionPath": [
              "AllMember",
              "Selfie With Champion AJ Style"
             ],
             "namePath": [
              "AllMember",
              "Selfie With Champion AJ Style"
             ],
             "properties": {
              "DISPLAY_INFO": 131072
             }
            }
           ],
           [
            {
             "captionPath": [
              "AllMember",
              "PHOTOGRAPHY"
             ],
             "namePath": [
              "AllMember",
              "PHOTOGRAPHY"
             ],
             "properties": {
              "DISPLAY_INFO": 131072
             }
            },
            {
             "captionPath": [
              "AllMember",
              "CG Prints"
             ],
             "namePath": [
              "AllMember",
              "CG Prints"
             ],
             "properties": {
              "DISPLAY_INFO": 131072
             }
            }
           ],
           [
            {
             "captionPath": [
              "AllMember",
              "PHOTOGRAPHY"
             ],
             "namePath": [
              "AllMember",
              "PHOTOGRAPHY"
             ],
             "properties": {
              "DISPLAY_INFO": 131072
             }
            },
            {
             "captionPath": [
              "AllMember",
              "i am EB"
             ],
             "namePath": [
              "AllMember",
              "i am EB"
             ],
             "properties": {
              "DISPLAY_INFO": 131072
             }
            }
           ],
           [
            {
             "captionPath": [
              "AllMember",
              "ENTERTAINMENT"
             ],
             "namePath": [
              "AllMember",
              "ENTERTAINMENT"
             ],
             "properties": {
              "DISPLAY_INFO": 131072
             }
            },
            {
             "captionPath": [
              "AllMember",
              "Twitch: Livestream Multiplayer Games & Esports"
             ],
             "namePath": [
              "AllMember",
              "Twitch: Livestream Multiplayer Games & Esports"
             ],
             "properties": {
              "DISPLAY_INFO": 131072
             }
            }
           ],
           [
            {
             "captionPath": [
              "AllMember",
              "ENTERTAINMENT"
             ],
             "namePath": [
              "AllMember",
              "ENTERTAINMENT"
             ],
             "properties": {
              "DISPLAY_INFO": 131072
             }
            },
            {
             "captionPath": [
              "AllMember",
              "ivi - movies and TV shows in HD"
             ],
             "namePath": [
              "AllMember",
              "ivi - movies and TV shows in HD"
             ],
             "properties": {
              "DISPLAY_INFO": 131072
             }
            }
           ],
           [
            {
             "captionPath": [
              "AllMember",
              "ENTERTAINMENT"
             ],
             "namePath": [
              "AllMember",
              "ENTERTAINMENT"
             ],
             "properties": {
              "DISPLAY_INFO": 131072
             }
            },
            {
             "captionPath": [
              "AllMember",
              "Fandango Movies - Times  Tickets"
             ],
             "namePath": [
              "AllMember",
              "Fandango Movies - Times  Tickets"
             ],
             "properties": {
              "DISPLAY_INFO": 131072
             }
            }
           ],
           [
            {
             "captionPath": [
              "AllMember",
              "ENTERTAINMENT"
             ],
             "namePath": [
              "AllMember",
              "ENTERTAINMENT"
             ],
             "properties": {
              "DISPLAY_INFO": 131072
             }
            },
            {
             "captionPath": [
              "AllMember",
              "ColorFul - Adult Coloring Book"
             ],
             "namePath": [
              "AllMember",
              "ColorFul - Adult Coloring Book"
             ],
             "properties": {
              "DISPLAY_INFO": 131072
             }
            }
           ],
           [
            {
             "captionPath": [
              "AllMember",
              "ENTERTAINMENT"
             ],
             "namePath": [
              "AllMember",
              "ENTERTAINMENT"
             ],
             "properties": {
              "DISPLAY_INFO": 131072
             }
            },
            {
             "captionPath": [
              "AllMember",
              "Motorola Spotlight Player™"
             ],
             "namePath": [
              "AllMember",
              "Motorola Spotlight Player™"
             ],
             "properties": {
              "DISPLAY_INFO": 131072
             }
            }
           ],
           [
            {
             "captionPath": [
              "AllMember",
              "ENTERTAINMENT"
             ],
             "namePath": [
              "AllMember",
              "ENTERTAINMENT"
             ],
             "properties": {
              "DISPLAY_INFO": 131072
             }
            },
            {
             "captionPath": [
              "AllMember",
              "🔥 Football Wallpapers 4K | Full HD Backgrounds 😍"
             ],
             "namePath": [
              "AllMember",
              "🔥 Football Wallpapers 4K | Full HD Backgrounds 😍"
             ],
             "properties": {
              "DISPLAY_INFO": 131072
             }
            }
           ],
           [
            {
             "captionPath": [
              "AllMember",
              "ENTERTAINMENT"
             ],
             "namePath": [
              "AllMember",
              "ENTERTAINMENT"
             ],
             "properties": {
              "DISPLAY_INFO": 131072
             }
            },
            {
             "captionPath": [
              "AllMember",
              "My Talking Pet"
             ],
             "namePath": [
              "AllMember",
              "My Talking Pet"
             ],
             "properties": {
              "DISPLAY_INFO": 131072
             }
            }
           ],
           [
            {
             "captionPath": [
              "AllMember",
              "ENTERTAINMENT"
             ],
             "namePath": [
              "AllMember",
              "ENTERTAINMENT"
             ],
             "properties": {
              "DISPLAY_INFO": 131072
             }
            },
            {
             "captionPath": [
              "AllMember",
              "Meme Generator"
             ],
             "namePath": [
              "AllMember",
              "Meme Generator"
             ],
             "properties": {
              "DISPLAY_INFO": 131072
             }
            }
           ],
           [
            {
             "captionPath": [
              "AllMember",
              "ENTERTAINMENT"
             ],
             "namePath": [
              "AllMember",
              "ENTERTAINMENT"
             ],
             "properties": {
              "DISPLAY_INFO": 131072
             }
            },
            {
             "captionPath": [
              "AllMember",
              "Hamilton — The Official App"
             ],
             "namePath": [
              "AllMember",
              "Hamilton — The Official App"
             ],
             "properties": {
              "DISPLAY_INFO": 131072
             }
            }
           ],
           [
            {
             "captionPath": [
              "AllMember",
              "ENTERTAINMENT"
             ],
             "namePath": [
              "AllMember",
              "ENTERTAINMENT"
             ],
             "properties": {
              "DISPLAY_INFO": 131072
             }
            },
            {
             "captionPath": [
              "AllMember",
              "Kidjo TV Kids Have Fun & Learn"
             ],
             "namePath": [
              "AllMember",
              "Kidjo TV Kids Have Fun & Learn"
             ],
             "properties": {
              "DISPLAY_INFO": 131072
             }
            }
           ],
           [
            {
             "captionPath": [
              "AllMember",
              "TOOLS"
             ],
             "namePath": [
              "AllMember",
              "TOOLS"
             ],
             "properties": {
              "DISPLAY_INFO": 131072
             }
            },
            {
             "captionPath": [
              "AllMember",
              "CL REPL"
             ],
             "namePath": [
              "AllMember",
              "CL REPL"
             ],
             "properties": {
              "DISPLAY_INFO": 131072
             }
            }
           ],
           [
            {
             "captionPath": [
              "AllMember",
              "TOOLS"
             ],
             "namePath": [
              "AllMember",
              "TOOLS"
             ],
             "properties": {
              "DISPLAY_INFO": 131072
             }
            },
            {
             "captionPath": [
              "AllMember",
              "CL Notifier"
             ],
             "namePath": [
              "AllMember",
              "CL Notifier"
             ],
             "properties": {
              "DISPLAY_INFO": 131072
             }
            }
           ],
           [
            {
             "captionPath": [
              "AllMember",
              "TOOLS"
             ],
             "namePath": [
              "AllMember",
              "TOOLS"
             ],
             "properties": {
              "DISPLAY_INFO": 131072
             }
            },
            {
             "captionPath": [
              "AllMember",
              "BK Formula Calculator"
             ],
             "namePath": [
              "AllMember",
              "BK Formula Calculator"
             ],
             "properties": {
              "DISPLAY_INFO": 131072
             }
            }
           ],
           [
            {
             "captionPath": [
              "AllMember",
              "TOOLS"
             ],
             "namePath": [
              "AllMember",
              "TOOLS"
             ],
             "properties": {
              "DISPLAY_INFO": 131072
             }
            },
            {
             "captionPath": [
              "AllMember",
              "ReactNative BG Geolocation"
             ],
             "namePath": [
              "AllMember",
              "ReactNative BG Geolocation"
             ],
             "properties": {
              "DISPLAY_INFO": 131072
             }
            }
           ],
           [
            {
             "captionPath": [
              "AllMember",
              "TOOLS"
             ],
             "namePath": [
              "AllMember",
              "TOOLS"
             ],
             "properties": {
              "DISPLAY_INFO": 131072
             }
            },
            {
             "captionPath": [
              "AllMember",
              "Victoria EC"
             ],
             "namePath": [
              "AllMember",
              "Victoria EC"
             ],
             "properties": {
              "DISPLAY_INFO": 131072
             }
            }
           ],
           [
            {
             "captionPath": [
              "AllMember",
              "TOOLS"
             ],
             "namePath": [
              "AllMember",
              "TOOLS"
             ],
             "properties": {
              "DISPLAY_INFO": 131072
             }
            },
            {
             "captionPath": [
              "AllMember",
              "ADS-B Driver"
             ],
             "namePath": [
              "AllMember",
              "ADS-B Driver"
             ],
             "properties": {
              "DISPLAY_INFO": 131072
             }
            }
           ],
           [
            {
             "captionPath": [
              "AllMember",
              "TOOLS"
             ],
             "namePath": [
              "AllMember",
              "TOOLS"
             ],
             "properties": {
              "DISPLAY_INFO": 131072
             }
            },
            {
             "captionPath": [
              "AllMember",
              "CZ Kompas"
             ],
             "namePath": [
              "AllMember",
              "CZ Kompas"
             ],
             "properties": {
              "DISPLAY_INFO": 131072
             }
            }
           ],
           [
            {
             "captionPath": [
              "AllMember",
              "TOOLS"
             ],
             "namePath": [
              "AllMember",
              "TOOLS"
             ],
             "properties": {
              "DISPLAY_INFO": 131072
             }
            },
            {
             "captionPath": [
              "AllMember",
              "Easy Hotspot Ad Free"
             ],
             "namePath": [
              "AllMember",
              "Easy Hotspot Ad Free"
             ],
             "properties": {
              "DISPLAY_INFO": 131072
             }
            }
           ],
           [
            {
             "captionPath": [
              "AllMember",
              "TOOLS"
             ],
             "namePath": [
              "AllMember",
              "TOOLS"
             ],
             "properties": {
              "DISPLAY_INFO": 131072
             }
            },
            {
             "captionPath": [
              "AllMember",
              "ei Calc"
             ],
             "namePath": [
              "AllMember",
              "ei Calc"
             ],
             "properties": {
              "DISPLAY_INFO": 131072
             }
            }
           ],
           [
            {
             "captionPath": [
              "AllMember",
              "TOOLS"
             ],
             "namePath": [
              "AllMember",
              "TOOLS"
             ],
             "properties": {
              "DISPLAY_INFO": 131072
             }
            },
            {
             "captionPath": [
              "AllMember",
              "BM speed test"
             ],
             "namePath": [
              "AllMember",
              "BM speed test"
             ],
             "properties": {
              "DISPLAY_INFO": 131072
             }
            }
           ],
           [
            {
             "captionPath": [
              "AllMember",
              "SHOPPING"
             ],
             "namePath": [
              "AllMember",
              "SHOPPING"
             ],
             "properties": {
              "DISPLAY_INFO": 131072
             }
            },
            {
             "captionPath": [
              "AllMember",
              "Nike"
             ],
             "namePath": [
              "AllMember",
              "Nike"
             ],
             "properties": {
              "DISPLAY_INFO": 131072
             }
            }
           ],
           [
            {
             "captionPath": [
              "AllMember",
              "SHOPPING"
             ],
             "namePath": [
              "AllMember",
              "SHOPPING"
             ],
             "properties": {
              "DISPLAY_INFO": 131072
             }
            },
            {
             "captionPath": [
              "AllMember",
              "BL Flowers Digital"
             ],
             "namePath": [
              "AllMember",
              "BL Flowers Digital"
             ],
             "properties": {
              "DISPLAY_INFO": 131072
             }
            }
           ],
           [
            {
             "captionPath": [
              "AllMember",
              "SHOPPING"
             ],
             "namePath": [
              "AllMember",
              "SHOPPING"
             ],
             "properties": {
              "DISPLAY_INFO": 131072
             }
            },
            {
             "captionPath": [
              "AllMember",
              "Shopping List S PRO"
             ],
             "namePath": [
              "AllMember",
              "Shopping List S PRO"
             ],
             "properties": {
              "DISPLAY_INFO": 131072
             }
            }
           ],
           [
            {
             "captionPath": [
              "AllMember",
              "SHOPPING"
             ],
             "namePath": [
              "AllMember",
              "SHOPPING"
             ],
             "properties": {
              "DISPLAY_INFO": 131072
             }
            },
            {
             "captionPath": [
              "AllMember",
              "Bazar.af"
             ],
             "namePath": [
              "AllMember",
              "Bazar.af"
             ],
             "properties": {
              "DISPLAY_INFO": 131072
             }
            }
           ],
           [
            {
             "captionPath": [
              "AllMember",
              "SHOPPING"
             ],
             "namePath": [
              "AllMember",
              "SHOPPING"
             ],
             "properties": {
              "DISPLAY_INFO": 131072
             }
            },
            {
             "captionPath": [
              "AllMember",
              "CK Multimedia - Gaming Accessories"
             ],
             "namePath": [
              "AllMember",
              "CK Multimedia - Gaming Accessories"
             ],
             "properties": {
              "DISPLAY_INFO": 131072
             }
            }
           ],
           [
            {
             "captionPath": [
              "AllMember",
              "SHOPPING"
             ],
             "namePath": [
              "AllMember",
              "SHOPPING"
             ],
             "properties": {
              "DISPLAY_INFO": 131072
             }
            },
            {
             "captionPath": [
              "AllMember",
              "AJ RETAILS"
             ],
             "namePath": [
              "AllMember",
              "AJ RETAILS"
             ],
             "properties": {
              "DISPLAY_INFO": 131072
             }
            }
           ],
           [
            {
             "captionPath": [
              "AllMember",
              "SHOPPING"
             ],
             "namePath": [
              "AllMember",
              "SHOPPING"
             ],
             "properties": {
              "DISPLAY_INFO": 131072
             }
            },
            {
             "captionPath": [
              "AllMember",
              "Dine In CT - Food Delivery"
             ],
             "namePath": [
              "AllMember",
              "Dine In CT - Food Delivery"
             ],
             "properties": {
              "DISPLAY_INFO": 131072
             }
            }
           ],
           [
            {
             "captionPath": [
              "AllMember",
              "SHOPPING"
             ],
             "namePath": [
              "AllMember",
              "SHOPPING"
             ],
             "properties": {
              "DISPLAY_INFO": 131072
             }
            },
            {
             "captionPath": [
              "AllMember",
              "A-Y Collection"
             ],
             "namePath": [
              "AllMember",
              "A-Y Collection"
             ],
             "properties": {
              "DISPLAY_INFO": 131072
             }
            }
           ],
           [
            {
             "captionPath": [
              "AllMember",
              "SHOPPING"
             ],
             "namePath": [
              "AllMember",
              "SHOPPING"
             ],
             "properties": {
              "DISPLAY_INFO": 131072
             }
            },
            {
             "captionPath": [
              "AllMember",
              "DG OFF - 100% Free Coupons & Deals"
             ],
             "namePath": [
              "AllMember",
              "DG OFF - 100% Free Coupons & Deals"
             ],
             "properties": {
              "DISPLAY_INFO": 131072
             }
            }
           ],
           [
            {
             "captionPath": [
              "AllMember",
              "SHOPPING"
             ],
             "namePath": [
              "AllMember",
              "SHOPPING"
             ],
             "properties": {
              "DISPLAY_INFO": 131072
             }
            },
            {
             "captionPath": [
              "AllMember",
              "DT CLOTHINGS"
             ],
             "namePath": [
              "AllMember",
              "DT CLOTHINGS"
             ],
             "properties": {
              "DISPLAY_INFO": 131072
             }
            }
           ],
           [
            {
             "captionPath": [
              "AllMember",
              "SPORTS"
             ],
             "namePath": [
              "AllMember",
              "SPORTS"
             ],
             "properties": {
              "DISPLAY_INFO": 131072
             }
            },
            {
             "captionPath": [
              "AllMember",
              "FC Porto"
             ],
             "namePath": [
              "AllMember",
              "FC Porto"
             ],
             "properties": {
              "DISPLAY_INFO": 131072
             }
            }
           ],
           [
            {
             "captionPath": [
              "AllMember",
              "SPORTS"
             ],
             "namePath": [
              "AllMember",
              "SPORTS"
             ],
             "properties": {
              "DISPLAY_INFO": 131072
             }
            },
            {
             "captionPath": [
              "AllMember",
              "Live Tennis Rankings / LTR"
             ],
             "namePath": [
              "AllMember",
              "Live Tennis Rankings / LTR"
             ],
             "properties": {
              "DISPLAY_INFO": 131072
             }
            }
           ],
           [
            {
             "captionPath": [
              "AllMember",
              "SPORTS"
             ],
             "namePath": [
              "AllMember",
              "SPORTS"
             ],
             "properties": {
              "DISPLAY_INFO": 131072
             }
            },
            {
             "captionPath": [
              "AllMember",
              "FK Željezničar"
             ],
             "namePath": [
              "AllMember",
              "FK Željezničar"
             ],
             "properties": {
              "DISPLAY_INFO": 131072
             }
            }
           ],
           [
            {
             "captionPath": [
              "AllMember",
              "SPORTS"
             ],
             "namePath": [
              "AllMember",
              "SPORTS"
             ],
             "properties": {
              "DISPLAY_INFO": 131072
             }
            },
            {
             "captionPath": [
              "AllMember",
              "FK Crvena zvezda"
             ],
             "namePath": [
              "AllMember",
              "FK Crvena zvezda"
             ],
             "properties": {
              "DISPLAY_INFO": 131072
             }
            }
           ],
           [
            {
             "captionPath": [
              "AllMember",
              "SPORTS"
             ],
             "namePath": [
              "AllMember",
              "SPORTS"
             ],
             "properties": {
              "DISPLAY_INFO": 131072
             }
            },
            {
             "captionPath": [
              "AllMember",
              "Burnley FC"
             ],
             "namePath": [
              "AllMember",
              "Burnley FC"
             ],
             "properties": {
              "DISPLAY_INFO": 131072
             }
            }
           ],
           [
            {
             "captionPath": [
              "AllMember",
              "SPORTS"
             ],
             "namePath": [
              "AllMember",
              "SPORTS"
             ],
             "properties": {
              "DISPLAY_INFO": 131072
             }
            },
            {
             "captionPath": [
              "AllMember",
              "FK Dedinje BGD"
             ],
             "namePath": [
              "AllMember",
              "FK Dedinje BGD"
             ],
             "properties": {
              "DISPLAY_INFO": 131072
             }
            }
           ],
           [
            {
             "captionPath": [
              "AllMember",
              "SPORTS"
             ],
             "namePath": [
              "AllMember",
              "SPORTS"
             ],
             "properties": {
              "DISPLAY_INFO": 131072
             }
            },
            {
             "captionPath": [
              "AllMember",
              "CricQuick"
             ],
             "namePath": [
              "AllMember",
              "CricQuick"
             ],
             "properties": {
              "DISPLAY_INFO": 131072
             }
            }
           ],
           [
            {
             "captionPath": [
              "AllMember",
              "SPORTS"
             ],
             "namePath": [
              "AllMember",
              "SPORTS"
             ],
             "properties": {
              "DISPLAY_INFO": 131072
             }
            },
            {
             "captionPath": [
              "AllMember",
              "Las Vegas Lights FC"
             ],
             "namePath": [
              "AllMember",
              "Las Vegas Lights FC"
             ],
             "properties": {
              "DISPLAY_INFO": 131072
             }
            }
           ],
           [
            {
             "captionPath": [
              "AllMember",
              "SPORTS"
             ],
             "namePath": [
              "AllMember",
              "SPORTS"
             ],
             "properties": {
              "DISPLAY_INFO": 131072
             }
            },
            {
             "captionPath": [
              "AllMember",
              "FA Player Essentials"
             ],
             "namePath": [
              "AllMember",
              "FA Player Essentials"
             ],
             "properties": {
              "DISPLAY_INFO": 131072
             }
            }
           ],
           [
            {
             "captionPath": [
              "AllMember",
              "SPORTS"
             ],
             "namePath": [
              "AllMember",
              "SPORTS"
             ],
             "properties": {
              "DISPLAY_INFO": 131072
             }
            },
            {
             "captionPath": [
              "AllMember",
              "EC SPORTS"
             ],
             "namePath": [
              "AllMember",
              "EC SPORTS"
             ],
             "properties": {
              "DISPLAY_INFO": 131072
             }
            }
           ],
           [
            {
             "captionPath": [
              "AllMember",
              "FAMILY"
             ],
             "namePath": [
              "AllMember",
              "FAMILY"
             ],
             "properties": {
              "DISPLAY_INFO": 131072
             }
            },
            {
             "captionPath": [
              "AllMember",
              "Master E.K"
             ],
             "namePath": [
              "AllMember",
              "Master E.K"
             ],
             "properties": {
              "DISPLAY_INFO": 131072
             }
            }
           ],
           [
            {
             "captionPath": [
              "AllMember",
              "FAMILY"
             ],
             "namePath": [
              "AllMember",
              "FAMILY"
             ],
             "properties": {
              "DISPLAY_INFO": 131072
             }
            },
            {
             "captionPath": [
              "AllMember",
              "MCQ CE IT"
             ],
             "namePath": [
              "AllMember",
              "MCQ CE IT"
             ],
             "properties": {
              "DISPLAY_INFO": 131072
             }
            }
           ],
           [
            {
             "captionPath": [
              "AllMember",
              "FAMILY"
             ],
             "namePath": [
              "AllMember",
              "FAMILY"
             ],
             "properties": {
              "DISPLAY_INFO": 131072
             }
            },
            {
             "captionPath": [
              "AllMember",
              "COMSATS BOOK STORE FOR BS(CS)"
             ],
             "namePath": [
              "AllMember",
              "COMSATS BOOK STORE FOR BS(CS)"
             ],
             "properties": {
              "DISPLAY_INFO": 131072
             }
            }
           ],
           [
            {
             "captionPath": [
              "AllMember",
              "FAMILY"
             ],
             "namePath": [
              "AllMember",
              "FAMILY"
             ],
             "properties": {
              "DISPLAY_INFO": 131072
             }
            },
            {
             "captionPath": [
              "AllMember",
              "CD CHOICE TUBE"
             ],
             "namePath": [
              "AllMember",
              "CD CHOICE TUBE"
             ],
             "properties": {
              "DISPLAY_INFO": 131072
             }
            }
           ],
           [
            {
             "captionPath": [
              "AllMember",
              "FAMILY"
             ],
             "namePath": [
              "AllMember",
              "FAMILY"
             ],
             "properties": {
              "DISPLAY_INFO": 131072
             }
            },
            {
             "captionPath": [
              "AllMember",
              "DYPSOET"
             ],
             "namePath": [
              "AllMember",
              "DYPSOET"
             ],
             "properties": {
              "DISPLAY_INFO": 131072
             }
            }
           ],
           [
            {
             "captionPath": [
              "AllMember",
              "FAMILY"
             ],
             "namePath": [
              "AllMember",
              "FAMILY"
             ],
             "properties": {
              "DISPLAY_INFO": 131072
             }
            },
            {
             "captionPath": [
              "AllMember",
              "AQ Ria Retail"
             ],
             "namePath": [
              "AllMember",
              "AQ Ria Retail"
             ],
             "properties": {
              "DISPLAY_INFO": 131072
             }
            }
           ],
           [
            {
             "captionPath": [
              "AllMember",
              "FAMILY"
             ],
             "namePath": [
              "AllMember",
              "FAMILY"
             ],
             "properties": {
              "DISPLAY_INFO": 131072
             }
            },
            {
             "captionPath": [
              "AllMember",
              "FH School"
             ],
             "namePath": [
              "AllMember",
              "FH School"
             ],
             "properties": {
              "DISPLAY_INFO": 131072
             }
            }
           ],
           [
            {
             "captionPath": [
              "AllMember",
              "FAMILY"
             ],
             "namePath": [
              "AllMember",
              "FAMILY"
             ],
             "properties": {
              "DISPLAY_INFO": 131072
             }
            },
            {
             "captionPath": [
              "AllMember",
              "CT Brain Interpretation"
             ],
             "namePath": [
              "AllMember",
              "CT Brain Interpretation"
             ],
             "properties": {
              "DISPLAY_INFO": 131072
             }
            }
           ],
           [
            {
             "captionPath": [
              "AllMember",
              "FAMILY"
             ],
             "namePath": [
              "AllMember",
              "FAMILY"
             ],
             "properties": {
              "DISPLAY_INFO": 131072
             }
            },
            {
             "captionPath": [
              "AllMember",
              "EP Radio"
             ],
             "namePath": [
              "AllMember",
              "EP Radio"
             ],
             "properties": {
              "DISPLAY_INFO": 131072
             }
            }
           ],
           [
            {
             "captionPath": [
              "AllMember",
              "FAMILY"
             ],
             "namePath": [
              "AllMember",
              "FAMILY"
             ],
             "properties": {
              "DISPLAY_INFO": 131072
             }
            },
            {
             "captionPath": [
              "AllMember",
              "AP Art History Flashcards"
             ],
             "namePath": [
              "AllMember",
              "AP Art History Flashcards"
             ],
             "properties": {
              "DISPLAY_INFO": 131072
             }
            }
           ],
           [
            {
             "captionPath": [
              "AllMember",
              "WEATHER"
             ],
             "namePath": [
              "AllMember",
              "WEATHER"
             ],
             "properties": {
              "DISPLAY_INFO": 131072
             }
            },
            {
             "captionPath": [
              "AllMember",
              "Weather by WeatherBug: Forecast, Radar & Alerts"
             ],
             "namePath": [
              "AllMember",
              "Weather by WeatherBug: Forecast, Radar & Alerts"
             ],
             "properties": {
              "DISPLAY_INFO": 131072
             }
            }
           ],
           [
            {
             "captionPath": [
              "AllMember",
              "WEATHER"
             ],
             "namePath": [
              "AllMember",
              "WEATHER"
             ],
             "properties": {
              "DISPLAY_INFO": 131072
             }
            },
            {
             "captionPath": [
              "AllMember",
              "Weather forecast"
             ],
             "namePath": [
              "AllMember",
              "Weather forecast"
             ],
             "properties": {
              "DISPLAY_INFO": 131072
             }
            }
           ],
           [
            {
             "captionPath": [
              "AllMember",
              "WEATHER"
             ],
             "namePath": [
              "AllMember",
              "WEATHER"
             ],
             "properties": {
              "DISPLAY_INFO": 131072
             }
            },
            {
             "captionPath": [
              "AllMember",
              "Storm Radar: Tornado Tracker & Hurricane Alerts"
             ],
             "namePath": [
              "AllMember",
              "Storm Radar: Tornado Tracker & Hurricane Alerts"
             ],
             "properties": {
              "DISPLAY_INFO": 131072
             }
            }
           ],
           [
            {
             "captionPath": [
              "AllMember",
              "WEATHER"
             ],
             "namePath": [
              "AllMember",
              "WEATHER"
             ],
             "properties": {
              "DISPLAY_INFO": 131072
             }
            },
            {
             "captionPath": [
              "AllMember",
              "Klara weather"
             ],
             "namePath": [
              "AllMember",
              "Klara weather"
             ],
             "properties": {
              "DISPLAY_INFO": 131072
             }
            }
           ],
           [
            {
             "captionPath": [
              "AllMember",
              "WEATHER"
             ],
             "namePath": [
              "AllMember",
              "WEATHER"
             ],
             "properties": {
              "DISPLAY_INFO": 131072
             }
            },
            {
             "captionPath": [
              "AllMember",
              "Fu*** Weather (Funny Weather)"
             ],
             "namePath": [
              "AllMember",
              "Fu*** Weather (Funny Weather)"
             ],
             "properties": {
              "DISPLAY_INFO": 131072
             }
            }
           ],
           [
            {
             "captionPath": [
              "AllMember",
              "WEATHER"
             ],
             "namePath": [
              "AllMember",
              "WEATHER"
             ],
             "properties": {
              "DISPLAY_INFO": 131072
             }
            },
            {
             "captionPath": [
              "AllMember",
              "Weather Live Pro"
             ],
             "namePath": [
              "AllMember",
              "Weather Live Pro"
             ],
             "properties": {
              "DISPLAY_INFO": 131072
             }
            }
           ],
           [
            {
             "captionPath": [
              "AllMember",
              "WEATHER"
             ],
             "namePath": [
              "AllMember",
              "WEATHER"
             ],
             "properties": {
              "DISPLAY_INFO": 131072
             }
            },
            {
             "captionPath": [
              "AllMember",
              "Weather Forecast Pro"
             ],
             "namePath": [
              "AllMember",
              "Weather Forecast Pro"
             ],
             "properties": {
              "DISPLAY_INFO": 131072
             }
            }
           ],
           [
            {
             "captionPath": [
              "AllMember",
              "WEATHER"
             ],
             "namePath": [
              "AllMember",
              "WEATHER"
             ],
             "properties": {
              "DISPLAY_INFO": 131072
             }
            },
            {
             "captionPath": [
              "AllMember",
              "weather - weather forecast"
             ],
             "namePath": [
              "AllMember",
              "weather - weather forecast"
             ],
             "properties": {
              "DISPLAY_INFO": 131072
             }
            }
           ],
           [
            {
             "captionPath": [
              "AllMember",
              "WEATHER"
             ],
             "namePath": [
              "AllMember",
              "WEATHER"
             ],
             "properties": {
              "DISPLAY_INFO": 131072
             }
            },
            {
             "captionPath": [
              "AllMember",
              "WebCams"
             ],
             "namePath": [
              "AllMember",
              "WebCams"
             ],
             "properties": {
              "DISPLAY_INFO": 131072
             }
            }
           ],
           [
            {
             "captionPath": [
              "AllMember",
              "WEATHER"
             ],
             "namePath": [
              "AllMember",
              "WEATHER"
             ],
             "properties": {
              "DISPLAY_INFO": 131072
             }
            },
            {
             "captionPath": [
              "AllMember",
              "Live Weather Pro"
             ],
             "namePath": [
              "AllMember",
              "Live Weather Pro"
             ],
             "properties": {
              "DISPLAY_INFO": 131072
             }
            }
           ],
           [
            {
             "captionPath": [
              "AllMember",
              "PRODUCTIVITY"
             ],
             "namePath": [
              "AllMember",
              "PRODUCTIVITY"
             ],
             "properties": {
              "DISPLAY_INFO": 131072
             }
            },
            {
             "captionPath": [
              "AllMember",
              "Ek Vote"
             ],
             "namePath": [
              "AllMember",
              "Ek Vote"
             ],
             "properties": {
              "DISPLAY_INFO": 131072
             }
            }
           ],
           [
            {
             "captionPath": [
              "AllMember",
              "PRODUCTIVITY"
             ],
             "namePath": [
              "AllMember",
              "PRODUCTIVITY"
             ],
             "properties": {
              "DISPLAY_INFO": 131072
             }
            },
            {
             "captionPath": [
              "AllMember",
              "Sai Baba - Sabka Malik Ek"
             ],
             "namePath": [
              "AllMember",
              "Sai Baba - Sabka Malik Ek"
             ],
             "properties": {
              "DISPLAY_INFO": 131072
             }
            }
           ],
           [
            {
             "captionPath": [
              "AllMember",
              "PRODUCTIVITY"
             ],
             "namePath": [
              "AllMember",
              "PRODUCTIVITY"
             ],
             "properties": {
              "DISPLAY_INFO": 131072
             }
            },
            {
             "captionPath": [
              "AllMember",
              "DF-Server Mobile"
             ],
             "namePath": [
              "AllMember",
              "DF-Server Mobile"
             ],
             "properties": {
              "DISPLAY_INFO": 131072
             }
            }
           ],
           [
            {
             "captionPath": [
              "AllMember",
              "PRODUCTIVITY"
             ],
             "namePath": [
              "AllMember",
              "PRODUCTIVITY"
             ],
             "properties": {
              "DISPLAY_INFO": 131072
             }
            },
            {
             "captionPath": [
              "AllMember",
              "EB Scanner"
             ],
             "namePath": [
              "AllMember",
              "EB Scanner"
             ],
             "properties": {
              "DISPLAY_INFO": 131072
             }
            }
           ],
           [
            {
             "captionPath": [
              "AllMember",
              "PRODUCTIVITY"
             ],
             "namePath": [
              "AllMember",
              "PRODUCTIVITY"
             ],
             "properties": {
              "DISPLAY_INFO": 131072
             }
            },
            {
             "captionPath": [
              "AllMember",
              "iReadMe"
             ],
             "namePath": [
              "AllMember",
              "iReadMe"
             ],
             "properties": {
              "DISPLAY_INFO": 131072
             }
            }
           ],
           [
            {
             "captionPath": [
              "AllMember",
              "PRODUCTIVITY"
             ],
             "namePath": [
              "AllMember",
              "PRODUCTIVITY"
             ],
             "properties": {
              "DISPLAY_INFO": 131072
             }
            },
            {
             "captionPath": [
              "AllMember",
              "CJ'S TIRE AND AUTO INC."
             ],
             "namePath": [
              "AllMember",
              "CJ'S TIRE AND AUTO INC."
             ],
             "properties": {
              "DISPLAY_INFO": 131072
             }
            }
           ],
           [
            {
             "captionPath": [
              "AllMember",
              "PRODUCTIVITY"
             ],
             "namePath": [
              "AllMember",
              "PRODUCTIVITY"
             ],
             "properties": {
              "DISPLAY_INFO": 131072
             }
            },
            {
             "captionPath": [
              "AllMember",
              "BV Mobile Apps"
             ],
             "namePath": [
              "AllMember",
              "BV Mobile Apps"
             ],
             "properties": {
              "DISPLAY_INFO": 131072
             }
            }
           ],
           [
            {
             "captionPath": [
              "AllMember",
              "PRODUCTIVITY"
             ],
             "namePath": [
              "AllMember",
              "PRODUCTIVITY"
             ],
             "properties": {
              "DISPLAY_INFO": 131072
             }
            },
            {
             "captionPath": [
              "AllMember",
              "ER Assist"
             ],
             "namePath": [
              "AllMember",
              "ER Assist"
             ],
             "properties": {
              "DISPLAY_INFO": 131072
             }
            }
           ],
           [
            {
             "captionPath": [
              "AllMember",
              "PRODUCTIVITY"
             ],
             "namePath": [
              "AllMember",
              "PRODUCTIVITY"
             ],
             "properties": {
              "DISPLAY_INFO": 131072
             }
            },
            {
             "captionPath": [
              "AllMember",
              "DL Image Manager"
             ],
             "namePath": [
              "AllMember",
              "DL Image Manager"
             ],
             "properties": {
              "DISPLAY_INFO": 131072
             }
            }
           ],
           [
            {
             "captionPath": [
              "AllMember",
              "PRODUCTIVITY"
             ],
             "namePath": [
              "AllMember",
              "PRODUCTIVITY"
             ],
             "properties": {
              "DISPLAY_INFO": 131072
             }
            },
            {
             "captionPath": [
              "AllMember",
              "ES Billing System (Offline App)"
             ],
             "namePath": [
              "AllMember",
              "ES Billing System (Offline App)"
             ],
             "properties": {
              "DISPLAY_INFO": 131072
             }
            }
           ],
           [
            {
             "captionPath": [
              "AllMember",
              "PERSONALIZATION"
             ],
             "namePath": [
              "AllMember",
              "PERSONALIZATION"
             ],
             "properties": {
              "DISPLAY_INFO": 131072
             }
            },
            {
             "captionPath": [
              "AllMember",
              "RETRO Shocked DW-6000"
             ],
             "namePath": [
              "AllMember",
              "RETRO Shocked DW-6000"
             ],
             "properties": {
              "DISPLAY_INFO": 131072
             }
            }
           ],
           [
            {
             "captionPath": [
              "AllMember",
              "PERSONALIZATION"
             ],
             "namePath": [
              "AllMember",
              "PERSONALIZATION"
             ],
             "properties": {
              "DISPLAY_INFO": 131072
             }
            },
            {
             "captionPath": [
              "AllMember",
              "FO Bixby"
             ],
             "namePath": [
              "AllMember",
              "FO Bixby"
             ],
             "properties": {
              "DISPLAY_INFO": 131072
             }
            }
           ],
           [
            {
             "captionPath": [
              "AllMember",
              "PERSONALIZATION"
             ],
             "namePath": [
              "AllMember",
              "PERSONALIZATION"
             ],
             "properties": {
              "DISPLAY_INFO": 131072
             }
            },
            {
             "captionPath": [
              "AllMember",
              "AJ Blue Icon Pack"
             ],
             "namePath": [
              "AllMember",
              "AJ Blue Icon Pack"
             ],
             "properties": {
              "DISPLAY_INFO": 131072
             }
            }
           ],
           [
            {
             "captionPath": [
              "AllMember",
              "PERSONALIZATION"
             ],
             "namePath": [
              "AllMember",
              "PERSONALIZATION"
             ],
             "properties": {
              "DISPLAY_INFO": 131072
             }
            },
            {
             "captionPath": [
              "AllMember",
              "Eh Bee Wallpapers HD"
             ],
             "namePath": [
              "AllMember",
              "Eh Bee Wallpapers HD"
             ],
             "properties": {
              "DISPLAY_INFO": 131072
             }
            }
           ],
           [
            {
             "captionPath": [
              "AllMember",
              "PERSONALIZATION"
             ],
             "namePath": [
              "AllMember",
              "PERSONALIZATION"
             ],
             "properties": {
              "DISPLAY_INFO": 131072
             }
            },
            {
             "captionPath": [
              "AllMember",
              "P-Home for KLWP"
             ],
             "namePath": [
              "AllMember",
              "P-Home for KLWP"
             ],
             "properties": {
              "DISPLAY_INFO": 131072
             }
            }
           ],
           [
            {
             "captionPath": [
              "AllMember",
              "PERSONALIZATION"
             ],
             "namePath": [
              "AllMember",
              "PERSONALIZATION"
             ],
             "properties": {
              "DISPLAY_INFO": 131072
             }
            },
            {
             "captionPath": [
              "AllMember",
              "Wallpapers FN SCAR H"
             ],
             "namePath": [
              "AllMember",
              "Wallpapers FN SCAR H"
             ],
             "properties": {
              "DISPLAY_INFO": 131072
             }
            }
           ],
           [
            {
             "captionPath": [
              "AllMember",
              "PERSONALIZATION"
             ],
             "namePath": [
              "AllMember",
              "PERSONALIZATION"
             ],
             "properties": {
              "DISPLAY_INFO": 131072
             }
            },
            {
             "captionPath": [
              "AllMember",
              "cx advance call blocker"
             ],
             "namePath": [
              "AllMember",
              "cx advance call blocker"
             ],
             "properties": {
              "DISPLAY_INFO": 131072
             }
            }
           ],
           [
            {
             "captionPath": [
              "AllMember",
              "PERSONALIZATION"
             ],
             "namePath": [
              "AllMember",
              "PERSONALIZATION"
             ],
             "properties": {
              "DISPLAY_INFO": 131072
             }
            },
            {
             "captionPath": [
              "AllMember",
              "AJ Gray Dark Icon Pack"
             ],
             "namePath": [
              "AllMember",
              "AJ Gray Dark Icon Pack"
             ],
             "properties": {
              "DISPLAY_INFO": 131072
             }
            }
           ],
           [
            {
             "captionPath": [
              "AllMember",
              "PERSONALIZATION"
             ],
             "namePath": [
              "AllMember",
              "PERSONALIZATION"
             ],
             "properties": {
              "DISPLAY_INFO": 131072
             }
            },
            {
             "captionPath": [
              "AllMember",
              "Android P Style Icon Pack"
             ],
             "namePath": [
              "AllMember",
              "Android P Style Icon Pack"
             ],
             "properties": {
              "DISPLAY_INFO": 131072
             }
            }
           ],
           [
            {
             "captionPath": [
              "AllMember",
              "PERSONALIZATION"
             ],
             "namePath": [
              "AllMember",
              "PERSONALIZATION"
             ],
             "properties": {
              "DISPLAY_INFO": 131072
             }
            },
            {
             "captionPath": [
              "AllMember",
              "CI 174 Gray Icon Pack"
             ],
             "namePath": [
              "AllMember",
              "CI 174 Gray Icon Pack"
             ],
             "properties": {
              "DISPLAY_INFO": 131072
             }
            }
           ],
           [
            {
             "captionPath": [
              "AllMember",
              "MAPS_AND_NAVIGATION"
             ],
             "namePath": [
              "AllMember",
              "MAPS_AND_NAVIGATION"
             ],
             "properties": {
              "DISPLAY_INFO": 131072
             }
            },
            {
             "captionPath": [
              "AllMember",
              "Waze - GPS, Maps, Traffic Alerts & Live Navigation"
             ],
             "namePath": [
              "AllMember",
              "Waze - GPS, Maps, Traffic Alerts & Live Navigation"
             ],
             "properties": {
              "DISPLAY_INFO": 131072
             }
            }
           ],
           [
            {
             "captionPath": [
              "AllMember",
              "MAPS_AND_NAVIGATION"
             ],
             "namePath": [
              "AllMember",
              "MAPS_AND_NAVIGATION"
             ],
             "properties": {
              "DISPLAY_INFO": 131072
             }
            },
            {
             "captionPath": [
              "AllMember",
              "Sygic Car Navigation"
             ],
             "namePath": [
              "AllMember",
              "Sygic Car Navigation"
             ],
             "properties": {
              "DISPLAY_INFO": 131072
             }
            }
           ],
           [
            {
             "captionPath": [
              "AllMember",
              "MAPS_AND_NAVIGATION"
             ],
             "namePath": [
              "AllMember",
              "MAPS_AND_NAVIGATION"
             ],
             "properties": {
              "DISPLAY_INFO": 131072
             }
            },
            {
             "captionPath": [
              "AllMember",
              "Trucker Path – Truck Stops & Weigh Stations"
             ],
             "namePath": [
              "AllMember",
              "Trucker Path – Truck Stops & Weigh Stations"
             ],
             "properties": {
              "DISPLAY_INFO": 131072
             }
            }
           ],
           [
            {
             "captionPath": [
              "AllMember",
              "MAPS_AND_NAVIGATION"
             ],
             "namePath": [
              "AllMember",
              "MAPS_AND_NAVIGATION"
             ],
             "properties": {
              "DISPLAY_INFO": 131072
             }
            },
            {
             "captionPath": [
              "AllMember",
              "GPS Speedometer, Distance Meter"
             ],
             "namePath": [
              "AllMember",
              "GPS Speedometer, Distance Meter"
             ],
             "properties": {
              "DISPLAY_INFO": 131072
             }
            }
           ],
           [
            {
             "captionPath": [
              "AllMember",
              "MAPS_AND_NAVIGATION"
             ],
             "namePath": [
              "AllMember",
              "MAPS_AND_NAVIGATION"
             ],
             "properties": {
              "DISPLAY_INFO": 131072
             }
            },
            {
             "captionPath": [
              "AllMember",
              "GPS Speedometer and Odometer"
             ],
             "namePath": [
              "AllMember",
              "GPS Speedometer and Odometer"
             ],
             "properties": {
              "DISPLAY_INFO": 131072
             }
            }
           ],
           [
            {
             "captionPath": [
              "AllMember",
              "MAPS_AND_NAVIGATION"
             ],
             "namePath": [
              "AllMember",
              "MAPS_AND_NAVIGATION"
             ],
             "properties": {
              "DISPLAY_INFO": 131072
             }
            },
            {
             "captionPath": [
              "AllMember",
              "PlugShare"
             ],
             "namePath": [
              "AllMember",
              "PlugShare"
             ],
             "properties": {
              "DISPLAY_INFO": 131072
             }
            }
           ],
           [
            {
             "captionPath": [
              "AllMember",
              "MAPS_AND_NAVIGATION"
             ],
             "namePath": [
              "AllMember",
              "MAPS_AND_NAVIGATION"
             ],
             "properties": {
              "DISPLAY_INFO": 131072
             }
            },
            {
             "captionPath": [
              "AllMember",
              "Cestovné poriadky CP"
             ],
             "namePath": [
              "AllMember",
              "Cestovné poriadky CP"
             ],
             "properties": {
              "DISPLAY_INFO": 131072
             }
            }
           ],
           [
            {
             "captionPath": [
              "AllMember",
              "MAPS_AND_NAVIGATION"
             ],
             "namePath": [
              "AllMember",
              "MAPS_AND_NAVIGATION"
             ],
             "properties": {
              "DISPLAY_INFO": 131072
             }
            },
            {
             "captionPath": [
              "AllMember",
              "BL Taxi"
             ],
             "namePath": [
              "AllMember",
              "BL Taxi"
             ],
             "properties": {
              "DISPLAY_INFO": 131072
             }
            }
           ],
           [
            {
             "captionPath": [
              "AllMember",
              "MAPS_AND_NAVIGATION"
             ],
             "namePath": [
              "AllMember",
              "MAPS_AND_NAVIGATION"
             ],
             "properties": {
              "DISPLAY_INFO": 131072
             }
            },
            {
             "captionPath": [
              "AllMember",
              "Tour BD (Bahir Dar Map)"
             ],
             "namePath": [
              "AllMember",
              "Tour BD (Bahir Dar Map)"
             ],
             "properties": {
              "DISPLAY_INFO": 131072
             }
            }
           ],
           [
            {
             "captionPath": [
              "AllMember",
              "MAPS_AND_NAVIGATION"
             ],
             "namePath": [
              "AllMember",
              "MAPS_AND_NAVIGATION"
             ],
             "properties": {
              "DISPLAY_INFO": 131072
             }
            },
            {
             "captionPath": [
              "AllMember",
              "DV Car Service"
             ],
             "namePath": [
              "AllMember",
              "DV Car Service"
             ],
             "properties": {
              "DISPLAY_INFO": 131072
             }
            }
           ],
           [
            {
             "captionPath": [
              "AllMember",
              "TRAVEL_AND_LOCAL"
             ],
             "namePath": [
              "AllMember",
              "TRAVEL_AND_LOCAL"
             ],
             "properties": {
              "DISPLAY_INFO": 131072
             }
            },
            {
             "captionPath": [
              "AllMember",
              "Booking.com Travel Deals"
             ],
             "namePath": [
              "AllMember",
              "Booking.com Travel Deals"
             ],
             "properties": {
              "DISPLAY_INFO": 131072
             }
            }
           ],
           [
            {
             "captionPath": [
              "AllMember",
              "TRAVEL_AND_LOCAL"
             ],
             "namePath": [
              "AllMember",
              "TRAVEL_AND_LOCAL"
             ],
             "properties": {
              "DISPLAY_INFO": 131072
             }
            },
            {
             "captionPath": [
              "AllMember",
              "TravelPirates"
             ],
             "namePath": [
              "AllMember",
              "TravelPirates"
             ],
             "properties": {
              "DISPLAY_INFO": 131072
             }
            }
           ],
           [
            {
             "captionPath": [
              "AllMember",
              "TRAVEL_AND_LOCAL"
             ],
             "namePath": [
              "AllMember",
              "TRAVEL_AND_LOCAL"
             ],
             "properties": {
              "DISPLAY_INFO": 131072
             }
            },
            {
             "captionPath": [
              "AllMember",
              "Yoriza Pension - travel, lodging, pension, camping, caravan, pool villas accommodation discount"
             ],
             "namePath": [
              "AllMember",
              "Yoriza Pension - travel, lodging, pension, camping, caravan, pool villas accommodation discount"
             ],
             "properties": {
              "DISPLAY_INFO": 131072
             }
            }
           ],
           [
            {
             "captionPath": [
              "AllMember",
              "TRAVEL_AND_LOCAL"
             ],
             "namePath": [
              "AllMember",
              "TRAVEL_AND_LOCAL"
             ],
             "properties": {
              "DISPLAY_INFO": 131072
             }
            },
            {
             "captionPath": [
              "AllMember",
              "DreamTrips"
             ],
             "namePath": [
              "AllMember",
              "DreamTrips"
             ],
             "properties": {
              "DISPLAY_INFO": 131072
             }
            }
           ],
           [
            {
             "captionPath": [
              "AllMember",
              "TRAVEL_AND_LOCAL"
             ],
             "namePath": [
              "AllMember",
              "TRAVEL_AND_LOCAL"
             ],
             "properties": {
              "DISPLAY_INFO": 131072
             }
            },
            {
             "captionPath": [
              "AllMember",
              "Ultimate Public Campgrounds (Over 37,100 in US&CA)"
             ],
             "namePath": [
              "AllMember",
              "Ultimate Public Campgrounds (Over 37,100 in US&CA)"
             ],
             "properties": {
              "DISPLAY_INFO": 131072
             }
            }
           ],
           [
            {
             "captionPath": [
              "AllMember",
              "TRAVEL_AND_LOCAL"
             ],
             "namePath": [
              "AllMember",
              "TRAVEL_AND_LOCAL"
             ],
             "properties": {
              "DISPLAY_INFO": 131072
             }
            },
            {
             "captionPath": [
              "AllMember",
              "BG Metro - Red voznje"
             ],
             "namePath": [
              "AllMember",
              "BG Metro - Red voznje"
             ],
             "properties": {
              "DISPLAY_INFO": 131072
             }
            }
           ],
           [
            {
             "captionPath": [
              "AllMember",
              "TRAVEL_AND_LOCAL"
             ],
             "namePath": [
              "AllMember",
              "TRAVEL_AND_LOCAL"
             ],
             "properties": {
              "DISPLAY_INFO": 131072
             }
            },
            {
             "captionPath": [
              "AllMember",
              "IRIS : Customer Service - DZ Algeria"
             ],
             "namePath": [
              "AllMember",
              "IRIS : Customer Service - DZ Algeria"
             ],
             "properties": {
              "DISPLAY_INFO": 131072
             }
            }
           ],
           [
            {
             "captionPath": [
              "AllMember",
              "TRAVEL_AND_LOCAL"
             ],
             "namePath": [
              "AllMember",
              "TRAVEL_AND_LOCAL"
             ],
             "properties": {
              "DISPLAY_INFO": 131072
             }
            },
            {
             "captionPath": [
              "AllMember",
              "CJ's Coffee Cafe"
             ],
             "namePath": [
              "AllMember",
              "CJ's Coffee Cafe"
             ],
             "properties": {
              "DISPLAY_INFO": 131072
             }
            }
           ],
           [
            {
             "captionPath": [
              "AllMember",
              "TRAVEL_AND_LOCAL"
             ],
             "namePath": [
              "AllMember",
              "TRAVEL_AND_LOCAL"
             ],
             "properties": {
              "DISPLAY_INFO": 131072
             }
            },
            {
             "captionPath": [
              "AllMember",
              "BG Guide"
             ],
             "namePath": [
              "AllMember",
              "BG Guide"
             ],
             "properties": {
              "DISPLAY_INFO": 131072
             }
            }
           ],
           [
            {
             "captionPath": [
              "AllMember",
              "TRAVEL_AND_LOCAL"
             ],
             "namePath": [
              "AllMember",
              "TRAVEL_AND_LOCAL"
             ],
             "properties": {
              "DISPLAY_INFO": 131072
             }
            },
            {
             "captionPath": [
              "AllMember",
              "Florida Beach Wallpapers HD"
             ],
             "namePath": [
              "AllMember",
              "Florida Beach Wallpapers HD"
             ],
             "properties": {
              "DISPLAY_INFO": 131072
             }
            }
           ],
           [
            {
             "captionPath": [
              "AllMember",
              "EDUCATION"
             ],
             "namePath": [
              "AllMember",
              "EDUCATION"
             ],
             "properties": {
              "DISPLAY_INFO": 131072
             }
            },
            {
             "captionPath": [
              "AllMember",
              "Learn languages, grammar & vocabulary with Memrise"
             ],
             "namePath": [
              "AllMember",
              "Learn languages, grammar & vocabulary with Memrise"
             ],
             "properties": {
              "DISPLAY_INFO": 131072
             }
            }
           ],
           [
            {
             "captionPath": [
              "AllMember",
              "EDUCATION"
             ],
             "namePath": [
              "AllMember",
              "EDUCATION"
             ],
             "properties": {
              "DISPLAY_INFO": 131072
             }
            },
            {
             "captionPath": [
              "AllMember",
              "Learn English with Wlingua"
             ],
             "namePath": [
              "AllMember",
              "Learn English with Wlingua"
             ],
             "properties": {
              "DISPLAY_INFO": 131072
             }
            }
           ],
           [
            {
             "captionPath": [
              "AllMember",
              "EDUCATION"
             ],
             "namePath": [
              "AllMember",
              "EDUCATION"
             ],
             "properties": {
              "DISPLAY_INFO": 131072
             }
            },
            {
             "captionPath": [
              "AllMember",
              "SoloLearn: Learn to Code for Free"
             ],
             "namePath": [
              "AllMember",
              "SoloLearn: Learn to Code for Free"
             ],
             "properties": {
              "DISPLAY_INFO": 131072
             }
            }
           ],
           [
            {
             "captionPath": [
              "AllMember",
              "EDUCATION"
             ],
             "namePath": [
              "AllMember",
              "EDUCATION"
             ],
             "properties": {
              "DISPLAY_INFO": 131072
             }
            },
            {
             "captionPath": [
              "AllMember",
              "Learn Japanese, Korean, Chinese Offline & Free"
             ],
             "namePath": [
              "AllMember",
              "Learn Japanese, Korean, Chinese Offline & Free"
             ],
             "properties": {
              "DISPLAY_INFO": 131072
             }
            }
           ],
           [
            {
             "captionPath": [
              "AllMember",
              "EDUCATION"
             ],
             "namePath": [
              "AllMember",
              "EDUCATION"
             ],
             "properties": {
              "DISPLAY_INFO": 131072
             }
            },
            {
             "captionPath": [
              "AllMember",
              "Learn HTML"
             ],
             "namePath": [
              "AllMember",
              "Learn HTML"
             ],
             "properties": {
              "DISPLAY_INFO": 131072
             }
            }
           ],
           [
            {
             "captionPath": [
              "AllMember",
              "EDUCATION"
             ],
             "namePath": [
              "AllMember",
              "EDUCATION"
             ],
             "properties": {
              "DISPLAY_INFO": 131072
             }
            },
            {
             "captionPath": [
              "AllMember",
              "Toca Life: City"
             ],
             "namePath": [
              "AllMember",
              "Toca Life: City"
             ],
             "properties": {
              "DISPLAY_INFO": 131072
             }
            }
           ],
           [
            {
             "captionPath": [
              "AllMember",
              "EDUCATION"
             ],
             "namePath": [
              "AllMember",
              "EDUCATION"
             ],
             "properties": {
              "DISPLAY_INFO": 131072
             }
            },
            {
             "captionPath": [
              "AllMember",
              "English Grammar Test"
             ],
             "namePath": [
              "AllMember",
              "English Grammar Test"
             ],
             "properties": {
              "DISPLAY_INFO": 131072
             }
            }
           ],
           [
            {
             "captionPath": [
              "AllMember",
              "EDUCATION"
             ],
             "namePath": [
              "AllMember",
              "EDUCATION"
             ],
             "properties": {
              "DISPLAY_INFO": 131072
             }
            },
            {
             "captionPath": [
              "AllMember",
              "Toca Life: Hospital"
             ],
             "namePath": [
              "AllMember",
              "Toca Life: Hospital"
             ],
             "properties": {
              "DISPLAY_INFO": 131072
             }
            }
           ],
           [
            {
             "captionPath": [
              "AllMember",
              "EDUCATION"
             ],
             "namePath": [
              "AllMember",
              "EDUCATION"
             ],
             "properties": {
              "DISPLAY_INFO": 131072
             }
            },
            {
             "captionPath": [
              "AllMember",
              "Fuzzy Numbers: Pre-K Number Foundation"
             ],
             "namePath": [
              "AllMember",
              "Fuzzy Numbers: Pre-K Number Foundation"
             ],
             "properties": {
              "DISPLAY_INFO": 131072
             }
            }
           ],
           [
            {
             "captionPath": [
              "AllMember",
              "EDUCATION"
             ],
             "namePath": [
              "AllMember",
              "EDUCATION"
             ],
             "properties": {
              "DISPLAY_INFO": 131072
             }
            },
            {
             "captionPath": [
              "AllMember",
              "Sago Mini Hat Maker"
             ],
             "namePath": [
              "AllMember",
              "Sago Mini Hat Maker"
             ],
             "properties": {
              "DISPLAY_INFO": 131072
             }
            }
           ],
           [
            {
             "captionPath": [
              "AllMember",
              "NEWS_AND_MAGAZINES"
             ],
             "namePath": [
              "AllMember",
              "NEWS_AND_MAGAZINES"
             ],
             "properties": {
              "DISPLAY_INFO": 131072
             }
            },
            {
             "captionPath": [
              "AllMember",
              "M"
             ],
             "namePath": [
              "AllMember",
              "M"
             ],
             "properties": {
              "DISPLAY_INFO": 131072
             }
            }
           ],
           [
            {
             "captionPath": [
              "AllMember",
              "NEWS_AND_MAGAZINES"
             ],
             "namePath": [
              "AllMember",
              "NEWS_AND_MAGAZINES"
             ],
             "properties": {
              "DISPLAY_INFO": 131072
             }
            },
            {
             "captionPath": [
              "AllMember",
              "AI Today : Artificial Intelligence News & AI 101"
             ],
             "namePath": [
              "AllMember",
              "AI Today : Artificial Intelligence News & AI 101"
             ],
             "properties": {
              "DISPLAY_INFO": 131072
             }
            }
           ],
           [
            {
             "captionPath": [
              "AllMember",
              "NEWS_AND_MAGAZINES"
             ],
             "namePath": [
              "AllMember",
              "NEWS_AND_MAGAZINES"
             ],
             "properties": {
              "DISPLAY_INFO": 131072
             }
            },
            {
             "captionPath": [
              "AllMember",
              "Aaj Bangla: ei samay er khobor"
             ],
             "namePath": [
              "AllMember",
              "Aaj Bangla: ei samay er khobor"
             ],
             "properties": {
              "DISPLAY_INFO": 131072
             }
            }
           ],
           [
            {
             "captionPath": [
              "AllMember",
              "NEWS_AND_MAGAZINES"
             ],
             "namePath": [
              "AllMember",
              "NEWS_AND_MAGAZINES"
             ],
             "properties": {
              "DISPLAY_INFO": 131072
             }
            },
            {
             "captionPath": [
              "AllMember",
              "BI News"
             ],
             "namePath": [
              "AllMember",
              "BI News"
             ],
             "properties": {
              "DISPLAY_INFO": 131072
             }
            }
           ],
           [
            {
             "captionPath": [
              "AllMember",
              "NEWS_AND_MAGAZINES"
             ],
             "namePath": [
              "AllMember",
              "NEWS_AND_MAGAZINES"
             ],
             "properties": {
              "DISPLAY_INFO": 131072
             }
            },
            {
             "captionPath": [
              "AllMember",
              "Kolkata News:Anandbazar Patrika,ei samay&AllRating"
             ],
             "namePath": [
              "AllMember",
              "Kolkata News:Anandbazar Patrika,ei samay&AllRating"
             ],
             "properties": {
              "DISPLAY_INFO": 131072
             }
            }
           ],
           [
            {
             "captionPath": [
              "AllMember",
              "NEWS_AND_MAGAZINES"
             ],
             "namePath": [
              "AllMember",
              "NEWS_AND_MAGAZINES"
             ],
             "properties": {
              "DISPLAY_INFO": 131072
             }
            },
            {
             "captionPath": [
              "AllMember",
              "News: DW Hausa"
             ],
             "namePath": [
              "AllMember",
              "News: DW Hausa"
             ],
             "properties": {
              "DISPLAY_INFO": 131072
             }
            }
           ],
           [
            {
             "captionPath": [
              "AllMember",
              "NEWS_AND_MAGAZINES"
             ],
             "namePath": [
              "AllMember",
              "NEWS_AND_MAGAZINES"
             ],
             "properties": {
              "DISPLAY_INFO": 131072
             }
            },
            {
             "captionPath": [
              "AllMember",
              "Noticias FC Barcelona"
             ],
             "namePath": [
              "AllMember",
              "Noticias FC Barcelona"
             ],
             "properties": {
              "DISPLAY_INFO": 131072
             }
            }
           ],
           [
            {
             "captionPath": [
              "AllMember",
              "NEWS_AND_MAGAZINES"
             ],
             "namePath": [
              "AllMember",
              "NEWS_AND_MAGAZINES"
             ],
             "properties": {
              "DISPLAY_INFO": 131072
             }
            },
            {
             "captionPath": [
              "AllMember",
              "Startupticker.ch News, Events"
             ],
             "namePath": [
              "AllMember",
              "Startupticker.ch News, Events"
             ],
             "properties": {
              "DISPLAY_INFO": 131072
             }
            }
           ],
           [
            {
             "captionPath": [
              "AllMember",
              "NEWS_AND_MAGAZINES"
             ],
             "namePath": [
              "AllMember",
              "NEWS_AND_MAGAZINES"
             ],
             "properties": {
              "DISPLAY_INFO": 131072
             }
            },
            {
             "captionPath": [
              "AllMember",
              "DG TV"
             ],
             "namePath": [
              "AllMember",
              "DG TV"
             ],
             "properties": {
              "DISPLAY_INFO": 131072
             }
            }
           ],
           [
            {
             "captionPath": [
              "AllMember",
              "NEWS_AND_MAGAZINES"
             ],
             "namePath": [
              "AllMember",
              "NEWS_AND_MAGAZINES"
             ],
             "properties": {
              "DISPLAY_INFO": 131072
             }
            },
            {
             "captionPath": [
              "AllMember",
              "NOMISMA.com.cy by FMW"
             ],
             "namePath": [
              "AllMember",
              "NOMISMA.com.cy by FMW"
             ],
             "properties": {
              "DISPLAY_INFO": 131072
             }
            }
           ],
           [
            {
             "captionPath": [
              "AllMember",
              "BOOKS_AND_REFERENCE"
             ],
             "namePath": [
              "AllMember",
              "BOOKS_AND_REFERENCE"
             ],
             "properties": {
              "DISPLAY_INFO": 131072
             }
            },
            {
             "captionPath": [
              "AllMember",
              "JW Library"
             ],
             "namePath": [
              "AllMember",
              "JW Library"
             ],
             "properties": {
              "DISPLAY_INFO": 131072
             }
            }
           ],
           [
            {
             "captionPath": [
              "AllMember",
              "BOOKS_AND_REFERENCE"
             ],
             "namePath": [
              "AllMember",
              "BOOKS_AND_REFERENCE"
             ],
             "properties": {
              "DISPLAY_INFO": 131072
             }
            },
            {
             "captionPath": [
              "AllMember",
              "eBoox new: Reader for fb2 epub zip books"
             ],
             "namePath": [
              "AllMember",
              "eBoox new: Reader for fb2 epub zip books"
             ],
             "properties": {
              "DISPLAY_INFO": 131072
             }
            }
           ],
           [
            {
             "captionPath": [
              "AllMember",
              "BOOKS_AND_REFERENCE"
             ],
             "namePath": [
              "AllMember",
              "BOOKS_AND_REFERENCE"
             ],
             "properties": {
              "DISPLAY_INFO": 131072
             }
            },
            {
             "captionPath": [
              "AllMember",
              "Borneo Bible, BM Bible"
             ],
             "namePath": [
              "AllMember",
              "Borneo Bible, BM Bible"
             ],
             "properties": {
              "DISPLAY_INFO": 131072
             }
            }
           ],
           [
            {
             "captionPath": [
              "AllMember",
              "BOOKS_AND_REFERENCE"
             ],
             "namePath": [
              "AllMember",
              "BOOKS_AND_REFERENCE"
             ],
             "properties": {
              "DISPLAY_INFO": 131072
             }
            },
            {
             "captionPath": [
              "AllMember",
              "Duaa Ek Ibaadat"
             ],
             "namePath": [
              "AllMember",
              "Duaa Ek Ibaadat"
             ],
             "properties": {
              "DISPLAY_INFO": 131072
             }
            }
           ],
           [
            {
             "captionPath": [
              "AllMember",
              "BOOKS_AND_REFERENCE"
             ],
             "namePath": [
              "AllMember",
              "BOOKS_AND_REFERENCE"
             ],
             "properties": {
              "DISPLAY_INFO": 131072
             }
            },
            {
             "captionPath": [
              "AllMember",
              "Catholic La Bu Zo Kam"
             ],
             "namePath": [
              "AllMember",
              "Catholic La Bu Zo Kam"
             ],
             "properties": {
              "DISPLAY_INFO": 131072
             }
            }
           ],
           [
            {
             "captionPath": [
              "AllMember",
              "BOOKS_AND_REFERENCE"
             ],
             "namePath": [
              "AllMember",
              "BOOKS_AND_REFERENCE"
             ],
             "properties": {
              "DISPLAY_INFO": 131072
             }
            },
            {
             "captionPath": [
              "AllMember",
              "Hey AJ! It's Saturday!"
             ],
             "namePath": [
              "AllMember",
              "Hey AJ! It's Saturday!"
             ],
             "properties": {
              "DISPLAY_INFO": 131072
             }
            }
           ],
           [
            {
             "captionPath": [
              "AllMember",
              "BOOKS_AND_REFERENCE"
             ],
             "namePath": [
              "AllMember",
              "BOOKS_AND_REFERENCE"
             ],
             "properties": {
              "DISPLAY_INFO": 131072
             }
            },
            {
             "captionPath": [
              "AllMember",
              "BC MVA Fines"
             ],
             "namePath": [
              "AllMember",
              "BC MVA Fines"
             ],
             "properties": {
              "DISPLAY_INFO": 131072
             }
            }
           ],
           [
            {
             "captionPath": [
              "AllMember",
              "BOOKS_AND_REFERENCE"
             ],
             "namePath": [
              "AllMember",
              "BOOKS_AND_REFERENCE"
             ],
             "properties": {
              "DISPLAY_INFO": 131072
             }
            },
            {
             "captionPath": [
              "AllMember",
              "Tozer Devotional -Series 1"
             ],
             "namePath": [
              "AllMember",
              "Tozer Devotional -Series 1"
             ],
             "properties": {
              "DISPLAY_INFO": 131072
             }
            }
           ],
           [
            {
             "captionPath": [
              "AllMember",
              "BOOKS_AND_REFERENCE"
             ],
             "namePath": [
              "AllMember",
              "BOOKS_AND_REFERENCE"
             ],
             "properties": {
              "DISPLAY_INFO": 131072
             }
            },
            {
             "captionPath": [
              "AllMember",
              "R Programing Offline Tutorial"
             ],
             "namePath": [
              "AllMember",
              "R Programing Offline Tutorial"
             ],
             "properties": {
              "DISPLAY_INFO": 131072
             }
            }
           ],
           [
            {
             "captionPath": [
              "AllMember",
              "BOOKS_AND_REFERENCE"
             ],
             "namePath": [
              "AllMember",
              "BOOKS_AND_REFERENCE"
             ],
             "properties": {
              "DISPLAY_INFO": 131072
             }
            },
            {
             "captionPath": [
              "AllMember",
              "CZ-Help"
             ],
             "namePath": [
              "AllMember",
              "CZ-Help"
             ],
             "properties": {
              "DISPLAY_INFO": 131072
             }
            }
           ],
           [
            {
             "captionPath": [
              "AllMember",
              "HEALTH_AND_FITNESS"
             ],
             "namePath": [
              "AllMember",
              "HEALTH_AND_FITNESS"
             ],
             "properties": {
              "DISPLAY_INFO": 131072
             }
            },
            {
             "captionPath": [
              "AllMember",
              "Dt. Jyothi Srinivas"
             ],
             "namePath": [
              "AllMember",
              "Dt. Jyothi Srinivas"
             ],
             "properties": {
              "DISPLAY_INFO": 131072
             }
            }
           ],
           [
            {
             "captionPath": [
              "AllMember",
              "HEALTH_AND_FITNESS"
             ],
             "namePath": [
              "AllMember",
              "HEALTH_AND_FITNESS"
             ],
             "properties": {
              "DISPLAY_INFO": 131072
             }
            },
            {
             "captionPath": [
              "AllMember",
              "Cloud DX Connected Health"
             ],
             "namePath": [
              "AllMember",
              "Cloud DX Connected Health"
             ],
             "properties": {
              "DISPLAY_INFO": 131072
             }
            }
           ],
           [
            {
             "captionPath": [
              "AllMember",
              "HEALTH_AND_FITNESS"
             ],
             "namePath": [
              "AllMember",
              "HEALTH_AND_FITNESS"
             ],
             "properties": {
              "DISPLAY_INFO": 131072
             }
            },
            {
             "captionPath": [
              "AllMember",
              "C B Patel Health Club"
             ],
             "namePath": [
              "AllMember",
              "C B Patel Health Club"
             ],
             "properties": {
              "DISPLAY_INFO": 131072
             }
            }
           ],
           [
            {
             "captionPath": [
              "AllMember",
              "HEALTH_AND_FITNESS"
             ],
             "namePath": [
              "AllMember",
              "HEALTH_AND_FITNESS"
             ],
             "properties": {
              "DISPLAY_INFO": 131072
             }
            },
            {
             "captionPath": [
              "AllMember",
              "The CJ Rubric"
             ],
             "namePath": [
              "AllMember",
              "The CJ Rubric"
             ],
             "properties": {
              "DISPLAY_INFO": 131072
             }
            }
           ],
           [
            {
             "captionPath": [
              "AllMember",
              "HEALTH_AND_FITNESS"
             ],
             "namePath": [
              "AllMember",
              "HEALTH_AND_FITNESS"
             ],
             "properties": {
              "DISPLAY_INFO": 131072
             }
            },
            {
             "captionPath": [
              "AllMember",
              "CF Townsville"
             ],
             "namePath": [
              "AllMember",
              "CF Townsville"
             ],
             "properties": {
              "DISPLAY_INFO": 131072
             }
            }
           ],
           [
            {
             "captionPath": [
              "AllMember",
              "HEALTH_AND_FITNESS"
             ],
             "namePath": [
              "AllMember",
              "HEALTH_AND_FITNESS"
             ],
             "properties": {
              "DISPLAY_INFO": 131072
             }
            },
            {
             "captionPath": [
              "AllMember",
              "EF Academy"
             ],
             "namePath": [
              "AllMember",
              "EF Academy"
             ],
             "properties": {
              "DISPLAY_INFO": 131072
             }
            }
           ],
           [
            {
             "captionPath": [
              "AllMember",
              "HEALTH_AND_FITNESS"
             ],
             "namePath": [
              "AllMember",
              "HEALTH_AND_FITNESS"
             ],
             "properties": {
              "DISPLAY_INFO": 131072
             }
            },
            {
             "captionPath": [
              "AllMember",
              "BM Physiotherapy Clinic"
             ],
             "namePath": [
              "AllMember",
              "BM Physiotherapy Clinic"
             ],
             "properties": {
              "DISPLAY_INFO": 131072
             }
            }
           ],
           [
            {
             "captionPath": [
              "AllMember",
              "HEALTH_AND_FITNESS"
             ],
             "namePath": [
              "AllMember",
              "HEALTH_AND_FITNESS"
             ],
             "properties": {
              "DISPLAY_INFO": 131072
             }
            },
            {
             "captionPath": [
              "AllMember",
              "Santa Fe Thrive"
             ],
             "namePath": [
              "AllMember",
              "Santa Fe Thrive"
             ],
             "properties": {
              "DISPLAY_INFO": 131072
             }
            }
           ],
           [
            {
             "captionPath": [
              "AllMember",
              "HEALTH_AND_FITNESS"
             ],
             "namePath": [
              "AllMember",
              "HEALTH_AND_FITNESS"
             ],
             "properties": {
              "DISPLAY_INFO": 131072
             }
            },
            {
             "captionPath": [
              "AllMember",
              "CB Fit"
             ],
             "namePath": [
              "AllMember",
              "CB Fit"
             ],
             "properties": {
              "DISPLAY_INFO": 131072
             }
            }
           ],
           [
            {
             "captionPath": [
              "AllMember",
              "HEALTH_AND_FITNESS"
             ],
             "namePath": [
              "AllMember",
              "HEALTH_AND_FITNESS"
             ],
             "properties": {
              "DISPLAY_INFO": 131072
             }
            },
            {
             "captionPath": [
              "AllMember",
              "MI-BP"
             ],
             "namePath": [
              "AllMember",
              "MI-BP"
             ],
             "properties": {
              "DISPLAY_INFO": 131072
             }
            }
           ],
           [
            {
             "captionPath": [
              "AllMember",
              "FOOD_AND_DRINK"
             ],
             "namePath": [
              "AllMember",
              "FOOD_AND_DRINK"
             ],
             "properties": {
              "DISPLAY_INFO": 131072
             }
            },
            {
             "captionPath": [
              "AllMember",
              "Tastely"
             ],
             "namePath": [
              "AllMember",
              "Tastely"
             ],
             "properties": {
              "DISPLAY_INFO": 131072
             }
            }
           ],
           [
            {
             "captionPath": [
              "AllMember",
              "FOOD_AND_DRINK"
             ],
             "namePath": [
              "AllMember",
              "FOOD_AND_DRINK"
             ],
             "properties": {
              "DISPLAY_INFO": 131072
             }
            },
            {
             "captionPath": [
              "AllMember",
              "Delicious Recipes"
             ],
             "namePath": [
              "AllMember",
              "Delicious Recipes"
             ],
             "properties": {
              "DISPLAY_INFO": 131072
             }
            }
           ],
           [
            {
             "captionPath": [
              "AllMember",
              "FOOD_AND_DRINK"
             ],
             "namePath": [
              "AllMember",
              "FOOD_AND_DRINK"
             ],
             "properties": {
              "DISPLAY_INFO": 131072
             }
            },
            {
             "captionPath": [
              "AllMember",
              "BeyondMenu Food Delivery"
             ],
             "namePath": [
              "AllMember",
              "BeyondMenu Food Delivery"
             ],
             "properties": {
              "DISPLAY_INFO": 131072
             }
            }
           ],
           [
            {
             "captionPath": [
              "AllMember",
              "FOOD_AND_DRINK"
             ],
             "namePath": [
              "AllMember",
              "FOOD_AND_DRINK"
             ],
             "properties": {
              "DISPLAY_INFO": 131072
             }
            },
            {
             "captionPath": [
              "AllMember",
              "Recipes Pastries and homemade pies More than 500 recipes for pastries"
             ],
             "namePath": [
              "AllMember",
              "Recipes Pastries and homemade pies More than 500 recipes for pastries"
             ],
             "properties": {
              "DISPLAY_INFO": 131072
             }
            }
           ],
           [
            {
             "captionPath": [
              "AllMember",
              "FOOD_AND_DRINK"
             ],
             "namePath": [
              "AllMember",
              "FOOD_AND_DRINK"
             ],
             "properties": {
              "DISPLAY_INFO": 131072
             }
            },
            {
             "captionPath": [
              "AllMember",
              "Pastry & Cooking (Without Net)"
             ],
             "namePath": [
              "AllMember",
              "Pastry & Cooking (Without Net)"
             ],
             "properties": {
              "DISPLAY_INFO": 131072
             }
            }
           ],
           [
            {
             "captionPath": [
              "AllMember",
              "FOOD_AND_DRINK"
             ],
             "namePath": [
              "AllMember",
              "FOOD_AND_DRINK"
             ],
             "properties": {
              "DISPLAY_INFO": 131072
             }
            },
            {
             "captionPath": [
              "AllMember",
              "Easy Recipes"
             ],
             "namePath": [
              "AllMember",
              "Easy Recipes"
             ],
             "properties": {
              "DISPLAY_INFO": 131072
             }
            }
           ],
           [
            {
             "captionPath": [
              "AllMember",
              "FOOD_AND_DRINK"
             ],
             "namePath": [
              "AllMember",
              "FOOD_AND_DRINK"
             ],
             "properties": {
              "DISPLAY_INFO": 131072
             }
            },
            {
             "captionPath": [
              "AllMember",
              "SarashpazPapion (Cooking with Chef Bowls)"
             ],
             "namePath": [
              "AllMember",
              "SarashpazPapion (Cooking with Chef Bowls)"
             ],
             "properties": {
              "DISPLAY_INFO": 131072
             }
            }
           ],
           [
            {
             "captionPath": [
              "AllMember",
              "FOOD_AND_DRINK"
             ],
             "namePath": [
              "AllMember",
              "FOOD_AND_DRINK"
             ],
             "properties": {
              "DISPLAY_INFO": 131072
             }
            },
            {
             "captionPath": [
              "AllMember",
              "Bar-B-Q Recipes"
             ],
             "namePath": [
              "AllMember",
              "Bar-B-Q Recipes"
             ],
             "properties": {
              "DISPLAY_INFO": 131072
             }
            }
           ],
           [
            {
             "captionPath": [
              "AllMember",
              "FOOD_AND_DRINK"
             ],
             "namePath": [
              "AllMember",
              "FOOD_AND_DRINK"
             ],
             "properties": {
              "DISPLAY_INFO": 131072
             }
            },
            {
             "captionPath": [
              "AllMember",
              "Bar-B-Q Rib House"
             ],
             "namePath": [
              "AllMember",
              "Bar-B-Q Rib House"
             ],
             "properties": {
              "DISPLAY_INFO": 131072
             }
            }
           ],
           [
            {
             "captionPath": [
              "AllMember",
              "FOOD_AND_DRINK"
             ],
             "namePath": [
              "AllMember",
              "FOOD_AND_DRINK"
             ],
             "properties": {
              "DISPLAY_INFO": 131072
             }
            },
            {
             "captionPath": [
              "AllMember",
              "Food-Aw - Order Food Online in Aruba"
             ],
             "namePath": [
              "AllMember",
              "Food-Aw - Order Food Online in Aruba"
             ],
             "properties": {
              "DISPLAY_INFO": 131072
             }
            }
           ],
           [
            {
             "captionPath": [
              "AllMember",
              "COMICS"
             ],
             "namePath": [
              "AllMember",
              "COMICS"
             ],
             "properties": {
              "DISPLAY_INFO": 131072
             }
            },
            {
             "captionPath": [
              "AllMember",
              "GANMA! - All original stories free of charge for all original comics"
             ],
             "namePath": [
              "AllMember",
              "GANMA! - All original stories free of charge for all original comics"
             ],
             "properties": {
              "DISPLAY_INFO": 131072
             }
            }
           ],
           [
            {
             "captionPath": [
              "AllMember",
              "COMICS"
             ],
             "namePath": [
              "AllMember",
              "COMICS"
             ],
             "properties": {
              "DISPLAY_INFO": 131072
             }
            },
            {
             "captionPath": [
              "AllMember",
              "WebComics"
             ],
             "namePath": [
              "AllMember",
              "WebComics"
             ],
             "properties": {
              "DISPLAY_INFO": 131072
             }
            }
           ],
           [
            {
             "captionPath": [
              "AllMember",
              "COMICS"
             ],
             "namePath": [
              "AllMember",
              "COMICS"
             ],
             "properties": {
              "DISPLAY_INFO": 131072
             }
            },
            {
             "captionPath": [
              "AllMember",
              "Best Wallpapers Backgrounds(100,000 4K HD)"
             ],
             "namePath": [
              "AllMember",
              "Best Wallpapers Backgrounds(100,000 4K HD)"
             ],
             "properties": {
              "DISPLAY_INFO": 131072
             }
            }
           ],
           [
            {
             "captionPath": [
              "AllMember",
              "COMICS"
             ],
             "namePath": [
              "AllMember",
              "COMICS"
             ],
             "properties": {
              "DISPLAY_INFO": 131072
             }
            },
            {
             "captionPath": [
              "AllMember",
              "Röhrich Werner Soundboard"
             ],
             "namePath": [
              "AllMember",
              "Röhrich Werner Soundboard"
             ],
             "properties": {
              "DISPLAY_INFO": 131072
             }
            }
           ],
           [
            {
             "captionPath": [
              "AllMember",
              "COMICS"
             ],
             "namePath": [
              "AllMember",
              "COMICS"
             ],
             "properties": {
              "DISPLAY_INFO": 131072
             }
            },
            {
             "captionPath": [
              "AllMember",
              "Faustop Sounds"
             ],
             "namePath": [
              "AllMember",
              "Faustop Sounds"
             ],
             "properties": {
              "DISPLAY_INFO": 131072
             }
            }
           ],
           [
            {
             "captionPath": [
              "AllMember",
              "COMICS"
             ],
             "namePath": [
              "AllMember",
              "COMICS"
             ],
             "properties": {
              "DISPLAY_INFO": 131072
             }
            },
            {
             "captionPath": [
              "AllMember",
              "Unicorn Pokez - Color By Number"
             ],
             "namePath": [
              "AllMember",
              "Unicorn Pokez - Color By Number"
             ],
             "properties": {
              "DISPLAY_INFO": 131072
             }
            }
           ],
           [
            {
             "captionPath": [
              "AllMember",
              "COMICS"
             ],
             "namePath": [
              "AllMember",
              "COMICS"
             ],
             "properties": {
              "DISPLAY_INFO": 131072
             }
            },
            {
             "captionPath": [
              "AllMember",
              "Children's cartoons (Mithu-Mina-Raju)"
             ],
             "namePath": [
              "AllMember",
              "Children's cartoons (Mithu-Mina-Raju)"
             ],
             "properties": {
              "DISPLAY_INFO": 131072
             }
            }
           ],
           [
            {
             "captionPath": [
              "AllMember",
              "COMICS"
             ],
             "namePath": [
              "AllMember",
              "COMICS"
             ],
             "properties": {
              "DISPLAY_INFO": 131072
             }
            },
            {
             "captionPath": [
              "AllMember",
              "Dragon Ball Wallpaper - Ringtones"
             ],
             "namePath": [
              "AllMember",
              "Dragon Ball Wallpaper - Ringtones"
             ],
             "properties": {
              "DISPLAY_INFO": 131072
             }
            }
           ],
           [
            {
             "captionPath": [
              "AllMember",
              "COMICS"
             ],
             "namePath": [
              "AllMember",
              "COMICS"
             ],
             "properties": {
              "DISPLAY_INFO": 131072
             }
            },
            {
             "captionPath": [
              "AllMember",
              "Superheroes, Marvel, DC, Comics, TV, Movies News"
             ],
             "namePath": [
              "AllMember",
              "Superheroes, Marvel, DC, Comics, TV, Movies News"
             ],
             "properties": {
              "DISPLAY_INFO": 131072
             }
            }
           ],
           [
            {
             "captionPath": [
              "AllMember",
              "COMICS"
             ],
             "namePath": [
              "AllMember",
              "COMICS"
             ],
             "properties": {
              "DISPLAY_INFO": 131072
             }
            },
            {
             "captionPath": [
              "AllMember",
              "Hojiboy Tojiboyev Life Hacks"
             ],
             "namePath": [
              "AllMember",
              "Hojiboy Tojiboyev Life Hacks"
             ],
             "properties": {
              "DISPLAY_INFO": 131072
             }
            }
           ],
           [
            {
             "captionPath": [
              "AllMember",
              "FINANCE"
             ],
             "namePath": [
              "AllMember",
              "FINANCE"
             ],
             "properties": {
              "DISPLAY_INFO": 131072
             }
            },
            {
             "captionPath": [
              "AllMember",
              "FD Calculator (EMI, SIP, RD & Loan Eligilibility)"
             ],
             "namePath": [
              "AllMember",
              "FD Calculator (EMI, SIP, RD & Loan Eligilibility)"
             ],
             "properties": {
              "DISPLAY_INFO": 131072
             }
            }
           ],
           [
            {
             "captionPath": [
              "AllMember",
              "FINANCE"
             ],
             "namePath": [
              "AllMember",
              "FINANCE"
             ],
             "properties": {
              "DISPLAY_INFO": 131072
             }
            },
            {
             "captionPath": [
              "AllMember",
              "DN Calculators"
             ],
             "namePath": [
              "AllMember",
              "DN Calculators"
             ],
             "properties": {
              "DISPLAY_INFO": 131072
             }
            }
           ],
           [
            {
             "captionPath": [
              "AllMember",
              "FINANCE"
             ],
             "namePath": [
              "AllMember",
              "FINANCE"
             ],
             "properties": {
              "DISPLAY_INFO": 131072
             }
            },
            {
             "captionPath": [
              "AllMember",
              "EC Tax"
             ],
             "namePath": [
              "AllMember",
              "EC Tax"
             ],
             "properties": {
              "DISPLAY_INFO": 131072
             }
            }
           ],
           [
            {
             "captionPath": [
              "AllMember",
              "FINANCE"
             ],
             "namePath": [
              "AllMember",
              "FINANCE"
             ],
             "properties": {
              "DISPLAY_INFO": 131072
             }
            },
            {
             "captionPath": [
              "AllMember",
              "EY Forensics"
             ],
             "namePath": [
              "AllMember",
              "EY Forensics"
             ],
             "properties": {
              "DISPLAY_INFO": 131072
             }
            }
           ],
           [
            {
             "captionPath": [
              "AllMember",
              "FINANCE"
             ],
             "namePath": [
              "AllMember",
              "FINANCE"
             ],
             "properties": {
              "DISPLAY_INFO": 131072
             }
            },
            {
             "captionPath": [
              "AllMember",
              "BK Gold App"
             ],
             "namePath": [
              "AllMember",
              "BK Gold App"
             ],
             "properties": {
              "DISPLAY_INFO": 131072
             }
            }
           ],
           [
            {
             "captionPath": [
              "AllMember",
              "FINANCE"
             ],
             "namePath": [
              "AllMember",
              "FINANCE"
             ],
             "properties": {
              "DISPLAY_INFO": 131072
             }
            },
            {
             "captionPath": [
              "AllMember",
              "BxPort - Bitcoin Bx (Thailand)"
             ],
             "namePath": [
              "AllMember",
              "BxPort - Bitcoin Bx (Thailand)"
             ],
             "properties": {
              "DISPLAY_INFO": 131072
             }
            }
           ],
           [
            {
             "captionPath": [
              "AllMember",
              "FINANCE"
             ],
             "namePath": [
              "AllMember",
              "FINANCE"
             ],
             "properties": {
              "DISPLAY_INFO": 131072
             }
            },
            {
             "captionPath": [
              "AllMember",
              "Free coupons and vouchers"
             ],
             "namePath": [
              "AllMember",
              "Free coupons and vouchers"
             ],
             "properties": {
              "DISPLAY_INFO": 131072
             }
            }
           ],
           [
            {
             "captionPath": [
              "AllMember",
              "FINANCE"
             ],
             "namePath": [
              "AllMember",
              "FINANCE"
             ],
             "properties": {
              "DISPLAY_INFO": 131072
             }
            },
            {
             "captionPath": [
              "AllMember",
              "BI APP"
             ],
             "namePath": [
              "AllMember",
              "BI APP"
             ],
             "properties": {
              "DISPLAY_INFO": 131072
             }
            }
           ],
           [
            {
             "captionPath": [
              "AllMember",
              "FINANCE"
             ],
             "namePath": [
              "AllMember",
              "FINANCE"
             ],
             "properties": {
              "DISPLAY_INFO": 131072
             }
            },
            {
             "captionPath": [
              "AllMember",
              "CF"
             ],
             "namePath": [
              "AllMember",
              "CF"
             ],
             "properties": {
              "DISPLAY_INFO": 131072
             }
            }
           ],
           [
            {
             "captionPath": [
              "AllMember",
              "FINANCE"
             ],
             "namePath": [
              "AllMember",
              "FINANCE"
             ],
             "properties": {
              "DISPLAY_INFO": 131072
             }
            },
            {
             "captionPath": [
              "AllMember",
              "CT Checkout"
             ],
             "namePath": [
              "AllMember",
              "CT Checkout"
             ],
             "properties": {
              "DISPLAY_INFO": 131072
             }
            }
           ],
           [
            {
             "captionPath": [
              "AllMember",
              "LIFESTYLE"
             ],
             "namePath": [
              "AllMember",
              "LIFESTYLE"
             ],
             "properties": {
              "DISPLAY_INFO": 131072
             }
            },
            {
             "captionPath": [
              "AllMember",
              "GKPB FP Online Church"
             ],
             "namePath": [
              "AllMember",
              "GKPB FP Online Church"
             ],
             "properties": {
              "DISPLAY_INFO": 131072
             }
            }
           ],
           [
            {
             "captionPath": [
              "AllMember",
              "LIFESTYLE"
             ],
             "namePath": [
              "AllMember",
              "LIFESTYLE"
             ],
             "properties": {
              "DISPLAY_INFO": 131072
             }
            },
            {
             "captionPath": [
              "AllMember",
              "Beacon Baptist Jupiter, FL"
             ],
             "namePath": [
              "AllMember",
              "Beacon Baptist Jupiter, FL"
             ],
             "properties": {
              "DISPLAY_INFO": 131072
             }
            }
           ],
           [
            {
             "captionPath": [
              "AllMember",
              "LIFESTYLE"
             ],
             "namePath": [
              "AllMember",
              "LIFESTYLE"
             ],
             "properties": {
              "DISPLAY_INFO": 131072
             }
            },
            {
             "captionPath": [
              "AllMember",
              "Bk Usha behn"
             ],
             "namePath": [
              "AllMember",
              "Bk Usha behn"
             ],
             "properties": {
              "DISPLAY_INFO": 131072
             }
            }
           ],
           [
            {
             "captionPath": [
              "AllMember",
              "LIFESTYLE"
             ],
             "namePath": [
              "AllMember",
              "LIFESTYLE"
             ],
             "properties": {
              "DISPLAY_INFO": 131072
             }
            },
            {
             "captionPath": [
              "AllMember",
              "Tafsiir Quraan MP3 Af Soomaali Quraanka Kariimka"
             ],
             "namePath": [
              "AllMember",
              "Tafsiir Quraan MP3 Af Soomaali Quraanka Kariimka"
             ],
             "properties": {
              "DISPLAY_INFO": 131072
             }
            }
           ],
           [
            {
             "captionPath": [
              "AllMember",
              "LIFESTYLE"
             ],
             "namePath": [
              "AllMember",
              "LIFESTYLE"
             ],
             "properties": {
              "DISPLAY_INFO": 131072
             }
            },
            {
             "captionPath": [
              "AllMember",
              "DB HOME"
             ],
             "namePath": [
              "AllMember",
              "DB HOME"
             ],
             "properties": {
              "DISPLAY_INFO": 131072
             }
            }
           ],
           [
            {
             "captionPath": [
              "AllMember",
              "LIFESTYLE"
             ],
             "namePath": [
              "AllMember",
              "LIFESTYLE"
             ],
             "properties": {
              "DISPLAY_INFO": 131072
             }
            },
            {
             "captionPath": [
              "AllMember",
              "Unity CF"
             ],
             "namePath": [
              "AllMember",
              "Unity CF"
             ],
             "properties": {
              "DISPLAY_INFO": 131072
             }
            }
           ],
           [
            {
             "captionPath": [
              "AllMember",
              "LIFESTYLE"
             ],
             "namePath": [
              "AllMember",
              "LIFESTYLE"
             ],
             "properties": {
              "DISPLAY_INFO": 131072
             }
            },
            {
             "captionPath": [
              "AllMember",
              "BP Log lite"
             ],
             "namePath": [
              "AllMember",
              "BP Log lite"
             ],
             "properties": {
              "DISPLAY_INFO": 131072
             }
            }
           ],
           [
            {
             "captionPath": [
              "AllMember",
              "LIFESTYLE"
             ],
             "namePath": [
              "AllMember",
              "LIFESTYLE"
             ],
             "properties": {
              "DISPLAY_INFO": 131072
             }
            },
            {
             "captionPath": [
              "AllMember",
              "Lakeside AG Moultrie"
             ],
             "namePath": [
              "AllMember",
              "Lakeside AG Moultrie"
             ],
             "properties": {
              "DISPLAY_INFO": 131072
             }
            }
           ],
           [
            {
             "captionPath": [
              "AllMember",
              "LIFESTYLE"
             ],
             "namePath": [
              "AllMember",
              "LIFESTYLE"
             ],
             "properties": {
              "DISPLAY_INFO": 131072
             }
            },
            {
             "captionPath": [
              "AllMember",
              "AJ Men's Grooming"
             ],
             "namePath": [
              "AllMember",
              "AJ Men's Grooming"
             ],
             "properties": {
              "DISPLAY_INFO": 131072
             }
            }
           ],
           [
            {
             "captionPath": [
              "AllMember",
              "LIFESTYLE"
             ],
             "namePath": [
              "AllMember",
              "LIFESTYLE"
             ],
             "properties": {
              "DISPLAY_INFO": 131072
             }
            },
            {
             "captionPath": [
              "AllMember",
              "Cy-Fair Christian Church"
             ],
             "namePath": [
              "AllMember",
              "Cy-Fair Christian Church"
             ],
             "properties": {
              "DISPLAY_INFO": 131072
             }
            }
           ],
           [
            {
             "captionPath": [
              "AllMember",
              "HOUSE_AND_HOME"
             ],
             "namePath": [
              "AllMember",
              "HOUSE_AND_HOME"
             ],
             "properties": {
              "DISPLAY_INFO": 131072
             }
            },
            {
             "captionPath": [
              "AllMember",
              "Houzz Interior Design Ideas"
             ],
             "namePath": [
              "AllMember",
              "Houzz Interior Design Ideas"
             ],
             "properties": {
              "DISPLAY_INFO": 131072
             }
            }
           ],
           [
            {
             "captionPath": [
              "AllMember",
              "HOUSE_AND_HOME"
             ],
             "namePath": [
              "AllMember",
              "HOUSE_AND_HOME"
             ],
             "properties": {
              "DISPLAY_INFO": 131072
             }
            },
            {
             "captionPath": [
              "AllMember",
              "Trulia Real Estate & Rentals"
             ],
             "namePath": [
              "AllMember",
              "Trulia Real Estate & Rentals"
             ],
             "properties": {
              "DISPLAY_INFO": 131072
             }
            }
           ],
           [
            {
             "captionPath": [
              "AllMember",
              "HOUSE_AND_HOME"
             ],
             "namePath": [
              "AllMember",
              "HOUSE_AND_HOME"
             ],
             "properties": {
              "DISPLAY_INFO": 131072
             }
            },
            {
             "captionPath": [
              "AllMember",
              "Realtor.com Real Estate: Homes for Sale and Rent"
             ],
             "namePath": [
              "AllMember",
              "Realtor.com Real Estate: Homes for Sale and Rent"
             ],
             "properties": {
              "DISPLAY_INFO": 131072
             }
            }
           ],
           [
            {
             "captionPath": [
              "AllMember",
              "HOUSE_AND_HOME"
             ],
             "namePath": [
              "AllMember",
              "HOUSE_AND_HOME"
             ],
             "properties": {
              "DISPLAY_INFO": 131072
             }
            },
            {
             "captionPath": [
              "AllMember",
              "Living Smart Home"
             ],
             "namePath": [
              "AllMember",
              "Living Smart Home"
             ],
             "properties": {
              "DISPLAY_INFO": 131072
             }
            }
           ],
           [
            {
             "captionPath": [
              "AllMember",
              "HOUSE_AND_HOME"
             ],
             "namePath": [
              "AllMember",
              "HOUSE_AND_HOME"
             ],
             "properties": {
              "DISPLAY_INFO": 131072
             }
            },
            {
             "captionPath": [
              "AllMember",
              "Domofond Real Estate. Buy, rent an apartment."
             ],
             "namePath": [
              "AllMember",
              "Domofond Real Estate. Buy, rent an apartment."
             ],
             "properties": {
              "DISPLAY_INFO": 131072
             }
            }
           ],
           [
            {
             "captionPath": [
              "AllMember",
              "HOUSE_AND_HOME"
             ],
             "namePath": [
              "AllMember",
              "HOUSE_AND_HOME"
             ],
             "properties": {
              "DISPLAY_INFO": 131072
             }
            },
            {
             "captionPath": [
              "AllMember",
              "Redfin Real Estate"
             ],
             "namePath": [
              "AllMember",
              "Redfin Real Estate"
             ],
             "properties": {
              "DISPLAY_INFO": 131072
             }
            }
           ],
           [
            {
             "captionPath": [
              "AllMember",
              "HOUSE_AND_HOME"
             ],
             "namePath": [
              "AllMember",
              "HOUSE_AND_HOME"
             ],
             "properties": {
              "DISPLAY_INFO": 131072
             }
            },
            {
             "captionPath": [
              "AllMember",
              "Viva Decora - Decoration, Photos, Architecture, House"
             ],
             "namePath": [
              "AllMember",
              "Viva Decora - Decoration, Photos, Architecture, House"
             ],
             "properties": {
              "DISPLAY_INFO": 131072
             }
            }
           ],
           [
            {
             "captionPath": [
              "AllMember",
              "HOUSE_AND_HOME"
             ],
             "namePath": [
              "AllMember",
              "HOUSE_AND_HOME"
             ],
             "properties": {
              "DISPLAY_INFO": 131072
             }
            },
            {
             "captionPath": [
              "AllMember",
              "House app: beautiful everyday ~"
             ],
             "namePath": [
              "AllMember",
              "House app: beautiful everyday ~"
             ],
             "properties": {
              "DISPLAY_INFO": 131072
             }
            }
           ],
           [
            {
             "captionPath": [
              "AllMember",
              "HOUSE_AND_HOME"
             ],
             "namePath": [
              "AllMember",
              "HOUSE_AND_HOME"
             ],
             "properties": {
              "DISPLAY_INFO": 131072
             }
            },
            {
             "captionPath": [
              "AllMember",
              "Ruler"
             ],
             "namePath": [
              "AllMember",
              "Ruler"
             ],
             "properties": {
              "DISPLAY_INFO": 131072
             }
            }
           ],
           [
            {
             "captionPath": [
              "AllMember",
              "HOUSE_AND_HOME"
             ],
             "namePath": [
              "AllMember",
              "HOUSE_AND_HOME"
             ],
             "properties": {
              "DISPLAY_INFO": 131072
             }
            },
            {
             "captionPath": [
              "AllMember",
              "DIY On A Budget"
             ],
             "namePath": [
              "AllMember",
              "DIY On A Budget"
             ],
             "properties": {
              "DISPLAY_INFO": 131072
             }
            }
           ],
           [
            {
             "captionPath": [
              "AllMember",
              "BUSINESS"
             ],
             "namePath": [
              "AllMember",
              "BUSINESS"
             ],
             "properties": {
              "DISPLAY_INFO": 131072
             }
            },
            {
             "captionPath": [
              "AllMember",
              "EF App"
             ],
             "namePath": [
              "AllMember",
              "EF App"
             ],
             "properties": {
              "DISPLAY_INFO": 131072
             }
            }
           ],
           [
            {
             "captionPath": [
              "AllMember",
              "BUSINESS"
             ],
             "namePath": [
              "AllMember",
              "BUSINESS"
             ],
             "properties": {
              "DISPLAY_INFO": 131072
             }
            },
            {
             "captionPath": [
              "AllMember",
              "CK Employee Portal"
             ],
             "namePath": [
              "AllMember",
              "CK Employee Portal"
             ],
             "properties": {
              "DISPLAY_INFO": 131072
             }
            }
           ],
           [
            {
             "captionPath": [
              "AllMember",
              "BUSINESS"
             ],
             "namePath": [
              "AllMember",
              "BUSINESS"
             ],
             "properties": {
              "DISPLAY_INFO": 131072
             }
            },
            {
             "captionPath": [
              "AllMember",
              "Ag Valley Cooperative"
             ],
             "namePath": [
              "AllMember",
              "Ag Valley Cooperative"
             ],
             "properties": {
              "DISPLAY_INFO": 131072
             }
            }
           ],
           [
            {
             "captionPath": [
              "AllMember",
              "BUSINESS"
             ],
             "namePath": [
              "AllMember",
              "BUSINESS"
             ],
             "properties": {
              "DISPLAY_INFO": 131072
             }
            },
            {
             "captionPath": [
              "AllMember",
              "ES Solar"
             ],
             "namePath": [
              "AllMember",
              "ES Solar"
             ],
             "properties": {
              "DISPLAY_INFO": 131072
             }
            }
           ],
           [
            {
             "captionPath": [
              "AllMember",
              "BUSINESS"
             ],
             "namePath": [
              "AllMember",
              "BUSINESS"
             ],
             "properties": {
              "DISPLAY_INFO": 131072
             }
            },
            {
             "captionPath": [
              "AllMember",
              "Propel BI APP"
             ],
             "namePath": [
              "AllMember",
              "Propel BI APP"
             ],
             "properties": {
              "DISPLAY_INFO": 131072
             }
            }
           ],
           [
            {
             "captionPath": [
              "AllMember",
              "BUSINESS"
             ],
             "namePath": [
              "AllMember",
              "BUSINESS"
             ],
             "properties": {
              "DISPLAY_INFO": 131072
             }
            },
            {
             "captionPath": [
              "AllMember",
              "CQ ESPM"
             ],
             "namePath": [
              "AllMember",
              "CQ ESPM"
             ],
             "properties": {
              "DISPLAY_INFO": 131072
             }
            }
           ],
           [
            {
             "captionPath": [
              "AllMember",
              "BUSINESS"
             ],
             "namePath": [
              "AllMember",
              "BUSINESS"
             ],
             "properties": {
              "DISPLAY_INFO": 131072
             }
            },
            {
             "captionPath": [
              "AllMember",
              "EF Forms"
             ],
             "namePath": [
              "AllMember",
              "EF Forms"
             ],
             "properties": {
              "DISPLAY_INFO": 131072
             }
            }
           ],
           [
            {
             "captionPath": [
              "AllMember",
              "BUSINESS"
             ],
             "namePath": [
              "AllMember",
              "BUSINESS"
             ],
             "properties": {
              "DISPLAY_INFO": 131072
             }
            },
            {
             "captionPath": [
              "AllMember",
              "Jobs in Canada - Emplois au Canada"
             ],
             "namePath": [
              "AllMember",
              "Jobs in Canada - Emplois au Canada"
             ],
             "properties": {
              "DISPLAY_INFO": 131072
             }
            }
           ],
           [
            {
             "captionPath": [
              "AllMember",
              "BUSINESS"
             ],
             "namePath": [
              "AllMember",
              "BUSINESS"
             ],
             "properties": {
              "DISPLAY_INFO": 131072
             }
            },
            {
             "captionPath": [
              "AllMember",
              "CJ the REALTOR"
             ],
             "namePath": [
              "AllMember",
              "CJ the REALTOR"
             ],
             "properties": {
              "DISPLAY_INFO": 131072
             }
            }
           ],
           [
            {
             "captionPath": [
              "AllMember",
              "BUSINESS"
             ],
             "namePath": [
              "AllMember",
              "BUSINESS"
             ],
             "properties": {
              "DISPLAY_INFO": 131072
             }
            },
            {
             "captionPath": [
              "AllMember",
              "EB Cash Collections"
             ],
             "namePath": [
              "AllMember",
              "EB Cash Collections"
             ],
             "properties": {
              "DISPLAY_INFO": 131072
             }
            }
           ],
           [
            {
             "captionPath": [
              "AllMember",
              "ART_AND_DESIGN"
             ],
             "namePath": [
              "AllMember",
              "ART_AND_DESIGN"
             ],
             "properties": {
              "DISPLAY_INFO": 131072
             }
            },
            {
             "captionPath": [
              "AllMember",
              "U Launcher Lite – FREE Live Cool Themes, Hide Apps"
             ],
             "namePath": [
              "AllMember",
              "U Launcher Lite – FREE Live Cool Themes, Hide Apps"
             ],
             "properties": {
              "DISPLAY_INFO": 131072
             }
            }
           ],
           [
            {
             "captionPath": [
              "AllMember",
              "ART_AND_DESIGN"
             ],
             "namePath": [
              "AllMember",
              "ART_AND_DESIGN"
             ],
             "properties": {
              "DISPLAY_INFO": 131072
             }
            },
            {
             "captionPath": [
              "AllMember",
              "Superheroes Wallpapers | 4K Backgrounds"
             ],
             "namePath": [
              "AllMember",
              "Superheroes Wallpapers | 4K Backgrounds"
             ],
             "properties": {
              "DISPLAY_INFO": 131072
             }
            }
           ],
           [
            {
             "captionPath": [
              "AllMember",
              "ART_AND_DESIGN"
             ],
             "namePath": [
              "AllMember",
              "ART_AND_DESIGN"
             ],
             "properties": {
              "DISPLAY_INFO": 131072
             }
            },
            {
             "captionPath": [
              "AllMember",
              "X Launcher: With OS11 Style Theme & Control Center"
             ],
             "namePath": [
              "AllMember",
              "X Launcher: With OS11 Style Theme & Control Center"
             ],
             "properties": {
              "DISPLAY_INFO": 131072
             }
            }
           ],
           [
            {
             "captionPath": [
              "AllMember",
              "ART_AND_DESIGN"
             ],
             "namePath": [
              "AllMember",
              "ART_AND_DESIGN"
             ],
             "properties": {
              "DISPLAY_INFO": 131072
             }
            },
            {
             "captionPath": [
              "AllMember",
              "X Launcher Pro - IOS Style Theme & Control Center"
             ],
             "namePath": [
              "AllMember",
              "X Launcher Pro - IOS Style Theme & Control Center"
             ],
             "properties": {
              "DISPLAY_INFO": 131072
             }
            }
           ],
           [
            {
             "captionPath": [
              "AllMember",
              "ART_AND_DESIGN"
             ],
             "namePath": [
              "AllMember",
              "ART_AND_DESIGN"
             ],
             "properties": {
              "DISPLAY_INFO": 131072
             }
            },
            {
             "captionPath": [
              "AllMember",
              "Cardi B Wallpaper"
             ],
             "namePath": [
              "AllMember",
              "Cardi B Wallpaper"
             ],
             "properties": {
              "DISPLAY_INFO": 131072
             }
            }
           ],
           [
            {
             "captionPath": [
              "AllMember",
              "ART_AND_DESIGN"
             ],
             "namePath": [
              "AllMember",
              "ART_AND_DESIGN"
             ],
             "properties": {
              "DISPLAY_INFO": 131072
             }
            },
            {
             "captionPath": [
              "AllMember",
              "Harley Quinn wallpapers HD"
             ],
             "namePath": [
              "AllMember",
              "Harley Quinn wallpapers HD"
             ],
             "properties": {
              "DISPLAY_INFO": 131072
             }
            }
           ],
           [
            {
             "captionPath": [
              "AllMember",
              "ART_AND_DESIGN"
             ],
             "namePath": [
              "AllMember",
              "ART_AND_DESIGN"
             ],
             "properties": {
              "DISPLAY_INFO": 131072
             }
            },
            {
             "captionPath": [
              "AllMember",
              "HD Mickey Minnie Wallpapers"
             ],
             "namePath": [
              "AllMember",
              "HD Mickey Minnie Wallpapers"
             ],
             "properties": {
              "DISPLAY_INFO": 131072
             }
            }
           ],
           [
            {
             "captionPath": [
              "AllMember",
              "ART_AND_DESIGN"
             ],
             "namePath": [
              "AllMember",
              "ART_AND_DESIGN"
             ],
             "properties": {
              "DISPLAY_INFO": 131072
             }
            },
            {
             "captionPath": [
              "AllMember",
              "AJ Styles HD Wallpapers"
             ],
             "namePath": [
              "AllMember",
              "AJ Styles HD Wallpapers"
             ],
             "properties": {
              "DISPLAY_INFO": 131072
             }
            }
           ],
           [
            {
             "captionPath": [
              "AllMember",
              "ART_AND_DESIGN"
             ],
             "namePath": [
              "AllMember",
              "ART_AND_DESIGN"
             ],
             "properties": {
              "DISPLAY_INFO": 131072
             }
            },
            {
             "captionPath": [
              "AllMember",
              "Fantasy theme dark bw black building"
             ],
             "namePath": [
              "AllMember",
              "Fantasy theme dark bw black building"
             ],
             "properties": {
              "DISPLAY_INFO": 131072
             }
            }
           ],
           [
            {
             "captionPath": [
              "AllMember",
              "ART_AND_DESIGN"
             ],
             "namePath": [
              "AllMember",
              "ART_AND_DESIGN"
             ],
             "properties": {
              "DISPLAY_INFO": 131072
             }
            },
            {
             "captionPath": [
              "AllMember",
              "Spring flowers theme couleurs d t space"
             ],
             "namePath": [
              "AllMember",
              "Spring flowers theme couleurs d t space"
             ],
             "properties": {
              "DISPLAY_INFO": 131072
             }
            }
           ],
           [
            {
             "captionPath": [
              "AllMember",
              "DATING"
             ],
             "namePath": [
              "AllMember",
              "DATING"
             ],
             "properties": {
              "DISPLAY_INFO": 131072
             }
            },
            {
             "captionPath": [
              "AllMember",
              "FREE LIVE TALK"
             ],
             "namePath": [
              "AllMember",
              "FREE LIVE TALK"
             ],
             "properties": {
              "DISPLAY_INFO": 131072
             }
            }
           ],
           [
            {
             "captionPath": [
              "AllMember",
              "DATING"
             ],
             "namePath": [
              "AllMember",
              "DATING"
             ],
             "properties": {
              "DISPLAY_INFO": 131072
             }
            },
            {
             "captionPath": [
              "AllMember",
              "Live Girls Talk - Free Video Chat"
             ],
             "namePath": [
              "AllMember",
              "Live Girls Talk - Free Video Chat"
             ],
             "properties": {
              "DISPLAY_INFO": 131072
             }
            }
           ],
           [
            {
             "captionPath": [
              "AllMember",
              "DATING"
             ],
             "namePath": [
              "AllMember",
              "DATING"
             ],
             "properties": {
              "DISPLAY_INFO": 131072
             }
            },
            {
             "captionPath": [
              "AllMember",
              "Girls Live Chat - Free Text & Video Chat"
             ],
             "namePath": [
              "AllMember",
              "Girls Live Chat - Free Text & Video Chat"
             ],
             "properties": {
              "DISPLAY_INFO": 131072
             }
            }
           ],
           [
            {
             "captionPath": [
              "AllMember",
              "DATING"
             ],
             "namePath": [
              "AllMember",
              "DATING"
             ],
             "properties": {
              "DISPLAY_INFO": 131072
             }
            },
            {
             "captionPath": [
              "AllMember",
              "FREE VIDEO CHAT - LIVE VIDEO AND TEXT CHAT"
             ],
             "namePath": [
              "AllMember",
              "FREE VIDEO CHAT - LIVE VIDEO AND TEXT CHAT"
             ],
             "properties": {
              "DISPLAY_INFO": 131072
             }
            }
           ],
           [
            {
             "captionPath": [
              "AllMember",
              "DATING"
             ],
             "namePath": [
              "AllMember",
              "DATING"
             ],
             "properties": {
              "DISPLAY_INFO": 131072
             }
            },
            {
             "captionPath": [
              "AllMember",
              "Girls Live Talk - Free Text and Video Chat"
             ],
             "namePath": [
              "AllMember",
              "Girls Live Talk - Free Text and Video Chat"
             ],
             "properties": {
              "DISPLAY_INFO": 131072
             }
            }
           ],
           [
            {
             "captionPath": [
              "AllMember",
              "DATING"
             ],
             "namePath": [
              "AllMember",
              "DATING"
             ],
             "properties": {
              "DISPLAY_INFO": 131072
             }
            },
            {
             "captionPath": [
              "AllMember",
              "American Girls Mobile Numbers"
             ],
             "namePath": [
              "AllMember",
              "American Girls Mobile Numbers"
             ],
             "properties": {
              "DISPLAY_INFO": 131072
             }
            }
           ],
           [
            {
             "captionPath": [
              "AllMember",
              "DATING"
             ],
             "namePath": [
              "AllMember",
              "DATING"
             ],
             "properties": {
              "DISPLAY_INFO": 131072
             }
            },
            {
             "captionPath": [
              "AllMember",
              "Online Girls Chat Group"
             ],
             "namePath": [
              "AllMember",
              "Online Girls Chat Group"
             ],
             "properties": {
              "DISPLAY_INFO": 131072
             }
            }
           ],
           [
            {
             "captionPath": [
              "AllMember",
              "DATING"
             ],
             "namePath": [
              "AllMember",
              "DATING"
             ],
             "properties": {
              "DISPLAY_INFO": 131072
             }
            },
            {
             "captionPath": [
              "AllMember",
              "Spine- The dating app"
             ],
             "namePath": [
              "AllMember",
              "Spine- The dating app"
             ],
             "properties": {
              "DISPLAY_INFO": 131072
             }
            }
           ],
           [
            {
             "captionPath": [
              "AllMember",
              "DATING"
             ],
             "namePath": [
              "AllMember",
              "DATING"
             ],
             "properties": {
              "DISPLAY_INFO": 131072
             }
            },
            {
             "captionPath": [
              "AllMember",
              "Speeding Joyride & Car Meet App"
             ],
             "namePath": [
              "AllMember",
              "Speeding Joyride & Car Meet App"
             ],
             "properties": {
              "DISPLAY_INFO": 131072
             }
            }
           ],
           [
            {
             "captionPath": [
              "AllMember",
              "DATING"
             ],
             "namePath": [
              "AllMember",
              "DATING"
             ],
             "properties": {
              "DISPLAY_INFO": 131072
             }
            },
            {
             "captionPath": [
              "AllMember",
              "Awake Dating"
             ],
             "namePath": [
              "AllMember",
              "Awake Dating"
             ],
             "properties": {
              "DISPLAY_INFO": 131072
             }
            }
           ],
           [
            {
             "captionPath": [
              "AllMember",
              "PARENTING"
             ],
             "namePath": [
              "AllMember",
              "PARENTING"
             ],
             "properties": {
              "DISPLAY_INFO": 131072
             }
            },
            {
             "captionPath": [
              "AllMember",
              "Family Album Mitene: Private Photo & Video Sharing"
             ],
             "namePath": [
              "AllMember",
              "Family Album Mitene: Private Photo & Video Sharing"
             ],
             "properties": {
              "DISPLAY_INFO": 131072
             }
            }
           ],
           [
            {
             "captionPath": [
              "AllMember",
              "PARENTING"
             ],
             "namePath": [
              "AllMember",
              "PARENTING"
             ],
             "properties": {
              "DISPLAY_INFO": 131072
             }
            },
            {
             "captionPath": [
              "AllMember",
              "Baby Connect (activity log)"
             ],
             "namePath": [
              "AllMember",
              "Baby Connect (activity log)"
             ],
             "properties": {
              "DISPLAY_INFO": 131072
             }
            }
           ],
           [
            {
             "captionPath": [
              "AllMember",
              "PARENTING"
             ],
             "namePath": [
              "AllMember",
              "PARENTING"
             ],
             "properties": {
              "DISPLAY_INFO": 131072
             }
            },
            {
             "captionPath": [
              "AllMember",
              "The first year of a baby's life"
             ],
             "namePath": [
              "AllMember",
              "The first year of a baby's life"
             ],
             "properties": {
              "DISPLAY_INFO": 131072
             }
            }
           ],
           [
            {
             "captionPath": [
              "AllMember",
              "PARENTING"
             ],
             "namePath": [
              "AllMember",
              "PARENTING"
             ],
             "properties": {
              "DISPLAY_INFO": 131072
             }
            },
            {
             "captionPath": [
              "AllMember",
              "Rainbow - Journal & Activities"
             ],
             "namePath": [
              "AllMember",
              "Rainbow - Journal & Activities"
             ],
             "properties": {
              "DISPLAY_INFO": 131072
             }
            }
           ],
           [
            {
             "captionPath": [
              "AllMember",
              "PARENTING"
             ],
             "namePath": [
              "AllMember",
              "PARENTING"
             ],
             "properties": {
              "DISPLAY_INFO": 131072
             }
            },
            {
             "captionPath": [
              "AllMember",
              "Classical music for baby"
             ],
             "namePath": [
              "AllMember",
              "Classical music for baby"
             ],
             "properties": {
              "DISPLAY_INFO": 131072
             }
            }
           ],
           [
            {
             "captionPath": [
              "AllMember",
              "PARENTING"
             ],
             "namePath": [
              "AllMember",
              "PARENTING"
             ],
             "properties": {
              "DISPLAY_INFO": 131072
             }
            },
            {
             "captionPath": [
              "AllMember",
              "White Noise for Baby"
             ],
             "namePath": [
              "AllMember",
              "White Noise for Baby"
             ],
             "properties": {
              "DISPLAY_INFO": 131072
             }
            }
           ],
           [
            {
             "captionPath": [
              "AllMember",
              "PARENTING"
             ],
             "namePath": [
              "AllMember",
              "PARENTING"
             ],
             "properties": {
              "DISPLAY_INFO": 131072
             }
            },
            {
             "captionPath": [
              "AllMember",
              "Daniel Tiger for Parents"
             ],
             "namePath": [
              "AllMember",
              "Daniel Tiger for Parents"
             ],
             "properties": {
              "DISPLAY_INFO": 131072
             }
            }
           ],
           [
            {
             "captionPath": [
              "AllMember",
              "PARENTING"
             ],
             "namePath": [
              "AllMember",
              "PARENTING"
             ],
             "properties": {
              "DISPLAY_INFO": 131072
             }
            },
            {
             "captionPath": [
              "AllMember",
              "How do I take care of my child?"
             ],
             "namePath": [
              "AllMember",
              "How do I take care of my child?"
             ],
             "properties": {
              "DISPLAY_INFO": 131072
             }
            }
           ],
           [
            {
             "captionPath": [
              "AllMember",
              "PARENTING"
             ],
             "namePath": [
              "AllMember",
              "PARENTING"
             ],
             "properties": {
              "DISPLAY_INFO": 131072
             }
            },
            {
             "captionPath": [
              "AllMember",
              "Mozart Baby Sleep"
             ],
             "namePath": [
              "AllMember",
              "Mozart Baby Sleep"
             ],
             "properties": {
              "DISPLAY_INFO": 131072
             }
            }
           ],
           [
            {
             "captionPath": [
              "AllMember",
              "PARENTING"
             ],
             "namePath": [
              "AllMember",
              "PARENTING"
             ],
             "properties": {
              "DISPLAY_INFO": 131072
             }
            },
            {
             "captionPath": [
              "AllMember",
              "DF Glue Board"
             ],
             "namePath": [
              "AllMember",
              "DF Glue Board"
             ],
             "properties": {
              "DISPLAY_INFO": 131072
             }
            }
           ],
           [
            {
             "captionPath": [
              "AllMember",
              "AUTO_AND_VEHICLES"
             ],
             "namePath": [
              "AllMember",
              "AUTO_AND_VEHICLES"
             ],
             "properties": {
              "DISPLAY_INFO": 131072
             }
            },
            {
             "captionPath": [
              "AllMember",
              "Tickets  PDA 2018 Exam"
             ],
             "namePath": [
              "AllMember",
              "Tickets  PDA 2018 Exam"
             ],
             "properties": {
              "DISPLAY_INFO": 131072
             }
            }
           ],
           [
            {
             "captionPath": [
              "AllMember",
              "AUTO_AND_VEHICLES"
             ],
             "namePath": [
              "AllMember",
              "AUTO_AND_VEHICLES"
             ],
             "properties": {
              "DISPLAY_INFO": 131072
             }
            },
            {
             "captionPath": [
              "AllMember",
              "Fines of the State Traffic Safety Inspectorate are official: inspection, payment of fines"
             ],
             "namePath": [
              "AllMember",
              "Fines of the State Traffic Safety Inspectorate are official: inspection, payment of fines"
             ],
             "properties": {
              "DISPLAY_INFO": 131072
             }
            }
           ],
           [
            {
             "captionPath": [
              "AllMember",
              "AUTO_AND_VEHICLES"
             ],
             "namePath": [
              "AllMember",
              "AUTO_AND_VEHICLES"
             ],
             "properties": {
              "DISPLAY_INFO": 131072
             }
            },
            {
             "captionPath": [
              "AllMember",
              "Tickets SDA 2018 and Exam from the State Traffic Safety Inspectorate with Drom.ru"
             ],
             "namePath": [
              "AllMember",
              "Tickets SDA 2018 and Exam from the State Traffic Safety Inspectorate with Drom.ru"
             ],
             "properties": {
              "DISPLAY_INFO": 131072
             }
            }
           ],
           [
            {
             "captionPath": [
              "AllMember",
              "AUTO_AND_VEHICLES"
             ],
             "namePath": [
              "AllMember",
              "AUTO_AND_VEHICLES"
             ],
             "properties": {
              "DISPLAY_INFO": 131072
             }
            },
            {
             "captionPath": [
              "AllMember",
              "CDL Practice Test 2018 Edition"
             ],
             "namePath": [
              "AllMember",
              "CDL Practice Test 2018 Edition"
             ],
             "properties": {
              "DISPLAY_INFO": 131072
             }
            }
           ],
           [
            {
             "captionPath": [
              "AllMember",
              "AUTO_AND_VEHICLES"
             ],
             "namePath": [
              "AllMember",
              "AUTO_AND_VEHICLES"
             ],
             "properties": {
              "DISPLAY_INFO": 131072
             }
            },
            {
             "captionPath": [
              "AllMember",
              "Tickets SDA 2019  Exam RF"
             ],
             "namePath": [
              "AllMember",
              "Tickets SDA 2019  Exam RF"
             ],
             "properties": {
              "DISPLAY_INFO": 131072
             }
            }
           ],
           [
            {
             "captionPath": [
              "AllMember",
              "AUTO_AND_VEHICLES"
             ],
             "namePath": [
              "AllMember",
              "AUTO_AND_VEHICLES"
             ],
             "properties": {
              "DISPLAY_INFO": 131072
             }
            },
            {
             "captionPath": [
              "AllMember",
              "DMV Permit Practice Test 2018 Edition"
             ],
             "namePath": [
              "AllMember",
              "DMV Permit Practice Test 2018 Edition"
             ],
             "properties": {
              "DISPLAY_INFO": 131072
             }
            }
           ],
           [
            {
             "captionPath": [
              "AllMember",
              "AUTO_AND_VEHICLES"
             ],
             "namePath": [
              "AllMember",
              "AUTO_AND_VEHICLES"
             ],
             "properties": {
              "DISPLAY_INFO": 131072
             }
            },
            {
             "captionPath": [
              "AllMember",
              "PDD-UA"
             ],
             "namePath": [
              "AllMember",
              "PDD-UA"
             ],
             "properties": {
              "DISPLAY_INFO": 131072
             }
            }
           ],
           [
            {
             "captionPath": [
              "AllMember",
              "AUTO_AND_VEHICLES"
             ],
             "namePath": [
              "AllMember",
              "AUTO_AND_VEHICLES"
             ],
             "properties": {
              "DISPLAY_INFO": 131072
             }
            },
            {
             "captionPath": [
              "AllMember",
              "MHD F-Series"
             ],
             "namePath": [
              "AllMember",
              "MHD F-Series"
             ],
             "properties": {
              "DISPLAY_INFO": 131072
             }
            }
           ],
           [
            {
             "captionPath": [
              "AllMember",
              "AUTO_AND_VEHICLES"
             ],
             "namePath": [
              "AllMember",
              "AUTO_AND_VEHICLES"
             ],
             "properties": {
              "DISPLAY_INFO": 131072
             }
            },
            {
             "captionPath": [
              "AllMember",
              "BH Patrole"
             ],
             "namePath": [
              "AllMember",
              "BH Patrole"
             ],
             "properties": {
              "DISPLAY_INFO": 131072
             }
            }
           ],
           [
            {
             "captionPath": [
              "AllMember",
              "AUTO_AND_VEHICLES"
             ],
             "namePath": [
              "AllMember",
              "AUTO_AND_VEHICLES"
             ],
             "properties": {
              "DISPLAY_INFO": 131072
             }
            },
            {
             "captionPath": [
              "AllMember",
              "BG Products"
             ],
             "namePath": [
              "AllMember",
              "BG Products"
             ],
             "properties": {
              "DISPLAY_INFO": 131072
             }
            }
           ],
           [
            {
             "captionPath": [
              "AllMember",
              "LIBRARIES_AND_DEMO"
             ],
             "namePath": [
              "AllMember",
              "LIBRARIES_AND_DEMO"
             ],
             "properties": {
              "DISPLAY_INFO": 131072
             }
            },
            {
             "captionPath": [
              "AllMember",
              "Best New Ringtones 2018 Free 🔥 For Android™"
             ],
             "namePath": [
              "AllMember",
              "Best New Ringtones 2018 Free 🔥 For Android™"
             ],
             "properties": {
              "DISPLAY_INFO": 131072
             }
            }
           ],
           [
            {
             "captionPath": [
              "AllMember",
              "LIBRARIES_AND_DEMO"
             ],
             "namePath": [
              "AllMember",
              "LIBRARIES_AND_DEMO"
             ],
             "properties": {
              "DISPLAY_INFO": 131072
             }
            },
            {
             "captionPath": [
              "AllMember",
              "Girls Nancy Ajram Without Net"
             ],
             "namePath": [
              "AllMember",
              "Girls Nancy Ajram Without Net"
             ],
             "properties": {
              "DISPLAY_INFO": 131072
             }
            }
           ],
           [
            {
             "captionPath": [
              "AllMember",
              "LIBRARIES_AND_DEMO"
             ],
             "namePath": [
              "AllMember",
              "LIBRARIES_AND_DEMO"
             ],
             "properties": {
              "DISPLAY_INFO": 131072
             }
            },
            {
             "captionPath": [
              "AllMember",
              "MOMOLAND BBoom BBoom"
             ],
             "namePath": [
              "AllMember",
              "MOMOLAND BBoom BBoom"
             ],
             "properties": {
              "DISPLAY_INFO": 131072
             }
            }
           ],
           [
            {
             "captionPath": [
              "AllMember",
              "LIBRARIES_AND_DEMO"
             ],
             "namePath": [
              "AllMember",
              "LIBRARIES_AND_DEMO"
             ],
             "properties": {
              "DISPLAY_INFO": 131072
             }
            },
            {
             "captionPath": [
              "AllMember",
              "Blackpink as if it's your last"
             ],
             "namePath": [
              "AllMember",
              "Blackpink as if it's your last"
             ],
             "properties": {
              "DISPLAY_INFO": 131072
             }
            }
           ],
           [
            {
             "captionPath": [
              "AllMember",
              "LIBRARIES_AND_DEMO"
             ],
             "namePath": [
              "AllMember",
              "LIBRARIES_AND_DEMO"
             ],
             "properties": {
              "DISPLAY_INFO": 131072
             }
            },
            {
             "captionPath": [
              "AllMember",
              "Chakra Cleansing"
             ],
             "namePath": [
              "AllMember",
              "Chakra Cleansing"
             ],
             "properties": {
              "DISPLAY_INFO": 131072
             }
            }
           ],
           [
            {
             "captionPath": [
              "AllMember",
              "LIBRARIES_AND_DEMO"
             ],
             "namePath": [
              "AllMember",
              "LIBRARIES_AND_DEMO"
             ],
             "properties": {
              "DISPLAY_INFO": 131072
             }
            },
            {
             "captionPath": [
              "AllMember",
              "Essential Resources"
             ],
             "namePath": [
              "AllMember",
              "Essential Resources"
             ],
             "properties": {
              "DISPLAY_INFO": 131072
             }
            }
           ],
           [
            {
             "captionPath": [
              "AllMember",
              "LIBRARIES_AND_DEMO"
             ],
             "namePath": [
              "AllMember",
              "LIBRARIES_AND_DEMO"
             ],
             "properties": {
              "DISPLAY_INFO": 131072
             }
            },
            {
             "captionPath": [
              "AllMember",
              "Bird Sounds & Bird Ringtones for Free 2018"
             ],
             "namePath": [
              "AllMember",
              "Bird Sounds & Bird Ringtones for Free 2018"
             ],
             "properties": {
              "DISPLAY_INFO": 131072
             }
            }
           ],
           [
            {
             "captionPath": [
              "AllMember",
              "LIBRARIES_AND_DEMO"
             ],
             "namePath": [
              "AllMember",
              "LIBRARIES_AND_DEMO"
             ],
             "properties": {
              "DISPLAY_INFO": 131072
             }
            },
            {
             "captionPath": [
              "AllMember",
              "Call Recorder"
             ],
             "namePath": [
              "AllMember",
              "Call Recorder"
             ],
             "properties": {
              "DISPLAY_INFO": 131072
             }
            }
           ],
           [
            {
             "captionPath": [
              "AllMember",
              "LIBRARIES_AND_DEMO"
             ],
             "namePath": [
              "AllMember",
              "LIBRARIES_AND_DEMO"
             ],
             "properties": {
              "DISPLAY_INFO": 131072
             }
            },
            {
             "captionPath": [
              "AllMember",
              "Eternal life"
             ],
             "namePath": [
              "AllMember",
              "Eternal life"
             ],
             "properties": {
              "DISPLAY_INFO": 131072
             }
            }
           ],
           [
            {
             "captionPath": [
              "AllMember",
              "LIBRARIES_AND_DEMO"
             ],
             "namePath": [
              "AllMember",
              "LIBRARIES_AND_DEMO"
             ],
             "properties": {
              "DISPLAY_INFO": 131072
             }
            },
            {
             "captionPath": [
              "AllMember",
              "Nur təfsiri 1-ci cild"
             ],
             "namePath": [
              "AllMember",
              "Nur təfsiri 1-ci cild"
             ],
             "properties": {
              "DISPLAY_INFO": 131072
             }
            }
           ],
           [
            {
             "captionPath": [
              "AllMember",
              "BEAUTY"
             ],
             "namePath": [
              "AllMember",
              "BEAUTY"
             ],
             "properties": {
              "DISPLAY_INFO": 131072
             }
            },
            {
             "captionPath": [
              "AllMember",
              "ipsy: Makeup, Beauty, and Tips"
             ],
             "namePath": [
              "AllMember",
              "ipsy: Makeup, Beauty, and Tips"
             ],
             "properties": {
              "DISPLAY_INFO": 131072
             }
            }
           ],
           [
            {
             "captionPath": [
              "AllMember",
              "BEAUTY"
             ],
             "namePath": [
              "AllMember",
              "BEAUTY"
             ],
             "properties": {
              "DISPLAY_INFO": 131072
             }
            },
            {
             "captionPath": [
              "AllMember",
              "Ulta Beauty"
             ],
             "namePath": [
              "AllMember",
              "Ulta Beauty"
             ],
             "properties": {
              "DISPLAY_INFO": 131072
             }
            }
           ],
           [
            {
             "captionPath": [
              "AllMember",
              "BEAUTY"
             ],
             "namePath": [
              "AllMember",
              "BEAUTY"
             ],
             "properties": {
              "DISPLAY_INFO": 131072
             }
            },
            {
             "captionPath": [
              "AllMember",
              "Hush - Beauty for Everyone"
             ],
             "namePath": [
              "AllMember",
              "Hush - Beauty for Everyone"
             ],
             "properties": {
              "DISPLAY_INFO": 131072
             }
            }
           ],
           [
            {
             "captionPath": [
              "AllMember",
              "BEAUTY"
             ],
             "namePath": [
              "AllMember",
              "BEAUTY"
             ],
             "properties": {
              "DISPLAY_INFO": 131072
             }
            },
            {
             "captionPath": [
              "AllMember",
              "Hairstyles step by step"
             ],
             "namePath": [
              "AllMember",
              "Hairstyles step by step"
             ],
             "properties": {
              "DISPLAY_INFO": 131072
             }
            }
           ],
           [
            {
             "captionPath": [
              "AllMember",
              "BEAUTY"
             ],
             "namePath": [
              "AllMember",
              "BEAUTY"
             ],
             "properties": {
              "DISPLAY_INFO": 131072
             }
            },
            {
             "captionPath": [
              "AllMember",
              "Natural recipes for your beauty"
             ],
             "namePath": [
              "AllMember",
              "Natural recipes for your beauty"
             ],
             "properties": {
              "DISPLAY_INFO": 131072
             }
            }
           ],
           [
            {
             "captionPath": [
              "AllMember",
              "BEAUTY"
             ],
             "namePath": [
              "AllMember",
              "BEAUTY"
             ],
             "properties": {
              "DISPLAY_INFO": 131072
             }
            },
            {
             "captionPath": [
              "AllMember",
              "Tie - Always be happy"
             ],
             "namePath": [
              "AllMember",
              "Tie - Always be happy"
             ],
             "properties": {
              "DISPLAY_INFO": 131072
             }
            }
           ],
           [
            {
             "captionPath": [
              "AllMember",
              "BEAUTY"
             ],
             "namePath": [
              "AllMember",
              "BEAUTY"
             ],
             "properties": {
              "DISPLAY_INFO": 131072
             }
            },
            {
             "captionPath": [
              "AllMember",
              "Beard Live Camera Photo Editor"
             ],
             "namePath": [
              "AllMember",
              "Beard Live Camera Photo Editor"
             ],
             "properties": {
              "DISPLAY_INFO": 131072
             }
            }
           ],
           [
            {
             "captionPath": [
              "AllMember",
              "BEAUTY"
             ],
             "namePath": [
              "AllMember",
              "BEAUTY"
             ],
             "properties": {
              "DISPLAY_INFO": 131072
             }
            },
            {
             "captionPath": [
              "AllMember",
              "Methods of teeth whitening"
             ],
             "namePath": [
              "AllMember",
              "Methods of teeth whitening"
             ],
             "properties": {
              "DISPLAY_INFO": 131072
             }
            }
           ],
           [
            {
             "captionPath": [
              "AllMember",
              "BEAUTY"
             ],
             "namePath": [
              "AllMember",
              "BEAUTY"
             ],
             "properties": {
              "DISPLAY_INFO": 131072
             }
            },
            {
             "captionPath": [
              "AllMember",
              "Facial Wrinkle Reduction"
             ],
             "namePath": [
              "AllMember",
              "Facial Wrinkle Reduction"
             ],
             "properties": {
              "DISPLAY_INFO": 131072
             }
            }
           ],
           [
            {
             "captionPath": [
              "AllMember",
              "BEAUTY"
             ],
             "namePath": [
              "AllMember",
              "BEAUTY"
             ],
             "properties": {
              "DISPLAY_INFO": 131072
             }
            },
            {
             "captionPath": [
              "AllMember",
              "Prom MakeUp Tutorial"
             ],
             "namePath": [
              "AllMember",
              "Prom MakeUp Tutorial"
             ],
             "properties": {
              "DISPLAY_INFO": 131072
             }
            }
           ],
           [
            {
             "captionPath": [
              "AllMember",
              "MEDICAL"
             ],
             "namePath": [
              "AllMember",
              "MEDICAL"
             ],
             "properties": {
              "DISPLAY_INFO": 131072
             }
            },
            {
             "captionPath": [
              "AllMember",
              "CARDIAC CT TECHNIQUE"
             ],
             "namePath": [
              "AllMember",
              "CARDIAC CT TECHNIQUE"
             ],
             "properties": {
              "DISPLAY_INFO": 131072
             }
            }
           ],
           [
            {
             "captionPath": [
              "AllMember",
              "MEDICAL"
             ],
             "namePath": [
              "AllMember",
              "MEDICAL"
             ],
             "properties": {
              "DISPLAY_INFO": 131072
             }
            },
            {
             "captionPath": [
              "AllMember",
              "CT Cervical Spine"
             ],
             "namePath": [
              "AllMember",
              "CT Cervical Spine"
             ],
             "properties": {
              "DISPLAY_INFO": 131072
             }
            }
           ],
           [
            {
             "captionPath": [
              "AllMember",
              "MEDICAL"
             ],
             "namePath": [
              "AllMember",
              "MEDICAL"
             ],
             "properties": {
              "DISPLAY_INFO": 131072
             }
            },
            {
             "captionPath": [
              "AllMember",
              "Arrowhead AH App"
             ],
             "namePath": [
              "AllMember",
              "Arrowhead AH App"
             ],
             "properties": {
              "DISPLAY_INFO": 131072
             }
            }
           ],
           [
            {
             "captionPath": [
              "AllMember",
              "MEDICAL"
             ],
             "namePath": [
              "AllMember",
              "MEDICAL"
             ],
             "properties": {
              "DISPLAY_INFO": 131072
             }
            },
            {
             "captionPath": [
              "AllMember",
              "Dermatology Atlas (Colored & Illustrative)"
             ],
             "namePath": [
              "AllMember",
              "Dermatology Atlas (Colored & Illustrative)"
             ],
             "properties": {
              "DISPLAY_INFO": 131072
             }
            }
           ],
           [
            {
             "captionPath": [
              "AllMember",
              "MEDICAL"
             ],
             "namePath": [
              "AllMember",
              "MEDICAL"
             ],
             "properties": {
              "DISPLAY_INFO": 131072
             }
            },
            {
             "captionPath": [
              "AllMember",
              "PrimeDelivery"
             ],
             "namePath": [
              "AllMember",
              "PrimeDelivery"
             ],
             "properties": {
              "DISPLAY_INFO": 131072
             }
            }
           ],
           [
            {
             "captionPath": [
              "AllMember",
              "MEDICAL"
             ],
             "namePath": [
              "AllMember",
              "MEDICAL"
             ],
             "properties": {
              "DISPLAY_INFO": 131072
             }
            },
            {
             "captionPath": [
              "AllMember",
              "Super Hearing Secret Voices Recorder PRO"
             ],
             "namePath": [
              "AllMember",
              "Super Hearing Secret Voices Recorder PRO"
             ],
             "properties": {
              "DISPLAY_INFO": 131072
             }
            }
           ],
           [
            {
             "captionPath": [
              "AllMember",
              "MEDICAL"
             ],
             "namePath": [
              "AllMember",
              "MEDICAL"
             ],
             "properties": {
              "DISPLAY_INFO": 131072
             }
            },
            {
             "captionPath": [
              "AllMember",
              "Asha Ek Hope - ALS/ MND"
             ],
             "namePath": [
              "AllMember",
              "Asha Ek Hope - ALS/ MND"
             ],
             "properties": {
              "DISPLAY_INFO": 131072
             }
            }
           ],
           [
            {
             "captionPath": [
              "AllMember",
              "MEDICAL"
             ],
             "namePath": [
              "AllMember",
              "MEDICAL"
             ],
             "properties": {
              "DISPLAY_INFO": 131072
             }
            },
            {
             "captionPath": [
              "AllMember",
              "FoothillsVet"
             ],
             "namePath": [
              "AllMember",
              "FoothillsVet"
             ],
             "properties": {
              "DISPLAY_INFO": 131072
             }
            }
           ],
           [
            {
             "captionPath": [
              "AllMember",
              "MEDICAL"
             ],
             "namePath": [
              "AllMember",
              "MEDICAL"
             ],
             "properties": {
              "DISPLAY_INFO": 131072
             }
            },
            {
             "captionPath": [
              "AllMember",
              "Galaxies of Hope"
             ],
             "namePath": [
              "AllMember",
              "Galaxies of Hope"
             ],
             "properties": {
              "DISPLAY_INFO": 131072
             }
            }
           ],
           [
            {
             "captionPath": [
              "AllMember",
              "MEDICAL"
             ],
             "namePath": [
              "AllMember",
              "MEDICAL"
             ],
             "properties": {
              "DISPLAY_INFO": 131072
             }
            },
            {
             "captionPath": [
              "AllMember",
              "Zen Leaf"
             ],
             "namePath": [
              "AllMember",
              "Zen Leaf"
             ],
             "properties": {
              "DISPLAY_INFO": 131072
             }
            }
           ],
           [
            {
             "captionPath": [
              "AllMember",
              "EVENTS"
             ],
             "namePath": [
              "AllMember",
              "EVENTS"
             ],
             "properties": {
              "DISPLAY_INFO": 131072
             }
            },
            {
             "captionPath": [
              "AllMember",
              "Mummatikabalkuragi"
             ],
             "namePath": [
              "AllMember",
              "Mummatikabalkuragi"
             ],
             "properties": {
              "DISPLAY_INFO": 131072
             }
            }
           ],
           [
            {
             "captionPath": [
              "AllMember",
              "EVENTS"
             ],
             "namePath": [
              "AllMember",
              "EVENTS"
             ],
             "properties": {
              "DISPLAY_INFO": 131072
             }
            },
            {
             "captionPath": [
              "AllMember",
              "The T Factor"
             ],
             "namePath": [
              "AllMember",
              "The T Factor"
             ],
             "properties": {
              "DISPLAY_INFO": 131072
             }
            }
           ],
           [
            {
             "captionPath": [
              "AllMember",
              "EVENTS"
             ],
             "namePath": [
              "AllMember",
              "EVENTS"
             ],
             "properties": {
              "DISPLAY_INFO": 131072
             }
            },
            {
             "captionPath": [
              "AllMember",
              "Arab Halls - For Wedding & Events"
             ],
             "namePath": [
              "AllMember",
              "Arab Halls - For Wedding & Events"
             ],
             "properties": {
              "DISPLAY_INFO": 131072
             }
            }
           ],
           [
            {
             "captionPath": [
              "AllMember",
              "EVENTS"
             ],
             "namePath": [
              "AllMember",
              "EVENTS"
             ],
             "properties": {
              "DISPLAY_INFO": 131072
             }
            },
            {
             "captionPath": [
              "AllMember",
              "Prosperity"
             ],
             "namePath": [
              "AllMember",
              "Prosperity"
             ],
             "properties": {
              "DISPLAY_INFO": 131072
             }
            }
           ],
           [
            {
             "captionPath": [
              "AllMember",
              "EVENTS"
             ],
             "namePath": [
              "AllMember",
              "EVENTS"
             ],
             "properties": {
              "DISPLAY_INFO": 131072
             }
            },
            {
             "captionPath": [
              "AllMember",
              "Emmabodafestivalen"
             ],
             "namePath": [
              "AllMember",
              "Emmabodafestivalen"
             ],
             "properties": {
              "DISPLAY_INFO": 131072
             }
            }
           ],
           [
            {
             "captionPath": [
              "AllMember",
              "EVENTS"
             ],
             "namePath": [
              "AllMember",
              "EVENTS"
             ],
             "properties": {
              "DISPLAY_INFO": 131072
             }
            },
            {
             "captionPath": [
              "AllMember",
              "EF Events"
             ],
             "namePath": [
              "AllMember",
              "EF Events"
             ],
             "properties": {
              "DISPLAY_INFO": 131072
             }
            }
           ],
           [
            {
             "captionPath": [
              "AllMember",
              "EVENTS"
             ],
             "namePath": [
              "AllMember",
              "EVENTS"
             ],
             "properties": {
              "DISPLAY_INFO": 131072
             }
            },
            {
             "captionPath": [
              "AllMember",
              "SUMMER SONIC app"
             ],
             "namePath": [
              "AllMember",
              "SUMMER SONIC app"
             ],
             "properties": {
              "DISPLAY_INFO": 131072
             }
            }
           ],
           [
            {
             "captionPath": [
              "AllMember",
              "EVENTS"
             ],
             "namePath": [
              "AllMember",
              "EVENTS"
             ],
             "properties": {
              "DISPLAY_INFO": 131072
             }
            },
            {
             "captionPath": [
              "AllMember",
              "EK Bailey Preaching Conference"
             ],
             "namePath": [
              "AllMember",
              "EK Bailey Preaching Conference"
             ],
             "properties": {
              "DISPLAY_INFO": 131072
             }
            }
           ],
           [
            {
             "captionPath": [
              "AllMember",
              "EVENTS"
             ],
             "namePath": [
              "AllMember",
              "EVENTS"
             ],
             "properties": {
              "DISPLAY_INFO": 131072
             }
            },
            {
             "captionPath": [
              "AllMember",
              "FAST EO"
             ],
             "namePath": [
              "AllMember",
              "FAST EO"
             ],
             "properties": {
              "DISPLAY_INFO": 131072
             }
            }
           ],
           [
            {
             "captionPath": [
              "AllMember",
              "EVENTS"
             ],
             "namePath": [
              "AllMember",
              "EVENTS"
             ],
             "properties": {
              "DISPLAY_INFO": 131072
             }
            },
            {
             "captionPath": [
              "AllMember",
              "Mindvalley U Tallinn 2018"
             ],
             "namePath": [
              "AllMember",
              "Mindvalley U Tallinn 2018"
             ],
             "properties": {
              "DISPLAY_INFO": 131072
             }
            }
           ]
          ]
         }
        ],
        "cells": [
         {
          "formattedValue": "5,677.00",
          "ordinal": 0,
          "properties": {
           "BACK_COLOR": null,
           "FONT_FLAGS": 0,
           "FORE_COLOR": null
          },
          "value": 5677
         },
         {
          "formattedValue": "3,071.00",
          "ordinal": 1,
          "properties": {
           "BACK_COLOR": null,
           "FONT_FLAGS": 0,
           "FORE_COLOR": null
          },
          "value": 3071
         },
         {
          "formattedValue": "30.00",
          "ordinal": 2,
          "properties": {
           "BACK_COLOR": null,
           "FONT_FLAGS": 0,
           "FORE_COLOR": null
          },
          "value": 30
         },
         {
          "formattedValue": "20.00",
          "ordinal": 3,
          "properties": {
           "BACK_COLOR": null,
           "FONT_FLAGS": 0,
           "FORE_COLOR": null
          },
          "value": 20
         },
         {
          "formattedValue": "20.00",
          "ordinal": 4,
          "properties": {
           "BACK_COLOR": null,
           "FONT_FLAGS": 0,
           "FORE_COLOR": null
          },
          "value": 20
         },
         {
          "formattedValue": "7.00",
          "ordinal": 5,
          "properties": {
           "BACK_COLOR": null,
           "FONT_FLAGS": 0,
           "FORE_COLOR": null
          },
          "value": 7
         },
         {
          "formattedValue": "5.00",
          "ordinal": 6,
          "properties": {
           "BACK_COLOR": null,
           "FONT_FLAGS": 0,
           "FORE_COLOR": null
          },
          "value": 5
         },
         {
          "formattedValue": "3.00",
          "ordinal": 7,
          "properties": {
           "BACK_COLOR": null,
           "FONT_FLAGS": 0,
           "FORE_COLOR": null
          },
          "value": 3
         },
         {
          "formattedValue": "2.00",
          "ordinal": 8,
          "properties": {
           "BACK_COLOR": null,
           "FONT_FLAGS": 0,
           "FORE_COLOR": null
          },
          "value": 2
         },
         {
          "formattedValue": "2.00",
          "ordinal": 9,
          "properties": {
           "BACK_COLOR": null,
           "FONT_FLAGS": 0,
           "FORE_COLOR": null
          },
          "value": 2
         },
         {
          "formattedValue": "237,468.00",
          "ordinal": 10,
          "properties": {
           "BACK_COLOR": null,
           "FONT_FLAGS": 0,
           "FORE_COLOR": null
          },
          "value": 237468
         },
         {
          "formattedValue": "34,443.00",
          "ordinal": 11,
          "properties": {
           "BACK_COLOR": null,
           "FONT_FLAGS": 0,
           "FORE_COLOR": null
          },
          "value": 34443
         },
         {
          "formattedValue": "341.00",
          "ordinal": 12,
          "properties": {
           "BACK_COLOR": null,
           "FONT_FLAGS": 0,
           "FORE_COLOR": null
          },
          "value": 341
         },
         {
          "formattedValue": "10.00",
          "ordinal": 13,
          "properties": {
           "BACK_COLOR": null,
           "FONT_FLAGS": 0,
           "FORE_COLOR": null
          },
          "value": 10
         },
         {
          "formattedValue": "8.00",
          "ordinal": 14,
          "properties": {
           "BACK_COLOR": null,
           "FONT_FLAGS": 0,
           "FORE_COLOR": null
          },
          "value": 8
         },
         {
          "formattedValue": "6.00",
          "ordinal": 15,
          "properties": {
           "BACK_COLOR": null,
           "FONT_FLAGS": 0,
           "FORE_COLOR": null
          },
          "value": 6
         },
         {
          "formattedValue": "5.00",
          "ordinal": 16,
          "properties": {
           "BACK_COLOR": null,
           "FONT_FLAGS": 0,
           "FORE_COLOR": null
          },
          "value": 5
         },
         {
          "formattedValue": "3.00",
          "ordinal": 17,
          "properties": {
           "BACK_COLOR": null,
           "FONT_FLAGS": 0,
           "FORE_COLOR": null
          },
          "value": 3
         },
         {
          "formattedValue": "1.00",
          "ordinal": 18,
          "properties": {
           "BACK_COLOR": null,
           "FONT_FLAGS": 0,
           "FORE_COLOR": null
          },
          "value": 1
         },
         {
          "formattedValue": "1.00",
          "ordinal": 19,
          "properties": {
           "BACK_COLOR": null,
           "FONT_FLAGS": 0,
           "FORE_COLOR": null
          },
          "value": 1
         },
         {
          "formattedValue": "14.00",
          "ordinal": 20,
          "properties": {
           "BACK_COLOR": null,
           "FONT_FLAGS": 0,
           "FORE_COLOR": null
          },
          "value": 14
         },
         {
          "formattedValue": "11.00",
          "ordinal": 21,
          "properties": {
           "BACK_COLOR": null,
           "FONT_FLAGS": 0,
           "FORE_COLOR": null
          },
          "value": 11
         },
         {
          "formattedValue": "8.00",
          "ordinal": 22,
          "properties": {
           "BACK_COLOR": null,
           "FONT_FLAGS": 0,
           "FORE_COLOR": null
          },
          "value": 8
         },
         {
          "formattedValue": "7.00",
          "ordinal": 23,
          "properties": {
           "BACK_COLOR": null,
           "FONT_FLAGS": 0,
           "FORE_COLOR": null
          },
          "value": 7
         },
         {
          "formattedValue": "7.00",
          "ordinal": 24,
          "properties": {
           "BACK_COLOR": null,
           "FONT_FLAGS": 0,
           "FORE_COLOR": null
          },
          "value": 7
         },
         {
          "formattedValue": "5.00",
          "ordinal": 25,
          "properties": {
           "BACK_COLOR": null,
           "FONT_FLAGS": 0,
           "FORE_COLOR": null
          },
          "value": 5
         },
         {
          "formattedValue": "4.00",
          "ordinal": 26,
          "properties": {
           "BACK_COLOR": null,
           "FONT_FLAGS": 0,
           "FORE_COLOR": null
          },
          "value": 4
         },
         {
          "formattedValue": "2.00",
          "ordinal": 27,
          "properties": {
           "BACK_COLOR": null,
           "FONT_FLAGS": 0,
           "FORE_COLOR": null
          },
          "value": 2
         },
         {
          "formattedValue": "2.00",
          "ordinal": 28,
          "properties": {
           "BACK_COLOR": null,
           "FONT_FLAGS": 0,
           "FORE_COLOR": null
          },
          "value": 2
         },
         {
          "formattedValue": "1.00",
          "ordinal": 29,
          "properties": {
           "BACK_COLOR": null,
           "FONT_FLAGS": 0,
           "FORE_COLOR": null
          },
          "value": 1
         },
         {
          "formattedValue": "2,588,730.00",
          "ordinal": 30,
          "properties": {
           "BACK_COLOR": null,
           "FONT_FLAGS": 0,
           "FORE_COLOR": null
          },
          "value": 2588730
         },
         {
          "formattedValue": "696,665.00",
          "ordinal": 31,
          "properties": {
           "BACK_COLOR": null,
           "FONT_FLAGS": 0,
           "FORE_COLOR": null
          },
          "value": 696665
         },
         {
          "formattedValue": "332,623.00",
          "ordinal": 32,
          "properties": {
           "BACK_COLOR": null,
           "FONT_FLAGS": 0,
           "FORE_COLOR": null
          },
          "value": 332623
         },
         {
          "formattedValue": "259,003.00",
          "ordinal": 33,
          "properties": {
           "BACK_COLOR": null,
           "FONT_FLAGS": 0,
           "FORE_COLOR": null
          },
          "value": 259003
         },
         {
          "formattedValue": "53,006.00",
          "ordinal": 34,
          "properties": {
           "BACK_COLOR": null,
           "FONT_FLAGS": 0,
           "FORE_COLOR": null
          },
          "value": 53006
         },
         {
          "formattedValue": "8,696.00",
          "ordinal": 35,
          "properties": {
           "BACK_COLOR": null,
           "FONT_FLAGS": 0,
           "FORE_COLOR": null
          },
          "value": 8696
         },
         {
          "formattedValue": "5,639.00",
          "ordinal": 36,
          "properties": {
           "BACK_COLOR": null,
           "FONT_FLAGS": 0,
           "FORE_COLOR": null
          },
          "value": 5639
         },
         {
          "formattedValue": "23.00",
          "ordinal": 37,
          "properties": {
           "BACK_COLOR": null,
           "FONT_FLAGS": 0,
           "FORE_COLOR": null
          },
          "value": 23
         },
         {
          "formattedValue": "18.00",
          "ordinal": 38,
          "properties": {
           "BACK_COLOR": null,
           "FONT_FLAGS": 0,
           "FORE_COLOR": null
          },
          "value": 18
         },
         {
          "formattedValue": "3.00",
          "ordinal": 39,
          "properties": {
           "BACK_COLOR": null,
           "FONT_FLAGS": 0,
           "FORE_COLOR": null
          },
          "value": 3
         },
         {
          "formattedValue": "2,163,282.00",
          "ordinal": 40,
          "properties": {
           "BACK_COLOR": null,
           "FONT_FLAGS": 0,
           "FORE_COLOR": null
          },
          "value": 2163282
         },
         {
          "formattedValue": "109,500.00",
          "ordinal": 41,
          "properties": {
           "BACK_COLOR": null,
           "FONT_FLAGS": 0,
           "FORE_COLOR": null
          },
          "value": 109500
         },
         {
          "formattedValue": "130.00",
          "ordinal": 42,
          "properties": {
           "BACK_COLOR": null,
           "FONT_FLAGS": 0,
           "FORE_COLOR": null
          },
          "value": 130
         },
         {
          "formattedValue": "44.00",
          "ordinal": 43,
          "properties": {
           "BACK_COLOR": null,
           "FONT_FLAGS": 0,
           "FORE_COLOR": null
          },
          "value": 44
         },
         {
          "formattedValue": "13.00",
          "ordinal": 44,
          "properties": {
           "BACK_COLOR": null,
           "FONT_FLAGS": 0,
           "FORE_COLOR": null
          },
          "value": 13
         },
         {
          "formattedValue": "7.00",
          "ordinal": 45,
          "properties": {
           "BACK_COLOR": null,
           "FONT_FLAGS": 0,
           "FORE_COLOR": null
          },
          "value": 7
         },
         {
          "formattedValue": "3.00",
          "ordinal": 46,
          "properties": {
           "BACK_COLOR": null,
           "FONT_FLAGS": 0,
           "FORE_COLOR": null
          },
          "value": 3
         },
         {
          "formattedValue": "2.00",
          "ordinal": 47,
          "properties": {
           "BACK_COLOR": null,
           "FONT_FLAGS": 0,
           "FORE_COLOR": null
          },
          "value": 2
         },
         {
          "formattedValue": "1.00",
          "ordinal": 48,
          "properties": {
           "BACK_COLOR": null,
           "FONT_FLAGS": 0,
           "FORE_COLOR": null
          },
          "value": 1
         },
         {
          "formattedValue": "1.00",
          "ordinal": 49,
          "properties": {
           "BACK_COLOR": null,
           "FONT_FLAGS": 0,
           "FORE_COLOR": null
          },
          "value": 1
         },
         {
          "formattedValue": "2,133,296.00",
          "ordinal": 50,
          "properties": {
           "BACK_COLOR": null,
           "FONT_FLAGS": 0,
           "FORE_COLOR": null
          },
          "value": 2133296
         },
         {
          "formattedValue": "684,116.00",
          "ordinal": 51,
          "properties": {
           "BACK_COLOR": null,
           "FONT_FLAGS": 0,
           "FORE_COLOR": null
          },
          "value": 684116
         },
         {
          "formattedValue": "243,747.00",
          "ordinal": 52,
          "properties": {
           "BACK_COLOR": null,
           "FONT_FLAGS": 0,
           "FORE_COLOR": null
          },
          "value": 243747
         },
         {
          "formattedValue": "50,725.00",
          "ordinal": 53,
          "properties": {
           "BACK_COLOR": null,
           "FONT_FLAGS": 0,
           "FORE_COLOR": null
          },
          "value": 50725
         },
         {
          "formattedValue": "22,508.00",
          "ordinal": 54,
          "properties": {
           "BACK_COLOR": null,
           "FONT_FLAGS": 0,
           "FORE_COLOR": null
          },
          "value": 22508
         },
         {
          "formattedValue": "11,661.00",
          "ordinal": 55,
          "properties": {
           "BACK_COLOR": null,
           "FONT_FLAGS": 0,
           "FORE_COLOR": null
          },
          "value": 11661
         },
         {
          "formattedValue": "6,238.00",
          "ordinal": 56,
          "properties": {
           "BACK_COLOR": null,
           "FONT_FLAGS": 0,
           "FORE_COLOR": null
          },
          "value": 6238
         },
         {
          "formattedValue": "3,771.00",
          "ordinal": 57,
          "properties": {
           "BACK_COLOR": null,
           "FONT_FLAGS": 0,
           "FORE_COLOR": null
          },
          "value": 3771
         },
         {
          "formattedValue": "1,575.00",
          "ordinal": 58,
          "properties": {
           "BACK_COLOR": null,
           "FONT_FLAGS": 0,
           "FORE_COLOR": null
          },
          "value": 1575
         },
         {
          "formattedValue": "732.00",
          "ordinal": 59,
          "properties": {
           "BACK_COLOR": null,
           "FONT_FLAGS": 0,
           "FORE_COLOR": null
          },
          "value": 732
         },
         {
          "formattedValue": "47.00",
          "ordinal": 60,
          "properties": {
           "BACK_COLOR": null,
           "FONT_FLAGS": 0,
           "FORE_COLOR": null
          },
          "value": 47
         },
         {
          "formattedValue": "36.00",
          "ordinal": 61,
          "properties": {
           "BACK_COLOR": null,
           "FONT_FLAGS": 0,
           "FORE_COLOR": null
          },
          "value": 36
         },
         {
          "formattedValue": "6.00",
          "ordinal": 62,
          "properties": {
           "BACK_COLOR": null,
           "FONT_FLAGS": 0,
           "FORE_COLOR": null
          },
          "value": 6
         },
         {
          "formattedValue": "5.00",
          "ordinal": 63,
          "properties": {
           "BACK_COLOR": null,
           "FONT_FLAGS": 0,
           "FORE_COLOR": null
          },
          "value": 5
         },
         {
          "formattedValue": "5.00",
          "ordinal": 64,
          "properties": {
           "BACK_COLOR": null,
           "FONT_FLAGS": 0,
           "FORE_COLOR": null
          },
          "value": 5
         },
         {
          "formattedValue": "2.00",
          "ordinal": 65,
          "properties": {
           "BACK_COLOR": null,
           "FONT_FLAGS": 0,
           "FORE_COLOR": null
          },
          "value": 2
         },
         {
          "formattedValue": "2.00",
          "ordinal": 66,
          "properties": {
           "BACK_COLOR": null,
           "FONT_FLAGS": 0,
           "FORE_COLOR": null
          },
          "value": 2
         },
         {
          "formattedValue": "2.00",
          "ordinal": 67,
          "properties": {
           "BACK_COLOR": null,
           "FONT_FLAGS": 0,
           "FORE_COLOR": null
          },
          "value": 2
         },
         {
          "formattedValue": "2.00",
          "ordinal": 68,
          "properties": {
           "BACK_COLOR": null,
           "FONT_FLAGS": 0,
           "FORE_COLOR": null
          },
          "value": 2
         },
         {
          "formattedValue": "1.00",
          "ordinal": 69,
          "properties": {
           "BACK_COLOR": null,
           "FONT_FLAGS": 0,
           "FORE_COLOR": null
          },
          "value": 1
         },
         {
          "formattedValue": "67,071.00",
          "ordinal": 70,
          "properties": {
           "BACK_COLOR": null,
           "FONT_FLAGS": 0,
           "FORE_COLOR": null
          },
          "value": 67071
         },
         {
          "formattedValue": "21.00",
          "ordinal": 71,
          "properties": {
           "BACK_COLOR": null,
           "FONT_FLAGS": 0,
           "FORE_COLOR": null
          },
          "value": 21
         },
         {
          "formattedValue": "14.00",
          "ordinal": 72,
          "properties": {
           "BACK_COLOR": null,
           "FONT_FLAGS": 0,
           "FORE_COLOR": null
          },
          "value": 14
         },
         {
          "formattedValue": "13.00",
          "ordinal": 73,
          "properties": {
           "BACK_COLOR": null,
           "FONT_FLAGS": 0,
           "FORE_COLOR": null
          },
          "value": 13
         },
         {
          "formattedValue": "10.00",
          "ordinal": 74,
          "properties": {
           "BACK_COLOR": null,
           "FONT_FLAGS": 0,
           "FORE_COLOR": null
          },
          "value": 10
         },
         {
          "formattedValue": "9.00",
          "ordinal": 75,
          "properties": {
           "BACK_COLOR": null,
           "FONT_FLAGS": 0,
           "FORE_COLOR": null
          },
          "value": 9
         },
         {
          "formattedValue": "4.00",
          "ordinal": 76,
          "properties": {
           "BACK_COLOR": null,
           "FONT_FLAGS": 0,
           "FORE_COLOR": null
          },
          "value": 4
         },
         {
          "formattedValue": "2.00",
          "ordinal": 77,
          "properties": {
           "BACK_COLOR": null,
           "FONT_FLAGS": 0,
           "FORE_COLOR": null
          },
          "value": 2
         },
         {
          "formattedValue": "1.00",
          "ordinal": 78,
          "properties": {
           "BACK_COLOR": null,
           "FONT_FLAGS": 0,
           "FORE_COLOR": null
          },
          "value": 1
         },
         {
          "formattedValue": "1.00",
          "ordinal": 79,
          "properties": {
           "BACK_COLOR": null,
           "FONT_FLAGS": 0,
           "FORE_COLOR": null
          },
          "value": 1
         },
         {
          "formattedValue": "15,883.00",
          "ordinal": 80,
          "properties": {
           "BACK_COLOR": null,
           "FONT_FLAGS": 0,
           "FORE_COLOR": null
          },
          "value": 15883
         },
         {
          "formattedValue": "1,660.00",
          "ordinal": 81,
          "properties": {
           "BACK_COLOR": null,
           "FONT_FLAGS": 0,
           "FORE_COLOR": null
          },
          "value": 1660
         },
         {
          "formattedValue": "1,420.00",
          "ordinal": 82,
          "properties": {
           "BACK_COLOR": null,
           "FONT_FLAGS": 0,
           "FORE_COLOR": null
          },
          "value": 1420
         },
         {
          "formattedValue": "1,211.00",
          "ordinal": 83,
          "properties": {
           "BACK_COLOR": null,
           "FONT_FLAGS": 0,
           "FORE_COLOR": null
          },
          "value": 1211
         },
         {
          "formattedValue": "195.00",
          "ordinal": 84,
          "properties": {
           "BACK_COLOR": null,
           "FONT_FLAGS": 0,
           "FORE_COLOR": null
          },
          "value": 195
         },
         {
          "formattedValue": "36.00",
          "ordinal": 85,
          "properties": {
           "BACK_COLOR": null,
           "FONT_FLAGS": 0,
           "FORE_COLOR": null
          },
          "value": 36
         },
         {
          "formattedValue": "17.00",
          "ordinal": 86,
          "properties": {
           "BACK_COLOR": null,
           "FONT_FLAGS": 0,
           "FORE_COLOR": null
          },
          "value": 17
         },
         {
          "formattedValue": "10.00",
          "ordinal": 87,
          "properties": {
           "BACK_COLOR": null,
           "FONT_FLAGS": 0,
           "FORE_COLOR": null
          },
          "value": 10
         },
         {
          "formattedValue": "7.00",
          "ordinal": 88,
          "properties": {
           "BACK_COLOR": null,
           "FONT_FLAGS": 0,
           "FORE_COLOR": null
          },
          "value": 7
         },
         {
          "formattedValue": "1.00",
          "ordinal": 89,
          "properties": {
           "BACK_COLOR": null,
           "FONT_FLAGS": 0,
           "FORE_COLOR": null
          },
          "value": 1
         },
         {
          "formattedValue": "90.00",
          "ordinal": 90,
          "properties": {
           "BACK_COLOR": null,
           "FONT_FLAGS": 0,
           "FORE_COLOR": null
          },
          "value": 90
         },
         {
          "formattedValue": "22.00",
          "ordinal": 91,
          "properties": {
           "BACK_COLOR": null,
           "FONT_FLAGS": 0,
           "FORE_COLOR": null
          },
          "value": 22
         },
         {
          "formattedValue": "15.00",
          "ordinal": 92,
          "properties": {
           "BACK_COLOR": null,
           "FONT_FLAGS": 0,
           "FORE_COLOR": null
          },
          "value": 15
         },
         {
          "formattedValue": "10.00",
          "ordinal": 93,
          "properties": {
           "BACK_COLOR": null,
           "FONT_FLAGS": 0,
           "FORE_COLOR": null
          },
          "value": 10
         },
         {
          "formattedValue": "8.00",
          "ordinal": 94,
          "properties": {
           "BACK_COLOR": null,
           "FONT_FLAGS": 0,
           "FORE_COLOR": null
          },
          "value": 8
         },
         {
          "formattedValue": "4.00",
          "ordinal": 95,
          "properties": {
           "BACK_COLOR": null,
           "FONT_FLAGS": 0,
           "FORE_COLOR": null
          },
          "value": 4
         },
         {
          "formattedValue": "4.00",
          "ordinal": 96,
          "properties": {
           "BACK_COLOR": null,
           "FONT_FLAGS": 0,
           "FORE_COLOR": null
          },
          "value": 4
         },
         {
          "formattedValue": "3.00",
          "ordinal": 97,
          "properties": {
           "BACK_COLOR": null,
           "FONT_FLAGS": 0,
           "FORE_COLOR": null
          },
          "value": 3
         },
         {
          "formattedValue": "3.00",
          "ordinal": 98,
          "properties": {
           "BACK_COLOR": null,
           "FONT_FLAGS": 0,
           "FORE_COLOR": null
          },
          "value": 3
         },
         {
          "formattedValue": "1.00",
          "ordinal": 99,
          "properties": {
           "BACK_COLOR": null,
           "FONT_FLAGS": 0,
           "FORE_COLOR": null
          },
          "value": 1
         },
         {
          "formattedValue": "981,995.00",
          "ordinal": 100,
          "properties": {
           "BACK_COLOR": null,
           "FONT_FLAGS": 0,
           "FORE_COLOR": null
          },
          "value": 981995
         },
         {
          "formattedValue": "159,455.00",
          "ordinal": 101,
          "properties": {
           "BACK_COLOR": null,
           "FONT_FLAGS": 0,
           "FORE_COLOR": null
          },
          "value": 159455
         },
         {
          "formattedValue": "89,868.00",
          "ordinal": 102,
          "properties": {
           "BACK_COLOR": null,
           "FONT_FLAGS": 0,
           "FORE_COLOR": null
          },
          "value": 89868
         },
         {
          "formattedValue": "36,900.00",
          "ordinal": 103,
          "properties": {
           "BACK_COLOR": null,
           "FONT_FLAGS": 0,
           "FORE_COLOR": null
          },
          "value": 36900
         },
         {
          "formattedValue": "20,001.00",
          "ordinal": 104,
          "properties": {
           "BACK_COLOR": null,
           "FONT_FLAGS": 0,
           "FORE_COLOR": null
          },
          "value": 20001
         },
         {
          "formattedValue": "17,493.00",
          "ordinal": 105,
          "properties": {
           "BACK_COLOR": null,
           "FONT_FLAGS": 0,
           "FORE_COLOR": null
          },
          "value": 17493
         },
         {
          "formattedValue": "14,051.00",
          "ordinal": 106,
          "properties": {
           "BACK_COLOR": null,
           "FONT_FLAGS": 0,
           "FORE_COLOR": null
          },
          "value": 14051
         },
         {
          "formattedValue": "11,118.00",
          "ordinal": 107,
          "properties": {
           "BACK_COLOR": null,
           "FONT_FLAGS": 0,
           "FORE_COLOR": null
          },
          "value": 11118
         },
         {
          "formattedValue": "3,963.00",
          "ordinal": 108,
          "properties": {
           "BACK_COLOR": null,
           "FONT_FLAGS": 0,
           "FORE_COLOR": null
          },
          "value": 3963
         },
         {
          "formattedValue": "892.00",
          "ordinal": 109,
          "properties": {
           "BACK_COLOR": null,
           "FONT_FLAGS": 0,
           "FORE_COLOR": null
          },
          "value": 892
         },
         {
          "formattedValue": "43.00",
          "ordinal": 110,
          "properties": {
           "BACK_COLOR": null,
           "FONT_FLAGS": 0,
           "FORE_COLOR": null
          },
          "value": 43
         },
         {
          "formattedValue": "42.00",
          "ordinal": 111,
          "properties": {
           "BACK_COLOR": null,
           "FONT_FLAGS": 0,
           "FORE_COLOR": null
          },
          "value": 42
         },
         {
          "formattedValue": "17.00",
          "ordinal": 112,
          "properties": {
           "BACK_COLOR": null,
           "FONT_FLAGS": 0,
           "FORE_COLOR": null
          },
          "value": 17
         },
         {
          "formattedValue": "9.00",
          "ordinal": 113,
          "properties": {
           "BACK_COLOR": null,
           "FONT_FLAGS": 0,
           "FORE_COLOR": null
          },
          "value": 9
         },
         {
          "formattedValue": "8.00",
          "ordinal": 114,
          "properties": {
           "BACK_COLOR": null,
           "FONT_FLAGS": 0,
           "FORE_COLOR": null
          },
          "value": 8
         },
         {
          "formattedValue": "5.00",
          "ordinal": 115,
          "properties": {
           "BACK_COLOR": null,
           "FONT_FLAGS": 0,
           "FORE_COLOR": null
          },
          "value": 5
         },
         {
          "formattedValue": "3.00",
          "ordinal": 116,
          "properties": {
           "BACK_COLOR": null,
           "FONT_FLAGS": 0,
           "FORE_COLOR": null
          },
          "value": 3
         },
         {
          "formattedValue": "3.00",
          "ordinal": 117,
          "properties": {
           "BACK_COLOR": null,
           "FONT_FLAGS": 0,
           "FORE_COLOR": null
          },
          "value": 3
         },
         {
          "formattedValue": "2.00",
          "ordinal": 118,
          "properties": {
           "BACK_COLOR": null,
           "FONT_FLAGS": 0,
           "FORE_COLOR": null
          },
          "value": 2
         },
         {
          "formattedValue": "1.00",
          "ordinal": 119,
          "properties": {
           "BACK_COLOR": null,
           "FONT_FLAGS": 0,
           "FORE_COLOR": null
          },
          "value": 1
         },
         {
          "formattedValue": "13.00",
          "ordinal": 120,
          "properties": {
           "BACK_COLOR": null,
           "FONT_FLAGS": 0,
           "FORE_COLOR": null
          },
          "value": 13
         },
         {
          "formattedValue": "5.00",
          "ordinal": 121,
          "properties": {
           "BACK_COLOR": null,
           "FONT_FLAGS": 0,
           "FORE_COLOR": null
          },
          "value": 5
         },
         {
          "formattedValue": "4.00",
          "ordinal": 122,
          "properties": {
           "BACK_COLOR": null,
           "FONT_FLAGS": 0,
           "FORE_COLOR": null
          },
          "value": 4
         },
         {
          "formattedValue": "4.00",
          "ordinal": 123,
          "properties": {
           "BACK_COLOR": null,
           "FONT_FLAGS": 0,
           "FORE_COLOR": null
          },
          "value": 4
         },
         {
          "formattedValue": "4.00",
          "ordinal": 124,
          "properties": {
           "BACK_COLOR": null,
           "FONT_FLAGS": 0,
           "FORE_COLOR": null
          },
          "value": 4
         },
         {
          "formattedValue": "4.00",
          "ordinal": 125,
          "properties": {
           "BACK_COLOR": null,
           "FONT_FLAGS": 0,
           "FORE_COLOR": null
          },
          "value": 4
         },
         {
          "formattedValue": "3.00",
          "ordinal": 126,
          "properties": {
           "BACK_COLOR": null,
           "FONT_FLAGS": 0,
           "FORE_COLOR": null
          },
          "value": 3
         },
         {
          "formattedValue": "2.00",
          "ordinal": 127,
          "properties": {
           "BACK_COLOR": null,
           "FONT_FLAGS": 0,
           "FORE_COLOR": null
          },
          "value": 2
         },
         {
          "formattedValue": "1.00",
          "ordinal": 128,
          "properties": {
           "BACK_COLOR": null,
           "FONT_FLAGS": 0,
           "FORE_COLOR": null
          },
          "value": 1
         },
         {
          "formattedValue": "1.00",
          "ordinal": 129,
          "properties": {
           "BACK_COLOR": null,
           "FONT_FLAGS": 0,
           "FORE_COLOR": null
          },
          "value": 1
         },
         {
          "formattedValue": "7,232,629.00",
          "ordinal": 130,
          "properties": {
           "BACK_COLOR": null,
           "FONT_FLAGS": 0,
           "FORE_COLOR": null
          },
          "value": 7232629
         },
         {
          "formattedValue": "162,049.00",
          "ordinal": 131,
          "properties": {
           "BACK_COLOR": null,
           "FONT_FLAGS": 0,
           "FORE_COLOR": null
          },
          "value": 162049
         },
         {
          "formattedValue": "38,375.00",
          "ordinal": 132,
          "properties": {
           "BACK_COLOR": null,
           "FONT_FLAGS": 0,
           "FORE_COLOR": null
          },
          "value": 38375
         },
         {
          "formattedValue": "16,094.00",
          "ordinal": 133,
          "properties": {
           "BACK_COLOR": null,
           "FONT_FLAGS": 0,
           "FORE_COLOR": null
          },
          "value": 16094
         },
         {
          "formattedValue": "15,865.00",
          "ordinal": 134,
          "properties": {
           "BACK_COLOR": null,
           "FONT_FLAGS": 0,
           "FORE_COLOR": null
          },
          "value": 15865
         },
         {
          "formattedValue": "4,501.00",
          "ordinal": 135,
          "properties": {
           "BACK_COLOR": null,
           "FONT_FLAGS": 0,
           "FORE_COLOR": null
          },
          "value": 4501
         },
         {
          "formattedValue": "2,681.00",
          "ordinal": 136,
          "properties": {
           "BACK_COLOR": null,
           "FONT_FLAGS": 0,
           "FORE_COLOR": null
          },
          "value": 2681
         },
         {
          "formattedValue": "124.00",
          "ordinal": 137,
          "properties": {
           "BACK_COLOR": null,
           "FONT_FLAGS": 0,
           "FORE_COLOR": null
          },
          "value": 124
         },
         {
          "formattedValue": "49.00",
          "ordinal": 138,
          "properties": {
           "BACK_COLOR": null,
           "FONT_FLAGS": 0,
           "FORE_COLOR": null
          },
          "value": 49
         },
         {
          "formattedValue": "10.00",
          "ordinal": 139,
          "properties": {
           "BACK_COLOR": null,
           "FONT_FLAGS": 0,
           "FORE_COLOR": null
          },
          "value": 10
         },
         {
          "formattedValue": "1,830,388.00",
          "ordinal": 140,
          "properties": {
           "BACK_COLOR": null,
           "FONT_FLAGS": 0,
           "FORE_COLOR": null
          },
          "value": 1830388
         },
         {
          "formattedValue": "43,054.00",
          "ordinal": 141,
          "properties": {
           "BACK_COLOR": null,
           "FONT_FLAGS": 0,
           "FORE_COLOR": null
          },
          "value": 43054
         },
         {
          "formattedValue": "17,882.00",
          "ordinal": 142,
          "properties": {
           "BACK_COLOR": null,
           "FONT_FLAGS": 0,
           "FORE_COLOR": null
          },
          "value": 17882
         },
         {
          "formattedValue": "9,971.00",
          "ordinal": 143,
          "properties": {
           "BACK_COLOR": null,
           "FONT_FLAGS": 0,
           "FORE_COLOR": null
          },
          "value": 9971
         },
         {
          "formattedValue": "213.00",
          "ordinal": 144,
          "properties": {
           "BACK_COLOR": null,
           "FONT_FLAGS": 0,
           "FORE_COLOR": null
          },
          "value": 213
         },
         {
          "formattedValue": "89.00",
          "ordinal": 145,
          "properties": {
           "BACK_COLOR": null,
           "FONT_FLAGS": 0,
           "FORE_COLOR": null
          },
          "value": 89
         },
         {
          "formattedValue": "57.00",
          "ordinal": 146,
          "properties": {
           "BACK_COLOR": null,
           "FONT_FLAGS": 0,
           "FORE_COLOR": null
          },
          "value": 57
         },
         {
          "formattedValue": "6.00",
          "ordinal": 147,
          "properties": {
           "BACK_COLOR": null,
           "FONT_FLAGS": 0,
           "FORE_COLOR": null
          },
          "value": 6
         },
         {
          "formattedValue": "3.00",
          "ordinal": 148,
          "properties": {
           "BACK_COLOR": null,
           "FONT_FLAGS": 0,
           "FORE_COLOR": null
          },
          "value": 3
         },
         {
          "formattedValue": "3.00",
          "ordinal": 149,
          "properties": {
           "BACK_COLOR": null,
           "FONT_FLAGS": 0,
           "FORE_COLOR": null
          },
          "value": 3
         },
         {
          "formattedValue": "1,107,948.00",
          "ordinal": 150,
          "properties": {
           "BACK_COLOR": null,
           "FONT_FLAGS": 0,
           "FORE_COLOR": null
          },
          "value": 1107948
         },
         {
          "formattedValue": "314,300.00",
          "ordinal": 151,
          "properties": {
           "BACK_COLOR": null,
           "FONT_FLAGS": 0,
           "FORE_COLOR": null
          },
          "value": 314300
         },
         {
          "formattedValue": "256,079.00",
          "ordinal": 152,
          "properties": {
           "BACK_COLOR": null,
           "FONT_FLAGS": 0,
           "FORE_COLOR": null
          },
          "value": 256079
         },
         {
          "formattedValue": "133,136.00",
          "ordinal": 153,
          "properties": {
           "BACK_COLOR": null,
           "FONT_FLAGS": 0,
           "FORE_COLOR": null
          },
          "value": 133136
         },
         {
          "formattedValue": "61,749.00",
          "ordinal": 154,
          "properties": {
           "BACK_COLOR": null,
           "FONT_FLAGS": 0,
           "FORE_COLOR": null
          },
          "value": 61749
         },
         {
          "formattedValue": "31,085.00",
          "ordinal": 155,
          "properties": {
           "BACK_COLOR": null,
           "FONT_FLAGS": 0,
           "FORE_COLOR": null
          },
          "value": 31085
         },
         {
          "formattedValue": "4,075.00",
          "ordinal": 156,
          "properties": {
           "BACK_COLOR": null,
           "FONT_FLAGS": 0,
           "FORE_COLOR": null
          },
          "value": 4075
         },
         {
          "formattedValue": "3,528.00",
          "ordinal": 157,
          "properties": {
           "BACK_COLOR": null,
           "FONT_FLAGS": 0,
           "FORE_COLOR": null
          },
          "value": 3528
         },
         {
          "formattedValue": "21.00",
          "ordinal": 158,
          "properties": {
           "BACK_COLOR": null,
           "FONT_FLAGS": 0,
           "FORE_COLOR": null
          },
          "value": 21
         },
         {
          "formattedValue": "11.00",
          "ordinal": 159,
          "properties": {
           "BACK_COLOR": null,
           "FONT_FLAGS": 0,
           "FORE_COLOR": null
          },
          "value": 11
         },
         {
          "formattedValue": "198.00",
          "ordinal": 160,
          "properties": {
           "BACK_COLOR": null,
           "FONT_FLAGS": 0,
           "FORE_COLOR": null
          },
          "value": 198
         },
         {
          "formattedValue": "43.00",
          "ordinal": 161,
          "properties": {
           "BACK_COLOR": null,
           "FONT_FLAGS": 0,
           "FORE_COLOR": null
          },
          "value": 43
         },
         {
          "formattedValue": "34.00",
          "ordinal": 162,
          "properties": {
           "BACK_COLOR": null,
           "FONT_FLAGS": 0,
           "FORE_COLOR": null
          },
          "value": 34
         },
         {
          "formattedValue": "22.00",
          "ordinal": 163,
          "properties": {
           "BACK_COLOR": null,
           "FONT_FLAGS": 0,
           "FORE_COLOR": null
          },
          "value": 22
         },
         {
          "formattedValue": "10.00",
          "ordinal": 164,
          "properties": {
           "BACK_COLOR": null,
           "FONT_FLAGS": 0,
           "FORE_COLOR": null
          },
          "value": 10
         },
         {
          "formattedValue": "9.00",
          "ordinal": 165,
          "properties": {
           "BACK_COLOR": null,
           "FONT_FLAGS": 0,
           "FORE_COLOR": null
          },
          "value": 9
         },
         {
          "formattedValue": "4.00",
          "ordinal": 166,
          "properties": {
           "BACK_COLOR": null,
           "FONT_FLAGS": 0,
           "FORE_COLOR": null
          },
          "value": 4
         },
         {
          "formattedValue": "4.00",
          "ordinal": 167,
          "properties": {
           "BACK_COLOR": null,
           "FONT_FLAGS": 0,
           "FORE_COLOR": null
          },
          "value": 4
         },
         {
          "formattedValue": "3.00",
          "ordinal": 168,
          "properties": {
           "BACK_COLOR": null,
           "FONT_FLAGS": 0,
           "FORE_COLOR": null
          },
          "value": 3
         },
         {
          "formattedValue": "3.00",
          "ordinal": 169,
          "properties": {
           "BACK_COLOR": null,
           "FONT_FLAGS": 0,
           "FORE_COLOR": null
          },
          "value": 3
         },
         {
          "formattedValue": "922,752.00",
          "ordinal": 170,
          "properties": {
           "BACK_COLOR": null,
           "FONT_FLAGS": 0,
           "FORE_COLOR": null
          },
          "value": 922752
         },
         {
          "formattedValue": "2,739.00",
          "ordinal": 171,
          "properties": {
           "BACK_COLOR": null,
           "FONT_FLAGS": 0,
           "FORE_COLOR": null
          },
          "value": 2739
         },
         {
          "formattedValue": "659.00",
          "ordinal": 172,
          "properties": {
           "BACK_COLOR": null,
           "FONT_FLAGS": 0,
           "FORE_COLOR": null
          },
          "value": 659
         },
         {
          "formattedValue": "122.00",
          "ordinal": 173,
          "properties": {
           "BACK_COLOR": null,
           "FONT_FLAGS": 0,
           "FORE_COLOR": null
          },
          "value": 122
         },
         {
          "formattedValue": "23.00",
          "ordinal": 174,
          "properties": {
           "BACK_COLOR": null,
           "FONT_FLAGS": 0,
           "FORE_COLOR": null
          },
          "value": 23
         },
         {
          "formattedValue": "12.00",
          "ordinal": 175,
          "properties": {
           "BACK_COLOR": null,
           "FONT_FLAGS": 0,
           "FORE_COLOR": null
          },
          "value": 12
         },
         {
          "formattedValue": "5.00",
          "ordinal": 176,
          "properties": {
           "BACK_COLOR": null,
           "FONT_FLAGS": 0,
           "FORE_COLOR": null
          },
          "value": 5
         },
         {
          "formattedValue": "5.00",
          "ordinal": 177,
          "properties": {
           "BACK_COLOR": null,
           "FONT_FLAGS": 0,
           "FORE_COLOR": null
          },
          "value": 5
         },
         {
          "formattedValue": "4.00",
          "ordinal": 178,
          "properties": {
           "BACK_COLOR": null,
           "FONT_FLAGS": 0,
           "FORE_COLOR": null
          },
          "value": 4
         },
         {
          "formattedValue": "2.00",
          "ordinal": 179,
          "properties": {
           "BACK_COLOR": null,
           "FONT_FLAGS": 0,
           "FORE_COLOR": null
          },
          "value": 2
         },
         {
          "formattedValue": "18.00",
          "ordinal": 180,
          "properties": {
           "BACK_COLOR": null,
           "FONT_FLAGS": 0,
           "FORE_COLOR": null
          },
          "value": 18
         },
         {
          "formattedValue": "6.00",
          "ordinal": 181,
          "properties": {
           "BACK_COLOR": null,
           "FONT_FLAGS": 0,
           "FORE_COLOR": null
          },
          "value": 6
         },
         {
          "formattedValue": "5.00",
          "ordinal": 182,
          "properties": {
           "BACK_COLOR": null,
           "FONT_FLAGS": 0,
           "FORE_COLOR": null
          },
          "value": 5
         },
         {
          "formattedValue": "5.00",
          "ordinal": 183,
          "properties": {
           "BACK_COLOR": null,
           "FONT_FLAGS": 0,
           "FORE_COLOR": null
          },
          "value": 5
         },
         {
          "formattedValue": "4.00",
          "ordinal": 184,
          "properties": {
           "BACK_COLOR": null,
           "FONT_FLAGS": 0,
           "FORE_COLOR": null
          },
          "value": 4
         },
         {
          "formattedValue": "4.00",
          "ordinal": 185,
          "properties": {
           "BACK_COLOR": null,
           "FONT_FLAGS": 0,
           "FORE_COLOR": null
          },
          "value": 4
         },
         {
          "formattedValue": "3.00",
          "ordinal": 186,
          "properties": {
           "BACK_COLOR": null,
           "FONT_FLAGS": 0,
           "FORE_COLOR": null
          },
          "value": 3
         },
         {
          "formattedValue": "2.00",
          "ordinal": 187,
          "properties": {
           "BACK_COLOR": null,
           "FONT_FLAGS": 0,
           "FORE_COLOR": null
          },
          "value": 2
         },
         {
          "formattedValue": "1.00",
          "ordinal": 188,
          "properties": {
           "BACK_COLOR": null,
           "FONT_FLAGS": 0,
           "FORE_COLOR": null
          },
          "value": 1
         },
         {
          "formattedValue": "1.00",
          "ordinal": 189,
          "properties": {
           "BACK_COLOR": null,
           "FONT_FLAGS": 0,
           "FORE_COLOR": null
          },
          "value": 1
         },
         {
          "formattedValue": "611,136.00",
          "ordinal": 190,
          "properties": {
           "BACK_COLOR": null,
           "FONT_FLAGS": 0,
           "FORE_COLOR": null
          },
          "value": 611136
         },
         {
          "formattedValue": "129,737.00",
          "ordinal": 191,
          "properties": {
           "BACK_COLOR": null,
           "FONT_FLAGS": 0,
           "FORE_COLOR": null
          },
          "value": 129737
         },
         {
          "formattedValue": "51,543.00",
          "ordinal": 192,
          "properties": {
           "BACK_COLOR": null,
           "FONT_FLAGS": 0,
           "FORE_COLOR": null
          },
          "value": 51543
         },
         {
          "formattedValue": "14,065.00",
          "ordinal": 193,
          "properties": {
           "BACK_COLOR": null,
           "FONT_FLAGS": 0,
           "FORE_COLOR": null
          },
          "value": 14065
         },
         {
          "formattedValue": "6,118.00",
          "ordinal": 194,
          "properties": {
           "BACK_COLOR": null,
           "FONT_FLAGS": 0,
           "FORE_COLOR": null
          },
          "value": 6118
         },
         {
          "formattedValue": "2,707.00",
          "ordinal": 195,
          "properties": {
           "BACK_COLOR": null,
           "FONT_FLAGS": 0,
           "FORE_COLOR": null
          },
          "value": 2707
         },
         {
          "formattedValue": "1,250.00",
          "ordinal": 196,
          "properties": {
           "BACK_COLOR": null,
           "FONT_FLAGS": 0,
           "FORE_COLOR": null
          },
          "value": 1250
         },
         {
          "formattedValue": "18.00",
          "ordinal": 197,
          "properties": {
           "BACK_COLOR": null,
           "FONT_FLAGS": 0,
           "FORE_COLOR": null
          },
          "value": 18
         },
         {
          "formattedValue": "2.00",
          "ordinal": 198,
          "properties": {
           "BACK_COLOR": null,
           "FONT_FLAGS": 0,
           "FORE_COLOR": null
          },
          "value": 2
         },
         {
          "formattedValue": "1.00",
          "ordinal": 199,
          "properties": {
           "BACK_COLOR": null,
           "FONT_FLAGS": 0,
           "FORE_COLOR": null
          },
          "value": 1
         },
         {
          "formattedValue": "57,106.00",
          "ordinal": 200,
          "properties": {
           "BACK_COLOR": null,
           "FONT_FLAGS": 0,
           "FORE_COLOR": null
          },
          "value": 57106
         },
         {
          "formattedValue": "33,783.00",
          "ordinal": 201,
          "properties": {
           "BACK_COLOR": null,
           "FONT_FLAGS": 0,
           "FORE_COLOR": null
          },
          "value": 33783
         },
         {
          "formattedValue": "3,596.00",
          "ordinal": 202,
          "properties": {
           "BACK_COLOR": null,
           "FONT_FLAGS": 0,
           "FORE_COLOR": null
          },
          "value": 3596
         },
         {
          "formattedValue": "2,249.00",
          "ordinal": 203,
          "properties": {
           "BACK_COLOR": null,
           "FONT_FLAGS": 0,
           "FORE_COLOR": null
          },
          "value": 2249
         },
         {
          "formattedValue": "1,677.00",
          "ordinal": 204,
          "properties": {
           "BACK_COLOR": null,
           "FONT_FLAGS": 0,
           "FORE_COLOR": null
          },
          "value": 1677
         },
         {
          "formattedValue": "516.00",
          "ordinal": 205,
          "properties": {
           "BACK_COLOR": null,
           "FONT_FLAGS": 0,
           "FORE_COLOR": null
          },
          "value": 516
         },
         {
          "formattedValue": "279.00",
          "ordinal": 206,
          "properties": {
           "BACK_COLOR": null,
           "FONT_FLAGS": 0,
           "FORE_COLOR": null
          },
          "value": 279
         },
         {
          "formattedValue": "73.00",
          "ordinal": 207,
          "properties": {
           "BACK_COLOR": null,
           "FONT_FLAGS": 0,
           "FORE_COLOR": null
          },
          "value": 73
         },
         {
          "formattedValue": "34.00",
          "ordinal": 208,
          "properties": {
           "BACK_COLOR": null,
           "FONT_FLAGS": 0,
           "FORE_COLOR": null
          },
          "value": 34
         },
         {
          "formattedValue": "15.00",
          "ordinal": 209,
          "properties": {
           "BACK_COLOR": null,
           "FONT_FLAGS": 0,
           "FORE_COLOR": null
          },
          "value": 15
         },
         {
          "formattedValue": "104.00",
          "ordinal": 210,
          "properties": {
           "BACK_COLOR": null,
           "FONT_FLAGS": 0,
           "FORE_COLOR": null
          },
          "value": 104
         },
         {
          "formattedValue": "12.00",
          "ordinal": 211,
          "properties": {
           "BACK_COLOR": null,
           "FONT_FLAGS": 0,
           "FORE_COLOR": null
          },
          "value": 12
         },
         {
          "formattedValue": "8.00",
          "ordinal": 212,
          "properties": {
           "BACK_COLOR": null,
           "FONT_FLAGS": 0,
           "FORE_COLOR": null
          },
          "value": 8
         },
         {
          "formattedValue": "7.00",
          "ordinal": 213,
          "properties": {
           "BACK_COLOR": null,
           "FONT_FLAGS": 0,
           "FORE_COLOR": null
          },
          "value": 7
         },
         {
          "formattedValue": "4.00",
          "ordinal": 214,
          "properties": {
           "BACK_COLOR": null,
           "FONT_FLAGS": 0,
           "FORE_COLOR": null
          },
          "value": 4
         },
         {
          "formattedValue": "4.00",
          "ordinal": 215,
          "properties": {
           "BACK_COLOR": null,
           "FONT_FLAGS": 0,
           "FORE_COLOR": null
          },
          "value": 4
         },
         {
          "formattedValue": "4.00",
          "ordinal": 216,
          "properties": {
           "BACK_COLOR": null,
           "FONT_FLAGS": 0,
           "FORE_COLOR": null
          },
          "value": 4
         },
         {
          "formattedValue": "2.00",
          "ordinal": 217,
          "properties": {
           "BACK_COLOR": null,
           "FONT_FLAGS": 0,
           "FORE_COLOR": null
          },
          "value": 2
         },
         {
          "formattedValue": "2.00",
          "ordinal": 218,
          "properties": {
           "BACK_COLOR": null,
           "FONT_FLAGS": 0,
           "FORE_COLOR": null
          },
          "value": 2
         },
         {
          "formattedValue": "1.00",
          "ordinal": 219,
          "properties": {
           "BACK_COLOR": null,
           "FONT_FLAGS": 0,
           "FORE_COLOR": null
          },
          "value": 1
         },
         {
          "formattedValue": "32.00",
          "ordinal": 220,
          "properties": {
           "BACK_COLOR": null,
           "FONT_FLAGS": 0,
           "FORE_COLOR": null
          },
          "value": 32
         },
         {
          "formattedValue": "14.00",
          "ordinal": 221,
          "properties": {
           "BACK_COLOR": null,
           "FONT_FLAGS": 0,
           "FORE_COLOR": null
          },
          "value": 14
         },
         {
          "formattedValue": "10.00",
          "ordinal": 222,
          "properties": {
           "BACK_COLOR": null,
           "FONT_FLAGS": 0,
           "FORE_COLOR": null
          },
          "value": 10
         },
         {
          "formattedValue": "7.00",
          "ordinal": 223,
          "properties": {
           "BACK_COLOR": null,
           "FONT_FLAGS": 0,
           "FORE_COLOR": null
          },
          "value": 7
         },
         {
          "formattedValue": "5.00",
          "ordinal": 224,
          "properties": {
           "BACK_COLOR": null,
           "FONT_FLAGS": 0,
           "FORE_COLOR": null
          },
          "value": 5
         },
         {
          "formattedValue": "5.00",
          "ordinal": 225,
          "properties": {
           "BACK_COLOR": null,
           "FONT_FLAGS": 0,
           "FORE_COLOR": null
          },
          "value": 5
         },
         {
          "formattedValue": "3.00",
          "ordinal": 226,
          "properties": {
           "BACK_COLOR": null,
           "FONT_FLAGS": 0,
           "FORE_COLOR": null
          },
          "value": 3
         },
         {
          "formattedValue": "3.00",
          "ordinal": 227,
          "properties": {
           "BACK_COLOR": null,
           "FONT_FLAGS": 0,
           "FORE_COLOR": null
          },
          "value": 3
         },
         {
          "formattedValue": "2.00",
          "ordinal": 228,
          "properties": {
           "BACK_COLOR": null,
           "FONT_FLAGS": 0,
           "FORE_COLOR": null
          },
          "value": 2
         },
         {
          "formattedValue": "2.00",
          "ordinal": 229,
          "properties": {
           "BACK_COLOR": null,
           "FONT_FLAGS": 0,
           "FORE_COLOR": null
          },
          "value": 2
         },
         {
          "formattedValue": "353,813.00",
          "ordinal": 230,
          "properties": {
           "BACK_COLOR": null,
           "FONT_FLAGS": 0,
           "FORE_COLOR": null
          },
          "value": 353813
         },
         {
          "formattedValue": "175,293.00",
          "ordinal": 231,
          "properties": {
           "BACK_COLOR": null,
           "FONT_FLAGS": 0,
           "FORE_COLOR": null
          },
          "value": 175293
         },
         {
          "formattedValue": "162,243.00",
          "ordinal": 232,
          "properties": {
           "BACK_COLOR": null,
           "FONT_FLAGS": 0,
           "FORE_COLOR": null
          },
          "value": 162243
         },
         {
          "formattedValue": "39,189.00",
          "ordinal": 233,
          "properties": {
           "BACK_COLOR": null,
           "FONT_FLAGS": 0,
           "FORE_COLOR": null
          },
          "value": 39189
         },
         {
          "formattedValue": "39,123.00",
          "ordinal": 234,
          "properties": {
           "BACK_COLOR": null,
           "FONT_FLAGS": 0,
           "FORE_COLOR": null
          },
          "value": 39123
         },
         {
          "formattedValue": "36,857.00",
          "ordinal": 235,
          "properties": {
           "BACK_COLOR": null,
           "FONT_FLAGS": 0,
           "FORE_COLOR": null
          },
          "value": 36857
         },
         {
          "formattedValue": "3,167.00",
          "ordinal": 236,
          "properties": {
           "BACK_COLOR": null,
           "FONT_FLAGS": 0,
           "FORE_COLOR": null
          },
          "value": 3167
         },
         {
          "formattedValue": "2,669.00",
          "ordinal": 237,
          "properties": {
           "BACK_COLOR": null,
           "FONT_FLAGS": 0,
           "FORE_COLOR": null
          },
          "value": 2669
         },
         {
          "formattedValue": "126.00",
          "ordinal": 238,
          "properties": {
           "BACK_COLOR": null,
           "FONT_FLAGS": 0,
           "FORE_COLOR": null
          },
          "value": 126
         },
         {
          "formattedValue": "114.00",
          "ordinal": 239,
          "properties": {
           "BACK_COLOR": null,
           "FONT_FLAGS": 0,
           "FORE_COLOR": null
          },
          "value": 114
         },
         {
          "formattedValue": "8.00",
          "ordinal": 240,
          "properties": {
           "BACK_COLOR": null,
           "FONT_FLAGS": 0,
           "FORE_COLOR": null
          },
          "value": 8
         },
         {
          "formattedValue": "7.00",
          "ordinal": 241,
          "properties": {
           "BACK_COLOR": null,
           "FONT_FLAGS": 0,
           "FORE_COLOR": null
          },
          "value": 7
         },
         {
          "formattedValue": "6.00",
          "ordinal": 242,
          "properties": {
           "BACK_COLOR": null,
           "FONT_FLAGS": 0,
           "FORE_COLOR": null
          },
          "value": 6
         },
         {
          "formattedValue": "3.00",
          "ordinal": 243,
          "properties": {
           "BACK_COLOR": null,
           "FONT_FLAGS": 0,
           "FORE_COLOR": null
          },
          "value": 3
         },
         {
          "formattedValue": "3.00",
          "ordinal": 244,
          "properties": {
           "BACK_COLOR": null,
           "FONT_FLAGS": 0,
           "FORE_COLOR": null
          },
          "value": 3
         },
         {
          "formattedValue": "2.00",
          "ordinal": 245,
          "properties": {
           "BACK_COLOR": null,
           "FONT_FLAGS": 0,
           "FORE_COLOR": null
          },
          "value": 2
         },
         {
          "formattedValue": "2.00",
          "ordinal": 246,
          "properties": {
           "BACK_COLOR": null,
           "FONT_FLAGS": 0,
           "FORE_COLOR": null
          },
          "value": 2
         },
         {
          "formattedValue": "2.00",
          "ordinal": 247,
          "properties": {
           "BACK_COLOR": null,
           "FONT_FLAGS": 0,
           "FORE_COLOR": null
          },
          "value": 2
         },
         {
          "formattedValue": "1.00",
          "ordinal": 248,
          "properties": {
           "BACK_COLOR": null,
           "FONT_FLAGS": 0,
           "FORE_COLOR": null
          },
          "value": 1
         },
         {
          "formattedValue": "1.00",
          "ordinal": 249,
          "properties": {
           "BACK_COLOR": null,
           "FONT_FLAGS": 0,
           "FORE_COLOR": null
          },
          "value": 1
         },
         {
          "formattedValue": "87,510.00",
          "ordinal": 250,
          "properties": {
           "BACK_COLOR": null,
           "FONT_FLAGS": 0,
           "FORE_COLOR": null
          },
          "value": 87510
         },
         {
          "formattedValue": "7,699.00",
          "ordinal": 251,
          "properties": {
           "BACK_COLOR": null,
           "FONT_FLAGS": 0,
           "FORE_COLOR": null
          },
          "value": 7699
         },
         {
          "formattedValue": "5,754.00",
          "ordinal": 252,
          "properties": {
           "BACK_COLOR": null,
           "FONT_FLAGS": 0,
           "FORE_COLOR": null
          },
          "value": 5754
         },
         {
          "formattedValue": "1,216.00",
          "ordinal": 253,
          "properties": {
           "BACK_COLOR": null,
           "FONT_FLAGS": 0,
           "FORE_COLOR": null
          },
          "value": 1216
         },
         {
          "formattedValue": "253.00",
          "ordinal": 254,
          "properties": {
           "BACK_COLOR": null,
           "FONT_FLAGS": 0,
           "FORE_COLOR": null
          },
          "value": 253
         },
         {
          "formattedValue": "192.00",
          "ordinal": 255,
          "properties": {
           "BACK_COLOR": null,
           "FONT_FLAGS": 0,
           "FORE_COLOR": null
          },
          "value": 192
         },
         {
          "formattedValue": "118.00",
          "ordinal": 256,
          "properties": {
           "BACK_COLOR": null,
           "FONT_FLAGS": 0,
           "FORE_COLOR": null
          },
          "value": 118
         },
         {
          "formattedValue": "48.00",
          "ordinal": 257,
          "properties": {
           "BACK_COLOR": null,
           "FONT_FLAGS": 0,
           "FORE_COLOR": null
          },
          "value": 48
         },
         {
          "formattedValue": "41.00",
          "ordinal": 258,
          "properties": {
           "BACK_COLOR": null,
           "FONT_FLAGS": 0,
           "FORE_COLOR": null
          },
          "value": 41
         },
         {
          "formattedValue": "1.00",
          "ordinal": 259,
          "properties": {
           "BACK_COLOR": null,
           "FONT_FLAGS": 0,
           "FORE_COLOR": null
          },
          "value": 1
         },
         {
          "formattedValue": "776.00",
          "ordinal": 260,
          "properties": {
           "BACK_COLOR": null,
           "FONT_FLAGS": 0,
           "FORE_COLOR": null
          },
          "value": 776
         },
         {
          "formattedValue": "125.00",
          "ordinal": 261,
          "properties": {
           "BACK_COLOR": null,
           "FONT_FLAGS": 0,
           "FORE_COLOR": null
          },
          "value": 125
         },
         {
          "formattedValue": "110.00",
          "ordinal": 262,
          "properties": {
           "BACK_COLOR": null,
           "FONT_FLAGS": 0,
           "FORE_COLOR": null
          },
          "value": 110
         },
         {
          "formattedValue": "84.00",
          "ordinal": 263,
          "properties": {
           "BACK_COLOR": null,
           "FONT_FLAGS": 0,
           "FORE_COLOR": null
          },
          "value": 84
         },
         {
          "formattedValue": "6.00",
          "ordinal": 264,
          "properties": {
           "BACK_COLOR": null,
           "FONT_FLAGS": 0,
           "FORE_COLOR": null
          },
          "value": 6
         },
         {
          "formattedValue": "5.00",
          "ordinal": 265,
          "properties": {
           "BACK_COLOR": null,
           "FONT_FLAGS": 0,
           "FORE_COLOR": null
          },
          "value": 5
         },
         {
          "formattedValue": "5.00",
          "ordinal": 266,
          "properties": {
           "BACK_COLOR": null,
           "FONT_FLAGS": 0,
           "FORE_COLOR": null
          },
          "value": 5
         },
         {
          "formattedValue": "5.00",
          "ordinal": 267,
          "properties": {
           "BACK_COLOR": null,
           "FONT_FLAGS": 0,
           "FORE_COLOR": null
          },
          "value": 5
         },
         {
          "formattedValue": "3.00",
          "ordinal": 268,
          "properties": {
           "BACK_COLOR": null,
           "FONT_FLAGS": 0,
           "FORE_COLOR": null
          },
          "value": 3
         },
         {
          "formattedValue": "2.00",
          "ordinal": 269,
          "properties": {
           "BACK_COLOR": null,
           "FONT_FLAGS": 0,
           "FORE_COLOR": null
          },
          "value": 2
         },
         {
          "formattedValue": "34,336.00",
          "ordinal": 270,
          "properties": {
           "BACK_COLOR": null,
           "FONT_FLAGS": 0,
           "FORE_COLOR": null
          },
          "value": 34336
         },
         {
          "formattedValue": "8,343.00",
          "ordinal": 271,
          "properties": {
           "BACK_COLOR": null,
           "FONT_FLAGS": 0,
           "FORE_COLOR": null
          },
          "value": 8343
         },
         {
          "formattedValue": "7,505.00",
          "ordinal": 272,
          "properties": {
           "BACK_COLOR": null,
           "FONT_FLAGS": 0,
           "FORE_COLOR": null
          },
          "value": 7505
         },
         {
          "formattedValue": "6,668.00",
          "ordinal": 273,
          "properties": {
           "BACK_COLOR": null,
           "FONT_FLAGS": 0,
           "FORE_COLOR": null
          },
          "value": 6668
         },
         {
          "formattedValue": "1,940.00",
          "ordinal": 274,
          "properties": {
           "BACK_COLOR": null,
           "FONT_FLAGS": 0,
           "FORE_COLOR": null
          },
          "value": 1940
         },
         {
          "formattedValue": "717.00",
          "ordinal": 275,
          "properties": {
           "BACK_COLOR": null,
           "FONT_FLAGS": 0,
           "FORE_COLOR": null
          },
          "value": 717
         },
         {
          "formattedValue": "247.00",
          "ordinal": 276,
          "properties": {
           "BACK_COLOR": null,
           "FONT_FLAGS": 0,
           "FORE_COLOR": null
          },
          "value": 247
         },
         {
          "formattedValue": "190.00",
          "ordinal": 277,
          "properties": {
           "BACK_COLOR": null,
           "FONT_FLAGS": 0,
           "FORE_COLOR": null
          },
          "value": 190
         },
         {
          "formattedValue": "107.00",
          "ordinal": 278,
          "properties": {
           "BACK_COLOR": null,
           "FONT_FLAGS": 0,
           "FORE_COLOR": null
          },
          "value": 107
         },
         {
          "formattedValue": "1.00",
          "ordinal": 279,
          "properties": {
           "BACK_COLOR": null,
           "FONT_FLAGS": 0,
           "FORE_COLOR": null
          },
          "value": 1
         },
         {
          "formattedValue": "197,136.00",
          "ordinal": 280,
          "properties": {
           "BACK_COLOR": null,
           "FONT_FLAGS": 0,
           "FORE_COLOR": null
          },
          "value": 197136
         },
         {
          "formattedValue": "116,986.00",
          "ordinal": 281,
          "properties": {
           "BACK_COLOR": null,
           "FONT_FLAGS": 0,
           "FORE_COLOR": null
          },
          "value": 116986
         },
         {
          "formattedValue": "10,479.00",
          "ordinal": 282,
          "properties": {
           "BACK_COLOR": null,
           "FONT_FLAGS": 0,
           "FORE_COLOR": null
          },
          "value": 10479
         },
         {
          "formattedValue": "7,774.00",
          "ordinal": 283,
          "properties": {
           "BACK_COLOR": null,
           "FONT_FLAGS": 0,
           "FORE_COLOR": null
          },
          "value": 7774
         },
         {
          "formattedValue": "7,021.00",
          "ordinal": 284,
          "properties": {
           "BACK_COLOR": null,
           "FONT_FLAGS": 0,
           "FORE_COLOR": null
          },
          "value": 7021
         },
         {
          "formattedValue": "6,090.00",
          "ordinal": 285,
          "properties": {
           "BACK_COLOR": null,
           "FONT_FLAGS": 0,
           "FORE_COLOR": null
          },
          "value": 6090
         },
         {
          "formattedValue": "736.00",
          "ordinal": 286,
          "properties": {
           "BACK_COLOR": null,
           "FONT_FLAGS": 0,
           "FORE_COLOR": null
          },
          "value": 736
         },
         {
          "formattedValue": "73.00",
          "ordinal": 287,
          "properties": {
           "BACK_COLOR": null,
           "FONT_FLAGS": 0,
           "FORE_COLOR": null
          },
          "value": 73
         },
         {
          "formattedValue": "27.00",
          "ordinal": 288,
          "properties": {
           "BACK_COLOR": null,
           "FONT_FLAGS": 0,
           "FORE_COLOR": null
          },
          "value": 27
         },
         {
          "formattedValue": "4.00",
          "ordinal": 289,
          "properties": {
           "BACK_COLOR": null,
           "FONT_FLAGS": 0,
           "FORE_COLOR": null
          },
          "value": 4
         },
         {
          "formattedValue": "3,014.00",
          "ordinal": 290,
          "properties": {
           "BACK_COLOR": null,
           "FONT_FLAGS": 0,
           "FORE_COLOR": null
          },
          "value": 3014
         },
         {
          "formattedValue": "2,639.00",
          "ordinal": 291,
          "properties": {
           "BACK_COLOR": null,
           "FONT_FLAGS": 0,
           "FORE_COLOR": null
          },
          "value": 2639
         },
         {
          "formattedValue": "2,580.00",
          "ordinal": 292,
          "properties": {
           "BACK_COLOR": null,
           "FONT_FLAGS": 0,
           "FORE_COLOR": null
          },
          "value": 2580
         },
         {
          "formattedValue": "831.00",
          "ordinal": 293,
          "properties": {
           "BACK_COLOR": null,
           "FONT_FLAGS": 0,
           "FORE_COLOR": null
          },
          "value": 831
         },
         {
          "formattedValue": "539.00",
          "ordinal": 294,
          "properties": {
           "BACK_COLOR": null,
           "FONT_FLAGS": 0,
           "FORE_COLOR": null
          },
          "value": 539
         },
         {
          "formattedValue": "237.00",
          "ordinal": 295,
          "properties": {
           "BACK_COLOR": null,
           "FONT_FLAGS": 0,
           "FORE_COLOR": null
          },
          "value": 237
         },
         {
          "formattedValue": "130.00",
          "ordinal": 296,
          "properties": {
           "BACK_COLOR": null,
           "FONT_FLAGS": 0,
           "FORE_COLOR": null
          },
          "value": 130
         },
         {
          "formattedValue": "48.00",
          "ordinal": 297,
          "properties": {
           "BACK_COLOR": null,
           "FONT_FLAGS": 0,
           "FORE_COLOR": null
          },
          "value": 48
         },
         {
          "formattedValue": "26.00",
          "ordinal": 298,
          "properties": {
           "BACK_COLOR": null,
           "FONT_FLAGS": 0,
           "FORE_COLOR": null
          },
          "value": 26
         },
         {
          "formattedValue": "15.00",
          "ordinal": 299,
          "properties": {
           "BACK_COLOR": null,
           "FONT_FLAGS": 0,
           "FORE_COLOR": null
          },
          "value": 15
         },
         {
          "formattedValue": "49,790.00",
          "ordinal": 300,
          "properties": {
           "BACK_COLOR": null,
           "FONT_FLAGS": 0,
           "FORE_COLOR": null
          },
          "value": 49790
         },
         {
          "formattedValue": "42,050.00",
          "ordinal": 301,
          "properties": {
           "BACK_COLOR": null,
           "FONT_FLAGS": 0,
           "FORE_COLOR": null
          },
          "value": 42050
         },
         {
          "formattedValue": "18,900.00",
          "ordinal": 302,
          "properties": {
           "BACK_COLOR": null,
           "FONT_FLAGS": 0,
           "FORE_COLOR": null
          },
          "value": 18900
         },
         {
          "formattedValue": "4,369.00",
          "ordinal": 303,
          "properties": {
           "BACK_COLOR": null,
           "FONT_FLAGS": 0,
           "FORE_COLOR": null
          },
          "value": 4369
         },
         {
          "formattedValue": "1,150.00",
          "ordinal": 304,
          "properties": {
           "BACK_COLOR": null,
           "FONT_FLAGS": 0,
           "FORE_COLOR": null
          },
          "value": 1150
         },
         {
          "formattedValue": "964.00",
          "ordinal": 305,
          "properties": {
           "BACK_COLOR": null,
           "FONT_FLAGS": 0,
           "FORE_COLOR": null
          },
          "value": 964
         },
         {
          "formattedValue": "900.00",
          "ordinal": 306,
          "properties": {
           "BACK_COLOR": null,
           "FONT_FLAGS": 0,
           "FORE_COLOR": null
          },
          "value": 900
         },
         {
          "formattedValue": "257.00",
          "ordinal": 307,
          "properties": {
           "BACK_COLOR": null,
           "FONT_FLAGS": 0,
           "FORE_COLOR": null
          },
          "value": 257
         },
         {
          "formattedValue": "184.00",
          "ordinal": 308,
          "properties": {
           "BACK_COLOR": null,
           "FONT_FLAGS": 0,
           "FORE_COLOR": null
          },
          "value": 184
         },
         {
          "formattedValue": "104.00",
          "ordinal": 309,
          "properties": {
           "BACK_COLOR": null,
           "FONT_FLAGS": 0,
           "FORE_COLOR": null
          },
          "value": 104
         },
         {
          "formattedValue": "6.00",
          "ordinal": 310,
          "properties": {
           "BACK_COLOR": null,
           "FONT_FLAGS": 0,
           "FORE_COLOR": null
          },
          "value": 6
         },
         {
          "formattedValue": "5.00",
          "ordinal": 311,
          "properties": {
           "BACK_COLOR": null,
           "FONT_FLAGS": 0,
           "FORE_COLOR": null
          },
          "value": 5
         },
         {
          "formattedValue": "3.00",
          "ordinal": 312,
          "properties": {
           "BACK_COLOR": null,
           "FONT_FLAGS": 0,
           "FORE_COLOR": null
          },
          "value": 3
         },
         {
          "formattedValue": "3.00",
          "ordinal": 313,
          "properties": {
           "BACK_COLOR": null,
           "FONT_FLAGS": 0,
           "FORE_COLOR": null
          },
          "value": 3
         },
         {
          "formattedValue": "3.00",
          "ordinal": 314,
          "properties": {
           "BACK_COLOR": null,
           "FONT_FLAGS": 0,
           "FORE_COLOR": null
          },
          "value": 3
         },
         {
          "formattedValue": "3.00",
          "ordinal": 315,
          "properties": {
           "BACK_COLOR": null,
           "FONT_FLAGS": 0,
           "FORE_COLOR": null
          },
          "value": 3
         },
         {
          "formattedValue": "2.00",
          "ordinal": 316,
          "properties": {
           "BACK_COLOR": null,
           "FONT_FLAGS": 0,
           "FORE_COLOR": null
          },
          "value": 2
         },
         {
          "formattedValue": "2.00",
          "ordinal": 317,
          "properties": {
           "BACK_COLOR": null,
           "FONT_FLAGS": 0,
           "FORE_COLOR": null
          },
          "value": 2
         },
         {
          "formattedValue": "2.00",
          "ordinal": 318,
          "properties": {
           "BACK_COLOR": null,
           "FONT_FLAGS": 0,
           "FORE_COLOR": null
          },
          "value": 2
         },
         {
          "formattedValue": "1.00",
          "ordinal": 319,
          "properties": {
           "BACK_COLOR": null,
           "FONT_FLAGS": 0,
           "FORE_COLOR": null
          },
          "value": 1
         },
         {
          "formattedValue": "69.00",
          "ordinal": 320,
          "properties": {
           "BACK_COLOR": null,
           "FONT_FLAGS": 0,
           "FORE_COLOR": null
          },
          "value": 69
         },
         {
          "formattedValue": "48.00",
          "ordinal": 321,
          "properties": {
           "BACK_COLOR": null,
           "FONT_FLAGS": 0,
           "FORE_COLOR": null
          },
          "value": 48
         },
         {
          "formattedValue": "28.00",
          "ordinal": 322,
          "properties": {
           "BACK_COLOR": null,
           "FONT_FLAGS": 0,
           "FORE_COLOR": null
          },
          "value": 28
         },
         {
          "formattedValue": "16.00",
          "ordinal": 323,
          "properties": {
           "BACK_COLOR": null,
           "FONT_FLAGS": 0,
           "FORE_COLOR": null
          },
          "value": 16
         },
         {
          "formattedValue": "12.00",
          "ordinal": 324,
          "properties": {
           "BACK_COLOR": null,
           "FONT_FLAGS": 0,
           "FORE_COLOR": null
          },
          "value": 12
         },
         {
          "formattedValue": "7.00",
          "ordinal": 325,
          "properties": {
           "BACK_COLOR": null,
           "FONT_FLAGS": 0,
           "FORE_COLOR": null
          },
          "value": 7
         },
         {
          "formattedValue": "4.00",
          "ordinal": 326,
          "properties": {
           "BACK_COLOR": null,
           "FONT_FLAGS": 0,
           "FORE_COLOR": null
          },
          "value": 4
         },
         {
          "formattedValue": "3.00",
          "ordinal": 327,
          "properties": {
           "BACK_COLOR": null,
           "FONT_FLAGS": 0,
           "FORE_COLOR": null
          },
          "value": 3
         },
         {
          "formattedValue": "1.00",
          "ordinal": 328,
          "properties": {
           "BACK_COLOR": null,
           "FONT_FLAGS": 0,
           "FORE_COLOR": null
          },
          "value": 1
         },
         {
          "formattedValue": "1.00",
          "ordinal": 329,
          "properties": {
           "BACK_COLOR": null,
           "FONT_FLAGS": 0,
           "FORE_COLOR": null
          },
          "value": 1
         }
        ],
        "cube": "Google Playstore",
        "defaultMembers": [
         {
          "captionPath": [
           "Count"
          ],
          "dimension": "Measures",
          "hierarchy": "Measures",
          "path": [
           "contributors.COUNT"
          ]
         },
         {
          "captionPath": [
           "Base"
          ],
          "dimension": "Epoch",
          "hierarchy": "Epoch",
          "path": [
           "Base"
          ]
         }
        ],
        "epoch": 1
       },
       "cube": "Google Playstore",
       "error": null,
       "name": "Top 10 apps within each categories",
       "session": "Unnamed"
      },
      "text/html": [
       "<img src=\"data:image/svg+xml;charset=utf8,%3C%3Fxml%20version%3D%221.0%22%20standalone%3D%22no%22%3F%3E%3Csvg%20xmlns%3D%22http%3A%2F%2Fwww.w3.org%2F2000%2Fsvg%22%20xmlns%3Axlink%3D%22http%3A%2F%2Fwww.w3.org%2F1999%2Fxlink%22%20viewBox%3D%220%200%201064%20323%22%3E%3Cdefs%20id%3D%22defs-b3697a%22%3E%3Cg%20class%3D%22clips%22%2F%3E%3Cg%20class%3D%22gradients%22%2F%3E%3C%2Fdefs%3E%3Cg%20class%3D%22bglayer%22%2F%3E%3Cg%20class%3D%22draglayer%22%2F%3E%3Cg%20class%3D%22layer-below%22%3E%3Cg%20class%3D%22imagelayer%22%2F%3E%3Cg%20class%3D%22shapelayer%22%2F%3E%3C%2Fg%3E%3Cg%20class%3D%22cartesianlayer%22%2F%3E%3Cg%20class%3D%22polarlayer%22%2F%3E%3Cg%20class%3D%22ternarylayer%22%2F%3E%3Cg%20class%3D%22geolayer%22%2F%3E%3Cg%20class%3D%22funnelarealayer%22%2F%3E%3Cg%20class%3D%22pielayer%22%3E%3Cg%20class%3D%22trace%22%20stroke-linejoin%3D%22round%22%20style%3D%22opacity%3A%201%3B%22%3E%3Cg%20class%3D%22slice%22%3E%3Cpath%20class%3D%22surface%22%20d%3D%22M124.69491525423729%2C129l0%2C-44.694915254237294a44.694915254237294%2C44.694915254237294%200%201%201%20-3.070027087826704%2C0.10556245266073461Z%22%20style%3D%22pointer-events%3A%20all%3B%20stroke-width%3A%200%3B%20fill%3A%20rgb(255%2C%20157%2C%20167)%3B%20fill-opacity%3A%201%3B%20stroke%3A%20rgb(68%2C%2068%2C%2068)%3B%20stroke-opacity%3A%201%3B%22%2F%3E%3C%2Fg%3E%3Cg%20class%3D%22slice%22%3E%3Cpath%20class%3D%22surface%22%20d%3D%22M124.69491525423729%2C129l-2.7481452350371223%2C-44.61034798508746a44.694915254237294%2C44.694915254237294%200%200%201%202.7481452350371223%2C-0.08456726914983648Z%22%20style%3D%22pointer-events%3A%20all%3B%20stroke-width%3A%200%3B%20fill%3A%20rgb(225%2C%2087%2C%2089)%3B%20fill-opacity%3A%201%3B%20stroke%3A%20rgb(68%2C%2068%2C%2068)%3B%20stroke-opacity%3A%201%3B%22%2F%3E%3C%2Fg%3E%3Cg%20class%3D%22slice%22%3E%3Cpath%20class%3D%22surface%22%20d%3D%22M124.69491525423729%2C129l-2.828629772621842%2C-44.60531698343697a44.694915254237294%2C44.694915254237294%200%200%201%200.08048453758471963%2C-0.005031001650486644Z%22%20style%3D%22pointer-events%3A%20all%3B%20stroke-width%3A%200%3B%20fill%3A%20rgb(118%2C%20183%2C%20178)%3B%20fill-opacity%3A%201%3B%20stroke%3A%20rgb(68%2C%2068%2C%2068)%3B%20stroke-opacity%3A%201%3B%22%2F%3E%3C%2Fg%3E%3Cg%20class%3D%22slice%22%3E%3Cpath%20class%3D%22surface%22%20d%3D%22M124.69491525423729%2C129l-2.8930107853049005%2C-44.601187631940505a44.694915254237294%2C44.694915254237294%200%200%201%200.06438101268305862%2C-0.004129351496466427Z%22%20style%3D%22pointer-events%3A%20all%3B%20stroke-width%3A%200%3B%20fill%3A%20rgb(242%2C%20142%2C%2044)%3B%20fill-opacity%3A%201%3B%20stroke%3A%20rgb(68%2C%2068%2C%2068)%3B%20stroke-opacity%3A%201%3B%22%2F%3E%3C%2Fg%3E%3Cg%20class%3D%22slice%22%3E%3Cpath%20class%3D%22surface%22%20d%3D%22M124.69491525423729%2C129l-2.941292596649401%2C-44.59802963634547a44.694915254237294%2C44.694915254237294%200%200%201%200.04828181134450027%2C-0.003157995595032048Z%22%20style%3D%22pointer-events%3A%20all%3B%20stroke-width%3A%200%3B%20fill%3A%20rgb(78%2C%20121%2C%20167)%3B%20fill-opacity%3A%201%3B%20stroke%3A%20rgb(68%2C%2068%2C%2068)%3B%20stroke-opacity%3A%201%3B%22%2F%3E%3C%2Fg%3E%3Cg%20class%3D%22slice%22%3E%3Cpath%20class%3D%22surface%22%20d%3D%22M124.69491525423729%2C129l-2.9895709609793513%2C-44.59481937459465a44.694915254237294%2C44.694915254237294%200%200%201%200.048278364329950474%2C-0.0032102617508229514Z%22%20style%3D%22pointer-events%3A%20all%3B%20stroke-width%3A%200%3B%20fill%3A%20rgb(242%2C%20142%2C%2044)%3B%20fill-opacity%3A%201%3B%20stroke%3A%20rgb(68%2C%2068%2C%2068)%3B%20stroke-opacity%3A%201%3B%22%2F%3E%3C%2Fg%3E%3Cg%20class%3D%22slice%22%3E%3Cpath%20class%3D%22surface%22%20d%3D%22M124.69491525423729%2C129l-3.0298002572989136%2C-44.59210423364573a44.694915254237294%2C44.694915254237294%200%200%201%200.04022929631956229%2C-0.0027151409489221123Z%22%20style%3D%22pointer-events%3A%20all%3B%20stroke-width%3A%200%3B%20fill%3A%20rgb(242%2C%20142%2C%2044)%3B%20fill-opacity%3A%201%3B%20stroke%3A%20rgb(68%2C%2068%2C%2068)%3B%20stroke-opacity%3A%201%3B%22%2F%3E%3C%2Fg%3E%3Cg%20class%3D%22slice%22%3E%3Cpath%20class%3D%22surface%22%20d%3D%22M124.69491525423729%2C129l-3.053936653605889%2C-44.590457729196004a44.694915254237294%2C44.694915254237294%200%200%201%200.024136396306975616%2C-0.0016465044497238068Z%22%20style%3D%22pointer-events%3A%20all%3B%20stroke-width%3A%200%3B%20fill%3A%20rgb(186%2C%20176%2C%20171)%3B%20fill-opacity%3A%201%3B%20stroke%3A%20rgb(68%2C%2068%2C%2068)%3B%20stroke-opacity%3A%201%3B%22%2F%3E%3C%2Fg%3E%3Cg%20class%3D%22slice%22%3E%3Cpath%20class%3D%22surface%22%20d%3D%22M124.69491525423729%2C129l-3.0619819205559367%2C-44.58990599117296a44.694915254237294%2C44.694915254237294%200%200%201%200.00804526695004748%2C-0.000551738023041537Z%22%20style%3D%22pointer-events%3A%20all%3B%20stroke-width%3A%200%3B%20fill%3A%20rgb(255%2C%20157%2C%20167)%3B%20fill-opacity%3A%201%3B%20stroke%3A%20rgb(68%2C%2068%2C%2068)%3B%20stroke-opacity%3A%201%3B%22%2F%3E%3C%2Fg%3E%3Cg%20class%3D%22slice%22%3E%3Cpath%20class%3D%22surface%22%20d%3D%22M124.69491525423729%2C129l-3.0700270878266678%2C-44.58935280157657a44.694915254237294%2C44.694915254237294%200%200%201%200.008045167270731124%2C-0.000553189596395498Z%22%20style%3D%22pointer-events%3A%20all%3B%20stroke-width%3A%200%3B%20fill%3A%20rgb(225%2C%2087%2C%2089)%3B%20fill-opacity%3A%201%3B%20stroke%3A%20rgb(68%2C%2068%2C%2068)%3B%20stroke-opacity%3A%201%3B%22%2F%3E%3C%2Fg%3E%3Cg%20class%3D%22titletext%22%3E%3Ctext%20data-notex%3D%221%22%20class%3D%22titletext%22%20transform%3D%22translate(124.69491525423729%2C173.6949152542373)scale(0.8304469665470131)translate(0%2C12)%22%20text-anchor%3D%22middle%22%20data-unformatted%3D%22COMMUNICATION%22%20data-math%3D%22N%22%20x%3D%220%22%20y%3D%220%22%20style%3D%22font-family%3A%20%26quot%3BOpen%20Sans%26quot%3B%2C%20verdana%2C%20arial%2C%20sans-serif%3B%20font-size%3A%2012px%3B%20fill%3A%20rgb(0%2C%200%2C%200)%3B%20fill-opacity%3A%200.65%3B%20white-space%3A%20pre%3B%22%3ECOMMUNICATION%3C%2Ftext%3E%3C%2Fg%3E%3C%2Fg%3E%3Cg%20class%3D%22trace%22%20stroke-linejoin%3D%22round%22%20style%3D%22opacity%3A%201%3B%22%3E%3Cg%20class%3D%22slice%22%3E%3Cpath%20class%3D%22surface%22%20d%3D%22M224.01694915254237%2C129l0%2C-44.6949152542373a44.6949152542373%2C44.6949152542373%200%200%201%2044.55242817864558%2C41.12888202807662Z%22%20style%3D%22pointer-events%3A%20all%3B%20stroke-width%3A%200%3B%20fill%3A%20rgb(255%2C%20157%2C%20167)%3B%20fill-opacity%3A%201%3B%20stroke%3A%20rgb(68%2C%2068%2C%2068)%3B%20stroke-opacity%3A%201%3B%22%2F%3E%3C%2Fg%3E%3Cg%20class%3D%22slice%22%3E%3Cpath%20class%3D%22surface%22%20d%3D%22M224.01694915254237%2C129l-33.636086781536235%2C-29.432110281262837a44.6949152542373%2C44.6949152542373%200%200%201%2033.636086781536235%2C-15.262804972974465Z%22%20style%3D%22pointer-events%3A%20all%3B%20stroke-width%3A%200%3B%20fill%3A%20rgb(242%2C%20142%2C%2044)%3B%20fill-opacity%3A%201%3B%20stroke%3A%20rgb(68%2C%2068%2C%2068)%3B%20stroke-opacity%3A%201%3B%22%2F%3E%3C%2Fg%3E%3Cg%20class%3D%22slice%22%3E%3Cpath%20class%3D%22surface%22%20d%3D%22M224.01694915254237%2C129l-44.299491785721486%2C5.9321561940199095a44.6949152542373%2C44.6949152542373%200%200%201%2010.66340500418525%2C-35.36426647528275Z%22%20style%3D%22pointer-events%3A%20all%3B%20stroke-width%3A%200%3B%20fill%3A%20rgb(237%2C%20201%2C%2073)%3B%20fill-opacity%3A%201%3B%20stroke%3A%20rgb(68%2C%2068%2C%2068)%3B%20stroke-opacity%3A%201%3B%22%2F%3E%3C%2Fg%3E%3Cg%20class%3D%22slice%22%3E%3Cpath%20class%3D%22surface%22%20d%3D%22M224.01694915254237%2C129l-28.52626969951511%2C34.40766464923158a44.6949152542373%2C44.6949152542373%200%200%201%20-15.773222086206374%2C-28.475508455211667Z%22%20style%3D%22pointer-events%3A%20all%3B%20stroke-width%3A%200%3B%20fill%3A%20rgb(242%2C%20142%2C%2044)%3B%20fill-opacity%3A%201%3B%20stroke%3A%20rgb(68%2C%2068%2C%2068)%3B%20stroke-opacity%3A%201%3B%22%2F%3E%3C%2Fg%3E%3Cg%20class%3D%22slice%22%3E%3Cpath%20class%3D%22surface%22%20d%3D%22M224.01694915254237%2C129l2.3787605942173493%2C44.631568957620715a44.6949152542373%2C44.6949152542373%200%200%201%20-30.905030293732462%2C-10.223904308389137Z%22%20style%3D%22pointer-events%3A%20all%3B%20stroke-width%3A%200%3B%20fill%3A%20rgb(175%2C%20122%2C%20161)%3B%20fill-opacity%3A%201%3B%20stroke%3A%20rgb(68%2C%2068%2C%2068)%3B%20stroke-opacity%3A%201%3B%22%2F%3E%3C%2Fg%3E%3Cg%20class%3D%22slice%22%3E%3Cpath%20class%3D%22surface%22%20d%3D%22M224.01694915254237%2C129l24.707352073855347%2C37.24489499356939a44.6949152542373%2C44.6949152542373%200%200%201%20-22.328591479637996%2C7.386673964051326Z%22%20style%3D%22pointer-events%3A%20all%3B%20stroke-width%3A%200%3B%20fill%3A%20rgb(156%2C%20117%2C%2095)%3B%20fill-opacity%3A%201%3B%20stroke%3A%20rgb(68%2C%2068%2C%2068)%3B%20stroke-opacity%3A%201%3B%22%2F%3E%3C%2Fg%3E%3Cg%20class%3D%22slice%22%3E%3Cpath%20class%3D%22surface%22%20d%3D%22M224.01694915254237%2C129l40.194679445110246%2C19.545413627966177a44.6949152542373%2C44.6949152542373%200%200%201%20-15.4873273712549%2C17.699481365603212Z%22%20style%3D%22pointer-events%3A%20all%3B%20stroke-width%3A%200%3B%20fill%3A%20rgb(255%2C%20157%2C%20167)%3B%20fill-opacity%3A%201%3B%20stroke%3A%20rgb(68%2C%2068%2C%2068)%3B%20stroke-opacity%3A%201%3B%22%2F%3E%3C%2Fg%3E%3Cg%20class%3D%22slice%22%3E%3Cpath%20class%3D%22surface%22%20d%3D%22M224.01694915254237%2C129l43.41797675489899%2C10.607296738307339a44.6949152542373%2C44.6949152542373%200%200%201%20-3.223297309788741%2C8.938116889658838Z%22%20style%3D%22pointer-events%3A%20all%3B%20stroke-width%3A%200%3B%20fill%3A%20rgb(175%2C%20122%2C%20161)%3B%20fill-opacity%3A%201%3B%20stroke%3A%20rgb(68%2C%2068%2C%2068)%3B%20stroke-opacity%3A%201%3B%22%2F%3E%3C%2Fg%3E%3Cg%20class%3D%22slice%22%3E%3Cpath%20class%3D%22surface%22%20d%3D%22M224.01694915254237%2C129l44.679075873432964%2C1.1898019496850079a44.6949152542373%2C44.6949152542373%200%200%201%20-1.261099118533977%2C9.417494788622331Z%22%20style%3D%22pointer-events%3A%20all%3B%20stroke-width%3A%200%3B%20fill%3A%20rgb(237%2C%20201%2C%2073)%3B%20fill-opacity%3A%201%3B%20stroke%3A%20rgb(68%2C%2068%2C%2068)%3B%20stroke-opacity%3A%201%3B%22%2F%3E%3C%2Fg%3E%3Cg%20class%3D%22slice%22%3E%3Cpath%20class%3D%22surface%22%20d%3D%22M224.01694915254237%2C129l44.55242817864558%2C-3.566033226160661a44.6949152542373%2C44.6949152542373%200%200%201%200.1266476947873869%2C4.755835175845669Z%22%20style%3D%22pointer-events%3A%20all%3B%20stroke-width%3A%200%3B%20fill%3A%20rgb(242%2C%20142%2C%2044)%3B%20fill-opacity%3A%201%3B%20stroke%3A%20rgb(68%2C%2068%2C%2068)%3B%20stroke-opacity%3A%201%3B%22%2F%3E%3C%2Fg%3E%3Cg%20class%3D%22titletext%22%3E%3Ctext%20data-notex%3D%221%22%20class%3D%22titletext%22%20transform%3D%22translate(224.01694915254237%2C173.6949152542373)translate(0%2C12)%22%20text-anchor%3D%22middle%22%20data-unformatted%3D%22GAME%22%20data-math%3D%22N%22%20x%3D%220%22%20y%3D%220%22%20style%3D%22font-family%3A%20%26quot%3BOpen%20Sans%26quot%3B%2C%20verdana%2C%20arial%2C%20sans-serif%3B%20font-size%3A%2012px%3B%20fill%3A%20rgb(0%2C%200%2C%200)%3B%20fill-opacity%3A%200.65%3B%20white-space%3A%20pre%3B%22%3EGAME%3C%2Ftext%3E%3C%2Fg%3E%3C%2Fg%3E%3Cg%20class%3D%22trace%22%20stroke-linejoin%3D%22round%22%20style%3D%22opacity%3A%201%3B%22%3E%3Cg%20class%3D%22slice%22%3E%3Cpath%20class%3D%22surface%22%20d%3D%22M323.33898305084745%2C129l0%2C-44.6949152542373a44.6949152542373%2C44.6949152542373%200%200%201%2034.0192984173295%2C73.68323677819134Z%22%20style%3D%22pointer-events%3A%20all%3B%20stroke-width%3A%200%3B%20fill%3A%20rgb(225%2C%2087%2C%2089)%3B%20fill-opacity%3A%201%3B%20stroke%3A%20rgb(68%2C%2068%2C%2068)%3B%20stroke-opacity%3A%201%3B%22%2F%3E%3C%2Fg%3E%3Cg%20class%3D%22slice%22%3E%3Cpath%20class%3D%22surface%22%20d%3D%22M323.33898305084745%2C129l-41.389391997370225%2C-16.8687189694855a44.6949152542373%2C44.6949152542373%200%200%201%2041.389391997370225%2C-27.826196284751802Z%22%20style%3D%22pointer-events%3A%20all%3B%20stroke-width%3A%200%3B%20fill%3A%20rgb(186%2C%20176%2C%20171)%3B%20fill-opacity%3A%201%3B%20stroke%3A%20rgb(68%2C%2068%2C%2068)%3B%20stroke-opacity%3A%201%3B%22%2F%3E%3C%2Fg%3E%3Cg%20class%3D%22slice%22%3E%3Cpath%20class%3D%22surface%22%20d%3D%22M323.33898305084745%2C129l-42.11427206148018%2C14.96741588635408a44.6949152542373%2C44.6949152542373%200%200%201%200.7248800641099535%2C-31.836134855839582Z%22%20style%3D%22pointer-events%3A%20all%3B%20stroke-width%3A%200%3B%20fill%3A%20rgb(242%2C%20142%2C%2044)%3B%20fill-opacity%3A%201%3B%20stroke%3A%20rgb(68%2C%2068%2C%2068)%3B%20stroke-opacity%3A%201%3B%22%2F%3E%3C%2Fg%3E%3Cg%20class%3D%22slice%22%3E%3Cpath%20class%3D%22surface%22%20d%3D%22M323.33898305084745%2C129l-24.936815001065728%2C37.09165279663441a44.6949152542373%2C44.6949152542373%200%200%201%20-17.17745706041445%2C-22.12423691028033Z%22%20style%3D%22pointer-events%3A%20all%3B%20stroke-width%3A%200%3B%20fill%3A%20rgb(156%2C%20117%2C%2095)%3B%20fill-opacity%3A%201%3B%20stroke%3A%20rgb(68%2C%2068%2C%2068)%3B%20stroke-opacity%3A%201%3B%22%2F%3E%3C%2Fg%3E%3Cg%20class%3D%22slice%22%3E%3Cpath%20class%3D%22surface%22%20d%3D%22M323.33898305084745%2C129l-2.0342711510783884%2C44.64859673570206a44.6949152542373%2C44.6949152542373%200%200%201%20-22.90254384998734%2C-7.556943939067644Z%22%20style%3D%22pointer-events%3A%20all%3B%20stroke-width%3A%200%3B%20fill%3A%20rgb(118%2C%20183%2C%20178)%3B%20fill-opacity%3A%201%3B%20stroke%3A%20rgb(68%2C%2068%2C%2068)%3B%20stroke-opacity%3A%201%3B%22%2F%3E%3C%2Fg%3E%3Cg%20class%3D%22slice%22%3E%3Cpath%20class%3D%22surface%22%20d%3D%22M323.33898305084745%2C129l14.004882094510778%2C42.4440658644092a44.6949152542373%2C44.6949152542373%200%200%201%20-16.039153245589166%2C2.20453087129286Z%22%20style%3D%22pointer-events%3A%20all%3B%20stroke-width%3A%200%3B%20fill%3A%20rgb(186%2C%20176%2C%20171)%3B%20fill-opacity%3A%201%3B%20stroke%3A%20rgb(68%2C%2068%2C%2068)%3B%20stroke-opacity%3A%201%3B%22%2F%3E%3C%2Fg%3E%3Cg%20class%3D%22slice%22%3E%3Cpath%20class%3D%22surface%22%20d%3D%22M323.33898305084745%2C129l24.936815001065753%2C37.0916527966344a44.6949152542373%2C44.6949152542373%200%200%201%20-10.931932906554975%2C5.352413067774798Z%22%20style%3D%22pointer-events%3A%20all%3B%20stroke-width%3A%200%3B%20fill%3A%20rgb(156%2C%20117%2C%2095)%3B%20fill-opacity%3A%201%3B%20stroke%3A%20rgb(68%2C%2068%2C%2068)%3B%20stroke-opacity%3A%201%3B%22%2F%3E%3C%2Fg%3E%3Cg%20class%3D%22slice%22%3E%3Cpath%20class%3D%22surface%22%20d%3D%22M323.33898305084745%2C129l28.206422189623755%2C34.67035039978908a44.6949152542373%2C44.6949152542373%200%200%201%20-3.269607188558002%2C2.42130239684532Z%22%20style%3D%22pointer-events%3A%20all%3B%20stroke-width%3A%200%3B%20fill%3A%20rgb(225%2C%2087%2C%2089)%3B%20fill-opacity%3A%201%3B%20stroke%3A%20rgb(68%2C%2068%2C%2068)%3B%20stroke-opacity%3A%201%3B%22%2F%3E%3C%2Fg%3E%3Cg%20class%3D%22slice%22%3E%3Cpath%20class%3D%22surface%22%20d%3D%22M323.33898305084745%2C129l31.242302080674317%2C31.961758560557133a44.6949152542373%2C44.6949152542373%200%200%201%20-3.0358798910505627%2C2.7085918392319464Z%22%20style%3D%22pointer-events%3A%20all%3B%20stroke-width%3A%200%3B%20fill%3A%20rgb(89%2C%20161%2C%2079)%3B%20fill-opacity%3A%201%3B%20stroke%3A%20rgb(68%2C%2068%2C%2068)%3B%20stroke-opacity%3A%201%3B%22%2F%3E%3C%2Fg%3E%3Cg%20class%3D%22slice%22%3E%3Cpath%20class%3D%22surface%22%20d%3D%22M323.33898305084745%2C129l34.01929841732948%2C28.988321523954053a44.6949152542373%2C44.6949152542373%200%200%201%20-2.776996336655163%2C2.9734370366030802Z%22%20style%3D%22pointer-events%3A%20all%3B%20stroke-width%3A%200%3B%20fill%3A%20rgb(255%2C%20157%2C%20167)%3B%20fill-opacity%3A%201%3B%20stroke%3A%20rgb(68%2C%2068%2C%2068)%3B%20stroke-opacity%3A%201%3B%22%2F%3E%3C%2Fg%3E%3Cg%20class%3D%22titletext%22%3E%3Ctext%20data-notex%3D%221%22%20class%3D%22titletext%22%20transform%3D%22translate(323.33898305084745%2C173.6949152542373)translate(0%2C12)%22%20text-anchor%3D%22middle%22%20data-unformatted%3D%22FAMILY%22%20data-math%3D%22N%22%20x%3D%220%22%20y%3D%220%22%20style%3D%22font-family%3A%20%26quot%3BOpen%20Sans%26quot%3B%2C%20verdana%2C%20arial%2C%20sans-serif%3B%20font-size%3A%2012px%3B%20fill%3A%20rgb(0%2C%200%2C%200)%3B%20fill-opacity%3A%200.65%3B%20white-space%3A%20pre%3B%22%3EFAMILY%3C%2Ftext%3E%3C%2Fg%3E%3C%2Fg%3E%3Cg%20class%3D%22trace%22%20stroke-linejoin%3D%22round%22%20style%3D%22opacity%3A%201%3B%22%3E%3Cg%20class%3D%22slice%22%3E%3Cpath%20class%3D%22surface%22%20d%3D%22M422.66101694915255%2C129l0%2C-44.6949152542373a44.6949152542373%2C44.6949152542373%200%200%201%2043.065785258867656%2C32.73775883556687Z%22%20style%3D%22pointer-events%3A%20all%3B%20stroke-width%3A%200%3B%20fill%3A%20rgb(237%2C%20201%2C%2073)%3B%20fill-opacity%3A%201%3B%20stroke%3A%20rgb(68%2C%2068%2C%2068)%3B%20stroke-opacity%3A%201%3B%22%2F%3E%3C%2Fg%3E%3Cg%20class%3D%22slice%22%3E%3Cpath%20class%3D%22surface%22%20d%3D%22M422.66101694915255%2C129l-43.065785258867656%2C-11.95715641867043a44.6949152542373%2C44.6949152542373%200%200%201%2043.065785258867656%2C-32.73775883556687Z%22%20style%3D%22pointer-events%3A%20all%3B%20stroke-width%3A%200%3B%20fill%3A%20rgb(255%2C%20157%2C%20167)%3B%20fill-opacity%3A%201%3B%20stroke%3A%20rgb(68%2C%2068%2C%2068)%3B%20stroke-opacity%3A%201%3B%22%2F%3E%3C%2Fg%3E%3Cg%20class%3D%22slice%22%3E%3Cpath%20class%3D%22surface%22%20d%3D%22M422.66101694915255%2C129l-30.736669033838606%2C32.448306986462654a44.6949152542373%2C44.6949152542373%200%200%201%20-12.32911622502905%2C-44.405463405133084Z%22%20style%3D%22pointer-events%3A%20all%3B%20stroke-width%3A%200%3B%20fill%3A%20rgb(242%2C%20142%2C%2044)%3B%20fill-opacity%3A%201%3B%20stroke%3A%20rgb(68%2C%2068%2C%2068)%3B%20stroke-opacity%3A%201%3B%22%2F%3E%3C%2Fg%3E%3Cg%20class%3D%22slice%22%3E%3Cpath%20class%3D%22surface%22%20d%3D%22M422.66101694915255%2C129l-4.832370365829386%2C44.4329117460347a44.6949152542373%2C44.6949152542373%200%200%201%20-25.90429866800922%2C-11.984604759572044Z%22%20style%3D%22pointer-events%3A%20all%3B%20stroke-width%3A%200%3B%20fill%3A%20rgb(225%2C%2087%2C%2089)%3B%20fill-opacity%3A%201%3B%20stroke%3A%20rgb(68%2C%2068%2C%2068)%3B%20stroke-opacity%3A%201%3B%22%2F%3E%3C%2Fg%3E%3Cg%20class%3D%22slice%22%3E%3Cpath%20class%3D%22surface%22%20d%3D%22M422.66101694915255%2C129l14.271154829975941%2C42.355278176424584a44.6949152542373%2C44.6949152542373%200%200%201%20-19.10352519580533%2C2.0776335696101143Z%22%20style%3D%22pointer-events%3A%20all%3B%20stroke-width%3A%200%3B%20fill%3A%20rgb(118%2C%20183%2C%20178)%3B%20fill-opacity%3A%201%3B%20stroke%3A%20rgb(68%2C%2068%2C%2068)%3B%20stroke-opacity%3A%201%3B%22%2F%3E%3C%2Fg%3E%3Cg%20class%3D%22slice%22%3E%3Cpath%20class%3D%22surface%22%20d%3D%22M422.66101694915255%2C129l30.736669033838627%2C32.44830698646263a44.6949152542373%2C44.6949152542373%200%200%201%20-16.465514203862686%2C9.90697118996195Z%22%20style%3D%22pointer-events%3A%20all%3B%20stroke-width%3A%200%3B%20fill%3A%20rgb(118%2C%20183%2C%20178)%3B%20fill-opacity%3A%201%3B%20stroke%3A%20rgb(68%2C%2068%2C%2068)%3B%20stroke-opacity%3A%201%3B%22%2F%3E%3C%2Fg%3E%3Cg%20class%3D%22slice%22%3E%3Cpath%20class%3D%22surface%22%20d%3D%22M422.66101694915255%2C129l41.52053576537086%2C16.54329348527716a44.6949152542373%2C44.6949152542373%200%200%201%20-10.783866731532232%2C15.905013501185472Z%22%20style%3D%22pointer-events%3A%20all%3B%20stroke-width%3A%200%3B%20fill%3A%20rgb(186%2C%20176%2C%20171)%3B%20fill-opacity%3A%201%3B%20stroke%3A%20rgb(68%2C%2068%2C%2068)%3B%20stroke-opacity%3A%201%3B%22%2F%3E%3C%2Fg%3E%3Cg%20class%3D%22slice%22%3E%3Cpath%20class%3D%22surface%22%20d%3D%22M422.66101694915255%2C129l44.10612779562721%2C7.230832625587133a44.6949152542373%2C44.6949152542373%200%200%201%20-2.5855920302563504%2C9.312460859690027Z%22%20style%3D%22pointer-events%3A%20all%3B%20stroke-width%3A%200%3B%20fill%3A%20rgb(255%2C%20157%2C%20167)%3B%20fill-opacity%3A%201%3B%20stroke%3A%20rgb(68%2C%2068%2C%2068)%3B%20stroke-opacity%3A%201%3B%22%2F%3E%3C%2Fg%3E%3Cg%20class%3D%22slice%22%3E%3Cpath%20class%3D%22surface%22%20d%3D%22M422.66101694915255%2C129l44.62936631060025%2C-2.4197339311821a44.6949152542373%2C44.6949152542373%200%200%201%20-0.5232385149730376%2C9.650566556769233Z%22%20style%3D%22pointer-events%3A%20all%3B%20stroke-width%3A%200%3B%20fill%3A%20rgb(156%2C%20117%2C%2095)%3B%20fill-opacity%3A%201%3B%20stroke%3A%20rgb(68%2C%2068%2C%2068)%3B%20stroke-opacity%3A%201%3B%22%2F%3E%3C%2Fg%3E%3Cg%20class%3D%22slice%22%3E%3Cpath%20class%3D%22surface%22%20d%3D%22M422.66101694915255%2C129l43.06578525886767%2C-11.957156418670362a44.6949152542373%2C44.6949152542373%200%200%201%201.5635810517325766%2C9.537422487488262Z%22%20style%3D%22pointer-events%3A%20all%3B%20stroke-width%3A%200%3B%20fill%3A%20rgb(237%2C%20201%2C%2073)%3B%20fill-opacity%3A%201%3B%20stroke%3A%20rgb(68%2C%2068%2C%2068)%3B%20stroke-opacity%3A%201%3B%22%2F%3E%3C%2Fg%3E%3Cg%20class%3D%22titletext%22%3E%3Ctext%20data-notex%3D%221%22%20class%3D%22titletext%22%20transform%3D%22translate(422.66101694915255%2C173.6949152542373)translate(0%2C12)%22%20text-anchor%3D%22middle%22%20data-unformatted%3D%22MEDICAL%22%20data-math%3D%22N%22%20x%3D%220%22%20y%3D%220%22%20style%3D%22font-family%3A%20%26quot%3BOpen%20Sans%26quot%3B%2C%20verdana%2C%20arial%2C%20sans-serif%3B%20font-size%3A%2012px%3B%20fill%3A%20rgb(0%2C%200%2C%200)%3B%20fill-opacity%3A%200.65%3B%20white-space%3A%20pre%3B%22%3EMEDICAL%3C%2Ftext%3E%3C%2Fg%3E%3C%2Fg%3E%3Cg%20class%3D%22trace%22%20stroke-linejoin%3D%22round%22%20style%3D%22opacity%3A%201%3B%22%3E%3Cg%20class%3D%22slice%22%3E%3Cpath%20class%3D%22surface%22%20d%3D%22M521.9830508474577%2C129l0%2C-44.6949152542373a44.6949152542373%2C44.6949152542373%200%201%201%20-0.2700267427451883%2C0.0008156980133620095Z%22%20style%3D%22pointer-events%3A%20all%3B%20stroke-width%3A%200%3B%20fill%3A%20rgb(78%2C%20121%2C%20167)%3B%20fill-opacity%3A%201%3B%20stroke%3A%20rgb(68%2C%2068%2C%2068)%3B%20stroke-opacity%3A%201%3B%22%2F%3E%3C%2Fg%3E%3Cg%20class%3D%22slice%22%3E%3Cpath%20class%3D%22surface%22%20d%3D%22M521.9830508474577%2C129l-0.10492521911283248%2C-44.69479209350737a44.6949152542373%2C44.6949152542373%200%200%201%200.10492521911283248%2C-0.00012316072993456828Z%22%20style%3D%22pointer-events%3A%20all%3B%20stroke-width%3A%200%3B%20fill%3A%20rgb(237%2C%20201%2C%2073)%3B%20fill-opacity%3A%201%3B%20stroke%3A%20rgb(68%2C%2068%2C%2068)%3B%20stroke-opacity%3A%201%3B%22%2F%3E%3C%2Fg%3E%3Cg%20class%3D%22slice%22%3E%3Cpath%20class%3D%22surface%22%20d%3D%22M521.9830508474577%2C129l-0.18979080911246987%2C-44.69451229213974a44.6949152542373%2C44.6949152542373%200%200%201%200.08486558999963739%2C-0.00027980136762550956Z%22%20style%3D%22pointer-events%3A%20all%3B%20stroke-width%3A%200%3B%20fill%3A%20rgb(237%2C%20201%2C%2073)%3B%20fill-opacity%3A%201%3B%20stroke%3A%20rgb(68%2C%2068%2C%2068)%3B%20stroke-opacity%3A%201%3B%22%2F%3E%3C%2Fg%3E%3Cg%20class%3D%22slice%22%3E%3Cpath%20class%3D%22surface%22%20d%3D%22M521.9830508474577%2C129l-0.22219387050610617%2C-44.69436294956405a44.6949152542373%2C44.6949152542373%200%200%201%200.0324030613936363%2C-0.00014934257568910425Z%22%20style%3D%22pointer-events%3A%20all%3B%20stroke-width%3A%200%3B%20fill%3A%20rgb(78%2C%20121%2C%20167)%3B%20fill-opacity%3A%201%3B%20stroke%3A%20rgb(68%2C%2068%2C%2068)%3B%20stroke-opacity%3A%201%3B%22%2F%3E%3C%2Fg%3E%3Cg%20class%3D%22slice%22%3E%3Cpath%20class%3D%22surface%22%20d%3D%22M521.9830508474577%2C129l-0.2437958476044552%2C-44.694250336795506a44.6949152542373%2C44.6949152542373%200%200%201%200.021601977098349018%2C-0.00011261276854668267Z%22%20style%3D%22pointer-events%3A%20all%3B%20stroke-width%3A%200%3B%20fill%3A%20rgb(175%2C%20122%2C%20161)%3B%20fill-opacity%3A%201%3B%20stroke%3A%20rgb(68%2C%2068%2C%2068)%3B%20stroke-opacity%3A%201%3B%22%2F%3E%3C%2Fg%3E%3Cg%20class%3D%22slice%22%3E%3Cpath%20class%3D%22surface%22%20d%3D%22M521.9830508474577%2C129l-0.2576828031250642%2C-44.69417242948378a44.6949152542373%2C44.6949152542373%200%200%201%200.013886955520609007%2C-0.00007790731172718779Z%22%20style%3D%22pointer-events%3A%20all%3B%20stroke-width%3A%200%3B%20fill%3A%20rgb(118%2C%20183%2C%20178)%3B%20fill-opacity%3A%201%3B%20stroke%3A%20rgb(68%2C%2068%2C%2068)%3B%20stroke-opacity%3A%201%3B%22%2F%3E%3C%2Fg%3E%3Cg%20class%3D%22slice%22%3E%3Cpath%20class%3D%22surface%22%20d%3D%22M521.9830508474577%2C129l-0.2638547754509471%2C-44.69413641900832a44.6949152542373%2C44.6949152542373%200%200%201%200.006171972325882902%2C-0.0000360104754548729Z%22%20style%3D%22pointer-events%3A%20all%3B%20stroke-width%3A%200%3B%20fill%3A%20rgb(156%2C%20117%2C%2095)%3B%20fill-opacity%3A%201%3B%20stroke%3A%20rgb(68%2C%2068%2C%2068)%3B%20stroke-opacity%3A%201%3B%22%2F%3E%3C%2Fg%3E%3Cg%20class%3D%22slice%22%3E%3Cpath%20class%3D%22surface%22%20d%3D%22M521.9830508474577%2C129l-0.2669407597343715%2C-44.6941180941547a44.6949152542373%2C44.6949152542373%200%200%201%200.003085984283424381%2C-0.000018324853620299564Z%22%20style%3D%22pointer-events%3A%20all%3B%20stroke-width%3A%200%3B%20fill%3A%20rgb(89%2C%20161%2C%2079)%3B%20fill-opacity%3A%201%3B%20stroke%3A%20rgb(68%2C%2068%2C%2068)%3B%20stroke-opacity%3A%201%3B%22%2F%3E%3C%2Fg%3E%3Cg%20class%3D%22slice%22%3E%3Cpath%20class%3D%22surface%22%20d%3D%22M521.9830508474577%2C129l-0.26848375139976777%2C-44.694108851823955a44.6949152542373%2C44.6949152542373%200%200%201%200.0015429916653962872%2C-0.000009242330747838423Z%22%20style%3D%22pointer-events%3A%20all%3B%20stroke-width%3A%200%3B%20fill%3A%20rgb(118%2C%20183%2C%20178)%3B%20fill-opacity%3A%201%3B%20stroke%3A%20rgb(68%2C%2068%2C%2068)%3B%20stroke-opacity%3A%201%3B%22%2F%3E%3C%2Fg%3E%3Cg%20class%3D%22slice%22%3E%3Cpath%20class%3D%22surface%22%20d%3D%22M521.9830508474577%2C129l-0.2700267427451681%2C-44.69409955622394a44.6949152542373%2C44.6949152542373%200%200%201%200.001542991345400313%2C-0.000009295600015946093Z%22%20style%3D%22pointer-events%3A%20all%3B%20stroke-width%3A%200%3B%20fill%3A%20rgb(242%2C%20142%2C%2044)%3B%20fill-opacity%3A%201%3B%20stroke%3A%20rgb(68%2C%2068%2C%2068)%3B%20stroke-opacity%3A%201%3B%22%2F%3E%3C%2Fg%3E%3Cg%20class%3D%22titletext%22%3E%3Ctext%20data-notex%3D%221%22%20class%3D%22titletext%22%20transform%3D%22translate(521.9830508474577%2C173.6949152542373)translate(0%2C12)%22%20text-anchor%3D%22middle%22%20data-unformatted%3D%22SHOPPING%22%20data-math%3D%22N%22%20x%3D%220%22%20y%3D%220%22%20style%3D%22font-family%3A%20%26quot%3BOpen%20Sans%26quot%3B%2C%20verdana%2C%20arial%2C%20sans-serif%3B%20font-size%3A%2012px%3B%20fill%3A%20rgb(0%2C%200%2C%200)%3B%20fill-opacity%3A%200.65%3B%20white-space%3A%20pre%3B%22%3ESHOPPING%3C%2Ftext%3E%3C%2Fg%3E%3C%2Fg%3E%3Cg%20class%3D%22trace%22%20stroke-linejoin%3D%22round%22%20style%3D%22opacity%3A%201%3B%22%3E%3Cg%20class%3D%22slice%22%3E%3Cpath%20class%3D%22surface%22%20d%3D%22M621.3050847457627%2C129l0%2C-44.6949152542373a44.6949152542373%2C44.6949152542373%200%200%201%2043.70364657304063%2C54.05583004939532Z%22%20style%3D%22pointer-events%3A%20all%3B%20stroke-width%3A%200%3B%20fill%3A%20rgb(237%2C%20201%2C%2073)%3B%20fill-opacity%3A%201%3B%20stroke%3A%20rgb(68%2C%2068%2C%2068)%3B%20stroke-opacity%3A%201%3B%22%2F%3E%3C%2Fg%3E%3Cg%20class%3D%22slice%22%3E%3Cpath%20class%3D%22surface%22%20d%3D%22M621.3050847457627%2C129l-43.21684426774935%2C-11.399114927070189a44.6949152542373%2C44.6949152542373%200%200%201%2043.21684426774935%2C-33.295800327167115Z%22%20style%3D%22pointer-events%3A%20all%3B%20stroke-width%3A%200%3B%20fill%3A%20rgb(186%2C%20176%2C%20171)%3B%20fill-opacity%3A%201%3B%20stroke%3A%20rgb(68%2C%2068%2C%2068)%3B%20stroke-opacity%3A%201%3B%22%2F%3E%3C%2Fg%3E%3Cg%20class%3D%22slice%22%3E%3Cpath%20class%3D%22surface%22%20d%3D%22M621.3050847457627%2C129l-28.907326406599218%2C34.088149401306396a44.6949152542373%2C44.6949152542373%200%200%201%20-14.309517861150134%2C-45.48726432837658Z%22%20style%3D%22pointer-events%3A%20all%3B%20stroke-width%3A%200%3B%20fill%3A%20rgb(175%2C%20122%2C%20161)%3B%20fill-opacity%3A%201%3B%20stroke%3A%20rgb(68%2C%2068%2C%2068)%3B%20stroke-opacity%3A%201%3B%22%2F%3E%3C%2Fg%3E%3Cg%20class%3D%22slice%22%3E%3Cpath%20class%3D%22surface%22%20d%3D%22M621.3050847457627%2C129l10.382868227905933%2C43.472192226127675a44.6949152542373%2C44.6949152542373%200%200%201%20-39.29019463450515%2C-9.384042824821279Z%22%20style%3D%22pointer-events%3A%20all%3B%20stroke-width%3A%200%3B%20fill%3A%20rgb(175%2C%20122%2C%20161)%3B%20fill-opacity%3A%201%3B%20stroke%3A%20rgb(68%2C%2068%2C%2068)%3B%20stroke-opacity%3A%201%3B%22%2F%3E%3C%2Fg%3E%3Cg%20class%3D%22slice%22%3E%3Cpath%20class%3D%22surface%22%20d%3D%22M621.3050847457627%2C129l22.0442872210912%2C38.88039159393189a44.6949152542373%2C44.6949152542373%200%200%201%20-11.661418993185267%2C4.591800632195785Z%22%20style%3D%22pointer-events%3A%20all%3B%20stroke-width%3A%200%3B%20fill%3A%20rgb(175%2C%20122%2C%20161)%3B%20fill-opacity%3A%201%3B%20stroke%3A%20rgb(68%2C%2068%2C%2068)%3B%20stroke-opacity%3A%201%3B%22%2F%3E%3C%2Fg%3E%3Cg%20class%3D%22slice%22%3E%3Cpath%20class%3D%22surface%22%20d%3D%22M621.3050847457627%2C129l28.907326406599175%2C34.08814940130643a44.6949152542373%2C44.6949152542373%200%200%201%20-6.863039185507976%2C4.792242192625459Z%22%20style%3D%22pointer-events%3A%20all%3B%20stroke-width%3A%200%3B%20fill%3A%20rgb(242%2C%20142%2C%2044)%3B%20fill-opacity%3A%201%3B%20stroke%3A%20rgb(68%2C%2068%2C%2068)%3B%20stroke-opacity%3A%201%3B%22%2F%3E%3C%2Fg%3E%3Cg%20class%3D%22slice%22%3E%3Cpath%20class%3D%22surface%22%20d%3D%22M621.3050847457627%2C129l34.756443597232256%2C28.10026829152823a44.6949152542373%2C44.6949152542373%200%200%201%20-5.8491171906330806%2C5.9878811097782005Z%22%20style%3D%22pointer-events%3A%20all%3B%20stroke-width%3A%200%3B%20fill%3A%20rgb(175%2C%20122%2C%20161)%3B%20fill-opacity%3A%201%3B%20stroke%3A%20rgb(68%2C%2068%2C%2068)%3B%20stroke-opacity%3A%201%3B%22%2F%3E%3C%2Fg%3E%3Cg%20class%3D%22slice%22%3E%3Cpath%20class%3D%22surface%22%20d%3D%22M621.3050847457627%2C129l39.386481509097514%2C21.126772681055048a44.6949152542373%2C44.6949152542373%200%200%201%20-4.630037911865259%2C6.973495610473183Z%22%20style%3D%22pointer-events%3A%20all%3B%20stroke-width%3A%200%3B%20fill%3A%20rgb(242%2C%20142%2C%2044)%3B%20fill-opacity%3A%201%3B%20stroke%3A%20rgb(68%2C%2068%2C%2068)%3B%20stroke-opacity%3A%201%3B%22%2F%3E%3C%2Fg%3E%3Cg%20class%3D%22slice%22%3E%3Cpath%20class%3D%22surface%22%20d%3D%22M621.3050847457627%2C129l42.63504195946734%2C13.412257330438957a44.6949152542373%2C44.6949152542373%200%200%201%20-3.2485604503698227%2C7.714515350616091Z%22%20style%3D%22pointer-events%3A%20all%3B%20stroke-width%3A%200%3B%20fill%3A%20rgb(255%2C%20157%2C%20167)%3B%20fill-opacity%3A%201%3B%20stroke%3A%20rgb(68%2C%2068%2C%2068)%3B%20stroke-opacity%3A%201%3B%22%2F%3E%3C%2Fg%3E%3Cg%20class%3D%22slice%22%3E%3Cpath%20class%3D%22surface%22%20d%3D%22M621.3050847457627%2C129l43.70364657304062%2C9.360914795158038a44.6949152542373%2C44.6949152542373%200%200%201%20-1.0686046135732852%2C4.051342535280918Z%22%20style%3D%22pointer-events%3A%20all%3B%20stroke-width%3A%200%3B%20fill%3A%20rgb(237%2C%20201%2C%2073)%3B%20fill-opacity%3A%201%3B%20stroke%3A%20rgb(68%2C%2068%2C%2068)%3B%20stroke-opacity%3A%201%3B%22%2F%3E%3C%2Fg%3E%3Cg%20class%3D%22titletext%22%3E%3Ctext%20data-notex%3D%221%22%20class%3D%22titletext%22%20transform%3D%22translate(621.3050847457627%2C173.6949152542373)translate(0%2C12)%22%20text-anchor%3D%22middle%22%20data-unformatted%3D%22LIFESTYLE%22%20data-math%3D%22N%22%20x%3D%220%22%20y%3D%220%22%20style%3D%22font-family%3A%20%26quot%3BOpen%20Sans%26quot%3B%2C%20verdana%2C%20arial%2C%20sans-serif%3B%20font-size%3A%2012px%3B%20fill%3A%20rgb(0%2C%200%2C%200)%3B%20fill-opacity%3A%200.65%3B%20white-space%3A%20pre%3B%22%3ELIFESTYLE%3C%2Ftext%3E%3C%2Fg%3E%3C%2Fg%3E%3C%2Fg%3E%3Cg%20class%3D%22treemaplayer%22%2F%3E%3Cg%20class%3D%22sunburstlayer%22%2F%3E%3Cg%20class%3D%22glimages%22%2F%3E%3Cdefs%20id%3D%22topdefs-b3697a%22%3E%3Cg%20class%3D%22clips%22%2F%3E%3CclipPath%20id%3D%22legendb3697a%22%3E%3Crect%20width%3D%22396%22%20height%3D%22213%22%20x%3D%220%22%20y%3D%220%22%2F%3E%3C%2FclipPath%3E%3C%2Fdefs%3E%3Cg%20class%3D%22indicatorlayer%22%2F%3E%3Cg%20class%3D%22layer-above%22%3E%3Cg%20class%3D%22imagelayer%22%2F%3E%3Cg%20class%3D%22shapelayer%22%2F%3E%3C%2Fg%3E%3Cg%20class%3D%22infolayer%22%3E%3Cg%20class%3D%22legend%22%20pointer-events%3D%22all%22%20transform%3D%22translate(677.72%2C%2030)%22%3E%3Crect%20class%3D%22bg%22%20shape-rendering%3D%22crispEdges%22%20width%3D%22396%22%20height%3D%22213%22%20x%3D%220%22%20y%3D%220%22%20style%3D%22stroke%3A%20rgb(68%2C%2068%2C%2068)%3B%20stroke-opacity%3A%201%3B%20fill%3A%20rgb(255%2C%20255%2C%20255)%3B%20fill-opacity%3A%201%3B%20stroke-width%3A%200px%3B%22%2F%3E%3Cg%20class%3D%22scrollbox%22%20clip-path%3D%22url('%23legendb3697a')%22%20transform%3D%22translate(0%2C%200)%22%3E%3Cg%20class%3D%22groups%22%3E%3Cg%20class%3D%22traces%22%20transform%3D%22translate(0%2C%2014.5)%22%20style%3D%22opacity%3A%201%3B%22%3E%3Ctext%20class%3D%22legendtext%20user-select-none%22%20text-anchor%3D%22start%22%20x%3D%2240%22%20y%3D%224.680000000000001%22%20data-unformatted%3D%22ClanPlay%3A%20Community%20and%20Tools%20for%20Gamers%22%20data-math%3D%22N%22%20style%3D%22font-family%3A%20%26quot%3BOpen%20Sans%26quot%3B%2C%20verdana%2C%20arial%2C%20sans-serif%3B%20font-size%3A%2012px%3B%20fill%3A%20rgb(0%2C%200%2C%200)%3B%20fill-opacity%3A%200.65%3B%20white-space%3A%20pre%3B%22%3EClanPlay%3A%20Community%20and%20Tools%20for%20Gamers%3C%2Ftext%3E%3Cg%20class%3D%22layers%22%20style%3D%22opacity%3A%201%3B%22%3E%3Cg%20class%3D%22legendfill%22%2F%3E%3Cg%20class%3D%22legendlines%22%2F%3E%3Cg%20class%3D%22legendsymbols%22%3E%3Cg%20class%3D%22legendpoints%22%3E%3Cpath%20class%3D%22legendpie%22%20d%3D%22M6%2C6H-6V-6H6Z%22%20transform%3D%22translate(20%2C0)%22%20style%3D%22stroke-width%3A%200%3B%20fill%3A%20rgb(255%2C%20157%2C%20167)%3B%20fill-opacity%3A%201%3B%20stroke%3A%20rgb(68%2C%2068%2C%2068)%3B%20stroke-opacity%3A%201%3B%22%2F%3E%3C%2Fg%3E%3C%2Fg%3E%3C%2Fg%3E%3Crect%20class%3D%22legendtoggle%22%20pointer-events%3D%22all%22%20x%3D%220%22%20y%3D%22-9.5%22%20width%3D%22380.78125%22%20height%3D%2219%22%20style%3D%22cursor%3A%20pointer%3B%20fill%3A%20rgb(0%2C%200%2C%200)%3B%20fill-opacity%3A%200%3B%22%2F%3E%3C%2Fg%3E%3Cg%20class%3D%22traces%22%20transform%3D%22translate(0%2C%2033.5)%22%20style%3D%22opacity%3A%201%3B%22%3E%3Ctext%20class%3D%22legendtext%20user-select-none%22%20text-anchor%3D%22start%22%20x%3D%2240%22%20y%3D%224.680000000000001%22%20data-unformatted%3D%22Morse%20Machine%20for%20Ham%20Radio%22%20data-math%3D%22N%22%20style%3D%22font-family%3A%20%26quot%3BOpen%20Sans%26quot%3B%2C%20verdana%2C%20arial%2C%20sans-serif%3B%20font-size%3A%2012px%3B%20fill%3A%20rgb(0%2C%200%2C%200)%3B%20fill-opacity%3A%200.65%3B%20white-space%3A%20pre%3B%22%3EMorse%20Machine%20for%20Ham%20Radio%3C%2Ftext%3E%3Cg%20class%3D%22layers%22%20style%3D%22opacity%3A%201%3B%22%3E%3Cg%20class%3D%22legendfill%22%2F%3E%3Cg%20class%3D%22legendlines%22%2F%3E%3Cg%20class%3D%22legendsymbols%22%3E%3Cg%20class%3D%22legendpoints%22%3E%3Cpath%20class%3D%22legendpie%22%20d%3D%22M6%2C6H-6V-6H6Z%22%20transform%3D%22translate(20%2C0)%22%20style%3D%22stroke-width%3A%200%3B%20fill%3A%20rgb(225%2C%2087%2C%2089)%3B%20fill-opacity%3A%201%3B%20stroke%3A%20rgb(68%2C%2068%2C%2068)%3B%20stroke-opacity%3A%201%3B%22%2F%3E%3C%2Fg%3E%3C%2Fg%3E%3C%2Fg%3E%3Crect%20class%3D%22legendtoggle%22%20pointer-events%3D%22all%22%20x%3D%220%22%20y%3D%22-9.5%22%20width%3D%22380.78125%22%20height%3D%2219%22%20style%3D%22cursor%3A%20pointer%3B%20fill%3A%20rgb(0%2C%200%2C%200)%3B%20fill-opacity%3A%200%3B%22%2F%3E%3C%2Fg%3E%3Cg%20class%3D%22traces%22%20transform%3D%22translate(0%2C%2052.5)%22%20style%3D%22opacity%3A%201%3B%22%3E%3Ctext%20class%3D%22legendtext%20user-select-none%22%20text-anchor%3D%22start%22%20x%3D%2240%22%20y%3D%224.680000000000001%22%20data-unformatted%3D%22CW%20Beacon%20for%20Ham%20Radio%22%20data-math%3D%22N%22%20style%3D%22font-family%3A%20%26quot%3BOpen%20Sans%26quot%3B%2C%20verdana%2C%20arial%2C%20sans-serif%3B%20font-size%3A%2012px%3B%20fill%3A%20rgb(0%2C%200%2C%200)%3B%20fill-opacity%3A%200.65%3B%20white-space%3A%20pre%3B%22%3ECW%20Beacon%20for%20Ham%20Radio%3C%2Ftext%3E%3Cg%20class%3D%22layers%22%20style%3D%22opacity%3A%201%3B%22%3E%3Cg%20class%3D%22legendfill%22%2F%3E%3Cg%20class%3D%22legendlines%22%2F%3E%3Cg%20class%3D%22legendsymbols%22%3E%3Cg%20class%3D%22legendpoints%22%3E%3Cpath%20class%3D%22legendpie%22%20d%3D%22M6%2C6H-6V-6H6Z%22%20transform%3D%22translate(20%2C0)%22%20style%3D%22stroke-width%3A%200%3B%20fill%3A%20rgb(118%2C%20183%2C%20178)%3B%20fill-opacity%3A%201%3B%20stroke%3A%20rgb(68%2C%2068%2C%2068)%3B%20stroke-opacity%3A%201%3B%22%2F%3E%3C%2Fg%3E%3C%2Fg%3E%3C%2Fg%3E%3Crect%20class%3D%22legendtoggle%22%20pointer-events%3D%22all%22%20x%3D%220%22%20y%3D%22-9.5%22%20width%3D%22380.78125%22%20height%3D%2219%22%20style%3D%22cursor%3A%20pointer%3B%20fill%3A%20rgb(0%2C%200%2C%200)%3B%20fill-opacity%3A%200%3B%22%2F%3E%3C%2Fg%3E%3Cg%20class%3D%22traces%22%20transform%3D%22translate(0%2C%2071.5)%22%20style%3D%22opacity%3A%201%3B%22%3E%3Ctext%20class%3D%22legendtext%20user-select-none%22%20text-anchor%3D%22start%22%20x%3D%2240%22%20y%3D%224.680000000000001%22%20data-unformatted%3D%22chat%20dz%22%20data-math%3D%22N%22%20style%3D%22font-family%3A%20%26quot%3BOpen%20Sans%26quot%3B%2C%20verdana%2C%20arial%2C%20sans-serif%3B%20font-size%3A%2012px%3B%20fill%3A%20rgb(0%2C%200%2C%200)%3B%20fill-opacity%3A%200.65%3B%20white-space%3A%20pre%3B%22%3Echat%20dz%3C%2Ftext%3E%3Cg%20class%3D%22layers%22%20style%3D%22opacity%3A%201%3B%22%3E%3Cg%20class%3D%22legendfill%22%2F%3E%3Cg%20class%3D%22legendlines%22%2F%3E%3Cg%20class%3D%22legendsymbols%22%3E%3Cg%20class%3D%22legendpoints%22%3E%3Cpath%20class%3D%22legendpie%22%20d%3D%22M6%2C6H-6V-6H6Z%22%20transform%3D%22translate(20%2C0)%22%20style%3D%22stroke-width%3A%200%3B%20fill%3A%20rgb(242%2C%20142%2C%2044)%3B%20fill-opacity%3A%201%3B%20stroke%3A%20rgb(68%2C%2068%2C%2068)%3B%20stroke-opacity%3A%201%3B%22%2F%3E%3C%2Fg%3E%3C%2Fg%3E%3C%2Fg%3E%3Crect%20class%3D%22legendtoggle%22%20pointer-events%3D%22all%22%20x%3D%220%22%20y%3D%22-9.5%22%20width%3D%22380.78125%22%20height%3D%2219%22%20style%3D%22cursor%3A%20pointer%3B%20fill%3A%20rgb(0%2C%200%2C%200)%3B%20fill-opacity%3A%200%3B%22%2F%3E%3C%2Fg%3E%3Cg%20class%3D%22traces%22%20transform%3D%22translate(0%2C%2090.5)%22%20style%3D%22opacity%3A%201%3B%22%3E%3Ctext%20class%3D%22legendtext%20user-select-none%22%20text-anchor%3D%22start%22%20x%3D%2240%22%20y%3D%224.680000000000001%22%20data-unformatted%3D%222%20Amateur%20ham%20radio%20CW%20Morse%20code%20practice%20keys%20TX%22%20data-math%3D%22N%22%20style%3D%22font-family%3A%20%26quot%3BOpen%20Sans%26quot%3B%2C%20verdana%2C%20arial%2C%20sans-serif%3B%20font-size%3A%2012px%3B%20fill%3A%20rgb(0%2C%200%2C%200)%3B%20fill-opacity%3A%200.65%3B%20white-space%3A%20pre%3B%22%3E2%20Amateur%20ham%20radio%20CW%20Morse%20code%20practice%20keys%20TX%3C%2Ftext%3E%3Cg%20class%3D%22layers%22%20style%3D%22opacity%3A%201%3B%22%3E%3Cg%20class%3D%22legendfill%22%2F%3E%3Cg%20class%3D%22legendlines%22%2F%3E%3Cg%20class%3D%22legendsymbols%22%3E%3Cg%20class%3D%22legendpoints%22%3E%3Cpath%20class%3D%22legendpie%22%20d%3D%22M6%2C6H-6V-6H6Z%22%20transform%3D%22translate(20%2C0)%22%20style%3D%22stroke-width%3A%200%3B%20fill%3A%20rgb(78%2C%20121%2C%20167)%3B%20fill-opacity%3A%201%3B%20stroke%3A%20rgb(68%2C%2068%2C%2068)%3B%20stroke-opacity%3A%201%3B%22%2F%3E%3C%2Fg%3E%3C%2Fg%3E%3C%2Fg%3E%3Crect%20class%3D%22legendtoggle%22%20pointer-events%3D%22all%22%20x%3D%220%22%20y%3D%22-9.5%22%20width%3D%22380.78125%22%20height%3D%2219%22%20style%3D%22cursor%3A%20pointer%3B%20fill%3A%20rgb(0%2C%200%2C%200)%3B%20fill-opacity%3A%200%3B%22%2F%3E%3C%2Fg%3E%3Cg%20class%3D%22traces%22%20transform%3D%22translate(0%2C%20109.5)%22%20style%3D%22opacity%3A%201%3B%22%3E%3Ctext%20class%3D%22legendtext%20user-select-none%22%20text-anchor%3D%22start%22%20x%3D%2240%22%20y%3D%224.680000000000001%22%20data-unformatted%3D%22Best%20Browser%20BD%20social%20networking%22%20data-math%3D%22N%22%20style%3D%22font-family%3A%20%26quot%3BOpen%20Sans%26quot%3B%2C%20verdana%2C%20arial%2C%20sans-serif%3B%20font-size%3A%2012px%3B%20fill%3A%20rgb(0%2C%200%2C%200)%3B%20fill-opacity%3A%200.65%3B%20white-space%3A%20pre%3B%22%3EBest%20Browser%20BD%20social%20networking%3C%2Ftext%3E%3Cg%20class%3D%22layers%22%20style%3D%22opacity%3A%201%3B%22%3E%3Cg%20class%3D%22legendfill%22%2F%3E%3Cg%20class%3D%22legendlines%22%2F%3E%3Cg%20class%3D%22legendsymbols%22%3E%3Cg%20class%3D%22legendpoints%22%3E%3Cpath%20class%3D%22legendpie%22%20d%3D%22M6%2C6H-6V-6H6Z%22%20transform%3D%22translate(20%2C0)%22%20style%3D%22stroke-width%3A%200%3B%20fill%3A%20rgb(242%2C%20142%2C%2044)%3B%20fill-opacity%3A%201%3B%20stroke%3A%20rgb(68%2C%2068%2C%2068)%3B%20stroke-opacity%3A%201%3B%22%2F%3E%3C%2Fg%3E%3C%2Fg%3E%3C%2Fg%3E%3Crect%20class%3D%22legendtoggle%22%20pointer-events%3D%22all%22%20x%3D%220%22%20y%3D%22-9.5%22%20width%3D%22380.78125%22%20height%3D%2219%22%20style%3D%22cursor%3A%20pointer%3B%20fill%3A%20rgb(0%2C%200%2C%200)%3B%20fill-opacity%3A%200%3B%22%2F%3E%3C%2Fg%3E%3Cg%20class%3D%22traces%22%20transform%3D%22translate(0%2C%20128.5)%22%20style%3D%22opacity%3A%201%3B%22%3E%3Ctext%20class%3D%22legendtext%20user-select-none%22%20text-anchor%3D%22start%22%20x%3D%2240%22%20y%3D%224.680000000000001%22%20data-unformatted%3D%22Cb%20browser%22%20data-math%3D%22N%22%20style%3D%22font-family%3A%20%26quot%3BOpen%20Sans%26quot%3B%2C%20verdana%2C%20arial%2C%20sans-serif%3B%20font-size%3A%2012px%3B%20fill%3A%20rgb(0%2C%200%2C%200)%3B%20fill-opacity%3A%200.65%3B%20white-space%3A%20pre%3B%22%3ECb%20browser%3C%2Ftext%3E%3Cg%20class%3D%22layers%22%20style%3D%22opacity%3A%201%3B%22%3E%3Cg%20class%3D%22legendfill%22%2F%3E%3Cg%20class%3D%22legendlines%22%2F%3E%3Cg%20class%3D%22legendsymbols%22%3E%3Cg%20class%3D%22legendpoints%22%3E%3Cpath%20class%3D%22legendpie%22%20d%3D%22M6%2C6H-6V-6H6Z%22%20transform%3D%22translate(20%2C0)%22%20style%3D%22stroke-width%3A%200%3B%20fill%3A%20rgb(242%2C%20142%2C%2044)%3B%20fill-opacity%3A%201%3B%20stroke%3A%20rgb(68%2C%2068%2C%2068)%3B%20stroke-opacity%3A%201%3B%22%2F%3E%3C%2Fg%3E%3C%2Fg%3E%3C%2Fg%3E%3Crect%20class%3D%22legendtoggle%22%20pointer-events%3D%22all%22%20x%3D%220%22%20y%3D%22-9.5%22%20width%3D%22380.78125%22%20height%3D%2219%22%20style%3D%22cursor%3A%20pointer%3B%20fill%3A%20rgb(0%2C%200%2C%200)%3B%20fill-opacity%3A%200%3B%22%2F%3E%3C%2Fg%3E%3Cg%20class%3D%22traces%22%20transform%3D%22translate(0%2C%20147.5)%22%20style%3D%22opacity%3A%201%3B%22%3E%3Ctext%20class%3D%22legendtext%20user-select-none%22%20text-anchor%3D%22start%22%20x%3D%2240%22%20y%3D%224.680000000000001%22%20data-unformatted%3D%22BV%22%20data-math%3D%22N%22%20style%3D%22font-family%3A%20%26quot%3BOpen%20Sans%26quot%3B%2C%20verdana%2C%20arial%2C%20sans-serif%3B%20font-size%3A%2012px%3B%20fill%3A%20rgb(0%2C%200%2C%200)%3B%20fill-opacity%3A%200.65%3B%20white-space%3A%20pre%3B%22%3EBV%3C%2Ftext%3E%3Cg%20class%3D%22layers%22%20style%3D%22opacity%3A%201%3B%22%3E%3Cg%20class%3D%22legendfill%22%2F%3E%3Cg%20class%3D%22legendlines%22%2F%3E%3Cg%20class%3D%22legendsymbols%22%3E%3Cg%20class%3D%22legendpoints%22%3E%3Cpath%20class%3D%22legendpie%22%20d%3D%22M6%2C6H-6V-6H6Z%22%20transform%3D%22translate(20%2C0)%22%20style%3D%22stroke-width%3A%200%3B%20fill%3A%20rgb(186%2C%20176%2C%20171)%3B%20fill-opacity%3A%201%3B%20stroke%3A%20rgb(68%2C%2068%2C%2068)%3B%20stroke-opacity%3A%201%3B%22%2F%3E%3C%2Fg%3E%3C%2Fg%3E%3C%2Fg%3E%3Crect%20class%3D%22legendtoggle%22%20pointer-events%3D%22all%22%20x%3D%220%22%20y%3D%22-9.5%22%20width%3D%22380.78125%22%20height%3D%2219%22%20style%3D%22cursor%3A%20pointer%3B%20fill%3A%20rgb(0%2C%200%2C%200)%3B%20fill-opacity%3A%200%3B%22%2F%3E%3C%2Fg%3E%3Cg%20class%3D%22traces%22%20transform%3D%22translate(0%2C%20166.5)%22%20style%3D%22opacity%3A%201%3B%22%3E%3Ctext%20class%3D%22legendtext%20user-select-none%22%20text-anchor%3D%22start%22%20x%3D%2240%22%20y%3D%224.680000000000001%22%20data-unformatted%3D%22BS-Mobile%22%20data-math%3D%22N%22%20style%3D%22font-family%3A%20%26quot%3BOpen%20Sans%26quot%3B%2C%20verdana%2C%20arial%2C%20sans-serif%3B%20font-size%3A%2012px%3B%20fill%3A%20rgb(0%2C%200%2C%200)%3B%20fill-opacity%3A%200.65%3B%20white-space%3A%20pre%3B%22%3EBS-Mobile%3C%2Ftext%3E%3Cg%20class%3D%22layers%22%20style%3D%22opacity%3A%201%3B%22%3E%3Cg%20class%3D%22legendfill%22%2F%3E%3Cg%20class%3D%22legendlines%22%2F%3E%3Cg%20class%3D%22legendsymbols%22%3E%3Cg%20class%3D%22legendpoints%22%3E%3Cpath%20class%3D%22legendpie%22%20d%3D%22M6%2C6H-6V-6H6Z%22%20transform%3D%22translate(20%2C0)%22%20style%3D%22stroke-width%3A%200%3B%20fill%3A%20rgb(255%2C%20157%2C%20167)%3B%20fill-opacity%3A%201%3B%20stroke%3A%20rgb(68%2C%2068%2C%2068)%3B%20stroke-opacity%3A%201%3B%22%2F%3E%3C%2Fg%3E%3C%2Fg%3E%3C%2Fg%3E%3Crect%20class%3D%22legendtoggle%22%20pointer-events%3D%22all%22%20x%3D%220%22%20y%3D%22-9.5%22%20width%3D%22380.78125%22%20height%3D%2219%22%20style%3D%22cursor%3A%20pointer%3B%20fill%3A%20rgb(0%2C%200%2C%200)%3B%20fill-opacity%3A%200%3B%22%2F%3E%3C%2Fg%3E%3Cg%20class%3D%22traces%22%20transform%3D%22translate(0%2C%20185.5)%22%20style%3D%22opacity%3A%201%3B%22%3E%3Ctext%20class%3D%22legendtext%20user-select-none%22%20text-anchor%3D%22start%22%20x%3D%2240%22%20y%3D%224.680000000000001%22%20data-unformatted%3D%22EJ%20messenger%22%20data-math%3D%22N%22%20style%3D%22font-family%3A%20%26quot%3BOpen%20Sans%26quot%3B%2C%20verdana%2C%20arial%2C%20sans-serif%3B%20font-size%3A%2012px%3B%20fill%3A%20rgb(0%2C%200%2C%200)%3B%20fill-opacity%3A%200.65%3B%20white-space%3A%20pre%3B%22%3EEJ%20messenger%3C%2Ftext%3E%3Cg%20class%3D%22layers%22%20style%3D%22opacity%3A%201%3B%22%3E%3Cg%20class%3D%22legendfill%22%2F%3E%3Cg%20class%3D%22legendlines%22%2F%3E%3Cg%20class%3D%22legendsymbols%22%3E%3Cg%20class%3D%22legendpoints%22%3E%3Cpath%20class%3D%22legendpie%22%20d%3D%22M6%2C6H-6V-6H6Z%22%20transform%3D%22translate(20%2C0)%22%20style%3D%22stroke-width%3A%200%3B%20fill%3A%20rgb(225%2C%2087%2C%2089)%3B%20fill-opacity%3A%201%3B%20stroke%3A%20rgb(68%2C%2068%2C%2068)%3B%20stroke-opacity%3A%201%3B%22%2F%3E%3C%2Fg%3E%3C%2Fg%3E%3C%2Fg%3E%3Crect%20class%3D%22legendtoggle%22%20pointer-events%3D%22all%22%20x%3D%220%22%20y%3D%22-9.5%22%20width%3D%22380.78125%22%20height%3D%2219%22%20style%3D%22cursor%3A%20pointer%3B%20fill%3A%20rgb(0%2C%200%2C%200)%3B%20fill-opacity%3A%200%3B%22%2F%3E%3C%2Fg%3E%3Cg%20class%3D%22traces%22%20transform%3D%22translate(0%2C%20204.5)%22%20style%3D%22opacity%3A%201%3B%22%3E%3Ctext%20class%3D%22legendtext%20user-select-none%22%20text-anchor%3D%22start%22%20x%3D%2240%22%20y%3D%224.680000000000001%22%20data-unformatted%3D%22Mad%20Dash%20Fo'%20Cash%22%20data-math%3D%22N%22%20style%3D%22font-family%3A%20%26quot%3BOpen%20Sans%26quot%3B%2C%20verdana%2C%20arial%2C%20sans-serif%3B%20font-size%3A%2012px%3B%20fill%3A%20rgb(0%2C%200%2C%200)%3B%20fill-opacity%3A%200.65%3B%20white-space%3A%20pre%3B%22%3EMad%20Dash%20Fo'%20Cash%3C%2Ftext%3E%3Cg%20class%3D%22layers%22%20style%3D%22opacity%3A%201%3B%22%3E%3Cg%20class%3D%22legendfill%22%2F%3E%3Cg%20class%3D%22legendlines%22%2F%3E%3Cg%20class%3D%22legendsymbols%22%3E%3Cg%20class%3D%22legendpoints%22%3E%3Cpath%20class%3D%22legendpie%22%20d%3D%22M6%2C6H-6V-6H6Z%22%20transform%3D%22translate(20%2C0)%22%20style%3D%22stroke-width%3A%200%3B%20fill%3A%20rgb(255%2C%20157%2C%20167)%3B%20fill-opacity%3A%201%3B%20stroke%3A%20rgb(68%2C%2068%2C%2068)%3B%20stroke-opacity%3A%201%3B%22%2F%3E%3C%2Fg%3E%3C%2Fg%3E%3C%2Fg%3E%3Crect%20class%3D%22legendtoggle%22%20pointer-events%3D%22all%22%20x%3D%220%22%20y%3D%22-9.5%22%20width%3D%22380.78125%22%20height%3D%2219%22%20style%3D%22cursor%3A%20pointer%3B%20fill%3A%20rgb(0%2C%200%2C%200)%3B%20fill-opacity%3A%200%3B%22%2F%3E%3C%2Fg%3E%3Cg%20class%3D%22traces%22%20transform%3D%22translate(0%2C%20223.5)%22%20style%3D%22opacity%3A%201%3B%22%3E%3Ctext%20class%3D%22legendtext%20user-select-none%22%20text-anchor%3D%22start%22%20x%3D%2240%22%20y%3D%224.680000000000001%22%20data-unformatted%3D%22211%3ACK%22%20data-math%3D%22N%22%20style%3D%22font-family%3A%20%26quot%3BOpen%20Sans%26quot%3B%2C%20verdana%2C%20arial%2C%20sans-serif%3B%20font-size%3A%2012px%3B%20fill%3A%20rgb(0%2C%200%2C%200)%3B%20fill-opacity%3A%200.65%3B%20white-space%3A%20pre%3B%22%3E211%3ACK%3C%2Ftext%3E%3Cg%20class%3D%22layers%22%20style%3D%22opacity%3A%201%3B%22%3E%3Cg%20class%3D%22legendfill%22%2F%3E%3Cg%20class%3D%22legendlines%22%2F%3E%3Cg%20class%3D%22legendsymbols%22%3E%3Cg%20class%3D%22legendpoints%22%3E%3Cpath%20class%3D%22legendpie%22%20d%3D%22M6%2C6H-6V-6H6Z%22%20transform%3D%22translate(20%2C0)%22%20style%3D%22stroke-width%3A%200%3B%20fill%3A%20rgb(242%2C%20142%2C%2044)%3B%20fill-opacity%3A%201%3B%20stroke%3A%20rgb(68%2C%2068%2C%2068)%3B%20stroke-opacity%3A%201%3B%22%2F%3E%3C%2Fg%3E%3C%2Fg%3E%3C%2Fg%3E%3Crect%20class%3D%22legendtoggle%22%20pointer-events%3D%22all%22%20x%3D%220%22%20y%3D%22-9.5%22%20width%3D%22380.78125%22%20height%3D%2219%22%20style%3D%22cursor%3A%20pointer%3B%20fill%3A%20rgb(0%2C%200%2C%200)%3B%20fill-opacity%3A%200%3B%22%2F%3E%3C%2Fg%3E%3Cg%20class%3D%22traces%22%20transform%3D%22translate(0%2C%20242.5)%22%20style%3D%22opacity%3A%201%3B%22%3E%3Ctext%20class%3D%22legendtext%20user-select-none%22%20text-anchor%3D%22start%22%20x%3D%2240%22%20y%3D%224.680000000000001%22%20data-unformatted%3D%22Axe%20Champs!%20Wars%22%20data-math%3D%22N%22%20style%3D%22font-family%3A%20%26quot%3BOpen%20Sans%26quot%3B%2C%20verdana%2C%20arial%2C%20sans-serif%3B%20font-size%3A%2012px%3B%20fill%3A%20rgb(0%2C%200%2C%200)%3B%20fill-opacity%3A%200.65%3B%20white-space%3A%20pre%3B%22%3EAxe%20Champs!%20Wars%3C%2Ftext%3E%3Cg%20class%3D%22layers%22%20style%3D%22opacity%3A%201%3B%22%3E%3Cg%20class%3D%22legendfill%22%2F%3E%3Cg%20class%3D%22legendlines%22%2F%3E%3Cg%20class%3D%22legendsymbols%22%3E%3Cg%20class%3D%22legendpoints%22%3E%3Cpath%20class%3D%22legendpie%22%20d%3D%22M6%2C6H-6V-6H6Z%22%20transform%3D%22translate(20%2C0)%22%20style%3D%22stroke-width%3A%200%3B%20fill%3A%20rgb(237%2C%20201%2C%2073)%3B%20fill-opacity%3A%201%3B%20stroke%3A%20rgb(68%2C%2068%2C%2068)%3B%20stroke-opacity%3A%201%3B%22%2F%3E%3C%2Fg%3E%3C%2Fg%3E%3C%2Fg%3E%3Crect%20class%3D%22legendtoggle%22%20pointer-events%3D%22all%22%20x%3D%220%22%20y%3D%22-9.5%22%20width%3D%22380.78125%22%20height%3D%2219%22%20style%3D%22cursor%3A%20pointer%3B%20fill%3A%20rgb(0%2C%200%2C%200)%3B%20fill-opacity%3A%200%3B%22%2F%3E%3C%2Fg%3E%3Cg%20class%3D%22traces%22%20transform%3D%22translate(0%2C%20261.5)%22%20style%3D%22opacity%3A%201%3B%22%3E%3Ctext%20class%3D%22legendtext%20user-select-none%22%20text-anchor%3D%22start%22%20x%3D%2240%22%20y%3D%224.680000000000001%22%20data-unformatted%3D%22Brick%20Breaker%20BR%22%20data-math%3D%22N%22%20style%3D%22font-family%3A%20%26quot%3BOpen%20Sans%26quot%3B%2C%20verdana%2C%20arial%2C%20sans-serif%3B%20font-size%3A%2012px%3B%20fill%3A%20rgb(0%2C%200%2C%200)%3B%20fill-opacity%3A%200.65%3B%20white-space%3A%20pre%3B%22%3EBrick%20Breaker%20BR%3C%2Ftext%3E%3Cg%20class%3D%22layers%22%20style%3D%22opacity%3A%201%3B%22%3E%3Cg%20class%3D%22legendfill%22%2F%3E%3Cg%20class%3D%22legendlines%22%2F%3E%3Cg%20class%3D%22legendsymbols%22%3E%3Cg%20class%3D%22legendpoints%22%3E%3Cpath%20class%3D%22legendpie%22%20d%3D%22M6%2C6H-6V-6H6Z%22%20transform%3D%22translate(20%2C0)%22%20style%3D%22stroke-width%3A%200%3B%20fill%3A%20rgb(242%2C%20142%2C%2044)%3B%20fill-opacity%3A%201%3B%20stroke%3A%20rgb(68%2C%2068%2C%2068)%3B%20stroke-opacity%3A%201%3B%22%2F%3E%3C%2Fg%3E%3C%2Fg%3E%3C%2Fg%3E%3Crect%20class%3D%22legendtoggle%22%20pointer-events%3D%22all%22%20x%3D%220%22%20y%3D%22-9.5%22%20width%3D%22380.78125%22%20height%3D%2219%22%20style%3D%22cursor%3A%20pointer%3B%20fill%3A%20rgb(0%2C%200%2C%200)%3B%20fill-opacity%3A%200%3B%22%2F%3E%3C%2Fg%3E%3Cg%20class%3D%22traces%22%20transform%3D%22translate(0%2C%20280.5)%22%20style%3D%22opacity%3A%201%3B%22%3E%3Ctext%20class%3D%22legendtext%20user-select-none%22%20text-anchor%3D%22start%22%20x%3D%2240%22%20y%3D%224.680000000000001%22%20data-unformatted%3D%22Flippy%20Axe%20%3A%20Flip%20The%20Knife%20%26amp%3B%20Axe%20Simulator%22%20data-math%3D%22N%22%20style%3D%22font-family%3A%20%26quot%3BOpen%20Sans%26quot%3B%2C%20verdana%2C%20arial%2C%20sans-serif%3B%20font-size%3A%2012px%3B%20fill%3A%20rgb(0%2C%200%2C%200)%3B%20fill-opacity%3A%200.65%3B%20white-space%3A%20pre%3B%22%3EFlippy%20Axe%20%3A%20Flip%20The%20Knife%20%26amp%3B%20Axe%20Simulator%3C%2Ftext%3E%3Cg%20class%3D%22layers%22%20style%3D%22opacity%3A%201%3B%22%3E%3Cg%20class%3D%22legendfill%22%2F%3E%3Cg%20class%3D%22legendlines%22%2F%3E%3Cg%20class%3D%22legendsymbols%22%3E%3Cg%20class%3D%22legendpoints%22%3E%3Cpath%20class%3D%22legendpie%22%20d%3D%22M6%2C6H-6V-6H6Z%22%20transform%3D%22translate(20%2C0)%22%20style%3D%22stroke-width%3A%200%3B%20fill%3A%20rgb(175%2C%20122%2C%20161)%3B%20fill-opacity%3A%201%3B%20stroke%3A%20rgb(68%2C%2068%2C%2068)%3B%20stroke-opacity%3A%201%3B%22%2F%3E%3C%2Fg%3E%3C%2Fg%3E%3C%2Fg%3E%3Crect%20class%3D%22legendtoggle%22%20pointer-events%3D%22all%22%20x%3D%220%22%20y%3D%22-9.5%22%20width%3D%22380.78125%22%20height%3D%2219%22%20style%3D%22cursor%3A%20pointer%3B%20fill%3A%20rgb(0%2C%200%2C%200)%3B%20fill-opacity%3A%200%3B%22%2F%3E%3C%2Fg%3E%3Cg%20class%3D%22traces%22%20transform%3D%22translate(0%2C%20299.5)%22%20style%3D%22opacity%3A%201%3B%22%3E%3Ctext%20class%3D%22legendtext%20user-select-none%22%20text-anchor%3D%22start%22%20x%3D%2240%22%20y%3D%224.680000000000001%22%20data-unformatted%3D%22CP%20Trivia%22%20data-math%3D%22N%22%20style%3D%22font-family%3A%20%26quot%3BOpen%20Sans%26quot%3B%2C%20verdana%2C%20arial%2C%20sans-serif%3B%20font-size%3A%2012px%3B%20fill%3A%20rgb(0%2C%200%2C%200)%3B%20fill-opacity%3A%200.65%3B%20white-space%3A%20pre%3B%22%3ECP%20Trivia%3C%2Ftext%3E%3Cg%20class%3D%22layers%22%20style%3D%22opacity%3A%201%3B%22%3E%3Cg%20class%3D%22legendfill%22%2F%3E%3Cg%20class%3D%22legendlines%22%2F%3E%3Cg%20class%3D%22legendsymbols%22%3E%3Cg%20class%3D%22legendpoints%22%3E%3Cpath%20class%3D%22legendpie%22%20d%3D%22M6%2C6H-6V-6H6Z%22%20transform%3D%22translate(20%2C0)%22%20style%3D%22stroke-width%3A%200%3B%20fill%3A%20rgb(156%2C%20117%2C%2095)%3B%20fill-opacity%3A%201%3B%20stroke%3A%20rgb(68%2C%2068%2C%2068)%3B%20stroke-opacity%3A%201%3B%22%2F%3E%3C%2Fg%3E%3C%2Fg%3E%3C%2Fg%3E%3Crect%20class%3D%22legendtoggle%22%20pointer-events%3D%22all%22%20x%3D%220%22%20y%3D%22-9.5%22%20width%3D%22380.78125%22%20height%3D%2219%22%20style%3D%22cursor%3A%20pointer%3B%20fill%3A%20rgb(0%2C%200%2C%200)%3B%20fill-opacity%3A%200%3B%22%2F%3E%3C%2Fg%3E%3Cg%20class%3D%22traces%22%20transform%3D%22translate(0%2C%20318.5)%22%20style%3D%22opacity%3A%201%3B%22%3E%3Ctext%20class%3D%22legendtext%20user-select-none%22%20text-anchor%3D%22start%22%20x%3D%2240%22%20y%3D%224.680000000000001%22%20data-unformatted%3D%22EC%20Mover%22%20data-math%3D%22N%22%20style%3D%22font-family%3A%20%26quot%3BOpen%20Sans%26quot%3B%2C%20verdana%2C%20arial%2C%20sans-serif%3B%20font-size%3A%2012px%3B%20fill%3A%20rgb(0%2C%200%2C%200)%3B%20fill-opacity%3A%200.65%3B%20white-space%3A%20pre%3B%22%3EEC%20Mover%3C%2Ftext%3E%3Cg%20class%3D%22layers%22%20style%3D%22opacity%3A%201%3B%22%3E%3Cg%20class%3D%22legendfill%22%2F%3E%3Cg%20class%3D%22legendlines%22%2F%3E%3Cg%20class%3D%22legendsymbols%22%3E%3Cg%20class%3D%22legendpoints%22%3E%3Cpath%20class%3D%22legendpie%22%20d%3D%22M6%2C6H-6V-6H6Z%22%20transform%3D%22translate(20%2C0)%22%20style%3D%22stroke-width%3A%200%3B%20fill%3A%20rgb(255%2C%20157%2C%20167)%3B%20fill-opacity%3A%201%3B%20stroke%3A%20rgb(68%2C%2068%2C%2068)%3B%20stroke-opacity%3A%201%3B%22%2F%3E%3C%2Fg%3E%3C%2Fg%3E%3C%2Fg%3E%3Crect%20class%3D%22legendtoggle%22%20pointer-events%3D%22all%22%20x%3D%220%22%20y%3D%22-9.5%22%20width%3D%22380.78125%22%20height%3D%2219%22%20style%3D%22cursor%3A%20pointer%3B%20fill%3A%20rgb(0%2C%200%2C%200)%3B%20fill-opacity%3A%200%3B%22%2F%3E%3C%2Fg%3E%3Cg%20class%3D%22traces%22%20transform%3D%22translate(0%2C%20337.5)%22%20style%3D%22opacity%3A%201%3B%22%3E%3Ctext%20class%3D%22legendtext%20user-select-none%22%20text-anchor%3D%22start%22%20x%3D%2240%22%20y%3D%224.680000000000001%22%20data-unformatted%3D%22Mu.F.O.%22%20data-math%3D%22N%22%20style%3D%22font-family%3A%20%26quot%3BOpen%20Sans%26quot%3B%2C%20verdana%2C%20arial%2C%20sans-serif%3B%20font-size%3A%2012px%3B%20fill%3A%20rgb(0%2C%200%2C%200)%3B%20fill-opacity%3A%200.65%3B%20white-space%3A%20pre%3B%22%3EMu.F.O.%3C%2Ftext%3E%3Cg%20class%3D%22layers%22%20style%3D%22opacity%3A%201%3B%22%3E%3Cg%20class%3D%22legendfill%22%2F%3E%3Cg%20class%3D%22legendlines%22%2F%3E%3Cg%20class%3D%22legendsymbols%22%3E%3Cg%20class%3D%22legendpoints%22%3E%3Cpath%20class%3D%22legendpie%22%20d%3D%22M6%2C6H-6V-6H6Z%22%20transform%3D%22translate(20%2C0)%22%20style%3D%22stroke-width%3A%200%3B%20fill%3A%20rgb(175%2C%20122%2C%20161)%3B%20fill-opacity%3A%201%3B%20stroke%3A%20rgb(68%2C%2068%2C%2068)%3B%20stroke-opacity%3A%201%3B%22%2F%3E%3C%2Fg%3E%3C%2Fg%3E%3C%2Fg%3E%3Crect%20class%3D%22legendtoggle%22%20pointer-events%3D%22all%22%20x%3D%220%22%20y%3D%22-9.5%22%20width%3D%22380.78125%22%20height%3D%2219%22%20style%3D%22cursor%3A%20pointer%3B%20fill%3A%20rgb(0%2C%200%2C%200)%3B%20fill-opacity%3A%200%3B%22%2F%3E%3C%2Fg%3E%3Cg%20class%3D%22traces%22%20transform%3D%22translate(0%2C%20356.5)%22%20style%3D%22opacity%3A%201%3B%22%3E%3Ctext%20class%3D%22legendtext%20user-select-none%22%20text-anchor%3D%22start%22%20x%3D%2240%22%20y%3D%224.680000000000001%22%20data-unformatted%3D%22Ra%20Ga%20Ba%22%20data-math%3D%22N%22%20style%3D%22font-family%3A%20%26quot%3BOpen%20Sans%26quot%3B%2C%20verdana%2C%20arial%2C%20sans-serif%3B%20font-size%3A%2012px%3B%20fill%3A%20rgb(0%2C%200%2C%200)%3B%20fill-opacity%3A%200.65%3B%20white-space%3A%20pre%3B%22%3ERa%20Ga%20Ba%3C%2Ftext%3E%3Cg%20class%3D%22layers%22%20style%3D%22opacity%3A%201%3B%22%3E%3Cg%20class%3D%22legendfill%22%2F%3E%3Cg%20class%3D%22legendlines%22%2F%3E%3Cg%20class%3D%22legendsymbols%22%3E%3Cg%20class%3D%22legendpoints%22%3E%3Cpath%20class%3D%22legendpie%22%20d%3D%22M6%2C6H-6V-6H6Z%22%20transform%3D%22translate(20%2C0)%22%20style%3D%22stroke-width%3A%200%3B%20fill%3A%20rgb(237%2C%20201%2C%2073)%3B%20fill-opacity%3A%201%3B%20stroke%3A%20rgb(68%2C%2068%2C%2068)%3B%20stroke-opacity%3A%201%3B%22%2F%3E%3C%2Fg%3E%3C%2Fg%3E%3C%2Fg%3E%3Crect%20class%3D%22legendtoggle%22%20pointer-events%3D%22all%22%20x%3D%220%22%20y%3D%22-9.5%22%20width%3D%22380.78125%22%20height%3D%2219%22%20style%3D%22cursor%3A%20pointer%3B%20fill%3A%20rgb(0%2C%200%2C%200)%3B%20fill-opacity%3A%200%3B%22%2F%3E%3C%2Fg%3E%3Cg%20class%3D%22traces%22%20transform%3D%22translate(0%2C%20375.5)%22%20style%3D%22opacity%3A%201%3B%22%3E%3Ctext%20class%3D%22legendtext%20user-select-none%22%20text-anchor%3D%22start%22%20x%3D%2240%22%20y%3D%224.680000000000001%22%20data-unformatted%3D%22Monster%20Ride%20Pro%22%20data-math%3D%22N%22%20style%3D%22font-family%3A%20%26quot%3BOpen%20Sans%26quot%3B%2C%20verdana%2C%20arial%2C%20sans-serif%3B%20font-size%3A%2012px%3B%20fill%3A%20rgb(0%2C%200%2C%200)%3B%20fill-opacity%3A%200.65%3B%20white-space%3A%20pre%3B%22%3EMonster%20Ride%20Pro%3C%2Ftext%3E%3Cg%20class%3D%22layers%22%20style%3D%22opacity%3A%201%3B%22%3E%3Cg%20class%3D%22legendfill%22%2F%3E%3Cg%20class%3D%22legendlines%22%2F%3E%3Cg%20class%3D%22legendsymbols%22%3E%3Cg%20class%3D%22legendpoints%22%3E%3Cpath%20class%3D%22legendpie%22%20d%3D%22M6%2C6H-6V-6H6Z%22%20transform%3D%22translate(20%2C0)%22%20style%3D%22stroke-width%3A%200%3B%20fill%3A%20rgb(242%2C%20142%2C%2044)%3B%20fill-opacity%3A%201%3B%20stroke%3A%20rgb(68%2C%2068%2C%2068)%3B%20stroke-opacity%3A%201%3B%22%2F%3E%3C%2Fg%3E%3C%2Fg%3E%3C%2Fg%3E%3Crect%20class%3D%22legendtoggle%22%20pointer-events%3D%22all%22%20x%3D%220%22%20y%3D%22-9.5%22%20width%3D%22380.78125%22%20height%3D%2219%22%20style%3D%22cursor%3A%20pointer%3B%20fill%3A%20rgb(0%2C%200%2C%200)%3B%20fill-opacity%3A%200%3B%22%2F%3E%3C%2Fg%3E%3Cg%20class%3D%22traces%22%20transform%3D%22translate(0%2C%20394.5)%22%20style%3D%22opacity%3A%201%3B%22%3E%3Ctext%20class%3D%22legendtext%20user-select-none%22%20text-anchor%3D%22start%22%20x%3D%2240%22%20y%3D%224.680000000000001%22%20data-unformatted%3D%22Accounting%20Quiz%20(AQ)%20Malaysia%22%20data-math%3D%22N%22%20style%3D%22font-family%3A%20%26quot%3BOpen%20Sans%26quot%3B%2C%20verdana%2C%20arial%2C%20sans-serif%3B%20font-size%3A%2012px%3B%20fill%3A%20rgb(0%2C%200%2C%200)%3B%20fill-opacity%3A%200.65%3B%20white-space%3A%20pre%3B%22%3EAccounting%20Quiz%20(AQ)%20Malaysia%3C%2Ftext%3E%3Cg%20class%3D%22layers%22%20style%3D%22opacity%3A%201%3B%22%3E%3Cg%20class%3D%22legendfill%22%2F%3E%3Cg%20class%3D%22legendlines%22%2F%3E%3Cg%20class%3D%22legendsymbols%22%3E%3Cg%20class%3D%22legendpoints%22%3E%3Cpath%20class%3D%22legendpie%22%20d%3D%22M6%2C6H-6V-6H6Z%22%20transform%3D%22translate(20%2C0)%22%20style%3D%22stroke-width%3A%200%3B%20fill%3A%20rgb(225%2C%2087%2C%2089)%3B%20fill-opacity%3A%201%3B%20stroke%3A%20rgb(68%2C%2068%2C%2068)%3B%20stroke-opacity%3A%201%3B%22%2F%3E%3C%2Fg%3E%3C%2Fg%3E%3C%2Fg%3E%3Crect%20class%3D%22legendtoggle%22%20pointer-events%3D%22all%22%20x%3D%220%22%20y%3D%22-9.5%22%20width%3D%22380.78125%22%20height%3D%2219%22%20style%3D%22cursor%3A%20pointer%3B%20fill%3A%20rgb(0%2C%200%2C%200)%3B%20fill-opacity%3A%200%3B%22%2F%3E%3C%2Fg%3E%3Cg%20class%3D%22traces%22%20transform%3D%22translate(0%2C%20413.5)%22%20style%3D%22opacity%3A%201%3B%22%3E%3Ctext%20class%3D%22legendtext%20user-select-none%22%20text-anchor%3D%22start%22%20x%3D%2240%22%20y%3D%224.680000000000001%22%20data-unformatted%3D%22BK%20Video%20Status%22%20data-math%3D%22N%22%20style%3D%22font-family%3A%20%26quot%3BOpen%20Sans%26quot%3B%2C%20verdana%2C%20arial%2C%20sans-serif%3B%20font-size%3A%2012px%3B%20fill%3A%20rgb(0%2C%200%2C%200)%3B%20fill-opacity%3A%200.65%3B%20white-space%3A%20pre%3B%22%3EBK%20Video%20Status%3C%2Ftext%3E%3Cg%20class%3D%22layers%22%20style%3D%22opacity%3A%201%3B%22%3E%3Cg%20class%3D%22legendfill%22%2F%3E%3Cg%20class%3D%22legendlines%22%2F%3E%3Cg%20class%3D%22legendsymbols%22%3E%3Cg%20class%3D%22legendpoints%22%3E%3Cpath%20class%3D%22legendpie%22%20d%3D%22M6%2C6H-6V-6H6Z%22%20transform%3D%22translate(20%2C0)%22%20style%3D%22stroke-width%3A%200%3B%20fill%3A%20rgb(186%2C%20176%2C%20171)%3B%20fill-opacity%3A%201%3B%20stroke%3A%20rgb(68%2C%2068%2C%2068)%3B%20stroke-opacity%3A%201%3B%22%2F%3E%3C%2Fg%3E%3C%2Fg%3E%3C%2Fg%3E%3Crect%20class%3D%22legendtoggle%22%20pointer-events%3D%22all%22%20x%3D%220%22%20y%3D%22-9.5%22%20width%3D%22380.78125%22%20height%3D%2219%22%20style%3D%22cursor%3A%20pointer%3B%20fill%3A%20rgb(0%2C%200%2C%200)%3B%20fill-opacity%3A%200%3B%22%2F%3E%3C%2Fg%3E%3Cg%20class%3D%22traces%22%20transform%3D%22translate(0%2C%20432.5)%22%20style%3D%22opacity%3A%201%3B%22%3E%3Ctext%20class%3D%22legendtext%20user-select-none%22%20text-anchor%3D%22start%22%20x%3D%2240%22%20y%3D%224.680000000000001%22%20data-unformatted%3D%22BV%20Sridhara%20Maharaj%22%20data-math%3D%22N%22%20style%3D%22font-family%3A%20%26quot%3BOpen%20Sans%26quot%3B%2C%20verdana%2C%20arial%2C%20sans-serif%3B%20font-size%3A%2012px%3B%20fill%3A%20rgb(0%2C%200%2C%200)%3B%20fill-opacity%3A%200.65%3B%20white-space%3A%20pre%3B%22%3EBV%20Sridhara%20Maharaj%3C%2Ftext%3E%3Cg%20class%3D%22layers%22%20style%3D%22opacity%3A%201%3B%22%3E%3Cg%20class%3D%22legendfill%22%2F%3E%3Cg%20class%3D%22legendlines%22%2F%3E%3Cg%20class%3D%22legendsymbols%22%3E%3Cg%20class%3D%22legendpoints%22%3E%3Cpath%20class%3D%22legendpie%22%20d%3D%22M6%2C6H-6V-6H6Z%22%20transform%3D%22translate(20%2C0)%22%20style%3D%22stroke-width%3A%200%3B%20fill%3A%20rgb(242%2C%20142%2C%2044)%3B%20fill-opacity%3A%201%3B%20stroke%3A%20rgb(68%2C%2068%2C%2068)%3B%20stroke-opacity%3A%201%3B%22%2F%3E%3C%2Fg%3E%3C%2Fg%3E%3C%2Fg%3E%3Crect%20class%3D%22legendtoggle%22%20pointer-events%3D%22all%22%20x%3D%220%22%20y%3D%22-9.5%22%20width%3D%22380.78125%22%20height%3D%2219%22%20style%3D%22cursor%3A%20pointer%3B%20fill%3A%20rgb(0%2C%200%2C%200)%3B%20fill-opacity%3A%200%3B%22%2F%3E%3C%2Fg%3E%3Cg%20class%3D%22traces%22%20transform%3D%22translate(0%2C%20451.5)%22%20style%3D%22opacity%3A%201%3B%22%3E%3Ctext%20class%3D%22legendtext%20user-select-none%22%20text-anchor%3D%22start%22%20x%3D%2240%22%20y%3D%224.680000000000001%22%20data-unformatted%3D%22BU%20Study%22%20data-math%3D%22N%22%20style%3D%22font-family%3A%20%26quot%3BOpen%20Sans%26quot%3B%2C%20verdana%2C%20arial%2C%20sans-serif%3B%20font-size%3A%2012px%3B%20fill%3A%20rgb(0%2C%200%2C%200)%3B%20fill-opacity%3A%200.65%3B%20white-space%3A%20pre%3B%22%3EBU%20Study%3C%2Ftext%3E%3Cg%20class%3D%22layers%22%20style%3D%22opacity%3A%201%3B%22%3E%3Cg%20class%3D%22legendfill%22%2F%3E%3Cg%20class%3D%22legendlines%22%2F%3E%3Cg%20class%3D%22legendsymbols%22%3E%3Cg%20class%3D%22legendpoints%22%3E%3Cpath%20class%3D%22legendpie%22%20d%3D%22M6%2C6H-6V-6H6Z%22%20transform%3D%22translate(20%2C0)%22%20style%3D%22stroke-width%3A%200%3B%20fill%3A%20rgb(156%2C%20117%2C%2095)%3B%20fill-opacity%3A%201%3B%20stroke%3A%20rgb(68%2C%2068%2C%2068)%3B%20stroke-opacity%3A%201%3B%22%2F%3E%3C%2Fg%3E%3C%2Fg%3E%3C%2Fg%3E%3Crect%20class%3D%22legendtoggle%22%20pointer-events%3D%22all%22%20x%3D%220%22%20y%3D%22-9.5%22%20width%3D%22380.78125%22%20height%3D%2219%22%20style%3D%22cursor%3A%20pointer%3B%20fill%3A%20rgb(0%2C%200%2C%200)%3B%20fill-opacity%3A%200%3B%22%2F%3E%3C%2Fg%3E%3Cg%20class%3D%22traces%22%20transform%3D%22translate(0%2C%20470.5)%22%20style%3D%22opacity%3A%201%3B%22%3E%3Ctext%20class%3D%22legendtext%20user-select-none%22%20text-anchor%3D%22start%22%20x%3D%2240%22%20y%3D%224.680000000000001%22%20data-unformatted%3D%22BM%20SPM%20Practice%22%20data-math%3D%22N%22%20style%3D%22font-family%3A%20%26quot%3BOpen%20Sans%26quot%3B%2C%20verdana%2C%20arial%2C%20sans-serif%3B%20font-size%3A%2012px%3B%20fill%3A%20rgb(0%2C%200%2C%200)%3B%20fill-opacity%3A%200.65%3B%20white-space%3A%20pre%3B%22%3EBM%20SPM%20Practice%3C%2Ftext%3E%3Cg%20class%3D%22layers%22%20style%3D%22opacity%3A%201%3B%22%3E%3Cg%20class%3D%22legendfill%22%2F%3E%3Cg%20class%3D%22legendlines%22%2F%3E%3Cg%20class%3D%22legendsymbols%22%3E%3Cg%20class%3D%22legendpoints%22%3E%3Cpath%20class%3D%22legendpie%22%20d%3D%22M6%2C6H-6V-6H6Z%22%20transform%3D%22translate(20%2C0)%22%20style%3D%22stroke-width%3A%200%3B%20fill%3A%20rgb(118%2C%20183%2C%20178)%3B%20fill-opacity%3A%201%3B%20stroke%3A%20rgb(68%2C%2068%2C%2068)%3B%20stroke-opacity%3A%201%3B%22%2F%3E%3C%2Fg%3E%3C%2Fg%3E%3C%2Fg%3E%3Crect%20class%3D%22legendtoggle%22%20pointer-events%3D%22all%22%20x%3D%220%22%20y%3D%22-9.5%22%20width%3D%22380.78125%22%20height%3D%2219%22%20style%3D%22cursor%3A%20pointer%3B%20fill%3A%20rgb(0%2C%200%2C%200)%3B%20fill-opacity%3A%200%3B%22%2F%3E%3C%2Fg%3E%3Cg%20class%3D%22traces%22%20transform%3D%22translate(0%2C%20489.5)%22%20style%3D%22opacity%3A%201%3B%22%3E%3Ctext%20class%3D%22legendtext%20user-select-none%22%20text-anchor%3D%22start%22%20x%3D%2240%22%20y%3D%224.680000000000001%22%20data-unformatted%3D%22AQ%20Ria%20Retail%22%20data-math%3D%22N%22%20style%3D%22font-family%3A%20%26quot%3BOpen%20Sans%26quot%3B%2C%20verdana%2C%20arial%2C%20sans-serif%3B%20font-size%3A%2012px%3B%20fill%3A%20rgb(0%2C%200%2C%200)%3B%20fill-opacity%3A%200.65%3B%20white-space%3A%20pre%3B%22%3EAQ%20Ria%20Retail%3C%2Ftext%3E%3Cg%20class%3D%22layers%22%20style%3D%22opacity%3A%201%3B%22%3E%3Cg%20class%3D%22legendfill%22%2F%3E%3Cg%20class%3D%22legendlines%22%2F%3E%3Cg%20class%3D%22legendsymbols%22%3E%3Cg%20class%3D%22legendpoints%22%3E%3Cpath%20class%3D%22legendpie%22%20d%3D%22M6%2C6H-6V-6H6Z%22%20transform%3D%22translate(20%2C0)%22%20style%3D%22stroke-width%3A%200%3B%20fill%3A%20rgb(186%2C%20176%2C%20171)%3B%20fill-opacity%3A%201%3B%20stroke%3A%20rgb(68%2C%2068%2C%2068)%3B%20stroke-opacity%3A%201%3B%22%2F%3E%3C%2Fg%3E%3C%2Fg%3E%3C%2Fg%3E%3Crect%20class%3D%22legendtoggle%22%20pointer-events%3D%22all%22%20x%3D%220%22%20y%3D%22-9.5%22%20width%3D%22380.78125%22%20height%3D%2219%22%20style%3D%22cursor%3A%20pointer%3B%20fill%3A%20rgb(0%2C%200%2C%200)%3B%20fill-opacity%3A%200%3B%22%2F%3E%3C%2Fg%3E%3Cg%20class%3D%22traces%22%20transform%3D%22translate(0%2C%20508.5)%22%20style%3D%22opacity%3A%201%3B%22%3E%3Ctext%20class%3D%22legendtext%20user-select-none%22%20text-anchor%3D%22start%22%20x%3D%2240%22%20y%3D%224.680000000000001%22%20data-unformatted%3D%22AP%C2%AE%20Guide%22%20data-math%3D%22N%22%20style%3D%22font-family%3A%20%26quot%3BOpen%20Sans%26quot%3B%2C%20verdana%2C%20arial%2C%20sans-serif%3B%20font-size%3A%2012px%3B%20fill%3A%20rgb(0%2C%200%2C%200)%3B%20fill-opacity%3A%200.65%3B%20white-space%3A%20pre%3B%22%3EAP%C2%AE%20Guide%3C%2Ftext%3E%3Cg%20class%3D%22layers%22%20style%3D%22opacity%3A%201%3B%22%3E%3Cg%20class%3D%22legendfill%22%2F%3E%3Cg%20class%3D%22legendlines%22%2F%3E%3Cg%20class%3D%22legendsymbols%22%3E%3Cg%20class%3D%22legendpoints%22%3E%3Cpath%20class%3D%22legendpie%22%20d%3D%22M6%2C6H-6V-6H6Z%22%20transform%3D%22translate(20%2C0)%22%20style%3D%22stroke-width%3A%200%3B%20fill%3A%20rgb(156%2C%20117%2C%2095)%3B%20fill-opacity%3A%201%3B%20stroke%3A%20rgb(68%2C%2068%2C%2068)%3B%20stroke-opacity%3A%201%3B%22%2F%3E%3C%2Fg%3E%3C%2Fg%3E%3C%2Fg%3E%3Crect%20class%3D%22legendtoggle%22%20pointer-events%3D%22all%22%20x%3D%220%22%20y%3D%22-9.5%22%20width%3D%22380.78125%22%20height%3D%2219%22%20style%3D%22cursor%3A%20pointer%3B%20fill%3A%20rgb(0%2C%200%2C%200)%3B%20fill-opacity%3A%200%3B%22%2F%3E%3C%2Fg%3E%3Cg%20class%3D%22traces%22%20transform%3D%22translate(0%2C%20527.5)%22%20style%3D%22opacity%3A%201%3B%22%3E%3Ctext%20class%3D%22legendtext%20user-select-none%22%20text-anchor%3D%22start%22%20x%3D%2240%22%20y%3D%224.680000000000001%22%20data-unformatted%3D%2230WPM%20Amateur%20ham%20radio%20Koch%20CW%20Morse%20code%20trainer%22%20data-math%3D%22N%22%20style%3D%22font-family%3A%20%26quot%3BOpen%20Sans%26quot%3B%2C%20verdana%2C%20arial%2C%20sans-serif%3B%20font-size%3A%2012px%3B%20fill%3A%20rgb(0%2C%200%2C%200)%3B%20fill-opacity%3A%200.65%3B%20white-space%3A%20pre%3B%22%3E30WPM%20Amateur%20ham%20radio%20Koch%20CW%20Morse%20code%20trainer%3C%2Ftext%3E%3Cg%20class%3D%22layers%22%20style%3D%22opacity%3A%201%3B%22%3E%3Cg%20class%3D%22legendfill%22%2F%3E%3Cg%20class%3D%22legendlines%22%2F%3E%3Cg%20class%3D%22legendsymbols%22%3E%3Cg%20class%3D%22legendpoints%22%3E%3Cpath%20class%3D%22legendpie%22%20d%3D%22M6%2C6H-6V-6H6Z%22%20transform%3D%22translate(20%2C0)%22%20style%3D%22stroke-width%3A%200%3B%20fill%3A%20rgb(225%2C%2087%2C%2089)%3B%20fill-opacity%3A%201%3B%20stroke%3A%20rgb(68%2C%2068%2C%2068)%3B%20stroke-opacity%3A%201%3B%22%2F%3E%3C%2Fg%3E%3C%2Fg%3E%3C%2Fg%3E%3Crect%20class%3D%22legendtoggle%22%20pointer-events%3D%22all%22%20x%3D%220%22%20y%3D%22-9.5%22%20width%3D%22380.78125%22%20height%3D%2219%22%20style%3D%22cursor%3A%20pointer%3B%20fill%3A%20rgb(0%2C%200%2C%200)%3B%20fill-opacity%3A%200%3B%22%2F%3E%3C%2Fg%3E%3Cg%20class%3D%22traces%22%20transform%3D%22translate(0%2C%20546.5)%22%20style%3D%22opacity%3A%201%3B%22%3E%3Ctext%20class%3D%22legendtext%20user-select-none%22%20text-anchor%3D%22start%22%20x%3D%2240%22%20y%3D%224.680000000000001%22%20data-unformatted%3D%22AJ%20Rafael%20Music%20Lessons%22%20data-math%3D%22N%22%20style%3D%22font-family%3A%20%26quot%3BOpen%20Sans%26quot%3B%2C%20verdana%2C%20arial%2C%20sans-serif%3B%20font-size%3A%2012px%3B%20fill%3A%20rgb(0%2C%200%2C%200)%3B%20fill-opacity%3A%200.65%3B%20white-space%3A%20pre%3B%22%3EAJ%20Rafael%20Music%20Lessons%3C%2Ftext%3E%3Cg%20class%3D%22layers%22%20style%3D%22opacity%3A%201%3B%22%3E%3Cg%20class%3D%22legendfill%22%2F%3E%3Cg%20class%3D%22legendlines%22%2F%3E%3Cg%20class%3D%22legendsymbols%22%3E%3Cg%20class%3D%22legendpoints%22%3E%3Cpath%20class%3D%22legendpie%22%20d%3D%22M6%2C6H-6V-6H6Z%22%20transform%3D%22translate(20%2C0)%22%20style%3D%22stroke-width%3A%200%3B%20fill%3A%20rgb(89%2C%20161%2C%2079)%3B%20fill-opacity%3A%201%3B%20stroke%3A%20rgb(68%2C%2068%2C%2068)%3B%20stroke-opacity%3A%201%3B%22%2F%3E%3C%2Fg%3E%3C%2Fg%3E%3C%2Fg%3E%3Crect%20class%3D%22legendtoggle%22%20pointer-events%3D%22all%22%20x%3D%220%22%20y%3D%22-9.5%22%20width%3D%22380.78125%22%20height%3D%2219%22%20style%3D%22cursor%3A%20pointer%3B%20fill%3A%20rgb(0%2C%200%2C%200)%3B%20fill-opacity%3A%200%3B%22%2F%3E%3C%2Fg%3E%3Cg%20class%3D%22traces%22%20transform%3D%22translate(0%2C%20565.5)%22%20style%3D%22opacity%3A%201%3B%22%3E%3Ctext%20class%3D%22legendtext%20user-select-none%22%20text-anchor%3D%22start%22%20x%3D%2240%22%20y%3D%224.680000000000001%22%20data-unformatted%3D%22AP%20Art%20History%20Flashcards%22%20data-math%3D%22N%22%20style%3D%22font-family%3A%20%26quot%3BOpen%20Sans%26quot%3B%2C%20verdana%2C%20arial%2C%20sans-serif%3B%20font-size%3A%2012px%3B%20fill%3A%20rgb(0%2C%200%2C%200)%3B%20fill-opacity%3A%200.65%3B%20white-space%3A%20pre%3B%22%3EAP%20Art%20History%20Flashcards%3C%2Ftext%3E%3Cg%20class%3D%22layers%22%20style%3D%22opacity%3A%201%3B%22%3E%3Cg%20class%3D%22legendfill%22%2F%3E%3Cg%20class%3D%22legendlines%22%2F%3E%3Cg%20class%3D%22legendsymbols%22%3E%3Cg%20class%3D%22legendpoints%22%3E%3Cpath%20class%3D%22legendpie%22%20d%3D%22M6%2C6H-6V-6H6Z%22%20transform%3D%22translate(20%2C0)%22%20style%3D%22stroke-width%3A%200%3B%20fill%3A%20rgb(255%2C%20157%2C%20167)%3B%20fill-opacity%3A%201%3B%20stroke%3A%20rgb(68%2C%2068%2C%2068)%3B%20stroke-opacity%3A%201%3B%22%2F%3E%3C%2Fg%3E%3C%2Fg%3E%3C%2Fg%3E%3Crect%20class%3D%22legendtoggle%22%20pointer-events%3D%22all%22%20x%3D%220%22%20y%3D%22-9.5%22%20width%3D%22380.78125%22%20height%3D%2219%22%20style%3D%22cursor%3A%20pointer%3B%20fill%3A%20rgb(0%2C%200%2C%200)%3B%20fill-opacity%3A%200%3B%22%2F%3E%3C%2Fg%3E%3Cg%20class%3D%22traces%22%20transform%3D%22translate(0%2C%20584.5)%22%20style%3D%22opacity%3A%201%3B%22%3E%3Ctext%20class%3D%22legendtext%20user-select-none%22%20text-anchor%3D%22start%22%20x%3D%2240%22%20y%3D%224.680000000000001%22%20data-unformatted%3D%22BP%20Journal%20-%20Blood%20Pressure%20Diary%22%20data-math%3D%22N%22%20style%3D%22font-family%3A%20%26quot%3BOpen%20Sans%26quot%3B%2C%20verdana%2C%20arial%2C%20sans-serif%3B%20font-size%3A%2012px%3B%20fill%3A%20rgb(0%2C%200%2C%200)%3B%20fill-opacity%3A%200.65%3B%20white-space%3A%20pre%3B%22%3EBP%20Journal%20-%20Blood%20Pressure%20Diary%3C%2Ftext%3E%3Cg%20class%3D%22layers%22%20style%3D%22opacity%3A%201%3B%22%3E%3Cg%20class%3D%22legendfill%22%2F%3E%3Cg%20class%3D%22legendlines%22%2F%3E%3Cg%20class%3D%22legendsymbols%22%3E%3Cg%20class%3D%22legendpoints%22%3E%3Cpath%20class%3D%22legendpie%22%20d%3D%22M6%2C6H-6V-6H6Z%22%20transform%3D%22translate(20%2C0)%22%20style%3D%22stroke-width%3A%200%3B%20fill%3A%20rgb(237%2C%20201%2C%2073)%3B%20fill-opacity%3A%201%3B%20stroke%3A%20rgb(68%2C%2068%2C%2068)%3B%20stroke-opacity%3A%201%3B%22%2F%3E%3C%2Fg%3E%3C%2Fg%3E%3C%2Fg%3E%3Crect%20class%3D%22legendtoggle%22%20pointer-events%3D%22all%22%20x%3D%220%22%20y%3D%22-9.5%22%20width%3D%22380.78125%22%20height%3D%2219%22%20style%3D%22cursor%3A%20pointer%3B%20fill%3A%20rgb(0%2C%200%2C%200)%3B%20fill-opacity%3A%200%3B%22%2F%3E%3C%2Fg%3E%3Cg%20class%3D%22traces%22%20transform%3D%22translate(0%2C%20603.5)%22%20style%3D%22opacity%3A%201%3B%22%3E%3Ctext%20class%3D%22legendtext%20user-select-none%22%20text-anchor%3D%22start%22%20x%3D%2240%22%20y%3D%224.680000000000001%22%20data-unformatted%3D%22CARDIAC%20CT%20TECHNIQUE%22%20data-math%3D%22N%22%20style%3D%22font-family%3A%20%26quot%3BOpen%20Sans%26quot%3B%2C%20verdana%2C%20arial%2C%20sans-serif%3B%20font-size%3A%2012px%3B%20fill%3A%20rgb(0%2C%200%2C%200)%3B%20fill-opacity%3A%200.65%3B%20white-space%3A%20pre%3B%22%3ECARDIAC%20CT%20TECHNIQUE%3C%2Ftext%3E%3Cg%20class%3D%22layers%22%20style%3D%22opacity%3A%201%3B%22%3E%3Cg%20class%3D%22legendfill%22%2F%3E%3Cg%20class%3D%22legendlines%22%2F%3E%3Cg%20class%3D%22legendsymbols%22%3E%3Cg%20class%3D%22legendpoints%22%3E%3Cpath%20class%3D%22legendpie%22%20d%3D%22M6%2C6H-6V-6H6Z%22%20transform%3D%22translate(20%2C0)%22%20style%3D%22stroke-width%3A%200%3B%20fill%3A%20rgb(255%2C%20157%2C%20167)%3B%20fill-opacity%3A%201%3B%20stroke%3A%20rgb(68%2C%2068%2C%2068)%3B%20stroke-opacity%3A%201%3B%22%2F%3E%3C%2Fg%3E%3C%2Fg%3E%3C%2Fg%3E%3Crect%20class%3D%22legendtoggle%22%20pointer-events%3D%22all%22%20x%3D%220%22%20y%3D%22-9.5%22%20width%3D%22380.78125%22%20height%3D%2219%22%20style%3D%22cursor%3A%20pointer%3B%20fill%3A%20rgb(0%2C%200%2C%200)%3B%20fill-opacity%3A%200%3B%22%2F%3E%3C%2Fg%3E%3Cg%20class%3D%22traces%22%20transform%3D%22translate(0%2C%20622.5)%22%20style%3D%22opacity%3A%201%3B%22%3E%3Ctext%20class%3D%22legendtext%20user-select-none%22%20text-anchor%3D%22start%22%20x%3D%2240%22%20y%3D%224.680000000000001%22%20data-unformatted%3D%22CT%20Cervical%20Spine%22%20data-math%3D%22N%22%20style%3D%22font-family%3A%20%26quot%3BOpen%20Sans%26quot%3B%2C%20verdana%2C%20arial%2C%20sans-serif%3B%20font-size%3A%2012px%3B%20fill%3A%20rgb(0%2C%200%2C%200)%3B%20fill-opacity%3A%200.65%3B%20white-space%3A%20pre%3B%22%3ECT%20Cervical%20Spine%3C%2Ftext%3E%3Cg%20class%3D%22layers%22%20style%3D%22opacity%3A%201%3B%22%3E%3Cg%20class%3D%22legendfill%22%2F%3E%3Cg%20class%3D%22legendlines%22%2F%3E%3Cg%20class%3D%22legendsymbols%22%3E%3Cg%20class%3D%22legendpoints%22%3E%3Cpath%20class%3D%22legendpie%22%20d%3D%22M6%2C6H-6V-6H6Z%22%20transform%3D%22translate(20%2C0)%22%20style%3D%22stroke-width%3A%200%3B%20fill%3A%20rgb(242%2C%20142%2C%2044)%3B%20fill-opacity%3A%201%3B%20stroke%3A%20rgb(68%2C%2068%2C%2068)%3B%20stroke-opacity%3A%201%3B%22%2F%3E%3C%2Fg%3E%3C%2Fg%3E%3C%2Fg%3E%3Crect%20class%3D%22legendtoggle%22%20pointer-events%3D%22all%22%20x%3D%220%22%20y%3D%22-9.5%22%20width%3D%22380.78125%22%20height%3D%2219%22%20style%3D%22cursor%3A%20pointer%3B%20fill%3A%20rgb(0%2C%200%2C%200)%3B%20fill-opacity%3A%200%3B%22%2F%3E%3C%2Fg%3E%3Cg%20class%3D%22traces%22%20transform%3D%22translate(0%2C%20641.5)%22%20style%3D%22opacity%3A%201%3B%22%3E%3Ctext%20class%3D%22legendtext%20user-select-none%22%20text-anchor%3D%22start%22%20x%3D%2240%22%20y%3D%224.680000000000001%22%20data-unformatted%3D%22Arrowhead%20AH%20App%22%20data-math%3D%22N%22%20style%3D%22font-family%3A%20%26quot%3BOpen%20Sans%26quot%3B%2C%20verdana%2C%20arial%2C%20sans-serif%3B%20font-size%3A%2012px%3B%20fill%3A%20rgb(0%2C%200%2C%200)%3B%20fill-opacity%3A%200.65%3B%20white-space%3A%20pre%3B%22%3EArrowhead%20AH%20App%3C%2Ftext%3E%3Cg%20class%3D%22layers%22%20style%3D%22opacity%3A%201%3B%22%3E%3Cg%20class%3D%22legendfill%22%2F%3E%3Cg%20class%3D%22legendlines%22%2F%3E%3Cg%20class%3D%22legendsymbols%22%3E%3Cg%20class%3D%22legendpoints%22%3E%3Cpath%20class%3D%22legendpie%22%20d%3D%22M6%2C6H-6V-6H6Z%22%20transform%3D%22translate(20%2C0)%22%20style%3D%22stroke-width%3A%200%3B%20fill%3A%20rgb(225%2C%2087%2C%2089)%3B%20fill-opacity%3A%201%3B%20stroke%3A%20rgb(68%2C%2068%2C%2068)%3B%20stroke-opacity%3A%201%3B%22%2F%3E%3C%2Fg%3E%3C%2Fg%3E%3C%2Fg%3E%3Crect%20class%3D%22legendtoggle%22%20pointer-events%3D%22all%22%20x%3D%220%22%20y%3D%22-9.5%22%20width%3D%22380.78125%22%20height%3D%2219%22%20style%3D%22cursor%3A%20pointer%3B%20fill%3A%20rgb(0%2C%200%2C%200)%3B%20fill-opacity%3A%200%3B%22%2F%3E%3C%2Fg%3E%3Cg%20class%3D%22traces%22%20transform%3D%22translate(0%2C%20660.5)%22%20style%3D%22opacity%3A%201%3B%22%3E%3Ctext%20class%3D%22legendtext%20user-select-none%22%20text-anchor%3D%22start%22%20x%3D%2240%22%20y%3D%224.680000000000001%22%20data-unformatted%3D%22420%20BZ%20Budeze%20Delivery%22%20data-math%3D%22N%22%20style%3D%22font-family%3A%20%26quot%3BOpen%20Sans%26quot%3B%2C%20verdana%2C%20arial%2C%20sans-serif%3B%20font-size%3A%2012px%3B%20fill%3A%20rgb(0%2C%200%2C%200)%3B%20fill-opacity%3A%200.65%3B%20white-space%3A%20pre%3B%22%3E420%20BZ%20Budeze%20Delivery%3C%2Ftext%3E%3Cg%20class%3D%22layers%22%20style%3D%22opacity%3A%201%3B%22%3E%3Cg%20class%3D%22legendfill%22%2F%3E%3Cg%20class%3D%22legendlines%22%2F%3E%3Cg%20class%3D%22legendsymbols%22%3E%3Cg%20class%3D%22legendpoints%22%3E%3Cpath%20class%3D%22legendpie%22%20d%3D%22M6%2C6H-6V-6H6Z%22%20transform%3D%22translate(20%2C0)%22%20style%3D%22stroke-width%3A%200%3B%20fill%3A%20rgb(118%2C%20183%2C%20178)%3B%20fill-opacity%3A%201%3B%20stroke%3A%20rgb(68%2C%2068%2C%2068)%3B%20stroke-opacity%3A%201%3B%22%2F%3E%3C%2Fg%3E%3C%2Fg%3E%3C%2Fg%3E%3Crect%20class%3D%22legendtoggle%22%20pointer-events%3D%22all%22%20x%3D%220%22%20y%3D%22-9.5%22%20width%3D%22380.78125%22%20height%3D%2219%22%20style%3D%22cursor%3A%20pointer%3B%20fill%3A%20rgb(0%2C%200%2C%200)%3B%20fill-opacity%3A%200%3B%22%2F%3E%3C%2Fg%3E%3Cg%20class%3D%22traces%22%20transform%3D%22translate(0%2C%20679.5)%22%20style%3D%22opacity%3A%201%3B%22%3E%3Ctext%20class%3D%22legendtext%20user-select-none%22%20text-anchor%3D%22start%22%20x%3D%2240%22%20y%3D%224.680000000000001%22%20data-unformatted%3D%22Asha%20Ek%20Hope%20-%20ALS%2F%20MND%22%20data-math%3D%22N%22%20style%3D%22font-family%3A%20%26quot%3BOpen%20Sans%26quot%3B%2C%20verdana%2C%20arial%2C%20sans-serif%3B%20font-size%3A%2012px%3B%20fill%3A%20rgb(0%2C%200%2C%200)%3B%20fill-opacity%3A%200.65%3B%20white-space%3A%20pre%3B%22%3EAsha%20Ek%20Hope%20-%20ALS%2F%20MND%3C%2Ftext%3E%3Cg%20class%3D%22layers%22%20style%3D%22opacity%3A%201%3B%22%3E%3Cg%20class%3D%22legendfill%22%2F%3E%3Cg%20class%3D%22legendlines%22%2F%3E%3Cg%20class%3D%22legendsymbols%22%3E%3Cg%20class%3D%22legendpoints%22%3E%3Cpath%20class%3D%22legendpie%22%20d%3D%22M6%2C6H-6V-6H6Z%22%20transform%3D%22translate(20%2C0)%22%20style%3D%22stroke-width%3A%200%3B%20fill%3A%20rgb(118%2C%20183%2C%20178)%3B%20fill-opacity%3A%201%3B%20stroke%3A%20rgb(68%2C%2068%2C%2068)%3B%20stroke-opacity%3A%201%3B%22%2F%3E%3C%2Fg%3E%3C%2Fg%3E%3C%2Fg%3E%3Crect%20class%3D%22legendtoggle%22%20pointer-events%3D%22all%22%20x%3D%220%22%20y%3D%22-9.5%22%20width%3D%22380.78125%22%20height%3D%2219%22%20style%3D%22cursor%3A%20pointer%3B%20fill%3A%20rgb(0%2C%200%2C%200)%3B%20fill-opacity%3A%200%3B%22%2F%3E%3C%2Fg%3E%3Cg%20class%3D%22traces%22%20transform%3D%22translate(0%2C%20698.5)%22%20style%3D%22opacity%3A%201%3B%22%3E%3Ctext%20class%3D%22legendtext%20user-select-none%22%20text-anchor%3D%22start%22%20x%3D%2240%22%20y%3D%224.680000000000001%22%20data-unformatted%3D%22Clinic%20Doctor%20EHr%22%20data-math%3D%22N%22%20style%3D%22font-family%3A%20%26quot%3BOpen%20Sans%26quot%3B%2C%20verdana%2C%20arial%2C%20sans-serif%3B%20font-size%3A%2012px%3B%20fill%3A%20rgb(0%2C%200%2C%200)%3B%20fill-opacity%3A%200.65%3B%20white-space%3A%20pre%3B%22%3EClinic%20Doctor%20EHr%3C%2Ftext%3E%3Cg%20class%3D%22layers%22%20style%3D%22opacity%3A%201%3B%22%3E%3Cg%20class%3D%22legendfill%22%2F%3E%3Cg%20class%3D%22legendlines%22%2F%3E%3Cg%20class%3D%22legendsymbols%22%3E%3Cg%20class%3D%22legendpoints%22%3E%3Cpath%20class%3D%22legendpie%22%20d%3D%22M6%2C6H-6V-6H6Z%22%20transform%3D%22translate(20%2C0)%22%20style%3D%22stroke-width%3A%200%3B%20fill%3A%20rgb(186%2C%20176%2C%20171)%3B%20fill-opacity%3A%201%3B%20stroke%3A%20rgb(68%2C%2068%2C%2068)%3B%20stroke-opacity%3A%201%3B%22%2F%3E%3C%2Fg%3E%3C%2Fg%3E%3C%2Fg%3E%3Crect%20class%3D%22legendtoggle%22%20pointer-events%3D%22all%22%20x%3D%220%22%20y%3D%22-9.5%22%20width%3D%22380.78125%22%20height%3D%2219%22%20style%3D%22cursor%3A%20pointer%3B%20fill%3A%20rgb(0%2C%200%2C%200)%3B%20fill-opacity%3A%200%3B%22%2F%3E%3C%2Fg%3E%3Cg%20class%3D%22traces%22%20transform%3D%22translate(0%2C%20717.5)%22%20style%3D%22opacity%3A%201%3B%22%3E%3Ctext%20class%3D%22legendtext%20user-select-none%22%20text-anchor%3D%22start%22%20x%3D%2240%22%20y%3D%224.680000000000001%22%20data-unformatted%3D%22Anatomy%20%26amp%3B%20Physiology%20Vocabulary%20Exam%20Review%20App%22%20data-math%3D%22N%22%20style%3D%22font-family%3A%20%26quot%3BOpen%20Sans%26quot%3B%2C%20verdana%2C%20arial%2C%20sans-serif%3B%20font-size%3A%2012px%3B%20fill%3A%20rgb(0%2C%200%2C%200)%3B%20fill-opacity%3A%200.65%3B%20white-space%3A%20pre%3B%22%3EAnatomy%20%26amp%3B%20Physiology%20Vocabulary%20Exam%20Review%20App%3C%2Ftext%3E%3Cg%20class%3D%22layers%22%20style%3D%22opacity%3A%201%3B%22%3E%3Cg%20class%3D%22legendfill%22%2F%3E%3Cg%20class%3D%22legendlines%22%2F%3E%3Cg%20class%3D%22legendsymbols%22%3E%3Cg%20class%3D%22legendpoints%22%3E%3Cpath%20class%3D%22legendpie%22%20d%3D%22M6%2C6H-6V-6H6Z%22%20transform%3D%22translate(20%2C0)%22%20style%3D%22stroke-width%3A%200%3B%20fill%3A%20rgb(255%2C%20157%2C%20167)%3B%20fill-opacity%3A%201%3B%20stroke%3A%20rgb(68%2C%2068%2C%2068)%3B%20stroke-opacity%3A%201%3B%22%2F%3E%3C%2Fg%3E%3C%2Fg%3E%3C%2Fg%3E%3Crect%20class%3D%22legendtoggle%22%20pointer-events%3D%22all%22%20x%3D%220%22%20y%3D%22-9.5%22%20width%3D%22380.78125%22%20height%3D%2219%22%20style%3D%22cursor%3A%20pointer%3B%20fill%3A%20rgb(0%2C%200%2C%200)%3B%20fill-opacity%3A%200%3B%22%2F%3E%3C%2Fg%3E%3Cg%20class%3D%22traces%22%20transform%3D%22translate(0%2C%20736.5)%22%20style%3D%22opacity%3A%201%3B%22%3E%3Ctext%20class%3D%22legendtext%20user-select-none%22%20text-anchor%3D%22start%22%20x%3D%2240%22%20y%3D%224.680000000000001%22%20data-unformatted%3D%22Basics%20of%20Orthopaedics%22%20data-math%3D%22N%22%20style%3D%22font-family%3A%20%26quot%3BOpen%20Sans%26quot%3B%2C%20verdana%2C%20arial%2C%20sans-serif%3B%20font-size%3A%2012px%3B%20fill%3A%20rgb(0%2C%200%2C%200)%3B%20fill-opacity%3A%200.65%3B%20white-space%3A%20pre%3B%22%3EBasics%20of%20Orthopaedics%3C%2Ftext%3E%3Cg%20class%3D%22layers%22%20style%3D%22opacity%3A%201%3B%22%3E%3Cg%20class%3D%22legendfill%22%2F%3E%3Cg%20class%3D%22legendlines%22%2F%3E%3Cg%20class%3D%22legendsymbols%22%3E%3Cg%20class%3D%22legendpoints%22%3E%3Cpath%20class%3D%22legendpie%22%20d%3D%22M6%2C6H-6V-6H6Z%22%20transform%3D%22translate(20%2C0)%22%20style%3D%22stroke-width%3A%200%3B%20fill%3A%20rgb(156%2C%20117%2C%2095)%3B%20fill-opacity%3A%201%3B%20stroke%3A%20rgb(68%2C%2068%2C%2068)%3B%20stroke-opacity%3A%201%3B%22%2F%3E%3C%2Fg%3E%3C%2Fg%3E%3C%2Fg%3E%3Crect%20class%3D%22legendtoggle%22%20pointer-events%3D%22all%22%20x%3D%220%22%20y%3D%22-9.5%22%20width%3D%22380.78125%22%20height%3D%2219%22%20style%3D%22cursor%3A%20pointer%3B%20fill%3A%20rgb(0%2C%200%2C%200)%3B%20fill-opacity%3A%200%3B%22%2F%3E%3C%2Fg%3E%3Cg%20class%3D%22traces%22%20transform%3D%22translate(0%2C%20755.5)%22%20style%3D%22opacity%3A%201%3B%22%3E%3Ctext%20class%3D%22legendtext%20user-select-none%22%20text-anchor%3D%22start%22%20x%3D%2240%22%20y%3D%224.680000000000001%22%20data-unformatted%3D%22Chenoweth%20AH%22%20data-math%3D%22N%22%20style%3D%22font-family%3A%20%26quot%3BOpen%20Sans%26quot%3B%2C%20verdana%2C%20arial%2C%20sans-serif%3B%20font-size%3A%2012px%3B%20fill%3A%20rgb(0%2C%200%2C%200)%3B%20fill-opacity%3A%200.65%3B%20white-space%3A%20pre%3B%22%3EChenoweth%20AH%3C%2Ftext%3E%3Cg%20class%3D%22layers%22%20style%3D%22opacity%3A%201%3B%22%3E%3Cg%20class%3D%22legendfill%22%2F%3E%3Cg%20class%3D%22legendlines%22%2F%3E%3Cg%20class%3D%22legendsymbols%22%3E%3Cg%20class%3D%22legendpoints%22%3E%3Cpath%20class%3D%22legendpie%22%20d%3D%22M6%2C6H-6V-6H6Z%22%20transform%3D%22translate(20%2C0)%22%20style%3D%22stroke-width%3A%200%3B%20fill%3A%20rgb(237%2C%20201%2C%2073)%3B%20fill-opacity%3A%201%3B%20stroke%3A%20rgb(68%2C%2068%2C%2068)%3B%20stroke-opacity%3A%201%3B%22%2F%3E%3C%2Fg%3E%3C%2Fg%3E%3C%2Fg%3E%3Crect%20class%3D%22legendtoggle%22%20pointer-events%3D%22all%22%20x%3D%220%22%20y%3D%22-9.5%22%20width%3D%22380.78125%22%20height%3D%2219%22%20style%3D%22cursor%3A%20pointer%3B%20fill%3A%20rgb(0%2C%200%2C%200)%3B%20fill-opacity%3A%200%3B%22%2F%3E%3C%2Fg%3E%3Cg%20class%3D%22traces%22%20transform%3D%22translate(0%2C%20774.5)%22%20style%3D%22opacity%3A%201%3B%22%3E%3Ctext%20class%3D%22legendtext%20user-select-none%22%20text-anchor%3D%22start%22%20x%3D%2240%22%20y%3D%224.680000000000001%22%20data-unformatted%3D%22ASOS%22%20data-math%3D%22N%22%20style%3D%22font-family%3A%20%26quot%3BOpen%20Sans%26quot%3B%2C%20verdana%2C%20arial%2C%20sans-serif%3B%20font-size%3A%2012px%3B%20fill%3A%20rgb(0%2C%200%2C%200)%3B%20fill-opacity%3A%200.65%3B%20white-space%3A%20pre%3B%22%3EASOS%3C%2Ftext%3E%3Cg%20class%3D%22layers%22%20style%3D%22opacity%3A%201%3B%22%3E%3Cg%20class%3D%22legendfill%22%2F%3E%3Cg%20class%3D%22legendlines%22%2F%3E%3Cg%20class%3D%22legendsymbols%22%3E%3Cg%20class%3D%22legendpoints%22%3E%3Cpath%20class%3D%22legendpie%22%20d%3D%22M6%2C6H-6V-6H6Z%22%20transform%3D%22translate(20%2C0)%22%20style%3D%22stroke-width%3A%200%3B%20fill%3A%20rgb(78%2C%20121%2C%20167)%3B%20fill-opacity%3A%201%3B%20stroke%3A%20rgb(68%2C%2068%2C%2068)%3B%20stroke-opacity%3A%201%3B%22%2F%3E%3C%2Fg%3E%3C%2Fg%3E%3C%2Fg%3E%3Crect%20class%3D%22legendtoggle%22%20pointer-events%3D%22all%22%20x%3D%220%22%20y%3D%22-9.5%22%20width%3D%22380.78125%22%20height%3D%2219%22%20style%3D%22cursor%3A%20pointer%3B%20fill%3A%20rgb(0%2C%200%2C%200)%3B%20fill-opacity%3A%200%3B%22%2F%3E%3C%2Fg%3E%3Cg%20class%3D%22traces%22%20transform%3D%22translate(0%2C%20793.5)%22%20style%3D%22opacity%3A%201%3B%22%3E%3Ctext%20class%3D%22legendtext%20user-select-none%22%20text-anchor%3D%22start%22%20x%3D%2240%22%20y%3D%224.680000000000001%22%20data-unformatted%3D%22All%20States%20Ag%20Parts%22%20data-math%3D%22N%22%20style%3D%22font-family%3A%20%26quot%3BOpen%20Sans%26quot%3B%2C%20verdana%2C%20arial%2C%20sans-serif%3B%20font-size%3A%2012px%3B%20fill%3A%20rgb(0%2C%200%2C%200)%3B%20fill-opacity%3A%200.65%3B%20white-space%3A%20pre%3B%22%3EAll%20States%20Ag%20Parts%3C%2Ftext%3E%3Cg%20class%3D%22layers%22%20style%3D%22opacity%3A%201%3B%22%3E%3Cg%20class%3D%22legendfill%22%2F%3E%3Cg%20class%3D%22legendlines%22%2F%3E%3Cg%20class%3D%22legendsymbols%22%3E%3Cg%20class%3D%22legendpoints%22%3E%3Cpath%20class%3D%22legendpie%22%20d%3D%22M6%2C6H-6V-6H6Z%22%20transform%3D%22translate(20%2C0)%22%20style%3D%22stroke-width%3A%200%3B%20fill%3A%20rgb(237%2C%20201%2C%2073)%3B%20fill-opacity%3A%201%3B%20stroke%3A%20rgb(68%2C%2068%2C%2068)%3B%20stroke-opacity%3A%201%3B%22%2F%3E%3C%2Fg%3E%3C%2Fg%3E%3C%2Fg%3E%3Crect%20class%3D%22legendtoggle%22%20pointer-events%3D%22all%22%20x%3D%220%22%20y%3D%22-9.5%22%20width%3D%22380.78125%22%20height%3D%2219%22%20style%3D%22cursor%3A%20pointer%3B%20fill%3A%20rgb(0%2C%200%2C%200)%3B%20fill-opacity%3A%200%3B%22%2F%3E%3C%2Fg%3E%3Cg%20class%3D%22traces%22%20transform%3D%22translate(0%2C%20812.5)%22%20style%3D%22opacity%3A%201%3B%22%3E%3Ctext%20class%3D%22legendtext%20user-select-none%22%20text-anchor%3D%22start%22%20x%3D%2240%22%20y%3D%224.680000000000001%22%20data-unformatted%3D%22BJ%20Toys%22%20data-math%3D%22N%22%20style%3D%22font-family%3A%20%26quot%3BOpen%20Sans%26quot%3B%2C%20verdana%2C%20arial%2C%20sans-serif%3B%20font-size%3A%2012px%3B%20fill%3A%20rgb(0%2C%200%2C%200)%3B%20fill-opacity%3A%200.65%3B%20white-space%3A%20pre%3B%22%3EBJ%20Toys%3C%2Ftext%3E%3Cg%20class%3D%22layers%22%20style%3D%22opacity%3A%201%3B%22%3E%3Cg%20class%3D%22legendfill%22%2F%3E%3Cg%20class%3D%22legendlines%22%2F%3E%3Cg%20class%3D%22legendsymbols%22%3E%3Cg%20class%3D%22legendpoints%22%3E%3Cpath%20class%3D%22legendpie%22%20d%3D%22M6%2C6H-6V-6H6Z%22%20transform%3D%22translate(20%2C0)%22%20style%3D%22stroke-width%3A%200%3B%20fill%3A%20rgb(237%2C%20201%2C%2073)%3B%20fill-opacity%3A%201%3B%20stroke%3A%20rgb(68%2C%2068%2C%2068)%3B%20stroke-opacity%3A%201%3B%22%2F%3E%3C%2Fg%3E%3C%2Fg%3E%3C%2Fg%3E%3Crect%20class%3D%22legendtoggle%22%20pointer-events%3D%22all%22%20x%3D%220%22%20y%3D%22-9.5%22%20width%3D%22380.78125%22%20height%3D%2219%22%20style%3D%22cursor%3A%20pointer%3B%20fill%3A%20rgb(0%2C%200%2C%200)%3B%20fill-opacity%3A%200%3B%22%2F%3E%3C%2Fg%3E%3Cg%20class%3D%22traces%22%20transform%3D%22translate(0%2C%20831.5)%22%20style%3D%22opacity%3A%201%3B%22%3E%3Ctext%20class%3D%22legendtext%20user-select-none%22%20text-anchor%3D%22start%22%20x%3D%2240%22%20y%3D%224.680000000000001%22%20data-unformatted%3D%22BL%20Flowers%20Digital%22%20data-math%3D%22N%22%20style%3D%22font-family%3A%20%26quot%3BOpen%20Sans%26quot%3B%2C%20verdana%2C%20arial%2C%20sans-serif%3B%20font-size%3A%2012px%3B%20fill%3A%20rgb(0%2C%200%2C%200)%3B%20fill-opacity%3A%200.65%3B%20white-space%3A%20pre%3B%22%3EBL%20Flowers%20Digital%3C%2Ftext%3E%3Cg%20class%3D%22layers%22%20style%3D%22opacity%3A%201%3B%22%3E%3Cg%20class%3D%22legendfill%22%2F%3E%3Cg%20class%3D%22legendlines%22%2F%3E%3Cg%20class%3D%22legendsymbols%22%3E%3Cg%20class%3D%22legendpoints%22%3E%3Cpath%20class%3D%22legendpie%22%20d%3D%22M6%2C6H-6V-6H6Z%22%20transform%3D%22translate(20%2C0)%22%20style%3D%22stroke-width%3A%200%3B%20fill%3A%20rgb(78%2C%20121%2C%20167)%3B%20fill-opacity%3A%201%3B%20stroke%3A%20rgb(68%2C%2068%2C%2068)%3B%20stroke-opacity%3A%201%3B%22%2F%3E%3C%2Fg%3E%3C%2Fg%3E%3C%2Fg%3E%3Crect%20class%3D%22legendtoggle%22%20pointer-events%3D%22all%22%20x%3D%220%22%20y%3D%22-9.5%22%20width%3D%22380.78125%22%20height%3D%2219%22%20style%3D%22cursor%3A%20pointer%3B%20fill%3A%20rgb(0%2C%200%2C%200)%3B%20fill-opacity%3A%200%3B%22%2F%3E%3C%2Fg%3E%3Cg%20class%3D%22traces%22%20transform%3D%22translate(0%2C%20850.5)%22%20style%3D%22opacity%3A%201%3B%22%3E%3Ctext%20class%3D%22legendtext%20user-select-none%22%20text-anchor%3D%22start%22%20x%3D%2240%22%20y%3D%224.680000000000001%22%20data-unformatted%3D%22Shopping%20List%20S%20PRO%22%20data-math%3D%22N%22%20style%3D%22font-family%3A%20%26quot%3BOpen%20Sans%26quot%3B%2C%20verdana%2C%20arial%2C%20sans-serif%3B%20font-size%3A%2012px%3B%20fill%3A%20rgb(0%2C%200%2C%200)%3B%20fill-opacity%3A%200.65%3B%20white-space%3A%20pre%3B%22%3EShopping%20List%20S%20PRO%3C%2Ftext%3E%3Cg%20class%3D%22layers%22%20style%3D%22opacity%3A%201%3B%22%3E%3Cg%20class%3D%22legendfill%22%2F%3E%3Cg%20class%3D%22legendlines%22%2F%3E%3Cg%20class%3D%22legendsymbols%22%3E%3Cg%20class%3D%22legendpoints%22%3E%3Cpath%20class%3D%22legendpie%22%20d%3D%22M6%2C6H-6V-6H6Z%22%20transform%3D%22translate(20%2C0)%22%20style%3D%22stroke-width%3A%200%3B%20fill%3A%20rgb(175%2C%20122%2C%20161)%3B%20fill-opacity%3A%201%3B%20stroke%3A%20rgb(68%2C%2068%2C%2068)%3B%20stroke-opacity%3A%201%3B%22%2F%3E%3C%2Fg%3E%3C%2Fg%3E%3C%2Fg%3E%3Crect%20class%3D%22legendtoggle%22%20pointer-events%3D%22all%22%20x%3D%220%22%20y%3D%22-9.5%22%20width%3D%22380.78125%22%20height%3D%2219%22%20style%3D%22cursor%3A%20pointer%3B%20fill%3A%20rgb(0%2C%200%2C%200)%3B%20fill-opacity%3A%200%3B%22%2F%3E%3C%2Fg%3E%3Cg%20class%3D%22traces%22%20transform%3D%22translate(0%2C%20869.5)%22%20style%3D%22opacity%3A%201%3B%22%3E%3Ctext%20class%3D%22legendtext%20user-select-none%22%20text-anchor%3D%22start%22%20x%3D%2240%22%20y%3D%224.680000000000001%22%20data-unformatted%3D%22AJ%20RETAILS%22%20data-math%3D%22N%22%20style%3D%22font-family%3A%20%26quot%3BOpen%20Sans%26quot%3B%2C%20verdana%2C%20arial%2C%20sans-serif%3B%20font-size%3A%2012px%3B%20fill%3A%20rgb(0%2C%200%2C%200)%3B%20fill-opacity%3A%200.65%3B%20white-space%3A%20pre%3B%22%3EAJ%20RETAILS%3C%2Ftext%3E%3Cg%20class%3D%22layers%22%20style%3D%22opacity%3A%201%3B%22%3E%3Cg%20class%3D%22legendfill%22%2F%3E%3Cg%20class%3D%22legendlines%22%2F%3E%3Cg%20class%3D%22legendsymbols%22%3E%3Cg%20class%3D%22legendpoints%22%3E%3Cpath%20class%3D%22legendpie%22%20d%3D%22M6%2C6H-6V-6H6Z%22%20transform%3D%22translate(20%2C0)%22%20style%3D%22stroke-width%3A%200%3B%20fill%3A%20rgb(118%2C%20183%2C%20178)%3B%20fill-opacity%3A%201%3B%20stroke%3A%20rgb(68%2C%2068%2C%2068)%3B%20stroke-opacity%3A%201%3B%22%2F%3E%3C%2Fg%3E%3C%2Fg%3E%3C%2Fg%3E%3Crect%20class%3D%22legendtoggle%22%20pointer-events%3D%22all%22%20x%3D%220%22%20y%3D%22-9.5%22%20width%3D%22380.78125%22%20height%3D%2219%22%20style%3D%22cursor%3A%20pointer%3B%20fill%3A%20rgb(0%2C%200%2C%200)%3B%20fill-opacity%3A%200%3B%22%2F%3E%3C%2Fg%3E%3Cg%20class%3D%22traces%22%20transform%3D%22translate(0%2C%20888.5)%22%20style%3D%22opacity%3A%201%3B%22%3E%3Ctext%20class%3D%22legendtext%20user-select-none%22%20text-anchor%3D%22start%22%20x%3D%2240%22%20y%3D%224.680000000000001%22%20data-unformatted%3D%22Dine%20In%20CT%20-%20Food%20Delivery%22%20data-math%3D%22N%22%20style%3D%22font-family%3A%20%26quot%3BOpen%20Sans%26quot%3B%2C%20verdana%2C%20arial%2C%20sans-serif%3B%20font-size%3A%2012px%3B%20fill%3A%20rgb(0%2C%200%2C%200)%3B%20fill-opacity%3A%200.65%3B%20white-space%3A%20pre%3B%22%3EDine%20In%20CT%20-%20Food%20Delivery%3C%2Ftext%3E%3Cg%20class%3D%22layers%22%20style%3D%22opacity%3A%201%3B%22%3E%3Cg%20class%3D%22legendfill%22%2F%3E%3Cg%20class%3D%22legendlines%22%2F%3E%3Cg%20class%3D%22legendsymbols%22%3E%3Cg%20class%3D%22legendpoints%22%3E%3Cpath%20class%3D%22legendpie%22%20d%3D%22M6%2C6H-6V-6H6Z%22%20transform%3D%22translate(20%2C0)%22%20style%3D%22stroke-width%3A%200%3B%20fill%3A%20rgb(156%2C%20117%2C%2095)%3B%20fill-opacity%3A%201%3B%20stroke%3A%20rgb(68%2C%2068%2C%2068)%3B%20stroke-opacity%3A%201%3B%22%2F%3E%3C%2Fg%3E%3C%2Fg%3E%3C%2Fg%3E%3Crect%20class%3D%22legendtoggle%22%20pointer-events%3D%22all%22%20x%3D%220%22%20y%3D%22-9.5%22%20width%3D%22380.78125%22%20height%3D%2219%22%20style%3D%22cursor%3A%20pointer%3B%20fill%3A%20rgb(0%2C%200%2C%200)%3B%20fill-opacity%3A%200%3B%22%2F%3E%3C%2Fg%3E%3Cg%20class%3D%22traces%22%20transform%3D%22translate(0%2C%20907.5)%22%20style%3D%22opacity%3A%201%3B%22%3E%3Ctext%20class%3D%22legendtext%20user-select-none%22%20text-anchor%3D%22start%22%20x%3D%2240%22%20y%3D%224.680000000000001%22%20data-unformatted%3D%22A-Y%20Collection%22%20data-math%3D%22N%22%20style%3D%22font-family%3A%20%26quot%3BOpen%20Sans%26quot%3B%2C%20verdana%2C%20arial%2C%20sans-serif%3B%20font-size%3A%2012px%3B%20fill%3A%20rgb(0%2C%200%2C%200)%3B%20fill-opacity%3A%200.65%3B%20white-space%3A%20pre%3B%22%3EA-Y%20Collection%3C%2Ftext%3E%3Cg%20class%3D%22layers%22%20style%3D%22opacity%3A%201%3B%22%3E%3Cg%20class%3D%22legendfill%22%2F%3E%3Cg%20class%3D%22legendlines%22%2F%3E%3Cg%20class%3D%22legendsymbols%22%3E%3Cg%20class%3D%22legendpoints%22%3E%3Cpath%20class%3D%22legendpie%22%20d%3D%22M6%2C6H-6V-6H6Z%22%20transform%3D%22translate(20%2C0)%22%20style%3D%22stroke-width%3A%200%3B%20fill%3A%20rgb(89%2C%20161%2C%2079)%3B%20fill-opacity%3A%201%3B%20stroke%3A%20rgb(68%2C%2068%2C%2068)%3B%20stroke-opacity%3A%201%3B%22%2F%3E%3C%2Fg%3E%3C%2Fg%3E%3C%2Fg%3E%3Crect%20class%3D%22legendtoggle%22%20pointer-events%3D%22all%22%20x%3D%220%22%20y%3D%22-9.5%22%20width%3D%22380.78125%22%20height%3D%2219%22%20style%3D%22cursor%3A%20pointer%3B%20fill%3A%20rgb(0%2C%200%2C%200)%3B%20fill-opacity%3A%200%3B%22%2F%3E%3C%2Fg%3E%3Cg%20class%3D%22traces%22%20transform%3D%22translate(0%2C%20926.5)%22%20style%3D%22opacity%3A%201%3B%22%3E%3Ctext%20class%3D%22legendtext%20user-select-none%22%20text-anchor%3D%22start%22%20x%3D%2240%22%20y%3D%224.680000000000001%22%20data-unformatted%3D%22DG%20OFF%20-%20100%25%20Free%20Coupons%20%26amp%3B%20Deals%22%20data-math%3D%22N%22%20style%3D%22font-family%3A%20%26quot%3BOpen%20Sans%26quot%3B%2C%20verdana%2C%20arial%2C%20sans-serif%3B%20font-size%3A%2012px%3B%20fill%3A%20rgb(0%2C%200%2C%200)%3B%20fill-opacity%3A%200.65%3B%20white-space%3A%20pre%3B%22%3EDG%20OFF%20-%20100%25%20Free%20Coupons%20%26amp%3B%20Deals%3C%2Ftext%3E%3Cg%20class%3D%22layers%22%20style%3D%22opacity%3A%201%3B%22%3E%3Cg%20class%3D%22legendfill%22%2F%3E%3Cg%20class%3D%22legendlines%22%2F%3E%3Cg%20class%3D%22legendsymbols%22%3E%3Cg%20class%3D%22legendpoints%22%3E%3Cpath%20class%3D%22legendpie%22%20d%3D%22M6%2C6H-6V-6H6Z%22%20transform%3D%22translate(20%2C0)%22%20style%3D%22stroke-width%3A%200%3B%20fill%3A%20rgb(118%2C%20183%2C%20178)%3B%20fill-opacity%3A%201%3B%20stroke%3A%20rgb(68%2C%2068%2C%2068)%3B%20stroke-opacity%3A%201%3B%22%2F%3E%3C%2Fg%3E%3C%2Fg%3E%3C%2Fg%3E%3Crect%20class%3D%22legendtoggle%22%20pointer-events%3D%22all%22%20x%3D%220%22%20y%3D%22-9.5%22%20width%3D%22380.78125%22%20height%3D%2219%22%20style%3D%22cursor%3A%20pointer%3B%20fill%3A%20rgb(0%2C%200%2C%200)%3B%20fill-opacity%3A%200%3B%22%2F%3E%3C%2Fg%3E%3Cg%20class%3D%22traces%22%20transform%3D%22translate(0%2C%20945.5)%22%20style%3D%22opacity%3A%201%3B%22%3E%3Ctext%20class%3D%22legendtext%20user-select-none%22%20text-anchor%3D%22start%22%20x%3D%2240%22%20y%3D%224.680000000000001%22%20data-unformatted%3D%22DT%20CLOTHINGS%22%20data-math%3D%22N%22%20style%3D%22font-family%3A%20%26quot%3BOpen%20Sans%26quot%3B%2C%20verdana%2C%20arial%2C%20sans-serif%3B%20font-size%3A%2012px%3B%20fill%3A%20rgb(0%2C%200%2C%200)%3B%20fill-opacity%3A%200.65%3B%20white-space%3A%20pre%3B%22%3EDT%20CLOTHINGS%3C%2Ftext%3E%3Cg%20class%3D%22layers%22%20style%3D%22opacity%3A%201%3B%22%3E%3Cg%20class%3D%22legendfill%22%2F%3E%3Cg%20class%3D%22legendlines%22%2F%3E%3Cg%20class%3D%22legendsymbols%22%3E%3Cg%20class%3D%22legendpoints%22%3E%3Cpath%20class%3D%22legendpie%22%20d%3D%22M6%2C6H-6V-6H6Z%22%20transform%3D%22translate(20%2C0)%22%20style%3D%22stroke-width%3A%200%3B%20fill%3A%20rgb(242%2C%20142%2C%2044)%3B%20fill-opacity%3A%201%3B%20stroke%3A%20rgb(68%2C%2068%2C%2068)%3B%20stroke-opacity%3A%201%3B%22%2F%3E%3C%2Fg%3E%3C%2Fg%3E%3C%2Fg%3E%3Crect%20class%3D%22legendtoggle%22%20pointer-events%3D%22all%22%20x%3D%220%22%20y%3D%22-9.5%22%20width%3D%22380.78125%22%20height%3D%2219%22%20style%3D%22cursor%3A%20pointer%3B%20fill%3A%20rgb(0%2C%200%2C%200)%3B%20fill-opacity%3A%200%3B%22%2F%3E%3C%2Fg%3E%3Cg%20class%3D%22traces%22%20transform%3D%22translate(0%2C%20964.5)%22%20style%3D%22opacity%3A%201%3B%22%3E%3Ctext%20class%3D%22legendtext%20user-select-none%22%20text-anchor%3D%22start%22%20x%3D%2240%22%20y%3D%224.680000000000001%22%20data-unformatted%3D%22Comunidad%20De%20Fe%20Minitries%22%20data-math%3D%22N%22%20style%3D%22font-family%3A%20%26quot%3BOpen%20Sans%26quot%3B%2C%20verdana%2C%20arial%2C%20sans-serif%3B%20font-size%3A%2012px%3B%20fill%3A%20rgb(0%2C%200%2C%200)%3B%20fill-opacity%3A%200.65%3B%20white-space%3A%20pre%3B%22%3EComunidad%20De%20Fe%20Minitries%3C%2Ftext%3E%3Cg%20class%3D%22layers%22%20style%3D%22opacity%3A%201%3B%22%3E%3Cg%20class%3D%22legendfill%22%2F%3E%3Cg%20class%3D%22legendlines%22%2F%3E%3Cg%20class%3D%22legendsymbols%22%3E%3Cg%20class%3D%22legendpoints%22%3E%3Cpath%20class%3D%22legendpie%22%20d%3D%22M6%2C6H-6V-6H6Z%22%20transform%3D%22translate(20%2C0)%22%20style%3D%22stroke-width%3A%200%3B%20fill%3A%20rgb(237%2C%20201%2C%2073)%3B%20fill-opacity%3A%201%3B%20stroke%3A%20rgb(68%2C%2068%2C%2068)%3B%20stroke-opacity%3A%201%3B%22%2F%3E%3C%2Fg%3E%3C%2Fg%3E%3C%2Fg%3E%3Crect%20class%3D%22legendtoggle%22%20pointer-events%3D%22all%22%20x%3D%220%22%20y%3D%22-9.5%22%20width%3D%22380.78125%22%20height%3D%2219%22%20style%3D%22cursor%3A%20pointer%3B%20fill%3A%20rgb(0%2C%200%2C%200)%3B%20fill-opacity%3A%200%3B%22%2F%3E%3C%2Fg%3E%3Cg%20class%3D%22traces%22%20transform%3D%22translate(0%2C%20983.5)%22%20style%3D%22opacity%3A%201%3B%22%3E%3Ctext%20class%3D%22legendtext%20user-select-none%22%20text-anchor%3D%22start%22%20x%3D%2240%22%20y%3D%224.680000000000001%22%20data-unformatted%3D%22Beacon%20Baptist%20Jupiter%2C%20FL%22%20data-math%3D%22N%22%20style%3D%22font-family%3A%20%26quot%3BOpen%20Sans%26quot%3B%2C%20verdana%2C%20arial%2C%20sans-serif%3B%20font-size%3A%2012px%3B%20fill%3A%20rgb(0%2C%200%2C%200)%3B%20fill-opacity%3A%200.65%3B%20white-space%3A%20pre%3B%22%3EBeacon%20Baptist%20Jupiter%2C%20FL%3C%2Ftext%3E%3Cg%20class%3D%22layers%22%20style%3D%22opacity%3A%201%3B%22%3E%3Cg%20class%3D%22legendfill%22%2F%3E%3Cg%20class%3D%22legendlines%22%2F%3E%3Cg%20class%3D%22legendsymbols%22%3E%3Cg%20class%3D%22legendpoints%22%3E%3Cpath%20class%3D%22legendpie%22%20d%3D%22M6%2C6H-6V-6H6Z%22%20transform%3D%22translate(20%2C0)%22%20style%3D%22stroke-width%3A%200%3B%20fill%3A%20rgb(186%2C%20176%2C%20171)%3B%20fill-opacity%3A%201%3B%20stroke%3A%20rgb(68%2C%2068%2C%2068)%3B%20stroke-opacity%3A%201%3B%22%2F%3E%3C%2Fg%3E%3C%2Fg%3E%3C%2Fg%3E%3Crect%20class%3D%22legendtoggle%22%20pointer-events%3D%22all%22%20x%3D%220%22%20y%3D%22-9.5%22%20width%3D%22380.78125%22%20height%3D%2219%22%20style%3D%22cursor%3A%20pointer%3B%20fill%3A%20rgb(0%2C%200%2C%200)%3B%20fill-opacity%3A%200%3B%22%2F%3E%3C%2Fg%3E%3Cg%20class%3D%22traces%22%20transform%3D%22translate(0%2C%201002.5)%22%20style%3D%22opacity%3A%201%3B%22%3E%3Ctext%20class%3D%22legendtext%20user-select-none%22%20text-anchor%3D%22start%22%20x%3D%2240%22%20y%3D%224.680000000000001%22%20data-unformatted%3D%22CA%20Speakers%22%20data-math%3D%22N%22%20style%3D%22font-family%3A%20%26quot%3BOpen%20Sans%26quot%3B%2C%20verdana%2C%20arial%2C%20sans-serif%3B%20font-size%3A%2012px%3B%20fill%3A%20rgb(0%2C%200%2C%200)%3B%20fill-opacity%3A%200.65%3B%20white-space%3A%20pre%3B%22%3ECA%20Speakers%3C%2Ftext%3E%3Cg%20class%3D%22layers%22%20style%3D%22opacity%3A%201%3B%22%3E%3Cg%20class%3D%22legendfill%22%2F%3E%3Cg%20class%3D%22legendlines%22%2F%3E%3Cg%20class%3D%22legendsymbols%22%3E%3Cg%20class%3D%22legendpoints%22%3E%3Cpath%20class%3D%22legendpie%22%20d%3D%22M6%2C6H-6V-6H6Z%22%20transform%3D%22translate(20%2C0)%22%20style%3D%22stroke-width%3A%200%3B%20fill%3A%20rgb(175%2C%20122%2C%20161)%3B%20fill-opacity%3A%201%3B%20stroke%3A%20rgb(68%2C%2068%2C%2068)%3B%20stroke-opacity%3A%201%3B%22%2F%3E%3C%2Fg%3E%3C%2Fg%3E%3C%2Fg%3E%3Crect%20class%3D%22legendtoggle%22%20pointer-events%3D%22all%22%20x%3D%220%22%20y%3D%22-9.5%22%20width%3D%22380.78125%22%20height%3D%2219%22%20style%3D%22cursor%3A%20pointer%3B%20fill%3A%20rgb(0%2C%200%2C%200)%3B%20fill-opacity%3A%200%3B%22%2F%3E%3C%2Fg%3E%3Cg%20class%3D%22traces%22%20transform%3D%22translate(0%2C%201021.5)%22%20style%3D%22opacity%3A%201%3B%22%3E%3Ctext%20class%3D%22legendtext%20user-select-none%22%20text-anchor%3D%22start%22%20x%3D%2240%22%20y%3D%224.680000000000001%22%20data-unformatted%3D%22Bk%20Usha%20behn%22%20data-math%3D%22N%22%20style%3D%22font-family%3A%20%26quot%3BOpen%20Sans%26quot%3B%2C%20verdana%2C%20arial%2C%20sans-serif%3B%20font-size%3A%2012px%3B%20fill%3A%20rgb(0%2C%200%2C%200)%3B%20fill-opacity%3A%200.65%3B%20white-space%3A%20pre%3B%22%3EBk%20Usha%20behn%3C%2Ftext%3E%3Cg%20class%3D%22layers%22%20style%3D%22opacity%3A%201%3B%22%3E%3Cg%20class%3D%22legendfill%22%2F%3E%3Cg%20class%3D%22legendlines%22%2F%3E%3Cg%20class%3D%22legendsymbols%22%3E%3Cg%20class%3D%22legendpoints%22%3E%3Cpath%20class%3D%22legendpie%22%20d%3D%22M6%2C6H-6V-6H6Z%22%20transform%3D%22translate(20%2C0)%22%20style%3D%22stroke-width%3A%200%3B%20fill%3A%20rgb(175%2C%20122%2C%20161)%3B%20fill-opacity%3A%201%3B%20stroke%3A%20rgb(68%2C%2068%2C%2068)%3B%20stroke-opacity%3A%201%3B%22%2F%3E%3C%2Fg%3E%3C%2Fg%3E%3C%2Fg%3E%3Crect%20class%3D%22legendtoggle%22%20pointer-events%3D%22all%22%20x%3D%220%22%20y%3D%22-9.5%22%20width%3D%22380.78125%22%20height%3D%2219%22%20style%3D%22cursor%3A%20pointer%3B%20fill%3A%20rgb(0%2C%200%2C%200)%3B%20fill-opacity%3A%200%3B%22%2F%3E%3C%2Fg%3E%3Cg%20class%3D%22traces%22%20transform%3D%22translate(0%2C%201040.5)%22%20style%3D%22opacity%3A%201%3B%22%3E%3Ctext%20class%3D%22legendtext%20user-select-none%22%20text-anchor%3D%22start%22%20x%3D%2240%22%20y%3D%224.680000000000001%22%20data-unformatted%3D%22BP%20Log%20lite%22%20data-math%3D%22N%22%20style%3D%22font-family%3A%20%26quot%3BOpen%20Sans%26quot%3B%2C%20verdana%2C%20arial%2C%20sans-serif%3B%20font-size%3A%2012px%3B%20fill%3A%20rgb(0%2C%200%2C%200)%3B%20fill-opacity%3A%200.65%3B%20white-space%3A%20pre%3B%22%3EBP%20Log%20lite%3C%2Ftext%3E%3Cg%20class%3D%22layers%22%20style%3D%22opacity%3A%201%3B%22%3E%3Cg%20class%3D%22legendfill%22%2F%3E%3Cg%20class%3D%22legendlines%22%2F%3E%3Cg%20class%3D%22legendsymbols%22%3E%3Cg%20class%3D%22legendpoints%22%3E%3Cpath%20class%3D%22legendpie%22%20d%3D%22M6%2C6H-6V-6H6Z%22%20transform%3D%22translate(20%2C0)%22%20style%3D%22stroke-width%3A%200%3B%20fill%3A%20rgb(175%2C%20122%2C%20161)%3B%20fill-opacity%3A%201%3B%20stroke%3A%20rgb(68%2C%2068%2C%2068)%3B%20stroke-opacity%3A%201%3B%22%2F%3E%3C%2Fg%3E%3C%2Fg%3E%3C%2Fg%3E%3Crect%20class%3D%22legendtoggle%22%20pointer-events%3D%22all%22%20x%3D%220%22%20y%3D%22-9.5%22%20width%3D%22380.78125%22%20height%3D%2219%22%20style%3D%22cursor%3A%20pointer%3B%20fill%3A%20rgb(0%2C%200%2C%200)%3B%20fill-opacity%3A%200%3B%22%2F%3E%3C%2Fg%3E%3Cg%20class%3D%22traces%22%20transform%3D%22translate(0%2C%201059.5)%22%20style%3D%22opacity%3A%201%3B%22%3E%3Ctext%20class%3D%22legendtext%20user-select-none%22%20text-anchor%3D%22start%22%20x%3D%2240%22%20y%3D%224.680000000000001%22%20data-unformatted%3D%22AJ%20Men's%20Grooming%22%20data-math%3D%22N%22%20style%3D%22font-family%3A%20%26quot%3BOpen%20Sans%26quot%3B%2C%20verdana%2C%20arial%2C%20sans-serif%3B%20font-size%3A%2012px%3B%20fill%3A%20rgb(0%2C%200%2C%200)%3B%20fill-opacity%3A%200.65%3B%20white-space%3A%20pre%3B%22%3EAJ%20Men's%20Grooming%3C%2Ftext%3E%3Cg%20class%3D%22layers%22%20style%3D%22opacity%3A%201%3B%22%3E%3Cg%20class%3D%22legendfill%22%2F%3E%3Cg%20class%3D%22legendlines%22%2F%3E%3Cg%20class%3D%22legendsymbols%22%3E%3Cg%20class%3D%22legendpoints%22%3E%3Cpath%20class%3D%22legendpie%22%20d%3D%22M6%2C6H-6V-6H6Z%22%20transform%3D%22translate(20%2C0)%22%20style%3D%22stroke-width%3A%200%3B%20fill%3A%20rgb(242%2C%20142%2C%2044)%3B%20fill-opacity%3A%201%3B%20stroke%3A%20rgb(68%2C%2068%2C%2068)%3B%20stroke-opacity%3A%201%3B%22%2F%3E%3C%2Fg%3E%3C%2Fg%3E%3C%2Fg%3E%3Crect%20class%3D%22legendtoggle%22%20pointer-events%3D%22all%22%20x%3D%220%22%20y%3D%22-9.5%22%20width%3D%22380.78125%22%20height%3D%2219%22%20style%3D%22cursor%3A%20pointer%3B%20fill%3A%20rgb(0%2C%200%2C%200)%3B%20fill-opacity%3A%200%3B%22%2F%3E%3C%2Fg%3E%3Cg%20class%3D%22traces%22%20transform%3D%22translate(0%2C%201078.5)%22%20style%3D%22opacity%3A%201%3B%22%3E%3Ctext%20class%3D%22legendtext%20user-select-none%22%20text-anchor%3D%22start%22%20x%3D%2240%22%20y%3D%224.680000000000001%22%20data-unformatted%3D%22Barbers.BH%22%20data-math%3D%22N%22%20style%3D%22font-family%3A%20%26quot%3BOpen%20Sans%26quot%3B%2C%20verdana%2C%20arial%2C%20sans-serif%3B%20font-size%3A%2012px%3B%20fill%3A%20rgb(0%2C%200%2C%200)%3B%20fill-opacity%3A%200.65%3B%20white-space%3A%20pre%3B%22%3EBarbers.BH%3C%2Ftext%3E%3Cg%20class%3D%22layers%22%20style%3D%22opacity%3A%201%3B%22%3E%3Cg%20class%3D%22legendfill%22%2F%3E%3Cg%20class%3D%22legendlines%22%2F%3E%3Cg%20class%3D%22legendsymbols%22%3E%3Cg%20class%3D%22legendpoints%22%3E%3Cpath%20class%3D%22legendpie%22%20d%3D%22M6%2C6H-6V-6H6Z%22%20transform%3D%22translate(20%2C0)%22%20style%3D%22stroke-width%3A%200%3B%20fill%3A%20rgb(175%2C%20122%2C%20161)%3B%20fill-opacity%3A%201%3B%20stroke%3A%20rgb(68%2C%2068%2C%2068)%3B%20stroke-opacity%3A%201%3B%22%2F%3E%3C%2Fg%3E%3C%2Fg%3E%3C%2Fg%3E%3Crect%20class%3D%22legendtoggle%22%20pointer-events%3D%22all%22%20x%3D%220%22%20y%3D%22-9.5%22%20width%3D%22380.78125%22%20height%3D%2219%22%20style%3D%22cursor%3A%20pointer%3B%20fill%3A%20rgb(0%2C%200%2C%200)%3B%20fill-opacity%3A%200%3B%22%2F%3E%3C%2Fg%3E%3Cg%20class%3D%22traces%22%20transform%3D%22translate(0%2C%201097.5)%22%20style%3D%22opacity%3A%201%3B%22%3E%3Ctext%20class%3D%22legendtext%20user-select-none%22%20text-anchor%3D%22start%22%20x%3D%2240%22%20y%3D%224.680000000000001%22%20data-unformatted%3D%22Color%20CL%22%20data-math%3D%22N%22%20style%3D%22font-family%3A%20%26quot%3BOpen%20Sans%26quot%3B%2C%20verdana%2C%20arial%2C%20sans-serif%3B%20font-size%3A%2012px%3B%20fill%3A%20rgb(0%2C%200%2C%200)%3B%20fill-opacity%3A%200.65%3B%20white-space%3A%20pre%3B%22%3EColor%20CL%3C%2Ftext%3E%3Cg%20class%3D%22layers%22%20style%3D%22opacity%3A%201%3B%22%3E%3Cg%20class%3D%22legendfill%22%2F%3E%3Cg%20class%3D%22legendlines%22%2F%3E%3Cg%20class%3D%22legendsymbols%22%3E%3Cg%20class%3D%22legendpoints%22%3E%3Cpath%20class%3D%22legendpie%22%20d%3D%22M6%2C6H-6V-6H6Z%22%20transform%3D%22translate(20%2C0)%22%20style%3D%22stroke-width%3A%200%3B%20fill%3A%20rgb(242%2C%20142%2C%2044)%3B%20fill-opacity%3A%201%3B%20stroke%3A%20rgb(68%2C%2068%2C%2068)%3B%20stroke-opacity%3A%201%3B%22%2F%3E%3C%2Fg%3E%3C%2Fg%3E%3C%2Fg%3E%3Crect%20class%3D%22legendtoggle%22%20pointer-events%3D%22all%22%20x%3D%220%22%20y%3D%22-9.5%22%20width%3D%22380.78125%22%20height%3D%2219%22%20style%3D%22cursor%3A%20pointer%3B%20fill%3A%20rgb(0%2C%200%2C%200)%3B%20fill-opacity%3A%200%3B%22%2F%3E%3C%2Fg%3E%3Cg%20class%3D%22traces%22%20transform%3D%22translate(0%2C%201116.5)%22%20style%3D%22opacity%3A%201%3B%22%3E%3Ctext%20class%3D%22legendtext%20user-select-none%22%20text-anchor%3D%22start%22%20x%3D%2240%22%20y%3D%224.680000000000001%22%20data-unformatted%3D%22Cy-Fair%20Christian%20Church%22%20data-math%3D%22N%22%20style%3D%22font-family%3A%20%26quot%3BOpen%20Sans%26quot%3B%2C%20verdana%2C%20arial%2C%20sans-serif%3B%20font-size%3A%2012px%3B%20fill%3A%20rgb(0%2C%200%2C%200)%3B%20fill-opacity%3A%200.65%3B%20white-space%3A%20pre%3B%22%3ECy-Fair%20Christian%20Church%3C%2Ftext%3E%3Cg%20class%3D%22layers%22%20style%3D%22opacity%3A%201%3B%22%3E%3Cg%20class%3D%22legendfill%22%2F%3E%3Cg%20class%3D%22legendlines%22%2F%3E%3Cg%20class%3D%22legendsymbols%22%3E%3Cg%20class%3D%22legendpoints%22%3E%3Cpath%20class%3D%22legendpie%22%20d%3D%22M6%2C6H-6V-6H6Z%22%20transform%3D%22translate(20%2C0)%22%20style%3D%22stroke-width%3A%200%3B%20fill%3A%20rgb(255%2C%20157%2C%20167)%3B%20fill-opacity%3A%201%3B%20stroke%3A%20rgb(68%2C%2068%2C%2068)%3B%20stroke-opacity%3A%201%3B%22%2F%3E%3C%2Fg%3E%3C%2Fg%3E%3C%2Fg%3E%3Crect%20class%3D%22legendtoggle%22%20pointer-events%3D%22all%22%20x%3D%220%22%20y%3D%22-9.5%22%20width%3D%22380.78125%22%20height%3D%2219%22%20style%3D%22cursor%3A%20pointer%3B%20fill%3A%20rgb(0%2C%200%2C%200)%3B%20fill-opacity%3A%200%3B%22%2F%3E%3C%2Fg%3E%3Cg%20class%3D%22traces%22%20transform%3D%22translate(0%2C%201135.5)%22%20style%3D%22opacity%3A%201%3B%22%3E%3Ctext%20class%3D%22legendtext%20user-select-none%22%20text-anchor%3D%22start%22%20x%3D%2240%22%20y%3D%224.680000000000001%22%20data-unformatted%3D%22AC%20DC%20Power%20Monitor%22%20data-math%3D%22N%22%20style%3D%22font-family%3A%20%26quot%3BOpen%20Sans%26quot%3B%2C%20verdana%2C%20arial%2C%20sans-serif%3B%20font-size%3A%2012px%3B%20fill%3A%20rgb(0%2C%200%2C%200)%3B%20fill-opacity%3A%200.65%3B%20white-space%3A%20pre%3B%22%3EAC%20DC%20Power%20Monitor%3C%2Ftext%3E%3Cg%20class%3D%22layers%22%20style%3D%22opacity%3A%201%3B%22%3E%3Cg%20class%3D%22legendfill%22%2F%3E%3Cg%20class%3D%22legendlines%22%2F%3E%3Cg%20class%3D%22legendsymbols%22%3E%3Cg%20class%3D%22legendpoints%22%3E%3Cpath%20class%3D%22legendpie%22%20d%3D%22M6%2C6H-6V-6H6Z%22%20transform%3D%22translate(20%2C0)%22%20style%3D%22stroke-width%3A%200%3B%20fill%3A%20rgb(237%2C%20201%2C%2073)%3B%20fill-opacity%3A%201%3B%20stroke%3A%20rgb(68%2C%2068%2C%2068)%3B%20stroke-opacity%3A%201%3B%22%2F%3E%3C%2Fg%3E%3C%2Fg%3E%3C%2Fg%3E%3Crect%20class%3D%22legendtoggle%22%20pointer-events%3D%22all%22%20x%3D%220%22%20y%3D%22-9.5%22%20width%3D%22380.78125%22%20height%3D%2219%22%20style%3D%22cursor%3A%20pointer%3B%20fill%3A%20rgb(0%2C%200%2C%200)%3B%20fill-opacity%3A%200%3B%22%2F%3E%3C%2Fg%3E%3C%2Fg%3E%3C%2Fg%3E%3Crect%20class%3D%22scrollbar%22%20rx%3D%2220%22%20ry%3D%223%22%20width%3D%226%22%20height%3D%2239.45130434782609%22%20x%3D%22386%22%20y%3D%224%22%20style%3D%22fill%3A%20rgb(128%2C%20139%2C%20164)%3B%20fill-opacity%3A%201%3B%22%2F%3E%3C%2Fg%3E%3Cg%20class%3D%22g-gtitle%22%2F%3E%3C%2Fg%3E%3Cg%20class%3D%22menulayer%22%2F%3E%3Cg%20class%3D%22zoomlayer%22%2F%3E%3Cg%20class%3D%22hoverlayer%22%2F%3E%3C%2Fsvg%3E\">"
      ],
      "text/plain": [
       "Open the notebook in JupyterLab with the atoti extension installed and enabled to see this widget."
      ]
     },
     "metadata": {},
     "output_type": "display_data"
    }
   ],
   "source": [
    "cube.visualize(\"Top 10 apps within each categories\")"
   ]
  },
  {
   "cell_type": "markdown",
   "metadata": {},
   "source": [
    "You can use the filter to select the categories that you want to view.  \n",
    "Alternative, use `session.url` to access the web application to build an interactive dashboard with quick filters. Check out the link below."
   ]
  },
  {
   "cell_type": "code",
   "execution_count": 13,
   "metadata": {},
   "outputs": [
    {
     "data": {
      "text/plain": [
       "'http://localhost:50479/#/dashboard/767'"
      ]
     },
     "execution_count": 13,
     "metadata": {},
     "output_type": "execute_result"
    }
   ],
   "source": [
    "session.url + \"/#/dashboard/767\""
   ]
  }
 ],
 "metadata": {
  "kernelspec": {
   "display_name": "Python 3",
   "language": "python",
   "name": "python3"
  },
  "language_info": {
   "codemirror_mode": {
    "name": "ipython",
    "version": 3
   },
   "file_extension": ".py",
   "mimetype": "text/x-python",
   "name": "python",
   "nbconvert_exporter": "python",
   "pygments_lexer": "ipython3",
   "version": "3.8.5"
  }
 },
 "nbformat": 4,
 "nbformat_minor": 4
}
