{
 "cells": [
  {
   "cell_type": "markdown",
   "metadata": {},
   "source": [
    "# IFRS9 portfolio analytics"
   ]
  },
  {
   "cell_type": "markdown",
   "metadata": {},
   "source": [
    "In this notebook I aim to provide a practical implementation to address daily credit portfolio monitoring needs, in particular to track and explain **expected credit losses per IFRS 9 standard**, perform vintage analysis, drill-down to loan-level data, analyze changes between periods and determine main drivers behind the portfolio risk KPIs.\n",
    "\n",
    "I hope this example can serve as inspiration for your work in the IFRS field."
   ]
  },
  {
   "cell_type": "markdown",
   "metadata": {},
   "source": [
    "As a quick reminder, as a result of the Great Financial Crisis of 2008, the accounting standards were redesigned, which culminated with the International Financial Reporting Standard number 9 (IFRS 9) and Current Expected Credit Loss (CECL). They key innovation of the new standard was the requirement to recognize in financial statements not only the incurred losses for a credit portfolio, but compute a forward looking measure - expected credit losses for a portfolio.\n",
    "\n",
    "By common practice, the expected credit losses computation relies on the three ingredients: probability of default (PD), loss given default (LGD), and exposure at default (EAD) framework and the three stage classification. Continue reading to learn how loan-level credit risk data can be consolidated in an analytical app - IFRS 9 app - enriched with static attributes and analized interactively in the UI.\n",
    "\n",
    "<img src=./ifrs9-app.png/ width = 70%>\n",
    "\n",
    "We'll start by creating an atoti app, then we'll load sample data and implement chains of calculations for ECL and other analytical measures."
   ]
  },
  {
   "cell_type": "markdown",
   "metadata": {},
   "source": [
    "# Launch atoti"
   ]
  },
  {
   "cell_type": "markdown",
   "metadata": {},
   "source": [
    "Let's create an atoti session to launch the aggregation engine and the UI."
   ]
  },
  {
   "cell_type": "code",
   "execution_count": 1,
   "metadata": {
    "execution": {
     "iopub.execute_input": "2021-02-09T06:41:25.898939Z",
     "iopub.status.busy": "2021-02-09T06:41:25.898657Z",
     "iopub.status.idle": "2021-02-09T06:41:35.892669Z",
     "shell.execute_reply": "2021-02-09T06:41:35.891804Z",
     "shell.execute_reply.started": "2021-02-09T06:41:25.898873Z"
    }
   },
   "outputs": [
    {
     "name": "stdout",
     "output_type": "stream",
     "text": [
      "Welcome to atoti 0.5.1!\n",
      "\n",
      "By using this community edition, you agree with the license available at https://www.atoti.io/eula.\n",
      "Browse the official documentation at https://docs.atoti.io.\n",
      "Join the community at https://www.atoti.io/register.\n",
      "\n",
      "You can hide this message by setting the ATOTI_HIDE_EULA_MESSAGE environment variable to True.\n"
     ]
    },
    {
     "data": {
      "text/plain": [
       "'http://localhost:56221'"
      ]
     },
     "execution_count": 1,
     "metadata": {},
     "output_type": "execute_result"
    }
   ],
   "source": [
    "import atoti as tt\n",
    "\n",
    "config = tt.config.create_config(metadata_db=\"./metadata.db\", max_memory=\"8G\")\n",
    "session = tt.create_session(config=config)\n",
    "session.url"
   ]
  },
  {
   "cell_type": "markdown",
   "metadata": {},
   "source": [
    "## Input Data overview\n",
    "\n",
    "In this section we will load the data used by the ECL calculation into in-memory datastores. \n",
    "\n",
    "The sample data will be fetched from csv files hosted on s3, and you can replace them with your own sources.\n",
    "\n",
    "I’ve created a sample data set based on the [Lending Club dataset available on Kaggle](https://www.kaggle.com/janiobachmann/datasets) and mocked-up the risk engine outputs - PDs, LGDs, EADs and stages - to illustrate how the IFRS 9 metrics can be computed and visualized in an analytical app. \n",
    "\n",
    "We'll use these three datastores:\n",
    "\n",
    "- `risk_engine_data` keeps information on the individual loans, their explosures, stages, credit risk parameters for ECL calculation and other attributes by date,\n",
    "- `lending_club_data` keeps additional data - client attributes, such as rating and sector,\n",
    "- `loans_at_inception` is storing loan opening information, such as opening date and opening risk characteristics. "
   ]
  },
  {
   "cell_type": "markdown",
   "metadata": {},
   "source": [
    "### Credit Risk Engine Inputs"
   ]
  },
  {
   "cell_type": "code",
   "execution_count": 2,
   "metadata": {
    "execution": {
     "iopub.execute_input": "2021-02-09T06:41:35.894721Z",
     "iopub.status.busy": "2021-02-09T06:41:35.894432Z",
     "iopub.status.idle": "2021-02-09T06:41:46.769079Z",
     "shell.execute_reply": "2021-02-09T06:41:46.768187Z",
     "shell.execute_reply.started": "2021-02-09T06:41:35.894695Z"
    }
   },
   "outputs": [
    {
     "name": "stdout",
     "output_type": "stream",
     "text": [
      "Collecting package metadata (current_repodata.json): done\n",
      "Solving environment: done\n",
      "\n",
      "# All requested packages already installed.\n",
      "\n"
     ]
    }
   ],
   "source": [
    "# install atoti-aws extention to load reference data from s3\n",
    "!conda install atoti-aws -y"
   ]
  },
  {
   "cell_type": "code",
   "execution_count": 3,
   "metadata": {
    "execution": {
     "iopub.execute_input": "2021-02-09T06:41:46.770524Z",
     "iopub.status.busy": "2021-02-09T06:41:46.770066Z",
     "iopub.status.idle": "2021-02-09T06:41:46.773730Z",
     "shell.execute_reply": "2021-02-09T06:41:46.772954Z",
     "shell.execute_reply.started": "2021-02-09T06:41:46.770488Z"
    }
   },
   "outputs": [],
   "source": [
    "# src = \"s3://data.atoti.io/notebooks/ifrs9/\""
   ]
  },
  {
   "cell_type": "code",
   "execution_count": 4,
   "metadata": {
    "execution": {
     "iopub.execute_input": "2021-02-09T06:41:46.775825Z",
     "iopub.status.busy": "2021-02-09T06:41:46.775577Z",
     "iopub.status.idle": "2021-02-09T06:41:48.004385Z",
     "shell.execute_reply": "2021-02-09T06:41:48.003725Z",
     "shell.execute_reply.started": "2021-02-09T06:41:46.775797Z"
    }
   },
   "outputs": [
    {
     "name": "stderr",
     "output_type": "stream",
     "text": [
      "The store has been sampled because there are more than 10000 lines in the files to load. Call Session.load_all_data() to trigger the full load of the data.\n"
     ]
    },
    {
     "data": {
      "text/html": [
       "<div>\n",
       "<style scoped>\n",
       "    .dataframe tbody tr th:only-of-type {\n",
       "        vertical-align: middle;\n",
       "    }\n",
       "\n",
       "    .dataframe tbody tr th {\n",
       "        vertical-align: top;\n",
       "    }\n",
       "\n",
       "    .dataframe thead th {\n",
       "        text-align: right;\n",
       "    }\n",
       "</style>\n",
       "<table border=\"1\" class=\"dataframe\">\n",
       "  <thead>\n",
       "    <tr style=\"text-align: right;\">\n",
       "      <th></th>\n",
       "      <th></th>\n",
       "      <th>PD12</th>\n",
       "      <th>PDLT</th>\n",
       "      <th>EAD</th>\n",
       "      <th>LGD</th>\n",
       "      <th>Stage</th>\n",
       "      <th>Previous PD12</th>\n",
       "      <th>Previous PDLT</th>\n",
       "      <th>Previous EAD</th>\n",
       "      <th>Previous LGD</th>\n",
       "      <th>Previous Stage</th>\n",
       "      <th>DaysPastDue</th>\n",
       "    </tr>\n",
       "    <tr>\n",
       "      <th>Reporting Date</th>\n",
       "      <th>id</th>\n",
       "      <th></th>\n",
       "      <th></th>\n",
       "      <th></th>\n",
       "      <th></th>\n",
       "      <th></th>\n",
       "      <th></th>\n",
       "      <th></th>\n",
       "      <th></th>\n",
       "      <th></th>\n",
       "      <th></th>\n",
       "      <th></th>\n",
       "    </tr>\n",
       "  </thead>\n",
       "  <tbody>\n",
       "    <tr>\n",
       "      <th rowspan=\"3\" valign=\"top\">2008-05-01</th>\n",
       "      <th>87023</th>\n",
       "      <td>0.336538</td>\n",
       "      <td>0.403845</td>\n",
       "      <td>8653.944595</td>\n",
       "      <td>0.8</td>\n",
       "      <td>2</td>\n",
       "      <td>0.336698</td>\n",
       "      <td>0.404037</td>\n",
       "      <td>8610.741713</td>\n",
       "      <td>0.81</td>\n",
       "      <td>2</td>\n",
       "      <td>NaN</td>\n",
       "    </tr>\n",
       "    <tr>\n",
       "      <th>88637</th>\n",
       "      <td>0.051744</td>\n",
       "      <td>0.062093</td>\n",
       "      <td>6923.155676</td>\n",
       "      <td>0.8</td>\n",
       "      <td>2</td>\n",
       "      <td>0.056647</td>\n",
       "      <td>0.067977</td>\n",
       "      <td>6888.593370</td>\n",
       "      <td>0.81</td>\n",
       "      <td>2</td>\n",
       "      <td>NaN</td>\n",
       "    </tr>\n",
       "    <tr>\n",
       "      <th>88046</th>\n",
       "      <td>0.022850</td>\n",
       "      <td>0.027419</td>\n",
       "      <td>5076.980829</td>\n",
       "      <td>0.8</td>\n",
       "      <td>1</td>\n",
       "      <td>0.023674</td>\n",
       "      <td>0.028409</td>\n",
       "      <td>5051.635138</td>\n",
       "      <td>0.81</td>\n",
       "      <td>1</td>\n",
       "      <td>NaN</td>\n",
       "    </tr>\n",
       "  </tbody>\n",
       "</table>\n",
       "</div>"
      ],
      "text/plain": [
       "                          PD12      PDLT          EAD  LGD  Stage  \\\n",
       "Reporting Date id                                                   \n",
       "2008-05-01     87023  0.336538  0.403845  8653.944595  0.8      2   \n",
       "               88637  0.051744  0.062093  6923.155676  0.8      2   \n",
       "               88046  0.022850  0.027419  5076.980829  0.8      1   \n",
       "\n",
       "                      Previous PD12  Previous PDLT  Previous EAD  \\\n",
       "Reporting Date id                                                  \n",
       "2008-05-01     87023       0.336698       0.404037   8610.741713   \n",
       "               88637       0.056647       0.067977   6888.593370   \n",
       "               88046       0.023674       0.028409   5051.635138   \n",
       "\n",
       "                      Previous LGD  Previous Stage  DaysPastDue  \n",
       "Reporting Date id                                                \n",
       "2008-05-01     87023          0.81               2          NaN  \n",
       "               88637          0.81               2          NaN  \n",
       "               88046          0.81               1          NaN  "
      ]
     },
     "execution_count": 4,
     "metadata": {},
     "output_type": "execute_result"
    }
   ],
   "source": [
    "risk_engine_data = session.read_csv(\n",
    "    \"lending-club-data/risk-engine/\",\n",
    "    keys=[\"Reporting Date\", \"id\"],\n",
    "    store_name=\"Credit Risk\",\n",
    "    types={\n",
    "        \"EAD\": tt.type.NULLABLE_DOUBLE,\n",
    "        \"Stage\": tt.type.NULLABLE_INT,\n",
    "        \"Previous Stage\": tt.type.NULLABLE_INT,\n",
    "    },\n",
    ")\n",
    "risk_engine_data.head(3)"
   ]
  },
  {
   "cell_type": "markdown",
   "metadata": {},
   "source": [
    "### Creating a cube"
   ]
  },
  {
   "cell_type": "markdown",
   "metadata": {},
   "source": [
    "As a next step, I'm creating the cube."
   ]
  },
  {
   "cell_type": "code",
   "execution_count": 5,
   "metadata": {
    "execution": {
     "iopub.execute_input": "2021-02-09T06:41:48.006174Z",
     "iopub.status.busy": "2021-02-09T06:41:48.005889Z",
     "iopub.status.idle": "2021-02-09T06:41:48.889487Z",
     "shell.execute_reply": "2021-02-09T06:41:48.888873Z",
     "shell.execute_reply.started": "2021-02-09T06:41:48.006150Z"
    }
   },
   "outputs": [],
   "source": [
    "cube = session.create_cube(risk_engine_data, \"IFRS9\")"
   ]
  },
  {
   "cell_type": "markdown",
   "metadata": {
    "execution": {
     "iopub.execute_input": "2021-02-05T01:44:12.570858Z",
     "iopub.status.busy": "2021-02-05T01:44:12.570595Z",
     "iopub.status.idle": "2021-02-05T01:44:12.573731Z",
     "shell.execute_reply": "2021-02-05T01:44:12.572978Z",
     "shell.execute_reply.started": "2021-02-05T01:44:12.570831Z"
    }
   },
   "source": [
    "### Adding LendingClub data"
   ]
  },
  {
   "cell_type": "markdown",
   "metadata": {},
   "source": [
    "The [LendingClub](https://en.wikipedia.org/wiki/LendingClub) data I'm using for illustrative purposes can be downloaded from: [Janio Martinez Bachmann on Kaggle](https://www.kaggle.com/janiobachmann/datasets). Here's a description of the dataset and field description: [A Hitchhiker's Guide to Lending Club Loan Data\n",
    "](https://www.kaggle.com/pragyanbo/a-hitchhiker-s-guide-to-lending-club-loan-data)."
   ]
  },
  {
   "cell_type": "code",
   "execution_count": 6,
   "metadata": {
    "execution": {
     "iopub.execute_input": "2021-02-09T06:41:48.890385Z",
     "iopub.status.busy": "2021-02-09T06:41:48.890185Z",
     "iopub.status.idle": "2021-02-09T06:41:50.681404Z",
     "shell.execute_reply": "2021-02-09T06:41:50.680622Z",
     "shell.execute_reply.started": "2021-02-09T06:41:48.890362Z"
    }
   },
   "outputs": [
    {
     "data": {
      "text/html": [
       "<div>\n",
       "<style scoped>\n",
       "    .dataframe tbody tr th:only-of-type {\n",
       "        vertical-align: middle;\n",
       "    }\n",
       "\n",
       "    .dataframe tbody tr th {\n",
       "        vertical-align: top;\n",
       "    }\n",
       "\n",
       "    .dataframe thead th {\n",
       "        text-align: right;\n",
       "    }\n",
       "</style>\n",
       "<table border=\"1\" class=\"dataframe\">\n",
       "  <thead>\n",
       "    <tr style=\"text-align: right;\">\n",
       "      <th></th>\n",
       "      <th>member_id</th>\n",
       "      <th>loan_amnt</th>\n",
       "      <th>funded_amnt</th>\n",
       "      <th>funded_amnt_inv</th>\n",
       "      <th>term</th>\n",
       "      <th>int_rate</th>\n",
       "      <th>installment</th>\n",
       "      <th>grade</th>\n",
       "      <th>sub_grade</th>\n",
       "      <th>emp_title</th>\n",
       "      <th>...</th>\n",
       "      <th>total_rev_hi_lim</th>\n",
       "      <th>inq_fi</th>\n",
       "      <th>total_cu_tl</th>\n",
       "      <th>inq_last_12m</th>\n",
       "      <th>issue_date</th>\n",
       "      <th>maturity_date</th>\n",
       "      <th>loan_class</th>\n",
       "      <th>Opening Year</th>\n",
       "      <th>Opening Month</th>\n",
       "      <th>Opening Day</th>\n",
       "    </tr>\n",
       "    <tr>\n",
       "      <th>id</th>\n",
       "      <th></th>\n",
       "      <th></th>\n",
       "      <th></th>\n",
       "      <th></th>\n",
       "      <th></th>\n",
       "      <th></th>\n",
       "      <th></th>\n",
       "      <th></th>\n",
       "      <th></th>\n",
       "      <th></th>\n",
       "      <th></th>\n",
       "      <th></th>\n",
       "      <th></th>\n",
       "      <th></th>\n",
       "      <th></th>\n",
       "      <th></th>\n",
       "      <th></th>\n",
       "      <th></th>\n",
       "      <th></th>\n",
       "      <th></th>\n",
       "      <th></th>\n",
       "    </tr>\n",
       "  </thead>\n",
       "  <tbody>\n",
       "    <tr>\n",
       "      <th>849780</th>\n",
       "      <td>1061523</td>\n",
       "      <td>10000.0</td>\n",
       "      <td>10000.0</td>\n",
       "      <td>10000.0</td>\n",
       "      <td>36 months</td>\n",
       "      <td>10.99</td>\n",
       "      <td>327.34</td>\n",
       "      <td>B</td>\n",
       "      <td>B3</td>\n",
       "      <td>Department of Defense</td>\n",
       "      <td>...</td>\n",
       "      <td>N/A</td>\n",
       "      <td>N/A</td>\n",
       "      <td>N/A</td>\n",
       "      <td>N/A</td>\n",
       "      <td>2011-01-08</td>\n",
       "      <td>2014-08-01</td>\n",
       "      <td>0.0</td>\n",
       "      <td>2011</td>\n",
       "      <td>8</td>\n",
       "      <td>1</td>\n",
       "    </tr>\n",
       "    <tr>\n",
       "      <th>849784</th>\n",
       "      <td>1061526</td>\n",
       "      <td>6500.0</td>\n",
       "      <td>6500.0</td>\n",
       "      <td>6500.0</td>\n",
       "      <td>36 months</td>\n",
       "      <td>7.49</td>\n",
       "      <td>202.17</td>\n",
       "      <td>A</td>\n",
       "      <td>A4</td>\n",
       "      <td>City of Dearborn Heights</td>\n",
       "      <td>...</td>\n",
       "      <td>N/A</td>\n",
       "      <td>N/A</td>\n",
       "      <td>N/A</td>\n",
       "      <td>N/A</td>\n",
       "      <td>2011-01-08</td>\n",
       "      <td>2014-08-01</td>\n",
       "      <td>0.0</td>\n",
       "      <td>2011</td>\n",
       "      <td>8</td>\n",
       "      <td>1</td>\n",
       "    </tr>\n",
       "    <tr>\n",
       "      <th>849748</th>\n",
       "      <td>1061487</td>\n",
       "      <td>7000.0</td>\n",
       "      <td>7000.0</td>\n",
       "      <td>7000.0</td>\n",
       "      <td>36 months</td>\n",
       "      <td>6.99</td>\n",
       "      <td>216.11</td>\n",
       "      <td>A</td>\n",
       "      <td>A3</td>\n",
       "      <td>Schneider Electric</td>\n",
       "      <td>...</td>\n",
       "      <td>N/A</td>\n",
       "      <td>N/A</td>\n",
       "      <td>N/A</td>\n",
       "      <td>N/A</td>\n",
       "      <td>2011-01-08</td>\n",
       "      <td>2014-08-01</td>\n",
       "      <td>0.0</td>\n",
       "      <td>2011</td>\n",
       "      <td>8</td>\n",
       "      <td>1</td>\n",
       "    </tr>\n",
       "  </tbody>\n",
       "</table>\n",
       "<p>3 rows × 79 columns</p>\n",
       "</div>"
      ],
      "text/plain": [
       "        member_id  loan_amnt  funded_amnt  funded_amnt_inv       term  \\\n",
       "id                                                                      \n",
       "849780    1061523    10000.0      10000.0          10000.0  36 months   \n",
       "849784    1061526     6500.0       6500.0           6500.0  36 months   \n",
       "849748    1061487     7000.0       7000.0           7000.0  36 months   \n",
       "\n",
       "        int_rate  installment grade sub_grade                 emp_title  ...  \\\n",
       "id                                                                       ...   \n",
       "849780     10.99       327.34     B        B3     Department of Defense  ...   \n",
       "849784      7.49       202.17     A        A4  City of Dearborn Heights  ...   \n",
       "849748      6.99       216.11     A        A3        Schneider Electric  ...   \n",
       "\n",
       "       total_rev_hi_lim inq_fi  total_cu_tl inq_last_12m issue_date  \\\n",
       "id                                                                    \n",
       "849780              N/A    N/A          N/A          N/A 2011-01-08   \n",
       "849784              N/A    N/A          N/A          N/A 2011-01-08   \n",
       "849748              N/A    N/A          N/A          N/A 2011-01-08   \n",
       "\n",
       "       maturity_date loan_class Opening Year Opening Month Opening Day  \n",
       "id                                                                      \n",
       "849780    2014-08-01        0.0         2011             8           1  \n",
       "849784    2014-08-01        0.0         2011             8           1  \n",
       "849748    2014-08-01        0.0         2011             8           1  \n",
       "\n",
       "[3 rows x 79 columns]"
      ]
     },
     "execution_count": 6,
     "metadata": {},
     "output_type": "execute_result"
    }
   ],
   "source": [
    "lending_club_data = session.read_csv(\n",
    "    \"lending-club-data/loans.csv\",\n",
    "    keys=[\"id\"],\n",
    "    store_name=\"Lending Club Data\",\n",
    ")\n",
    "risk_engine_data.join(lending_club_data)\n",
    "lending_club_data.head(3)"
   ]
  },
  {
   "cell_type": "markdown",
   "metadata": {
    "execution": {
     "iopub.execute_input": "2021-02-09T05:29:18.814420Z",
     "iopub.status.busy": "2021-02-09T05:29:18.808042Z",
     "iopub.status.idle": "2021-02-09T05:29:18.847791Z",
     "shell.execute_reply": "2021-02-09T05:29:18.846002Z",
     "shell.execute_reply.started": "2021-02-09T05:29:18.814355Z"
    }
   },
   "source": [
    "See later how to create measures aggregating Lending Club data."
   ]
  },
  {
   "cell_type": "markdown",
   "metadata": {},
   "source": [
    "### Adding loans opening parameters"
   ]
  },
  {
   "cell_type": "code",
   "execution_count": 7,
   "metadata": {
    "execution": {
     "iopub.execute_input": "2021-02-09T06:41:50.682690Z",
     "iopub.status.busy": "2021-02-09T06:41:50.682317Z",
     "iopub.status.idle": "2021-02-09T06:41:51.329017Z",
     "shell.execute_reply": "2021-02-09T06:41:51.328152Z",
     "shell.execute_reply.started": "2021-02-09T06:41:50.682666Z"
    }
   },
   "outputs": [
    {
     "data": {
      "text/html": [
       "<div>\n",
       "<style scoped>\n",
       "    .dataframe tbody tr th:only-of-type {\n",
       "        vertical-align: middle;\n",
       "    }\n",
       "\n",
       "    .dataframe tbody tr th {\n",
       "        vertical-align: top;\n",
       "    }\n",
       "\n",
       "    .dataframe thead th {\n",
       "        text-align: right;\n",
       "    }\n",
       "</style>\n",
       "<table border=\"1\" class=\"dataframe\">\n",
       "  <thead>\n",
       "    <tr style=\"text-align: right;\">\n",
       "      <th></th>\n",
       "      <th>default_date</th>\n",
       "      <th>Opening PD12</th>\n",
       "      <th>Opening PDLT</th>\n",
       "    </tr>\n",
       "    <tr>\n",
       "      <th>id</th>\n",
       "      <th></th>\n",
       "      <th></th>\n",
       "      <th></th>\n",
       "    </tr>\n",
       "  </thead>\n",
       "  <tbody>\n",
       "    <tr>\n",
       "      <th>1077501</th>\n",
       "      <td>N/A</td>\n",
       "      <td>0.041374</td>\n",
       "      <td>0.049649</td>\n",
       "    </tr>\n",
       "    <tr>\n",
       "      <th>1077430</th>\n",
       "      <td>2012-09-06 00:00:00</td>\n",
       "      <td>0.089122</td>\n",
       "      <td>0.106946</td>\n",
       "    </tr>\n",
       "    <tr>\n",
       "      <th>1077175</th>\n",
       "      <td>N/A</td>\n",
       "      <td>0.097341</td>\n",
       "      <td>0.116809</td>\n",
       "    </tr>\n",
       "  </tbody>\n",
       "</table>\n",
       "</div>"
      ],
      "text/plain": [
       "                default_date  Opening PD12  Opening PDLT\n",
       "id                                                      \n",
       "1077501                  N/A      0.041374      0.049649\n",
       "1077430  2012-09-06 00:00:00      0.089122      0.106946\n",
       "1077175                  N/A      0.097341      0.116809"
      ]
     },
     "execution_count": 7,
     "metadata": {},
     "output_type": "execute_result"
    }
   ],
   "source": [
    "loans_at_inception = session.read_csv(\n",
    "    \"lending-club-data/static.csv\",\n",
    "    keys=[\"id\"],\n",
    "    store_name=\"Parameters at inception\",\n",
    ")\n",
    "loans_at_inception.head(3)"
   ]
  },
  {
   "cell_type": "code",
   "execution_count": 8,
   "metadata": {
    "execution": {
     "iopub.execute_input": "2021-02-09T06:41:51.330732Z",
     "iopub.status.busy": "2021-02-09T06:41:51.330239Z",
     "iopub.status.idle": "2021-02-09T06:41:51.755953Z",
     "shell.execute_reply": "2021-02-09T06:41:51.755466Z",
     "shell.execute_reply.started": "2021-02-09T06:41:51.330672Z"
    }
   },
   "outputs": [],
   "source": [
    "# Linking contracts and their opening information\n",
    "risk_engine_data.join(loans_at_inception)"
   ]
  },
  {
   "cell_type": "markdown",
   "metadata": {},
   "source": [
    "### Cube schema"
   ]
  },
  {
   "cell_type": "markdown",
   "metadata": {},
   "source": [
    "Based on the datastores we've loaded and linked together, this is the view of our current cube schema."
   ]
  },
  {
   "cell_type": "code",
   "execution_count": 9,
   "metadata": {
    "execution": {
     "iopub.execute_input": "2021-02-09T06:41:51.756783Z",
     "iopub.status.busy": "2021-02-09T06:41:51.756623Z",
     "iopub.status.idle": "2021-02-09T06:41:52.346628Z",
     "shell.execute_reply": "2021-02-09T06:41:52.346068Z",
     "shell.execute_reply.started": "2021-02-09T06:41:51.756763Z"
    }
   },
   "outputs": [
    {
     "data": {
      "image/svg+xml": [
       "<svg xmlns=\"http://www.w3.org/2000/svg\" xmlns:xlink=\"http://www.w3.org/1999/xlink\" width=\"606px\" height=\"2110px\" viewBox=\"0.00 0.00 606.00 2110.00\">\n",
       "<g id=\"graph0\" class=\"graph\" transform=\"scale(1.0 1.0) rotate(0) translate(4 2106)\">\n",
       "<title>IFRS9 schema</title>\n",
       "<polygon fill=\"white\" stroke=\"transparent\" points=\"-4,4 -4,-2106 602,-2106 602,4 -4,4\"/>\n",
       "<!-- Credit Risk -->\n",
       "<g id=\"node1\" class=\"node\">\n",
       "<title>Credit Risk</title>\n",
       "<text text-anchor=\"start\" x=\"74.5\" y=\"-748.6\" font-family=\"-apple-system, BlinkMacSystemFont, 'Segoe UI', Helvetica, Arial, sans-serif, 'Apple Color Emoji', 'Segoe UI Emoji', 'Segoe UI Symbol'\" font-weight=\"bold\" font-size=\"13.00\">Credit Risk</text>\n",
       "<polygon fill=\"#f5f5f5\" stroke=\"transparent\" points=\"9,-715 9,-739 41,-739 41,-715 9,-715\"/>\n",
       "<text text-anchor=\"start\" x=\"14\" y=\"-724.6\" font-family=\"-apple-system, BlinkMacSystemFont, 'Segoe UI', Helvetica, Arial, sans-serif, 'Apple Color Emoji', 'Segoe UI Emoji', 'Segoe UI Symbol'\" font-weight=\"bold\" font-size=\"13.00\">key</text>\n",
       "<polygon fill=\"#f5f5f5\" stroke=\"transparent\" points=\"41,-715 41,-739 140,-739 140,-715 41,-715\"/>\n",
       "<text text-anchor=\"start\" x=\"46\" y=\"-723.6\" font-family=\"-apple-system, BlinkMacSystemFont, 'Segoe UI', Helvetica, Arial, sans-serif, 'Apple Color Emoji', 'Segoe UI Emoji', 'Segoe UI Symbol'\" font-size=\"13.00\">id</text>\n",
       "<polygon fill=\"#f5f5f5\" stroke=\"transparent\" points=\"140,-715 140,-739 209,-739 209,-715 140,-715\"/>\n",
       "<text text-anchor=\"start\" x=\"190\" y=\"-724.6\" font-family=\"-apple-system, BlinkMacSystemFont, 'Segoe UI', Helvetica, Arial, sans-serif, 'Apple Color Emoji', 'Segoe UI Emoji', 'Segoe UI Symbol'\" font-style=\"italic\" font-size=\"13.00\">int</text>\n",
       "<polygon fill=\"#ffffff\" stroke=\"transparent\" points=\"9,-691 9,-715 41,-715 41,-691 9,-691\"/>\n",
       "<polygon fill=\"#ffffff\" stroke=\"transparent\" points=\"41,-691 41,-715 140,-715 140,-691 41,-691\"/>\n",
       "<text text-anchor=\"start\" x=\"46\" y=\"-699.6\" font-family=\"-apple-system, BlinkMacSystemFont, 'Segoe UI', Helvetica, Arial, sans-serif, 'Apple Color Emoji', 'Segoe UI Emoji', 'Segoe UI Symbol'\" font-size=\"13.00\">PD12</text>\n",
       "<polygon fill=\"#ffffff\" stroke=\"transparent\" points=\"140,-691 140,-715 209,-715 209,-691 140,-691\"/>\n",
       "<text text-anchor=\"start\" x=\"164\" y=\"-700.6\" font-family=\"-apple-system, BlinkMacSystemFont, 'Segoe UI', Helvetica, Arial, sans-serif, 'Apple Color Emoji', 'Segoe UI Emoji', 'Segoe UI Symbol'\" font-style=\"italic\" font-size=\"13.00\">double</text>\n",
       "<polygon fill=\"#f5f5f5\" stroke=\"transparent\" points=\"9,-667 9,-691 41,-691 41,-667 9,-667\"/>\n",
       "<polygon fill=\"#f5f5f5\" stroke=\"transparent\" points=\"41,-667 41,-691 140,-691 140,-667 41,-667\"/>\n",
       "<text text-anchor=\"start\" x=\"46\" y=\"-675.6\" font-family=\"-apple-system, BlinkMacSystemFont, 'Segoe UI', Helvetica, Arial, sans-serif, 'Apple Color Emoji', 'Segoe UI Emoji', 'Segoe UI Symbol'\" font-size=\"13.00\">PDLT</text>\n",
       "<polygon fill=\"#f5f5f5\" stroke=\"transparent\" points=\"140,-667 140,-691 209,-691 209,-667 140,-667\"/>\n",
       "<text text-anchor=\"start\" x=\"164\" y=\"-676.6\" font-family=\"-apple-system, BlinkMacSystemFont, 'Segoe UI', Helvetica, Arial, sans-serif, 'Apple Color Emoji', 'Segoe UI Emoji', 'Segoe UI Symbol'\" font-style=\"italic\" font-size=\"13.00\">double</text>\n",
       "<polygon fill=\"#ffffff\" stroke=\"transparent\" points=\"9,-643 9,-667 41,-667 41,-643 9,-643\"/>\n",
       "<polygon fill=\"#ffffff\" stroke=\"transparent\" points=\"41,-643 41,-667 140,-667 140,-643 41,-643\"/>\n",
       "<text text-anchor=\"start\" x=\"46\" y=\"-651.6\" font-family=\"-apple-system, BlinkMacSystemFont, 'Segoe UI', Helvetica, Arial, sans-serif, 'Apple Color Emoji', 'Segoe UI Emoji', 'Segoe UI Symbol'\" font-size=\"13.00\">EAD</text>\n",
       "<polygon fill=\"#ffffff\" stroke=\"transparent\" points=\"140,-643 140,-667 209,-667 209,-643 140,-643\"/>\n",
       "<text text-anchor=\"start\" x=\"164\" y=\"-652.6\" font-family=\"-apple-system, BlinkMacSystemFont, 'Segoe UI', Helvetica, Arial, sans-serif, 'Apple Color Emoji', 'Segoe UI Emoji', 'Segoe UI Symbol'\" font-style=\"italic\" font-size=\"13.00\">double</text>\n",
       "<polygon fill=\"#f5f5f5\" stroke=\"transparent\" points=\"9,-619 9,-643 41,-643 41,-619 9,-619\"/>\n",
       "<polygon fill=\"#f5f5f5\" stroke=\"transparent\" points=\"41,-619 41,-643 140,-643 140,-619 41,-619\"/>\n",
       "<text text-anchor=\"start\" x=\"46\" y=\"-627.6\" font-family=\"-apple-system, BlinkMacSystemFont, 'Segoe UI', Helvetica, Arial, sans-serif, 'Apple Color Emoji', 'Segoe UI Emoji', 'Segoe UI Symbol'\" font-size=\"13.00\">LGD</text>\n",
       "<polygon fill=\"#f5f5f5\" stroke=\"transparent\" points=\"140,-619 140,-643 209,-643 209,-619 140,-619\"/>\n",
       "<text text-anchor=\"start\" x=\"164\" y=\"-628.6\" font-family=\"-apple-system, BlinkMacSystemFont, 'Segoe UI', Helvetica, Arial, sans-serif, 'Apple Color Emoji', 'Segoe UI Emoji', 'Segoe UI Symbol'\" font-style=\"italic\" font-size=\"13.00\">double</text>\n",
       "<polygon fill=\"#ffffff\" stroke=\"transparent\" points=\"9,-595 9,-619 41,-619 41,-595 9,-595\"/>\n",
       "<polygon fill=\"#ffffff\" stroke=\"transparent\" points=\"41,-595 41,-619 140,-619 140,-595 41,-595\"/>\n",
       "<text text-anchor=\"start\" x=\"46\" y=\"-603.6\" font-family=\"-apple-system, BlinkMacSystemFont, 'Segoe UI', Helvetica, Arial, sans-serif, 'Apple Color Emoji', 'Segoe UI Emoji', 'Segoe UI Symbol'\" font-size=\"13.00\">Stage</text>\n",
       "<polygon fill=\"#ffffff\" stroke=\"transparent\" points=\"140,-595 140,-619 209,-619 209,-595 140,-595\"/>\n",
       "<text text-anchor=\"start\" x=\"190\" y=\"-604.6\" font-family=\"-apple-system, BlinkMacSystemFont, 'Segoe UI', Helvetica, Arial, sans-serif, 'Apple Color Emoji', 'Segoe UI Emoji', 'Segoe UI Symbol'\" font-style=\"italic\" font-size=\"13.00\">int</text>\n",
       "<polygon fill=\"#f5f5f5\" stroke=\"transparent\" points=\"9,-571 9,-595 41,-595 41,-571 9,-571\"/>\n",
       "<polygon fill=\"#f5f5f5\" stroke=\"transparent\" points=\"41,-571 41,-595 140,-595 140,-571 41,-571\"/>\n",
       "<text text-anchor=\"start\" x=\"46\" y=\"-579.6\" font-family=\"-apple-system, BlinkMacSystemFont, 'Segoe UI', Helvetica, Arial, sans-serif, 'Apple Color Emoji', 'Segoe UI Emoji', 'Segoe UI Symbol'\" font-size=\"13.00\">Previous PD12</text>\n",
       "<polygon fill=\"#f5f5f5\" stroke=\"transparent\" points=\"140,-571 140,-595 209,-595 209,-571 140,-571\"/>\n",
       "<text text-anchor=\"start\" x=\"164\" y=\"-580.6\" font-family=\"-apple-system, BlinkMacSystemFont, 'Segoe UI', Helvetica, Arial, sans-serif, 'Apple Color Emoji', 'Segoe UI Emoji', 'Segoe UI Symbol'\" font-style=\"italic\" font-size=\"13.00\">double</text>\n",
       "<polygon fill=\"#ffffff\" stroke=\"transparent\" points=\"9,-547 9,-571 41,-571 41,-547 9,-547\"/>\n",
       "<polygon fill=\"#ffffff\" stroke=\"transparent\" points=\"41,-547 41,-571 140,-571 140,-547 41,-547\"/>\n",
       "<text text-anchor=\"start\" x=\"46\" y=\"-555.6\" font-family=\"-apple-system, BlinkMacSystemFont, 'Segoe UI', Helvetica, Arial, sans-serif, 'Apple Color Emoji', 'Segoe UI Emoji', 'Segoe UI Symbol'\" font-size=\"13.00\">Previous PDLT</text>\n",
       "<polygon fill=\"#ffffff\" stroke=\"transparent\" points=\"140,-547 140,-571 209,-571 209,-547 140,-547\"/>\n",
       "<text text-anchor=\"start\" x=\"164\" y=\"-556.6\" font-family=\"-apple-system, BlinkMacSystemFont, 'Segoe UI', Helvetica, Arial, sans-serif, 'Apple Color Emoji', 'Segoe UI Emoji', 'Segoe UI Symbol'\" font-style=\"italic\" font-size=\"13.00\">double</text>\n",
       "<polygon fill=\"#f5f5f5\" stroke=\"transparent\" points=\"9,-523 9,-547 41,-547 41,-523 9,-523\"/>\n",
       "<polygon fill=\"#f5f5f5\" stroke=\"transparent\" points=\"41,-523 41,-547 140,-547 140,-523 41,-523\"/>\n",
       "<text text-anchor=\"start\" x=\"46\" y=\"-531.6\" font-family=\"-apple-system, BlinkMacSystemFont, 'Segoe UI', Helvetica, Arial, sans-serif, 'Apple Color Emoji', 'Segoe UI Emoji', 'Segoe UI Symbol'\" font-size=\"13.00\">Previous EAD</text>\n",
       "<polygon fill=\"#f5f5f5\" stroke=\"transparent\" points=\"140,-523 140,-547 209,-547 209,-523 140,-523\"/>\n",
       "<text text-anchor=\"start\" x=\"164\" y=\"-532.6\" font-family=\"-apple-system, BlinkMacSystemFont, 'Segoe UI', Helvetica, Arial, sans-serif, 'Apple Color Emoji', 'Segoe UI Emoji', 'Segoe UI Symbol'\" font-style=\"italic\" font-size=\"13.00\">double</text>\n",
       "<polygon fill=\"#ffffff\" stroke=\"transparent\" points=\"9,-499 9,-523 41,-523 41,-499 9,-499\"/>\n",
       "<polygon fill=\"#ffffff\" stroke=\"transparent\" points=\"41,-499 41,-523 140,-523 140,-499 41,-499\"/>\n",
       "<text text-anchor=\"start\" x=\"46\" y=\"-507.6\" font-family=\"-apple-system, BlinkMacSystemFont, 'Segoe UI', Helvetica, Arial, sans-serif, 'Apple Color Emoji', 'Segoe UI Emoji', 'Segoe UI Symbol'\" font-size=\"13.00\">Previous LGD</text>\n",
       "<polygon fill=\"#ffffff\" stroke=\"transparent\" points=\"140,-499 140,-523 209,-523 209,-499 140,-499\"/>\n",
       "<text text-anchor=\"start\" x=\"164\" y=\"-508.6\" font-family=\"-apple-system, BlinkMacSystemFont, 'Segoe UI', Helvetica, Arial, sans-serif, 'Apple Color Emoji', 'Segoe UI Emoji', 'Segoe UI Symbol'\" font-style=\"italic\" font-size=\"13.00\">double</text>\n",
       "<polygon fill=\"#f5f5f5\" stroke=\"transparent\" points=\"9,-475 9,-499 41,-499 41,-475 9,-475\"/>\n",
       "<polygon fill=\"#f5f5f5\" stroke=\"transparent\" points=\"41,-475 41,-499 140,-499 140,-475 41,-475\"/>\n",
       "<text text-anchor=\"start\" x=\"46\" y=\"-483.6\" font-family=\"-apple-system, BlinkMacSystemFont, 'Segoe UI', Helvetica, Arial, sans-serif, 'Apple Color Emoji', 'Segoe UI Emoji', 'Segoe UI Symbol'\" font-size=\"13.00\">Previous Stage</text>\n",
       "<polygon fill=\"#f5f5f5\" stroke=\"transparent\" points=\"140,-475 140,-499 209,-499 209,-475 140,-475\"/>\n",
       "<text text-anchor=\"start\" x=\"190\" y=\"-484.6\" font-family=\"-apple-system, BlinkMacSystemFont, 'Segoe UI', Helvetica, Arial, sans-serif, 'Apple Color Emoji', 'Segoe UI Emoji', 'Segoe UI Symbol'\" font-style=\"italic\" font-size=\"13.00\">int</text>\n",
       "<polygon fill=\"#ffffff\" stroke=\"transparent\" points=\"9,-451 9,-475 41,-475 41,-451 9,-451\"/>\n",
       "<text text-anchor=\"start\" x=\"14\" y=\"-460.6\" font-family=\"-apple-system, BlinkMacSystemFont, 'Segoe UI', Helvetica, Arial, sans-serif, 'Apple Color Emoji', 'Segoe UI Emoji', 'Segoe UI Symbol'\" font-weight=\"bold\" font-size=\"13.00\">key</text>\n",
       "<polygon fill=\"#ffffff\" stroke=\"transparent\" points=\"41,-451 41,-475 140,-475 140,-451 41,-451\"/>\n",
       "<text text-anchor=\"start\" x=\"46\" y=\"-459.6\" font-family=\"-apple-system, BlinkMacSystemFont, 'Segoe UI', Helvetica, Arial, sans-serif, 'Apple Color Emoji', 'Segoe UI Emoji', 'Segoe UI Symbol'\" font-size=\"13.00\">Reporting Date</text>\n",
       "<polygon fill=\"#ffffff\" stroke=\"transparent\" points=\"140,-451 140,-475 209,-475 209,-451 140,-451\"/>\n",
       "<text text-anchor=\"start\" x=\"145\" y=\"-460.6\" font-family=\"-apple-system, BlinkMacSystemFont, 'Segoe UI', Helvetica, Arial, sans-serif, 'Apple Color Emoji', 'Segoe UI Emoji', 'Segoe UI Symbol'\" font-style=\"italic\" font-size=\"13.00\">LocalDate</text>\n",
       "<polygon fill=\"#f5f5f5\" stroke=\"transparent\" points=\"9,-427 9,-451 41,-451 41,-427 9,-427\"/>\n",
       "<polygon fill=\"#f5f5f5\" stroke=\"transparent\" points=\"41,-427 41,-451 140,-451 140,-427 41,-427\"/>\n",
       "<text text-anchor=\"start\" x=\"46\" y=\"-435.6\" font-family=\"-apple-system, BlinkMacSystemFont, 'Segoe UI', Helvetica, Arial, sans-serif, 'Apple Color Emoji', 'Segoe UI Emoji', 'Segoe UI Symbol'\" font-size=\"13.00\">DaysPastDue</text>\n",
       "<polygon fill=\"#f5f5f5\" stroke=\"transparent\" points=\"140,-427 140,-451 209,-451 209,-427 140,-427\"/>\n",
       "<text text-anchor=\"start\" x=\"190\" y=\"-436.6\" font-family=\"-apple-system, BlinkMacSystemFont, 'Segoe UI', Helvetica, Arial, sans-serif, 'Apple Color Emoji', 'Segoe UI Emoji', 'Segoe UI Symbol'\" font-style=\"italic\" font-size=\"13.00\">int</text>\n",
       "<polygon fill=\"none\" stroke=\"black\" points=\"8,-426 8,-764 210,-764 210,-426 8,-426\"/>\n",
       "</g>\n",
       "<!-- Lending Club Data -->\n",
       "<g id=\"node2\" class=\"node\">\n",
       "<title>Lending Club Data</title>\n",
       "<text text-anchor=\"start\" x=\"389.5\" y=\"-2082.6\" font-family=\"-apple-system, BlinkMacSystemFont, 'Segoe UI', Helvetica, Arial, sans-serif, 'Apple Color Emoji', 'Segoe UI Emoji', 'Segoe UI Symbol'\" font-weight=\"bold\" font-size=\"13.00\">Lending Club Data</text>\n",
       "<polygon fill=\"#f5f5f5\" stroke=\"transparent\" points=\"304.5,-2049 304.5,-2073 336.5,-2073 336.5,-2049 304.5,-2049\"/>\n",
       "<text text-anchor=\"start\" x=\"309.5\" y=\"-2058.6\" font-family=\"-apple-system, BlinkMacSystemFont, 'Segoe UI', Helvetica, Arial, sans-serif, 'Apple Color Emoji', 'Segoe UI Emoji', 'Segoe UI Symbol'\" font-weight=\"bold\" font-size=\"13.00\">key</text>\n",
       "<polygon fill=\"#f5f5f5\" stroke=\"transparent\" points=\"336.5,-2049 336.5,-2073 520.5,-2073 520.5,-2049 336.5,-2049\"/>\n",
       "<text text-anchor=\"start\" x=\"341.5\" y=\"-2057.6\" font-family=\"-apple-system, BlinkMacSystemFont, 'Segoe UI', Helvetica, Arial, sans-serif, 'Apple Color Emoji', 'Segoe UI Emoji', 'Segoe UI Symbol'\" font-size=\"13.00\">id</text>\n",
       "<polygon fill=\"#f5f5f5\" stroke=\"transparent\" points=\"520.5,-2049 520.5,-2073 589.5,-2073 589.5,-2049 520.5,-2049\"/>\n",
       "<text text-anchor=\"start\" x=\"570.5\" y=\"-2058.6\" font-family=\"-apple-system, BlinkMacSystemFont, 'Segoe UI', Helvetica, Arial, sans-serif, 'Apple Color Emoji', 'Segoe UI Emoji', 'Segoe UI Symbol'\" font-style=\"italic\" font-size=\"13.00\">int</text>\n",
       "<polygon fill=\"#ffffff\" stroke=\"transparent\" points=\"304.5,-2025 304.5,-2049 336.5,-2049 336.5,-2025 304.5,-2025\"/>\n",
       "<polygon fill=\"#ffffff\" stroke=\"transparent\" points=\"336.5,-2025 336.5,-2049 520.5,-2049 520.5,-2025 336.5,-2025\"/>\n",
       "<text text-anchor=\"start\" x=\"341.5\" y=\"-2033.6\" font-family=\"-apple-system, BlinkMacSystemFont, 'Segoe UI', Helvetica, Arial, sans-serif, 'Apple Color Emoji', 'Segoe UI Emoji', 'Segoe UI Symbol'\" font-size=\"13.00\">member_id</text>\n",
       "<polygon fill=\"#ffffff\" stroke=\"transparent\" points=\"520.5,-2025 520.5,-2049 589.5,-2049 589.5,-2025 520.5,-2025\"/>\n",
       "<text text-anchor=\"start\" x=\"570.5\" y=\"-2034.6\" font-family=\"-apple-system, BlinkMacSystemFont, 'Segoe UI', Helvetica, Arial, sans-serif, 'Apple Color Emoji', 'Segoe UI Emoji', 'Segoe UI Symbol'\" font-style=\"italic\" font-size=\"13.00\">int</text>\n",
       "<polygon fill=\"#f5f5f5\" stroke=\"transparent\" points=\"304.5,-2001 304.5,-2025 336.5,-2025 336.5,-2001 304.5,-2001\"/>\n",
       "<polygon fill=\"#f5f5f5\" stroke=\"transparent\" points=\"336.5,-2001 336.5,-2025 520.5,-2025 520.5,-2001 336.5,-2001\"/>\n",
       "<text text-anchor=\"start\" x=\"341.5\" y=\"-2009.6\" font-family=\"-apple-system, BlinkMacSystemFont, 'Segoe UI', Helvetica, Arial, sans-serif, 'Apple Color Emoji', 'Segoe UI Emoji', 'Segoe UI Symbol'\" font-size=\"13.00\">loan_amnt</text>\n",
       "<polygon fill=\"#f5f5f5\" stroke=\"transparent\" points=\"520.5,-2001 520.5,-2025 589.5,-2025 589.5,-2001 520.5,-2001\"/>\n",
       "<text text-anchor=\"start\" x=\"544.5\" y=\"-2010.6\" font-family=\"-apple-system, BlinkMacSystemFont, 'Segoe UI', Helvetica, Arial, sans-serif, 'Apple Color Emoji', 'Segoe UI Emoji', 'Segoe UI Symbol'\" font-style=\"italic\" font-size=\"13.00\">double</text>\n",
       "<polygon fill=\"#ffffff\" stroke=\"transparent\" points=\"304.5,-1977 304.5,-2001 336.5,-2001 336.5,-1977 304.5,-1977\"/>\n",
       "<polygon fill=\"#ffffff\" stroke=\"transparent\" points=\"336.5,-1977 336.5,-2001 520.5,-2001 520.5,-1977 336.5,-1977\"/>\n",
       "<text text-anchor=\"start\" x=\"341.5\" y=\"-1985.6\" font-family=\"-apple-system, BlinkMacSystemFont, 'Segoe UI', Helvetica, Arial, sans-serif, 'Apple Color Emoji', 'Segoe UI Emoji', 'Segoe UI Symbol'\" font-size=\"13.00\">funded_amnt</text>\n",
       "<polygon fill=\"#ffffff\" stroke=\"transparent\" points=\"520.5,-1977 520.5,-2001 589.5,-2001 589.5,-1977 520.5,-1977\"/>\n",
       "<text text-anchor=\"start\" x=\"544.5\" y=\"-1986.6\" font-family=\"-apple-system, BlinkMacSystemFont, 'Segoe UI', Helvetica, Arial, sans-serif, 'Apple Color Emoji', 'Segoe UI Emoji', 'Segoe UI Symbol'\" font-style=\"italic\" font-size=\"13.00\">double</text>\n",
       "<polygon fill=\"#f5f5f5\" stroke=\"transparent\" points=\"304.5,-1953 304.5,-1977 336.5,-1977 336.5,-1953 304.5,-1953\"/>\n",
       "<polygon fill=\"#f5f5f5\" stroke=\"transparent\" points=\"336.5,-1953 336.5,-1977 520.5,-1977 520.5,-1953 336.5,-1953\"/>\n",
       "<text text-anchor=\"start\" x=\"341.5\" y=\"-1961.6\" font-family=\"-apple-system, BlinkMacSystemFont, 'Segoe UI', Helvetica, Arial, sans-serif, 'Apple Color Emoji', 'Segoe UI Emoji', 'Segoe UI Symbol'\" font-size=\"13.00\">funded_amnt_inv</text>\n",
       "<polygon fill=\"#f5f5f5\" stroke=\"transparent\" points=\"520.5,-1953 520.5,-1977 589.5,-1977 589.5,-1953 520.5,-1953\"/>\n",
       "<text text-anchor=\"start\" x=\"544.5\" y=\"-1962.6\" font-family=\"-apple-system, BlinkMacSystemFont, 'Segoe UI', Helvetica, Arial, sans-serif, 'Apple Color Emoji', 'Segoe UI Emoji', 'Segoe UI Symbol'\" font-style=\"italic\" font-size=\"13.00\">double</text>\n",
       "<polygon fill=\"#ffffff\" stroke=\"transparent\" points=\"304.5,-1929 304.5,-1953 336.5,-1953 336.5,-1929 304.5,-1929\"/>\n",
       "<polygon fill=\"#ffffff\" stroke=\"transparent\" points=\"336.5,-1929 336.5,-1953 520.5,-1953 520.5,-1929 336.5,-1929\"/>\n",
       "<text text-anchor=\"start\" x=\"341.5\" y=\"-1937.6\" font-family=\"-apple-system, BlinkMacSystemFont, 'Segoe UI', Helvetica, Arial, sans-serif, 'Apple Color Emoji', 'Segoe UI Emoji', 'Segoe UI Symbol'\" font-size=\"13.00\">term</text>\n",
       "<polygon fill=\"#ffffff\" stroke=\"transparent\" points=\"520.5,-1929 520.5,-1953 589.5,-1953 589.5,-1929 520.5,-1929\"/>\n",
       "<text text-anchor=\"start\" x=\"550.5\" y=\"-1938.6\" font-family=\"-apple-system, BlinkMacSystemFont, 'Segoe UI', Helvetica, Arial, sans-serif, 'Apple Color Emoji', 'Segoe UI Emoji', 'Segoe UI Symbol'\" font-style=\"italic\" font-size=\"13.00\">String</text>\n",
       "<polygon fill=\"#f5f5f5\" stroke=\"transparent\" points=\"304.5,-1905 304.5,-1929 336.5,-1929 336.5,-1905 304.5,-1905\"/>\n",
       "<polygon fill=\"#f5f5f5\" stroke=\"transparent\" points=\"336.5,-1905 336.5,-1929 520.5,-1929 520.5,-1905 336.5,-1905\"/>\n",
       "<text text-anchor=\"start\" x=\"341.5\" y=\"-1913.6\" font-family=\"-apple-system, BlinkMacSystemFont, 'Segoe UI', Helvetica, Arial, sans-serif, 'Apple Color Emoji', 'Segoe UI Emoji', 'Segoe UI Symbol'\" font-size=\"13.00\">int_rate</text>\n",
       "<polygon fill=\"#f5f5f5\" stroke=\"transparent\" points=\"520.5,-1905 520.5,-1929 589.5,-1929 589.5,-1905 520.5,-1905\"/>\n",
       "<text text-anchor=\"start\" x=\"544.5\" y=\"-1914.6\" font-family=\"-apple-system, BlinkMacSystemFont, 'Segoe UI', Helvetica, Arial, sans-serif, 'Apple Color Emoji', 'Segoe UI Emoji', 'Segoe UI Symbol'\" font-style=\"italic\" font-size=\"13.00\">double</text>\n",
       "<polygon fill=\"#ffffff\" stroke=\"transparent\" points=\"304.5,-1881 304.5,-1905 336.5,-1905 336.5,-1881 304.5,-1881\"/>\n",
       "<polygon fill=\"#ffffff\" stroke=\"transparent\" points=\"336.5,-1881 336.5,-1905 520.5,-1905 520.5,-1881 336.5,-1881\"/>\n",
       "<text text-anchor=\"start\" x=\"341.5\" y=\"-1889.6\" font-family=\"-apple-system, BlinkMacSystemFont, 'Segoe UI', Helvetica, Arial, sans-serif, 'Apple Color Emoji', 'Segoe UI Emoji', 'Segoe UI Symbol'\" font-size=\"13.00\">installment</text>\n",
       "<polygon fill=\"#ffffff\" stroke=\"transparent\" points=\"520.5,-1881 520.5,-1905 589.5,-1905 589.5,-1881 520.5,-1881\"/>\n",
       "<text text-anchor=\"start\" x=\"544.5\" y=\"-1890.6\" font-family=\"-apple-system, BlinkMacSystemFont, 'Segoe UI', Helvetica, Arial, sans-serif, 'Apple Color Emoji', 'Segoe UI Emoji', 'Segoe UI Symbol'\" font-style=\"italic\" font-size=\"13.00\">double</text>\n",
       "<polygon fill=\"#f5f5f5\" stroke=\"transparent\" points=\"304.5,-1857 304.5,-1881 336.5,-1881 336.5,-1857 304.5,-1857\"/>\n",
       "<polygon fill=\"#f5f5f5\" stroke=\"transparent\" points=\"336.5,-1857 336.5,-1881 520.5,-1881 520.5,-1857 336.5,-1857\"/>\n",
       "<text text-anchor=\"start\" x=\"341.5\" y=\"-1865.6\" font-family=\"-apple-system, BlinkMacSystemFont, 'Segoe UI', Helvetica, Arial, sans-serif, 'Apple Color Emoji', 'Segoe UI Emoji', 'Segoe UI Symbol'\" font-size=\"13.00\">grade</text>\n",
       "<polygon fill=\"#f5f5f5\" stroke=\"transparent\" points=\"520.5,-1857 520.5,-1881 589.5,-1881 589.5,-1857 520.5,-1857\"/>\n",
       "<text text-anchor=\"start\" x=\"550.5\" y=\"-1866.6\" font-family=\"-apple-system, BlinkMacSystemFont, 'Segoe UI', Helvetica, Arial, sans-serif, 'Apple Color Emoji', 'Segoe UI Emoji', 'Segoe UI Symbol'\" font-style=\"italic\" font-size=\"13.00\">String</text>\n",
       "<polygon fill=\"#ffffff\" stroke=\"transparent\" points=\"304.5,-1833 304.5,-1857 336.5,-1857 336.5,-1833 304.5,-1833\"/>\n",
       "<polygon fill=\"#ffffff\" stroke=\"transparent\" points=\"336.5,-1833 336.5,-1857 520.5,-1857 520.5,-1833 336.5,-1833\"/>\n",
       "<text text-anchor=\"start\" x=\"341.5\" y=\"-1841.6\" font-family=\"-apple-system, BlinkMacSystemFont, 'Segoe UI', Helvetica, Arial, sans-serif, 'Apple Color Emoji', 'Segoe UI Emoji', 'Segoe UI Symbol'\" font-size=\"13.00\">sub_grade</text>\n",
       "<polygon fill=\"#ffffff\" stroke=\"transparent\" points=\"520.5,-1833 520.5,-1857 589.5,-1857 589.5,-1833 520.5,-1833\"/>\n",
       "<text text-anchor=\"start\" x=\"550.5\" y=\"-1842.6\" font-family=\"-apple-system, BlinkMacSystemFont, 'Segoe UI', Helvetica, Arial, sans-serif, 'Apple Color Emoji', 'Segoe UI Emoji', 'Segoe UI Symbol'\" font-style=\"italic\" font-size=\"13.00\">String</text>\n",
       "<polygon fill=\"#f5f5f5\" stroke=\"transparent\" points=\"304.5,-1809 304.5,-1833 336.5,-1833 336.5,-1809 304.5,-1809\"/>\n",
       "<polygon fill=\"#f5f5f5\" stroke=\"transparent\" points=\"336.5,-1809 336.5,-1833 520.5,-1833 520.5,-1809 336.5,-1809\"/>\n",
       "<text text-anchor=\"start\" x=\"341.5\" y=\"-1817.6\" font-family=\"-apple-system, BlinkMacSystemFont, 'Segoe UI', Helvetica, Arial, sans-serif, 'Apple Color Emoji', 'Segoe UI Emoji', 'Segoe UI Symbol'\" font-size=\"13.00\">emp_title</text>\n",
       "<polygon fill=\"#f5f5f5\" stroke=\"transparent\" points=\"520.5,-1809 520.5,-1833 589.5,-1833 589.5,-1809 520.5,-1809\"/>\n",
       "<text text-anchor=\"start\" x=\"550.5\" y=\"-1818.6\" font-family=\"-apple-system, BlinkMacSystemFont, 'Segoe UI', Helvetica, Arial, sans-serif, 'Apple Color Emoji', 'Segoe UI Emoji', 'Segoe UI Symbol'\" font-style=\"italic\" font-size=\"13.00\">String</text>\n",
       "<polygon fill=\"#ffffff\" stroke=\"transparent\" points=\"304.5,-1785 304.5,-1809 336.5,-1809 336.5,-1785 304.5,-1785\"/>\n",
       "<polygon fill=\"#ffffff\" stroke=\"transparent\" points=\"336.5,-1785 336.5,-1809 520.5,-1809 520.5,-1785 336.5,-1785\"/>\n",
       "<text text-anchor=\"start\" x=\"341.5\" y=\"-1793.6\" font-family=\"-apple-system, BlinkMacSystemFont, 'Segoe UI', Helvetica, Arial, sans-serif, 'Apple Color Emoji', 'Segoe UI Emoji', 'Segoe UI Symbol'\" font-size=\"13.00\">emp_length</text>\n",
       "<polygon fill=\"#ffffff\" stroke=\"transparent\" points=\"520.5,-1785 520.5,-1809 589.5,-1809 589.5,-1785 520.5,-1785\"/>\n",
       "<text text-anchor=\"start\" x=\"550.5\" y=\"-1794.6\" font-family=\"-apple-system, BlinkMacSystemFont, 'Segoe UI', Helvetica, Arial, sans-serif, 'Apple Color Emoji', 'Segoe UI Emoji', 'Segoe UI Symbol'\" font-style=\"italic\" font-size=\"13.00\">String</text>\n",
       "<polygon fill=\"#f5f5f5\" stroke=\"transparent\" points=\"304.5,-1761 304.5,-1785 336.5,-1785 336.5,-1761 304.5,-1761\"/>\n",
       "<polygon fill=\"#f5f5f5\" stroke=\"transparent\" points=\"336.5,-1761 336.5,-1785 520.5,-1785 520.5,-1761 336.5,-1761\"/>\n",
       "<text text-anchor=\"start\" x=\"341.5\" y=\"-1769.6\" font-family=\"-apple-system, BlinkMacSystemFont, 'Segoe UI', Helvetica, Arial, sans-serif, 'Apple Color Emoji', 'Segoe UI Emoji', 'Segoe UI Symbol'\" font-size=\"13.00\">home_ownership</text>\n",
       "<polygon fill=\"#f5f5f5\" stroke=\"transparent\" points=\"520.5,-1761 520.5,-1785 589.5,-1785 589.5,-1761 520.5,-1761\"/>\n",
       "<text text-anchor=\"start\" x=\"550.5\" y=\"-1770.6\" font-family=\"-apple-system, BlinkMacSystemFont, 'Segoe UI', Helvetica, Arial, sans-serif, 'Apple Color Emoji', 'Segoe UI Emoji', 'Segoe UI Symbol'\" font-style=\"italic\" font-size=\"13.00\">String</text>\n",
       "<polygon fill=\"#ffffff\" stroke=\"transparent\" points=\"304.5,-1737 304.5,-1761 336.5,-1761 336.5,-1737 304.5,-1737\"/>\n",
       "<polygon fill=\"#ffffff\" stroke=\"transparent\" points=\"336.5,-1737 336.5,-1761 520.5,-1761 520.5,-1737 336.5,-1737\"/>\n",
       "<text text-anchor=\"start\" x=\"341.5\" y=\"-1745.6\" font-family=\"-apple-system, BlinkMacSystemFont, 'Segoe UI', Helvetica, Arial, sans-serif, 'Apple Color Emoji', 'Segoe UI Emoji', 'Segoe UI Symbol'\" font-size=\"13.00\">annual_inc</text>\n",
       "<polygon fill=\"#ffffff\" stroke=\"transparent\" points=\"520.5,-1737 520.5,-1761 589.5,-1761 589.5,-1737 520.5,-1737\"/>\n",
       "<text text-anchor=\"start\" x=\"544.5\" y=\"-1746.6\" font-family=\"-apple-system, BlinkMacSystemFont, 'Segoe UI', Helvetica, Arial, sans-serif, 'Apple Color Emoji', 'Segoe UI Emoji', 'Segoe UI Symbol'\" font-style=\"italic\" font-size=\"13.00\">double</text>\n",
       "<polygon fill=\"#f5f5f5\" stroke=\"transparent\" points=\"304.5,-1713 304.5,-1737 336.5,-1737 336.5,-1713 304.5,-1713\"/>\n",
       "<polygon fill=\"#f5f5f5\" stroke=\"transparent\" points=\"336.5,-1713 336.5,-1737 520.5,-1737 520.5,-1713 336.5,-1713\"/>\n",
       "<text text-anchor=\"start\" x=\"341.5\" y=\"-1721.6\" font-family=\"-apple-system, BlinkMacSystemFont, 'Segoe UI', Helvetica, Arial, sans-serif, 'Apple Color Emoji', 'Segoe UI Emoji', 'Segoe UI Symbol'\" font-size=\"13.00\">verification_status</text>\n",
       "<polygon fill=\"#f5f5f5\" stroke=\"transparent\" points=\"520.5,-1713 520.5,-1737 589.5,-1737 589.5,-1713 520.5,-1713\"/>\n",
       "<text text-anchor=\"start\" x=\"550.5\" y=\"-1722.6\" font-family=\"-apple-system, BlinkMacSystemFont, 'Segoe UI', Helvetica, Arial, sans-serif, 'Apple Color Emoji', 'Segoe UI Emoji', 'Segoe UI Symbol'\" font-style=\"italic\" font-size=\"13.00\">String</text>\n",
       "<polygon fill=\"#ffffff\" stroke=\"transparent\" points=\"304.5,-1689 304.5,-1713 336.5,-1713 336.5,-1689 304.5,-1689\"/>\n",
       "<polygon fill=\"#ffffff\" stroke=\"transparent\" points=\"336.5,-1689 336.5,-1713 520.5,-1713 520.5,-1689 336.5,-1689\"/>\n",
       "<text text-anchor=\"start\" x=\"341.5\" y=\"-1697.6\" font-family=\"-apple-system, BlinkMacSystemFont, 'Segoe UI', Helvetica, Arial, sans-serif, 'Apple Color Emoji', 'Segoe UI Emoji', 'Segoe UI Symbol'\" font-size=\"13.00\">issue_d</text>\n",
       "<polygon fill=\"#ffffff\" stroke=\"transparent\" points=\"520.5,-1689 520.5,-1713 589.5,-1713 589.5,-1689 520.5,-1689\"/>\n",
       "<text text-anchor=\"start\" x=\"525.5\" y=\"-1698.6\" font-family=\"-apple-system, BlinkMacSystemFont, 'Segoe UI', Helvetica, Arial, sans-serif, 'Apple Color Emoji', 'Segoe UI Emoji', 'Segoe UI Symbol'\" font-style=\"italic\" font-size=\"13.00\">LocalDate</text>\n",
       "<polygon fill=\"#f5f5f5\" stroke=\"transparent\" points=\"304.5,-1665 304.5,-1689 336.5,-1689 336.5,-1665 304.5,-1665\"/>\n",
       "<polygon fill=\"#f5f5f5\" stroke=\"transparent\" points=\"336.5,-1665 336.5,-1689 520.5,-1689 520.5,-1665 336.5,-1665\"/>\n",
       "<text text-anchor=\"start\" x=\"341.5\" y=\"-1673.6\" font-family=\"-apple-system, BlinkMacSystemFont, 'Segoe UI', Helvetica, Arial, sans-serif, 'Apple Color Emoji', 'Segoe UI Emoji', 'Segoe UI Symbol'\" font-size=\"13.00\">loan_status</text>\n",
       "<polygon fill=\"#f5f5f5\" stroke=\"transparent\" points=\"520.5,-1665 520.5,-1689 589.5,-1689 589.5,-1665 520.5,-1665\"/>\n",
       "<text text-anchor=\"start\" x=\"550.5\" y=\"-1674.6\" font-family=\"-apple-system, BlinkMacSystemFont, 'Segoe UI', Helvetica, Arial, sans-serif, 'Apple Color Emoji', 'Segoe UI Emoji', 'Segoe UI Symbol'\" font-style=\"italic\" font-size=\"13.00\">String</text>\n",
       "<polygon fill=\"#ffffff\" stroke=\"transparent\" points=\"304.5,-1641 304.5,-1665 336.5,-1665 336.5,-1641 304.5,-1641\"/>\n",
       "<polygon fill=\"#ffffff\" stroke=\"transparent\" points=\"336.5,-1641 336.5,-1665 520.5,-1665 520.5,-1641 336.5,-1641\"/>\n",
       "<text text-anchor=\"start\" x=\"341.5\" y=\"-1649.6\" font-family=\"-apple-system, BlinkMacSystemFont, 'Segoe UI', Helvetica, Arial, sans-serif, 'Apple Color Emoji', 'Segoe UI Emoji', 'Segoe UI Symbol'\" font-size=\"13.00\">pymnt_plan</text>\n",
       "<polygon fill=\"#ffffff\" stroke=\"transparent\" points=\"520.5,-1641 520.5,-1665 589.5,-1665 589.5,-1641 520.5,-1641\"/>\n",
       "<text text-anchor=\"start\" x=\"550.5\" y=\"-1650.6\" font-family=\"-apple-system, BlinkMacSystemFont, 'Segoe UI', Helvetica, Arial, sans-serif, 'Apple Color Emoji', 'Segoe UI Emoji', 'Segoe UI Symbol'\" font-style=\"italic\" font-size=\"13.00\">String</text>\n",
       "<polygon fill=\"#f5f5f5\" stroke=\"transparent\" points=\"304.5,-1617 304.5,-1641 336.5,-1641 336.5,-1617 304.5,-1617\"/>\n",
       "<polygon fill=\"#f5f5f5\" stroke=\"transparent\" points=\"336.5,-1617 336.5,-1641 520.5,-1641 520.5,-1617 336.5,-1617\"/>\n",
       "<text text-anchor=\"start\" x=\"341.5\" y=\"-1625.6\" font-family=\"-apple-system, BlinkMacSystemFont, 'Segoe UI', Helvetica, Arial, sans-serif, 'Apple Color Emoji', 'Segoe UI Emoji', 'Segoe UI Symbol'\" font-size=\"13.00\">url</text>\n",
       "<polygon fill=\"#f5f5f5\" stroke=\"transparent\" points=\"520.5,-1617 520.5,-1641 589.5,-1641 589.5,-1617 520.5,-1617\"/>\n",
       "<text text-anchor=\"start\" x=\"550.5\" y=\"-1626.6\" font-family=\"-apple-system, BlinkMacSystemFont, 'Segoe UI', Helvetica, Arial, sans-serif, 'Apple Color Emoji', 'Segoe UI Emoji', 'Segoe UI Symbol'\" font-style=\"italic\" font-size=\"13.00\">String</text>\n",
       "<polygon fill=\"#ffffff\" stroke=\"transparent\" points=\"304.5,-1593 304.5,-1617 336.5,-1617 336.5,-1593 304.5,-1593\"/>\n",
       "<polygon fill=\"#ffffff\" stroke=\"transparent\" points=\"336.5,-1593 336.5,-1617 520.5,-1617 520.5,-1593 336.5,-1593\"/>\n",
       "<text text-anchor=\"start\" x=\"341.5\" y=\"-1601.6\" font-family=\"-apple-system, BlinkMacSystemFont, 'Segoe UI', Helvetica, Arial, sans-serif, 'Apple Color Emoji', 'Segoe UI Emoji', 'Segoe UI Symbol'\" font-size=\"13.00\">desc</text>\n",
       "<polygon fill=\"#ffffff\" stroke=\"transparent\" points=\"520.5,-1593 520.5,-1617 589.5,-1617 589.5,-1593 520.5,-1593\"/>\n",
       "<text text-anchor=\"start\" x=\"550.5\" y=\"-1602.6\" font-family=\"-apple-system, BlinkMacSystemFont, 'Segoe UI', Helvetica, Arial, sans-serif, 'Apple Color Emoji', 'Segoe UI Emoji', 'Segoe UI Symbol'\" font-style=\"italic\" font-size=\"13.00\">String</text>\n",
       "<polygon fill=\"#f5f5f5\" stroke=\"transparent\" points=\"304.5,-1569 304.5,-1593 336.5,-1593 336.5,-1569 304.5,-1569\"/>\n",
       "<polygon fill=\"#f5f5f5\" stroke=\"transparent\" points=\"336.5,-1569 336.5,-1593 520.5,-1593 520.5,-1569 336.5,-1569\"/>\n",
       "<text text-anchor=\"start\" x=\"341.5\" y=\"-1577.6\" font-family=\"-apple-system, BlinkMacSystemFont, 'Segoe UI', Helvetica, Arial, sans-serif, 'Apple Color Emoji', 'Segoe UI Emoji', 'Segoe UI Symbol'\" font-size=\"13.00\">purpose</text>\n",
       "<polygon fill=\"#f5f5f5\" stroke=\"transparent\" points=\"520.5,-1569 520.5,-1593 589.5,-1593 589.5,-1569 520.5,-1569\"/>\n",
       "<text text-anchor=\"start\" x=\"550.5\" y=\"-1578.6\" font-family=\"-apple-system, BlinkMacSystemFont, 'Segoe UI', Helvetica, Arial, sans-serif, 'Apple Color Emoji', 'Segoe UI Emoji', 'Segoe UI Symbol'\" font-style=\"italic\" font-size=\"13.00\">String</text>\n",
       "<polygon fill=\"#ffffff\" stroke=\"transparent\" points=\"304.5,-1545 304.5,-1569 336.5,-1569 336.5,-1545 304.5,-1545\"/>\n",
       "<polygon fill=\"#ffffff\" stroke=\"transparent\" points=\"336.5,-1545 336.5,-1569 520.5,-1569 520.5,-1545 336.5,-1545\"/>\n",
       "<text text-anchor=\"start\" x=\"341.5\" y=\"-1553.6\" font-family=\"-apple-system, BlinkMacSystemFont, 'Segoe UI', Helvetica, Arial, sans-serif, 'Apple Color Emoji', 'Segoe UI Emoji', 'Segoe UI Symbol'\" font-size=\"13.00\">title</text>\n",
       "<polygon fill=\"#ffffff\" stroke=\"transparent\" points=\"520.5,-1545 520.5,-1569 589.5,-1569 589.5,-1545 520.5,-1545\"/>\n",
       "<text text-anchor=\"start\" x=\"550.5\" y=\"-1554.6\" font-family=\"-apple-system, BlinkMacSystemFont, 'Segoe UI', Helvetica, Arial, sans-serif, 'Apple Color Emoji', 'Segoe UI Emoji', 'Segoe UI Symbol'\" font-style=\"italic\" font-size=\"13.00\">String</text>\n",
       "<polygon fill=\"#f5f5f5\" stroke=\"transparent\" points=\"304.5,-1521 304.5,-1545 336.5,-1545 336.5,-1521 304.5,-1521\"/>\n",
       "<polygon fill=\"#f5f5f5\" stroke=\"transparent\" points=\"336.5,-1521 336.5,-1545 520.5,-1545 520.5,-1521 336.5,-1521\"/>\n",
       "<text text-anchor=\"start\" x=\"341.5\" y=\"-1529.6\" font-family=\"-apple-system, BlinkMacSystemFont, 'Segoe UI', Helvetica, Arial, sans-serif, 'Apple Color Emoji', 'Segoe UI Emoji', 'Segoe UI Symbol'\" font-size=\"13.00\">zip_code</text>\n",
       "<polygon fill=\"#f5f5f5\" stroke=\"transparent\" points=\"520.5,-1521 520.5,-1545 589.5,-1545 589.5,-1521 520.5,-1521\"/>\n",
       "<text text-anchor=\"start\" x=\"550.5\" y=\"-1530.6\" font-family=\"-apple-system, BlinkMacSystemFont, 'Segoe UI', Helvetica, Arial, sans-serif, 'Apple Color Emoji', 'Segoe UI Emoji', 'Segoe UI Symbol'\" font-style=\"italic\" font-size=\"13.00\">String</text>\n",
       "<polygon fill=\"#ffffff\" stroke=\"transparent\" points=\"304.5,-1497 304.5,-1521 336.5,-1521 336.5,-1497 304.5,-1497\"/>\n",
       "<polygon fill=\"#ffffff\" stroke=\"transparent\" points=\"336.5,-1497 336.5,-1521 520.5,-1521 520.5,-1497 336.5,-1497\"/>\n",
       "<text text-anchor=\"start\" x=\"341.5\" y=\"-1505.6\" font-family=\"-apple-system, BlinkMacSystemFont, 'Segoe UI', Helvetica, Arial, sans-serif, 'Apple Color Emoji', 'Segoe UI Emoji', 'Segoe UI Symbol'\" font-size=\"13.00\">addr_state</text>\n",
       "<polygon fill=\"#ffffff\" stroke=\"transparent\" points=\"520.5,-1497 520.5,-1521 589.5,-1521 589.5,-1497 520.5,-1497\"/>\n",
       "<text text-anchor=\"start\" x=\"550.5\" y=\"-1506.6\" font-family=\"-apple-system, BlinkMacSystemFont, 'Segoe UI', Helvetica, Arial, sans-serif, 'Apple Color Emoji', 'Segoe UI Emoji', 'Segoe UI Symbol'\" font-style=\"italic\" font-size=\"13.00\">String</text>\n",
       "<polygon fill=\"#f5f5f5\" stroke=\"transparent\" points=\"304.5,-1473 304.5,-1497 336.5,-1497 336.5,-1473 304.5,-1473\"/>\n",
       "<polygon fill=\"#f5f5f5\" stroke=\"transparent\" points=\"336.5,-1473 336.5,-1497 520.5,-1497 520.5,-1473 336.5,-1473\"/>\n",
       "<text text-anchor=\"start\" x=\"341.5\" y=\"-1481.6\" font-family=\"-apple-system, BlinkMacSystemFont, 'Segoe UI', Helvetica, Arial, sans-serif, 'Apple Color Emoji', 'Segoe UI Emoji', 'Segoe UI Symbol'\" font-size=\"13.00\">dti</text>\n",
       "<polygon fill=\"#f5f5f5\" stroke=\"transparent\" points=\"520.5,-1473 520.5,-1497 589.5,-1497 589.5,-1473 520.5,-1473\"/>\n",
       "<text text-anchor=\"start\" x=\"544.5\" y=\"-1482.6\" font-family=\"-apple-system, BlinkMacSystemFont, 'Segoe UI', Helvetica, Arial, sans-serif, 'Apple Color Emoji', 'Segoe UI Emoji', 'Segoe UI Symbol'\" font-style=\"italic\" font-size=\"13.00\">double</text>\n",
       "<polygon fill=\"#ffffff\" stroke=\"transparent\" points=\"304.5,-1449 304.5,-1473 336.5,-1473 336.5,-1449 304.5,-1449\"/>\n",
       "<polygon fill=\"#ffffff\" stroke=\"transparent\" points=\"336.5,-1449 336.5,-1473 520.5,-1473 520.5,-1449 336.5,-1449\"/>\n",
       "<text text-anchor=\"start\" x=\"341.5\" y=\"-1457.6\" font-family=\"-apple-system, BlinkMacSystemFont, 'Segoe UI', Helvetica, Arial, sans-serif, 'Apple Color Emoji', 'Segoe UI Emoji', 'Segoe UI Symbol'\" font-size=\"13.00\">delinq_2yrs</text>\n",
       "<polygon fill=\"#ffffff\" stroke=\"transparent\" points=\"520.5,-1449 520.5,-1473 589.5,-1473 589.5,-1449 520.5,-1449\"/>\n",
       "<text text-anchor=\"start\" x=\"544.5\" y=\"-1458.6\" font-family=\"-apple-system, BlinkMacSystemFont, 'Segoe UI', Helvetica, Arial, sans-serif, 'Apple Color Emoji', 'Segoe UI Emoji', 'Segoe UI Symbol'\" font-style=\"italic\" font-size=\"13.00\">double</text>\n",
       "<polygon fill=\"#f5f5f5\" stroke=\"transparent\" points=\"304.5,-1425 304.5,-1449 336.5,-1449 336.5,-1425 304.5,-1425\"/>\n",
       "<polygon fill=\"#f5f5f5\" stroke=\"transparent\" points=\"336.5,-1425 336.5,-1449 520.5,-1449 520.5,-1425 336.5,-1425\"/>\n",
       "<text text-anchor=\"start\" x=\"341.5\" y=\"-1433.6\" font-family=\"-apple-system, BlinkMacSystemFont, 'Segoe UI', Helvetica, Arial, sans-serif, 'Apple Color Emoji', 'Segoe UI Emoji', 'Segoe UI Symbol'\" font-size=\"13.00\">earliest_cr_line</text>\n",
       "<polygon fill=\"#f5f5f5\" stroke=\"transparent\" points=\"520.5,-1425 520.5,-1449 589.5,-1449 589.5,-1425 520.5,-1425\"/>\n",
       "<text text-anchor=\"start\" x=\"550.5\" y=\"-1434.6\" font-family=\"-apple-system, BlinkMacSystemFont, 'Segoe UI', Helvetica, Arial, sans-serif, 'Apple Color Emoji', 'Segoe UI Emoji', 'Segoe UI Symbol'\" font-style=\"italic\" font-size=\"13.00\">String</text>\n",
       "<polygon fill=\"#ffffff\" stroke=\"transparent\" points=\"304.5,-1401 304.5,-1425 336.5,-1425 336.5,-1401 304.5,-1401\"/>\n",
       "<polygon fill=\"#ffffff\" stroke=\"transparent\" points=\"336.5,-1401 336.5,-1425 520.5,-1425 520.5,-1401 336.5,-1401\"/>\n",
       "<text text-anchor=\"start\" x=\"341.5\" y=\"-1409.6\" font-family=\"-apple-system, BlinkMacSystemFont, 'Segoe UI', Helvetica, Arial, sans-serif, 'Apple Color Emoji', 'Segoe UI Emoji', 'Segoe UI Symbol'\" font-size=\"13.00\">inq_last_6mths</text>\n",
       "<polygon fill=\"#ffffff\" stroke=\"transparent\" points=\"520.5,-1401 520.5,-1425 589.5,-1425 589.5,-1401 520.5,-1401\"/>\n",
       "<text text-anchor=\"start\" x=\"544.5\" y=\"-1410.6\" font-family=\"-apple-system, BlinkMacSystemFont, 'Segoe UI', Helvetica, Arial, sans-serif, 'Apple Color Emoji', 'Segoe UI Emoji', 'Segoe UI Symbol'\" font-style=\"italic\" font-size=\"13.00\">double</text>\n",
       "<polygon fill=\"#f5f5f5\" stroke=\"transparent\" points=\"304.5,-1377 304.5,-1401 336.5,-1401 336.5,-1377 304.5,-1377\"/>\n",
       "<polygon fill=\"#f5f5f5\" stroke=\"transparent\" points=\"336.5,-1377 336.5,-1401 520.5,-1401 520.5,-1377 336.5,-1377\"/>\n",
       "<text text-anchor=\"start\" x=\"341.5\" y=\"-1385.6\" font-family=\"-apple-system, BlinkMacSystemFont, 'Segoe UI', Helvetica, Arial, sans-serif, 'Apple Color Emoji', 'Segoe UI Emoji', 'Segoe UI Symbol'\" font-size=\"13.00\">mths_since_last_delinq</text>\n",
       "<polygon fill=\"#f5f5f5\" stroke=\"transparent\" points=\"520.5,-1377 520.5,-1401 589.5,-1401 589.5,-1377 520.5,-1377\"/>\n",
       "<text text-anchor=\"start\" x=\"544.5\" y=\"-1386.6\" font-family=\"-apple-system, BlinkMacSystemFont, 'Segoe UI', Helvetica, Arial, sans-serif, 'Apple Color Emoji', 'Segoe UI Emoji', 'Segoe UI Symbol'\" font-style=\"italic\" font-size=\"13.00\">double</text>\n",
       "<polygon fill=\"#ffffff\" stroke=\"transparent\" points=\"304.5,-1353 304.5,-1377 336.5,-1377 336.5,-1353 304.5,-1353\"/>\n",
       "<polygon fill=\"#ffffff\" stroke=\"transparent\" points=\"336.5,-1353 336.5,-1377 520.5,-1377 520.5,-1353 336.5,-1353\"/>\n",
       "<text text-anchor=\"start\" x=\"341.5\" y=\"-1361.6\" font-family=\"-apple-system, BlinkMacSystemFont, 'Segoe UI', Helvetica, Arial, sans-serif, 'Apple Color Emoji', 'Segoe UI Emoji', 'Segoe UI Symbol'\" font-size=\"13.00\">mths_since_last_record</text>\n",
       "<polygon fill=\"#ffffff\" stroke=\"transparent\" points=\"520.5,-1353 520.5,-1377 589.5,-1377 589.5,-1353 520.5,-1353\"/>\n",
       "<text text-anchor=\"start\" x=\"544.5\" y=\"-1362.6\" font-family=\"-apple-system, BlinkMacSystemFont, 'Segoe UI', Helvetica, Arial, sans-serif, 'Apple Color Emoji', 'Segoe UI Emoji', 'Segoe UI Symbol'\" font-style=\"italic\" font-size=\"13.00\">double</text>\n",
       "<polygon fill=\"#f5f5f5\" stroke=\"transparent\" points=\"304.5,-1329 304.5,-1353 336.5,-1353 336.5,-1329 304.5,-1329\"/>\n",
       "<polygon fill=\"#f5f5f5\" stroke=\"transparent\" points=\"336.5,-1329 336.5,-1353 520.5,-1353 520.5,-1329 336.5,-1329\"/>\n",
       "<text text-anchor=\"start\" x=\"341.5\" y=\"-1337.6\" font-family=\"-apple-system, BlinkMacSystemFont, 'Segoe UI', Helvetica, Arial, sans-serif, 'Apple Color Emoji', 'Segoe UI Emoji', 'Segoe UI Symbol'\" font-size=\"13.00\">open_acc</text>\n",
       "<polygon fill=\"#f5f5f5\" stroke=\"transparent\" points=\"520.5,-1329 520.5,-1353 589.5,-1353 589.5,-1329 520.5,-1329\"/>\n",
       "<text text-anchor=\"start\" x=\"544.5\" y=\"-1338.6\" font-family=\"-apple-system, BlinkMacSystemFont, 'Segoe UI', Helvetica, Arial, sans-serif, 'Apple Color Emoji', 'Segoe UI Emoji', 'Segoe UI Symbol'\" font-style=\"italic\" font-size=\"13.00\">double</text>\n",
       "<polygon fill=\"#ffffff\" stroke=\"transparent\" points=\"304.5,-1305 304.5,-1329 336.5,-1329 336.5,-1305 304.5,-1305\"/>\n",
       "<polygon fill=\"#ffffff\" stroke=\"transparent\" points=\"336.5,-1305 336.5,-1329 520.5,-1329 520.5,-1305 336.5,-1305\"/>\n",
       "<text text-anchor=\"start\" x=\"341.5\" y=\"-1313.6\" font-family=\"-apple-system, BlinkMacSystemFont, 'Segoe UI', Helvetica, Arial, sans-serif, 'Apple Color Emoji', 'Segoe UI Emoji', 'Segoe UI Symbol'\" font-size=\"13.00\">pub_rec</text>\n",
       "<polygon fill=\"#ffffff\" stroke=\"transparent\" points=\"520.5,-1305 520.5,-1329 589.5,-1329 589.5,-1305 520.5,-1305\"/>\n",
       "<text text-anchor=\"start\" x=\"544.5\" y=\"-1314.6\" font-family=\"-apple-system, BlinkMacSystemFont, 'Segoe UI', Helvetica, Arial, sans-serif, 'Apple Color Emoji', 'Segoe UI Emoji', 'Segoe UI Symbol'\" font-style=\"italic\" font-size=\"13.00\">double</text>\n",
       "<polygon fill=\"#f5f5f5\" stroke=\"transparent\" points=\"304.5,-1281 304.5,-1305 336.5,-1305 336.5,-1281 304.5,-1281\"/>\n",
       "<polygon fill=\"#f5f5f5\" stroke=\"transparent\" points=\"336.5,-1281 336.5,-1305 520.5,-1305 520.5,-1281 336.5,-1281\"/>\n",
       "<text text-anchor=\"start\" x=\"341.5\" y=\"-1289.6\" font-family=\"-apple-system, BlinkMacSystemFont, 'Segoe UI', Helvetica, Arial, sans-serif, 'Apple Color Emoji', 'Segoe UI Emoji', 'Segoe UI Symbol'\" font-size=\"13.00\">revol_bal</text>\n",
       "<polygon fill=\"#f5f5f5\" stroke=\"transparent\" points=\"520.5,-1281 520.5,-1305 589.5,-1305 589.5,-1281 520.5,-1281\"/>\n",
       "<text text-anchor=\"start\" x=\"544.5\" y=\"-1290.6\" font-family=\"-apple-system, BlinkMacSystemFont, 'Segoe UI', Helvetica, Arial, sans-serif, 'Apple Color Emoji', 'Segoe UI Emoji', 'Segoe UI Symbol'\" font-style=\"italic\" font-size=\"13.00\">double</text>\n",
       "<polygon fill=\"#ffffff\" stroke=\"transparent\" points=\"304.5,-1257 304.5,-1281 336.5,-1281 336.5,-1257 304.5,-1257\"/>\n",
       "<polygon fill=\"#ffffff\" stroke=\"transparent\" points=\"336.5,-1257 336.5,-1281 520.5,-1281 520.5,-1257 336.5,-1257\"/>\n",
       "<text text-anchor=\"start\" x=\"341.5\" y=\"-1265.6\" font-family=\"-apple-system, BlinkMacSystemFont, 'Segoe UI', Helvetica, Arial, sans-serif, 'Apple Color Emoji', 'Segoe UI Emoji', 'Segoe UI Symbol'\" font-size=\"13.00\">revol_util</text>\n",
       "<polygon fill=\"#ffffff\" stroke=\"transparent\" points=\"520.5,-1257 520.5,-1281 589.5,-1281 589.5,-1257 520.5,-1257\"/>\n",
       "<text text-anchor=\"start\" x=\"544.5\" y=\"-1266.6\" font-family=\"-apple-system, BlinkMacSystemFont, 'Segoe UI', Helvetica, Arial, sans-serif, 'Apple Color Emoji', 'Segoe UI Emoji', 'Segoe UI Symbol'\" font-style=\"italic\" font-size=\"13.00\">double</text>\n",
       "<polygon fill=\"#f5f5f5\" stroke=\"transparent\" points=\"304.5,-1233 304.5,-1257 336.5,-1257 336.5,-1233 304.5,-1233\"/>\n",
       "<polygon fill=\"#f5f5f5\" stroke=\"transparent\" points=\"336.5,-1233 336.5,-1257 520.5,-1257 520.5,-1233 336.5,-1233\"/>\n",
       "<text text-anchor=\"start\" x=\"341.5\" y=\"-1241.6\" font-family=\"-apple-system, BlinkMacSystemFont, 'Segoe UI', Helvetica, Arial, sans-serif, 'Apple Color Emoji', 'Segoe UI Emoji', 'Segoe UI Symbol'\" font-size=\"13.00\">total_acc</text>\n",
       "<polygon fill=\"#f5f5f5\" stroke=\"transparent\" points=\"520.5,-1233 520.5,-1257 589.5,-1257 589.5,-1233 520.5,-1233\"/>\n",
       "<text text-anchor=\"start\" x=\"544.5\" y=\"-1242.6\" font-family=\"-apple-system, BlinkMacSystemFont, 'Segoe UI', Helvetica, Arial, sans-serif, 'Apple Color Emoji', 'Segoe UI Emoji', 'Segoe UI Symbol'\" font-style=\"italic\" font-size=\"13.00\">double</text>\n",
       "<polygon fill=\"#ffffff\" stroke=\"transparent\" points=\"304.5,-1209 304.5,-1233 336.5,-1233 336.5,-1209 304.5,-1209\"/>\n",
       "<polygon fill=\"#ffffff\" stroke=\"transparent\" points=\"336.5,-1209 336.5,-1233 520.5,-1233 520.5,-1209 336.5,-1209\"/>\n",
       "<text text-anchor=\"start\" x=\"341.5\" y=\"-1217.6\" font-family=\"-apple-system, BlinkMacSystemFont, 'Segoe UI', Helvetica, Arial, sans-serif, 'Apple Color Emoji', 'Segoe UI Emoji', 'Segoe UI Symbol'\" font-size=\"13.00\">initial_list_status</text>\n",
       "<polygon fill=\"#ffffff\" stroke=\"transparent\" points=\"520.5,-1209 520.5,-1233 589.5,-1233 589.5,-1209 520.5,-1209\"/>\n",
       "<text text-anchor=\"start\" x=\"550.5\" y=\"-1218.6\" font-family=\"-apple-system, BlinkMacSystemFont, 'Segoe UI', Helvetica, Arial, sans-serif, 'Apple Color Emoji', 'Segoe UI Emoji', 'Segoe UI Symbol'\" font-style=\"italic\" font-size=\"13.00\">String</text>\n",
       "<polygon fill=\"#f5f5f5\" stroke=\"transparent\" points=\"304.5,-1185 304.5,-1209 336.5,-1209 336.5,-1185 304.5,-1185\"/>\n",
       "<polygon fill=\"#f5f5f5\" stroke=\"transparent\" points=\"336.5,-1185 336.5,-1209 520.5,-1209 520.5,-1185 336.5,-1185\"/>\n",
       "<text text-anchor=\"start\" x=\"341.5\" y=\"-1193.6\" font-family=\"-apple-system, BlinkMacSystemFont, 'Segoe UI', Helvetica, Arial, sans-serif, 'Apple Color Emoji', 'Segoe UI Emoji', 'Segoe UI Symbol'\" font-size=\"13.00\">out_prncp</text>\n",
       "<polygon fill=\"#f5f5f5\" stroke=\"transparent\" points=\"520.5,-1185 520.5,-1209 589.5,-1209 589.5,-1185 520.5,-1185\"/>\n",
       "<text text-anchor=\"start\" x=\"544.5\" y=\"-1194.6\" font-family=\"-apple-system, BlinkMacSystemFont, 'Segoe UI', Helvetica, Arial, sans-serif, 'Apple Color Emoji', 'Segoe UI Emoji', 'Segoe UI Symbol'\" font-style=\"italic\" font-size=\"13.00\">double</text>\n",
       "<polygon fill=\"#ffffff\" stroke=\"transparent\" points=\"304.5,-1161 304.5,-1185 336.5,-1185 336.5,-1161 304.5,-1161\"/>\n",
       "<polygon fill=\"#ffffff\" stroke=\"transparent\" points=\"336.5,-1161 336.5,-1185 520.5,-1185 520.5,-1161 336.5,-1161\"/>\n",
       "<text text-anchor=\"start\" x=\"341.5\" y=\"-1169.6\" font-family=\"-apple-system, BlinkMacSystemFont, 'Segoe UI', Helvetica, Arial, sans-serif, 'Apple Color Emoji', 'Segoe UI Emoji', 'Segoe UI Symbol'\" font-size=\"13.00\">out_prncp_inv</text>\n",
       "<polygon fill=\"#ffffff\" stroke=\"transparent\" points=\"520.5,-1161 520.5,-1185 589.5,-1185 589.5,-1161 520.5,-1161\"/>\n",
       "<text text-anchor=\"start\" x=\"544.5\" y=\"-1170.6\" font-family=\"-apple-system, BlinkMacSystemFont, 'Segoe UI', Helvetica, Arial, sans-serif, 'Apple Color Emoji', 'Segoe UI Emoji', 'Segoe UI Symbol'\" font-style=\"italic\" font-size=\"13.00\">double</text>\n",
       "<polygon fill=\"#f5f5f5\" stroke=\"transparent\" points=\"304.5,-1137 304.5,-1161 336.5,-1161 336.5,-1137 304.5,-1137\"/>\n",
       "<polygon fill=\"#f5f5f5\" stroke=\"transparent\" points=\"336.5,-1137 336.5,-1161 520.5,-1161 520.5,-1137 336.5,-1137\"/>\n",
       "<text text-anchor=\"start\" x=\"341.5\" y=\"-1145.6\" font-family=\"-apple-system, BlinkMacSystemFont, 'Segoe UI', Helvetica, Arial, sans-serif, 'Apple Color Emoji', 'Segoe UI Emoji', 'Segoe UI Symbol'\" font-size=\"13.00\">total_pymnt</text>\n",
       "<polygon fill=\"#f5f5f5\" stroke=\"transparent\" points=\"520.5,-1137 520.5,-1161 589.5,-1161 589.5,-1137 520.5,-1137\"/>\n",
       "<text text-anchor=\"start\" x=\"544.5\" y=\"-1146.6\" font-family=\"-apple-system, BlinkMacSystemFont, 'Segoe UI', Helvetica, Arial, sans-serif, 'Apple Color Emoji', 'Segoe UI Emoji', 'Segoe UI Symbol'\" font-style=\"italic\" font-size=\"13.00\">double</text>\n",
       "<polygon fill=\"#ffffff\" stroke=\"transparent\" points=\"304.5,-1113 304.5,-1137 336.5,-1137 336.5,-1113 304.5,-1113\"/>\n",
       "<polygon fill=\"#ffffff\" stroke=\"transparent\" points=\"336.5,-1113 336.5,-1137 520.5,-1137 520.5,-1113 336.5,-1113\"/>\n",
       "<text text-anchor=\"start\" x=\"341.5\" y=\"-1121.6\" font-family=\"-apple-system, BlinkMacSystemFont, 'Segoe UI', Helvetica, Arial, sans-serif, 'Apple Color Emoji', 'Segoe UI Emoji', 'Segoe UI Symbol'\" font-size=\"13.00\">total_pymnt_inv</text>\n",
       "<polygon fill=\"#ffffff\" stroke=\"transparent\" points=\"520.5,-1113 520.5,-1137 589.5,-1137 589.5,-1113 520.5,-1113\"/>\n",
       "<text text-anchor=\"start\" x=\"544.5\" y=\"-1122.6\" font-family=\"-apple-system, BlinkMacSystemFont, 'Segoe UI', Helvetica, Arial, sans-serif, 'Apple Color Emoji', 'Segoe UI Emoji', 'Segoe UI Symbol'\" font-style=\"italic\" font-size=\"13.00\">double</text>\n",
       "<polygon fill=\"#f5f5f5\" stroke=\"transparent\" points=\"304.5,-1089 304.5,-1113 336.5,-1113 336.5,-1089 304.5,-1089\"/>\n",
       "<polygon fill=\"#f5f5f5\" stroke=\"transparent\" points=\"336.5,-1089 336.5,-1113 520.5,-1113 520.5,-1089 336.5,-1089\"/>\n",
       "<text text-anchor=\"start\" x=\"341.5\" y=\"-1097.6\" font-family=\"-apple-system, BlinkMacSystemFont, 'Segoe UI', Helvetica, Arial, sans-serif, 'Apple Color Emoji', 'Segoe UI Emoji', 'Segoe UI Symbol'\" font-size=\"13.00\">total_rec_prncp</text>\n",
       "<polygon fill=\"#f5f5f5\" stroke=\"transparent\" points=\"520.5,-1089 520.5,-1113 589.5,-1113 589.5,-1089 520.5,-1089\"/>\n",
       "<text text-anchor=\"start\" x=\"544.5\" y=\"-1098.6\" font-family=\"-apple-system, BlinkMacSystemFont, 'Segoe UI', Helvetica, Arial, sans-serif, 'Apple Color Emoji', 'Segoe UI Emoji', 'Segoe UI Symbol'\" font-style=\"italic\" font-size=\"13.00\">double</text>\n",
       "<polygon fill=\"#ffffff\" stroke=\"transparent\" points=\"304.5,-1065 304.5,-1089 336.5,-1089 336.5,-1065 304.5,-1065\"/>\n",
       "<polygon fill=\"#ffffff\" stroke=\"transparent\" points=\"336.5,-1065 336.5,-1089 520.5,-1089 520.5,-1065 336.5,-1065\"/>\n",
       "<text text-anchor=\"start\" x=\"341.5\" y=\"-1073.6\" font-family=\"-apple-system, BlinkMacSystemFont, 'Segoe UI', Helvetica, Arial, sans-serif, 'Apple Color Emoji', 'Segoe UI Emoji', 'Segoe UI Symbol'\" font-size=\"13.00\">total_rec_int</text>\n",
       "<polygon fill=\"#ffffff\" stroke=\"transparent\" points=\"520.5,-1065 520.5,-1089 589.5,-1089 589.5,-1065 520.5,-1065\"/>\n",
       "<text text-anchor=\"start\" x=\"544.5\" y=\"-1074.6\" font-family=\"-apple-system, BlinkMacSystemFont, 'Segoe UI', Helvetica, Arial, sans-serif, 'Apple Color Emoji', 'Segoe UI Emoji', 'Segoe UI Symbol'\" font-style=\"italic\" font-size=\"13.00\">double</text>\n",
       "<polygon fill=\"#f5f5f5\" stroke=\"transparent\" points=\"304.5,-1041 304.5,-1065 336.5,-1065 336.5,-1041 304.5,-1041\"/>\n",
       "<polygon fill=\"#f5f5f5\" stroke=\"transparent\" points=\"336.5,-1041 336.5,-1065 520.5,-1065 520.5,-1041 336.5,-1041\"/>\n",
       "<text text-anchor=\"start\" x=\"341.5\" y=\"-1049.6\" font-family=\"-apple-system, BlinkMacSystemFont, 'Segoe UI', Helvetica, Arial, sans-serif, 'Apple Color Emoji', 'Segoe UI Emoji', 'Segoe UI Symbol'\" font-size=\"13.00\">total_rec_late_fee</text>\n",
       "<polygon fill=\"#f5f5f5\" stroke=\"transparent\" points=\"520.5,-1041 520.5,-1065 589.5,-1065 589.5,-1041 520.5,-1041\"/>\n",
       "<text text-anchor=\"start\" x=\"544.5\" y=\"-1050.6\" font-family=\"-apple-system, BlinkMacSystemFont, 'Segoe UI', Helvetica, Arial, sans-serif, 'Apple Color Emoji', 'Segoe UI Emoji', 'Segoe UI Symbol'\" font-style=\"italic\" font-size=\"13.00\">double</text>\n",
       "<polygon fill=\"#ffffff\" stroke=\"transparent\" points=\"304.5,-1017 304.5,-1041 336.5,-1041 336.5,-1017 304.5,-1017\"/>\n",
       "<polygon fill=\"#ffffff\" stroke=\"transparent\" points=\"336.5,-1017 336.5,-1041 520.5,-1041 520.5,-1017 336.5,-1017\"/>\n",
       "<text text-anchor=\"start\" x=\"341.5\" y=\"-1025.6\" font-family=\"-apple-system, BlinkMacSystemFont, 'Segoe UI', Helvetica, Arial, sans-serif, 'Apple Color Emoji', 'Segoe UI Emoji', 'Segoe UI Symbol'\" font-size=\"13.00\">recoveries</text>\n",
       "<polygon fill=\"#ffffff\" stroke=\"transparent\" points=\"520.5,-1017 520.5,-1041 589.5,-1041 589.5,-1017 520.5,-1017\"/>\n",
       "<text text-anchor=\"start\" x=\"544.5\" y=\"-1026.6\" font-family=\"-apple-system, BlinkMacSystemFont, 'Segoe UI', Helvetica, Arial, sans-serif, 'Apple Color Emoji', 'Segoe UI Emoji', 'Segoe UI Symbol'\" font-style=\"italic\" font-size=\"13.00\">double</text>\n",
       "<polygon fill=\"#f5f5f5\" stroke=\"transparent\" points=\"304.5,-993 304.5,-1017 336.5,-1017 336.5,-993 304.5,-993\"/>\n",
       "<polygon fill=\"#f5f5f5\" stroke=\"transparent\" points=\"336.5,-993 336.5,-1017 520.5,-1017 520.5,-993 336.5,-993\"/>\n",
       "<text text-anchor=\"start\" x=\"341.5\" y=\"-1001.6\" font-family=\"-apple-system, BlinkMacSystemFont, 'Segoe UI', Helvetica, Arial, sans-serif, 'Apple Color Emoji', 'Segoe UI Emoji', 'Segoe UI Symbol'\" font-size=\"13.00\">collection_recovery_fee</text>\n",
       "<polygon fill=\"#f5f5f5\" stroke=\"transparent\" points=\"520.5,-993 520.5,-1017 589.5,-1017 589.5,-993 520.5,-993\"/>\n",
       "<text text-anchor=\"start\" x=\"544.5\" y=\"-1002.6\" font-family=\"-apple-system, BlinkMacSystemFont, 'Segoe UI', Helvetica, Arial, sans-serif, 'Apple Color Emoji', 'Segoe UI Emoji', 'Segoe UI Symbol'\" font-style=\"italic\" font-size=\"13.00\">double</text>\n",
       "<polygon fill=\"#ffffff\" stroke=\"transparent\" points=\"304.5,-969 304.5,-993 336.5,-993 336.5,-969 304.5,-969\"/>\n",
       "<polygon fill=\"#ffffff\" stroke=\"transparent\" points=\"336.5,-969 336.5,-993 520.5,-993 520.5,-969 336.5,-969\"/>\n",
       "<text text-anchor=\"start\" x=\"341.5\" y=\"-977.6\" font-family=\"-apple-system, BlinkMacSystemFont, 'Segoe UI', Helvetica, Arial, sans-serif, 'Apple Color Emoji', 'Segoe UI Emoji', 'Segoe UI Symbol'\" font-size=\"13.00\">last_pymnt_d</text>\n",
       "<polygon fill=\"#ffffff\" stroke=\"transparent\" points=\"520.5,-969 520.5,-993 589.5,-993 589.5,-969 520.5,-969\"/>\n",
       "<text text-anchor=\"start\" x=\"550.5\" y=\"-978.6\" font-family=\"-apple-system, BlinkMacSystemFont, 'Segoe UI', Helvetica, Arial, sans-serif, 'Apple Color Emoji', 'Segoe UI Emoji', 'Segoe UI Symbol'\" font-style=\"italic\" font-size=\"13.00\">String</text>\n",
       "<polygon fill=\"#f5f5f5\" stroke=\"transparent\" points=\"304.5,-945 304.5,-969 336.5,-969 336.5,-945 304.5,-945\"/>\n",
       "<polygon fill=\"#f5f5f5\" stroke=\"transparent\" points=\"336.5,-945 336.5,-969 520.5,-969 520.5,-945 336.5,-945\"/>\n",
       "<text text-anchor=\"start\" x=\"341.5\" y=\"-953.6\" font-family=\"-apple-system, BlinkMacSystemFont, 'Segoe UI', Helvetica, Arial, sans-serif, 'Apple Color Emoji', 'Segoe UI Emoji', 'Segoe UI Symbol'\" font-size=\"13.00\">last_pymnt_amnt</text>\n",
       "<polygon fill=\"#f5f5f5\" stroke=\"transparent\" points=\"520.5,-945 520.5,-969 589.5,-969 589.5,-945 520.5,-945\"/>\n",
       "<text text-anchor=\"start\" x=\"544.5\" y=\"-954.6\" font-family=\"-apple-system, BlinkMacSystemFont, 'Segoe UI', Helvetica, Arial, sans-serif, 'Apple Color Emoji', 'Segoe UI Emoji', 'Segoe UI Symbol'\" font-style=\"italic\" font-size=\"13.00\">double</text>\n",
       "<polygon fill=\"#ffffff\" stroke=\"transparent\" points=\"304.5,-921 304.5,-945 336.5,-945 336.5,-921 304.5,-921\"/>\n",
       "<polygon fill=\"#ffffff\" stroke=\"transparent\" points=\"336.5,-921 336.5,-945 520.5,-945 520.5,-921 336.5,-921\"/>\n",
       "<text text-anchor=\"start\" x=\"341.5\" y=\"-929.6\" font-family=\"-apple-system, BlinkMacSystemFont, 'Segoe UI', Helvetica, Arial, sans-serif, 'Apple Color Emoji', 'Segoe UI Emoji', 'Segoe UI Symbol'\" font-size=\"13.00\">next_pymnt_d</text>\n",
       "<polygon fill=\"#ffffff\" stroke=\"transparent\" points=\"520.5,-921 520.5,-945 589.5,-945 589.5,-921 520.5,-921\"/>\n",
       "<text text-anchor=\"start\" x=\"550.5\" y=\"-930.6\" font-family=\"-apple-system, BlinkMacSystemFont, 'Segoe UI', Helvetica, Arial, sans-serif, 'Apple Color Emoji', 'Segoe UI Emoji', 'Segoe UI Symbol'\" font-style=\"italic\" font-size=\"13.00\">String</text>\n",
       "<polygon fill=\"#f5f5f5\" stroke=\"transparent\" points=\"304.5,-897 304.5,-921 336.5,-921 336.5,-897 304.5,-897\"/>\n",
       "<polygon fill=\"#f5f5f5\" stroke=\"transparent\" points=\"336.5,-897 336.5,-921 520.5,-921 520.5,-897 336.5,-897\"/>\n",
       "<text text-anchor=\"start\" x=\"341.5\" y=\"-905.6\" font-family=\"-apple-system, BlinkMacSystemFont, 'Segoe UI', Helvetica, Arial, sans-serif, 'Apple Color Emoji', 'Segoe UI Emoji', 'Segoe UI Symbol'\" font-size=\"13.00\">last_credit_pull_d</text>\n",
       "<polygon fill=\"#f5f5f5\" stroke=\"transparent\" points=\"520.5,-897 520.5,-921 589.5,-921 589.5,-897 520.5,-897\"/>\n",
       "<text text-anchor=\"start\" x=\"550.5\" y=\"-906.6\" font-family=\"-apple-system, BlinkMacSystemFont, 'Segoe UI', Helvetica, Arial, sans-serif, 'Apple Color Emoji', 'Segoe UI Emoji', 'Segoe UI Symbol'\" font-style=\"italic\" font-size=\"13.00\">String</text>\n",
       "<polygon fill=\"#ffffff\" stroke=\"transparent\" points=\"304.5,-873 304.5,-897 336.5,-897 336.5,-873 304.5,-873\"/>\n",
       "<polygon fill=\"#ffffff\" stroke=\"transparent\" points=\"336.5,-873 336.5,-897 520.5,-897 520.5,-873 336.5,-873\"/>\n",
       "<text text-anchor=\"start\" x=\"341.5\" y=\"-881.6\" font-family=\"-apple-system, BlinkMacSystemFont, 'Segoe UI', Helvetica, Arial, sans-serif, 'Apple Color Emoji', 'Segoe UI Emoji', 'Segoe UI Symbol'\" font-size=\"13.00\">collections_12_mths_ex_med</text>\n",
       "<polygon fill=\"#ffffff\" stroke=\"transparent\" points=\"520.5,-873 520.5,-897 589.5,-897 589.5,-873 520.5,-873\"/>\n",
       "<text text-anchor=\"start\" x=\"544.5\" y=\"-882.6\" font-family=\"-apple-system, BlinkMacSystemFont, 'Segoe UI', Helvetica, Arial, sans-serif, 'Apple Color Emoji', 'Segoe UI Emoji', 'Segoe UI Symbol'\" font-style=\"italic\" font-size=\"13.00\">double</text>\n",
       "<polygon fill=\"#f5f5f5\" stroke=\"transparent\" points=\"304.5,-849 304.5,-873 336.5,-873 336.5,-849 304.5,-849\"/>\n",
       "<polygon fill=\"#f5f5f5\" stroke=\"transparent\" points=\"336.5,-849 336.5,-873 520.5,-873 520.5,-849 336.5,-849\"/>\n",
       "<text text-anchor=\"start\" x=\"341.5\" y=\"-857.6\" font-family=\"-apple-system, BlinkMacSystemFont, 'Segoe UI', Helvetica, Arial, sans-serif, 'Apple Color Emoji', 'Segoe UI Emoji', 'Segoe UI Symbol'\" font-size=\"13.00\">mths_since_last_major_derog</text>\n",
       "<polygon fill=\"#f5f5f5\" stroke=\"transparent\" points=\"520.5,-849 520.5,-873 589.5,-873 589.5,-849 520.5,-849\"/>\n",
       "<text text-anchor=\"start\" x=\"550.5\" y=\"-858.6\" font-family=\"-apple-system, BlinkMacSystemFont, 'Segoe UI', Helvetica, Arial, sans-serif, 'Apple Color Emoji', 'Segoe UI Emoji', 'Segoe UI Symbol'\" font-style=\"italic\" font-size=\"13.00\">String</text>\n",
       "<polygon fill=\"#ffffff\" stroke=\"transparent\" points=\"304.5,-825 304.5,-849 336.5,-849 336.5,-825 304.5,-825\"/>\n",
       "<polygon fill=\"#ffffff\" stroke=\"transparent\" points=\"336.5,-825 336.5,-849 520.5,-849 520.5,-825 336.5,-825\"/>\n",
       "<text text-anchor=\"start\" x=\"341.5\" y=\"-833.6\" font-family=\"-apple-system, BlinkMacSystemFont, 'Segoe UI', Helvetica, Arial, sans-serif, 'Apple Color Emoji', 'Segoe UI Emoji', 'Segoe UI Symbol'\" font-size=\"13.00\">policy_code</text>\n",
       "<polygon fill=\"#ffffff\" stroke=\"transparent\" points=\"520.5,-825 520.5,-849 589.5,-849 589.5,-825 520.5,-825\"/>\n",
       "<text text-anchor=\"start\" x=\"544.5\" y=\"-834.6\" font-family=\"-apple-system, BlinkMacSystemFont, 'Segoe UI', Helvetica, Arial, sans-serif, 'Apple Color Emoji', 'Segoe UI Emoji', 'Segoe UI Symbol'\" font-style=\"italic\" font-size=\"13.00\">double</text>\n",
       "<polygon fill=\"#f5f5f5\" stroke=\"transparent\" points=\"304.5,-801 304.5,-825 336.5,-825 336.5,-801 304.5,-801\"/>\n",
       "<polygon fill=\"#f5f5f5\" stroke=\"transparent\" points=\"336.5,-801 336.5,-825 520.5,-825 520.5,-801 336.5,-801\"/>\n",
       "<text text-anchor=\"start\" x=\"341.5\" y=\"-809.6\" font-family=\"-apple-system, BlinkMacSystemFont, 'Segoe UI', Helvetica, Arial, sans-serif, 'Apple Color Emoji', 'Segoe UI Emoji', 'Segoe UI Symbol'\" font-size=\"13.00\">application_type</text>\n",
       "<polygon fill=\"#f5f5f5\" stroke=\"transparent\" points=\"520.5,-801 520.5,-825 589.5,-825 589.5,-801 520.5,-801\"/>\n",
       "<text text-anchor=\"start\" x=\"550.5\" y=\"-810.6\" font-family=\"-apple-system, BlinkMacSystemFont, 'Segoe UI', Helvetica, Arial, sans-serif, 'Apple Color Emoji', 'Segoe UI Emoji', 'Segoe UI Symbol'\" font-style=\"italic\" font-size=\"13.00\">String</text>\n",
       "<polygon fill=\"#ffffff\" stroke=\"transparent\" points=\"304.5,-777 304.5,-801 336.5,-801 336.5,-777 304.5,-777\"/>\n",
       "<polygon fill=\"#ffffff\" stroke=\"transparent\" points=\"336.5,-777 336.5,-801 520.5,-801 520.5,-777 336.5,-777\"/>\n",
       "<text text-anchor=\"start\" x=\"341.5\" y=\"-785.6\" font-family=\"-apple-system, BlinkMacSystemFont, 'Segoe UI', Helvetica, Arial, sans-serif, 'Apple Color Emoji', 'Segoe UI Emoji', 'Segoe UI Symbol'\" font-size=\"13.00\">annual_inc_joint</text>\n",
       "<polygon fill=\"#ffffff\" stroke=\"transparent\" points=\"520.5,-777 520.5,-801 589.5,-801 589.5,-777 520.5,-777\"/>\n",
       "<text text-anchor=\"start\" x=\"550.5\" y=\"-786.6\" font-family=\"-apple-system, BlinkMacSystemFont, 'Segoe UI', Helvetica, Arial, sans-serif, 'Apple Color Emoji', 'Segoe UI Emoji', 'Segoe UI Symbol'\" font-style=\"italic\" font-size=\"13.00\">String</text>\n",
       "<polygon fill=\"#f5f5f5\" stroke=\"transparent\" points=\"304.5,-753 304.5,-777 336.5,-777 336.5,-753 304.5,-753\"/>\n",
       "<polygon fill=\"#f5f5f5\" stroke=\"transparent\" points=\"336.5,-753 336.5,-777 520.5,-777 520.5,-753 336.5,-753\"/>\n",
       "<text text-anchor=\"start\" x=\"341.5\" y=\"-761.6\" font-family=\"-apple-system, BlinkMacSystemFont, 'Segoe UI', Helvetica, Arial, sans-serif, 'Apple Color Emoji', 'Segoe UI Emoji', 'Segoe UI Symbol'\" font-size=\"13.00\">dti_joint</text>\n",
       "<polygon fill=\"#f5f5f5\" stroke=\"transparent\" points=\"520.5,-753 520.5,-777 589.5,-777 589.5,-753 520.5,-753\"/>\n",
       "<text text-anchor=\"start\" x=\"550.5\" y=\"-762.6\" font-family=\"-apple-system, BlinkMacSystemFont, 'Segoe UI', Helvetica, Arial, sans-serif, 'Apple Color Emoji', 'Segoe UI Emoji', 'Segoe UI Symbol'\" font-style=\"italic\" font-size=\"13.00\">String</text>\n",
       "<polygon fill=\"#ffffff\" stroke=\"transparent\" points=\"304.5,-729 304.5,-753 336.5,-753 336.5,-729 304.5,-729\"/>\n",
       "<polygon fill=\"#ffffff\" stroke=\"transparent\" points=\"336.5,-729 336.5,-753 520.5,-753 520.5,-729 336.5,-729\"/>\n",
       "<text text-anchor=\"start\" x=\"341.5\" y=\"-737.6\" font-family=\"-apple-system, BlinkMacSystemFont, 'Segoe UI', Helvetica, Arial, sans-serif, 'Apple Color Emoji', 'Segoe UI Emoji', 'Segoe UI Symbol'\" font-size=\"13.00\">verification_status_joint</text>\n",
       "<polygon fill=\"#ffffff\" stroke=\"transparent\" points=\"520.5,-729 520.5,-753 589.5,-753 589.5,-729 520.5,-729\"/>\n",
       "<text text-anchor=\"start\" x=\"550.5\" y=\"-738.6\" font-family=\"-apple-system, BlinkMacSystemFont, 'Segoe UI', Helvetica, Arial, sans-serif, 'Apple Color Emoji', 'Segoe UI Emoji', 'Segoe UI Symbol'\" font-style=\"italic\" font-size=\"13.00\">String</text>\n",
       "<polygon fill=\"#f5f5f5\" stroke=\"transparent\" points=\"304.5,-705 304.5,-729 336.5,-729 336.5,-705 304.5,-705\"/>\n",
       "<polygon fill=\"#f5f5f5\" stroke=\"transparent\" points=\"336.5,-705 336.5,-729 520.5,-729 520.5,-705 336.5,-705\"/>\n",
       "<text text-anchor=\"start\" x=\"341.5\" y=\"-713.6\" font-family=\"-apple-system, BlinkMacSystemFont, 'Segoe UI', Helvetica, Arial, sans-serif, 'Apple Color Emoji', 'Segoe UI Emoji', 'Segoe UI Symbol'\" font-size=\"13.00\">acc_now_delinq</text>\n",
       "<polygon fill=\"#f5f5f5\" stroke=\"transparent\" points=\"520.5,-705 520.5,-729 589.5,-729 589.5,-705 520.5,-705\"/>\n",
       "<text text-anchor=\"start\" x=\"544.5\" y=\"-714.6\" font-family=\"-apple-system, BlinkMacSystemFont, 'Segoe UI', Helvetica, Arial, sans-serif, 'Apple Color Emoji', 'Segoe UI Emoji', 'Segoe UI Symbol'\" font-style=\"italic\" font-size=\"13.00\">double</text>\n",
       "<polygon fill=\"#ffffff\" stroke=\"transparent\" points=\"304.5,-681 304.5,-705 336.5,-705 336.5,-681 304.5,-681\"/>\n",
       "<polygon fill=\"#ffffff\" stroke=\"transparent\" points=\"336.5,-681 336.5,-705 520.5,-705 520.5,-681 336.5,-681\"/>\n",
       "<text text-anchor=\"start\" x=\"341.5\" y=\"-689.6\" font-family=\"-apple-system, BlinkMacSystemFont, 'Segoe UI', Helvetica, Arial, sans-serif, 'Apple Color Emoji', 'Segoe UI Emoji', 'Segoe UI Symbol'\" font-size=\"13.00\">tot_coll_amt</text>\n",
       "<polygon fill=\"#ffffff\" stroke=\"transparent\" points=\"520.5,-681 520.5,-705 589.5,-705 589.5,-681 520.5,-681\"/>\n",
       "<text text-anchor=\"start\" x=\"550.5\" y=\"-690.6\" font-family=\"-apple-system, BlinkMacSystemFont, 'Segoe UI', Helvetica, Arial, sans-serif, 'Apple Color Emoji', 'Segoe UI Emoji', 'Segoe UI Symbol'\" font-style=\"italic\" font-size=\"13.00\">String</text>\n",
       "<polygon fill=\"#f5f5f5\" stroke=\"transparent\" points=\"304.5,-657 304.5,-681 336.5,-681 336.5,-657 304.5,-657\"/>\n",
       "<polygon fill=\"#f5f5f5\" stroke=\"transparent\" points=\"336.5,-657 336.5,-681 520.5,-681 520.5,-657 336.5,-657\"/>\n",
       "<text text-anchor=\"start\" x=\"341.5\" y=\"-665.6\" font-family=\"-apple-system, BlinkMacSystemFont, 'Segoe UI', Helvetica, Arial, sans-serif, 'Apple Color Emoji', 'Segoe UI Emoji', 'Segoe UI Symbol'\" font-size=\"13.00\">tot_cur_bal</text>\n",
       "<polygon fill=\"#f5f5f5\" stroke=\"transparent\" points=\"520.5,-657 520.5,-681 589.5,-681 589.5,-657 520.5,-657\"/>\n",
       "<text text-anchor=\"start\" x=\"550.5\" y=\"-666.6\" font-family=\"-apple-system, BlinkMacSystemFont, 'Segoe UI', Helvetica, Arial, sans-serif, 'Apple Color Emoji', 'Segoe UI Emoji', 'Segoe UI Symbol'\" font-style=\"italic\" font-size=\"13.00\">String</text>\n",
       "<polygon fill=\"#ffffff\" stroke=\"transparent\" points=\"304.5,-633 304.5,-657 336.5,-657 336.5,-633 304.5,-633\"/>\n",
       "<polygon fill=\"#ffffff\" stroke=\"transparent\" points=\"336.5,-633 336.5,-657 520.5,-657 520.5,-633 336.5,-633\"/>\n",
       "<text text-anchor=\"start\" x=\"341.5\" y=\"-641.6\" font-family=\"-apple-system, BlinkMacSystemFont, 'Segoe UI', Helvetica, Arial, sans-serif, 'Apple Color Emoji', 'Segoe UI Emoji', 'Segoe UI Symbol'\" font-size=\"13.00\">open_acc_6m</text>\n",
       "<polygon fill=\"#ffffff\" stroke=\"transparent\" points=\"520.5,-633 520.5,-657 589.5,-657 589.5,-633 520.5,-633\"/>\n",
       "<text text-anchor=\"start\" x=\"550.5\" y=\"-642.6\" font-family=\"-apple-system, BlinkMacSystemFont, 'Segoe UI', Helvetica, Arial, sans-serif, 'Apple Color Emoji', 'Segoe UI Emoji', 'Segoe UI Symbol'\" font-style=\"italic\" font-size=\"13.00\">String</text>\n",
       "<polygon fill=\"#f5f5f5\" stroke=\"transparent\" points=\"304.5,-609 304.5,-633 336.5,-633 336.5,-609 304.5,-609\"/>\n",
       "<polygon fill=\"#f5f5f5\" stroke=\"transparent\" points=\"336.5,-609 336.5,-633 520.5,-633 520.5,-609 336.5,-609\"/>\n",
       "<text text-anchor=\"start\" x=\"341.5\" y=\"-617.6\" font-family=\"-apple-system, BlinkMacSystemFont, 'Segoe UI', Helvetica, Arial, sans-serif, 'Apple Color Emoji', 'Segoe UI Emoji', 'Segoe UI Symbol'\" font-size=\"13.00\">open_il_6m</text>\n",
       "<polygon fill=\"#f5f5f5\" stroke=\"transparent\" points=\"520.5,-609 520.5,-633 589.5,-633 589.5,-609 520.5,-609\"/>\n",
       "<text text-anchor=\"start\" x=\"550.5\" y=\"-618.6\" font-family=\"-apple-system, BlinkMacSystemFont, 'Segoe UI', Helvetica, Arial, sans-serif, 'Apple Color Emoji', 'Segoe UI Emoji', 'Segoe UI Symbol'\" font-style=\"italic\" font-size=\"13.00\">String</text>\n",
       "<polygon fill=\"#ffffff\" stroke=\"transparent\" points=\"304.5,-585 304.5,-609 336.5,-609 336.5,-585 304.5,-585\"/>\n",
       "<polygon fill=\"#ffffff\" stroke=\"transparent\" points=\"336.5,-585 336.5,-609 520.5,-609 520.5,-585 336.5,-585\"/>\n",
       "<text text-anchor=\"start\" x=\"341.5\" y=\"-593.6\" font-family=\"-apple-system, BlinkMacSystemFont, 'Segoe UI', Helvetica, Arial, sans-serif, 'Apple Color Emoji', 'Segoe UI Emoji', 'Segoe UI Symbol'\" font-size=\"13.00\">open_il_12m</text>\n",
       "<polygon fill=\"#ffffff\" stroke=\"transparent\" points=\"520.5,-585 520.5,-609 589.5,-609 589.5,-585 520.5,-585\"/>\n",
       "<text text-anchor=\"start\" x=\"550.5\" y=\"-594.6\" font-family=\"-apple-system, BlinkMacSystemFont, 'Segoe UI', Helvetica, Arial, sans-serif, 'Apple Color Emoji', 'Segoe UI Emoji', 'Segoe UI Symbol'\" font-style=\"italic\" font-size=\"13.00\">String</text>\n",
       "<polygon fill=\"#f5f5f5\" stroke=\"transparent\" points=\"304.5,-561 304.5,-585 336.5,-585 336.5,-561 304.5,-561\"/>\n",
       "<polygon fill=\"#f5f5f5\" stroke=\"transparent\" points=\"336.5,-561 336.5,-585 520.5,-585 520.5,-561 336.5,-561\"/>\n",
       "<text text-anchor=\"start\" x=\"341.5\" y=\"-569.6\" font-family=\"-apple-system, BlinkMacSystemFont, 'Segoe UI', Helvetica, Arial, sans-serif, 'Apple Color Emoji', 'Segoe UI Emoji', 'Segoe UI Symbol'\" font-size=\"13.00\">open_il_24m</text>\n",
       "<polygon fill=\"#f5f5f5\" stroke=\"transparent\" points=\"520.5,-561 520.5,-585 589.5,-585 589.5,-561 520.5,-561\"/>\n",
       "<text text-anchor=\"start\" x=\"550.5\" y=\"-570.6\" font-family=\"-apple-system, BlinkMacSystemFont, 'Segoe UI', Helvetica, Arial, sans-serif, 'Apple Color Emoji', 'Segoe UI Emoji', 'Segoe UI Symbol'\" font-style=\"italic\" font-size=\"13.00\">String</text>\n",
       "<polygon fill=\"#ffffff\" stroke=\"transparent\" points=\"304.5,-537 304.5,-561 336.5,-561 336.5,-537 304.5,-537\"/>\n",
       "<polygon fill=\"#ffffff\" stroke=\"transparent\" points=\"336.5,-537 336.5,-561 520.5,-561 520.5,-537 336.5,-537\"/>\n",
       "<text text-anchor=\"start\" x=\"341.5\" y=\"-545.6\" font-family=\"-apple-system, BlinkMacSystemFont, 'Segoe UI', Helvetica, Arial, sans-serif, 'Apple Color Emoji', 'Segoe UI Emoji', 'Segoe UI Symbol'\" font-size=\"13.00\">mths_since_rcnt_il</text>\n",
       "<polygon fill=\"#ffffff\" stroke=\"transparent\" points=\"520.5,-537 520.5,-561 589.5,-561 589.5,-537 520.5,-537\"/>\n",
       "<text text-anchor=\"start\" x=\"550.5\" y=\"-546.6\" font-family=\"-apple-system, BlinkMacSystemFont, 'Segoe UI', Helvetica, Arial, sans-serif, 'Apple Color Emoji', 'Segoe UI Emoji', 'Segoe UI Symbol'\" font-style=\"italic\" font-size=\"13.00\">String</text>\n",
       "<polygon fill=\"#f5f5f5\" stroke=\"transparent\" points=\"304.5,-513 304.5,-537 336.5,-537 336.5,-513 304.5,-513\"/>\n",
       "<polygon fill=\"#f5f5f5\" stroke=\"transparent\" points=\"336.5,-513 336.5,-537 520.5,-537 520.5,-513 336.5,-513\"/>\n",
       "<text text-anchor=\"start\" x=\"341.5\" y=\"-521.6\" font-family=\"-apple-system, BlinkMacSystemFont, 'Segoe UI', Helvetica, Arial, sans-serif, 'Apple Color Emoji', 'Segoe UI Emoji', 'Segoe UI Symbol'\" font-size=\"13.00\">total_bal_il</text>\n",
       "<polygon fill=\"#f5f5f5\" stroke=\"transparent\" points=\"520.5,-513 520.5,-537 589.5,-537 589.5,-513 520.5,-513\"/>\n",
       "<text text-anchor=\"start\" x=\"550.5\" y=\"-522.6\" font-family=\"-apple-system, BlinkMacSystemFont, 'Segoe UI', Helvetica, Arial, sans-serif, 'Apple Color Emoji', 'Segoe UI Emoji', 'Segoe UI Symbol'\" font-style=\"italic\" font-size=\"13.00\">String</text>\n",
       "<polygon fill=\"#ffffff\" stroke=\"transparent\" points=\"304.5,-489 304.5,-513 336.5,-513 336.5,-489 304.5,-489\"/>\n",
       "<polygon fill=\"#ffffff\" stroke=\"transparent\" points=\"336.5,-489 336.5,-513 520.5,-513 520.5,-489 336.5,-489\"/>\n",
       "<text text-anchor=\"start\" x=\"341.5\" y=\"-497.6\" font-family=\"-apple-system, BlinkMacSystemFont, 'Segoe UI', Helvetica, Arial, sans-serif, 'Apple Color Emoji', 'Segoe UI Emoji', 'Segoe UI Symbol'\" font-size=\"13.00\">il_util</text>\n",
       "<polygon fill=\"#ffffff\" stroke=\"transparent\" points=\"520.5,-489 520.5,-513 589.5,-513 589.5,-489 520.5,-489\"/>\n",
       "<text text-anchor=\"start\" x=\"550.5\" y=\"-498.6\" font-family=\"-apple-system, BlinkMacSystemFont, 'Segoe UI', Helvetica, Arial, sans-serif, 'Apple Color Emoji', 'Segoe UI Emoji', 'Segoe UI Symbol'\" font-style=\"italic\" font-size=\"13.00\">String</text>\n",
       "<polygon fill=\"#f5f5f5\" stroke=\"transparent\" points=\"304.5,-465 304.5,-489 336.5,-489 336.5,-465 304.5,-465\"/>\n",
       "<polygon fill=\"#f5f5f5\" stroke=\"transparent\" points=\"336.5,-465 336.5,-489 520.5,-489 520.5,-465 336.5,-465\"/>\n",
       "<text text-anchor=\"start\" x=\"341.5\" y=\"-473.6\" font-family=\"-apple-system, BlinkMacSystemFont, 'Segoe UI', Helvetica, Arial, sans-serif, 'Apple Color Emoji', 'Segoe UI Emoji', 'Segoe UI Symbol'\" font-size=\"13.00\">open_rv_12m</text>\n",
       "<polygon fill=\"#f5f5f5\" stroke=\"transparent\" points=\"520.5,-465 520.5,-489 589.5,-489 589.5,-465 520.5,-465\"/>\n",
       "<text text-anchor=\"start\" x=\"550.5\" y=\"-474.6\" font-family=\"-apple-system, BlinkMacSystemFont, 'Segoe UI', Helvetica, Arial, sans-serif, 'Apple Color Emoji', 'Segoe UI Emoji', 'Segoe UI Symbol'\" font-style=\"italic\" font-size=\"13.00\">String</text>\n",
       "<polygon fill=\"#ffffff\" stroke=\"transparent\" points=\"304.5,-441 304.5,-465 336.5,-465 336.5,-441 304.5,-441\"/>\n",
       "<polygon fill=\"#ffffff\" stroke=\"transparent\" points=\"336.5,-441 336.5,-465 520.5,-465 520.5,-441 336.5,-441\"/>\n",
       "<text text-anchor=\"start\" x=\"341.5\" y=\"-449.6\" font-family=\"-apple-system, BlinkMacSystemFont, 'Segoe UI', Helvetica, Arial, sans-serif, 'Apple Color Emoji', 'Segoe UI Emoji', 'Segoe UI Symbol'\" font-size=\"13.00\">open_rv_24m</text>\n",
       "<polygon fill=\"#ffffff\" stroke=\"transparent\" points=\"520.5,-441 520.5,-465 589.5,-465 589.5,-441 520.5,-441\"/>\n",
       "<text text-anchor=\"start\" x=\"550.5\" y=\"-450.6\" font-family=\"-apple-system, BlinkMacSystemFont, 'Segoe UI', Helvetica, Arial, sans-serif, 'Apple Color Emoji', 'Segoe UI Emoji', 'Segoe UI Symbol'\" font-style=\"italic\" font-size=\"13.00\">String</text>\n",
       "<polygon fill=\"#f5f5f5\" stroke=\"transparent\" points=\"304.5,-417 304.5,-441 336.5,-441 336.5,-417 304.5,-417\"/>\n",
       "<polygon fill=\"#f5f5f5\" stroke=\"transparent\" points=\"336.5,-417 336.5,-441 520.5,-441 520.5,-417 336.5,-417\"/>\n",
       "<text text-anchor=\"start\" x=\"341.5\" y=\"-425.6\" font-family=\"-apple-system, BlinkMacSystemFont, 'Segoe UI', Helvetica, Arial, sans-serif, 'Apple Color Emoji', 'Segoe UI Emoji', 'Segoe UI Symbol'\" font-size=\"13.00\">max_bal_bc</text>\n",
       "<polygon fill=\"#f5f5f5\" stroke=\"transparent\" points=\"520.5,-417 520.5,-441 589.5,-441 589.5,-417 520.5,-417\"/>\n",
       "<text text-anchor=\"start\" x=\"550.5\" y=\"-426.6\" font-family=\"-apple-system, BlinkMacSystemFont, 'Segoe UI', Helvetica, Arial, sans-serif, 'Apple Color Emoji', 'Segoe UI Emoji', 'Segoe UI Symbol'\" font-style=\"italic\" font-size=\"13.00\">String</text>\n",
       "<polygon fill=\"#ffffff\" stroke=\"transparent\" points=\"304.5,-393 304.5,-417 336.5,-417 336.5,-393 304.5,-393\"/>\n",
       "<polygon fill=\"#ffffff\" stroke=\"transparent\" points=\"336.5,-393 336.5,-417 520.5,-417 520.5,-393 336.5,-393\"/>\n",
       "<text text-anchor=\"start\" x=\"341.5\" y=\"-401.6\" font-family=\"-apple-system, BlinkMacSystemFont, 'Segoe UI', Helvetica, Arial, sans-serif, 'Apple Color Emoji', 'Segoe UI Emoji', 'Segoe UI Symbol'\" font-size=\"13.00\">all_util</text>\n",
       "<polygon fill=\"#ffffff\" stroke=\"transparent\" points=\"520.5,-393 520.5,-417 589.5,-417 589.5,-393 520.5,-393\"/>\n",
       "<text text-anchor=\"start\" x=\"550.5\" y=\"-402.6\" font-family=\"-apple-system, BlinkMacSystemFont, 'Segoe UI', Helvetica, Arial, sans-serif, 'Apple Color Emoji', 'Segoe UI Emoji', 'Segoe UI Symbol'\" font-style=\"italic\" font-size=\"13.00\">String</text>\n",
       "<polygon fill=\"#f5f5f5\" stroke=\"transparent\" points=\"304.5,-369 304.5,-393 336.5,-393 336.5,-369 304.5,-369\"/>\n",
       "<polygon fill=\"#f5f5f5\" stroke=\"transparent\" points=\"336.5,-369 336.5,-393 520.5,-393 520.5,-369 336.5,-369\"/>\n",
       "<text text-anchor=\"start\" x=\"341.5\" y=\"-377.6\" font-family=\"-apple-system, BlinkMacSystemFont, 'Segoe UI', Helvetica, Arial, sans-serif, 'Apple Color Emoji', 'Segoe UI Emoji', 'Segoe UI Symbol'\" font-size=\"13.00\">total_rev_hi_lim</text>\n",
       "<polygon fill=\"#f5f5f5\" stroke=\"transparent\" points=\"520.5,-369 520.5,-393 589.5,-393 589.5,-369 520.5,-369\"/>\n",
       "<text text-anchor=\"start\" x=\"550.5\" y=\"-378.6\" font-family=\"-apple-system, BlinkMacSystemFont, 'Segoe UI', Helvetica, Arial, sans-serif, 'Apple Color Emoji', 'Segoe UI Emoji', 'Segoe UI Symbol'\" font-style=\"italic\" font-size=\"13.00\">String</text>\n",
       "<polygon fill=\"#ffffff\" stroke=\"transparent\" points=\"304.5,-345 304.5,-369 336.5,-369 336.5,-345 304.5,-345\"/>\n",
       "<polygon fill=\"#ffffff\" stroke=\"transparent\" points=\"336.5,-345 336.5,-369 520.5,-369 520.5,-345 336.5,-345\"/>\n",
       "<text text-anchor=\"start\" x=\"341.5\" y=\"-353.6\" font-family=\"-apple-system, BlinkMacSystemFont, 'Segoe UI', Helvetica, Arial, sans-serif, 'Apple Color Emoji', 'Segoe UI Emoji', 'Segoe UI Symbol'\" font-size=\"13.00\">inq_fi</text>\n",
       "<polygon fill=\"#ffffff\" stroke=\"transparent\" points=\"520.5,-345 520.5,-369 589.5,-369 589.5,-345 520.5,-345\"/>\n",
       "<text text-anchor=\"start\" x=\"550.5\" y=\"-354.6\" font-family=\"-apple-system, BlinkMacSystemFont, 'Segoe UI', Helvetica, Arial, sans-serif, 'Apple Color Emoji', 'Segoe UI Emoji', 'Segoe UI Symbol'\" font-style=\"italic\" font-size=\"13.00\">String</text>\n",
       "<polygon fill=\"#f5f5f5\" stroke=\"transparent\" points=\"304.5,-321 304.5,-345 336.5,-345 336.5,-321 304.5,-321\"/>\n",
       "<polygon fill=\"#f5f5f5\" stroke=\"transparent\" points=\"336.5,-321 336.5,-345 520.5,-345 520.5,-321 336.5,-321\"/>\n",
       "<text text-anchor=\"start\" x=\"341.5\" y=\"-329.6\" font-family=\"-apple-system, BlinkMacSystemFont, 'Segoe UI', Helvetica, Arial, sans-serif, 'Apple Color Emoji', 'Segoe UI Emoji', 'Segoe UI Symbol'\" font-size=\"13.00\">total_cu_tl</text>\n",
       "<polygon fill=\"#f5f5f5\" stroke=\"transparent\" points=\"520.5,-321 520.5,-345 589.5,-345 589.5,-321 520.5,-321\"/>\n",
       "<text text-anchor=\"start\" x=\"550.5\" y=\"-330.6\" font-family=\"-apple-system, BlinkMacSystemFont, 'Segoe UI', Helvetica, Arial, sans-serif, 'Apple Color Emoji', 'Segoe UI Emoji', 'Segoe UI Symbol'\" font-style=\"italic\" font-size=\"13.00\">String</text>\n",
       "<polygon fill=\"#ffffff\" stroke=\"transparent\" points=\"304.5,-297 304.5,-321 336.5,-321 336.5,-297 304.5,-297\"/>\n",
       "<polygon fill=\"#ffffff\" stroke=\"transparent\" points=\"336.5,-297 336.5,-321 520.5,-321 520.5,-297 336.5,-297\"/>\n",
       "<text text-anchor=\"start\" x=\"341.5\" y=\"-305.6\" font-family=\"-apple-system, BlinkMacSystemFont, 'Segoe UI', Helvetica, Arial, sans-serif, 'Apple Color Emoji', 'Segoe UI Emoji', 'Segoe UI Symbol'\" font-size=\"13.00\">inq_last_12m</text>\n",
       "<polygon fill=\"#ffffff\" stroke=\"transparent\" points=\"520.5,-297 520.5,-321 589.5,-321 589.5,-297 520.5,-297\"/>\n",
       "<text text-anchor=\"start\" x=\"550.5\" y=\"-306.6\" font-family=\"-apple-system, BlinkMacSystemFont, 'Segoe UI', Helvetica, Arial, sans-serif, 'Apple Color Emoji', 'Segoe UI Emoji', 'Segoe UI Symbol'\" font-style=\"italic\" font-size=\"13.00\">String</text>\n",
       "<polygon fill=\"#f5f5f5\" stroke=\"transparent\" points=\"304.5,-273 304.5,-297 336.5,-297 336.5,-273 304.5,-273\"/>\n",
       "<polygon fill=\"#f5f5f5\" stroke=\"transparent\" points=\"336.5,-273 336.5,-297 520.5,-297 520.5,-273 336.5,-273\"/>\n",
       "<text text-anchor=\"start\" x=\"341.5\" y=\"-281.6\" font-family=\"-apple-system, BlinkMacSystemFont, 'Segoe UI', Helvetica, Arial, sans-serif, 'Apple Color Emoji', 'Segoe UI Emoji', 'Segoe UI Symbol'\" font-size=\"13.00\">issue_date</text>\n",
       "<polygon fill=\"#f5f5f5\" stroke=\"transparent\" points=\"520.5,-273 520.5,-297 589.5,-297 589.5,-273 520.5,-273\"/>\n",
       "<text text-anchor=\"start\" x=\"525.5\" y=\"-282.6\" font-family=\"-apple-system, BlinkMacSystemFont, 'Segoe UI', Helvetica, Arial, sans-serif, 'Apple Color Emoji', 'Segoe UI Emoji', 'Segoe UI Symbol'\" font-style=\"italic\" font-size=\"13.00\">LocalDate</text>\n",
       "<polygon fill=\"#ffffff\" stroke=\"transparent\" points=\"304.5,-249 304.5,-273 336.5,-273 336.5,-249 304.5,-249\"/>\n",
       "<polygon fill=\"#ffffff\" stroke=\"transparent\" points=\"336.5,-249 336.5,-273 520.5,-273 520.5,-249 336.5,-249\"/>\n",
       "<text text-anchor=\"start\" x=\"341.5\" y=\"-257.6\" font-family=\"-apple-system, BlinkMacSystemFont, 'Segoe UI', Helvetica, Arial, sans-serif, 'Apple Color Emoji', 'Segoe UI Emoji', 'Segoe UI Symbol'\" font-size=\"13.00\">maturity_date</text>\n",
       "<polygon fill=\"#ffffff\" stroke=\"transparent\" points=\"520.5,-249 520.5,-273 589.5,-273 589.5,-249 520.5,-249\"/>\n",
       "<text text-anchor=\"start\" x=\"525.5\" y=\"-258.6\" font-family=\"-apple-system, BlinkMacSystemFont, 'Segoe UI', Helvetica, Arial, sans-serif, 'Apple Color Emoji', 'Segoe UI Emoji', 'Segoe UI Symbol'\" font-style=\"italic\" font-size=\"13.00\">LocalDate</text>\n",
       "<polygon fill=\"#f5f5f5\" stroke=\"transparent\" points=\"304.5,-225 304.5,-249 336.5,-249 336.5,-225 304.5,-225\"/>\n",
       "<polygon fill=\"#f5f5f5\" stroke=\"transparent\" points=\"336.5,-225 336.5,-249 520.5,-249 520.5,-225 336.5,-225\"/>\n",
       "<text text-anchor=\"start\" x=\"341.5\" y=\"-233.6\" font-family=\"-apple-system, BlinkMacSystemFont, 'Segoe UI', Helvetica, Arial, sans-serif, 'Apple Color Emoji', 'Segoe UI Emoji', 'Segoe UI Symbol'\" font-size=\"13.00\">loan_class</text>\n",
       "<polygon fill=\"#f5f5f5\" stroke=\"transparent\" points=\"520.5,-225 520.5,-249 589.5,-249 589.5,-225 520.5,-225\"/>\n",
       "<text text-anchor=\"start\" x=\"544.5\" y=\"-234.6\" font-family=\"-apple-system, BlinkMacSystemFont, 'Segoe UI', Helvetica, Arial, sans-serif, 'Apple Color Emoji', 'Segoe UI Emoji', 'Segoe UI Symbol'\" font-style=\"italic\" font-size=\"13.00\">double</text>\n",
       "<polygon fill=\"#ffffff\" stroke=\"transparent\" points=\"304.5,-201 304.5,-225 336.5,-225 336.5,-201 304.5,-201\"/>\n",
       "<polygon fill=\"#ffffff\" stroke=\"transparent\" points=\"336.5,-201 336.5,-225 520.5,-225 520.5,-201 336.5,-201\"/>\n",
       "<text text-anchor=\"start\" x=\"341.5\" y=\"-209.6\" font-family=\"-apple-system, BlinkMacSystemFont, 'Segoe UI', Helvetica, Arial, sans-serif, 'Apple Color Emoji', 'Segoe UI Emoji', 'Segoe UI Symbol'\" font-size=\"13.00\">Opening Year</text>\n",
       "<polygon fill=\"#ffffff\" stroke=\"transparent\" points=\"520.5,-201 520.5,-225 589.5,-225 589.5,-201 520.5,-201\"/>\n",
       "<text text-anchor=\"start\" x=\"570.5\" y=\"-210.6\" font-family=\"-apple-system, BlinkMacSystemFont, 'Segoe UI', Helvetica, Arial, sans-serif, 'Apple Color Emoji', 'Segoe UI Emoji', 'Segoe UI Symbol'\" font-style=\"italic\" font-size=\"13.00\">int</text>\n",
       "<polygon fill=\"#f5f5f5\" stroke=\"transparent\" points=\"304.5,-177 304.5,-201 336.5,-201 336.5,-177 304.5,-177\"/>\n",
       "<polygon fill=\"#f5f5f5\" stroke=\"transparent\" points=\"336.5,-177 336.5,-201 520.5,-201 520.5,-177 336.5,-177\"/>\n",
       "<text text-anchor=\"start\" x=\"341.5\" y=\"-185.6\" font-family=\"-apple-system, BlinkMacSystemFont, 'Segoe UI', Helvetica, Arial, sans-serif, 'Apple Color Emoji', 'Segoe UI Emoji', 'Segoe UI Symbol'\" font-size=\"13.00\">Opening Month</text>\n",
       "<polygon fill=\"#f5f5f5\" stroke=\"transparent\" points=\"520.5,-177 520.5,-201 589.5,-201 589.5,-177 520.5,-177\"/>\n",
       "<text text-anchor=\"start\" x=\"570.5\" y=\"-186.6\" font-family=\"-apple-system, BlinkMacSystemFont, 'Segoe UI', Helvetica, Arial, sans-serif, 'Apple Color Emoji', 'Segoe UI Emoji', 'Segoe UI Symbol'\" font-style=\"italic\" font-size=\"13.00\">int</text>\n",
       "<polygon fill=\"#ffffff\" stroke=\"transparent\" points=\"304.5,-153 304.5,-177 336.5,-177 336.5,-153 304.5,-153\"/>\n",
       "<polygon fill=\"#ffffff\" stroke=\"transparent\" points=\"336.5,-153 336.5,-177 520.5,-177 520.5,-153 336.5,-153\"/>\n",
       "<text text-anchor=\"start\" x=\"341.5\" y=\"-161.6\" font-family=\"-apple-system, BlinkMacSystemFont, 'Segoe UI', Helvetica, Arial, sans-serif, 'Apple Color Emoji', 'Segoe UI Emoji', 'Segoe UI Symbol'\" font-size=\"13.00\">Opening Day</text>\n",
       "<polygon fill=\"#ffffff\" stroke=\"transparent\" points=\"520.5,-153 520.5,-177 589.5,-177 589.5,-153 520.5,-153\"/>\n",
       "<text text-anchor=\"start\" x=\"570.5\" y=\"-162.6\" font-family=\"-apple-system, BlinkMacSystemFont, 'Segoe UI', Helvetica, Arial, sans-serif, 'Apple Color Emoji', 'Segoe UI Emoji', 'Segoe UI Symbol'\" font-style=\"italic\" font-size=\"13.00\">int</text>\n",
       "<polygon fill=\"none\" stroke=\"black\" points=\"303,-152 303,-2098 590,-2098 590,-152 303,-152\"/>\n",
       "</g>\n",
       "<!-- Credit Risk&#45;&gt;Lending Club Data -->\n",
       "<g id=\"edge2\" class=\"edge\">\n",
       "<title>Credit Risk-&gt;Lending Club Data</title>\n",
       "<path fill=\"none\" stroke=\"black\" d=\"M218,-765.61C240.8,-801.62 265.28,-840.31 289.45,-878.48\"/>\n",
       "<polygon fill=\"black\" stroke=\"black\" points=\"286.62,-880.55 294.92,-887.13 292.53,-876.81 286.62,-880.55\"/>\n",
       "<text text-anchor=\"middle\" x=\"256.5\" y=\"-847.6\" font-family=\"-apple-system, BlinkMacSystemFont, 'Segoe UI', Helvetica, Arial, sans-serif, 'Apple Color Emoji', 'Segoe UI Emoji', 'Segoe UI Symbol'\" font-size=\"13.00\">id → id</text>\n",
       "</g>\n",
       "<!-- Parameters at inception -->\n",
       "<g id=\"node3\" class=\"node\">\n",
       "<title>Parameters at inception</title>\n",
       "<text text-anchor=\"start\" x=\"373\" y=\"-110.6\" font-family=\"-apple-system, BlinkMacSystemFont, 'Segoe UI', Helvetica, Arial, sans-serif, 'Apple Color Emoji', 'Segoe UI Emoji', 'Segoe UI Symbol'\" font-weight=\"bold\" font-size=\"13.00\">Parameters at inception</text>\n",
       "<polygon fill=\"#f5f5f5\" stroke=\"transparent\" points=\"348.5,-77 348.5,-101 380.5,-101 380.5,-77 348.5,-77\"/>\n",
       "<text text-anchor=\"start\" x=\"353.5\" y=\"-86.6\" font-family=\"-apple-system, BlinkMacSystemFont, 'Segoe UI', Helvetica, Arial, sans-serif, 'Apple Color Emoji', 'Segoe UI Emoji', 'Segoe UI Symbol'\" font-weight=\"bold\" font-size=\"13.00\">key</text>\n",
       "<polygon fill=\"#f5f5f5\" stroke=\"transparent\" points=\"380.5,-77 380.5,-101 476.5,-101 476.5,-77 380.5,-77\"/>\n",
       "<text text-anchor=\"start\" x=\"385.5\" y=\"-85.6\" font-family=\"-apple-system, BlinkMacSystemFont, 'Segoe UI', Helvetica, Arial, sans-serif, 'Apple Color Emoji', 'Segoe UI Emoji', 'Segoe UI Symbol'\" font-size=\"13.00\">id</text>\n",
       "<polygon fill=\"#f5f5f5\" stroke=\"transparent\" points=\"476.5,-77 476.5,-101 545.5,-101 545.5,-77 476.5,-77\"/>\n",
       "<text text-anchor=\"start\" x=\"526.5\" y=\"-86.6\" font-family=\"-apple-system, BlinkMacSystemFont, 'Segoe UI', Helvetica, Arial, sans-serif, 'Apple Color Emoji', 'Segoe UI Emoji', 'Segoe UI Symbol'\" font-style=\"italic\" font-size=\"13.00\">int</text>\n",
       "<polygon fill=\"#ffffff\" stroke=\"transparent\" points=\"348.5,-53 348.5,-77 380.5,-77 380.5,-53 348.5,-53\"/>\n",
       "<polygon fill=\"#ffffff\" stroke=\"transparent\" points=\"380.5,-53 380.5,-77 476.5,-77 476.5,-53 380.5,-53\"/>\n",
       "<text text-anchor=\"start\" x=\"385.5\" y=\"-61.6\" font-family=\"-apple-system, BlinkMacSystemFont, 'Segoe UI', Helvetica, Arial, sans-serif, 'Apple Color Emoji', 'Segoe UI Emoji', 'Segoe UI Symbol'\" font-size=\"13.00\">default_date</text>\n",
       "<polygon fill=\"#ffffff\" stroke=\"transparent\" points=\"476.5,-53 476.5,-77 545.5,-77 545.5,-53 476.5,-53\"/>\n",
       "<text text-anchor=\"start\" x=\"481.5\" y=\"-62.6\" font-family=\"-apple-system, BlinkMacSystemFont, 'Segoe UI', Helvetica, Arial, sans-serif, 'Apple Color Emoji', 'Segoe UI Emoji', 'Segoe UI Symbol'\" font-style=\"italic\" font-size=\"13.00\">LocalDate</text>\n",
       "<polygon fill=\"#f5f5f5\" stroke=\"transparent\" points=\"348.5,-29 348.5,-53 380.5,-53 380.5,-29 348.5,-29\"/>\n",
       "<polygon fill=\"#f5f5f5\" stroke=\"transparent\" points=\"380.5,-29 380.5,-53 476.5,-53 476.5,-29 380.5,-29\"/>\n",
       "<text text-anchor=\"start\" x=\"385.5\" y=\"-37.6\" font-family=\"-apple-system, BlinkMacSystemFont, 'Segoe UI', Helvetica, Arial, sans-serif, 'Apple Color Emoji', 'Segoe UI Emoji', 'Segoe UI Symbol'\" font-size=\"13.00\">Opening PD12</text>\n",
       "<polygon fill=\"#f5f5f5\" stroke=\"transparent\" points=\"476.5,-29 476.5,-53 545.5,-53 545.5,-29 476.5,-29\"/>\n",
       "<text text-anchor=\"start\" x=\"500.5\" y=\"-38.6\" font-family=\"-apple-system, BlinkMacSystemFont, 'Segoe UI', Helvetica, Arial, sans-serif, 'Apple Color Emoji', 'Segoe UI Emoji', 'Segoe UI Symbol'\" font-style=\"italic\" font-size=\"13.00\">double</text>\n",
       "<polygon fill=\"#ffffff\" stroke=\"transparent\" points=\"348.5,-5 348.5,-29 380.5,-29 380.5,-5 348.5,-5\"/>\n",
       "<polygon fill=\"#ffffff\" stroke=\"transparent\" points=\"380.5,-5 380.5,-29 476.5,-29 476.5,-5 380.5,-5\"/>\n",
       "<text text-anchor=\"start\" x=\"385.5\" y=\"-13.6\" font-family=\"-apple-system, BlinkMacSystemFont, 'Segoe UI', Helvetica, Arial, sans-serif, 'Apple Color Emoji', 'Segoe UI Emoji', 'Segoe UI Symbol'\" font-size=\"13.00\">Opening PDLT</text>\n",
       "<polygon fill=\"#ffffff\" stroke=\"transparent\" points=\"476.5,-5 476.5,-29 545.5,-29 545.5,-5 476.5,-5\"/>\n",
       "<text text-anchor=\"start\" x=\"500.5\" y=\"-14.6\" font-family=\"-apple-system, BlinkMacSystemFont, 'Segoe UI', Helvetica, Arial, sans-serif, 'Apple Color Emoji', 'Segoe UI Emoji', 'Segoe UI Symbol'\" font-style=\"italic\" font-size=\"13.00\">double</text>\n",
       "<polygon fill=\"none\" stroke=\"black\" points=\"347,-4 347,-126 546,-126 546,-4 347,-4\"/>\n",
       "</g>\n",
       "<!-- Credit Risk&#45;&gt;Parameters at inception -->\n",
       "<g id=\"edge1\" class=\"edge\">\n",
       "<title>Credit Risk-&gt;Parameters at inception</title>\n",
       "<path fill=\"none\" stroke=\"black\" d=\"M148.17,-421.78C175.97,-328.82 221.87,-217.56 295,-139 305.17,-128.07 317.3,-118.56 330.21,-110.32\"/>\n",
       "<polygon fill=\"black\" stroke=\"black\" points=\"332.07,-113.29 338.78,-105.09 328.42,-107.31 332.07,-113.29\"/>\n",
       "<text text-anchor=\"middle\" x=\"256.5\" y=\"-216.6\" font-family=\"-apple-system, BlinkMacSystemFont, 'Segoe UI', Helvetica, Arial, sans-serif, 'Apple Color Emoji', 'Segoe UI Emoji', 'Segoe UI Symbol'\" font-size=\"13.00\">id → id</text>\n",
       "</g>\n",
       "</g>\n",
       "</svg>"
      ],
      "text/plain": [
       "<IPython.core.display.SVG object>"
      ]
     },
     "execution_count": 9,
     "metadata": {},
     "output_type": "execute_result"
    }
   ],
   "source": [
    "cube.schema"
   ]
  },
  {
   "cell_type": "markdown",
   "metadata": {},
   "source": [
    "# Getting started with cube configuration\n",
    "\n",
    "In this section I'm demonstrating some of the typical actions that you can apply to your newly created cube."
   ]
  },
  {
   "cell_type": "code",
   "execution_count": 10,
   "metadata": {
    "execution": {
     "iopub.execute_input": "2021-02-09T06:41:52.347804Z",
     "iopub.status.busy": "2021-02-09T06:41:52.347399Z",
     "iopub.status.idle": "2021-02-09T06:41:52.351017Z",
     "shell.execute_reply": "2021-02-09T06:41:52.350458Z",
     "shell.execute_reply.started": "2021-02-09T06:41:52.347768Z"
    }
   },
   "outputs": [],
   "source": [
    "# These are the variables for faster access to the cube data elements:\n",
    "l = cube.levels\n",
    "m = cube.measures\n",
    "h = cube.hierarchies"
   ]
  },
  {
   "cell_type": "code",
   "execution_count": 11,
   "metadata": {
    "execution": {
     "iopub.execute_input": "2021-02-09T06:41:52.351865Z",
     "iopub.status.busy": "2021-02-09T06:41:52.351705Z",
     "iopub.status.idle": "2021-02-09T06:41:52.513958Z",
     "shell.execute_reply": "2021-02-09T06:41:52.513293Z",
     "shell.execute_reply.started": "2021-02-09T06:41:52.351845Z"
    }
   },
   "outputs": [],
   "source": [
    "# Setting a dimension to slicing will prevent measures to aggregate risk coming from different members of that dimension:\n",
    "h[\"Reporting Date\"].slicing = True"
   ]
  },
  {
   "cell_type": "code",
   "execution_count": 12,
   "metadata": {
    "execution": {
     "iopub.execute_input": "2021-02-09T06:41:52.514923Z",
     "iopub.status.busy": "2021-02-09T06:41:52.514677Z",
     "iopub.status.idle": "2021-02-09T06:41:52.724262Z",
     "shell.execute_reply": "2021-02-09T06:41:52.723422Z",
     "shell.execute_reply.started": "2021-02-09T06:41:52.514901Z"
    }
   },
   "outputs": [],
   "source": [
    "# By setting the sort on the reporting date to DESC, we make sure that the latest date appears by default.\n",
    "l[\"Reporting Date\"].comparator = tt.comparator.DESC"
   ]
  },
  {
   "cell_type": "code",
   "execution_count": 13,
   "metadata": {
    "execution": {
     "iopub.execute_input": "2021-02-09T06:41:52.727711Z",
     "iopub.status.busy": "2021-02-09T06:41:52.727492Z",
     "iopub.status.idle": "2021-02-09T06:41:53.236562Z",
     "shell.execute_reply": "2021-02-09T06:41:53.235978Z",
     "shell.execute_reply.started": "2021-02-09T06:41:52.727689Z"
    }
   },
   "outputs": [],
   "source": [
    "# Multi-level hierarchies come handy when you have a typical way to expand data:\n",
    "h[\"Opening Date (detailed)\"] = {\n",
    "    \"Year\": lending_club_data[\"Opening Year\"],\n",
    "    \"Month\": lending_club_data[\"Opening Month\"],\n",
    "    \"Day\": lending_club_data[\"Opening Day\"],\n",
    "}"
   ]
  },
  {
   "cell_type": "markdown",
   "metadata": {},
   "source": [
    "# Measures visualizing credit risk inputs"
   ]
  },
  {
   "cell_type": "markdown",
   "metadata": {
    "execution": {
     "iopub.execute_input": "2021-01-27T04:02:13.621751Z",
     "iopub.status.busy": "2021-01-27T04:02:13.621418Z",
     "iopub.status.idle": "2021-01-27T04:02:13.635946Z",
     "shell.execute_reply": "2021-01-27T04:02:13.634737Z",
     "shell.execute_reply.started": "2021-01-27T04:02:13.621713Z"
    }
   },
   "source": [
    "In this section you will find various measures that we create to visualize risk engine output in the UI. "
   ]
  },
  {
   "cell_type": "markdown",
   "metadata": {},
   "source": [
    "## Stages and their variations\n",
    "\n",
    "In this section, we define measures to visualize Stages and their variations."
   ]
  },
  {
   "cell_type": "markdown",
   "metadata": {},
   "source": [
    "As a reminder, **Impairment** of financial assets is recognised in stages:\n",
    "\n",
    "- **Stage 1** Low credit risk or no increase since initial recognition: one-year ECL\n",
    "- **Stage 2** If the credit risk increases significantly and is not considered low: lifetime ECL \n",
    "- **Stage 3** impaired assets"
   ]
  },
  {
   "cell_type": "code",
   "execution_count": 14,
   "metadata": {
    "execution": {
     "iopub.execute_input": "2021-02-09T06:41:53.239898Z",
     "iopub.status.busy": "2021-02-09T06:41:53.239661Z",
     "iopub.status.idle": "2021-02-09T06:41:54.145853Z",
     "shell.execute_reply": "2021-02-09T06:41:54.145306Z",
     "shell.execute_reply.started": "2021-02-09T06:41:53.239874Z"
    }
   },
   "outputs": [],
   "source": [
    "m[\"Stage\"] = tt.value(risk_engine_data[\"Stage\"])\n",
    "m[\"Stage\"].folder = \"Stage\"\n",
    "\n",
    "# This is how we can create measures to display the previous value and daily changes side by side with the value:\n",
    "m[\"Previous Stage\"] = tt.shift(m[\"Stage\"], on=l[\"Reporting Date\"], offset=1)\n",
    "m[\"Previous Stage\"].folder = \"Stage\"\n",
    "\n",
    "m[\"Stage Variation\"] = tt.where(\n",
    "    m[\"Previous Stage\"] != None, m[\"Stage\"] - m[\"Previous Stage\"]\n",
    ")\n",
    "m[\"Stage Variation\"].folder = \"Stage\"\n",
    "m[\"Stage Variation\"].formatter = \"DOUBLE[+#,###;-#,###]\""
   ]
  },
  {
   "cell_type": "markdown",
   "metadata": {},
   "source": [
    "## EAD aggregation"
   ]
  },
  {
   "cell_type": "markdown",
   "metadata": {},
   "source": [
    "The **Exposure At Default** is the estimated amount of loss a bank may be exposed to when a debtor defaults on a loan."
   ]
  },
  {
   "cell_type": "code",
   "execution_count": 15,
   "metadata": {
    "execution": {
     "iopub.execute_input": "2021-02-09T06:41:54.146759Z",
     "iopub.status.busy": "2021-02-09T06:41:54.146568Z",
     "iopub.status.idle": "2021-02-09T06:41:55.143197Z",
     "shell.execute_reply": "2021-02-09T06:41:55.142685Z",
     "shell.execute_reply.started": "2021-02-09T06:41:54.146719Z"
    }
   },
   "outputs": [],
   "source": [
    "m[\"EAD\"] = tt.agg.sum(risk_engine_data[\"EAD\"])\n",
    "m[\"EAD\"].folder = \"EAD\"\n",
    "\n",
    "# This is how we can create measures to display the previous value and daily changes side by side with the value:\n",
    "m[\"Previous EAD\"] = tt.shift(m[\"EAD\"], on=l[\"Reporting Date\"], offset=1)\n",
    "m[\"Previous EAD\"].folder = \"EAD\"\n",
    "\n",
    "m[\"EAD (Chg)\"] = tt.where(m[\"Previous EAD\"] != None, m[\"EAD\"] - m[\"Previous EAD\"])\n",
    "m[\"EAD (Chg)\"].folder = \"EAD\"\n",
    "m[\"EAD (Chg)\"].formatter = \"DOUBLE[+#,###.##;-#,###.##]\"\n",
    "\n",
    "m[\"EAD (Chg %)\"] = tt.where(m[\"Previous EAD\"] != 0, m[\"EAD (Chg)\"] / m[\"Previous EAD\"])\n",
    "m[\"EAD (Chg %)\"].folder = \"EAD\"\n",
    "m[\"EAD (Chg %)\"].formatter = \"DOUBLE[+#,###.##%;-#,###.##%]\""
   ]
  },
  {
   "cell_type": "markdown",
   "metadata": {},
   "source": [
    "Here's a query for the EAD and variations:"
   ]
  },
  {
   "cell_type": "code",
   "execution_count": 16,
   "metadata": {
    "execution": {
     "iopub.execute_input": "2021-02-09T06:41:55.144032Z",
     "iopub.status.busy": "2021-02-09T06:41:55.143875Z",
     "iopub.status.idle": "2021-02-09T06:41:56.259145Z",
     "shell.execute_reply": "2021-02-09T06:41:56.258503Z",
     "shell.execute_reply.started": "2021-02-09T06:41:55.144013Z"
    }
   },
   "outputs": [
    {
     "data": {
      "application/vnd.atoti.query-result.v0+json": {
       "context": {
        "queriesTimeLimit": 30
       },
       "createEquivalentWidgetCode": "session.visualize()",
       "mdx": "SELECT {[Measures].[EAD],[Measures].[Previous EAD],[Measures].[EAD (Chg)],[Measures].[EAD (Chg %)]} ON COLUMNS, NON EMPTY [Credit Risk].[Reporting Date].[Reporting Date].Members ON ROWS FROM [IFRS9]"
      },
      "text/html": [
       "<div>\n",
       "<style scoped>\n",
       "    .dataframe tbody tr th:only-of-type {\n",
       "        vertical-align: middle;\n",
       "    }\n",
       "\n",
       "    .dataframe tbody tr th {\n",
       "        vertical-align: top;\n",
       "    }\n",
       "\n",
       "    .dataframe thead th {\n",
       "        text-align: right;\n",
       "    }\n",
       "</style>\n",
       "<table border=\"1\" class=\"dataframe\">\n",
       "  <thead>\n",
       "    <tr style=\"text-align: right;\">\n",
       "      <th></th>\n",
       "      <th>EAD</th>\n",
       "      <th>Previous EAD</th>\n",
       "      <th>EAD (Chg)</th>\n",
       "      <th>EAD (Chg %)</th>\n",
       "    </tr>\n",
       "    <tr>\n",
       "      <th>Reporting Date</th>\n",
       "      <th></th>\n",
       "      <th></th>\n",
       "      <th></th>\n",
       "      <th></th>\n",
       "    </tr>\n",
       "  </thead>\n",
       "  <tbody>\n",
       "    <tr>\n",
       "      <th>2008-05-01</th>\n",
       "      <td>18,981,062.62</td>\n",
       "      <td>18,260,543.55</td>\n",
       "      <td>+720,519.07</td>\n",
       "      <td>+3.95%</td>\n",
       "    </tr>\n",
       "    <tr>\n",
       "      <th>2008-04-01</th>\n",
       "      <td>18,260,543.55</td>\n",
       "      <td>15,791,396.44</td>\n",
       "      <td>+2,469,147.12</td>\n",
       "      <td>+15.64%</td>\n",
       "    </tr>\n",
       "    <tr>\n",
       "      <th>2008-03-01</th>\n",
       "      <td>15,791,396.44</td>\n",
       "      <td>11,317,216.41</td>\n",
       "      <td>+4,474,180.02</td>\n",
       "      <td>+39.53%</td>\n",
       "    </tr>\n",
       "    <tr>\n",
       "      <th>2008-02-01</th>\n",
       "      <td>11,317,216.41</td>\n",
       "      <td>8,912,659.37</td>\n",
       "      <td>+2,404,557.04</td>\n",
       "      <td>+26.98%</td>\n",
       "    </tr>\n",
       "    <tr>\n",
       "      <th>2008-01-01</th>\n",
       "      <td>8,912,659.37</td>\n",
       "      <td>5,404,613.49</td>\n",
       "      <td>+3,508,045.88</td>\n",
       "      <td>+64.91%</td>\n",
       "    </tr>\n",
       "    <tr>\n",
       "      <th>2007-12-01</th>\n",
       "      <td>5,404,613.49</td>\n",
       "      <td>3,104,192.40</td>\n",
       "      <td>+2,300,421.1</td>\n",
       "      <td>+74.11%</td>\n",
       "    </tr>\n",
       "    <tr>\n",
       "      <th>2007-11-01</th>\n",
       "      <td>3,104,192.40</td>\n",
       "      <td>2,002,337.63</td>\n",
       "      <td>+1,101,854.77</td>\n",
       "      <td>+55.03%</td>\n",
       "    </tr>\n",
       "    <tr>\n",
       "      <th>2007-10-01</th>\n",
       "      <td>2,002,337.63</td>\n",
       "      <td>1,332,899.66</td>\n",
       "      <td>+669,437.97</td>\n",
       "      <td>+50.22%</td>\n",
       "    </tr>\n",
       "    <tr>\n",
       "      <th>2007-09-01</th>\n",
       "      <td>1,332,899.66</td>\n",
       "      <td>890,866.78</td>\n",
       "      <td>+442,032.88</td>\n",
       "      <td>+49.62%</td>\n",
       "    </tr>\n",
       "    <tr>\n",
       "      <th>2007-08-01</th>\n",
       "      <td>890,866.78</td>\n",
       "      <td>445,970.86</td>\n",
       "      <td>+444,895.93</td>\n",
       "      <td>+99.76%</td>\n",
       "    </tr>\n",
       "    <tr>\n",
       "      <th>2007-07-01</th>\n",
       "      <td>445,970.86</td>\n",
       "      <td>91,850.00</td>\n",
       "      <td>+354,120.86</td>\n",
       "      <td>+385.54%</td>\n",
       "    </tr>\n",
       "    <tr>\n",
       "      <th>2007-06-01</th>\n",
       "      <td>91,850.00</td>\n",
       "      <td>&lt;NA&gt;</td>\n",
       "      <td>&lt;NA&gt;</td>\n",
       "      <td>&lt;NA&gt;</td>\n",
       "    </tr>\n",
       "  </tbody>\n",
       "</table>\n",
       "</div>"
      ],
      "text/plain": [
       "                          EAD   Previous EAD      EAD (Chg) EAD (Chg %)\n",
       "Reporting Date                                                         \n",
       "2008-05-01      18,981,062.62  18,260,543.55    +720,519.07      +3.95%\n",
       "2008-04-01      18,260,543.55  15,791,396.44  +2,469,147.12     +15.64%\n",
       "2008-03-01      15,791,396.44  11,317,216.41  +4,474,180.02     +39.53%\n",
       "2008-02-01      11,317,216.41   8,912,659.37  +2,404,557.04     +26.98%\n",
       "2008-01-01       8,912,659.37   5,404,613.49  +3,508,045.88     +64.91%\n",
       "2007-12-01       5,404,613.49   3,104,192.40   +2,300,421.1     +74.11%\n",
       "2007-11-01       3,104,192.40   2,002,337.63  +1,101,854.77     +55.03%\n",
       "2007-10-01       2,002,337.63   1,332,899.66    +669,437.97     +50.22%\n",
       "2007-09-01       1,332,899.66     890,866.78    +442,032.88     +49.62%\n",
       "2007-08-01         890,866.78     445,970.86    +444,895.93     +99.76%\n",
       "2007-07-01         445,970.86      91,850.00    +354,120.86    +385.54%\n",
       "2007-06-01          91,850.00           <NA>           <NA>        <NA>"
      ]
     },
     "execution_count": 16,
     "metadata": {},
     "output_type": "execute_result"
    }
   ],
   "source": [
    "cube.query(\n",
    "    m[\"EAD\"],\n",
    "    m[\"Previous EAD\"],\n",
    "    m[\"EAD (Chg)\"],\n",
    "    m[\"EAD (Chg %)\"],\n",
    "    levels=l[\"Reporting Date\"],\n",
    ")"
   ]
  },
  {
   "cell_type": "markdown",
   "metadata": {},
   "source": [
    "## Visualizing PD"
   ]
  },
  {
   "cell_type": "markdown",
   "metadata": {},
   "source": [
    "The **Probability Of Default** is the likelihood that your debtor will default on its debts (goes bankrupt or so) within certain period (12 months for loans in Stage 1 and life-time for other loans).\n",
    "\n",
    "PD (12) - is 12 month probability of default and PD (LT) - is the lifetime probability of default."
   ]
  },
  {
   "cell_type": "markdown",
   "metadata": {},
   "source": [
    "### 12 months PD and variations"
   ]
  },
  {
   "cell_type": "code",
   "execution_count": 17,
   "metadata": {
    "execution": {
     "iopub.execute_input": "2021-02-09T06:41:56.260241Z",
     "iopub.status.busy": "2021-02-09T06:41:56.259966Z",
     "iopub.status.idle": "2021-02-09T06:41:57.381191Z",
     "shell.execute_reply": "2021-02-09T06:41:57.380427Z",
     "shell.execute_reply.started": "2021-02-09T06:41:56.260214Z"
    }
   },
   "outputs": [],
   "source": [
    "m[\"PD (12)\"] = tt.agg.mean(risk_engine_data[\"PD12\"])\n",
    "m[\"PD (12)\"].folder = \"PD\"\n",
    "m[\"PD (12)\"].formatter = \"DOUBLE[#,###.##%]\"\n",
    "\n",
    "m[\"Previous PD (12)\"] = tt.shift(m[\"PD (12)\"], on=l[\"Reporting Date\"], offset=1)\n",
    "m[\"Previous PD (12)\"].folder = \"PD\"\n",
    "m[\"Previous PD (12)\"].formatter = \"DOUBLE[#,###.##%]\"\n",
    "\n",
    "m[\"PD (12) (Chg)\"] = tt.where(\n",
    "    m[\"Previous PD (12)\"] != None, m[\"PD (12)\"] - m[\"Previous PD (12)\"]\n",
    ")\n",
    "m[\"PD (12) (Chg)\"].folder = \"PD\"\n",
    "m[\"PD (12) (Chg)\"].formatter = \"DOUBLE[+#,###.##%;-#,###.##%]\""
   ]
  },
  {
   "cell_type": "markdown",
   "metadata": {},
   "source": [
    "The measures display average across contracts, but require having the slicing hierarchies in the view."
   ]
  },
  {
   "cell_type": "markdown",
   "metadata": {},
   "source": [
    "### Lifetime PD and variations"
   ]
  },
  {
   "cell_type": "code",
   "execution_count": 18,
   "metadata": {
    "execution": {
     "iopub.execute_input": "2021-02-09T06:41:57.382326Z",
     "iopub.status.busy": "2021-02-09T06:41:57.382074Z",
     "iopub.status.idle": "2021-02-09T06:41:58.535359Z",
     "shell.execute_reply": "2021-02-09T06:41:58.534889Z",
     "shell.execute_reply.started": "2021-02-09T06:41:57.382296Z"
    }
   },
   "outputs": [],
   "source": [
    "m[\"PD (LT)\"] = tt.agg.mean(risk_engine_data[\"PDLT\"])\n",
    "m[\"PD (LT)\"].folder = \"PD\"\n",
    "m[\"PD (LT)\"].formatter = \"DOUBLE[#,###.##%]\"\n",
    "\n",
    "m[\"Opening PD (LT)\"] = tt.agg.mean(loans_at_inception[\"Opening PDLT\"])\n",
    "m[\"Opening PD (LT)\"].folder = \"PD\"\n",
    "\n",
    "m[\"Previous PD (LT)\"] = tt.shift(m[\"PD (LT)\"], on=l[\"Reporting Date\"], offset=1)\n",
    "m[\"Previous PD (LT)\"].folder = \"PD\"\n",
    "\n",
    "m[\"PD (LT) (Chg)\"] = tt.where(\n",
    "    m[\"Previous PD (LT)\"] != None, m[\"PD (LT)\"] - m[\"Previous PD (LT)\"]\n",
    ")\n",
    "m[\"PD (LT) (Chg)\"].folder = \"PD\"\n",
    "\n",
    "# Variation from opening\n",
    "m[\"PD (LT) Variation\"] = (m[\"PD (LT)\"] - m[\"Opening PD (LT)\"]) / m[\"Opening PD (LT)\"]\n",
    "m[\"PD (LT) Variation\"].folder = \"PD\"\n",
    "m[\"PD (LT) Variation\"].formatter = \"DOUBLE[+#,###.##%;-#,###.##%]\""
   ]
  },
  {
   "cell_type": "markdown",
   "metadata": {},
   "source": [
    "## Visualizing LGD"
   ]
  },
  {
   "cell_type": "markdown",
   "metadata": {},
   "source": [
    "The **Lost Given Default** is the percentage that you can lose when the debtor defaults."
   ]
  },
  {
   "cell_type": "code",
   "execution_count": 19,
   "metadata": {
    "execution": {
     "iopub.execute_input": "2021-02-09T06:41:58.536080Z",
     "iopub.status.busy": "2021-02-09T06:41:58.535949Z",
     "iopub.status.idle": "2021-02-09T06:41:59.026007Z",
     "shell.execute_reply": "2021-02-09T06:41:59.025551Z",
     "shell.execute_reply.started": "2021-02-09T06:41:58.536064Z"
    }
   },
   "outputs": [],
   "source": [
    "m[\"LGD\"] = tt.agg.mean(risk_engine_data[\"LGD\"])\n",
    "m[\"LGD\"].folder = \"LGD\"\n",
    "m[\"LGD\"].formatter = \"DOUBLE[#,###.##%]\"\n",
    "\n",
    "m[\"Previous LGD\"] = tt.shift(m[\"LGD\"], on=l[\"Reporting Date\"], offset=1)\n",
    "m[\"Previous LGD\"].folder = \"LGD\"\n",
    "m[\"Previous LGD\"].formatter = \"DOUBLE[#,###.##%]\""
   ]
  },
  {
   "cell_type": "markdown",
   "metadata": {},
   "source": [
    "## Summary\n",
    "\n",
    "In this section we have created measures for credit risk inputs - EAD, PD, LGD, stages and their variations.\n",
    "\n",
    "Other measures that might be useful for visualization include - curing time, time weighted by EAD, statistics on the number of days past due and other. "
   ]
  },
  {
   "cell_type": "markdown",
   "metadata": {},
   "source": [
    "# ECL computation"
   ]
  },
  {
   "cell_type": "markdown",
   "metadata": {},
   "source": [
    "The **Expected Credit Loss** is a probability-weighted estimate of credit loss. Depending on the \"Stage\" of a loan, the ECL is computed per one of the following formulae:\n",
    "\n",
    "- IFRS Stage 1: $ECL=EAD \\cdot PD^{12M} \\cdot LGD$\n",
    "- IFRS Stage 2: $ECL=EAD \\cdot PD^{LT} \\cdot LGD$\n",
    "- IFRS Stage 3: $ECL=EAD \\cdot LGD$\n",
    "\n",
    "Let's define each of these expressions:"
   ]
  },
  {
   "cell_type": "code",
   "execution_count": 20,
   "metadata": {
    "execution": {
     "iopub.execute_input": "2021-02-09T06:41:59.026692Z",
     "iopub.status.busy": "2021-02-09T06:41:59.026557Z",
     "iopub.status.idle": "2021-02-09T06:41:59.030224Z",
     "shell.execute_reply": "2021-02-09T06:41:59.029697Z",
     "shell.execute_reply.started": "2021-02-09T06:41:59.026675Z"
    }
   },
   "outputs": [],
   "source": [
    "ecl_stage_1 = tt.agg.sum_product(\n",
    "    risk_engine_data[\"LGD\"], risk_engine_data[\"EAD\"], risk_engine_data[\"PD12\"]\n",
    ")\n",
    "ecl_stage_2 = tt.agg.sum_product(\n",
    "    risk_engine_data[\"LGD\"], risk_engine_data[\"EAD\"], risk_engine_data[\"PDLT\"]\n",
    ")\n",
    "ecl_stage_3 = tt.agg.sum_product(risk_engine_data[\"LGD\"], risk_engine_data[\"EAD\"])"
   ]
  },
  {
   "cell_type": "markdown",
   "metadata": {},
   "source": [
    "Now, the measure visible in the UI will pick the correct formula depending on the stage:"
   ]
  },
  {
   "cell_type": "code",
   "execution_count": 21,
   "metadata": {
    "execution": {
     "iopub.execute_input": "2021-02-09T06:41:59.031042Z",
     "iopub.status.busy": "2021-02-09T06:41:59.030902Z",
     "iopub.status.idle": "2021-02-09T06:41:59.304378Z",
     "shell.execute_reply": "2021-02-09T06:41:59.303774Z",
     "shell.execute_reply.started": "2021-02-09T06:41:59.031025Z"
    }
   },
   "outputs": [],
   "source": [
    "m[\"ECL\"] = (\n",
    "    tt.filter(ecl_stage_1, l[\"Stage\"] == 1)\n",
    "    + tt.filter(ecl_stage_2, l[\"Stage\"] == 2)\n",
    "    + tt.filter(ecl_stage_3, l[\"Stage\"] == 3)\n",
    ")\n",
    "m[\"ECL\"].folder = \"ECL\""
   ]
  },
  {
   "cell_type": "code",
   "execution_count": 22,
   "metadata": {
    "execution": {
     "iopub.execute_input": "2021-02-09T06:41:59.305189Z",
     "iopub.status.busy": "2021-02-09T06:41:59.305026Z",
     "iopub.status.idle": "2021-02-09T06:41:59.408848Z",
     "shell.execute_reply": "2021-02-09T06:41:59.408137Z",
     "shell.execute_reply.started": "2021-02-09T06:41:59.305169Z"
    }
   },
   "outputs": [
    {
     "data": {
      "application/vnd.atoti.query-result.v0+json": {
       "context": {
        "queriesTimeLimit": 30
       },
       "createEquivalentWidgetCode": "session.visualize()",
       "mdx": "SELECT [Measures].[ECL] ON COLUMNS, NON EMPTY [Credit Risk].[Reporting Date].[Reporting Date].Members ON ROWS FROM [IFRS9]"
      },
      "text/html": [
       "<div>\n",
       "<style scoped>\n",
       "    .dataframe tbody tr th:only-of-type {\n",
       "        vertical-align: middle;\n",
       "    }\n",
       "\n",
       "    .dataframe tbody tr th {\n",
       "        vertical-align: top;\n",
       "    }\n",
       "\n",
       "    .dataframe thead th {\n",
       "        text-align: right;\n",
       "    }\n",
       "</style>\n",
       "<table border=\"1\" class=\"dataframe\">\n",
       "  <thead>\n",
       "    <tr style=\"text-align: right;\">\n",
       "      <th></th>\n",
       "      <th>ECL</th>\n",
       "    </tr>\n",
       "    <tr>\n",
       "      <th>Reporting Date</th>\n",
       "      <th></th>\n",
       "    </tr>\n",
       "  </thead>\n",
       "  <tbody>\n",
       "    <tr>\n",
       "      <th>2008-05-01</th>\n",
       "      <td>2,508,283.78</td>\n",
       "    </tr>\n",
       "    <tr>\n",
       "      <th>2008-04-01</th>\n",
       "      <td>2,367,756.43</td>\n",
       "    </tr>\n",
       "    <tr>\n",
       "      <th>2008-03-01</th>\n",
       "      <td>1,502,725.85</td>\n",
       "    </tr>\n",
       "    <tr>\n",
       "      <th>2008-02-01</th>\n",
       "      <td>1,203,125.21</td>\n",
       "    </tr>\n",
       "    <tr>\n",
       "      <th>2008-01-01</th>\n",
       "      <td>1,012,577.91</td>\n",
       "    </tr>\n",
       "    <tr>\n",
       "      <th>2007-12-01</th>\n",
       "      <td>603,094.34</td>\n",
       "    </tr>\n",
       "    <tr>\n",
       "      <th>2007-11-01</th>\n",
       "      <td>311,124.51</td>\n",
       "    </tr>\n",
       "    <tr>\n",
       "      <th>2007-10-01</th>\n",
       "      <td>267,944.61</td>\n",
       "    </tr>\n",
       "    <tr>\n",
       "      <th>2007-09-01</th>\n",
       "      <td>150,930.70</td>\n",
       "    </tr>\n",
       "    <tr>\n",
       "      <th>2007-08-01</th>\n",
       "      <td>84,340.67</td>\n",
       "    </tr>\n",
       "    <tr>\n",
       "      <th>2007-07-01</th>\n",
       "      <td>34,356.09</td>\n",
       "    </tr>\n",
       "    <tr>\n",
       "      <th>2007-06-01</th>\n",
       "      <td>5,697.28</td>\n",
       "    </tr>\n",
       "  </tbody>\n",
       "</table>\n",
       "</div>"
      ],
      "text/plain": [
       "                         ECL\n",
       "Reporting Date              \n",
       "2008-05-01      2,508,283.78\n",
       "2008-04-01      2,367,756.43\n",
       "2008-03-01      1,502,725.85\n",
       "2008-02-01      1,203,125.21\n",
       "2008-01-01      1,012,577.91\n",
       "2007-12-01        603,094.34\n",
       "2007-11-01        311,124.51\n",
       "2007-10-01        267,944.61\n",
       "2007-09-01        150,930.70\n",
       "2007-08-01         84,340.67\n",
       "2007-07-01         34,356.09\n",
       "2007-06-01          5,697.28"
      ]
     },
     "execution_count": 22,
     "metadata": {},
     "output_type": "execute_result"
    }
   ],
   "source": [
    "cube.query(m[\"ECL\"], levels = [l[\"Reporting Date\"]])"
   ]
  },
  {
   "cell_type": "markdown",
   "metadata": {},
   "source": [
    "As usual, let's create measures to visualize the previous reporting date values and changes:"
   ]
  },
  {
   "cell_type": "code",
   "execution_count": 23,
   "metadata": {
    "execution": {
     "iopub.execute_input": "2021-02-09T06:41:59.410035Z",
     "iopub.status.busy": "2021-02-09T06:41:59.409743Z",
     "iopub.status.idle": "2021-02-09T06:42:00.907952Z",
     "shell.execute_reply": "2021-02-09T06:42:00.907351Z",
     "shell.execute_reply.started": "2021-02-09T06:41:59.410013Z"
    }
   },
   "outputs": [
    {
     "name": "stderr",
     "output_type": "stream",
     "text": [
      "<ipython-input-23-c056f331e048>:11: FutureWarning: Using a condition between two levels in atoti.filter() is deprecated\n",
      "  m[\"ECL of old contracts\"] = tt.filter(m[\"ECL\"], l[\"Reporting Date\"] != l[\"issue_date\"])\n"
     ]
    }
   ],
   "source": [
    "m[\"Previous ECL\"] = tt.shift(m[\"ECL\"], on=l[\"Reporting Date\"], offset=1)\n",
    "m[\"Previous ECL\"].folder = \"ECL\"\n",
    "\n",
    "m[\"ECL (Chg)\"] = tt.where(m[\"Previous ECL\"] != None, m[\"ECL\"] - m[\"Previous ECL\"])\n",
    "m[\"ECL (Chg)\"].folder = \"ECL\"\n",
    "\n",
    "m[\"ECL (Chg %)\"] = tt.where(m[\"Previous ECL\"] != 0, m[\"ECL (Chg)\"] / m[\"Previous ECL\"])\n",
    "m[\"ECL (Chg %)\"].folder = \"ECL\"\n",
    "m[\"ECL (Chg %)\"].formatter = \"DOUBLE[+#,###.##%;-#,###.##%]\"\n",
    "\n",
    "m[\"ECL of old contracts\"] = tt.filter(m[\"ECL\"], l[\"Reporting Date\"] != l[\"issue_date\"])\n",
    "m[\"ECL of old contracts\"].folder = \"ECL\"\n",
    "\n",
    "m[\"ECL (Chg without new contracts)\"] = tt.where(\n",
    "    m[\"Previous ECL\"] != None, m[\"ECL of old contracts\"] - m[\"Previous ECL\"]\n",
    ")\n",
    "m[\"ECL (Chg without new contracts)\"].folder = \"ECL\"\n",
    "\n",
    "m[\"ECL (Chg % without new contracts)\"] = tt.where(\n",
    "    m[\"Previous ECL\"] != 0, m[\"ECL (Chg without new contracts)\"] / m[\"Previous ECL\"]\n",
    ")\n",
    "m[\"ECL (Chg % without new contracts)\"].folder = \"ECL\"\n",
    "m[\"ECL (Chg % without new contracts)\"].formatter = \"DOUBLE[+#,###.##%;-#,###.##%]\""
   ]
  },
  {
   "cell_type": "markdown",
   "metadata": {},
   "source": [
    "Now the ECL measures are computed from the EAD, PD and LGD every time a user displays ECL. This allows to manipulate the inputs - see in the measure simulations section. Now let's explore the ECL analytics in more detail and introduce the conpect of ECL explainers."
   ]
  },
  {
   "cell_type": "markdown",
   "metadata": {},
   "source": [
    "# ECL change explainers"
   ]
  },
  {
   "cell_type": "markdown",
   "metadata": {},
   "source": [
    "Lets introduce **ECL Explainer** as measures attributing the change in ECL to the underlying factors - PD, LGD and EAD. To compute them, we will apply the same formula as for the ECL measure, but will keep each of the three factors at the level of the previous reporting date, so it has no effect on the ECL variation.\n",
    "\n",
    "For the simplicity of this example we don't take into account the stage migrations. The methodology could be improved to reflect the effect of stage changes."
   ]
  },
  {
   "cell_type": "markdown",
   "metadata": {},
   "source": [
    "## ECL variation due to PD changes"
   ]
  },
  {
   "cell_type": "code",
   "execution_count": 24,
   "metadata": {
    "execution": {
     "iopub.execute_input": "2021-02-09T06:42:00.908927Z",
     "iopub.status.busy": "2021-02-09T06:42:00.908680Z",
     "iopub.status.idle": "2021-02-09T06:42:01.232886Z",
     "shell.execute_reply": "2021-02-09T06:42:01.232386Z",
     "shell.execute_reply.started": "2021-02-09T06:42:00.908905Z"
    }
   },
   "outputs": [],
   "source": [
    "ecl_pd_explain_stage_1 = tt.agg.sum_product(\n",
    "    risk_engine_data[\"LGD\"],\n",
    "    risk_engine_data[\"EAD\"],\n",
    "    risk_engine_data[\"Previous PD12\"],\n",
    ")\n",
    "ecl_pd_explain_stage_2 = tt.agg.sum_product(\n",
    "    risk_engine_data[\"LGD\"],\n",
    "    risk_engine_data[\"EAD\"],\n",
    "    risk_engine_data[\"Previous PDLT\"],\n",
    ")\n",
    "\n",
    "m[\"ECL with previous PD\"] = (\n",
    "    tt.filter(ecl_pd_explain_stage_1, l[\"Stage\"] == 1)\n",
    "    + tt.filter(ecl_pd_explain_stage_2, l[\"Stage\"] == 2)\n",
    "    + tt.filter(ecl_stage_3, l[\"Stage\"] == 3)\n",
    ")\n",
    "\n",
    "m[\"ECL variation due to PD changes\"] = m[\"ECL\"] - m[\"ECL with previous PD\"]\n",
    "m[\"ECL variation due to PD changes\"].folder = \"ECL\""
   ]
  },
  {
   "cell_type": "code",
   "execution_count": 25,
   "metadata": {
    "execution": {
     "iopub.execute_input": "2021-02-09T06:42:01.233593Z",
     "iopub.status.busy": "2021-02-09T06:42:01.233463Z",
     "iopub.status.idle": "2021-02-09T06:42:01.317662Z",
     "shell.execute_reply": "2021-02-09T06:42:01.316955Z",
     "shell.execute_reply.started": "2021-02-09T06:42:01.233576Z"
    }
   },
   "outputs": [
    {
     "data": {
      "application/vnd.atoti.query-result.v0+json": {
       "context": {
        "queriesTimeLimit": 30
       },
       "createEquivalentWidgetCode": "session.visualize()",
       "mdx": "SELECT {[Measures].[ECL (Chg)],[Measures].[ECL variation due to PD changes]} ON COLUMNS, NON EMPTY [Credit Risk].[Reporting Date].[Reporting Date].Members ON ROWS FROM [IFRS9]"
      },
      "text/html": [
       "<div>\n",
       "<style scoped>\n",
       "    .dataframe tbody tr th:only-of-type {\n",
       "        vertical-align: middle;\n",
       "    }\n",
       "\n",
       "    .dataframe tbody tr th {\n",
       "        vertical-align: top;\n",
       "    }\n",
       "\n",
       "    .dataframe thead th {\n",
       "        text-align: right;\n",
       "    }\n",
       "</style>\n",
       "<table border=\"1\" class=\"dataframe\">\n",
       "  <thead>\n",
       "    <tr style=\"text-align: right;\">\n",
       "      <th></th>\n",
       "      <th>ECL (Chg)</th>\n",
       "      <th>ECL variation due to PD changes</th>\n",
       "    </tr>\n",
       "    <tr>\n",
       "      <th>Reporting Date</th>\n",
       "      <th></th>\n",
       "      <th></th>\n",
       "    </tr>\n",
       "  </thead>\n",
       "  <tbody>\n",
       "    <tr>\n",
       "      <th>2008-05-01</th>\n",
       "      <td>140,527.35</td>\n",
       "      <td>-8,653.69</td>\n",
       "    </tr>\n",
       "    <tr>\n",
       "      <th>2008-04-01</th>\n",
       "      <td>865,030.58</td>\n",
       "      <td>11,950.13</td>\n",
       "    </tr>\n",
       "    <tr>\n",
       "      <th>2008-03-01</th>\n",
       "      <td>299,600.64</td>\n",
       "      <td>-1,507.30</td>\n",
       "    </tr>\n",
       "    <tr>\n",
       "      <th>2008-02-01</th>\n",
       "      <td>190,547.30</td>\n",
       "      <td>-6,608.33</td>\n",
       "    </tr>\n",
       "    <tr>\n",
       "      <th>2008-01-01</th>\n",
       "      <td>409,483.57</td>\n",
       "      <td>-23,895.24</td>\n",
       "    </tr>\n",
       "    <tr>\n",
       "      <th>2007-12-01</th>\n",
       "      <td>291,969.83</td>\n",
       "      <td>-2,989.29</td>\n",
       "    </tr>\n",
       "    <tr>\n",
       "      <th>2007-11-01</th>\n",
       "      <td>43,179.90</td>\n",
       "      <td>-2,621.78</td>\n",
       "    </tr>\n",
       "    <tr>\n",
       "      <th>2007-10-01</th>\n",
       "      <td>117,013.91</td>\n",
       "      <td>-8,520.02</td>\n",
       "    </tr>\n",
       "    <tr>\n",
       "      <th>2007-09-01</th>\n",
       "      <td>66,590.04</td>\n",
       "      <td>3,404.91</td>\n",
       "    </tr>\n",
       "    <tr>\n",
       "      <th>2007-08-01</th>\n",
       "      <td>49,984.58</td>\n",
       "      <td>-275.52</td>\n",
       "    </tr>\n",
       "    <tr>\n",
       "      <th>2007-07-01</th>\n",
       "      <td>28,658.81</td>\n",
       "      <td>107.73</td>\n",
       "    </tr>\n",
       "    <tr>\n",
       "      <th>2007-06-01</th>\n",
       "      <td>&lt;NA&gt;</td>\n",
       "      <td>.00</td>\n",
       "    </tr>\n",
       "  </tbody>\n",
       "</table>\n",
       "</div>"
      ],
      "text/plain": [
       "                 ECL (Chg) ECL variation due to PD changes\n",
       "Reporting Date                                            \n",
       "2008-05-01      140,527.35                       -8,653.69\n",
       "2008-04-01      865,030.58                       11,950.13\n",
       "2008-03-01      299,600.64                       -1,507.30\n",
       "2008-02-01      190,547.30                       -6,608.33\n",
       "2008-01-01      409,483.57                      -23,895.24\n",
       "2007-12-01      291,969.83                       -2,989.29\n",
       "2007-11-01       43,179.90                       -2,621.78\n",
       "2007-10-01      117,013.91                       -8,520.02\n",
       "2007-09-01       66,590.04                        3,404.91\n",
       "2007-08-01       49,984.58                         -275.52\n",
       "2007-07-01       28,658.81                          107.73\n",
       "2007-06-01            <NA>                             .00"
      ]
     },
     "execution_count": 25,
     "metadata": {},
     "output_type": "execute_result"
    }
   ],
   "source": [
    "cube.query(\n",
    "    m[\"ECL (Chg)\"],\n",
    "    m[\"ECL variation due to PD changes\"],\n",
    "    levels=[l[\"Reporting Date\"]],\n",
    ")"
   ]
  },
  {
   "cell_type": "markdown",
   "metadata": {},
   "source": [
    "## ECL variation due to LGD changes"
   ]
  },
  {
   "cell_type": "code",
   "execution_count": 26,
   "metadata": {
    "execution": {
     "iopub.execute_input": "2021-02-09T06:42:01.318938Z",
     "iopub.status.busy": "2021-02-09T06:42:01.318570Z",
     "iopub.status.idle": "2021-02-09T06:42:01.686452Z",
     "shell.execute_reply": "2021-02-09T06:42:01.685988Z",
     "shell.execute_reply.started": "2021-02-09T06:42:01.318900Z"
    }
   },
   "outputs": [],
   "source": [
    "ecl_lgd_explain_stage_1 = tt.agg.sum_product(\n",
    "    risk_engine_data[\"Previous LGD\"],\n",
    "    risk_engine_data[\"EAD\"],\n",
    "    risk_engine_data[\"PD12\"],\n",
    ")\n",
    "ecl_lgd_explain_stage_2 = tt.agg.sum_product(\n",
    "    risk_engine_data[\"Previous LGD\"],\n",
    "    risk_engine_data[\"EAD\"],\n",
    "    risk_engine_data[\"PDLT\"],\n",
    ")\n",
    "ecl_lgd_explain_stage_3 = tt.agg.sum_product(\n",
    "    risk_engine_data[\"Previous LGD\"], risk_engine_data[\"EAD\"]\n",
    ")\n",
    "\n",
    "m[\"ECL with previous LGD\"] = (\n",
    "    tt.filter(ecl_lgd_explain_stage_1, l[\"Stage\"] == 1)\n",
    "    + tt.filter(ecl_lgd_explain_stage_2, l[\"Stage\"] == 2)\n",
    "    + tt.filter(ecl_lgd_explain_stage_3, l[\"Stage\"] == 3)\n",
    ")\n",
    "\n",
    "m[\"ECL variation due to LGD changes\"] = m[\"ECL\"] - m[\"ECL with previous LGD\"]\n",
    "m[\"ECL variation due to LGD changes\"].folder = \"ECL\""
   ]
  },
  {
   "cell_type": "code",
   "execution_count": 27,
   "metadata": {
    "execution": {
     "iopub.execute_input": "2021-02-09T06:42:01.687198Z",
     "iopub.status.busy": "2021-02-09T06:42:01.687063Z",
     "iopub.status.idle": "2021-02-09T06:42:01.778598Z",
     "shell.execute_reply": "2021-02-09T06:42:01.778057Z",
     "shell.execute_reply.started": "2021-02-09T06:42:01.687181Z"
    }
   },
   "outputs": [],
   "source": [
    "m['ecl_lgd_explain_stage_1'] = ecl_lgd_explain_stage_1"
   ]
  },
  {
   "cell_type": "code",
   "execution_count": 28,
   "metadata": {
    "execution": {
     "iopub.execute_input": "2021-02-09T06:42:01.779352Z",
     "iopub.status.busy": "2021-02-09T06:42:01.779219Z",
     "iopub.status.idle": "2021-02-09T06:42:01.868906Z",
     "shell.execute_reply": "2021-02-09T06:42:01.868319Z",
     "shell.execute_reply.started": "2021-02-09T06:42:01.779336Z"
    }
   },
   "outputs": [
    {
     "data": {
      "application/vnd.atoti.query-result.v0+json": {
       "context": {
        "queriesTimeLimit": 30
       },
       "createEquivalentWidgetCode": "session.visualize()",
       "mdx": "SELECT {[Measures].[ECL (Chg)],[Measures].[ECL variation due to PD changes],[Measures].[ECL variation due to LGD changes]} ON COLUMNS, NON EMPTY [Credit Risk].[Reporting Date].[Reporting Date].Members ON ROWS FROM [IFRS9]"
      },
      "text/html": [
       "<div>\n",
       "<style scoped>\n",
       "    .dataframe tbody tr th:only-of-type {\n",
       "        vertical-align: middle;\n",
       "    }\n",
       "\n",
       "    .dataframe tbody tr th {\n",
       "        vertical-align: top;\n",
       "    }\n",
       "\n",
       "    .dataframe thead th {\n",
       "        text-align: right;\n",
       "    }\n",
       "</style>\n",
       "<table border=\"1\" class=\"dataframe\">\n",
       "  <thead>\n",
       "    <tr style=\"text-align: right;\">\n",
       "      <th></th>\n",
       "      <th>ECL (Chg)</th>\n",
       "      <th>ECL variation due to PD changes</th>\n",
       "      <th>ECL variation due to LGD changes</th>\n",
       "    </tr>\n",
       "    <tr>\n",
       "      <th>Reporting Date</th>\n",
       "      <th></th>\n",
       "      <th></th>\n",
       "      <th></th>\n",
       "    </tr>\n",
       "  </thead>\n",
       "  <tbody>\n",
       "    <tr>\n",
       "      <th>2008-05-01</th>\n",
       "      <td>140,527.35</td>\n",
       "      <td>-8,653.69</td>\n",
       "      <td>-27,444.68</td>\n",
       "    </tr>\n",
       "    <tr>\n",
       "      <th>2008-04-01</th>\n",
       "      <td>865,030.58</td>\n",
       "      <td>11,950.13</td>\n",
       "      <td>429,292.95</td>\n",
       "    </tr>\n",
       "    <tr>\n",
       "      <th>2008-03-01</th>\n",
       "      <td>299,600.64</td>\n",
       "      <td>-1,507.30</td>\n",
       "      <td>-228,105.75</td>\n",
       "    </tr>\n",
       "    <tr>\n",
       "      <th>2008-02-01</th>\n",
       "      <td>190,547.30</td>\n",
       "      <td>-6,608.33</td>\n",
       "      <td>-134,600.61</td>\n",
       "    </tr>\n",
       "    <tr>\n",
       "      <th>2008-01-01</th>\n",
       "      <td>409,483.57</td>\n",
       "      <td>-23,895.24</td>\n",
       "      <td>69,042.44</td>\n",
       "    </tr>\n",
       "    <tr>\n",
       "      <th>2007-12-01</th>\n",
       "      <td>291,969.83</td>\n",
       "      <td>-2,989.29</td>\n",
       "      <td>24,414.87</td>\n",
       "    </tr>\n",
       "    <tr>\n",
       "      <th>2007-11-01</th>\n",
       "      <td>43,179.90</td>\n",
       "      <td>-2,621.78</td>\n",
       "      <td>-71,301.89</td>\n",
       "    </tr>\n",
       "    <tr>\n",
       "      <th>2007-10-01</th>\n",
       "      <td>117,013.91</td>\n",
       "      <td>-8,520.02</td>\n",
       "      <td>15,010.33</td>\n",
       "    </tr>\n",
       "    <tr>\n",
       "      <th>2007-09-01</th>\n",
       "      <td>66,590.04</td>\n",
       "      <td>3,404.91</td>\n",
       "      <td>-5,760.80</td>\n",
       "    </tr>\n",
       "    <tr>\n",
       "      <th>2007-08-01</th>\n",
       "      <td>49,984.58</td>\n",
       "      <td>-275.52</td>\n",
       "      <td>-6,087.88</td>\n",
       "    </tr>\n",
       "    <tr>\n",
       "      <th>2007-07-01</th>\n",
       "      <td>28,658.81</td>\n",
       "      <td>107.73</td>\n",
       "      <td>-1,549.97</td>\n",
       "    </tr>\n",
       "    <tr>\n",
       "      <th>2007-06-01</th>\n",
       "      <td>&lt;NA&gt;</td>\n",
       "      <td>.00</td>\n",
       "      <td>.00</td>\n",
       "    </tr>\n",
       "  </tbody>\n",
       "</table>\n",
       "</div>"
      ],
      "text/plain": [
       "                 ECL (Chg) ECL variation due to PD changes  \\\n",
       "Reporting Date                                               \n",
       "2008-05-01      140,527.35                       -8,653.69   \n",
       "2008-04-01      865,030.58                       11,950.13   \n",
       "2008-03-01      299,600.64                       -1,507.30   \n",
       "2008-02-01      190,547.30                       -6,608.33   \n",
       "2008-01-01      409,483.57                      -23,895.24   \n",
       "2007-12-01      291,969.83                       -2,989.29   \n",
       "2007-11-01       43,179.90                       -2,621.78   \n",
       "2007-10-01      117,013.91                       -8,520.02   \n",
       "2007-09-01       66,590.04                        3,404.91   \n",
       "2007-08-01       49,984.58                         -275.52   \n",
       "2007-07-01       28,658.81                          107.73   \n",
       "2007-06-01            <NA>                             .00   \n",
       "\n",
       "               ECL variation due to LGD changes  \n",
       "Reporting Date                                   \n",
       "2008-05-01                           -27,444.68  \n",
       "2008-04-01                           429,292.95  \n",
       "2008-03-01                          -228,105.75  \n",
       "2008-02-01                          -134,600.61  \n",
       "2008-01-01                            69,042.44  \n",
       "2007-12-01                            24,414.87  \n",
       "2007-11-01                           -71,301.89  \n",
       "2007-10-01                            15,010.33  \n",
       "2007-09-01                            -5,760.80  \n",
       "2007-08-01                            -6,087.88  \n",
       "2007-07-01                            -1,549.97  \n",
       "2007-06-01                                  .00  "
      ]
     },
     "execution_count": 28,
     "metadata": {},
     "output_type": "execute_result"
    }
   ],
   "source": [
    "cube.query(\n",
    "    m[\"ECL (Chg)\"],\n",
    "    m[\"ECL variation due to PD changes\"],\n",
    "    m[\"ECL variation due to LGD changes\"],\n",
    "    levels=[l[\"Reporting Date\"]],\n",
    ")"
   ]
  },
  {
   "cell_type": "code",
   "execution_count": 29,
   "metadata": {
    "execution": {
     "iopub.execute_input": "2021-02-09T06:42:01.870100Z",
     "iopub.status.busy": "2021-02-09T06:42:01.869688Z",
     "iopub.status.idle": "2021-02-09T06:42:01.874900Z",
     "shell.execute_reply": "2021-02-09T06:42:01.874224Z",
     "shell.execute_reply.started": "2021-02-09T06:42:01.870066Z"
    }
   },
   "outputs": [
    {
     "data": {
      "text/plain": [
       "'http://localhost:56221'"
      ]
     },
     "execution_count": 29,
     "metadata": {},
     "output_type": "execute_result"
    }
   ],
   "source": [
    "session.url"
   ]
  },
  {
   "cell_type": "markdown",
   "metadata": {},
   "source": [
    "## ECL variation due to EAD changes"
   ]
  },
  {
   "cell_type": "code",
   "execution_count": 30,
   "metadata": {
    "execution": {
     "iopub.execute_input": "2021-02-09T06:42:01.876043Z",
     "iopub.status.busy": "2021-02-09T06:42:01.875666Z",
     "iopub.status.idle": "2021-02-09T06:42:02.221863Z",
     "shell.execute_reply": "2021-02-09T06:42:02.221293Z",
     "shell.execute_reply.started": "2021-02-09T06:42:01.876007Z"
    }
   },
   "outputs": [],
   "source": [
    "ecl_ead_explain_stage_1 = tt.agg.sum_product(\n",
    "    risk_engine_data[\"LGD\"],\n",
    "    risk_engine_data[\"Previous EAD\"],\n",
    "    risk_engine_data[\"PD12\"],\n",
    ")\n",
    "ecl_ead_explain_stage_2 = tt.agg.sum_product(\n",
    "    risk_engine_data[\"LGD\"],\n",
    "    risk_engine_data[\"Previous EAD\"],\n",
    "    risk_engine_data[\"PDLT\"],\n",
    ")\n",
    "ecl_ead_explain_stage_3 = tt.agg.sum_product(\n",
    "    risk_engine_data[\"LGD\"], risk_engine_data[\"Previous EAD\"]\n",
    ")\n",
    "\n",
    "m[\"ECL with previous EAD\"] = (\n",
    "    tt.filter(ecl_ead_explain_stage_1, l[\"Stage\"] == 1)\n",
    "    + tt.filter(ecl_ead_explain_stage_2, l[\"Stage\"] == 2)\n",
    "    + tt.filter(ecl_ead_explain_stage_3, l[\"Stage\"] == 3)\n",
    ")\n",
    "\n",
    "m[\"ECL variation due to EAD changes\"] = m[\"ECL\"] - m[\"ECL with previous EAD\"]\n",
    "m[\"ECL variation due to EAD changes\"].folder = \"ECL\""
   ]
  },
  {
   "cell_type": "code",
   "execution_count": 31,
   "metadata": {
    "execution": {
     "iopub.execute_input": "2021-02-09T06:42:02.222864Z",
     "iopub.status.busy": "2021-02-09T06:42:02.222641Z",
     "iopub.status.idle": "2021-02-09T06:42:02.312486Z",
     "shell.execute_reply": "2021-02-09T06:42:02.311632Z",
     "shell.execute_reply.started": "2021-02-09T06:42:02.222844Z"
    }
   },
   "outputs": [
    {
     "data": {
      "application/vnd.atoti.query-result.v0+json": {
       "context": {
        "queriesTimeLimit": 30
       },
       "createEquivalentWidgetCode": "session.visualize()",
       "mdx": "SELECT {[Measures].[ECL (Chg)],[Measures].[ECL variation due to PD changes],[Measures].[ECL variation due to LGD changes],[Measures].[ECL variation due to EAD changes]} ON COLUMNS, NON EMPTY [Credit Risk].[Reporting Date].[Reporting Date].Members ON ROWS FROM [IFRS9]"
      },
      "text/html": [
       "<div>\n",
       "<style scoped>\n",
       "    .dataframe tbody tr th:only-of-type {\n",
       "        vertical-align: middle;\n",
       "    }\n",
       "\n",
       "    .dataframe tbody tr th {\n",
       "        vertical-align: top;\n",
       "    }\n",
       "\n",
       "    .dataframe thead th {\n",
       "        text-align: right;\n",
       "    }\n",
       "</style>\n",
       "<table border=\"1\" class=\"dataframe\">\n",
       "  <thead>\n",
       "    <tr style=\"text-align: right;\">\n",
       "      <th></th>\n",
       "      <th>ECL (Chg)</th>\n",
       "      <th>ECL variation due to PD changes</th>\n",
       "      <th>ECL variation due to LGD changes</th>\n",
       "      <th>ECL variation due to EAD changes</th>\n",
       "    </tr>\n",
       "    <tr>\n",
       "      <th>Reporting Date</th>\n",
       "      <th></th>\n",
       "      <th></th>\n",
       "      <th></th>\n",
       "      <th></th>\n",
       "    </tr>\n",
       "  </thead>\n",
       "  <tbody>\n",
       "    <tr>\n",
       "      <th>2008-05-01</th>\n",
       "      <td>140,527.35</td>\n",
       "      <td>-8,653.69</td>\n",
       "      <td>-27,444.68</td>\n",
       "      <td>12,252.35</td>\n",
       "    </tr>\n",
       "    <tr>\n",
       "      <th>2008-04-01</th>\n",
       "      <td>865,030.58</td>\n",
       "      <td>11,950.13</td>\n",
       "      <td>429,292.95</td>\n",
       "      <td>4,742.16</td>\n",
       "    </tr>\n",
       "    <tr>\n",
       "      <th>2008-03-01</th>\n",
       "      <td>299,600.64</td>\n",
       "      <td>-1,507.30</td>\n",
       "      <td>-228,105.75</td>\n",
       "      <td>30,296.53</td>\n",
       "    </tr>\n",
       "    <tr>\n",
       "      <th>2008-02-01</th>\n",
       "      <td>190,547.30</td>\n",
       "      <td>-6,608.33</td>\n",
       "      <td>-134,600.61</td>\n",
       "      <td>-58,492.08</td>\n",
       "    </tr>\n",
       "    <tr>\n",
       "      <th>2008-01-01</th>\n",
       "      <td>409,483.57</td>\n",
       "      <td>-23,895.24</td>\n",
       "      <td>69,042.44</td>\n",
       "      <td>69,795.52</td>\n",
       "    </tr>\n",
       "    <tr>\n",
       "      <th>2007-12-01</th>\n",
       "      <td>291,969.83</td>\n",
       "      <td>-2,989.29</td>\n",
       "      <td>24,414.87</td>\n",
       "      <td>45,794.83</td>\n",
       "    </tr>\n",
       "    <tr>\n",
       "      <th>2007-11-01</th>\n",
       "      <td>43,179.90</td>\n",
       "      <td>-2,621.78</td>\n",
       "      <td>-71,301.89</td>\n",
       "      <td>9,232.20</td>\n",
       "    </tr>\n",
       "    <tr>\n",
       "      <th>2007-10-01</th>\n",
       "      <td>117,013.91</td>\n",
       "      <td>-8,520.02</td>\n",
       "      <td>15,010.33</td>\n",
       "      <td>-11,024.92</td>\n",
       "    </tr>\n",
       "    <tr>\n",
       "      <th>2007-09-01</th>\n",
       "      <td>66,590.04</td>\n",
       "      <td>3,404.91</td>\n",
       "      <td>-5,760.80</td>\n",
       "      <td>7,167.92</td>\n",
       "    </tr>\n",
       "    <tr>\n",
       "      <th>2007-08-01</th>\n",
       "      <td>49,984.58</td>\n",
       "      <td>-275.52</td>\n",
       "      <td>-6,087.88</td>\n",
       "      <td>-4,199.57</td>\n",
       "    </tr>\n",
       "    <tr>\n",
       "      <th>2007-07-01</th>\n",
       "      <td>28,658.81</td>\n",
       "      <td>107.73</td>\n",
       "      <td>-1,549.97</td>\n",
       "      <td>276.00</td>\n",
       "    </tr>\n",
       "    <tr>\n",
       "      <th>2007-06-01</th>\n",
       "      <td>&lt;NA&gt;</td>\n",
       "      <td>.00</td>\n",
       "      <td>.00</td>\n",
       "      <td>.00</td>\n",
       "    </tr>\n",
       "  </tbody>\n",
       "</table>\n",
       "</div>"
      ],
      "text/plain": [
       "                 ECL (Chg) ECL variation due to PD changes  \\\n",
       "Reporting Date                                               \n",
       "2008-05-01      140,527.35                       -8,653.69   \n",
       "2008-04-01      865,030.58                       11,950.13   \n",
       "2008-03-01      299,600.64                       -1,507.30   \n",
       "2008-02-01      190,547.30                       -6,608.33   \n",
       "2008-01-01      409,483.57                      -23,895.24   \n",
       "2007-12-01      291,969.83                       -2,989.29   \n",
       "2007-11-01       43,179.90                       -2,621.78   \n",
       "2007-10-01      117,013.91                       -8,520.02   \n",
       "2007-09-01       66,590.04                        3,404.91   \n",
       "2007-08-01       49,984.58                         -275.52   \n",
       "2007-07-01       28,658.81                          107.73   \n",
       "2007-06-01            <NA>                             .00   \n",
       "\n",
       "               ECL variation due to LGD changes  \\\n",
       "Reporting Date                                    \n",
       "2008-05-01                           -27,444.68   \n",
       "2008-04-01                           429,292.95   \n",
       "2008-03-01                          -228,105.75   \n",
       "2008-02-01                          -134,600.61   \n",
       "2008-01-01                            69,042.44   \n",
       "2007-12-01                            24,414.87   \n",
       "2007-11-01                           -71,301.89   \n",
       "2007-10-01                            15,010.33   \n",
       "2007-09-01                            -5,760.80   \n",
       "2007-08-01                            -6,087.88   \n",
       "2007-07-01                            -1,549.97   \n",
       "2007-06-01                                  .00   \n",
       "\n",
       "               ECL variation due to EAD changes  \n",
       "Reporting Date                                   \n",
       "2008-05-01                            12,252.35  \n",
       "2008-04-01                             4,742.16  \n",
       "2008-03-01                            30,296.53  \n",
       "2008-02-01                           -58,492.08  \n",
       "2008-01-01                            69,795.52  \n",
       "2007-12-01                            45,794.83  \n",
       "2007-11-01                             9,232.20  \n",
       "2007-10-01                           -11,024.92  \n",
       "2007-09-01                             7,167.92  \n",
       "2007-08-01                            -4,199.57  \n",
       "2007-07-01                               276.00  \n",
       "2007-06-01                                  .00  "
      ]
     },
     "execution_count": 31,
     "metadata": {},
     "output_type": "execute_result"
    }
   ],
   "source": [
    "cube.query(\n",
    "    m[\"ECL (Chg)\"],\n",
    "    m[\"ECL variation due to PD changes\"],\n",
    "    m[\"ECL variation due to LGD changes\"],\n",
    "    m[\"ECL variation due to EAD changes\"],\n",
    "    levels=[l[\"Reporting Date\"]],\n",
    ")"
   ]
  },
  {
   "cell_type": "markdown",
   "metadata": {},
   "source": [
    "## Unexplained variation"
   ]
  },
  {
   "cell_type": "code",
   "execution_count": 32,
   "metadata": {
    "execution": {
     "iopub.execute_input": "2021-02-09T06:42:02.313874Z",
     "iopub.status.busy": "2021-02-09T06:42:02.313457Z",
     "iopub.status.idle": "2021-02-09T06:42:02.441791Z",
     "shell.execute_reply": "2021-02-09T06:42:02.441206Z",
     "shell.execute_reply.started": "2021-02-09T06:42:02.313816Z"
    }
   },
   "outputs": [],
   "source": [
    "m[\"ECL unexplained variation\"] = (\n",
    "    m[\"ECL (Chg)\"]\n",
    "    - m[\"ECL variation due to PD changes\"]\n",
    "    - m[\"ECL variation due to LGD changes\"]\n",
    "    - m[\"ECL variation due to EAD changes\"]\n",
    ")"
   ]
  },
  {
   "cell_type": "code",
   "execution_count": 33,
   "metadata": {
    "execution": {
     "iopub.execute_input": "2021-02-09T06:42:02.442987Z",
     "iopub.status.busy": "2021-02-09T06:42:02.442598Z",
     "iopub.status.idle": "2021-02-09T06:42:02.534779Z",
     "shell.execute_reply": "2021-02-09T06:42:02.533911Z",
     "shell.execute_reply.started": "2021-02-09T06:42:02.442942Z"
    }
   },
   "outputs": [
    {
     "data": {
      "application/vnd.atoti.query-result.v0+json": {
       "context": {
        "queriesTimeLimit": 30
       },
       "createEquivalentWidgetCode": "session.visualize()",
       "mdx": "SELECT {[Measures].[ECL (Chg)],[Measures].[ECL variation due to PD changes],[Measures].[ECL variation due to LGD changes],[Measures].[ECL variation due to EAD changes],[Measures].[ECL unexplained variation]} ON COLUMNS, NON EMPTY [Credit Risk].[Reporting Date].[Reporting Date].Members ON ROWS FROM [IFRS9]"
      },
      "text/html": [
       "<div>\n",
       "<style scoped>\n",
       "    .dataframe tbody tr th:only-of-type {\n",
       "        vertical-align: middle;\n",
       "    }\n",
       "\n",
       "    .dataframe tbody tr th {\n",
       "        vertical-align: top;\n",
       "    }\n",
       "\n",
       "    .dataframe thead th {\n",
       "        text-align: right;\n",
       "    }\n",
       "</style>\n",
       "<table border=\"1\" class=\"dataframe\">\n",
       "  <thead>\n",
       "    <tr style=\"text-align: right;\">\n",
       "      <th></th>\n",
       "      <th>ECL (Chg)</th>\n",
       "      <th>ECL variation due to PD changes</th>\n",
       "      <th>ECL variation due to LGD changes</th>\n",
       "      <th>ECL variation due to EAD changes</th>\n",
       "      <th>ECL unexplained variation</th>\n",
       "    </tr>\n",
       "    <tr>\n",
       "      <th>Reporting Date</th>\n",
       "      <th></th>\n",
       "      <th></th>\n",
       "      <th></th>\n",
       "      <th></th>\n",
       "      <th></th>\n",
       "    </tr>\n",
       "  </thead>\n",
       "  <tbody>\n",
       "    <tr>\n",
       "      <th>2008-05-01</th>\n",
       "      <td>140,527.35</td>\n",
       "      <td>-8,653.69</td>\n",
       "      <td>-27,444.68</td>\n",
       "      <td>12,252.35</td>\n",
       "      <td>164,373.37</td>\n",
       "    </tr>\n",
       "    <tr>\n",
       "      <th>2008-04-01</th>\n",
       "      <td>865,030.58</td>\n",
       "      <td>11,950.13</td>\n",
       "      <td>429,292.95</td>\n",
       "      <td>4,742.16</td>\n",
       "      <td>419,045.34</td>\n",
       "    </tr>\n",
       "    <tr>\n",
       "      <th>2008-03-01</th>\n",
       "      <td>299,600.64</td>\n",
       "      <td>-1,507.30</td>\n",
       "      <td>-228,105.75</td>\n",
       "      <td>30,296.53</td>\n",
       "      <td>498,917.16</td>\n",
       "    </tr>\n",
       "    <tr>\n",
       "      <th>2008-02-01</th>\n",
       "      <td>190,547.30</td>\n",
       "      <td>-6,608.33</td>\n",
       "      <td>-134,600.61</td>\n",
       "      <td>-58,492.08</td>\n",
       "      <td>390,248.32</td>\n",
       "    </tr>\n",
       "    <tr>\n",
       "      <th>2008-01-01</th>\n",
       "      <td>409,483.57</td>\n",
       "      <td>-23,895.24</td>\n",
       "      <td>69,042.44</td>\n",
       "      <td>69,795.52</td>\n",
       "      <td>294,540.85</td>\n",
       "    </tr>\n",
       "    <tr>\n",
       "      <th>2007-12-01</th>\n",
       "      <td>291,969.83</td>\n",
       "      <td>-2,989.29</td>\n",
       "      <td>24,414.87</td>\n",
       "      <td>45,794.83</td>\n",
       "      <td>224,749.43</td>\n",
       "    </tr>\n",
       "    <tr>\n",
       "      <th>2007-11-01</th>\n",
       "      <td>43,179.90</td>\n",
       "      <td>-2,621.78</td>\n",
       "      <td>-71,301.89</td>\n",
       "      <td>9,232.20</td>\n",
       "      <td>107,871.37</td>\n",
       "    </tr>\n",
       "    <tr>\n",
       "      <th>2007-10-01</th>\n",
       "      <td>117,013.91</td>\n",
       "      <td>-8,520.02</td>\n",
       "      <td>15,010.33</td>\n",
       "      <td>-11,024.92</td>\n",
       "      <td>121,548.51</td>\n",
       "    </tr>\n",
       "    <tr>\n",
       "      <th>2007-09-01</th>\n",
       "      <td>66,590.04</td>\n",
       "      <td>3,404.91</td>\n",
       "      <td>-5,760.80</td>\n",
       "      <td>7,167.92</td>\n",
       "      <td>61,778.01</td>\n",
       "    </tr>\n",
       "    <tr>\n",
       "      <th>2007-08-01</th>\n",
       "      <td>49,984.58</td>\n",
       "      <td>-275.52</td>\n",
       "      <td>-6,087.88</td>\n",
       "      <td>-4,199.57</td>\n",
       "      <td>60,547.55</td>\n",
       "    </tr>\n",
       "    <tr>\n",
       "      <th>2007-07-01</th>\n",
       "      <td>28,658.81</td>\n",
       "      <td>107.73</td>\n",
       "      <td>-1,549.97</td>\n",
       "      <td>276.00</td>\n",
       "      <td>29,825.05</td>\n",
       "    </tr>\n",
       "    <tr>\n",
       "      <th>2007-06-01</th>\n",
       "      <td>&lt;NA&gt;</td>\n",
       "      <td>.00</td>\n",
       "      <td>.00</td>\n",
       "      <td>.00</td>\n",
       "      <td>-.00</td>\n",
       "    </tr>\n",
       "  </tbody>\n",
       "</table>\n",
       "</div>"
      ],
      "text/plain": [
       "                 ECL (Chg) ECL variation due to PD changes  \\\n",
       "Reporting Date                                               \n",
       "2008-05-01      140,527.35                       -8,653.69   \n",
       "2008-04-01      865,030.58                       11,950.13   \n",
       "2008-03-01      299,600.64                       -1,507.30   \n",
       "2008-02-01      190,547.30                       -6,608.33   \n",
       "2008-01-01      409,483.57                      -23,895.24   \n",
       "2007-12-01      291,969.83                       -2,989.29   \n",
       "2007-11-01       43,179.90                       -2,621.78   \n",
       "2007-10-01      117,013.91                       -8,520.02   \n",
       "2007-09-01       66,590.04                        3,404.91   \n",
       "2007-08-01       49,984.58                         -275.52   \n",
       "2007-07-01       28,658.81                          107.73   \n",
       "2007-06-01            <NA>                             .00   \n",
       "\n",
       "               ECL variation due to LGD changes  \\\n",
       "Reporting Date                                    \n",
       "2008-05-01                           -27,444.68   \n",
       "2008-04-01                           429,292.95   \n",
       "2008-03-01                          -228,105.75   \n",
       "2008-02-01                          -134,600.61   \n",
       "2008-01-01                            69,042.44   \n",
       "2007-12-01                            24,414.87   \n",
       "2007-11-01                           -71,301.89   \n",
       "2007-10-01                            15,010.33   \n",
       "2007-09-01                            -5,760.80   \n",
       "2007-08-01                            -6,087.88   \n",
       "2007-07-01                            -1,549.97   \n",
       "2007-06-01                                  .00   \n",
       "\n",
       "               ECL variation due to EAD changes ECL unexplained variation  \n",
       "Reporting Date                                                             \n",
       "2008-05-01                            12,252.35                164,373.37  \n",
       "2008-04-01                             4,742.16                419,045.34  \n",
       "2008-03-01                            30,296.53                498,917.16  \n",
       "2008-02-01                           -58,492.08                390,248.32  \n",
       "2008-01-01                            69,795.52                294,540.85  \n",
       "2007-12-01                            45,794.83                224,749.43  \n",
       "2007-11-01                             9,232.20                107,871.37  \n",
       "2007-10-01                           -11,024.92                121,548.51  \n",
       "2007-09-01                             7,167.92                 61,778.01  \n",
       "2007-08-01                            -4,199.57                 60,547.55  \n",
       "2007-07-01                               276.00                 29,825.05  \n",
       "2007-06-01                                  .00                      -.00  "
      ]
     },
     "execution_count": 33,
     "metadata": {},
     "output_type": "execute_result"
    }
   ],
   "source": [
    "cube.query(\n",
    "    m[\"ECL (Chg)\"],\n",
    "    m[\"ECL variation due to PD changes\"],\n",
    "    m[\"ECL variation due to LGD changes\"],\n",
    "    m[\"ECL variation due to EAD changes\"],\n",
    "    m[\"ECL unexplained variation\"],\n",
    "    levels=[l[\"Reporting Date\"]],\n",
    ")"
   ]
  },
  {
   "cell_type": "markdown",
   "metadata": {},
   "source": [
    "# Vintage analysis"
   ]
  },
  {
   "cell_type": "markdown",
   "metadata": {},
   "source": [
    "In vintage analysis, the portfolio is broken down into “vintages” based on the origination month. This is because credit portfolios follow a certain lifecycle pattern with more loans defaulting in the first months of inception and stabilizing after a certain period. \n",
    "\n",
    "The Vintage analysis is simple in our IFRS 9 app:\n",
    "\n",
    "- to break the portfolio into vintages, we will use \"Opening date\" hierarchy and put it on the rows if a pivot table\n",
    "- then to observe the evolution of portfolio through time - we will put the \"Reporting Date\" hierarchy onto the columns of a pivot table.\n",
    "\n",
    "Then inside the pivot table, we can display any measure you want, for example, ECL, EAD, % of customers past due, % of loans past due. "
   ]
  },
  {
   "cell_type": "markdown",
   "metadata": {},
   "source": [
    "Let's take an example of the % of loans past due and create a special measure to visualize it.\n",
    "\n",
    "Total number of loans is available in the native cube measure \"contributors.COUNT\":"
   ]
  },
  {
   "cell_type": "code",
   "execution_count": 34,
   "metadata": {
    "execution": {
     "iopub.execute_input": "2021-02-09T06:42:02.536209Z",
     "iopub.status.busy": "2021-02-09T06:42:02.535876Z",
     "iopub.status.idle": "2021-02-09T06:42:02.606002Z",
     "shell.execute_reply": "2021-02-09T06:42:02.605005Z",
     "shell.execute_reply.started": "2021-02-09T06:42:02.536182Z"
    }
   },
   "outputs": [
    {
     "data": {
      "application/vnd.atoti.query-result.v0+json": {
       "context": {
        "queriesTimeLimit": 30
       },
       "createEquivalentWidgetCode": "session.visualize()",
       "mdx": "SELECT [Measures].[contributors.COUNT] ON COLUMNS, NON EMPTY [Credit Risk].[Reporting Date].[Reporting Date].Members ON ROWS FROM [IFRS9]"
      },
      "text/html": [
       "<div>\n",
       "<style scoped>\n",
       "    .dataframe tbody tr th:only-of-type {\n",
       "        vertical-align: middle;\n",
       "    }\n",
       "\n",
       "    .dataframe tbody tr th {\n",
       "        vertical-align: top;\n",
       "    }\n",
       "\n",
       "    .dataframe thead th {\n",
       "        text-align: right;\n",
       "    }\n",
       "</style>\n",
       "<table border=\"1\" class=\"dataframe\">\n",
       "  <thead>\n",
       "    <tr style=\"text-align: right;\">\n",
       "      <th></th>\n",
       "      <th>contributors.COUNT</th>\n",
       "    </tr>\n",
       "    <tr>\n",
       "      <th>Reporting Date</th>\n",
       "      <th></th>\n",
       "    </tr>\n",
       "  </thead>\n",
       "  <tbody>\n",
       "    <tr>\n",
       "      <th>2008-05-01</th>\n",
       "      <td>1,990</td>\n",
       "    </tr>\n",
       "    <tr>\n",
       "      <th>2008-04-01</th>\n",
       "      <td>1,875</td>\n",
       "    </tr>\n",
       "    <tr>\n",
       "      <th>2008-03-01</th>\n",
       "      <td>1,616</td>\n",
       "    </tr>\n",
       "    <tr>\n",
       "      <th>2008-02-01</th>\n",
       "      <td>1,214</td>\n",
       "    </tr>\n",
       "    <tr>\n",
       "      <th>2008-01-01</th>\n",
       "      <td>908</td>\n",
       "    </tr>\n",
       "    <tr>\n",
       "      <th>2007-12-01</th>\n",
       "      <td>603</td>\n",
       "    </tr>\n",
       "    <tr>\n",
       "      <th>2007-11-01</th>\n",
       "      <td>431</td>\n",
       "    </tr>\n",
       "    <tr>\n",
       "      <th>2007-10-01</th>\n",
       "      <td>319</td>\n",
       "    </tr>\n",
       "    <tr>\n",
       "      <th>2007-09-01</th>\n",
       "      <td>214</td>\n",
       "    </tr>\n",
       "    <tr>\n",
       "      <th>2007-08-01</th>\n",
       "      <td>161</td>\n",
       "    </tr>\n",
       "    <tr>\n",
       "      <th>2007-07-01</th>\n",
       "      <td>87</td>\n",
       "    </tr>\n",
       "    <tr>\n",
       "      <th>2007-06-01</th>\n",
       "      <td>24</td>\n",
       "    </tr>\n",
       "  </tbody>\n",
       "</table>\n",
       "</div>"
      ],
      "text/plain": [
       "               contributors.COUNT\n",
       "Reporting Date                   \n",
       "2008-05-01                  1,990\n",
       "2008-04-01                  1,875\n",
       "2008-03-01                  1,616\n",
       "2008-02-01                  1,214\n",
       "2008-01-01                    908\n",
       "2007-12-01                    603\n",
       "2007-11-01                    431\n",
       "2007-10-01                    319\n",
       "2007-09-01                    214\n",
       "2007-08-01                    161\n",
       "2007-07-01                     87\n",
       "2007-06-01                     24"
      ]
     },
     "execution_count": 34,
     "metadata": {},
     "output_type": "execute_result"
    }
   ],
   "source": [
    "cube.query(m[\"contributors.COUNT\"], levels=l[\"Reporting Date\"])"
   ]
  },
  {
   "cell_type": "markdown",
   "metadata": {},
   "source": [
    "The number of contracts having more than 30 days past due: "
   ]
  },
  {
   "cell_type": "code",
   "execution_count": 35,
   "metadata": {
    "execution": {
     "iopub.execute_input": "2021-02-09T06:42:02.607594Z",
     "iopub.status.busy": "2021-02-09T06:42:02.607151Z",
     "iopub.status.idle": "2021-02-09T06:42:02.725744Z",
     "shell.execute_reply": "2021-02-09T06:42:02.725226Z",
     "shell.execute_reply.started": "2021-02-09T06:42:02.607559Z"
    }
   },
   "outputs": [],
   "source": [
    "m[\"PastDueDaysThreshold\"] = 30"
   ]
  },
  {
   "cell_type": "markdown",
   "metadata": {},
   "source": [
    "Below I'm creating various possibilities for the days past due threshold parameter. I will be able to choose them from a hierarchy:"
   ]
  },
  {
   "cell_type": "code",
   "execution_count": 36,
   "metadata": {
    "execution": {
     "iopub.execute_input": "2021-02-09T06:42:02.726537Z",
     "iopub.status.busy": "2021-02-09T06:42:02.726381Z",
     "iopub.status.idle": "2021-02-09T06:42:03.316485Z",
     "shell.execute_reply": "2021-02-09T06:42:03.315856Z",
     "shell.execute_reply.started": "2021-02-09T06:42:02.726517Z"
    }
   },
   "outputs": [],
   "source": [
    "PastDueDaysThresholds = cube.setup_simulation(\n",
    "    \"PastDueDaysThresholds\",\n",
    "    replace=[m[\"PastDueDaysThreshold\"]],\n",
    "    base_scenario=\">30 days\",\n",
    ").scenarios\n",
    "\n",
    "PastDueDaysThresholds[\">60 days\"] = 60\n",
    "PastDueDaysThresholds[\">90 days\"] = 90"
   ]
  },
  {
   "cell_type": "code",
   "execution_count": 37,
   "metadata": {
    "execution": {
     "iopub.execute_input": "2021-02-09T06:42:03.317718Z",
     "iopub.status.busy": "2021-02-09T06:42:03.317355Z",
     "iopub.status.idle": "2021-02-09T06:42:03.724705Z",
     "shell.execute_reply": "2021-02-09T06:42:03.724186Z",
     "shell.execute_reply.started": "2021-02-09T06:42:03.317691Z"
    }
   },
   "outputs": [],
   "source": [
    "# Indicator - let's assume that a loan is classified as a past due due after 30 days of being \"past due\".\n",
    "m[\"DaysPastDue\"] = tt.value(risk_engine_data[\"DaysPastDue\"])\n",
    "\n",
    "# Number of contracts past due:\n",
    "m[\"Num_Contracts_Past_due\"] = tt.agg.sum(\n",
    "    tt.where(m[\"DaysPastDue\"] > m[\"PastDueDaysThreshold\"], 1.0, 0.0),\n",
    "    scope=tt.scope.origin(l[\"id\"]),\n",
    ")\n",
    "\n",
    "m[\"% past due\"] = m[\"Num_Contracts_Past_due\"] / m[\"contributors.COUNT\"]\n",
    "m[\"% past due\"].formatter = \"DOUBLE[#,###.##%]\""
   ]
  },
  {
   "cell_type": "code",
   "execution_count": 38,
   "metadata": {
    "execution": {
     "iopub.execute_input": "2021-02-09T06:42:03.725475Z",
     "iopub.status.busy": "2021-02-09T06:42:03.725343Z",
     "iopub.status.idle": "2021-02-09T06:42:03.902501Z",
     "shell.execute_reply": "2021-02-09T06:42:03.901847Z",
     "shell.execute_reply.started": "2021-02-09T06:42:03.725458Z"
    }
   },
   "outputs": [
    {
     "data": {
      "application/vnd.atoti.query-result.v0+json": {
       "context": {
        "queriesTimeLimit": 30
       },
       "createEquivalentWidgetCode": "session.visualize()",
       "mdx": "SELECT [Measures].[% past due] ON COLUMNS, NON EMPTY [Credit Risk].[Reporting Date].[Reporting Date].Members ON ROWS FROM [IFRS9]"
      },
      "text/html": [
       "<div>\n",
       "<style scoped>\n",
       "    .dataframe tbody tr th:only-of-type {\n",
       "        vertical-align: middle;\n",
       "    }\n",
       "\n",
       "    .dataframe tbody tr th {\n",
       "        vertical-align: top;\n",
       "    }\n",
       "\n",
       "    .dataframe thead th {\n",
       "        text-align: right;\n",
       "    }\n",
       "</style>\n",
       "<table border=\"1\" class=\"dataframe\">\n",
       "  <thead>\n",
       "    <tr style=\"text-align: right;\">\n",
       "      <th></th>\n",
       "      <th>% past due</th>\n",
       "    </tr>\n",
       "    <tr>\n",
       "      <th>Reporting Date</th>\n",
       "      <th></th>\n",
       "    </tr>\n",
       "  </thead>\n",
       "  <tbody>\n",
       "    <tr>\n",
       "      <th>2008-05-01</th>\n",
       "      <td>2.81%</td>\n",
       "    </tr>\n",
       "    <tr>\n",
       "      <th>2008-04-01</th>\n",
       "      <td>1.87%</td>\n",
       "    </tr>\n",
       "    <tr>\n",
       "      <th>2008-03-01</th>\n",
       "      <td>1.36%</td>\n",
       "    </tr>\n",
       "    <tr>\n",
       "      <th>2008-02-01</th>\n",
       "      <td>1.15%</td>\n",
       "    </tr>\n",
       "    <tr>\n",
       "      <th>2008-01-01</th>\n",
       "      <td>0.99%</td>\n",
       "    </tr>\n",
       "    <tr>\n",
       "      <th>2007-12-01</th>\n",
       "      <td>0.83%</td>\n",
       "    </tr>\n",
       "    <tr>\n",
       "      <th>2007-11-01</th>\n",
       "      <td>0.93%</td>\n",
       "    </tr>\n",
       "    <tr>\n",
       "      <th>2007-10-01</th>\n",
       "      <td>0.63%</td>\n",
       "    </tr>\n",
       "    <tr>\n",
       "      <th>2007-09-01</th>\n",
       "      <td>0.93%</td>\n",
       "    </tr>\n",
       "    <tr>\n",
       "      <th>2007-08-01</th>\n",
       "      <td>0%</td>\n",
       "    </tr>\n",
       "    <tr>\n",
       "      <th>2007-07-01</th>\n",
       "      <td>0%</td>\n",
       "    </tr>\n",
       "    <tr>\n",
       "      <th>2007-06-01</th>\n",
       "      <td>0%</td>\n",
       "    </tr>\n",
       "  </tbody>\n",
       "</table>\n",
       "</div>"
      ],
      "text/plain": [
       "               % past due\n",
       "Reporting Date           \n",
       "2008-05-01          2.81%\n",
       "2008-04-01          1.87%\n",
       "2008-03-01          1.36%\n",
       "2008-02-01          1.15%\n",
       "2008-01-01          0.99%\n",
       "2007-12-01          0.83%\n",
       "2007-11-01          0.93%\n",
       "2007-10-01          0.63%\n",
       "2007-09-01          0.93%\n",
       "2007-08-01             0%\n",
       "2007-07-01             0%\n",
       "2007-06-01             0%"
      ]
     },
     "execution_count": 38,
     "metadata": {},
     "output_type": "execute_result"
    }
   ],
   "source": [
    "cube.query(m[\"% past due\"], levels=[l[\"Reporting Date\"]])"
   ]
  },
  {
   "cell_type": "markdown",
   "metadata": {},
   "source": [
    "# Annex I: LendingClub data viz\n",
    "\n",
    "In this section we will create measures visualizing the LendingClub data."
   ]
  },
  {
   "cell_type": "code",
   "execution_count": 39,
   "metadata": {
    "execution": {
     "iopub.execute_input": "2021-02-09T06:43:00.935869Z",
     "iopub.status.busy": "2021-02-09T06:43:00.935594Z",
     "iopub.status.idle": "2021-02-09T06:44:00.216113Z",
     "shell.execute_reply": "2021-02-09T06:44:00.212400Z",
     "shell.execute_reply.started": "2021-02-09T06:43:00.935838Z"
    }
   },
   "outputs": [],
   "source": [
    "session.load_all_data()"
   ]
  },
  {
   "cell_type": "markdown",
   "metadata": {},
   "source": [
    "## Loan amount"
   ]
  },
  {
   "cell_type": "code",
   "execution_count": 40,
   "metadata": {
    "execution": {
     "iopub.execute_input": "2021-02-09T06:44:00.222085Z",
     "iopub.status.busy": "2021-02-09T06:44:00.221773Z",
     "iopub.status.idle": "2021-02-09T06:44:51.860084Z",
     "shell.execute_reply": "2021-02-09T06:44:51.857956Z",
     "shell.execute_reply.started": "2021-02-09T06:44:00.222062Z"
    }
   },
   "outputs": [],
   "source": [
    "# The listed amount of the loan applied for by the borrower. \n",
    "m['loan_amount'] = tt.agg.sum(lending_club_data['loan_amnt'])\n",
    "m['loan_amount'].folder = \"LendingClub\"\n",
    "# Average loan amount:\n",
    "m['loan_amount.MEAN'] = tt.agg.mean(lending_club_data['loan_amnt'])\n",
    "m['loan_amount.MEAN'].folder = \"LendingClub\""
   ]
  },
  {
   "cell_type": "code",
   "execution_count": 51,
   "metadata": {
    "atoti": {
     "widget": {
      "mapping": {
       "horizontalSubplots": [],
       "stackBy": [
        "ALL_MEASURES"
       ],
       "values": [
        "[Measures].[loan_amount]"
       ],
       "verticalSubplots": [],
       "xAxis": [
        "[Lending Club Data].[issue_d].[issue_d]"
       ]
      },
      "query": {
       "mdx": "SELECT NON EMPTY {[Measures].[loan_amount]} ON COLUMNS, NON EMPTY Hierarchize(Descendants({[Lending Club Data].[issue_d].[AllMember]}, 1, SELF_AND_BEFORE)) ON ROWS FROM [IFRS9]",
       "updateMode": "once"
      },
      "serverKey": "default",
      "widgetKey": "plotly-stacked-column-chart"
     }
    },
    "execution": {
     "iopub.execute_input": "2021-02-09T06:46:47.699398Z",
     "iopub.status.busy": "2021-02-09T06:46:47.699053Z",
     "iopub.status.idle": "2021-02-09T06:46:47.959437Z",
     "shell.execute_reply": "2021-02-09T06:46:47.958313Z",
     "shell.execute_reply.started": "2021-02-09T06:46:47.699346Z"
    }
   },
   "outputs": [
    {
     "data": {
      "application/vnd.atoti.v0+json": {
       "name": "Total loan amount",
       "session": "Unnamed"
      },
      "text/html": [
       "<img src=\"data:image/svg+xml;charset=utf8,%3C%3Fxml%20version%3D%221.0%22%20standalone%3D%22no%22%3F%3E%3Csvg%20xmlns%3D%22http%3A%2F%2Fwww.w3.org%2F2000%2Fsvg%22%20xmlns%3Axlink%3D%22http%3A%2F%2Fwww.w3.org%2F1999%2Fxlink%22%20height%3D%22348%22%20width%3D%221163%22%20viewBox%3D%220%200%201163%20348%22%3E%3Cdefs%20id%3D%22defs-2b7d9d%22%3E%3Cg%20class%3D%22clips%22%3E%3CclipPath%20id%3D%22clip2b7d9dxyplot%22%20class%3D%22plotclip%22%3E%3Crect%20width%3D%22938%22%20height%3D%22238%22%2F%3E%3C%2FclipPath%3E%3CclipPath%20class%3D%22axesclip%22%20id%3D%22clip2b7d9dx%22%3E%3Crect%20x%3D%2280%22%20y%3D%220%22%20width%3D%22938%22%20height%3D%22348%22%2F%3E%3C%2FclipPath%3E%3CclipPath%20class%3D%22axesclip%22%20id%3D%22clip2b7d9dy%22%3E%3Crect%20x%3D%220%22%20y%3D%2230%22%20width%3D%221163%22%20height%3D%22238%22%2F%3E%3C%2FclipPath%3E%3CclipPath%20class%3D%22axesclip%22%20id%3D%22clip2b7d9dxy%22%3E%3Crect%20x%3D%2280%22%20y%3D%2230%22%20width%3D%22938%22%20height%3D%22238%22%2F%3E%3C%2FclipPath%3E%3C%2Fg%3E%3Cg%20class%3D%22gradients%22%2F%3E%3C%2Fdefs%3E%3Cg%20class%3D%22bglayer%22%2F%3E%3Cg%20class%3D%22draglayer%20cursor-crosshair%22%3E%3Cg%20class%3D%22xy%22%3E%3Crect%20class%3D%22nsewdrag%20drag%22%20style%3D%22fill%3A%20transparent%3B%20stroke-width%3A%200px%3B%20pointer-events%3A%20all%3B%22%20data-subplot%3D%22xy%22%20x%3D%2280%22%20y%3D%2230%22%20width%3D%22938%22%20height%3D%22238%22%2F%3E%3Crect%20class%3D%22nwdrag%20drag%20cursor-nw-resize%22%20style%3D%22fill%3A%20transparent%3B%20stroke-width%3A%200px%3B%20pointer-events%3A%20all%3B%22%20data-subplot%3D%22xy%22%20x%3D%2260%22%20y%3D%2210%22%20width%3D%2220%22%20height%3D%2220%22%2F%3E%3Crect%20class%3D%22nedrag%20drag%20cursor-ne-resize%22%20style%3D%22fill%3A%20transparent%3B%20stroke-width%3A%200px%3B%20pointer-events%3A%20all%3B%22%20data-subplot%3D%22xy%22%20x%3D%221018%22%20y%3D%2210%22%20width%3D%2220%22%20height%3D%2220%22%2F%3E%3Crect%20class%3D%22swdrag%20drag%20cursor-sw-resize%22%20style%3D%22fill%3A%20transparent%3B%20stroke-width%3A%200px%3B%20pointer-events%3A%20all%3B%22%20data-subplot%3D%22xy%22%20x%3D%2260%22%20y%3D%22268%22%20width%3D%2220%22%20height%3D%2220%22%2F%3E%3Crect%20class%3D%22sedrag%20drag%20cursor-se-resize%22%20style%3D%22fill%3A%20transparent%3B%20stroke-width%3A%200px%3B%20pointer-events%3A%20all%3B%22%20data-subplot%3D%22xy%22%20x%3D%221018%22%20y%3D%22268%22%20width%3D%2220%22%20height%3D%2220%22%2F%3E%3Crect%20class%3D%22ewdrag%20drag%20cursor-ew-resize%22%20style%3D%22fill%3A%20transparent%3B%20stroke-width%3A%200px%3B%20pointer-events%3A%20all%3B%22%20data-subplot%3D%22xy%22%20x%3D%22173.8%22%20y%3D%22268.5%22%20width%3D%22750.4000000000001%22%20height%3D%2220%22%2F%3E%3Crect%20class%3D%22wdrag%20drag%20cursor-w-resize%22%20style%3D%22fill%3A%20transparent%3B%20stroke-width%3A%200px%3B%20pointer-events%3A%20all%3B%22%20data-subplot%3D%22xy%22%20x%3D%2280%22%20y%3D%22268.5%22%20width%3D%2293.80000000000001%22%20height%3D%2220%22%2F%3E%3Crect%20class%3D%22edrag%20drag%20cursor-e-resize%22%20style%3D%22fill%3A%20transparent%3B%20stroke-width%3A%200px%3B%20pointer-events%3A%20all%3B%22%20data-subplot%3D%22xy%22%20x%3D%22924.2%22%20y%3D%22268.5%22%20width%3D%2293.80000000000001%22%20height%3D%2220%22%2F%3E%3Crect%20class%3D%22nsdrag%20drag%20cursor-ns-resize%22%20style%3D%22fill%3A%20transparent%3B%20stroke-width%3A%200px%3B%20pointer-events%3A%20all%3B%22%20data-subplot%3D%22xy%22%20x%3D%2259.5%22%20y%3D%2253.8%22%20width%3D%2220%22%20height%3D%22190.4%22%2F%3E%3Crect%20class%3D%22sdrag%20drag%20cursor-s-resize%22%20style%3D%22fill%3A%20transparent%3B%20stroke-width%3A%200px%3B%20pointer-events%3A%20all%3B%22%20data-subplot%3D%22xy%22%20x%3D%2259.5%22%20y%3D%22244.20000000000002%22%20width%3D%2220%22%20height%3D%2223.8%22%2F%3E%3Crect%20class%3D%22ndrag%20drag%20cursor-n-resize%22%20style%3D%22fill%3A%20transparent%3B%20stroke-width%3A%200px%3B%20pointer-events%3A%20all%3B%22%20data-subplot%3D%22xy%22%20x%3D%2259.5%22%20y%3D%2230%22%20width%3D%2220%22%20height%3D%2223.8%22%2F%3E%3C%2Fg%3E%3C%2Fg%3E%3Cg%20class%3D%22layer-below%22%3E%3Cg%20class%3D%22imagelayer%22%2F%3E%3Cg%20class%3D%22shapelayer%22%2F%3E%3C%2Fg%3E%3Cg%20class%3D%22cartesianlayer%22%3E%3Cg%20class%3D%22subplot%20xy%22%3E%3Cg%20class%3D%22layer-subplot%22%3E%3Cg%20class%3D%22shapelayer%22%2F%3E%3Cg%20class%3D%22imagelayer%22%2F%3E%3C%2Fg%3E%3Cg%20class%3D%22gridlayer%22%3E%3Cg%20class%3D%22x%22%3E%3Cpath%20class%3D%22xgrid%20crisp%22%20transform%3D%22translate(102.77%2C0)%22%20d%3D%22M0%2C30v238%22%20style%3D%22stroke%3A%20rgb(0%2C%200%2C%200)%3B%20stroke-opacity%3A%200%3B%20stroke-width%3A%201px%3B%22%2F%3E%3Cpath%20class%3D%22xgrid%20crisp%22%20transform%3D%22translate(287.43%2C0)%22%20d%3D%22M0%2C30v238%22%20style%3D%22stroke%3A%20rgb(0%2C%200%2C%200)%3B%20stroke-opacity%3A%200%3B%20stroke-width%3A%201px%3B%22%2F%3E%3Cpath%20class%3D%22xgrid%20crisp%22%20transform%3D%22translate(472.6%2C0)%22%20d%3D%22M0%2C30v238%22%20style%3D%22stroke%3A%20rgb(0%2C%200%2C%200)%3B%20stroke-opacity%3A%200%3B%20stroke-width%3A%201px%3B%22%2F%3E%3Cpath%20class%3D%22xgrid%20crisp%22%20transform%3D%22translate(657.27%2C0)%22%20d%3D%22M0%2C30v238%22%20style%3D%22stroke%3A%20rgb(0%2C%200%2C%200)%3B%20stroke-opacity%3A%200%3B%20stroke-width%3A%201px%3B%22%2F%3E%3Cpath%20class%3D%22xgrid%20crisp%22%20transform%3D%22translate(841.94%2C0)%22%20d%3D%22M0%2C30v238%22%20style%3D%22stroke%3A%20rgb(0%2C%200%2C%200)%3B%20stroke-opacity%3A%200%3B%20stroke-width%3A%201px%3B%22%2F%3E%3C%2Fg%3E%3Cg%20class%3D%22y%22%3E%3Cpath%20class%3D%22ygrid%20crisp%22%20transform%3D%22translate(0%2C206.74)%22%20d%3D%22M80%2C0h938%22%20style%3D%22stroke%3A%20rgb(89%2C%2089%2C%2089)%3B%20stroke-opacity%3A%200.25%3B%20stroke-width%3A%201px%3B%22%2F%3E%3Cpath%20class%3D%22ygrid%20crisp%22%20transform%3D%22translate(0%2C145.49)%22%20d%3D%22M80%2C0h938%22%20style%3D%22stroke%3A%20rgb(89%2C%2089%2C%2089)%3B%20stroke-opacity%3A%200.25%3B%20stroke-width%3A%201px%3B%22%2F%3E%3Cpath%20class%3D%22ygrid%20crisp%22%20transform%3D%22translate(0%2C84.22999999999999)%22%20d%3D%22M80%2C0h938%22%20style%3D%22stroke%3A%20rgb(89%2C%2089%2C%2089)%3B%20stroke-opacity%3A%200.25%3B%20stroke-width%3A%201px%3B%22%2F%3E%3C%2Fg%3E%3C%2Fg%3E%3Cg%20class%3D%22zerolinelayer%22%3E%3Cpath%20class%3D%22yzl%20zl%20crisp%22%20transform%3D%22translate(0%2C268)%22%20d%3D%22M80%2C0h938%22%20style%3D%22stroke%3A%20rgb(89%2C%2089%2C%2089)%3B%20stroke-opacity%3A%200.5%3B%20stroke-width%3A%201px%3B%22%2F%3E%3C%2Fg%3E%3Cpath%20class%3D%22xlines-below%22%2F%3E%3Cpath%20class%3D%22ylines-below%22%2F%3E%3Cg%20class%3D%22overlines-below%22%2F%3E%3Cg%20class%3D%22xaxislayer-below%22%2F%3E%3Cg%20class%3D%22yaxislayer-below%22%2F%3E%3Cg%20class%3D%22overaxes-below%22%2F%3E%3Cg%20class%3D%22plot%22%20transform%3D%22translate(80%2C30)%22%20clip-path%3D%22url('%23clip2b7d9dxyplot')%22%3E%3Cg%20class%3D%22barlayer%20mlayer%22%3E%3Cg%20class%3D%22trace%20bars%22%20style%3D%22opacity%3A%201%3B%22%3E%3Cg%20class%3D%22points%22%3E%3Cg%20class%3D%22point%22%3E%3Cpath%20style%3D%22vector-effect%3A%20non-scaling-stroke%3B%20opacity%3A%201%3B%20stroke-width%3A%200px%3B%20fill%3A%20rgb(78%2C%20121%2C%20167)%3B%20fill-opacity%3A%201%3B%22%20d%3D%22M1.42%2C238V236H12.75V238Z%22%2F%3E%3C%2Fg%3E%3Cg%20class%3D%22point%22%3E%3Cpath%20style%3D%22vector-effect%3A%20non-scaling-stroke%3B%20opacity%3A%201%3B%20stroke-width%3A%200px%3B%20fill%3A%20rgb(78%2C%20121%2C%20167)%3B%20fill-opacity%3A%201%3B%22%20d%3D%22M17.1%2C238V236H28.43V238Z%22%2F%3E%3C%2Fg%3E%3Cg%20class%3D%22point%22%3E%3Cpath%20style%3D%22vector-effect%3A%20non-scaling-stroke%3B%20opacity%3A%201%3B%20stroke-width%3A%200px%3B%20fill%3A%20rgb(78%2C%20121%2C%20167)%3B%20fill-opacity%3A%201%3B%22%20d%3D%22M32.78%2C238V235.97H44.12V238Z%22%2F%3E%3C%2Fg%3E%3Cg%20class%3D%22point%22%3E%3Cpath%20style%3D%22vector-effect%3A%20non-scaling-stroke%3B%20opacity%3A%201%3B%20stroke-width%3A%200px%3B%20fill%3A%20rgb(78%2C%20121%2C%20167)%3B%20fill-opacity%3A%201%3B%22%20d%3D%22M46.95%2C238V235.21H58.28V238Z%22%2F%3E%3C%2Fg%3E%3Cg%20class%3D%22point%22%3E%3Cpath%20style%3D%22vector-effect%3A%20non-scaling-stroke%3B%20opacity%3A%201%3B%20stroke-width%3A%200px%3B%20fill%3A%20rgb(78%2C%20121%2C%20167)%3B%20fill-opacity%3A%201%3B%22%20d%3D%22M62.63%2C238V235.17H73.97V238Z%22%2F%3E%3C%2Fg%3E%3Cg%20class%3D%22point%22%3E%3Cpath%20style%3D%22vector-effect%3A%20non-scaling-stroke%3B%20opacity%3A%201%3B%20stroke-width%3A%200px%3B%20fill%3A%20rgb(78%2C%20121%2C%20167)%3B%20fill-opacity%3A%201%3B%22%20d%3D%22M77.81%2C238V234.63H89.15V238Z%22%2F%3E%3C%2Fg%3E%3Cg%20class%3D%22point%22%3E%3Cpath%20style%3D%22vector-effect%3A%20non-scaling-stroke%3B%20opacity%3A%201%3B%20stroke-width%3A%200px%3B%20fill%3A%20rgb(78%2C%20121%2C%20167)%3B%20fill-opacity%3A%201%3B%22%20d%3D%22M93.5%2C238V234.87H104.83V238Z%22%2F%3E%3C%2Fg%3E%3Cg%20class%3D%22point%22%3E%3Cpath%20style%3D%22vector-effect%3A%20non-scaling-stroke%3B%20opacity%3A%201%3B%20stroke-width%3A%200px%3B%20fill%3A%20rgb(78%2C%20121%2C%20167)%3B%20fill-opacity%3A%201%3B%22%20d%3D%22M108.67%2C238V234.85H120.01V238Z%22%2F%3E%3C%2Fg%3E%3Cg%20class%3D%22point%22%3E%3Cpath%20style%3D%22vector-effect%3A%20non-scaling-stroke%3B%20opacity%3A%201%3B%20stroke-width%3A%200px%3B%20fill%3A%20rgb(78%2C%20121%2C%20167)%3B%20fill-opacity%3A%201%3B%22%20d%3D%22M124.36%2C238V234.61H135.69V238Z%22%2F%3E%3C%2Fg%3E%3Cg%20class%3D%22point%22%3E%3Cpath%20style%3D%22vector-effect%3A%20non-scaling-stroke%3B%20opacity%3A%201%3B%20stroke-width%3A%200px%3B%20fill%3A%20rgb(78%2C%20121%2C%20167)%3B%20fill-opacity%3A%201%3B%22%20d%3D%22M140.04%2C238V234.08H151.38V238Z%22%2F%3E%3C%2Fg%3E%3Cg%20class%3D%22point%22%3E%3Cpath%20style%3D%22vector-effect%3A%20non-scaling-stroke%3B%20opacity%3A%201%3B%20stroke-width%3A%200px%3B%20fill%3A%20rgb(78%2C%20121%2C%20167)%3B%20fill-opacity%3A%201%3B%22%20d%3D%22M155.22%2C238V233.83H166.55V238Z%22%2F%3E%3C%2Fg%3E%3Cg%20class%3D%22point%22%3E%3Cpath%20style%3D%22vector-effect%3A%20non-scaling-stroke%3B%20opacity%3A%201%3B%20stroke-width%3A%200px%3B%20fill%3A%20rgb(78%2C%20121%2C%20167)%3B%20fill-opacity%3A%201%3B%22%20d%3D%22M170.9%2C238V233.97H182.24V238Z%22%2F%3E%3C%2Fg%3E%3Cg%20class%3D%22point%22%3E%3Cpath%20style%3D%22vector-effect%3A%20non-scaling-stroke%3B%20opacity%3A%201%3B%20stroke-width%3A%200px%3B%20fill%3A%20rgb(78%2C%20121%2C%20167)%3B%20fill-opacity%3A%201%3B%22%20d%3D%22M186.08%2C238V233H197.42V238Z%22%2F%3E%3C%2Fg%3E%3Cg%20class%3D%22point%22%3E%3Cpath%20style%3D%22vector-effect%3A%20non-scaling-stroke%3B%20opacity%3A%201%3B%20stroke-width%3A%200px%3B%20fill%3A%20rgb(78%2C%20121%2C%20167)%3B%20fill-opacity%3A%201%3B%22%20d%3D%22M201.77%2C238V234.63H213.1V238Z%22%2F%3E%3C%2Fg%3E%3Cg%20class%3D%22point%22%3E%3Cpath%20style%3D%22vector-effect%3A%20non-scaling-stroke%3B%20opacity%3A%201%3B%20stroke-width%3A%200px%3B%20fill%3A%20rgb(78%2C%20121%2C%20167)%3B%20fill-opacity%3A%201%3B%22%20d%3D%22M217.45%2C238V234.93H228.78V238Z%22%2F%3E%3C%2Fg%3E%3Cg%20class%3D%22point%22%3E%3Cpath%20style%3D%22vector-effect%3A%20non-scaling-stroke%3B%20opacity%3A%201%3B%20stroke-width%3A%200px%3B%20fill%3A%20rgb(78%2C%20121%2C%20167)%3B%20fill-opacity%3A%201%3B%22%20d%3D%22M232.12%2C238V234.48H243.46V238Z%22%2F%3E%3C%2Fg%3E%3Cg%20class%3D%22point%22%3E%3Cpath%20style%3D%22vector-effect%3A%20non-scaling-stroke%3B%20opacity%3A%201%3B%20stroke-width%3A%200px%3B%20fill%3A%20rgb(78%2C%20121%2C%20167)%3B%20fill-opacity%3A%201%3B%22%20d%3D%22M247.81%2C238V234.54H259.14V238Z%22%2F%3E%3C%2Fg%3E%3Cg%20class%3D%22point%22%3E%3Cpath%20style%3D%22vector-effect%3A%20non-scaling-stroke%3B%20opacity%3A%201%3B%20stroke-width%3A%200px%3B%20fill%3A%20rgb(78%2C%20121%2C%20167)%3B%20fill-opacity%3A%201%3B%22%20d%3D%22M262.98%2C238V233.87H274.32V238Z%22%2F%3E%3C%2Fg%3E%3Cg%20class%3D%22point%22%3E%3Cpath%20style%3D%22vector-effect%3A%20non-scaling-stroke%3B%20opacity%3A%201%3B%20stroke-width%3A%200px%3B%20fill%3A%20rgb(78%2C%20121%2C%20167)%3B%20fill-opacity%3A%201%3B%22%20d%3D%22M278.67%2C238V233.03H290V238Z%22%2F%3E%3C%2Fg%3E%3Cg%20class%3D%22point%22%3E%3Cpath%20style%3D%22vector-effect%3A%20non-scaling-stroke%3B%20opacity%3A%201%3B%20stroke-width%3A%200px%3B%20fill%3A%20rgb(78%2C%20121%2C%20167)%3B%20fill-opacity%3A%201%3B%22%20d%3D%22M293.85%2C238V232.64H305.18V238Z%22%2F%3E%3C%2Fg%3E%3Cg%20class%3D%22point%22%3E%3Cpath%20style%3D%22vector-effect%3A%20non-scaling-stroke%3B%20opacity%3A%201%3B%20stroke-width%3A%200px%3B%20fill%3A%20rgb(78%2C%20121%2C%20167)%3B%20fill-opacity%3A%201%3B%22%20d%3D%22M309.53%2C238V231.89H320.86V238Z%22%2F%3E%3C%2Fg%3E%3Cg%20class%3D%22point%22%3E%3Cpath%20style%3D%22vector-effect%3A%20non-scaling-stroke%3B%20opacity%3A%201%3B%20stroke-width%3A%200px%3B%20fill%3A%20rgb(78%2C%20121%2C%20167)%3B%20fill-opacity%3A%201%3B%22%20d%3D%22M325.21%2C238V231.64H336.55V238Z%22%2F%3E%3C%2Fg%3E%3Cg%20class%3D%22point%22%3E%3Cpath%20style%3D%22vector-effect%3A%20non-scaling-stroke%3B%20opacity%3A%201%3B%20stroke-width%3A%200px%3B%20fill%3A%20rgb(78%2C%20121%2C%20167)%3B%20fill-opacity%3A%201%3B%22%20d%3D%22M340.39%2C238V230.98H351.72V238Z%22%2F%3E%3C%2Fg%3E%3Cg%20class%3D%22point%22%3E%3Cpath%20style%3D%22vector-effect%3A%20non-scaling-stroke%3B%20opacity%3A%201%3B%20stroke-width%3A%200px%3B%20fill%3A%20rgb(78%2C%20121%2C%20167)%3B%20fill-opacity%3A%201%3B%22%20d%3D%22M356.08%2C238V229.79H367.41V238Z%22%2F%3E%3C%2Fg%3E%3Cg%20class%3D%22point%22%3E%3Cpath%20style%3D%22vector-effect%3A%20non-scaling-stroke%3B%20opacity%3A%201%3B%20stroke-width%3A%200px%3B%20fill%3A%20rgb(78%2C%20121%2C%20167)%3B%20fill-opacity%3A%201%3B%22%20d%3D%22M371.25%2C238V209.18H382.59V238Z%22%2F%3E%3C%2Fg%3E%3Cg%20class%3D%22point%22%3E%3Cpath%20style%3D%22vector-effect%3A%20non-scaling-stroke%3B%20opacity%3A%201%3B%20stroke-width%3A%200px%3B%20fill%3A%20rgb(78%2C%20121%2C%20167)%3B%20fill-opacity%3A%201%3B%22%20d%3D%22M386.94%2C238V205.82H398.27V238Z%22%2F%3E%3C%2Fg%3E%3Cg%20class%3D%22point%22%3E%3Cpath%20style%3D%22vector-effect%3A%20non-scaling-stroke%3B%20opacity%3A%201%3B%20stroke-width%3A%200px%3B%20fill%3A%20rgb(78%2C%20121%2C%20167)%3B%20fill-opacity%3A%201%3B%22%20d%3D%22M402.62%2C238V201.19H413.95V238Z%22%2F%3E%3C%2Fg%3E%3Cg%20class%3D%22point%22%3E%3Cpath%20style%3D%22vector-effect%3A%20non-scaling-stroke%3B%20opacity%3A%201%3B%20stroke-width%3A%200px%3B%20fill%3A%20rgb(78%2C%20121%2C%20167)%3B%20fill-opacity%3A%201%3B%22%20d%3D%22M416.79%2C238V198.91H428.12V238Z%22%2F%3E%3C%2Fg%3E%3Cg%20class%3D%22point%22%3E%3Cpath%20style%3D%22vector-effect%3A%20non-scaling-stroke%3B%20opacity%3A%201%3B%20stroke-width%3A%200px%3B%20fill%3A%20rgb(78%2C%20121%2C%20167)%3B%20fill-opacity%3A%201%3B%22%20d%3D%22M432.47%2C238V195.08H443.8V238Z%22%2F%3E%3C%2Fg%3E%3Cg%20class%3D%22point%22%3E%3Cpath%20style%3D%22vector-effect%3A%20non-scaling-stroke%3B%20opacity%3A%201%3B%20stroke-width%3A%200px%3B%20fill%3A%20rgb(78%2C%20121%2C%20167)%3B%20fill-opacity%3A%201%3B%22%20d%3D%22M447.65%2C238V192.66H458.98V238Z%22%2F%3E%3C%2Fg%3E%3Cg%20class%3D%22point%22%3E%3Cpath%20style%3D%22vector-effect%3A%20non-scaling-stroke%3B%20opacity%3A%201%3B%20stroke-width%3A%200px%3B%20fill%3A%20rgb(78%2C%20121%2C%20167)%3B%20fill-opacity%3A%201%3B%22%20d%3D%22M463.33%2C238V189.59H474.67V238Z%22%2F%3E%3C%2Fg%3E%3Cg%20class%3D%22point%22%3E%3Cpath%20style%3D%22vector-effect%3A%20non-scaling-stroke%3B%20opacity%3A%201%3B%20stroke-width%3A%200px%3B%20fill%3A%20rgb(78%2C%20121%2C%20167)%3B%20fill-opacity%3A%201%3B%22%20d%3D%22M478.51%2C238V185.7H489.84V238Z%22%2F%3E%3C%2Fg%3E%3Cg%20class%3D%22point%22%3E%3Cpath%20style%3D%22vector-effect%3A%20non-scaling-stroke%3B%20opacity%3A%201%3B%20stroke-width%3A%200px%3B%20fill%3A%20rgb(78%2C%20121%2C%20167)%3B%20fill-opacity%3A%201%3B%22%20d%3D%22M494.2%2C238V182.86H505.53V238Z%22%2F%3E%3C%2Fg%3E%3Cg%20class%3D%22point%22%3E%3Cpath%20style%3D%22vector-effect%3A%20non-scaling-stroke%3B%20opacity%3A%201%3B%20stroke-width%3A%200px%3B%20fill%3A%20rgb(78%2C%20121%2C%20167)%3B%20fill-opacity%3A%201%3B%22%20d%3D%22M509.88%2C238V180.45H521.21V238Z%22%2F%3E%3C%2Fg%3E%3Cg%20class%3D%22point%22%3E%3Cpath%20style%3D%22vector-effect%3A%20non-scaling-stroke%3B%20opacity%3A%201%3B%20stroke-width%3A%200px%3B%20fill%3A%20rgb(78%2C%20121%2C%20167)%3B%20fill-opacity%3A%201%3B%22%20d%3D%22M525.06%2C238V175.34H536.39V238Z%22%2F%3E%3C%2Fg%3E%3Cg%20class%3D%22point%22%3E%3Cpath%20style%3D%22vector-effect%3A%20non-scaling-stroke%3B%20opacity%3A%201%3B%20stroke-width%3A%200px%3B%20fill%3A%20rgb(78%2C%20121%2C%20167)%3B%20fill-opacity%3A%201%3B%22%20d%3D%22M540.74%2C238V172.02H552.07V238Z%22%2F%3E%3C%2Fg%3E%3Cg%20class%3D%22point%22%3E%3Cpath%20style%3D%22vector-effect%3A%20non-scaling-stroke%3B%20opacity%3A%201%3B%20stroke-width%3A%200px%3B%20fill%3A%20rgb(78%2C%20121%2C%20167)%3B%20fill-opacity%3A%201%3B%22%20d%3D%22M555.92%2C238V169.34H567.25V238Z%22%2F%3E%3C%2Fg%3E%3Cg%20class%3D%22point%22%3E%3Cpath%20style%3D%22vector-effect%3A%20non-scaling-stroke%3B%20opacity%3A%201%3B%20stroke-width%3A%200px%3B%20fill%3A%20rgb(78%2C%20121%2C%20167)%3B%20fill-opacity%3A%201%3B%22%20d%3D%22M571.6%2C238V166.72H582.94V238Z%22%2F%3E%3C%2Fg%3E%3Cg%20class%3D%22point%22%3E%3Cpath%20style%3D%22vector-effect%3A%20non-scaling-stroke%3B%20opacity%3A%201%3B%20stroke-width%3A%200px%3B%20fill%3A%20rgb(78%2C%20121%2C%20167)%3B%20fill-opacity%3A%201%3B%22%20d%3D%22M587.29%2C238V167.53H598.62V238Z%22%2F%3E%3C%2Fg%3E%3Cg%20class%3D%22point%22%3E%3Cpath%20style%3D%22vector-effect%3A%20non-scaling-stroke%3B%20opacity%3A%201%3B%20stroke-width%3A%200px%3B%20fill%3A%20rgb(78%2C%20121%2C%20167)%3B%20fill-opacity%3A%201%3B%22%20d%3D%22M601.45%2C238V162.73H612.79V238Z%22%2F%3E%3C%2Fg%3E%3Cg%20class%3D%22point%22%3E%3Cpath%20style%3D%22vector-effect%3A%20non-scaling-stroke%3B%20opacity%3A%201%3B%20stroke-width%3A%200px%3B%20fill%3A%20rgb(78%2C%20121%2C%20167)%3B%20fill-opacity%3A%201%3B%22%20d%3D%22M617.14%2C238V151.88H628.47V238Z%22%2F%3E%3C%2Fg%3E%3Cg%20class%3D%22point%22%3E%3Cpath%20style%3D%22vector-effect%3A%20non-scaling-stroke%3B%20opacity%3A%201%3B%20stroke-width%3A%200px%3B%20fill%3A%20rgb(78%2C%20121%2C%20167)%3B%20fill-opacity%3A%201%3B%22%20d%3D%22M632.32%2C238V152.04H643.65V238Z%22%2F%3E%3C%2Fg%3E%3Cg%20class%3D%22point%22%3E%3Cpath%20style%3D%22vector-effect%3A%20non-scaling-stroke%3B%20opacity%3A%201%3B%20stroke-width%3A%200px%3B%20fill%3A%20rgb(78%2C%20121%2C%20167)%3B%20fill-opacity%3A%201%3B%22%20d%3D%22M648%2C238V159.62H659.33V238Z%22%2F%3E%3C%2Fg%3E%3Cg%20class%3D%22point%22%3E%3Cpath%20style%3D%22vector-effect%3A%20non-scaling-stroke%3B%20opacity%3A%201%3B%20stroke-width%3A%200px%3B%20fill%3A%20rgb(78%2C%20121%2C%20167)%3B%20fill-opacity%3A%201%3B%22%20d%3D%22M663.18%2C238V105.37H674.51V238Z%22%2F%3E%3C%2Fg%3E%3Cg%20class%3D%22point%22%3E%3Cpath%20style%3D%22vector-effect%3A%20non-scaling-stroke%3B%20opacity%3A%201%3B%20stroke-width%3A%200px%3B%20fill%3A%20rgb(78%2C%20121%2C%20167)%3B%20fill-opacity%3A%201%3B%22%20d%3D%22M678.86%2C238V151.81H690.19V238Z%22%2F%3E%3C%2Fg%3E%3Cg%20class%3D%22point%22%3E%3Cpath%20style%3D%22vector-effect%3A%20non-scaling-stroke%3B%20opacity%3A%201%3B%20stroke-width%3A%200px%3B%20fill%3A%20rgb(78%2C%20121%2C%20167)%3B%20fill-opacity%3A%201%3B%22%20d%3D%22M694.54%2C238V189.17H705.88V238Z%22%2F%3E%3C%2Fg%3E%3Cg%20class%3D%22point%22%3E%3Cpath%20style%3D%22vector-effect%3A%20non-scaling-stroke%3B%20opacity%3A%201%3B%20stroke-width%3A%200px%3B%20fill%3A%20rgb(78%2C%20121%2C%20167)%3B%20fill-opacity%3A%201%3B%22%20d%3D%22M709.72%2C238V62.89H721.06V238Z%22%2F%3E%3C%2Fg%3E%3Cg%20class%3D%22point%22%3E%3Cpath%20style%3D%22vector-effect%3A%20non-scaling-stroke%3B%20opacity%3A%201%3B%20stroke-width%3A%200px%3B%20fill%3A%20rgb(78%2C%20121%2C%20167)%3B%20fill-opacity%3A%201%3B%22%20d%3D%22M725.41%2C238V123.62H736.74V238Z%22%2F%3E%3C%2Fg%3E%3Cg%20class%3D%22point%22%3E%3Cpath%20style%3D%22vector-effect%3A%20non-scaling-stroke%3B%20opacity%3A%201%3B%20stroke-width%3A%200px%3B%20fill%3A%20rgb(78%2C%20121%2C%20167)%3B%20fill-opacity%3A%201%3B%22%20d%3D%22M740.58%2C238V189.49H751.92V238Z%22%2F%3E%3C%2Fg%3E%3Cg%20class%3D%22point%22%3E%3Cpath%20style%3D%22vector-effect%3A%20non-scaling-stroke%3B%20opacity%3A%201%3B%20stroke-width%3A%200px%3B%20fill%3A%20rgb(78%2C%20121%2C%20167)%3B%20fill-opacity%3A%201%3B%22%20d%3D%22M756.27%2C238V74.71H767.6V238Z%22%2F%3E%3C%2Fg%3E%3Cg%20class%3D%22point%22%3E%3Cpath%20style%3D%22vector-effect%3A%20non-scaling-stroke%3B%20opacity%3A%201%3B%20stroke-width%3A%200px%3B%20fill%3A%20rgb(78%2C%20121%2C%20167)%3B%20fill-opacity%3A%201%3B%22%20d%3D%22M771.95%2C238V125.62H783.29V238Z%22%2F%3E%3C%2Fg%3E%3Cg%20class%3D%22point%22%3E%3Cpath%20style%3D%22vector-effect%3A%20non-scaling-stroke%3B%20opacity%3A%201%3B%20stroke-width%3A%200px%3B%20fill%3A%20rgb(78%2C%20121%2C%20167)%3B%20fill-opacity%3A%201%3B%22%20d%3D%22M786.12%2C238V118.55H797.45V238Z%22%2F%3E%3C%2Fg%3E%3Cg%20class%3D%22point%22%3E%3Cpath%20style%3D%22vector-effect%3A%20non-scaling-stroke%3B%20opacity%3A%201%3B%20stroke-width%3A%200px%3B%20fill%3A%20rgb(78%2C%20121%2C%20167)%3B%20fill-opacity%3A%201%3B%22%20d%3D%22M801.8%2C238V72.79H813.14V238Z%22%2F%3E%3C%2Fg%3E%3Cg%20class%3D%22point%22%3E%3Cpath%20style%3D%22vector-effect%3A%20non-scaling-stroke%3B%20opacity%3A%201%3B%20stroke-width%3A%200px%3B%20fill%3A%20rgb(78%2C%20121%2C%20167)%3B%20fill-opacity%3A%201%3B%22%20d%3D%22M816.98%2C238V90.01H828.31V238Z%22%2F%3E%3C%2Fg%3E%3Cg%20class%3D%22point%22%3E%3Cpath%20style%3D%22vector-effect%3A%20non-scaling-stroke%3B%20opacity%3A%201%3B%20stroke-width%3A%200px%3B%20fill%3A%20rgb(78%2C%20121%2C%20167)%3B%20fill-opacity%3A%201%3B%22%20d%3D%22M832.66%2C238V106.37H844V238Z%22%2F%3E%3C%2Fg%3E%3Cg%20class%3D%22point%22%3E%3Cpath%20style%3D%22vector-effect%3A%20non-scaling-stroke%3B%20opacity%3A%201%3B%20stroke-width%3A%200px%3B%20fill%3A%20rgb(78%2C%20121%2C%20167)%3B%20fill-opacity%3A%201%3B%22%20d%3D%22M847.84%2C238V24.76H859.18V238Z%22%2F%3E%3C%2Fg%3E%3Cg%20class%3D%22point%22%3E%3Cpath%20style%3D%22vector-effect%3A%20non-scaling-stroke%3B%20opacity%3A%201%3B%20stroke-width%3A%200px%3B%20fill%3A%20rgb(78%2C%20121%2C%20167)%3B%20fill-opacity%3A%201%3B%22%20d%3D%22M863.53%2C238V67.91H874.86V238Z%22%2F%3E%3C%2Fg%3E%3Cg%20class%3D%22point%22%3E%3Cpath%20style%3D%22vector-effect%3A%20non-scaling-stroke%3B%20opacity%3A%201%3B%20stroke-width%3A%200px%3B%20fill%3A%20rgb(78%2C%20121%2C%20167)%3B%20fill-opacity%3A%201%3B%22%20d%3D%22M879.21%2C238V100.1H890.54V238Z%22%2F%3E%3C%2Fg%3E%3Cg%20class%3D%22point%22%3E%3Cpath%20style%3D%22vector-effect%3A%20non-scaling-stroke%3B%20opacity%3A%201%3B%20stroke-width%3A%200px%3B%20fill%3A%20rgb(78%2C%20121%2C%20167)%3B%20fill-opacity%3A%201%3B%22%20d%3D%22M894.39%2C238V11.9H905.72V238Z%22%2F%3E%3C%2Fg%3E%3Cg%20class%3D%22point%22%3E%3Cpath%20style%3D%22vector-effect%3A%20non-scaling-stroke%3B%20opacity%3A%201%3B%20stroke-width%3A%200px%3B%20fill%3A%20rgb(78%2C%20121%2C%20167)%3B%20fill-opacity%3A%201%3B%22%20d%3D%22M910.07%2C238V64.27H921.41V238Z%22%2F%3E%3C%2Fg%3E%3Cg%20class%3D%22point%22%3E%3Cpath%20style%3D%22vector-effect%3A%20non-scaling-stroke%3B%20opacity%3A%201%3B%20stroke-width%3A%200px%3B%20fill%3A%20rgb(78%2C%20121%2C%20167)%3B%20fill-opacity%3A%201%3B%22%20d%3D%22M925.25%2C238V33.44H936.58V238Z%22%2F%3E%3C%2Fg%3E%3C%2Fg%3E%3C%2Fg%3E%3C%2Fg%3E%3C%2Fg%3E%3Cg%20class%3D%22overplot%22%2F%3E%3Cpath%20class%3D%22xlines-above%20crisp%22%20style%3D%22fill%3A%20none%3B%20stroke-width%3A%201px%3B%20stroke%3A%20rgb(89%2C%2089%2C%2089)%3B%20stroke-opacity%3A%200.25%3B%22%20d%3D%22M79%2C268.5H1018%22%2F%3E%3Cpath%20class%3D%22ylines-above%20crisp%22%20style%3D%22fill%3A%20none%3B%20stroke-width%3A%201px%3B%20stroke%3A%20rgb(89%2C%2089%2C%2089)%3B%20stroke-opacity%3A%200.25%3B%22%20d%3D%22M79.5%2C30V268%22%2F%3E%3Cg%20class%3D%22overlines-above%22%2F%3E%3Cg%20class%3D%22xaxislayer-above%22%3E%3Cg%20class%3D%22xtick%22%3E%3Ctext%20text-anchor%3D%22middle%22%20x%3D%220%22%20y%3D%22283.4%22%20style%3D%22font-family%3A%20%26quot%3BOpen%20Sans%26quot%3B%2C%20verdana%2C%20arial%2C%20sans-serif%3B%20font-size%3A%2012px%3B%20fill%3A%20rgb(89%2C%2089%2C%2089)%3B%20fill-opacity%3A%201%3B%20white-space%3A%20pre%3B%22%20data-unformatted%3D%222011%22%20data-math%3D%22N%22%20transform%3D%22translate(102.77%2C0)%22%3E2011%3C%2Ftext%3E%3C%2Fg%3E%3Cg%20class%3D%22xtick%22%3E%3Ctext%20text-anchor%3D%22middle%22%20x%3D%220%22%20y%3D%22283.4%22%20style%3D%22font-family%3A%20%26quot%3BOpen%20Sans%26quot%3B%2C%20verdana%2C%20arial%2C%20sans-serif%3B%20font-size%3A%2012px%3B%20fill%3A%20rgb(89%2C%2089%2C%2089)%3B%20fill-opacity%3A%201%3B%20white-space%3A%20pre%3B%22%20data-unformatted%3D%222012%22%20data-math%3D%22N%22%20transform%3D%22translate(287.43%2C0)%22%3E2012%3C%2Ftext%3E%3C%2Fg%3E%3Cg%20class%3D%22xtick%22%3E%3Ctext%20text-anchor%3D%22middle%22%20x%3D%220%22%20y%3D%22283.4%22%20style%3D%22font-family%3A%20%26quot%3BOpen%20Sans%26quot%3B%2C%20verdana%2C%20arial%2C%20sans-serif%3B%20font-size%3A%2012px%3B%20fill%3A%20rgb(89%2C%2089%2C%2089)%3B%20fill-opacity%3A%201%3B%20white-space%3A%20pre%3B%22%20data-unformatted%3D%222013%22%20data-math%3D%22N%22%20transform%3D%22translate(472.6%2C0)%22%3E2013%3C%2Ftext%3E%3C%2Fg%3E%3Cg%20class%3D%22xtick%22%3E%3Ctext%20text-anchor%3D%22middle%22%20x%3D%220%22%20y%3D%22283.4%22%20style%3D%22font-family%3A%20%26quot%3BOpen%20Sans%26quot%3B%2C%20verdana%2C%20arial%2C%20sans-serif%3B%20font-size%3A%2012px%3B%20fill%3A%20rgb(89%2C%2089%2C%2089)%3B%20fill-opacity%3A%201%3B%20white-space%3A%20pre%3B%22%20data-unformatted%3D%222014%22%20data-math%3D%22N%22%20transform%3D%22translate(657.27%2C0)%22%3E2014%3C%2Ftext%3E%3C%2Fg%3E%3Cg%20class%3D%22xtick%22%3E%3Ctext%20text-anchor%3D%22middle%22%20x%3D%220%22%20y%3D%22283.4%22%20style%3D%22font-family%3A%20%26quot%3BOpen%20Sans%26quot%3B%2C%20verdana%2C%20arial%2C%20sans-serif%3B%20font-size%3A%2012px%3B%20fill%3A%20rgb(89%2C%2089%2C%2089)%3B%20fill-opacity%3A%201%3B%20white-space%3A%20pre%3B%22%20data-unformatted%3D%222015%22%20data-math%3D%22N%22%20transform%3D%22translate(841.94%2C0)%22%3E2015%3C%2Ftext%3E%3C%2Fg%3E%3C%2Fg%3E%3Cg%20class%3D%22yaxislayer-above%22%3E%3Cg%20class%3D%22ytick%22%3E%3Ctext%20text-anchor%3D%22end%22%20x%3D%2276.6%22%20y%3D%224.199999999999999%22%20style%3D%22font-family%3A%20%26quot%3BOpen%20Sans%26quot%3B%2C%20verdana%2C%20arial%2C%20sans-serif%3B%20font-size%3A%2012px%3B%20fill%3A%20rgb(89%2C%2089%2C%2089)%3B%20fill-opacity%3A%201%3B%20white-space%3A%20pre%3B%22%20data-unformatted%3D%220%22%20data-math%3D%22N%22%20transform%3D%22translate(0%2C268)%22%3E0%3C%2Ftext%3E%3C%2Fg%3E%3Cg%20class%3D%22ytick%22%3E%3Ctext%20text-anchor%3D%22end%22%20x%3D%2276.6%22%20y%3D%224.199999999999999%22%20style%3D%22font-family%3A%20%26quot%3BOpen%20Sans%26quot%3B%2C%20verdana%2C%20arial%2C%20sans-serif%3B%20font-size%3A%2012px%3B%20fill%3A%20rgb(89%2C%2089%2C%2089)%3B%20fill-opacity%3A%201%3B%20white-space%3A%20pre%3B%22%20data-unformatted%3D%22200M%22%20data-math%3D%22N%22%20transform%3D%22translate(0%2C206.74)%22%3E200M%3C%2Ftext%3E%3C%2Fg%3E%3Cg%20class%3D%22ytick%22%3E%3Ctext%20text-anchor%3D%22end%22%20x%3D%2276.6%22%20y%3D%224.199999999999999%22%20style%3D%22font-family%3A%20%26quot%3BOpen%20Sans%26quot%3B%2C%20verdana%2C%20arial%2C%20sans-serif%3B%20font-size%3A%2012px%3B%20fill%3A%20rgb(89%2C%2089%2C%2089)%3B%20fill-opacity%3A%201%3B%20white-space%3A%20pre%3B%22%20data-unformatted%3D%22400M%22%20data-math%3D%22N%22%20transform%3D%22translate(0%2C145.49)%22%3E400M%3C%2Ftext%3E%3C%2Fg%3E%3Cg%20class%3D%22ytick%22%3E%3Ctext%20text-anchor%3D%22end%22%20x%3D%2276.6%22%20y%3D%224.199999999999999%22%20style%3D%22font-family%3A%20%26quot%3BOpen%20Sans%26quot%3B%2C%20verdana%2C%20arial%2C%20sans-serif%3B%20font-size%3A%2012px%3B%20fill%3A%20rgb(89%2C%2089%2C%2089)%3B%20fill-opacity%3A%201%3B%20white-space%3A%20pre%3B%22%20data-unformatted%3D%22600M%22%20data-math%3D%22N%22%20transform%3D%22translate(0%2C84.22999999999999)%22%3E600M%3C%2Ftext%3E%3C%2Fg%3E%3C%2Fg%3E%3Cg%20class%3D%22overaxes-above%22%2F%3E%3C%2Fg%3E%3C%2Fg%3E%3Cg%20class%3D%22polarlayer%22%2F%3E%3Cg%20class%3D%22ternarylayer%22%2F%3E%3Cg%20class%3D%22geolayer%22%2F%3E%3Cg%20class%3D%22funnelarealayer%22%2F%3E%3Cg%20class%3D%22pielayer%22%2F%3E%3Cg%20class%3D%22treemaplayer%22%2F%3E%3Cg%20class%3D%22sunburstlayer%22%2F%3E%3Cg%20class%3D%22glimages%22%2F%3E%3Cdefs%20id%3D%22topdefs-2b7d9d%22%3E%3Cg%20class%3D%22clips%22%2F%3E%3CclipPath%20id%3D%22legend2b7d9d%22%3E%3Crect%20width%3D%22126%22%20height%3D%2229%22%20x%3D%220%22%20y%3D%220%22%2F%3E%3C%2FclipPath%3E%3C%2Fdefs%3E%3Cg%20class%3D%22indicatorlayer%22%2F%3E%3Cg%20class%3D%22layer-above%22%3E%3Cg%20class%3D%22imagelayer%22%2F%3E%3Cg%20class%3D%22shapelayer%22%2F%3E%3C%2Fg%3E%3Cg%20class%3D%22infolayer%22%3E%3Cg%20class%3D%22legend%22%20pointer-events%3D%22all%22%20transform%3D%22translate(1036.76%2C30)%22%3E%3Crect%20class%3D%22bg%22%20shape-rendering%3D%22crispEdges%22%20style%3D%22stroke%3A%20rgb(68%2C%2068%2C%2068)%3B%20stroke-opacity%3A%201%3B%20fill%3A%20rgb(255%2C%20255%2C%20255)%3B%20fill-opacity%3A%201%3B%20stroke-width%3A%200px%3B%22%20width%3D%22126%22%20height%3D%2229%22%20x%3D%220%22%20y%3D%220%22%2F%3E%3Cg%20class%3D%22scrollbox%22%20transform%3D%22%22%20clip-path%3D%22url('%23legend2b7d9d')%22%3E%3Cg%20class%3D%22groups%22%20transform%3D%22%22%3E%3Cg%20class%3D%22traces%22%20style%3D%22opacity%3A%201%3B%22%20transform%3D%22translate(0%2C14.5)%22%3E%3Ctext%20class%3D%22legendtext%22%20text-anchor%3D%22start%22%20style%3D%22font-family%3A%20%26quot%3BOpen%20Sans%26quot%3B%2C%20verdana%2C%20arial%2C%20sans-serif%3B%20font-size%3A%2012px%3B%20fill%3A%20rgb(89%2C%2089%2C%2089)%3B%20fill-opacity%3A%201%3B%20white-space%3A%20pre%3B%22%20x%3D%2240%22%20y%3D%224.680000000000001%22%20data-unformatted%3D%22loan_amount%22%20data-math%3D%22N%22%3Eloan_amount%3C%2Ftext%3E%3Cg%20class%3D%22layers%22%20style%3D%22opacity%3A%201%3B%22%3E%3Cg%20class%3D%22legendfill%22%2F%3E%3Cg%20class%3D%22legendlines%22%2F%3E%3Cg%20class%3D%22legendsymbols%22%3E%3Cg%20class%3D%22legendpoints%22%3E%3Cpath%20class%3D%22legendundefined%22%20d%3D%22M6%2C6H-6V-6H6Z%22%20transform%3D%22translate(20%2C0)%22%20style%3D%22stroke-width%3A%200px%3B%20fill%3A%20rgb(78%2C%20121%2C%20167)%3B%20fill-opacity%3A%201%3B%22%2F%3E%3C%2Fg%3E%3C%2Fg%3E%3C%2Fg%3E%3Crect%20class%3D%22legendtoggle%22%20style%3D%22cursor%3A%20pointer%3B%20fill%3A%20rgb(0%2C%200%2C%200)%3B%20fill-opacity%3A%200%3B%22%20pointer-events%3D%22all%22%20x%3D%220%22%20y%3D%22-9.5%22%20width%3D%22120.60000610351562%22%20height%3D%2219%22%2F%3E%3C%2Fg%3E%3C%2Fg%3E%3C%2Fg%3E%3Crect%20class%3D%22scrollbar%22%20rx%3D%2220%22%20ry%3D%223%22%20width%3D%220%22%20height%3D%220%22%20style%3D%22fill%3A%20rgb(128%2C%20139%2C%20164)%3B%20fill-opacity%3A%201%3B%22%20x%3D%220%22%20y%3D%220%22%2F%3E%3C%2Fg%3E%3Cg%20class%3D%22g-gtitle%22%2F%3E%3Cg%20class%3D%22g-xtitle%22%2F%3E%3Cg%20class%3D%22g-ytitle%22%2F%3E%3C%2Fg%3E%3Cg%20class%3D%22menulayer%22%2F%3E%3Cg%20class%3D%22zoomlayer%22%2F%3E%3Cg%20class%3D%22hoverlayer%22%2F%3E%3C%2Fsvg%3E\">"
      ],
      "text/plain": [
       "Open the notebook in JupyterLab with the atoti extension installed and enabled to start editing this widget."
      ]
     },
     "metadata": {},
     "output_type": "display_data"
    }
   ],
   "source": [
    "session.visualize(\"Total loan amount\")"
   ]
  },
  {
   "cell_type": "code",
   "execution_count": 42,
   "metadata": {
    "atoti": {
     "widget": {
      "mapping": {
       "horizontalSubplots": [],
       "splitBy": [
        "ALL_MEASURES",
        "[Lending Club Data].[grade].[grade]"
       ],
       "values": [
        "[Measures].[loan_amount.MEAN]"
       ],
       "verticalSubplots": [],
       "xAxis": [
        "[Lending Club Data].[issue_d].[issue_d]"
       ]
      },
      "query": {
       "mdx": "SELECT NON EMPTY Crossjoin({[Measures].[loan_amount.MEAN]}, Hierarchize(Descendants({[Lending Club Data].[grade].[AllMember]}, 1, SELF_AND_BEFORE))) ON COLUMNS, NON EMPTY Hierarchize(Descendants({[Lending Club Data].[issue_d].[AllMember]}, 1, SELF_AND_BEFORE)) ON ROWS FROM [IFRS9]",
       "updateMode": "once"
      },
      "serverKey": "default",
      "widgetKey": "plotly-line-chart"
     }
    },
    "execution": {
     "iopub.execute_input": "2021-02-09T06:44:52.443763Z",
     "iopub.status.busy": "2021-02-09T06:44:52.443546Z",
     "iopub.status.idle": "2021-02-09T06:44:52.865564Z",
     "shell.execute_reply": "2021-02-09T06:44:52.864867Z",
     "shell.execute_reply.started": "2021-02-09T06:44:52.443738Z"
    }
   },
   "outputs": [
    {
     "data": {
      "application/vnd.atoti.v0+json": {
       "name": "Average loan size by Credit Score",
       "session": "Unnamed"
      },
      "text/html": [
       "<img src=\"data:image/svg+xml;charset=utf8,%3C%3Fxml%20version%3D%221.0%22%20standalone%3D%22no%22%3F%3E%3Csvg%20xmlns%3D%22http%3A%2F%2Fwww.w3.org%2F2000%2Fsvg%22%20xmlns%3Axlink%3D%22http%3A%2F%2Fwww.w3.org%2F1999%2Fxlink%22%20height%3D%22348%22%20width%3D%221163%22%20viewBox%3D%220%200%201163%20348%22%3E%3Cdefs%20id%3D%22defs-db7804%22%3E%3Cg%20class%3D%22clips%22%3E%3CclipPath%20id%3D%22clipdb7804xyplot%22%20class%3D%22plotclip%22%3E%3Crect%20width%3D%221006%22%20height%3D%22238%22%2F%3E%3C%2FclipPath%3E%3CclipPath%20class%3D%22axesclip%22%20id%3D%22clipdb7804x%22%3E%3Crect%20x%3D%2280%22%20y%3D%220%22%20width%3D%221006%22%20height%3D%22348%22%2F%3E%3C%2FclipPath%3E%3CclipPath%20class%3D%22axesclip%22%20id%3D%22clipdb7804y%22%3E%3Crect%20x%3D%220%22%20y%3D%2230%22%20width%3D%221163%22%20height%3D%22238%22%2F%3E%3C%2FclipPath%3E%3CclipPath%20class%3D%22axesclip%22%20id%3D%22clipdb7804xy%22%3E%3Crect%20x%3D%2280%22%20y%3D%2230%22%20width%3D%221006%22%20height%3D%22238%22%2F%3E%3C%2FclipPath%3E%3C%2Fg%3E%3Cg%20class%3D%22gradients%22%2F%3E%3C%2Fdefs%3E%3Cg%20class%3D%22bglayer%22%2F%3E%3Cg%20class%3D%22draglayer%20cursor-crosshair%22%3E%3Cg%20class%3D%22xy%22%3E%3Crect%20class%3D%22nsewdrag%20drag%22%20style%3D%22fill%3A%20transparent%3B%20stroke-width%3A%200px%3B%20pointer-events%3A%20all%3B%22%20data-subplot%3D%22xy%22%20x%3D%2280%22%20y%3D%2230%22%20width%3D%221006%22%20height%3D%22238%22%2F%3E%3Crect%20class%3D%22nwdrag%20drag%20cursor-nw-resize%22%20style%3D%22fill%3A%20transparent%3B%20stroke-width%3A%200px%3B%20pointer-events%3A%20all%3B%22%20data-subplot%3D%22xy%22%20x%3D%2260%22%20y%3D%2210%22%20width%3D%2220%22%20height%3D%2220%22%2F%3E%3Crect%20class%3D%22nedrag%20drag%20cursor-ne-resize%22%20style%3D%22fill%3A%20transparent%3B%20stroke-width%3A%200px%3B%20pointer-events%3A%20all%3B%22%20data-subplot%3D%22xy%22%20x%3D%221086%22%20y%3D%2210%22%20width%3D%2220%22%20height%3D%2220%22%2F%3E%3Crect%20class%3D%22swdrag%20drag%20cursor-sw-resize%22%20style%3D%22fill%3A%20transparent%3B%20stroke-width%3A%200px%3B%20pointer-events%3A%20all%3B%22%20data-subplot%3D%22xy%22%20x%3D%2260%22%20y%3D%22268%22%20width%3D%2220%22%20height%3D%2220%22%2F%3E%3Crect%20class%3D%22sedrag%20drag%20cursor-se-resize%22%20style%3D%22fill%3A%20transparent%3B%20stroke-width%3A%200px%3B%20pointer-events%3A%20all%3B%22%20data-subplot%3D%22xy%22%20x%3D%221086%22%20y%3D%22268%22%20width%3D%2220%22%20height%3D%2220%22%2F%3E%3Crect%20class%3D%22ewdrag%20drag%20cursor-ew-resize%22%20style%3D%22fill%3A%20transparent%3B%20stroke-width%3A%200px%3B%20pointer-events%3A%20all%3B%22%20data-subplot%3D%22xy%22%20x%3D%22180.60000000000002%22%20y%3D%22268.5%22%20width%3D%22804.8000000000001%22%20height%3D%2220%22%2F%3E%3Crect%20class%3D%22wdrag%20drag%20cursor-w-resize%22%20style%3D%22fill%3A%20transparent%3B%20stroke-width%3A%200px%3B%20pointer-events%3A%20all%3B%22%20data-subplot%3D%22xy%22%20x%3D%2280%22%20y%3D%22268.5%22%20width%3D%22100.60000000000001%22%20height%3D%2220%22%2F%3E%3Crect%20class%3D%22edrag%20drag%20cursor-e-resize%22%20style%3D%22fill%3A%20transparent%3B%20stroke-width%3A%200px%3B%20pointer-events%3A%20all%3B%22%20data-subplot%3D%22xy%22%20x%3D%22985.4%22%20y%3D%22268.5%22%20width%3D%22100.60000000000001%22%20height%3D%2220%22%2F%3E%3Crect%20class%3D%22nsdrag%20drag%20cursor-ns-resize%22%20style%3D%22fill%3A%20transparent%3B%20stroke-width%3A%200px%3B%20pointer-events%3A%20all%3B%22%20data-subplot%3D%22xy%22%20x%3D%2259.5%22%20y%3D%2253.8%22%20width%3D%2220%22%20height%3D%22190.4%22%2F%3E%3Crect%20class%3D%22sdrag%20drag%20cursor-s-resize%22%20style%3D%22fill%3A%20transparent%3B%20stroke-width%3A%200px%3B%20pointer-events%3A%20all%3B%22%20data-subplot%3D%22xy%22%20x%3D%2259.5%22%20y%3D%22244.20000000000002%22%20width%3D%2220%22%20height%3D%2223.8%22%2F%3E%3Crect%20class%3D%22ndrag%20drag%20cursor-n-resize%22%20style%3D%22fill%3A%20transparent%3B%20stroke-width%3A%200px%3B%20pointer-events%3A%20all%3B%22%20data-subplot%3D%22xy%22%20x%3D%2259.5%22%20y%3D%2230%22%20width%3D%2220%22%20height%3D%2223.8%22%2F%3E%3C%2Fg%3E%3C%2Fg%3E%3Cg%20class%3D%22layer-below%22%3E%3Cg%20class%3D%22imagelayer%22%2F%3E%3Cg%20class%3D%22shapelayer%22%2F%3E%3C%2Fg%3E%3Cg%20class%3D%22cartesianlayer%22%3E%3Cg%20class%3D%22subplot%20xy%22%3E%3Cg%20class%3D%22layer-subplot%22%3E%3Cg%20class%3D%22shapelayer%22%2F%3E%3Cg%20class%3D%22imagelayer%22%2F%3E%3C%2Fg%3E%3Cg%20class%3D%22gridlayer%22%3E%3Cg%20class%3D%22x%22%3E%3Cpath%20class%3D%22xgrid%20crisp%22%20transform%3D%22translate(149.29000000000002%2C0)%22%20d%3D%22M0%2C30v238%22%20style%3D%22stroke%3A%20rgb(89%2C%2089%2C%2089)%3B%20stroke-opacity%3A%200.25%3B%20stroke-width%3A%201px%3B%22%2F%3E%3Cpath%20class%3D%22xgrid%20crisp%22%20transform%3D%22translate(328.78%2C0)%22%20d%3D%22M0%2C30v238%22%20style%3D%22stroke%3A%20rgb(89%2C%2089%2C%2089)%3B%20stroke-opacity%3A%200.25%3B%20stroke-width%3A%201px%3B%22%2F%3E%3Cpath%20class%3D%22xgrid%20crisp%22%20transform%3D%22translate(508.75%2C0)%22%20d%3D%22M0%2C30v238%22%20style%3D%22stroke%3A%20rgb(89%2C%2089%2C%2089)%3B%20stroke-opacity%3A%200.25%3B%20stroke-width%3A%201px%3B%22%2F%3E%3Cpath%20class%3D%22xgrid%20crisp%22%20transform%3D%22translate(688.23%2C0)%22%20d%3D%22M0%2C30v238%22%20style%3D%22stroke%3A%20rgb(89%2C%2089%2C%2089)%3B%20stroke-opacity%3A%200.25%3B%20stroke-width%3A%201px%3B%22%2F%3E%3Cpath%20class%3D%22xgrid%20crisp%22%20transform%3D%22translate(867.71%2C0)%22%20d%3D%22M0%2C30v238%22%20style%3D%22stroke%3A%20rgb(89%2C%2089%2C%2089)%3B%20stroke-opacity%3A%200.25%3B%20stroke-width%3A%201px%3B%22%2F%3E%3Cpath%20class%3D%22xgrid%20crisp%22%20transform%3D%22translate(1047.19%2C0)%22%20d%3D%22M0%2C30v238%22%20style%3D%22stroke%3A%20rgb(89%2C%2089%2C%2089)%3B%20stroke-opacity%3A%200.25%3B%20stroke-width%3A%201px%3B%22%2F%3E%3C%2Fg%3E%3Cg%20class%3D%22y%22%3E%3Cpath%20class%3D%22ygrid%20crisp%22%20transform%3D%22translate(0%2C260.21000000000004)%22%20d%3D%22M80%2C0h1006%22%20style%3D%22stroke%3A%20rgb(89%2C%2089%2C%2089)%3B%20stroke-opacity%3A%200.25%3B%20stroke-width%3A%201px%3B%22%2F%3E%3Cpath%20class%3D%22ygrid%20crisp%22%20transform%3D%22translate(0%2C215.54)%22%20d%3D%22M80%2C0h1006%22%20style%3D%22stroke%3A%20rgb(89%2C%2089%2C%2089)%3B%20stroke-opacity%3A%200.25%3B%20stroke-width%3A%201px%3B%22%2F%3E%3Cpath%20class%3D%22ygrid%20crisp%22%20transform%3D%22translate(0%2C170.86)%22%20d%3D%22M80%2C0h1006%22%20style%3D%22stroke%3A%20rgb(89%2C%2089%2C%2089)%3B%20stroke-opacity%3A%200.25%3B%20stroke-width%3A%201px%3B%22%2F%3E%3Cpath%20class%3D%22ygrid%20crisp%22%20transform%3D%22translate(0%2C126.18)%22%20d%3D%22M80%2C0h1006%22%20style%3D%22stroke%3A%20rgb(89%2C%2089%2C%2089)%3B%20stroke-opacity%3A%200.25%3B%20stroke-width%3A%201px%3B%22%2F%3E%3Cpath%20class%3D%22ygrid%20crisp%22%20transform%3D%22translate(0%2C81.5)%22%20d%3D%22M80%2C0h1006%22%20style%3D%22stroke%3A%20rgb(89%2C%2089%2C%2089)%3B%20stroke-opacity%3A%200.25%3B%20stroke-width%3A%201px%3B%22%2F%3E%3Cpath%20class%3D%22ygrid%20crisp%22%20transform%3D%22translate(0%2C36.83)%22%20d%3D%22M80%2C0h1006%22%20style%3D%22stroke%3A%20rgb(89%2C%2089%2C%2089)%3B%20stroke-opacity%3A%200.25%3B%20stroke-width%3A%201px%3B%22%2F%3E%3C%2Fg%3E%3C%2Fg%3E%3Cg%20class%3D%22zerolinelayer%22%2F%3E%3Cpath%20class%3D%22xlines-below%22%2F%3E%3Cpath%20class%3D%22ylines-below%22%2F%3E%3Cg%20class%3D%22overlines-below%22%2F%3E%3Cg%20class%3D%22xaxislayer-below%22%2F%3E%3Cg%20class%3D%22yaxislayer-below%22%2F%3E%3Cg%20class%3D%22overaxes-below%22%2F%3E%3Cg%20class%3D%22plot%22%20transform%3D%22translate(80%2C30)%22%20clip-path%3D%22url('%23clipdb7804xyplot')%22%3E%3Cg%20class%3D%22scatterlayer%20mlayer%22%3E%3Cg%20class%3D%22trace%20scatter%20trace501f4e0%22%20style%3D%22stroke-miterlimit%3A%202%3B%20opacity%3A%201%3B%22%3E%3Cg%20class%3D%22fills%22%2F%3E%3Cg%20class%3D%22errorbars%22%2F%3E%3Cg%20class%3D%22lines%22%3E%3Cpath%20class%3D%22js-line%22%20style%3D%22vector-effect%3A%20non-scaling-stroke%3B%20fill%3A%20none%3B%20stroke%3A%20rgb(78%2C%20121%2C%20167)%3B%20stroke-opacity%3A%201%3B%20stroke-width%3A%202px%3B%20opacity%3A%201%3B%22%20d%3D%22M54.05%2C152.03L69.29%2C222.17L84.54%2C219.08L98.31%2C222.35L113.55%2C220.78L128.3%2C205.51L143.54%2C219.86L158.3%2C214.73L173.54%2C177.33L188.78%2C165.48L203.54%2C165.91L218.78%2C174.34L233.53%2C176.65L248.78%2C206.61L264.02%2C164.65L278.28%2C200.95L293.52%2C155.83L308.27%2C162.34L323.52%2C164.4L338.27%2C176.78L353.51%2C177.22L368.76%2C165.18L383.51%2C176.33L398.75%2C180.49L413.51%2C135.55L428.75%2C121.21L443.99%2C122.28L457.76%2C122.24L473%2C129.53L487.76%2C144.25L503%2C143.6L517.75%2C141.06L533%2C143.58L548.24%2C143.4L562.99%2C141.04L578.23%2C145.42L592.99%2C141.17L608.23%2C142.36L623.47%2C141.38L637.24%2C141.69L652.49%2C144.34L697.23%2C146.18L712.48%2C143.72L727.72%2C146.34L742.47%2C146.44L757.72%2C150.48L772.47%2C144.16L787.71%2C144.34L802.96%2C143.57L816.72%2C142.77L831.97%2C146.24L846.72%2C145.98L861.96%2C146.96L876.72%2C142.95L891.96%2C142.14L907.2%2C140.48L921.95%2C142.6L937.2%2C141.98L951.95%2C143.75%22%2F%3E%3C%2Fg%3E%3Cg%20class%3D%22points%22%3E%3Cpath%20class%3D%22point%22%20transform%3D%22translate(54.05%2C152.03)%22%20style%3D%22opacity%3A%201%3B%20stroke-width%3A%200px%3B%20fill%3A%20rgb(78%2C%20121%2C%20167)%3B%20fill-opacity%3A%201%3B%22%20d%3D%22M3%2C0A3%2C3%200%201%2C1%200%2C-3A3%2C3%200%200%2C1%203%2C0Z%22%2F%3E%3Cpath%20class%3D%22point%22%20transform%3D%22translate(69.29%2C222.17)%22%20style%3D%22opacity%3A%201%3B%20stroke-width%3A%200px%3B%20fill%3A%20rgb(78%2C%20121%2C%20167)%3B%20fill-opacity%3A%201%3B%22%20d%3D%22M3%2C0A3%2C3%200%201%2C1%200%2C-3A3%2C3%200%200%2C1%203%2C0Z%22%2F%3E%3Cpath%20class%3D%22point%22%20transform%3D%22translate(84.54%2C219.08)%22%20style%3D%22opacity%3A%201%3B%20stroke-width%3A%200px%3B%20fill%3A%20rgb(78%2C%20121%2C%20167)%3B%20fill-opacity%3A%201%3B%22%20d%3D%22M3%2C0A3%2C3%200%201%2C1%200%2C-3A3%2C3%200%200%2C1%203%2C0Z%22%2F%3E%3Cpath%20class%3D%22point%22%20transform%3D%22translate(98.31%2C222.35)%22%20style%3D%22opacity%3A%201%3B%20stroke-width%3A%200px%3B%20fill%3A%20rgb(78%2C%20121%2C%20167)%3B%20fill-opacity%3A%201%3B%22%20d%3D%22M3%2C0A3%2C3%200%201%2C1%200%2C-3A3%2C3%200%200%2C1%203%2C0Z%22%2F%3E%3Cpath%20class%3D%22point%22%20transform%3D%22translate(113.55%2C220.78)%22%20style%3D%22opacity%3A%201%3B%20stroke-width%3A%200px%3B%20fill%3A%20rgb(78%2C%20121%2C%20167)%3B%20fill-opacity%3A%201%3B%22%20d%3D%22M3%2C0A3%2C3%200%201%2C1%200%2C-3A3%2C3%200%200%2C1%203%2C0Z%22%2F%3E%3Cpath%20class%3D%22point%22%20transform%3D%22translate(128.3%2C205.51)%22%20style%3D%22opacity%3A%201%3B%20stroke-width%3A%200px%3B%20fill%3A%20rgb(78%2C%20121%2C%20167)%3B%20fill-opacity%3A%201%3B%22%20d%3D%22M3%2C0A3%2C3%200%201%2C1%200%2C-3A3%2C3%200%200%2C1%203%2C0Z%22%2F%3E%3Cpath%20class%3D%22point%22%20transform%3D%22translate(143.54%2C219.86)%22%20style%3D%22opacity%3A%201%3B%20stroke-width%3A%200px%3B%20fill%3A%20rgb(78%2C%20121%2C%20167)%3B%20fill-opacity%3A%201%3B%22%20d%3D%22M3%2C0A3%2C3%200%201%2C1%200%2C-3A3%2C3%200%200%2C1%203%2C0Z%22%2F%3E%3Cpath%20class%3D%22point%22%20transform%3D%22translate(158.3%2C214.73)%22%20style%3D%22opacity%3A%201%3B%20stroke-width%3A%200px%3B%20fill%3A%20rgb(78%2C%20121%2C%20167)%3B%20fill-opacity%3A%201%3B%22%20d%3D%22M3%2C0A3%2C3%200%201%2C1%200%2C-3A3%2C3%200%200%2C1%203%2C0Z%22%2F%3E%3Cpath%20class%3D%22point%22%20transform%3D%22translate(173.54%2C177.33)%22%20style%3D%22opacity%3A%201%3B%20stroke-width%3A%200px%3B%20fill%3A%20rgb(78%2C%20121%2C%20167)%3B%20fill-opacity%3A%201%3B%22%20d%3D%22M3%2C0A3%2C3%200%201%2C1%200%2C-3A3%2C3%200%200%2C1%203%2C0Z%22%2F%3E%3Cpath%20class%3D%22point%22%20transform%3D%22translate(188.78%2C165.48)%22%20style%3D%22opacity%3A%201%3B%20stroke-width%3A%200px%3B%20fill%3A%20rgb(78%2C%20121%2C%20167)%3B%20fill-opacity%3A%201%3B%22%20d%3D%22M3%2C0A3%2C3%200%201%2C1%200%2C-3A3%2C3%200%200%2C1%203%2C0Z%22%2F%3E%3Cpath%20class%3D%22point%22%20transform%3D%22translate(203.54%2C165.91)%22%20style%3D%22opacity%3A%201%3B%20stroke-width%3A%200px%3B%20fill%3A%20rgb(78%2C%20121%2C%20167)%3B%20fill-opacity%3A%201%3B%22%20d%3D%22M3%2C0A3%2C3%200%201%2C1%200%2C-3A3%2C3%200%200%2C1%203%2C0Z%22%2F%3E%3Cpath%20class%3D%22point%22%20transform%3D%22translate(218.78%2C174.34)%22%20style%3D%22opacity%3A%201%3B%20stroke-width%3A%200px%3B%20fill%3A%20rgb(78%2C%20121%2C%20167)%3B%20fill-opacity%3A%201%3B%22%20d%3D%22M3%2C0A3%2C3%200%201%2C1%200%2C-3A3%2C3%200%200%2C1%203%2C0Z%22%2F%3E%3Cpath%20class%3D%22point%22%20transform%3D%22translate(233.53%2C176.65)%22%20style%3D%22opacity%3A%201%3B%20stroke-width%3A%200px%3B%20fill%3A%20rgb(78%2C%20121%2C%20167)%3B%20fill-opacity%3A%201%3B%22%20d%3D%22M3%2C0A3%2C3%200%201%2C1%200%2C-3A3%2C3%200%200%2C1%203%2C0Z%22%2F%3E%3Cpath%20class%3D%22point%22%20transform%3D%22translate(248.78%2C206.61)%22%20style%3D%22opacity%3A%201%3B%20stroke-width%3A%200px%3B%20fill%3A%20rgb(78%2C%20121%2C%20167)%3B%20fill-opacity%3A%201%3B%22%20d%3D%22M3%2C0A3%2C3%200%201%2C1%200%2C-3A3%2C3%200%200%2C1%203%2C0Z%22%2F%3E%3Cpath%20class%3D%22point%22%20transform%3D%22translate(264.02%2C164.65)%22%20style%3D%22opacity%3A%201%3B%20stroke-width%3A%200px%3B%20fill%3A%20rgb(78%2C%20121%2C%20167)%3B%20fill-opacity%3A%201%3B%22%20d%3D%22M3%2C0A3%2C3%200%201%2C1%200%2C-3A3%2C3%200%200%2C1%203%2C0Z%22%2F%3E%3Cpath%20class%3D%22point%22%20transform%3D%22translate(278.28%2C200.95)%22%20style%3D%22opacity%3A%201%3B%20stroke-width%3A%200px%3B%20fill%3A%20rgb(78%2C%20121%2C%20167)%3B%20fill-opacity%3A%201%3B%22%20d%3D%22M3%2C0A3%2C3%200%201%2C1%200%2C-3A3%2C3%200%200%2C1%203%2C0Z%22%2F%3E%3Cpath%20class%3D%22point%22%20transform%3D%22translate(293.52%2C155.83)%22%20style%3D%22opacity%3A%201%3B%20stroke-width%3A%200px%3B%20fill%3A%20rgb(78%2C%20121%2C%20167)%3B%20fill-opacity%3A%201%3B%22%20d%3D%22M3%2C0A3%2C3%200%201%2C1%200%2C-3A3%2C3%200%200%2C1%203%2C0Z%22%2F%3E%3Cpath%20class%3D%22point%22%20transform%3D%22translate(308.27%2C162.34)%22%20style%3D%22opacity%3A%201%3B%20stroke-width%3A%200px%3B%20fill%3A%20rgb(78%2C%20121%2C%20167)%3B%20fill-opacity%3A%201%3B%22%20d%3D%22M3%2C0A3%2C3%200%201%2C1%200%2C-3A3%2C3%200%200%2C1%203%2C0Z%22%2F%3E%3Cpath%20class%3D%22point%22%20transform%3D%22translate(323.52%2C164.4)%22%20style%3D%22opacity%3A%201%3B%20stroke-width%3A%200px%3B%20fill%3A%20rgb(78%2C%20121%2C%20167)%3B%20fill-opacity%3A%201%3B%22%20d%3D%22M3%2C0A3%2C3%200%201%2C1%200%2C-3A3%2C3%200%200%2C1%203%2C0Z%22%2F%3E%3Cpath%20class%3D%22point%22%20transform%3D%22translate(338.27%2C176.78)%22%20style%3D%22opacity%3A%201%3B%20stroke-width%3A%200px%3B%20fill%3A%20rgb(78%2C%20121%2C%20167)%3B%20fill-opacity%3A%201%3B%22%20d%3D%22M3%2C0A3%2C3%200%201%2C1%200%2C-3A3%2C3%200%200%2C1%203%2C0Z%22%2F%3E%3Cpath%20class%3D%22point%22%20transform%3D%22translate(353.51%2C177.22)%22%20style%3D%22opacity%3A%201%3B%20stroke-width%3A%200px%3B%20fill%3A%20rgb(78%2C%20121%2C%20167)%3B%20fill-opacity%3A%201%3B%22%20d%3D%22M3%2C0A3%2C3%200%201%2C1%200%2C-3A3%2C3%200%200%2C1%203%2C0Z%22%2F%3E%3Cpath%20class%3D%22point%22%20transform%3D%22translate(368.76%2C165.18)%22%20style%3D%22opacity%3A%201%3B%20stroke-width%3A%200px%3B%20fill%3A%20rgb(78%2C%20121%2C%20167)%3B%20fill-opacity%3A%201%3B%22%20d%3D%22M3%2C0A3%2C3%200%201%2C1%200%2C-3A3%2C3%200%200%2C1%203%2C0Z%22%2F%3E%3Cpath%20class%3D%22point%22%20transform%3D%22translate(383.51%2C176.33)%22%20style%3D%22opacity%3A%201%3B%20stroke-width%3A%200px%3B%20fill%3A%20rgb(78%2C%20121%2C%20167)%3B%20fill-opacity%3A%201%3B%22%20d%3D%22M3%2C0A3%2C3%200%201%2C1%200%2C-3A3%2C3%200%200%2C1%203%2C0Z%22%2F%3E%3Cpath%20class%3D%22point%22%20transform%3D%22translate(398.75%2C180.49)%22%20style%3D%22opacity%3A%201%3B%20stroke-width%3A%200px%3B%20fill%3A%20rgb(78%2C%20121%2C%20167)%3B%20fill-opacity%3A%201%3B%22%20d%3D%22M3%2C0A3%2C3%200%201%2C1%200%2C-3A3%2C3%200%200%2C1%203%2C0Z%22%2F%3E%3Cpath%20class%3D%22point%22%20transform%3D%22translate(413.51%2C135.55)%22%20style%3D%22opacity%3A%201%3B%20stroke-width%3A%200px%3B%20fill%3A%20rgb(78%2C%20121%2C%20167)%3B%20fill-opacity%3A%201%3B%22%20d%3D%22M3%2C0A3%2C3%200%201%2C1%200%2C-3A3%2C3%200%200%2C1%203%2C0Z%22%2F%3E%3Cpath%20class%3D%22point%22%20transform%3D%22translate(428.75%2C121.21)%22%20style%3D%22opacity%3A%201%3B%20stroke-width%3A%200px%3B%20fill%3A%20rgb(78%2C%20121%2C%20167)%3B%20fill-opacity%3A%201%3B%22%20d%3D%22M3%2C0A3%2C3%200%201%2C1%200%2C-3A3%2C3%200%200%2C1%203%2C0Z%22%2F%3E%3Cpath%20class%3D%22point%22%20transform%3D%22translate(443.99%2C122.28)%22%20style%3D%22opacity%3A%201%3B%20stroke-width%3A%200px%3B%20fill%3A%20rgb(78%2C%20121%2C%20167)%3B%20fill-opacity%3A%201%3B%22%20d%3D%22M3%2C0A3%2C3%200%201%2C1%200%2C-3A3%2C3%200%200%2C1%203%2C0Z%22%2F%3E%3Cpath%20class%3D%22point%22%20transform%3D%22translate(457.76%2C122.24)%22%20style%3D%22opacity%3A%201%3B%20stroke-width%3A%200px%3B%20fill%3A%20rgb(78%2C%20121%2C%20167)%3B%20fill-opacity%3A%201%3B%22%20d%3D%22M3%2C0A3%2C3%200%201%2C1%200%2C-3A3%2C3%200%200%2C1%203%2C0Z%22%2F%3E%3Cpath%20class%3D%22point%22%20transform%3D%22translate(473%2C129.53)%22%20style%3D%22opacity%3A%201%3B%20stroke-width%3A%200px%3B%20fill%3A%20rgb(78%2C%20121%2C%20167)%3B%20fill-opacity%3A%201%3B%22%20d%3D%22M3%2C0A3%2C3%200%201%2C1%200%2C-3A3%2C3%200%200%2C1%203%2C0Z%22%2F%3E%3Cpath%20class%3D%22point%22%20transform%3D%22translate(487.76%2C144.25)%22%20style%3D%22opacity%3A%201%3B%20stroke-width%3A%200px%3B%20fill%3A%20rgb(78%2C%20121%2C%20167)%3B%20fill-opacity%3A%201%3B%22%20d%3D%22M3%2C0A3%2C3%200%201%2C1%200%2C-3A3%2C3%200%200%2C1%203%2C0Z%22%2F%3E%3Cpath%20class%3D%22point%22%20transform%3D%22translate(503%2C143.6)%22%20style%3D%22opacity%3A%201%3B%20stroke-width%3A%200px%3B%20fill%3A%20rgb(78%2C%20121%2C%20167)%3B%20fill-opacity%3A%201%3B%22%20d%3D%22M3%2C0A3%2C3%200%201%2C1%200%2C-3A3%2C3%200%200%2C1%203%2C0Z%22%2F%3E%3Cpath%20class%3D%22point%22%20transform%3D%22translate(517.75%2C141.06)%22%20style%3D%22opacity%3A%201%3B%20stroke-width%3A%200px%3B%20fill%3A%20rgb(78%2C%20121%2C%20167)%3B%20fill-opacity%3A%201%3B%22%20d%3D%22M3%2C0A3%2C3%200%201%2C1%200%2C-3A3%2C3%200%200%2C1%203%2C0Z%22%2F%3E%3Cpath%20class%3D%22point%22%20transform%3D%22translate(533%2C143.58)%22%20style%3D%22opacity%3A%201%3B%20stroke-width%3A%200px%3B%20fill%3A%20rgb(78%2C%20121%2C%20167)%3B%20fill-opacity%3A%201%3B%22%20d%3D%22M3%2C0A3%2C3%200%201%2C1%200%2C-3A3%2C3%200%200%2C1%203%2C0Z%22%2F%3E%3Cpath%20class%3D%22point%22%20transform%3D%22translate(548.24%2C143.4)%22%20style%3D%22opacity%3A%201%3B%20stroke-width%3A%200px%3B%20fill%3A%20rgb(78%2C%20121%2C%20167)%3B%20fill-opacity%3A%201%3B%22%20d%3D%22M3%2C0A3%2C3%200%201%2C1%200%2C-3A3%2C3%200%200%2C1%203%2C0Z%22%2F%3E%3Cpath%20class%3D%22point%22%20transform%3D%22translate(562.99%2C141.04)%22%20style%3D%22opacity%3A%201%3B%20stroke-width%3A%200px%3B%20fill%3A%20rgb(78%2C%20121%2C%20167)%3B%20fill-opacity%3A%201%3B%22%20d%3D%22M3%2C0A3%2C3%200%201%2C1%200%2C-3A3%2C3%200%200%2C1%203%2C0Z%22%2F%3E%3Cpath%20class%3D%22point%22%20transform%3D%22translate(578.23%2C145.42)%22%20style%3D%22opacity%3A%201%3B%20stroke-width%3A%200px%3B%20fill%3A%20rgb(78%2C%20121%2C%20167)%3B%20fill-opacity%3A%201%3B%22%20d%3D%22M3%2C0A3%2C3%200%201%2C1%200%2C-3A3%2C3%200%200%2C1%203%2C0Z%22%2F%3E%3Cpath%20class%3D%22point%22%20transform%3D%22translate(592.99%2C141.17)%22%20style%3D%22opacity%3A%201%3B%20stroke-width%3A%200px%3B%20fill%3A%20rgb(78%2C%20121%2C%20167)%3B%20fill-opacity%3A%201%3B%22%20d%3D%22M3%2C0A3%2C3%200%201%2C1%200%2C-3A3%2C3%200%200%2C1%203%2C0Z%22%2F%3E%3Cpath%20class%3D%22point%22%20transform%3D%22translate(608.23%2C142.36)%22%20style%3D%22opacity%3A%201%3B%20stroke-width%3A%200px%3B%20fill%3A%20rgb(78%2C%20121%2C%20167)%3B%20fill-opacity%3A%201%3B%22%20d%3D%22M3%2C0A3%2C3%200%201%2C1%200%2C-3A3%2C3%200%200%2C1%203%2C0Z%22%2F%3E%3Cpath%20class%3D%22point%22%20transform%3D%22translate(623.47%2C141.38)%22%20style%3D%22opacity%3A%201%3B%20stroke-width%3A%200px%3B%20fill%3A%20rgb(78%2C%20121%2C%20167)%3B%20fill-opacity%3A%201%3B%22%20d%3D%22M3%2C0A3%2C3%200%201%2C1%200%2C-3A3%2C3%200%200%2C1%203%2C0Z%22%2F%3E%3Cpath%20class%3D%22point%22%20transform%3D%22translate(637.24%2C141.69)%22%20style%3D%22opacity%3A%201%3B%20stroke-width%3A%200px%3B%20fill%3A%20rgb(78%2C%20121%2C%20167)%3B%20fill-opacity%3A%201%3B%22%20d%3D%22M3%2C0A3%2C3%200%201%2C1%200%2C-3A3%2C3%200%200%2C1%203%2C0Z%22%2F%3E%3Cpath%20class%3D%22point%22%20transform%3D%22translate(652.49%2C144.34)%22%20style%3D%22opacity%3A%201%3B%20stroke-width%3A%200px%3B%20fill%3A%20rgb(78%2C%20121%2C%20167)%3B%20fill-opacity%3A%201%3B%22%20d%3D%22M3%2C0A3%2C3%200%201%2C1%200%2C-3A3%2C3%200%200%2C1%203%2C0Z%22%2F%3E%3Cpath%20class%3D%22point%22%20transform%3D%22translate(667.24%2C145.08)%22%20style%3D%22opacity%3A%201%3B%20stroke-width%3A%200px%3B%20fill%3A%20rgb(78%2C%20121%2C%20167)%3B%20fill-opacity%3A%201%3B%22%20d%3D%22M3%2C0A3%2C3%200%201%2C1%200%2C-3A3%2C3%200%200%2C1%203%2C0Z%22%2F%3E%3Cpath%20class%3D%22point%22%20transform%3D%22translate(682.48%2C145.73)%22%20style%3D%22opacity%3A%201%3B%20stroke-width%3A%200px%3B%20fill%3A%20rgb(78%2C%20121%2C%20167)%3B%20fill-opacity%3A%201%3B%22%20d%3D%22M3%2C0A3%2C3%200%201%2C1%200%2C-3A3%2C3%200%200%2C1%203%2C0Z%22%2F%3E%3Cpath%20class%3D%22point%22%20transform%3D%22translate(697.23%2C146.18)%22%20style%3D%22opacity%3A%201%3B%20stroke-width%3A%200px%3B%20fill%3A%20rgb(78%2C%20121%2C%20167)%3B%20fill-opacity%3A%201%3B%22%20d%3D%22M3%2C0A3%2C3%200%201%2C1%200%2C-3A3%2C3%200%200%2C1%203%2C0Z%22%2F%3E%3Cpath%20class%3D%22point%22%20transform%3D%22translate(712.48%2C143.72)%22%20style%3D%22opacity%3A%201%3B%20stroke-width%3A%200px%3B%20fill%3A%20rgb(78%2C%20121%2C%20167)%3B%20fill-opacity%3A%201%3B%22%20d%3D%22M3%2C0A3%2C3%200%201%2C1%200%2C-3A3%2C3%200%200%2C1%203%2C0Z%22%2F%3E%3Cpath%20class%3D%22point%22%20transform%3D%22translate(727.72%2C146.34)%22%20style%3D%22opacity%3A%201%3B%20stroke-width%3A%200px%3B%20fill%3A%20rgb(78%2C%20121%2C%20167)%3B%20fill-opacity%3A%201%3B%22%20d%3D%22M3%2C0A3%2C3%200%201%2C1%200%2C-3A3%2C3%200%200%2C1%203%2C0Z%22%2F%3E%3Cpath%20class%3D%22point%22%20transform%3D%22translate(742.47%2C146.44)%22%20style%3D%22opacity%3A%201%3B%20stroke-width%3A%200px%3B%20fill%3A%20rgb(78%2C%20121%2C%20167)%3B%20fill-opacity%3A%201%3B%22%20d%3D%22M3%2C0A3%2C3%200%201%2C1%200%2C-3A3%2C3%200%200%2C1%203%2C0Z%22%2F%3E%3Cpath%20class%3D%22point%22%20transform%3D%22translate(757.72%2C150.48)%22%20style%3D%22opacity%3A%201%3B%20stroke-width%3A%200px%3B%20fill%3A%20rgb(78%2C%20121%2C%20167)%3B%20fill-opacity%3A%201%3B%22%20d%3D%22M3%2C0A3%2C3%200%201%2C1%200%2C-3A3%2C3%200%200%2C1%203%2C0Z%22%2F%3E%3Cpath%20class%3D%22point%22%20transform%3D%22translate(772.47%2C144.16)%22%20style%3D%22opacity%3A%201%3B%20stroke-width%3A%200px%3B%20fill%3A%20rgb(78%2C%20121%2C%20167)%3B%20fill-opacity%3A%201%3B%22%20d%3D%22M3%2C0A3%2C3%200%201%2C1%200%2C-3A3%2C3%200%200%2C1%203%2C0Z%22%2F%3E%3Cpath%20class%3D%22point%22%20transform%3D%22translate(787.71%2C144.34)%22%20style%3D%22opacity%3A%201%3B%20stroke-width%3A%200px%3B%20fill%3A%20rgb(78%2C%20121%2C%20167)%3B%20fill-opacity%3A%201%3B%22%20d%3D%22M3%2C0A3%2C3%200%201%2C1%200%2C-3A3%2C3%200%200%2C1%203%2C0Z%22%2F%3E%3Cpath%20class%3D%22point%22%20transform%3D%22translate(802.96%2C143.57)%22%20style%3D%22opacity%3A%201%3B%20stroke-width%3A%200px%3B%20fill%3A%20rgb(78%2C%20121%2C%20167)%3B%20fill-opacity%3A%201%3B%22%20d%3D%22M3%2C0A3%2C3%200%201%2C1%200%2C-3A3%2C3%200%200%2C1%203%2C0Z%22%2F%3E%3Cpath%20class%3D%22point%22%20transform%3D%22translate(816.72%2C142.77)%22%20style%3D%22opacity%3A%201%3B%20stroke-width%3A%200px%3B%20fill%3A%20rgb(78%2C%20121%2C%20167)%3B%20fill-opacity%3A%201%3B%22%20d%3D%22M3%2C0A3%2C3%200%201%2C1%200%2C-3A3%2C3%200%200%2C1%203%2C0Z%22%2F%3E%3Cpath%20class%3D%22point%22%20transform%3D%22translate(831.97%2C146.24)%22%20style%3D%22opacity%3A%201%3B%20stroke-width%3A%200px%3B%20fill%3A%20rgb(78%2C%20121%2C%20167)%3B%20fill-opacity%3A%201%3B%22%20d%3D%22M3%2C0A3%2C3%200%201%2C1%200%2C-3A3%2C3%200%200%2C1%203%2C0Z%22%2F%3E%3Cpath%20class%3D%22point%22%20transform%3D%22translate(846.72%2C145.98)%22%20style%3D%22opacity%3A%201%3B%20stroke-width%3A%200px%3B%20fill%3A%20rgb(78%2C%20121%2C%20167)%3B%20fill-opacity%3A%201%3B%22%20d%3D%22M3%2C0A3%2C3%200%201%2C1%200%2C-3A3%2C3%200%200%2C1%203%2C0Z%22%2F%3E%3Cpath%20class%3D%22point%22%20transform%3D%22translate(861.96%2C146.96)%22%20style%3D%22opacity%3A%201%3B%20stroke-width%3A%200px%3B%20fill%3A%20rgb(78%2C%20121%2C%20167)%3B%20fill-opacity%3A%201%3B%22%20d%3D%22M3%2C0A3%2C3%200%201%2C1%200%2C-3A3%2C3%200%200%2C1%203%2C0Z%22%2F%3E%3Cpath%20class%3D%22point%22%20transform%3D%22translate(876.72%2C142.95)%22%20style%3D%22opacity%3A%201%3B%20stroke-width%3A%200px%3B%20fill%3A%20rgb(78%2C%20121%2C%20167)%3B%20fill-opacity%3A%201%3B%22%20d%3D%22M3%2C0A3%2C3%200%201%2C1%200%2C-3A3%2C3%200%200%2C1%203%2C0Z%22%2F%3E%3Cpath%20class%3D%22point%22%20transform%3D%22translate(891.96%2C142.14)%22%20style%3D%22opacity%3A%201%3B%20stroke-width%3A%200px%3B%20fill%3A%20rgb(78%2C%20121%2C%20167)%3B%20fill-opacity%3A%201%3B%22%20d%3D%22M3%2C0A3%2C3%200%201%2C1%200%2C-3A3%2C3%200%200%2C1%203%2C0Z%22%2F%3E%3Cpath%20class%3D%22point%22%20transform%3D%22translate(907.2%2C140.48)%22%20style%3D%22opacity%3A%201%3B%20stroke-width%3A%200px%3B%20fill%3A%20rgb(78%2C%20121%2C%20167)%3B%20fill-opacity%3A%201%3B%22%20d%3D%22M3%2C0A3%2C3%200%201%2C1%200%2C-3A3%2C3%200%200%2C1%203%2C0Z%22%2F%3E%3Cpath%20class%3D%22point%22%20transform%3D%22translate(921.95%2C142.6)%22%20style%3D%22opacity%3A%201%3B%20stroke-width%3A%200px%3B%20fill%3A%20rgb(78%2C%20121%2C%20167)%3B%20fill-opacity%3A%201%3B%22%20d%3D%22M3%2C0A3%2C3%200%201%2C1%200%2C-3A3%2C3%200%200%2C1%203%2C0Z%22%2F%3E%3Cpath%20class%3D%22point%22%20transform%3D%22translate(937.2%2C141.98)%22%20style%3D%22opacity%3A%201%3B%20stroke-width%3A%200px%3B%20fill%3A%20rgb(78%2C%20121%2C%20167)%3B%20fill-opacity%3A%201%3B%22%20d%3D%22M3%2C0A3%2C3%200%201%2C1%200%2C-3A3%2C3%200%200%2C1%203%2C0Z%22%2F%3E%3Cpath%20class%3D%22point%22%20transform%3D%22translate(951.95%2C143.75)%22%20style%3D%22opacity%3A%201%3B%20stroke-width%3A%200px%3B%20fill%3A%20rgb(78%2C%20121%2C%20167)%3B%20fill-opacity%3A%201%3B%22%20d%3D%22M3%2C0A3%2C3%200%201%2C1%200%2C-3A3%2C3%200%200%2C1%203%2C0Z%22%2F%3E%3C%2Fg%3E%3Cg%20class%3D%22text%22%2F%3E%3C%2Fg%3E%3Cg%20class%3D%22trace%20scatter%20trace5d74da0%22%20style%3D%22stroke-miterlimit%3A%202%3B%20opacity%3A%201%3B%22%3E%3Cg%20class%3D%22fills%22%2F%3E%3Cg%20class%3D%22errorbars%22%2F%3E%3Cg%20class%3D%22lines%22%3E%3Cpath%20class%3D%22js-line%22%20style%3D%22vector-effect%3A%20non-scaling-stroke%3B%20fill%3A%20none%3B%20stroke%3A%20rgb(242%2C%20142%2C%2044)%3B%20stroke-opacity%3A%201%3B%20stroke-width%3A%202px%3B%20opacity%3A%201%3B%22%20d%3D%22M54.05%2C172.95L69.29%2C183.62L84.54%2C191.77L98.31%2C175.37L113.55%2C150.74L128.3%2C157.45L143.54%2C130.76L158.3%2C132.13L173.54%2C137.39L188.78%2C104.87L203.54%2C94.56L218.78%2C92.67L233.53%2C104.53L248.78%2C98.07L264.02%2C85.24L278.28%2C91.88L293.52%2C91.2L308.27%2C96.44L323.52%2C103.87L338.27%2C89.05L353.51%2C94.45L368.76%2C96.63L383.51%2C97.94L398.75%2C87.81L413.51%2C147.99L428.75%2C147.73L443.99%2C141.93L473%2C148.57L487.76%2C161.2L503%2C158.19L517.75%2C159.64L562.99%2C156.46L578.23%2C153.85L592.99%2C152.67L608.23%2C155.14L623.47%2C153.69L637.24%2C156.55L667.24%2C158.52L682.48%2C157.26L697.23%2C158.86L712.48%2C153.74L727.72%2C146.17L742.47%2C149.12L757.72%2C145.75L772.47%2C139.72L787.71%2C145.87L802.96%2C142.78L816.72%2C144.98L831.97%2C144.67L876.72%2C147.61L891.96%2C146.67L907.2%2C143.22L921.95%2C149.1L937.2%2C152.83L951.95%2C153.04%22%2F%3E%3C%2Fg%3E%3Cg%20class%3D%22points%22%3E%3Cpath%20class%3D%22point%22%20transform%3D%22translate(54.05%2C172.95)%22%20style%3D%22opacity%3A%201%3B%20stroke-width%3A%200px%3B%20fill%3A%20rgb(242%2C%20142%2C%2044)%3B%20fill-opacity%3A%201%3B%22%20d%3D%22M3%2C0A3%2C3%200%201%2C1%200%2C-3A3%2C3%200%200%2C1%203%2C0Z%22%2F%3E%3Cpath%20class%3D%22point%22%20transform%3D%22translate(69.29%2C183.62)%22%20style%3D%22opacity%3A%201%3B%20stroke-width%3A%200px%3B%20fill%3A%20rgb(242%2C%20142%2C%2044)%3B%20fill-opacity%3A%201%3B%22%20d%3D%22M3%2C0A3%2C3%200%201%2C1%200%2C-3A3%2C3%200%200%2C1%203%2C0Z%22%2F%3E%3Cpath%20class%3D%22point%22%20transform%3D%22translate(84.54%2C191.77)%22%20style%3D%22opacity%3A%201%3B%20stroke-width%3A%200px%3B%20fill%3A%20rgb(242%2C%20142%2C%2044)%3B%20fill-opacity%3A%201%3B%22%20d%3D%22M3%2C0A3%2C3%200%201%2C1%200%2C-3A3%2C3%200%200%2C1%203%2C0Z%22%2F%3E%3Cpath%20class%3D%22point%22%20transform%3D%22translate(98.31%2C175.37)%22%20style%3D%22opacity%3A%201%3B%20stroke-width%3A%200px%3B%20fill%3A%20rgb(242%2C%20142%2C%2044)%3B%20fill-opacity%3A%201%3B%22%20d%3D%22M3%2C0A3%2C3%200%201%2C1%200%2C-3A3%2C3%200%200%2C1%203%2C0Z%22%2F%3E%3Cpath%20class%3D%22point%22%20transform%3D%22translate(113.55%2C150.74)%22%20style%3D%22opacity%3A%201%3B%20stroke-width%3A%200px%3B%20fill%3A%20rgb(242%2C%20142%2C%2044)%3B%20fill-opacity%3A%201%3B%22%20d%3D%22M3%2C0A3%2C3%200%201%2C1%200%2C-3A3%2C3%200%200%2C1%203%2C0Z%22%2F%3E%3Cpath%20class%3D%22point%22%20transform%3D%22translate(128.3%2C157.45)%22%20style%3D%22opacity%3A%201%3B%20stroke-width%3A%200px%3B%20fill%3A%20rgb(242%2C%20142%2C%2044)%3B%20fill-opacity%3A%201%3B%22%20d%3D%22M3%2C0A3%2C3%200%201%2C1%200%2C-3A3%2C3%200%200%2C1%203%2C0Z%22%2F%3E%3Cpath%20class%3D%22point%22%20transform%3D%22translate(143.54%2C130.76)%22%20style%3D%22opacity%3A%201%3B%20stroke-width%3A%200px%3B%20fill%3A%20rgb(242%2C%20142%2C%2044)%3B%20fill-opacity%3A%201%3B%22%20d%3D%22M3%2C0A3%2C3%200%201%2C1%200%2C-3A3%2C3%200%200%2C1%203%2C0Z%22%2F%3E%3Cpath%20class%3D%22point%22%20transform%3D%22translate(158.3%2C132.13)%22%20style%3D%22opacity%3A%201%3B%20stroke-width%3A%200px%3B%20fill%3A%20rgb(242%2C%20142%2C%2044)%3B%20fill-opacity%3A%201%3B%22%20d%3D%22M3%2C0A3%2C3%200%201%2C1%200%2C-3A3%2C3%200%200%2C1%203%2C0Z%22%2F%3E%3Cpath%20class%3D%22point%22%20transform%3D%22translate(173.54%2C137.39)%22%20style%3D%22opacity%3A%201%3B%20stroke-width%3A%200px%3B%20fill%3A%20rgb(242%2C%20142%2C%2044)%3B%20fill-opacity%3A%201%3B%22%20d%3D%22M3%2C0A3%2C3%200%201%2C1%200%2C-3A3%2C3%200%200%2C1%203%2C0Z%22%2F%3E%3Cpath%20class%3D%22point%22%20transform%3D%22translate(188.78%2C104.87)%22%20style%3D%22opacity%3A%201%3B%20stroke-width%3A%200px%3B%20fill%3A%20rgb(242%2C%20142%2C%2044)%3B%20fill-opacity%3A%201%3B%22%20d%3D%22M3%2C0A3%2C3%200%201%2C1%200%2C-3A3%2C3%200%200%2C1%203%2C0Z%22%2F%3E%3Cpath%20class%3D%22point%22%20transform%3D%22translate(203.54%2C94.56)%22%20style%3D%22opacity%3A%201%3B%20stroke-width%3A%200px%3B%20fill%3A%20rgb(242%2C%20142%2C%2044)%3B%20fill-opacity%3A%201%3B%22%20d%3D%22M3%2C0A3%2C3%200%201%2C1%200%2C-3A3%2C3%200%200%2C1%203%2C0Z%22%2F%3E%3Cpath%20class%3D%22point%22%20transform%3D%22translate(218.78%2C92.67)%22%20style%3D%22opacity%3A%201%3B%20stroke-width%3A%200px%3B%20fill%3A%20rgb(242%2C%20142%2C%2044)%3B%20fill-opacity%3A%201%3B%22%20d%3D%22M3%2C0A3%2C3%200%201%2C1%200%2C-3A3%2C3%200%200%2C1%203%2C0Z%22%2F%3E%3Cpath%20class%3D%22point%22%20transform%3D%22translate(233.53%2C104.53)%22%20style%3D%22opacity%3A%201%3B%20stroke-width%3A%200px%3B%20fill%3A%20rgb(242%2C%20142%2C%2044)%3B%20fill-opacity%3A%201%3B%22%20d%3D%22M3%2C0A3%2C3%200%201%2C1%200%2C-3A3%2C3%200%200%2C1%203%2C0Z%22%2F%3E%3Cpath%20class%3D%22point%22%20transform%3D%22translate(248.78%2C98.07)%22%20style%3D%22opacity%3A%201%3B%20stroke-width%3A%200px%3B%20fill%3A%20rgb(242%2C%20142%2C%2044)%3B%20fill-opacity%3A%201%3B%22%20d%3D%22M3%2C0A3%2C3%200%201%2C1%200%2C-3A3%2C3%200%200%2C1%203%2C0Z%22%2F%3E%3Cpath%20class%3D%22point%22%20transform%3D%22translate(264.02%2C85.24)%22%20style%3D%22opacity%3A%201%3B%20stroke-width%3A%200px%3B%20fill%3A%20rgb(242%2C%20142%2C%2044)%3B%20fill-opacity%3A%201%3B%22%20d%3D%22M3%2C0A3%2C3%200%201%2C1%200%2C-3A3%2C3%200%200%2C1%203%2C0Z%22%2F%3E%3Cpath%20class%3D%22point%22%20transform%3D%22translate(278.28%2C91.88)%22%20style%3D%22opacity%3A%201%3B%20stroke-width%3A%200px%3B%20fill%3A%20rgb(242%2C%20142%2C%2044)%3B%20fill-opacity%3A%201%3B%22%20d%3D%22M3%2C0A3%2C3%200%201%2C1%200%2C-3A3%2C3%200%200%2C1%203%2C0Z%22%2F%3E%3Cpath%20class%3D%22point%22%20transform%3D%22translate(293.52%2C91.2)%22%20style%3D%22opacity%3A%201%3B%20stroke-width%3A%200px%3B%20fill%3A%20rgb(242%2C%20142%2C%2044)%3B%20fill-opacity%3A%201%3B%22%20d%3D%22M3%2C0A3%2C3%200%201%2C1%200%2C-3A3%2C3%200%200%2C1%203%2C0Z%22%2F%3E%3Cpath%20class%3D%22point%22%20transform%3D%22translate(308.27%2C96.44)%22%20style%3D%22opacity%3A%201%3B%20stroke-width%3A%200px%3B%20fill%3A%20rgb(242%2C%20142%2C%2044)%3B%20fill-opacity%3A%201%3B%22%20d%3D%22M3%2C0A3%2C3%200%201%2C1%200%2C-3A3%2C3%200%200%2C1%203%2C0Z%22%2F%3E%3Cpath%20class%3D%22point%22%20transform%3D%22translate(323.52%2C103.87)%22%20style%3D%22opacity%3A%201%3B%20stroke-width%3A%200px%3B%20fill%3A%20rgb(242%2C%20142%2C%2044)%3B%20fill-opacity%3A%201%3B%22%20d%3D%22M3%2C0A3%2C3%200%201%2C1%200%2C-3A3%2C3%200%200%2C1%203%2C0Z%22%2F%3E%3Cpath%20class%3D%22point%22%20transform%3D%22translate(338.27%2C89.05)%22%20style%3D%22opacity%3A%201%3B%20stroke-width%3A%200px%3B%20fill%3A%20rgb(242%2C%20142%2C%2044)%3B%20fill-opacity%3A%201%3B%22%20d%3D%22M3%2C0A3%2C3%200%201%2C1%200%2C-3A3%2C3%200%200%2C1%203%2C0Z%22%2F%3E%3Cpath%20class%3D%22point%22%20transform%3D%22translate(353.51%2C94.45)%22%20style%3D%22opacity%3A%201%3B%20stroke-width%3A%200px%3B%20fill%3A%20rgb(242%2C%20142%2C%2044)%3B%20fill-opacity%3A%201%3B%22%20d%3D%22M3%2C0A3%2C3%200%201%2C1%200%2C-3A3%2C3%200%200%2C1%203%2C0Z%22%2F%3E%3Cpath%20class%3D%22point%22%20transform%3D%22translate(368.76%2C96.63)%22%20style%3D%22opacity%3A%201%3B%20stroke-width%3A%200px%3B%20fill%3A%20rgb(242%2C%20142%2C%2044)%3B%20fill-opacity%3A%201%3B%22%20d%3D%22M3%2C0A3%2C3%200%201%2C1%200%2C-3A3%2C3%200%200%2C1%203%2C0Z%22%2F%3E%3Cpath%20class%3D%22point%22%20transform%3D%22translate(383.51%2C97.94)%22%20style%3D%22opacity%3A%201%3B%20stroke-width%3A%200px%3B%20fill%3A%20rgb(242%2C%20142%2C%2044)%3B%20fill-opacity%3A%201%3B%22%20d%3D%22M3%2C0A3%2C3%200%201%2C1%200%2C-3A3%2C3%200%200%2C1%203%2C0Z%22%2F%3E%3Cpath%20class%3D%22point%22%20transform%3D%22translate(398.75%2C87.81)%22%20style%3D%22opacity%3A%201%3B%20stroke-width%3A%200px%3B%20fill%3A%20rgb(242%2C%20142%2C%2044)%3B%20fill-opacity%3A%201%3B%22%20d%3D%22M3%2C0A3%2C3%200%201%2C1%200%2C-3A3%2C3%200%200%2C1%203%2C0Z%22%2F%3E%3Cpath%20class%3D%22point%22%20transform%3D%22translate(413.51%2C147.99)%22%20style%3D%22opacity%3A%201%3B%20stroke-width%3A%200px%3B%20fill%3A%20rgb(242%2C%20142%2C%2044)%3B%20fill-opacity%3A%201%3B%22%20d%3D%22M3%2C0A3%2C3%200%201%2C1%200%2C-3A3%2C3%200%200%2C1%203%2C0Z%22%2F%3E%3Cpath%20class%3D%22point%22%20transform%3D%22translate(428.75%2C147.73)%22%20style%3D%22opacity%3A%201%3B%20stroke-width%3A%200px%3B%20fill%3A%20rgb(242%2C%20142%2C%2044)%3B%20fill-opacity%3A%201%3B%22%20d%3D%22M3%2C0A3%2C3%200%201%2C1%200%2C-3A3%2C3%200%200%2C1%203%2C0Z%22%2F%3E%3Cpath%20class%3D%22point%22%20transform%3D%22translate(443.99%2C141.93)%22%20style%3D%22opacity%3A%201%3B%20stroke-width%3A%200px%3B%20fill%3A%20rgb(242%2C%20142%2C%2044)%3B%20fill-opacity%3A%201%3B%22%20d%3D%22M3%2C0A3%2C3%200%201%2C1%200%2C-3A3%2C3%200%200%2C1%203%2C0Z%22%2F%3E%3Cpath%20class%3D%22point%22%20transform%3D%22translate(457.76%2C145.03)%22%20style%3D%22opacity%3A%201%3B%20stroke-width%3A%200px%3B%20fill%3A%20rgb(242%2C%20142%2C%2044)%3B%20fill-opacity%3A%201%3B%22%20d%3D%22M3%2C0A3%2C3%200%201%2C1%200%2C-3A3%2C3%200%200%2C1%203%2C0Z%22%2F%3E%3Cpath%20class%3D%22point%22%20transform%3D%22translate(473%2C148.57)%22%20style%3D%22opacity%3A%201%3B%20stroke-width%3A%200px%3B%20fill%3A%20rgb(242%2C%20142%2C%2044)%3B%20fill-opacity%3A%201%3B%22%20d%3D%22M3%2C0A3%2C3%200%201%2C1%200%2C-3A3%2C3%200%200%2C1%203%2C0Z%22%2F%3E%3Cpath%20class%3D%22point%22%20transform%3D%22translate(487.76%2C161.2)%22%20style%3D%22opacity%3A%201%3B%20stroke-width%3A%200px%3B%20fill%3A%20rgb(242%2C%20142%2C%2044)%3B%20fill-opacity%3A%201%3B%22%20d%3D%22M3%2C0A3%2C3%200%201%2C1%200%2C-3A3%2C3%200%200%2C1%203%2C0Z%22%2F%3E%3Cpath%20class%3D%22point%22%20transform%3D%22translate(503%2C158.19)%22%20style%3D%22opacity%3A%201%3B%20stroke-width%3A%200px%3B%20fill%3A%20rgb(242%2C%20142%2C%2044)%3B%20fill-opacity%3A%201%3B%22%20d%3D%22M3%2C0A3%2C3%200%201%2C1%200%2C-3A3%2C3%200%200%2C1%203%2C0Z%22%2F%3E%3Cpath%20class%3D%22point%22%20transform%3D%22translate(517.75%2C159.64)%22%20style%3D%22opacity%3A%201%3B%20stroke-width%3A%200px%3B%20fill%3A%20rgb(242%2C%20142%2C%2044)%3B%20fill-opacity%3A%201%3B%22%20d%3D%22M3%2C0A3%2C3%200%201%2C1%200%2C-3A3%2C3%200%200%2C1%203%2C0Z%22%2F%3E%3Cpath%20class%3D%22point%22%20transform%3D%22translate(533%2C158.46)%22%20style%3D%22opacity%3A%201%3B%20stroke-width%3A%200px%3B%20fill%3A%20rgb(242%2C%20142%2C%2044)%3B%20fill-opacity%3A%201%3B%22%20d%3D%22M3%2C0A3%2C3%200%201%2C1%200%2C-3A3%2C3%200%200%2C1%203%2C0Z%22%2F%3E%3Cpath%20class%3D%22point%22%20transform%3D%22translate(548.24%2C157.39)%22%20style%3D%22opacity%3A%201%3B%20stroke-width%3A%200px%3B%20fill%3A%20rgb(242%2C%20142%2C%2044)%3B%20fill-opacity%3A%201%3B%22%20d%3D%22M3%2C0A3%2C3%200%201%2C1%200%2C-3A3%2C3%200%200%2C1%203%2C0Z%22%2F%3E%3Cpath%20class%3D%22point%22%20transform%3D%22translate(562.99%2C156.46)%22%20style%3D%22opacity%3A%201%3B%20stroke-width%3A%200px%3B%20fill%3A%20rgb(242%2C%20142%2C%2044)%3B%20fill-opacity%3A%201%3B%22%20d%3D%22M3%2C0A3%2C3%200%201%2C1%200%2C-3A3%2C3%200%200%2C1%203%2C0Z%22%2F%3E%3Cpath%20class%3D%22point%22%20transform%3D%22translate(578.23%2C153.85)%22%20style%3D%22opacity%3A%201%3B%20stroke-width%3A%200px%3B%20fill%3A%20rgb(242%2C%20142%2C%2044)%3B%20fill-opacity%3A%201%3B%22%20d%3D%22M3%2C0A3%2C3%200%201%2C1%200%2C-3A3%2C3%200%200%2C1%203%2C0Z%22%2F%3E%3Cpath%20class%3D%22point%22%20transform%3D%22translate(592.99%2C152.67)%22%20style%3D%22opacity%3A%201%3B%20stroke-width%3A%200px%3B%20fill%3A%20rgb(242%2C%20142%2C%2044)%3B%20fill-opacity%3A%201%3B%22%20d%3D%22M3%2C0A3%2C3%200%201%2C1%200%2C-3A3%2C3%200%200%2C1%203%2C0Z%22%2F%3E%3Cpath%20class%3D%22point%22%20transform%3D%22translate(608.23%2C155.14)%22%20style%3D%22opacity%3A%201%3B%20stroke-width%3A%200px%3B%20fill%3A%20rgb(242%2C%20142%2C%2044)%3B%20fill-opacity%3A%201%3B%22%20d%3D%22M3%2C0A3%2C3%200%201%2C1%200%2C-3A3%2C3%200%200%2C1%203%2C0Z%22%2F%3E%3Cpath%20class%3D%22point%22%20transform%3D%22translate(623.47%2C153.69)%22%20style%3D%22opacity%3A%201%3B%20stroke-width%3A%200px%3B%20fill%3A%20rgb(242%2C%20142%2C%2044)%3B%20fill-opacity%3A%201%3B%22%20d%3D%22M3%2C0A3%2C3%200%201%2C1%200%2C-3A3%2C3%200%200%2C1%203%2C0Z%22%2F%3E%3Cpath%20class%3D%22point%22%20transform%3D%22translate(637.24%2C156.55)%22%20style%3D%22opacity%3A%201%3B%20stroke-width%3A%200px%3B%20fill%3A%20rgb(242%2C%20142%2C%2044)%3B%20fill-opacity%3A%201%3B%22%20d%3D%22M3%2C0A3%2C3%200%201%2C1%200%2C-3A3%2C3%200%200%2C1%203%2C0Z%22%2F%3E%3Cpath%20class%3D%22point%22%20transform%3D%22translate(652.49%2C157.43)%22%20style%3D%22opacity%3A%201%3B%20stroke-width%3A%200px%3B%20fill%3A%20rgb(242%2C%20142%2C%2044)%3B%20fill-opacity%3A%201%3B%22%20d%3D%22M3%2C0A3%2C3%200%201%2C1%200%2C-3A3%2C3%200%200%2C1%203%2C0Z%22%2F%3E%3Cpath%20class%3D%22point%22%20transform%3D%22translate(667.24%2C158.52)%22%20style%3D%22opacity%3A%201%3B%20stroke-width%3A%200px%3B%20fill%3A%20rgb(242%2C%20142%2C%2044)%3B%20fill-opacity%3A%201%3B%22%20d%3D%22M3%2C0A3%2C3%200%201%2C1%200%2C-3A3%2C3%200%200%2C1%203%2C0Z%22%2F%3E%3Cpath%20class%3D%22point%22%20transform%3D%22translate(682.48%2C157.26)%22%20style%3D%22opacity%3A%201%3B%20stroke-width%3A%200px%3B%20fill%3A%20rgb(242%2C%20142%2C%2044)%3B%20fill-opacity%3A%201%3B%22%20d%3D%22M3%2C0A3%2C3%200%201%2C1%200%2C-3A3%2C3%200%200%2C1%203%2C0Z%22%2F%3E%3Cpath%20class%3D%22point%22%20transform%3D%22translate(697.23%2C158.86)%22%20style%3D%22opacity%3A%201%3B%20stroke-width%3A%200px%3B%20fill%3A%20rgb(242%2C%20142%2C%2044)%3B%20fill-opacity%3A%201%3B%22%20d%3D%22M3%2C0A3%2C3%200%201%2C1%200%2C-3A3%2C3%200%200%2C1%203%2C0Z%22%2F%3E%3Cpath%20class%3D%22point%22%20transform%3D%22translate(712.48%2C153.74)%22%20style%3D%22opacity%3A%201%3B%20stroke-width%3A%200px%3B%20fill%3A%20rgb(242%2C%20142%2C%2044)%3B%20fill-opacity%3A%201%3B%22%20d%3D%22M3%2C0A3%2C3%200%201%2C1%200%2C-3A3%2C3%200%200%2C1%203%2C0Z%22%2F%3E%3Cpath%20class%3D%22point%22%20transform%3D%22translate(727.72%2C146.17)%22%20style%3D%22opacity%3A%201%3B%20stroke-width%3A%200px%3B%20fill%3A%20rgb(242%2C%20142%2C%2044)%3B%20fill-opacity%3A%201%3B%22%20d%3D%22M3%2C0A3%2C3%200%201%2C1%200%2C-3A3%2C3%200%200%2C1%203%2C0Z%22%2F%3E%3Cpath%20class%3D%22point%22%20transform%3D%22translate(742.47%2C149.12)%22%20style%3D%22opacity%3A%201%3B%20stroke-width%3A%200px%3B%20fill%3A%20rgb(242%2C%20142%2C%2044)%3B%20fill-opacity%3A%201%3B%22%20d%3D%22M3%2C0A3%2C3%200%201%2C1%200%2C-3A3%2C3%200%200%2C1%203%2C0Z%22%2F%3E%3Cpath%20class%3D%22point%22%20transform%3D%22translate(757.72%2C145.75)%22%20style%3D%22opacity%3A%201%3B%20stroke-width%3A%200px%3B%20fill%3A%20rgb(242%2C%20142%2C%2044)%3B%20fill-opacity%3A%201%3B%22%20d%3D%22M3%2C0A3%2C3%200%201%2C1%200%2C-3A3%2C3%200%200%2C1%203%2C0Z%22%2F%3E%3Cpath%20class%3D%22point%22%20transform%3D%22translate(772.47%2C139.72)%22%20style%3D%22opacity%3A%201%3B%20stroke-width%3A%200px%3B%20fill%3A%20rgb(242%2C%20142%2C%2044)%3B%20fill-opacity%3A%201%3B%22%20d%3D%22M3%2C0A3%2C3%200%201%2C1%200%2C-3A3%2C3%200%200%2C1%203%2C0Z%22%2F%3E%3Cpath%20class%3D%22point%22%20transform%3D%22translate(787.71%2C145.87)%22%20style%3D%22opacity%3A%201%3B%20stroke-width%3A%200px%3B%20fill%3A%20rgb(242%2C%20142%2C%2044)%3B%20fill-opacity%3A%201%3B%22%20d%3D%22M3%2C0A3%2C3%200%201%2C1%200%2C-3A3%2C3%200%200%2C1%203%2C0Z%22%2F%3E%3Cpath%20class%3D%22point%22%20transform%3D%22translate(802.96%2C142.78)%22%20style%3D%22opacity%3A%201%3B%20stroke-width%3A%200px%3B%20fill%3A%20rgb(242%2C%20142%2C%2044)%3B%20fill-opacity%3A%201%3B%22%20d%3D%22M3%2C0A3%2C3%200%201%2C1%200%2C-3A3%2C3%200%200%2C1%203%2C0Z%22%2F%3E%3Cpath%20class%3D%22point%22%20transform%3D%22translate(816.72%2C144.98)%22%20style%3D%22opacity%3A%201%3B%20stroke-width%3A%200px%3B%20fill%3A%20rgb(242%2C%20142%2C%2044)%3B%20fill-opacity%3A%201%3B%22%20d%3D%22M3%2C0A3%2C3%200%201%2C1%200%2C-3A3%2C3%200%200%2C1%203%2C0Z%22%2F%3E%3Cpath%20class%3D%22point%22%20transform%3D%22translate(831.97%2C144.67)%22%20style%3D%22opacity%3A%201%3B%20stroke-width%3A%200px%3B%20fill%3A%20rgb(242%2C%20142%2C%2044)%3B%20fill-opacity%3A%201%3B%22%20d%3D%22M3%2C0A3%2C3%200%201%2C1%200%2C-3A3%2C3%200%200%2C1%203%2C0Z%22%2F%3E%3Cpath%20class%3D%22point%22%20transform%3D%22translate(846.72%2C145.54)%22%20style%3D%22opacity%3A%201%3B%20stroke-width%3A%200px%3B%20fill%3A%20rgb(242%2C%20142%2C%2044)%3B%20fill-opacity%3A%201%3B%22%20d%3D%22M3%2C0A3%2C3%200%201%2C1%200%2C-3A3%2C3%200%200%2C1%203%2C0Z%22%2F%3E%3Cpath%20class%3D%22point%22%20transform%3D%22translate(861.96%2C146.31)%22%20style%3D%22opacity%3A%201%3B%20stroke-width%3A%200px%3B%20fill%3A%20rgb(242%2C%20142%2C%2044)%3B%20fill-opacity%3A%201%3B%22%20d%3D%22M3%2C0A3%2C3%200%201%2C1%200%2C-3A3%2C3%200%200%2C1%203%2C0Z%22%2F%3E%3Cpath%20class%3D%22point%22%20transform%3D%22translate(876.72%2C147.61)%22%20style%3D%22opacity%3A%201%3B%20stroke-width%3A%200px%3B%20fill%3A%20rgb(242%2C%20142%2C%2044)%3B%20fill-opacity%3A%201%3B%22%20d%3D%22M3%2C0A3%2C3%200%201%2C1%200%2C-3A3%2C3%200%200%2C1%203%2C0Z%22%2F%3E%3Cpath%20class%3D%22point%22%20transform%3D%22translate(891.96%2C146.67)%22%20style%3D%22opacity%3A%201%3B%20stroke-width%3A%200px%3B%20fill%3A%20rgb(242%2C%20142%2C%2044)%3B%20fill-opacity%3A%201%3B%22%20d%3D%22M3%2C0A3%2C3%200%201%2C1%200%2C-3A3%2C3%200%200%2C1%203%2C0Z%22%2F%3E%3Cpath%20class%3D%22point%22%20transform%3D%22translate(907.2%2C143.22)%22%20style%3D%22opacity%3A%201%3B%20stroke-width%3A%200px%3B%20fill%3A%20rgb(242%2C%20142%2C%2044)%3B%20fill-opacity%3A%201%3B%22%20d%3D%22M3%2C0A3%2C3%200%201%2C1%200%2C-3A3%2C3%200%200%2C1%203%2C0Z%22%2F%3E%3Cpath%20class%3D%22point%22%20transform%3D%22translate(921.95%2C149.1)%22%20style%3D%22opacity%3A%201%3B%20stroke-width%3A%200px%3B%20fill%3A%20rgb(242%2C%20142%2C%2044)%3B%20fill-opacity%3A%201%3B%22%20d%3D%22M3%2C0A3%2C3%200%201%2C1%200%2C-3A3%2C3%200%200%2C1%203%2C0Z%22%2F%3E%3Cpath%20class%3D%22point%22%20transform%3D%22translate(937.2%2C152.83)%22%20style%3D%22opacity%3A%201%3B%20stroke-width%3A%200px%3B%20fill%3A%20rgb(242%2C%20142%2C%2044)%3B%20fill-opacity%3A%201%3B%22%20d%3D%22M3%2C0A3%2C3%200%201%2C1%200%2C-3A3%2C3%200%200%2C1%203%2C0Z%22%2F%3E%3Cpath%20class%3D%22point%22%20transform%3D%22translate(951.95%2C153.04)%22%20style%3D%22opacity%3A%201%3B%20stroke-width%3A%200px%3B%20fill%3A%20rgb(242%2C%20142%2C%2044)%3B%20fill-opacity%3A%201%3B%22%20d%3D%22M3%2C0A3%2C3%200%201%2C1%200%2C-3A3%2C3%200%200%2C1%203%2C0Z%22%2F%3E%3C%2Fg%3E%3Cg%20class%3D%22text%22%2F%3E%3C%2Fg%3E%3Cg%20class%3D%22trace%20scatter%20tracea167010%22%20style%3D%22stroke-miterlimit%3A%202%3B%20opacity%3A%201%3B%22%3E%3Cg%20class%3D%22fills%22%2F%3E%3Cg%20class%3D%22errorbars%22%2F%3E%3Cg%20class%3D%22lines%22%3E%3Cpath%20class%3D%22js-line%22%20style%3D%22vector-effect%3A%20non-scaling-stroke%3B%20fill%3A%20none%3B%20stroke%3A%20rgb(225%2C%2087%2C%2089)%3B%20stroke-opacity%3A%201%3B%20stroke-width%3A%202px%3B%20opacity%3A%201%3B%22%20d%3D%22M54.05%2C159.73L69.29%2C173.17L84.54%2C170.84L98.31%2C148.68L113.55%2C136.79L128.3%2C149.72L143.54%2C116.39L158.3%2C121.71L173.54%2C114.04L188.78%2C119.15L203.54%2C105.07L218.78%2C117.27L233.53%2C115.89L248.78%2C97.1L264.02%2C102.91L278.28%2C102.58L293.52%2C97.02L308.27%2C108.1L323.52%2C115.79L338.27%2C106.01L353.51%2C111.06L368.76%2C112.16L383.51%2C93.95L398.75%2C97.85L413.51%2C132.21L428.75%2C134.36L443.99%2C129.66L457.76%2C136.47L473%2C141.3L487.76%2C146.15L503%2C145.86L517.75%2C142.41L533%2C143.99L548.24%2C142.59L562.99%2C144.92L578.23%2C144.89L592.99%2C141.94L623.47%2C139.61L637.24%2C145.34L667.24%2C146.49L682.48%2C146.01L697.23%2C146.2L712.48%2C139.59L727.72%2C144.38L742.47%2C150.46L772.47%2C144.26L787.71%2C145.71L802.96%2C141.7L816.72%2C143.13L846.72%2C145.89L861.96%2C146.52L876.72%2C145.19L891.96%2C139.2L907.2%2C139.57L921.95%2C142.81L937.2%2C140.32L951.95%2C142.44%22%2F%3E%3C%2Fg%3E%3Cg%20class%3D%22points%22%3E%3Cpath%20class%3D%22point%22%20transform%3D%22translate(54.05%2C159.73)%22%20style%3D%22opacity%3A%201%3B%20stroke-width%3A%200px%3B%20fill%3A%20rgb(225%2C%2087%2C%2089)%3B%20fill-opacity%3A%201%3B%22%20d%3D%22M3%2C0A3%2C3%200%201%2C1%200%2C-3A3%2C3%200%200%2C1%203%2C0Z%22%2F%3E%3Cpath%20class%3D%22point%22%20transform%3D%22translate(69.29%2C173.17)%22%20style%3D%22opacity%3A%201%3B%20stroke-width%3A%200px%3B%20fill%3A%20rgb(225%2C%2087%2C%2089)%3B%20fill-opacity%3A%201%3B%22%20d%3D%22M3%2C0A3%2C3%200%201%2C1%200%2C-3A3%2C3%200%200%2C1%203%2C0Z%22%2F%3E%3Cpath%20class%3D%22point%22%20transform%3D%22translate(84.54%2C170.84)%22%20style%3D%22opacity%3A%201%3B%20stroke-width%3A%200px%3B%20fill%3A%20rgb(225%2C%2087%2C%2089)%3B%20fill-opacity%3A%201%3B%22%20d%3D%22M3%2C0A3%2C3%200%201%2C1%200%2C-3A3%2C3%200%200%2C1%203%2C0Z%22%2F%3E%3Cpath%20class%3D%22point%22%20transform%3D%22translate(98.31%2C148.68)%22%20style%3D%22opacity%3A%201%3B%20stroke-width%3A%200px%3B%20fill%3A%20rgb(225%2C%2087%2C%2089)%3B%20fill-opacity%3A%201%3B%22%20d%3D%22M3%2C0A3%2C3%200%201%2C1%200%2C-3A3%2C3%200%200%2C1%203%2C0Z%22%2F%3E%3Cpath%20class%3D%22point%22%20transform%3D%22translate(113.55%2C136.79)%22%20style%3D%22opacity%3A%201%3B%20stroke-width%3A%200px%3B%20fill%3A%20rgb(225%2C%2087%2C%2089)%3B%20fill-opacity%3A%201%3B%22%20d%3D%22M3%2C0A3%2C3%200%201%2C1%200%2C-3A3%2C3%200%200%2C1%203%2C0Z%22%2F%3E%3Cpath%20class%3D%22point%22%20transform%3D%22translate(128.3%2C149.72)%22%20style%3D%22opacity%3A%201%3B%20stroke-width%3A%200px%3B%20fill%3A%20rgb(225%2C%2087%2C%2089)%3B%20fill-opacity%3A%201%3B%22%20d%3D%22M3%2C0A3%2C3%200%201%2C1%200%2C-3A3%2C3%200%200%2C1%203%2C0Z%22%2F%3E%3Cpath%20class%3D%22point%22%20transform%3D%22translate(143.54%2C116.39)%22%20style%3D%22opacity%3A%201%3B%20stroke-width%3A%200px%3B%20fill%3A%20rgb(225%2C%2087%2C%2089)%3B%20fill-opacity%3A%201%3B%22%20d%3D%22M3%2C0A3%2C3%200%201%2C1%200%2C-3A3%2C3%200%200%2C1%203%2C0Z%22%2F%3E%3Cpath%20class%3D%22point%22%20transform%3D%22translate(158.3%2C121.71)%22%20style%3D%22opacity%3A%201%3B%20stroke-width%3A%200px%3B%20fill%3A%20rgb(225%2C%2087%2C%2089)%3B%20fill-opacity%3A%201%3B%22%20d%3D%22M3%2C0A3%2C3%200%201%2C1%200%2C-3A3%2C3%200%200%2C1%203%2C0Z%22%2F%3E%3Cpath%20class%3D%22point%22%20transform%3D%22translate(173.54%2C114.04)%22%20style%3D%22opacity%3A%201%3B%20stroke-width%3A%200px%3B%20fill%3A%20rgb(225%2C%2087%2C%2089)%3B%20fill-opacity%3A%201%3B%22%20d%3D%22M3%2C0A3%2C3%200%201%2C1%200%2C-3A3%2C3%200%200%2C1%203%2C0Z%22%2F%3E%3Cpath%20class%3D%22point%22%20transform%3D%22translate(188.78%2C119.15)%22%20style%3D%22opacity%3A%201%3B%20stroke-width%3A%200px%3B%20fill%3A%20rgb(225%2C%2087%2C%2089)%3B%20fill-opacity%3A%201%3B%22%20d%3D%22M3%2C0A3%2C3%200%201%2C1%200%2C-3A3%2C3%200%200%2C1%203%2C0Z%22%2F%3E%3Cpath%20class%3D%22point%22%20transform%3D%22translate(203.54%2C105.07)%22%20style%3D%22opacity%3A%201%3B%20stroke-width%3A%200px%3B%20fill%3A%20rgb(225%2C%2087%2C%2089)%3B%20fill-opacity%3A%201%3B%22%20d%3D%22M3%2C0A3%2C3%200%201%2C1%200%2C-3A3%2C3%200%200%2C1%203%2C0Z%22%2F%3E%3Cpath%20class%3D%22point%22%20transform%3D%22translate(218.78%2C117.27)%22%20style%3D%22opacity%3A%201%3B%20stroke-width%3A%200px%3B%20fill%3A%20rgb(225%2C%2087%2C%2089)%3B%20fill-opacity%3A%201%3B%22%20d%3D%22M3%2C0A3%2C3%200%201%2C1%200%2C-3A3%2C3%200%200%2C1%203%2C0Z%22%2F%3E%3Cpath%20class%3D%22point%22%20transform%3D%22translate(233.53%2C115.89)%22%20style%3D%22opacity%3A%201%3B%20stroke-width%3A%200px%3B%20fill%3A%20rgb(225%2C%2087%2C%2089)%3B%20fill-opacity%3A%201%3B%22%20d%3D%22M3%2C0A3%2C3%200%201%2C1%200%2C-3A3%2C3%200%200%2C1%203%2C0Z%22%2F%3E%3Cpath%20class%3D%22point%22%20transform%3D%22translate(248.78%2C97.1)%22%20style%3D%22opacity%3A%201%3B%20stroke-width%3A%200px%3B%20fill%3A%20rgb(225%2C%2087%2C%2089)%3B%20fill-opacity%3A%201%3B%22%20d%3D%22M3%2C0A3%2C3%200%201%2C1%200%2C-3A3%2C3%200%200%2C1%203%2C0Z%22%2F%3E%3Cpath%20class%3D%22point%22%20transform%3D%22translate(264.02%2C102.91)%22%20style%3D%22opacity%3A%201%3B%20stroke-width%3A%200px%3B%20fill%3A%20rgb(225%2C%2087%2C%2089)%3B%20fill-opacity%3A%201%3B%22%20d%3D%22M3%2C0A3%2C3%200%201%2C1%200%2C-3A3%2C3%200%200%2C1%203%2C0Z%22%2F%3E%3Cpath%20class%3D%22point%22%20transform%3D%22translate(278.28%2C102.58)%22%20style%3D%22opacity%3A%201%3B%20stroke-width%3A%200px%3B%20fill%3A%20rgb(225%2C%2087%2C%2089)%3B%20fill-opacity%3A%201%3B%22%20d%3D%22M3%2C0A3%2C3%200%201%2C1%200%2C-3A3%2C3%200%200%2C1%203%2C0Z%22%2F%3E%3Cpath%20class%3D%22point%22%20transform%3D%22translate(293.52%2C97.02)%22%20style%3D%22opacity%3A%201%3B%20stroke-width%3A%200px%3B%20fill%3A%20rgb(225%2C%2087%2C%2089)%3B%20fill-opacity%3A%201%3B%22%20d%3D%22M3%2C0A3%2C3%200%201%2C1%200%2C-3A3%2C3%200%200%2C1%203%2C0Z%22%2F%3E%3Cpath%20class%3D%22point%22%20transform%3D%22translate(308.27%2C108.1)%22%20style%3D%22opacity%3A%201%3B%20stroke-width%3A%200px%3B%20fill%3A%20rgb(225%2C%2087%2C%2089)%3B%20fill-opacity%3A%201%3B%22%20d%3D%22M3%2C0A3%2C3%200%201%2C1%200%2C-3A3%2C3%200%200%2C1%203%2C0Z%22%2F%3E%3Cpath%20class%3D%22point%22%20transform%3D%22translate(323.52%2C115.79)%22%20style%3D%22opacity%3A%201%3B%20stroke-width%3A%200px%3B%20fill%3A%20rgb(225%2C%2087%2C%2089)%3B%20fill-opacity%3A%201%3B%22%20d%3D%22M3%2C0A3%2C3%200%201%2C1%200%2C-3A3%2C3%200%200%2C1%203%2C0Z%22%2F%3E%3Cpath%20class%3D%22point%22%20transform%3D%22translate(338.27%2C106.01)%22%20style%3D%22opacity%3A%201%3B%20stroke-width%3A%200px%3B%20fill%3A%20rgb(225%2C%2087%2C%2089)%3B%20fill-opacity%3A%201%3B%22%20d%3D%22M3%2C0A3%2C3%200%201%2C1%200%2C-3A3%2C3%200%200%2C1%203%2C0Z%22%2F%3E%3Cpath%20class%3D%22point%22%20transform%3D%22translate(353.51%2C111.06)%22%20style%3D%22opacity%3A%201%3B%20stroke-width%3A%200px%3B%20fill%3A%20rgb(225%2C%2087%2C%2089)%3B%20fill-opacity%3A%201%3B%22%20d%3D%22M3%2C0A3%2C3%200%201%2C1%200%2C-3A3%2C3%200%200%2C1%203%2C0Z%22%2F%3E%3Cpath%20class%3D%22point%22%20transform%3D%22translate(368.76%2C112.16)%22%20style%3D%22opacity%3A%201%3B%20stroke-width%3A%200px%3B%20fill%3A%20rgb(225%2C%2087%2C%2089)%3B%20fill-opacity%3A%201%3B%22%20d%3D%22M3%2C0A3%2C3%200%201%2C1%200%2C-3A3%2C3%200%200%2C1%203%2C0Z%22%2F%3E%3Cpath%20class%3D%22point%22%20transform%3D%22translate(383.51%2C93.95)%22%20style%3D%22opacity%3A%201%3B%20stroke-width%3A%200px%3B%20fill%3A%20rgb(225%2C%2087%2C%2089)%3B%20fill-opacity%3A%201%3B%22%20d%3D%22M3%2C0A3%2C3%200%201%2C1%200%2C-3A3%2C3%200%200%2C1%203%2C0Z%22%2F%3E%3Cpath%20class%3D%22point%22%20transform%3D%22translate(398.75%2C97.85)%22%20style%3D%22opacity%3A%201%3B%20stroke-width%3A%200px%3B%20fill%3A%20rgb(225%2C%2087%2C%2089)%3B%20fill-opacity%3A%201%3B%22%20d%3D%22M3%2C0A3%2C3%200%201%2C1%200%2C-3A3%2C3%200%200%2C1%203%2C0Z%22%2F%3E%3Cpath%20class%3D%22point%22%20transform%3D%22translate(413.51%2C132.21)%22%20style%3D%22opacity%3A%201%3B%20stroke-width%3A%200px%3B%20fill%3A%20rgb(225%2C%2087%2C%2089)%3B%20fill-opacity%3A%201%3B%22%20d%3D%22M3%2C0A3%2C3%200%201%2C1%200%2C-3A3%2C3%200%200%2C1%203%2C0Z%22%2F%3E%3Cpath%20class%3D%22point%22%20transform%3D%22translate(428.75%2C134.36)%22%20style%3D%22opacity%3A%201%3B%20stroke-width%3A%200px%3B%20fill%3A%20rgb(225%2C%2087%2C%2089)%3B%20fill-opacity%3A%201%3B%22%20d%3D%22M3%2C0A3%2C3%200%201%2C1%200%2C-3A3%2C3%200%200%2C1%203%2C0Z%22%2F%3E%3Cpath%20class%3D%22point%22%20transform%3D%22translate(443.99%2C129.66)%22%20style%3D%22opacity%3A%201%3B%20stroke-width%3A%200px%3B%20fill%3A%20rgb(225%2C%2087%2C%2089)%3B%20fill-opacity%3A%201%3B%22%20d%3D%22M3%2C0A3%2C3%200%201%2C1%200%2C-3A3%2C3%200%200%2C1%203%2C0Z%22%2F%3E%3Cpath%20class%3D%22point%22%20transform%3D%22translate(457.76%2C136.47)%22%20style%3D%22opacity%3A%201%3B%20stroke-width%3A%200px%3B%20fill%3A%20rgb(225%2C%2087%2C%2089)%3B%20fill-opacity%3A%201%3B%22%20d%3D%22M3%2C0A3%2C3%200%201%2C1%200%2C-3A3%2C3%200%200%2C1%203%2C0Z%22%2F%3E%3Cpath%20class%3D%22point%22%20transform%3D%22translate(473%2C141.3)%22%20style%3D%22opacity%3A%201%3B%20stroke-width%3A%200px%3B%20fill%3A%20rgb(225%2C%2087%2C%2089)%3B%20fill-opacity%3A%201%3B%22%20d%3D%22M3%2C0A3%2C3%200%201%2C1%200%2C-3A3%2C3%200%200%2C1%203%2C0Z%22%2F%3E%3Cpath%20class%3D%22point%22%20transform%3D%22translate(487.76%2C146.15)%22%20style%3D%22opacity%3A%201%3B%20stroke-width%3A%200px%3B%20fill%3A%20rgb(225%2C%2087%2C%2089)%3B%20fill-opacity%3A%201%3B%22%20d%3D%22M3%2C0A3%2C3%200%201%2C1%200%2C-3A3%2C3%200%200%2C1%203%2C0Z%22%2F%3E%3Cpath%20class%3D%22point%22%20transform%3D%22translate(503%2C145.86)%22%20style%3D%22opacity%3A%201%3B%20stroke-width%3A%200px%3B%20fill%3A%20rgb(225%2C%2087%2C%2089)%3B%20fill-opacity%3A%201%3B%22%20d%3D%22M3%2C0A3%2C3%200%201%2C1%200%2C-3A3%2C3%200%200%2C1%203%2C0Z%22%2F%3E%3Cpath%20class%3D%22point%22%20transform%3D%22translate(517.75%2C142.41)%22%20style%3D%22opacity%3A%201%3B%20stroke-width%3A%200px%3B%20fill%3A%20rgb(225%2C%2087%2C%2089)%3B%20fill-opacity%3A%201%3B%22%20d%3D%22M3%2C0A3%2C3%200%201%2C1%200%2C-3A3%2C3%200%200%2C1%203%2C0Z%22%2F%3E%3Cpath%20class%3D%22point%22%20transform%3D%22translate(533%2C143.99)%22%20style%3D%22opacity%3A%201%3B%20stroke-width%3A%200px%3B%20fill%3A%20rgb(225%2C%2087%2C%2089)%3B%20fill-opacity%3A%201%3B%22%20d%3D%22M3%2C0A3%2C3%200%201%2C1%200%2C-3A3%2C3%200%200%2C1%203%2C0Z%22%2F%3E%3Cpath%20class%3D%22point%22%20transform%3D%22translate(548.24%2C142.59)%22%20style%3D%22opacity%3A%201%3B%20stroke-width%3A%200px%3B%20fill%3A%20rgb(225%2C%2087%2C%2089)%3B%20fill-opacity%3A%201%3B%22%20d%3D%22M3%2C0A3%2C3%200%201%2C1%200%2C-3A3%2C3%200%200%2C1%203%2C0Z%22%2F%3E%3Cpath%20class%3D%22point%22%20transform%3D%22translate(562.99%2C144.92)%22%20style%3D%22opacity%3A%201%3B%20stroke-width%3A%200px%3B%20fill%3A%20rgb(225%2C%2087%2C%2089)%3B%20fill-opacity%3A%201%3B%22%20d%3D%22M3%2C0A3%2C3%200%201%2C1%200%2C-3A3%2C3%200%200%2C1%203%2C0Z%22%2F%3E%3Cpath%20class%3D%22point%22%20transform%3D%22translate(578.23%2C144.89)%22%20style%3D%22opacity%3A%201%3B%20stroke-width%3A%200px%3B%20fill%3A%20rgb(225%2C%2087%2C%2089)%3B%20fill-opacity%3A%201%3B%22%20d%3D%22M3%2C0A3%2C3%200%201%2C1%200%2C-3A3%2C3%200%200%2C1%203%2C0Z%22%2F%3E%3Cpath%20class%3D%22point%22%20transform%3D%22translate(592.99%2C141.94)%22%20style%3D%22opacity%3A%201%3B%20stroke-width%3A%200px%3B%20fill%3A%20rgb(225%2C%2087%2C%2089)%3B%20fill-opacity%3A%201%3B%22%20d%3D%22M3%2C0A3%2C3%200%201%2C1%200%2C-3A3%2C3%200%200%2C1%203%2C0Z%22%2F%3E%3Cpath%20class%3D%22point%22%20transform%3D%22translate(608.23%2C141.02)%22%20style%3D%22opacity%3A%201%3B%20stroke-width%3A%200px%3B%20fill%3A%20rgb(225%2C%2087%2C%2089)%3B%20fill-opacity%3A%201%3B%22%20d%3D%22M3%2C0A3%2C3%200%201%2C1%200%2C-3A3%2C3%200%200%2C1%203%2C0Z%22%2F%3E%3Cpath%20class%3D%22point%22%20transform%3D%22translate(623.47%2C139.61)%22%20style%3D%22opacity%3A%201%3B%20stroke-width%3A%200px%3B%20fill%3A%20rgb(225%2C%2087%2C%2089)%3B%20fill-opacity%3A%201%3B%22%20d%3D%22M3%2C0A3%2C3%200%201%2C1%200%2C-3A3%2C3%200%200%2C1%203%2C0Z%22%2F%3E%3Cpath%20class%3D%22point%22%20transform%3D%22translate(637.24%2C145.34)%22%20style%3D%22opacity%3A%201%3B%20stroke-width%3A%200px%3B%20fill%3A%20rgb(225%2C%2087%2C%2089)%3B%20fill-opacity%3A%201%3B%22%20d%3D%22M3%2C0A3%2C3%200%201%2C1%200%2C-3A3%2C3%200%200%2C1%203%2C0Z%22%2F%3E%3Cpath%20class%3D%22point%22%20transform%3D%22translate(652.49%2C146.1)%22%20style%3D%22opacity%3A%201%3B%20stroke-width%3A%200px%3B%20fill%3A%20rgb(225%2C%2087%2C%2089)%3B%20fill-opacity%3A%201%3B%22%20d%3D%22M3%2C0A3%2C3%200%201%2C1%200%2C-3A3%2C3%200%200%2C1%203%2C0Z%22%2F%3E%3Cpath%20class%3D%22point%22%20transform%3D%22translate(667.24%2C146.49)%22%20style%3D%22opacity%3A%201%3B%20stroke-width%3A%200px%3B%20fill%3A%20rgb(225%2C%2087%2C%2089)%3B%20fill-opacity%3A%201%3B%22%20d%3D%22M3%2C0A3%2C3%200%201%2C1%200%2C-3A3%2C3%200%200%2C1%203%2C0Z%22%2F%3E%3Cpath%20class%3D%22point%22%20transform%3D%22translate(682.48%2C146.01)%22%20style%3D%22opacity%3A%201%3B%20stroke-width%3A%200px%3B%20fill%3A%20rgb(225%2C%2087%2C%2089)%3B%20fill-opacity%3A%201%3B%22%20d%3D%22M3%2C0A3%2C3%200%201%2C1%200%2C-3A3%2C3%200%200%2C1%203%2C0Z%22%2F%3E%3Cpath%20class%3D%22point%22%20transform%3D%22translate(697.23%2C146.2)%22%20style%3D%22opacity%3A%201%3B%20stroke-width%3A%200px%3B%20fill%3A%20rgb(225%2C%2087%2C%2089)%3B%20fill-opacity%3A%201%3B%22%20d%3D%22M3%2C0A3%2C3%200%201%2C1%200%2C-3A3%2C3%200%200%2C1%203%2C0Z%22%2F%3E%3Cpath%20class%3D%22point%22%20transform%3D%22translate(712.48%2C139.59)%22%20style%3D%22opacity%3A%201%3B%20stroke-width%3A%200px%3B%20fill%3A%20rgb(225%2C%2087%2C%2089)%3B%20fill-opacity%3A%201%3B%22%20d%3D%22M3%2C0A3%2C3%200%201%2C1%200%2C-3A3%2C3%200%200%2C1%203%2C0Z%22%2F%3E%3Cpath%20class%3D%22point%22%20transform%3D%22translate(727.72%2C144.38)%22%20style%3D%22opacity%3A%201%3B%20stroke-width%3A%200px%3B%20fill%3A%20rgb(225%2C%2087%2C%2089)%3B%20fill-opacity%3A%201%3B%22%20d%3D%22M3%2C0A3%2C3%200%201%2C1%200%2C-3A3%2C3%200%200%2C1%203%2C0Z%22%2F%3E%3Cpath%20class%3D%22point%22%20transform%3D%22translate(742.47%2C150.46)%22%20style%3D%22opacity%3A%201%3B%20stroke-width%3A%200px%3B%20fill%3A%20rgb(225%2C%2087%2C%2089)%3B%20fill-opacity%3A%201%3B%22%20d%3D%22M3%2C0A3%2C3%200%201%2C1%200%2C-3A3%2C3%200%200%2C1%203%2C0Z%22%2F%3E%3Cpath%20class%3D%22point%22%20transform%3D%22translate(757.72%2C147.11)%22%20style%3D%22opacity%3A%201%3B%20stroke-width%3A%200px%3B%20fill%3A%20rgb(225%2C%2087%2C%2089)%3B%20fill-opacity%3A%201%3B%22%20d%3D%22M3%2C0A3%2C3%200%201%2C1%200%2C-3A3%2C3%200%200%2C1%203%2C0Z%22%2F%3E%3Cpath%20class%3D%22point%22%20transform%3D%22translate(772.47%2C144.26)%22%20style%3D%22opacity%3A%201%3B%20stroke-width%3A%200px%3B%20fill%3A%20rgb(225%2C%2087%2C%2089)%3B%20fill-opacity%3A%201%3B%22%20d%3D%22M3%2C0A3%2C3%200%201%2C1%200%2C-3A3%2C3%200%200%2C1%203%2C0Z%22%2F%3E%3Cpath%20class%3D%22point%22%20transform%3D%22translate(787.71%2C145.71)%22%20style%3D%22opacity%3A%201%3B%20stroke-width%3A%200px%3B%20fill%3A%20rgb(225%2C%2087%2C%2089)%3B%20fill-opacity%3A%201%3B%22%20d%3D%22M3%2C0A3%2C3%200%201%2C1%200%2C-3A3%2C3%200%200%2C1%203%2C0Z%22%2F%3E%3Cpath%20class%3D%22point%22%20transform%3D%22translate(802.96%2C141.7)%22%20style%3D%22opacity%3A%201%3B%20stroke-width%3A%200px%3B%20fill%3A%20rgb(225%2C%2087%2C%2089)%3B%20fill-opacity%3A%201%3B%22%20d%3D%22M3%2C0A3%2C3%200%201%2C1%200%2C-3A3%2C3%200%200%2C1%203%2C0Z%22%2F%3E%3Cpath%20class%3D%22point%22%20transform%3D%22translate(816.72%2C143.13)%22%20style%3D%22opacity%3A%201%3B%20stroke-width%3A%200px%3B%20fill%3A%20rgb(225%2C%2087%2C%2089)%3B%20fill-opacity%3A%201%3B%22%20d%3D%22M3%2C0A3%2C3%200%201%2C1%200%2C-3A3%2C3%200%200%2C1%203%2C0Z%22%2F%3E%3Cpath%20class%3D%22point%22%20transform%3D%22translate(831.97%2C144.85)%22%20style%3D%22opacity%3A%201%3B%20stroke-width%3A%200px%3B%20fill%3A%20rgb(225%2C%2087%2C%2089)%3B%20fill-opacity%3A%201%3B%22%20d%3D%22M3%2C0A3%2C3%200%201%2C1%200%2C-3A3%2C3%200%200%2C1%203%2C0Z%22%2F%3E%3Cpath%20class%3D%22point%22%20transform%3D%22translate(846.72%2C145.89)%22%20style%3D%22opacity%3A%201%3B%20stroke-width%3A%200px%3B%20fill%3A%20rgb(225%2C%2087%2C%2089)%3B%20fill-opacity%3A%201%3B%22%20d%3D%22M3%2C0A3%2C3%200%201%2C1%200%2C-3A3%2C3%200%200%2C1%203%2C0Z%22%2F%3E%3Cpath%20class%3D%22point%22%20transform%3D%22translate(861.96%2C146.52)%22%20style%3D%22opacity%3A%201%3B%20stroke-width%3A%200px%3B%20fill%3A%20rgb(225%2C%2087%2C%2089)%3B%20fill-opacity%3A%201%3B%22%20d%3D%22M3%2C0A3%2C3%200%201%2C1%200%2C-3A3%2C3%200%200%2C1%203%2C0Z%22%2F%3E%3Cpath%20class%3D%22point%22%20transform%3D%22translate(876.72%2C145.19)%22%20style%3D%22opacity%3A%201%3B%20stroke-width%3A%200px%3B%20fill%3A%20rgb(225%2C%2087%2C%2089)%3B%20fill-opacity%3A%201%3B%22%20d%3D%22M3%2C0A3%2C3%200%201%2C1%200%2C-3A3%2C3%200%200%2C1%203%2C0Z%22%2F%3E%3Cpath%20class%3D%22point%22%20transform%3D%22translate(891.96%2C139.2)%22%20style%3D%22opacity%3A%201%3B%20stroke-width%3A%200px%3B%20fill%3A%20rgb(225%2C%2087%2C%2089)%3B%20fill-opacity%3A%201%3B%22%20d%3D%22M3%2C0A3%2C3%200%201%2C1%200%2C-3A3%2C3%200%200%2C1%203%2C0Z%22%2F%3E%3Cpath%20class%3D%22point%22%20transform%3D%22translate(907.2%2C139.57)%22%20style%3D%22opacity%3A%201%3B%20stroke-width%3A%200px%3B%20fill%3A%20rgb(225%2C%2087%2C%2089)%3B%20fill-opacity%3A%201%3B%22%20d%3D%22M3%2C0A3%2C3%200%201%2C1%200%2C-3A3%2C3%200%200%2C1%203%2C0Z%22%2F%3E%3Cpath%20class%3D%22point%22%20transform%3D%22translate(921.95%2C142.81)%22%20style%3D%22opacity%3A%201%3B%20stroke-width%3A%200px%3B%20fill%3A%20rgb(225%2C%2087%2C%2089)%3B%20fill-opacity%3A%201%3B%22%20d%3D%22M3%2C0A3%2C3%200%201%2C1%200%2C-3A3%2C3%200%200%2C1%203%2C0Z%22%2F%3E%3Cpath%20class%3D%22point%22%20transform%3D%22translate(937.2%2C140.32)%22%20style%3D%22opacity%3A%201%3B%20stroke-width%3A%200px%3B%20fill%3A%20rgb(225%2C%2087%2C%2089)%3B%20fill-opacity%3A%201%3B%22%20d%3D%22M3%2C0A3%2C3%200%201%2C1%200%2C-3A3%2C3%200%200%2C1%203%2C0Z%22%2F%3E%3Cpath%20class%3D%22point%22%20transform%3D%22translate(951.95%2C142.44)%22%20style%3D%22opacity%3A%201%3B%20stroke-width%3A%200px%3B%20fill%3A%20rgb(225%2C%2087%2C%2089)%3B%20fill-opacity%3A%201%3B%22%20d%3D%22M3%2C0A3%2C3%200%201%2C1%200%2C-3A3%2C3%200%200%2C1%203%2C0Z%22%2F%3E%3C%2Fg%3E%3Cg%20class%3D%22text%22%2F%3E%3C%2Fg%3E%3Cg%20class%3D%22trace%20scatter%20trace9a18ae0%22%20style%3D%22stroke-miterlimit%3A%202%3B%20opacity%3A%201%3B%22%3E%3Cg%20class%3D%22fills%22%2F%3E%3Cg%20class%3D%22errorbars%22%2F%3E%3Cg%20class%3D%22lines%22%3E%3Cpath%20class%3D%22js-line%22%20style%3D%22vector-effect%3A%20non-scaling-stroke%3B%20fill%3A%20none%3B%20stroke%3A%20rgb(118%2C%20183%2C%20178)%3B%20stroke-opacity%3A%201%3B%20stroke-width%3A%202px%3B%20opacity%3A%201%3B%22%20d%3D%22M54.05%2C179.84L69.29%2C163.58L84.54%2C130.18L98.31%2C150.22L113.55%2C150.82L128.3%2C149.28L143.54%2C129.85L158.3%2C130.43L173.54%2C129.03L188.78%2C130.38L203.54%2C121.79L218.78%2C124.55L233.53%2C122.03L264.02%2C102.2L278.28%2C102.14L293.52%2C109.53L308.27%2C113.36L323.52%2C107.81L338.27%2C113.25L353.51%2C107.83L368.76%2C106.38L383.51%2C98.52L398.75%2C98.04L413.51%2C144.99L428.75%2C156.81L443.99%2C146.19L457.76%2C151.67L473%2C158.31L487.76%2C160.52L503%2C157.63L517.75%2C162.4L533%2C163.15L548.24%2C160.29L562.99%2C153.21L578.23%2C132.06L592.99%2C129.97L608.23%2C125.68L623.47%2C130.07L637.24%2C129.66L667.24%2C131.8L682.48%2C128.25L712.48%2C129.74L727.72%2C134.28L742.47%2C137.13L757.72%2C134.79L772.47%2C136.24L787.71%2C134.17L802.96%2C131.8L816.72%2C130.86L831.97%2C134.8L846.72%2C136.99L861.96%2C136.13L876.72%2C136.28L891.96%2C130.74L907.2%2C128.27L921.95%2C129.97L937.2%2C129.88L951.95%2C128.09%22%2F%3E%3C%2Fg%3E%3Cg%20class%3D%22points%22%3E%3Cpath%20class%3D%22point%22%20transform%3D%22translate(54.05%2C179.84)%22%20style%3D%22opacity%3A%201%3B%20stroke-width%3A%200px%3B%20fill%3A%20rgb(118%2C%20183%2C%20178)%3B%20fill-opacity%3A%201%3B%22%20d%3D%22M3%2C0A3%2C3%200%201%2C1%200%2C-3A3%2C3%200%200%2C1%203%2C0Z%22%2F%3E%3Cpath%20class%3D%22point%22%20transform%3D%22translate(69.29%2C163.58)%22%20style%3D%22opacity%3A%201%3B%20stroke-width%3A%200px%3B%20fill%3A%20rgb(118%2C%20183%2C%20178)%3B%20fill-opacity%3A%201%3B%22%20d%3D%22M3%2C0A3%2C3%200%201%2C1%200%2C-3A3%2C3%200%200%2C1%203%2C0Z%22%2F%3E%3Cpath%20class%3D%22point%22%20transform%3D%22translate(84.54%2C130.18)%22%20style%3D%22opacity%3A%201%3B%20stroke-width%3A%200px%3B%20fill%3A%20rgb(118%2C%20183%2C%20178)%3B%20fill-opacity%3A%201%3B%22%20d%3D%22M3%2C0A3%2C3%200%201%2C1%200%2C-3A3%2C3%200%200%2C1%203%2C0Z%22%2F%3E%3Cpath%20class%3D%22point%22%20transform%3D%22translate(98.31%2C150.22)%22%20style%3D%22opacity%3A%201%3B%20stroke-width%3A%200px%3B%20fill%3A%20rgb(118%2C%20183%2C%20178)%3B%20fill-opacity%3A%201%3B%22%20d%3D%22M3%2C0A3%2C3%200%201%2C1%200%2C-3A3%2C3%200%200%2C1%203%2C0Z%22%2F%3E%3Cpath%20class%3D%22point%22%20transform%3D%22translate(113.55%2C150.82)%22%20style%3D%22opacity%3A%201%3B%20stroke-width%3A%200px%3B%20fill%3A%20rgb(118%2C%20183%2C%20178)%3B%20fill-opacity%3A%201%3B%22%20d%3D%22M3%2C0A3%2C3%200%201%2C1%200%2C-3A3%2C3%200%200%2C1%203%2C0Z%22%2F%3E%3Cpath%20class%3D%22point%22%20transform%3D%22translate(128.3%2C149.28)%22%20style%3D%22opacity%3A%201%3B%20stroke-width%3A%200px%3B%20fill%3A%20rgb(118%2C%20183%2C%20178)%3B%20fill-opacity%3A%201%3B%22%20d%3D%22M3%2C0A3%2C3%200%201%2C1%200%2C-3A3%2C3%200%200%2C1%203%2C0Z%22%2F%3E%3Cpath%20class%3D%22point%22%20transform%3D%22translate(143.54%2C129.85)%22%20style%3D%22opacity%3A%201%3B%20stroke-width%3A%200px%3B%20fill%3A%20rgb(118%2C%20183%2C%20178)%3B%20fill-opacity%3A%201%3B%22%20d%3D%22M3%2C0A3%2C3%200%201%2C1%200%2C-3A3%2C3%200%200%2C1%203%2C0Z%22%2F%3E%3Cpath%20class%3D%22point%22%20transform%3D%22translate(158.3%2C130.43)%22%20style%3D%22opacity%3A%201%3B%20stroke-width%3A%200px%3B%20fill%3A%20rgb(118%2C%20183%2C%20178)%3B%20fill-opacity%3A%201%3B%22%20d%3D%22M3%2C0A3%2C3%200%201%2C1%200%2C-3A3%2C3%200%200%2C1%203%2C0Z%22%2F%3E%3Cpath%20class%3D%22point%22%20transform%3D%22translate(173.54%2C129.03)%22%20style%3D%22opacity%3A%201%3B%20stroke-width%3A%200px%3B%20fill%3A%20rgb(118%2C%20183%2C%20178)%3B%20fill-opacity%3A%201%3B%22%20d%3D%22M3%2C0A3%2C3%200%201%2C1%200%2C-3A3%2C3%200%200%2C1%203%2C0Z%22%2F%3E%3Cpath%20class%3D%22point%22%20transform%3D%22translate(188.78%2C130.38)%22%20style%3D%22opacity%3A%201%3B%20stroke-width%3A%200px%3B%20fill%3A%20rgb(118%2C%20183%2C%20178)%3B%20fill-opacity%3A%201%3B%22%20d%3D%22M3%2C0A3%2C3%200%201%2C1%200%2C-3A3%2C3%200%200%2C1%203%2C0Z%22%2F%3E%3Cpath%20class%3D%22point%22%20transform%3D%22translate(203.54%2C121.79)%22%20style%3D%22opacity%3A%201%3B%20stroke-width%3A%200px%3B%20fill%3A%20rgb(118%2C%20183%2C%20178)%3B%20fill-opacity%3A%201%3B%22%20d%3D%22M3%2C0A3%2C3%200%201%2C1%200%2C-3A3%2C3%200%200%2C1%203%2C0Z%22%2F%3E%3Cpath%20class%3D%22point%22%20transform%3D%22translate(218.78%2C124.55)%22%20style%3D%22opacity%3A%201%3B%20stroke-width%3A%200px%3B%20fill%3A%20rgb(118%2C%20183%2C%20178)%3B%20fill-opacity%3A%201%3B%22%20d%3D%22M3%2C0A3%2C3%200%201%2C1%200%2C-3A3%2C3%200%200%2C1%203%2C0Z%22%2F%3E%3Cpath%20class%3D%22point%22%20transform%3D%22translate(233.53%2C122.03)%22%20style%3D%22opacity%3A%201%3B%20stroke-width%3A%200px%3B%20fill%3A%20rgb(118%2C%20183%2C%20178)%3B%20fill-opacity%3A%201%3B%22%20d%3D%22M3%2C0A3%2C3%200%201%2C1%200%2C-3A3%2C3%200%200%2C1%203%2C0Z%22%2F%3E%3Cpath%20class%3D%22point%22%20transform%3D%22translate(248.78%2C111.84)%22%20style%3D%22opacity%3A%201%3B%20stroke-width%3A%200px%3B%20fill%3A%20rgb(118%2C%20183%2C%20178)%3B%20fill-opacity%3A%201%3B%22%20d%3D%22M3%2C0A3%2C3%200%201%2C1%200%2C-3A3%2C3%200%200%2C1%203%2C0Z%22%2F%3E%3Cpath%20class%3D%22point%22%20transform%3D%22translate(264.02%2C102.2)%22%20style%3D%22opacity%3A%201%3B%20stroke-width%3A%200px%3B%20fill%3A%20rgb(118%2C%20183%2C%20178)%3B%20fill-opacity%3A%201%3B%22%20d%3D%22M3%2C0A3%2C3%200%201%2C1%200%2C-3A3%2C3%200%200%2C1%203%2C0Z%22%2F%3E%3Cpath%20class%3D%22point%22%20transform%3D%22translate(278.28%2C102.14)%22%20style%3D%22opacity%3A%201%3B%20stroke-width%3A%200px%3B%20fill%3A%20rgb(118%2C%20183%2C%20178)%3B%20fill-opacity%3A%201%3B%22%20d%3D%22M3%2C0A3%2C3%200%201%2C1%200%2C-3A3%2C3%200%200%2C1%203%2C0Z%22%2F%3E%3Cpath%20class%3D%22point%22%20transform%3D%22translate(293.52%2C109.53)%22%20style%3D%22opacity%3A%201%3B%20stroke-width%3A%200px%3B%20fill%3A%20rgb(118%2C%20183%2C%20178)%3B%20fill-opacity%3A%201%3B%22%20d%3D%22M3%2C0A3%2C3%200%201%2C1%200%2C-3A3%2C3%200%200%2C1%203%2C0Z%22%2F%3E%3Cpath%20class%3D%22point%22%20transform%3D%22translate(308.27%2C113.36)%22%20style%3D%22opacity%3A%201%3B%20stroke-width%3A%200px%3B%20fill%3A%20rgb(118%2C%20183%2C%20178)%3B%20fill-opacity%3A%201%3B%22%20d%3D%22M3%2C0A3%2C3%200%201%2C1%200%2C-3A3%2C3%200%200%2C1%203%2C0Z%22%2F%3E%3Cpath%20class%3D%22point%22%20transform%3D%22translate(323.52%2C107.81)%22%20style%3D%22opacity%3A%201%3B%20stroke-width%3A%200px%3B%20fill%3A%20rgb(118%2C%20183%2C%20178)%3B%20fill-opacity%3A%201%3B%22%20d%3D%22M3%2C0A3%2C3%200%201%2C1%200%2C-3A3%2C3%200%200%2C1%203%2C0Z%22%2F%3E%3Cpath%20class%3D%22point%22%20transform%3D%22translate(338.27%2C113.25)%22%20style%3D%22opacity%3A%201%3B%20stroke-width%3A%200px%3B%20fill%3A%20rgb(118%2C%20183%2C%20178)%3B%20fill-opacity%3A%201%3B%22%20d%3D%22M3%2C0A3%2C3%200%201%2C1%200%2C-3A3%2C3%200%200%2C1%203%2C0Z%22%2F%3E%3Cpath%20class%3D%22point%22%20transform%3D%22translate(353.51%2C107.83)%22%20style%3D%22opacity%3A%201%3B%20stroke-width%3A%200px%3B%20fill%3A%20rgb(118%2C%20183%2C%20178)%3B%20fill-opacity%3A%201%3B%22%20d%3D%22M3%2C0A3%2C3%200%201%2C1%200%2C-3A3%2C3%200%200%2C1%203%2C0Z%22%2F%3E%3Cpath%20class%3D%22point%22%20transform%3D%22translate(368.76%2C106.38)%22%20style%3D%22opacity%3A%201%3B%20stroke-width%3A%200px%3B%20fill%3A%20rgb(118%2C%20183%2C%20178)%3B%20fill-opacity%3A%201%3B%22%20d%3D%22M3%2C0A3%2C3%200%201%2C1%200%2C-3A3%2C3%200%200%2C1%203%2C0Z%22%2F%3E%3Cpath%20class%3D%22point%22%20transform%3D%22translate(383.51%2C98.52)%22%20style%3D%22opacity%3A%201%3B%20stroke-width%3A%200px%3B%20fill%3A%20rgb(118%2C%20183%2C%20178)%3B%20fill-opacity%3A%201%3B%22%20d%3D%22M3%2C0A3%2C3%200%201%2C1%200%2C-3A3%2C3%200%200%2C1%203%2C0Z%22%2F%3E%3Cpath%20class%3D%22point%22%20transform%3D%22translate(398.75%2C98.04)%22%20style%3D%22opacity%3A%201%3B%20stroke-width%3A%200px%3B%20fill%3A%20rgb(118%2C%20183%2C%20178)%3B%20fill-opacity%3A%201%3B%22%20d%3D%22M3%2C0A3%2C3%200%201%2C1%200%2C-3A3%2C3%200%200%2C1%203%2C0Z%22%2F%3E%3Cpath%20class%3D%22point%22%20transform%3D%22translate(413.51%2C144.99)%22%20style%3D%22opacity%3A%201%3B%20stroke-width%3A%200px%3B%20fill%3A%20rgb(118%2C%20183%2C%20178)%3B%20fill-opacity%3A%201%3B%22%20d%3D%22M3%2C0A3%2C3%200%201%2C1%200%2C-3A3%2C3%200%200%2C1%203%2C0Z%22%2F%3E%3Cpath%20class%3D%22point%22%20transform%3D%22translate(428.75%2C156.81)%22%20style%3D%22opacity%3A%201%3B%20stroke-width%3A%200px%3B%20fill%3A%20rgb(118%2C%20183%2C%20178)%3B%20fill-opacity%3A%201%3B%22%20d%3D%22M3%2C0A3%2C3%200%201%2C1%200%2C-3A3%2C3%200%200%2C1%203%2C0Z%22%2F%3E%3Cpath%20class%3D%22point%22%20transform%3D%22translate(443.99%2C146.19)%22%20style%3D%22opacity%3A%201%3B%20stroke-width%3A%200px%3B%20fill%3A%20rgb(118%2C%20183%2C%20178)%3B%20fill-opacity%3A%201%3B%22%20d%3D%22M3%2C0A3%2C3%200%201%2C1%200%2C-3A3%2C3%200%200%2C1%203%2C0Z%22%2F%3E%3Cpath%20class%3D%22point%22%20transform%3D%22translate(457.76%2C151.67)%22%20style%3D%22opacity%3A%201%3B%20stroke-width%3A%200px%3B%20fill%3A%20rgb(118%2C%20183%2C%20178)%3B%20fill-opacity%3A%201%3B%22%20d%3D%22M3%2C0A3%2C3%200%201%2C1%200%2C-3A3%2C3%200%200%2C1%203%2C0Z%22%2F%3E%3Cpath%20class%3D%22point%22%20transform%3D%22translate(473%2C158.31)%22%20style%3D%22opacity%3A%201%3B%20stroke-width%3A%200px%3B%20fill%3A%20rgb(118%2C%20183%2C%20178)%3B%20fill-opacity%3A%201%3B%22%20d%3D%22M3%2C0A3%2C3%200%201%2C1%200%2C-3A3%2C3%200%200%2C1%203%2C0Z%22%2F%3E%3Cpath%20class%3D%22point%22%20transform%3D%22translate(487.76%2C160.52)%22%20style%3D%22opacity%3A%201%3B%20stroke-width%3A%200px%3B%20fill%3A%20rgb(118%2C%20183%2C%20178)%3B%20fill-opacity%3A%201%3B%22%20d%3D%22M3%2C0A3%2C3%200%201%2C1%200%2C-3A3%2C3%200%200%2C1%203%2C0Z%22%2F%3E%3Cpath%20class%3D%22point%22%20transform%3D%22translate(503%2C157.63)%22%20style%3D%22opacity%3A%201%3B%20stroke-width%3A%200px%3B%20fill%3A%20rgb(118%2C%20183%2C%20178)%3B%20fill-opacity%3A%201%3B%22%20d%3D%22M3%2C0A3%2C3%200%201%2C1%200%2C-3A3%2C3%200%200%2C1%203%2C0Z%22%2F%3E%3Cpath%20class%3D%22point%22%20transform%3D%22translate(517.75%2C162.4)%22%20style%3D%22opacity%3A%201%3B%20stroke-width%3A%200px%3B%20fill%3A%20rgb(118%2C%20183%2C%20178)%3B%20fill-opacity%3A%201%3B%22%20d%3D%22M3%2C0A3%2C3%200%201%2C1%200%2C-3A3%2C3%200%200%2C1%203%2C0Z%22%2F%3E%3Cpath%20class%3D%22point%22%20transform%3D%22translate(533%2C163.15)%22%20style%3D%22opacity%3A%201%3B%20stroke-width%3A%200px%3B%20fill%3A%20rgb(118%2C%20183%2C%20178)%3B%20fill-opacity%3A%201%3B%22%20d%3D%22M3%2C0A3%2C3%200%201%2C1%200%2C-3A3%2C3%200%200%2C1%203%2C0Z%22%2F%3E%3Cpath%20class%3D%22point%22%20transform%3D%22translate(548.24%2C160.29)%22%20style%3D%22opacity%3A%201%3B%20stroke-width%3A%200px%3B%20fill%3A%20rgb(118%2C%20183%2C%20178)%3B%20fill-opacity%3A%201%3B%22%20d%3D%22M3%2C0A3%2C3%200%201%2C1%200%2C-3A3%2C3%200%200%2C1%203%2C0Z%22%2F%3E%3Cpath%20class%3D%22point%22%20transform%3D%22translate(562.99%2C153.21)%22%20style%3D%22opacity%3A%201%3B%20stroke-width%3A%200px%3B%20fill%3A%20rgb(118%2C%20183%2C%20178)%3B%20fill-opacity%3A%201%3B%22%20d%3D%22M3%2C0A3%2C3%200%201%2C1%200%2C-3A3%2C3%200%200%2C1%203%2C0Z%22%2F%3E%3Cpath%20class%3D%22point%22%20transform%3D%22translate(578.23%2C132.06)%22%20style%3D%22opacity%3A%201%3B%20stroke-width%3A%200px%3B%20fill%3A%20rgb(118%2C%20183%2C%20178)%3B%20fill-opacity%3A%201%3B%22%20d%3D%22M3%2C0A3%2C3%200%201%2C1%200%2C-3A3%2C3%200%200%2C1%203%2C0Z%22%2F%3E%3Cpath%20class%3D%22point%22%20transform%3D%22translate(592.99%2C129.97)%22%20style%3D%22opacity%3A%201%3B%20stroke-width%3A%200px%3B%20fill%3A%20rgb(118%2C%20183%2C%20178)%3B%20fill-opacity%3A%201%3B%22%20d%3D%22M3%2C0A3%2C3%200%201%2C1%200%2C-3A3%2C3%200%200%2C1%203%2C0Z%22%2F%3E%3Cpath%20class%3D%22point%22%20transform%3D%22translate(608.23%2C125.68)%22%20style%3D%22opacity%3A%201%3B%20stroke-width%3A%200px%3B%20fill%3A%20rgb(118%2C%20183%2C%20178)%3B%20fill-opacity%3A%201%3B%22%20d%3D%22M3%2C0A3%2C3%200%201%2C1%200%2C-3A3%2C3%200%200%2C1%203%2C0Z%22%2F%3E%3Cpath%20class%3D%22point%22%20transform%3D%22translate(623.47%2C130.07)%22%20style%3D%22opacity%3A%201%3B%20stroke-width%3A%200px%3B%20fill%3A%20rgb(118%2C%20183%2C%20178)%3B%20fill-opacity%3A%201%3B%22%20d%3D%22M3%2C0A3%2C3%200%201%2C1%200%2C-3A3%2C3%200%200%2C1%203%2C0Z%22%2F%3E%3Cpath%20class%3D%22point%22%20transform%3D%22translate(637.24%2C129.66)%22%20style%3D%22opacity%3A%201%3B%20stroke-width%3A%200px%3B%20fill%3A%20rgb(118%2C%20183%2C%20178)%3B%20fill-opacity%3A%201%3B%22%20d%3D%22M3%2C0A3%2C3%200%201%2C1%200%2C-3A3%2C3%200%200%2C1%203%2C0Z%22%2F%3E%3Cpath%20class%3D%22point%22%20transform%3D%22translate(652.49%2C130.57)%22%20style%3D%22opacity%3A%201%3B%20stroke-width%3A%200px%3B%20fill%3A%20rgb(118%2C%20183%2C%20178)%3B%20fill-opacity%3A%201%3B%22%20d%3D%22M3%2C0A3%2C3%200%201%2C1%200%2C-3A3%2C3%200%200%2C1%203%2C0Z%22%2F%3E%3Cpath%20class%3D%22point%22%20transform%3D%22translate(667.24%2C131.8)%22%20style%3D%22opacity%3A%201%3B%20stroke-width%3A%200px%3B%20fill%3A%20rgb(118%2C%20183%2C%20178)%3B%20fill-opacity%3A%201%3B%22%20d%3D%22M3%2C0A3%2C3%200%201%2C1%200%2C-3A3%2C3%200%200%2C1%203%2C0Z%22%2F%3E%3Cpath%20class%3D%22point%22%20transform%3D%22translate(682.48%2C128.25)%22%20style%3D%22opacity%3A%201%3B%20stroke-width%3A%200px%3B%20fill%3A%20rgb(118%2C%20183%2C%20178)%3B%20fill-opacity%3A%201%3B%22%20d%3D%22M3%2C0A3%2C3%200%201%2C1%200%2C-3A3%2C3%200%200%2C1%203%2C0Z%22%2F%3E%3Cpath%20class%3D%22point%22%20transform%3D%22translate(697.23%2C128.8)%22%20style%3D%22opacity%3A%201%3B%20stroke-width%3A%200px%3B%20fill%3A%20rgb(118%2C%20183%2C%20178)%3B%20fill-opacity%3A%201%3B%22%20d%3D%22M3%2C0A3%2C3%200%201%2C1%200%2C-3A3%2C3%200%200%2C1%203%2C0Z%22%2F%3E%3Cpath%20class%3D%22point%22%20transform%3D%22translate(712.48%2C129.74)%22%20style%3D%22opacity%3A%201%3B%20stroke-width%3A%200px%3B%20fill%3A%20rgb(118%2C%20183%2C%20178)%3B%20fill-opacity%3A%201%3B%22%20d%3D%22M3%2C0A3%2C3%200%201%2C1%200%2C-3A3%2C3%200%200%2C1%203%2C0Z%22%2F%3E%3Cpath%20class%3D%22point%22%20transform%3D%22translate(727.72%2C134.28)%22%20style%3D%22opacity%3A%201%3B%20stroke-width%3A%200px%3B%20fill%3A%20rgb(118%2C%20183%2C%20178)%3B%20fill-opacity%3A%201%3B%22%20d%3D%22M3%2C0A3%2C3%200%201%2C1%200%2C-3A3%2C3%200%200%2C1%203%2C0Z%22%2F%3E%3Cpath%20class%3D%22point%22%20transform%3D%22translate(742.47%2C137.13)%22%20style%3D%22opacity%3A%201%3B%20stroke-width%3A%200px%3B%20fill%3A%20rgb(118%2C%20183%2C%20178)%3B%20fill-opacity%3A%201%3B%22%20d%3D%22M3%2C0A3%2C3%200%201%2C1%200%2C-3A3%2C3%200%200%2C1%203%2C0Z%22%2F%3E%3Cpath%20class%3D%22point%22%20transform%3D%22translate(757.72%2C134.79)%22%20style%3D%22opacity%3A%201%3B%20stroke-width%3A%200px%3B%20fill%3A%20rgb(118%2C%20183%2C%20178)%3B%20fill-opacity%3A%201%3B%22%20d%3D%22M3%2C0A3%2C3%200%201%2C1%200%2C-3A3%2C3%200%200%2C1%203%2C0Z%22%2F%3E%3Cpath%20class%3D%22point%22%20transform%3D%22translate(772.47%2C136.24)%22%20style%3D%22opacity%3A%201%3B%20stroke-width%3A%200px%3B%20fill%3A%20rgb(118%2C%20183%2C%20178)%3B%20fill-opacity%3A%201%3B%22%20d%3D%22M3%2C0A3%2C3%200%201%2C1%200%2C-3A3%2C3%200%200%2C1%203%2C0Z%22%2F%3E%3Cpath%20class%3D%22point%22%20transform%3D%22translate(787.71%2C134.17)%22%20style%3D%22opacity%3A%201%3B%20stroke-width%3A%200px%3B%20fill%3A%20rgb(118%2C%20183%2C%20178)%3B%20fill-opacity%3A%201%3B%22%20d%3D%22M3%2C0A3%2C3%200%201%2C1%200%2C-3A3%2C3%200%200%2C1%203%2C0Z%22%2F%3E%3Cpath%20class%3D%22point%22%20transform%3D%22translate(802.96%2C131.8)%22%20style%3D%22opacity%3A%201%3B%20stroke-width%3A%200px%3B%20fill%3A%20rgb(118%2C%20183%2C%20178)%3B%20fill-opacity%3A%201%3B%22%20d%3D%22M3%2C0A3%2C3%200%201%2C1%200%2C-3A3%2C3%200%200%2C1%203%2C0Z%22%2F%3E%3Cpath%20class%3D%22point%22%20transform%3D%22translate(816.72%2C130.86)%22%20style%3D%22opacity%3A%201%3B%20stroke-width%3A%200px%3B%20fill%3A%20rgb(118%2C%20183%2C%20178)%3B%20fill-opacity%3A%201%3B%22%20d%3D%22M3%2C0A3%2C3%200%201%2C1%200%2C-3A3%2C3%200%200%2C1%203%2C0Z%22%2F%3E%3Cpath%20class%3D%22point%22%20transform%3D%22translate(831.97%2C134.8)%22%20style%3D%22opacity%3A%201%3B%20stroke-width%3A%200px%3B%20fill%3A%20rgb(118%2C%20183%2C%20178)%3B%20fill-opacity%3A%201%3B%22%20d%3D%22M3%2C0A3%2C3%200%201%2C1%200%2C-3A3%2C3%200%200%2C1%203%2C0Z%22%2F%3E%3Cpath%20class%3D%22point%22%20transform%3D%22translate(846.72%2C136.99)%22%20style%3D%22opacity%3A%201%3B%20stroke-width%3A%200px%3B%20fill%3A%20rgb(118%2C%20183%2C%20178)%3B%20fill-opacity%3A%201%3B%22%20d%3D%22M3%2C0A3%2C3%200%201%2C1%200%2C-3A3%2C3%200%200%2C1%203%2C0Z%22%2F%3E%3Cpath%20class%3D%22point%22%20transform%3D%22translate(861.96%2C136.13)%22%20style%3D%22opacity%3A%201%3B%20stroke-width%3A%200px%3B%20fill%3A%20rgb(118%2C%20183%2C%20178)%3B%20fill-opacity%3A%201%3B%22%20d%3D%22M3%2C0A3%2C3%200%201%2C1%200%2C-3A3%2C3%200%200%2C1%203%2C0Z%22%2F%3E%3Cpath%20class%3D%22point%22%20transform%3D%22translate(876.72%2C136.28)%22%20style%3D%22opacity%3A%201%3B%20stroke-width%3A%200px%3B%20fill%3A%20rgb(118%2C%20183%2C%20178)%3B%20fill-opacity%3A%201%3B%22%20d%3D%22M3%2C0A3%2C3%200%201%2C1%200%2C-3A3%2C3%200%200%2C1%203%2C0Z%22%2F%3E%3Cpath%20class%3D%22point%22%20transform%3D%22translate(891.96%2C130.74)%22%20style%3D%22opacity%3A%201%3B%20stroke-width%3A%200px%3B%20fill%3A%20rgb(118%2C%20183%2C%20178)%3B%20fill-opacity%3A%201%3B%22%20d%3D%22M3%2C0A3%2C3%200%201%2C1%200%2C-3A3%2C3%200%200%2C1%203%2C0Z%22%2F%3E%3Cpath%20class%3D%22point%22%20transform%3D%22translate(907.2%2C128.27)%22%20style%3D%22opacity%3A%201%3B%20stroke-width%3A%200px%3B%20fill%3A%20rgb(118%2C%20183%2C%20178)%3B%20fill-opacity%3A%201%3B%22%20d%3D%22M3%2C0A3%2C3%200%201%2C1%200%2C-3A3%2C3%200%200%2C1%203%2C0Z%22%2F%3E%3Cpath%20class%3D%22point%22%20transform%3D%22translate(921.95%2C129.97)%22%20style%3D%22opacity%3A%201%3B%20stroke-width%3A%200px%3B%20fill%3A%20rgb(118%2C%20183%2C%20178)%3B%20fill-opacity%3A%201%3B%22%20d%3D%22M3%2C0A3%2C3%200%201%2C1%200%2C-3A3%2C3%200%200%2C1%203%2C0Z%22%2F%3E%3Cpath%20class%3D%22point%22%20transform%3D%22translate(937.2%2C129.88)%22%20style%3D%22opacity%3A%201%3B%20stroke-width%3A%200px%3B%20fill%3A%20rgb(118%2C%20183%2C%20178)%3B%20fill-opacity%3A%201%3B%22%20d%3D%22M3%2C0A3%2C3%200%201%2C1%200%2C-3A3%2C3%200%200%2C1%203%2C0Z%22%2F%3E%3Cpath%20class%3D%22point%22%20transform%3D%22translate(951.95%2C128.09)%22%20style%3D%22opacity%3A%201%3B%20stroke-width%3A%200px%3B%20fill%3A%20rgb(118%2C%20183%2C%20178)%3B%20fill-opacity%3A%201%3B%22%20d%3D%22M3%2C0A3%2C3%200%201%2C1%200%2C-3A3%2C3%200%200%2C1%203%2C0Z%22%2F%3E%3C%2Fg%3E%3Cg%20class%3D%22text%22%2F%3E%3C%2Fg%3E%3Cg%20class%3D%22trace%20scatter%20tracec3a3be0%22%20style%3D%22stroke-miterlimit%3A%202%3B%20opacity%3A%201%3B%22%3E%3Cg%20class%3D%22fills%22%2F%3E%3Cg%20class%3D%22errorbars%22%2F%3E%3Cg%20class%3D%22lines%22%3E%3Cpath%20class%3D%22js-line%22%20style%3D%22vector-effect%3A%20non-scaling-stroke%3B%20fill%3A%20none%3B%20stroke%3A%20rgb(89%2C%20161%2C%2079)%3B%20stroke-opacity%3A%201%3B%20stroke-width%3A%202px%3B%20opacity%3A%201%3B%22%20d%3D%22M54.05%2C152.09L69.29%2C137.79L84.54%2C109.17L98.31%2C116.05L113.55%2C132.56L128.3%2C127.09L143.54%2C98.6L158.3%2C101.45L173.54%2C100.41L188.78%2C98.71L203.54%2C107.7L218.78%2C90.83L233.53%2C86.46L248.78%2C89.15L264.02%2C82.53L278.28%2C78.83L293.52%2C92.34L308.27%2C79.36L323.52%2C67.18L338.27%2C78.23L353.51%2C67.32L368.76%2C78.14L383.51%2C70.26L398.75%2C64.82L413.51%2C90.28L428.75%2C101.23L443.99%2C99.44L457.76%2C116.25L473%2C120.65L487.76%2C112.1L503%2C108.33L517.75%2C110.1L533%2C122.17L548.24%2C111.7L562.99%2C112.15L578.23%2C126.02L592.99%2C127.17L608.23%2C128.04L623.47%2C120.72L637.24%2C119.46L652.49%2C119.95L682.48%2C119.94L697.23%2C123.19L712.48%2C130.43L727.72%2C124.63L742.47%2C118.34L757.72%2C120.58L772.47%2C109.72L787.71%2C112.48L802.96%2C112.05L816.72%2C113.7L831.97%2C109.93L846.72%2C112.56L861.96%2C113.1L876.72%2C110.93L891.96%2C108.84L907.2%2C105.96L921.95%2C108.14L937.2%2C105.78L951.95%2C106%22%2F%3E%3C%2Fg%3E%3Cg%20class%3D%22points%22%3E%3Cpath%20class%3D%22point%22%20transform%3D%22translate(54.05%2C152.09)%22%20style%3D%22opacity%3A%201%3B%20stroke-width%3A%200px%3B%20fill%3A%20rgb(89%2C%20161%2C%2079)%3B%20fill-opacity%3A%201%3B%22%20d%3D%22M3%2C0A3%2C3%200%201%2C1%200%2C-3A3%2C3%200%200%2C1%203%2C0Z%22%2F%3E%3Cpath%20class%3D%22point%22%20transform%3D%22translate(69.29%2C137.79)%22%20style%3D%22opacity%3A%201%3B%20stroke-width%3A%200px%3B%20fill%3A%20rgb(89%2C%20161%2C%2079)%3B%20fill-opacity%3A%201%3B%22%20d%3D%22M3%2C0A3%2C3%200%201%2C1%200%2C-3A3%2C3%200%200%2C1%203%2C0Z%22%2F%3E%3Cpath%20class%3D%22point%22%20transform%3D%22translate(84.54%2C109.17)%22%20style%3D%22opacity%3A%201%3B%20stroke-width%3A%200px%3B%20fill%3A%20rgb(89%2C%20161%2C%2079)%3B%20fill-opacity%3A%201%3B%22%20d%3D%22M3%2C0A3%2C3%200%201%2C1%200%2C-3A3%2C3%200%200%2C1%203%2C0Z%22%2F%3E%3Cpath%20class%3D%22point%22%20transform%3D%22translate(98.31%2C116.05)%22%20style%3D%22opacity%3A%201%3B%20stroke-width%3A%200px%3B%20fill%3A%20rgb(89%2C%20161%2C%2079)%3B%20fill-opacity%3A%201%3B%22%20d%3D%22M3%2C0A3%2C3%200%201%2C1%200%2C-3A3%2C3%200%200%2C1%203%2C0Z%22%2F%3E%3Cpath%20class%3D%22point%22%20transform%3D%22translate(113.55%2C132.56)%22%20style%3D%22opacity%3A%201%3B%20stroke-width%3A%200px%3B%20fill%3A%20rgb(89%2C%20161%2C%2079)%3B%20fill-opacity%3A%201%3B%22%20d%3D%22M3%2C0A3%2C3%200%201%2C1%200%2C-3A3%2C3%200%200%2C1%203%2C0Z%22%2F%3E%3Cpath%20class%3D%22point%22%20transform%3D%22translate(128.3%2C127.09)%22%20style%3D%22opacity%3A%201%3B%20stroke-width%3A%200px%3B%20fill%3A%20rgb(89%2C%20161%2C%2079)%3B%20fill-opacity%3A%201%3B%22%20d%3D%22M3%2C0A3%2C3%200%201%2C1%200%2C-3A3%2C3%200%200%2C1%203%2C0Z%22%2F%3E%3Cpath%20class%3D%22point%22%20transform%3D%22translate(143.54%2C98.6)%22%20style%3D%22opacity%3A%201%3B%20stroke-width%3A%200px%3B%20fill%3A%20rgb(89%2C%20161%2C%2079)%3B%20fill-opacity%3A%201%3B%22%20d%3D%22M3%2C0A3%2C3%200%201%2C1%200%2C-3A3%2C3%200%200%2C1%203%2C0Z%22%2F%3E%3Cpath%20class%3D%22point%22%20transform%3D%22translate(158.3%2C101.45)%22%20style%3D%22opacity%3A%201%3B%20stroke-width%3A%200px%3B%20fill%3A%20rgb(89%2C%20161%2C%2079)%3B%20fill-opacity%3A%201%3B%22%20d%3D%22M3%2C0A3%2C3%200%201%2C1%200%2C-3A3%2C3%200%200%2C1%203%2C0Z%22%2F%3E%3Cpath%20class%3D%22point%22%20transform%3D%22translate(173.54%2C100.41)%22%20style%3D%22opacity%3A%201%3B%20stroke-width%3A%200px%3B%20fill%3A%20rgb(89%2C%20161%2C%2079)%3B%20fill-opacity%3A%201%3B%22%20d%3D%22M3%2C0A3%2C3%200%201%2C1%200%2C-3A3%2C3%200%200%2C1%203%2C0Z%22%2F%3E%3Cpath%20class%3D%22point%22%20transform%3D%22translate(188.78%2C98.71)%22%20style%3D%22opacity%3A%201%3B%20stroke-width%3A%200px%3B%20fill%3A%20rgb(89%2C%20161%2C%2079)%3B%20fill-opacity%3A%201%3B%22%20d%3D%22M3%2C0A3%2C3%200%201%2C1%200%2C-3A3%2C3%200%200%2C1%203%2C0Z%22%2F%3E%3Cpath%20class%3D%22point%22%20transform%3D%22translate(203.54%2C107.7)%22%20style%3D%22opacity%3A%201%3B%20stroke-width%3A%200px%3B%20fill%3A%20rgb(89%2C%20161%2C%2079)%3B%20fill-opacity%3A%201%3B%22%20d%3D%22M3%2C0A3%2C3%200%201%2C1%200%2C-3A3%2C3%200%200%2C1%203%2C0Z%22%2F%3E%3Cpath%20class%3D%22point%22%20transform%3D%22translate(218.78%2C90.83)%22%20style%3D%22opacity%3A%201%3B%20stroke-width%3A%200px%3B%20fill%3A%20rgb(89%2C%20161%2C%2079)%3B%20fill-opacity%3A%201%3B%22%20d%3D%22M3%2C0A3%2C3%200%201%2C1%200%2C-3A3%2C3%200%200%2C1%203%2C0Z%22%2F%3E%3Cpath%20class%3D%22point%22%20transform%3D%22translate(233.53%2C86.46)%22%20style%3D%22opacity%3A%201%3B%20stroke-width%3A%200px%3B%20fill%3A%20rgb(89%2C%20161%2C%2079)%3B%20fill-opacity%3A%201%3B%22%20d%3D%22M3%2C0A3%2C3%200%201%2C1%200%2C-3A3%2C3%200%200%2C1%203%2C0Z%22%2F%3E%3Cpath%20class%3D%22point%22%20transform%3D%22translate(248.78%2C89.15)%22%20style%3D%22opacity%3A%201%3B%20stroke-width%3A%200px%3B%20fill%3A%20rgb(89%2C%20161%2C%2079)%3B%20fill-opacity%3A%201%3B%22%20d%3D%22M3%2C0A3%2C3%200%201%2C1%200%2C-3A3%2C3%200%200%2C1%203%2C0Z%22%2F%3E%3Cpath%20class%3D%22point%22%20transform%3D%22translate(264.02%2C82.53)%22%20style%3D%22opacity%3A%201%3B%20stroke-width%3A%200px%3B%20fill%3A%20rgb(89%2C%20161%2C%2079)%3B%20fill-opacity%3A%201%3B%22%20d%3D%22M3%2C0A3%2C3%200%201%2C1%200%2C-3A3%2C3%200%200%2C1%203%2C0Z%22%2F%3E%3Cpath%20class%3D%22point%22%20transform%3D%22translate(278.28%2C78.83)%22%20style%3D%22opacity%3A%201%3B%20stroke-width%3A%200px%3B%20fill%3A%20rgb(89%2C%20161%2C%2079)%3B%20fill-opacity%3A%201%3B%22%20d%3D%22M3%2C0A3%2C3%200%201%2C1%200%2C-3A3%2C3%200%200%2C1%203%2C0Z%22%2F%3E%3Cpath%20class%3D%22point%22%20transform%3D%22translate(293.52%2C92.34)%22%20style%3D%22opacity%3A%201%3B%20stroke-width%3A%200px%3B%20fill%3A%20rgb(89%2C%20161%2C%2079)%3B%20fill-opacity%3A%201%3B%22%20d%3D%22M3%2C0A3%2C3%200%201%2C1%200%2C-3A3%2C3%200%200%2C1%203%2C0Z%22%2F%3E%3Cpath%20class%3D%22point%22%20transform%3D%22translate(308.27%2C79.36)%22%20style%3D%22opacity%3A%201%3B%20stroke-width%3A%200px%3B%20fill%3A%20rgb(89%2C%20161%2C%2079)%3B%20fill-opacity%3A%201%3B%22%20d%3D%22M3%2C0A3%2C3%200%201%2C1%200%2C-3A3%2C3%200%200%2C1%203%2C0Z%22%2F%3E%3Cpath%20class%3D%22point%22%20transform%3D%22translate(323.52%2C67.18)%22%20style%3D%22opacity%3A%201%3B%20stroke-width%3A%200px%3B%20fill%3A%20rgb(89%2C%20161%2C%2079)%3B%20fill-opacity%3A%201%3B%22%20d%3D%22M3%2C0A3%2C3%200%201%2C1%200%2C-3A3%2C3%200%200%2C1%203%2C0Z%22%2F%3E%3Cpath%20class%3D%22point%22%20transform%3D%22translate(338.27%2C78.23)%22%20style%3D%22opacity%3A%201%3B%20stroke-width%3A%200px%3B%20fill%3A%20rgb(89%2C%20161%2C%2079)%3B%20fill-opacity%3A%201%3B%22%20d%3D%22M3%2C0A3%2C3%200%201%2C1%200%2C-3A3%2C3%200%200%2C1%203%2C0Z%22%2F%3E%3Cpath%20class%3D%22point%22%20transform%3D%22translate(353.51%2C67.32)%22%20style%3D%22opacity%3A%201%3B%20stroke-width%3A%200px%3B%20fill%3A%20rgb(89%2C%20161%2C%2079)%3B%20fill-opacity%3A%201%3B%22%20d%3D%22M3%2C0A3%2C3%200%201%2C1%200%2C-3A3%2C3%200%200%2C1%203%2C0Z%22%2F%3E%3Cpath%20class%3D%22point%22%20transform%3D%22translate(368.76%2C78.14)%22%20style%3D%22opacity%3A%201%3B%20stroke-width%3A%200px%3B%20fill%3A%20rgb(89%2C%20161%2C%2079)%3B%20fill-opacity%3A%201%3B%22%20d%3D%22M3%2C0A3%2C3%200%201%2C1%200%2C-3A3%2C3%200%200%2C1%203%2C0Z%22%2F%3E%3Cpath%20class%3D%22point%22%20transform%3D%22translate(383.51%2C70.26)%22%20style%3D%22opacity%3A%201%3B%20stroke-width%3A%200px%3B%20fill%3A%20rgb(89%2C%20161%2C%2079)%3B%20fill-opacity%3A%201%3B%22%20d%3D%22M3%2C0A3%2C3%200%201%2C1%200%2C-3A3%2C3%200%200%2C1%203%2C0Z%22%2F%3E%3Cpath%20class%3D%22point%22%20transform%3D%22translate(398.75%2C64.82)%22%20style%3D%22opacity%3A%201%3B%20stroke-width%3A%200px%3B%20fill%3A%20rgb(89%2C%20161%2C%2079)%3B%20fill-opacity%3A%201%3B%22%20d%3D%22M3%2C0A3%2C3%200%201%2C1%200%2C-3A3%2C3%200%200%2C1%203%2C0Z%22%2F%3E%3Cpath%20class%3D%22point%22%20transform%3D%22translate(413.51%2C90.28)%22%20style%3D%22opacity%3A%201%3B%20stroke-width%3A%200px%3B%20fill%3A%20rgb(89%2C%20161%2C%2079)%3B%20fill-opacity%3A%201%3B%22%20d%3D%22M3%2C0A3%2C3%200%201%2C1%200%2C-3A3%2C3%200%200%2C1%203%2C0Z%22%2F%3E%3Cpath%20class%3D%22point%22%20transform%3D%22translate(428.75%2C101.23)%22%20style%3D%22opacity%3A%201%3B%20stroke-width%3A%200px%3B%20fill%3A%20rgb(89%2C%20161%2C%2079)%3B%20fill-opacity%3A%201%3B%22%20d%3D%22M3%2C0A3%2C3%200%201%2C1%200%2C-3A3%2C3%200%200%2C1%203%2C0Z%22%2F%3E%3Cpath%20class%3D%22point%22%20transform%3D%22translate(443.99%2C99.44)%22%20style%3D%22opacity%3A%201%3B%20stroke-width%3A%200px%3B%20fill%3A%20rgb(89%2C%20161%2C%2079)%3B%20fill-opacity%3A%201%3B%22%20d%3D%22M3%2C0A3%2C3%200%201%2C1%200%2C-3A3%2C3%200%200%2C1%203%2C0Z%22%2F%3E%3Cpath%20class%3D%22point%22%20transform%3D%22translate(457.76%2C116.25)%22%20style%3D%22opacity%3A%201%3B%20stroke-width%3A%200px%3B%20fill%3A%20rgb(89%2C%20161%2C%2079)%3B%20fill-opacity%3A%201%3B%22%20d%3D%22M3%2C0A3%2C3%200%201%2C1%200%2C-3A3%2C3%200%200%2C1%203%2C0Z%22%2F%3E%3Cpath%20class%3D%22point%22%20transform%3D%22translate(473%2C120.65)%22%20style%3D%22opacity%3A%201%3B%20stroke-width%3A%200px%3B%20fill%3A%20rgb(89%2C%20161%2C%2079)%3B%20fill-opacity%3A%201%3B%22%20d%3D%22M3%2C0A3%2C3%200%201%2C1%200%2C-3A3%2C3%200%200%2C1%203%2C0Z%22%2F%3E%3Cpath%20class%3D%22point%22%20transform%3D%22translate(487.76%2C112.1)%22%20style%3D%22opacity%3A%201%3B%20stroke-width%3A%200px%3B%20fill%3A%20rgb(89%2C%20161%2C%2079)%3B%20fill-opacity%3A%201%3B%22%20d%3D%22M3%2C0A3%2C3%200%201%2C1%200%2C-3A3%2C3%200%200%2C1%203%2C0Z%22%2F%3E%3Cpath%20class%3D%22point%22%20transform%3D%22translate(503%2C108.33)%22%20style%3D%22opacity%3A%201%3B%20stroke-width%3A%200px%3B%20fill%3A%20rgb(89%2C%20161%2C%2079)%3B%20fill-opacity%3A%201%3B%22%20d%3D%22M3%2C0A3%2C3%200%201%2C1%200%2C-3A3%2C3%200%200%2C1%203%2C0Z%22%2F%3E%3Cpath%20class%3D%22point%22%20transform%3D%22translate(517.75%2C110.1)%22%20style%3D%22opacity%3A%201%3B%20stroke-width%3A%200px%3B%20fill%3A%20rgb(89%2C%20161%2C%2079)%3B%20fill-opacity%3A%201%3B%22%20d%3D%22M3%2C0A3%2C3%200%201%2C1%200%2C-3A3%2C3%200%200%2C1%203%2C0Z%22%2F%3E%3Cpath%20class%3D%22point%22%20transform%3D%22translate(533%2C122.17)%22%20style%3D%22opacity%3A%201%3B%20stroke-width%3A%200px%3B%20fill%3A%20rgb(89%2C%20161%2C%2079)%3B%20fill-opacity%3A%201%3B%22%20d%3D%22M3%2C0A3%2C3%200%201%2C1%200%2C-3A3%2C3%200%200%2C1%203%2C0Z%22%2F%3E%3Cpath%20class%3D%22point%22%20transform%3D%22translate(548.24%2C111.7)%22%20style%3D%22opacity%3A%201%3B%20stroke-width%3A%200px%3B%20fill%3A%20rgb(89%2C%20161%2C%2079)%3B%20fill-opacity%3A%201%3B%22%20d%3D%22M3%2C0A3%2C3%200%201%2C1%200%2C-3A3%2C3%200%200%2C1%203%2C0Z%22%2F%3E%3Cpath%20class%3D%22point%22%20transform%3D%22translate(562.99%2C112.15)%22%20style%3D%22opacity%3A%201%3B%20stroke-width%3A%200px%3B%20fill%3A%20rgb(89%2C%20161%2C%2079)%3B%20fill-opacity%3A%201%3B%22%20d%3D%22M3%2C0A3%2C3%200%201%2C1%200%2C-3A3%2C3%200%200%2C1%203%2C0Z%22%2F%3E%3Cpath%20class%3D%22point%22%20transform%3D%22translate(578.23%2C126.02)%22%20style%3D%22opacity%3A%201%3B%20stroke-width%3A%200px%3B%20fill%3A%20rgb(89%2C%20161%2C%2079)%3B%20fill-opacity%3A%201%3B%22%20d%3D%22M3%2C0A3%2C3%200%201%2C1%200%2C-3A3%2C3%200%200%2C1%203%2C0Z%22%2F%3E%3Cpath%20class%3D%22point%22%20transform%3D%22translate(592.99%2C127.17)%22%20style%3D%22opacity%3A%201%3B%20stroke-width%3A%200px%3B%20fill%3A%20rgb(89%2C%20161%2C%2079)%3B%20fill-opacity%3A%201%3B%22%20d%3D%22M3%2C0A3%2C3%200%201%2C1%200%2C-3A3%2C3%200%200%2C1%203%2C0Z%22%2F%3E%3Cpath%20class%3D%22point%22%20transform%3D%22translate(608.23%2C128.04)%22%20style%3D%22opacity%3A%201%3B%20stroke-width%3A%200px%3B%20fill%3A%20rgb(89%2C%20161%2C%2079)%3B%20fill-opacity%3A%201%3B%22%20d%3D%22M3%2C0A3%2C3%200%201%2C1%200%2C-3A3%2C3%200%200%2C1%203%2C0Z%22%2F%3E%3Cpath%20class%3D%22point%22%20transform%3D%22translate(623.47%2C120.72)%22%20style%3D%22opacity%3A%201%3B%20stroke-width%3A%200px%3B%20fill%3A%20rgb(89%2C%20161%2C%2079)%3B%20fill-opacity%3A%201%3B%22%20d%3D%22M3%2C0A3%2C3%200%201%2C1%200%2C-3A3%2C3%200%200%2C1%203%2C0Z%22%2F%3E%3Cpath%20class%3D%22point%22%20transform%3D%22translate(637.24%2C119.46)%22%20style%3D%22opacity%3A%201%3B%20stroke-width%3A%200px%3B%20fill%3A%20rgb(89%2C%20161%2C%2079)%3B%20fill-opacity%3A%201%3B%22%20d%3D%22M3%2C0A3%2C3%200%201%2C1%200%2C-3A3%2C3%200%200%2C1%203%2C0Z%22%2F%3E%3Cpath%20class%3D%22point%22%20transform%3D%22translate(652.49%2C119.95)%22%20style%3D%22opacity%3A%201%3B%20stroke-width%3A%200px%3B%20fill%3A%20rgb(89%2C%20161%2C%2079)%3B%20fill-opacity%3A%201%3B%22%20d%3D%22M3%2C0A3%2C3%200%201%2C1%200%2C-3A3%2C3%200%200%2C1%203%2C0Z%22%2F%3E%3Cpath%20class%3D%22point%22%20transform%3D%22translate(667.24%2C120.29)%22%20style%3D%22opacity%3A%201%3B%20stroke-width%3A%200px%3B%20fill%3A%20rgb(89%2C%20161%2C%2079)%3B%20fill-opacity%3A%201%3B%22%20d%3D%22M3%2C0A3%2C3%200%201%2C1%200%2C-3A3%2C3%200%200%2C1%203%2C0Z%22%2F%3E%3Cpath%20class%3D%22point%22%20transform%3D%22translate(682.48%2C119.94)%22%20style%3D%22opacity%3A%201%3B%20stroke-width%3A%200px%3B%20fill%3A%20rgb(89%2C%20161%2C%2079)%3B%20fill-opacity%3A%201%3B%22%20d%3D%22M3%2C0A3%2C3%200%201%2C1%200%2C-3A3%2C3%200%200%2C1%203%2C0Z%22%2F%3E%3Cpath%20class%3D%22point%22%20transform%3D%22translate(697.23%2C123.19)%22%20style%3D%22opacity%3A%201%3B%20stroke-width%3A%200px%3B%20fill%3A%20rgb(89%2C%20161%2C%2079)%3B%20fill-opacity%3A%201%3B%22%20d%3D%22M3%2C0A3%2C3%200%201%2C1%200%2C-3A3%2C3%200%200%2C1%203%2C0Z%22%2F%3E%3Cpath%20class%3D%22point%22%20transform%3D%22translate(712.48%2C130.43)%22%20style%3D%22opacity%3A%201%3B%20stroke-width%3A%200px%3B%20fill%3A%20rgb(89%2C%20161%2C%2079)%3B%20fill-opacity%3A%201%3B%22%20d%3D%22M3%2C0A3%2C3%200%201%2C1%200%2C-3A3%2C3%200%200%2C1%203%2C0Z%22%2F%3E%3Cpath%20class%3D%22point%22%20transform%3D%22translate(727.72%2C124.63)%22%20style%3D%22opacity%3A%201%3B%20stroke-width%3A%200px%3B%20fill%3A%20rgb(89%2C%20161%2C%2079)%3B%20fill-opacity%3A%201%3B%22%20d%3D%22M3%2C0A3%2C3%200%201%2C1%200%2C-3A3%2C3%200%200%2C1%203%2C0Z%22%2F%3E%3Cpath%20class%3D%22point%22%20transform%3D%22translate(742.47%2C118.34)%22%20style%3D%22opacity%3A%201%3B%20stroke-width%3A%200px%3B%20fill%3A%20rgb(89%2C%20161%2C%2079)%3B%20fill-opacity%3A%201%3B%22%20d%3D%22M3%2C0A3%2C3%200%201%2C1%200%2C-3A3%2C3%200%200%2C1%203%2C0Z%22%2F%3E%3Cpath%20class%3D%22point%22%20transform%3D%22translate(757.72%2C120.58)%22%20style%3D%22opacity%3A%201%3B%20stroke-width%3A%200px%3B%20fill%3A%20rgb(89%2C%20161%2C%2079)%3B%20fill-opacity%3A%201%3B%22%20d%3D%22M3%2C0A3%2C3%200%201%2C1%200%2C-3A3%2C3%200%200%2C1%203%2C0Z%22%2F%3E%3Cpath%20class%3D%22point%22%20transform%3D%22translate(772.47%2C109.72)%22%20style%3D%22opacity%3A%201%3B%20stroke-width%3A%200px%3B%20fill%3A%20rgb(89%2C%20161%2C%2079)%3B%20fill-opacity%3A%201%3B%22%20d%3D%22M3%2C0A3%2C3%200%201%2C1%200%2C-3A3%2C3%200%200%2C1%203%2C0Z%22%2F%3E%3Cpath%20class%3D%22point%22%20transform%3D%22translate(787.71%2C112.48)%22%20style%3D%22opacity%3A%201%3B%20stroke-width%3A%200px%3B%20fill%3A%20rgb(89%2C%20161%2C%2079)%3B%20fill-opacity%3A%201%3B%22%20d%3D%22M3%2C0A3%2C3%200%201%2C1%200%2C-3A3%2C3%200%200%2C1%203%2C0Z%22%2F%3E%3Cpath%20class%3D%22point%22%20transform%3D%22translate(802.96%2C112.05)%22%20style%3D%22opacity%3A%201%3B%20stroke-width%3A%200px%3B%20fill%3A%20rgb(89%2C%20161%2C%2079)%3B%20fill-opacity%3A%201%3B%22%20d%3D%22M3%2C0A3%2C3%200%201%2C1%200%2C-3A3%2C3%200%200%2C1%203%2C0Z%22%2F%3E%3Cpath%20class%3D%22point%22%20transform%3D%22translate(816.72%2C113.7)%22%20style%3D%22opacity%3A%201%3B%20stroke-width%3A%200px%3B%20fill%3A%20rgb(89%2C%20161%2C%2079)%3B%20fill-opacity%3A%201%3B%22%20d%3D%22M3%2C0A3%2C3%200%201%2C1%200%2C-3A3%2C3%200%200%2C1%203%2C0Z%22%2F%3E%3Cpath%20class%3D%22point%22%20transform%3D%22translate(831.97%2C109.93)%22%20style%3D%22opacity%3A%201%3B%20stroke-width%3A%200px%3B%20fill%3A%20rgb(89%2C%20161%2C%2079)%3B%20fill-opacity%3A%201%3B%22%20d%3D%22M3%2C0A3%2C3%200%201%2C1%200%2C-3A3%2C3%200%200%2C1%203%2C0Z%22%2F%3E%3Cpath%20class%3D%22point%22%20transform%3D%22translate(846.72%2C112.56)%22%20style%3D%22opacity%3A%201%3B%20stroke-width%3A%200px%3B%20fill%3A%20rgb(89%2C%20161%2C%2079)%3B%20fill-opacity%3A%201%3B%22%20d%3D%22M3%2C0A3%2C3%200%201%2C1%200%2C-3A3%2C3%200%200%2C1%203%2C0Z%22%2F%3E%3Cpath%20class%3D%22point%22%20transform%3D%22translate(861.96%2C113.1)%22%20style%3D%22opacity%3A%201%3B%20stroke-width%3A%200px%3B%20fill%3A%20rgb(89%2C%20161%2C%2079)%3B%20fill-opacity%3A%201%3B%22%20d%3D%22M3%2C0A3%2C3%200%201%2C1%200%2C-3A3%2C3%200%200%2C1%203%2C0Z%22%2F%3E%3Cpath%20class%3D%22point%22%20transform%3D%22translate(876.72%2C110.93)%22%20style%3D%22opacity%3A%201%3B%20stroke-width%3A%200px%3B%20fill%3A%20rgb(89%2C%20161%2C%2079)%3B%20fill-opacity%3A%201%3B%22%20d%3D%22M3%2C0A3%2C3%200%201%2C1%200%2C-3A3%2C3%200%200%2C1%203%2C0Z%22%2F%3E%3Cpath%20class%3D%22point%22%20transform%3D%22translate(891.96%2C108.84)%22%20style%3D%22opacity%3A%201%3B%20stroke-width%3A%200px%3B%20fill%3A%20rgb(89%2C%20161%2C%2079)%3B%20fill-opacity%3A%201%3B%22%20d%3D%22M3%2C0A3%2C3%200%201%2C1%200%2C-3A3%2C3%200%200%2C1%203%2C0Z%22%2F%3E%3Cpath%20class%3D%22point%22%20transform%3D%22translate(907.2%2C105.96)%22%20style%3D%22opacity%3A%201%3B%20stroke-width%3A%200px%3B%20fill%3A%20rgb(89%2C%20161%2C%2079)%3B%20fill-opacity%3A%201%3B%22%20d%3D%22M3%2C0A3%2C3%200%201%2C1%200%2C-3A3%2C3%200%200%2C1%203%2C0Z%22%2F%3E%3Cpath%20class%3D%22point%22%20transform%3D%22translate(921.95%2C108.14)%22%20style%3D%22opacity%3A%201%3B%20stroke-width%3A%200px%3B%20fill%3A%20rgb(89%2C%20161%2C%2079)%3B%20fill-opacity%3A%201%3B%22%20d%3D%22M3%2C0A3%2C3%200%201%2C1%200%2C-3A3%2C3%200%200%2C1%203%2C0Z%22%2F%3E%3Cpath%20class%3D%22point%22%20transform%3D%22translate(937.2%2C105.78)%22%20style%3D%22opacity%3A%201%3B%20stroke-width%3A%200px%3B%20fill%3A%20rgb(89%2C%20161%2C%2079)%3B%20fill-opacity%3A%201%3B%22%20d%3D%22M3%2C0A3%2C3%200%201%2C1%200%2C-3A3%2C3%200%200%2C1%203%2C0Z%22%2F%3E%3Cpath%20class%3D%22point%22%20transform%3D%22translate(951.95%2C106)%22%20style%3D%22opacity%3A%201%3B%20stroke-width%3A%200px%3B%20fill%3A%20rgb(89%2C%20161%2C%2079)%3B%20fill-opacity%3A%201%3B%22%20d%3D%22M3%2C0A3%2C3%200%201%2C1%200%2C-3A3%2C3%200%200%2C1%203%2C0Z%22%2F%3E%3C%2Fg%3E%3Cg%20class%3D%22text%22%2F%3E%3C%2Fg%3E%3Cg%20class%3D%22trace%20scatter%20tracef7a3050%22%20style%3D%22stroke-miterlimit%3A%202%3B%20opacity%3A%201%3B%22%3E%3Cg%20class%3D%22fills%22%2F%3E%3Cg%20class%3D%22errorbars%22%2F%3E%3Cg%20class%3D%22lines%22%3E%3Cpath%20class%3D%22js-line%22%20style%3D%22vector-effect%3A%20non-scaling-stroke%3B%20fill%3A%20none%3B%20stroke%3A%20rgb(237%2C%20201%2C%2073)%3B%20stroke-opacity%3A%201%3B%20stroke-width%3A%202px%3B%20opacity%3A%201%3B%22%20d%3D%22M54.05%2C148.45L69.29%2C123.54L84.54%2C121.11L98.31%2C93.76L113.55%2C106.5L128.3%2C108.8L143.54%2C98.77L158.3%2C75.22L173.54%2C94.01L188.78%2C68.65L203.54%2C61.44L218.78%2C70.32L233.53%2C71.19L248.78%2C37.31L264.02%2C45.76L278.28%2C46.27L293.52%2C52.81L308.27%2C41.08L323.52%2C35.43L338.27%2C45.08L353.51%2C49.35L368.76%2C52.8L383.51%2C39.35L398.75%2C38.26L413.51%2C94.93L428.75%2C105.37L443.99%2C92.18L473%2C109.36L487.76%2C87.06L503%2C78.57L517.75%2C93.17L533%2C113.3L548.24%2C104.55L562.99%2C100.21L578.23%2C123.21L592.99%2C133.93L608.23%2C143.39L637.24%2C117.44L652.49%2C129.91L667.24%2C129.89L682.48%2C124.01L697.23%2C132.46L712.48%2C151.93L727.72%2C128.51L742.47%2C109.34L757.72%2C102.67L772.47%2C88.49L787.71%2C95.59L802.96%2C94.87L831.97%2C97.03L846.72%2C92.63L861.96%2C96.49L876.72%2C96.38L907.2%2C88.93L921.95%2C94.96L937.2%2C96.99L951.95%2C100.44%22%2F%3E%3C%2Fg%3E%3Cg%20class%3D%22points%22%3E%3Cpath%20class%3D%22point%22%20transform%3D%22translate(54.05%2C148.45)%22%20style%3D%22opacity%3A%201%3B%20stroke-width%3A%200px%3B%20fill%3A%20rgb(237%2C%20201%2C%2073)%3B%20fill-opacity%3A%201%3B%22%20d%3D%22M3%2C0A3%2C3%200%201%2C1%200%2C-3A3%2C3%200%200%2C1%203%2C0Z%22%2F%3E%3Cpath%20class%3D%22point%22%20transform%3D%22translate(69.29%2C123.54)%22%20style%3D%22opacity%3A%201%3B%20stroke-width%3A%200px%3B%20fill%3A%20rgb(237%2C%20201%2C%2073)%3B%20fill-opacity%3A%201%3B%22%20d%3D%22M3%2C0A3%2C3%200%201%2C1%200%2C-3A3%2C3%200%200%2C1%203%2C0Z%22%2F%3E%3Cpath%20class%3D%22point%22%20transform%3D%22translate(84.54%2C121.11)%22%20style%3D%22opacity%3A%201%3B%20stroke-width%3A%200px%3B%20fill%3A%20rgb(237%2C%20201%2C%2073)%3B%20fill-opacity%3A%201%3B%22%20d%3D%22M3%2C0A3%2C3%200%201%2C1%200%2C-3A3%2C3%200%200%2C1%203%2C0Z%22%2F%3E%3Cpath%20class%3D%22point%22%20transform%3D%22translate(98.31%2C93.76)%22%20style%3D%22opacity%3A%201%3B%20stroke-width%3A%200px%3B%20fill%3A%20rgb(237%2C%20201%2C%2073)%3B%20fill-opacity%3A%201%3B%22%20d%3D%22M3%2C0A3%2C3%200%201%2C1%200%2C-3A3%2C3%200%200%2C1%203%2C0Z%22%2F%3E%3Cpath%20class%3D%22point%22%20transform%3D%22translate(113.55%2C106.5)%22%20style%3D%22opacity%3A%201%3B%20stroke-width%3A%200px%3B%20fill%3A%20rgb(237%2C%20201%2C%2073)%3B%20fill-opacity%3A%201%3B%22%20d%3D%22M3%2C0A3%2C3%200%201%2C1%200%2C-3A3%2C3%200%200%2C1%203%2C0Z%22%2F%3E%3Cpath%20class%3D%22point%22%20transform%3D%22translate(128.3%2C108.8)%22%20style%3D%22opacity%3A%201%3B%20stroke-width%3A%200px%3B%20fill%3A%20rgb(237%2C%20201%2C%2073)%3B%20fill-opacity%3A%201%3B%22%20d%3D%22M3%2C0A3%2C3%200%201%2C1%200%2C-3A3%2C3%200%200%2C1%203%2C0Z%22%2F%3E%3Cpath%20class%3D%22point%22%20transform%3D%22translate(143.54%2C98.77)%22%20style%3D%22opacity%3A%201%3B%20stroke-width%3A%200px%3B%20fill%3A%20rgb(237%2C%20201%2C%2073)%3B%20fill-opacity%3A%201%3B%22%20d%3D%22M3%2C0A3%2C3%200%201%2C1%200%2C-3A3%2C3%200%200%2C1%203%2C0Z%22%2F%3E%3Cpath%20class%3D%22point%22%20transform%3D%22translate(158.3%2C75.22)%22%20style%3D%22opacity%3A%201%3B%20stroke-width%3A%200px%3B%20fill%3A%20rgb(237%2C%20201%2C%2073)%3B%20fill-opacity%3A%201%3B%22%20d%3D%22M3%2C0A3%2C3%200%201%2C1%200%2C-3A3%2C3%200%200%2C1%203%2C0Z%22%2F%3E%3Cpath%20class%3D%22point%22%20transform%3D%22translate(173.54%2C94.01)%22%20style%3D%22opacity%3A%201%3B%20stroke-width%3A%200px%3B%20fill%3A%20rgb(237%2C%20201%2C%2073)%3B%20fill-opacity%3A%201%3B%22%20d%3D%22M3%2C0A3%2C3%200%201%2C1%200%2C-3A3%2C3%200%200%2C1%203%2C0Z%22%2F%3E%3Cpath%20class%3D%22point%22%20transform%3D%22translate(188.78%2C68.65)%22%20style%3D%22opacity%3A%201%3B%20stroke-width%3A%200px%3B%20fill%3A%20rgb(237%2C%20201%2C%2073)%3B%20fill-opacity%3A%201%3B%22%20d%3D%22M3%2C0A3%2C3%200%201%2C1%200%2C-3A3%2C3%200%200%2C1%203%2C0Z%22%2F%3E%3Cpath%20class%3D%22point%22%20transform%3D%22translate(203.54%2C61.44)%22%20style%3D%22opacity%3A%201%3B%20stroke-width%3A%200px%3B%20fill%3A%20rgb(237%2C%20201%2C%2073)%3B%20fill-opacity%3A%201%3B%22%20d%3D%22M3%2C0A3%2C3%200%201%2C1%200%2C-3A3%2C3%200%200%2C1%203%2C0Z%22%2F%3E%3Cpath%20class%3D%22point%22%20transform%3D%22translate(218.78%2C70.32)%22%20style%3D%22opacity%3A%201%3B%20stroke-width%3A%200px%3B%20fill%3A%20rgb(237%2C%20201%2C%2073)%3B%20fill-opacity%3A%201%3B%22%20d%3D%22M3%2C0A3%2C3%200%201%2C1%200%2C-3A3%2C3%200%200%2C1%203%2C0Z%22%2F%3E%3Cpath%20class%3D%22point%22%20transform%3D%22translate(233.53%2C71.19)%22%20style%3D%22opacity%3A%201%3B%20stroke-width%3A%200px%3B%20fill%3A%20rgb(237%2C%20201%2C%2073)%3B%20fill-opacity%3A%201%3B%22%20d%3D%22M3%2C0A3%2C3%200%201%2C1%200%2C-3A3%2C3%200%200%2C1%203%2C0Z%22%2F%3E%3Cpath%20class%3D%22point%22%20transform%3D%22translate(248.78%2C37.31)%22%20style%3D%22opacity%3A%201%3B%20stroke-width%3A%200px%3B%20fill%3A%20rgb(237%2C%20201%2C%2073)%3B%20fill-opacity%3A%201%3B%22%20d%3D%22M3%2C0A3%2C3%200%201%2C1%200%2C-3A3%2C3%200%200%2C1%203%2C0Z%22%2F%3E%3Cpath%20class%3D%22point%22%20transform%3D%22translate(264.02%2C45.76)%22%20style%3D%22opacity%3A%201%3B%20stroke-width%3A%200px%3B%20fill%3A%20rgb(237%2C%20201%2C%2073)%3B%20fill-opacity%3A%201%3B%22%20d%3D%22M3%2C0A3%2C3%200%201%2C1%200%2C-3A3%2C3%200%200%2C1%203%2C0Z%22%2F%3E%3Cpath%20class%3D%22point%22%20transform%3D%22translate(278.28%2C46.27)%22%20style%3D%22opacity%3A%201%3B%20stroke-width%3A%200px%3B%20fill%3A%20rgb(237%2C%20201%2C%2073)%3B%20fill-opacity%3A%201%3B%22%20d%3D%22M3%2C0A3%2C3%200%201%2C1%200%2C-3A3%2C3%200%200%2C1%203%2C0Z%22%2F%3E%3Cpath%20class%3D%22point%22%20transform%3D%22translate(293.52%2C52.81)%22%20style%3D%22opacity%3A%201%3B%20stroke-width%3A%200px%3B%20fill%3A%20rgb(237%2C%20201%2C%2073)%3B%20fill-opacity%3A%201%3B%22%20d%3D%22M3%2C0A3%2C3%200%201%2C1%200%2C-3A3%2C3%200%200%2C1%203%2C0Z%22%2F%3E%3Cpath%20class%3D%22point%22%20transform%3D%22translate(308.27%2C41.08)%22%20style%3D%22opacity%3A%201%3B%20stroke-width%3A%200px%3B%20fill%3A%20rgb(237%2C%20201%2C%2073)%3B%20fill-opacity%3A%201%3B%22%20d%3D%22M3%2C0A3%2C3%200%201%2C1%200%2C-3A3%2C3%200%200%2C1%203%2C0Z%22%2F%3E%3Cpath%20class%3D%22point%22%20transform%3D%22translate(323.52%2C35.43)%22%20style%3D%22opacity%3A%201%3B%20stroke-width%3A%200px%3B%20fill%3A%20rgb(237%2C%20201%2C%2073)%3B%20fill-opacity%3A%201%3B%22%20d%3D%22M3%2C0A3%2C3%200%201%2C1%200%2C-3A3%2C3%200%200%2C1%203%2C0Z%22%2F%3E%3Cpath%20class%3D%22point%22%20transform%3D%22translate(338.27%2C45.08)%22%20style%3D%22opacity%3A%201%3B%20stroke-width%3A%200px%3B%20fill%3A%20rgb(237%2C%20201%2C%2073)%3B%20fill-opacity%3A%201%3B%22%20d%3D%22M3%2C0A3%2C3%200%201%2C1%200%2C-3A3%2C3%200%200%2C1%203%2C0Z%22%2F%3E%3Cpath%20class%3D%22point%22%20transform%3D%22translate(353.51%2C49.35)%22%20style%3D%22opacity%3A%201%3B%20stroke-width%3A%200px%3B%20fill%3A%20rgb(237%2C%20201%2C%2073)%3B%20fill-opacity%3A%201%3B%22%20d%3D%22M3%2C0A3%2C3%200%201%2C1%200%2C-3A3%2C3%200%200%2C1%203%2C0Z%22%2F%3E%3Cpath%20class%3D%22point%22%20transform%3D%22translate(368.76%2C52.8)%22%20style%3D%22opacity%3A%201%3B%20stroke-width%3A%200px%3B%20fill%3A%20rgb(237%2C%20201%2C%2073)%3B%20fill-opacity%3A%201%3B%22%20d%3D%22M3%2C0A3%2C3%200%201%2C1%200%2C-3A3%2C3%200%200%2C1%203%2C0Z%22%2F%3E%3Cpath%20class%3D%22point%22%20transform%3D%22translate(383.51%2C39.35)%22%20style%3D%22opacity%3A%201%3B%20stroke-width%3A%200px%3B%20fill%3A%20rgb(237%2C%20201%2C%2073)%3B%20fill-opacity%3A%201%3B%22%20d%3D%22M3%2C0A3%2C3%200%201%2C1%200%2C-3A3%2C3%200%200%2C1%203%2C0Z%22%2F%3E%3Cpath%20class%3D%22point%22%20transform%3D%22translate(398.75%2C38.26)%22%20style%3D%22opacity%3A%201%3B%20stroke-width%3A%200px%3B%20fill%3A%20rgb(237%2C%20201%2C%2073)%3B%20fill-opacity%3A%201%3B%22%20d%3D%22M3%2C0A3%2C3%200%201%2C1%200%2C-3A3%2C3%200%200%2C1%203%2C0Z%22%2F%3E%3Cpath%20class%3D%22point%22%20transform%3D%22translate(413.51%2C94.93)%22%20style%3D%22opacity%3A%201%3B%20stroke-width%3A%200px%3B%20fill%3A%20rgb(237%2C%20201%2C%2073)%3B%20fill-opacity%3A%201%3B%22%20d%3D%22M3%2C0A3%2C3%200%201%2C1%200%2C-3A3%2C3%200%200%2C1%203%2C0Z%22%2F%3E%3Cpath%20class%3D%22point%22%20transform%3D%22translate(428.75%2C105.37)%22%20style%3D%22opacity%3A%201%3B%20stroke-width%3A%200px%3B%20fill%3A%20rgb(237%2C%20201%2C%2073)%3B%20fill-opacity%3A%201%3B%22%20d%3D%22M3%2C0A3%2C3%200%201%2C1%200%2C-3A3%2C3%200%200%2C1%203%2C0Z%22%2F%3E%3Cpath%20class%3D%22point%22%20transform%3D%22translate(443.99%2C92.18)%22%20style%3D%22opacity%3A%201%3B%20stroke-width%3A%200px%3B%20fill%3A%20rgb(237%2C%20201%2C%2073)%3B%20fill-opacity%3A%201%3B%22%20d%3D%22M3%2C0A3%2C3%200%201%2C1%200%2C-3A3%2C3%200%200%2C1%203%2C0Z%22%2F%3E%3Cpath%20class%3D%22point%22%20transform%3D%22translate(457.76%2C100.51)%22%20style%3D%22opacity%3A%201%3B%20stroke-width%3A%200px%3B%20fill%3A%20rgb(237%2C%20201%2C%2073)%3B%20fill-opacity%3A%201%3B%22%20d%3D%22M3%2C0A3%2C3%200%201%2C1%200%2C-3A3%2C3%200%200%2C1%203%2C0Z%22%2F%3E%3Cpath%20class%3D%22point%22%20transform%3D%22translate(473%2C109.36)%22%20style%3D%22opacity%3A%201%3B%20stroke-width%3A%200px%3B%20fill%3A%20rgb(237%2C%20201%2C%2073)%3B%20fill-opacity%3A%201%3B%22%20d%3D%22M3%2C0A3%2C3%200%201%2C1%200%2C-3A3%2C3%200%200%2C1%203%2C0Z%22%2F%3E%3Cpath%20class%3D%22point%22%20transform%3D%22translate(487.76%2C87.06)%22%20style%3D%22opacity%3A%201%3B%20stroke-width%3A%200px%3B%20fill%3A%20rgb(237%2C%20201%2C%2073)%3B%20fill-opacity%3A%201%3B%22%20d%3D%22M3%2C0A3%2C3%200%201%2C1%200%2C-3A3%2C3%200%200%2C1%203%2C0Z%22%2F%3E%3Cpath%20class%3D%22point%22%20transform%3D%22translate(503%2C78.57)%22%20style%3D%22opacity%3A%201%3B%20stroke-width%3A%200px%3B%20fill%3A%20rgb(237%2C%20201%2C%2073)%3B%20fill-opacity%3A%201%3B%22%20d%3D%22M3%2C0A3%2C3%200%201%2C1%200%2C-3A3%2C3%200%200%2C1%203%2C0Z%22%2F%3E%3Cpath%20class%3D%22point%22%20transform%3D%22translate(517.75%2C93.17)%22%20style%3D%22opacity%3A%201%3B%20stroke-width%3A%200px%3B%20fill%3A%20rgb(237%2C%20201%2C%2073)%3B%20fill-opacity%3A%201%3B%22%20d%3D%22M3%2C0A3%2C3%200%201%2C1%200%2C-3A3%2C3%200%200%2C1%203%2C0Z%22%2F%3E%3Cpath%20class%3D%22point%22%20transform%3D%22translate(533%2C113.3)%22%20style%3D%22opacity%3A%201%3B%20stroke-width%3A%200px%3B%20fill%3A%20rgb(237%2C%20201%2C%2073)%3B%20fill-opacity%3A%201%3B%22%20d%3D%22M3%2C0A3%2C3%200%201%2C1%200%2C-3A3%2C3%200%200%2C1%203%2C0Z%22%2F%3E%3Cpath%20class%3D%22point%22%20transform%3D%22translate(548.24%2C104.55)%22%20style%3D%22opacity%3A%201%3B%20stroke-width%3A%200px%3B%20fill%3A%20rgb(237%2C%20201%2C%2073)%3B%20fill-opacity%3A%201%3B%22%20d%3D%22M3%2C0A3%2C3%200%201%2C1%200%2C-3A3%2C3%200%200%2C1%203%2C0Z%22%2F%3E%3Cpath%20class%3D%22point%22%20transform%3D%22translate(562.99%2C100.21)%22%20style%3D%22opacity%3A%201%3B%20stroke-width%3A%200px%3B%20fill%3A%20rgb(237%2C%20201%2C%2073)%3B%20fill-opacity%3A%201%3B%22%20d%3D%22M3%2C0A3%2C3%200%201%2C1%200%2C-3A3%2C3%200%200%2C1%203%2C0Z%22%2F%3E%3Cpath%20class%3D%22point%22%20transform%3D%22translate(578.23%2C123.21)%22%20style%3D%22opacity%3A%201%3B%20stroke-width%3A%200px%3B%20fill%3A%20rgb(237%2C%20201%2C%2073)%3B%20fill-opacity%3A%201%3B%22%20d%3D%22M3%2C0A3%2C3%200%201%2C1%200%2C-3A3%2C3%200%200%2C1%203%2C0Z%22%2F%3E%3Cpath%20class%3D%22point%22%20transform%3D%22translate(592.99%2C133.93)%22%20style%3D%22opacity%3A%201%3B%20stroke-width%3A%200px%3B%20fill%3A%20rgb(237%2C%20201%2C%2073)%3B%20fill-opacity%3A%201%3B%22%20d%3D%22M3%2C0A3%2C3%200%201%2C1%200%2C-3A3%2C3%200%200%2C1%203%2C0Z%22%2F%3E%3Cpath%20class%3D%22point%22%20transform%3D%22translate(608.23%2C143.39)%22%20style%3D%22opacity%3A%201%3B%20stroke-width%3A%200px%3B%20fill%3A%20rgb(237%2C%20201%2C%2073)%3B%20fill-opacity%3A%201%3B%22%20d%3D%22M3%2C0A3%2C3%200%201%2C1%200%2C-3A3%2C3%200%200%2C1%203%2C0Z%22%2F%3E%3Cpath%20class%3D%22point%22%20transform%3D%22translate(623.47%2C129.48)%22%20style%3D%22opacity%3A%201%3B%20stroke-width%3A%200px%3B%20fill%3A%20rgb(237%2C%20201%2C%2073)%3B%20fill-opacity%3A%201%3B%22%20d%3D%22M3%2C0A3%2C3%200%201%2C1%200%2C-3A3%2C3%200%200%2C1%203%2C0Z%22%2F%3E%3Cpath%20class%3D%22point%22%20transform%3D%22translate(637.24%2C117.44)%22%20style%3D%22opacity%3A%201%3B%20stroke-width%3A%200px%3B%20fill%3A%20rgb(237%2C%20201%2C%2073)%3B%20fill-opacity%3A%201%3B%22%20d%3D%22M3%2C0A3%2C3%200%201%2C1%200%2C-3A3%2C3%200%200%2C1%203%2C0Z%22%2F%3E%3Cpath%20class%3D%22point%22%20transform%3D%22translate(652.49%2C129.91)%22%20style%3D%22opacity%3A%201%3B%20stroke-width%3A%200px%3B%20fill%3A%20rgb(237%2C%20201%2C%2073)%3B%20fill-opacity%3A%201%3B%22%20d%3D%22M3%2C0A3%2C3%200%201%2C1%200%2C-3A3%2C3%200%200%2C1%203%2C0Z%22%2F%3E%3Cpath%20class%3D%22point%22%20transform%3D%22translate(667.24%2C129.89)%22%20style%3D%22opacity%3A%201%3B%20stroke-width%3A%200px%3B%20fill%3A%20rgb(237%2C%20201%2C%2073)%3B%20fill-opacity%3A%201%3B%22%20d%3D%22M3%2C0A3%2C3%200%201%2C1%200%2C-3A3%2C3%200%200%2C1%203%2C0Z%22%2F%3E%3Cpath%20class%3D%22point%22%20transform%3D%22translate(682.48%2C124.01)%22%20style%3D%22opacity%3A%201%3B%20stroke-width%3A%200px%3B%20fill%3A%20rgb(237%2C%20201%2C%2073)%3B%20fill-opacity%3A%201%3B%22%20d%3D%22M3%2C0A3%2C3%200%201%2C1%200%2C-3A3%2C3%200%200%2C1%203%2C0Z%22%2F%3E%3Cpath%20class%3D%22point%22%20transform%3D%22translate(697.23%2C132.46)%22%20style%3D%22opacity%3A%201%3B%20stroke-width%3A%200px%3B%20fill%3A%20rgb(237%2C%20201%2C%2073)%3B%20fill-opacity%3A%201%3B%22%20d%3D%22M3%2C0A3%2C3%200%201%2C1%200%2C-3A3%2C3%200%200%2C1%203%2C0Z%22%2F%3E%3Cpath%20class%3D%22point%22%20transform%3D%22translate(712.48%2C151.93)%22%20style%3D%22opacity%3A%201%3B%20stroke-width%3A%200px%3B%20fill%3A%20rgb(237%2C%20201%2C%2073)%3B%20fill-opacity%3A%201%3B%22%20d%3D%22M3%2C0A3%2C3%200%201%2C1%200%2C-3A3%2C3%200%200%2C1%203%2C0Z%22%2F%3E%3Cpath%20class%3D%22point%22%20transform%3D%22translate(727.72%2C128.51)%22%20style%3D%22opacity%3A%201%3B%20stroke-width%3A%200px%3B%20fill%3A%20rgb(237%2C%20201%2C%2073)%3B%20fill-opacity%3A%201%3B%22%20d%3D%22M3%2C0A3%2C3%200%201%2C1%200%2C-3A3%2C3%200%200%2C1%203%2C0Z%22%2F%3E%3Cpath%20class%3D%22point%22%20transform%3D%22translate(742.47%2C109.34)%22%20style%3D%22opacity%3A%201%3B%20stroke-width%3A%200px%3B%20fill%3A%20rgb(237%2C%20201%2C%2073)%3B%20fill-opacity%3A%201%3B%22%20d%3D%22M3%2C0A3%2C3%200%201%2C1%200%2C-3A3%2C3%200%200%2C1%203%2C0Z%22%2F%3E%3Cpath%20class%3D%22point%22%20transform%3D%22translate(757.72%2C102.67)%22%20style%3D%22opacity%3A%201%3B%20stroke-width%3A%200px%3B%20fill%3A%20rgb(237%2C%20201%2C%2073)%3B%20fill-opacity%3A%201%3B%22%20d%3D%22M3%2C0A3%2C3%200%201%2C1%200%2C-3A3%2C3%200%200%2C1%203%2C0Z%22%2F%3E%3Cpath%20class%3D%22point%22%20transform%3D%22translate(772.47%2C88.49)%22%20style%3D%22opacity%3A%201%3B%20stroke-width%3A%200px%3B%20fill%3A%20rgb(237%2C%20201%2C%2073)%3B%20fill-opacity%3A%201%3B%22%20d%3D%22M3%2C0A3%2C3%200%201%2C1%200%2C-3A3%2C3%200%200%2C1%203%2C0Z%22%2F%3E%3Cpath%20class%3D%22point%22%20transform%3D%22translate(787.71%2C95.59)%22%20style%3D%22opacity%3A%201%3B%20stroke-width%3A%200px%3B%20fill%3A%20rgb(237%2C%20201%2C%2073)%3B%20fill-opacity%3A%201%3B%22%20d%3D%22M3%2C0A3%2C3%200%201%2C1%200%2C-3A3%2C3%200%200%2C1%203%2C0Z%22%2F%3E%3Cpath%20class%3D%22point%22%20transform%3D%22translate(802.96%2C94.87)%22%20style%3D%22opacity%3A%201%3B%20stroke-width%3A%200px%3B%20fill%3A%20rgb(237%2C%20201%2C%2073)%3B%20fill-opacity%3A%201%3B%22%20d%3D%22M3%2C0A3%2C3%200%201%2C1%200%2C-3A3%2C3%200%200%2C1%203%2C0Z%22%2F%3E%3Cpath%20class%3D%22point%22%20transform%3D%22translate(816.72%2C96.18)%22%20style%3D%22opacity%3A%201%3B%20stroke-width%3A%200px%3B%20fill%3A%20rgb(237%2C%20201%2C%2073)%3B%20fill-opacity%3A%201%3B%22%20d%3D%22M3%2C0A3%2C3%200%201%2C1%200%2C-3A3%2C3%200%200%2C1%203%2C0Z%22%2F%3E%3Cpath%20class%3D%22point%22%20transform%3D%22translate(831.97%2C97.03)%22%20style%3D%22opacity%3A%201%3B%20stroke-width%3A%200px%3B%20fill%3A%20rgb(237%2C%20201%2C%2073)%3B%20fill-opacity%3A%201%3B%22%20d%3D%22M3%2C0A3%2C3%200%201%2C1%200%2C-3A3%2C3%200%200%2C1%203%2C0Z%22%2F%3E%3Cpath%20class%3D%22point%22%20transform%3D%22translate(846.72%2C92.63)%22%20style%3D%22opacity%3A%201%3B%20stroke-width%3A%200px%3B%20fill%3A%20rgb(237%2C%20201%2C%2073)%3B%20fill-opacity%3A%201%3B%22%20d%3D%22M3%2C0A3%2C3%200%201%2C1%200%2C-3A3%2C3%200%200%2C1%203%2C0Z%22%2F%3E%3Cpath%20class%3D%22point%22%20transform%3D%22translate(861.96%2C96.49)%22%20style%3D%22opacity%3A%201%3B%20stroke-width%3A%200px%3B%20fill%3A%20rgb(237%2C%20201%2C%2073)%3B%20fill-opacity%3A%201%3B%22%20d%3D%22M3%2C0A3%2C3%200%201%2C1%200%2C-3A3%2C3%200%200%2C1%203%2C0Z%22%2F%3E%3Cpath%20class%3D%22point%22%20transform%3D%22translate(876.72%2C96.38)%22%20style%3D%22opacity%3A%201%3B%20stroke-width%3A%200px%3B%20fill%3A%20rgb(237%2C%20201%2C%2073)%3B%20fill-opacity%3A%201%3B%22%20d%3D%22M3%2C0A3%2C3%200%201%2C1%200%2C-3A3%2C3%200%200%2C1%203%2C0Z%22%2F%3E%3Cpath%20class%3D%22point%22%20transform%3D%22translate(891.96%2C92.78)%22%20style%3D%22opacity%3A%201%3B%20stroke-width%3A%200px%3B%20fill%3A%20rgb(237%2C%20201%2C%2073)%3B%20fill-opacity%3A%201%3B%22%20d%3D%22M3%2C0A3%2C3%200%201%2C1%200%2C-3A3%2C3%200%200%2C1%203%2C0Z%22%2F%3E%3Cpath%20class%3D%22point%22%20transform%3D%22translate(907.2%2C88.93)%22%20style%3D%22opacity%3A%201%3B%20stroke-width%3A%200px%3B%20fill%3A%20rgb(237%2C%20201%2C%2073)%3B%20fill-opacity%3A%201%3B%22%20d%3D%22M3%2C0A3%2C3%200%201%2C1%200%2C-3A3%2C3%200%200%2C1%203%2C0Z%22%2F%3E%3Cpath%20class%3D%22point%22%20transform%3D%22translate(921.95%2C94.96)%22%20style%3D%22opacity%3A%201%3B%20stroke-width%3A%200px%3B%20fill%3A%20rgb(237%2C%20201%2C%2073)%3B%20fill-opacity%3A%201%3B%22%20d%3D%22M3%2C0A3%2C3%200%201%2C1%200%2C-3A3%2C3%200%200%2C1%203%2C0Z%22%2F%3E%3Cpath%20class%3D%22point%22%20transform%3D%22translate(937.2%2C96.99)%22%20style%3D%22opacity%3A%201%3B%20stroke-width%3A%200px%3B%20fill%3A%20rgb(237%2C%20201%2C%2073)%3B%20fill-opacity%3A%201%3B%22%20d%3D%22M3%2C0A3%2C3%200%201%2C1%200%2C-3A3%2C3%200%200%2C1%203%2C0Z%22%2F%3E%3Cpath%20class%3D%22point%22%20transform%3D%22translate(951.95%2C100.44)%22%20style%3D%22opacity%3A%201%3B%20stroke-width%3A%200px%3B%20fill%3A%20rgb(237%2C%20201%2C%2073)%3B%20fill-opacity%3A%201%3B%22%20d%3D%22M3%2C0A3%2C3%200%201%2C1%200%2C-3A3%2C3%200%200%2C1%203%2C0Z%22%2F%3E%3C%2Fg%3E%3Cg%20class%3D%22text%22%2F%3E%3C%2Fg%3E%3Cg%20class%3D%22trace%20scatter%20traceb9c3b80%22%20style%3D%22stroke-miterlimit%3A%202%3B%20opacity%3A%201%3B%22%3E%3Cg%20class%3D%22fills%22%2F%3E%3Cg%20class%3D%22errorbars%22%2F%3E%3Cg%20class%3D%22lines%22%3E%3Cpath%20class%3D%22js-line%22%20style%3D%22vector-effect%3A%20non-scaling-stroke%3B%20fill%3A%20none%3B%20stroke%3A%20rgb(175%2C%20122%2C%20161)%3B%20stroke-opacity%3A%201%3B%20stroke-width%3A%202px%3B%20opacity%3A%201%3B%22%20d%3D%22M54.05%2C103.74L69.29%2C125.1L84.54%2C106.43L98.31%2C88.04L113.55%2C86.34L128.3%2C62.23L143.54%2C70.38L158.3%2C130.17L173.54%2C118.22L188.78%2C40.27L203.54%2C41L218.78%2C50.24L233.53%2C56.29L264.02%2C70.59L278.28%2C37.74L293.52%2C47.26L308.27%2C15.65L323.52%2C17.58L338.27%2C37.63L353.51%2C26.53L368.76%2C42.11L383.51%2C35.77L398.75%2C25.72L413.51%2C66.99L428.75%2C93.05L443.99%2C61.66L457.76%2C110.78L473%2C66.48L487.76%2C72.02L503%2C54.2L517.75%2C65.08L533%2C75.36L548.24%2C61.77L562.99%2C75.94L578.23%2C83.92L592.99%2C83.61L608.23%2C92.03L623.47%2C101.2L637.24%2C93.68L652.49%2C99.93L667.24%2C104.07L682.48%2C99.98L697.23%2C92.42L712.48%2C113.96L727.72%2C91.78L742.47%2C93.79L757.72%2C91.19L772.47%2C86.46L787.71%2C89.6L802.96%2C85.98L816.72%2C72.97L831.97%2C83.74L846.72%2C87.04L861.96%2C86.15L876.72%2C93.81L891.96%2C98.17L907.2%2C87.29L921.95%2C92.02L937.2%2C108.54L951.95%2C117.89%22%2F%3E%3C%2Fg%3E%3Cg%20class%3D%22points%22%3E%3Cpath%20class%3D%22point%22%20transform%3D%22translate(54.05%2C103.74)%22%20style%3D%22opacity%3A%201%3B%20stroke-width%3A%200px%3B%20fill%3A%20rgb(175%2C%20122%2C%20161)%3B%20fill-opacity%3A%201%3B%22%20d%3D%22M3%2C0A3%2C3%200%201%2C1%200%2C-3A3%2C3%200%200%2C1%203%2C0Z%22%2F%3E%3Cpath%20class%3D%22point%22%20transform%3D%22translate(69.29%2C125.1)%22%20style%3D%22opacity%3A%201%3B%20stroke-width%3A%200px%3B%20fill%3A%20rgb(175%2C%20122%2C%20161)%3B%20fill-opacity%3A%201%3B%22%20d%3D%22M3%2C0A3%2C3%200%201%2C1%200%2C-3A3%2C3%200%200%2C1%203%2C0Z%22%2F%3E%3Cpath%20class%3D%22point%22%20transform%3D%22translate(84.54%2C106.43)%22%20style%3D%22opacity%3A%201%3B%20stroke-width%3A%200px%3B%20fill%3A%20rgb(175%2C%20122%2C%20161)%3B%20fill-opacity%3A%201%3B%22%20d%3D%22M3%2C0A3%2C3%200%201%2C1%200%2C-3A3%2C3%200%200%2C1%203%2C0Z%22%2F%3E%3Cpath%20class%3D%22point%22%20transform%3D%22translate(98.31%2C88.04)%22%20style%3D%22opacity%3A%201%3B%20stroke-width%3A%200px%3B%20fill%3A%20rgb(175%2C%20122%2C%20161)%3B%20fill-opacity%3A%201%3B%22%20d%3D%22M3%2C0A3%2C3%200%201%2C1%200%2C-3A3%2C3%200%200%2C1%203%2C0Z%22%2F%3E%3Cpath%20class%3D%22point%22%20transform%3D%22translate(113.55%2C86.34)%22%20style%3D%22opacity%3A%201%3B%20stroke-width%3A%200px%3B%20fill%3A%20rgb(175%2C%20122%2C%20161)%3B%20fill-opacity%3A%201%3B%22%20d%3D%22M3%2C0A3%2C3%200%201%2C1%200%2C-3A3%2C3%200%200%2C1%203%2C0Z%22%2F%3E%3Cpath%20class%3D%22point%22%20transform%3D%22translate(128.3%2C62.23)%22%20style%3D%22opacity%3A%201%3B%20stroke-width%3A%200px%3B%20fill%3A%20rgb(175%2C%20122%2C%20161)%3B%20fill-opacity%3A%201%3B%22%20d%3D%22M3%2C0A3%2C3%200%201%2C1%200%2C-3A3%2C3%200%200%2C1%203%2C0Z%22%2F%3E%3Cpath%20class%3D%22point%22%20transform%3D%22translate(143.54%2C70.38)%22%20style%3D%22opacity%3A%201%3B%20stroke-width%3A%200px%3B%20fill%3A%20rgb(175%2C%20122%2C%20161)%3B%20fill-opacity%3A%201%3B%22%20d%3D%22M3%2C0A3%2C3%200%201%2C1%200%2C-3A3%2C3%200%200%2C1%203%2C0Z%22%2F%3E%3Cpath%20class%3D%22point%22%20transform%3D%22translate(158.3%2C130.17)%22%20style%3D%22opacity%3A%201%3B%20stroke-width%3A%200px%3B%20fill%3A%20rgb(175%2C%20122%2C%20161)%3B%20fill-opacity%3A%201%3B%22%20d%3D%22M3%2C0A3%2C3%200%201%2C1%200%2C-3A3%2C3%200%200%2C1%203%2C0Z%22%2F%3E%3Cpath%20class%3D%22point%22%20transform%3D%22translate(173.54%2C118.22)%22%20style%3D%22opacity%3A%201%3B%20stroke-width%3A%200px%3B%20fill%3A%20rgb(175%2C%20122%2C%20161)%3B%20fill-opacity%3A%201%3B%22%20d%3D%22M3%2C0A3%2C3%200%201%2C1%200%2C-3A3%2C3%200%200%2C1%203%2C0Z%22%2F%3E%3Cpath%20class%3D%22point%22%20transform%3D%22translate(188.78%2C40.27)%22%20style%3D%22opacity%3A%201%3B%20stroke-width%3A%200px%3B%20fill%3A%20rgb(175%2C%20122%2C%20161)%3B%20fill-opacity%3A%201%3B%22%20d%3D%22M3%2C0A3%2C3%200%201%2C1%200%2C-3A3%2C3%200%200%2C1%203%2C0Z%22%2F%3E%3Cpath%20class%3D%22point%22%20transform%3D%22translate(203.54%2C41)%22%20style%3D%22opacity%3A%201%3B%20stroke-width%3A%200px%3B%20fill%3A%20rgb(175%2C%20122%2C%20161)%3B%20fill-opacity%3A%201%3B%22%20d%3D%22M3%2C0A3%2C3%200%201%2C1%200%2C-3A3%2C3%200%200%2C1%203%2C0Z%22%2F%3E%3Cpath%20class%3D%22point%22%20transform%3D%22translate(218.78%2C50.24)%22%20style%3D%22opacity%3A%201%3B%20stroke-width%3A%200px%3B%20fill%3A%20rgb(175%2C%20122%2C%20161)%3B%20fill-opacity%3A%201%3B%22%20d%3D%22M3%2C0A3%2C3%200%201%2C1%200%2C-3A3%2C3%200%200%2C1%203%2C0Z%22%2F%3E%3Cpath%20class%3D%22point%22%20transform%3D%22translate(233.53%2C56.29)%22%20style%3D%22opacity%3A%201%3B%20stroke-width%3A%200px%3B%20fill%3A%20rgb(175%2C%20122%2C%20161)%3B%20fill-opacity%3A%201%3B%22%20d%3D%22M3%2C0A3%2C3%200%201%2C1%200%2C-3A3%2C3%200%200%2C1%203%2C0Z%22%2F%3E%3Cpath%20class%3D%22point%22%20transform%3D%22translate(248.78%2C63.07)%22%20style%3D%22opacity%3A%201%3B%20stroke-width%3A%200px%3B%20fill%3A%20rgb(175%2C%20122%2C%20161)%3B%20fill-opacity%3A%201%3B%22%20d%3D%22M3%2C0A3%2C3%200%201%2C1%200%2C-3A3%2C3%200%200%2C1%203%2C0Z%22%2F%3E%3Cpath%20class%3D%22point%22%20transform%3D%22translate(264.02%2C70.59)%22%20style%3D%22opacity%3A%201%3B%20stroke-width%3A%200px%3B%20fill%3A%20rgb(175%2C%20122%2C%20161)%3B%20fill-opacity%3A%201%3B%22%20d%3D%22M3%2C0A3%2C3%200%201%2C1%200%2C-3A3%2C3%200%200%2C1%203%2C0Z%22%2F%3E%3Cpath%20class%3D%22point%22%20transform%3D%22translate(278.28%2C37.74)%22%20style%3D%22opacity%3A%201%3B%20stroke-width%3A%200px%3B%20fill%3A%20rgb(175%2C%20122%2C%20161)%3B%20fill-opacity%3A%201%3B%22%20d%3D%22M3%2C0A3%2C3%200%201%2C1%200%2C-3A3%2C3%200%200%2C1%203%2C0Z%22%2F%3E%3Cpath%20class%3D%22point%22%20transform%3D%22translate(293.52%2C47.26)%22%20style%3D%22opacity%3A%201%3B%20stroke-width%3A%200px%3B%20fill%3A%20rgb(175%2C%20122%2C%20161)%3B%20fill-opacity%3A%201%3B%22%20d%3D%22M3%2C0A3%2C3%200%201%2C1%200%2C-3A3%2C3%200%200%2C1%203%2C0Z%22%2F%3E%3Cpath%20class%3D%22point%22%20transform%3D%22translate(308.27%2C15.65)%22%20style%3D%22opacity%3A%201%3B%20stroke-width%3A%200px%3B%20fill%3A%20rgb(175%2C%20122%2C%20161)%3B%20fill-opacity%3A%201%3B%22%20d%3D%22M3%2C0A3%2C3%200%201%2C1%200%2C-3A3%2C3%200%200%2C1%203%2C0Z%22%2F%3E%3Cpath%20class%3D%22point%22%20transform%3D%22translate(323.52%2C17.58)%22%20style%3D%22opacity%3A%201%3B%20stroke-width%3A%200px%3B%20fill%3A%20rgb(175%2C%20122%2C%20161)%3B%20fill-opacity%3A%201%3B%22%20d%3D%22M3%2C0A3%2C3%200%201%2C1%200%2C-3A3%2C3%200%200%2C1%203%2C0Z%22%2F%3E%3Cpath%20class%3D%22point%22%20transform%3D%22translate(338.27%2C37.63)%22%20style%3D%22opacity%3A%201%3B%20stroke-width%3A%200px%3B%20fill%3A%20rgb(175%2C%20122%2C%20161)%3B%20fill-opacity%3A%201%3B%22%20d%3D%22M3%2C0A3%2C3%200%201%2C1%200%2C-3A3%2C3%200%200%2C1%203%2C0Z%22%2F%3E%3Cpath%20class%3D%22point%22%20transform%3D%22translate(353.51%2C26.53)%22%20style%3D%22opacity%3A%201%3B%20stroke-width%3A%200px%3B%20fill%3A%20rgb(175%2C%20122%2C%20161)%3B%20fill-opacity%3A%201%3B%22%20d%3D%22M3%2C0A3%2C3%200%201%2C1%200%2C-3A3%2C3%200%200%2C1%203%2C0Z%22%2F%3E%3Cpath%20class%3D%22point%22%20transform%3D%22translate(368.76%2C42.11)%22%20style%3D%22opacity%3A%201%3B%20stroke-width%3A%200px%3B%20fill%3A%20rgb(175%2C%20122%2C%20161)%3B%20fill-opacity%3A%201%3B%22%20d%3D%22M3%2C0A3%2C3%200%201%2C1%200%2C-3A3%2C3%200%200%2C1%203%2C0Z%22%2F%3E%3Cpath%20class%3D%22point%22%20transform%3D%22translate(383.51%2C35.77)%22%20style%3D%22opacity%3A%201%3B%20stroke-width%3A%200px%3B%20fill%3A%20rgb(175%2C%20122%2C%20161)%3B%20fill-opacity%3A%201%3B%22%20d%3D%22M3%2C0A3%2C3%200%201%2C1%200%2C-3A3%2C3%200%200%2C1%203%2C0Z%22%2F%3E%3Cpath%20class%3D%22point%22%20transform%3D%22translate(398.75%2C25.72)%22%20style%3D%22opacity%3A%201%3B%20stroke-width%3A%200px%3B%20fill%3A%20rgb(175%2C%20122%2C%20161)%3B%20fill-opacity%3A%201%3B%22%20d%3D%22M3%2C0A3%2C3%200%201%2C1%200%2C-3A3%2C3%200%200%2C1%203%2C0Z%22%2F%3E%3Cpath%20class%3D%22point%22%20transform%3D%22translate(413.51%2C66.99)%22%20style%3D%22opacity%3A%201%3B%20stroke-width%3A%200px%3B%20fill%3A%20rgb(175%2C%20122%2C%20161)%3B%20fill-opacity%3A%201%3B%22%20d%3D%22M3%2C0A3%2C3%200%201%2C1%200%2C-3A3%2C3%200%200%2C1%203%2C0Z%22%2F%3E%3Cpath%20class%3D%22point%22%20transform%3D%22translate(428.75%2C93.05)%22%20style%3D%22opacity%3A%201%3B%20stroke-width%3A%200px%3B%20fill%3A%20rgb(175%2C%20122%2C%20161)%3B%20fill-opacity%3A%201%3B%22%20d%3D%22M3%2C0A3%2C3%200%201%2C1%200%2C-3A3%2C3%200%200%2C1%203%2C0Z%22%2F%3E%3Cpath%20class%3D%22point%22%20transform%3D%22translate(443.99%2C61.66)%22%20style%3D%22opacity%3A%201%3B%20stroke-width%3A%200px%3B%20fill%3A%20rgb(175%2C%20122%2C%20161)%3B%20fill-opacity%3A%201%3B%22%20d%3D%22M3%2C0A3%2C3%200%201%2C1%200%2C-3A3%2C3%200%200%2C1%203%2C0Z%22%2F%3E%3Cpath%20class%3D%22point%22%20transform%3D%22translate(457.76%2C110.78)%22%20style%3D%22opacity%3A%201%3B%20stroke-width%3A%200px%3B%20fill%3A%20rgb(175%2C%20122%2C%20161)%3B%20fill-opacity%3A%201%3B%22%20d%3D%22M3%2C0A3%2C3%200%201%2C1%200%2C-3A3%2C3%200%200%2C1%203%2C0Z%22%2F%3E%3Cpath%20class%3D%22point%22%20transform%3D%22translate(473%2C66.48)%22%20style%3D%22opacity%3A%201%3B%20stroke-width%3A%200px%3B%20fill%3A%20rgb(175%2C%20122%2C%20161)%3B%20fill-opacity%3A%201%3B%22%20d%3D%22M3%2C0A3%2C3%200%201%2C1%200%2C-3A3%2C3%200%200%2C1%203%2C0Z%22%2F%3E%3Cpath%20class%3D%22point%22%20transform%3D%22translate(487.76%2C72.02)%22%20style%3D%22opacity%3A%201%3B%20stroke-width%3A%200px%3B%20fill%3A%20rgb(175%2C%20122%2C%20161)%3B%20fill-opacity%3A%201%3B%22%20d%3D%22M3%2C0A3%2C3%200%201%2C1%200%2C-3A3%2C3%200%200%2C1%203%2C0Z%22%2F%3E%3Cpath%20class%3D%22point%22%20transform%3D%22translate(503%2C54.2)%22%20style%3D%22opacity%3A%201%3B%20stroke-width%3A%200px%3B%20fill%3A%20rgb(175%2C%20122%2C%20161)%3B%20fill-opacity%3A%201%3B%22%20d%3D%22M3%2C0A3%2C3%200%201%2C1%200%2C-3A3%2C3%200%200%2C1%203%2C0Z%22%2F%3E%3Cpath%20class%3D%22point%22%20transform%3D%22translate(517.75%2C65.08)%22%20style%3D%22opacity%3A%201%3B%20stroke-width%3A%200px%3B%20fill%3A%20rgb(175%2C%20122%2C%20161)%3B%20fill-opacity%3A%201%3B%22%20d%3D%22M3%2C0A3%2C3%200%201%2C1%200%2C-3A3%2C3%200%200%2C1%203%2C0Z%22%2F%3E%3Cpath%20class%3D%22point%22%20transform%3D%22translate(533%2C75.36)%22%20style%3D%22opacity%3A%201%3B%20stroke-width%3A%200px%3B%20fill%3A%20rgb(175%2C%20122%2C%20161)%3B%20fill-opacity%3A%201%3B%22%20d%3D%22M3%2C0A3%2C3%200%201%2C1%200%2C-3A3%2C3%200%200%2C1%203%2C0Z%22%2F%3E%3Cpath%20class%3D%22point%22%20transform%3D%22translate(548.24%2C61.77)%22%20style%3D%22opacity%3A%201%3B%20stroke-width%3A%200px%3B%20fill%3A%20rgb(175%2C%20122%2C%20161)%3B%20fill-opacity%3A%201%3B%22%20d%3D%22M3%2C0A3%2C3%200%201%2C1%200%2C-3A3%2C3%200%200%2C1%203%2C0Z%22%2F%3E%3Cpath%20class%3D%22point%22%20transform%3D%22translate(562.99%2C75.94)%22%20style%3D%22opacity%3A%201%3B%20stroke-width%3A%200px%3B%20fill%3A%20rgb(175%2C%20122%2C%20161)%3B%20fill-opacity%3A%201%3B%22%20d%3D%22M3%2C0A3%2C3%200%201%2C1%200%2C-3A3%2C3%200%200%2C1%203%2C0Z%22%2F%3E%3Cpath%20class%3D%22point%22%20transform%3D%22translate(578.23%2C83.92)%22%20style%3D%22opacity%3A%201%3B%20stroke-width%3A%200px%3B%20fill%3A%20rgb(175%2C%20122%2C%20161)%3B%20fill-opacity%3A%201%3B%22%20d%3D%22M3%2C0A3%2C3%200%201%2C1%200%2C-3A3%2C3%200%200%2C1%203%2C0Z%22%2F%3E%3Cpath%20class%3D%22point%22%20transform%3D%22translate(592.99%2C83.61)%22%20style%3D%22opacity%3A%201%3B%20stroke-width%3A%200px%3B%20fill%3A%20rgb(175%2C%20122%2C%20161)%3B%20fill-opacity%3A%201%3B%22%20d%3D%22M3%2C0A3%2C3%200%201%2C1%200%2C-3A3%2C3%200%200%2C1%203%2C0Z%22%2F%3E%3Cpath%20class%3D%22point%22%20transform%3D%22translate(608.23%2C92.03)%22%20style%3D%22opacity%3A%201%3B%20stroke-width%3A%200px%3B%20fill%3A%20rgb(175%2C%20122%2C%20161)%3B%20fill-opacity%3A%201%3B%22%20d%3D%22M3%2C0A3%2C3%200%201%2C1%200%2C-3A3%2C3%200%200%2C1%203%2C0Z%22%2F%3E%3Cpath%20class%3D%22point%22%20transform%3D%22translate(623.47%2C101.2)%22%20style%3D%22opacity%3A%201%3B%20stroke-width%3A%200px%3B%20fill%3A%20rgb(175%2C%20122%2C%20161)%3B%20fill-opacity%3A%201%3B%22%20d%3D%22M3%2C0A3%2C3%200%201%2C1%200%2C-3A3%2C3%200%200%2C1%203%2C0Z%22%2F%3E%3Cpath%20class%3D%22point%22%20transform%3D%22translate(637.24%2C93.68)%22%20style%3D%22opacity%3A%201%3B%20stroke-width%3A%200px%3B%20fill%3A%20rgb(175%2C%20122%2C%20161)%3B%20fill-opacity%3A%201%3B%22%20d%3D%22M3%2C0A3%2C3%200%201%2C1%200%2C-3A3%2C3%200%200%2C1%203%2C0Z%22%2F%3E%3Cpath%20class%3D%22point%22%20transform%3D%22translate(652.49%2C99.93)%22%20style%3D%22opacity%3A%201%3B%20stroke-width%3A%200px%3B%20fill%3A%20rgb(175%2C%20122%2C%20161)%3B%20fill-opacity%3A%201%3B%22%20d%3D%22M3%2C0A3%2C3%200%201%2C1%200%2C-3A3%2C3%200%200%2C1%203%2C0Z%22%2F%3E%3Cpath%20class%3D%22point%22%20transform%3D%22translate(667.24%2C104.07)%22%20style%3D%22opacity%3A%201%3B%20stroke-width%3A%200px%3B%20fill%3A%20rgb(175%2C%20122%2C%20161)%3B%20fill-opacity%3A%201%3B%22%20d%3D%22M3%2C0A3%2C3%200%201%2C1%200%2C-3A3%2C3%200%200%2C1%203%2C0Z%22%2F%3E%3Cpath%20class%3D%22point%22%20transform%3D%22translate(682.48%2C99.98)%22%20style%3D%22opacity%3A%201%3B%20stroke-width%3A%200px%3B%20fill%3A%20rgb(175%2C%20122%2C%20161)%3B%20fill-opacity%3A%201%3B%22%20d%3D%22M3%2C0A3%2C3%200%201%2C1%200%2C-3A3%2C3%200%200%2C1%203%2C0Z%22%2F%3E%3Cpath%20class%3D%22point%22%20transform%3D%22translate(697.23%2C92.42)%22%20style%3D%22opacity%3A%201%3B%20stroke-width%3A%200px%3B%20fill%3A%20rgb(175%2C%20122%2C%20161)%3B%20fill-opacity%3A%201%3B%22%20d%3D%22M3%2C0A3%2C3%200%201%2C1%200%2C-3A3%2C3%200%200%2C1%203%2C0Z%22%2F%3E%3Cpath%20class%3D%22point%22%20transform%3D%22translate(712.48%2C113.96)%22%20style%3D%22opacity%3A%201%3B%20stroke-width%3A%200px%3B%20fill%3A%20rgb(175%2C%20122%2C%20161)%3B%20fill-opacity%3A%201%3B%22%20d%3D%22M3%2C0A3%2C3%200%201%2C1%200%2C-3A3%2C3%200%200%2C1%203%2C0Z%22%2F%3E%3Cpath%20class%3D%22point%22%20transform%3D%22translate(727.72%2C91.78)%22%20style%3D%22opacity%3A%201%3B%20stroke-width%3A%200px%3B%20fill%3A%20rgb(175%2C%20122%2C%20161)%3B%20fill-opacity%3A%201%3B%22%20d%3D%22M3%2C0A3%2C3%200%201%2C1%200%2C-3A3%2C3%200%200%2C1%203%2C0Z%22%2F%3E%3Cpath%20class%3D%22point%22%20transform%3D%22translate(742.47%2C93.79)%22%20style%3D%22opacity%3A%201%3B%20stroke-width%3A%200px%3B%20fill%3A%20rgb(175%2C%20122%2C%20161)%3B%20fill-opacity%3A%201%3B%22%20d%3D%22M3%2C0A3%2C3%200%201%2C1%200%2C-3A3%2C3%200%200%2C1%203%2C0Z%22%2F%3E%3Cpath%20class%3D%22point%22%20transform%3D%22translate(757.72%2C91.19)%22%20style%3D%22opacity%3A%201%3B%20stroke-width%3A%200px%3B%20fill%3A%20rgb(175%2C%20122%2C%20161)%3B%20fill-opacity%3A%201%3B%22%20d%3D%22M3%2C0A3%2C3%200%201%2C1%200%2C-3A3%2C3%200%200%2C1%203%2C0Z%22%2F%3E%3Cpath%20class%3D%22point%22%20transform%3D%22translate(772.47%2C86.46)%22%20style%3D%22opacity%3A%201%3B%20stroke-width%3A%200px%3B%20fill%3A%20rgb(175%2C%20122%2C%20161)%3B%20fill-opacity%3A%201%3B%22%20d%3D%22M3%2C0A3%2C3%200%201%2C1%200%2C-3A3%2C3%200%200%2C1%203%2C0Z%22%2F%3E%3Cpath%20class%3D%22point%22%20transform%3D%22translate(787.71%2C89.6)%22%20style%3D%22opacity%3A%201%3B%20stroke-width%3A%200px%3B%20fill%3A%20rgb(175%2C%20122%2C%20161)%3B%20fill-opacity%3A%201%3B%22%20d%3D%22M3%2C0A3%2C3%200%201%2C1%200%2C-3A3%2C3%200%200%2C1%203%2C0Z%22%2F%3E%3Cpath%20class%3D%22point%22%20transform%3D%22translate(802.96%2C85.98)%22%20style%3D%22opacity%3A%201%3B%20stroke-width%3A%200px%3B%20fill%3A%20rgb(175%2C%20122%2C%20161)%3B%20fill-opacity%3A%201%3B%22%20d%3D%22M3%2C0A3%2C3%200%201%2C1%200%2C-3A3%2C3%200%200%2C1%203%2C0Z%22%2F%3E%3Cpath%20class%3D%22point%22%20transform%3D%22translate(816.72%2C72.97)%22%20style%3D%22opacity%3A%201%3B%20stroke-width%3A%200px%3B%20fill%3A%20rgb(175%2C%20122%2C%20161)%3B%20fill-opacity%3A%201%3B%22%20d%3D%22M3%2C0A3%2C3%200%201%2C1%200%2C-3A3%2C3%200%200%2C1%203%2C0Z%22%2F%3E%3Cpath%20class%3D%22point%22%20transform%3D%22translate(831.97%2C83.74)%22%20style%3D%22opacity%3A%201%3B%20stroke-width%3A%200px%3B%20fill%3A%20rgb(175%2C%20122%2C%20161)%3B%20fill-opacity%3A%201%3B%22%20d%3D%22M3%2C0A3%2C3%200%201%2C1%200%2C-3A3%2C3%200%200%2C1%203%2C0Z%22%2F%3E%3Cpath%20class%3D%22point%22%20transform%3D%22translate(846.72%2C87.04)%22%20style%3D%22opacity%3A%201%3B%20stroke-width%3A%200px%3B%20fill%3A%20rgb(175%2C%20122%2C%20161)%3B%20fill-opacity%3A%201%3B%22%20d%3D%22M3%2C0A3%2C3%200%201%2C1%200%2C-3A3%2C3%200%200%2C1%203%2C0Z%22%2F%3E%3Cpath%20class%3D%22point%22%20transform%3D%22translate(861.96%2C86.15)%22%20style%3D%22opacity%3A%201%3B%20stroke-width%3A%200px%3B%20fill%3A%20rgb(175%2C%20122%2C%20161)%3B%20fill-opacity%3A%201%3B%22%20d%3D%22M3%2C0A3%2C3%200%201%2C1%200%2C-3A3%2C3%200%200%2C1%203%2C0Z%22%2F%3E%3Cpath%20class%3D%22point%22%20transform%3D%22translate(876.72%2C93.81)%22%20style%3D%22opacity%3A%201%3B%20stroke-width%3A%200px%3B%20fill%3A%20rgb(175%2C%20122%2C%20161)%3B%20fill-opacity%3A%201%3B%22%20d%3D%22M3%2C0A3%2C3%200%201%2C1%200%2C-3A3%2C3%200%200%2C1%203%2C0Z%22%2F%3E%3Cpath%20class%3D%22point%22%20transform%3D%22translate(891.96%2C98.17)%22%20style%3D%22opacity%3A%201%3B%20stroke-width%3A%200px%3B%20fill%3A%20rgb(175%2C%20122%2C%20161)%3B%20fill-opacity%3A%201%3B%22%20d%3D%22M3%2C0A3%2C3%200%201%2C1%200%2C-3A3%2C3%200%200%2C1%203%2C0Z%22%2F%3E%3Cpath%20class%3D%22point%22%20transform%3D%22translate(907.2%2C87.29)%22%20style%3D%22opacity%3A%201%3B%20stroke-width%3A%200px%3B%20fill%3A%20rgb(175%2C%20122%2C%20161)%3B%20fill-opacity%3A%201%3B%22%20d%3D%22M3%2C0A3%2C3%200%201%2C1%200%2C-3A3%2C3%200%200%2C1%203%2C0Z%22%2F%3E%3Cpath%20class%3D%22point%22%20transform%3D%22translate(921.95%2C92.02)%22%20style%3D%22opacity%3A%201%3B%20stroke-width%3A%200px%3B%20fill%3A%20rgb(175%2C%20122%2C%20161)%3B%20fill-opacity%3A%201%3B%22%20d%3D%22M3%2C0A3%2C3%200%201%2C1%200%2C-3A3%2C3%200%200%2C1%203%2C0Z%22%2F%3E%3Cpath%20class%3D%22point%22%20transform%3D%22translate(937.2%2C108.54)%22%20style%3D%22opacity%3A%201%3B%20stroke-width%3A%200px%3B%20fill%3A%20rgb(175%2C%20122%2C%20161)%3B%20fill-opacity%3A%201%3B%22%20d%3D%22M3%2C0A3%2C3%200%201%2C1%200%2C-3A3%2C3%200%200%2C1%203%2C0Z%22%2F%3E%3Cpath%20class%3D%22point%22%20transform%3D%22translate(951.95%2C117.89)%22%20style%3D%22opacity%3A%201%3B%20stroke-width%3A%200px%3B%20fill%3A%20rgb(175%2C%20122%2C%20161)%3B%20fill-opacity%3A%201%3B%22%20d%3D%22M3%2C0A3%2C3%200%201%2C1%200%2C-3A3%2C3%200%200%2C1%203%2C0Z%22%2F%3E%3C%2Fg%3E%3Cg%20class%3D%22text%22%2F%3E%3C%2Fg%3E%3C%2Fg%3E%3C%2Fg%3E%3Cg%20class%3D%22overplot%22%2F%3E%3Cpath%20class%3D%22xlines-above%20crisp%22%20style%3D%22fill%3A%20none%3B%20stroke-width%3A%201px%3B%20stroke%3A%20rgb(89%2C%2089%2C%2089)%3B%20stroke-opacity%3A%200.25%3B%22%20d%3D%22M79%2C268.5H1086%22%2F%3E%3Cpath%20class%3D%22ylines-above%20crisp%22%20style%3D%22fill%3A%20none%3B%20stroke-width%3A%201px%3B%20stroke%3A%20rgb(89%2C%2089%2C%2089)%3B%20stroke-opacity%3A%200.25%3B%22%20d%3D%22M79.5%2C30V268%22%2F%3E%3Cg%20class%3D%22overlines-above%22%2F%3E%3Cg%20class%3D%22xaxislayer-above%22%3E%3Cg%20class%3D%22xtick%22%3E%3Ctext%20text-anchor%3D%22middle%22%20x%3D%220%22%20y%3D%22283.4%22%20style%3D%22font-family%3A%20%26quot%3BOpen%20Sans%26quot%3B%2C%20verdana%2C%20arial%2C%20sans-serif%3B%20font-size%3A%2012px%3B%20fill%3A%20rgb(89%2C%2089%2C%2089)%3B%20fill-opacity%3A%201%3B%20white-space%3A%20pre%3B%22%20data-unformatted%3D%222011%22%20data-math%3D%22N%22%20transform%3D%22translate(149.29000000000002%2C0)%22%3E2011%3C%2Ftext%3E%3C%2Fg%3E%3Cg%20class%3D%22xtick%22%3E%3Ctext%20text-anchor%3D%22middle%22%20x%3D%220%22%20y%3D%22283.4%22%20style%3D%22font-family%3A%20%26quot%3BOpen%20Sans%26quot%3B%2C%20verdana%2C%20arial%2C%20sans-serif%3B%20font-size%3A%2012px%3B%20fill%3A%20rgb(89%2C%2089%2C%2089)%3B%20fill-opacity%3A%201%3B%20white-space%3A%20pre%3B%22%20data-unformatted%3D%222012%22%20data-math%3D%22N%22%20transform%3D%22translate(328.78%2C0)%22%3E2012%3C%2Ftext%3E%3C%2Fg%3E%3Cg%20class%3D%22xtick%22%3E%3Ctext%20text-anchor%3D%22middle%22%20x%3D%220%22%20y%3D%22283.4%22%20style%3D%22font-family%3A%20%26quot%3BOpen%20Sans%26quot%3B%2C%20verdana%2C%20arial%2C%20sans-serif%3B%20font-size%3A%2012px%3B%20fill%3A%20rgb(89%2C%2089%2C%2089)%3B%20fill-opacity%3A%201%3B%20white-space%3A%20pre%3B%22%20data-unformatted%3D%222013%22%20data-math%3D%22N%22%20transform%3D%22translate(508.75%2C0)%22%3E2013%3C%2Ftext%3E%3C%2Fg%3E%3Cg%20class%3D%22xtick%22%3E%3Ctext%20text-anchor%3D%22middle%22%20x%3D%220%22%20y%3D%22283.4%22%20style%3D%22font-family%3A%20%26quot%3BOpen%20Sans%26quot%3B%2C%20verdana%2C%20arial%2C%20sans-serif%3B%20font-size%3A%2012px%3B%20fill%3A%20rgb(89%2C%2089%2C%2089)%3B%20fill-opacity%3A%201%3B%20white-space%3A%20pre%3B%22%20data-unformatted%3D%222014%22%20data-math%3D%22N%22%20transform%3D%22translate(688.23%2C0)%22%3E2014%3C%2Ftext%3E%3C%2Fg%3E%3Cg%20class%3D%22xtick%22%3E%3Ctext%20text-anchor%3D%22middle%22%20x%3D%220%22%20y%3D%22283.4%22%20style%3D%22font-family%3A%20%26quot%3BOpen%20Sans%26quot%3B%2C%20verdana%2C%20arial%2C%20sans-serif%3B%20font-size%3A%2012px%3B%20fill%3A%20rgb(89%2C%2089%2C%2089)%3B%20fill-opacity%3A%201%3B%20white-space%3A%20pre%3B%22%20data-unformatted%3D%222015%22%20data-math%3D%22N%22%20transform%3D%22translate(867.71%2C0)%22%3E2015%3C%2Ftext%3E%3C%2Fg%3E%3Cg%20class%3D%22xtick%22%3E%3Ctext%20text-anchor%3D%22middle%22%20x%3D%220%22%20y%3D%22283.4%22%20style%3D%22font-family%3A%20%26quot%3BOpen%20Sans%26quot%3B%2C%20verdana%2C%20arial%2C%20sans-serif%3B%20font-size%3A%2012px%3B%20fill%3A%20rgb(89%2C%2089%2C%2089)%3B%20fill-opacity%3A%201%3B%20white-space%3A%20pre%3B%22%20data-unformatted%3D%222016%22%20data-math%3D%22N%22%20transform%3D%22translate(1047.19%2C0)%22%3E2016%3C%2Ftext%3E%3C%2Fg%3E%3C%2Fg%3E%3Cg%20class%3D%22yaxislayer-above%22%3E%3Cg%20class%3D%22ytick%22%3E%3Ctext%20text-anchor%3D%22end%22%20x%3D%2276.6%22%20y%3D%224.199999999999999%22%20style%3D%22font-family%3A%20%26quot%3BOpen%20Sans%26quot%3B%2C%20verdana%2C%20arial%2C%20sans-serif%3B%20font-size%3A%2012px%3B%20fill%3A%20rgb(89%2C%2089%2C%2089)%3B%20fill-opacity%3A%201%3B%20white-space%3A%20pre%3B%22%20data-unformatted%3D%225k%22%20data-math%3D%22N%22%20transform%3D%22translate(0%2C260.21000000000004)%22%3E5k%3C%2Ftext%3E%3C%2Fg%3E%3Cg%20class%3D%22ytick%22%3E%3Ctext%20text-anchor%3D%22end%22%20x%3D%2276.6%22%20y%3D%224.199999999999999%22%20style%3D%22font-family%3A%20%26quot%3BOpen%20Sans%26quot%3B%2C%20verdana%2C%20arial%2C%20sans-serif%3B%20font-size%3A%2012px%3B%20fill%3A%20rgb(89%2C%2089%2C%2089)%3B%20fill-opacity%3A%201%3B%20white-space%3A%20pre%3B%22%20data-unformatted%3D%2210k%22%20data-math%3D%22N%22%20transform%3D%22translate(0%2C215.54)%22%3E10k%3C%2Ftext%3E%3C%2Fg%3E%3Cg%20class%3D%22ytick%22%3E%3Ctext%20text-anchor%3D%22end%22%20x%3D%2276.6%22%20y%3D%224.199999999999999%22%20style%3D%22font-family%3A%20%26quot%3BOpen%20Sans%26quot%3B%2C%20verdana%2C%20arial%2C%20sans-serif%3B%20font-size%3A%2012px%3B%20fill%3A%20rgb(89%2C%2089%2C%2089)%3B%20fill-opacity%3A%201%3B%20white-space%3A%20pre%3B%22%20data-unformatted%3D%2215k%22%20data-math%3D%22N%22%20transform%3D%22translate(0%2C170.86)%22%3E15k%3C%2Ftext%3E%3C%2Fg%3E%3Cg%20class%3D%22ytick%22%3E%3Ctext%20text-anchor%3D%22end%22%20x%3D%2276.6%22%20y%3D%224.199999999999999%22%20style%3D%22font-family%3A%20%26quot%3BOpen%20Sans%26quot%3B%2C%20verdana%2C%20arial%2C%20sans-serif%3B%20font-size%3A%2012px%3B%20fill%3A%20rgb(89%2C%2089%2C%2089)%3B%20fill-opacity%3A%201%3B%20white-space%3A%20pre%3B%22%20data-unformatted%3D%2220k%22%20data-math%3D%22N%22%20transform%3D%22translate(0%2C126.18)%22%3E20k%3C%2Ftext%3E%3C%2Fg%3E%3Cg%20class%3D%22ytick%22%3E%3Ctext%20text-anchor%3D%22end%22%20x%3D%2276.6%22%20y%3D%224.199999999999999%22%20style%3D%22font-family%3A%20%26quot%3BOpen%20Sans%26quot%3B%2C%20verdana%2C%20arial%2C%20sans-serif%3B%20font-size%3A%2012px%3B%20fill%3A%20rgb(89%2C%2089%2C%2089)%3B%20fill-opacity%3A%201%3B%20white-space%3A%20pre%3B%22%20data-unformatted%3D%2225k%22%20data-math%3D%22N%22%20transform%3D%22translate(0%2C81.5)%22%3E25k%3C%2Ftext%3E%3C%2Fg%3E%3Cg%20class%3D%22ytick%22%3E%3Ctext%20text-anchor%3D%22end%22%20x%3D%2276.6%22%20y%3D%224.199999999999999%22%20style%3D%22font-family%3A%20%26quot%3BOpen%20Sans%26quot%3B%2C%20verdana%2C%20arial%2C%20sans-serif%3B%20font-size%3A%2012px%3B%20fill%3A%20rgb(89%2C%2089%2C%2089)%3B%20fill-opacity%3A%201%3B%20white-space%3A%20pre%3B%22%20data-unformatted%3D%2230k%22%20data-math%3D%22N%22%20transform%3D%22translate(0%2C36.83)%22%3E30k%3C%2Ftext%3E%3C%2Fg%3E%3C%2Fg%3E%3Cg%20class%3D%22overaxes-above%22%2F%3E%3C%2Fg%3E%3C%2Fg%3E%3Cg%20class%3D%22polarlayer%22%2F%3E%3Cg%20class%3D%22ternarylayer%22%2F%3E%3Cg%20class%3D%22geolayer%22%2F%3E%3Cg%20class%3D%22funnelarealayer%22%2F%3E%3Cg%20class%3D%22pielayer%22%2F%3E%3Cg%20class%3D%22treemaplayer%22%2F%3E%3Cg%20class%3D%22sunburstlayer%22%2F%3E%3Cg%20class%3D%22glimages%22%2F%3E%3Cdefs%20id%3D%22topdefs-db7804%22%3E%3Cg%20class%3D%22clips%22%2F%3E%3CclipPath%20id%3D%22legenddb7804%22%3E%3Crect%20width%3D%2257%22%20height%3D%22203%22%20x%3D%220%22%20y%3D%220%22%2F%3E%3C%2FclipPath%3E%3C%2Fdefs%3E%3Cg%20class%3D%22indicatorlayer%22%2F%3E%3Cg%20class%3D%22layer-above%22%3E%3Cg%20class%3D%22imagelayer%22%2F%3E%3Cg%20class%3D%22shapelayer%22%2F%3E%3C%2Fg%3E%3Cg%20class%3D%22infolayer%22%3E%3Cg%20class%3D%22legend%22%20pointer-events%3D%22all%22%20transform%3D%22translate(1106%2C30)%22%3E%3Crect%20class%3D%22bg%22%20shape-rendering%3D%22crispEdges%22%20style%3D%22stroke%3A%20rgb(68%2C%2068%2C%2068)%3B%20stroke-opacity%3A%201%3B%20fill%3A%20rgb(255%2C%20255%2C%20255)%3B%20fill-opacity%3A%201%3B%20stroke-width%3A%200px%3B%22%20width%3D%2257%22%20height%3D%22203%22%20x%3D%220%22%20y%3D%220%22%2F%3E%3Cg%20class%3D%22scrollbox%22%20transform%3D%22%22%20clip-path%3D%22url('%23legenddb7804')%22%3E%3Cg%20class%3D%22groups%22%20transform%3D%22%22%3E%3Cg%20class%3D%22traces%22%20style%3D%22opacity%3A%201%3B%22%20transform%3D%22translate(0%2C14.5)%22%3E%3Ctext%20class%3D%22legendtext%22%20text-anchor%3D%22start%22%20style%3D%22font-family%3A%20%26quot%3BOpen%20Sans%26quot%3B%2C%20verdana%2C%20arial%2C%20sans-serif%3B%20font-size%3A%2012px%3B%20fill%3A%20rgb(89%2C%2089%2C%2089)%3B%20fill-opacity%3A%201%3B%20white-space%3A%20pre%3B%22%20x%3D%2240%22%20y%3D%224.680000000000001%22%20data-unformatted%3D%22A%22%20data-math%3D%22N%22%3EA%3C%2Ftext%3E%3Cg%20class%3D%22layers%22%20style%3D%22opacity%3A%201%3B%22%3E%3Cg%20class%3D%22legendfill%22%2F%3E%3Cg%20class%3D%22legendlines%22%3E%3Cpath%20class%3D%22js-line%22%20d%3D%22M5%2C0h30%22%20style%3D%22fill%3A%20none%3B%20stroke%3A%20rgb(78%2C%20121%2C%20167)%3B%20stroke-opacity%3A%201%3B%20stroke-width%3A%202px%3B%22%2F%3E%3C%2Fg%3E%3Cg%20class%3D%22legendsymbols%22%3E%3Cg%20class%3D%22legendpoints%22%3E%3Cpath%20class%3D%22scatterpts%22%20transform%3D%22translate(20%2C0)%22%20style%3D%22opacity%3A%201%3B%20stroke-width%3A%200px%3B%20fill%3A%20rgb(78%2C%20121%2C%20167)%3B%20fill-opacity%3A%201%3B%22%20d%3D%22M3%2C0A3%2C3%200%201%2C1%200%2C-3A3%2C3%200%200%2C1%203%2C0Z%22%2F%3E%3C%2Fg%3E%3C%2Fg%3E%3C%2Fg%3E%3Crect%20class%3D%22legendtoggle%22%20style%3D%22cursor%3A%20pointer%3B%20fill%3A%20rgb(0%2C%200%2C%200)%3B%20fill-opacity%3A%200%3B%22%20pointer-events%3D%22all%22%20x%3D%220%22%20y%3D%22-9.5%22%20width%3D%2251.41667175292969%22%20height%3D%2219%22%2F%3E%3C%2Fg%3E%3C%2Fg%3E%3Cg%20class%3D%22groups%22%20transform%3D%22translate(0%2C10)%22%3E%3Cg%20class%3D%22traces%22%20style%3D%22opacity%3A%201%3B%22%20transform%3D%22translate(0%2C33.5)%22%3E%3Ctext%20class%3D%22legendtext%22%20text-anchor%3D%22start%22%20style%3D%22font-family%3A%20%26quot%3BOpen%20Sans%26quot%3B%2C%20verdana%2C%20arial%2C%20sans-serif%3B%20font-size%3A%2012px%3B%20fill%3A%20rgb(89%2C%2089%2C%2089)%3B%20fill-opacity%3A%201%3B%20white-space%3A%20pre%3B%22%20x%3D%2240%22%20y%3D%224.680000000000001%22%20data-unformatted%3D%22B%22%20data-math%3D%22N%22%3EB%3C%2Ftext%3E%3Cg%20class%3D%22layers%22%20style%3D%22opacity%3A%201%3B%22%3E%3Cg%20class%3D%22legendfill%22%2F%3E%3Cg%20class%3D%22legendlines%22%3E%3Cpath%20class%3D%22js-line%22%20d%3D%22M5%2C0h30%22%20style%3D%22fill%3A%20none%3B%20stroke%3A%20rgb(242%2C%20142%2C%2044)%3B%20stroke-opacity%3A%201%3B%20stroke-width%3A%202px%3B%22%2F%3E%3C%2Fg%3E%3Cg%20class%3D%22legendsymbols%22%3E%3Cg%20class%3D%22legendpoints%22%3E%3Cpath%20class%3D%22scatterpts%22%20transform%3D%22translate(20%2C0)%22%20style%3D%22opacity%3A%201%3B%20stroke-width%3A%200px%3B%20fill%3A%20rgb(242%2C%20142%2C%2044)%3B%20fill-opacity%3A%201%3B%22%20d%3D%22M3%2C0A3%2C3%200%201%2C1%200%2C-3A3%2C3%200%200%2C1%203%2C0Z%22%2F%3E%3C%2Fg%3E%3C%2Fg%3E%3C%2Fg%3E%3Crect%20class%3D%22legendtoggle%22%20style%3D%22cursor%3A%20pointer%3B%20fill%3A%20rgb(0%2C%200%2C%200)%3B%20fill-opacity%3A%200%3B%22%20pointer-events%3D%22all%22%20x%3D%220%22%20y%3D%22-9.5%22%20width%3D%2251.41667175292969%22%20height%3D%2219%22%2F%3E%3C%2Fg%3E%3C%2Fg%3E%3Cg%20class%3D%22groups%22%20transform%3D%22translate(0%2C20)%22%3E%3Cg%20class%3D%22traces%22%20style%3D%22opacity%3A%201%3B%22%20transform%3D%22translate(0%2C52.5)%22%3E%3Ctext%20class%3D%22legendtext%22%20text-anchor%3D%22start%22%20style%3D%22font-family%3A%20%26quot%3BOpen%20Sans%26quot%3B%2C%20verdana%2C%20arial%2C%20sans-serif%3B%20font-size%3A%2012px%3B%20fill%3A%20rgb(89%2C%2089%2C%2089)%3B%20fill-opacity%3A%201%3B%20white-space%3A%20pre%3B%22%20x%3D%2240%22%20y%3D%224.680000000000001%22%20data-unformatted%3D%22C%22%20data-math%3D%22N%22%3EC%3C%2Ftext%3E%3Cg%20class%3D%22layers%22%20style%3D%22opacity%3A%201%3B%22%3E%3Cg%20class%3D%22legendfill%22%2F%3E%3Cg%20class%3D%22legendlines%22%3E%3Cpath%20class%3D%22js-line%22%20d%3D%22M5%2C0h30%22%20style%3D%22fill%3A%20none%3B%20stroke%3A%20rgb(225%2C%2087%2C%2089)%3B%20stroke-opacity%3A%201%3B%20stroke-width%3A%202px%3B%22%2F%3E%3C%2Fg%3E%3Cg%20class%3D%22legendsymbols%22%3E%3Cg%20class%3D%22legendpoints%22%3E%3Cpath%20class%3D%22scatterpts%22%20transform%3D%22translate(20%2C0)%22%20style%3D%22opacity%3A%201%3B%20stroke-width%3A%200px%3B%20fill%3A%20rgb(225%2C%2087%2C%2089)%3B%20fill-opacity%3A%201%3B%22%20d%3D%22M3%2C0A3%2C3%200%201%2C1%200%2C-3A3%2C3%200%200%2C1%203%2C0Z%22%2F%3E%3C%2Fg%3E%3C%2Fg%3E%3C%2Fg%3E%3Crect%20class%3D%22legendtoggle%22%20style%3D%22cursor%3A%20pointer%3B%20fill%3A%20rgb(0%2C%200%2C%200)%3B%20fill-opacity%3A%200%3B%22%20pointer-events%3D%22all%22%20x%3D%220%22%20y%3D%22-9.5%22%20width%3D%2251.41667175292969%22%20height%3D%2219%22%2F%3E%3C%2Fg%3E%3C%2Fg%3E%3Cg%20class%3D%22groups%22%20transform%3D%22translate(0%2C30)%22%3E%3Cg%20class%3D%22traces%22%20style%3D%22opacity%3A%201%3B%22%20transform%3D%22translate(0%2C71.5)%22%3E%3Ctext%20class%3D%22legendtext%22%20text-anchor%3D%22start%22%20style%3D%22font-family%3A%20%26quot%3BOpen%20Sans%26quot%3B%2C%20verdana%2C%20arial%2C%20sans-serif%3B%20font-size%3A%2012px%3B%20fill%3A%20rgb(89%2C%2089%2C%2089)%3B%20fill-opacity%3A%201%3B%20white-space%3A%20pre%3B%22%20x%3D%2240%22%20y%3D%224.680000000000001%22%20data-unformatted%3D%22D%22%20data-math%3D%22N%22%3ED%3C%2Ftext%3E%3Cg%20class%3D%22layers%22%20style%3D%22opacity%3A%201%3B%22%3E%3Cg%20class%3D%22legendfill%22%2F%3E%3Cg%20class%3D%22legendlines%22%3E%3Cpath%20class%3D%22js-line%22%20d%3D%22M5%2C0h30%22%20style%3D%22fill%3A%20none%3B%20stroke%3A%20rgb(118%2C%20183%2C%20178)%3B%20stroke-opacity%3A%201%3B%20stroke-width%3A%202px%3B%22%2F%3E%3C%2Fg%3E%3Cg%20class%3D%22legendsymbols%22%3E%3Cg%20class%3D%22legendpoints%22%3E%3Cpath%20class%3D%22scatterpts%22%20transform%3D%22translate(20%2C0)%22%20style%3D%22opacity%3A%201%3B%20stroke-width%3A%200px%3B%20fill%3A%20rgb(118%2C%20183%2C%20178)%3B%20fill-opacity%3A%201%3B%22%20d%3D%22M3%2C0A3%2C3%200%201%2C1%200%2C-3A3%2C3%200%200%2C1%203%2C0Z%22%2F%3E%3C%2Fg%3E%3C%2Fg%3E%3C%2Fg%3E%3Crect%20class%3D%22legendtoggle%22%20style%3D%22cursor%3A%20pointer%3B%20fill%3A%20rgb(0%2C%200%2C%200)%3B%20fill-opacity%3A%200%3B%22%20pointer-events%3D%22all%22%20x%3D%220%22%20y%3D%22-9.5%22%20width%3D%2251.41667175292969%22%20height%3D%2219%22%2F%3E%3C%2Fg%3E%3C%2Fg%3E%3Cg%20class%3D%22groups%22%20transform%3D%22translate(0%2C40)%22%3E%3Cg%20class%3D%22traces%22%20style%3D%22opacity%3A%201%3B%22%20transform%3D%22translate(0%2C90.5)%22%3E%3Ctext%20class%3D%22legendtext%22%20text-anchor%3D%22start%22%20style%3D%22font-family%3A%20%26quot%3BOpen%20Sans%26quot%3B%2C%20verdana%2C%20arial%2C%20sans-serif%3B%20font-size%3A%2012px%3B%20fill%3A%20rgb(89%2C%2089%2C%2089)%3B%20fill-opacity%3A%201%3B%20white-space%3A%20pre%3B%22%20x%3D%2240%22%20y%3D%224.680000000000001%22%20data-unformatted%3D%22E%22%20data-math%3D%22N%22%3EE%3C%2Ftext%3E%3Cg%20class%3D%22layers%22%20style%3D%22opacity%3A%201%3B%22%3E%3Cg%20class%3D%22legendfill%22%2F%3E%3Cg%20class%3D%22legendlines%22%3E%3Cpath%20class%3D%22js-line%22%20d%3D%22M5%2C0h30%22%20style%3D%22fill%3A%20none%3B%20stroke%3A%20rgb(89%2C%20161%2C%2079)%3B%20stroke-opacity%3A%201%3B%20stroke-width%3A%202px%3B%22%2F%3E%3C%2Fg%3E%3Cg%20class%3D%22legendsymbols%22%3E%3Cg%20class%3D%22legendpoints%22%3E%3Cpath%20class%3D%22scatterpts%22%20transform%3D%22translate(20%2C0)%22%20style%3D%22opacity%3A%201%3B%20stroke-width%3A%200px%3B%20fill%3A%20rgb(89%2C%20161%2C%2079)%3B%20fill-opacity%3A%201%3B%22%20d%3D%22M3%2C0A3%2C3%200%201%2C1%200%2C-3A3%2C3%200%200%2C1%203%2C0Z%22%2F%3E%3C%2Fg%3E%3C%2Fg%3E%3C%2Fg%3E%3Crect%20class%3D%22legendtoggle%22%20style%3D%22cursor%3A%20pointer%3B%20fill%3A%20rgb(0%2C%200%2C%200)%3B%20fill-opacity%3A%200%3B%22%20pointer-events%3D%22all%22%20x%3D%220%22%20y%3D%22-9.5%22%20width%3D%2251.41667175292969%22%20height%3D%2219%22%2F%3E%3C%2Fg%3E%3C%2Fg%3E%3Cg%20class%3D%22groups%22%20transform%3D%22translate(0%2C50)%22%3E%3Cg%20class%3D%22traces%22%20style%3D%22opacity%3A%201%3B%22%20transform%3D%22translate(0%2C109.5)%22%3E%3Ctext%20class%3D%22legendtext%22%20text-anchor%3D%22start%22%20style%3D%22font-family%3A%20%26quot%3BOpen%20Sans%26quot%3B%2C%20verdana%2C%20arial%2C%20sans-serif%3B%20font-size%3A%2012px%3B%20fill%3A%20rgb(89%2C%2089%2C%2089)%3B%20fill-opacity%3A%201%3B%20white-space%3A%20pre%3B%22%20x%3D%2240%22%20y%3D%224.680000000000001%22%20data-unformatted%3D%22F%22%20data-math%3D%22N%22%3EF%3C%2Ftext%3E%3Cg%20class%3D%22layers%22%20style%3D%22opacity%3A%201%3B%22%3E%3Cg%20class%3D%22legendfill%22%2F%3E%3Cg%20class%3D%22legendlines%22%3E%3Cpath%20class%3D%22js-line%22%20d%3D%22M5%2C0h30%22%20style%3D%22fill%3A%20none%3B%20stroke%3A%20rgb(237%2C%20201%2C%2073)%3B%20stroke-opacity%3A%201%3B%20stroke-width%3A%202px%3B%22%2F%3E%3C%2Fg%3E%3Cg%20class%3D%22legendsymbols%22%3E%3Cg%20class%3D%22legendpoints%22%3E%3Cpath%20class%3D%22scatterpts%22%20transform%3D%22translate(20%2C0)%22%20style%3D%22opacity%3A%201%3B%20stroke-width%3A%200px%3B%20fill%3A%20rgb(237%2C%20201%2C%2073)%3B%20fill-opacity%3A%201%3B%22%20d%3D%22M3%2C0A3%2C3%200%201%2C1%200%2C-3A3%2C3%200%200%2C1%203%2C0Z%22%2F%3E%3C%2Fg%3E%3C%2Fg%3E%3C%2Fg%3E%3Crect%20class%3D%22legendtoggle%22%20style%3D%22cursor%3A%20pointer%3B%20fill%3A%20rgb(0%2C%200%2C%200)%3B%20fill-opacity%3A%200%3B%22%20pointer-events%3D%22all%22%20x%3D%220%22%20y%3D%22-9.5%22%20width%3D%2251.41667175292969%22%20height%3D%2219%22%2F%3E%3C%2Fg%3E%3C%2Fg%3E%3Cg%20class%3D%22groups%22%20transform%3D%22translate(0%2C60)%22%3E%3Cg%20class%3D%22traces%22%20style%3D%22opacity%3A%201%3B%22%20transform%3D%22translate(0%2C128.5)%22%3E%3Ctext%20class%3D%22legendtext%22%20text-anchor%3D%22start%22%20style%3D%22font-family%3A%20%26quot%3BOpen%20Sans%26quot%3B%2C%20verdana%2C%20arial%2C%20sans-serif%3B%20font-size%3A%2012px%3B%20fill%3A%20rgb(89%2C%2089%2C%2089)%3B%20fill-opacity%3A%201%3B%20white-space%3A%20pre%3B%22%20x%3D%2240%22%20y%3D%224.680000000000001%22%20data-unformatted%3D%22G%22%20data-math%3D%22N%22%3EG%3C%2Ftext%3E%3Cg%20class%3D%22layers%22%20style%3D%22opacity%3A%201%3B%22%3E%3Cg%20class%3D%22legendfill%22%2F%3E%3Cg%20class%3D%22legendlines%22%3E%3Cpath%20class%3D%22js-line%22%20d%3D%22M5%2C0h30%22%20style%3D%22fill%3A%20none%3B%20stroke%3A%20rgb(175%2C%20122%2C%20161)%3B%20stroke-opacity%3A%201%3B%20stroke-width%3A%202px%3B%22%2F%3E%3C%2Fg%3E%3Cg%20class%3D%22legendsymbols%22%3E%3Cg%20class%3D%22legendpoints%22%3E%3Cpath%20class%3D%22scatterpts%22%20transform%3D%22translate(20%2C0)%22%20style%3D%22opacity%3A%201%3B%20stroke-width%3A%200px%3B%20fill%3A%20rgb(175%2C%20122%2C%20161)%3B%20fill-opacity%3A%201%3B%22%20d%3D%22M3%2C0A3%2C3%200%201%2C1%200%2C-3A3%2C3%200%200%2C1%203%2C0Z%22%2F%3E%3C%2Fg%3E%3C%2Fg%3E%3C%2Fg%3E%3Crect%20class%3D%22legendtoggle%22%20style%3D%22cursor%3A%20pointer%3B%20fill%3A%20rgb(0%2C%200%2C%200)%3B%20fill-opacity%3A%200%3B%22%20pointer-events%3D%22all%22%20x%3D%220%22%20y%3D%22-9.5%22%20width%3D%2251.41667175292969%22%20height%3D%2219%22%2F%3E%3C%2Fg%3E%3C%2Fg%3E%3C%2Fg%3E%3Crect%20class%3D%22scrollbar%22%20rx%3D%2220%22%20ry%3D%223%22%20width%3D%220%22%20height%3D%220%22%20style%3D%22fill%3A%20rgb(128%2C%20139%2C%20164)%3B%20fill-opacity%3A%201%3B%22%20x%3D%220%22%20y%3D%220%22%2F%3E%3C%2Fg%3E%3Cg%20class%3D%22g-gtitle%22%2F%3E%3Cg%20class%3D%22g-xtitle%22%2F%3E%3Cg%20class%3D%22g-ytitle%22%2F%3E%3C%2Fg%3E%3Cg%20class%3D%22menulayer%22%2F%3E%3Cg%20class%3D%22zoomlayer%22%2F%3E%3Cg%20class%3D%22hoverlayer%22%2F%3E%3C%2Fsvg%3E\">"
      ],
      "text/plain": [
       "Open the notebook in JupyterLab with the atoti extension installed and enabled to start editing this widget."
      ]
     },
     "metadata": {},
     "output_type": "display_data"
    }
   ],
   "source": [
    "session.visualize(\"Average loan size by Credit Score\")"
   ]
  },
  {
   "cell_type": "markdown",
   "metadata": {},
   "source": [
    "## Interest rate"
   ]
  },
  {
   "cell_type": "code",
   "execution_count": 43,
   "metadata": {
    "execution": {
     "iopub.execute_input": "2021-02-09T06:44:52.868699Z",
     "iopub.status.busy": "2021-02-09T06:44:52.867962Z",
     "iopub.status.idle": "2021-02-09T06:45:07.066180Z",
     "shell.execute_reply": "2021-02-09T06:45:07.065536Z",
     "shell.execute_reply.started": "2021-02-09T06:44:52.868680Z"
    }
   },
   "outputs": [],
   "source": [
    "m['interest_rate.MEAN'] = tt.agg.mean(lending_club_data['int_rate'])"
   ]
  },
  {
   "cell_type": "code",
   "execution_count": 44,
   "metadata": {
    "atoti": {
     "widget": {
      "mapping": {
       "horizontalSubplots": [],
       "splitBy": [
        "ALL_MEASURES",
        "[Lending Club Data].[grade].[grade]"
       ],
       "values": [
        "[Measures].[interest_rate.MEAN]"
       ],
       "verticalSubplots": [],
       "xAxis": [
        "[Lending Club Data].[issue_d].[issue_d]"
       ]
      },
      "query": {
       "mdx": "SELECT NON EMPTY Crossjoin({[Measures].[interest_rate.MEAN]}, Hierarchize(Descendants({[Lending Club Data].[grade].[AllMember]}, 1, SELF_AND_BEFORE))) ON COLUMNS, NON EMPTY Hierarchize(Descendants({[Lending Club Data].[issue_d].[AllMember]}, 1, SELF_AND_BEFORE)) ON ROWS FROM [IFRS9]",
       "updateMode": "once"
      },
      "serverKey": "default",
      "widgetKey": "plotly-line-chart"
     }
    },
    "execution": {
     "iopub.execute_input": "2021-02-09T06:45:07.067334Z",
     "iopub.status.busy": "2021-02-09T06:45:07.067083Z",
     "iopub.status.idle": "2021-02-09T06:45:07.624552Z",
     "shell.execute_reply": "2021-02-09T06:45:07.623844Z",
     "shell.execute_reply.started": "2021-02-09T06:45:07.067312Z"
    }
   },
   "outputs": [
    {
     "data": {
      "application/vnd.atoti.v0+json": {
       "name": "Interest rates by credit score",
       "session": "Unnamed"
      },
      "text/html": [
       "<img src=\"data:image/svg+xml;charset=utf8,%3C%3Fxml%20version%3D%221.0%22%20standalone%3D%22no%22%3F%3E%3Csvg%20xmlns%3D%22http%3A%2F%2Fwww.w3.org%2F2000%2Fsvg%22%20xmlns%3Axlink%3D%22http%3A%2F%2Fwww.w3.org%2F1999%2Fxlink%22%20height%3D%22348%22%20width%3D%221163%22%20viewBox%3D%220%200%201163%20348%22%3E%3Cdefs%20id%3D%22defs-44f7cd%22%3E%3Cg%20class%3D%22clips%22%3E%3CclipPath%20id%3D%22clip44f7cdxyplot%22%20class%3D%22plotclip%22%3E%3Crect%20width%3D%221006%22%20height%3D%22238%22%2F%3E%3C%2FclipPath%3E%3CclipPath%20class%3D%22axesclip%22%20id%3D%22clip44f7cdx%22%3E%3Crect%20x%3D%2280%22%20y%3D%220%22%20width%3D%221006%22%20height%3D%22348%22%2F%3E%3C%2FclipPath%3E%3CclipPath%20class%3D%22axesclip%22%20id%3D%22clip44f7cdy%22%3E%3Crect%20x%3D%220%22%20y%3D%2230%22%20width%3D%221163%22%20height%3D%22238%22%2F%3E%3C%2FclipPath%3E%3CclipPath%20class%3D%22axesclip%22%20id%3D%22clip44f7cdxy%22%3E%3Crect%20x%3D%2280%22%20y%3D%2230%22%20width%3D%221006%22%20height%3D%22238%22%2F%3E%3C%2FclipPath%3E%3C%2Fg%3E%3Cg%20class%3D%22gradients%22%2F%3E%3C%2Fdefs%3E%3Cg%20class%3D%22bglayer%22%2F%3E%3Cg%20class%3D%22draglayer%20cursor-crosshair%22%3E%3Cg%20class%3D%22xy%22%3E%3Crect%20class%3D%22nsewdrag%20drag%22%20style%3D%22fill%3A%20transparent%3B%20stroke-width%3A%200px%3B%20pointer-events%3A%20all%3B%22%20data-subplot%3D%22xy%22%20x%3D%2280%22%20y%3D%2230%22%20width%3D%221006%22%20height%3D%22238%22%2F%3E%3Crect%20class%3D%22nwdrag%20drag%20cursor-nw-resize%22%20style%3D%22fill%3A%20transparent%3B%20stroke-width%3A%200px%3B%20pointer-events%3A%20all%3B%22%20data-subplot%3D%22xy%22%20x%3D%2260%22%20y%3D%2210%22%20width%3D%2220%22%20height%3D%2220%22%2F%3E%3Crect%20class%3D%22nedrag%20drag%20cursor-ne-resize%22%20style%3D%22fill%3A%20transparent%3B%20stroke-width%3A%200px%3B%20pointer-events%3A%20all%3B%22%20data-subplot%3D%22xy%22%20x%3D%221086%22%20y%3D%2210%22%20width%3D%2220%22%20height%3D%2220%22%2F%3E%3Crect%20class%3D%22swdrag%20drag%20cursor-sw-resize%22%20style%3D%22fill%3A%20transparent%3B%20stroke-width%3A%200px%3B%20pointer-events%3A%20all%3B%22%20data-subplot%3D%22xy%22%20x%3D%2260%22%20y%3D%22268%22%20width%3D%2220%22%20height%3D%2220%22%2F%3E%3Crect%20class%3D%22sedrag%20drag%20cursor-se-resize%22%20style%3D%22fill%3A%20transparent%3B%20stroke-width%3A%200px%3B%20pointer-events%3A%20all%3B%22%20data-subplot%3D%22xy%22%20x%3D%221086%22%20y%3D%22268%22%20width%3D%2220%22%20height%3D%2220%22%2F%3E%3Crect%20class%3D%22ewdrag%20drag%20cursor-ew-resize%22%20style%3D%22fill%3A%20transparent%3B%20stroke-width%3A%200px%3B%20pointer-events%3A%20all%3B%22%20data-subplot%3D%22xy%22%20x%3D%22180.60000000000002%22%20y%3D%22268.5%22%20width%3D%22804.8000000000001%22%20height%3D%2220%22%2F%3E%3Crect%20class%3D%22wdrag%20drag%20cursor-w-resize%22%20style%3D%22fill%3A%20transparent%3B%20stroke-width%3A%200px%3B%20pointer-events%3A%20all%3B%22%20data-subplot%3D%22xy%22%20x%3D%2280%22%20y%3D%22268.5%22%20width%3D%22100.60000000000001%22%20height%3D%2220%22%2F%3E%3Crect%20class%3D%22edrag%20drag%20cursor-e-resize%22%20style%3D%22fill%3A%20transparent%3B%20stroke-width%3A%200px%3B%20pointer-events%3A%20all%3B%22%20data-subplot%3D%22xy%22%20x%3D%22985.4%22%20y%3D%22268.5%22%20width%3D%22100.60000000000001%22%20height%3D%2220%22%2F%3E%3Crect%20class%3D%22nsdrag%20drag%20cursor-ns-resize%22%20style%3D%22fill%3A%20transparent%3B%20stroke-width%3A%200px%3B%20pointer-events%3A%20all%3B%22%20data-subplot%3D%22xy%22%20x%3D%2259.5%22%20y%3D%2253.8%22%20width%3D%2220%22%20height%3D%22190.4%22%2F%3E%3Crect%20class%3D%22sdrag%20drag%20cursor-s-resize%22%20style%3D%22fill%3A%20transparent%3B%20stroke-width%3A%200px%3B%20pointer-events%3A%20all%3B%22%20data-subplot%3D%22xy%22%20x%3D%2259.5%22%20y%3D%22244.20000000000002%22%20width%3D%2220%22%20height%3D%2223.8%22%2F%3E%3Crect%20class%3D%22ndrag%20drag%20cursor-n-resize%22%20style%3D%22fill%3A%20transparent%3B%20stroke-width%3A%200px%3B%20pointer-events%3A%20all%3B%22%20data-subplot%3D%22xy%22%20x%3D%2259.5%22%20y%3D%2230%22%20width%3D%2220%22%20height%3D%2223.8%22%2F%3E%3C%2Fg%3E%3C%2Fg%3E%3Cg%20class%3D%22layer-below%22%3E%3Cg%20class%3D%22imagelayer%22%2F%3E%3Cg%20class%3D%22shapelayer%22%2F%3E%3C%2Fg%3E%3Cg%20class%3D%22cartesianlayer%22%3E%3Cg%20class%3D%22subplot%20xy%22%3E%3Cg%20class%3D%22layer-subplot%22%3E%3Cg%20class%3D%22shapelayer%22%2F%3E%3Cg%20class%3D%22imagelayer%22%2F%3E%3C%2Fg%3E%3Cg%20class%3D%22gridlayer%22%3E%3Cg%20class%3D%22x%22%3E%3Cpath%20class%3D%22xgrid%20crisp%22%20transform%3D%22translate(149.29000000000002%2C0)%22%20d%3D%22M0%2C30v238%22%20style%3D%22stroke%3A%20rgb(89%2C%2089%2C%2089)%3B%20stroke-opacity%3A%200.25%3B%20stroke-width%3A%201px%3B%22%2F%3E%3Cpath%20class%3D%22xgrid%20crisp%22%20transform%3D%22translate(328.78%2C0)%22%20d%3D%22M0%2C30v238%22%20style%3D%22stroke%3A%20rgb(89%2C%2089%2C%2089)%3B%20stroke-opacity%3A%200.25%3B%20stroke-width%3A%201px%3B%22%2F%3E%3Cpath%20class%3D%22xgrid%20crisp%22%20transform%3D%22translate(508.75%2C0)%22%20d%3D%22M0%2C30v238%22%20style%3D%22stroke%3A%20rgb(89%2C%2089%2C%2089)%3B%20stroke-opacity%3A%200.25%3B%20stroke-width%3A%201px%3B%22%2F%3E%3Cpath%20class%3D%22xgrid%20crisp%22%20transform%3D%22translate(688.23%2C0)%22%20d%3D%22M0%2C30v238%22%20style%3D%22stroke%3A%20rgb(89%2C%2089%2C%2089)%3B%20stroke-opacity%3A%200.25%3B%20stroke-width%3A%201px%3B%22%2F%3E%3Cpath%20class%3D%22xgrid%20crisp%22%20transform%3D%22translate(867.71%2C0)%22%20d%3D%22M0%2C30v238%22%20style%3D%22stroke%3A%20rgb(89%2C%2089%2C%2089)%3B%20stroke-opacity%3A%200.25%3B%20stroke-width%3A%201px%3B%22%2F%3E%3Cpath%20class%3D%22xgrid%20crisp%22%20transform%3D%22translate(1047.19%2C0)%22%20d%3D%22M0%2C30v238%22%20style%3D%22stroke%3A%20rgb(89%2C%2089%2C%2089)%3B%20stroke-opacity%3A%200.25%3B%20stroke-width%3A%201px%3B%22%2F%3E%3C%2Fg%3E%3Cg%20class%3D%22y%22%3E%3Cpath%20class%3D%22ygrid%20crisp%22%20transform%3D%22translate(0%2C265.57)%22%20d%3D%22M80%2C0h1006%22%20style%3D%22stroke%3A%20rgb(89%2C%2089%2C%2089)%3B%20stroke-opacity%3A%200.25%3B%20stroke-width%3A%201px%3B%22%2F%3E%3Cpath%20class%3D%22ygrid%20crisp%22%20transform%3D%22translate(0%2C216.78)%22%20d%3D%22M80%2C0h1006%22%20style%3D%22stroke%3A%20rgb(89%2C%2089%2C%2089)%3B%20stroke-opacity%3A%200.25%3B%20stroke-width%3A%201px%3B%22%2F%3E%3Cpath%20class%3D%22ygrid%20crisp%22%20transform%3D%22translate(0%2C167.99)%22%20d%3D%22M80%2C0h1006%22%20style%3D%22stroke%3A%20rgb(89%2C%2089%2C%2089)%3B%20stroke-opacity%3A%200.25%3B%20stroke-width%3A%201px%3B%22%2F%3E%3Cpath%20class%3D%22ygrid%20crisp%22%20transform%3D%22translate(0%2C119.19)%22%20d%3D%22M80%2C0h1006%22%20style%3D%22stroke%3A%20rgb(89%2C%2089%2C%2089)%3B%20stroke-opacity%3A%200.25%3B%20stroke-width%3A%201px%3B%22%2F%3E%3Cpath%20class%3D%22ygrid%20crisp%22%20transform%3D%22translate(0%2C70.4)%22%20d%3D%22M80%2C0h1006%22%20style%3D%22stroke%3A%20rgb(89%2C%2089%2C%2089)%3B%20stroke-opacity%3A%200.25%3B%20stroke-width%3A%201px%3B%22%2F%3E%3C%2Fg%3E%3C%2Fg%3E%3Cg%20class%3D%22zerolinelayer%22%2F%3E%3Cpath%20class%3D%22xlines-below%22%2F%3E%3Cpath%20class%3D%22ylines-below%22%2F%3E%3Cg%20class%3D%22overlines-below%22%2F%3E%3Cg%20class%3D%22xaxislayer-below%22%2F%3E%3Cg%20class%3D%22yaxislayer-below%22%2F%3E%3Cg%20class%3D%22overaxes-below%22%2F%3E%3Cg%20class%3D%22plot%22%20transform%3D%22translate(80%2C30)%22%20clip-path%3D%22url('%23clip44f7cdxyplot')%22%3E%3Cg%20class%3D%22scatterlayer%20mlayer%22%3E%3Cg%20class%3D%22trace%20scatter%20trace60b1630%22%20style%3D%22stroke-miterlimit%3A%202%3B%20opacity%3A%201%3B%22%3E%3Cg%20class%3D%22fills%22%2F%3E%3Cg%20class%3D%22errorbars%22%2F%3E%3Cg%20class%3D%22lines%22%3E%3Cpath%20class%3D%22js-line%22%20style%3D%22vector-effect%3A%20non-scaling-stroke%3B%20fill%3A%20none%3B%20stroke%3A%20rgb(78%2C%20121%2C%20167)%3B%20stroke-opacity%3A%201%3B%20stroke-width%3A%202px%3B%20opacity%3A%201%3B%22%20d%3D%22M54.05%2C222.35L69.29%2C211.42L84.54%2C210.93L113.55%2C211.1L128.3%2C204.11L143.54%2C203.14L158.3%2C204.77L188.78%2C203.95L203.54%2C202.8L218.78%2C200.25L233.53%2C200.44L248.78%2C199.68L264.02%2C202.39L278.28%2C199.95L293.52%2C202.39L308.27%2C201.7L323.52%2C205.5L338.27%2C203.09L353.51%2C204.71L368.76%2C203.61L383.51%2C204.48L398.75%2C200.3L413.51%2C208.03L443.99%2C209.24L457.76%2C209.03L473%2C206.82L487.76%2C210.46L503%2C210.98L517.75%2C210.14L533%2C210.14L548.24%2C209.27L562.99%2C208.2L578.23%2C207.88L608.23%2C207.43L623.47%2C207.8L652.49%2C207.41L667.24%2C210.88L682.48%2C212.62L697.23%2C212.62L712.48%2C213.06L727.72%2C214.29L742.47%2C213L757.72%2C212.72L772.47%2C213.76L787.71%2C213.28L816.72%2C215.53L831.97%2C215.78L876.72%2C217.56L891.96%2C217.08L951.95%2C217.87%22%2F%3E%3C%2Fg%3E%3Cg%20class%3D%22points%22%3E%3Cpath%20class%3D%22point%22%20transform%3D%22translate(54.05%2C222.35)%22%20style%3D%22opacity%3A%200.2%3B%20stroke-width%3A%200px%3B%20fill%3A%20rgb(78%2C%20121%2C%20167)%3B%20fill-opacity%3A%201%3B%22%20d%3D%22M3%2C0A3%2C3%200%201%2C1%200%2C-3A3%2C3%200%200%2C1%203%2C0Z%22%2F%3E%3Cpath%20class%3D%22point%22%20transform%3D%22translate(69.29%2C211.42)%22%20style%3D%22opacity%3A%200.2%3B%20stroke-width%3A%200px%3B%20fill%3A%20rgb(78%2C%20121%2C%20167)%3B%20fill-opacity%3A%201%3B%22%20d%3D%22M3%2C0A3%2C3%200%201%2C1%200%2C-3A3%2C3%200%200%2C1%203%2C0Z%22%2F%3E%3Cpath%20class%3D%22point%22%20transform%3D%22translate(84.54%2C210.93)%22%20style%3D%22opacity%3A%200.2%3B%20stroke-width%3A%200px%3B%20fill%3A%20rgb(78%2C%20121%2C%20167)%3B%20fill-opacity%3A%201%3B%22%20d%3D%22M3%2C0A3%2C3%200%201%2C1%200%2C-3A3%2C3%200%200%2C1%203%2C0Z%22%2F%3E%3Cpath%20class%3D%22point%22%20transform%3D%22translate(98.31%2C211.3)%22%20style%3D%22opacity%3A%200.2%3B%20stroke-width%3A%200px%3B%20fill%3A%20rgb(78%2C%20121%2C%20167)%3B%20fill-opacity%3A%201%3B%22%20d%3D%22M3%2C0A3%2C3%200%201%2C1%200%2C-3A3%2C3%200%200%2C1%203%2C0Z%22%2F%3E%3Cpath%20class%3D%22point%22%20transform%3D%22translate(113.55%2C211.1)%22%20style%3D%22opacity%3A%200.2%3B%20stroke-width%3A%200px%3B%20fill%3A%20rgb(78%2C%20121%2C%20167)%3B%20fill-opacity%3A%201%3B%22%20d%3D%22M3%2C0A3%2C3%200%201%2C1%200%2C-3A3%2C3%200%200%2C1%203%2C0Z%22%2F%3E%3Cpath%20class%3D%22point%22%20transform%3D%22translate(128.3%2C204.11)%22%20style%3D%22opacity%3A%200.2%3B%20stroke-width%3A%200px%3B%20fill%3A%20rgb(78%2C%20121%2C%20167)%3B%20fill-opacity%3A%201%3B%22%20d%3D%22M3%2C0A3%2C3%200%201%2C1%200%2C-3A3%2C3%200%200%2C1%203%2C0Z%22%2F%3E%3Cpath%20class%3D%22point%22%20transform%3D%22translate(143.54%2C203.14)%22%20style%3D%22opacity%3A%200.2%3B%20stroke-width%3A%200px%3B%20fill%3A%20rgb(78%2C%20121%2C%20167)%3B%20fill-opacity%3A%201%3B%22%20d%3D%22M3%2C0A3%2C3%200%201%2C1%200%2C-3A3%2C3%200%200%2C1%203%2C0Z%22%2F%3E%3Cpath%20class%3D%22point%22%20transform%3D%22translate(158.3%2C204.77)%22%20style%3D%22opacity%3A%200.2%3B%20stroke-width%3A%200px%3B%20fill%3A%20rgb(78%2C%20121%2C%20167)%3B%20fill-opacity%3A%201%3B%22%20d%3D%22M3%2C0A3%2C3%200%201%2C1%200%2C-3A3%2C3%200%200%2C1%203%2C0Z%22%2F%3E%3Cpath%20class%3D%22point%22%20transform%3D%22translate(173.54%2C204.57)%22%20style%3D%22opacity%3A%200.2%3B%20stroke-width%3A%200px%3B%20fill%3A%20rgb(78%2C%20121%2C%20167)%3B%20fill-opacity%3A%201%3B%22%20d%3D%22M3%2C0A3%2C3%200%201%2C1%200%2C-3A3%2C3%200%200%2C1%203%2C0Z%22%2F%3E%3Cpath%20class%3D%22point%22%20transform%3D%22translate(188.78%2C203.95)%22%20style%3D%22opacity%3A%200.2%3B%20stroke-width%3A%200px%3B%20fill%3A%20rgb(78%2C%20121%2C%20167)%3B%20fill-opacity%3A%201%3B%22%20d%3D%22M3%2C0A3%2C3%200%201%2C1%200%2C-3A3%2C3%200%200%2C1%203%2C0Z%22%2F%3E%3Cpath%20class%3D%22point%22%20transform%3D%22translate(203.54%2C202.8)%22%20style%3D%22opacity%3A%200.2%3B%20stroke-width%3A%200px%3B%20fill%3A%20rgb(78%2C%20121%2C%20167)%3B%20fill-opacity%3A%201%3B%22%20d%3D%22M3%2C0A3%2C3%200%201%2C1%200%2C-3A3%2C3%200%200%2C1%203%2C0Z%22%2F%3E%3Cpath%20class%3D%22point%22%20transform%3D%22translate(218.78%2C200.25)%22%20style%3D%22opacity%3A%200.2%3B%20stroke-width%3A%200px%3B%20fill%3A%20rgb(78%2C%20121%2C%20167)%3B%20fill-opacity%3A%201%3B%22%20d%3D%22M3%2C0A3%2C3%200%201%2C1%200%2C-3A3%2C3%200%200%2C1%203%2C0Z%22%2F%3E%3Cpath%20class%3D%22point%22%20transform%3D%22translate(233.53%2C200.44)%22%20style%3D%22opacity%3A%200.2%3B%20stroke-width%3A%200px%3B%20fill%3A%20rgb(78%2C%20121%2C%20167)%3B%20fill-opacity%3A%201%3B%22%20d%3D%22M3%2C0A3%2C3%200%201%2C1%200%2C-3A3%2C3%200%200%2C1%203%2C0Z%22%2F%3E%3Cpath%20class%3D%22point%22%20transform%3D%22translate(248.78%2C199.68)%22%20style%3D%22opacity%3A%200.2%3B%20stroke-width%3A%200px%3B%20fill%3A%20rgb(78%2C%20121%2C%20167)%3B%20fill-opacity%3A%201%3B%22%20d%3D%22M3%2C0A3%2C3%200%201%2C1%200%2C-3A3%2C3%200%200%2C1%203%2C0Z%22%2F%3E%3Cpath%20class%3D%22point%22%20transform%3D%22translate(264.02%2C202.39)%22%20style%3D%22opacity%3A%200.2%3B%20stroke-width%3A%200px%3B%20fill%3A%20rgb(78%2C%20121%2C%20167)%3B%20fill-opacity%3A%201%3B%22%20d%3D%22M3%2C0A3%2C3%200%201%2C1%200%2C-3A3%2C3%200%200%2C1%203%2C0Z%22%2F%3E%3Cpath%20class%3D%22point%22%20transform%3D%22translate(278.28%2C199.95)%22%20style%3D%22opacity%3A%200.2%3B%20stroke-width%3A%200px%3B%20fill%3A%20rgb(78%2C%20121%2C%20167)%3B%20fill-opacity%3A%201%3B%22%20d%3D%22M3%2C0A3%2C3%200%201%2C1%200%2C-3A3%2C3%200%200%2C1%203%2C0Z%22%2F%3E%3Cpath%20class%3D%22point%22%20transform%3D%22translate(293.52%2C202.39)%22%20style%3D%22opacity%3A%200.2%3B%20stroke-width%3A%200px%3B%20fill%3A%20rgb(78%2C%20121%2C%20167)%3B%20fill-opacity%3A%201%3B%22%20d%3D%22M3%2C0A3%2C3%200%201%2C1%200%2C-3A3%2C3%200%200%2C1%203%2C0Z%22%2F%3E%3Cpath%20class%3D%22point%22%20transform%3D%22translate(308.27%2C201.7)%22%20style%3D%22opacity%3A%200.2%3B%20stroke-width%3A%200px%3B%20fill%3A%20rgb(78%2C%20121%2C%20167)%3B%20fill-opacity%3A%201%3B%22%20d%3D%22M3%2C0A3%2C3%200%201%2C1%200%2C-3A3%2C3%200%200%2C1%203%2C0Z%22%2F%3E%3Cpath%20class%3D%22point%22%20transform%3D%22translate(323.52%2C205.5)%22%20style%3D%22opacity%3A%200.2%3B%20stroke-width%3A%200px%3B%20fill%3A%20rgb(78%2C%20121%2C%20167)%3B%20fill-opacity%3A%201%3B%22%20d%3D%22M3%2C0A3%2C3%200%201%2C1%200%2C-3A3%2C3%200%200%2C1%203%2C0Z%22%2F%3E%3Cpath%20class%3D%22point%22%20transform%3D%22translate(338.27%2C203.09)%22%20style%3D%22opacity%3A%200.2%3B%20stroke-width%3A%200px%3B%20fill%3A%20rgb(78%2C%20121%2C%20167)%3B%20fill-opacity%3A%201%3B%22%20d%3D%22M3%2C0A3%2C3%200%201%2C1%200%2C-3A3%2C3%200%200%2C1%203%2C0Z%22%2F%3E%3Cpath%20class%3D%22point%22%20transform%3D%22translate(353.51%2C204.71)%22%20style%3D%22opacity%3A%200.2%3B%20stroke-width%3A%200px%3B%20fill%3A%20rgb(78%2C%20121%2C%20167)%3B%20fill-opacity%3A%201%3B%22%20d%3D%22M3%2C0A3%2C3%200%201%2C1%200%2C-3A3%2C3%200%200%2C1%203%2C0Z%22%2F%3E%3Cpath%20class%3D%22point%22%20transform%3D%22translate(368.76%2C203.61)%22%20style%3D%22opacity%3A%200.2%3B%20stroke-width%3A%200px%3B%20fill%3A%20rgb(78%2C%20121%2C%20167)%3B%20fill-opacity%3A%201%3B%22%20d%3D%22M3%2C0A3%2C3%200%201%2C1%200%2C-3A3%2C3%200%200%2C1%203%2C0Z%22%2F%3E%3Cpath%20class%3D%22point%22%20transform%3D%22translate(383.51%2C204.48)%22%20style%3D%22opacity%3A%200.2%3B%20stroke-width%3A%200px%3B%20fill%3A%20rgb(78%2C%20121%2C%20167)%3B%20fill-opacity%3A%201%3B%22%20d%3D%22M3%2C0A3%2C3%200%201%2C1%200%2C-3A3%2C3%200%200%2C1%203%2C0Z%22%2F%3E%3Cpath%20class%3D%22point%22%20transform%3D%22translate(398.75%2C200.3)%22%20style%3D%22opacity%3A%200.2%3B%20stroke-width%3A%200px%3B%20fill%3A%20rgb(78%2C%20121%2C%20167)%3B%20fill-opacity%3A%201%3B%22%20d%3D%22M3%2C0A3%2C3%200%201%2C1%200%2C-3A3%2C3%200%200%2C1%203%2C0Z%22%2F%3E%3Cpath%20class%3D%22point%22%20transform%3D%22translate(413.51%2C208.03)%22%20style%3D%22opacity%3A%200.2%3B%20stroke-width%3A%200px%3B%20fill%3A%20rgb(78%2C%20121%2C%20167)%3B%20fill-opacity%3A%201%3B%22%20d%3D%22M3%2C0A3%2C3%200%201%2C1%200%2C-3A3%2C3%200%200%2C1%203%2C0Z%22%2F%3E%3Cpath%20class%3D%22point%22%20transform%3D%22translate(428.75%2C208.72)%22%20style%3D%22opacity%3A%200.2%3B%20stroke-width%3A%200px%3B%20fill%3A%20rgb(78%2C%20121%2C%20167)%3B%20fill-opacity%3A%201%3B%22%20d%3D%22M3%2C0A3%2C3%200%201%2C1%200%2C-3A3%2C3%200%200%2C1%203%2C0Z%22%2F%3E%3Cpath%20class%3D%22point%22%20transform%3D%22translate(443.99%2C209.24)%22%20style%3D%22opacity%3A%200.2%3B%20stroke-width%3A%200px%3B%20fill%3A%20rgb(78%2C%20121%2C%20167)%3B%20fill-opacity%3A%201%3B%22%20d%3D%22M3%2C0A3%2C3%200%201%2C1%200%2C-3A3%2C3%200%200%2C1%203%2C0Z%22%2F%3E%3Cpath%20class%3D%22point%22%20transform%3D%22translate(457.76%2C209.03)%22%20style%3D%22opacity%3A%200.2%3B%20stroke-width%3A%200px%3B%20fill%3A%20rgb(78%2C%20121%2C%20167)%3B%20fill-opacity%3A%201%3B%22%20d%3D%22M3%2C0A3%2C3%200%201%2C1%200%2C-3A3%2C3%200%200%2C1%203%2C0Z%22%2F%3E%3Cpath%20class%3D%22point%22%20transform%3D%22translate(473%2C206.82)%22%20style%3D%22opacity%3A%200.2%3B%20stroke-width%3A%200px%3B%20fill%3A%20rgb(78%2C%20121%2C%20167)%3B%20fill-opacity%3A%201%3B%22%20d%3D%22M3%2C0A3%2C3%200%201%2C1%200%2C-3A3%2C3%200%200%2C1%203%2C0Z%22%2F%3E%3Cpath%20class%3D%22point%22%20transform%3D%22translate(487.76%2C210.46)%22%20style%3D%22opacity%3A%200.2%3B%20stroke-width%3A%200px%3B%20fill%3A%20rgb(78%2C%20121%2C%20167)%3B%20fill-opacity%3A%201%3B%22%20d%3D%22M3%2C0A3%2C3%200%201%2C1%200%2C-3A3%2C3%200%200%2C1%203%2C0Z%22%2F%3E%3Cpath%20class%3D%22point%22%20transform%3D%22translate(503%2C210.98)%22%20style%3D%22opacity%3A%200.2%3B%20stroke-width%3A%200px%3B%20fill%3A%20rgb(78%2C%20121%2C%20167)%3B%20fill-opacity%3A%201%3B%22%20d%3D%22M3%2C0A3%2C3%200%201%2C1%200%2C-3A3%2C3%200%200%2C1%203%2C0Z%22%2F%3E%3Cpath%20class%3D%22point%22%20transform%3D%22translate(517.75%2C210.14)%22%20style%3D%22opacity%3A%200.2%3B%20stroke-width%3A%200px%3B%20fill%3A%20rgb(78%2C%20121%2C%20167)%3B%20fill-opacity%3A%201%3B%22%20d%3D%22M3%2C0A3%2C3%200%201%2C1%200%2C-3A3%2C3%200%200%2C1%203%2C0Z%22%2F%3E%3Cpath%20class%3D%22point%22%20transform%3D%22translate(533%2C210.14)%22%20style%3D%22opacity%3A%200.2%3B%20stroke-width%3A%200px%3B%20fill%3A%20rgb(78%2C%20121%2C%20167)%3B%20fill-opacity%3A%201%3B%22%20d%3D%22M3%2C0A3%2C3%200%201%2C1%200%2C-3A3%2C3%200%200%2C1%203%2C0Z%22%2F%3E%3Cpath%20class%3D%22point%22%20transform%3D%22translate(548.24%2C209.27)%22%20style%3D%22opacity%3A%200.2%3B%20stroke-width%3A%200px%3B%20fill%3A%20rgb(78%2C%20121%2C%20167)%3B%20fill-opacity%3A%201%3B%22%20d%3D%22M3%2C0A3%2C3%200%201%2C1%200%2C-3A3%2C3%200%200%2C1%203%2C0Z%22%2F%3E%3Cpath%20class%3D%22point%22%20transform%3D%22translate(562.99%2C208.2)%22%20style%3D%22opacity%3A%200.2%3B%20stroke-width%3A%200px%3B%20fill%3A%20rgb(78%2C%20121%2C%20167)%3B%20fill-opacity%3A%201%3B%22%20d%3D%22M3%2C0A3%2C3%200%201%2C1%200%2C-3A3%2C3%200%200%2C1%203%2C0Z%22%2F%3E%3Cpath%20class%3D%22point%22%20transform%3D%22translate(578.23%2C207.88)%22%20style%3D%22opacity%3A%200.2%3B%20stroke-width%3A%200px%3B%20fill%3A%20rgb(78%2C%20121%2C%20167)%3B%20fill-opacity%3A%201%3B%22%20d%3D%22M3%2C0A3%2C3%200%201%2C1%200%2C-3A3%2C3%200%200%2C1%203%2C0Z%22%2F%3E%3Cpath%20class%3D%22point%22%20transform%3D%22translate(592.99%2C207.38)%22%20style%3D%22opacity%3A%200.2%3B%20stroke-width%3A%200px%3B%20fill%3A%20rgb(78%2C%20121%2C%20167)%3B%20fill-opacity%3A%201%3B%22%20d%3D%22M3%2C0A3%2C3%200%201%2C1%200%2C-3A3%2C3%200%200%2C1%203%2C0Z%22%2F%3E%3Cpath%20class%3D%22point%22%20transform%3D%22translate(608.23%2C207.43)%22%20style%3D%22opacity%3A%200.2%3B%20stroke-width%3A%200px%3B%20fill%3A%20rgb(78%2C%20121%2C%20167)%3B%20fill-opacity%3A%201%3B%22%20d%3D%22M3%2C0A3%2C3%200%201%2C1%200%2C-3A3%2C3%200%200%2C1%203%2C0Z%22%2F%3E%3Cpath%20class%3D%22point%22%20transform%3D%22translate(623.47%2C207.8)%22%20style%3D%22opacity%3A%200.2%3B%20stroke-width%3A%200px%3B%20fill%3A%20rgb(78%2C%20121%2C%20167)%3B%20fill-opacity%3A%201%3B%22%20d%3D%22M3%2C0A3%2C3%200%201%2C1%200%2C-3A3%2C3%200%200%2C1%203%2C0Z%22%2F%3E%3Cpath%20class%3D%22point%22%20transform%3D%22translate(637.24%2C207.45)%22%20style%3D%22opacity%3A%200.2%3B%20stroke-width%3A%200px%3B%20fill%3A%20rgb(78%2C%20121%2C%20167)%3B%20fill-opacity%3A%201%3B%22%20d%3D%22M3%2C0A3%2C3%200%201%2C1%200%2C-3A3%2C3%200%200%2C1%203%2C0Z%22%2F%3E%3Cpath%20class%3D%22point%22%20transform%3D%22translate(652.49%2C207.41)%22%20style%3D%22opacity%3A%200.2%3B%20stroke-width%3A%200px%3B%20fill%3A%20rgb(78%2C%20121%2C%20167)%3B%20fill-opacity%3A%201%3B%22%20d%3D%22M3%2C0A3%2C3%200%201%2C1%200%2C-3A3%2C3%200%200%2C1%203%2C0Z%22%2F%3E%3Cpath%20class%3D%22point%22%20transform%3D%22translate(667.24%2C210.88)%22%20style%3D%22opacity%3A%200.2%3B%20stroke-width%3A%200px%3B%20fill%3A%20rgb(78%2C%20121%2C%20167)%3B%20fill-opacity%3A%201%3B%22%20d%3D%22M3%2C0A3%2C3%200%201%2C1%200%2C-3A3%2C3%200%200%2C1%203%2C0Z%22%2F%3E%3Cpath%20class%3D%22point%22%20transform%3D%22translate(682.48%2C212.62)%22%20style%3D%22opacity%3A%200.2%3B%20stroke-width%3A%200px%3B%20fill%3A%20rgb(78%2C%20121%2C%20167)%3B%20fill-opacity%3A%201%3B%22%20d%3D%22M3%2C0A3%2C3%200%201%2C1%200%2C-3A3%2C3%200%200%2C1%203%2C0Z%22%2F%3E%3Cpath%20class%3D%22point%22%20transform%3D%22translate(697.23%2C212.62)%22%20style%3D%22opacity%3A%200.2%3B%20stroke-width%3A%200px%3B%20fill%3A%20rgb(78%2C%20121%2C%20167)%3B%20fill-opacity%3A%201%3B%22%20d%3D%22M3%2C0A3%2C3%200%201%2C1%200%2C-3A3%2C3%200%200%2C1%203%2C0Z%22%2F%3E%3Cpath%20class%3D%22point%22%20transform%3D%22translate(712.48%2C213.06)%22%20style%3D%22opacity%3A%200.2%3B%20stroke-width%3A%200px%3B%20fill%3A%20rgb(78%2C%20121%2C%20167)%3B%20fill-opacity%3A%201%3B%22%20d%3D%22M3%2C0A3%2C3%200%201%2C1%200%2C-3A3%2C3%200%200%2C1%203%2C0Z%22%2F%3E%3Cpath%20class%3D%22point%22%20transform%3D%22translate(727.72%2C214.29)%22%20style%3D%22opacity%3A%200.2%3B%20stroke-width%3A%200px%3B%20fill%3A%20rgb(78%2C%20121%2C%20167)%3B%20fill-opacity%3A%201%3B%22%20d%3D%22M3%2C0A3%2C3%200%201%2C1%200%2C-3A3%2C3%200%200%2C1%203%2C0Z%22%2F%3E%3Cpath%20class%3D%22point%22%20transform%3D%22translate(742.47%2C213)%22%20style%3D%22opacity%3A%200.2%3B%20stroke-width%3A%200px%3B%20fill%3A%20rgb(78%2C%20121%2C%20167)%3B%20fill-opacity%3A%201%3B%22%20d%3D%22M3%2C0A3%2C3%200%201%2C1%200%2C-3A3%2C3%200%200%2C1%203%2C0Z%22%2F%3E%3Cpath%20class%3D%22point%22%20transform%3D%22translate(757.72%2C212.72)%22%20style%3D%22opacity%3A%200.2%3B%20stroke-width%3A%200px%3B%20fill%3A%20rgb(78%2C%20121%2C%20167)%3B%20fill-opacity%3A%201%3B%22%20d%3D%22M3%2C0A3%2C3%200%201%2C1%200%2C-3A3%2C3%200%200%2C1%203%2C0Z%22%2F%3E%3Cpath%20class%3D%22point%22%20transform%3D%22translate(772.47%2C213.76)%22%20style%3D%22opacity%3A%200.2%3B%20stroke-width%3A%200px%3B%20fill%3A%20rgb(78%2C%20121%2C%20167)%3B%20fill-opacity%3A%201%3B%22%20d%3D%22M3%2C0A3%2C3%200%201%2C1%200%2C-3A3%2C3%200%200%2C1%203%2C0Z%22%2F%3E%3Cpath%20class%3D%22point%22%20transform%3D%22translate(787.71%2C213.28)%22%20style%3D%22opacity%3A%200.2%3B%20stroke-width%3A%200px%3B%20fill%3A%20rgb(78%2C%20121%2C%20167)%3B%20fill-opacity%3A%201%3B%22%20d%3D%22M3%2C0A3%2C3%200%201%2C1%200%2C-3A3%2C3%200%200%2C1%203%2C0Z%22%2F%3E%3Cpath%20class%3D%22point%22%20transform%3D%22translate(802.96%2C214.81)%22%20style%3D%22opacity%3A%200.2%3B%20stroke-width%3A%200px%3B%20fill%3A%20rgb(78%2C%20121%2C%20167)%3B%20fill-opacity%3A%201%3B%22%20d%3D%22M3%2C0A3%2C3%200%201%2C1%200%2C-3A3%2C3%200%200%2C1%203%2C0Z%22%2F%3E%3Cpath%20class%3D%22point%22%20transform%3D%22translate(816.72%2C215.53)%22%20style%3D%22opacity%3A%200.2%3B%20stroke-width%3A%200px%3B%20fill%3A%20rgb(78%2C%20121%2C%20167)%3B%20fill-opacity%3A%201%3B%22%20d%3D%22M3%2C0A3%2C3%200%201%2C1%200%2C-3A3%2C3%200%200%2C1%203%2C0Z%22%2F%3E%3Cpath%20class%3D%22point%22%20transform%3D%22translate(831.97%2C215.78)%22%20style%3D%22opacity%3A%200.2%3B%20stroke-width%3A%200px%3B%20fill%3A%20rgb(78%2C%20121%2C%20167)%3B%20fill-opacity%3A%201%3B%22%20d%3D%22M3%2C0A3%2C3%200%201%2C1%200%2C-3A3%2C3%200%200%2C1%203%2C0Z%22%2F%3E%3Cpath%20class%3D%22point%22%20transform%3D%22translate(846.72%2C216.61)%22%20style%3D%22opacity%3A%200.2%3B%20stroke-width%3A%200px%3B%20fill%3A%20rgb(78%2C%20121%2C%20167)%3B%20fill-opacity%3A%201%3B%22%20d%3D%22M3%2C0A3%2C3%200%201%2C1%200%2C-3A3%2C3%200%200%2C1%203%2C0Z%22%2F%3E%3Cpath%20class%3D%22point%22%20transform%3D%22translate(861.96%2C216.79)%22%20style%3D%22opacity%3A%200.2%3B%20stroke-width%3A%200px%3B%20fill%3A%20rgb(78%2C%20121%2C%20167)%3B%20fill-opacity%3A%201%3B%22%20d%3D%22M3%2C0A3%2C3%200%201%2C1%200%2C-3A3%2C3%200%200%2C1%203%2C0Z%22%2F%3E%3Cpath%20class%3D%22point%22%20transform%3D%22translate(876.72%2C217.56)%22%20style%3D%22opacity%3A%200.2%3B%20stroke-width%3A%200px%3B%20fill%3A%20rgb(78%2C%20121%2C%20167)%3B%20fill-opacity%3A%201%3B%22%20d%3D%22M3%2C0A3%2C3%200%201%2C1%200%2C-3A3%2C3%200%200%2C1%203%2C0Z%22%2F%3E%3Cpath%20class%3D%22point%22%20transform%3D%22translate(891.96%2C217.08)%22%20style%3D%22opacity%3A%200.2%3B%20stroke-width%3A%200px%3B%20fill%3A%20rgb(78%2C%20121%2C%20167)%3B%20fill-opacity%3A%201%3B%22%20d%3D%22M3%2C0A3%2C3%200%201%2C1%200%2C-3A3%2C3%200%200%2C1%203%2C0Z%22%2F%3E%3Cpath%20class%3D%22point%22%20transform%3D%22translate(907.2%2C217.19)%22%20style%3D%22opacity%3A%200.2%3B%20stroke-width%3A%200px%3B%20fill%3A%20rgb(78%2C%20121%2C%20167)%3B%20fill-opacity%3A%201%3B%22%20d%3D%22M3%2C0A3%2C3%200%201%2C1%200%2C-3A3%2C3%200%200%2C1%203%2C0Z%22%2F%3E%3Cpath%20class%3D%22point%22%20transform%3D%22translate(921.95%2C217.44)%22%20style%3D%22opacity%3A%200.2%3B%20stroke-width%3A%200px%3B%20fill%3A%20rgb(78%2C%20121%2C%20167)%3B%20fill-opacity%3A%201%3B%22%20d%3D%22M3%2C0A3%2C3%200%201%2C1%200%2C-3A3%2C3%200%200%2C1%203%2C0Z%22%2F%3E%3Cpath%20class%3D%22point%22%20transform%3D%22translate(937.2%2C217.83)%22%20style%3D%22opacity%3A%200.2%3B%20stroke-width%3A%200px%3B%20fill%3A%20rgb(78%2C%20121%2C%20167)%3B%20fill-opacity%3A%201%3B%22%20d%3D%22M3%2C0A3%2C3%200%201%2C1%200%2C-3A3%2C3%200%200%2C1%203%2C0Z%22%2F%3E%3Cpath%20class%3D%22point%22%20transform%3D%22translate(951.95%2C217.87)%22%20style%3D%22opacity%3A%200.2%3B%20stroke-width%3A%200px%3B%20fill%3A%20rgb(78%2C%20121%2C%20167)%3B%20fill-opacity%3A%201%3B%22%20d%3D%22M3%2C0A3%2C3%200%201%2C1%200%2C-3A3%2C3%200%200%2C1%203%2C0Z%22%2F%3E%3C%2Fg%3E%3Cg%20class%3D%22text%22%2F%3E%3C%2Fg%3E%3Cg%20class%3D%22trace%20scatter%20tracea089250%22%20style%3D%22stroke-miterlimit%3A%202%3B%20opacity%3A%201%3B%22%3E%3Cg%20class%3D%22fills%22%2F%3E%3Cg%20class%3D%22errorbars%22%2F%3E%3Cg%20class%3D%22lines%22%3E%3Cpath%20class%3D%22js-line%22%20style%3D%22vector-effect%3A%20non-scaling-stroke%3B%20fill%3A%20none%3B%20stroke%3A%20rgb(242%2C%20142%2C%2044)%3B%20stroke-opacity%3A%201%3B%20stroke-width%3A%202px%3B%20opacity%3A%201%3B%22%20d%3D%22M54.05%2C188.27L69.29%2C184.42L84.54%2C181.38L113.55%2C181.43L128.3%2C175.42L143.54%2C173.33L158.3%2C173.71L188.78%2C173.56L203.54%2C169.75L218.78%2C169.37L233.53%2C167.59L248.78%2C167.17L264.02%2C168.04L278.28%2C164.16L293.52%2C167.35L308.27%2C163.85L323.52%2C165.47L338.27%2C163.17L353.51%2C162.98L398.75%2C161.4L413.51%2C166.19L443.99%2C166.19L457.76%2C166.75L487.76%2C166.61L503%2C167.81L517.75%2C173.54L533%2C173.37L548.24%2C172.14L562.99%2C169.67L578.23%2C168.32L592.99%2C168.09L608.23%2C168.22L623.47%2C169.15L652.49%2C169.6L667.24%2C174.44L682.48%2C176.94L697.23%2C177.1L727.72%2C177.71L742.47%2C177.1L757.72%2C180.82L772.47%2C182.39L787.71%2C181.67L802.96%2C184.52L816.72%2C185.87L831.97%2C186.19L861.96%2C186.61L876.72%2C187.03L921.95%2C187.27L937.2%2C186.64L951.95%2C187.54%22%2F%3E%3C%2Fg%3E%3Cg%20class%3D%22points%22%3E%3Cpath%20class%3D%22point%22%20transform%3D%22translate(54.05%2C188.27)%22%20style%3D%22opacity%3A%200.2%3B%20stroke-width%3A%200px%3B%20fill%3A%20rgb(242%2C%20142%2C%2044)%3B%20fill-opacity%3A%201%3B%22%20d%3D%22M3%2C0A3%2C3%200%201%2C1%200%2C-3A3%2C3%200%200%2C1%203%2C0Z%22%2F%3E%3Cpath%20class%3D%22point%22%20transform%3D%22translate(69.29%2C184.42)%22%20style%3D%22opacity%3A%200.2%3B%20stroke-width%3A%200px%3B%20fill%3A%20rgb(242%2C%20142%2C%2044)%3B%20fill-opacity%3A%201%3B%22%20d%3D%22M3%2C0A3%2C3%200%201%2C1%200%2C-3A3%2C3%200%200%2C1%203%2C0Z%22%2F%3E%3Cpath%20class%3D%22point%22%20transform%3D%22translate(84.54%2C181.38)%22%20style%3D%22opacity%3A%200.2%3B%20stroke-width%3A%200px%3B%20fill%3A%20rgb(242%2C%20142%2C%2044)%3B%20fill-opacity%3A%201%3B%22%20d%3D%22M3%2C0A3%2C3%200%201%2C1%200%2C-3A3%2C3%200%200%2C1%203%2C0Z%22%2F%3E%3Cpath%20class%3D%22point%22%20transform%3D%22translate(98.31%2C181.16)%22%20style%3D%22opacity%3A%200.2%3B%20stroke-width%3A%200px%3B%20fill%3A%20rgb(242%2C%20142%2C%2044)%3B%20fill-opacity%3A%201%3B%22%20d%3D%22M3%2C0A3%2C3%200%201%2C1%200%2C-3A3%2C3%200%200%2C1%203%2C0Z%22%2F%3E%3Cpath%20class%3D%22point%22%20transform%3D%22translate(113.55%2C181.43)%22%20style%3D%22opacity%3A%200.2%3B%20stroke-width%3A%200px%3B%20fill%3A%20rgb(242%2C%20142%2C%2044)%3B%20fill-opacity%3A%201%3B%22%20d%3D%22M3%2C0A3%2C3%200%201%2C1%200%2C-3A3%2C3%200%200%2C1%203%2C0Z%22%2F%3E%3Cpath%20class%3D%22point%22%20transform%3D%22translate(128.3%2C175.42)%22%20style%3D%22opacity%3A%200.2%3B%20stroke-width%3A%200px%3B%20fill%3A%20rgb(242%2C%20142%2C%2044)%3B%20fill-opacity%3A%201%3B%22%20d%3D%22M3%2C0A3%2C3%200%201%2C1%200%2C-3A3%2C3%200%200%2C1%203%2C0Z%22%2F%3E%3Cpath%20class%3D%22point%22%20transform%3D%22translate(143.54%2C173.33)%22%20style%3D%22opacity%3A%200.2%3B%20stroke-width%3A%200px%3B%20fill%3A%20rgb(242%2C%20142%2C%2044)%3B%20fill-opacity%3A%201%3B%22%20d%3D%22M3%2C0A3%2C3%200%201%2C1%200%2C-3A3%2C3%200%200%2C1%203%2C0Z%22%2F%3E%3Cpath%20class%3D%22point%22%20transform%3D%22translate(158.3%2C173.71)%22%20style%3D%22opacity%3A%200.2%3B%20stroke-width%3A%200px%3B%20fill%3A%20rgb(242%2C%20142%2C%2044)%3B%20fill-opacity%3A%201%3B%22%20d%3D%22M3%2C0A3%2C3%200%201%2C1%200%2C-3A3%2C3%200%200%2C1%203%2C0Z%22%2F%3E%3Cpath%20class%3D%22point%22%20transform%3D%22translate(173.54%2C173.47)%22%20style%3D%22opacity%3A%200.2%3B%20stroke-width%3A%200px%3B%20fill%3A%20rgb(242%2C%20142%2C%2044)%3B%20fill-opacity%3A%201%3B%22%20d%3D%22M3%2C0A3%2C3%200%201%2C1%200%2C-3A3%2C3%200%200%2C1%203%2C0Z%22%2F%3E%3Cpath%20class%3D%22point%22%20transform%3D%22translate(188.78%2C173.56)%22%20style%3D%22opacity%3A%200.2%3B%20stroke-width%3A%200px%3B%20fill%3A%20rgb(242%2C%20142%2C%2044)%3B%20fill-opacity%3A%201%3B%22%20d%3D%22M3%2C0A3%2C3%200%201%2C1%200%2C-3A3%2C3%200%200%2C1%203%2C0Z%22%2F%3E%3Cpath%20class%3D%22point%22%20transform%3D%22translate(203.54%2C169.75)%22%20style%3D%22opacity%3A%200.2%3B%20stroke-width%3A%200px%3B%20fill%3A%20rgb(242%2C%20142%2C%2044)%3B%20fill-opacity%3A%201%3B%22%20d%3D%22M3%2C0A3%2C3%200%201%2C1%200%2C-3A3%2C3%200%200%2C1%203%2C0Z%22%2F%3E%3Cpath%20class%3D%22point%22%20transform%3D%22translate(218.78%2C169.37)%22%20style%3D%22opacity%3A%200.2%3B%20stroke-width%3A%200px%3B%20fill%3A%20rgb(242%2C%20142%2C%2044)%3B%20fill-opacity%3A%201%3B%22%20d%3D%22M3%2C0A3%2C3%200%201%2C1%200%2C-3A3%2C3%200%200%2C1%203%2C0Z%22%2F%3E%3Cpath%20class%3D%22point%22%20transform%3D%22translate(233.53%2C167.59)%22%20style%3D%22opacity%3A%200.2%3B%20stroke-width%3A%200px%3B%20fill%3A%20rgb(242%2C%20142%2C%2044)%3B%20fill-opacity%3A%201%3B%22%20d%3D%22M3%2C0A3%2C3%200%201%2C1%200%2C-3A3%2C3%200%200%2C1%203%2C0Z%22%2F%3E%3Cpath%20class%3D%22point%22%20transform%3D%22translate(248.78%2C167.17)%22%20style%3D%22opacity%3A%200.2%3B%20stroke-width%3A%200px%3B%20fill%3A%20rgb(242%2C%20142%2C%2044)%3B%20fill-opacity%3A%201%3B%22%20d%3D%22M3%2C0A3%2C3%200%201%2C1%200%2C-3A3%2C3%200%200%2C1%203%2C0Z%22%2F%3E%3Cpath%20class%3D%22point%22%20transform%3D%22translate(264.02%2C168.04)%22%20style%3D%22opacity%3A%200.2%3B%20stroke-width%3A%200px%3B%20fill%3A%20rgb(242%2C%20142%2C%2044)%3B%20fill-opacity%3A%201%3B%22%20d%3D%22M3%2C0A3%2C3%200%201%2C1%200%2C-3A3%2C3%200%200%2C1%203%2C0Z%22%2F%3E%3Cpath%20class%3D%22point%22%20transform%3D%22translate(278.28%2C164.16)%22%20style%3D%22opacity%3A%200.2%3B%20stroke-width%3A%200px%3B%20fill%3A%20rgb(242%2C%20142%2C%2044)%3B%20fill-opacity%3A%201%3B%22%20d%3D%22M3%2C0A3%2C3%200%201%2C1%200%2C-3A3%2C3%200%200%2C1%203%2C0Z%22%2F%3E%3Cpath%20class%3D%22point%22%20transform%3D%22translate(293.52%2C167.35)%22%20style%3D%22opacity%3A%200.2%3B%20stroke-width%3A%200px%3B%20fill%3A%20rgb(242%2C%20142%2C%2044)%3B%20fill-opacity%3A%201%3B%22%20d%3D%22M3%2C0A3%2C3%200%201%2C1%200%2C-3A3%2C3%200%200%2C1%203%2C0Z%22%2F%3E%3Cpath%20class%3D%22point%22%20transform%3D%22translate(308.27%2C163.85)%22%20style%3D%22opacity%3A%200.2%3B%20stroke-width%3A%200px%3B%20fill%3A%20rgb(242%2C%20142%2C%2044)%3B%20fill-opacity%3A%201%3B%22%20d%3D%22M3%2C0A3%2C3%200%201%2C1%200%2C-3A3%2C3%200%200%2C1%203%2C0Z%22%2F%3E%3Cpath%20class%3D%22point%22%20transform%3D%22translate(323.52%2C165.47)%22%20style%3D%22opacity%3A%200.2%3B%20stroke-width%3A%200px%3B%20fill%3A%20rgb(242%2C%20142%2C%2044)%3B%20fill-opacity%3A%201%3B%22%20d%3D%22M3%2C0A3%2C3%200%201%2C1%200%2C-3A3%2C3%200%200%2C1%203%2C0Z%22%2F%3E%3Cpath%20class%3D%22point%22%20transform%3D%22translate(338.27%2C163.17)%22%20style%3D%22opacity%3A%200.2%3B%20stroke-width%3A%200px%3B%20fill%3A%20rgb(242%2C%20142%2C%2044)%3B%20fill-opacity%3A%201%3B%22%20d%3D%22M3%2C0A3%2C3%200%201%2C1%200%2C-3A3%2C3%200%200%2C1%203%2C0Z%22%2F%3E%3Cpath%20class%3D%22point%22%20transform%3D%22translate(353.51%2C162.98)%22%20style%3D%22opacity%3A%200.2%3B%20stroke-width%3A%200px%3B%20fill%3A%20rgb(242%2C%20142%2C%2044)%3B%20fill-opacity%3A%201%3B%22%20d%3D%22M3%2C0A3%2C3%200%201%2C1%200%2C-3A3%2C3%200%200%2C1%203%2C0Z%22%2F%3E%3Cpath%20class%3D%22point%22%20transform%3D%22translate(368.76%2C162.63)%22%20style%3D%22opacity%3A%200.2%3B%20stroke-width%3A%200px%3B%20fill%3A%20rgb(242%2C%20142%2C%2044)%3B%20fill-opacity%3A%201%3B%22%20d%3D%22M3%2C0A3%2C3%200%201%2C1%200%2C-3A3%2C3%200%200%2C1%203%2C0Z%22%2F%3E%3Cpath%20class%3D%22point%22%20transform%3D%22translate(383.51%2C162.48)%22%20style%3D%22opacity%3A%200.2%3B%20stroke-width%3A%200px%3B%20fill%3A%20rgb(242%2C%20142%2C%2044)%3B%20fill-opacity%3A%201%3B%22%20d%3D%22M3%2C0A3%2C3%200%201%2C1%200%2C-3A3%2C3%200%200%2C1%203%2C0Z%22%2F%3E%3Cpath%20class%3D%22point%22%20transform%3D%22translate(398.75%2C161.4)%22%20style%3D%22opacity%3A%200.2%3B%20stroke-width%3A%200px%3B%20fill%3A%20rgb(242%2C%20142%2C%2044)%3B%20fill-opacity%3A%201%3B%22%20d%3D%22M3%2C0A3%2C3%200%201%2C1%200%2C-3A3%2C3%200%200%2C1%203%2C0Z%22%2F%3E%3Cpath%20class%3D%22point%22%20transform%3D%22translate(413.51%2C166.19)%22%20style%3D%22opacity%3A%200.2%3B%20stroke-width%3A%200px%3B%20fill%3A%20rgb(242%2C%20142%2C%2044)%3B%20fill-opacity%3A%201%3B%22%20d%3D%22M3%2C0A3%2C3%200%201%2C1%200%2C-3A3%2C3%200%200%2C1%203%2C0Z%22%2F%3E%3Cpath%20class%3D%22point%22%20transform%3D%22translate(428.75%2C165.92)%22%20style%3D%22opacity%3A%200.2%3B%20stroke-width%3A%200px%3B%20fill%3A%20rgb(242%2C%20142%2C%2044)%3B%20fill-opacity%3A%201%3B%22%20d%3D%22M3%2C0A3%2C3%200%201%2C1%200%2C-3A3%2C3%200%200%2C1%203%2C0Z%22%2F%3E%3Cpath%20class%3D%22point%22%20transform%3D%22translate(443.99%2C166.19)%22%20style%3D%22opacity%3A%200.2%3B%20stroke-width%3A%200px%3B%20fill%3A%20rgb(242%2C%20142%2C%2044)%3B%20fill-opacity%3A%201%3B%22%20d%3D%22M3%2C0A3%2C3%200%201%2C1%200%2C-3A3%2C3%200%200%2C1%203%2C0Z%22%2F%3E%3Cpath%20class%3D%22point%22%20transform%3D%22translate(457.76%2C166.75)%22%20style%3D%22opacity%3A%200.2%3B%20stroke-width%3A%200px%3B%20fill%3A%20rgb(242%2C%20142%2C%2044)%3B%20fill-opacity%3A%201%3B%22%20d%3D%22M3%2C0A3%2C3%200%201%2C1%200%2C-3A3%2C3%200%200%2C1%203%2C0Z%22%2F%3E%3Cpath%20class%3D%22point%22%20transform%3D%22translate(473%2C166.7)%22%20style%3D%22opacity%3A%200.2%3B%20stroke-width%3A%200px%3B%20fill%3A%20rgb(242%2C%20142%2C%2044)%3B%20fill-opacity%3A%201%3B%22%20d%3D%22M3%2C0A3%2C3%200%201%2C1%200%2C-3A3%2C3%200%200%2C1%203%2C0Z%22%2F%3E%3Cpath%20class%3D%22point%22%20transform%3D%22translate(487.76%2C166.61)%22%20style%3D%22opacity%3A%200.2%3B%20stroke-width%3A%200px%3B%20fill%3A%20rgb(242%2C%20142%2C%2044)%3B%20fill-opacity%3A%201%3B%22%20d%3D%22M3%2C0A3%2C3%200%201%2C1%200%2C-3A3%2C3%200%200%2C1%203%2C0Z%22%2F%3E%3Cpath%20class%3D%22point%22%20transform%3D%22translate(503%2C167.81)%22%20style%3D%22opacity%3A%200.2%3B%20stroke-width%3A%200px%3B%20fill%3A%20rgb(242%2C%20142%2C%2044)%3B%20fill-opacity%3A%201%3B%22%20d%3D%22M3%2C0A3%2C3%200%201%2C1%200%2C-3A3%2C3%200%200%2C1%203%2C0Z%22%2F%3E%3Cpath%20class%3D%22point%22%20transform%3D%22translate(517.75%2C173.54)%22%20style%3D%22opacity%3A%201%3B%20stroke-width%3A%200px%3B%20fill%3A%20rgb(242%2C%20142%2C%2044)%3B%20fill-opacity%3A%201%3B%22%20d%3D%22M3%2C0A3%2C3%200%201%2C1%200%2C-3A3%2C3%200%200%2C1%203%2C0Z%22%2F%3E%3Cpath%20class%3D%22point%22%20transform%3D%22translate(533%2C173.37)%22%20style%3D%22opacity%3A%200.2%3B%20stroke-width%3A%200px%3B%20fill%3A%20rgb(242%2C%20142%2C%2044)%3B%20fill-opacity%3A%201%3B%22%20d%3D%22M3%2C0A3%2C3%200%201%2C1%200%2C-3A3%2C3%200%200%2C1%203%2C0Z%22%2F%3E%3Cpath%20class%3D%22point%22%20transform%3D%22translate(548.24%2C172.14)%22%20style%3D%22opacity%3A%200.2%3B%20stroke-width%3A%200px%3B%20fill%3A%20rgb(242%2C%20142%2C%2044)%3B%20fill-opacity%3A%201%3B%22%20d%3D%22M3%2C0A3%2C3%200%201%2C1%200%2C-3A3%2C3%200%200%2C1%203%2C0Z%22%2F%3E%3Cpath%20class%3D%22point%22%20transform%3D%22translate(562.99%2C169.67)%22%20style%3D%22opacity%3A%200.2%3B%20stroke-width%3A%200px%3B%20fill%3A%20rgb(242%2C%20142%2C%2044)%3B%20fill-opacity%3A%201%3B%22%20d%3D%22M3%2C0A3%2C3%200%201%2C1%200%2C-3A3%2C3%200%200%2C1%203%2C0Z%22%2F%3E%3Cpath%20class%3D%22point%22%20transform%3D%22translate(578.23%2C168.32)%22%20style%3D%22opacity%3A%200.2%3B%20stroke-width%3A%200px%3B%20fill%3A%20rgb(242%2C%20142%2C%2044)%3B%20fill-opacity%3A%201%3B%22%20d%3D%22M3%2C0A3%2C3%200%201%2C1%200%2C-3A3%2C3%200%200%2C1%203%2C0Z%22%2F%3E%3Cpath%20class%3D%22point%22%20transform%3D%22translate(592.99%2C168.09)%22%20style%3D%22opacity%3A%200.2%3B%20stroke-width%3A%200px%3B%20fill%3A%20rgb(242%2C%20142%2C%2044)%3B%20fill-opacity%3A%201%3B%22%20d%3D%22M3%2C0A3%2C3%200%201%2C1%200%2C-3A3%2C3%200%200%2C1%203%2C0Z%22%2F%3E%3Cpath%20class%3D%22point%22%20transform%3D%22translate(608.23%2C168.22)%22%20style%3D%22opacity%3A%200.2%3B%20stroke-width%3A%200px%3B%20fill%3A%20rgb(242%2C%20142%2C%2044)%3B%20fill-opacity%3A%201%3B%22%20d%3D%22M3%2C0A3%2C3%200%201%2C1%200%2C-3A3%2C3%200%200%2C1%203%2C0Z%22%2F%3E%3Cpath%20class%3D%22point%22%20transform%3D%22translate(623.47%2C169.15)%22%20style%3D%22opacity%3A%200.2%3B%20stroke-width%3A%200px%3B%20fill%3A%20rgb(242%2C%20142%2C%2044)%3B%20fill-opacity%3A%201%3B%22%20d%3D%22M3%2C0A3%2C3%200%201%2C1%200%2C-3A3%2C3%200%200%2C1%203%2C0Z%22%2F%3E%3Cpath%20class%3D%22point%22%20transform%3D%22translate(637.24%2C169.59)%22%20style%3D%22opacity%3A%200.2%3B%20stroke-width%3A%200px%3B%20fill%3A%20rgb(242%2C%20142%2C%2044)%3B%20fill-opacity%3A%201%3B%22%20d%3D%22M3%2C0A3%2C3%200%201%2C1%200%2C-3A3%2C3%200%200%2C1%203%2C0Z%22%2F%3E%3Cpath%20class%3D%22point%22%20transform%3D%22translate(652.49%2C169.6)%22%20style%3D%22opacity%3A%200.2%3B%20stroke-width%3A%200px%3B%20fill%3A%20rgb(242%2C%20142%2C%2044)%3B%20fill-opacity%3A%201%3B%22%20d%3D%22M3%2C0A3%2C3%200%201%2C1%200%2C-3A3%2C3%200%200%2C1%203%2C0Z%22%2F%3E%3Cpath%20class%3D%22point%22%20transform%3D%22translate(667.24%2C174.44)%22%20style%3D%22opacity%3A%200.2%3B%20stroke-width%3A%200px%3B%20fill%3A%20rgb(242%2C%20142%2C%2044)%3B%20fill-opacity%3A%201%3B%22%20d%3D%22M3%2C0A3%2C3%200%201%2C1%200%2C-3A3%2C3%200%200%2C1%203%2C0Z%22%2F%3E%3Cpath%20class%3D%22point%22%20transform%3D%22translate(682.48%2C176.94)%22%20style%3D%22opacity%3A%200.2%3B%20stroke-width%3A%200px%3B%20fill%3A%20rgb(242%2C%20142%2C%2044)%3B%20fill-opacity%3A%201%3B%22%20d%3D%22M3%2C0A3%2C3%200%201%2C1%200%2C-3A3%2C3%200%200%2C1%203%2C0Z%22%2F%3E%3Cpath%20class%3D%22point%22%20transform%3D%22translate(697.23%2C177.1)%22%20style%3D%22opacity%3A%200.2%3B%20stroke-width%3A%200px%3B%20fill%3A%20rgb(242%2C%20142%2C%2044)%3B%20fill-opacity%3A%201%3B%22%20d%3D%22M3%2C0A3%2C3%200%201%2C1%200%2C-3A3%2C3%200%200%2C1%203%2C0Z%22%2F%3E%3Cpath%20class%3D%22point%22%20transform%3D%22translate(712.48%2C177.74)%22%20style%3D%22opacity%3A%200.2%3B%20stroke-width%3A%200px%3B%20fill%3A%20rgb(242%2C%20142%2C%2044)%3B%20fill-opacity%3A%201%3B%22%20d%3D%22M3%2C0A3%2C3%200%201%2C1%200%2C-3A3%2C3%200%200%2C1%203%2C0Z%22%2F%3E%3Cpath%20class%3D%22point%22%20transform%3D%22translate(727.72%2C177.71)%22%20style%3D%22opacity%3A%200.2%3B%20stroke-width%3A%200px%3B%20fill%3A%20rgb(242%2C%20142%2C%2044)%3B%20fill-opacity%3A%201%3B%22%20d%3D%22M3%2C0A3%2C3%200%201%2C1%200%2C-3A3%2C3%200%200%2C1%203%2C0Z%22%2F%3E%3Cpath%20class%3D%22point%22%20transform%3D%22translate(742.47%2C177.1)%22%20style%3D%22opacity%3A%200.2%3B%20stroke-width%3A%200px%3B%20fill%3A%20rgb(242%2C%20142%2C%2044)%3B%20fill-opacity%3A%201%3B%22%20d%3D%22M3%2C0A3%2C3%200%201%2C1%200%2C-3A3%2C3%200%200%2C1%203%2C0Z%22%2F%3E%3Cpath%20class%3D%22point%22%20transform%3D%22translate(757.72%2C180.82)%22%20style%3D%22opacity%3A%200.2%3B%20stroke-width%3A%200px%3B%20fill%3A%20rgb(242%2C%20142%2C%2044)%3B%20fill-opacity%3A%201%3B%22%20d%3D%22M3%2C0A3%2C3%200%201%2C1%200%2C-3A3%2C3%200%200%2C1%203%2C0Z%22%2F%3E%3Cpath%20class%3D%22point%22%20transform%3D%22translate(772.47%2C182.39)%22%20style%3D%22opacity%3A%200.2%3B%20stroke-width%3A%200px%3B%20fill%3A%20rgb(242%2C%20142%2C%2044)%3B%20fill-opacity%3A%201%3B%22%20d%3D%22M3%2C0A3%2C3%200%201%2C1%200%2C-3A3%2C3%200%200%2C1%203%2C0Z%22%2F%3E%3Cpath%20class%3D%22point%22%20transform%3D%22translate(787.71%2C181.67)%22%20style%3D%22opacity%3A%200.2%3B%20stroke-width%3A%200px%3B%20fill%3A%20rgb(242%2C%20142%2C%2044)%3B%20fill-opacity%3A%201%3B%22%20d%3D%22M3%2C0A3%2C3%200%201%2C1%200%2C-3A3%2C3%200%200%2C1%203%2C0Z%22%2F%3E%3Cpath%20class%3D%22point%22%20transform%3D%22translate(802.96%2C184.52)%22%20style%3D%22opacity%3A%200.2%3B%20stroke-width%3A%200px%3B%20fill%3A%20rgb(242%2C%20142%2C%2044)%3B%20fill-opacity%3A%201%3B%22%20d%3D%22M3%2C0A3%2C3%200%201%2C1%200%2C-3A3%2C3%200%200%2C1%203%2C0Z%22%2F%3E%3Cpath%20class%3D%22point%22%20transform%3D%22translate(816.72%2C185.87)%22%20style%3D%22opacity%3A%200.2%3B%20stroke-width%3A%200px%3B%20fill%3A%20rgb(242%2C%20142%2C%2044)%3B%20fill-opacity%3A%201%3B%22%20d%3D%22M3%2C0A3%2C3%200%201%2C1%200%2C-3A3%2C3%200%200%2C1%203%2C0Z%22%2F%3E%3Cpath%20class%3D%22point%22%20transform%3D%22translate(831.97%2C186.19)%22%20style%3D%22opacity%3A%200.2%3B%20stroke-width%3A%200px%3B%20fill%3A%20rgb(242%2C%20142%2C%2044)%3B%20fill-opacity%3A%201%3B%22%20d%3D%22M3%2C0A3%2C3%200%201%2C1%200%2C-3A3%2C3%200%200%2C1%203%2C0Z%22%2F%3E%3Cpath%20class%3D%22point%22%20transform%3D%22translate(846.72%2C186.03)%22%20style%3D%22opacity%3A%200.2%3B%20stroke-width%3A%200px%3B%20fill%3A%20rgb(242%2C%20142%2C%2044)%3B%20fill-opacity%3A%201%3B%22%20d%3D%22M3%2C0A3%2C3%200%201%2C1%200%2C-3A3%2C3%200%200%2C1%203%2C0Z%22%2F%3E%3Cpath%20class%3D%22point%22%20transform%3D%22translate(861.96%2C186.61)%22%20style%3D%22opacity%3A%200.2%3B%20stroke-width%3A%200px%3B%20fill%3A%20rgb(242%2C%20142%2C%2044)%3B%20fill-opacity%3A%201%3B%22%20d%3D%22M3%2C0A3%2C3%200%201%2C1%200%2C-3A3%2C3%200%200%2C1%203%2C0Z%22%2F%3E%3Cpath%20class%3D%22point%22%20transform%3D%22translate(876.72%2C187.03)%22%20style%3D%22opacity%3A%200.2%3B%20stroke-width%3A%200px%3B%20fill%3A%20rgb(242%2C%20142%2C%2044)%3B%20fill-opacity%3A%201%3B%22%20d%3D%22M3%2C0A3%2C3%200%201%2C1%200%2C-3A3%2C3%200%200%2C1%203%2C0Z%22%2F%3E%3Cpath%20class%3D%22point%22%20transform%3D%22translate(891.96%2C187.36)%22%20style%3D%22opacity%3A%200.2%3B%20stroke-width%3A%200px%3B%20fill%3A%20rgb(242%2C%20142%2C%2044)%3B%20fill-opacity%3A%201%3B%22%20d%3D%22M3%2C0A3%2C3%200%201%2C1%200%2C-3A3%2C3%200%200%2C1%203%2C0Z%22%2F%3E%3Cpath%20class%3D%22point%22%20transform%3D%22translate(907.2%2C187.2)%22%20style%3D%22opacity%3A%200.2%3B%20stroke-width%3A%200px%3B%20fill%3A%20rgb(242%2C%20142%2C%2044)%3B%20fill-opacity%3A%201%3B%22%20d%3D%22M3%2C0A3%2C3%200%201%2C1%200%2C-3A3%2C3%200%200%2C1%203%2C0Z%22%2F%3E%3Cpath%20class%3D%22point%22%20transform%3D%22translate(921.95%2C187.27)%22%20style%3D%22opacity%3A%200.2%3B%20stroke-width%3A%200px%3B%20fill%3A%20rgb(242%2C%20142%2C%2044)%3B%20fill-opacity%3A%201%3B%22%20d%3D%22M3%2C0A3%2C3%200%201%2C1%200%2C-3A3%2C3%200%200%2C1%203%2C0Z%22%2F%3E%3Cpath%20class%3D%22point%22%20transform%3D%22translate(937.2%2C186.64)%22%20style%3D%22opacity%3A%200.2%3B%20stroke-width%3A%200px%3B%20fill%3A%20rgb(242%2C%20142%2C%2044)%3B%20fill-opacity%3A%201%3B%22%20d%3D%22M3%2C0A3%2C3%200%201%2C1%200%2C-3A3%2C3%200%200%2C1%203%2C0Z%22%2F%3E%3Cpath%20class%3D%22point%22%20transform%3D%22translate(951.95%2C187.54)%22%20style%3D%22opacity%3A%200.2%3B%20stroke-width%3A%200px%3B%20fill%3A%20rgb(242%2C%20142%2C%2044)%3B%20fill-opacity%3A%201%3B%22%20d%3D%22M3%2C0A3%2C3%200%201%2C1%200%2C-3A3%2C3%200%200%2C1%203%2C0Z%22%2F%3E%3C%2Fg%3E%3Cg%20class%3D%22text%22%2F%3E%3C%2Fg%3E%3Cg%20class%3D%22trace%20scatter%20trace48a6000%22%20style%3D%22stroke-miterlimit%3A%202%3B%20opacity%3A%201%3B%22%3E%3Cg%20class%3D%22fills%22%2F%3E%3Cg%20class%3D%22errorbars%22%2F%3E%3Cg%20class%3D%22lines%22%3E%3Cpath%20class%3D%22js-line%22%20style%3D%22vector-effect%3A%20non-scaling-stroke%3B%20fill%3A%20none%3B%20stroke%3A%20rgb(225%2C%2087%2C%2089)%3B%20stroke-opacity%3A%201%3B%20stroke-width%3A%202px%3B%20opacity%3A%201%3B%22%20d%3D%22M54.05%2C157.59L69.29%2C156.63L84.54%2C153.86L98.31%2C153.73L113.55%2C154.97L128.3%2C149.5L143.54%2C149.79L173.54%2C148.75L188.78%2C147.01L203.54%2C143.34L218.78%2C142.95L233.53%2C142.54L248.78%2C144.59L264.02%2C143.33L278.28%2C138.79L293.52%2C138.17L308.27%2C140.59L323.52%2C139.05L338.27%2C133.3L353.51%2C131.88L368.76%2C132.26L383.51%2C130.21L398.75%2C132.36L413.51%2C130.61L428.75%2C130.39L503%2C130.22L517.75%2C135.69L533%2C136.07L548.24%2C134.26L562.99%2C131.43L578.23%2C132.57L592.99%2C136.56L608.23%2C137.8L637.24%2C141.17L652.49%2C141.04L667.24%2C145.86L682.48%2C148.31L727.72%2C148.38L742.47%2C148.68L757.72%2C151.65L772.47%2C152.05L787.71%2C151.81L802.96%2C153.7L816.72%2C154.43L831.97%2C154.18L876.72%2C154.4L891.96%2C154.59L921.95%2C154.49L937.2%2C156.37L951.95%2C156.34%22%2F%3E%3C%2Fg%3E%3Cg%20class%3D%22points%22%3E%3Cpath%20class%3D%22point%22%20transform%3D%22translate(54.05%2C157.59)%22%20style%3D%22opacity%3A%200.2%3B%20stroke-width%3A%200px%3B%20fill%3A%20rgb(225%2C%2087%2C%2089)%3B%20fill-opacity%3A%201%3B%22%20d%3D%22M3%2C0A3%2C3%200%201%2C1%200%2C-3A3%2C3%200%200%2C1%203%2C0Z%22%2F%3E%3Cpath%20class%3D%22point%22%20transform%3D%22translate(69.29%2C156.63)%22%20style%3D%22opacity%3A%200.2%3B%20stroke-width%3A%200px%3B%20fill%3A%20rgb(225%2C%2087%2C%2089)%3B%20fill-opacity%3A%201%3B%22%20d%3D%22M3%2C0A3%2C3%200%201%2C1%200%2C-3A3%2C3%200%200%2C1%203%2C0Z%22%2F%3E%3Cpath%20class%3D%22point%22%20transform%3D%22translate(84.54%2C153.86)%22%20style%3D%22opacity%3A%200.2%3B%20stroke-width%3A%200px%3B%20fill%3A%20rgb(225%2C%2087%2C%2089)%3B%20fill-opacity%3A%201%3B%22%20d%3D%22M3%2C0A3%2C3%200%201%2C1%200%2C-3A3%2C3%200%200%2C1%203%2C0Z%22%2F%3E%3Cpath%20class%3D%22point%22%20transform%3D%22translate(98.31%2C153.73)%22%20style%3D%22opacity%3A%200.2%3B%20stroke-width%3A%200px%3B%20fill%3A%20rgb(225%2C%2087%2C%2089)%3B%20fill-opacity%3A%201%3B%22%20d%3D%22M3%2C0A3%2C3%200%201%2C1%200%2C-3A3%2C3%200%200%2C1%203%2C0Z%22%2F%3E%3Cpath%20class%3D%22point%22%20transform%3D%22translate(113.55%2C154.97)%22%20style%3D%22opacity%3A%200.2%3B%20stroke-width%3A%200px%3B%20fill%3A%20rgb(225%2C%2087%2C%2089)%3B%20fill-opacity%3A%201%3B%22%20d%3D%22M3%2C0A3%2C3%200%201%2C1%200%2C-3A3%2C3%200%200%2C1%203%2C0Z%22%2F%3E%3Cpath%20class%3D%22point%22%20transform%3D%22translate(128.3%2C149.5)%22%20style%3D%22opacity%3A%200.2%3B%20stroke-width%3A%200px%3B%20fill%3A%20rgb(225%2C%2087%2C%2089)%3B%20fill-opacity%3A%201%3B%22%20d%3D%22M3%2C0A3%2C3%200%201%2C1%200%2C-3A3%2C3%200%200%2C1%203%2C0Z%22%2F%3E%3Cpath%20class%3D%22point%22%20transform%3D%22translate(143.54%2C149.79)%22%20style%3D%22opacity%3A%200.2%3B%20stroke-width%3A%200px%3B%20fill%3A%20rgb(225%2C%2087%2C%2089)%3B%20fill-opacity%3A%201%3B%22%20d%3D%22M3%2C0A3%2C3%200%201%2C1%200%2C-3A3%2C3%200%200%2C1%203%2C0Z%22%2F%3E%3Cpath%20class%3D%22point%22%20transform%3D%22translate(158.3%2C149.23)%22%20style%3D%22opacity%3A%200.2%3B%20stroke-width%3A%200px%3B%20fill%3A%20rgb(225%2C%2087%2C%2089)%3B%20fill-opacity%3A%201%3B%22%20d%3D%22M3%2C0A3%2C3%200%201%2C1%200%2C-3A3%2C3%200%200%2C1%203%2C0Z%22%2F%3E%3Cpath%20class%3D%22point%22%20transform%3D%22translate(173.54%2C148.75)%22%20style%3D%22opacity%3A%200.2%3B%20stroke-width%3A%200px%3B%20fill%3A%20rgb(225%2C%2087%2C%2089)%3B%20fill-opacity%3A%201%3B%22%20d%3D%22M3%2C0A3%2C3%200%201%2C1%200%2C-3A3%2C3%200%200%2C1%203%2C0Z%22%2F%3E%3Cpath%20class%3D%22point%22%20transform%3D%22translate(188.78%2C147.01)%22%20style%3D%22opacity%3A%200.2%3B%20stroke-width%3A%200px%3B%20fill%3A%20rgb(225%2C%2087%2C%2089)%3B%20fill-opacity%3A%201%3B%22%20d%3D%22M3%2C0A3%2C3%200%201%2C1%200%2C-3A3%2C3%200%200%2C1%203%2C0Z%22%2F%3E%3Cpath%20class%3D%22point%22%20transform%3D%22translate(203.54%2C143.34)%22%20style%3D%22opacity%3A%200.2%3B%20stroke-width%3A%200px%3B%20fill%3A%20rgb(225%2C%2087%2C%2089)%3B%20fill-opacity%3A%201%3B%22%20d%3D%22M3%2C0A3%2C3%200%201%2C1%200%2C-3A3%2C3%200%200%2C1%203%2C0Z%22%2F%3E%3Cpath%20class%3D%22point%22%20transform%3D%22translate(218.78%2C142.95)%22%20style%3D%22opacity%3A%200.2%3B%20stroke-width%3A%200px%3B%20fill%3A%20rgb(225%2C%2087%2C%2089)%3B%20fill-opacity%3A%201%3B%22%20d%3D%22M3%2C0A3%2C3%200%201%2C1%200%2C-3A3%2C3%200%200%2C1%203%2C0Z%22%2F%3E%3Cpath%20class%3D%22point%22%20transform%3D%22translate(233.53%2C142.54)%22%20style%3D%22opacity%3A%200.2%3B%20stroke-width%3A%200px%3B%20fill%3A%20rgb(225%2C%2087%2C%2089)%3B%20fill-opacity%3A%201%3B%22%20d%3D%22M3%2C0A3%2C3%200%201%2C1%200%2C-3A3%2C3%200%200%2C1%203%2C0Z%22%2F%3E%3Cpath%20class%3D%22point%22%20transform%3D%22translate(248.78%2C144.59)%22%20style%3D%22opacity%3A%200.2%3B%20stroke-width%3A%200px%3B%20fill%3A%20rgb(225%2C%2087%2C%2089)%3B%20fill-opacity%3A%201%3B%22%20d%3D%22M3%2C0A3%2C3%200%201%2C1%200%2C-3A3%2C3%200%200%2C1%203%2C0Z%22%2F%3E%3Cpath%20class%3D%22point%22%20transform%3D%22translate(264.02%2C143.33)%22%20style%3D%22opacity%3A%200.2%3B%20stroke-width%3A%200px%3B%20fill%3A%20rgb(225%2C%2087%2C%2089)%3B%20fill-opacity%3A%201%3B%22%20d%3D%22M3%2C0A3%2C3%200%201%2C1%200%2C-3A3%2C3%200%200%2C1%203%2C0Z%22%2F%3E%3Cpath%20class%3D%22point%22%20transform%3D%22translate(278.28%2C138.79)%22%20style%3D%22opacity%3A%200.2%3B%20stroke-width%3A%200px%3B%20fill%3A%20rgb(225%2C%2087%2C%2089)%3B%20fill-opacity%3A%201%3B%22%20d%3D%22M3%2C0A3%2C3%200%201%2C1%200%2C-3A3%2C3%200%200%2C1%203%2C0Z%22%2F%3E%3Cpath%20class%3D%22point%22%20transform%3D%22translate(293.52%2C138.17)%22%20style%3D%22opacity%3A%200.2%3B%20stroke-width%3A%200px%3B%20fill%3A%20rgb(225%2C%2087%2C%2089)%3B%20fill-opacity%3A%201%3B%22%20d%3D%22M3%2C0A3%2C3%200%201%2C1%200%2C-3A3%2C3%200%200%2C1%203%2C0Z%22%2F%3E%3Cpath%20class%3D%22point%22%20transform%3D%22translate(308.27%2C140.59)%22%20style%3D%22opacity%3A%200.2%3B%20stroke-width%3A%200px%3B%20fill%3A%20rgb(225%2C%2087%2C%2089)%3B%20fill-opacity%3A%201%3B%22%20d%3D%22M3%2C0A3%2C3%200%201%2C1%200%2C-3A3%2C3%200%200%2C1%203%2C0Z%22%2F%3E%3Cpath%20class%3D%22point%22%20transform%3D%22translate(323.52%2C139.05)%22%20style%3D%22opacity%3A%200.2%3B%20stroke-width%3A%200px%3B%20fill%3A%20rgb(225%2C%2087%2C%2089)%3B%20fill-opacity%3A%201%3B%22%20d%3D%22M3%2C0A3%2C3%200%201%2C1%200%2C-3A3%2C3%200%200%2C1%203%2C0Z%22%2F%3E%3Cpath%20class%3D%22point%22%20transform%3D%22translate(338.27%2C133.3)%22%20style%3D%22opacity%3A%200.2%3B%20stroke-width%3A%200px%3B%20fill%3A%20rgb(225%2C%2087%2C%2089)%3B%20fill-opacity%3A%201%3B%22%20d%3D%22M3%2C0A3%2C3%200%201%2C1%200%2C-3A3%2C3%200%200%2C1%203%2C0Z%22%2F%3E%3Cpath%20class%3D%22point%22%20transform%3D%22translate(353.51%2C131.88)%22%20style%3D%22opacity%3A%200.2%3B%20stroke-width%3A%200px%3B%20fill%3A%20rgb(225%2C%2087%2C%2089)%3B%20fill-opacity%3A%201%3B%22%20d%3D%22M3%2C0A3%2C3%200%201%2C1%200%2C-3A3%2C3%200%200%2C1%203%2C0Z%22%2F%3E%3Cpath%20class%3D%22point%22%20transform%3D%22translate(368.76%2C132.26)%22%20style%3D%22opacity%3A%200.2%3B%20stroke-width%3A%200px%3B%20fill%3A%20rgb(225%2C%2087%2C%2089)%3B%20fill-opacity%3A%201%3B%22%20d%3D%22M3%2C0A3%2C3%200%201%2C1%200%2C-3A3%2C3%200%200%2C1%203%2C0Z%22%2F%3E%3Cpath%20class%3D%22point%22%20transform%3D%22translate(383.51%2C130.21)%22%20style%3D%22opacity%3A%200.2%3B%20stroke-width%3A%200px%3B%20fill%3A%20rgb(225%2C%2087%2C%2089)%3B%20fill-opacity%3A%201%3B%22%20d%3D%22M3%2C0A3%2C3%200%201%2C1%200%2C-3A3%2C3%200%200%2C1%203%2C0Z%22%2F%3E%3Cpath%20class%3D%22point%22%20transform%3D%22translate(398.75%2C132.36)%22%20style%3D%22opacity%3A%200.2%3B%20stroke-width%3A%200px%3B%20fill%3A%20rgb(225%2C%2087%2C%2089)%3B%20fill-opacity%3A%201%3B%22%20d%3D%22M3%2C0A3%2C3%200%201%2C1%200%2C-3A3%2C3%200%200%2C1%203%2C0Z%22%2F%3E%3Cpath%20class%3D%22point%22%20transform%3D%22translate(413.51%2C130.61)%22%20style%3D%22opacity%3A%200.2%3B%20stroke-width%3A%200px%3B%20fill%3A%20rgb(225%2C%2087%2C%2089)%3B%20fill-opacity%3A%201%3B%22%20d%3D%22M3%2C0A3%2C3%200%201%2C1%200%2C-3A3%2C3%200%200%2C1%203%2C0Z%22%2F%3E%3Cpath%20class%3D%22point%22%20transform%3D%22translate(428.75%2C130.39)%22%20style%3D%22opacity%3A%200.2%3B%20stroke-width%3A%200px%3B%20fill%3A%20rgb(225%2C%2087%2C%2089)%3B%20fill-opacity%3A%201%3B%22%20d%3D%22M3%2C0A3%2C3%200%201%2C1%200%2C-3A3%2C3%200%200%2C1%203%2C0Z%22%2F%3E%3Cpath%20class%3D%22point%22%20transform%3D%22translate(443.99%2C130.33)%22%20style%3D%22opacity%3A%200.2%3B%20stroke-width%3A%200px%3B%20fill%3A%20rgb(225%2C%2087%2C%2089)%3B%20fill-opacity%3A%201%3B%22%20d%3D%22M3%2C0A3%2C3%200%201%2C1%200%2C-3A3%2C3%200%200%2C1%203%2C0Z%22%2F%3E%3Cpath%20class%3D%22point%22%20transform%3D%22translate(457.76%2C130.17)%22%20style%3D%22opacity%3A%200.2%3B%20stroke-width%3A%200px%3B%20fill%3A%20rgb(225%2C%2087%2C%2089)%3B%20fill-opacity%3A%201%3B%22%20d%3D%22M3%2C0A3%2C3%200%201%2C1%200%2C-3A3%2C3%200%200%2C1%203%2C0Z%22%2F%3E%3Cpath%20class%3D%22point%22%20transform%3D%22translate(473%2C130)%22%20style%3D%22opacity%3A%200.2%3B%20stroke-width%3A%200px%3B%20fill%3A%20rgb(225%2C%2087%2C%2089)%3B%20fill-opacity%3A%201%3B%22%20d%3D%22M3%2C0A3%2C3%200%201%2C1%200%2C-3A3%2C3%200%200%2C1%203%2C0Z%22%2F%3E%3Cpath%20class%3D%22point%22%20transform%3D%22translate(487.76%2C130.36)%22%20style%3D%22opacity%3A%200.2%3B%20stroke-width%3A%200px%3B%20fill%3A%20rgb(225%2C%2087%2C%2089)%3B%20fill-opacity%3A%201%3B%22%20d%3D%22M3%2C0A3%2C3%200%201%2C1%200%2C-3A3%2C3%200%200%2C1%203%2C0Z%22%2F%3E%3Cpath%20class%3D%22point%22%20transform%3D%22translate(503%2C130.22)%22%20style%3D%22opacity%3A%200.2%3B%20stroke-width%3A%200px%3B%20fill%3A%20rgb(225%2C%2087%2C%2089)%3B%20fill-opacity%3A%201%3B%22%20d%3D%22M3%2C0A3%2C3%200%201%2C1%200%2C-3A3%2C3%200%200%2C1%203%2C0Z%22%2F%3E%3Cpath%20class%3D%22point%22%20transform%3D%22translate(517.75%2C135.69)%22%20style%3D%22opacity%3A%200.2%3B%20stroke-width%3A%200px%3B%20fill%3A%20rgb(225%2C%2087%2C%2089)%3B%20fill-opacity%3A%201%3B%22%20d%3D%22M3%2C0A3%2C3%200%201%2C1%200%2C-3A3%2C3%200%200%2C1%203%2C0Z%22%2F%3E%3Cpath%20class%3D%22point%22%20transform%3D%22translate(533%2C136.07)%22%20style%3D%22opacity%3A%200.2%3B%20stroke-width%3A%200px%3B%20fill%3A%20rgb(225%2C%2087%2C%2089)%3B%20fill-opacity%3A%201%3B%22%20d%3D%22M3%2C0A3%2C3%200%201%2C1%200%2C-3A3%2C3%200%200%2C1%203%2C0Z%22%2F%3E%3Cpath%20class%3D%22point%22%20transform%3D%22translate(548.24%2C134.26)%22%20style%3D%22opacity%3A%200.2%3B%20stroke-width%3A%200px%3B%20fill%3A%20rgb(225%2C%2087%2C%2089)%3B%20fill-opacity%3A%201%3B%22%20d%3D%22M3%2C0A3%2C3%200%201%2C1%200%2C-3A3%2C3%200%200%2C1%203%2C0Z%22%2F%3E%3Cpath%20class%3D%22point%22%20transform%3D%22translate(562.99%2C131.43)%22%20style%3D%22opacity%3A%200.2%3B%20stroke-width%3A%200px%3B%20fill%3A%20rgb(225%2C%2087%2C%2089)%3B%20fill-opacity%3A%201%3B%22%20d%3D%22M3%2C0A3%2C3%200%201%2C1%200%2C-3A3%2C3%200%200%2C1%203%2C0Z%22%2F%3E%3Cpath%20class%3D%22point%22%20transform%3D%22translate(578.23%2C132.57)%22%20style%3D%22opacity%3A%200.2%3B%20stroke-width%3A%200px%3B%20fill%3A%20rgb(225%2C%2087%2C%2089)%3B%20fill-opacity%3A%201%3B%22%20d%3D%22M3%2C0A3%2C3%200%201%2C1%200%2C-3A3%2C3%200%200%2C1%203%2C0Z%22%2F%3E%3Cpath%20class%3D%22point%22%20transform%3D%22translate(592.99%2C136.56)%22%20style%3D%22opacity%3A%200.2%3B%20stroke-width%3A%200px%3B%20fill%3A%20rgb(225%2C%2087%2C%2089)%3B%20fill-opacity%3A%201%3B%22%20d%3D%22M3%2C0A3%2C3%200%201%2C1%200%2C-3A3%2C3%200%200%2C1%203%2C0Z%22%2F%3E%3Cpath%20class%3D%22point%22%20transform%3D%22translate(608.23%2C137.8)%22%20style%3D%22opacity%3A%200.2%3B%20stroke-width%3A%200px%3B%20fill%3A%20rgb(225%2C%2087%2C%2089)%3B%20fill-opacity%3A%201%3B%22%20d%3D%22M3%2C0A3%2C3%200%201%2C1%200%2C-3A3%2C3%200%200%2C1%203%2C0Z%22%2F%3E%3Cpath%20class%3D%22point%22%20transform%3D%22translate(623.47%2C139.63)%22%20style%3D%22opacity%3A%200.2%3B%20stroke-width%3A%200px%3B%20fill%3A%20rgb(225%2C%2087%2C%2089)%3B%20fill-opacity%3A%201%3B%22%20d%3D%22M3%2C0A3%2C3%200%201%2C1%200%2C-3A3%2C3%200%200%2C1%203%2C0Z%22%2F%3E%3Cpath%20class%3D%22point%22%20transform%3D%22translate(637.24%2C141.17)%22%20style%3D%22opacity%3A%200.2%3B%20stroke-width%3A%200px%3B%20fill%3A%20rgb(225%2C%2087%2C%2089)%3B%20fill-opacity%3A%201%3B%22%20d%3D%22M3%2C0A3%2C3%200%201%2C1%200%2C-3A3%2C3%200%200%2C1%203%2C0Z%22%2F%3E%3Cpath%20class%3D%22point%22%20transform%3D%22translate(652.49%2C141.04)%22%20style%3D%22opacity%3A%200.2%3B%20stroke-width%3A%200px%3B%20fill%3A%20rgb(225%2C%2087%2C%2089)%3B%20fill-opacity%3A%201%3B%22%20d%3D%22M3%2C0A3%2C3%200%201%2C1%200%2C-3A3%2C3%200%200%2C1%203%2C0Z%22%2F%3E%3Cpath%20class%3D%22point%22%20transform%3D%22translate(667.24%2C145.86)%22%20style%3D%22opacity%3A%200.2%3B%20stroke-width%3A%200px%3B%20fill%3A%20rgb(225%2C%2087%2C%2089)%3B%20fill-opacity%3A%201%3B%22%20d%3D%22M3%2C0A3%2C3%200%201%2C1%200%2C-3A3%2C3%200%200%2C1%203%2C0Z%22%2F%3E%3Cpath%20class%3D%22point%22%20transform%3D%22translate(682.48%2C148.31)%22%20style%3D%22opacity%3A%200.2%3B%20stroke-width%3A%200px%3B%20fill%3A%20rgb(225%2C%2087%2C%2089)%3B%20fill-opacity%3A%201%3B%22%20d%3D%22M3%2C0A3%2C3%200%201%2C1%200%2C-3A3%2C3%200%200%2C1%203%2C0Z%22%2F%3E%3Cpath%20class%3D%22point%22%20transform%3D%22translate(697.23%2C148.11)%22%20style%3D%22opacity%3A%200.2%3B%20stroke-width%3A%200px%3B%20fill%3A%20rgb(225%2C%2087%2C%2089)%3B%20fill-opacity%3A%201%3B%22%20d%3D%22M3%2C0A3%2C3%200%201%2C1%200%2C-3A3%2C3%200%200%2C1%203%2C0Z%22%2F%3E%3Cpath%20class%3D%22point%22%20transform%3D%22translate(712.48%2C148.41)%22%20style%3D%22opacity%3A%200.2%3B%20stroke-width%3A%200px%3B%20fill%3A%20rgb(225%2C%2087%2C%2089)%3B%20fill-opacity%3A%201%3B%22%20d%3D%22M3%2C0A3%2C3%200%201%2C1%200%2C-3A3%2C3%200%200%2C1%203%2C0Z%22%2F%3E%3Cpath%20class%3D%22point%22%20transform%3D%22translate(727.72%2C148.38)%22%20style%3D%22opacity%3A%200.2%3B%20stroke-width%3A%200px%3B%20fill%3A%20rgb(225%2C%2087%2C%2089)%3B%20fill-opacity%3A%201%3B%22%20d%3D%22M3%2C0A3%2C3%200%201%2C1%200%2C-3A3%2C3%200%200%2C1%203%2C0Z%22%2F%3E%3Cpath%20class%3D%22point%22%20transform%3D%22translate(742.47%2C148.68)%22%20style%3D%22opacity%3A%200.2%3B%20stroke-width%3A%200px%3B%20fill%3A%20rgb(225%2C%2087%2C%2089)%3B%20fill-opacity%3A%201%3B%22%20d%3D%22M3%2C0A3%2C3%200%201%2C1%200%2C-3A3%2C3%200%200%2C1%203%2C0Z%22%2F%3E%3Cpath%20class%3D%22point%22%20transform%3D%22translate(757.72%2C151.65)%22%20style%3D%22opacity%3A%200.2%3B%20stroke-width%3A%200px%3B%20fill%3A%20rgb(225%2C%2087%2C%2089)%3B%20fill-opacity%3A%201%3B%22%20d%3D%22M3%2C0A3%2C3%200%201%2C1%200%2C-3A3%2C3%200%200%2C1%203%2C0Z%22%2F%3E%3Cpath%20class%3D%22point%22%20transform%3D%22translate(772.47%2C152.05)%22%20style%3D%22opacity%3A%200.2%3B%20stroke-width%3A%200px%3B%20fill%3A%20rgb(225%2C%2087%2C%2089)%3B%20fill-opacity%3A%201%3B%22%20d%3D%22M3%2C0A3%2C3%200%201%2C1%200%2C-3A3%2C3%200%200%2C1%203%2C0Z%22%2F%3E%3Cpath%20class%3D%22point%22%20transform%3D%22translate(787.71%2C151.81)%22%20style%3D%22opacity%3A%200.2%3B%20stroke-width%3A%200px%3B%20fill%3A%20rgb(225%2C%2087%2C%2089)%3B%20fill-opacity%3A%201%3B%22%20d%3D%22M3%2C0A3%2C3%200%201%2C1%200%2C-3A3%2C3%200%200%2C1%203%2C0Z%22%2F%3E%3Cpath%20class%3D%22point%22%20transform%3D%22translate(802.96%2C153.7)%22%20style%3D%22opacity%3A%200.2%3B%20stroke-width%3A%200px%3B%20fill%3A%20rgb(225%2C%2087%2C%2089)%3B%20fill-opacity%3A%201%3B%22%20d%3D%22M3%2C0A3%2C3%200%201%2C1%200%2C-3A3%2C3%200%200%2C1%203%2C0Z%22%2F%3E%3Cpath%20class%3D%22point%22%20transform%3D%22translate(816.72%2C154.43)%22%20style%3D%22opacity%3A%200.2%3B%20stroke-width%3A%200px%3B%20fill%3A%20rgb(225%2C%2087%2C%2089)%3B%20fill-opacity%3A%201%3B%22%20d%3D%22M3%2C0A3%2C3%200%201%2C1%200%2C-3A3%2C3%200%200%2C1%203%2C0Z%22%2F%3E%3Cpath%20class%3D%22point%22%20transform%3D%22translate(831.97%2C154.18)%22%20style%3D%22opacity%3A%200.2%3B%20stroke-width%3A%200px%3B%20fill%3A%20rgb(225%2C%2087%2C%2089)%3B%20fill-opacity%3A%201%3B%22%20d%3D%22M3%2C0A3%2C3%200%201%2C1%200%2C-3A3%2C3%200%200%2C1%203%2C0Z%22%2F%3E%3Cpath%20class%3D%22point%22%20transform%3D%22translate(846.72%2C154.47)%22%20style%3D%22opacity%3A%200.2%3B%20stroke-width%3A%200px%3B%20fill%3A%20rgb(225%2C%2087%2C%2089)%3B%20fill-opacity%3A%201%3B%22%20d%3D%22M3%2C0A3%2C3%200%201%2C1%200%2C-3A3%2C3%200%200%2C1%203%2C0Z%22%2F%3E%3Cpath%20class%3D%22point%22%20transform%3D%22translate(861.96%2C154.44)%22%20style%3D%22opacity%3A%200.2%3B%20stroke-width%3A%200px%3B%20fill%3A%20rgb(225%2C%2087%2C%2089)%3B%20fill-opacity%3A%201%3B%22%20d%3D%22M3%2C0A3%2C3%200%201%2C1%200%2C-3A3%2C3%200%200%2C1%203%2C0Z%22%2F%3E%3Cpath%20class%3D%22point%22%20transform%3D%22translate(876.72%2C154.4)%22%20style%3D%22opacity%3A%200.2%3B%20stroke-width%3A%200px%3B%20fill%3A%20rgb(225%2C%2087%2C%2089)%3B%20fill-opacity%3A%201%3B%22%20d%3D%22M3%2C0A3%2C3%200%201%2C1%200%2C-3A3%2C3%200%200%2C1%203%2C0Z%22%2F%3E%3Cpath%20class%3D%22point%22%20transform%3D%22translate(891.96%2C154.59)%22%20style%3D%22opacity%3A%200.2%3B%20stroke-width%3A%200px%3B%20fill%3A%20rgb(225%2C%2087%2C%2089)%3B%20fill-opacity%3A%201%3B%22%20d%3D%22M3%2C0A3%2C3%200%201%2C1%200%2C-3A3%2C3%200%200%2C1%203%2C0Z%22%2F%3E%3Cpath%20class%3D%22point%22%20transform%3D%22translate(907.2%2C154.7)%22%20style%3D%22opacity%3A%200.2%3B%20stroke-width%3A%200px%3B%20fill%3A%20rgb(225%2C%2087%2C%2089)%3B%20fill-opacity%3A%201%3B%22%20d%3D%22M3%2C0A3%2C3%200%201%2C1%200%2C-3A3%2C3%200%200%2C1%203%2C0Z%22%2F%3E%3Cpath%20class%3D%22point%22%20transform%3D%22translate(921.95%2C154.49)%22%20style%3D%22opacity%3A%200.2%3B%20stroke-width%3A%200px%3B%20fill%3A%20rgb(225%2C%2087%2C%2089)%3B%20fill-opacity%3A%201%3B%22%20d%3D%22M3%2C0A3%2C3%200%201%2C1%200%2C-3A3%2C3%200%200%2C1%203%2C0Z%22%2F%3E%3Cpath%20class%3D%22point%22%20transform%3D%22translate(937.2%2C156.37)%22%20style%3D%22opacity%3A%200.2%3B%20stroke-width%3A%200px%3B%20fill%3A%20rgb(225%2C%2087%2C%2089)%3B%20fill-opacity%3A%201%3B%22%20d%3D%22M3%2C0A3%2C3%200%201%2C1%200%2C-3A3%2C3%200%200%2C1%203%2C0Z%22%2F%3E%3Cpath%20class%3D%22point%22%20transform%3D%22translate(951.95%2C156.34)%22%20style%3D%22opacity%3A%200.2%3B%20stroke-width%3A%200px%3B%20fill%3A%20rgb(225%2C%2087%2C%2089)%3B%20fill-opacity%3A%201%3B%22%20d%3D%22M3%2C0A3%2C3%200%201%2C1%200%2C-3A3%2C3%200%200%2C1%203%2C0Z%22%2F%3E%3C%2Fg%3E%3Cg%20class%3D%22text%22%2F%3E%3C%2Fg%3E%3Cg%20class%3D%22trace%20scatter%20tracef848860%22%20style%3D%22stroke-miterlimit%3A%202%3B%20opacity%3A%201%3B%22%3E%3Cg%20class%3D%22fills%22%2F%3E%3Cg%20class%3D%22errorbars%22%2F%3E%3Cg%20class%3D%22lines%22%3E%3Cpath%20class%3D%22js-line%22%20style%3D%22vector-effect%3A%20non-scaling-stroke%3B%20fill%3A%20none%3B%20stroke%3A%20rgb(118%2C%20183%2C%20178)%3B%20stroke-opacity%3A%201%3B%20stroke-width%3A%202px%3B%20opacity%3A%201%3B%22%20d%3D%22M54.05%2C138.11L69.29%2C134.91L84.54%2C132.75L113.55%2C134.47L128.3%2C122.75L143.54%2C120.95L158.3%2C120.77L173.54%2C121.37L188.78%2C119.47L203.54%2C113.5L218.78%2C113.57L248.78%2C114.43L264.02%2C110.91L278.28%2C103.74L293.52%2C102.43L323.52%2C103.6L338.27%2C99L353.51%2C98.02L368.76%2C98.46L398.75%2C98.27L413.51%2C102.93L443.99%2C103.09L457.76%2C102.45L473%2C102.83L487.76%2C102.16L533%2C101.68L548.24%2C101.1L562.99%2C100.04L578.23%2C99.97L592.99%2C104.87L608.23%2C107.2L637.24%2C109.4L652.49%2C108.92L667.24%2C116.9L682.48%2C120.7L727.72%2C120.27L742.47%2C120.94L757.72%2C123.12L772.47%2C123.56L787.71%2C123.42L802.96%2C121.74L816.72%2C120.83L831.97%2C120.67L861.96%2C120.63L876.72%2C120.77L951.95%2C121.13%22%2F%3E%3C%2Fg%3E%3Cg%20class%3D%22points%22%3E%3Cpath%20class%3D%22point%22%20transform%3D%22translate(54.05%2C138.11)%22%20style%3D%22opacity%3A%200.2%3B%20stroke-width%3A%200px%3B%20fill%3A%20rgb(118%2C%20183%2C%20178)%3B%20fill-opacity%3A%201%3B%22%20d%3D%22M3%2C0A3%2C3%200%201%2C1%200%2C-3A3%2C3%200%200%2C1%203%2C0Z%22%2F%3E%3Cpath%20class%3D%22point%22%20transform%3D%22translate(69.29%2C134.91)%22%20style%3D%22opacity%3A%200.2%3B%20stroke-width%3A%200px%3B%20fill%3A%20rgb(118%2C%20183%2C%20178)%3B%20fill-opacity%3A%201%3B%22%20d%3D%22M3%2C0A3%2C3%200%201%2C1%200%2C-3A3%2C3%200%200%2C1%203%2C0Z%22%2F%3E%3Cpath%20class%3D%22point%22%20transform%3D%22translate(84.54%2C132.75)%22%20style%3D%22opacity%3A%200.2%3B%20stroke-width%3A%200px%3B%20fill%3A%20rgb(118%2C%20183%2C%20178)%3B%20fill-opacity%3A%201%3B%22%20d%3D%22M3%2C0A3%2C3%200%201%2C1%200%2C-3A3%2C3%200%200%2C1%203%2C0Z%22%2F%3E%3Cpath%20class%3D%22point%22%20transform%3D%22translate(98.31%2C133.54)%22%20style%3D%22opacity%3A%200.2%3B%20stroke-width%3A%200px%3B%20fill%3A%20rgb(118%2C%20183%2C%20178)%3B%20fill-opacity%3A%201%3B%22%20d%3D%22M3%2C0A3%2C3%200%201%2C1%200%2C-3A3%2C3%200%200%2C1%203%2C0Z%22%2F%3E%3Cpath%20class%3D%22point%22%20transform%3D%22translate(113.55%2C134.47)%22%20style%3D%22opacity%3A%200.2%3B%20stroke-width%3A%200px%3B%20fill%3A%20rgb(118%2C%20183%2C%20178)%3B%20fill-opacity%3A%201%3B%22%20d%3D%22M3%2C0A3%2C3%200%201%2C1%200%2C-3A3%2C3%200%200%2C1%203%2C0Z%22%2F%3E%3Cpath%20class%3D%22point%22%20transform%3D%22translate(128.3%2C122.75)%22%20style%3D%22opacity%3A%200.2%3B%20stroke-width%3A%200px%3B%20fill%3A%20rgb(118%2C%20183%2C%20178)%3B%20fill-opacity%3A%201%3B%22%20d%3D%22M3%2C0A3%2C3%200%201%2C1%200%2C-3A3%2C3%200%200%2C1%203%2C0Z%22%2F%3E%3Cpath%20class%3D%22point%22%20transform%3D%22translate(143.54%2C120.95)%22%20style%3D%22opacity%3A%200.2%3B%20stroke-width%3A%200px%3B%20fill%3A%20rgb(118%2C%20183%2C%20178)%3B%20fill-opacity%3A%201%3B%22%20d%3D%22M3%2C0A3%2C3%200%201%2C1%200%2C-3A3%2C3%200%200%2C1%203%2C0Z%22%2F%3E%3Cpath%20class%3D%22point%22%20transform%3D%22translate(158.3%2C120.77)%22%20style%3D%22opacity%3A%200.2%3B%20stroke-width%3A%200px%3B%20fill%3A%20rgb(118%2C%20183%2C%20178)%3B%20fill-opacity%3A%201%3B%22%20d%3D%22M3%2C0A3%2C3%200%201%2C1%200%2C-3A3%2C3%200%200%2C1%203%2C0Z%22%2F%3E%3Cpath%20class%3D%22point%22%20transform%3D%22translate(173.54%2C121.37)%22%20style%3D%22opacity%3A%200.2%3B%20stroke-width%3A%200px%3B%20fill%3A%20rgb(118%2C%20183%2C%20178)%3B%20fill-opacity%3A%201%3B%22%20d%3D%22M3%2C0A3%2C3%200%201%2C1%200%2C-3A3%2C3%200%200%2C1%203%2C0Z%22%2F%3E%3Cpath%20class%3D%22point%22%20transform%3D%22translate(188.78%2C119.47)%22%20style%3D%22opacity%3A%200.2%3B%20stroke-width%3A%200px%3B%20fill%3A%20rgb(118%2C%20183%2C%20178)%3B%20fill-opacity%3A%201%3B%22%20d%3D%22M3%2C0A3%2C3%200%201%2C1%200%2C-3A3%2C3%200%200%2C1%203%2C0Z%22%2F%3E%3Cpath%20class%3D%22point%22%20transform%3D%22translate(203.54%2C113.5)%22%20style%3D%22opacity%3A%200.2%3B%20stroke-width%3A%200px%3B%20fill%3A%20rgb(118%2C%20183%2C%20178)%3B%20fill-opacity%3A%201%3B%22%20d%3D%22M3%2C0A3%2C3%200%201%2C1%200%2C-3A3%2C3%200%200%2C1%203%2C0Z%22%2F%3E%3Cpath%20class%3D%22point%22%20transform%3D%22translate(218.78%2C113.57)%22%20style%3D%22opacity%3A%200.2%3B%20stroke-width%3A%200px%3B%20fill%3A%20rgb(118%2C%20183%2C%20178)%3B%20fill-opacity%3A%201%3B%22%20d%3D%22M3%2C0A3%2C3%200%201%2C1%200%2C-3A3%2C3%200%200%2C1%203%2C0Z%22%2F%3E%3Cpath%20class%3D%22point%22%20transform%3D%22translate(233.53%2C114.19)%22%20style%3D%22opacity%3A%200.2%3B%20stroke-width%3A%200px%3B%20fill%3A%20rgb(118%2C%20183%2C%20178)%3B%20fill-opacity%3A%201%3B%22%20d%3D%22M3%2C0A3%2C3%200%201%2C1%200%2C-3A3%2C3%200%200%2C1%203%2C0Z%22%2F%3E%3Cpath%20class%3D%22point%22%20transform%3D%22translate(248.78%2C114.43)%22%20style%3D%22opacity%3A%200.2%3B%20stroke-width%3A%200px%3B%20fill%3A%20rgb(118%2C%20183%2C%20178)%3B%20fill-opacity%3A%201%3B%22%20d%3D%22M3%2C0A3%2C3%200%201%2C1%200%2C-3A3%2C3%200%200%2C1%203%2C0Z%22%2F%3E%3Cpath%20class%3D%22point%22%20transform%3D%22translate(264.02%2C110.91)%22%20style%3D%22opacity%3A%200.2%3B%20stroke-width%3A%200px%3B%20fill%3A%20rgb(118%2C%20183%2C%20178)%3B%20fill-opacity%3A%201%3B%22%20d%3D%22M3%2C0A3%2C3%200%201%2C1%200%2C-3A3%2C3%200%200%2C1%203%2C0Z%22%2F%3E%3Cpath%20class%3D%22point%22%20transform%3D%22translate(278.28%2C103.74)%22%20style%3D%22opacity%3A%200.2%3B%20stroke-width%3A%200px%3B%20fill%3A%20rgb(118%2C%20183%2C%20178)%3B%20fill-opacity%3A%201%3B%22%20d%3D%22M3%2C0A3%2C3%200%201%2C1%200%2C-3A3%2C3%200%200%2C1%203%2C0Z%22%2F%3E%3Cpath%20class%3D%22point%22%20transform%3D%22translate(293.52%2C102.43)%22%20style%3D%22opacity%3A%200.2%3B%20stroke-width%3A%200px%3B%20fill%3A%20rgb(118%2C%20183%2C%20178)%3B%20fill-opacity%3A%201%3B%22%20d%3D%22M3%2C0A3%2C3%200%201%2C1%200%2C-3A3%2C3%200%200%2C1%203%2C0Z%22%2F%3E%3Cpath%20class%3D%22point%22%20transform%3D%22translate(308.27%2C103.11)%22%20style%3D%22opacity%3A%200.2%3B%20stroke-width%3A%200px%3B%20fill%3A%20rgb(118%2C%20183%2C%20178)%3B%20fill-opacity%3A%201%3B%22%20d%3D%22M3%2C0A3%2C3%200%201%2C1%200%2C-3A3%2C3%200%200%2C1%203%2C0Z%22%2F%3E%3Cpath%20class%3D%22point%22%20transform%3D%22translate(323.52%2C103.6)%22%20style%3D%22opacity%3A%200.2%3B%20stroke-width%3A%200px%3B%20fill%3A%20rgb(118%2C%20183%2C%20178)%3B%20fill-opacity%3A%201%3B%22%20d%3D%22M3%2C0A3%2C3%200%201%2C1%200%2C-3A3%2C3%200%200%2C1%203%2C0Z%22%2F%3E%3Cpath%20class%3D%22point%22%20transform%3D%22translate(338.27%2C99)%22%20style%3D%22opacity%3A%200.2%3B%20stroke-width%3A%200px%3B%20fill%3A%20rgb(118%2C%20183%2C%20178)%3B%20fill-opacity%3A%201%3B%22%20d%3D%22M3%2C0A3%2C3%200%201%2C1%200%2C-3A3%2C3%200%200%2C1%203%2C0Z%22%2F%3E%3Cpath%20class%3D%22point%22%20transform%3D%22translate(353.51%2C98.02)%22%20style%3D%22opacity%3A%200.2%3B%20stroke-width%3A%200px%3B%20fill%3A%20rgb(118%2C%20183%2C%20178)%3B%20fill-opacity%3A%201%3B%22%20d%3D%22M3%2C0A3%2C3%200%201%2C1%200%2C-3A3%2C3%200%200%2C1%203%2C0Z%22%2F%3E%3Cpath%20class%3D%22point%22%20transform%3D%22translate(368.76%2C98.46)%22%20style%3D%22opacity%3A%200.2%3B%20stroke-width%3A%200px%3B%20fill%3A%20rgb(118%2C%20183%2C%20178)%3B%20fill-opacity%3A%201%3B%22%20d%3D%22M3%2C0A3%2C3%200%201%2C1%200%2C-3A3%2C3%200%200%2C1%203%2C0Z%22%2F%3E%3Cpath%20class%3D%22point%22%20transform%3D%22translate(383.51%2C98.07)%22%20style%3D%22opacity%3A%200.2%3B%20stroke-width%3A%200px%3B%20fill%3A%20rgb(118%2C%20183%2C%20178)%3B%20fill-opacity%3A%201%3B%22%20d%3D%22M3%2C0A3%2C3%200%201%2C1%200%2C-3A3%2C3%200%200%2C1%203%2C0Z%22%2F%3E%3Cpath%20class%3D%22point%22%20transform%3D%22translate(398.75%2C98.27)%22%20style%3D%22opacity%3A%200.2%3B%20stroke-width%3A%200px%3B%20fill%3A%20rgb(118%2C%20183%2C%20178)%3B%20fill-opacity%3A%201%3B%22%20d%3D%22M3%2C0A3%2C3%200%201%2C1%200%2C-3A3%2C3%200%200%2C1%203%2C0Z%22%2F%3E%3Cpath%20class%3D%22point%22%20transform%3D%22translate(413.51%2C102.93)%22%20style%3D%22opacity%3A%200.2%3B%20stroke-width%3A%200px%3B%20fill%3A%20rgb(118%2C%20183%2C%20178)%3B%20fill-opacity%3A%201%3B%22%20d%3D%22M3%2C0A3%2C3%200%201%2C1%200%2C-3A3%2C3%200%200%2C1%203%2C0Z%22%2F%3E%3Cpath%20class%3D%22point%22%20transform%3D%22translate(428.75%2C103.3)%22%20style%3D%22opacity%3A%200.2%3B%20stroke-width%3A%200px%3B%20fill%3A%20rgb(118%2C%20183%2C%20178)%3B%20fill-opacity%3A%201%3B%22%20d%3D%22M3%2C0A3%2C3%200%201%2C1%200%2C-3A3%2C3%200%200%2C1%203%2C0Z%22%2F%3E%3Cpath%20class%3D%22point%22%20transform%3D%22translate(443.99%2C103.09)%22%20style%3D%22opacity%3A%200.2%3B%20stroke-width%3A%200px%3B%20fill%3A%20rgb(118%2C%20183%2C%20178)%3B%20fill-opacity%3A%201%3B%22%20d%3D%22M3%2C0A3%2C3%200%201%2C1%200%2C-3A3%2C3%200%200%2C1%203%2C0Z%22%2F%3E%3Cpath%20class%3D%22point%22%20transform%3D%22translate(457.76%2C102.45)%22%20style%3D%22opacity%3A%200.2%3B%20stroke-width%3A%200px%3B%20fill%3A%20rgb(118%2C%20183%2C%20178)%3B%20fill-opacity%3A%201%3B%22%20d%3D%22M3%2C0A3%2C3%200%201%2C1%200%2C-3A3%2C3%200%200%2C1%203%2C0Z%22%2F%3E%3Cpath%20class%3D%22point%22%20transform%3D%22translate(473%2C102.83)%22%20style%3D%22opacity%3A%200.2%3B%20stroke-width%3A%200px%3B%20fill%3A%20rgb(118%2C%20183%2C%20178)%3B%20fill-opacity%3A%201%3B%22%20d%3D%22M3%2C0A3%2C3%200%201%2C1%200%2C-3A3%2C3%200%200%2C1%203%2C0Z%22%2F%3E%3Cpath%20class%3D%22point%22%20transform%3D%22translate(487.76%2C102.16)%22%20style%3D%22opacity%3A%200.2%3B%20stroke-width%3A%200px%3B%20fill%3A%20rgb(118%2C%20183%2C%20178)%3B%20fill-opacity%3A%201%3B%22%20d%3D%22M3%2C0A3%2C3%200%201%2C1%200%2C-3A3%2C3%200%200%2C1%203%2C0Z%22%2F%3E%3Cpath%20class%3D%22point%22%20transform%3D%22translate(503%2C102.25)%22%20style%3D%22opacity%3A%200.2%3B%20stroke-width%3A%200px%3B%20fill%3A%20rgb(118%2C%20183%2C%20178)%3B%20fill-opacity%3A%201%3B%22%20d%3D%22M3%2C0A3%2C3%200%201%2C1%200%2C-3A3%2C3%200%200%2C1%203%2C0Z%22%2F%3E%3Cpath%20class%3D%22point%22%20transform%3D%22translate(517.75%2C101.98)%22%20style%3D%22opacity%3A%200.2%3B%20stroke-width%3A%200px%3B%20fill%3A%20rgb(118%2C%20183%2C%20178)%3B%20fill-opacity%3A%201%3B%22%20d%3D%22M3%2C0A3%2C3%200%201%2C1%200%2C-3A3%2C3%200%200%2C1%203%2C0Z%22%2F%3E%3Cpath%20class%3D%22point%22%20transform%3D%22translate(533%2C101.68)%22%20style%3D%22opacity%3A%200.2%3B%20stroke-width%3A%200px%3B%20fill%3A%20rgb(118%2C%20183%2C%20178)%3B%20fill-opacity%3A%201%3B%22%20d%3D%22M3%2C0A3%2C3%200%201%2C1%200%2C-3A3%2C3%200%200%2C1%203%2C0Z%22%2F%3E%3Cpath%20class%3D%22point%22%20transform%3D%22translate(548.24%2C101.1)%22%20style%3D%22opacity%3A%200.2%3B%20stroke-width%3A%200px%3B%20fill%3A%20rgb(118%2C%20183%2C%20178)%3B%20fill-opacity%3A%201%3B%22%20d%3D%22M3%2C0A3%2C3%200%201%2C1%200%2C-3A3%2C3%200%200%2C1%203%2C0Z%22%2F%3E%3Cpath%20class%3D%22point%22%20transform%3D%22translate(562.99%2C100.04)%22%20style%3D%22opacity%3A%200.2%3B%20stroke-width%3A%200px%3B%20fill%3A%20rgb(118%2C%20183%2C%20178)%3B%20fill-opacity%3A%201%3B%22%20d%3D%22M3%2C0A3%2C3%200%201%2C1%200%2C-3A3%2C3%200%200%2C1%203%2C0Z%22%2F%3E%3Cpath%20class%3D%22point%22%20transform%3D%22translate(578.23%2C99.97)%22%20style%3D%22opacity%3A%200.2%3B%20stroke-width%3A%200px%3B%20fill%3A%20rgb(118%2C%20183%2C%20178)%3B%20fill-opacity%3A%201%3B%22%20d%3D%22M3%2C0A3%2C3%200%201%2C1%200%2C-3A3%2C3%200%200%2C1%203%2C0Z%22%2F%3E%3Cpath%20class%3D%22point%22%20transform%3D%22translate(592.99%2C104.87)%22%20style%3D%22opacity%3A%200.2%3B%20stroke-width%3A%200px%3B%20fill%3A%20rgb(118%2C%20183%2C%20178)%3B%20fill-opacity%3A%201%3B%22%20d%3D%22M3%2C0A3%2C3%200%201%2C1%200%2C-3A3%2C3%200%200%2C1%203%2C0Z%22%2F%3E%3Cpath%20class%3D%22point%22%20transform%3D%22translate(608.23%2C107.2)%22%20style%3D%22opacity%3A%200.2%3B%20stroke-width%3A%200px%3B%20fill%3A%20rgb(118%2C%20183%2C%20178)%3B%20fill-opacity%3A%201%3B%22%20d%3D%22M3%2C0A3%2C3%200%201%2C1%200%2C-3A3%2C3%200%200%2C1%203%2C0Z%22%2F%3E%3Cpath%20class%3D%22point%22%20transform%3D%22translate(623.47%2C108.61)%22%20style%3D%22opacity%3A%200.2%3B%20stroke-width%3A%200px%3B%20fill%3A%20rgb(118%2C%20183%2C%20178)%3B%20fill-opacity%3A%201%3B%22%20d%3D%22M3%2C0A3%2C3%200%201%2C1%200%2C-3A3%2C3%200%200%2C1%203%2C0Z%22%2F%3E%3Cpath%20class%3D%22point%22%20transform%3D%22translate(637.24%2C109.4)%22%20style%3D%22opacity%3A%200.2%3B%20stroke-width%3A%200px%3B%20fill%3A%20rgb(118%2C%20183%2C%20178)%3B%20fill-opacity%3A%201%3B%22%20d%3D%22M3%2C0A3%2C3%200%201%2C1%200%2C-3A3%2C3%200%200%2C1%203%2C0Z%22%2F%3E%3Cpath%20class%3D%22point%22%20transform%3D%22translate(652.49%2C108.92)%22%20style%3D%22opacity%3A%200.2%3B%20stroke-width%3A%200px%3B%20fill%3A%20rgb(118%2C%20183%2C%20178)%3B%20fill-opacity%3A%201%3B%22%20d%3D%22M3%2C0A3%2C3%200%201%2C1%200%2C-3A3%2C3%200%200%2C1%203%2C0Z%22%2F%3E%3Cpath%20class%3D%22point%22%20transform%3D%22translate(667.24%2C116.9)%22%20style%3D%22opacity%3A%200.2%3B%20stroke-width%3A%200px%3B%20fill%3A%20rgb(118%2C%20183%2C%20178)%3B%20fill-opacity%3A%201%3B%22%20d%3D%22M3%2C0A3%2C3%200%201%2C1%200%2C-3A3%2C3%200%200%2C1%203%2C0Z%22%2F%3E%3Cpath%20class%3D%22point%22%20transform%3D%22translate(682.48%2C120.7)%22%20style%3D%22opacity%3A%200.2%3B%20stroke-width%3A%200px%3B%20fill%3A%20rgb(118%2C%20183%2C%20178)%3B%20fill-opacity%3A%201%3B%22%20d%3D%22M3%2C0A3%2C3%200%201%2C1%200%2C-3A3%2C3%200%200%2C1%203%2C0Z%22%2F%3E%3Cpath%20class%3D%22point%22%20transform%3D%22translate(697.23%2C120.57)%22%20style%3D%22opacity%3A%200.2%3B%20stroke-width%3A%200px%3B%20fill%3A%20rgb(118%2C%20183%2C%20178)%3B%20fill-opacity%3A%201%3B%22%20d%3D%22M3%2C0A3%2C3%200%201%2C1%200%2C-3A3%2C3%200%200%2C1%203%2C0Z%22%2F%3E%3Cpath%20class%3D%22point%22%20transform%3D%22translate(712.48%2C120.18)%22%20style%3D%22opacity%3A%200.2%3B%20stroke-width%3A%200px%3B%20fill%3A%20rgb(118%2C%20183%2C%20178)%3B%20fill-opacity%3A%201%3B%22%20d%3D%22M3%2C0A3%2C3%200%201%2C1%200%2C-3A3%2C3%200%200%2C1%203%2C0Z%22%2F%3E%3Cpath%20class%3D%22point%22%20transform%3D%22translate(727.72%2C120.27)%22%20style%3D%22opacity%3A%200.2%3B%20stroke-width%3A%200px%3B%20fill%3A%20rgb(118%2C%20183%2C%20178)%3B%20fill-opacity%3A%201%3B%22%20d%3D%22M3%2C0A3%2C3%200%201%2C1%200%2C-3A3%2C3%200%200%2C1%203%2C0Z%22%2F%3E%3Cpath%20class%3D%22point%22%20transform%3D%22translate(742.47%2C120.94)%22%20style%3D%22opacity%3A%200.2%3B%20stroke-width%3A%200px%3B%20fill%3A%20rgb(118%2C%20183%2C%20178)%3B%20fill-opacity%3A%201%3B%22%20d%3D%22M3%2C0A3%2C3%200%201%2C1%200%2C-3A3%2C3%200%200%2C1%203%2C0Z%22%2F%3E%3Cpath%20class%3D%22point%22%20transform%3D%22translate(757.72%2C123.12)%22%20style%3D%22opacity%3A%200.2%3B%20stroke-width%3A%200px%3B%20fill%3A%20rgb(118%2C%20183%2C%20178)%3B%20fill-opacity%3A%201%3B%22%20d%3D%22M3%2C0A3%2C3%200%201%2C1%200%2C-3A3%2C3%200%200%2C1%203%2C0Z%22%2F%3E%3Cpath%20class%3D%22point%22%20transform%3D%22translate(772.47%2C123.56)%22%20style%3D%22opacity%3A%200.2%3B%20stroke-width%3A%200px%3B%20fill%3A%20rgb(118%2C%20183%2C%20178)%3B%20fill-opacity%3A%201%3B%22%20d%3D%22M3%2C0A3%2C3%200%201%2C1%200%2C-3A3%2C3%200%200%2C1%203%2C0Z%22%2F%3E%3Cpath%20class%3D%22point%22%20transform%3D%22translate(787.71%2C123.42)%22%20style%3D%22opacity%3A%200.2%3B%20stroke-width%3A%200px%3B%20fill%3A%20rgb(118%2C%20183%2C%20178)%3B%20fill-opacity%3A%201%3B%22%20d%3D%22M3%2C0A3%2C3%200%201%2C1%200%2C-3A3%2C3%200%200%2C1%203%2C0Z%22%2F%3E%3Cpath%20class%3D%22point%22%20transform%3D%22translate(802.96%2C121.74)%22%20style%3D%22opacity%3A%200.2%3B%20stroke-width%3A%200px%3B%20fill%3A%20rgb(118%2C%20183%2C%20178)%3B%20fill-opacity%3A%201%3B%22%20d%3D%22M3%2C0A3%2C3%200%201%2C1%200%2C-3A3%2C3%200%200%2C1%203%2C0Z%22%2F%3E%3Cpath%20class%3D%22point%22%20transform%3D%22translate(816.72%2C120.83)%22%20style%3D%22opacity%3A%200.2%3B%20stroke-width%3A%200px%3B%20fill%3A%20rgb(118%2C%20183%2C%20178)%3B%20fill-opacity%3A%201%3B%22%20d%3D%22M3%2C0A3%2C3%200%201%2C1%200%2C-3A3%2C3%200%200%2C1%203%2C0Z%22%2F%3E%3Cpath%20class%3D%22point%22%20transform%3D%22translate(831.97%2C120.67)%22%20style%3D%22opacity%3A%200.2%3B%20stroke-width%3A%200px%3B%20fill%3A%20rgb(118%2C%20183%2C%20178)%3B%20fill-opacity%3A%201%3B%22%20d%3D%22M3%2C0A3%2C3%200%201%2C1%200%2C-3A3%2C3%200%200%2C1%203%2C0Z%22%2F%3E%3Cpath%20class%3D%22point%22%20transform%3D%22translate(846.72%2C120.3)%22%20style%3D%22opacity%3A%200.2%3B%20stroke-width%3A%200px%3B%20fill%3A%20rgb(118%2C%20183%2C%20178)%3B%20fill-opacity%3A%201%3B%22%20d%3D%22M3%2C0A3%2C3%200%201%2C1%200%2C-3A3%2C3%200%200%2C1%203%2C0Z%22%2F%3E%3Cpath%20class%3D%22point%22%20transform%3D%22translate(861.96%2C120.63)%22%20style%3D%22opacity%3A%200.2%3B%20stroke-width%3A%200px%3B%20fill%3A%20rgb(118%2C%20183%2C%20178)%3B%20fill-opacity%3A%201%3B%22%20d%3D%22M3%2C0A3%2C3%200%201%2C1%200%2C-3A3%2C3%200%200%2C1%203%2C0Z%22%2F%3E%3Cpath%20class%3D%22point%22%20transform%3D%22translate(876.72%2C120.77)%22%20style%3D%22opacity%3A%200.2%3B%20stroke-width%3A%200px%3B%20fill%3A%20rgb(118%2C%20183%2C%20178)%3B%20fill-opacity%3A%201%3B%22%20d%3D%22M3%2C0A3%2C3%200%201%2C1%200%2C-3A3%2C3%200%200%2C1%203%2C0Z%22%2F%3E%3Cpath%20class%3D%22point%22%20transform%3D%22translate(891.96%2C120.91)%22%20style%3D%22opacity%3A%200.2%3B%20stroke-width%3A%200px%3B%20fill%3A%20rgb(118%2C%20183%2C%20178)%3B%20fill-opacity%3A%201%3B%22%20d%3D%22M3%2C0A3%2C3%200%201%2C1%200%2C-3A3%2C3%200%200%2C1%203%2C0Z%22%2F%3E%3Cpath%20class%3D%22point%22%20transform%3D%22translate(907.2%2C120.61)%22%20style%3D%22opacity%3A%200.2%3B%20stroke-width%3A%200px%3B%20fill%3A%20rgb(118%2C%20183%2C%20178)%3B%20fill-opacity%3A%201%3B%22%20d%3D%22M3%2C0A3%2C3%200%201%2C1%200%2C-3A3%2C3%200%200%2C1%203%2C0Z%22%2F%3E%3Cpath%20class%3D%22point%22%20transform%3D%22translate(921.95%2C120.78)%22%20style%3D%22opacity%3A%200.2%3B%20stroke-width%3A%200px%3B%20fill%3A%20rgb(118%2C%20183%2C%20178)%3B%20fill-opacity%3A%201%3B%22%20d%3D%22M3%2C0A3%2C3%200%201%2C1%200%2C-3A3%2C3%200%200%2C1%203%2C0Z%22%2F%3E%3Cpath%20class%3D%22point%22%20transform%3D%22translate(937.2%2C121.54)%22%20style%3D%22opacity%3A%200.2%3B%20stroke-width%3A%200px%3B%20fill%3A%20rgb(118%2C%20183%2C%20178)%3B%20fill-opacity%3A%201%3B%22%20d%3D%22M3%2C0A3%2C3%200%201%2C1%200%2C-3A3%2C3%200%200%2C1%203%2C0Z%22%2F%3E%3Cpath%20class%3D%22point%22%20transform%3D%22translate(951.95%2C121.13)%22%20style%3D%22opacity%3A%200.2%3B%20stroke-width%3A%200px%3B%20fill%3A%20rgb(118%2C%20183%2C%20178)%3B%20fill-opacity%3A%201%3B%22%20d%3D%22M3%2C0A3%2C3%200%201%2C1%200%2C-3A3%2C3%200%200%2C1%203%2C0Z%22%2F%3E%3C%2Fg%3E%3Cg%20class%3D%22text%22%2F%3E%3C%2Fg%3E%3Cg%20class%3D%22trace%20scatter%20trace64d3890%22%20style%3D%22stroke-miterlimit%3A%202%3B%20opacity%3A%201%3B%22%3E%3Cg%20class%3D%22fills%22%2F%3E%3Cg%20class%3D%22errorbars%22%2F%3E%3Cg%20class%3D%22lines%22%3E%3Cpath%20class%3D%22js-line%22%20style%3D%22vector-effect%3A%20non-scaling-stroke%3B%20fill%3A%20none%3B%20stroke%3A%20rgb(89%2C%20161%2C%2079)%3B%20stroke-opacity%3A%201%3B%20stroke-width%3A%202px%3B%20opacity%3A%201%3B%22%20d%3D%22M54.05%2C123.23L84.54%2C118.31L98.31%2C117.8L113.55%2C118.42L128.3%2C104.9L143.54%2C100.46L158.3%2C100.57L188.78%2C99.96L203.54%2C95.53L218.78%2C94.48L233.53%2C95.15L248.78%2C95.38L264.02%2C90.32L278.28%2C80.64L293.52%2C79.77L323.52%2C79.61L338.27%2C76.04L353.51%2C74.89L368.76%2C76.27L383.51%2C75L398.75%2C74.79L413.51%2C75.88L428.75%2C75.11L457.76%2C75.43L473%2C75.41L503%2C75.26L517.75%2C73.48L533%2C73.3L548.24%2C70.55L562.99%2C67.03L578.23%2C68.73L608.23%2C71.75L623.47%2C75.74L637.24%2C79.65L652.49%2C80.05L667.24%2C85.91L682.48%2C88.86L697.23%2C88.61L712.48%2C87.47L742.47%2C88.28L757.72%2C90.66L787.71%2C90.91L802.96%2C93.57L876.72%2C97.13L891.96%2C97.54L921.95%2C97.59L937.2%2C98.57L951.95%2C97.12%22%2F%3E%3C%2Fg%3E%3Cg%20class%3D%22points%22%3E%3Cpath%20class%3D%22point%22%20transform%3D%22translate(54.05%2C123.23)%22%20style%3D%22opacity%3A%200.2%3B%20stroke-width%3A%200px%3B%20fill%3A%20rgb(89%2C%20161%2C%2079)%3B%20fill-opacity%3A%201%3B%22%20d%3D%22M3%2C0A3%2C3%200%201%2C1%200%2C-3A3%2C3%200%200%2C1%203%2C0Z%22%2F%3E%3Cpath%20class%3D%22point%22%20transform%3D%22translate(69.29%2C120.72)%22%20style%3D%22opacity%3A%200.2%3B%20stroke-width%3A%200px%3B%20fill%3A%20rgb(89%2C%20161%2C%2079)%3B%20fill-opacity%3A%201%3B%22%20d%3D%22M3%2C0A3%2C3%200%201%2C1%200%2C-3A3%2C3%200%200%2C1%203%2C0Z%22%2F%3E%3Cpath%20class%3D%22point%22%20transform%3D%22translate(84.54%2C118.31)%22%20style%3D%22opacity%3A%200.2%3B%20stroke-width%3A%200px%3B%20fill%3A%20rgb(89%2C%20161%2C%2079)%3B%20fill-opacity%3A%201%3B%22%20d%3D%22M3%2C0A3%2C3%200%201%2C1%200%2C-3A3%2C3%200%200%2C1%203%2C0Z%22%2F%3E%3Cpath%20class%3D%22point%22%20transform%3D%22translate(98.31%2C117.8)%22%20style%3D%22opacity%3A%200.2%3B%20stroke-width%3A%200px%3B%20fill%3A%20rgb(89%2C%20161%2C%2079)%3B%20fill-opacity%3A%201%3B%22%20d%3D%22M3%2C0A3%2C3%200%201%2C1%200%2C-3A3%2C3%200%200%2C1%203%2C0Z%22%2F%3E%3Cpath%20class%3D%22point%22%20transform%3D%22translate(113.55%2C118.42)%22%20style%3D%22opacity%3A%200.2%3B%20stroke-width%3A%200px%3B%20fill%3A%20rgb(89%2C%20161%2C%2079)%3B%20fill-opacity%3A%201%3B%22%20d%3D%22M3%2C0A3%2C3%200%201%2C1%200%2C-3A3%2C3%200%200%2C1%203%2C0Z%22%2F%3E%3Cpath%20class%3D%22point%22%20transform%3D%22translate(128.3%2C104.9)%22%20style%3D%22opacity%3A%200.2%3B%20stroke-width%3A%200px%3B%20fill%3A%20rgb(89%2C%20161%2C%2079)%3B%20fill-opacity%3A%201%3B%22%20d%3D%22M3%2C0A3%2C3%200%201%2C1%200%2C-3A3%2C3%200%200%2C1%203%2C0Z%22%2F%3E%3Cpath%20class%3D%22point%22%20transform%3D%22translate(143.54%2C100.46)%22%20style%3D%22opacity%3A%200.2%3B%20stroke-width%3A%200px%3B%20fill%3A%20rgb(89%2C%20161%2C%2079)%3B%20fill-opacity%3A%201%3B%22%20d%3D%22M3%2C0A3%2C3%200%201%2C1%200%2C-3A3%2C3%200%200%2C1%203%2C0Z%22%2F%3E%3Cpath%20class%3D%22point%22%20transform%3D%22translate(158.3%2C100.57)%22%20style%3D%22opacity%3A%200.2%3B%20stroke-width%3A%200px%3B%20fill%3A%20rgb(89%2C%20161%2C%2079)%3B%20fill-opacity%3A%201%3B%22%20d%3D%22M3%2C0A3%2C3%200%201%2C1%200%2C-3A3%2C3%200%200%2C1%203%2C0Z%22%2F%3E%3Cpath%20class%3D%22point%22%20transform%3D%22translate(173.54%2C100.64)%22%20style%3D%22opacity%3A%200.2%3B%20stroke-width%3A%200px%3B%20fill%3A%20rgb(89%2C%20161%2C%2079)%3B%20fill-opacity%3A%201%3B%22%20d%3D%22M3%2C0A3%2C3%200%201%2C1%200%2C-3A3%2C3%200%200%2C1%203%2C0Z%22%2F%3E%3Cpath%20class%3D%22point%22%20transform%3D%22translate(188.78%2C99.96)%22%20style%3D%22opacity%3A%200.2%3B%20stroke-width%3A%200px%3B%20fill%3A%20rgb(89%2C%20161%2C%2079)%3B%20fill-opacity%3A%201%3B%22%20d%3D%22M3%2C0A3%2C3%200%201%2C1%200%2C-3A3%2C3%200%200%2C1%203%2C0Z%22%2F%3E%3Cpath%20class%3D%22point%22%20transform%3D%22translate(203.54%2C95.53)%22%20style%3D%22opacity%3A%200.2%3B%20stroke-width%3A%200px%3B%20fill%3A%20rgb(89%2C%20161%2C%2079)%3B%20fill-opacity%3A%201%3B%22%20d%3D%22M3%2C0A3%2C3%200%201%2C1%200%2C-3A3%2C3%200%200%2C1%203%2C0Z%22%2F%3E%3Cpath%20class%3D%22point%22%20transform%3D%22translate(218.78%2C94.48)%22%20style%3D%22opacity%3A%200.2%3B%20stroke-width%3A%200px%3B%20fill%3A%20rgb(89%2C%20161%2C%2079)%3B%20fill-opacity%3A%201%3B%22%20d%3D%22M3%2C0A3%2C3%200%201%2C1%200%2C-3A3%2C3%200%200%2C1%203%2C0Z%22%2F%3E%3Cpath%20class%3D%22point%22%20transform%3D%22translate(233.53%2C95.15)%22%20style%3D%22opacity%3A%200.2%3B%20stroke-width%3A%200px%3B%20fill%3A%20rgb(89%2C%20161%2C%2079)%3B%20fill-opacity%3A%201%3B%22%20d%3D%22M3%2C0A3%2C3%200%201%2C1%200%2C-3A3%2C3%200%200%2C1%203%2C0Z%22%2F%3E%3Cpath%20class%3D%22point%22%20transform%3D%22translate(248.78%2C95.38)%22%20style%3D%22opacity%3A%200.2%3B%20stroke-width%3A%200px%3B%20fill%3A%20rgb(89%2C%20161%2C%2079)%3B%20fill-opacity%3A%201%3B%22%20d%3D%22M3%2C0A3%2C3%200%201%2C1%200%2C-3A3%2C3%200%200%2C1%203%2C0Z%22%2F%3E%3Cpath%20class%3D%22point%22%20transform%3D%22translate(264.02%2C90.32)%22%20style%3D%22opacity%3A%200.2%3B%20stroke-width%3A%200px%3B%20fill%3A%20rgb(89%2C%20161%2C%2079)%3B%20fill-opacity%3A%201%3B%22%20d%3D%22M3%2C0A3%2C3%200%201%2C1%200%2C-3A3%2C3%200%200%2C1%203%2C0Z%22%2F%3E%3Cpath%20class%3D%22point%22%20transform%3D%22translate(278.28%2C80.64)%22%20style%3D%22opacity%3A%200.2%3B%20stroke-width%3A%200px%3B%20fill%3A%20rgb(89%2C%20161%2C%2079)%3B%20fill-opacity%3A%201%3B%22%20d%3D%22M3%2C0A3%2C3%200%201%2C1%200%2C-3A3%2C3%200%200%2C1%203%2C0Z%22%2F%3E%3Cpath%20class%3D%22point%22%20transform%3D%22translate(293.52%2C79.77)%22%20style%3D%22opacity%3A%200.2%3B%20stroke-width%3A%200px%3B%20fill%3A%20rgb(89%2C%20161%2C%2079)%3B%20fill-opacity%3A%201%3B%22%20d%3D%22M3%2C0A3%2C3%200%201%2C1%200%2C-3A3%2C3%200%200%2C1%203%2C0Z%22%2F%3E%3Cpath%20class%3D%22point%22%20transform%3D%22translate(308.27%2C79.63)%22%20style%3D%22opacity%3A%200.2%3B%20stroke-width%3A%200px%3B%20fill%3A%20rgb(89%2C%20161%2C%2079)%3B%20fill-opacity%3A%201%3B%22%20d%3D%22M3%2C0A3%2C3%200%201%2C1%200%2C-3A3%2C3%200%200%2C1%203%2C0Z%22%2F%3E%3Cpath%20class%3D%22point%22%20transform%3D%22translate(323.52%2C79.61)%22%20style%3D%22opacity%3A%200.2%3B%20stroke-width%3A%200px%3B%20fill%3A%20rgb(89%2C%20161%2C%2079)%3B%20fill-opacity%3A%201%3B%22%20d%3D%22M3%2C0A3%2C3%200%201%2C1%200%2C-3A3%2C3%200%200%2C1%203%2C0Z%22%2F%3E%3Cpath%20class%3D%22point%22%20transform%3D%22translate(338.27%2C76.04)%22%20style%3D%22opacity%3A%200.2%3B%20stroke-width%3A%200px%3B%20fill%3A%20rgb(89%2C%20161%2C%2079)%3B%20fill-opacity%3A%201%3B%22%20d%3D%22M3%2C0A3%2C3%200%201%2C1%200%2C-3A3%2C3%200%200%2C1%203%2C0Z%22%2F%3E%3Cpath%20class%3D%22point%22%20transform%3D%22translate(353.51%2C74.89)%22%20style%3D%22opacity%3A%200.2%3B%20stroke-width%3A%200px%3B%20fill%3A%20rgb(89%2C%20161%2C%2079)%3B%20fill-opacity%3A%201%3B%22%20d%3D%22M3%2C0A3%2C3%200%201%2C1%200%2C-3A3%2C3%200%200%2C1%203%2C0Z%22%2F%3E%3Cpath%20class%3D%22point%22%20transform%3D%22translate(368.76%2C76.27)%22%20style%3D%22opacity%3A%200.2%3B%20stroke-width%3A%200px%3B%20fill%3A%20rgb(89%2C%20161%2C%2079)%3B%20fill-opacity%3A%201%3B%22%20d%3D%22M3%2C0A3%2C3%200%201%2C1%200%2C-3A3%2C3%200%200%2C1%203%2C0Z%22%2F%3E%3Cpath%20class%3D%22point%22%20transform%3D%22translate(383.51%2C75)%22%20style%3D%22opacity%3A%200.2%3B%20stroke-width%3A%200px%3B%20fill%3A%20rgb(89%2C%20161%2C%2079)%3B%20fill-opacity%3A%201%3B%22%20d%3D%22M3%2C0A3%2C3%200%201%2C1%200%2C-3A3%2C3%200%200%2C1%203%2C0Z%22%2F%3E%3Cpath%20class%3D%22point%22%20transform%3D%22translate(398.75%2C74.79)%22%20style%3D%22opacity%3A%200.2%3B%20stroke-width%3A%200px%3B%20fill%3A%20rgb(89%2C%20161%2C%2079)%3B%20fill-opacity%3A%201%3B%22%20d%3D%22M3%2C0A3%2C3%200%201%2C1%200%2C-3A3%2C3%200%200%2C1%203%2C0Z%22%2F%3E%3Cpath%20class%3D%22point%22%20transform%3D%22translate(413.51%2C75.88)%22%20style%3D%22opacity%3A%200.2%3B%20stroke-width%3A%200px%3B%20fill%3A%20rgb(89%2C%20161%2C%2079)%3B%20fill-opacity%3A%201%3B%22%20d%3D%22M3%2C0A3%2C3%200%201%2C1%200%2C-3A3%2C3%200%200%2C1%203%2C0Z%22%2F%3E%3Cpath%20class%3D%22point%22%20transform%3D%22translate(428.75%2C75.11)%22%20style%3D%22opacity%3A%200.2%3B%20stroke-width%3A%200px%3B%20fill%3A%20rgb(89%2C%20161%2C%2079)%3B%20fill-opacity%3A%201%3B%22%20d%3D%22M3%2C0A3%2C3%200%201%2C1%200%2C-3A3%2C3%200%200%2C1%203%2C0Z%22%2F%3E%3Cpath%20class%3D%22point%22%20transform%3D%22translate(443.99%2C75.55)%22%20style%3D%22opacity%3A%200.2%3B%20stroke-width%3A%200px%3B%20fill%3A%20rgb(89%2C%20161%2C%2079)%3B%20fill-opacity%3A%201%3B%22%20d%3D%22M3%2C0A3%2C3%200%201%2C1%200%2C-3A3%2C3%200%200%2C1%203%2C0Z%22%2F%3E%3Cpath%20class%3D%22point%22%20transform%3D%22translate(457.76%2C75.43)%22%20style%3D%22opacity%3A%200.2%3B%20stroke-width%3A%200px%3B%20fill%3A%20rgb(89%2C%20161%2C%2079)%3B%20fill-opacity%3A%201%3B%22%20d%3D%22M3%2C0A3%2C3%200%201%2C1%200%2C-3A3%2C3%200%200%2C1%203%2C0Z%22%2F%3E%3Cpath%20class%3D%22point%22%20transform%3D%22translate(473%2C75.41)%22%20style%3D%22opacity%3A%200.2%3B%20stroke-width%3A%200px%3B%20fill%3A%20rgb(89%2C%20161%2C%2079)%3B%20fill-opacity%3A%201%3B%22%20d%3D%22M3%2C0A3%2C3%200%201%2C1%200%2C-3A3%2C3%200%200%2C1%203%2C0Z%22%2F%3E%3Cpath%20class%3D%22point%22%20transform%3D%22translate(487.76%2C75.32)%22%20style%3D%22opacity%3A%200.2%3B%20stroke-width%3A%200px%3B%20fill%3A%20rgb(89%2C%20161%2C%2079)%3B%20fill-opacity%3A%201%3B%22%20d%3D%22M3%2C0A3%2C3%200%201%2C1%200%2C-3A3%2C3%200%200%2C1%203%2C0Z%22%2F%3E%3Cpath%20class%3D%22point%22%20transform%3D%22translate(503%2C75.26)%22%20style%3D%22opacity%3A%200.2%3B%20stroke-width%3A%200px%3B%20fill%3A%20rgb(89%2C%20161%2C%2079)%3B%20fill-opacity%3A%201%3B%22%20d%3D%22M3%2C0A3%2C3%200%201%2C1%200%2C-3A3%2C3%200%200%2C1%203%2C0Z%22%2F%3E%3Cpath%20class%3D%22point%22%20transform%3D%22translate(517.75%2C73.48)%22%20style%3D%22opacity%3A%200.2%3B%20stroke-width%3A%200px%3B%20fill%3A%20rgb(89%2C%20161%2C%2079)%3B%20fill-opacity%3A%201%3B%22%20d%3D%22M3%2C0A3%2C3%200%201%2C1%200%2C-3A3%2C3%200%200%2C1%203%2C0Z%22%2F%3E%3Cpath%20class%3D%22point%22%20transform%3D%22translate(533%2C73.3)%22%20style%3D%22opacity%3A%200.2%3B%20stroke-width%3A%200px%3B%20fill%3A%20rgb(89%2C%20161%2C%2079)%3B%20fill-opacity%3A%201%3B%22%20d%3D%22M3%2C0A3%2C3%200%201%2C1%200%2C-3A3%2C3%200%200%2C1%203%2C0Z%22%2F%3E%3Cpath%20class%3D%22point%22%20transform%3D%22translate(548.24%2C70.55)%22%20style%3D%22opacity%3A%200.2%3B%20stroke-width%3A%200px%3B%20fill%3A%20rgb(89%2C%20161%2C%2079)%3B%20fill-opacity%3A%201%3B%22%20d%3D%22M3%2C0A3%2C3%200%201%2C1%200%2C-3A3%2C3%200%200%2C1%203%2C0Z%22%2F%3E%3Cpath%20class%3D%22point%22%20transform%3D%22translate(562.99%2C67.03)%22%20style%3D%22opacity%3A%200.2%3B%20stroke-width%3A%200px%3B%20fill%3A%20rgb(89%2C%20161%2C%2079)%3B%20fill-opacity%3A%201%3B%22%20d%3D%22M3%2C0A3%2C3%200%201%2C1%200%2C-3A3%2C3%200%200%2C1%203%2C0Z%22%2F%3E%3Cpath%20class%3D%22point%22%20transform%3D%22translate(578.23%2C68.73)%22%20style%3D%22opacity%3A%200.2%3B%20stroke-width%3A%200px%3B%20fill%3A%20rgb(89%2C%20161%2C%2079)%3B%20fill-opacity%3A%201%3B%22%20d%3D%22M3%2C0A3%2C3%200%201%2C1%200%2C-3A3%2C3%200%200%2C1%203%2C0Z%22%2F%3E%3Cpath%20class%3D%22point%22%20transform%3D%22translate(592.99%2C70.43)%22%20style%3D%22opacity%3A%200.2%3B%20stroke-width%3A%200px%3B%20fill%3A%20rgb(89%2C%20161%2C%2079)%3B%20fill-opacity%3A%201%3B%22%20d%3D%22M3%2C0A3%2C3%200%201%2C1%200%2C-3A3%2C3%200%200%2C1%203%2C0Z%22%2F%3E%3Cpath%20class%3D%22point%22%20transform%3D%22translate(608.23%2C71.75)%22%20style%3D%22opacity%3A%200.2%3B%20stroke-width%3A%200px%3B%20fill%3A%20rgb(89%2C%20161%2C%2079)%3B%20fill-opacity%3A%201%3B%22%20d%3D%22M3%2C0A3%2C3%200%201%2C1%200%2C-3A3%2C3%200%200%2C1%203%2C0Z%22%2F%3E%3Cpath%20class%3D%22point%22%20transform%3D%22translate(623.47%2C75.74)%22%20style%3D%22opacity%3A%200.2%3B%20stroke-width%3A%200px%3B%20fill%3A%20rgb(89%2C%20161%2C%2079)%3B%20fill-opacity%3A%201%3B%22%20d%3D%22M3%2C0A3%2C3%200%201%2C1%200%2C-3A3%2C3%200%200%2C1%203%2C0Z%22%2F%3E%3Cpath%20class%3D%22point%22%20transform%3D%22translate(637.24%2C79.65)%22%20style%3D%22opacity%3A%200.2%3B%20stroke-width%3A%200px%3B%20fill%3A%20rgb(89%2C%20161%2C%2079)%3B%20fill-opacity%3A%201%3B%22%20d%3D%22M3%2C0A3%2C3%200%201%2C1%200%2C-3A3%2C3%200%200%2C1%203%2C0Z%22%2F%3E%3Cpath%20class%3D%22point%22%20transform%3D%22translate(652.49%2C80.05)%22%20style%3D%22opacity%3A%200.2%3B%20stroke-width%3A%200px%3B%20fill%3A%20rgb(89%2C%20161%2C%2079)%3B%20fill-opacity%3A%201%3B%22%20d%3D%22M3%2C0A3%2C3%200%201%2C1%200%2C-3A3%2C3%200%200%2C1%203%2C0Z%22%2F%3E%3Cpath%20class%3D%22point%22%20transform%3D%22translate(667.24%2C85.91)%22%20style%3D%22opacity%3A%200.2%3B%20stroke-width%3A%200px%3B%20fill%3A%20rgb(89%2C%20161%2C%2079)%3B%20fill-opacity%3A%201%3B%22%20d%3D%22M3%2C0A3%2C3%200%201%2C1%200%2C-3A3%2C3%200%200%2C1%203%2C0Z%22%2F%3E%3Cpath%20class%3D%22point%22%20transform%3D%22translate(682.48%2C88.86)%22%20style%3D%22opacity%3A%200.2%3B%20stroke-width%3A%200px%3B%20fill%3A%20rgb(89%2C%20161%2C%2079)%3B%20fill-opacity%3A%201%3B%22%20d%3D%22M3%2C0A3%2C3%200%201%2C1%200%2C-3A3%2C3%200%200%2C1%203%2C0Z%22%2F%3E%3Cpath%20class%3D%22point%22%20transform%3D%22translate(697.23%2C88.61)%22%20style%3D%22opacity%3A%200.2%3B%20stroke-width%3A%200px%3B%20fill%3A%20rgb(89%2C%20161%2C%2079)%3B%20fill-opacity%3A%201%3B%22%20d%3D%22M3%2C0A3%2C3%200%201%2C1%200%2C-3A3%2C3%200%200%2C1%203%2C0Z%22%2F%3E%3Cpath%20class%3D%22point%22%20transform%3D%22translate(712.48%2C87.47)%22%20style%3D%22opacity%3A%200.2%3B%20stroke-width%3A%200px%3B%20fill%3A%20rgb(89%2C%20161%2C%2079)%3B%20fill-opacity%3A%201%3B%22%20d%3D%22M3%2C0A3%2C3%200%201%2C1%200%2C-3A3%2C3%200%200%2C1%203%2C0Z%22%2F%3E%3Cpath%20class%3D%22point%22%20transform%3D%22translate(727.72%2C88.03)%22%20style%3D%22opacity%3A%200.2%3B%20stroke-width%3A%200px%3B%20fill%3A%20rgb(89%2C%20161%2C%2079)%3B%20fill-opacity%3A%201%3B%22%20d%3D%22M3%2C0A3%2C3%200%201%2C1%200%2C-3A3%2C3%200%200%2C1%203%2C0Z%22%2F%3E%3Cpath%20class%3D%22point%22%20transform%3D%22translate(742.47%2C88.28)%22%20style%3D%22opacity%3A%200.2%3B%20stroke-width%3A%200px%3B%20fill%3A%20rgb(89%2C%20161%2C%2079)%3B%20fill-opacity%3A%201%3B%22%20d%3D%22M3%2C0A3%2C3%200%201%2C1%200%2C-3A3%2C3%200%200%2C1%203%2C0Z%22%2F%3E%3Cpath%20class%3D%22point%22%20transform%3D%22translate(757.72%2C90.66)%22%20style%3D%22opacity%3A%200.2%3B%20stroke-width%3A%200px%3B%20fill%3A%20rgb(89%2C%20161%2C%2079)%3B%20fill-opacity%3A%201%3B%22%20d%3D%22M3%2C0A3%2C3%200%201%2C1%200%2C-3A3%2C3%200%200%2C1%203%2C0Z%22%2F%3E%3Cpath%20class%3D%22point%22%20transform%3D%22translate(772.47%2C91.02)%22%20style%3D%22opacity%3A%200.2%3B%20stroke-width%3A%200px%3B%20fill%3A%20rgb(89%2C%20161%2C%2079)%3B%20fill-opacity%3A%201%3B%22%20d%3D%22M3%2C0A3%2C3%200%201%2C1%200%2C-3A3%2C3%200%200%2C1%203%2C0Z%22%2F%3E%3Cpath%20class%3D%22point%22%20transform%3D%22translate(787.71%2C90.91)%22%20style%3D%22opacity%3A%200.2%3B%20stroke-width%3A%200px%3B%20fill%3A%20rgb(89%2C%20161%2C%2079)%3B%20fill-opacity%3A%201%3B%22%20d%3D%22M3%2C0A3%2C3%200%201%2C1%200%2C-3A3%2C3%200%200%2C1%203%2C0Z%22%2F%3E%3Cpath%20class%3D%22point%22%20transform%3D%22translate(802.96%2C93.57)%22%20style%3D%22opacity%3A%200.2%3B%20stroke-width%3A%200px%3B%20fill%3A%20rgb(89%2C%20161%2C%2079)%3B%20fill-opacity%3A%201%3B%22%20d%3D%22M3%2C0A3%2C3%200%201%2C1%200%2C-3A3%2C3%200%200%2C1%203%2C0Z%22%2F%3E%3Cpath%20class%3D%22point%22%20transform%3D%22translate(816.72%2C94.36)%22%20style%3D%22opacity%3A%200.2%3B%20stroke-width%3A%200px%3B%20fill%3A%20rgb(89%2C%20161%2C%2079)%3B%20fill-opacity%3A%201%3B%22%20d%3D%22M3%2C0A3%2C3%200%201%2C1%200%2C-3A3%2C3%200%200%2C1%203%2C0Z%22%2F%3E%3Cpath%20class%3D%22point%22%20transform%3D%22translate(831.97%2C94.68)%22%20style%3D%22opacity%3A%200.2%3B%20stroke-width%3A%200px%3B%20fill%3A%20rgb(89%2C%20161%2C%2079)%3B%20fill-opacity%3A%201%3B%22%20d%3D%22M3%2C0A3%2C3%200%201%2C1%200%2C-3A3%2C3%200%200%2C1%203%2C0Z%22%2F%3E%3Cpath%20class%3D%22point%22%20transform%3D%22translate(846.72%2C95.57)%22%20style%3D%22opacity%3A%200.2%3B%20stroke-width%3A%200px%3B%20fill%3A%20rgb(89%2C%20161%2C%2079)%3B%20fill-opacity%3A%201%3B%22%20d%3D%22M3%2C0A3%2C3%200%201%2C1%200%2C-3A3%2C3%200%200%2C1%203%2C0Z%22%2F%3E%3Cpath%20class%3D%22point%22%20transform%3D%22translate(861.96%2C96.95)%22%20style%3D%22opacity%3A%200.2%3B%20stroke-width%3A%200px%3B%20fill%3A%20rgb(89%2C%20161%2C%2079)%3B%20fill-opacity%3A%201%3B%22%20d%3D%22M3%2C0A3%2C3%200%201%2C1%200%2C-3A3%2C3%200%200%2C1%203%2C0Z%22%2F%3E%3Cpath%20class%3D%22point%22%20transform%3D%22translate(876.72%2C97.13)%22%20style%3D%22opacity%3A%200.2%3B%20stroke-width%3A%200px%3B%20fill%3A%20rgb(89%2C%20161%2C%2079)%3B%20fill-opacity%3A%201%3B%22%20d%3D%22M3%2C0A3%2C3%200%201%2C1%200%2C-3A3%2C3%200%200%2C1%203%2C0Z%22%2F%3E%3Cpath%20class%3D%22point%22%20transform%3D%22translate(891.96%2C97.54)%22%20style%3D%22opacity%3A%200.2%3B%20stroke-width%3A%200px%3B%20fill%3A%20rgb(89%2C%20161%2C%2079)%3B%20fill-opacity%3A%201%3B%22%20d%3D%22M3%2C0A3%2C3%200%201%2C1%200%2C-3A3%2C3%200%200%2C1%203%2C0Z%22%2F%3E%3Cpath%20class%3D%22point%22%20transform%3D%22translate(907.2%2C97.41)%22%20style%3D%22opacity%3A%200.2%3B%20stroke-width%3A%200px%3B%20fill%3A%20rgb(89%2C%20161%2C%2079)%3B%20fill-opacity%3A%201%3B%22%20d%3D%22M3%2C0A3%2C3%200%201%2C1%200%2C-3A3%2C3%200%200%2C1%203%2C0Z%22%2F%3E%3Cpath%20class%3D%22point%22%20transform%3D%22translate(921.95%2C97.59)%22%20style%3D%22opacity%3A%200.2%3B%20stroke-width%3A%200px%3B%20fill%3A%20rgb(89%2C%20161%2C%2079)%3B%20fill-opacity%3A%201%3B%22%20d%3D%22M3%2C0A3%2C3%200%201%2C1%200%2C-3A3%2C3%200%200%2C1%203%2C0Z%22%2F%3E%3Cpath%20class%3D%22point%22%20transform%3D%22translate(937.2%2C98.57)%22%20style%3D%22opacity%3A%200.2%3B%20stroke-width%3A%200px%3B%20fill%3A%20rgb(89%2C%20161%2C%2079)%3B%20fill-opacity%3A%201%3B%22%20d%3D%22M3%2C0A3%2C3%200%201%2C1%200%2C-3A3%2C3%200%200%2C1%203%2C0Z%22%2F%3E%3Cpath%20class%3D%22point%22%20transform%3D%22translate(951.95%2C97.12)%22%20style%3D%22opacity%3A%200.2%3B%20stroke-width%3A%200px%3B%20fill%3A%20rgb(89%2C%20161%2C%2079)%3B%20fill-opacity%3A%201%3B%22%20d%3D%22M3%2C0A3%2C3%200%201%2C1%200%2C-3A3%2C3%200%200%2C1%203%2C0Z%22%2F%3E%3C%2Fg%3E%3Cg%20class%3D%22text%22%2F%3E%3C%2Fg%3E%3Cg%20class%3D%22trace%20scatter%20trace2468fd0%22%20style%3D%22stroke-miterlimit%3A%202%3B%20opacity%3A%201%3B%22%3E%3Cg%20class%3D%22fills%22%2F%3E%3Cg%20class%3D%22errorbars%22%2F%3E%3Cg%20class%3D%22lines%22%3E%3Cpath%20class%3D%22js-line%22%20style%3D%22vector-effect%3A%20non-scaling-stroke%3B%20fill%3A%20none%3B%20stroke%3A%20rgb(237%2C%20201%2C%2073)%3B%20stroke-opacity%3A%201%3B%20stroke-width%3A%202px%3B%20opacity%3A%201%3B%22%20d%3D%22M54.05%2C104.17L84.54%2C101.71L98.31%2C99.13L113.55%2C101.51L128.3%2C84.36L143.54%2C79.59L158.3%2C80.73L173.54%2C81.57L188.78%2C79.65L203.54%2C74.53L218.78%2C73.81L233.53%2C75.36L248.78%2C75.54L264.02%2C71.27L278.28%2C60.89L293.52%2C61.9L308.27%2C61.02L323.52%2C60.38L338.27%2C57.63L353.51%2C55.76L368.76%2C56.81L383.51%2C55.65L398.75%2C55.92L413.51%2C56.35L428.75%2C57.65L443.99%2C57.45L457.76%2C56.26L473%2C56.47L487.76%2C55.75L503%2C55.38L517.75%2C47.92L533%2C46.87L548.24%2C46.85L578.23%2C46.41L592.99%2C46.77L623.47%2C47.51L637.24%2C48.28L652.49%2C47.13L667.24%2C47.57L712.48%2C47.54L727.72%2C46.87L742.47%2C47.53L757.72%2C48.99L772.47%2C50.04L787.71%2C48.96L816.72%2C49.93L831.97%2C48.83L861.96%2C56.22L876.72%2C56.4L921.95%2C56.85L937.2%2C55.92L951.95%2C54.68%22%2F%3E%3C%2Fg%3E%3Cg%20class%3D%22points%22%3E%3Cpath%20class%3D%22point%22%20transform%3D%22translate(54.05%2C104.17)%22%20style%3D%22opacity%3A%200.2%3B%20stroke-width%3A%200px%3B%20fill%3A%20rgb(237%2C%20201%2C%2073)%3B%20fill-opacity%3A%201%3B%22%20d%3D%22M3%2C0A3%2C3%200%201%2C1%200%2C-3A3%2C3%200%200%2C1%203%2C0Z%22%2F%3E%3Cpath%20class%3D%22point%22%20transform%3D%22translate(69.29%2C103.19)%22%20style%3D%22opacity%3A%200.2%3B%20stroke-width%3A%200px%3B%20fill%3A%20rgb(237%2C%20201%2C%2073)%3B%20fill-opacity%3A%201%3B%22%20d%3D%22M3%2C0A3%2C3%200%201%2C1%200%2C-3A3%2C3%200%200%2C1%203%2C0Z%22%2F%3E%3Cpath%20class%3D%22point%22%20transform%3D%22translate(84.54%2C101.71)%22%20style%3D%22opacity%3A%200.2%3B%20stroke-width%3A%200px%3B%20fill%3A%20rgb(237%2C%20201%2C%2073)%3B%20fill-opacity%3A%201%3B%22%20d%3D%22M3%2C0A3%2C3%200%201%2C1%200%2C-3A3%2C3%200%200%2C1%203%2C0Z%22%2F%3E%3Cpath%20class%3D%22point%22%20transform%3D%22translate(98.31%2C99.13)%22%20style%3D%22opacity%3A%200.2%3B%20stroke-width%3A%200px%3B%20fill%3A%20rgb(237%2C%20201%2C%2073)%3B%20fill-opacity%3A%201%3B%22%20d%3D%22M3%2C0A3%2C3%200%201%2C1%200%2C-3A3%2C3%200%200%2C1%203%2C0Z%22%2F%3E%3Cpath%20class%3D%22point%22%20transform%3D%22translate(113.55%2C101.51)%22%20style%3D%22opacity%3A%200.2%3B%20stroke-width%3A%200px%3B%20fill%3A%20rgb(237%2C%20201%2C%2073)%3B%20fill-opacity%3A%201%3B%22%20d%3D%22M3%2C0A3%2C3%200%201%2C1%200%2C-3A3%2C3%200%200%2C1%203%2C0Z%22%2F%3E%3Cpath%20class%3D%22point%22%20transform%3D%22translate(128.3%2C84.36)%22%20style%3D%22opacity%3A%200.2%3B%20stroke-width%3A%200px%3B%20fill%3A%20rgb(237%2C%20201%2C%2073)%3B%20fill-opacity%3A%201%3B%22%20d%3D%22M3%2C0A3%2C3%200%201%2C1%200%2C-3A3%2C3%200%200%2C1%203%2C0Z%22%2F%3E%3Cpath%20class%3D%22point%22%20transform%3D%22translate(143.54%2C79.59)%22%20style%3D%22opacity%3A%200.2%3B%20stroke-width%3A%200px%3B%20fill%3A%20rgb(237%2C%20201%2C%2073)%3B%20fill-opacity%3A%201%3B%22%20d%3D%22M3%2C0A3%2C3%200%201%2C1%200%2C-3A3%2C3%200%200%2C1%203%2C0Z%22%2F%3E%3Cpath%20class%3D%22point%22%20transform%3D%22translate(158.3%2C80.73)%22%20style%3D%22opacity%3A%200.2%3B%20stroke-width%3A%200px%3B%20fill%3A%20rgb(237%2C%20201%2C%2073)%3B%20fill-opacity%3A%201%3B%22%20d%3D%22M3%2C0A3%2C3%200%201%2C1%200%2C-3A3%2C3%200%200%2C1%203%2C0Z%22%2F%3E%3Cpath%20class%3D%22point%22%20transform%3D%22translate(173.54%2C81.57)%22%20style%3D%22opacity%3A%200.2%3B%20stroke-width%3A%200px%3B%20fill%3A%20rgb(237%2C%20201%2C%2073)%3B%20fill-opacity%3A%201%3B%22%20d%3D%22M3%2C0A3%2C3%200%201%2C1%200%2C-3A3%2C3%200%200%2C1%203%2C0Z%22%2F%3E%3Cpath%20class%3D%22point%22%20transform%3D%22translate(188.78%2C79.65)%22%20style%3D%22opacity%3A%200.2%3B%20stroke-width%3A%200px%3B%20fill%3A%20rgb(237%2C%20201%2C%2073)%3B%20fill-opacity%3A%201%3B%22%20d%3D%22M3%2C0A3%2C3%200%201%2C1%200%2C-3A3%2C3%200%200%2C1%203%2C0Z%22%2F%3E%3Cpath%20class%3D%22point%22%20transform%3D%22translate(203.54%2C74.53)%22%20style%3D%22opacity%3A%200.2%3B%20stroke-width%3A%200px%3B%20fill%3A%20rgb(237%2C%20201%2C%2073)%3B%20fill-opacity%3A%201%3B%22%20d%3D%22M3%2C0A3%2C3%200%201%2C1%200%2C-3A3%2C3%200%200%2C1%203%2C0Z%22%2F%3E%3Cpath%20class%3D%22point%22%20transform%3D%22translate(218.78%2C73.81)%22%20style%3D%22opacity%3A%200.2%3B%20stroke-width%3A%200px%3B%20fill%3A%20rgb(237%2C%20201%2C%2073)%3B%20fill-opacity%3A%201%3B%22%20d%3D%22M3%2C0A3%2C3%200%201%2C1%200%2C-3A3%2C3%200%200%2C1%203%2C0Z%22%2F%3E%3Cpath%20class%3D%22point%22%20transform%3D%22translate(233.53%2C75.36)%22%20style%3D%22opacity%3A%200.2%3B%20stroke-width%3A%200px%3B%20fill%3A%20rgb(237%2C%20201%2C%2073)%3B%20fill-opacity%3A%201%3B%22%20d%3D%22M3%2C0A3%2C3%200%201%2C1%200%2C-3A3%2C3%200%200%2C1%203%2C0Z%22%2F%3E%3Cpath%20class%3D%22point%22%20transform%3D%22translate(248.78%2C75.54)%22%20style%3D%22opacity%3A%200.2%3B%20stroke-width%3A%200px%3B%20fill%3A%20rgb(237%2C%20201%2C%2073)%3B%20fill-opacity%3A%201%3B%22%20d%3D%22M3%2C0A3%2C3%200%201%2C1%200%2C-3A3%2C3%200%200%2C1%203%2C0Z%22%2F%3E%3Cpath%20class%3D%22point%22%20transform%3D%22translate(264.02%2C71.27)%22%20style%3D%22opacity%3A%200.2%3B%20stroke-width%3A%200px%3B%20fill%3A%20rgb(237%2C%20201%2C%2073)%3B%20fill-opacity%3A%201%3B%22%20d%3D%22M3%2C0A3%2C3%200%201%2C1%200%2C-3A3%2C3%200%200%2C1%203%2C0Z%22%2F%3E%3Cpath%20class%3D%22point%22%20transform%3D%22translate(278.28%2C60.89)%22%20style%3D%22opacity%3A%200.2%3B%20stroke-width%3A%200px%3B%20fill%3A%20rgb(237%2C%20201%2C%2073)%3B%20fill-opacity%3A%201%3B%22%20d%3D%22M3%2C0A3%2C3%200%201%2C1%200%2C-3A3%2C3%200%200%2C1%203%2C0Z%22%2F%3E%3Cpath%20class%3D%22point%22%20transform%3D%22translate(293.52%2C61.9)%22%20style%3D%22opacity%3A%200.2%3B%20stroke-width%3A%200px%3B%20fill%3A%20rgb(237%2C%20201%2C%2073)%3B%20fill-opacity%3A%201%3B%22%20d%3D%22M3%2C0A3%2C3%200%201%2C1%200%2C-3A3%2C3%200%200%2C1%203%2C0Z%22%2F%3E%3Cpath%20class%3D%22point%22%20transform%3D%22translate(308.27%2C61.02)%22%20style%3D%22opacity%3A%200.2%3B%20stroke-width%3A%200px%3B%20fill%3A%20rgb(237%2C%20201%2C%2073)%3B%20fill-opacity%3A%201%3B%22%20d%3D%22M3%2C0A3%2C3%200%201%2C1%200%2C-3A3%2C3%200%200%2C1%203%2C0Z%22%2F%3E%3Cpath%20class%3D%22point%22%20transform%3D%22translate(323.52%2C60.38)%22%20style%3D%22opacity%3A%200.2%3B%20stroke-width%3A%200px%3B%20fill%3A%20rgb(237%2C%20201%2C%2073)%3B%20fill-opacity%3A%201%3B%22%20d%3D%22M3%2C0A3%2C3%200%201%2C1%200%2C-3A3%2C3%200%200%2C1%203%2C0Z%22%2F%3E%3Cpath%20class%3D%22point%22%20transform%3D%22translate(338.27%2C57.63)%22%20style%3D%22opacity%3A%200.2%3B%20stroke-width%3A%200px%3B%20fill%3A%20rgb(237%2C%20201%2C%2073)%3B%20fill-opacity%3A%201%3B%22%20d%3D%22M3%2C0A3%2C3%200%201%2C1%200%2C-3A3%2C3%200%200%2C1%203%2C0Z%22%2F%3E%3Cpath%20class%3D%22point%22%20transform%3D%22translate(353.51%2C55.76)%22%20style%3D%22opacity%3A%200.2%3B%20stroke-width%3A%200px%3B%20fill%3A%20rgb(237%2C%20201%2C%2073)%3B%20fill-opacity%3A%201%3B%22%20d%3D%22M3%2C0A3%2C3%200%201%2C1%200%2C-3A3%2C3%200%200%2C1%203%2C0Z%22%2F%3E%3Cpath%20class%3D%22point%22%20transform%3D%22translate(368.76%2C56.81)%22%20style%3D%22opacity%3A%200.2%3B%20stroke-width%3A%200px%3B%20fill%3A%20rgb(237%2C%20201%2C%2073)%3B%20fill-opacity%3A%201%3B%22%20d%3D%22M3%2C0A3%2C3%200%201%2C1%200%2C-3A3%2C3%200%200%2C1%203%2C0Z%22%2F%3E%3Cpath%20class%3D%22point%22%20transform%3D%22translate(383.51%2C55.65)%22%20style%3D%22opacity%3A%200.2%3B%20stroke-width%3A%200px%3B%20fill%3A%20rgb(237%2C%20201%2C%2073)%3B%20fill-opacity%3A%201%3B%22%20d%3D%22M3%2C0A3%2C3%200%201%2C1%200%2C-3A3%2C3%200%200%2C1%203%2C0Z%22%2F%3E%3Cpath%20class%3D%22point%22%20transform%3D%22translate(398.75%2C55.92)%22%20style%3D%22opacity%3A%200.2%3B%20stroke-width%3A%200px%3B%20fill%3A%20rgb(237%2C%20201%2C%2073)%3B%20fill-opacity%3A%201%3B%22%20d%3D%22M3%2C0A3%2C3%200%201%2C1%200%2C-3A3%2C3%200%200%2C1%203%2C0Z%22%2F%3E%3Cpath%20class%3D%22point%22%20transform%3D%22translate(413.51%2C56.35)%22%20style%3D%22opacity%3A%200.2%3B%20stroke-width%3A%200px%3B%20fill%3A%20rgb(237%2C%20201%2C%2073)%3B%20fill-opacity%3A%201%3B%22%20d%3D%22M3%2C0A3%2C3%200%201%2C1%200%2C-3A3%2C3%200%200%2C1%203%2C0Z%22%2F%3E%3Cpath%20class%3D%22point%22%20transform%3D%22translate(428.75%2C57.65)%22%20style%3D%22opacity%3A%200.2%3B%20stroke-width%3A%200px%3B%20fill%3A%20rgb(237%2C%20201%2C%2073)%3B%20fill-opacity%3A%201%3B%22%20d%3D%22M3%2C0A3%2C3%200%201%2C1%200%2C-3A3%2C3%200%200%2C1%203%2C0Z%22%2F%3E%3Cpath%20class%3D%22point%22%20transform%3D%22translate(443.99%2C57.45)%22%20style%3D%22opacity%3A%200.2%3B%20stroke-width%3A%200px%3B%20fill%3A%20rgb(237%2C%20201%2C%2073)%3B%20fill-opacity%3A%201%3B%22%20d%3D%22M3%2C0A3%2C3%200%201%2C1%200%2C-3A3%2C3%200%200%2C1%203%2C0Z%22%2F%3E%3Cpath%20class%3D%22point%22%20transform%3D%22translate(457.76%2C56.26)%22%20style%3D%22opacity%3A%200.2%3B%20stroke-width%3A%200px%3B%20fill%3A%20rgb(237%2C%20201%2C%2073)%3B%20fill-opacity%3A%201%3B%22%20d%3D%22M3%2C0A3%2C3%200%201%2C1%200%2C-3A3%2C3%200%200%2C1%203%2C0Z%22%2F%3E%3Cpath%20class%3D%22point%22%20transform%3D%22translate(473%2C56.47)%22%20style%3D%22opacity%3A%200.2%3B%20stroke-width%3A%200px%3B%20fill%3A%20rgb(237%2C%20201%2C%2073)%3B%20fill-opacity%3A%201%3B%22%20d%3D%22M3%2C0A3%2C3%200%201%2C1%200%2C-3A3%2C3%200%200%2C1%203%2C0Z%22%2F%3E%3Cpath%20class%3D%22point%22%20transform%3D%22translate(487.76%2C55.75)%22%20style%3D%22opacity%3A%200.2%3B%20stroke-width%3A%200px%3B%20fill%3A%20rgb(237%2C%20201%2C%2073)%3B%20fill-opacity%3A%201%3B%22%20d%3D%22M3%2C0A3%2C3%200%201%2C1%200%2C-3A3%2C3%200%200%2C1%203%2C0Z%22%2F%3E%3Cpath%20class%3D%22point%22%20transform%3D%22translate(503%2C55.38)%22%20style%3D%22opacity%3A%200.2%3B%20stroke-width%3A%200px%3B%20fill%3A%20rgb(237%2C%20201%2C%2073)%3B%20fill-opacity%3A%201%3B%22%20d%3D%22M3%2C0A3%2C3%200%201%2C1%200%2C-3A3%2C3%200%200%2C1%203%2C0Z%22%2F%3E%3Cpath%20class%3D%22point%22%20transform%3D%22translate(517.75%2C47.92)%22%20style%3D%22opacity%3A%200.2%3B%20stroke-width%3A%200px%3B%20fill%3A%20rgb(237%2C%20201%2C%2073)%3B%20fill-opacity%3A%201%3B%22%20d%3D%22M3%2C0A3%2C3%200%201%2C1%200%2C-3A3%2C3%200%200%2C1%203%2C0Z%22%2F%3E%3Cpath%20class%3D%22point%22%20transform%3D%22translate(533%2C46.87)%22%20style%3D%22opacity%3A%200.2%3B%20stroke-width%3A%200px%3B%20fill%3A%20rgb(237%2C%20201%2C%2073)%3B%20fill-opacity%3A%201%3B%22%20d%3D%22M3%2C0A3%2C3%200%201%2C1%200%2C-3A3%2C3%200%200%2C1%203%2C0Z%22%2F%3E%3Cpath%20class%3D%22point%22%20transform%3D%22translate(548.24%2C46.85)%22%20style%3D%22opacity%3A%200.2%3B%20stroke-width%3A%200px%3B%20fill%3A%20rgb(237%2C%20201%2C%2073)%3B%20fill-opacity%3A%201%3B%22%20d%3D%22M3%2C0A3%2C3%200%201%2C1%200%2C-3A3%2C3%200%200%2C1%203%2C0Z%22%2F%3E%3Cpath%20class%3D%22point%22%20transform%3D%22translate(562.99%2C46.56)%22%20style%3D%22opacity%3A%200.2%3B%20stroke-width%3A%200px%3B%20fill%3A%20rgb(237%2C%20201%2C%2073)%3B%20fill-opacity%3A%201%3B%22%20d%3D%22M3%2C0A3%2C3%200%201%2C1%200%2C-3A3%2C3%200%200%2C1%203%2C0Z%22%2F%3E%3Cpath%20class%3D%22point%22%20transform%3D%22translate(578.23%2C46.41)%22%20style%3D%22opacity%3A%200.2%3B%20stroke-width%3A%200px%3B%20fill%3A%20rgb(237%2C%20201%2C%2073)%3B%20fill-opacity%3A%201%3B%22%20d%3D%22M3%2C0A3%2C3%200%201%2C1%200%2C-3A3%2C3%200%200%2C1%203%2C0Z%22%2F%3E%3Cpath%20class%3D%22point%22%20transform%3D%22translate(592.99%2C46.77)%22%20style%3D%22opacity%3A%200.2%3B%20stroke-width%3A%200px%3B%20fill%3A%20rgb(237%2C%20201%2C%2073)%3B%20fill-opacity%3A%201%3B%22%20d%3D%22M3%2C0A3%2C3%200%201%2C1%200%2C-3A3%2C3%200%200%2C1%203%2C0Z%22%2F%3E%3Cpath%20class%3D%22point%22%20transform%3D%22translate(608.23%2C47)%22%20style%3D%22opacity%3A%200.2%3B%20stroke-width%3A%200px%3B%20fill%3A%20rgb(237%2C%20201%2C%2073)%3B%20fill-opacity%3A%201%3B%22%20d%3D%22M3%2C0A3%2C3%200%201%2C1%200%2C-3A3%2C3%200%200%2C1%203%2C0Z%22%2F%3E%3Cpath%20class%3D%22point%22%20transform%3D%22translate(623.47%2C47.51)%22%20style%3D%22opacity%3A%200.2%3B%20stroke-width%3A%200px%3B%20fill%3A%20rgb(237%2C%20201%2C%2073)%3B%20fill-opacity%3A%201%3B%22%20d%3D%22M3%2C0A3%2C3%200%201%2C1%200%2C-3A3%2C3%200%200%2C1%203%2C0Z%22%2F%3E%3Cpath%20class%3D%22point%22%20transform%3D%22translate(637.24%2C48.28)%22%20style%3D%22opacity%3A%200.2%3B%20stroke-width%3A%200px%3B%20fill%3A%20rgb(237%2C%20201%2C%2073)%3B%20fill-opacity%3A%201%3B%22%20d%3D%22M3%2C0A3%2C3%200%201%2C1%200%2C-3A3%2C3%200%200%2C1%203%2C0Z%22%2F%3E%3Cpath%20class%3D%22point%22%20transform%3D%22translate(652.49%2C47.13)%22%20style%3D%22opacity%3A%200.2%3B%20stroke-width%3A%200px%3B%20fill%3A%20rgb(237%2C%20201%2C%2073)%3B%20fill-opacity%3A%201%3B%22%20d%3D%22M3%2C0A3%2C3%200%201%2C1%200%2C-3A3%2C3%200%200%2C1%203%2C0Z%22%2F%3E%3Cpath%20class%3D%22point%22%20transform%3D%22translate(667.24%2C47.57)%22%20style%3D%22opacity%3A%200.2%3B%20stroke-width%3A%200px%3B%20fill%3A%20rgb(237%2C%20201%2C%2073)%3B%20fill-opacity%3A%201%3B%22%20d%3D%22M3%2C0A3%2C3%200%201%2C1%200%2C-3A3%2C3%200%200%2C1%203%2C0Z%22%2F%3E%3Cpath%20class%3D%22point%22%20transform%3D%22translate(682.48%2C47.74)%22%20style%3D%22opacity%3A%200.2%3B%20stroke-width%3A%200px%3B%20fill%3A%20rgb(237%2C%20201%2C%2073)%3B%20fill-opacity%3A%201%3B%22%20d%3D%22M3%2C0A3%2C3%200%201%2C1%200%2C-3A3%2C3%200%200%2C1%203%2C0Z%22%2F%3E%3Cpath%20class%3D%22point%22%20transform%3D%22translate(697.23%2C47.58)%22%20style%3D%22opacity%3A%200.2%3B%20stroke-width%3A%200px%3B%20fill%3A%20rgb(237%2C%20201%2C%2073)%3B%20fill-opacity%3A%201%3B%22%20d%3D%22M3%2C0A3%2C3%200%201%2C1%200%2C-3A3%2C3%200%200%2C1%203%2C0Z%22%2F%3E%3Cpath%20class%3D%22point%22%20transform%3D%22translate(712.48%2C47.54)%22%20style%3D%22opacity%3A%200.2%3B%20stroke-width%3A%200px%3B%20fill%3A%20rgb(237%2C%20201%2C%2073)%3B%20fill-opacity%3A%201%3B%22%20d%3D%22M3%2C0A3%2C3%200%201%2C1%200%2C-3A3%2C3%200%200%2C1%203%2C0Z%22%2F%3E%3Cpath%20class%3D%22point%22%20transform%3D%22translate(727.72%2C46.87)%22%20style%3D%22opacity%3A%200.2%3B%20stroke-width%3A%200px%3B%20fill%3A%20rgb(237%2C%20201%2C%2073)%3B%20fill-opacity%3A%201%3B%22%20d%3D%22M3%2C0A3%2C3%200%201%2C1%200%2C-3A3%2C3%200%200%2C1%203%2C0Z%22%2F%3E%3Cpath%20class%3D%22point%22%20transform%3D%22translate(742.47%2C47.53)%22%20style%3D%22opacity%3A%200.2%3B%20stroke-width%3A%200px%3B%20fill%3A%20rgb(237%2C%20201%2C%2073)%3B%20fill-opacity%3A%201%3B%22%20d%3D%22M3%2C0A3%2C3%200%201%2C1%200%2C-3A3%2C3%200%200%2C1%203%2C0Z%22%2F%3E%3Cpath%20class%3D%22point%22%20transform%3D%22translate(757.72%2C48.99)%22%20style%3D%22opacity%3A%200.2%3B%20stroke-width%3A%200px%3B%20fill%3A%20rgb(237%2C%20201%2C%2073)%3B%20fill-opacity%3A%201%3B%22%20d%3D%22M3%2C0A3%2C3%200%201%2C1%200%2C-3A3%2C3%200%200%2C1%203%2C0Z%22%2F%3E%3Cpath%20class%3D%22point%22%20transform%3D%22translate(772.47%2C50.04)%22%20style%3D%22opacity%3A%200.2%3B%20stroke-width%3A%200px%3B%20fill%3A%20rgb(237%2C%20201%2C%2073)%3B%20fill-opacity%3A%201%3B%22%20d%3D%22M3%2C0A3%2C3%200%201%2C1%200%2C-3A3%2C3%200%200%2C1%203%2C0Z%22%2F%3E%3Cpath%20class%3D%22point%22%20transform%3D%22translate(787.71%2C48.96)%22%20style%3D%22opacity%3A%200.2%3B%20stroke-width%3A%200px%3B%20fill%3A%20rgb(237%2C%20201%2C%2073)%3B%20fill-opacity%3A%201%3B%22%20d%3D%22M3%2C0A3%2C3%200%201%2C1%200%2C-3A3%2C3%200%200%2C1%203%2C0Z%22%2F%3E%3Cpath%20class%3D%22point%22%20transform%3D%22translate(802.96%2C49.74)%22%20style%3D%22opacity%3A%200.2%3B%20stroke-width%3A%200px%3B%20fill%3A%20rgb(237%2C%20201%2C%2073)%3B%20fill-opacity%3A%201%3B%22%20d%3D%22M3%2C0A3%2C3%200%201%2C1%200%2C-3A3%2C3%200%200%2C1%203%2C0Z%22%2F%3E%3Cpath%20class%3D%22point%22%20transform%3D%22translate(816.72%2C49.93)%22%20style%3D%22opacity%3A%200.2%3B%20stroke-width%3A%200px%3B%20fill%3A%20rgb(237%2C%20201%2C%2073)%3B%20fill-opacity%3A%201%3B%22%20d%3D%22M3%2C0A3%2C3%200%201%2C1%200%2C-3A3%2C3%200%200%2C1%203%2C0Z%22%2F%3E%3Cpath%20class%3D%22point%22%20transform%3D%22translate(831.97%2C48.83)%22%20style%3D%22opacity%3A%200.2%3B%20stroke-width%3A%200px%3B%20fill%3A%20rgb(237%2C%20201%2C%2073)%3B%20fill-opacity%3A%201%3B%22%20d%3D%22M3%2C0A3%2C3%200%201%2C1%200%2C-3A3%2C3%200%200%2C1%203%2C0Z%22%2F%3E%3Cpath%20class%3D%22point%22%20transform%3D%22translate(846.72%2C52.1)%22%20style%3D%22opacity%3A%200.2%3B%20stroke-width%3A%200px%3B%20fill%3A%20rgb(237%2C%20201%2C%2073)%3B%20fill-opacity%3A%201%3B%22%20d%3D%22M3%2C0A3%2C3%200%201%2C1%200%2C-3A3%2C3%200%200%2C1%203%2C0Z%22%2F%3E%3Cpath%20class%3D%22point%22%20transform%3D%22translate(861.96%2C56.22)%22%20style%3D%22opacity%3A%200.2%3B%20stroke-width%3A%200px%3B%20fill%3A%20rgb(237%2C%20201%2C%2073)%3B%20fill-opacity%3A%201%3B%22%20d%3D%22M3%2C0A3%2C3%200%201%2C1%200%2C-3A3%2C3%200%200%2C1%203%2C0Z%22%2F%3E%3Cpath%20class%3D%22point%22%20transform%3D%22translate(876.72%2C56.4)%22%20style%3D%22opacity%3A%200.2%3B%20stroke-width%3A%200px%3B%20fill%3A%20rgb(237%2C%20201%2C%2073)%3B%20fill-opacity%3A%201%3B%22%20d%3D%22M3%2C0A3%2C3%200%201%2C1%200%2C-3A3%2C3%200%200%2C1%203%2C0Z%22%2F%3E%3Cpath%20class%3D%22point%22%20transform%3D%22translate(891.96%2C56.43)%22%20style%3D%22opacity%3A%200.2%3B%20stroke-width%3A%200px%3B%20fill%3A%20rgb(237%2C%20201%2C%2073)%3B%20fill-opacity%3A%201%3B%22%20d%3D%22M3%2C0A3%2C3%200%201%2C1%200%2C-3A3%2C3%200%200%2C1%203%2C0Z%22%2F%3E%3Cpath%20class%3D%22point%22%20transform%3D%22translate(907.2%2C56.4)%22%20style%3D%22opacity%3A%200.2%3B%20stroke-width%3A%200px%3B%20fill%3A%20rgb(237%2C%20201%2C%2073)%3B%20fill-opacity%3A%201%3B%22%20d%3D%22M3%2C0A3%2C3%200%201%2C1%200%2C-3A3%2C3%200%200%2C1%203%2C0Z%22%2F%3E%3Cpath%20class%3D%22point%22%20transform%3D%22translate(921.95%2C56.85)%22%20style%3D%22opacity%3A%200.2%3B%20stroke-width%3A%200px%3B%20fill%3A%20rgb(237%2C%20201%2C%2073)%3B%20fill-opacity%3A%201%3B%22%20d%3D%22M3%2C0A3%2C3%200%201%2C1%200%2C-3A3%2C3%200%200%2C1%203%2C0Z%22%2F%3E%3Cpath%20class%3D%22point%22%20transform%3D%22translate(937.2%2C55.92)%22%20style%3D%22opacity%3A%200.2%3B%20stroke-width%3A%200px%3B%20fill%3A%20rgb(237%2C%20201%2C%2073)%3B%20fill-opacity%3A%201%3B%22%20d%3D%22M3%2C0A3%2C3%200%201%2C1%200%2C-3A3%2C3%200%200%2C1%203%2C0Z%22%2F%3E%3Cpath%20class%3D%22point%22%20transform%3D%22translate(951.95%2C54.68)%22%20style%3D%22opacity%3A%200.2%3B%20stroke-width%3A%200px%3B%20fill%3A%20rgb(237%2C%20201%2C%2073)%3B%20fill-opacity%3A%201%3B%22%20d%3D%22M3%2C0A3%2C3%200%201%2C1%200%2C-3A3%2C3%200%200%2C1%203%2C0Z%22%2F%3E%3C%2Fg%3E%3Cg%20class%3D%22text%22%2F%3E%3C%2Fg%3E%3Cg%20class%3D%22trace%20scatter%20trace5cecdd0%22%20style%3D%22stroke-miterlimit%3A%202%3B%20opacity%3A%201%3B%22%3E%3Cg%20class%3D%22fills%22%2F%3E%3Cg%20class%3D%22errorbars%22%2F%3E%3Cg%20class%3D%22lines%22%3E%3Cpath%20class%3D%22js-line%22%20style%3D%22vector-effect%3A%20non-scaling-stroke%3B%20fill%3A%20none%3B%20stroke%3A%20rgb(175%2C%20122%2C%20161)%3B%20stroke-opacity%3A%201%3B%20stroke-width%3A%202px%3B%20opacity%3A%201%3B%22%20d%3D%22M54.05%2C85.29L69.29%2C87.26L84.54%2C82.84L98.31%2C82.38L113.55%2C82.81L128.3%2C67.78L143.54%2C64L158.3%2C65.72L173.54%2C64.19L188.78%2C59.8L203.54%2C59.1L218.78%2C58.11L233.53%2C55.08L248.78%2C57.91L264.02%2C55.54L278.28%2C46.97L293.52%2C46.51L308.27%2C47.53L323.52%2C47.07L338.27%2C43.54L353.51%2C42.29L383.51%2C42.87L398.75%2C42.38L503%2C42.36L517.75%2C33.37L533%2C31.76L548.24%2C31.83L652.49%2C31.99L667.24%2C31.83L727.72%2C31.71L742.47%2C32L831.97%2C31.89L846.72%2C28.16L861.96%2C15.94L876.72%2C15.87L907.2%2C15.71L921.95%2C17.34L937.2%2C15.77L951.95%2C15.65%22%2F%3E%3C%2Fg%3E%3Cg%20class%3D%22points%22%3E%3Cpath%20class%3D%22point%22%20transform%3D%22translate(54.05%2C85.29)%22%20style%3D%22opacity%3A%200.2%3B%20stroke-width%3A%200px%3B%20fill%3A%20rgb(175%2C%20122%2C%20161)%3B%20fill-opacity%3A%201%3B%22%20d%3D%22M3%2C0A3%2C3%200%201%2C1%200%2C-3A3%2C3%200%200%2C1%203%2C0Z%22%2F%3E%3Cpath%20class%3D%22point%22%20transform%3D%22translate(69.29%2C87.26)%22%20style%3D%22opacity%3A%200.2%3B%20stroke-width%3A%200px%3B%20fill%3A%20rgb(175%2C%20122%2C%20161)%3B%20fill-opacity%3A%201%3B%22%20d%3D%22M3%2C0A3%2C3%200%201%2C1%200%2C-3A3%2C3%200%200%2C1%203%2C0Z%22%2F%3E%3Cpath%20class%3D%22point%22%20transform%3D%22translate(84.54%2C82.84)%22%20style%3D%22opacity%3A%200.2%3B%20stroke-width%3A%200px%3B%20fill%3A%20rgb(175%2C%20122%2C%20161)%3B%20fill-opacity%3A%201%3B%22%20d%3D%22M3%2C0A3%2C3%200%201%2C1%200%2C-3A3%2C3%200%200%2C1%203%2C0Z%22%2F%3E%3Cpath%20class%3D%22point%22%20transform%3D%22translate(98.31%2C82.38)%22%20style%3D%22opacity%3A%200.2%3B%20stroke-width%3A%200px%3B%20fill%3A%20rgb(175%2C%20122%2C%20161)%3B%20fill-opacity%3A%201%3B%22%20d%3D%22M3%2C0A3%2C3%200%201%2C1%200%2C-3A3%2C3%200%200%2C1%203%2C0Z%22%2F%3E%3Cpath%20class%3D%22point%22%20transform%3D%22translate(113.55%2C82.81)%22%20style%3D%22opacity%3A%200.2%3B%20stroke-width%3A%200px%3B%20fill%3A%20rgb(175%2C%20122%2C%20161)%3B%20fill-opacity%3A%201%3B%22%20d%3D%22M3%2C0A3%2C3%200%201%2C1%200%2C-3A3%2C3%200%200%2C1%203%2C0Z%22%2F%3E%3Cpath%20class%3D%22point%22%20transform%3D%22translate(128.3%2C67.78)%22%20style%3D%22opacity%3A%200.2%3B%20stroke-width%3A%200px%3B%20fill%3A%20rgb(175%2C%20122%2C%20161)%3B%20fill-opacity%3A%201%3B%22%20d%3D%22M3%2C0A3%2C3%200%201%2C1%200%2C-3A3%2C3%200%200%2C1%203%2C0Z%22%2F%3E%3Cpath%20class%3D%22point%22%20transform%3D%22translate(143.54%2C64)%22%20style%3D%22opacity%3A%200.2%3B%20stroke-width%3A%200px%3B%20fill%3A%20rgb(175%2C%20122%2C%20161)%3B%20fill-opacity%3A%201%3B%22%20d%3D%22M3%2C0A3%2C3%200%201%2C1%200%2C-3A3%2C3%200%200%2C1%203%2C0Z%22%2F%3E%3Cpath%20class%3D%22point%22%20transform%3D%22translate(158.3%2C65.72)%22%20style%3D%22opacity%3A%200.2%3B%20stroke-width%3A%200px%3B%20fill%3A%20rgb(175%2C%20122%2C%20161)%3B%20fill-opacity%3A%201%3B%22%20d%3D%22M3%2C0A3%2C3%200%201%2C1%200%2C-3A3%2C3%200%200%2C1%203%2C0Z%22%2F%3E%3Cpath%20class%3D%22point%22%20transform%3D%22translate(173.54%2C64.19)%22%20style%3D%22opacity%3A%200.2%3B%20stroke-width%3A%200px%3B%20fill%3A%20rgb(175%2C%20122%2C%20161)%3B%20fill-opacity%3A%201%3B%22%20d%3D%22M3%2C0A3%2C3%200%201%2C1%200%2C-3A3%2C3%200%200%2C1%203%2C0Z%22%2F%3E%3Cpath%20class%3D%22point%22%20transform%3D%22translate(188.78%2C59.8)%22%20style%3D%22opacity%3A%200.2%3B%20stroke-width%3A%200px%3B%20fill%3A%20rgb(175%2C%20122%2C%20161)%3B%20fill-opacity%3A%201%3B%22%20d%3D%22M3%2C0A3%2C3%200%201%2C1%200%2C-3A3%2C3%200%200%2C1%203%2C0Z%22%2F%3E%3Cpath%20class%3D%22point%22%20transform%3D%22translate(203.54%2C59.1)%22%20style%3D%22opacity%3A%200.2%3B%20stroke-width%3A%200px%3B%20fill%3A%20rgb(175%2C%20122%2C%20161)%3B%20fill-opacity%3A%201%3B%22%20d%3D%22M3%2C0A3%2C3%200%201%2C1%200%2C-3A3%2C3%200%200%2C1%203%2C0Z%22%2F%3E%3Cpath%20class%3D%22point%22%20transform%3D%22translate(218.78%2C58.11)%22%20style%3D%22opacity%3A%200.2%3B%20stroke-width%3A%200px%3B%20fill%3A%20rgb(175%2C%20122%2C%20161)%3B%20fill-opacity%3A%201%3B%22%20d%3D%22M3%2C0A3%2C3%200%201%2C1%200%2C-3A3%2C3%200%200%2C1%203%2C0Z%22%2F%3E%3Cpath%20class%3D%22point%22%20transform%3D%22translate(233.53%2C55.08)%22%20style%3D%22opacity%3A%200.2%3B%20stroke-width%3A%200px%3B%20fill%3A%20rgb(175%2C%20122%2C%20161)%3B%20fill-opacity%3A%201%3B%22%20d%3D%22M3%2C0A3%2C3%200%201%2C1%200%2C-3A3%2C3%200%200%2C1%203%2C0Z%22%2F%3E%3Cpath%20class%3D%22point%22%20transform%3D%22translate(248.78%2C57.91)%22%20style%3D%22opacity%3A%200.2%3B%20stroke-width%3A%200px%3B%20fill%3A%20rgb(175%2C%20122%2C%20161)%3B%20fill-opacity%3A%201%3B%22%20d%3D%22M3%2C0A3%2C3%200%201%2C1%200%2C-3A3%2C3%200%200%2C1%203%2C0Z%22%2F%3E%3Cpath%20class%3D%22point%22%20transform%3D%22translate(264.02%2C55.54)%22%20style%3D%22opacity%3A%200.2%3B%20stroke-width%3A%200px%3B%20fill%3A%20rgb(175%2C%20122%2C%20161)%3B%20fill-opacity%3A%201%3B%22%20d%3D%22M3%2C0A3%2C3%200%201%2C1%200%2C-3A3%2C3%200%200%2C1%203%2C0Z%22%2F%3E%3Cpath%20class%3D%22point%22%20transform%3D%22translate(278.28%2C46.97)%22%20style%3D%22opacity%3A%200.2%3B%20stroke-width%3A%200px%3B%20fill%3A%20rgb(175%2C%20122%2C%20161)%3B%20fill-opacity%3A%201%3B%22%20d%3D%22M3%2C0A3%2C3%200%201%2C1%200%2C-3A3%2C3%200%200%2C1%203%2C0Z%22%2F%3E%3Cpath%20class%3D%22point%22%20transform%3D%22translate(293.52%2C46.51)%22%20style%3D%22opacity%3A%200.2%3B%20stroke-width%3A%200px%3B%20fill%3A%20rgb(175%2C%20122%2C%20161)%3B%20fill-opacity%3A%201%3B%22%20d%3D%22M3%2C0A3%2C3%200%201%2C1%200%2C-3A3%2C3%200%200%2C1%203%2C0Z%22%2F%3E%3Cpath%20class%3D%22point%22%20transform%3D%22translate(308.27%2C47.53)%22%20style%3D%22opacity%3A%200.2%3B%20stroke-width%3A%200px%3B%20fill%3A%20rgb(175%2C%20122%2C%20161)%3B%20fill-opacity%3A%201%3B%22%20d%3D%22M3%2C0A3%2C3%200%201%2C1%200%2C-3A3%2C3%200%200%2C1%203%2C0Z%22%2F%3E%3Cpath%20class%3D%22point%22%20transform%3D%22translate(323.52%2C47.07)%22%20style%3D%22opacity%3A%200.2%3B%20stroke-width%3A%200px%3B%20fill%3A%20rgb(175%2C%20122%2C%20161)%3B%20fill-opacity%3A%201%3B%22%20d%3D%22M3%2C0A3%2C3%200%201%2C1%200%2C-3A3%2C3%200%200%2C1%203%2C0Z%22%2F%3E%3Cpath%20class%3D%22point%22%20transform%3D%22translate(338.27%2C43.54)%22%20style%3D%22opacity%3A%200.2%3B%20stroke-width%3A%200px%3B%20fill%3A%20rgb(175%2C%20122%2C%20161)%3B%20fill-opacity%3A%201%3B%22%20d%3D%22M3%2C0A3%2C3%200%201%2C1%200%2C-3A3%2C3%200%200%2C1%203%2C0Z%22%2F%3E%3Cpath%20class%3D%22point%22%20transform%3D%22translate(353.51%2C42.29)%22%20style%3D%22opacity%3A%200.2%3B%20stroke-width%3A%200px%3B%20fill%3A%20rgb(175%2C%20122%2C%20161)%3B%20fill-opacity%3A%201%3B%22%20d%3D%22M3%2C0A3%2C3%200%201%2C1%200%2C-3A3%2C3%200%200%2C1%203%2C0Z%22%2F%3E%3Cpath%20class%3D%22point%22%20transform%3D%22translate(368.76%2C42.75)%22%20style%3D%22opacity%3A%200.2%3B%20stroke-width%3A%200px%3B%20fill%3A%20rgb(175%2C%20122%2C%20161)%3B%20fill-opacity%3A%201%3B%22%20d%3D%22M3%2C0A3%2C3%200%201%2C1%200%2C-3A3%2C3%200%200%2C1%203%2C0Z%22%2F%3E%3Cpath%20class%3D%22point%22%20transform%3D%22translate(383.51%2C42.87)%22%20style%3D%22opacity%3A%200.2%3B%20stroke-width%3A%200px%3B%20fill%3A%20rgb(175%2C%20122%2C%20161)%3B%20fill-opacity%3A%201%3B%22%20d%3D%22M3%2C0A3%2C3%200%201%2C1%200%2C-3A3%2C3%200%200%2C1%203%2C0Z%22%2F%3E%3Cpath%20class%3D%22point%22%20transform%3D%22translate(398.75%2C42.38)%22%20style%3D%22opacity%3A%200.2%3B%20stroke-width%3A%200px%3B%20fill%3A%20rgb(175%2C%20122%2C%20161)%3B%20fill-opacity%3A%201%3B%22%20d%3D%22M3%2C0A3%2C3%200%201%2C1%200%2C-3A3%2C3%200%200%2C1%203%2C0Z%22%2F%3E%3Cpath%20class%3D%22point%22%20transform%3D%22translate(413.51%2C42.45)%22%20style%3D%22opacity%3A%200.2%3B%20stroke-width%3A%200px%3B%20fill%3A%20rgb(175%2C%20122%2C%20161)%3B%20fill-opacity%3A%201%3B%22%20d%3D%22M3%2C0A3%2C3%200%201%2C1%200%2C-3A3%2C3%200%200%2C1%203%2C0Z%22%2F%3E%3Cpath%20class%3D%22point%22%20transform%3D%22translate(428.75%2C42.53)%22%20style%3D%22opacity%3A%200.2%3B%20stroke-width%3A%200px%3B%20fill%3A%20rgb(175%2C%20122%2C%20161)%3B%20fill-opacity%3A%201%3B%22%20d%3D%22M3%2C0A3%2C3%200%201%2C1%200%2C-3A3%2C3%200%200%2C1%203%2C0Z%22%2F%3E%3Cpath%20class%3D%22point%22%20transform%3D%22translate(443.99%2C42.33)%22%20style%3D%22opacity%3A%200.2%3B%20stroke-width%3A%200px%3B%20fill%3A%20rgb(175%2C%20122%2C%20161)%3B%20fill-opacity%3A%201%3B%22%20d%3D%22M3%2C0A3%2C3%200%201%2C1%200%2C-3A3%2C3%200%200%2C1%203%2C0Z%22%2F%3E%3Cpath%20class%3D%22point%22%20transform%3D%22translate(457.76%2C42.51)%22%20style%3D%22opacity%3A%200.2%3B%20stroke-width%3A%200px%3B%20fill%3A%20rgb(175%2C%20122%2C%20161)%3B%20fill-opacity%3A%201%3B%22%20d%3D%22M3%2C0A3%2C3%200%201%2C1%200%2C-3A3%2C3%200%200%2C1%203%2C0Z%22%2F%3E%3Cpath%20class%3D%22point%22%20transform%3D%22translate(473%2C42.58)%22%20style%3D%22opacity%3A%200.2%3B%20stroke-width%3A%200px%3B%20fill%3A%20rgb(175%2C%20122%2C%20161)%3B%20fill-opacity%3A%201%3B%22%20d%3D%22M3%2C0A3%2C3%200%201%2C1%200%2C-3A3%2C3%200%200%2C1%203%2C0Z%22%2F%3E%3Cpath%20class%3D%22point%22%20transform%3D%22translate(487.76%2C42.56)%22%20style%3D%22opacity%3A%200.2%3B%20stroke-width%3A%200px%3B%20fill%3A%20rgb(175%2C%20122%2C%20161)%3B%20fill-opacity%3A%201%3B%22%20d%3D%22M3%2C0A3%2C3%200%201%2C1%200%2C-3A3%2C3%200%200%2C1%203%2C0Z%22%2F%3E%3Cpath%20class%3D%22point%22%20transform%3D%22translate(503%2C42.36)%22%20style%3D%22opacity%3A%200.2%3B%20stroke-width%3A%200px%3B%20fill%3A%20rgb(175%2C%20122%2C%20161)%3B%20fill-opacity%3A%201%3B%22%20d%3D%22M3%2C0A3%2C3%200%201%2C1%200%2C-3A3%2C3%200%200%2C1%203%2C0Z%22%2F%3E%3Cpath%20class%3D%22point%22%20transform%3D%22translate(517.75%2C33.37)%22%20style%3D%22opacity%3A%200.2%3B%20stroke-width%3A%200px%3B%20fill%3A%20rgb(175%2C%20122%2C%20161)%3B%20fill-opacity%3A%201%3B%22%20d%3D%22M3%2C0A3%2C3%200%201%2C1%200%2C-3A3%2C3%200%200%2C1%203%2C0Z%22%2F%3E%3Cpath%20class%3D%22point%22%20transform%3D%22translate(533%2C31.76)%22%20style%3D%22opacity%3A%200.2%3B%20stroke-width%3A%200px%3B%20fill%3A%20rgb(175%2C%20122%2C%20161)%3B%20fill-opacity%3A%201%3B%22%20d%3D%22M3%2C0A3%2C3%200%201%2C1%200%2C-3A3%2C3%200%200%2C1%203%2C0Z%22%2F%3E%3Cpath%20class%3D%22point%22%20transform%3D%22translate(548.24%2C31.83)%22%20style%3D%22opacity%3A%200.2%3B%20stroke-width%3A%200px%3B%20fill%3A%20rgb(175%2C%20122%2C%20161)%3B%20fill-opacity%3A%201%3B%22%20d%3D%22M3%2C0A3%2C3%200%201%2C1%200%2C-3A3%2C3%200%200%2C1%203%2C0Z%22%2F%3E%3Cpath%20class%3D%22point%22%20transform%3D%22translate(562.99%2C31.94)%22%20style%3D%22opacity%3A%200.2%3B%20stroke-width%3A%200px%3B%20fill%3A%20rgb(175%2C%20122%2C%20161)%3B%20fill-opacity%3A%201%3B%22%20d%3D%22M3%2C0A3%2C3%200%201%2C1%200%2C-3A3%2C3%200%200%2C1%203%2C0Z%22%2F%3E%3Cpath%20class%3D%22point%22%20transform%3D%22translate(578.23%2C32)%22%20style%3D%22opacity%3A%200.2%3B%20stroke-width%3A%200px%3B%20fill%3A%20rgb(175%2C%20122%2C%20161)%3B%20fill-opacity%3A%201%3B%22%20d%3D%22M3%2C0A3%2C3%200%201%2C1%200%2C-3A3%2C3%200%200%2C1%203%2C0Z%22%2F%3E%3Cpath%20class%3D%22point%22%20transform%3D%22translate(592.99%2C31.97)%22%20style%3D%22opacity%3A%200.2%3B%20stroke-width%3A%200px%3B%20fill%3A%20rgb(175%2C%20122%2C%20161)%3B%20fill-opacity%3A%201%3B%22%20d%3D%22M3%2C0A3%2C3%200%201%2C1%200%2C-3A3%2C3%200%200%2C1%203%2C0Z%22%2F%3E%3Cpath%20class%3D%22point%22%20transform%3D%22translate(608.23%2C31.78)%22%20style%3D%22opacity%3A%200.2%3B%20stroke-width%3A%200px%3B%20fill%3A%20rgb(175%2C%20122%2C%20161)%3B%20fill-opacity%3A%201%3B%22%20d%3D%22M3%2C0A3%2C3%200%201%2C1%200%2C-3A3%2C3%200%200%2C1%203%2C0Z%22%2F%3E%3Cpath%20class%3D%22point%22%20transform%3D%22translate(623.47%2C32.02)%22%20style%3D%22opacity%3A%200.2%3B%20stroke-width%3A%200px%3B%20fill%3A%20rgb(175%2C%20122%2C%20161)%3B%20fill-opacity%3A%201%3B%22%20d%3D%22M3%2C0A3%2C3%200%201%2C1%200%2C-3A3%2C3%200%200%2C1%203%2C0Z%22%2F%3E%3Cpath%20class%3D%22point%22%20transform%3D%22translate(637.24%2C31.84)%22%20style%3D%22opacity%3A%200.2%3B%20stroke-width%3A%200px%3B%20fill%3A%20rgb(175%2C%20122%2C%20161)%3B%20fill-opacity%3A%201%3B%22%20d%3D%22M3%2C0A3%2C3%200%201%2C1%200%2C-3A3%2C3%200%200%2C1%203%2C0Z%22%2F%3E%3Cpath%20class%3D%22point%22%20transform%3D%22translate(652.49%2C31.99)%22%20style%3D%22opacity%3A%200.2%3B%20stroke-width%3A%200px%3B%20fill%3A%20rgb(175%2C%20122%2C%20161)%3B%20fill-opacity%3A%201%3B%22%20d%3D%22M3%2C0A3%2C3%200%201%2C1%200%2C-3A3%2C3%200%200%2C1%203%2C0Z%22%2F%3E%3Cpath%20class%3D%22point%22%20transform%3D%22translate(667.24%2C31.83)%22%20style%3D%22opacity%3A%200.2%3B%20stroke-width%3A%200px%3B%20fill%3A%20rgb(175%2C%20122%2C%20161)%3B%20fill-opacity%3A%201%3B%22%20d%3D%22M3%2C0A3%2C3%200%201%2C1%200%2C-3A3%2C3%200%200%2C1%203%2C0Z%22%2F%3E%3Cpath%20class%3D%22point%22%20transform%3D%22translate(682.48%2C31.67)%22%20style%3D%22opacity%3A%200.2%3B%20stroke-width%3A%200px%3B%20fill%3A%20rgb(175%2C%20122%2C%20161)%3B%20fill-opacity%3A%201%3B%22%20d%3D%22M3%2C0A3%2C3%200%201%2C1%200%2C-3A3%2C3%200%200%2C1%203%2C0Z%22%2F%3E%3Cpath%20class%3D%22point%22%20transform%3D%22translate(697.23%2C31.67)%22%20style%3D%22opacity%3A%200.2%3B%20stroke-width%3A%200px%3B%20fill%3A%20rgb(175%2C%20122%2C%20161)%3B%20fill-opacity%3A%201%3B%22%20d%3D%22M3%2C0A3%2C3%200%201%2C1%200%2C-3A3%2C3%200%200%2C1%203%2C0Z%22%2F%3E%3Cpath%20class%3D%22point%22%20transform%3D%22translate(712.48%2C31.7)%22%20style%3D%22opacity%3A%200.2%3B%20stroke-width%3A%200px%3B%20fill%3A%20rgb(175%2C%20122%2C%20161)%3B%20fill-opacity%3A%201%3B%22%20d%3D%22M3%2C0A3%2C3%200%201%2C1%200%2C-3A3%2C3%200%200%2C1%203%2C0Z%22%2F%3E%3Cpath%20class%3D%22point%22%20transform%3D%22translate(727.72%2C31.71)%22%20style%3D%22opacity%3A%200.2%3B%20stroke-width%3A%200px%3B%20fill%3A%20rgb(175%2C%20122%2C%20161)%3B%20fill-opacity%3A%201%3B%22%20d%3D%22M3%2C0A3%2C3%200%201%2C1%200%2C-3A3%2C3%200%200%2C1%203%2C0Z%22%2F%3E%3Cpath%20class%3D%22point%22%20transform%3D%22translate(742.47%2C32)%22%20style%3D%22opacity%3A%200.2%3B%20stroke-width%3A%200px%3B%20fill%3A%20rgb(175%2C%20122%2C%20161)%3B%20fill-opacity%3A%201%3B%22%20d%3D%22M3%2C0A3%2C3%200%201%2C1%200%2C-3A3%2C3%200%200%2C1%203%2C0Z%22%2F%3E%3Cpath%20class%3D%22point%22%20transform%3D%22translate(757.72%2C31.87)%22%20style%3D%22opacity%3A%200.2%3B%20stroke-width%3A%200px%3B%20fill%3A%20rgb(175%2C%20122%2C%20161)%3B%20fill-opacity%3A%201%3B%22%20d%3D%22M3%2C0A3%2C3%200%201%2C1%200%2C-3A3%2C3%200%200%2C1%203%2C0Z%22%2F%3E%3Cpath%20class%3D%22point%22%20transform%3D%22translate(772.47%2C31.86)%22%20style%3D%22opacity%3A%200.2%3B%20stroke-width%3A%200px%3B%20fill%3A%20rgb(175%2C%20122%2C%20161)%3B%20fill-opacity%3A%201%3B%22%20d%3D%22M3%2C0A3%2C3%200%201%2C1%200%2C-3A3%2C3%200%200%2C1%203%2C0Z%22%2F%3E%3Cpath%20class%3D%22point%22%20transform%3D%22translate(787.71%2C31.91)%22%20style%3D%22opacity%3A%200.2%3B%20stroke-width%3A%200px%3B%20fill%3A%20rgb(175%2C%20122%2C%20161)%3B%20fill-opacity%3A%201%3B%22%20d%3D%22M3%2C0A3%2C3%200%201%2C1%200%2C-3A3%2C3%200%200%2C1%203%2C0Z%22%2F%3E%3Cpath%20class%3D%22point%22%20transform%3D%22translate(802.96%2C31.93)%22%20style%3D%22opacity%3A%200.2%3B%20stroke-width%3A%200px%3B%20fill%3A%20rgb(175%2C%20122%2C%20161)%3B%20fill-opacity%3A%201%3B%22%20d%3D%22M3%2C0A3%2C3%200%201%2C1%200%2C-3A3%2C3%200%200%2C1%203%2C0Z%22%2F%3E%3Cpath%20class%3D%22point%22%20transform%3D%22translate(816.72%2C31.94)%22%20style%3D%22opacity%3A%200.2%3B%20stroke-width%3A%200px%3B%20fill%3A%20rgb(175%2C%20122%2C%20161)%3B%20fill-opacity%3A%201%3B%22%20d%3D%22M3%2C0A3%2C3%200%201%2C1%200%2C-3A3%2C3%200%200%2C1%203%2C0Z%22%2F%3E%3Cpath%20class%3D%22point%22%20transform%3D%22translate(831.97%2C31.89)%22%20style%3D%22opacity%3A%200.2%3B%20stroke-width%3A%200px%3B%20fill%3A%20rgb(175%2C%20122%2C%20161)%3B%20fill-opacity%3A%201%3B%22%20d%3D%22M3%2C0A3%2C3%200%201%2C1%200%2C-3A3%2C3%200%200%2C1%203%2C0Z%22%2F%3E%3Cpath%20class%3D%22point%22%20transform%3D%22translate(846.72%2C28.16)%22%20style%3D%22opacity%3A%200.2%3B%20stroke-width%3A%200px%3B%20fill%3A%20rgb(175%2C%20122%2C%20161)%3B%20fill-opacity%3A%201%3B%22%20d%3D%22M3%2C0A3%2C3%200%201%2C1%200%2C-3A3%2C3%200%200%2C1%203%2C0Z%22%2F%3E%3Cpath%20class%3D%22point%22%20transform%3D%22translate(861.96%2C15.94)%22%20style%3D%22opacity%3A%200.2%3B%20stroke-width%3A%200px%3B%20fill%3A%20rgb(175%2C%20122%2C%20161)%3B%20fill-opacity%3A%201%3B%22%20d%3D%22M3%2C0A3%2C3%200%201%2C1%200%2C-3A3%2C3%200%200%2C1%203%2C0Z%22%2F%3E%3Cpath%20class%3D%22point%22%20transform%3D%22translate(876.72%2C15.87)%22%20style%3D%22opacity%3A%200.2%3B%20stroke-width%3A%200px%3B%20fill%3A%20rgb(175%2C%20122%2C%20161)%3B%20fill-opacity%3A%201%3B%22%20d%3D%22M3%2C0A3%2C3%200%201%2C1%200%2C-3A3%2C3%200%200%2C1%203%2C0Z%22%2F%3E%3Cpath%20class%3D%22point%22%20transform%3D%22translate(891.96%2C15.7)%22%20style%3D%22opacity%3A%200.2%3B%20stroke-width%3A%200px%3B%20fill%3A%20rgb(175%2C%20122%2C%20161)%3B%20fill-opacity%3A%201%3B%22%20d%3D%22M3%2C0A3%2C3%200%201%2C1%200%2C-3A3%2C3%200%200%2C1%203%2C0Z%22%2F%3E%3Cpath%20class%3D%22point%22%20transform%3D%22translate(907.2%2C15.71)%22%20style%3D%22opacity%3A%200.2%3B%20stroke-width%3A%200px%3B%20fill%3A%20rgb(175%2C%20122%2C%20161)%3B%20fill-opacity%3A%201%3B%22%20d%3D%22M3%2C0A3%2C3%200%201%2C1%200%2C-3A3%2C3%200%200%2C1%203%2C0Z%22%2F%3E%3Cpath%20class%3D%22point%22%20transform%3D%22translate(921.95%2C17.34)%22%20style%3D%22opacity%3A%200.2%3B%20stroke-width%3A%200px%3B%20fill%3A%20rgb(175%2C%20122%2C%20161)%3B%20fill-opacity%3A%201%3B%22%20d%3D%22M3%2C0A3%2C3%200%201%2C1%200%2C-3A3%2C3%200%200%2C1%203%2C0Z%22%2F%3E%3Cpath%20class%3D%22point%22%20transform%3D%22translate(937.2%2C15.77)%22%20style%3D%22opacity%3A%200.2%3B%20stroke-width%3A%200px%3B%20fill%3A%20rgb(175%2C%20122%2C%20161)%3B%20fill-opacity%3A%201%3B%22%20d%3D%22M3%2C0A3%2C3%200%201%2C1%200%2C-3A3%2C3%200%200%2C1%203%2C0Z%22%2F%3E%3Cpath%20class%3D%22point%22%20transform%3D%22translate(951.95%2C15.65)%22%20style%3D%22opacity%3A%200.2%3B%20stroke-width%3A%200px%3B%20fill%3A%20rgb(175%2C%20122%2C%20161)%3B%20fill-opacity%3A%201%3B%22%20d%3D%22M3%2C0A3%2C3%200%201%2C1%200%2C-3A3%2C3%200%200%2C1%203%2C0Z%22%2F%3E%3C%2Fg%3E%3Cg%20class%3D%22text%22%2F%3E%3C%2Fg%3E%3C%2Fg%3E%3C%2Fg%3E%3Cg%20class%3D%22overplot%22%2F%3E%3Cpath%20class%3D%22xlines-above%20crisp%22%20style%3D%22fill%3A%20none%3B%20stroke-width%3A%201px%3B%20stroke%3A%20rgb(89%2C%2089%2C%2089)%3B%20stroke-opacity%3A%200.25%3B%22%20d%3D%22M79%2C268.5H1086%22%2F%3E%3Cpath%20class%3D%22ylines-above%20crisp%22%20style%3D%22fill%3A%20none%3B%20stroke-width%3A%201px%3B%20stroke%3A%20rgb(89%2C%2089%2C%2089)%3B%20stroke-opacity%3A%200.25%3B%22%20d%3D%22M79.5%2C30V268%22%2F%3E%3Cg%20class%3D%22overlines-above%22%2F%3E%3Cg%20class%3D%22xaxislayer-above%22%3E%3Cg%20class%3D%22xtick%22%3E%3Ctext%20text-anchor%3D%22middle%22%20x%3D%220%22%20y%3D%22283.4%22%20style%3D%22font-family%3A%20%26quot%3BOpen%20Sans%26quot%3B%2C%20verdana%2C%20arial%2C%20sans-serif%3B%20font-size%3A%2012px%3B%20fill%3A%20rgb(89%2C%2089%2C%2089)%3B%20fill-opacity%3A%201%3B%20white-space%3A%20pre%3B%22%20data-unformatted%3D%222011%22%20data-math%3D%22N%22%20transform%3D%22translate(149.29000000000002%2C0)%22%3E2011%3C%2Ftext%3E%3C%2Fg%3E%3Cg%20class%3D%22xtick%22%3E%3Ctext%20text-anchor%3D%22middle%22%20x%3D%220%22%20y%3D%22283.4%22%20style%3D%22font-family%3A%20%26quot%3BOpen%20Sans%26quot%3B%2C%20verdana%2C%20arial%2C%20sans-serif%3B%20font-size%3A%2012px%3B%20fill%3A%20rgb(89%2C%2089%2C%2089)%3B%20fill-opacity%3A%201%3B%20white-space%3A%20pre%3B%22%20data-unformatted%3D%222012%22%20data-math%3D%22N%22%20transform%3D%22translate(328.78%2C0)%22%3E2012%3C%2Ftext%3E%3C%2Fg%3E%3Cg%20class%3D%22xtick%22%3E%3Ctext%20text-anchor%3D%22middle%22%20x%3D%220%22%20y%3D%22283.4%22%20style%3D%22font-family%3A%20%26quot%3BOpen%20Sans%26quot%3B%2C%20verdana%2C%20arial%2C%20sans-serif%3B%20font-size%3A%2012px%3B%20fill%3A%20rgb(89%2C%2089%2C%2089)%3B%20fill-opacity%3A%201%3B%20white-space%3A%20pre%3B%22%20data-unformatted%3D%222013%22%20data-math%3D%22N%22%20transform%3D%22translate(508.75%2C0)%22%3E2013%3C%2Ftext%3E%3C%2Fg%3E%3Cg%20class%3D%22xtick%22%3E%3Ctext%20text-anchor%3D%22middle%22%20x%3D%220%22%20y%3D%22283.4%22%20style%3D%22font-family%3A%20%26quot%3BOpen%20Sans%26quot%3B%2C%20verdana%2C%20arial%2C%20sans-serif%3B%20font-size%3A%2012px%3B%20fill%3A%20rgb(89%2C%2089%2C%2089)%3B%20fill-opacity%3A%201%3B%20white-space%3A%20pre%3B%22%20data-unformatted%3D%222014%22%20data-math%3D%22N%22%20transform%3D%22translate(688.23%2C0)%22%3E2014%3C%2Ftext%3E%3C%2Fg%3E%3Cg%20class%3D%22xtick%22%3E%3Ctext%20text-anchor%3D%22middle%22%20x%3D%220%22%20y%3D%22283.4%22%20style%3D%22font-family%3A%20%26quot%3BOpen%20Sans%26quot%3B%2C%20verdana%2C%20arial%2C%20sans-serif%3B%20font-size%3A%2012px%3B%20fill%3A%20rgb(89%2C%2089%2C%2089)%3B%20fill-opacity%3A%201%3B%20white-space%3A%20pre%3B%22%20data-unformatted%3D%222015%22%20data-math%3D%22N%22%20transform%3D%22translate(867.71%2C0)%22%3E2015%3C%2Ftext%3E%3C%2Fg%3E%3Cg%20class%3D%22xtick%22%3E%3Ctext%20text-anchor%3D%22middle%22%20x%3D%220%22%20y%3D%22283.4%22%20style%3D%22font-family%3A%20%26quot%3BOpen%20Sans%26quot%3B%2C%20verdana%2C%20arial%2C%20sans-serif%3B%20font-size%3A%2012px%3B%20fill%3A%20rgb(89%2C%2089%2C%2089)%3B%20fill-opacity%3A%201%3B%20white-space%3A%20pre%3B%22%20data-unformatted%3D%222016%22%20data-math%3D%22N%22%20transform%3D%22translate(1047.19%2C0)%22%3E2016%3C%2Ftext%3E%3C%2Fg%3E%3C%2Fg%3E%3Cg%20class%3D%22yaxislayer-above%22%3E%3Cg%20class%3D%22ytick%22%3E%3Ctext%20text-anchor%3D%22end%22%20x%3D%2276.6%22%20y%3D%224.199999999999999%22%20style%3D%22font-family%3A%20%26quot%3BOpen%20Sans%26quot%3B%2C%20verdana%2C%20arial%2C%20sans-serif%3B%20font-size%3A%2012px%3B%20fill%3A%20rgb(89%2C%2089%2C%2089)%3B%20fill-opacity%3A%201%3B%20white-space%3A%20pre%3B%22%20data-unformatted%3D%225%22%20data-math%3D%22N%22%20transform%3D%22translate(0%2C265.57)%22%3E5%3C%2Ftext%3E%3C%2Fg%3E%3Cg%20class%3D%22ytick%22%3E%3Ctext%20text-anchor%3D%22end%22%20x%3D%2276.6%22%20y%3D%224.199999999999999%22%20style%3D%22font-family%3A%20%26quot%3BOpen%20Sans%26quot%3B%2C%20verdana%2C%20arial%2C%20sans-serif%3B%20font-size%3A%2012px%3B%20fill%3A%20rgb(89%2C%2089%2C%2089)%3B%20fill-opacity%3A%201%3B%20white-space%3A%20pre%3B%22%20data-unformatted%3D%2210%22%20data-math%3D%22N%22%20transform%3D%22translate(0%2C216.78)%22%3E10%3C%2Ftext%3E%3C%2Fg%3E%3Cg%20class%3D%22ytick%22%3E%3Ctext%20text-anchor%3D%22end%22%20x%3D%2276.6%22%20y%3D%224.199999999999999%22%20style%3D%22font-family%3A%20%26quot%3BOpen%20Sans%26quot%3B%2C%20verdana%2C%20arial%2C%20sans-serif%3B%20font-size%3A%2012px%3B%20fill%3A%20rgb(89%2C%2089%2C%2089)%3B%20fill-opacity%3A%201%3B%20white-space%3A%20pre%3B%22%20data-unformatted%3D%2215%22%20data-math%3D%22N%22%20transform%3D%22translate(0%2C167.99)%22%3E15%3C%2Ftext%3E%3C%2Fg%3E%3Cg%20class%3D%22ytick%22%3E%3Ctext%20text-anchor%3D%22end%22%20x%3D%2276.6%22%20y%3D%224.199999999999999%22%20style%3D%22font-family%3A%20%26quot%3BOpen%20Sans%26quot%3B%2C%20verdana%2C%20arial%2C%20sans-serif%3B%20font-size%3A%2012px%3B%20fill%3A%20rgb(89%2C%2089%2C%2089)%3B%20fill-opacity%3A%201%3B%20white-space%3A%20pre%3B%22%20data-unformatted%3D%2220%22%20data-math%3D%22N%22%20transform%3D%22translate(0%2C119.19)%22%3E20%3C%2Ftext%3E%3C%2Fg%3E%3Cg%20class%3D%22ytick%22%3E%3Ctext%20text-anchor%3D%22end%22%20x%3D%2276.6%22%20y%3D%224.199999999999999%22%20style%3D%22font-family%3A%20%26quot%3BOpen%20Sans%26quot%3B%2C%20verdana%2C%20arial%2C%20sans-serif%3B%20font-size%3A%2012px%3B%20fill%3A%20rgb(89%2C%2089%2C%2089)%3B%20fill-opacity%3A%201%3B%20white-space%3A%20pre%3B%22%20data-unformatted%3D%2225%22%20data-math%3D%22N%22%20transform%3D%22translate(0%2C70.4)%22%3E25%3C%2Ftext%3E%3C%2Fg%3E%3C%2Fg%3E%3Cg%20class%3D%22overaxes-above%22%2F%3E%3C%2Fg%3E%3C%2Fg%3E%3Cg%20class%3D%22polarlayer%22%2F%3E%3Cg%20class%3D%22ternarylayer%22%2F%3E%3Cg%20class%3D%22geolayer%22%2F%3E%3Cg%20class%3D%22funnelarealayer%22%2F%3E%3Cg%20class%3D%22pielayer%22%2F%3E%3Cg%20class%3D%22treemaplayer%22%2F%3E%3Cg%20class%3D%22sunburstlayer%22%2F%3E%3Cg%20class%3D%22glimages%22%2F%3E%3Cdefs%20id%3D%22topdefs-44f7cd%22%3E%3Cg%20class%3D%22clips%22%2F%3E%3CclipPath%20id%3D%22legend44f7cd%22%3E%3Crect%20width%3D%2257%22%20height%3D%22203%22%20x%3D%220%22%20y%3D%220%22%2F%3E%3C%2FclipPath%3E%3C%2Fdefs%3E%3Cg%20class%3D%22indicatorlayer%22%2F%3E%3Cg%20class%3D%22layer-above%22%3E%3Cg%20class%3D%22imagelayer%22%2F%3E%3Cg%20class%3D%22shapelayer%22%2F%3E%3C%2Fg%3E%3Cg%20class%3D%22infolayer%22%3E%3Cg%20class%3D%22legend%22%20pointer-events%3D%22all%22%20transform%3D%22translate(1106%2C30)%22%3E%3Crect%20class%3D%22bg%22%20shape-rendering%3D%22crispEdges%22%20style%3D%22stroke%3A%20rgb(68%2C%2068%2C%2068)%3B%20stroke-opacity%3A%201%3B%20fill%3A%20rgb(255%2C%20255%2C%20255)%3B%20fill-opacity%3A%201%3B%20stroke-width%3A%200px%3B%22%20width%3D%2257%22%20height%3D%22203%22%20x%3D%220%22%20y%3D%220%22%2F%3E%3Cg%20class%3D%22scrollbox%22%20transform%3D%22%22%20clip-path%3D%22url('%23legend44f7cd')%22%3E%3Cg%20class%3D%22groups%22%20transform%3D%22%22%3E%3Cg%20class%3D%22traces%22%20style%3D%22opacity%3A%201%3B%22%20transform%3D%22translate(0%2C14.5)%22%3E%3Ctext%20class%3D%22legendtext%22%20text-anchor%3D%22start%22%20style%3D%22font-family%3A%20%26quot%3BOpen%20Sans%26quot%3B%2C%20verdana%2C%20arial%2C%20sans-serif%3B%20font-size%3A%2012px%3B%20fill%3A%20rgb(89%2C%2089%2C%2089)%3B%20fill-opacity%3A%201%3B%20white-space%3A%20pre%3B%22%20x%3D%2240%22%20y%3D%224.680000000000001%22%20data-unformatted%3D%22A%22%20data-math%3D%22N%22%3EA%3C%2Ftext%3E%3Cg%20class%3D%22layers%22%20style%3D%22opacity%3A%201%3B%22%3E%3Cg%20class%3D%22legendfill%22%2F%3E%3Cg%20class%3D%22legendlines%22%3E%3Cpath%20class%3D%22js-line%22%20d%3D%22M5%2C0h30%22%20style%3D%22fill%3A%20none%3B%20stroke%3A%20rgb(78%2C%20121%2C%20167)%3B%20stroke-opacity%3A%201%3B%20stroke-width%3A%202px%3B%22%2F%3E%3C%2Fg%3E%3Cg%20class%3D%22legendsymbols%22%3E%3Cg%20class%3D%22legendpoints%22%3E%3Cpath%20class%3D%22scatterpts%22%20transform%3D%22translate(20%2C0)%22%20style%3D%22opacity%3A%201%3B%20stroke-width%3A%200px%3B%20fill%3A%20rgb(78%2C%20121%2C%20167)%3B%20fill-opacity%3A%201%3B%22%20d%3D%22M3%2C0A3%2C3%200%201%2C1%200%2C-3A3%2C3%200%200%2C1%203%2C0Z%22%2F%3E%3C%2Fg%3E%3C%2Fg%3E%3C%2Fg%3E%3Crect%20class%3D%22legendtoggle%22%20style%3D%22cursor%3A%20pointer%3B%20fill%3A%20rgb(0%2C%200%2C%200)%3B%20fill-opacity%3A%200%3B%22%20pointer-events%3D%22all%22%20x%3D%220%22%20y%3D%22-9.5%22%20width%3D%2251.41667175292969%22%20height%3D%2219%22%2F%3E%3C%2Fg%3E%3C%2Fg%3E%3Cg%20class%3D%22groups%22%20transform%3D%22translate(0%2C10)%22%3E%3Cg%20class%3D%22traces%22%20style%3D%22opacity%3A%201%3B%22%20transform%3D%22translate(0%2C33.5)%22%3E%3Ctext%20class%3D%22legendtext%22%20text-anchor%3D%22start%22%20style%3D%22font-family%3A%20%26quot%3BOpen%20Sans%26quot%3B%2C%20verdana%2C%20arial%2C%20sans-serif%3B%20font-size%3A%2012px%3B%20fill%3A%20rgb(89%2C%2089%2C%2089)%3B%20fill-opacity%3A%201%3B%20white-space%3A%20pre%3B%22%20x%3D%2240%22%20y%3D%224.680000000000001%22%20data-unformatted%3D%22B%22%20data-math%3D%22N%22%3EB%3C%2Ftext%3E%3Cg%20class%3D%22layers%22%20style%3D%22opacity%3A%201%3B%22%3E%3Cg%20class%3D%22legendfill%22%2F%3E%3Cg%20class%3D%22legendlines%22%3E%3Cpath%20class%3D%22js-line%22%20d%3D%22M5%2C0h30%22%20style%3D%22fill%3A%20none%3B%20stroke%3A%20rgb(242%2C%20142%2C%2044)%3B%20stroke-opacity%3A%201%3B%20stroke-width%3A%202px%3B%22%2F%3E%3C%2Fg%3E%3Cg%20class%3D%22legendsymbols%22%3E%3Cg%20class%3D%22legendpoints%22%3E%3Cpath%20class%3D%22scatterpts%22%20transform%3D%22translate(20%2C0)%22%20style%3D%22opacity%3A%201%3B%20stroke-width%3A%200px%3B%20fill%3A%20rgb(242%2C%20142%2C%2044)%3B%20fill-opacity%3A%201%3B%22%20d%3D%22M3%2C0A3%2C3%200%201%2C1%200%2C-3A3%2C3%200%200%2C1%203%2C0Z%22%2F%3E%3C%2Fg%3E%3C%2Fg%3E%3C%2Fg%3E%3Crect%20class%3D%22legendtoggle%22%20style%3D%22cursor%3A%20pointer%3B%20fill%3A%20rgb(0%2C%200%2C%200)%3B%20fill-opacity%3A%200%3B%22%20pointer-events%3D%22all%22%20x%3D%220%22%20y%3D%22-9.5%22%20width%3D%2251.41667175292969%22%20height%3D%2219%22%2F%3E%3C%2Fg%3E%3C%2Fg%3E%3Cg%20class%3D%22groups%22%20transform%3D%22translate(0%2C20)%22%3E%3Cg%20class%3D%22traces%22%20style%3D%22opacity%3A%201%3B%22%20transform%3D%22translate(0%2C52.5)%22%3E%3Ctext%20class%3D%22legendtext%22%20text-anchor%3D%22start%22%20style%3D%22font-family%3A%20%26quot%3BOpen%20Sans%26quot%3B%2C%20verdana%2C%20arial%2C%20sans-serif%3B%20font-size%3A%2012px%3B%20fill%3A%20rgb(89%2C%2089%2C%2089)%3B%20fill-opacity%3A%201%3B%20white-space%3A%20pre%3B%22%20x%3D%2240%22%20y%3D%224.680000000000001%22%20data-unformatted%3D%22C%22%20data-math%3D%22N%22%3EC%3C%2Ftext%3E%3Cg%20class%3D%22layers%22%20style%3D%22opacity%3A%201%3B%22%3E%3Cg%20class%3D%22legendfill%22%2F%3E%3Cg%20class%3D%22legendlines%22%3E%3Cpath%20class%3D%22js-line%22%20d%3D%22M5%2C0h30%22%20style%3D%22fill%3A%20none%3B%20stroke%3A%20rgb(225%2C%2087%2C%2089)%3B%20stroke-opacity%3A%201%3B%20stroke-width%3A%202px%3B%22%2F%3E%3C%2Fg%3E%3Cg%20class%3D%22legendsymbols%22%3E%3Cg%20class%3D%22legendpoints%22%3E%3Cpath%20class%3D%22scatterpts%22%20transform%3D%22translate(20%2C0)%22%20style%3D%22opacity%3A%201%3B%20stroke-width%3A%200px%3B%20fill%3A%20rgb(225%2C%2087%2C%2089)%3B%20fill-opacity%3A%201%3B%22%20d%3D%22M3%2C0A3%2C3%200%201%2C1%200%2C-3A3%2C3%200%200%2C1%203%2C0Z%22%2F%3E%3C%2Fg%3E%3C%2Fg%3E%3C%2Fg%3E%3Crect%20class%3D%22legendtoggle%22%20style%3D%22cursor%3A%20pointer%3B%20fill%3A%20rgb(0%2C%200%2C%200)%3B%20fill-opacity%3A%200%3B%22%20pointer-events%3D%22all%22%20x%3D%220%22%20y%3D%22-9.5%22%20width%3D%2251.41667175292969%22%20height%3D%2219%22%2F%3E%3C%2Fg%3E%3C%2Fg%3E%3Cg%20class%3D%22groups%22%20transform%3D%22translate(0%2C30)%22%3E%3Cg%20class%3D%22traces%22%20style%3D%22opacity%3A%201%3B%22%20transform%3D%22translate(0%2C71.5)%22%3E%3Ctext%20class%3D%22legendtext%22%20text-anchor%3D%22start%22%20style%3D%22font-family%3A%20%26quot%3BOpen%20Sans%26quot%3B%2C%20verdana%2C%20arial%2C%20sans-serif%3B%20font-size%3A%2012px%3B%20fill%3A%20rgb(89%2C%2089%2C%2089)%3B%20fill-opacity%3A%201%3B%20white-space%3A%20pre%3B%22%20x%3D%2240%22%20y%3D%224.680000000000001%22%20data-unformatted%3D%22D%22%20data-math%3D%22N%22%3ED%3C%2Ftext%3E%3Cg%20class%3D%22layers%22%20style%3D%22opacity%3A%201%3B%22%3E%3Cg%20class%3D%22legendfill%22%2F%3E%3Cg%20class%3D%22legendlines%22%3E%3Cpath%20class%3D%22js-line%22%20d%3D%22M5%2C0h30%22%20style%3D%22fill%3A%20none%3B%20stroke%3A%20rgb(118%2C%20183%2C%20178)%3B%20stroke-opacity%3A%201%3B%20stroke-width%3A%202px%3B%22%2F%3E%3C%2Fg%3E%3Cg%20class%3D%22legendsymbols%22%3E%3Cg%20class%3D%22legendpoints%22%3E%3Cpath%20class%3D%22scatterpts%22%20transform%3D%22translate(20%2C0)%22%20style%3D%22opacity%3A%201%3B%20stroke-width%3A%200px%3B%20fill%3A%20rgb(118%2C%20183%2C%20178)%3B%20fill-opacity%3A%201%3B%22%20d%3D%22M3%2C0A3%2C3%200%201%2C1%200%2C-3A3%2C3%200%200%2C1%203%2C0Z%22%2F%3E%3C%2Fg%3E%3C%2Fg%3E%3C%2Fg%3E%3Crect%20class%3D%22legendtoggle%22%20style%3D%22cursor%3A%20pointer%3B%20fill%3A%20rgb(0%2C%200%2C%200)%3B%20fill-opacity%3A%200%3B%22%20pointer-events%3D%22all%22%20x%3D%220%22%20y%3D%22-9.5%22%20width%3D%2251.41667175292969%22%20height%3D%2219%22%2F%3E%3C%2Fg%3E%3C%2Fg%3E%3Cg%20class%3D%22groups%22%20transform%3D%22translate(0%2C40)%22%3E%3Cg%20class%3D%22traces%22%20style%3D%22opacity%3A%201%3B%22%20transform%3D%22translate(0%2C90.5)%22%3E%3Ctext%20class%3D%22legendtext%22%20text-anchor%3D%22start%22%20style%3D%22font-family%3A%20%26quot%3BOpen%20Sans%26quot%3B%2C%20verdana%2C%20arial%2C%20sans-serif%3B%20font-size%3A%2012px%3B%20fill%3A%20rgb(89%2C%2089%2C%2089)%3B%20fill-opacity%3A%201%3B%20white-space%3A%20pre%3B%22%20x%3D%2240%22%20y%3D%224.680000000000001%22%20data-unformatted%3D%22E%22%20data-math%3D%22N%22%3EE%3C%2Ftext%3E%3Cg%20class%3D%22layers%22%20style%3D%22opacity%3A%201%3B%22%3E%3Cg%20class%3D%22legendfill%22%2F%3E%3Cg%20class%3D%22legendlines%22%3E%3Cpath%20class%3D%22js-line%22%20d%3D%22M5%2C0h30%22%20style%3D%22fill%3A%20none%3B%20stroke%3A%20rgb(89%2C%20161%2C%2079)%3B%20stroke-opacity%3A%201%3B%20stroke-width%3A%202px%3B%22%2F%3E%3C%2Fg%3E%3Cg%20class%3D%22legendsymbols%22%3E%3Cg%20class%3D%22legendpoints%22%3E%3Cpath%20class%3D%22scatterpts%22%20transform%3D%22translate(20%2C0)%22%20style%3D%22opacity%3A%201%3B%20stroke-width%3A%200px%3B%20fill%3A%20rgb(89%2C%20161%2C%2079)%3B%20fill-opacity%3A%201%3B%22%20d%3D%22M3%2C0A3%2C3%200%201%2C1%200%2C-3A3%2C3%200%200%2C1%203%2C0Z%22%2F%3E%3C%2Fg%3E%3C%2Fg%3E%3C%2Fg%3E%3Crect%20class%3D%22legendtoggle%22%20style%3D%22cursor%3A%20pointer%3B%20fill%3A%20rgb(0%2C%200%2C%200)%3B%20fill-opacity%3A%200%3B%22%20pointer-events%3D%22all%22%20x%3D%220%22%20y%3D%22-9.5%22%20width%3D%2251.41667175292969%22%20height%3D%2219%22%2F%3E%3C%2Fg%3E%3C%2Fg%3E%3Cg%20class%3D%22groups%22%20transform%3D%22translate(0%2C50)%22%3E%3Cg%20class%3D%22traces%22%20style%3D%22opacity%3A%201%3B%22%20transform%3D%22translate(0%2C109.5)%22%3E%3Ctext%20class%3D%22legendtext%22%20text-anchor%3D%22start%22%20style%3D%22font-family%3A%20%26quot%3BOpen%20Sans%26quot%3B%2C%20verdana%2C%20arial%2C%20sans-serif%3B%20font-size%3A%2012px%3B%20fill%3A%20rgb(89%2C%2089%2C%2089)%3B%20fill-opacity%3A%201%3B%20white-space%3A%20pre%3B%22%20x%3D%2240%22%20y%3D%224.680000000000001%22%20data-unformatted%3D%22F%22%20data-math%3D%22N%22%3EF%3C%2Ftext%3E%3Cg%20class%3D%22layers%22%20style%3D%22opacity%3A%201%3B%22%3E%3Cg%20class%3D%22legendfill%22%2F%3E%3Cg%20class%3D%22legendlines%22%3E%3Cpath%20class%3D%22js-line%22%20d%3D%22M5%2C0h30%22%20style%3D%22fill%3A%20none%3B%20stroke%3A%20rgb(237%2C%20201%2C%2073)%3B%20stroke-opacity%3A%201%3B%20stroke-width%3A%202px%3B%22%2F%3E%3C%2Fg%3E%3Cg%20class%3D%22legendsymbols%22%3E%3Cg%20class%3D%22legendpoints%22%3E%3Cpath%20class%3D%22scatterpts%22%20transform%3D%22translate(20%2C0)%22%20style%3D%22opacity%3A%201%3B%20stroke-width%3A%200px%3B%20fill%3A%20rgb(237%2C%20201%2C%2073)%3B%20fill-opacity%3A%201%3B%22%20d%3D%22M3%2C0A3%2C3%200%201%2C1%200%2C-3A3%2C3%200%200%2C1%203%2C0Z%22%2F%3E%3C%2Fg%3E%3C%2Fg%3E%3C%2Fg%3E%3Crect%20class%3D%22legendtoggle%22%20style%3D%22cursor%3A%20pointer%3B%20fill%3A%20rgb(0%2C%200%2C%200)%3B%20fill-opacity%3A%200%3B%22%20pointer-events%3D%22all%22%20x%3D%220%22%20y%3D%22-9.5%22%20width%3D%2251.41667175292969%22%20height%3D%2219%22%2F%3E%3C%2Fg%3E%3C%2Fg%3E%3Cg%20class%3D%22groups%22%20transform%3D%22translate(0%2C60)%22%3E%3Cg%20class%3D%22traces%22%20style%3D%22opacity%3A%201%3B%22%20transform%3D%22translate(0%2C128.5)%22%3E%3Ctext%20class%3D%22legendtext%22%20text-anchor%3D%22start%22%20style%3D%22font-family%3A%20%26quot%3BOpen%20Sans%26quot%3B%2C%20verdana%2C%20arial%2C%20sans-serif%3B%20font-size%3A%2012px%3B%20fill%3A%20rgb(89%2C%2089%2C%2089)%3B%20fill-opacity%3A%201%3B%20white-space%3A%20pre%3B%22%20x%3D%2240%22%20y%3D%224.680000000000001%22%20data-unformatted%3D%22G%22%20data-math%3D%22N%22%3EG%3C%2Ftext%3E%3Cg%20class%3D%22layers%22%20style%3D%22opacity%3A%201%3B%22%3E%3Cg%20class%3D%22legendfill%22%2F%3E%3Cg%20class%3D%22legendlines%22%3E%3Cpath%20class%3D%22js-line%22%20d%3D%22M5%2C0h30%22%20style%3D%22fill%3A%20none%3B%20stroke%3A%20rgb(175%2C%20122%2C%20161)%3B%20stroke-opacity%3A%201%3B%20stroke-width%3A%202px%3B%22%2F%3E%3C%2Fg%3E%3Cg%20class%3D%22legendsymbols%22%3E%3Cg%20class%3D%22legendpoints%22%3E%3Cpath%20class%3D%22scatterpts%22%20transform%3D%22translate(20%2C0)%22%20style%3D%22opacity%3A%201%3B%20stroke-width%3A%200px%3B%20fill%3A%20rgb(175%2C%20122%2C%20161)%3B%20fill-opacity%3A%201%3B%22%20d%3D%22M3%2C0A3%2C3%200%201%2C1%200%2C-3A3%2C3%200%200%2C1%203%2C0Z%22%2F%3E%3C%2Fg%3E%3C%2Fg%3E%3C%2Fg%3E%3Crect%20class%3D%22legendtoggle%22%20style%3D%22cursor%3A%20pointer%3B%20fill%3A%20rgb(0%2C%200%2C%200)%3B%20fill-opacity%3A%200%3B%22%20pointer-events%3D%22all%22%20x%3D%220%22%20y%3D%22-9.5%22%20width%3D%2251.41667175292969%22%20height%3D%2219%22%2F%3E%3C%2Fg%3E%3C%2Fg%3E%3C%2Fg%3E%3Crect%20class%3D%22scrollbar%22%20rx%3D%2220%22%20ry%3D%223%22%20width%3D%220%22%20height%3D%220%22%20style%3D%22fill%3A%20rgb(128%2C%20139%2C%20164)%3B%20fill-opacity%3A%201%3B%22%20x%3D%220%22%20y%3D%220%22%2F%3E%3C%2Fg%3E%3Cg%20class%3D%22g-gtitle%22%2F%3E%3Cg%20class%3D%22g-xtitle%22%2F%3E%3Cg%20class%3D%22g-ytitle%22%2F%3E%3C%2Fg%3E%3Cg%20class%3D%22menulayer%22%2F%3E%3Cg%20class%3D%22zoomlayer%22%2F%3E%3Cg%20class%3D%22hoverlayer%22%2F%3E%3C%2Fsvg%3E\">"
      ],
      "text/plain": [
       "Open the notebook in JupyterLab with the atoti extension installed and enabled to start editing this widget."
      ]
     },
     "metadata": {},
     "output_type": "display_data"
    }
   ],
   "source": [
    "session.visualize(\"Interest rates by credit score\")"
   ]
  },
  {
   "cell_type": "markdown",
   "metadata": {
    "execution": {
     "iopub.execute_input": "2021-02-09T05:38:39.121593Z",
     "iopub.status.busy": "2021-02-09T05:38:39.120155Z",
     "iopub.status.idle": "2021-02-09T05:38:39.129993Z",
     "shell.execute_reply": "2021-02-09T05:38:39.128425Z",
     "shell.execute_reply.started": "2021-02-09T05:38:39.121501Z"
    }
   },
   "source": [
    "## Count loans"
   ]
  },
  {
   "cell_type": "code",
   "execution_count": 45,
   "metadata": {
    "execution": {
     "iopub.execute_input": "2021-02-09T06:45:07.625637Z",
     "iopub.status.busy": "2021-02-09T06:45:07.625378Z",
     "iopub.status.idle": "2021-02-09T06:45:34.597633Z",
     "shell.execute_reply": "2021-02-09T06:45:34.596491Z",
     "shell.execute_reply.started": "2021-02-09T06:45:07.625612Z"
    }
   },
   "outputs": [],
   "source": [
    "m['count_loans'] = tt.agg.count_distinct(lending_club_data['id'])\n",
    "m['count_loans'].folder = \"LendingClub\""
   ]
  },
  {
   "cell_type": "code",
   "execution_count": 46,
   "metadata": {
    "atoti": {
     "widget": {
      "mapping": {
       "horizontalSubplots": [
        "ALL_MEASURES"
       ],
       "sliceBy": [
        "[Lending Club Data].[loan_status].[loan_status]"
       ],
       "values": [
        "[Measures].[count_loans]"
       ],
       "verticalSubplots": []
      },
      "query": {
       "mdx": "SELECT NON EMPTY Hierarchize(Descendants({[Lending Club Data].[loan_status].[AllMember]}, 1, SELF_AND_BEFORE)) ON ROWS, NON EMPTY {[Measures].[count_loans]} ON COLUMNS FROM [IFRS9]",
       "updateMode": "once"
      },
      "serverKey": "default",
      "widgetKey": "plotly-donut-chart"
     }
    },
    "execution": {
     "iopub.execute_input": "2021-02-09T06:45:34.598708Z",
     "iopub.status.busy": "2021-02-09T06:45:34.598452Z",
     "iopub.status.idle": "2021-02-09T06:45:35.782906Z",
     "shell.execute_reply": "2021-02-09T06:45:35.782270Z",
     "shell.execute_reply.started": "2021-02-09T06:45:34.598681Z"
    }
   },
   "outputs": [
    {
     "data": {
      "application/vnd.atoti.v0+json": {
       "name": null,
       "session": "Unnamed"
      },
      "text/html": [
       "<img src=\"data:image/svg+xml;charset=utf8,%3C%3Fxml%20version%3D%221.0%22%20standalone%3D%22no%22%3F%3E%3Csvg%20xmlns%3D%22http%3A%2F%2Fwww.w3.org%2F2000%2Fsvg%22%20xmlns%3Axlink%3D%22http%3A%2F%2Fwww.w3.org%2F1999%2Fxlink%22%20height%3D%22348%22%20width%3D%221163%22%20viewBox%3D%220%200%201163%20348%22%3E%3Cdefs%20id%3D%22defs-091ae9%22%3E%3Cg%20class%3D%22clips%22%2F%3E%3Cg%20class%3D%22gradients%22%2F%3E%3C%2Fdefs%3E%3Cg%20class%3D%22bglayer%22%2F%3E%3Cg%20class%3D%22draglayer%22%2F%3E%3Cg%20class%3D%22layer-below%22%3E%3Cg%20class%3D%22imagelayer%22%2F%3E%3Cg%20class%3D%22shapelayer%22%2F%3E%3C%2Fg%3E%3Cg%20class%3D%22cartesianlayer%22%2F%3E%3Cg%20class%3D%22polarlayer%22%2F%3E%3Cg%20class%3D%22ternarylayer%22%2F%3E%3Cg%20class%3D%22geolayer%22%2F%3E%3Cg%20class%3D%22funnelarealayer%22%2F%3E%3Cg%20class%3D%22pielayer%22%3E%3Cg%20class%3D%22trace%22%20stroke-linejoin%3D%22round%22%20style%3D%22opacity%3A%201%3B%22%3E%3Cg%20class%3D%22slice%22%3E%3Cpath%20class%3D%22surface%22%20style%3D%22pointer-events%3A%20all%3B%20stroke-width%3A%200px%3B%20fill%3A%20rgb(78%2C%20121%2C%20167)%3B%20fill-opacity%3A%201%3B%20stroke%3A%20rgb(68%2C%2068%2C%2068)%3B%20stroke-opacity%3A%201%3B%22%20d%3D%22M389.2046401598682%2C144.04648923077607a44.400000000000006%2C44.400000000000006%200%201%200%2044.29535984013185%2C-47.44648923077608l0%2C-66.6a111%2C111%200%201%201%20-110.73839960032961%2C118.6162230769402Z%22%2F%3E%3C%2Fg%3E%3Cg%20class%3D%22slice%22%3E%3Cpath%20class%3D%22surface%22%20style%3D%22pointer-events%3A%20all%3B%20stroke-width%3A%200px%3B%20fill%3A%20rgb(242%2C%20142%2C%2044)%3B%20fill-opacity%3A%201%3B%20stroke%3A%20rgb(68%2C%2068%2C%2068)%3B%20stroke-opacity%3A%201%3B%22%20d%3D%22M433.5%2C96.6a44.400000000000006%2C44.400000000000006%200%200%200%20-40.155824749073716%2C25.456142454038584l-60.23373712361057%2C-28.41578631894212a111%2C111%200%200%201%20100.38956187268428%2C-63.64035613509646Z%22%2F%3E%3C%2Fg%3E%3Cg%20class%3D%22slice%22%3E%3Cpath%20class%3D%22surface%22%20style%3D%22pointer-events%3A%20all%3B%20stroke-width%3A%200px%3B%20fill%3A%20rgb(225%2C%2087%2C%2089)%3B%20fill-opacity%3A%201%3B%20stroke%3A%20rgb(68%2C%2068%2C%2068)%3B%20stroke-opacity%3A%201%3B%22%20d%3D%22M393.3441752509263%2C122.05614245403858a44.400000000000006%2C44.400000000000006%200%200%200%20-3.66467054952239%2C11.79373924024668l-65.73074294789416%2C-10.725177458572105a111%2C111%200%200%201%209.161676373805975%2C-29.484348100616696Z%22%2F%3E%3C%2Fg%3E%3Cg%20class%3D%22slice%22%3E%3Cpath%20class%3D%22surface%22%20style%3D%22pointer-events%3A%20all%3B%20stroke-width%3A%200px%3B%20fill%3A%20rgb(118%2C%20183%2C%20178)%3B%20fill-opacity%3A%201%3B%20stroke%3A%20rgb(68%2C%2068%2C%2068)%3B%20stroke-opacity%3A%201%3B%22%20d%3D%22M389.6795047014039%2C133.84988169428527a44.400000000000006%2C44.400000000000006%200%200%200%20-0.46234563129970074%2C3.926766141035112l-66.4242613948437%2C-4.835028247019438a111%2C111%200%200%201%201.1558640782492517%2C-9.81691535258778Z%22%2F%3E%3C%2Fg%3E%3Cg%20class%3D%22slice%22%3E%3Cpath%20class%3D%22surface%22%20style%3D%22pointer-events%3A%20all%3B%20stroke-width%3A%200px%3B%20fill%3A%20rgb(89%2C%20161%2C%2079)%3B%20fill-opacity%3A%201%3B%20stroke%3A%20rgb(68%2C%2068%2C%2068)%3B%20stroke-opacity%3A%201%3B%22%20d%3D%22M389.2171590701042%2C137.77664783532038a44.400000000000006%2C44.400000000000006%200%200%200%20-0.1159502770104723%2C2.895725295296037l-66.59818681035941%2C-0.49144030407538253a111%2C111%200%200%201%200.28987569252618073%2C-7.239313238240093Z%22%2F%3E%3C%2Fg%3E%3Cg%20class%3D%22slice%22%3E%3Cpath%20class%3D%22surface%22%20style%3D%22pointer-events%3A%20all%3B%20stroke-width%3A%200px%3B%20fill%3A%20rgb(237%2C%20201%2C%2073)%3B%20fill-opacity%3A%201%3B%20stroke%3A%20rgb(68%2C%2068%2C%2068)%3B%20stroke-opacity%3A%201%3B%22%20d%3D%22M389.10120879309375%2C140.67237313061642a44.400000000000006%2C44.400000000000006%200%200%200%200.03587375190272155%2C2.1418911501710785l-66.54437618250533%2C2.7213964211812347a111%2C111%200%200%201%20-0.08968437975680388%2C-5.354727875427696Z%22%2F%3E%3C%2Fg%3E%3Cg%20class%3D%22slice%22%3E%3Cpath%20class%3D%22surface%22%20style%3D%22pointer-events%3A%20all%3B%20stroke-width%3A%200px%3B%20fill%3A%20rgb(175%2C%20122%2C%20161)%3B%20fill-opacity%3A%201%3B%20stroke%3A%20rgb(68%2C%2068%2C%2068)%3B%20stroke-opacity%3A%201%3B%22%20d%3D%22M389.1370825449965%2C142.81426428078748a44.400000000000006%2C44.400000000000006%200%200%200%200.04031369845885138%2C0.8061929770836095l-66.48390563481705%2C3.930685886806649a111%2C111%200%200%201%20-0.10078424614712844%2C-2.0154824427090237Z%22%2F%3E%3C%2Fg%3E%3Cg%20class%3D%22slice%22%3E%3Cpath%20class%3D%22surface%22%20style%3D%22pointer-events%3A%20all%3B%20stroke-width%3A%200px%3B%20fill%3A%20rgb(255%2C%20157%2C%20167)%3B%20fill-opacity%3A%201%3B%20stroke%3A%20rgb(68%2C%2068%2C%2068)%3B%20stroke-opacity%3A%201%3B%22%20d%3D%22M389.1773962434553%2C143.6204572578711a44.400000000000006%2C44.400000000000006%200%200%200%200.02642272735081974%2C0.4140684429401425l-66.44427154379082%2C4.5517885512168625a111%2C111%200%200%201%20-0.06605681837704935%2C-1.0351711073503562Z%22%2F%3E%3C%2Fg%3E%3Cg%20class%3D%22slice%22%3E%3Cpath%20class%3D%22surface%22%20style%3D%22pointer-events%3A%20all%3B%20stroke-width%3A%200px%3B%20fill%3A%20rgb(156%2C%20117%2C%2095)%3B%20fill-opacity%3A%201%3B%20stroke%3A%20rgb(68%2C%2068%2C%2068)%3B%20stroke-opacity%3A%201%3B%22%20d%3D%22M389.2038189708061%2C144.03452570081123a44.400000000000006%2C44.400000000000006%200%200%200%200.0005627528991738018%2C0.008203587309202476l-66.44342741444206%2C4.564093932180667a111%2C111%200%200%201%20-0.0014068822479345044%2C-0.02050896827300619Z%22%2F%3E%3C%2Fg%3E%3Cg%20class%3D%22slice%22%3E%3Cpath%20class%3D%22surface%22%20style%3D%22pointer-events%3A%20all%3B%20stroke-width%3A%200px%3B%20fill%3A%20rgb(186%2C%20176%2C%20171)%3B%20fill-opacity%3A%201%3B%20stroke%3A%20rgb(68%2C%2068%2C%2068)%3B%20stroke-opacity%3A%201%3B%22%20d%3D%22M389.2043817237053%2C144.04272928812046a44.400000000000006%2C44.400000000000006%200%200%200%200.0002584361628635179%2C0.003759942655663906l-66.44303976019776%2C4.569733846164162a111%2C111%200%200%201%20-0.0006460904071587947%2C-0.009399856639159765Z%22%2F%3E%3C%2Fg%3E%3Cg%20class%3D%22titletext%22%3E%3Ctext%20data-notex%3D%221%22%20class%3D%22titletext%22%20transform%3D%22translate(433.5%2C252)translate(0%2C12)%22%20text-anchor%3D%22middle%22%20style%3D%22font-family%3A%20%26quot%3BOpen%20Sans%26quot%3B%2C%20verdana%2C%20arial%2C%20sans-serif%3B%20font-size%3A%2012px%3B%20fill%3A%20rgb(89%2C%2089%2C%2089)%3B%20fill-opacity%3A%201%3B%20white-space%3A%20pre%3B%22%20data-unformatted%3D%22count_loans%22%20data-math%3D%22N%22%20x%3D%220%22%20y%3D%220%22%3Ecount_loans%3C%2Ftext%3E%3C%2Fg%3E%3C%2Fg%3E%3C%2Fg%3E%3Cg%20class%3D%22treemaplayer%22%2F%3E%3Cg%20class%3D%22sunburstlayer%22%2F%3E%3Cg%20class%3D%22glimages%22%2F%3E%3Cdefs%20id%3D%22topdefs-091ae9%22%3E%3Cg%20class%3D%22clips%22%2F%3E%3CclipPath%20id%3D%22legend091ae9%22%3E%3Crect%20width%3D%22362%22%20height%3D%22200%22%20x%3D%220%22%20y%3D%220%22%2F%3E%3C%2FclipPath%3E%3C%2Fdefs%3E%3Cg%20class%3D%22indicatorlayer%22%2F%3E%3Cg%20class%3D%22layer-above%22%3E%3Cg%20class%3D%22imagelayer%22%2F%3E%3Cg%20class%3D%22shapelayer%22%2F%3E%3C%2Fg%3E%3Cg%20class%3D%22infolayer%22%3E%3Cg%20class%3D%22legend%22%20pointer-events%3D%22all%22%20transform%3D%22translate(801%2C30)%22%3E%3Crect%20class%3D%22bg%22%20shape-rendering%3D%22crispEdges%22%20style%3D%22stroke%3A%20rgb(68%2C%2068%2C%2068)%3B%20stroke-opacity%3A%201%3B%20fill%3A%20rgb(255%2C%20255%2C%20255)%3B%20fill-opacity%3A%201%3B%20stroke-width%3A%200px%3B%22%20width%3D%22362%22%20height%3D%22200%22%20x%3D%220%22%20y%3D%220%22%2F%3E%3Cg%20class%3D%22scrollbox%22%20transform%3D%22%22%20clip-path%3D%22url('%23legend091ae9')%22%3E%3Cg%20class%3D%22groups%22%3E%3Cg%20class%3D%22traces%22%20style%3D%22opacity%3A%201%3B%22%20transform%3D%22translate(0%2C14.5)%22%3E%3Ctext%20class%3D%22legendtext%22%20text-anchor%3D%22start%22%20style%3D%22font-family%3A%20%26quot%3BOpen%20Sans%26quot%3B%2C%20verdana%2C%20arial%2C%20sans-serif%3B%20font-size%3A%2012px%3B%20fill%3A%20rgb(89%2C%2089%2C%2089)%3B%20fill-opacity%3A%201%3B%20white-space%3A%20pre%3B%22%20x%3D%2240%22%20y%3D%224.680000000000001%22%20data-unformatted%3D%22Current%22%20data-math%3D%22N%22%3ECurrent%3C%2Ftext%3E%3Cg%20class%3D%22layers%22%20style%3D%22opacity%3A%201%3B%22%3E%3Cg%20class%3D%22legendfill%22%2F%3E%3Cg%20class%3D%22legendlines%22%2F%3E%3Cg%20class%3D%22legendsymbols%22%3E%3Cg%20class%3D%22legendpoints%22%3E%3Cpath%20class%3D%22legendpie%22%20d%3D%22M6%2C6H-6V-6H6Z%22%20transform%3D%22translate(20%2C0)%22%20style%3D%22stroke-width%3A%200px%3B%20fill%3A%20rgb(78%2C%20121%2C%20167)%3B%20fill-opacity%3A%201%3B%20stroke%3A%20rgb(68%2C%2068%2C%2068)%3B%20stroke-opacity%3A%201%3B%22%2F%3E%3C%2Fg%3E%3C%2Fg%3E%3C%2Fg%3E%3Crect%20class%3D%22legendtoggle%22%20style%3D%22cursor%3A%20pointer%3B%20fill%3A%20rgb(0%2C%200%2C%200)%3B%20fill-opacity%3A%200%3B%22%20pointer-events%3D%22all%22%20x%3D%220%22%20y%3D%22-9.5%22%20width%3D%22356.9666748046875%22%20height%3D%2219%22%2F%3E%3C%2Fg%3E%3Cg%20class%3D%22traces%22%20style%3D%22opacity%3A%201%3B%22%20transform%3D%22translate(0%2C33.5)%22%3E%3Ctext%20class%3D%22legendtext%22%20text-anchor%3D%22start%22%20style%3D%22font-family%3A%20%26quot%3BOpen%20Sans%26quot%3B%2C%20verdana%2C%20arial%2C%20sans-serif%3B%20font-size%3A%2012px%3B%20fill%3A%20rgb(89%2C%2089%2C%2089)%3B%20fill-opacity%3A%201%3B%20white-space%3A%20pre%3B%22%20x%3D%2240%22%20y%3D%224.680000000000001%22%20data-unformatted%3D%22Fully%20Paid%22%20data-math%3D%22N%22%3EFully%20Paid%3C%2Ftext%3E%3Cg%20class%3D%22layers%22%20style%3D%22opacity%3A%201%3B%22%3E%3Cg%20class%3D%22legendfill%22%2F%3E%3Cg%20class%3D%22legendlines%22%2F%3E%3Cg%20class%3D%22legendsymbols%22%3E%3Cg%20class%3D%22legendpoints%22%3E%3Cpath%20class%3D%22legendpie%22%20d%3D%22M6%2C6H-6V-6H6Z%22%20transform%3D%22translate(20%2C0)%22%20style%3D%22stroke-width%3A%200px%3B%20fill%3A%20rgb(242%2C%20142%2C%2044)%3B%20fill-opacity%3A%201%3B%20stroke%3A%20rgb(68%2C%2068%2C%2068)%3B%20stroke-opacity%3A%201%3B%22%2F%3E%3C%2Fg%3E%3C%2Fg%3E%3C%2Fg%3E%3Crect%20class%3D%22legendtoggle%22%20style%3D%22cursor%3A%20pointer%3B%20fill%3A%20rgb(0%2C%200%2C%200)%3B%20fill-opacity%3A%200%3B%22%20pointer-events%3D%22all%22%20x%3D%220%22%20y%3D%22-9.5%22%20width%3D%22356.9666748046875%22%20height%3D%2219%22%2F%3E%3C%2Fg%3E%3Cg%20class%3D%22traces%22%20style%3D%22opacity%3A%201%3B%22%20transform%3D%22translate(0%2C52.5)%22%3E%3Ctext%20class%3D%22legendtext%22%20text-anchor%3D%22start%22%20style%3D%22font-family%3A%20%26quot%3BOpen%20Sans%26quot%3B%2C%20verdana%2C%20arial%2C%20sans-serif%3B%20font-size%3A%2012px%3B%20fill%3A%20rgb(89%2C%2089%2C%2089)%3B%20fill-opacity%3A%201%3B%20white-space%3A%20pre%3B%22%20x%3D%2240%22%20y%3D%224.680000000000001%22%20data-unformatted%3D%22Charged%20Off%22%20data-math%3D%22N%22%3ECharged%20Off%3C%2Ftext%3E%3Cg%20class%3D%22layers%22%20style%3D%22opacity%3A%201%3B%22%3E%3Cg%20class%3D%22legendfill%22%2F%3E%3Cg%20class%3D%22legendlines%22%2F%3E%3Cg%20class%3D%22legendsymbols%22%3E%3Cg%20class%3D%22legendpoints%22%3E%3Cpath%20class%3D%22legendpie%22%20d%3D%22M6%2C6H-6V-6H6Z%22%20transform%3D%22translate(20%2C0)%22%20style%3D%22stroke-width%3A%200px%3B%20fill%3A%20rgb(225%2C%2087%2C%2089)%3B%20fill-opacity%3A%201%3B%20stroke%3A%20rgb(68%2C%2068%2C%2068)%3B%20stroke-opacity%3A%201%3B%22%2F%3E%3C%2Fg%3E%3C%2Fg%3E%3C%2Fg%3E%3Crect%20class%3D%22legendtoggle%22%20style%3D%22cursor%3A%20pointer%3B%20fill%3A%20rgb(0%2C%200%2C%200)%3B%20fill-opacity%3A%200%3B%22%20pointer-events%3D%22all%22%20x%3D%220%22%20y%3D%22-9.5%22%20width%3D%22356.9666748046875%22%20height%3D%2219%22%2F%3E%3C%2Fg%3E%3Cg%20class%3D%22traces%22%20style%3D%22opacity%3A%201%3B%22%20transform%3D%22translate(0%2C71.5)%22%3E%3Ctext%20class%3D%22legendtext%22%20text-anchor%3D%22start%22%20style%3D%22font-family%3A%20%26quot%3BOpen%20Sans%26quot%3B%2C%20verdana%2C%20arial%2C%20sans-serif%3B%20font-size%3A%2012px%3B%20fill%3A%20rgb(89%2C%2089%2C%2089)%3B%20fill-opacity%3A%201%3B%20white-space%3A%20pre%3B%22%20x%3D%2240%22%20y%3D%224.680000000000001%22%20data-unformatted%3D%22Late%20(31-120%20days)%22%20data-math%3D%22N%22%3ELate%20(31-120%20days)%3C%2Ftext%3E%3Cg%20class%3D%22layers%22%20style%3D%22opacity%3A%201%3B%22%3E%3Cg%20class%3D%22legendfill%22%2F%3E%3Cg%20class%3D%22legendlines%22%2F%3E%3Cg%20class%3D%22legendsymbols%22%3E%3Cg%20class%3D%22legendpoints%22%3E%3Cpath%20class%3D%22legendpie%22%20d%3D%22M6%2C6H-6V-6H6Z%22%20transform%3D%22translate(20%2C0)%22%20style%3D%22stroke-width%3A%200px%3B%20fill%3A%20rgb(118%2C%20183%2C%20178)%3B%20fill-opacity%3A%201%3B%20stroke%3A%20rgb(68%2C%2068%2C%2068)%3B%20stroke-opacity%3A%201%3B%22%2F%3E%3C%2Fg%3E%3C%2Fg%3E%3C%2Fg%3E%3Crect%20class%3D%22legendtoggle%22%20style%3D%22cursor%3A%20pointer%3B%20fill%3A%20rgb(0%2C%200%2C%200)%3B%20fill-opacity%3A%200%3B%22%20pointer-events%3D%22all%22%20x%3D%220%22%20y%3D%22-9.5%22%20width%3D%22356.9666748046875%22%20height%3D%2219%22%2F%3E%3C%2Fg%3E%3Cg%20class%3D%22traces%22%20style%3D%22opacity%3A%201%3B%22%20transform%3D%22translate(0%2C90.5)%22%3E%3Ctext%20class%3D%22legendtext%22%20text-anchor%3D%22start%22%20style%3D%22font-family%3A%20%26quot%3BOpen%20Sans%26quot%3B%2C%20verdana%2C%20arial%2C%20sans-serif%3B%20font-size%3A%2012px%3B%20fill%3A%20rgb(89%2C%2089%2C%2089)%3B%20fill-opacity%3A%201%3B%20white-space%3A%20pre%3B%22%20x%3D%2240%22%20y%3D%224.680000000000001%22%20data-unformatted%3D%22Issued%22%20data-math%3D%22N%22%3EIssued%3C%2Ftext%3E%3Cg%20class%3D%22layers%22%20style%3D%22opacity%3A%201%3B%22%3E%3Cg%20class%3D%22legendfill%22%2F%3E%3Cg%20class%3D%22legendlines%22%2F%3E%3Cg%20class%3D%22legendsymbols%22%3E%3Cg%20class%3D%22legendpoints%22%3E%3Cpath%20class%3D%22legendpie%22%20d%3D%22M6%2C6H-6V-6H6Z%22%20transform%3D%22translate(20%2C0)%22%20style%3D%22stroke-width%3A%200px%3B%20fill%3A%20rgb(89%2C%20161%2C%2079)%3B%20fill-opacity%3A%201%3B%20stroke%3A%20rgb(68%2C%2068%2C%2068)%3B%20stroke-opacity%3A%201%3B%22%2F%3E%3C%2Fg%3E%3C%2Fg%3E%3C%2Fg%3E%3Crect%20class%3D%22legendtoggle%22%20style%3D%22cursor%3A%20pointer%3B%20fill%3A%20rgb(0%2C%200%2C%200)%3B%20fill-opacity%3A%200%3B%22%20pointer-events%3D%22all%22%20x%3D%220%22%20y%3D%22-9.5%22%20width%3D%22356.9666748046875%22%20height%3D%2219%22%2F%3E%3C%2Fg%3E%3Cg%20class%3D%22traces%22%20style%3D%22opacity%3A%201%3B%22%20transform%3D%22translate(0%2C109.5)%22%3E%3Ctext%20class%3D%22legendtext%22%20text-anchor%3D%22start%22%20style%3D%22font-family%3A%20%26quot%3BOpen%20Sans%26quot%3B%2C%20verdana%2C%20arial%2C%20sans-serif%3B%20font-size%3A%2012px%3B%20fill%3A%20rgb(89%2C%2089%2C%2089)%3B%20fill-opacity%3A%201%3B%20white-space%3A%20pre%3B%22%20x%3D%2240%22%20y%3D%224.680000000000001%22%20data-unformatted%3D%22In%20Grace%20Period%22%20data-math%3D%22N%22%3EIn%20Grace%20Period%3C%2Ftext%3E%3Cg%20class%3D%22layers%22%20style%3D%22opacity%3A%201%3B%22%3E%3Cg%20class%3D%22legendfill%22%2F%3E%3Cg%20class%3D%22legendlines%22%2F%3E%3Cg%20class%3D%22legendsymbols%22%3E%3Cg%20class%3D%22legendpoints%22%3E%3Cpath%20class%3D%22legendpie%22%20d%3D%22M6%2C6H-6V-6H6Z%22%20transform%3D%22translate(20%2C0)%22%20style%3D%22stroke-width%3A%200px%3B%20fill%3A%20rgb(237%2C%20201%2C%2073)%3B%20fill-opacity%3A%201%3B%20stroke%3A%20rgb(68%2C%2068%2C%2068)%3B%20stroke-opacity%3A%201%3B%22%2F%3E%3C%2Fg%3E%3C%2Fg%3E%3C%2Fg%3E%3Crect%20class%3D%22legendtoggle%22%20style%3D%22cursor%3A%20pointer%3B%20fill%3A%20rgb(0%2C%200%2C%200)%3B%20fill-opacity%3A%200%3B%22%20pointer-events%3D%22all%22%20x%3D%220%22%20y%3D%22-9.5%22%20width%3D%22356.9666748046875%22%20height%3D%2219%22%2F%3E%3C%2Fg%3E%3Cg%20class%3D%22traces%22%20style%3D%22opacity%3A%201%3B%22%20transform%3D%22translate(0%2C128.5)%22%3E%3Ctext%20class%3D%22legendtext%22%20text-anchor%3D%22start%22%20style%3D%22font-family%3A%20%26quot%3BOpen%20Sans%26quot%3B%2C%20verdana%2C%20arial%2C%20sans-serif%3B%20font-size%3A%2012px%3B%20fill%3A%20rgb(89%2C%2089%2C%2089)%3B%20fill-opacity%3A%201%3B%20white-space%3A%20pre%3B%22%20x%3D%2240%22%20y%3D%224.680000000000001%22%20data-unformatted%3D%22Late%20(16-30%20days)%22%20data-math%3D%22N%22%3ELate%20(16-30%20days)%3C%2Ftext%3E%3Cg%20class%3D%22layers%22%20style%3D%22opacity%3A%201%3B%22%3E%3Cg%20class%3D%22legendfill%22%2F%3E%3Cg%20class%3D%22legendlines%22%2F%3E%3Cg%20class%3D%22legendsymbols%22%3E%3Cg%20class%3D%22legendpoints%22%3E%3Cpath%20class%3D%22legendpie%22%20d%3D%22M6%2C6H-6V-6H6Z%22%20transform%3D%22translate(20%2C0)%22%20style%3D%22stroke-width%3A%200px%3B%20fill%3A%20rgb(175%2C%20122%2C%20161)%3B%20fill-opacity%3A%201%3B%20stroke%3A%20rgb(68%2C%2068%2C%2068)%3B%20stroke-opacity%3A%201%3B%22%2F%3E%3C%2Fg%3E%3C%2Fg%3E%3C%2Fg%3E%3Crect%20class%3D%22legendtoggle%22%20style%3D%22cursor%3A%20pointer%3B%20fill%3A%20rgb(0%2C%200%2C%200)%3B%20fill-opacity%3A%200%3B%22%20pointer-events%3D%22all%22%20x%3D%220%22%20y%3D%22-9.5%22%20width%3D%22356.9666748046875%22%20height%3D%2219%22%2F%3E%3C%2Fg%3E%3Cg%20class%3D%22traces%22%20style%3D%22opacity%3A%201%3B%22%20transform%3D%22translate(0%2C147.5)%22%3E%3Ctext%20class%3D%22legendtext%22%20text-anchor%3D%22start%22%20style%3D%22font-family%3A%20%26quot%3BOpen%20Sans%26quot%3B%2C%20verdana%2C%20arial%2C%20sans-serif%3B%20font-size%3A%2012px%3B%20fill%3A%20rgb(89%2C%2089%2C%2089)%3B%20fill-opacity%3A%201%3B%20white-space%3A%20pre%3B%22%20x%3D%2240%22%20y%3D%224.680000000000001%22%20data-unformatted%3D%22Default%22%20data-math%3D%22N%22%3EDefault%3C%2Ftext%3E%3Cg%20class%3D%22layers%22%20style%3D%22opacity%3A%201%3B%22%3E%3Cg%20class%3D%22legendfill%22%2F%3E%3Cg%20class%3D%22legendlines%22%2F%3E%3Cg%20class%3D%22legendsymbols%22%3E%3Cg%20class%3D%22legendpoints%22%3E%3Cpath%20class%3D%22legendpie%22%20d%3D%22M6%2C6H-6V-6H6Z%22%20transform%3D%22translate(20%2C0)%22%20style%3D%22stroke-width%3A%200px%3B%20fill%3A%20rgb(255%2C%20157%2C%20167)%3B%20fill-opacity%3A%201%3B%20stroke%3A%20rgb(68%2C%2068%2C%2068)%3B%20stroke-opacity%3A%201%3B%22%2F%3E%3C%2Fg%3E%3C%2Fg%3E%3C%2Fg%3E%3Crect%20class%3D%22legendtoggle%22%20style%3D%22cursor%3A%20pointer%3B%20fill%3A%20rgb(0%2C%200%2C%200)%3B%20fill-opacity%3A%200%3B%22%20pointer-events%3D%22all%22%20x%3D%220%22%20y%3D%22-9.5%22%20width%3D%22356.9666748046875%22%20height%3D%2219%22%2F%3E%3C%2Fg%3E%3Cg%20class%3D%22traces%22%20style%3D%22opacity%3A%201%3B%22%20transform%3D%22translate(0%2C166.5)%22%3E%3Ctext%20class%3D%22legendtext%22%20text-anchor%3D%22start%22%20style%3D%22font-family%3A%20%26quot%3BOpen%20Sans%26quot%3B%2C%20verdana%2C%20arial%2C%20sans-serif%3B%20font-size%3A%2012px%3B%20fill%3A%20rgb(89%2C%2089%2C%2089)%3B%20fill-opacity%3A%201%3B%20white-space%3A%20pre%3B%22%20x%3D%2240%22%20y%3D%224.680000000000001%22%20data-unformatted%3D%22Does%20not%20meet%20the%20credit%20policy.%20Status%3AFully%20Paid%22%20data-math%3D%22N%22%3EDoes%20not%20meet%20the%20credit%20policy.%20Status%3AFully%20Paid%3C%2Ftext%3E%3Cg%20class%3D%22layers%22%20style%3D%22opacity%3A%201%3B%22%3E%3Cg%20class%3D%22legendfill%22%2F%3E%3Cg%20class%3D%22legendlines%22%2F%3E%3Cg%20class%3D%22legendsymbols%22%3E%3Cg%20class%3D%22legendpoints%22%3E%3Cpath%20class%3D%22legendpie%22%20d%3D%22M6%2C6H-6V-6H6Z%22%20transform%3D%22translate(20%2C0)%22%20style%3D%22stroke-width%3A%200px%3B%20fill%3A%20rgb(156%2C%20117%2C%2095)%3B%20fill-opacity%3A%201%3B%20stroke%3A%20rgb(68%2C%2068%2C%2068)%3B%20stroke-opacity%3A%201%3B%22%2F%3E%3C%2Fg%3E%3C%2Fg%3E%3C%2Fg%3E%3Crect%20class%3D%22legendtoggle%22%20style%3D%22cursor%3A%20pointer%3B%20fill%3A%20rgb(0%2C%200%2C%200)%3B%20fill-opacity%3A%200%3B%22%20pointer-events%3D%22all%22%20x%3D%220%22%20y%3D%22-9.5%22%20width%3D%22356.9666748046875%22%20height%3D%2219%22%2F%3E%3C%2Fg%3E%3Cg%20class%3D%22traces%22%20style%3D%22opacity%3A%201%3B%22%20transform%3D%22translate(0%2C185.5)%22%3E%3Ctext%20class%3D%22legendtext%22%20text-anchor%3D%22start%22%20style%3D%22font-family%3A%20%26quot%3BOpen%20Sans%26quot%3B%2C%20verdana%2C%20arial%2C%20sans-serif%3B%20font-size%3A%2012px%3B%20fill%3A%20rgb(89%2C%2089%2C%2089)%3B%20fill-opacity%3A%201%3B%20white-space%3A%20pre%3B%22%20x%3D%2240%22%20y%3D%224.680000000000001%22%20data-unformatted%3D%22Does%20not%20meet%20the%20credit%20policy.%20Status%3ACharged%20Off%22%20data-math%3D%22N%22%3EDoes%20not%20meet%20the%20credit%20policy.%20Status%3ACharged%20Off%3C%2Ftext%3E%3Cg%20class%3D%22layers%22%20style%3D%22opacity%3A%201%3B%22%3E%3Cg%20class%3D%22legendfill%22%2F%3E%3Cg%20class%3D%22legendlines%22%2F%3E%3Cg%20class%3D%22legendsymbols%22%3E%3Cg%20class%3D%22legendpoints%22%3E%3Cpath%20class%3D%22legendpie%22%20d%3D%22M6%2C6H-6V-6H6Z%22%20transform%3D%22translate(20%2C0)%22%20style%3D%22stroke-width%3A%200px%3B%20fill%3A%20rgb(186%2C%20176%2C%20171)%3B%20fill-opacity%3A%201%3B%20stroke%3A%20rgb(68%2C%2068%2C%2068)%3B%20stroke-opacity%3A%201%3B%22%2F%3E%3C%2Fg%3E%3C%2Fg%3E%3C%2Fg%3E%3Crect%20class%3D%22legendtoggle%22%20style%3D%22cursor%3A%20pointer%3B%20fill%3A%20rgb(0%2C%200%2C%200)%3B%20fill-opacity%3A%200%3B%22%20pointer-events%3D%22all%22%20x%3D%220%22%20y%3D%22-9.5%22%20width%3D%22356.9666748046875%22%20height%3D%2219%22%2F%3E%3C%2Fg%3E%3C%2Fg%3E%3C%2Fg%3E%3Crect%20class%3D%22scrollbar%22%20rx%3D%2220%22%20ry%3D%223%22%20width%3D%220%22%20height%3D%220%22%20style%3D%22fill%3A%20rgb(128%2C%20139%2C%20164)%3B%20fill-opacity%3A%201%3B%22%20x%3D%220%22%20y%3D%220%22%2F%3E%3C%2Fg%3E%3Cg%20class%3D%22g-gtitle%22%2F%3E%3C%2Fg%3E%3Cg%20class%3D%22menulayer%22%2F%3E%3Cg%20class%3D%22zoomlayer%22%2F%3E%3Cg%20class%3D%22hoverlayer%22%2F%3E%3C%2Fsvg%3E\">"
      ],
      "text/plain": [
       "Open the notebook in JupyterLab with the atoti extension installed and enabled to start editing this widget."
      ]
     },
     "metadata": {},
     "output_type": "display_data"
    }
   ],
   "source": [
    "session.visualize()"
   ]
  },
  {
   "cell_type": "code",
   "execution_count": null,
   "metadata": {},
   "outputs": [],
   "source": [
    "h['loan_class'] = {'loan_class': lending_club_data['loan_class']}"
   ]
  },
  {
   "cell_type": "code",
   "execution_count": 52,
   "metadata": {
    "atoti": {
     "widget": {
      "filters": [],
      "mapping": {
       "horizontalSubplots": [],
       "stackBy": [
        "[Lending Club Data].[loan_status].[loan_status]",
        "ALL_MEASURES"
       ],
       "values": [
        "[Measures].[count_loans]"
       ],
       "verticalSubplots": [],
       "xAxis": [
        "[Lending Club Data].[purpose].[purpose]"
       ]
      },
      "query": {
       "mdx": "SELECT NON EMPTY Crossjoin(Hierarchize(Descendants({[Lending Club Data].[loan_status].[AllMember]}, 1, SELF_AND_BEFORE)), {[Measures].[count_loans]}) ON COLUMNS, NON EMPTY Hierarchize(Descendants({[Lending Club Data].[purpose].[AllMember]}, 1, SELF_AND_BEFORE)) ON ROWS FROM [IFRS9]",
       "updateMode": "once"
      },
      "serverKey": "default",
      "widgetKey": "plotly-100-stacked-column-chart"
     }
    },
    "execution": {
     "iopub.execute_input": "2021-02-09T06:48:28.944136Z",
     "iopub.status.busy": "2021-02-09T06:48:28.942578Z",
     "iopub.status.idle": "2021-02-09T06:48:31.309925Z",
     "shell.execute_reply": "2021-02-09T06:48:31.308844Z",
     "shell.execute_reply.started": "2021-02-09T06:48:28.944071Z"
    }
   },
   "outputs": [
    {
     "data": {
      "application/vnd.atoti.v0+json": {
       "name": "Proportion of loans purpose and by status",
       "session": "Unnamed"
      },
      "text/html": [
       "<img src=\"data:image/svg+xml;charset=utf8,%3C%3Fxml%20version%3D%221.0%22%20standalone%3D%22no%22%3F%3E%3Csvg%20xmlns%3D%22http%3A%2F%2Fwww.w3.org%2F2000%2Fsvg%22%20xmlns%3Axlink%3D%22http%3A%2F%2Fwww.w3.org%2F1999%2Fxlink%22%20height%3D%22348%22%20width%3D%221163%22%20viewBox%3D%220%200%201163%20348%22%3E%3Cdefs%20id%3D%22defs-4007ec%22%3E%3Cg%20class%3D%22clips%22%3E%3CclipPath%20id%3D%22clip4007ecxyplot%22%20class%3D%22plotclip%22%3E%3Crect%20width%3D%22707%22%20height%3D%22238%22%2F%3E%3C%2FclipPath%3E%3CclipPath%20class%3D%22axesclip%22%20id%3D%22clip4007ecx%22%3E%3Crect%20x%3D%2280%22%20y%3D%220%22%20width%3D%22707%22%20height%3D%22348%22%2F%3E%3C%2FclipPath%3E%3CclipPath%20class%3D%22axesclip%22%20id%3D%22clip4007ecy%22%3E%3Crect%20x%3D%220%22%20y%3D%2230%22%20width%3D%221163%22%20height%3D%22238%22%2F%3E%3C%2FclipPath%3E%3CclipPath%20class%3D%22axesclip%22%20id%3D%22clip4007ecxy%22%3E%3Crect%20x%3D%2280%22%20y%3D%2230%22%20width%3D%22707%22%20height%3D%22238%22%2F%3E%3C%2FclipPath%3E%3C%2Fg%3E%3Cg%20class%3D%22gradients%22%2F%3E%3C%2Fdefs%3E%3Cg%20class%3D%22bglayer%22%2F%3E%3Cg%20class%3D%22draglayer%20cursor-crosshair%22%3E%3Cg%20class%3D%22xy%22%3E%3Crect%20class%3D%22nsewdrag%20drag%22%20style%3D%22fill%3A%20transparent%3B%20stroke-width%3A%200px%3B%20pointer-events%3A%20all%3B%22%20data-subplot%3D%22xy%22%20x%3D%2280%22%20y%3D%2230%22%20width%3D%22707%22%20height%3D%22238%22%2F%3E%3Crect%20class%3D%22nwdrag%20drag%20cursor-nw-resize%22%20style%3D%22fill%3A%20transparent%3B%20stroke-width%3A%200px%3B%20pointer-events%3A%20all%3B%22%20data-subplot%3D%22xy%22%20x%3D%2260%22%20y%3D%2210%22%20width%3D%2220%22%20height%3D%2220%22%2F%3E%3Crect%20class%3D%22nedrag%20drag%20cursor-ne-resize%22%20style%3D%22fill%3A%20transparent%3B%20stroke-width%3A%200px%3B%20pointer-events%3A%20all%3B%22%20data-subplot%3D%22xy%22%20x%3D%22787%22%20y%3D%2210%22%20width%3D%2220%22%20height%3D%2220%22%2F%3E%3Crect%20class%3D%22swdrag%20drag%20cursor-sw-resize%22%20style%3D%22fill%3A%20transparent%3B%20stroke-width%3A%200px%3B%20pointer-events%3A%20all%3B%22%20data-subplot%3D%22xy%22%20x%3D%2260%22%20y%3D%22268%22%20width%3D%2220%22%20height%3D%2220%22%2F%3E%3Crect%20class%3D%22sedrag%20drag%20cursor-se-resize%22%20style%3D%22fill%3A%20transparent%3B%20stroke-width%3A%200px%3B%20pointer-events%3A%20all%3B%22%20data-subplot%3D%22xy%22%20x%3D%22787%22%20y%3D%22268%22%20width%3D%2220%22%20height%3D%2220%22%2F%3E%3Crect%20class%3D%22ewdrag%20drag%20cursor-ew-resize%22%20style%3D%22fill%3A%20transparent%3B%20stroke-width%3A%200px%3B%20pointer-events%3A%20all%3B%22%20data-subplot%3D%22xy%22%20x%3D%22150.7%22%20y%3D%22268.5%22%20width%3D%22565.6%22%20height%3D%2220%22%2F%3E%3Crect%20class%3D%22wdrag%20drag%20cursor-w-resize%22%20style%3D%22fill%3A%20transparent%3B%20stroke-width%3A%200px%3B%20pointer-events%3A%20all%3B%22%20data-subplot%3D%22xy%22%20x%3D%2280%22%20y%3D%22268.5%22%20width%3D%2270.7%22%20height%3D%2220%22%2F%3E%3Crect%20class%3D%22edrag%20drag%20cursor-e-resize%22%20style%3D%22fill%3A%20transparent%3B%20stroke-width%3A%200px%3B%20pointer-events%3A%20all%3B%22%20data-subplot%3D%22xy%22%20x%3D%22716.3000000000001%22%20y%3D%22268.5%22%20width%3D%2270.7%22%20height%3D%2220%22%2F%3E%3Crect%20class%3D%22nsdrag%20drag%20cursor-ns-resize%22%20style%3D%22fill%3A%20transparent%3B%20stroke-width%3A%200px%3B%20pointer-events%3A%20all%3B%22%20data-subplot%3D%22xy%22%20x%3D%2259.5%22%20y%3D%2253.8%22%20width%3D%2220%22%20height%3D%22190.4%22%2F%3E%3Crect%20class%3D%22sdrag%20drag%20cursor-s-resize%22%20style%3D%22fill%3A%20transparent%3B%20stroke-width%3A%200px%3B%20pointer-events%3A%20all%3B%22%20data-subplot%3D%22xy%22%20x%3D%2259.5%22%20y%3D%22244.20000000000002%22%20width%3D%2220%22%20height%3D%2223.8%22%2F%3E%3Crect%20class%3D%22ndrag%20drag%20cursor-n-resize%22%20style%3D%22fill%3A%20transparent%3B%20stroke-width%3A%200px%3B%20pointer-events%3A%20all%3B%22%20data-subplot%3D%22xy%22%20x%3D%2259.5%22%20y%3D%2230%22%20width%3D%2220%22%20height%3D%2223.8%22%2F%3E%3C%2Fg%3E%3C%2Fg%3E%3Cg%20class%3D%22layer-below%22%3E%3Cg%20class%3D%22imagelayer%22%2F%3E%3Cg%20class%3D%22shapelayer%22%2F%3E%3C%2Fg%3E%3Cg%20class%3D%22cartesianlayer%22%3E%3Cg%20class%3D%22subplot%20xy%22%3E%3Cg%20class%3D%22layer-subplot%22%3E%3Cg%20class%3D%22shapelayer%22%2F%3E%3Cg%20class%3D%22imagelayer%22%2F%3E%3C%2Fg%3E%3Cg%20class%3D%22gridlayer%22%3E%3Cg%20class%3D%22x%22%3E%3Cpath%20class%3D%22xgrid%20crisp%22%20transform%3D%22translate(105.25%2C0)%22%20d%3D%22M0%2C30v238%22%20style%3D%22stroke%3A%20rgb(0%2C%200%2C%200)%3B%20stroke-opacity%3A%200%3B%20stroke-width%3A%201px%3B%22%2F%3E%3Cpath%20class%3D%22xgrid%20crisp%22%20transform%3D%22translate(155.75%2C0)%22%20d%3D%22M0%2C30v238%22%20style%3D%22stroke%3A%20rgb(0%2C%200%2C%200)%3B%20stroke-opacity%3A%200%3B%20stroke-width%3A%201px%3B%22%2F%3E%3Cpath%20class%3D%22xgrid%20crisp%22%20transform%3D%22translate(206.25%2C0)%22%20d%3D%22M0%2C30v238%22%20style%3D%22stroke%3A%20rgb(0%2C%200%2C%200)%3B%20stroke-opacity%3A%200%3B%20stroke-width%3A%201px%3B%22%2F%3E%3Cpath%20class%3D%22xgrid%20crisp%22%20transform%3D%22translate(256.75%2C0)%22%20d%3D%22M0%2C30v238%22%20style%3D%22stroke%3A%20rgb(0%2C%200%2C%200)%3B%20stroke-opacity%3A%200%3B%20stroke-width%3A%201px%3B%22%2F%3E%3Cpath%20class%3D%22xgrid%20crisp%22%20transform%3D%22translate(307.25%2C0)%22%20d%3D%22M0%2C30v238%22%20style%3D%22stroke%3A%20rgb(0%2C%200%2C%200)%3B%20stroke-opacity%3A%200%3B%20stroke-width%3A%201px%3B%22%2F%3E%3Cpath%20class%3D%22xgrid%20crisp%22%20transform%3D%22translate(357.75%2C0)%22%20d%3D%22M0%2C30v238%22%20style%3D%22stroke%3A%20rgb(0%2C%200%2C%200)%3B%20stroke-opacity%3A%200%3B%20stroke-width%3A%201px%3B%22%2F%3E%3Cpath%20class%3D%22xgrid%20crisp%22%20transform%3D%22translate(408.25%2C0)%22%20d%3D%22M0%2C30v238%22%20style%3D%22stroke%3A%20rgb(0%2C%200%2C%200)%3B%20stroke-opacity%3A%200%3B%20stroke-width%3A%201px%3B%22%2F%3E%3Cpath%20class%3D%22xgrid%20crisp%22%20transform%3D%22translate(458.75%2C0)%22%20d%3D%22M0%2C30v238%22%20style%3D%22stroke%3A%20rgb(0%2C%200%2C%200)%3B%20stroke-opacity%3A%200%3B%20stroke-width%3A%201px%3B%22%2F%3E%3Cpath%20class%3D%22xgrid%20crisp%22%20transform%3D%22translate(509.25%2C0)%22%20d%3D%22M0%2C30v238%22%20style%3D%22stroke%3A%20rgb(0%2C%200%2C%200)%3B%20stroke-opacity%3A%200%3B%20stroke-width%3A%201px%3B%22%2F%3E%3Cpath%20class%3D%22xgrid%20crisp%22%20transform%3D%22translate(559.75%2C0)%22%20d%3D%22M0%2C30v238%22%20style%3D%22stroke%3A%20rgb(0%2C%200%2C%200)%3B%20stroke-opacity%3A%200%3B%20stroke-width%3A%201px%3B%22%2F%3E%3Cpath%20class%3D%22xgrid%20crisp%22%20transform%3D%22translate(610.25%2C0)%22%20d%3D%22M0%2C30v238%22%20style%3D%22stroke%3A%20rgb(0%2C%200%2C%200)%3B%20stroke-opacity%3A%200%3B%20stroke-width%3A%201px%3B%22%2F%3E%3Cpath%20class%3D%22xgrid%20crisp%22%20transform%3D%22translate(660.75%2C0)%22%20d%3D%22M0%2C30v238%22%20style%3D%22stroke%3A%20rgb(0%2C%200%2C%200)%3B%20stroke-opacity%3A%200%3B%20stroke-width%3A%201px%3B%22%2F%3E%3Cpath%20class%3D%22xgrid%20crisp%22%20transform%3D%22translate(711.25%2C0)%22%20d%3D%22M0%2C30v238%22%20style%3D%22stroke%3A%20rgb(0%2C%200%2C%200)%3B%20stroke-opacity%3A%200%3B%20stroke-width%3A%201px%3B%22%2F%3E%3Cpath%20class%3D%22xgrid%20crisp%22%20transform%3D%22translate(761.75%2C0)%22%20d%3D%22M0%2C30v238%22%20style%3D%22stroke%3A%20rgb(0%2C%200%2C%200)%3B%20stroke-opacity%3A%200%3B%20stroke-width%3A%201px%3B%22%2F%3E%3C%2Fg%3E%3Cg%20class%3D%22y%22%3E%3Cpath%20class%3D%22ygrid%20crisp%22%20transform%3D%22translate(0%2C222.78)%22%20d%3D%22M80%2C0h707%22%20style%3D%22stroke%3A%20rgb(89%2C%2089%2C%2089)%3B%20stroke-opacity%3A%200.25%3B%20stroke-width%3A%201px%3B%22%2F%3E%3Cpath%20class%3D%22ygrid%20crisp%22%20transform%3D%22translate(0%2C177.56)%22%20d%3D%22M80%2C0h707%22%20style%3D%22stroke%3A%20rgb(89%2C%2089%2C%2089)%3B%20stroke-opacity%3A%200.25%3B%20stroke-width%3A%201px%3B%22%2F%3E%3Cpath%20class%3D%22ygrid%20crisp%22%20transform%3D%22translate(0%2C132.34)%22%20d%3D%22M80%2C0h707%22%20style%3D%22stroke%3A%20rgb(89%2C%2089%2C%2089)%3B%20stroke-opacity%3A%200.25%3B%20stroke-width%3A%201px%3B%22%2F%3E%3Cpath%20class%3D%22ygrid%20crisp%22%20transform%3D%22translate(0%2C87.12)%22%20d%3D%22M80%2C0h707%22%20style%3D%22stroke%3A%20rgb(89%2C%2089%2C%2089)%3B%20stroke-opacity%3A%200.25%3B%20stroke-width%3A%201px%3B%22%2F%3E%3Cpath%20class%3D%22ygrid%20crisp%22%20transform%3D%22translate(0%2C41.9)%22%20d%3D%22M80%2C0h707%22%20style%3D%22stroke%3A%20rgb(89%2C%2089%2C%2089)%3B%20stroke-opacity%3A%200.25%3B%20stroke-width%3A%201px%3B%22%2F%3E%3C%2Fg%3E%3C%2Fg%3E%3Cg%20class%3D%22zerolinelayer%22%3E%3Cpath%20class%3D%22yzl%20zl%20crisp%22%20transform%3D%22translate(0%2C268)%22%20d%3D%22M80%2C0h707%22%20style%3D%22stroke%3A%20rgb(89%2C%2089%2C%2089)%3B%20stroke-opacity%3A%200.5%3B%20stroke-width%3A%201px%3B%22%2F%3E%3C%2Fg%3E%3Cpath%20class%3D%22xlines-below%22%2F%3E%3Cpath%20class%3D%22ylines-below%22%2F%3E%3Cg%20class%3D%22overlines-below%22%2F%3E%3Cg%20class%3D%22xaxislayer-below%22%2F%3E%3Cg%20class%3D%22yaxislayer-below%22%2F%3E%3Cg%20class%3D%22overaxes-below%22%2F%3E%3Cg%20class%3D%22plot%22%20transform%3D%22translate(80%2C30)%22%20clip-path%3D%22url('%23clip4007ecxyplot')%22%3E%3Cg%20class%3D%22barlayer%20mlayer%22%3E%3Cg%20class%3D%22trace%20bars%22%20style%3D%22opacity%3A%201%3B%22%3E%3Cg%20class%3D%22points%22%3E%3Cg%20class%3D%22point%22%3E%3Cpath%20style%3D%22vector-effect%3A%20non-scaling-stroke%3B%20opacity%3A%201%3B%20stroke-width%3A%200px%3B%20fill%3A%20rgb(78%2C%20121%2C%20167)%3B%20fill-opacity%3A%201%3B%22%20d%3D%22M5.05%2C238V229.2H45.45V238Z%22%2F%3E%3C%2Fg%3E%3Cg%20class%3D%22point%22%3E%3Cpath%20style%3D%22vector-effect%3A%20non-scaling-stroke%3B%20opacity%3A%201%3B%20stroke-width%3A%200px%3B%20fill%3A%20rgb(78%2C%20121%2C%20167)%3B%20fill-opacity%3A%201%3B%22%20d%3D%22M55.55%2C238V230.34H95.95V238Z%22%2F%3E%3C%2Fg%3E%3Cg%20class%3D%22point%22%3E%3Cpath%20style%3D%22vector-effect%3A%20non-scaling-stroke%3B%20opacity%3A%201%3B%20stroke-width%3A%200px%3B%20fill%3A%20rgb(78%2C%20121%2C%20167)%3B%20fill-opacity%3A%201%3B%22%20d%3D%22M106.05%2C238V227.44H146.45V238Z%22%2F%3E%3C%2Fg%3E%3Cg%20class%3D%22point%22%3E%3Cpath%20style%3D%22vector-effect%3A%20non-scaling-stroke%3B%20opacity%3A%201%3B%20stroke-width%3A%200px%3B%20fill%3A%20rgb(78%2C%20121%2C%20167)%3B%20fill-opacity%3A%201%3B%22%20d%3D%22M156.55%2C238V238H196.95V238Z%22%2F%3E%3C%2Fg%3E%3Cg%20class%3D%22point%22%3E%3Cpath%20style%3D%22vector-effect%3A%20non-scaling-stroke%3B%20opacity%3A%201%3B%20stroke-width%3A%200px%3B%20fill%3A%20rgb(78%2C%20121%2C%20167)%3B%20fill-opacity%3A%201%3B%22%20d%3D%22M207.05%2C238V229.34H247.45V238Z%22%2F%3E%3C%2Fg%3E%3Cg%20class%3D%22point%22%3E%3Cpath%20style%3D%22vector-effect%3A%20non-scaling-stroke%3B%20opacity%3A%201%3B%20stroke-width%3A%200px%3B%20fill%3A%20rgb(78%2C%20121%2C%20167)%3B%20fill-opacity%3A%201%3B%22%20d%3D%22M257.55%2C238V223.17H297.95V238Z%22%2F%3E%3C%2Fg%3E%3Cg%20class%3D%22point%22%3E%3Cpath%20style%3D%22vector-effect%3A%20non-scaling-stroke%3B%20opacity%3A%201%3B%20stroke-width%3A%200px%3B%20fill%3A%20rgb(78%2C%20121%2C%20167)%3B%20fill-opacity%3A%201%3B%22%20d%3D%22M308.05%2C238V228.42H348.45V238Z%22%2F%3E%3C%2Fg%3E%3Cg%20class%3D%22point%22%3E%3Cpath%20style%3D%22vector-effect%3A%20non-scaling-stroke%3B%20opacity%3A%201%3B%20stroke-width%3A%200px%3B%20fill%3A%20rgb(78%2C%20121%2C%20167)%3B%20fill-opacity%3A%201%3B%22%20d%3D%22M358.55%2C238V225.7H398.95V238Z%22%2F%3E%3C%2Fg%3E%3Cg%20class%3D%22point%22%3E%3Cpath%20style%3D%22vector-effect%3A%20non-scaling-stroke%3B%20opacity%3A%201%3B%20stroke-width%3A%200px%3B%20fill%3A%20rgb(78%2C%20121%2C%20167)%3B%20fill-opacity%3A%201%3B%22%20d%3D%22M409.05%2C238V223.35H449.45V238Z%22%2F%3E%3C%2Fg%3E%3Cg%20class%3D%22point%22%3E%3Cpath%20style%3D%22vector-effect%3A%20non-scaling-stroke%3B%20opacity%3A%201%3B%20stroke-width%3A%200px%3B%20fill%3A%20rgb(78%2C%20121%2C%20167)%3B%20fill-opacity%3A%201%3B%22%20d%3D%22M459.55%2C238V225.11H499.95V238Z%22%2F%3E%3C%2Fg%3E%3Cg%20class%3D%22point%22%3E%3Cpath%20style%3D%22vector-effect%3A%20non-scaling-stroke%3B%20opacity%3A%201%3B%20stroke-width%3A%200px%3B%20fill%3A%20rgb(78%2C%20121%2C%20167)%3B%20fill-opacity%3A%201%3B%22%20d%3D%22M510.05%2C238V225.32H550.45V238Z%22%2F%3E%3C%2Fg%3E%3Cg%20class%3D%22point%22%3E%3Cpath%20style%3D%22vector-effect%3A%20non-scaling-stroke%3B%20opacity%3A%201%3B%20stroke-width%3A%200px%3B%20fill%3A%20rgb(78%2C%20121%2C%20167)%3B%20fill-opacity%3A%201%3B%22%20d%3D%22M560.55%2C238V213.38H600.95V238Z%22%2F%3E%3C%2Fg%3E%3Cg%20class%3D%22point%22%3E%3Cpath%20style%3D%22vector-effect%3A%20non-scaling-stroke%3B%20opacity%3A%201%3B%20stroke-width%3A%200px%3B%20fill%3A%20rgb(78%2C%20121%2C%20167)%3B%20fill-opacity%3A%201%3B%22%20d%3D%22M611.05%2C238V228.39H651.45V238Z%22%2F%3E%3C%2Fg%3E%3Cg%20class%3D%22point%22%3E%3Cpath%20style%3D%22vector-effect%3A%20non-scaling-stroke%3B%20opacity%3A%201%3B%20stroke-width%3A%200px%3B%20fill%3A%20rgb(78%2C%20121%2C%20167)%3B%20fill-opacity%3A%201%3B%22%20d%3D%22M661.55%2C238V205.63H701.95V238Z%22%2F%3E%3C%2Fg%3E%3C%2Fg%3E%3C%2Fg%3E%3Cg%20class%3D%22trace%20bars%22%20style%3D%22opacity%3A%201%3B%22%3E%3Cg%20class%3D%22points%22%3E%3Cg%20class%3D%22point%22%3E%3Cpath%20style%3D%22vector-effect%3A%20non-scaling-stroke%3B%20opacity%3A%201%3B%20stroke-width%3A%200px%3B%20fill%3A%20rgb(242%2C%20142%2C%2044)%3B%20fill-opacity%3A%201%3B%22%20d%3D%22M5.05%2C229.2V68.94H45.45V229.2Z%22%2F%3E%3C%2Fg%3E%3Cg%20class%3D%22point%22%3E%3Cpath%20style%3D%22vector-effect%3A%20non-scaling-stroke%3B%20opacity%3A%201%3B%20stroke-width%3A%200px%3B%20fill%3A%20rgb(242%2C%20142%2C%2044)%3B%20fill-opacity%3A%201%3B%22%20d%3D%22M55.55%2C230.34V55.23H95.95V230.34Z%22%2F%3E%3C%2Fg%3E%3Cg%20class%3D%22point%22%3E%3Cpath%20style%3D%22vector-effect%3A%20non-scaling-stroke%3B%20opacity%3A%201%3B%20stroke-width%3A%200px%3B%20fill%3A%20rgb(242%2C%20142%2C%2044)%3B%20fill-opacity%3A%201%3B%22%20d%3D%22M106.05%2C227.44V62.13H146.45V227.44Z%22%2F%3E%3C%2Fg%3E%3Cg%20class%3D%22point%22%3E%3Cpath%20style%3D%22vector-effect%3A%20non-scaling-stroke%3B%20opacity%3A%201%3B%20stroke-width%3A%200px%3B%20fill%3A%20rgb(242%2C%20142%2C%2044)%3B%20fill-opacity%3A%201%3B%22%20d%3D%22M156.55%2C238V11.9H196.95V238Z%22%2F%3E%3C%2Fg%3E%3Cg%20class%3D%22point%22%3E%3Cpath%20style%3D%22vector-effect%3A%20non-scaling-stroke%3B%20opacity%3A%201%3B%20stroke-width%3A%200px%3B%20fill%3A%20rgb(242%2C%20142%2C%2044)%3B%20fill-opacity%3A%201%3B%22%20d%3D%22M207.05%2C229.34V61.85H247.45V229.34Z%22%2F%3E%3C%2Fg%3E%3Cg%20class%3D%22point%22%3E%3Cpath%20style%3D%22vector-effect%3A%20non-scaling-stroke%3B%20opacity%3A%201%3B%20stroke-width%3A%200px%3B%20fill%3A%20rgb(242%2C%20142%2C%2044)%3B%20fill-opacity%3A%201%3B%22%20d%3D%22M257.55%2C223.17V87.73H297.95V223.17Z%22%2F%3E%3C%2Fg%3E%3Cg%20class%3D%22point%22%3E%3Cpath%20style%3D%22vector-effect%3A%20non-scaling-stroke%3B%20opacity%3A%201%3B%20stroke-width%3A%200px%3B%20fill%3A%20rgb(242%2C%20142%2C%2044)%3B%20fill-opacity%3A%201%3B%22%20d%3D%22M308.05%2C228.42V64.7H348.45V228.42Z%22%2F%3E%3C%2Fg%3E%3Cg%20class%3D%22point%22%3E%3Cpath%20style%3D%22vector-effect%3A%20non-scaling-stroke%3B%20opacity%3A%201%3B%20stroke-width%3A%200px%3B%20fill%3A%20rgb(242%2C%20142%2C%2044)%3B%20fill-opacity%3A%201%3B%22%20d%3D%22M358.55%2C225.7V62.39H398.95V225.7Z%22%2F%3E%3C%2Fg%3E%3Cg%20class%3D%22point%22%3E%3Cpath%20style%3D%22vector-effect%3A%20non-scaling-stroke%3B%20opacity%3A%201%3B%20stroke-width%3A%200px%3B%20fill%3A%20rgb(242%2C%20142%2C%2044)%3B%20fill-opacity%3A%201%3B%22%20d%3D%22M409.05%2C223.35V66.26H449.45V223.35Z%22%2F%3E%3C%2Fg%3E%3Cg%20class%3D%22point%22%3E%3Cpath%20style%3D%22vector-effect%3A%20non-scaling-stroke%3B%20opacity%3A%201%3B%20stroke-width%3A%200px%3B%20fill%3A%20rgb(242%2C%20142%2C%2044)%3B%20fill-opacity%3A%201%3B%22%20d%3D%22M459.55%2C225.11V62.16H499.95V225.11Z%22%2F%3E%3C%2Fg%3E%3Cg%20class%3D%22point%22%3E%3Cpath%20style%3D%22vector-effect%3A%20non-scaling-stroke%3B%20opacity%3A%201%3B%20stroke-width%3A%200px%3B%20fill%3A%20rgb(242%2C%20142%2C%2044)%3B%20fill-opacity%3A%201%3B%22%20d%3D%22M510.05%2C225.32V76.35H550.45V225.32Z%22%2F%3E%3C%2Fg%3E%3Cg%20class%3D%22point%22%3E%3Cpath%20style%3D%22vector-effect%3A%20non-scaling-stroke%3B%20opacity%3A%201%3B%20stroke-width%3A%200px%3B%20fill%3A%20rgb(242%2C%20142%2C%2044)%3B%20fill-opacity%3A%201%3B%22%20d%3D%22M560.55%2C213.38V69.01H600.95V213.38Z%22%2F%3E%3C%2Fg%3E%3Cg%20class%3D%22point%22%3E%3Cpath%20style%3D%22vector-effect%3A%20non-scaling-stroke%3B%20opacity%3A%201%3B%20stroke-width%3A%200px%3B%20fill%3A%20rgb(242%2C%20142%2C%2044)%3B%20fill-opacity%3A%201%3B%22%20d%3D%22M611.05%2C228.39V64.69H651.45V228.39Z%22%2F%3E%3C%2Fg%3E%3Cg%20class%3D%22point%22%3E%3Cpath%20style%3D%22vector-effect%3A%20non-scaling-stroke%3B%20opacity%3A%201%3B%20stroke-width%3A%200px%3B%20fill%3A%20rgb(242%2C%20142%2C%2044)%3B%20fill-opacity%3A%201%3B%22%20d%3D%22M661.55%2C205.63V122.12H701.95V205.63Z%22%2F%3E%3C%2Fg%3E%3C%2Fg%3E%3C%2Fg%3E%3Cg%20class%3D%22trace%20bars%22%20style%3D%22opacity%3A%201%3B%22%3E%3Cg%20class%3D%22points%22%3E%3Cg%20class%3D%22point%22%3E%3Cpath%20style%3D%22vector-effect%3A%20non-scaling-stroke%3B%20opacity%3A%201%3B%20stroke-width%3A%200px%3B%20fill%3A%20rgb(225%2C%2087%2C%2089)%3B%20fill-opacity%3A%201%3B%22%20d%3D%22M5.05%2C69V68H45.45V69Z%22%2F%3E%3C%2Fg%3E%3Cg%20class%3D%22point%22%3E%3Cpath%20style%3D%22vector-effect%3A%20non-scaling-stroke%3B%20opacity%3A%201%3B%20stroke-width%3A%200px%3B%20fill%3A%20rgb(225%2C%2087%2C%2089)%3B%20fill-opacity%3A%201%3B%22%20d%3D%22M55.55%2C56V54H95.95V56Z%22%2F%3E%3C%2Fg%3E%3Cg%20class%3D%22point%22%3E%3Cpath%20style%3D%22vector-effect%3A%20non-scaling-stroke%3B%20opacity%3A%201%3B%20stroke-width%3A%200px%3B%20fill%3A%20rgb(225%2C%2087%2C%2089)%3B%20fill-opacity%3A%201%3B%22%20d%3D%22M106.05%2C63V61H146.45V63Z%22%2F%3E%3C%2Fg%3E%3Cg%20class%3D%22point%22%3E%3Cpath%20style%3D%22vector-effect%3A%20non-scaling-stroke%3B%20opacity%3A%201%3B%20stroke-width%3A%200px%3B%20fill%3A%20rgb(225%2C%2087%2C%2089)%3B%20fill-opacity%3A%201%3B%22%20d%3D%22M156.55%2C238V238H196.95V238Z%22%2F%3E%3C%2Fg%3E%3Cg%20class%3D%22point%22%3E%3Cpath%20style%3D%22vector-effect%3A%20non-scaling-stroke%3B%20opacity%3A%201%3B%20stroke-width%3A%200px%3B%20fill%3A%20rgb(225%2C%2087%2C%2089)%3B%20fill-opacity%3A%201%3B%22%20d%3D%22M207.05%2C62V61H247.45V62Z%22%2F%3E%3C%2Fg%3E%3Cg%20class%3D%22point%22%3E%3Cpath%20style%3D%22vector-effect%3A%20non-scaling-stroke%3B%20opacity%3A%201%3B%20stroke-width%3A%200px%3B%20fill%3A%20rgb(225%2C%2087%2C%2089)%3B%20fill-opacity%3A%201%3B%22%20d%3D%22M257.55%2C88V87H297.95V88Z%22%2F%3E%3C%2Fg%3E%3Cg%20class%3D%22point%22%3E%3Cpath%20style%3D%22vector-effect%3A%20non-scaling-stroke%3B%20opacity%3A%201%3B%20stroke-width%3A%200px%3B%20fill%3A%20rgb(225%2C%2087%2C%2089)%3B%20fill-opacity%3A%201%3B%22%20d%3D%22M308.05%2C65V64H348.45V65Z%22%2F%3E%3C%2Fg%3E%3Cg%20class%3D%22point%22%3E%3Cpath%20style%3D%22vector-effect%3A%20non-scaling-stroke%3B%20opacity%3A%201%3B%20stroke-width%3A%200px%3B%20fill%3A%20rgb(225%2C%2087%2C%2089)%3B%20fill-opacity%3A%201%3B%22%20d%3D%22M358.55%2C63V61H398.95V63Z%22%2F%3E%3C%2Fg%3E%3Cg%20class%3D%22point%22%3E%3Cpath%20style%3D%22vector-effect%3A%20non-scaling-stroke%3B%20opacity%3A%201%3B%20stroke-width%3A%200px%3B%20fill%3A%20rgb(225%2C%2087%2C%2089)%3B%20fill-opacity%3A%201%3B%22%20d%3D%22M409.05%2C67V65H449.45V67Z%22%2F%3E%3C%2Fg%3E%3Cg%20class%3D%22point%22%3E%3Cpath%20style%3D%22vector-effect%3A%20non-scaling-stroke%3B%20opacity%3A%201%3B%20stroke-width%3A%200px%3B%20fill%3A%20rgb(225%2C%2087%2C%2089)%3B%20fill-opacity%3A%201%3B%22%20d%3D%22M459.55%2C63V61H499.95V63Z%22%2F%3E%3C%2Fg%3E%3Cg%20class%3D%22point%22%3E%3Cpath%20style%3D%22vector-effect%3A%20non-scaling-stroke%3B%20opacity%3A%201%3B%20stroke-width%3A%200px%3B%20fill%3A%20rgb(225%2C%2087%2C%2089)%3B%20fill-opacity%3A%201%3B%22%20d%3D%22M510.05%2C238V238H550.45V238Z%22%2F%3E%3C%2Fg%3E%3Cg%20class%3D%22point%22%3E%3Cpath%20style%3D%22vector-effect%3A%20non-scaling-stroke%3B%20opacity%3A%201%3B%20stroke-width%3A%200px%3B%20fill%3A%20rgb(225%2C%2087%2C%2089)%3B%20fill-opacity%3A%201%3B%22%20d%3D%22M560.55%2C70V68H600.95V70Z%22%2F%3E%3C%2Fg%3E%3Cg%20class%3D%22point%22%3E%3Cpath%20style%3D%22vector-effect%3A%20non-scaling-stroke%3B%20opacity%3A%201%3B%20stroke-width%3A%200px%3B%20fill%3A%20rgb(225%2C%2087%2C%2089)%3B%20fill-opacity%3A%201%3B%22%20d%3D%22M611.05%2C65V64H651.45V65Z%22%2F%3E%3C%2Fg%3E%3Cg%20class%3D%22point%22%3E%3Cpath%20style%3D%22vector-effect%3A%20non-scaling-stroke%3B%20opacity%3A%201%3B%20stroke-width%3A%200px%3B%20fill%3A%20rgb(225%2C%2087%2C%2089)%3B%20fill-opacity%3A%201%3B%22%20d%3D%22M661.55%2C238V238H701.95V238Z%22%2F%3E%3C%2Fg%3E%3C%2Fg%3E%3C%2Fg%3E%3Cg%20class%3D%22trace%20bars%22%20style%3D%22opacity%3A%201%3B%22%3E%3Cg%20class%3D%22points%22%3E%3Cg%20class%3D%22point%22%3E%3Cpath%20style%3D%22vector-effect%3A%20non-scaling-stroke%3B%20opacity%3A%201%3B%20stroke-width%3A%200px%3B%20fill%3A%20rgb(118%2C%20183%2C%20178)%3B%20fill-opacity%3A%201%3B%22%20d%3D%22M5.05%2C69V68H45.45V69Z%22%2F%3E%3C%2Fg%3E%3Cg%20class%3D%22point%22%3E%3Cpath%20style%3D%22vector-effect%3A%20non-scaling-stroke%3B%20opacity%3A%201%3B%20stroke-width%3A%200px%3B%20fill%3A%20rgb(118%2C%20183%2C%20178)%3B%20fill-opacity%3A%201%3B%22%20d%3D%22M55.55%2C55V54H95.95V55Z%22%2F%3E%3C%2Fg%3E%3Cg%20class%3D%22point%22%3E%3Cpath%20style%3D%22vector-effect%3A%20non-scaling-stroke%3B%20opacity%3A%201%3B%20stroke-width%3A%200px%3B%20fill%3A%20rgb(118%2C%20183%2C%20178)%3B%20fill-opacity%3A%201%3B%22%20d%3D%22M106.05%2C61.77V61.77H146.45V61.77Z%22%2F%3E%3C%2Fg%3E%3Cg%20class%3D%22point%22%3E%3Cpath%20style%3D%22vector-effect%3A%20non-scaling-stroke%3B%20opacity%3A%201%3B%20stroke-width%3A%200px%3B%20fill%3A%20rgb(118%2C%20183%2C%20178)%3B%20fill-opacity%3A%201%3B%22%20d%3D%22M156.55%2C238V238H196.95V238Z%22%2F%3E%3C%2Fg%3E%3Cg%20class%3D%22point%22%3E%3Cpath%20style%3D%22vector-effect%3A%20non-scaling-stroke%3B%20opacity%3A%201%3B%20stroke-width%3A%200px%3B%20fill%3A%20rgb(118%2C%20183%2C%20178)%3B%20fill-opacity%3A%201%3B%22%20d%3D%22M207.05%2C62V61H247.45V62Z%22%2F%3E%3C%2Fg%3E%3Cg%20class%3D%22point%22%3E%3Cpath%20style%3D%22vector-effect%3A%20non-scaling-stroke%3B%20opacity%3A%201%3B%20stroke-width%3A%200px%3B%20fill%3A%20rgb(118%2C%20183%2C%20178)%3B%20fill-opacity%3A%201%3B%22%20d%3D%22M257.55%2C238V238H297.95V238Z%22%2F%3E%3C%2Fg%3E%3Cg%20class%3D%22point%22%3E%3Cpath%20style%3D%22vector-effect%3A%20non-scaling-stroke%3B%20opacity%3A%201%3B%20stroke-width%3A%200px%3B%20fill%3A%20rgb(118%2C%20183%2C%20178)%3B%20fill-opacity%3A%201%3B%22%20d%3D%22M308.05%2C65V64H348.45V65Z%22%2F%3E%3C%2Fg%3E%3Cg%20class%3D%22point%22%3E%3Cpath%20style%3D%22vector-effect%3A%20non-scaling-stroke%3B%20opacity%3A%201%3B%20stroke-width%3A%200px%3B%20fill%3A%20rgb(118%2C%20183%2C%20178)%3B%20fill-opacity%3A%201%3B%22%20d%3D%22M358.55%2C62V61H398.95V62Z%22%2F%3E%3C%2Fg%3E%3Cg%20class%3D%22point%22%3E%3Cpath%20style%3D%22vector-effect%3A%20non-scaling-stroke%3B%20opacity%3A%201%3B%20stroke-width%3A%200px%3B%20fill%3A%20rgb(118%2C%20183%2C%20178)%3B%20fill-opacity%3A%201%3B%22%20d%3D%22M409.05%2C66V65H449.45V66Z%22%2F%3E%3C%2Fg%3E%3Cg%20class%3D%22point%22%3E%3Cpath%20style%3D%22vector-effect%3A%20non-scaling-stroke%3B%20opacity%3A%201%3B%20stroke-width%3A%200px%3B%20fill%3A%20rgb(118%2C%20183%2C%20178)%3B%20fill-opacity%3A%201%3B%22%20d%3D%22M459.55%2C62V61H499.95V62Z%22%2F%3E%3C%2Fg%3E%3Cg%20class%3D%22point%22%3E%3Cpath%20style%3D%22vector-effect%3A%20non-scaling-stroke%3B%20opacity%3A%201%3B%20stroke-width%3A%200px%3B%20fill%3A%20rgb(118%2C%20183%2C%20178)%3B%20fill-opacity%3A%201%3B%22%20d%3D%22M510.05%2C238V238H550.45V238Z%22%2F%3E%3C%2Fg%3E%3Cg%20class%3D%22point%22%3E%3Cpath%20style%3D%22vector-effect%3A%20non-scaling-stroke%3B%20opacity%3A%201%3B%20stroke-width%3A%200px%3B%20fill%3A%20rgb(118%2C%20183%2C%20178)%3B%20fill-opacity%3A%201%3B%22%20d%3D%22M560.55%2C69V68H600.95V69Z%22%2F%3E%3C%2Fg%3E%3Cg%20class%3D%22point%22%3E%3Cpath%20style%3D%22vector-effect%3A%20non-scaling-stroke%3B%20opacity%3A%201%3B%20stroke-width%3A%200px%3B%20fill%3A%20rgb(118%2C%20183%2C%20178)%3B%20fill-opacity%3A%201%3B%22%20d%3D%22M611.05%2C238V238H651.45V238Z%22%2F%3E%3C%2Fg%3E%3Cg%20class%3D%22point%22%3E%3Cpath%20style%3D%22vector-effect%3A%20non-scaling-stroke%3B%20opacity%3A%201%3B%20stroke-width%3A%200px%3B%20fill%3A%20rgb(118%2C%20183%2C%20178)%3B%20fill-opacity%3A%201%3B%22%20d%3D%22M661.55%2C123V121H701.95V123Z%22%2F%3E%3C%2Fg%3E%3C%2Fg%3E%3C%2Fg%3E%3Cg%20class%3D%22trace%20bars%22%20style%3D%22opacity%3A%201%3B%22%3E%3Cg%20class%3D%22points%22%3E%3Cg%20class%3D%22point%22%3E%3Cpath%20style%3D%22vector-effect%3A%20non-scaling-stroke%3B%20opacity%3A%201%3B%20stroke-width%3A%200px%3B%20fill%3A%20rgb(89%2C%20161%2C%2079)%3B%20fill-opacity%3A%201%3B%22%20d%3D%22M5.05%2C68.51V18.59H45.45V68.51Z%22%2F%3E%3C%2Fg%3E%3Cg%20class%3D%22point%22%3E%3Cpath%20style%3D%22vector-effect%3A%20non-scaling-stroke%3B%20opacity%3A%201%3B%20stroke-width%3A%200px%3B%20fill%3A%20rgb(89%2C%20161%2C%2079)%3B%20fill-opacity%3A%201%3B%22%20d%3D%22M55.55%2C54.95V18.55H95.95V54.95Z%22%2F%3E%3C%2Fg%3E%3Cg%20class%3D%22point%22%3E%3Cpath%20style%3D%22vector-effect%3A%20non-scaling-stroke%3B%20opacity%3A%201%3B%20stroke-width%3A%200px%3B%20fill%3A%20rgb(89%2C%20161%2C%2079)%3B%20fill-opacity%3A%201%3B%22%20d%3D%22M106.05%2C61.77V20.11H146.45V61.77Z%22%2F%3E%3C%2Fg%3E%3Cg%20class%3D%22point%22%3E%3Cpath%20style%3D%22vector-effect%3A%20non-scaling-stroke%3B%20opacity%3A%201%3B%20stroke-width%3A%200px%3B%20fill%3A%20rgb(89%2C%20161%2C%2079)%3B%20fill-opacity%3A%201%3B%22%20d%3D%22M156.55%2C238V238H196.95V238Z%22%2F%3E%3C%2Fg%3E%3Cg%20class%3D%22point%22%3E%3Cpath%20style%3D%22vector-effect%3A%20non-scaling-stroke%3B%20opacity%3A%201%3B%20stroke-width%3A%200px%3B%20fill%3A%20rgb(89%2C%20161%2C%2079)%3B%20fill-opacity%3A%201%3B%22%20d%3D%22M207.05%2C61.62V19.83H247.45V61.62Z%22%2F%3E%3C%2Fg%3E%3Cg%20class%3D%22point%22%3E%3Cpath%20style%3D%22vector-effect%3A%20non-scaling-stroke%3B%20opacity%3A%201%3B%20stroke-width%3A%200px%3B%20fill%3A%20rgb(89%2C%20161%2C%2079)%3B%20fill-opacity%3A%201%3B%22%20d%3D%22M257.55%2C87.22V23H297.95V87.22Z%22%2F%3E%3C%2Fg%3E%3Cg%20class%3D%22point%22%3E%3Cpath%20style%3D%22vector-effect%3A%20non-scaling-stroke%3B%20opacity%3A%201%3B%20stroke-width%3A%200px%3B%20fill%3A%20rgb(89%2C%20161%2C%2079)%3B%20fill-opacity%3A%201%3B%22%20d%3D%22M308.05%2C64.44V20.92H348.45V64.44Z%22%2F%3E%3C%2Fg%3E%3Cg%20class%3D%22point%22%3E%3Cpath%20style%3D%22vector-effect%3A%20non-scaling-stroke%3B%20opacity%3A%201%3B%20stroke-width%3A%200px%3B%20fill%3A%20rgb(89%2C%20161%2C%2079)%3B%20fill-opacity%3A%201%3B%22%20d%3D%22M358.55%2C61.9V20.83H398.95V61.9Z%22%2F%3E%3C%2Fg%3E%3Cg%20class%3D%22point%22%3E%3Cpath%20style%3D%22vector-effect%3A%20non-scaling-stroke%3B%20opacity%3A%201%3B%20stroke-width%3A%200px%3B%20fill%3A%20rgb(89%2C%20161%2C%2079)%3B%20fill-opacity%3A%201%3B%22%20d%3D%22M409.05%2C65.61V22.27H449.45V65.61Z%22%2F%3E%3C%2Fg%3E%3Cg%20class%3D%22point%22%3E%3Cpath%20style%3D%22vector-effect%3A%20non-scaling-stroke%3B%20opacity%3A%201%3B%20stroke-width%3A%200px%3B%20fill%3A%20rgb(89%2C%20161%2C%2079)%3B%20fill-opacity%3A%201%3B%22%20d%3D%22M459.55%2C61.76V21.2H499.95V61.76Z%22%2F%3E%3C%2Fg%3E%3Cg%20class%3D%22point%22%3E%3Cpath%20style%3D%22vector-effect%3A%20non-scaling-stroke%3B%20opacity%3A%201%3B%20stroke-width%3A%200px%3B%20fill%3A%20rgb(89%2C%20161%2C%2079)%3B%20fill-opacity%3A%201%3B%22%20d%3D%22M510.05%2C76.35V24.05H550.45V76.35Z%22%2F%3E%3C%2Fg%3E%3Cg%20class%3D%22point%22%3E%3Cpath%20style%3D%22vector-effect%3A%20non-scaling-stroke%3B%20opacity%3A%201%3B%20stroke-width%3A%200px%3B%20fill%3A%20rgb(89%2C%20161%2C%2079)%3B%20fill-opacity%3A%201%3B%22%20d%3D%22M560.55%2C68.44V24.32H600.95V68.44Z%22%2F%3E%3C%2Fg%3E%3Cg%20class%3D%22point%22%3E%3Cpath%20style%3D%22vector-effect%3A%20non-scaling-stroke%3B%20opacity%3A%201%3B%20stroke-width%3A%200px%3B%20fill%3A%20rgb(89%2C%20161%2C%2079)%3B%20fill-opacity%3A%201%3B%22%20d%3D%22M611.05%2C64.24V21.62H651.45V64.24Z%22%2F%3E%3C%2Fg%3E%3Cg%20class%3D%22point%22%3E%3Cpath%20style%3D%22vector-effect%3A%20non-scaling-stroke%3B%20opacity%3A%201%3B%20stroke-width%3A%200px%3B%20fill%3A%20rgb(89%2C%20161%2C%2079)%3B%20fill-opacity%3A%201%3B%22%20d%3D%22M661.55%2C121.87V14.98H701.95V121.87Z%22%2F%3E%3C%2Fg%3E%3C%2Fg%3E%3C%2Fg%3E%3Cg%20class%3D%22trace%20bars%22%20style%3D%22opacity%3A%201%3B%22%3E%3Cg%20class%3D%22points%22%3E%3Cg%20class%3D%22point%22%3E%3Cpath%20style%3D%22vector-effect%3A%20non-scaling-stroke%3B%20opacity%3A%201%3B%20stroke-width%3A%200px%3B%20fill%3A%20rgb(237%2C%20201%2C%2073)%3B%20fill-opacity%3A%201%3B%22%20d%3D%22M5.05%2C19V17H45.45V19Z%22%2F%3E%3C%2Fg%3E%3Cg%20class%3D%22point%22%3E%3Cpath%20style%3D%22vector-effect%3A%20non-scaling-stroke%3B%20opacity%3A%201%3B%20stroke-width%3A%200px%3B%20fill%3A%20rgb(237%2C%20201%2C%2073)%3B%20fill-opacity%3A%201%3B%22%20d%3D%22M55.55%2C19V17H95.95V19Z%22%2F%3E%3C%2Fg%3E%3Cg%20class%3D%22point%22%3E%3Cpath%20style%3D%22vector-effect%3A%20non-scaling-stroke%3B%20opacity%3A%201%3B%20stroke-width%3A%200px%3B%20fill%3A%20rgb(237%2C%20201%2C%2073)%3B%20fill-opacity%3A%201%3B%22%20d%3D%22M106.05%2C21V18.26H146.45V21Z%22%2F%3E%3C%2Fg%3E%3Cg%20class%3D%22point%22%3E%3Cpath%20style%3D%22vector-effect%3A%20non-scaling-stroke%3B%20opacity%3A%201%3B%20stroke-width%3A%200px%3B%20fill%3A%20rgb(237%2C%20201%2C%2073)%3B%20fill-opacity%3A%201%3B%22%20d%3D%22M156.55%2C238V238H196.95V238Z%22%2F%3E%3C%2Fg%3E%3Cg%20class%3D%22point%22%3E%3Cpath%20style%3D%22vector-effect%3A%20non-scaling-stroke%3B%20opacity%3A%201%3B%20stroke-width%3A%200px%3B%20fill%3A%20rgb(237%2C%20201%2C%2073)%3B%20fill-opacity%3A%201%3B%22%20d%3D%22M207.05%2C20V18H247.45V20Z%22%2F%3E%3C%2Fg%3E%3Cg%20class%3D%22point%22%3E%3Cpath%20style%3D%22vector-effect%3A%20non-scaling-stroke%3B%20opacity%3A%201%3B%20stroke-width%3A%200px%3B%20fill%3A%20rgb(237%2C%20201%2C%2073)%3B%20fill-opacity%3A%201%3B%22%20d%3D%22M257.55%2C23V20.3H297.95V23Z%22%2F%3E%3C%2Fg%3E%3Cg%20class%3D%22point%22%3E%3Cpath%20style%3D%22vector-effect%3A%20non-scaling-stroke%3B%20opacity%3A%201%3B%20stroke-width%3A%200px%3B%20fill%3A%20rgb(237%2C%20201%2C%2073)%3B%20fill-opacity%3A%201%3B%22%20d%3D%22M308.05%2C21V18.94H348.45V21Z%22%2F%3E%3C%2Fg%3E%3Cg%20class%3D%22point%22%3E%3Cpath%20style%3D%22vector-effect%3A%20non-scaling-stroke%3B%20opacity%3A%201%3B%20stroke-width%3A%200px%3B%20fill%3A%20rgb(237%2C%20201%2C%2073)%3B%20fill-opacity%3A%201%3B%22%20d%3D%22M358.55%2C21V19H398.95V21Z%22%2F%3E%3C%2Fg%3E%3Cg%20class%3D%22point%22%3E%3Cpath%20style%3D%22vector-effect%3A%20non-scaling-stroke%3B%20opacity%3A%201%3B%20stroke-width%3A%200px%3B%20fill%3A%20rgb(237%2C%20201%2C%2073)%3B%20fill-opacity%3A%201%3B%22%20d%3D%22M409.05%2C22.27V20.1H449.45V22.27Z%22%2F%3E%3C%2Fg%3E%3Cg%20class%3D%22point%22%3E%3Cpath%20style%3D%22vector-effect%3A%20non-scaling-stroke%3B%20opacity%3A%201%3B%20stroke-width%3A%200px%3B%20fill%3A%20rgb(237%2C%20201%2C%2073)%3B%20fill-opacity%3A%201%3B%22%20d%3D%22M459.55%2C22V19.3H499.95V22Z%22%2F%3E%3C%2Fg%3E%3Cg%20class%3D%22point%22%3E%3Cpath%20style%3D%22vector-effect%3A%20non-scaling-stroke%3B%20opacity%3A%201%3B%20stroke-width%3A%200px%3B%20fill%3A%20rgb(237%2C%20201%2C%2073)%3B%20fill-opacity%3A%201%3B%22%20d%3D%22M510.05%2C24.05V19.82H550.45V24.05Z%22%2F%3E%3C%2Fg%3E%3Cg%20class%3D%22point%22%3E%3Cpath%20style%3D%22vector-effect%3A%20non-scaling-stroke%3B%20opacity%3A%201%3B%20stroke-width%3A%200px%3B%20fill%3A%20rgb(237%2C%20201%2C%2073)%3B%20fill-opacity%3A%201%3B%22%20d%3D%22M560.55%2C24.32V22.05H600.95V24.32Z%22%2F%3E%3C%2Fg%3E%3Cg%20class%3D%22point%22%3E%3Cpath%20style%3D%22vector-effect%3A%20non-scaling-stroke%3B%20opacity%3A%201%3B%20stroke-width%3A%200px%3B%20fill%3A%20rgb(237%2C%20201%2C%2073)%3B%20fill-opacity%3A%201%3B%22%20d%3D%22M611.05%2C21.62V19.57H651.45V21.62Z%22%2F%3E%3C%2Fg%3E%3Cg%20class%3D%22point%22%3E%3Cpath%20style%3D%22vector-effect%3A%20non-scaling-stroke%3B%20opacity%3A%201%3B%20stroke-width%3A%200px%3B%20fill%3A%20rgb(237%2C%20201%2C%2073)%3B%20fill-opacity%3A%201%3B%22%20d%3D%22M661.55%2C15V14H701.95V15Z%22%2F%3E%3C%2Fg%3E%3C%2Fg%3E%3C%2Fg%3E%3Cg%20class%3D%22trace%20bars%22%20style%3D%22opacity%3A%201%3B%22%3E%3Cg%20class%3D%22points%22%3E%3Cg%20class%3D%22point%22%3E%3Cpath%20style%3D%22vector-effect%3A%20non-scaling-stroke%3B%20opacity%3A%201%3B%20stroke-width%3A%200px%3B%20fill%3A%20rgb(175%2C%20122%2C%20161)%3B%20fill-opacity%3A%201%3B%22%20d%3D%22M5.05%2C17.29V14.66H45.45V17.29Z%22%2F%3E%3C%2Fg%3E%3Cg%20class%3D%22point%22%3E%3Cpath%20style%3D%22vector-effect%3A%20non-scaling-stroke%3B%20opacity%3A%201%3B%20stroke-width%3A%200px%3B%20fill%3A%20rgb(175%2C%20122%2C%20161)%3B%20fill-opacity%3A%201%3B%22%20d%3D%22M55.55%2C17.21V14.79H95.95V17.21Z%22%2F%3E%3C%2Fg%3E%3Cg%20class%3D%22point%22%3E%3Cpath%20style%3D%22vector-effect%3A%20non-scaling-stroke%3B%20opacity%3A%201%3B%20stroke-width%3A%200px%3B%20fill%3A%20rgb(175%2C%20122%2C%20161)%3B%20fill-opacity%3A%201%3B%22%20d%3D%22M106.05%2C18.26V16.03H146.45V18.26Z%22%2F%3E%3C%2Fg%3E%3Cg%20class%3D%22point%22%3E%3Cpath%20style%3D%22vector-effect%3A%20non-scaling-stroke%3B%20opacity%3A%201%3B%20stroke-width%3A%200px%3B%20fill%3A%20rgb(175%2C%20122%2C%20161)%3B%20fill-opacity%3A%201%3B%22%20d%3D%22M156.55%2C238V238H196.95V238Z%22%2F%3E%3C%2Fg%3E%3Cg%20class%3D%22point%22%3E%3Cpath%20style%3D%22vector-effect%3A%20non-scaling-stroke%3B%20opacity%3A%201%3B%20stroke-width%3A%200px%3B%20fill%3A%20rgb(175%2C%20122%2C%20161)%3B%20fill-opacity%3A%201%3B%22%20d%3D%22M207.05%2C18.07V15.71H247.45V18.07Z%22%2F%3E%3C%2Fg%3E%3Cg%20class%3D%22point%22%3E%3Cpath%20style%3D%22vector-effect%3A%20non-scaling-stroke%3B%20opacity%3A%201%3B%20stroke-width%3A%200px%3B%20fill%3A%20rgb(175%2C%20122%2C%20161)%3B%20fill-opacity%3A%201%3B%22%20d%3D%22M257.55%2C20.3V17.6H297.95V20.3Z%22%2F%3E%3C%2Fg%3E%3Cg%20class%3D%22point%22%3E%3Cpath%20style%3D%22vector-effect%3A%20non-scaling-stroke%3B%20opacity%3A%201%3B%20stroke-width%3A%200px%3B%20fill%3A%20rgb(175%2C%20122%2C%20161)%3B%20fill-opacity%3A%201%3B%22%20d%3D%22M308.05%2C18.94V16.01H348.45V18.94Z%22%2F%3E%3C%2Fg%3E%3Cg%20class%3D%22point%22%3E%3Cpath%20style%3D%22vector-effect%3A%20non-scaling-stroke%3B%20opacity%3A%201%3B%20stroke-width%3A%200px%3B%20fill%3A%20rgb(175%2C%20122%2C%20161)%3B%20fill-opacity%3A%201%3B%22%20d%3D%22M358.55%2C19.11V16.32H398.95V19.11Z%22%2F%3E%3C%2Fg%3E%3Cg%20class%3D%22point%22%3E%3Cpath%20style%3D%22vector-effect%3A%20non-scaling-stroke%3B%20opacity%3A%201%3B%20stroke-width%3A%200px%3B%20fill%3A%20rgb(175%2C%20122%2C%20161)%3B%20fill-opacity%3A%201%3B%22%20d%3D%22M409.05%2C20.1V17.49H449.45V20.1Z%22%2F%3E%3C%2Fg%3E%3Cg%20class%3D%22point%22%3E%3Cpath%20style%3D%22vector-effect%3A%20non-scaling-stroke%3B%20opacity%3A%201%3B%20stroke-width%3A%200px%3B%20fill%3A%20rgb(175%2C%20122%2C%20161)%3B%20fill-opacity%3A%201%3B%22%20d%3D%22M459.55%2C19.3V16.36H499.95V19.3Z%22%2F%3E%3C%2Fg%3E%3Cg%20class%3D%22point%22%3E%3Cpath%20style%3D%22vector-effect%3A%20non-scaling-stroke%3B%20opacity%3A%201%3B%20stroke-width%3A%200px%3B%20fill%3A%20rgb(175%2C%20122%2C%20161)%3B%20fill-opacity%3A%201%3B%22%20d%3D%22M510.05%2C19.82V16.65H550.45V19.82Z%22%2F%3E%3C%2Fg%3E%3Cg%20class%3D%22point%22%3E%3Cpath%20style%3D%22vector-effect%3A%20non-scaling-stroke%3B%20opacity%3A%201%3B%20stroke-width%3A%200px%3B%20fill%3A%20rgb(175%2C%20122%2C%20161)%3B%20fill-opacity%3A%201%3B%22%20d%3D%22M560.55%2C22.05V18.83H600.95V22.05Z%22%2F%3E%3C%2Fg%3E%3Cg%20class%3D%22point%22%3E%3Cpath%20style%3D%22vector-effect%3A%20non-scaling-stroke%3B%20opacity%3A%201%3B%20stroke-width%3A%200px%3B%20fill%3A%20rgb(175%2C%20122%2C%20161)%3B%20fill-opacity%3A%201%3B%22%20d%3D%22M611.05%2C19.57V16.4H651.45V19.57Z%22%2F%3E%3C%2Fg%3E%3Cg%20class%3D%22point%22%3E%3Cpath%20style%3D%22vector-effect%3A%20non-scaling-stroke%3B%20opacity%3A%201%3B%20stroke-width%3A%200px%3B%20fill%3A%20rgb(175%2C%20122%2C%20161)%3B%20fill-opacity%3A%201%3B%22%20d%3D%22M661.55%2C238V238H701.95V238Z%22%2F%3E%3C%2Fg%3E%3C%2Fg%3E%3C%2Fg%3E%3Cg%20class%3D%22trace%20bars%22%20style%3D%22opacity%3A%201%3B%22%3E%3Cg%20class%3D%22points%22%3E%3Cg%20class%3D%22point%22%3E%3Cpath%20style%3D%22vector-effect%3A%20non-scaling-stroke%3B%20opacity%3A%201%3B%20stroke-width%3A%200px%3B%20fill%3A%20rgb(255%2C%20157%2C%20167)%3B%20fill-opacity%3A%201%3B%22%20d%3D%22M5.05%2C15V14H45.45V15Z%22%2F%3E%3C%2Fg%3E%3Cg%20class%3D%22point%22%3E%3Cpath%20style%3D%22vector-effect%3A%20non-scaling-stroke%3B%20opacity%3A%201%3B%20stroke-width%3A%200px%3B%20fill%3A%20rgb(255%2C%20157%2C%20167)%3B%20fill-opacity%3A%201%3B%22%20d%3D%22M55.55%2C15V14H95.95V15Z%22%2F%3E%3C%2Fg%3E%3Cg%20class%3D%22point%22%3E%3Cpath%20style%3D%22vector-effect%3A%20non-scaling-stroke%3B%20opacity%3A%201%3B%20stroke-width%3A%200px%3B%20fill%3A%20rgb(255%2C%20157%2C%20167)%3B%20fill-opacity%3A%201%3B%22%20d%3D%22M106.05%2C17V15H146.45V17Z%22%2F%3E%3C%2Fg%3E%3Cg%20class%3D%22point%22%3E%3Cpath%20style%3D%22vector-effect%3A%20non-scaling-stroke%3B%20opacity%3A%201%3B%20stroke-width%3A%200px%3B%20fill%3A%20rgb(255%2C%20157%2C%20167)%3B%20fill-opacity%3A%201%3B%22%20d%3D%22M156.55%2C238V238H196.95V238Z%22%2F%3E%3C%2Fg%3E%3Cg%20class%3D%22point%22%3E%3Cpath%20style%3D%22vector-effect%3A%20non-scaling-stroke%3B%20opacity%3A%201%3B%20stroke-width%3A%200px%3B%20fill%3A%20rgb(255%2C%20157%2C%20167)%3B%20fill-opacity%3A%201%3B%22%20d%3D%22M207.05%2C16V15H247.45V16Z%22%2F%3E%3C%2Fg%3E%3Cg%20class%3D%22point%22%3E%3Cpath%20style%3D%22vector-effect%3A%20non-scaling-stroke%3B%20opacity%3A%201%3B%20stroke-width%3A%200px%3B%20fill%3A%20rgb(255%2C%20157%2C%20167)%3B%20fill-opacity%3A%201%3B%22%20d%3D%22M257.55%2C18V16H297.95V18Z%22%2F%3E%3C%2Fg%3E%3Cg%20class%3D%22point%22%3E%3Cpath%20style%3D%22vector-effect%3A%20non-scaling-stroke%3B%20opacity%3A%201%3B%20stroke-width%3A%200px%3B%20fill%3A%20rgb(255%2C%20157%2C%20167)%3B%20fill-opacity%3A%201%3B%22%20d%3D%22M308.05%2C17V15H348.45V17Z%22%2F%3E%3C%2Fg%3E%3Cg%20class%3D%22point%22%3E%3Cpath%20style%3D%22vector-effect%3A%20non-scaling-stroke%3B%20opacity%3A%201%3B%20stroke-width%3A%200px%3B%20fill%3A%20rgb(255%2C%20157%2C%20167)%3B%20fill-opacity%3A%201%3B%22%20d%3D%22M358.55%2C17V15H398.95V17Z%22%2F%3E%3C%2Fg%3E%3Cg%20class%3D%22point%22%3E%3Cpath%20style%3D%22vector-effect%3A%20non-scaling-stroke%3B%20opacity%3A%201%3B%20stroke-width%3A%200px%3B%20fill%3A%20rgb(255%2C%20157%2C%20167)%3B%20fill-opacity%3A%201%3B%22%20d%3D%22M409.05%2C18V16H449.45V18Z%22%2F%3E%3C%2Fg%3E%3Cg%20class%3D%22point%22%3E%3Cpath%20style%3D%22vector-effect%3A%20non-scaling-stroke%3B%20opacity%3A%201%3B%20stroke-width%3A%200px%3B%20fill%3A%20rgb(255%2C%20157%2C%20167)%3B%20fill-opacity%3A%201%3B%22%20d%3D%22M459.55%2C17V15H499.95V17Z%22%2F%3E%3C%2Fg%3E%3Cg%20class%3D%22point%22%3E%3Cpath%20style%3D%22vector-effect%3A%20non-scaling-stroke%3B%20opacity%3A%201%3B%20stroke-width%3A%200px%3B%20fill%3A%20rgb(255%2C%20157%2C%20167)%3B%20fill-opacity%3A%201%3B%22%20d%3D%22M510.05%2C238V238H550.45V238Z%22%2F%3E%3C%2Fg%3E%3Cg%20class%3D%22point%22%3E%3Cpath%20style%3D%22vector-effect%3A%20non-scaling-stroke%3B%20opacity%3A%201%3B%20stroke-width%3A%200px%3B%20fill%3A%20rgb(255%2C%20157%2C%20167)%3B%20fill-opacity%3A%201%3B%22%20d%3D%22M560.55%2C19V17H600.95V19Z%22%2F%3E%3C%2Fg%3E%3Cg%20class%3D%22point%22%3E%3Cpath%20style%3D%22vector-effect%3A%20non-scaling-stroke%3B%20opacity%3A%201%3B%20stroke-width%3A%200px%3B%20fill%3A%20rgb(255%2C%20157%2C%20167)%3B%20fill-opacity%3A%201%3B%22%20d%3D%22M611.05%2C17V15H651.45V17Z%22%2F%3E%3C%2Fg%3E%3Cg%20class%3D%22point%22%3E%3Cpath%20style%3D%22vector-effect%3A%20non-scaling-stroke%3B%20opacity%3A%201%3B%20stroke-width%3A%200px%3B%20fill%3A%20rgb(255%2C%20157%2C%20167)%3B%20fill-opacity%3A%201%3B%22%20d%3D%22M661.55%2C238V238H701.95V238Z%22%2F%3E%3C%2Fg%3E%3C%2Fg%3E%3C%2Fg%3E%3Cg%20class%3D%22trace%20bars%22%20style%3D%22opacity%3A%201%3B%22%3E%3Cg%20class%3D%22points%22%3E%3Cg%20class%3D%22point%22%3E%3Cpath%20style%3D%22vector-effect%3A%20non-scaling-stroke%3B%20opacity%3A%201%3B%20stroke-width%3A%200px%3B%20fill%3A%20rgb(156%2C%20117%2C%2095)%3B%20fill-opacity%3A%201%3B%22%20d%3D%22M5.05%2C14.17V11.9H45.45V14.17Z%22%2F%3E%3C%2Fg%3E%3Cg%20class%3D%22point%22%3E%3Cpath%20style%3D%22vector-effect%3A%20non-scaling-stroke%3B%20opacity%3A%201%3B%20stroke-width%3A%200px%3B%20fill%3A%20rgb(156%2C%20117%2C%2095)%3B%20fill-opacity%3A%201%3B%22%20d%3D%22M55.55%2C14.34V11.9H95.95V14.34Z%22%2F%3E%3C%2Fg%3E%3Cg%20class%3D%22point%22%3E%3Cpath%20style%3D%22vector-effect%3A%20non-scaling-stroke%3B%20opacity%3A%201%3B%20stroke-width%3A%200px%3B%20fill%3A%20rgb(156%2C%20117%2C%2095)%3B%20fill-opacity%3A%201%3B%22%20d%3D%22M106.05%2C15.33V11.9H146.45V15.33Z%22%2F%3E%3C%2Fg%3E%3Cg%20class%3D%22point%22%3E%3Cpath%20style%3D%22vector-effect%3A%20non-scaling-stroke%3B%20opacity%3A%201%3B%20stroke-width%3A%200px%3B%20fill%3A%20rgb(156%2C%20117%2C%2095)%3B%20fill-opacity%3A%201%3B%22%20d%3D%22M156.55%2C238V238H196.95V238Z%22%2F%3E%3C%2Fg%3E%3Cg%20class%3D%22point%22%3E%3Cpath%20style%3D%22vector-effect%3A%20non-scaling-stroke%3B%20opacity%3A%201%3B%20stroke-width%3A%200px%3B%20fill%3A%20rgb(156%2C%20117%2C%2095)%3B%20fill-opacity%3A%201%3B%22%20d%3D%22M207.05%2C15.06V11.9H247.45V15.06Z%22%2F%3E%3C%2Fg%3E%3Cg%20class%3D%22point%22%3E%3Cpath%20style%3D%22vector-effect%3A%20non-scaling-stroke%3B%20opacity%3A%201%3B%20stroke-width%3A%200px%3B%20fill%3A%20rgb(156%2C%20117%2C%2095)%3B%20fill-opacity%3A%201%3B%22%20d%3D%22M257.55%2C16.5V12.05H297.95V16.5Z%22%2F%3E%3C%2Fg%3E%3Cg%20class%3D%22point%22%3E%3Cpath%20style%3D%22vector-effect%3A%20non-scaling-stroke%3B%20opacity%3A%201%3B%20stroke-width%3A%200px%3B%20fill%3A%20rgb(156%2C%20117%2C%2095)%3B%20fill-opacity%3A%201%3B%22%20d%3D%22M308.05%2C15.2V11.92H348.45V15.2Z%22%2F%3E%3C%2Fg%3E%3Cg%20class%3D%22point%22%3E%3Cpath%20style%3D%22vector-effect%3A%20non-scaling-stroke%3B%20opacity%3A%201%3B%20stroke-width%3A%200px%3B%20fill%3A%20rgb(156%2C%20117%2C%2095)%3B%20fill-opacity%3A%201%3B%22%20d%3D%22M358.55%2C15.8V11.96H398.95V15.8Z%22%2F%3E%3C%2Fg%3E%3Cg%20class%3D%22point%22%3E%3Cpath%20style%3D%22vector-effect%3A%20non-scaling-stroke%3B%20opacity%3A%201%3B%20stroke-width%3A%200px%3B%20fill%3A%20rgb(156%2C%20117%2C%2095)%3B%20fill-opacity%3A%201%3B%22%20d%3D%22M409.05%2C16.33V11.9H449.45V16.33Z%22%2F%3E%3C%2Fg%3E%3Cg%20class%3D%22point%22%3E%3Cpath%20style%3D%22vector-effect%3A%20non-scaling-stroke%3B%20opacity%3A%201%3B%20stroke-width%3A%200px%3B%20fill%3A%20rgb(156%2C%20117%2C%2095)%3B%20fill-opacity%3A%201%3B%22%20d%3D%22M459.55%2C15.53V11.91H499.95V15.53Z%22%2F%3E%3C%2Fg%3E%3Cg%20class%3D%22point%22%3E%3Cpath%20style%3D%22vector-effect%3A%20non-scaling-stroke%3B%20opacity%3A%201%3B%20stroke-width%3A%200px%3B%20fill%3A%20rgb(156%2C%20117%2C%2095)%3B%20fill-opacity%3A%201%3B%22%20d%3D%22M510.05%2C16.65V11.9H550.45V16.65Z%22%2F%3E%3C%2Fg%3E%3Cg%20class%3D%22point%22%3E%3Cpath%20style%3D%22vector-effect%3A%20non-scaling-stroke%3B%20opacity%3A%201%3B%20stroke-width%3A%200px%3B%20fill%3A%20rgb(156%2C%20117%2C%2095)%3B%20fill-opacity%3A%201%3B%22%20d%3D%22M560.55%2C17.39V11.93H600.95V17.39Z%22%2F%3E%3C%2Fg%3E%3Cg%20class%3D%22point%22%3E%3Cpath%20style%3D%22vector-effect%3A%20non-scaling-stroke%3B%20opacity%3A%201%3B%20stroke-width%3A%200px%3B%20fill%3A%20rgb(156%2C%20117%2C%2095)%3B%20fill-opacity%3A%201%3B%22%20d%3D%22M611.05%2C15.18V11.9H651.45V15.18Z%22%2F%3E%3C%2Fg%3E%3Cg%20class%3D%22point%22%3E%3Cpath%20style%3D%22vector-effect%3A%20non-scaling-stroke%3B%20opacity%3A%201%3B%20stroke-width%3A%200px%3B%20fill%3A%20rgb(156%2C%20117%2C%2095)%3B%20fill-opacity%3A%201%3B%22%20d%3D%22M661.55%2C14.21V12.16H701.95V14.21Z%22%2F%3E%3C%2Fg%3E%3C%2Fg%3E%3C%2Fg%3E%3Cg%20class%3D%22trace%20bars%22%20style%3D%22opacity%3A%201%3B%22%3E%3Cg%20class%3D%22points%22%3E%3Cg%20class%3D%22point%22%3E%3Cpath%20style%3D%22vector-effect%3A%20non-scaling-stroke%3B%20opacity%3A%201%3B%20stroke-width%3A%200px%3B%20fill%3A%20rgb(186%2C%20176%2C%20171)%3B%20fill-opacity%3A%201%3B%22%20d%3D%22M5.05%2C238V238H45.45V238Z%22%2F%3E%3C%2Fg%3E%3Cg%20class%3D%22point%22%3E%3Cpath%20style%3D%22vector-effect%3A%20non-scaling-stroke%3B%20opacity%3A%201%3B%20stroke-width%3A%200px%3B%20fill%3A%20rgb(186%2C%20176%2C%20171)%3B%20fill-opacity%3A%201%3B%22%20d%3D%22M55.55%2C238V238H95.95V238Z%22%2F%3E%3C%2Fg%3E%3Cg%20class%3D%22point%22%3E%3Cpath%20style%3D%22vector-effect%3A%20non-scaling-stroke%3B%20opacity%3A%201%3B%20stroke-width%3A%200px%3B%20fill%3A%20rgb(186%2C%20176%2C%20171)%3B%20fill-opacity%3A%201%3B%22%20d%3D%22M106.05%2C11.9V11.9H146.45V11.9Z%22%2F%3E%3C%2Fg%3E%3Cg%20class%3D%22point%22%3E%3Cpath%20style%3D%22vector-effect%3A%20non-scaling-stroke%3B%20opacity%3A%201%3B%20stroke-width%3A%200px%3B%20fill%3A%20rgb(186%2C%20176%2C%20171)%3B%20fill-opacity%3A%201%3B%22%20d%3D%22M156.55%2C238V238H196.95V238Z%22%2F%3E%3C%2Fg%3E%3Cg%20class%3D%22point%22%3E%3Cpath%20style%3D%22vector-effect%3A%20non-scaling-stroke%3B%20opacity%3A%201%3B%20stroke-width%3A%200px%3B%20fill%3A%20rgb(186%2C%20176%2C%20171)%3B%20fill-opacity%3A%201%3B%22%20d%3D%22M207.05%2C238V238H247.45V238Z%22%2F%3E%3C%2Fg%3E%3Cg%20class%3D%22point%22%3E%3Cpath%20style%3D%22vector-effect%3A%20non-scaling-stroke%3B%20opacity%3A%201%3B%20stroke-width%3A%200px%3B%20fill%3A%20rgb(186%2C%20176%2C%20171)%3B%20fill-opacity%3A%201%3B%22%20d%3D%22M257.55%2C13V11H297.95V13Z%22%2F%3E%3C%2Fg%3E%3Cg%20class%3D%22point%22%3E%3Cpath%20style%3D%22vector-effect%3A%20non-scaling-stroke%3B%20opacity%3A%201%3B%20stroke-width%3A%200px%3B%20fill%3A%20rgb(186%2C%20176%2C%20171)%3B%20fill-opacity%3A%201%3B%22%20d%3D%22M308.05%2C12V11H348.45V12Z%22%2F%3E%3C%2Fg%3E%3Cg%20class%3D%22point%22%3E%3Cpath%20style%3D%22vector-effect%3A%20non-scaling-stroke%3B%20opacity%3A%201%3B%20stroke-width%3A%200px%3B%20fill%3A%20rgb(186%2C%20176%2C%20171)%3B%20fill-opacity%3A%201%3B%22%20d%3D%22M358.55%2C12V11H398.95V12Z%22%2F%3E%3C%2Fg%3E%3Cg%20class%3D%22point%22%3E%3Cpath%20style%3D%22vector-effect%3A%20non-scaling-stroke%3B%20opacity%3A%201%3B%20stroke-width%3A%200px%3B%20fill%3A%20rgb(186%2C%20176%2C%20171)%3B%20fill-opacity%3A%201%3B%22%20d%3D%22M409.05%2C238V238H449.45V238Z%22%2F%3E%3C%2Fg%3E%3Cg%20class%3D%22point%22%3E%3Cpath%20style%3D%22vector-effect%3A%20non-scaling-stroke%3B%20opacity%3A%201%3B%20stroke-width%3A%200px%3B%20fill%3A%20rgb(186%2C%20176%2C%20171)%3B%20fill-opacity%3A%201%3B%22%20d%3D%22M459.55%2C12V11H499.95V12Z%22%2F%3E%3C%2Fg%3E%3Cg%20class%3D%22point%22%3E%3Cpath%20style%3D%22vector-effect%3A%20non-scaling-stroke%3B%20opacity%3A%201%3B%20stroke-width%3A%200px%3B%20fill%3A%20rgb(186%2C%20176%2C%20171)%3B%20fill-opacity%3A%201%3B%22%20d%3D%22M510.05%2C238V238H550.45V238Z%22%2F%3E%3C%2Fg%3E%3Cg%20class%3D%22point%22%3E%3Cpath%20style%3D%22vector-effect%3A%20non-scaling-stroke%3B%20opacity%3A%201%3B%20stroke-width%3A%200px%3B%20fill%3A%20rgb(186%2C%20176%2C%20171)%3B%20fill-opacity%3A%201%3B%22%20d%3D%22M560.55%2C12V11H600.95V12Z%22%2F%3E%3C%2Fg%3E%3Cg%20class%3D%22point%22%3E%3Cpath%20style%3D%22vector-effect%3A%20non-scaling-stroke%3B%20opacity%3A%201%3B%20stroke-width%3A%200px%3B%20fill%3A%20rgb(186%2C%20176%2C%20171)%3B%20fill-opacity%3A%201%3B%22%20d%3D%22M611.05%2C238V238H651.45V238Z%22%2F%3E%3C%2Fg%3E%3Cg%20class%3D%22point%22%3E%3Cpath%20style%3D%22vector-effect%3A%20non-scaling-stroke%3B%20opacity%3A%201%3B%20stroke-width%3A%200px%3B%20fill%3A%20rgb(186%2C%20176%2C%20171)%3B%20fill-opacity%3A%201%3B%22%20d%3D%22M661.55%2C13V11H701.95V13Z%22%2F%3E%3C%2Fg%3E%3C%2Fg%3E%3C%2Fg%3E%3C%2Fg%3E%3C%2Fg%3E%3Cg%20class%3D%22overplot%22%2F%3E%3Cpath%20class%3D%22xlines-above%20crisp%22%20style%3D%22fill%3A%20none%3B%20stroke-width%3A%201px%3B%20stroke%3A%20rgb(89%2C%2089%2C%2089)%3B%20stroke-opacity%3A%200.25%3B%22%20d%3D%22M79%2C268.5H787%22%2F%3E%3Cpath%20class%3D%22ylines-above%20crisp%22%20style%3D%22fill%3A%20none%3B%20stroke-width%3A%201px%3B%20stroke%3A%20rgb(89%2C%2089%2C%2089)%3B%20stroke-opacity%3A%200.25%3B%22%20d%3D%22M79.5%2C30V268%22%2F%3E%3Cg%20class%3D%22overlines-above%22%2F%3E%3Cg%20class%3D%22xaxislayer-above%22%3E%3Cg%20class%3D%22xtick%22%3E%3Ctext%20text-anchor%3D%22start%22%20x%3D%220%22%20y%3D%22283.4%22%20style%3D%22font-family%3A%20%26quot%3BOpen%20Sans%26quot%3B%2C%20verdana%2C%20arial%2C%20sans-serif%3B%20font-size%3A%2012px%3B%20fill%3A%20rgb(89%2C%2089%2C%2089)%3B%20fill-opacity%3A%201%3B%20white-space%3A%20pre%3B%22%20data-unformatted%3D%22car%22%20data-math%3D%22N%22%20transform%3D%22translate(105.25%2C0)%20rotate(30%2C0%2C277.4)%22%3Ecar%3C%2Ftext%3E%3C%2Fg%3E%3Cg%20class%3D%22xtick%22%3E%3Ctext%20text-anchor%3D%22start%22%20x%3D%220%22%20y%3D%22283.4%22%20style%3D%22font-family%3A%20%26quot%3BOpen%20Sans%26quot%3B%2C%20verdana%2C%20arial%2C%20sans-serif%3B%20font-size%3A%2012px%3B%20fill%3A%20rgb(89%2C%2089%2C%2089)%3B%20fill-opacity%3A%201%3B%20white-space%3A%20pre%3B%22%20data-unformatted%3D%22credit_card%22%20data-math%3D%22N%22%20transform%3D%22translate(155.75%2C0)%20rotate(30%2C0%2C277.4)%22%3Ecredit_card%3C%2Ftext%3E%3C%2Fg%3E%3Cg%20class%3D%22xtick%22%3E%3Ctext%20text-anchor%3D%22start%22%20x%3D%220%22%20y%3D%22283.4%22%20style%3D%22font-family%3A%20%26quot%3BOpen%20Sans%26quot%3B%2C%20verdana%2C%20arial%2C%20sans-serif%3B%20font-size%3A%2012px%3B%20fill%3A%20rgb(89%2C%2089%2C%2089)%3B%20fill-opacity%3A%201%3B%20white-space%3A%20pre%3B%22%20data-unformatted%3D%22debt_consolidation%22%20data-math%3D%22N%22%20transform%3D%22translate(206.25%2C0)%20rotate(30%2C0%2C277.4)%22%3Edebt_consolidation%3C%2Ftext%3E%3C%2Fg%3E%3Cg%20class%3D%22xtick%22%3E%3Ctext%20text-anchor%3D%22start%22%20x%3D%220%22%20y%3D%22283.4%22%20style%3D%22font-family%3A%20%26quot%3BOpen%20Sans%26quot%3B%2C%20verdana%2C%20arial%2C%20sans-serif%3B%20font-size%3A%2012px%3B%20fill%3A%20rgb(89%2C%2089%2C%2089)%3B%20fill-opacity%3A%201%3B%20white-space%3A%20pre%3B%22%20data-unformatted%3D%22educational%22%20data-math%3D%22N%22%20transform%3D%22translate(256.75%2C0)%20rotate(30%2C0%2C277.4)%22%3Eeducational%3C%2Ftext%3E%3C%2Fg%3E%3Cg%20class%3D%22xtick%22%3E%3Ctext%20text-anchor%3D%22start%22%20x%3D%220%22%20y%3D%22283.4%22%20style%3D%22font-family%3A%20%26quot%3BOpen%20Sans%26quot%3B%2C%20verdana%2C%20arial%2C%20sans-serif%3B%20font-size%3A%2012px%3B%20fill%3A%20rgb(89%2C%2089%2C%2089)%3B%20fill-opacity%3A%201%3B%20white-space%3A%20pre%3B%22%20data-unformatted%3D%22home_improvement%22%20data-math%3D%22N%22%20transform%3D%22translate(307.25%2C0)%20rotate(30%2C0%2C277.4)%22%3Ehome_improvement%3C%2Ftext%3E%3C%2Fg%3E%3Cg%20class%3D%22xtick%22%3E%3Ctext%20text-anchor%3D%22start%22%20x%3D%220%22%20y%3D%22283.4%22%20style%3D%22font-family%3A%20%26quot%3BOpen%20Sans%26quot%3B%2C%20verdana%2C%20arial%2C%20sans-serif%3B%20font-size%3A%2012px%3B%20fill%3A%20rgb(89%2C%2089%2C%2089)%3B%20fill-opacity%3A%201%3B%20white-space%3A%20pre%3B%22%20data-unformatted%3D%22house%22%20data-math%3D%22N%22%20transform%3D%22translate(357.75%2C0)%20rotate(30%2C0%2C277.4)%22%3Ehouse%3C%2Ftext%3E%3C%2Fg%3E%3Cg%20class%3D%22xtick%22%3E%3Ctext%20text-anchor%3D%22start%22%20x%3D%220%22%20y%3D%22283.4%22%20style%3D%22font-family%3A%20%26quot%3BOpen%20Sans%26quot%3B%2C%20verdana%2C%20arial%2C%20sans-serif%3B%20font-size%3A%2012px%3B%20fill%3A%20rgb(89%2C%2089%2C%2089)%3B%20fill-opacity%3A%201%3B%20white-space%3A%20pre%3B%22%20data-unformatted%3D%22major_purchase%22%20data-math%3D%22N%22%20transform%3D%22translate(408.25%2C0)%20rotate(30%2C0%2C277.4)%22%3Emajor_purchase%3C%2Ftext%3E%3C%2Fg%3E%3Cg%20class%3D%22xtick%22%3E%3Ctext%20text-anchor%3D%22start%22%20x%3D%220%22%20y%3D%22283.4%22%20style%3D%22font-family%3A%20%26quot%3BOpen%20Sans%26quot%3B%2C%20verdana%2C%20arial%2C%20sans-serif%3B%20font-size%3A%2012px%3B%20fill%3A%20rgb(89%2C%2089%2C%2089)%3B%20fill-opacity%3A%201%3B%20white-space%3A%20pre%3B%22%20data-unformatted%3D%22medical%22%20data-math%3D%22N%22%20transform%3D%22translate(458.75%2C0)%20rotate(30%2C0%2C277.4)%22%3Emedical%3C%2Ftext%3E%3C%2Fg%3E%3Cg%20class%3D%22xtick%22%3E%3Ctext%20text-anchor%3D%22start%22%20x%3D%220%22%20y%3D%22283.4%22%20style%3D%22font-family%3A%20%26quot%3BOpen%20Sans%26quot%3B%2C%20verdana%2C%20arial%2C%20sans-serif%3B%20font-size%3A%2012px%3B%20fill%3A%20rgb(89%2C%2089%2C%2089)%3B%20fill-opacity%3A%201%3B%20white-space%3A%20pre%3B%22%20data-unformatted%3D%22moving%22%20data-math%3D%22N%22%20transform%3D%22translate(509.25%2C0)%20rotate(30%2C0%2C277.4)%22%3Emoving%3C%2Ftext%3E%3C%2Fg%3E%3Cg%20class%3D%22xtick%22%3E%3Ctext%20text-anchor%3D%22start%22%20x%3D%220%22%20y%3D%22283.4%22%20style%3D%22font-family%3A%20%26quot%3BOpen%20Sans%26quot%3B%2C%20verdana%2C%20arial%2C%20sans-serif%3B%20font-size%3A%2012px%3B%20fill%3A%20rgb(89%2C%2089%2C%2089)%3B%20fill-opacity%3A%201%3B%20white-space%3A%20pre%3B%22%20data-unformatted%3D%22other%22%20data-math%3D%22N%22%20transform%3D%22translate(559.75%2C0)%20rotate(30%2C0%2C277.4)%22%3Eother%3C%2Ftext%3E%3C%2Fg%3E%3Cg%20class%3D%22xtick%22%3E%3Ctext%20text-anchor%3D%22start%22%20x%3D%220%22%20y%3D%22283.4%22%20style%3D%22font-family%3A%20%26quot%3BOpen%20Sans%26quot%3B%2C%20verdana%2C%20arial%2C%20sans-serif%3B%20font-size%3A%2012px%3B%20fill%3A%20rgb(89%2C%2089%2C%2089)%3B%20fill-opacity%3A%201%3B%20white-space%3A%20pre%3B%22%20data-unformatted%3D%22renewable_energy%22%20data-math%3D%22N%22%20transform%3D%22translate(610.25%2C0)%20rotate(30%2C0%2C277.4)%22%3Erenewable_energy%3C%2Ftext%3E%3C%2Fg%3E%3Cg%20class%3D%22xtick%22%3E%3Ctext%20text-anchor%3D%22start%22%20x%3D%220%22%20y%3D%22283.4%22%20style%3D%22font-family%3A%20%26quot%3BOpen%20Sans%26quot%3B%2C%20verdana%2C%20arial%2C%20sans-serif%3B%20font-size%3A%2012px%3B%20fill%3A%20rgb(89%2C%2089%2C%2089)%3B%20fill-opacity%3A%201%3B%20white-space%3A%20pre%3B%22%20data-unformatted%3D%22small_business%22%20data-math%3D%22N%22%20transform%3D%22translate(660.75%2C0)%20rotate(30%2C0%2C277.4)%22%3Esmall_business%3C%2Ftext%3E%3C%2Fg%3E%3Cg%20class%3D%22xtick%22%3E%3Ctext%20text-anchor%3D%22start%22%20x%3D%220%22%20y%3D%22283.4%22%20style%3D%22font-family%3A%20%26quot%3BOpen%20Sans%26quot%3B%2C%20verdana%2C%20arial%2C%20sans-serif%3B%20font-size%3A%2012px%3B%20fill%3A%20rgb(89%2C%2089%2C%2089)%3B%20fill-opacity%3A%201%3B%20white-space%3A%20pre%3B%22%20data-unformatted%3D%22vacation%22%20data-math%3D%22N%22%20transform%3D%22translate(711.25%2C0)%20rotate(30%2C0%2C277.4)%22%3Evacation%3C%2Ftext%3E%3C%2Fg%3E%3Cg%20class%3D%22xtick%22%3E%3Ctext%20text-anchor%3D%22start%22%20x%3D%220%22%20y%3D%22283.4%22%20style%3D%22font-family%3A%20%26quot%3BOpen%20Sans%26quot%3B%2C%20verdana%2C%20arial%2C%20sans-serif%3B%20font-size%3A%2012px%3B%20fill%3A%20rgb(89%2C%2089%2C%2089)%3B%20fill-opacity%3A%201%3B%20white-space%3A%20pre%3B%22%20data-unformatted%3D%22wedding%22%20data-math%3D%22N%22%20transform%3D%22translate(761.75%2C0)%20rotate(30%2C0%2C277.4)%22%3Ewedding%3C%2Ftext%3E%3C%2Fg%3E%3C%2Fg%3E%3Cg%20class%3D%22yaxislayer-above%22%3E%3Cg%20class%3D%22ytick%22%3E%3Ctext%20text-anchor%3D%22end%22%20x%3D%2276.6%22%20y%3D%224.199999999999999%22%20style%3D%22font-family%3A%20%26quot%3BOpen%20Sans%26quot%3B%2C%20verdana%2C%20arial%2C%20sans-serif%3B%20font-size%3A%2012px%3B%20fill%3A%20rgb(89%2C%2089%2C%2089)%3B%20fill-opacity%3A%201%3B%20white-space%3A%20pre%3B%22%20data-unformatted%3D%220%25%22%20data-math%3D%22N%22%20transform%3D%22translate(0%2C268)%22%3E0%25%3C%2Ftext%3E%3C%2Fg%3E%3Cg%20class%3D%22ytick%22%3E%3Ctext%20text-anchor%3D%22end%22%20x%3D%2276.6%22%20y%3D%224.199999999999999%22%20style%3D%22font-family%3A%20%26quot%3BOpen%20Sans%26quot%3B%2C%20verdana%2C%20arial%2C%20sans-serif%3B%20font-size%3A%2012px%3B%20fill%3A%20rgb(89%2C%2089%2C%2089)%3B%20fill-opacity%3A%201%3B%20white-space%3A%20pre%3B%22%20data-unformatted%3D%2220%25%22%20data-math%3D%22N%22%20transform%3D%22translate(0%2C222.78)%22%3E20%25%3C%2Ftext%3E%3C%2Fg%3E%3Cg%20class%3D%22ytick%22%3E%3Ctext%20text-anchor%3D%22end%22%20x%3D%2276.6%22%20y%3D%224.199999999999999%22%20style%3D%22font-family%3A%20%26quot%3BOpen%20Sans%26quot%3B%2C%20verdana%2C%20arial%2C%20sans-serif%3B%20font-size%3A%2012px%3B%20fill%3A%20rgb(89%2C%2089%2C%2089)%3B%20fill-opacity%3A%201%3B%20white-space%3A%20pre%3B%22%20data-unformatted%3D%2240%25%22%20data-math%3D%22N%22%20transform%3D%22translate(0%2C177.56)%22%3E40%25%3C%2Ftext%3E%3C%2Fg%3E%3Cg%20class%3D%22ytick%22%3E%3Ctext%20text-anchor%3D%22end%22%20x%3D%2276.6%22%20y%3D%224.199999999999999%22%20style%3D%22font-family%3A%20%26quot%3BOpen%20Sans%26quot%3B%2C%20verdana%2C%20arial%2C%20sans-serif%3B%20font-size%3A%2012px%3B%20fill%3A%20rgb(89%2C%2089%2C%2089)%3B%20fill-opacity%3A%201%3B%20white-space%3A%20pre%3B%22%20data-unformatted%3D%2260%25%22%20data-math%3D%22N%22%20transform%3D%22translate(0%2C132.34)%22%3E60%25%3C%2Ftext%3E%3C%2Fg%3E%3Cg%20class%3D%22ytick%22%3E%3Ctext%20text-anchor%3D%22end%22%20x%3D%2276.6%22%20y%3D%224.199999999999999%22%20style%3D%22font-family%3A%20%26quot%3BOpen%20Sans%26quot%3B%2C%20verdana%2C%20arial%2C%20sans-serif%3B%20font-size%3A%2012px%3B%20fill%3A%20rgb(89%2C%2089%2C%2089)%3B%20fill-opacity%3A%201%3B%20white-space%3A%20pre%3B%22%20data-unformatted%3D%2280%25%22%20data-math%3D%22N%22%20transform%3D%22translate(0%2C87.12)%22%3E80%25%3C%2Ftext%3E%3C%2Fg%3E%3Cg%20class%3D%22ytick%22%3E%3Ctext%20text-anchor%3D%22end%22%20x%3D%2276.6%22%20y%3D%224.199999999999999%22%20style%3D%22font-family%3A%20%26quot%3BOpen%20Sans%26quot%3B%2C%20verdana%2C%20arial%2C%20sans-serif%3B%20font-size%3A%2012px%3B%20fill%3A%20rgb(89%2C%2089%2C%2089)%3B%20fill-opacity%3A%201%3B%20white-space%3A%20pre%3B%22%20data-unformatted%3D%22100%25%22%20data-math%3D%22N%22%20transform%3D%22translate(0%2C41.9)%22%3E100%25%3C%2Ftext%3E%3C%2Fg%3E%3C%2Fg%3E%3Cg%20class%3D%22overaxes-above%22%2F%3E%3C%2Fg%3E%3C%2Fg%3E%3Cg%20class%3D%22polarlayer%22%2F%3E%3Cg%20class%3D%22ternarylayer%22%2F%3E%3Cg%20class%3D%22geolayer%22%2F%3E%3Cg%20class%3D%22funnelarealayer%22%2F%3E%3Cg%20class%3D%22pielayer%22%2F%3E%3Cg%20class%3D%22treemaplayer%22%2F%3E%3Cg%20class%3D%22sunburstlayer%22%2F%3E%3Cg%20class%3D%22glimages%22%2F%3E%3Cdefs%20id%3D%22topdefs-4007ec%22%3E%3Cg%20class%3D%22clips%22%2F%3E%3CclipPath%20id%3D%22legend4007ec%22%3E%3Crect%20width%3D%22372%22%20height%3D%22238%22%20x%3D%220%22%20y%3D%220%22%2F%3E%3C%2FclipPath%3E%3C%2Fdefs%3E%3Cg%20class%3D%22indicatorlayer%22%2F%3E%3Cg%20class%3D%22layer-above%22%3E%3Cg%20class%3D%22imagelayer%22%2F%3E%3Cg%20class%3D%22shapelayer%22%2F%3E%3C%2Fg%3E%3Cg%20class%3D%22infolayer%22%3E%3Cg%20class%3D%22legend%22%20pointer-events%3D%22all%22%20transform%3D%22translate(801%2C30)%22%3E%3Crect%20class%3D%22bg%22%20shape-rendering%3D%22crispEdges%22%20style%3D%22stroke%3A%20rgb(68%2C%2068%2C%2068)%3B%20stroke-opacity%3A%201%3B%20fill%3A%20rgb(255%2C%20255%2C%20255)%3B%20fill-opacity%3A%201%3B%20stroke-width%3A%200px%3B%22%20width%3D%22372%22%20height%3D%22238%22%20x%3D%220%22%20y%3D%220%22%2F%3E%3Cg%20class%3D%22scrollbox%22%20clip-path%3D%22url('%23legend4007ec')%22%20transform%3D%22%22%3E%3Cg%20class%3D%22groups%22%20transform%3D%22%22%3E%3Cg%20class%3D%22traces%22%20style%3D%22opacity%3A%201%3B%22%20transform%3D%22translate(0%2C14.5)%22%3E%3Ctext%20class%3D%22legendtext%22%20text-anchor%3D%22start%22%20style%3D%22font-family%3A%20%26quot%3BOpen%20Sans%26quot%3B%2C%20verdana%2C%20arial%2C%20sans-serif%3B%20font-size%3A%2012px%3B%20fill%3A%20rgb(89%2C%2089%2C%2089)%3B%20fill-opacity%3A%201%3B%20white-space%3A%20pre%3B%22%20x%3D%2240%22%20y%3D%224.680000000000001%22%20data-unformatted%3D%22Charged%20Off%22%20data-math%3D%22N%22%3ECharged%20Off%3C%2Ftext%3E%3Cg%20class%3D%22layers%22%20style%3D%22opacity%3A%201%3B%22%3E%3Cg%20class%3D%22legendfill%22%2F%3E%3Cg%20class%3D%22legendlines%22%2F%3E%3Cg%20class%3D%22legendsymbols%22%3E%3Cg%20class%3D%22legendpoints%22%3E%3Cpath%20class%3D%22legendundefined%22%20d%3D%22M6%2C6H-6V-6H6Z%22%20transform%3D%22translate(20%2C0)%22%20style%3D%22stroke-width%3A%200px%3B%20fill%3A%20rgb(78%2C%20121%2C%20167)%3B%20fill-opacity%3A%201%3B%22%2F%3E%3C%2Fg%3E%3C%2Fg%3E%3C%2Fg%3E%3Crect%20class%3D%22legendtoggle%22%20style%3D%22cursor%3A%20pointer%3B%20fill%3A%20rgb(0%2C%200%2C%200)%3B%20fill-opacity%3A%200%3B%22%20pointer-events%3D%22all%22%20x%3D%220%22%20y%3D%22-9.5%22%20width%3D%22356.9666748046875%22%20height%3D%2219%22%2F%3E%3C%2Fg%3E%3C%2Fg%3E%3Cg%20class%3D%22groups%22%20transform%3D%22translate(0%2C10)%22%3E%3Cg%20class%3D%22traces%22%20style%3D%22opacity%3A%201%3B%22%20transform%3D%22translate(0%2C33.5)%22%3E%3Ctext%20class%3D%22legendtext%22%20text-anchor%3D%22start%22%20style%3D%22font-family%3A%20%26quot%3BOpen%20Sans%26quot%3B%2C%20verdana%2C%20arial%2C%20sans-serif%3B%20font-size%3A%2012px%3B%20fill%3A%20rgb(89%2C%2089%2C%2089)%3B%20fill-opacity%3A%201%3B%20white-space%3A%20pre%3B%22%20x%3D%2240%22%20y%3D%224.680000000000001%22%20data-unformatted%3D%22Current%22%20data-math%3D%22N%22%3ECurrent%3C%2Ftext%3E%3Cg%20class%3D%22layers%22%20style%3D%22opacity%3A%201%3B%22%3E%3Cg%20class%3D%22legendfill%22%2F%3E%3Cg%20class%3D%22legendlines%22%2F%3E%3Cg%20class%3D%22legendsymbols%22%3E%3Cg%20class%3D%22legendpoints%22%3E%3Cpath%20class%3D%22legendundefined%22%20d%3D%22M6%2C6H-6V-6H6Z%22%20transform%3D%22translate(20%2C0)%22%20style%3D%22stroke-width%3A%200px%3B%20fill%3A%20rgb(242%2C%20142%2C%2044)%3B%20fill-opacity%3A%201%3B%22%2F%3E%3C%2Fg%3E%3C%2Fg%3E%3C%2Fg%3E%3Crect%20class%3D%22legendtoggle%22%20style%3D%22cursor%3A%20pointer%3B%20fill%3A%20rgb(0%2C%200%2C%200)%3B%20fill-opacity%3A%200%3B%22%20pointer-events%3D%22all%22%20x%3D%220%22%20y%3D%22-9.5%22%20width%3D%22356.9666748046875%22%20height%3D%2219%22%2F%3E%3C%2Fg%3E%3C%2Fg%3E%3Cg%20class%3D%22groups%22%20transform%3D%22translate(0%2C20)%22%3E%3Cg%20class%3D%22traces%22%20style%3D%22opacity%3A%201%3B%22%20transform%3D%22translate(0%2C52.5)%22%3E%3Ctext%20class%3D%22legendtext%22%20text-anchor%3D%22start%22%20style%3D%22font-family%3A%20%26quot%3BOpen%20Sans%26quot%3B%2C%20verdana%2C%20arial%2C%20sans-serif%3B%20font-size%3A%2012px%3B%20fill%3A%20rgb(89%2C%2089%2C%2089)%3B%20fill-opacity%3A%201%3B%20white-space%3A%20pre%3B%22%20x%3D%2240%22%20y%3D%224.680000000000001%22%20data-unformatted%3D%22Default%22%20data-math%3D%22N%22%3EDefault%3C%2Ftext%3E%3Cg%20class%3D%22layers%22%20style%3D%22opacity%3A%201%3B%22%3E%3Cg%20class%3D%22legendfill%22%2F%3E%3Cg%20class%3D%22legendlines%22%2F%3E%3Cg%20class%3D%22legendsymbols%22%3E%3Cg%20class%3D%22legendpoints%22%3E%3Cpath%20class%3D%22legendundefined%22%20d%3D%22M6%2C6H-6V-6H6Z%22%20transform%3D%22translate(20%2C0)%22%20style%3D%22stroke-width%3A%200px%3B%20fill%3A%20rgb(225%2C%2087%2C%2089)%3B%20fill-opacity%3A%201%3B%22%2F%3E%3C%2Fg%3E%3C%2Fg%3E%3C%2Fg%3E%3Crect%20class%3D%22legendtoggle%22%20style%3D%22cursor%3A%20pointer%3B%20fill%3A%20rgb(0%2C%200%2C%200)%3B%20fill-opacity%3A%200%3B%22%20pointer-events%3D%22all%22%20x%3D%220%22%20y%3D%22-9.5%22%20width%3D%22356.9666748046875%22%20height%3D%2219%22%2F%3E%3C%2Fg%3E%3C%2Fg%3E%3Cg%20class%3D%22groups%22%20transform%3D%22translate(0%2C30)%22%3E%3Cg%20class%3D%22traces%22%20style%3D%22opacity%3A%201%3B%22%20transform%3D%22translate(0%2C71.5)%22%3E%3Ctext%20class%3D%22legendtext%22%20text-anchor%3D%22start%22%20style%3D%22font-family%3A%20%26quot%3BOpen%20Sans%26quot%3B%2C%20verdana%2C%20arial%2C%20sans-serif%3B%20font-size%3A%2012px%3B%20fill%3A%20rgb(89%2C%2089%2C%2089)%3B%20fill-opacity%3A%201%3B%20white-space%3A%20pre%3B%22%20x%3D%2240%22%20y%3D%224.680000000000001%22%20data-unformatted%3D%22Does%20not%20meet%20the%20credit%20policy.%20Status%3AFully%20Paid%22%20data-math%3D%22N%22%3EDoes%20not%20meet%20the%20credit%20policy.%20Status%3AFully%20Paid%3C%2Ftext%3E%3Cg%20class%3D%22layers%22%20style%3D%22opacity%3A%201%3B%22%3E%3Cg%20class%3D%22legendfill%22%2F%3E%3Cg%20class%3D%22legendlines%22%2F%3E%3Cg%20class%3D%22legendsymbols%22%3E%3Cg%20class%3D%22legendpoints%22%3E%3Cpath%20class%3D%22legendundefined%22%20d%3D%22M6%2C6H-6V-6H6Z%22%20transform%3D%22translate(20%2C0)%22%20style%3D%22stroke-width%3A%200px%3B%20fill%3A%20rgb(118%2C%20183%2C%20178)%3B%20fill-opacity%3A%201%3B%22%2F%3E%3C%2Fg%3E%3C%2Fg%3E%3C%2Fg%3E%3Crect%20class%3D%22legendtoggle%22%20style%3D%22cursor%3A%20pointer%3B%20fill%3A%20rgb(0%2C%200%2C%200)%3B%20fill-opacity%3A%200%3B%22%20pointer-events%3D%22all%22%20x%3D%220%22%20y%3D%22-9.5%22%20width%3D%22356.9666748046875%22%20height%3D%2219%22%2F%3E%3C%2Fg%3E%3C%2Fg%3E%3Cg%20class%3D%22groups%22%20transform%3D%22translate(0%2C40)%22%3E%3Cg%20class%3D%22traces%22%20style%3D%22opacity%3A%201%3B%22%20transform%3D%22translate(0%2C90.5)%22%3E%3Ctext%20class%3D%22legendtext%22%20text-anchor%3D%22start%22%20style%3D%22font-family%3A%20%26quot%3BOpen%20Sans%26quot%3B%2C%20verdana%2C%20arial%2C%20sans-serif%3B%20font-size%3A%2012px%3B%20fill%3A%20rgb(89%2C%2089%2C%2089)%3B%20fill-opacity%3A%201%3B%20white-space%3A%20pre%3B%22%20x%3D%2240%22%20y%3D%224.680000000000001%22%20data-unformatted%3D%22Fully%20Paid%22%20data-math%3D%22N%22%3EFully%20Paid%3C%2Ftext%3E%3Cg%20class%3D%22layers%22%20style%3D%22opacity%3A%201%3B%22%3E%3Cg%20class%3D%22legendfill%22%2F%3E%3Cg%20class%3D%22legendlines%22%2F%3E%3Cg%20class%3D%22legendsymbols%22%3E%3Cg%20class%3D%22legendpoints%22%3E%3Cpath%20class%3D%22legendundefined%22%20d%3D%22M6%2C6H-6V-6H6Z%22%20transform%3D%22translate(20%2C0)%22%20style%3D%22stroke-width%3A%200px%3B%20fill%3A%20rgb(89%2C%20161%2C%2079)%3B%20fill-opacity%3A%201%3B%22%2F%3E%3C%2Fg%3E%3C%2Fg%3E%3C%2Fg%3E%3Crect%20class%3D%22legendtoggle%22%20style%3D%22cursor%3A%20pointer%3B%20fill%3A%20rgb(0%2C%200%2C%200)%3B%20fill-opacity%3A%200%3B%22%20pointer-events%3D%22all%22%20x%3D%220%22%20y%3D%22-9.5%22%20width%3D%22356.9666748046875%22%20height%3D%2219%22%2F%3E%3C%2Fg%3E%3C%2Fg%3E%3Cg%20class%3D%22groups%22%20transform%3D%22translate(0%2C50)%22%3E%3Cg%20class%3D%22traces%22%20style%3D%22opacity%3A%201%3B%22%20transform%3D%22translate(0%2C109.5)%22%3E%3Ctext%20class%3D%22legendtext%22%20text-anchor%3D%22start%22%20style%3D%22font-family%3A%20%26quot%3BOpen%20Sans%26quot%3B%2C%20verdana%2C%20arial%2C%20sans-serif%3B%20font-size%3A%2012px%3B%20fill%3A%20rgb(89%2C%2089%2C%2089)%3B%20fill-opacity%3A%201%3B%20white-space%3A%20pre%3B%22%20x%3D%2240%22%20y%3D%224.680000000000001%22%20data-unformatted%3D%22In%20Grace%20Period%22%20data-math%3D%22N%22%3EIn%20Grace%20Period%3C%2Ftext%3E%3Cg%20class%3D%22layers%22%20style%3D%22opacity%3A%201%3B%22%3E%3Cg%20class%3D%22legendfill%22%2F%3E%3Cg%20class%3D%22legendlines%22%2F%3E%3Cg%20class%3D%22legendsymbols%22%3E%3Cg%20class%3D%22legendpoints%22%3E%3Cpath%20class%3D%22legendundefined%22%20d%3D%22M6%2C6H-6V-6H6Z%22%20transform%3D%22translate(20%2C0)%22%20style%3D%22stroke-width%3A%200px%3B%20fill%3A%20rgb(237%2C%20201%2C%2073)%3B%20fill-opacity%3A%201%3B%22%2F%3E%3C%2Fg%3E%3C%2Fg%3E%3C%2Fg%3E%3Crect%20class%3D%22legendtoggle%22%20style%3D%22cursor%3A%20pointer%3B%20fill%3A%20rgb(0%2C%200%2C%200)%3B%20fill-opacity%3A%200%3B%22%20pointer-events%3D%22all%22%20x%3D%220%22%20y%3D%22-9.5%22%20width%3D%22356.9666748046875%22%20height%3D%2219%22%2F%3E%3C%2Fg%3E%3C%2Fg%3E%3Cg%20class%3D%22groups%22%20transform%3D%22translate(0%2C60)%22%3E%3Cg%20class%3D%22traces%22%20style%3D%22opacity%3A%201%3B%22%20transform%3D%22translate(0%2C128.5)%22%3E%3Ctext%20class%3D%22legendtext%22%20text-anchor%3D%22start%22%20style%3D%22font-family%3A%20%26quot%3BOpen%20Sans%26quot%3B%2C%20verdana%2C%20arial%2C%20sans-serif%3B%20font-size%3A%2012px%3B%20fill%3A%20rgb(89%2C%2089%2C%2089)%3B%20fill-opacity%3A%201%3B%20white-space%3A%20pre%3B%22%20x%3D%2240%22%20y%3D%224.680000000000001%22%20data-unformatted%3D%22Issued%22%20data-math%3D%22N%22%3EIssued%3C%2Ftext%3E%3Cg%20class%3D%22layers%22%20style%3D%22opacity%3A%201%3B%22%3E%3Cg%20class%3D%22legendfill%22%2F%3E%3Cg%20class%3D%22legendlines%22%2F%3E%3Cg%20class%3D%22legendsymbols%22%3E%3Cg%20class%3D%22legendpoints%22%3E%3Cpath%20class%3D%22legendundefined%22%20d%3D%22M6%2C6H-6V-6H6Z%22%20transform%3D%22translate(20%2C0)%22%20style%3D%22stroke-width%3A%200px%3B%20fill%3A%20rgb(175%2C%20122%2C%20161)%3B%20fill-opacity%3A%201%3B%22%2F%3E%3C%2Fg%3E%3C%2Fg%3E%3C%2Fg%3E%3Crect%20class%3D%22legendtoggle%22%20style%3D%22cursor%3A%20pointer%3B%20fill%3A%20rgb(0%2C%200%2C%200)%3B%20fill-opacity%3A%200%3B%22%20pointer-events%3D%22all%22%20x%3D%220%22%20y%3D%22-9.5%22%20width%3D%22356.9666748046875%22%20height%3D%2219%22%2F%3E%3C%2Fg%3E%3C%2Fg%3E%3Cg%20class%3D%22groups%22%20transform%3D%22translate(0%2C70)%22%3E%3Cg%20class%3D%22traces%22%20style%3D%22opacity%3A%201%3B%22%20transform%3D%22translate(0%2C147.5)%22%3E%3Ctext%20class%3D%22legendtext%22%20text-anchor%3D%22start%22%20style%3D%22font-family%3A%20%26quot%3BOpen%20Sans%26quot%3B%2C%20verdana%2C%20arial%2C%20sans-serif%3B%20font-size%3A%2012px%3B%20fill%3A%20rgb(89%2C%2089%2C%2089)%3B%20fill-opacity%3A%201%3B%20white-space%3A%20pre%3B%22%20x%3D%2240%22%20y%3D%224.680000000000001%22%20data-unformatted%3D%22Late%20(16-30%20days)%22%20data-math%3D%22N%22%3ELate%20(16-30%20days)%3C%2Ftext%3E%3Cg%20class%3D%22layers%22%20style%3D%22opacity%3A%201%3B%22%3E%3Cg%20class%3D%22legendfill%22%2F%3E%3Cg%20class%3D%22legendlines%22%2F%3E%3Cg%20class%3D%22legendsymbols%22%3E%3Cg%20class%3D%22legendpoints%22%3E%3Cpath%20class%3D%22legendundefined%22%20d%3D%22M6%2C6H-6V-6H6Z%22%20transform%3D%22translate(20%2C0)%22%20style%3D%22stroke-width%3A%200px%3B%20fill%3A%20rgb(255%2C%20157%2C%20167)%3B%20fill-opacity%3A%201%3B%22%2F%3E%3C%2Fg%3E%3C%2Fg%3E%3C%2Fg%3E%3Crect%20class%3D%22legendtoggle%22%20style%3D%22cursor%3A%20pointer%3B%20fill%3A%20rgb(0%2C%200%2C%200)%3B%20fill-opacity%3A%200%3B%22%20pointer-events%3D%22all%22%20x%3D%220%22%20y%3D%22-9.5%22%20width%3D%22356.9666748046875%22%20height%3D%2219%22%2F%3E%3C%2Fg%3E%3C%2Fg%3E%3Cg%20class%3D%22groups%22%20transform%3D%22translate(0%2C80)%22%3E%3Cg%20class%3D%22traces%22%20style%3D%22opacity%3A%201%3B%22%20transform%3D%22translate(0%2C166.5)%22%3E%3Ctext%20class%3D%22legendtext%22%20text-anchor%3D%22start%22%20style%3D%22font-family%3A%20%26quot%3BOpen%20Sans%26quot%3B%2C%20verdana%2C%20arial%2C%20sans-serif%3B%20font-size%3A%2012px%3B%20fill%3A%20rgb(89%2C%2089%2C%2089)%3B%20fill-opacity%3A%201%3B%20white-space%3A%20pre%3B%22%20x%3D%2240%22%20y%3D%224.680000000000001%22%20data-unformatted%3D%22Late%20(31-120%20days)%22%20data-math%3D%22N%22%3ELate%20(31-120%20days)%3C%2Ftext%3E%3Cg%20class%3D%22layers%22%20style%3D%22opacity%3A%201%3B%22%3E%3Cg%20class%3D%22legendfill%22%2F%3E%3Cg%20class%3D%22legendlines%22%2F%3E%3Cg%20class%3D%22legendsymbols%22%3E%3Cg%20class%3D%22legendpoints%22%3E%3Cpath%20class%3D%22legendundefined%22%20d%3D%22M6%2C6H-6V-6H6Z%22%20transform%3D%22translate(20%2C0)%22%20style%3D%22stroke-width%3A%200px%3B%20fill%3A%20rgb(156%2C%20117%2C%2095)%3B%20fill-opacity%3A%201%3B%22%2F%3E%3C%2Fg%3E%3C%2Fg%3E%3C%2Fg%3E%3Crect%20class%3D%22legendtoggle%22%20style%3D%22cursor%3A%20pointer%3B%20fill%3A%20rgb(0%2C%200%2C%200)%3B%20fill-opacity%3A%200%3B%22%20pointer-events%3D%22all%22%20x%3D%220%22%20y%3D%22-9.5%22%20width%3D%22356.9666748046875%22%20height%3D%2219%22%2F%3E%3C%2Fg%3E%3C%2Fg%3E%3Cg%20class%3D%22groups%22%20transform%3D%22translate(0%2C90)%22%3E%3Cg%20class%3D%22traces%22%20style%3D%22opacity%3A%201%3B%22%20transform%3D%22translate(0%2C185.5)%22%3E%3Ctext%20class%3D%22legendtext%22%20text-anchor%3D%22start%22%20style%3D%22font-family%3A%20%26quot%3BOpen%20Sans%26quot%3B%2C%20verdana%2C%20arial%2C%20sans-serif%3B%20font-size%3A%2012px%3B%20fill%3A%20rgb(89%2C%2089%2C%2089)%3B%20fill-opacity%3A%201%3B%20white-space%3A%20pre%3B%22%20x%3D%2240%22%20y%3D%224.680000000000001%22%20data-unformatted%3D%22Does%20not%20meet%20the%20credit%20policy.%20Status%3ACharged%20Off%22%20data-math%3D%22N%22%3EDoes%20not%20meet%20the%20credit%20policy.%20Status%3ACharged%20Off%3C%2Ftext%3E%3Cg%20class%3D%22layers%22%20style%3D%22opacity%3A%201%3B%22%3E%3Cg%20class%3D%22legendfill%22%2F%3E%3Cg%20class%3D%22legendlines%22%2F%3E%3Cg%20class%3D%22legendsymbols%22%3E%3Cg%20class%3D%22legendpoints%22%3E%3Cpath%20class%3D%22legendundefined%22%20d%3D%22M6%2C6H-6V-6H6Z%22%20transform%3D%22translate(20%2C0)%22%20style%3D%22stroke-width%3A%200px%3B%20fill%3A%20rgb(186%2C%20176%2C%20171)%3B%20fill-opacity%3A%201%3B%22%2F%3E%3C%2Fg%3E%3C%2Fg%3E%3C%2Fg%3E%3Crect%20class%3D%22legendtoggle%22%20style%3D%22cursor%3A%20pointer%3B%20fill%3A%20rgb(0%2C%200%2C%200)%3B%20fill-opacity%3A%200%3B%22%20pointer-events%3D%22all%22%20x%3D%220%22%20y%3D%22-9.5%22%20width%3D%22356.9666748046875%22%20height%3D%2219%22%2F%3E%3C%2Fg%3E%3C%2Fg%3E%3C%2Fg%3E%3Crect%20class%3D%22scrollbar%22%20rx%3D%2220%22%20ry%3D%223%22%20width%3D%226%22%20height%3D%22195.32413793103447%22%20style%3D%22fill%3A%20rgb(128%2C%20139%2C%20164)%3B%20fill-opacity%3A%201%3B%22%20x%3D%22362%22%20y%3D%224%22%2F%3E%3C%2Fg%3E%3Cg%20class%3D%22g-gtitle%22%2F%3E%3Cg%20class%3D%22g-xtitle%22%2F%3E%3Cg%20class%3D%22g-ytitle%22%2F%3E%3C%2Fg%3E%3Cg%20class%3D%22menulayer%22%2F%3E%3Cg%20class%3D%22zoomlayer%22%2F%3E%3Cg%20class%3D%22hoverlayer%22%2F%3E%3C%2Fsvg%3E\">"
      ],
      "text/plain": [
       "Open the notebook in JupyterLab with the atoti extension installed and enabled to start editing this widget."
      ]
     },
     "metadata": {},
     "output_type": "display_data"
    }
   ],
   "source": [
    "# Reasons of \"bad loans\" vs loan purpose\n",
    "session.visualize(\"Proportion of loans purpose and by status\")"
   ]
  },
  {
   "cell_type": "code",
   "execution_count": 49,
   "metadata": {
    "atoti": {
     "widget": {
      "mapping": {
       "horizontalSubplots": [],
       "stackBy": [
        "[Lending Club Data].[loan_class].[loan_class]",
        "ALL_MEASURES"
       ],
       "values": [
        "[Measures].[count_loans]"
       ],
       "verticalSubplots": [],
       "xAxis": [
        "[Lending Club Data].[sub_grade].[sub_grade]"
       ]
      },
      "query": {
       "mdx": "SELECT NON EMPTY Hierarchize(Descendants({[Lending Club Data].[sub_grade].[AllMember]}, 1, SELF_AND_BEFORE)) ON ROWS, NON EMPTY Crossjoin(Hierarchize(Descendants({[Lending Club Data].[loan_class].[AllMember]}, 1, SELF_AND_BEFORE)), {[Measures].[count_loans]}) ON COLUMNS FROM [IFRS9]",
       "updateMode": "once"
      },
      "serverKey": "default",
      "widgetKey": "plotly-stacked-column-chart"
     }
    },
    "execution": {
     "iopub.execute_input": "2021-02-09T06:46:39.334460Z",
     "iopub.status.busy": "2021-02-09T06:46:39.333915Z",
     "iopub.status.idle": "2021-02-09T06:46:41.724068Z",
     "shell.execute_reply": "2021-02-09T06:46:41.723479Z",
     "shell.execute_reply.started": "2021-02-09T06:46:39.334427Z"
    }
   },
   "outputs": [
    {
     "data": {
      "application/vnd.atoti.v0+json": {
       "name": "Bad loans by grade",
       "session": "Unnamed"
      },
      "text/html": [
       "<img src=\"data:image/svg+xml;charset=utf8,%3C%3Fxml%20version%3D%221.0%22%20standalone%3D%22no%22%3F%3E%3Csvg%20xmlns%3D%22http%3A%2F%2Fwww.w3.org%2F2000%2Fsvg%22%20xmlns%3Axlink%3D%22http%3A%2F%2Fwww.w3.org%2F1999%2Fxlink%22%20height%3D%22348%22%20width%3D%221163%22%20viewBox%3D%220%200%201163%20348%22%3E%3Cdefs%20id%3D%22defs-2b346b%22%3E%3Cg%20class%3D%22clips%22%3E%3CclipPath%20id%3D%22clip2b346bxyplot%22%20class%3D%22plotclip%22%3E%3Crect%20width%3D%22996%22%20height%3D%22238%22%2F%3E%3C%2FclipPath%3E%3CclipPath%20class%3D%22axesclip%22%20id%3D%22clip2b346bx%22%3E%3Crect%20x%3D%2280%22%20y%3D%220%22%20width%3D%22996%22%20height%3D%22348%22%2F%3E%3C%2FclipPath%3E%3CclipPath%20class%3D%22axesclip%22%20id%3D%22clip2b346by%22%3E%3Crect%20x%3D%220%22%20y%3D%2230%22%20width%3D%221163%22%20height%3D%22238%22%2F%3E%3C%2FclipPath%3E%3CclipPath%20class%3D%22axesclip%22%20id%3D%22clip2b346bxy%22%3E%3Crect%20x%3D%2280%22%20y%3D%2230%22%20width%3D%22996%22%20height%3D%22238%22%2F%3E%3C%2FclipPath%3E%3C%2Fg%3E%3Cg%20class%3D%22gradients%22%2F%3E%3C%2Fdefs%3E%3Cg%20class%3D%22bglayer%22%2F%3E%3Cg%20class%3D%22draglayer%20cursor-crosshair%22%3E%3Cg%20class%3D%22xy%22%3E%3Crect%20class%3D%22nsewdrag%20drag%22%20style%3D%22fill%3A%20transparent%3B%20stroke-width%3A%200px%3B%20pointer-events%3A%20all%3B%22%20data-subplot%3D%22xy%22%20x%3D%2280%22%20y%3D%2230%22%20width%3D%22996%22%20height%3D%22238%22%2F%3E%3Crect%20class%3D%22nwdrag%20drag%20cursor-nw-resize%22%20style%3D%22fill%3A%20transparent%3B%20stroke-width%3A%200px%3B%20pointer-events%3A%20all%3B%22%20data-subplot%3D%22xy%22%20x%3D%2260%22%20y%3D%2210%22%20width%3D%2220%22%20height%3D%2220%22%2F%3E%3Crect%20class%3D%22nedrag%20drag%20cursor-ne-resize%22%20style%3D%22fill%3A%20transparent%3B%20stroke-width%3A%200px%3B%20pointer-events%3A%20all%3B%22%20data-subplot%3D%22xy%22%20x%3D%221076%22%20y%3D%2210%22%20width%3D%2220%22%20height%3D%2220%22%2F%3E%3Crect%20class%3D%22swdrag%20drag%20cursor-sw-resize%22%20style%3D%22fill%3A%20transparent%3B%20stroke-width%3A%200px%3B%20pointer-events%3A%20all%3B%22%20data-subplot%3D%22xy%22%20x%3D%2260%22%20y%3D%22268%22%20width%3D%2220%22%20height%3D%2220%22%2F%3E%3Crect%20class%3D%22sedrag%20drag%20cursor-se-resize%22%20style%3D%22fill%3A%20transparent%3B%20stroke-width%3A%200px%3B%20pointer-events%3A%20all%3B%22%20data-subplot%3D%22xy%22%20x%3D%221076%22%20y%3D%22268%22%20width%3D%2220%22%20height%3D%2220%22%2F%3E%3Crect%20class%3D%22ewdrag%20drag%20cursor-ew-resize%22%20style%3D%22fill%3A%20transparent%3B%20stroke-width%3A%200px%3B%20pointer-events%3A%20all%3B%22%20data-subplot%3D%22xy%22%20x%3D%22179.60000000000002%22%20y%3D%22268.5%22%20width%3D%22796.8000000000001%22%20height%3D%2220%22%2F%3E%3Crect%20class%3D%22wdrag%20drag%20cursor-w-resize%22%20style%3D%22fill%3A%20transparent%3B%20stroke-width%3A%200px%3B%20pointer-events%3A%20all%3B%22%20data-subplot%3D%22xy%22%20x%3D%2280%22%20y%3D%22268.5%22%20width%3D%2299.60000000000001%22%20height%3D%2220%22%2F%3E%3Crect%20class%3D%22edrag%20drag%20cursor-e-resize%22%20style%3D%22fill%3A%20transparent%3B%20stroke-width%3A%200px%3B%20pointer-events%3A%20all%3B%22%20data-subplot%3D%22xy%22%20x%3D%22976.4%22%20y%3D%22268.5%22%20width%3D%2299.60000000000001%22%20height%3D%2220%22%2F%3E%3Crect%20class%3D%22nsdrag%20drag%20cursor-ns-resize%22%20style%3D%22fill%3A%20transparent%3B%20stroke-width%3A%200px%3B%20pointer-events%3A%20all%3B%22%20data-subplot%3D%22xy%22%20x%3D%2259.5%22%20y%3D%2253.8%22%20width%3D%2220%22%20height%3D%22190.4%22%2F%3E%3Crect%20class%3D%22sdrag%20drag%20cursor-s-resize%22%20style%3D%22fill%3A%20transparent%3B%20stroke-width%3A%200px%3B%20pointer-events%3A%20all%3B%22%20data-subplot%3D%22xy%22%20x%3D%2259.5%22%20y%3D%22244.20000000000002%22%20width%3D%2220%22%20height%3D%2223.8%22%2F%3E%3Crect%20class%3D%22ndrag%20drag%20cursor-n-resize%22%20style%3D%22fill%3A%20transparent%3B%20stroke-width%3A%200px%3B%20pointer-events%3A%20all%3B%22%20data-subplot%3D%22xy%22%20x%3D%2259.5%22%20y%3D%2230%22%20width%3D%2220%22%20height%3D%2223.8%22%2F%3E%3C%2Fg%3E%3C%2Fg%3E%3Cg%20class%3D%22layer-below%22%3E%3Cg%20class%3D%22imagelayer%22%2F%3E%3Cg%20class%3D%22shapelayer%22%2F%3E%3C%2Fg%3E%3Cg%20class%3D%22cartesianlayer%22%3E%3Cg%20class%3D%22subplot%20xy%22%3E%3Cg%20class%3D%22layer-subplot%22%3E%3Cg%20class%3D%22shapelayer%22%2F%3E%3Cg%20class%3D%22imagelayer%22%2F%3E%3C%2Fg%3E%3Cg%20class%3D%22gridlayer%22%3E%3Cg%20class%3D%22x%22%3E%3Cpath%20class%3D%22xgrid%20crisp%22%20transform%3D%22translate(94.23%2C0)%22%20d%3D%22M0%2C30v238%22%20style%3D%22stroke%3A%20rgb(0%2C%200%2C%200)%3B%20stroke-opacity%3A%200%3B%20stroke-width%3A%201px%3B%22%2F%3E%3Cpath%20class%3D%22xgrid%20crisp%22%20transform%3D%22translate(122.69%2C0)%22%20d%3D%22M0%2C30v238%22%20style%3D%22stroke%3A%20rgb(0%2C%200%2C%200)%3B%20stroke-opacity%3A%200%3B%20stroke-width%3A%201px%3B%22%2F%3E%3Cpath%20class%3D%22xgrid%20crisp%22%20transform%3D%22translate(151.14%2C0)%22%20d%3D%22M0%2C30v238%22%20style%3D%22stroke%3A%20rgb(0%2C%200%2C%200)%3B%20stroke-opacity%3A%200%3B%20stroke-width%3A%201px%3B%22%2F%3E%3Cpath%20class%3D%22xgrid%20crisp%22%20transform%3D%22translate(179.6%2C0)%22%20d%3D%22M0%2C30v238%22%20style%3D%22stroke%3A%20rgb(0%2C%200%2C%200)%3B%20stroke-opacity%3A%200%3B%20stroke-width%3A%201px%3B%22%2F%3E%3Cpath%20class%3D%22xgrid%20crisp%22%20transform%3D%22translate(208.06%2C0)%22%20d%3D%22M0%2C30v238%22%20style%3D%22stroke%3A%20rgb(0%2C%200%2C%200)%3B%20stroke-opacity%3A%200%3B%20stroke-width%3A%201px%3B%22%2F%3E%3Cpath%20class%3D%22xgrid%20crisp%22%20transform%3D%22translate(236.51%2C0)%22%20d%3D%22M0%2C30v238%22%20style%3D%22stroke%3A%20rgb(0%2C%200%2C%200)%3B%20stroke-opacity%3A%200%3B%20stroke-width%3A%201px%3B%22%2F%3E%3Cpath%20class%3D%22xgrid%20crisp%22%20transform%3D%22translate(264.97%2C0)%22%20d%3D%22M0%2C30v238%22%20style%3D%22stroke%3A%20rgb(0%2C%200%2C%200)%3B%20stroke-opacity%3A%200%3B%20stroke-width%3A%201px%3B%22%2F%3E%3Cpath%20class%3D%22xgrid%20crisp%22%20transform%3D%22translate(293.43%2C0)%22%20d%3D%22M0%2C30v238%22%20style%3D%22stroke%3A%20rgb(0%2C%200%2C%200)%3B%20stroke-opacity%3A%200%3B%20stroke-width%3A%201px%3B%22%2F%3E%3Cpath%20class%3D%22xgrid%20crisp%22%20transform%3D%22translate(321.89%2C0)%22%20d%3D%22M0%2C30v238%22%20style%3D%22stroke%3A%20rgb(0%2C%200%2C%200)%3B%20stroke-opacity%3A%200%3B%20stroke-width%3A%201px%3B%22%2F%3E%3Cpath%20class%3D%22xgrid%20crisp%22%20transform%3D%22translate(350.34%2C0)%22%20d%3D%22M0%2C30v238%22%20style%3D%22stroke%3A%20rgb(0%2C%200%2C%200)%3B%20stroke-opacity%3A%200%3B%20stroke-width%3A%201px%3B%22%2F%3E%3Cpath%20class%3D%22xgrid%20crisp%22%20transform%3D%22translate(378.8%2C0)%22%20d%3D%22M0%2C30v238%22%20style%3D%22stroke%3A%20rgb(0%2C%200%2C%200)%3B%20stroke-opacity%3A%200%3B%20stroke-width%3A%201px%3B%22%2F%3E%3Cpath%20class%3D%22xgrid%20crisp%22%20transform%3D%22translate(407.26%2C0)%22%20d%3D%22M0%2C30v238%22%20style%3D%22stroke%3A%20rgb(0%2C%200%2C%200)%3B%20stroke-opacity%3A%200%3B%20stroke-width%3A%201px%3B%22%2F%3E%3Cpath%20class%3D%22xgrid%20crisp%22%20transform%3D%22translate(435.71%2C0)%22%20d%3D%22M0%2C30v238%22%20style%3D%22stroke%3A%20rgb(0%2C%200%2C%200)%3B%20stroke-opacity%3A%200%3B%20stroke-width%3A%201px%3B%22%2F%3E%3Cpath%20class%3D%22xgrid%20crisp%22%20transform%3D%22translate(464.17%2C0)%22%20d%3D%22M0%2C30v238%22%20style%3D%22stroke%3A%20rgb(0%2C%200%2C%200)%3B%20stroke-opacity%3A%200%3B%20stroke-width%3A%201px%3B%22%2F%3E%3Cpath%20class%3D%22xgrid%20crisp%22%20transform%3D%22translate(492.63%2C0)%22%20d%3D%22M0%2C30v238%22%20style%3D%22stroke%3A%20rgb(0%2C%200%2C%200)%3B%20stroke-opacity%3A%200%3B%20stroke-width%3A%201px%3B%22%2F%3E%3Cpath%20class%3D%22xgrid%20crisp%22%20transform%3D%22translate(521.0899999999999%2C0)%22%20d%3D%22M0%2C30v238%22%20style%3D%22stroke%3A%20rgb(0%2C%200%2C%200)%3B%20stroke-opacity%3A%200%3B%20stroke-width%3A%201px%3B%22%2F%3E%3Cpath%20class%3D%22xgrid%20crisp%22%20transform%3D%22translate(549.54%2C0)%22%20d%3D%22M0%2C30v238%22%20style%3D%22stroke%3A%20rgb(0%2C%200%2C%200)%3B%20stroke-opacity%3A%200%3B%20stroke-width%3A%201px%3B%22%2F%3E%3Cpath%20class%3D%22xgrid%20crisp%22%20transform%3D%22translate(578%2C0)%22%20d%3D%22M0%2C30v238%22%20style%3D%22stroke%3A%20rgb(0%2C%200%2C%200)%3B%20stroke-opacity%3A%200%3B%20stroke-width%3A%201px%3B%22%2F%3E%3Cpath%20class%3D%22xgrid%20crisp%22%20transform%3D%22translate(606.46%2C0)%22%20d%3D%22M0%2C30v238%22%20style%3D%22stroke%3A%20rgb(0%2C%200%2C%200)%3B%20stroke-opacity%3A%200%3B%20stroke-width%3A%201px%3B%22%2F%3E%3Cpath%20class%3D%22xgrid%20crisp%22%20transform%3D%22translate(634.91%2C0)%22%20d%3D%22M0%2C30v238%22%20style%3D%22stroke%3A%20rgb(0%2C%200%2C%200)%3B%20stroke-opacity%3A%200%3B%20stroke-width%3A%201px%3B%22%2F%3E%3Cpath%20class%3D%22xgrid%20crisp%22%20transform%3D%22translate(663.37%2C0)%22%20d%3D%22M0%2C30v238%22%20style%3D%22stroke%3A%20rgb(0%2C%200%2C%200)%3B%20stroke-opacity%3A%200%3B%20stroke-width%3A%201px%3B%22%2F%3E%3Cpath%20class%3D%22xgrid%20crisp%22%20transform%3D%22translate(691.83%2C0)%22%20d%3D%22M0%2C30v238%22%20style%3D%22stroke%3A%20rgb(0%2C%200%2C%200)%3B%20stroke-opacity%3A%200%3B%20stroke-width%3A%201px%3B%22%2F%3E%3Cpath%20class%3D%22xgrid%20crisp%22%20transform%3D%22translate(720.29%2C0)%22%20d%3D%22M0%2C30v238%22%20style%3D%22stroke%3A%20rgb(0%2C%200%2C%200)%3B%20stroke-opacity%3A%200%3B%20stroke-width%3A%201px%3B%22%2F%3E%3Cpath%20class%3D%22xgrid%20crisp%22%20transform%3D%22translate(748.74%2C0)%22%20d%3D%22M0%2C30v238%22%20style%3D%22stroke%3A%20rgb(0%2C%200%2C%200)%3B%20stroke-opacity%3A%200%3B%20stroke-width%3A%201px%3B%22%2F%3E%3Cpath%20class%3D%22xgrid%20crisp%22%20transform%3D%22translate(777.2%2C0)%22%20d%3D%22M0%2C30v238%22%20style%3D%22stroke%3A%20rgb(0%2C%200%2C%200)%3B%20stroke-opacity%3A%200%3B%20stroke-width%3A%201px%3B%22%2F%3E%3Cpath%20class%3D%22xgrid%20crisp%22%20transform%3D%22translate(805.66%2C0)%22%20d%3D%22M0%2C30v238%22%20style%3D%22stroke%3A%20rgb(0%2C%200%2C%200)%3B%20stroke-opacity%3A%200%3B%20stroke-width%3A%201px%3B%22%2F%3E%3Cpath%20class%3D%22xgrid%20crisp%22%20transform%3D%22translate(834.11%2C0)%22%20d%3D%22M0%2C30v238%22%20style%3D%22stroke%3A%20rgb(0%2C%200%2C%200)%3B%20stroke-opacity%3A%200%3B%20stroke-width%3A%201px%3B%22%2F%3E%3Cpath%20class%3D%22xgrid%20crisp%22%20transform%3D%22translate(862.57%2C0)%22%20d%3D%22M0%2C30v238%22%20style%3D%22stroke%3A%20rgb(0%2C%200%2C%200)%3B%20stroke-opacity%3A%200%3B%20stroke-width%3A%201px%3B%22%2F%3E%3Cpath%20class%3D%22xgrid%20crisp%22%20transform%3D%22translate(891.03%2C0)%22%20d%3D%22M0%2C30v238%22%20style%3D%22stroke%3A%20rgb(0%2C%200%2C%200)%3B%20stroke-opacity%3A%200%3B%20stroke-width%3A%201px%3B%22%2F%3E%3Cpath%20class%3D%22xgrid%20crisp%22%20transform%3D%22translate(919.49%2C0)%22%20d%3D%22M0%2C30v238%22%20style%3D%22stroke%3A%20rgb(0%2C%200%2C%200)%3B%20stroke-opacity%3A%200%3B%20stroke-width%3A%201px%3B%22%2F%3E%3Cpath%20class%3D%22xgrid%20crisp%22%20transform%3D%22translate(947.94%2C0)%22%20d%3D%22M0%2C30v238%22%20style%3D%22stroke%3A%20rgb(0%2C%200%2C%200)%3B%20stroke-opacity%3A%200%3B%20stroke-width%3A%201px%3B%22%2F%3E%3Cpath%20class%3D%22xgrid%20crisp%22%20transform%3D%22translate(976.4%2C0)%22%20d%3D%22M0%2C30v238%22%20style%3D%22stroke%3A%20rgb(0%2C%200%2C%200)%3B%20stroke-opacity%3A%200%3B%20stroke-width%3A%201px%3B%22%2F%3E%3Cpath%20class%3D%22xgrid%20crisp%22%20transform%3D%22translate(1004.86%2C0)%22%20d%3D%22M0%2C30v238%22%20style%3D%22stroke%3A%20rgb(0%2C%200%2C%200)%3B%20stroke-opacity%3A%200%3B%20stroke-width%3A%201px%3B%22%2F%3E%3Cpath%20class%3D%22xgrid%20crisp%22%20transform%3D%22translate(1033.31%2C0)%22%20d%3D%22M0%2C30v238%22%20style%3D%22stroke%3A%20rgb(0%2C%200%2C%200)%3B%20stroke-opacity%3A%200%3B%20stroke-width%3A%201px%3B%22%2F%3E%3Cpath%20class%3D%22xgrid%20crisp%22%20transform%3D%22translate(1061.77%2C0)%22%20d%3D%22M0%2C30v238%22%20style%3D%22stroke%3A%20rgb(0%2C%200%2C%200)%3B%20stroke-opacity%3A%200%3B%20stroke-width%3A%201px%3B%22%2F%3E%3C%2Fg%3E%3Cg%20class%3D%22y%22%3E%3Cpath%20class%3D%22ygrid%20crisp%22%20transform%3D%22translate(0%2C223.19)%22%20d%3D%22M80%2C0h996%22%20style%3D%22stroke%3A%20rgb(89%2C%2089%2C%2089)%3B%20stroke-opacity%3A%200.25%3B%20stroke-width%3A%201px%3B%22%2F%3E%3Cpath%20class%3D%22ygrid%20crisp%22%20transform%3D%22translate(0%2C178.39)%22%20d%3D%22M80%2C0h996%22%20style%3D%22stroke%3A%20rgb(89%2C%2089%2C%2089)%3B%20stroke-opacity%3A%200.25%3B%20stroke-width%3A%201px%3B%22%2F%3E%3Cpath%20class%3D%22ygrid%20crisp%22%20transform%3D%22translate(0%2C133.57999999999998)%22%20d%3D%22M80%2C0h996%22%20style%3D%22stroke%3A%20rgb(89%2C%2089%2C%2089)%3B%20stroke-opacity%3A%200.25%3B%20stroke-width%3A%201px%3B%22%2F%3E%3Cpath%20class%3D%22ygrid%20crisp%22%20transform%3D%22translate(0%2C88.78)%22%20d%3D%22M80%2C0h996%22%20style%3D%22stroke%3A%20rgb(89%2C%2089%2C%2089)%3B%20stroke-opacity%3A%200.25%3B%20stroke-width%3A%201px%3B%22%2F%3E%3Cpath%20class%3D%22ygrid%20crisp%22%20transform%3D%22translate(0%2C43.97)%22%20d%3D%22M80%2C0h996%22%20style%3D%22stroke%3A%20rgb(89%2C%2089%2C%2089)%3B%20stroke-opacity%3A%200.25%3B%20stroke-width%3A%201px%3B%22%2F%3E%3C%2Fg%3E%3C%2Fg%3E%3Cg%20class%3D%22zerolinelayer%22%3E%3Cpath%20class%3D%22yzl%20zl%20crisp%22%20transform%3D%22translate(0%2C268)%22%20d%3D%22M80%2C0h996%22%20style%3D%22stroke%3A%20rgb(89%2C%2089%2C%2089)%3B%20stroke-opacity%3A%200.5%3B%20stroke-width%3A%201px%3B%22%2F%3E%3C%2Fg%3E%3Cpath%20class%3D%22xlines-below%22%2F%3E%3Cpath%20class%3D%22ylines-below%22%2F%3E%3Cg%20class%3D%22overlines-below%22%2F%3E%3Cg%20class%3D%22xaxislayer-below%22%2F%3E%3Cg%20class%3D%22yaxislayer-below%22%2F%3E%3Cg%20class%3D%22overaxes-below%22%2F%3E%3Cg%20class%3D%22plot%22%20transform%3D%22translate(80%2C30)%22%20clip-path%3D%22url('%23clip2b346bxyplot')%22%3E%3Cg%20class%3D%22barlayer%20mlayer%22%3E%3Cg%20class%3D%22trace%20bars%22%20style%3D%22opacity%3A%201%3B%22%3E%3Cg%20class%3D%22points%22%3E%3Cg%20class%3D%22point%22%3E%3Cpath%20style%3D%22vector-effect%3A%20non-scaling-stroke%3B%20opacity%3A%201%3B%20stroke-width%3A%200px%3B%20fill%3A%20rgb(78%2C%20121%2C%20167)%3B%20fill-opacity%3A%201%3B%22%20d%3D%22M2.85%2C238V148.04H25.61V238Z%22%2F%3E%3C%2Fg%3E%3Cg%20class%3D%22point%22%3E%3Cpath%20style%3D%22vector-effect%3A%20non-scaling-stroke%3B%20opacity%3A%201%3B%20stroke-width%3A%200px%3B%20fill%3A%20rgb(78%2C%20121%2C%20167)%3B%20fill-opacity%3A%201%3B%22%20d%3D%22M31.3%2C238V152.16H54.07V238Z%22%2F%3E%3C%2Fg%3E%3Cg%20class%3D%22point%22%3E%3Cpath%20style%3D%22vector-effect%3A%20non-scaling-stroke%3B%20opacity%3A%201%3B%20stroke-width%3A%200px%3B%20fill%3A%20rgb(78%2C%20121%2C%20167)%3B%20fill-opacity%3A%201%3B%22%20d%3D%22M59.76%2C238V149.67H82.53V238Z%22%2F%3E%3C%2Fg%3E%3Cg%20class%3D%22point%22%3E%3Cpath%20style%3D%22vector-effect%3A%20non-scaling-stroke%3B%20opacity%3A%201%3B%20stroke-width%3A%200px%3B%20fill%3A%20rgb(78%2C%20121%2C%20167)%3B%20fill-opacity%3A%201%3B%22%20d%3D%22M88.22%2C238V111.59H110.98V238Z%22%2F%3E%3C%2Fg%3E%3Cg%20class%3D%22point%22%3E%3Cpath%20style%3D%22vector-effect%3A%20non-scaling-stroke%3B%20opacity%3A%201%3B%20stroke-width%3A%200px%3B%20fill%3A%20rgb(78%2C%20121%2C%20167)%3B%20fill-opacity%3A%201%3B%22%20d%3D%22M116.67%2C238V63.58H139.44V238Z%22%2F%3E%3C%2Fg%3E%3Cg%20class%3D%22point%22%3E%3Cpath%20style%3D%22vector-effect%3A%20non-scaling-stroke%3B%20opacity%3A%201%3B%20stroke-width%3A%200px%3B%20fill%3A%20rgb(78%2C%20121%2C%20167)%3B%20fill-opacity%3A%201%3B%22%20d%3D%22M145.13%2C238V59.89H167.9V238Z%22%2F%3E%3C%2Fg%3E%3Cg%20class%3D%22point%22%3E%3Cpath%20style%3D%22vector-effect%3A%20non-scaling-stroke%3B%20opacity%3A%201%3B%20stroke-width%3A%200px%3B%20fill%3A%20rgb(78%2C%20121%2C%20167)%3B%20fill-opacity%3A%201%3B%22%20d%3D%22M173.59%2C238V46.78H196.35V238Z%22%2F%3E%3C%2Fg%3E%3Cg%20class%3D%22point%22%3E%3Cpath%20style%3D%22vector-effect%3A%20non-scaling-stroke%3B%20opacity%3A%201%3B%20stroke-width%3A%200px%3B%20fill%3A%20rgb(78%2C%20121%2C%20167)%3B%20fill-opacity%3A%201%3B%22%20d%3D%22M202.05%2C238V26.28H224.81V238Z%22%2F%3E%3C%2Fg%3E%3Cg%20class%3D%22point%22%3E%3Cpath%20style%3D%22vector-effect%3A%20non-scaling-stroke%3B%20opacity%3A%201%3B%20stroke-width%3A%200px%3B%20fill%3A%20rgb(78%2C%20121%2C%20167)%3B%20fill-opacity%3A%201%3B%22%20d%3D%22M230.5%2C238V23.6H253.27V238Z%22%2F%3E%3C%2Fg%3E%3Cg%20class%3D%22point%22%3E%3Cpath%20style%3D%22vector-effect%3A%20non-scaling-stroke%3B%20opacity%3A%201%3B%20stroke-width%3A%200px%3B%20fill%3A%20rgb(78%2C%20121%2C%20167)%3B%20fill-opacity%3A%201%3B%22%20d%3D%22M258.96%2C238V52.87H281.73V238Z%22%2F%3E%3C%2Fg%3E%3Cg%20class%3D%22point%22%3E%3Cpath%20style%3D%22vector-effect%3A%20non-scaling-stroke%3B%20opacity%3A%201%3B%20stroke-width%3A%200px%3B%20fill%3A%20rgb(78%2C%20121%2C%20167)%3B%20fill-opacity%3A%201%3B%22%20d%3D%22M287.42%2C238V32.36H310.18V238Z%22%2F%3E%3C%2Fg%3E%3Cg%20class%3D%22point%22%3E%3Cpath%20style%3D%22vector-effect%3A%20non-scaling-stroke%3B%20opacity%3A%201%3B%20stroke-width%3A%200px%3B%20fill%3A%20rgb(78%2C%20121%2C%20167)%3B%20fill-opacity%3A%201%3B%22%20d%3D%22M315.87%2C238V36.67H338.64V238Z%22%2F%3E%3C%2Fg%3E%3Cg%20class%3D%22point%22%3E%3Cpath%20style%3D%22vector-effect%3A%20non-scaling-stroke%3B%20opacity%3A%201%3B%20stroke-width%3A%200px%3B%20fill%3A%20rgb(78%2C%20121%2C%20167)%3B%20fill-opacity%3A%201%3B%22%20d%3D%22M344.33%2C238V39.99H367.1V238Z%22%2F%3E%3C%2Fg%3E%3Cg%20class%3D%22point%22%3E%3Cpath%20style%3D%22vector-effect%3A%20non-scaling-stroke%3B%20opacity%3A%201%3B%20stroke-width%3A%200px%3B%20fill%3A%20rgb(78%2C%20121%2C%20167)%3B%20fill-opacity%3A%201%3B%22%20d%3D%22M372.79%2C238V45.21H395.55V238Z%22%2F%3E%3C%2Fg%3E%3Cg%20class%3D%22point%22%3E%3Cpath%20style%3D%22vector-effect%3A%20non-scaling-stroke%3B%20opacity%3A%201%3B%20stroke-width%3A%200px%3B%20fill%3A%20rgb(78%2C%20121%2C%20167)%3B%20fill-opacity%3A%201%3B%22%20d%3D%22M401.25%2C238V77.72H424.01V238Z%22%2F%3E%3C%2Fg%3E%3Cg%20class%3D%22point%22%3E%3Cpath%20style%3D%22vector-effect%3A%20non-scaling-stroke%3B%20opacity%3A%201%3B%20stroke-width%3A%200px%3B%20fill%3A%20rgb(78%2C%20121%2C%20167)%3B%20fill-opacity%3A%201%3B%22%20d%3D%22M429.7%2C238V100.75H452.47V238Z%22%2F%3E%3C%2Fg%3E%3Cg%20class%3D%22point%22%3E%3Cpath%20style%3D%22vector-effect%3A%20non-scaling-stroke%3B%20opacity%3A%201%3B%20stroke-width%3A%200px%3B%20fill%3A%20rgb(78%2C%20121%2C%20167)%3B%20fill-opacity%3A%201%3B%22%20d%3D%22M458.16%2C238V127.77H480.93V238Z%22%2F%3E%3C%2Fg%3E%3Cg%20class%3D%22point%22%3E%3Cpath%20style%3D%22vector-effect%3A%20non-scaling-stroke%3B%20opacity%3A%201%3B%20stroke-width%3A%200px%3B%20fill%3A%20rgb(78%2C%20121%2C%20167)%3B%20fill-opacity%3A%201%3B%22%20d%3D%22M486.62%2C238V138.6H509.38V238Z%22%2F%3E%3C%2Fg%3E%3Cg%20class%3D%22point%22%3E%3Cpath%20style%3D%22vector-effect%3A%20non-scaling-stroke%3B%20opacity%3A%201%3B%20stroke-width%3A%200px%3B%20fill%3A%20rgb(78%2C%20121%2C%20167)%3B%20fill-opacity%3A%201%3B%22%20d%3D%22M515.07%2C238V142.44H537.84V238Z%22%2F%3E%3C%2Fg%3E%3Cg%20class%3D%22point%22%3E%3Cpath%20style%3D%22vector-effect%3A%20non-scaling-stroke%3B%20opacity%3A%201%3B%20stroke-width%3A%200px%3B%20fill%3A%20rgb(78%2C%20121%2C%20167)%3B%20fill-opacity%3A%201%3B%22%20d%3D%22M543.53%2C238V157.58H566.3V238Z%22%2F%3E%3C%2Fg%3E%3Cg%20class%3D%22point%22%3E%3Cpath%20style%3D%22vector-effect%3A%20non-scaling-stroke%3B%20opacity%3A%201%3B%20stroke-width%3A%200px%3B%20fill%3A%20rgb(78%2C%20121%2C%20167)%3B%20fill-opacity%3A%201%3B%22%20d%3D%22M571.99%2C238V168.82H594.75V238Z%22%2F%3E%3C%2Fg%3E%3Cg%20class%3D%22point%22%3E%3Cpath%20style%3D%22vector-effect%3A%20non-scaling-stroke%3B%20opacity%3A%201%3B%20stroke-width%3A%200px%3B%20fill%3A%20rgb(78%2C%20121%2C%20167)%3B%20fill-opacity%3A%201%3B%22%20d%3D%22M600.45%2C238V174.18H623.21V238Z%22%2F%3E%3C%2Fg%3E%3Cg%20class%3D%22point%22%3E%3Cpath%20style%3D%22vector-effect%3A%20non-scaling-stroke%3B%20opacity%3A%201%3B%20stroke-width%3A%200px%3B%20fill%3A%20rgb(78%2C%20121%2C%20167)%3B%20fill-opacity%3A%201%3B%22%20d%3D%22M628.9%2C238V185.01H651.67V238Z%22%2F%3E%3C%2Fg%3E%3Cg%20class%3D%22point%22%3E%3Cpath%20style%3D%22vector-effect%3A%20non-scaling-stroke%3B%20opacity%3A%201%3B%20stroke-width%3A%200px%3B%20fill%3A%20rgb(78%2C%20121%2C%20167)%3B%20fill-opacity%3A%201%3B%22%20d%3D%22M657.36%2C238V194.48H680.13V238Z%22%2F%3E%3C%2Fg%3E%3Cg%20class%3D%22point%22%3E%3Cpath%20style%3D%22vector-effect%3A%20non-scaling-stroke%3B%20opacity%3A%201%3B%20stroke-width%3A%200px%3B%20fill%3A%20rgb(78%2C%20121%2C%20167)%3B%20fill-opacity%3A%201%3B%22%20d%3D%22M685.82%2C238V202.99H708.58V238Z%22%2F%3E%3C%2Fg%3E%3Cg%20class%3D%22point%22%3E%3Cpath%20style%3D%22vector-effect%3A%20non-scaling-stroke%3B%20opacity%3A%201%3B%20stroke-width%3A%200px%3B%20fill%3A%20rgb(78%2C%20121%2C%20167)%3B%20fill-opacity%3A%201%3B%22%20d%3D%22M714.27%2C238V211.76H737.04V238Z%22%2F%3E%3C%2Fg%3E%3Cg%20class%3D%22point%22%3E%3Cpath%20style%3D%22vector-effect%3A%20non-scaling-stroke%3B%20opacity%3A%201%3B%20stroke-width%3A%200px%3B%20fill%3A%20rgb(78%2C%20121%2C%20167)%3B%20fill-opacity%3A%201%3B%22%20d%3D%22M742.73%2C238V218.77H765.5V238Z%22%2F%3E%3C%2Fg%3E%3Cg%20class%3D%22point%22%3E%3Cpath%20style%3D%22vector-effect%3A%20non-scaling-stroke%3B%20opacity%3A%201%3B%20stroke-width%3A%200px%3B%20fill%3A%20rgb(78%2C%20121%2C%20167)%3B%20fill-opacity%3A%201%3B%22%20d%3D%22M771.19%2C238V222.5H793.95V238Z%22%2F%3E%3C%2Fg%3E%3Cg%20class%3D%22point%22%3E%3Cpath%20style%3D%22vector-effect%3A%20non-scaling-stroke%3B%20opacity%3A%201%3B%20stroke-width%3A%200px%3B%20fill%3A%20rgb(78%2C%20121%2C%20167)%3B%20fill-opacity%3A%201%3B%22%20d%3D%22M799.65%2C238V226.22H822.41V238Z%22%2F%3E%3C%2Fg%3E%3Cg%20class%3D%22point%22%3E%3Cpath%20style%3D%22vector-effect%3A%20non-scaling-stroke%3B%20opacity%3A%201%3B%20stroke-width%3A%200px%3B%20fill%3A%20rgb(78%2C%20121%2C%20167)%3B%20fill-opacity%3A%201%3B%22%20d%3D%22M828.1%2C238V229.27H850.87V238Z%22%2F%3E%3C%2Fg%3E%3Cg%20class%3D%22point%22%3E%3Cpath%20style%3D%22vector-effect%3A%20non-scaling-stroke%3B%20opacity%3A%201%3B%20stroke-width%3A%200px%3B%20fill%3A%20rgb(78%2C%20121%2C%20167)%3B%20fill-opacity%3A%201%3B%22%20d%3D%22M856.56%2C238V231.77H879.33V238Z%22%2F%3E%3C%2Fg%3E%3Cg%20class%3D%22point%22%3E%3Cpath%20style%3D%22vector-effect%3A%20non-scaling-stroke%3B%20opacity%3A%201%3B%20stroke-width%3A%200px%3B%20fill%3A%20rgb(78%2C%20121%2C%20167)%3B%20fill-opacity%3A%201%3B%22%20d%3D%22M885.02%2C238V233.34H907.78V238Z%22%2F%3E%3C%2Fg%3E%3Cg%20class%3D%22point%22%3E%3Cpath%20style%3D%22vector-effect%3A%20non-scaling-stroke%3B%20opacity%3A%201%3B%20stroke-width%3A%200px%3B%20fill%3A%20rgb(78%2C%20121%2C%20167)%3B%20fill-opacity%3A%201%3B%22%20d%3D%22M913.47%2C238V234.74H936.24V238Z%22%2F%3E%3C%2Fg%3E%3Cg%20class%3D%22point%22%3E%3Cpath%20style%3D%22vector-effect%3A%20non-scaling-stroke%3B%20opacity%3A%201%3B%20stroke-width%3A%200px%3B%20fill%3A%20rgb(78%2C%20121%2C%20167)%3B%20fill-opacity%3A%201%3B%22%20d%3D%22M941.93%2C238V235.89H964.7V238Z%22%2F%3E%3C%2Fg%3E%3Cg%20class%3D%22point%22%3E%3Cpath%20style%3D%22vector-effect%3A%20non-scaling-stroke%3B%20opacity%3A%201%3B%20stroke-width%3A%200px%3B%20fill%3A%20rgb(78%2C%20121%2C%20167)%3B%20fill-opacity%3A%201%3B%22%20d%3D%22M970.39%2C238V236H993.15V238Z%22%2F%3E%3C%2Fg%3E%3C%2Fg%3E%3C%2Fg%3E%3Cg%20class%3D%22trace%20bars%22%20style%3D%22opacity%3A%201%3B%22%3E%3Cg%20class%3D%22points%22%3E%3Cg%20class%3D%22point%22%3E%3Cpath%20style%3D%22vector-effect%3A%20non-scaling-stroke%3B%20opacity%3A%201%3B%20stroke-width%3A%200px%3B%20fill%3A%20rgb(242%2C%20142%2C%2044)%3B%20fill-opacity%3A%201%3B%22%20d%3D%22M2.85%2C149V147H25.61V149Z%22%2F%3E%3C%2Fg%3E%3Cg%20class%3D%22point%22%3E%3Cpath%20style%3D%22vector-effect%3A%20non-scaling-stroke%3B%20opacity%3A%201%3B%20stroke-width%3A%200px%3B%20fill%3A%20rgb(242%2C%20142%2C%2044)%3B%20fill-opacity%3A%201%3B%22%20d%3D%22M31.3%2C153V150.98H54.07V153Z%22%2F%3E%3C%2Fg%3E%3Cg%20class%3D%22point%22%3E%3Cpath%20style%3D%22vector-effect%3A%20non-scaling-stroke%3B%20opacity%3A%201%3B%20stroke-width%3A%200px%3B%20fill%3A%20rgb(242%2C%20142%2C%2044)%3B%20fill-opacity%3A%201%3B%22%20d%3D%22M59.76%2C150V148H82.53V150Z%22%2F%3E%3C%2Fg%3E%3Cg%20class%3D%22point%22%3E%3Cpath%20style%3D%22vector-effect%3A%20non-scaling-stroke%3B%20opacity%3A%201%3B%20stroke-width%3A%200px%3B%20fill%3A%20rgb(242%2C%20142%2C%2044)%3B%20fill-opacity%3A%201%3B%22%20d%3D%22M88.22%2C111.59V108.9H110.98V111.59Z%22%2F%3E%3C%2Fg%3E%3Cg%20class%3D%22point%22%3E%3Cpath%20style%3D%22vector-effect%3A%20non-scaling-stroke%3B%20opacity%3A%201%3B%20stroke-width%3A%200px%3B%20fill%3A%20rgb(242%2C%20142%2C%2044)%3B%20fill-opacity%3A%201%3B%22%20d%3D%22M116.67%2C63.58V59.08H139.44V63.58Z%22%2F%3E%3C%2Fg%3E%3Cg%20class%3D%22point%22%3E%3Cpath%20style%3D%22vector-effect%3A%20non-scaling-stroke%3B%20opacity%3A%201%3B%20stroke-width%3A%200px%3B%20fill%3A%20rgb(242%2C%20142%2C%2044)%3B%20fill-opacity%3A%201%3B%22%20d%3D%22M145.13%2C59.89V54.07H167.9V59.89Z%22%2F%3E%3C%2Fg%3E%3Cg%20class%3D%22point%22%3E%3Cpath%20style%3D%22vector-effect%3A%20non-scaling-stroke%3B%20opacity%3A%201%3B%20stroke-width%3A%200px%3B%20fill%3A%20rgb(242%2C%20142%2C%2044)%3B%20fill-opacity%3A%201%3B%22%20d%3D%22M173.59%2C46.78V38.77H196.35V46.78Z%22%2F%3E%3C%2Fg%3E%3Cg%20class%3D%22point%22%3E%3Cpath%20style%3D%22vector-effect%3A%20non-scaling-stroke%3B%20opacity%3A%201%3B%20stroke-width%3A%200px%3B%20fill%3A%20rgb(242%2C%20142%2C%2044)%3B%20fill-opacity%3A%201%3B%22%20d%3D%22M202.05%2C26.28V16.17H224.81V26.28Z%22%2F%3E%3C%2Fg%3E%3Cg%20class%3D%22point%22%3E%3Cpath%20style%3D%22vector-effect%3A%20non-scaling-stroke%3B%20opacity%3A%201%3B%20stroke-width%3A%200px%3B%20fill%3A%20rgb(242%2C%20142%2C%2044)%3B%20fill-opacity%3A%201%3B%22%20d%3D%22M230.5%2C23.6V11.9H253.27V23.6Z%22%2F%3E%3C%2Fg%3E%3Cg%20class%3D%22point%22%3E%3Cpath%20style%3D%22vector-effect%3A%20non-scaling-stroke%3B%20opacity%3A%201%3B%20stroke-width%3A%200px%3B%20fill%3A%20rgb(242%2C%20142%2C%2044)%3B%20fill-opacity%3A%201%3B%22%20d%3D%22M258.96%2C52.87V42.3H281.73V52.87Z%22%2F%3E%3C%2Fg%3E%3Cg%20class%3D%22point%22%3E%3Cpath%20style%3D%22vector-effect%3A%20non-scaling-stroke%3B%20opacity%3A%201%3B%20stroke-width%3A%200px%3B%20fill%3A%20rgb(242%2C%20142%2C%2044)%3B%20fill-opacity%3A%201%3B%22%20d%3D%22M287.42%2C32.36V19.12H310.18V32.36Z%22%2F%3E%3C%2Fg%3E%3Cg%20class%3D%22point%22%3E%3Cpath%20style%3D%22vector-effect%3A%20non-scaling-stroke%3B%20opacity%3A%201%3B%20stroke-width%3A%200px%3B%20fill%3A%20rgb(242%2C%20142%2C%2044)%3B%20fill-opacity%3A%201%3B%22%20d%3D%22M315.87%2C36.67V22.88H338.64V36.67Z%22%2F%3E%3C%2Fg%3E%3Cg%20class%3D%22point%22%3E%3Cpath%20style%3D%22vector-effect%3A%20non-scaling-stroke%3B%20opacity%3A%201%3B%20stroke-width%3A%200px%3B%20fill%3A%20rgb(242%2C%20142%2C%2044)%3B%20fill-opacity%3A%201%3B%22%20d%3D%22M344.33%2C39.99V24.67H367.1V39.99Z%22%2F%3E%3C%2Fg%3E%3Cg%20class%3D%22point%22%3E%3Cpath%20style%3D%22vector-effect%3A%20non-scaling-stroke%3B%20opacity%3A%201%3B%20stroke-width%3A%200px%3B%20fill%3A%20rgb(242%2C%20142%2C%2044)%3B%20fill-opacity%3A%201%3B%22%20d%3D%22M372.79%2C45.21V29.45H395.55V45.21Z%22%2F%3E%3C%2Fg%3E%3Cg%20class%3D%22point%22%3E%3Cpath%20style%3D%22vector-effect%3A%20non-scaling-stroke%3B%20opacity%3A%201%3B%20stroke-width%3A%200px%3B%20fill%3A%20rgb(242%2C%20142%2C%2044)%3B%20fill-opacity%3A%201%3B%22%20d%3D%22M401.25%2C77.72V62.36H424.01V77.72Z%22%2F%3E%3C%2Fg%3E%3Cg%20class%3D%22point%22%3E%3Cpath%20style%3D%22vector-effect%3A%20non-scaling-stroke%3B%20opacity%3A%201%3B%20stroke-width%3A%200px%3B%20fill%3A%20rgb(242%2C%20142%2C%2044)%3B%20fill-opacity%3A%201%3B%22%20d%3D%22M429.7%2C100.75V86.84H452.47V100.75Z%22%2F%3E%3C%2Fg%3E%3Cg%20class%3D%22point%22%3E%3Cpath%20style%3D%22vector-effect%3A%20non-scaling-stroke%3B%20opacity%3A%201%3B%20stroke-width%3A%200px%3B%20fill%3A%20rgb(242%2C%20142%2C%2044)%3B%20fill-opacity%3A%201%3B%22%20d%3D%22M458.16%2C127.77V114.71H480.93V127.77Z%22%2F%3E%3C%2Fg%3E%3Cg%20class%3D%22point%22%3E%3Cpath%20style%3D%22vector-effect%3A%20non-scaling-stroke%3B%20opacity%3A%201%3B%20stroke-width%3A%200px%3B%20fill%3A%20rgb(242%2C%20142%2C%2044)%3B%20fill-opacity%3A%201%3B%22%20d%3D%22M486.62%2C138.6V126.61H509.38V138.6Z%22%2F%3E%3C%2Fg%3E%3Cg%20class%3D%22point%22%3E%3Cpath%20style%3D%22vector-effect%3A%20non-scaling-stroke%3B%20opacity%3A%201%3B%20stroke-width%3A%200px%3B%20fill%3A%20rgb(242%2C%20142%2C%2044)%3B%20fill-opacity%3A%201%3B%22%20d%3D%22M515.07%2C142.44V129.76H537.84V142.44Z%22%2F%3E%3C%2Fg%3E%3Cg%20class%3D%22point%22%3E%3Cpath%20style%3D%22vector-effect%3A%20non-scaling-stroke%3B%20opacity%3A%201%3B%20stroke-width%3A%200px%3B%20fill%3A%20rgb(242%2C%20142%2C%2044)%3B%20fill-opacity%3A%201%3B%22%20d%3D%22M543.53%2C157.58V146.48H566.3V157.58Z%22%2F%3E%3C%2Fg%3E%3Cg%20class%3D%22point%22%3E%3Cpath%20style%3D%22vector-effect%3A%20non-scaling-stroke%3B%20opacity%3A%201%3B%20stroke-width%3A%200px%3B%20fill%3A%20rgb(242%2C%20142%2C%2044)%3B%20fill-opacity%3A%201%3B%22%20d%3D%22M571.99%2C168.82V159.62H594.75V168.82Z%22%2F%3E%3C%2Fg%3E%3Cg%20class%3D%22point%22%3E%3Cpath%20style%3D%22vector-effect%3A%20non-scaling-stroke%3B%20opacity%3A%201%3B%20stroke-width%3A%200px%3B%20fill%3A%20rgb(242%2C%20142%2C%2044)%3B%20fill-opacity%3A%201%3B%22%20d%3D%22M600.45%2C174.18V164.52H623.21V174.18Z%22%2F%3E%3C%2Fg%3E%3Cg%20class%3D%22point%22%3E%3Cpath%20style%3D%22vector-effect%3A%20non-scaling-stroke%3B%20opacity%3A%201%3B%20stroke-width%3A%200px%3B%20fill%3A%20rgb(242%2C%20142%2C%2044)%3B%20fill-opacity%3A%201%3B%22%20d%3D%22M628.9%2C185.01V176.76H651.67V185.01Z%22%2F%3E%3C%2Fg%3E%3Cg%20class%3D%22point%22%3E%3Cpath%20style%3D%22vector-effect%3A%20non-scaling-stroke%3B%20opacity%3A%201%3B%20stroke-width%3A%200px%3B%20fill%3A%20rgb(242%2C%20142%2C%2044)%3B%20fill-opacity%3A%201%3B%22%20d%3D%22M657.36%2C194.48V187.17H680.13V194.48Z%22%2F%3E%3C%2Fg%3E%3Cg%20class%3D%22point%22%3E%3Cpath%20style%3D%22vector-effect%3A%20non-scaling-stroke%3B%20opacity%3A%201%3B%20stroke-width%3A%200px%3B%20fill%3A%20rgb(242%2C%20142%2C%2044)%3B%20fill-opacity%3A%201%3B%22%20d%3D%22M685.82%2C202.99V196.41H708.58V202.99Z%22%2F%3E%3C%2Fg%3E%3Cg%20class%3D%22point%22%3E%3Cpath%20style%3D%22vector-effect%3A%20non-scaling-stroke%3B%20opacity%3A%201%3B%20stroke-width%3A%200px%3B%20fill%3A%20rgb(242%2C%20142%2C%2044)%3B%20fill-opacity%3A%201%3B%22%20d%3D%22M714.27%2C211.76V206.6H737.04V211.76Z%22%2F%3E%3C%2Fg%3E%3Cg%20class%3D%22point%22%3E%3Cpath%20style%3D%22vector-effect%3A%20non-scaling-stroke%3B%20opacity%3A%201%3B%20stroke-width%3A%200px%3B%20fill%3A%20rgb(242%2C%20142%2C%2044)%3B%20fill-opacity%3A%201%3B%22%20d%3D%22M742.73%2C218.77V214.65H765.5V218.77Z%22%2F%3E%3C%2Fg%3E%3Cg%20class%3D%22point%22%3E%3Cpath%20style%3D%22vector-effect%3A%20non-scaling-stroke%3B%20opacity%3A%201%3B%20stroke-width%3A%200px%3B%20fill%3A%20rgb(242%2C%20142%2C%2044)%3B%20fill-opacity%3A%201%3B%22%20d%3D%22M771.19%2C222.5V218.65H793.95V222.5Z%22%2F%3E%3C%2Fg%3E%3Cg%20class%3D%22point%22%3E%3Cpath%20style%3D%22vector-effect%3A%20non-scaling-stroke%3B%20opacity%3A%201%3B%20stroke-width%3A%200px%3B%20fill%3A%20rgb(242%2C%20142%2C%2044)%3B%20fill-opacity%3A%201%3B%22%20d%3D%22M799.65%2C226.22V223.21H822.41V226.22Z%22%2F%3E%3C%2Fg%3E%3Cg%20class%3D%22point%22%3E%3Cpath%20style%3D%22vector-effect%3A%20non-scaling-stroke%3B%20opacity%3A%201%3B%20stroke-width%3A%200px%3B%20fill%3A%20rgb(242%2C%20142%2C%2044)%3B%20fill-opacity%3A%201%3B%22%20d%3D%22M828.1%2C229.27V226.71H850.87V229.27Z%22%2F%3E%3C%2Fg%3E%3Cg%20class%3D%22point%22%3E%3Cpath%20style%3D%22vector-effect%3A%20non-scaling-stroke%3B%20opacity%3A%201%3B%20stroke-width%3A%200px%3B%20fill%3A%20rgb(242%2C%20142%2C%2044)%3B%20fill-opacity%3A%201%3B%22%20d%3D%22M856.56%2C232V229.94H879.33V232Z%22%2F%3E%3C%2Fg%3E%3Cg%20class%3D%22point%22%3E%3Cpath%20style%3D%22vector-effect%3A%20non-scaling-stroke%3B%20opacity%3A%201%3B%20stroke-width%3A%200px%3B%20fill%3A%20rgb(242%2C%20142%2C%2044)%3B%20fill-opacity%3A%201%3B%22%20d%3D%22M885.02%2C234V232H907.78V234Z%22%2F%3E%3C%2Fg%3E%3Cg%20class%3D%22point%22%3E%3Cpath%20style%3D%22vector-effect%3A%20non-scaling-stroke%3B%20opacity%3A%201%3B%20stroke-width%3A%200px%3B%20fill%3A%20rgb(242%2C%20142%2C%2044)%3B%20fill-opacity%3A%201%3B%22%20d%3D%22M913.47%2C235V233H936.24V235Z%22%2F%3E%3C%2Fg%3E%3Cg%20class%3D%22point%22%3E%3Cpath%20style%3D%22vector-effect%3A%20non-scaling-stroke%3B%20opacity%3A%201%3B%20stroke-width%3A%200px%3B%20fill%3A%20rgb(242%2C%20142%2C%2044)%3B%20fill-opacity%3A%201%3B%22%20d%3D%22M941.93%2C236V235H964.7V236Z%22%2F%3E%3C%2Fg%3E%3Cg%20class%3D%22point%22%3E%3Cpath%20style%3D%22vector-effect%3A%20non-scaling-stroke%3B%20opacity%3A%201%3B%20stroke-width%3A%200px%3B%20fill%3A%20rgb(242%2C%20142%2C%2044)%3B%20fill-opacity%3A%201%3B%22%20d%3D%22M970.39%2C237V235H993.15V237Z%22%2F%3E%3C%2Fg%3E%3C%2Fg%3E%3C%2Fg%3E%3C%2Fg%3E%3C%2Fg%3E%3Cg%20class%3D%22overplot%22%2F%3E%3Cpath%20class%3D%22xlines-above%20crisp%22%20style%3D%22fill%3A%20none%3B%20stroke-width%3A%201px%3B%20stroke%3A%20rgb(89%2C%2089%2C%2089)%3B%20stroke-opacity%3A%200.25%3B%22%20d%3D%22M79%2C268.5H1076%22%2F%3E%3Cpath%20class%3D%22ylines-above%20crisp%22%20style%3D%22fill%3A%20none%3B%20stroke-width%3A%201px%3B%20stroke%3A%20rgb(89%2C%2089%2C%2089)%3B%20stroke-opacity%3A%200.25%3B%22%20d%3D%22M79.5%2C30V268%22%2F%3E%3Cg%20class%3D%22overlines-above%22%2F%3E%3Cg%20class%3D%22xaxislayer-above%22%3E%3Cg%20class%3D%22xtick%22%3E%3Ctext%20text-anchor%3D%22middle%22%20x%3D%220%22%20y%3D%22283.4%22%20style%3D%22font-family%3A%20%26quot%3BOpen%20Sans%26quot%3B%2C%20verdana%2C%20arial%2C%20sans-serif%3B%20font-size%3A%2012px%3B%20fill%3A%20rgb(89%2C%2089%2C%2089)%3B%20fill-opacity%3A%201%3B%20white-space%3A%20pre%3B%22%20data-unformatted%3D%22A1%22%20data-math%3D%22N%22%20transform%3D%22translate(94.23%2C0)%22%3EA1%3C%2Ftext%3E%3C%2Fg%3E%3Cg%20class%3D%22xtick%22%3E%3Ctext%20text-anchor%3D%22middle%22%20x%3D%220%22%20y%3D%22283.4%22%20style%3D%22font-family%3A%20%26quot%3BOpen%20Sans%26quot%3B%2C%20verdana%2C%20arial%2C%20sans-serif%3B%20font-size%3A%2012px%3B%20fill%3A%20rgb(89%2C%2089%2C%2089)%3B%20fill-opacity%3A%201%3B%20white-space%3A%20pre%3B%22%20data-unformatted%3D%22A2%22%20data-math%3D%22N%22%20transform%3D%22translate(122.69%2C0)%22%3EA2%3C%2Ftext%3E%3C%2Fg%3E%3Cg%20class%3D%22xtick%22%3E%3Ctext%20text-anchor%3D%22middle%22%20x%3D%220%22%20y%3D%22283.4%22%20style%3D%22font-family%3A%20%26quot%3BOpen%20Sans%26quot%3B%2C%20verdana%2C%20arial%2C%20sans-serif%3B%20font-size%3A%2012px%3B%20fill%3A%20rgb(89%2C%2089%2C%2089)%3B%20fill-opacity%3A%201%3B%20white-space%3A%20pre%3B%22%20data-unformatted%3D%22A3%22%20data-math%3D%22N%22%20transform%3D%22translate(151.14%2C0)%22%3EA3%3C%2Ftext%3E%3C%2Fg%3E%3Cg%20class%3D%22xtick%22%3E%3Ctext%20text-anchor%3D%22middle%22%20x%3D%220%22%20y%3D%22283.4%22%20style%3D%22font-family%3A%20%26quot%3BOpen%20Sans%26quot%3B%2C%20verdana%2C%20arial%2C%20sans-serif%3B%20font-size%3A%2012px%3B%20fill%3A%20rgb(89%2C%2089%2C%2089)%3B%20fill-opacity%3A%201%3B%20white-space%3A%20pre%3B%22%20data-unformatted%3D%22A4%22%20data-math%3D%22N%22%20transform%3D%22translate(179.6%2C0)%22%3EA4%3C%2Ftext%3E%3C%2Fg%3E%3Cg%20class%3D%22xtick%22%3E%3Ctext%20text-anchor%3D%22middle%22%20x%3D%220%22%20y%3D%22283.4%22%20style%3D%22font-family%3A%20%26quot%3BOpen%20Sans%26quot%3B%2C%20verdana%2C%20arial%2C%20sans-serif%3B%20font-size%3A%2012px%3B%20fill%3A%20rgb(89%2C%2089%2C%2089)%3B%20fill-opacity%3A%201%3B%20white-space%3A%20pre%3B%22%20data-unformatted%3D%22A5%22%20data-math%3D%22N%22%20transform%3D%22translate(208.06%2C0)%22%3EA5%3C%2Ftext%3E%3C%2Fg%3E%3Cg%20class%3D%22xtick%22%3E%3Ctext%20text-anchor%3D%22middle%22%20x%3D%220%22%20y%3D%22283.4%22%20style%3D%22font-family%3A%20%26quot%3BOpen%20Sans%26quot%3B%2C%20verdana%2C%20arial%2C%20sans-serif%3B%20font-size%3A%2012px%3B%20fill%3A%20rgb(89%2C%2089%2C%2089)%3B%20fill-opacity%3A%201%3B%20white-space%3A%20pre%3B%22%20data-unformatted%3D%22B1%22%20data-math%3D%22N%22%20transform%3D%22translate(236.51%2C0)%22%3EB1%3C%2Ftext%3E%3C%2Fg%3E%3Cg%20class%3D%22xtick%22%3E%3Ctext%20text-anchor%3D%22middle%22%20x%3D%220%22%20y%3D%22283.4%22%20style%3D%22font-family%3A%20%26quot%3BOpen%20Sans%26quot%3B%2C%20verdana%2C%20arial%2C%20sans-serif%3B%20font-size%3A%2012px%3B%20fill%3A%20rgb(89%2C%2089%2C%2089)%3B%20fill-opacity%3A%201%3B%20white-space%3A%20pre%3B%22%20data-unformatted%3D%22B2%22%20data-math%3D%22N%22%20transform%3D%22translate(264.97%2C0)%22%3EB2%3C%2Ftext%3E%3C%2Fg%3E%3Cg%20class%3D%22xtick%22%3E%3Ctext%20text-anchor%3D%22middle%22%20x%3D%220%22%20y%3D%22283.4%22%20style%3D%22font-family%3A%20%26quot%3BOpen%20Sans%26quot%3B%2C%20verdana%2C%20arial%2C%20sans-serif%3B%20font-size%3A%2012px%3B%20fill%3A%20rgb(89%2C%2089%2C%2089)%3B%20fill-opacity%3A%201%3B%20white-space%3A%20pre%3B%22%20data-unformatted%3D%22B3%22%20data-math%3D%22N%22%20transform%3D%22translate(293.43%2C0)%22%3EB3%3C%2Ftext%3E%3C%2Fg%3E%3Cg%20class%3D%22xtick%22%3E%3Ctext%20text-anchor%3D%22middle%22%20x%3D%220%22%20y%3D%22283.4%22%20style%3D%22font-family%3A%20%26quot%3BOpen%20Sans%26quot%3B%2C%20verdana%2C%20arial%2C%20sans-serif%3B%20font-size%3A%2012px%3B%20fill%3A%20rgb(89%2C%2089%2C%2089)%3B%20fill-opacity%3A%201%3B%20white-space%3A%20pre%3B%22%20data-unformatted%3D%22B4%22%20data-math%3D%22N%22%20transform%3D%22translate(321.89%2C0)%22%3EB4%3C%2Ftext%3E%3C%2Fg%3E%3Cg%20class%3D%22xtick%22%3E%3Ctext%20text-anchor%3D%22middle%22%20x%3D%220%22%20y%3D%22283.4%22%20style%3D%22font-family%3A%20%26quot%3BOpen%20Sans%26quot%3B%2C%20verdana%2C%20arial%2C%20sans-serif%3B%20font-size%3A%2012px%3B%20fill%3A%20rgb(89%2C%2089%2C%2089)%3B%20fill-opacity%3A%201%3B%20white-space%3A%20pre%3B%22%20data-unformatted%3D%22B5%22%20data-math%3D%22N%22%20transform%3D%22translate(350.34%2C0)%22%3EB5%3C%2Ftext%3E%3C%2Fg%3E%3Cg%20class%3D%22xtick%22%3E%3Ctext%20text-anchor%3D%22middle%22%20x%3D%220%22%20y%3D%22283.4%22%20style%3D%22font-family%3A%20%26quot%3BOpen%20Sans%26quot%3B%2C%20verdana%2C%20arial%2C%20sans-serif%3B%20font-size%3A%2012px%3B%20fill%3A%20rgb(89%2C%2089%2C%2089)%3B%20fill-opacity%3A%201%3B%20white-space%3A%20pre%3B%22%20data-unformatted%3D%22C1%22%20data-math%3D%22N%22%20transform%3D%22translate(378.8%2C0)%22%3EC1%3C%2Ftext%3E%3C%2Fg%3E%3Cg%20class%3D%22xtick%22%3E%3Ctext%20text-anchor%3D%22middle%22%20x%3D%220%22%20y%3D%22283.4%22%20style%3D%22font-family%3A%20%26quot%3BOpen%20Sans%26quot%3B%2C%20verdana%2C%20arial%2C%20sans-serif%3B%20font-size%3A%2012px%3B%20fill%3A%20rgb(89%2C%2089%2C%2089)%3B%20fill-opacity%3A%201%3B%20white-space%3A%20pre%3B%22%20data-unformatted%3D%22C2%22%20data-math%3D%22N%22%20transform%3D%22translate(407.26%2C0)%22%3EC2%3C%2Ftext%3E%3C%2Fg%3E%3Cg%20class%3D%22xtick%22%3E%3Ctext%20text-anchor%3D%22middle%22%20x%3D%220%22%20y%3D%22283.4%22%20style%3D%22font-family%3A%20%26quot%3BOpen%20Sans%26quot%3B%2C%20verdana%2C%20arial%2C%20sans-serif%3B%20font-size%3A%2012px%3B%20fill%3A%20rgb(89%2C%2089%2C%2089)%3B%20fill-opacity%3A%201%3B%20white-space%3A%20pre%3B%22%20data-unformatted%3D%22C3%22%20data-math%3D%22N%22%20transform%3D%22translate(435.71%2C0)%22%3EC3%3C%2Ftext%3E%3C%2Fg%3E%3Cg%20class%3D%22xtick%22%3E%3Ctext%20text-anchor%3D%22middle%22%20x%3D%220%22%20y%3D%22283.4%22%20style%3D%22font-family%3A%20%26quot%3BOpen%20Sans%26quot%3B%2C%20verdana%2C%20arial%2C%20sans-serif%3B%20font-size%3A%2012px%3B%20fill%3A%20rgb(89%2C%2089%2C%2089)%3B%20fill-opacity%3A%201%3B%20white-space%3A%20pre%3B%22%20data-unformatted%3D%22C4%22%20data-math%3D%22N%22%20transform%3D%22translate(464.17%2C0)%22%3EC4%3C%2Ftext%3E%3C%2Fg%3E%3Cg%20class%3D%22xtick%22%3E%3Ctext%20text-anchor%3D%22middle%22%20x%3D%220%22%20y%3D%22283.4%22%20style%3D%22font-family%3A%20%26quot%3BOpen%20Sans%26quot%3B%2C%20verdana%2C%20arial%2C%20sans-serif%3B%20font-size%3A%2012px%3B%20fill%3A%20rgb(89%2C%2089%2C%2089)%3B%20fill-opacity%3A%201%3B%20white-space%3A%20pre%3B%22%20data-unformatted%3D%22C5%22%20data-math%3D%22N%22%20transform%3D%22translate(492.63%2C0)%22%3EC5%3C%2Ftext%3E%3C%2Fg%3E%3Cg%20class%3D%22xtick%22%3E%3Ctext%20text-anchor%3D%22middle%22%20x%3D%220%22%20y%3D%22283.4%22%20style%3D%22font-family%3A%20%26quot%3BOpen%20Sans%26quot%3B%2C%20verdana%2C%20arial%2C%20sans-serif%3B%20font-size%3A%2012px%3B%20fill%3A%20rgb(89%2C%2089%2C%2089)%3B%20fill-opacity%3A%201%3B%20white-space%3A%20pre%3B%22%20data-unformatted%3D%22D1%22%20data-math%3D%22N%22%20transform%3D%22translate(521.0899999999999%2C0)%22%3ED1%3C%2Ftext%3E%3C%2Fg%3E%3Cg%20class%3D%22xtick%22%3E%3Ctext%20text-anchor%3D%22middle%22%20x%3D%220%22%20y%3D%22283.4%22%20style%3D%22font-family%3A%20%26quot%3BOpen%20Sans%26quot%3B%2C%20verdana%2C%20arial%2C%20sans-serif%3B%20font-size%3A%2012px%3B%20fill%3A%20rgb(89%2C%2089%2C%2089)%3B%20fill-opacity%3A%201%3B%20white-space%3A%20pre%3B%22%20data-unformatted%3D%22D2%22%20data-math%3D%22N%22%20transform%3D%22translate(549.54%2C0)%22%3ED2%3C%2Ftext%3E%3C%2Fg%3E%3Cg%20class%3D%22xtick%22%3E%3Ctext%20text-anchor%3D%22middle%22%20x%3D%220%22%20y%3D%22283.4%22%20style%3D%22font-family%3A%20%26quot%3BOpen%20Sans%26quot%3B%2C%20verdana%2C%20arial%2C%20sans-serif%3B%20font-size%3A%2012px%3B%20fill%3A%20rgb(89%2C%2089%2C%2089)%3B%20fill-opacity%3A%201%3B%20white-space%3A%20pre%3B%22%20data-unformatted%3D%22D3%22%20data-math%3D%22N%22%20transform%3D%22translate(578%2C0)%22%3ED3%3C%2Ftext%3E%3C%2Fg%3E%3Cg%20class%3D%22xtick%22%3E%3Ctext%20text-anchor%3D%22middle%22%20x%3D%220%22%20y%3D%22283.4%22%20style%3D%22font-family%3A%20%26quot%3BOpen%20Sans%26quot%3B%2C%20verdana%2C%20arial%2C%20sans-serif%3B%20font-size%3A%2012px%3B%20fill%3A%20rgb(89%2C%2089%2C%2089)%3B%20fill-opacity%3A%201%3B%20white-space%3A%20pre%3B%22%20data-unformatted%3D%22D4%22%20data-math%3D%22N%22%20transform%3D%22translate(606.46%2C0)%22%3ED4%3C%2Ftext%3E%3C%2Fg%3E%3Cg%20class%3D%22xtick%22%3E%3Ctext%20text-anchor%3D%22middle%22%20x%3D%220%22%20y%3D%22283.4%22%20style%3D%22font-family%3A%20%26quot%3BOpen%20Sans%26quot%3B%2C%20verdana%2C%20arial%2C%20sans-serif%3B%20font-size%3A%2012px%3B%20fill%3A%20rgb(89%2C%2089%2C%2089)%3B%20fill-opacity%3A%201%3B%20white-space%3A%20pre%3B%22%20data-unformatted%3D%22D5%22%20data-math%3D%22N%22%20transform%3D%22translate(634.91%2C0)%22%3ED5%3C%2Ftext%3E%3C%2Fg%3E%3Cg%20class%3D%22xtick%22%3E%3Ctext%20text-anchor%3D%22middle%22%20x%3D%220%22%20y%3D%22283.4%22%20style%3D%22font-family%3A%20%26quot%3BOpen%20Sans%26quot%3B%2C%20verdana%2C%20arial%2C%20sans-serif%3B%20font-size%3A%2012px%3B%20fill%3A%20rgb(89%2C%2089%2C%2089)%3B%20fill-opacity%3A%201%3B%20white-space%3A%20pre%3B%22%20data-unformatted%3D%22E1%22%20data-math%3D%22N%22%20transform%3D%22translate(663.37%2C0)%22%3EE1%3C%2Ftext%3E%3C%2Fg%3E%3Cg%20class%3D%22xtick%22%3E%3Ctext%20text-anchor%3D%22middle%22%20x%3D%220%22%20y%3D%22283.4%22%20style%3D%22font-family%3A%20%26quot%3BOpen%20Sans%26quot%3B%2C%20verdana%2C%20arial%2C%20sans-serif%3B%20font-size%3A%2012px%3B%20fill%3A%20rgb(89%2C%2089%2C%2089)%3B%20fill-opacity%3A%201%3B%20white-space%3A%20pre%3B%22%20data-unformatted%3D%22E2%22%20data-math%3D%22N%22%20transform%3D%22translate(691.83%2C0)%22%3EE2%3C%2Ftext%3E%3C%2Fg%3E%3Cg%20class%3D%22xtick%22%3E%3Ctext%20text-anchor%3D%22middle%22%20x%3D%220%22%20y%3D%22283.4%22%20style%3D%22font-family%3A%20%26quot%3BOpen%20Sans%26quot%3B%2C%20verdana%2C%20arial%2C%20sans-serif%3B%20font-size%3A%2012px%3B%20fill%3A%20rgb(89%2C%2089%2C%2089)%3B%20fill-opacity%3A%201%3B%20white-space%3A%20pre%3B%22%20data-unformatted%3D%22E3%22%20data-math%3D%22N%22%20transform%3D%22translate(720.29%2C0)%22%3EE3%3C%2Ftext%3E%3C%2Fg%3E%3Cg%20class%3D%22xtick%22%3E%3Ctext%20text-anchor%3D%22middle%22%20x%3D%220%22%20y%3D%22283.4%22%20style%3D%22font-family%3A%20%26quot%3BOpen%20Sans%26quot%3B%2C%20verdana%2C%20arial%2C%20sans-serif%3B%20font-size%3A%2012px%3B%20fill%3A%20rgb(89%2C%2089%2C%2089)%3B%20fill-opacity%3A%201%3B%20white-space%3A%20pre%3B%22%20data-unformatted%3D%22E4%22%20data-math%3D%22N%22%20transform%3D%22translate(748.74%2C0)%22%3EE4%3C%2Ftext%3E%3C%2Fg%3E%3Cg%20class%3D%22xtick%22%3E%3Ctext%20text-anchor%3D%22middle%22%20x%3D%220%22%20y%3D%22283.4%22%20style%3D%22font-family%3A%20%26quot%3BOpen%20Sans%26quot%3B%2C%20verdana%2C%20arial%2C%20sans-serif%3B%20font-size%3A%2012px%3B%20fill%3A%20rgb(89%2C%2089%2C%2089)%3B%20fill-opacity%3A%201%3B%20white-space%3A%20pre%3B%22%20data-unformatted%3D%22E5%22%20data-math%3D%22N%22%20transform%3D%22translate(777.2%2C0)%22%3EE5%3C%2Ftext%3E%3C%2Fg%3E%3Cg%20class%3D%22xtick%22%3E%3Ctext%20text-anchor%3D%22middle%22%20x%3D%220%22%20y%3D%22283.4%22%20style%3D%22font-family%3A%20%26quot%3BOpen%20Sans%26quot%3B%2C%20verdana%2C%20arial%2C%20sans-serif%3B%20font-size%3A%2012px%3B%20fill%3A%20rgb(89%2C%2089%2C%2089)%3B%20fill-opacity%3A%201%3B%20white-space%3A%20pre%3B%22%20data-unformatted%3D%22F1%22%20data-math%3D%22N%22%20transform%3D%22translate(805.66%2C0)%22%3EF1%3C%2Ftext%3E%3C%2Fg%3E%3Cg%20class%3D%22xtick%22%3E%3Ctext%20text-anchor%3D%22middle%22%20x%3D%220%22%20y%3D%22283.4%22%20style%3D%22font-family%3A%20%26quot%3BOpen%20Sans%26quot%3B%2C%20verdana%2C%20arial%2C%20sans-serif%3B%20font-size%3A%2012px%3B%20fill%3A%20rgb(89%2C%2089%2C%2089)%3B%20fill-opacity%3A%201%3B%20white-space%3A%20pre%3B%22%20data-unformatted%3D%22F2%22%20data-math%3D%22N%22%20transform%3D%22translate(834.11%2C0)%22%3EF2%3C%2Ftext%3E%3C%2Fg%3E%3Cg%20class%3D%22xtick%22%3E%3Ctext%20text-anchor%3D%22middle%22%20x%3D%220%22%20y%3D%22283.4%22%20style%3D%22font-family%3A%20%26quot%3BOpen%20Sans%26quot%3B%2C%20verdana%2C%20arial%2C%20sans-serif%3B%20font-size%3A%2012px%3B%20fill%3A%20rgb(89%2C%2089%2C%2089)%3B%20fill-opacity%3A%201%3B%20white-space%3A%20pre%3B%22%20data-unformatted%3D%22F3%22%20data-math%3D%22N%22%20transform%3D%22translate(862.57%2C0)%22%3EF3%3C%2Ftext%3E%3C%2Fg%3E%3Cg%20class%3D%22xtick%22%3E%3Ctext%20text-anchor%3D%22middle%22%20x%3D%220%22%20y%3D%22283.4%22%20style%3D%22font-family%3A%20%26quot%3BOpen%20Sans%26quot%3B%2C%20verdana%2C%20arial%2C%20sans-serif%3B%20font-size%3A%2012px%3B%20fill%3A%20rgb(89%2C%2089%2C%2089)%3B%20fill-opacity%3A%201%3B%20white-space%3A%20pre%3B%22%20data-unformatted%3D%22F4%22%20data-math%3D%22N%22%20transform%3D%22translate(891.03%2C0)%22%3EF4%3C%2Ftext%3E%3C%2Fg%3E%3Cg%20class%3D%22xtick%22%3E%3Ctext%20text-anchor%3D%22middle%22%20x%3D%220%22%20y%3D%22283.4%22%20style%3D%22font-family%3A%20%26quot%3BOpen%20Sans%26quot%3B%2C%20verdana%2C%20arial%2C%20sans-serif%3B%20font-size%3A%2012px%3B%20fill%3A%20rgb(89%2C%2089%2C%2089)%3B%20fill-opacity%3A%201%3B%20white-space%3A%20pre%3B%22%20data-unformatted%3D%22F5%22%20data-math%3D%22N%22%20transform%3D%22translate(919.49%2C0)%22%3EF5%3C%2Ftext%3E%3C%2Fg%3E%3Cg%20class%3D%22xtick%22%3E%3Ctext%20text-anchor%3D%22middle%22%20x%3D%220%22%20y%3D%22283.4%22%20style%3D%22font-family%3A%20%26quot%3BOpen%20Sans%26quot%3B%2C%20verdana%2C%20arial%2C%20sans-serif%3B%20font-size%3A%2012px%3B%20fill%3A%20rgb(89%2C%2089%2C%2089)%3B%20fill-opacity%3A%201%3B%20white-space%3A%20pre%3B%22%20data-unformatted%3D%22G1%22%20data-math%3D%22N%22%20transform%3D%22translate(947.94%2C0)%22%3EG1%3C%2Ftext%3E%3C%2Fg%3E%3Cg%20class%3D%22xtick%22%3E%3Ctext%20text-anchor%3D%22middle%22%20x%3D%220%22%20y%3D%22283.4%22%20style%3D%22font-family%3A%20%26quot%3BOpen%20Sans%26quot%3B%2C%20verdana%2C%20arial%2C%20sans-serif%3B%20font-size%3A%2012px%3B%20fill%3A%20rgb(89%2C%2089%2C%2089)%3B%20fill-opacity%3A%201%3B%20white-space%3A%20pre%3B%22%20data-unformatted%3D%22G2%22%20data-math%3D%22N%22%20transform%3D%22translate(976.4%2C0)%22%3EG2%3C%2Ftext%3E%3C%2Fg%3E%3Cg%20class%3D%22xtick%22%3E%3Ctext%20text-anchor%3D%22middle%22%20x%3D%220%22%20y%3D%22283.4%22%20style%3D%22font-family%3A%20%26quot%3BOpen%20Sans%26quot%3B%2C%20verdana%2C%20arial%2C%20sans-serif%3B%20font-size%3A%2012px%3B%20fill%3A%20rgb(89%2C%2089%2C%2089)%3B%20fill-opacity%3A%201%3B%20white-space%3A%20pre%3B%22%20data-unformatted%3D%22G3%22%20data-math%3D%22N%22%20transform%3D%22translate(1004.86%2C0)%22%3EG3%3C%2Ftext%3E%3C%2Fg%3E%3Cg%20class%3D%22xtick%22%3E%3Ctext%20text-anchor%3D%22middle%22%20x%3D%220%22%20y%3D%22283.4%22%20style%3D%22font-family%3A%20%26quot%3BOpen%20Sans%26quot%3B%2C%20verdana%2C%20arial%2C%20sans-serif%3B%20font-size%3A%2012px%3B%20fill%3A%20rgb(89%2C%2089%2C%2089)%3B%20fill-opacity%3A%201%3B%20white-space%3A%20pre%3B%22%20data-unformatted%3D%22G4%22%20data-math%3D%22N%22%20transform%3D%22translate(1033.31%2C0)%22%3EG4%3C%2Ftext%3E%3C%2Fg%3E%3Cg%20class%3D%22xtick%22%3E%3Ctext%20text-anchor%3D%22middle%22%20x%3D%220%22%20y%3D%22283.4%22%20style%3D%22font-family%3A%20%26quot%3BOpen%20Sans%26quot%3B%2C%20verdana%2C%20arial%2C%20sans-serif%3B%20font-size%3A%2012px%3B%20fill%3A%20rgb(89%2C%2089%2C%2089)%3B%20fill-opacity%3A%201%3B%20white-space%3A%20pre%3B%22%20data-unformatted%3D%22G5%22%20data-math%3D%22N%22%20transform%3D%22translate(1061.77%2C0)%22%3EG5%3C%2Ftext%3E%3C%2Fg%3E%3C%2Fg%3E%3Cg%20class%3D%22yaxislayer-above%22%3E%3Cg%20class%3D%22ytick%22%3E%3Ctext%20text-anchor%3D%22end%22%20x%3D%2276.6%22%20y%3D%224.199999999999999%22%20style%3D%22font-family%3A%20%26quot%3BOpen%20Sans%26quot%3B%2C%20verdana%2C%20arial%2C%20sans-serif%3B%20font-size%3A%2012px%3B%20fill%3A%20rgb(89%2C%2089%2C%2089)%3B%20fill-opacity%3A%201%3B%20white-space%3A%20pre%3B%22%20data-unformatted%3D%220%22%20data-math%3D%22N%22%20transform%3D%22translate(0%2C268)%22%3E0%3C%2Ftext%3E%3C%2Fg%3E%3Cg%20class%3D%22ytick%22%3E%3Ctext%20text-anchor%3D%22end%22%20x%3D%2276.6%22%20y%3D%224.199999999999999%22%20style%3D%22font-family%3A%20%26quot%3BOpen%20Sans%26quot%3B%2C%20verdana%2C%20arial%2C%20sans-serif%3B%20font-size%3A%2012px%3B%20fill%3A%20rgb(89%2C%2089%2C%2089)%3B%20fill-opacity%3A%201%3B%20white-space%3A%20pre%3B%22%20data-unformatted%3D%2210k%22%20data-math%3D%22N%22%20transform%3D%22translate(0%2C223.19)%22%3E10k%3C%2Ftext%3E%3C%2Fg%3E%3Cg%20class%3D%22ytick%22%3E%3Ctext%20text-anchor%3D%22end%22%20x%3D%2276.6%22%20y%3D%224.199999999999999%22%20style%3D%22font-family%3A%20%26quot%3BOpen%20Sans%26quot%3B%2C%20verdana%2C%20arial%2C%20sans-serif%3B%20font-size%3A%2012px%3B%20fill%3A%20rgb(89%2C%2089%2C%2089)%3B%20fill-opacity%3A%201%3B%20white-space%3A%20pre%3B%22%20data-unformatted%3D%2220k%22%20data-math%3D%22N%22%20transform%3D%22translate(0%2C178.39)%22%3E20k%3C%2Ftext%3E%3C%2Fg%3E%3Cg%20class%3D%22ytick%22%3E%3Ctext%20text-anchor%3D%22end%22%20x%3D%2276.6%22%20y%3D%224.199999999999999%22%20style%3D%22font-family%3A%20%26quot%3BOpen%20Sans%26quot%3B%2C%20verdana%2C%20arial%2C%20sans-serif%3B%20font-size%3A%2012px%3B%20fill%3A%20rgb(89%2C%2089%2C%2089)%3B%20fill-opacity%3A%201%3B%20white-space%3A%20pre%3B%22%20data-unformatted%3D%2230k%22%20data-math%3D%22N%22%20transform%3D%22translate(0%2C133.57999999999998)%22%3E30k%3C%2Ftext%3E%3C%2Fg%3E%3Cg%20class%3D%22ytick%22%3E%3Ctext%20text-anchor%3D%22end%22%20x%3D%2276.6%22%20y%3D%224.199999999999999%22%20style%3D%22font-family%3A%20%26quot%3BOpen%20Sans%26quot%3B%2C%20verdana%2C%20arial%2C%20sans-serif%3B%20font-size%3A%2012px%3B%20fill%3A%20rgb(89%2C%2089%2C%2089)%3B%20fill-opacity%3A%201%3B%20white-space%3A%20pre%3B%22%20data-unformatted%3D%2240k%22%20data-math%3D%22N%22%20transform%3D%22translate(0%2C88.78)%22%3E40k%3C%2Ftext%3E%3C%2Fg%3E%3Cg%20class%3D%22ytick%22%3E%3Ctext%20text-anchor%3D%22end%22%20x%3D%2276.6%22%20y%3D%224.199999999999999%22%20style%3D%22font-family%3A%20%26quot%3BOpen%20Sans%26quot%3B%2C%20verdana%2C%20arial%2C%20sans-serif%3B%20font-size%3A%2012px%3B%20fill%3A%20rgb(89%2C%2089%2C%2089)%3B%20fill-opacity%3A%201%3B%20white-space%3A%20pre%3B%22%20data-unformatted%3D%2250k%22%20data-math%3D%22N%22%20transform%3D%22translate(0%2C43.97)%22%3E50k%3C%2Ftext%3E%3C%2Fg%3E%3C%2Fg%3E%3Cg%20class%3D%22overaxes-above%22%2F%3E%3C%2Fg%3E%3C%2Fg%3E%3Cg%20class%3D%22polarlayer%22%2F%3E%3Cg%20class%3D%22ternarylayer%22%2F%3E%3Cg%20class%3D%22geolayer%22%2F%3E%3Cg%20class%3D%22funnelarealayer%22%2F%3E%3Cg%20class%3D%22pielayer%22%2F%3E%3Cg%20class%3D%22treemaplayer%22%2F%3E%3Cg%20class%3D%22sunburstlayer%22%2F%3E%3Cg%20class%3D%22glimages%22%2F%3E%3Cdefs%20id%3D%22topdefs-2b346b%22%3E%3Cg%20class%3D%22clips%22%2F%3E%3CclipPath%20id%3D%22legend2b346b%22%3E%3Crect%20width%3D%2267%22%20height%3D%2258%22%20x%3D%220%22%20y%3D%220%22%2F%3E%3C%2FclipPath%3E%3C%2Fdefs%3E%3Cg%20class%3D%22indicatorlayer%22%2F%3E%3Cg%20class%3D%22layer-above%22%3E%3Cg%20class%3D%22imagelayer%22%2F%3E%3Cg%20class%3D%22shapelayer%22%2F%3E%3C%2Fg%3E%3Cg%20class%3D%22infolayer%22%3E%3Cg%20class%3D%22legend%22%20pointer-events%3D%22all%22%20transform%3D%22translate(1095.92%2C30)%22%3E%3Crect%20class%3D%22bg%22%20shape-rendering%3D%22crispEdges%22%20style%3D%22stroke%3A%20rgb(68%2C%2068%2C%2068)%3B%20stroke-opacity%3A%201%3B%20fill%3A%20rgb(255%2C%20255%2C%20255)%3B%20fill-opacity%3A%201%3B%20stroke-width%3A%200px%3B%22%20width%3D%2267%22%20height%3D%2258%22%20x%3D%220%22%20y%3D%220%22%2F%3E%3Cg%20class%3D%22scrollbox%22%20transform%3D%22%22%20clip-path%3D%22url('%23legend2b346b')%22%3E%3Cg%20class%3D%22groups%22%20transform%3D%22%22%3E%3Cg%20class%3D%22traces%22%20style%3D%22opacity%3A%201%3B%22%20transform%3D%22translate(0%2C14.5)%22%3E%3Ctext%20class%3D%22legendtext%22%20text-anchor%3D%22start%22%20style%3D%22font-family%3A%20%26quot%3BOpen%20Sans%26quot%3B%2C%20verdana%2C%20arial%2C%20sans-serif%3B%20font-size%3A%2012px%3B%20fill%3A%20rgb(89%2C%2089%2C%2089)%3B%20fill-opacity%3A%201%3B%20white-space%3A%20pre%3B%22%20x%3D%2240%22%20y%3D%224.680000000000001%22%20data-unformatted%3D%220.0%22%20data-math%3D%22N%22%3E0.0%3C%2Ftext%3E%3Cg%20class%3D%22layers%22%20style%3D%22opacity%3A%201%3B%22%3E%3Cg%20class%3D%22legendfill%22%2F%3E%3Cg%20class%3D%22legendlines%22%2F%3E%3Cg%20class%3D%22legendsymbols%22%3E%3Cg%20class%3D%22legendpoints%22%3E%3Cpath%20class%3D%22legendundefined%22%20d%3D%22M6%2C6H-6V-6H6Z%22%20transform%3D%22translate(20%2C0)%22%20style%3D%22stroke-width%3A%200px%3B%20fill%3A%20rgb(78%2C%20121%2C%20167)%3B%20fill-opacity%3A%201%3B%22%2F%3E%3C%2Fg%3E%3C%2Fg%3E%3C%2Fg%3E%3Crect%20class%3D%22legendtoggle%22%20style%3D%22cursor%3A%20pointer%3B%20fill%3A%20rgb(0%2C%200%2C%200)%3B%20fill-opacity%3A%200%3B%22%20pointer-events%3D%22all%22%20x%3D%220%22%20y%3D%22-9.5%22%20width%3D%2261.75%22%20height%3D%2219%22%2F%3E%3C%2Fg%3E%3C%2Fg%3E%3Cg%20class%3D%22groups%22%20transform%3D%22translate(0%2C10)%22%3E%3Cg%20class%3D%22traces%22%20style%3D%22opacity%3A%201%3B%22%20transform%3D%22translate(0%2C33.5)%22%3E%3Ctext%20class%3D%22legendtext%22%20text-anchor%3D%22start%22%20style%3D%22font-family%3A%20%26quot%3BOpen%20Sans%26quot%3B%2C%20verdana%2C%20arial%2C%20sans-serif%3B%20font-size%3A%2012px%3B%20fill%3A%20rgb(89%2C%2089%2C%2089)%3B%20fill-opacity%3A%201%3B%20white-space%3A%20pre%3B%22%20x%3D%2240%22%20y%3D%224.680000000000001%22%20data-unformatted%3D%221.0%22%20data-math%3D%22N%22%3E1.0%3C%2Ftext%3E%3Cg%20class%3D%22layers%22%20style%3D%22opacity%3A%201%3B%22%3E%3Cg%20class%3D%22legendfill%22%2F%3E%3Cg%20class%3D%22legendlines%22%2F%3E%3Cg%20class%3D%22legendsymbols%22%3E%3Cg%20class%3D%22legendpoints%22%3E%3Cpath%20class%3D%22legendundefined%22%20d%3D%22M6%2C6H-6V-6H6Z%22%20transform%3D%22translate(20%2C0)%22%20style%3D%22stroke-width%3A%200px%3B%20fill%3A%20rgb(242%2C%20142%2C%2044)%3B%20fill-opacity%3A%201%3B%22%2F%3E%3C%2Fg%3E%3C%2Fg%3E%3C%2Fg%3E%3Crect%20class%3D%22legendtoggle%22%20style%3D%22cursor%3A%20pointer%3B%20fill%3A%20rgb(0%2C%200%2C%200)%3B%20fill-opacity%3A%200%3B%22%20pointer-events%3D%22all%22%20x%3D%220%22%20y%3D%22-9.5%22%20width%3D%2261.75%22%20height%3D%2219%22%2F%3E%3C%2Fg%3E%3C%2Fg%3E%3C%2Fg%3E%3Crect%20class%3D%22scrollbar%22%20rx%3D%2220%22%20ry%3D%223%22%20width%3D%220%22%20height%3D%220%22%20style%3D%22fill%3A%20rgb(128%2C%20139%2C%20164)%3B%20fill-opacity%3A%201%3B%22%20x%3D%220%22%20y%3D%220%22%2F%3E%3C%2Fg%3E%3Cg%20class%3D%22g-gtitle%22%2F%3E%3Cg%20class%3D%22g-xtitle%22%2F%3E%3Cg%20class%3D%22g-ytitle%22%2F%3E%3C%2Fg%3E%3Cg%20class%3D%22menulayer%22%2F%3E%3Cg%20class%3D%22zoomlayer%22%2F%3E%3Cg%20class%3D%22hoverlayer%22%2F%3E%3C%2Fsvg%3E\">"
      ],
      "text/plain": [
       "Open the notebook in JupyterLab with the atoti extension installed and enabled to start editing this widget."
      ]
     },
     "metadata": {},
     "output_type": "display_data"
    }
   ],
   "source": [
    "session.visualize(\"Bad loans by grade\")"
   ]
  },
  {
   "cell_type": "code",
   "execution_count": null,
   "metadata": {},
   "outputs": [],
   "source": []
  }
 ],
 "metadata": {
  "kernelspec": {
   "display_name": "Python 3",
   "language": "python",
   "name": "python3"
  },
  "language_info": {
   "codemirror_mode": {
    "name": "ipython",
    "version": 3
   },
   "file_extension": ".py",
   "mimetype": "text/x-python",
   "name": "python",
   "nbconvert_exporter": "python",
   "pygments_lexer": "ipython3",
   "version": "3.9.1"
  }
 },
 "nbformat": 4,
 "nbformat_minor": 4
}
