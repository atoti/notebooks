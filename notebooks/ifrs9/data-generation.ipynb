{
 "cells": [
  {
   "cell_type": "code",
   "execution_count": null,
   "id": "thorough-yacht",
   "metadata": {},
   "outputs": [],
   "source": [
    "import pandas as pd\n",
    "\n",
    "pd.set_option(\"display.max_rows\", None)\n",
    "pd.set_option(\"display.max_columns\", None)"
   ]
  },
  {
   "cell_type": "code",
   "execution_count": null,
   "id": "stretch-sunset",
   "metadata": {},
   "outputs": [],
   "source": [
    "import os\n",
    "import shutil\n",
    "\n",
    "shutil.rmtree(\"lending-club-data\")\n",
    "os.mkdir(\"lending-club-data\")\n",
    "os.mkdir(\"lending-club-data/risk-engine\")"
   ]
  },
  {
   "cell_type": "markdown",
   "id": "muslim-northern",
   "metadata": {},
   "source": [
    "# Original data"
   ]
  },
  {
   "cell_type": "code",
   "execution_count": null,
   "id": "coated-algeria",
   "metadata": {},
   "outputs": [],
   "source": [
    "df = pd.read_csv(\"source-data/loan.csv\", dtype=str, parse_dates=[\"issue_d\"])\n",
    "df.shape"
   ]
  },
  {
   "cell_type": "markdown",
   "id": "tutorial-nevada",
   "metadata": {
    "execution": {
     "iopub.execute_input": "2021-02-12T00:56:15.585729Z",
     "iopub.status.busy": "2021-02-12T00:56:15.585548Z",
     "iopub.status.idle": "2021-02-12T00:56:15.594394Z",
     "shell.execute_reply": "2021-02-12T00:56:15.593835Z",
     "shell.execute_reply.started": "2021-02-12T00:56:15.585711Z"
    }
   },
   "source": [
    "# Enriching original data"
   ]
  },
  {
   "cell_type": "code",
   "execution_count": null,
   "id": "written-advertising",
   "metadata": {},
   "outputs": [],
   "source": [
    "bad_loan = [\n",
    "    \"Charged Off\",\n",
    "    \"Default\",\n",
    "    \"Does not meet the credit policy. Status:Charged Off\",\n",
    "    \"In Grace Period\",\n",
    "    \"Late (16-30 days)\",\n",
    "    \"Late (31-120 days)\",\n",
    "]\n",
    "\n",
    "\n",
    "def classification(x):\n",
    "    return 1.0 if x[\"loan_status\"] in bad_loan else 0.0\n",
    "\n",
    "\n",
    "import datetime\n",
    "\n",
    "\n",
    "def def_date(x):\n",
    "    dd = \"\"\n",
    "    per = int(x[\"term\"].strip()[:2])\n",
    "    if x[\"loan_status\"] in bad_loan:\n",
    "        #         dd = random.choice(pd.date_range(x[\"issue_date\"], periods=per, freq=\"M\"))\n",
    "        #         random_num = float(x[\"id\"]) % per  # random number from 0 to 36  or 60\n",
    "        #         random_month = (random_num / 4) ** 2 if random_num < 18 else random_num\n",
    "        random_month = float(x[\"id\"]) % per\n",
    "        dd = x[\"issue_d\"] + datetime.timedelta(weeks=(random_month * 4))\n",
    "    return dd\n",
    "\n",
    "\n",
    "from dateutil.relativedelta import relativedelta\n",
    "\n",
    "\n",
    "def maturity_date(x):\n",
    "    per = int(x[\"term\"].strip()[:2])\n",
    "    md = x[\"issue_d\"] + relativedelta(months=per)\n",
    "    return md"
   ]
  },
  {
   "cell_type": "code",
   "execution_count": null,
   "id": "specialized-respect",
   "metadata": {},
   "outputs": [],
   "source": [
    "df[\"Opening Year\"] = df[\"issue_d\"].dt.year\n",
    "df[\"Opening Month\"] = df[\"issue_d\"].dt.month\n",
    "df[\"Opening Day\"] = df[\"issue_d\"].dt.day"
   ]
  },
  {
   "cell_type": "code",
   "execution_count": null,
   "id": "miniature-ecuador",
   "metadata": {},
   "outputs": [],
   "source": [
    "df[\"maturity_date\"] = df.apply(lambda x: maturity_date(x), axis=1)"
   ]
  },
  {
   "cell_type": "code",
   "execution_count": null,
   "id": "formal-madness",
   "metadata": {},
   "outputs": [],
   "source": [
    "df[\"loan_class\"] = df.apply(lambda x: classification(x), axis=1)"
   ]
  },
  {
   "cell_type": "code",
   "execution_count": null,
   "id": "phantom-deputy",
   "metadata": {},
   "outputs": [],
   "source": [
    "df[\"default_date\"] = df.apply(lambda x: def_date(x), axis=1)"
   ]
  },
  {
   "cell_type": "markdown",
   "id": "opened-revolution",
   "metadata": {},
   "source": [
    "# Computing historical PDs"
   ]
  },
  {
   "cell_type": "code",
   "execution_count": null,
   "id": "australian-supplier",
   "metadata": {},
   "outputs": [],
   "source": [
    "import numpy as np\n",
    "\n",
    "df = df.replace(np.nan, \"\")\n",
    "opening_pds = pd.pivot_table(\n",
    "    df,\n",
    "    index=[\"sub_grade\", \"emp_length\", \"home_ownership\"],\n",
    "    values=[\"loan_class\"],\n",
    "    aggfunc=np.mean,\n",
    ").reset_index()\n",
    "opening_pds.rename(columns={\"loan_class\": \"Opening PD12\"}, inplace=True)\n",
    "opening_pds[\"Opening PDLT\"] = opening_pds[\"Opening PD12\"] * 1.2\n",
    "opening_pds.head(3)"
   ]
  },
  {
   "cell_type": "markdown",
   "id": "chemical-butter",
   "metadata": {},
   "source": [
    "# Generating risk reports"
   ]
  },
  {
   "cell_type": "code",
   "execution_count": null,
   "id": "divine-catering",
   "metadata": {},
   "outputs": [],
   "source": [
    "import random\n",
    "\n",
    "\n",
    "def loan_matured(x, reporting_date):\n",
    "    return reporting_date > x[\"maturity_date\"]\n",
    "\n",
    "\n",
    "def just_issued(x, reporting_date):\n",
    "    return x[\"issue_date\"] == reporting_date\n",
    "\n",
    "\n",
    "def initial_stage(x):\n",
    "    return 1 if x[\"PD12\"] < 0.05 else 2\n",
    "\n",
    "\n",
    "def initial_pd(x):\n",
    "    #     print(x['id'], x[\"sub_grade\"], x[\"emp_length\"],x[\"home_ownership\"] )\n",
    "    init_pd = opening_pds[\n",
    "        (opening_pds.sub_grade == x[\"sub_grade\"])\n",
    "        & (opening_pds.emp_length == x[\"emp_length\"])\n",
    "        & (opening_pds.home_ownership == x[\"home_ownership\"])\n",
    "    ][\"Opening PD12\"].iloc[0]\n",
    "    return init_pd if init_pd > 0 else 0.0001\n",
    "\n",
    "\n",
    "def initial_pdlt(x):\n",
    "    return opening_pds[\n",
    "        (opening_pds.sub_grade == x[\"sub_grade\"])\n",
    "        & (opening_pds.emp_length == x[\"emp_length\"])\n",
    "        & (opening_pds.home_ownership == x[\"home_ownership\"])\n",
    "    ][\"Opening PDLT\"].iloc[0]\n",
    "\n",
    "\n",
    "def pd_one(x, reporting_date):\n",
    "    if x[\"just_issued\"]:\n",
    "        pd_one = initial_pd(x)\n",
    "    else:\n",
    "        pd_one = x[\"Previous PD12\"]\n",
    "        pd_one = max(min(pd_one * random.gauss(1, 0.2), 0.9), 0.001)\n",
    "    return pd_one\n",
    "\n",
    "\n",
    "def pd_lt(x, reporting_date):\n",
    "    pd_lt = x[\"PD12\"] * 1.2\n",
    "    return min(pd_lt, 0.9)\n",
    "\n",
    "\n",
    "def stage(x, reporting_date):\n",
    "    pd_one = x[\"PD12\"]\n",
    "    op_pd = x[\"Opening PD12\"]\n",
    "\n",
    "    stage = x[\"Previous Stage\"]\n",
    "\n",
    "    if pd_one / op_pd > 1.7:\n",
    "        stage = min(2, stage + 1)\n",
    "    if isinstance(x[\"default_date\"], datetime.date):\n",
    "        if reporting_date >= x[\"default_date\"]:\n",
    "            stage = 3\n",
    "    if pd_one > 0.7:\n",
    "        stage = 3\n",
    "    return stage\n",
    "\n",
    "\n",
    "def dayspastdue(x, reporting_date):\n",
    "    npl = \"\"\n",
    "    if isinstance(x[\"default_date\"], datetime.date):\n",
    "        if reporting_date >= x[\"default_date\"]:\n",
    "            delta = reporting_date - x[\"default_date\"]\n",
    "            npl = delta.days\n",
    "    return npl"
   ]
  },
  {
   "cell_type": "markdown",
   "id": "peripheral-guyana",
   "metadata": {},
   "source": [
    "# Risk data reports"
   ]
  },
  {
   "cell_type": "code",
   "execution_count": null,
   "id": "efficient-rebecca",
   "metadata": {},
   "outputs": [],
   "source": [
    "df_copy = df.copy()\n",
    "df = df.sample(15000)"
   ]
  },
  {
   "cell_type": "code",
   "execution_count": null,
   "id": "appreciated-watson",
   "metadata": {},
   "outputs": [],
   "source": [
    "import pandas as pd\n",
    "\n",
    "temp = pd.DataFrame()\n",
    "reporting_dates = sorted(list(set(df[\"issue_d\"])))\n",
    "\n",
    "\n",
    "def diff_month(d1, d2):\n",
    "    return (d1.year - d2.year) * 12 + d1.month - d2.month\n",
    "\n",
    "\n",
    "for rd in reporting_dates:\n",
    "    # Old\n",
    "    temp = temp.copy()\n",
    "    if not temp.empty:\n",
    "        #         temp.rename(columns = {'PD12': 'Previous PD12', 'PDLT': 'Previous PDLT', 'EAD': 'Previous EAD', 'LGD': 'Previous LGD', 'Stage': 'Previous Stage'}, inplace = True)\n",
    "        temp[\"Previous PD12\"] = temp[\"PD12\"]\n",
    "        temp[\"Previous PDLT\"] = temp[\"PDLT\"]\n",
    "        temp[\"Previous EAD\"] = temp[\"EAD\"]\n",
    "        temp[\"Previous LGD\"] = temp[\"LGD\"]\n",
    "        temp[\"Previous Stage\"] = temp[\"Stage\"]\n",
    "        temp[\"just_issued\"] = False\n",
    "        temp[\"PD12\"] = temp.apply(lambda x: pd_one(x, rd), axis=1)\n",
    "        temp[\"PDLT\"] = temp.apply(lambda x: pd_lt(x, rd), axis=1)\n",
    "        temp[\"LGD\"] = random.choice([0.6, 0.7, 0.8, 0.81])\n",
    "        temp[\"EAD\"] = temp[\"Previous EAD\"] * random.gauss(1, 0.05)\n",
    "        temp[\"Stage\"] = temp.apply(lambda x: stage(x, rd), axis=1)\n",
    "\n",
    "    # New\n",
    "    sub = df[df.issue_d == rd].copy()\n",
    "    sub[\"just_issued\"] = True\n",
    "    sub[\"Opening PD12\"] = sub.apply(lambda x: initial_pd(x), axis=1)\n",
    "    sub[\"Opening PDLT\"] = sub.apply(lambda x: initial_pdlt(x), axis=1)\n",
    "    sub[\"PD12\"] = sub[\"Opening PD12\"]\n",
    "    sub[\"PDLT\"] = sub[\"Opening PDLT\"]\n",
    "    sub[\"EAD\"] = sub[\"loan_amnt\"].astype(float)\n",
    "    sub[\"LGD\"] = 0.8\n",
    "\n",
    "    sub[\"Stage\"] = sub.apply(lambda x: initial_stage(x), axis=1)\n",
    "\n",
    "    sub[\"Previous PD12\"] = sub[\"PD12\"]\n",
    "    sub[\"Previous PDLT\"] = sub[\"PDLT\"]\n",
    "    sub[\"Previous EAD\"] = sub[\"EAD\"]\n",
    "    sub[\"Previous LGD\"] = sub[\"LGD\"]\n",
    "    sub[\"Previous Stage\"] = sub[\"Stage\"]\n",
    "\n",
    "    temp = pd.concat([temp, sub], ignore_index=True)\n",
    "\n",
    "    temp[\"DaysPastDue\"] = temp.apply(lambda x: dayspastdue(x, rd), axis=1)\n",
    "    temp[\"Reporting Date\"] = rd.strftime(\"%Y-%m-%d\")\n",
    "\n",
    "    temp[\"Months Since Inception\"] = temp.apply(\n",
    "        lambda x: diff_month(rd, x[\"issue_d\"]), axis=1\n",
    "    )\n",
    "    temp[\"loan_matured\"] = temp.apply(lambda x: loan_matured(x, rd), axis=1)\n",
    "    temp = temp[temp.loan_matured == False].copy()\n",
    "    print(rd, temp.shape[0])\n",
    "\n",
    "    temp[\n",
    "        [\n",
    "            \"id\",\n",
    "            \"PD12\",\n",
    "            \"PDLT\",\n",
    "            \"EAD\",\n",
    "            \"LGD\",\n",
    "            \"Stage\",\n",
    "            \"Previous PD12\",\n",
    "            \"Previous PDLT\",\n",
    "            \"Previous EAD\",\n",
    "            \"Previous LGD\",\n",
    "            \"Previous Stage\",\n",
    "            \"Reporting Date\",\n",
    "            \"DaysPastDue\",\n",
    "            \"Months Since Inception\",\n",
    "        ]\n",
    "    ].to_csv(\n",
    "        \"lending-club-data/risk-engine/\" + rd.strftime(\"%Y-%m-%d\") + \".csv\", index=False\n",
    "    )"
   ]
  },
  {
   "cell_type": "markdown",
   "id": "material-sender",
   "metadata": {},
   "source": [
    "# Static data"
   ]
  },
  {
   "cell_type": "code",
   "execution_count": null,
   "id": "focused-township",
   "metadata": {},
   "outputs": [],
   "source": [
    "df_c = pd.merge(\n",
    "    left=df[[\"id\", \"default_date\", \"sub_grade\", \"emp_length\", \"home_ownership\"]],\n",
    "    right=opening_pds,\n",
    "    on=[\"sub_grade\", \"emp_length\", \"home_ownership\"],\n",
    "    how=\"left\",\n",
    ")"
   ]
  },
  {
   "cell_type": "code",
   "execution_count": null,
   "id": "amazing-steel",
   "metadata": {},
   "outputs": [],
   "source": [
    "df_c[[\"id\", \"default_date\", \"Opening PD12\", \"Opening PDLT\"]].to_csv(\n",
    "    \"lending-club-data/static.csv\", index=False\n",
    ")"
   ]
  },
  {
   "cell_type": "code",
   "execution_count": null,
   "id": "specialized-mirror",
   "metadata": {},
   "outputs": [],
   "source": [
    "df[\n",
    "    [\n",
    "        \"id\",\n",
    "        \"member_id\",\n",
    "        \"loan_amnt\",\n",
    "        \"funded_amnt\",\n",
    "        \"funded_amnt_inv\",\n",
    "        \"term\",\n",
    "        \"int_rate\",\n",
    "        \"installment\",\n",
    "        \"grade\",\n",
    "        \"sub_grade\",\n",
    "        \"emp_title\",\n",
    "        \"emp_length\",\n",
    "        \"home_ownership\",\n",
    "        \"annual_inc\",\n",
    "        \"verification_status\",\n",
    "        \"issue_d\",\n",
    "        \"loan_status\",\n",
    "        \"pymnt_plan\",\n",
    "        \"url\",\n",
    "        \"desc\",\n",
    "        \"purpose\",\n",
    "        \"title\",\n",
    "        \"zip_code\",\n",
    "        \"addr_state\",\n",
    "        \"dti\",\n",
    "        \"delinq_2yrs\",\n",
    "        \"earliest_cr_line\",\n",
    "        \"inq_last_6mths\",\n",
    "        \"mths_since_last_delinq\",\n",
    "        \"mths_since_last_record\",\n",
    "        \"open_acc\",\n",
    "        \"pub_rec\",\n",
    "        \"revol_bal\",\n",
    "        \"revol_util\",\n",
    "        \"total_acc\",\n",
    "        \"initial_list_status\",\n",
    "        \"out_prncp\",\n",
    "        \"out_prncp_inv\",\n",
    "        \"total_pymnt\",\n",
    "        \"total_pymnt_inv\",\n",
    "        \"total_rec_prncp\",\n",
    "        \"total_rec_int\",\n",
    "        \"total_rec_late_fee\",\n",
    "        \"recoveries\",\n",
    "        \"collection_recovery_fee\",\n",
    "        \"last_pymnt_d\",\n",
    "        \"last_pymnt_amnt\",\n",
    "        \"next_pymnt_d\",\n",
    "        \"last_credit_pull_d\",\n",
    "        \"collections_12_mths_ex_med\",\n",
    "        \"mths_since_last_major_derog\",\n",
    "        \"policy_code\",\n",
    "        \"application_type\",\n",
    "        \"annual_inc_joint\",\n",
    "        \"dti_joint\",\n",
    "        \"verification_status_joint\",\n",
    "        \"acc_now_delinq\",\n",
    "        \"tot_coll_amt\",\n",
    "        \"tot_cur_bal\",\n",
    "        \"open_acc_6m\",\n",
    "        \"open_il_6m\",\n",
    "        \"open_il_12m\",\n",
    "        \"open_il_24m\",\n",
    "        \"mths_since_rcnt_il\",\n",
    "        \"total_bal_il\",\n",
    "        \"il_util\",\n",
    "        \"open_rv_12m\",\n",
    "        \"open_rv_24m\",\n",
    "        \"max_bal_bc\",\n",
    "        \"all_util\",\n",
    "        \"total_rev_hi_lim\",\n",
    "        \"inq_fi\",\n",
    "        \"total_cu_tl\",\n",
    "        \"inq_last_12m\",\n",
    "        \"Opening Year\",\n",
    "        \"Opening Month\",\n",
    "        \"Opening Day\",\n",
    "        \"maturity_date\",\n",
    "    ]\n",
    "].to_csv(\"lending-club-data/loans.csv\", index=False)"
   ]
  },
  {
   "cell_type": "markdown",
   "id": "descending-deposit",
   "metadata": {},
   "source": [
    "# Zipping"
   ]
  },
  {
   "cell_type": "code",
   "execution_count": 4,
   "id": "possible-accounting",
   "metadata": {
    "execution": {
     "iopub.execute_input": "2021-02-12T05:00:08.562020Z",
     "iopub.status.busy": "2021-02-12T05:00:08.561740Z",
     "iopub.status.idle": "2021-02-12T05:00:09.064425Z",
     "shell.execute_reply": "2021-02-12T05:00:09.063491Z",
     "shell.execute_reply.started": "2021-02-12T05:00:08.561990Z"
    }
   },
   "outputs": [
    {
     "name": "stdout",
     "output_type": "stream",
     "text": [
      "  adding: loans.csv (deflated 75%)\n"
     ]
    }
   ],
   "source": [
    "!cd lending-club-data && zip -r \"loans.zip\" \"loans.csv\" -x \"*.ipynb_checkpoints*\"\n",
    "!cd lending-club-data && rm loans.csv"
   ]
  },
  {
   "cell_type": "code",
   "execution_count": 5,
   "id": "turkish-spray",
   "metadata": {
    "execution": {
     "iopub.execute_input": "2021-02-12T05:00:10.669132Z",
     "iopub.status.busy": "2021-02-12T05:00:10.668841Z",
     "iopub.status.idle": "2021-02-12T05:00:10.947977Z",
     "shell.execute_reply": "2021-02-12T05:00:10.944912Z",
     "shell.execute_reply.started": "2021-02-12T05:00:10.669102Z"
    }
   },
   "outputs": [
    {
     "name": "stdout",
     "output_type": "stream",
     "text": [
      "  adding: static.csv (deflated 74%)\n"
     ]
    }
   ],
   "source": [
    "!cd lending-club-data && zip -r \"static.zip\" \"static.csv\" -x \"*.ipynb_checkpoints*\"\n",
    "!cd lending-club-data && rm static.csv"
   ]
  },
  {
   "cell_type": "code",
   "execution_count": 6,
   "id": "colored-mustang",
   "metadata": {
    "execution": {
     "iopub.execute_input": "2021-02-12T05:00:12.430774Z",
     "iopub.status.busy": "2021-02-12T05:00:12.430538Z",
     "iopub.status.idle": "2021-02-12T05:00:14.523239Z",
     "shell.execute_reply": "2021-02-12T05:00:14.522134Z",
     "shell.execute_reply.started": "2021-02-12T05:00:12.430747Z"
    }
   },
   "outputs": [],
   "source": [
    "!cd lending-club-data && zip -r -q \"risk-engine.zip\" \"risk-engine/\" -x \"*.ipynb_checkpoints*\"\n",
    "!cd lending-club-data && rm -r -f risk-engine/"
   ]
  },
  {
   "cell_type": "code",
   "execution_count": null,
   "id": "geological-basic",
   "metadata": {},
   "outputs": [],
   "source": [
    "!cd lending-club-data && yes | unzip risk-engine.zip"
   ]
  },
  {
   "cell_type": "code",
   "execution_count": null,
   "id": "needed-necklace",
   "metadata": {},
   "outputs": [],
   "source": [
    "# !cd lending-club-data && rm -rf find -type d -name .ipynb_checkpoints`"
   ]
  },
  {
   "cell_type": "code",
   "execution_count": 3,
   "id": "binding-techno",
   "metadata": {
    "execution": {
     "iopub.execute_input": "2021-02-12T04:59:28.552657Z",
     "iopub.status.busy": "2021-02-12T04:59:28.552447Z",
     "iopub.status.idle": "2021-02-12T04:59:28.678632Z",
     "shell.execute_reply": "2021-02-12T04:59:28.677427Z",
     "shell.execute_reply.started": "2021-02-12T04:59:28.552633Z"
    }
   },
   "outputs": [
    {
     "name": "stdout",
     "output_type": "stream",
     "text": [
      "\u001b[1m\u001b[36m.\u001b[m\u001b[m              2009-05-01.csv 2011-02-01.csv 2012-11-01.csv 2014-08-01.csv\n",
      "\u001b[1m\u001b[36m..\u001b[m\u001b[m             2009-06-01.csv 2011-03-01.csv 2012-12-01.csv 2014-09-01.csv\n",
      "2007-06-01.csv 2009-07-01.csv 2011-04-01.csv 2013-01-01.csv 2014-10-01.csv\n",
      "2007-08-01.csv 2009-08-01.csv 2011-05-01.csv 2013-02-01.csv 2014-11-01.csv\n",
      "2007-09-01.csv 2009-09-01.csv 2011-06-01.csv 2013-03-01.csv 2014-12-01.csv\n",
      "2007-10-01.csv 2009-10-01.csv 2011-07-01.csv 2013-04-01.csv 2015-01-01.csv\n",
      "2007-11-01.csv 2009-11-01.csv 2011-08-01.csv 2013-05-01.csv 2015-02-01.csv\n",
      "2007-12-01.csv 2009-12-01.csv 2011-09-01.csv 2013-06-01.csv 2015-03-01.csv\n",
      "2008-01-01.csv 2010-01-01.csv 2011-10-01.csv 2013-07-01.csv 2015-04-01.csv\n",
      "2008-02-01.csv 2010-02-01.csv 2011-11-01.csv 2013-08-01.csv 2015-05-01.csv\n",
      "2008-03-01.csv 2010-03-01.csv 2011-12-01.csv 2013-09-01.csv 2015-06-01.csv\n",
      "2008-04-01.csv 2010-04-01.csv 2012-01-01.csv 2013-10-01.csv 2015-07-01.csv\n",
      "2008-06-01.csv 2010-05-01.csv 2012-02-01.csv 2013-11-01.csv 2015-08-01.csv\n",
      "2008-07-01.csv 2010-06-01.csv 2012-03-01.csv 2013-12-01.csv 2015-09-01.csv\n",
      "2008-08-01.csv 2010-07-01.csv 2012-04-01.csv 2014-01-01.csv 2015-10-01.csv\n",
      "2008-11-01.csv 2010-08-01.csv 2012-05-01.csv 2014-02-01.csv 2015-11-01.csv\n",
      "2008-12-01.csv 2010-09-01.csv 2012-06-01.csv 2014-03-01.csv 2015-12-01.csv\n",
      "2009-01-01.csv 2010-10-01.csv 2012-07-01.csv 2014-04-01.csv\n",
      "2009-02-01.csv 2010-11-01.csv 2012-08-01.csv 2014-05-01.csv\n",
      "2009-03-01.csv 2010-12-01.csv 2012-09-01.csv 2014-06-01.csv\n",
      "2009-04-01.csv 2011-01-01.csv 2012-10-01.csv 2014-07-01.csv\n"
     ]
    }
   ],
   "source": [
    "!cd lending-club-data/risk-engine && ls -a"
   ]
  },
  {
   "cell_type": "code",
   "execution_count": null,
   "id": "alert-butler",
   "metadata": {},
   "outputs": [],
   "source": [
    "!cd lending-club-data && ls -lrt"
   ]
  },
  {
   "cell_type": "code",
   "execution_count": null,
   "id": "motivated-driving",
   "metadata": {},
   "outputs": [],
   "source": [
    "!zip -r bitvolution.zip ./bitvolution"
   ]
  }
 ],
 "metadata": {
  "kernelspec": {
   "display_name": "Python 3 (ipykernel)",
   "language": "python",
   "name": "python3"
  },
  "language_info": {
   "codemirror_mode": {
    "name": "ipython",
    "version": 3
   },
   "file_extension": ".py",
   "mimetype": "text/x-python",
   "name": "python",
   "nbconvert_exporter": "python",
   "pygments_lexer": "ipython3",
   "version": "3.9.1"
  }
 },
 "nbformat": 4,
 "nbformat_minor": 5
}
