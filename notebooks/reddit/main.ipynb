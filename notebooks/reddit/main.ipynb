{
 "cells": [
  {
   "cell_type": "markdown",
   "metadata": {
    "execution": {
     "iopub.status.idle": "2020-07-23T05:31:14.898946Z",
     "shell.execute_reply": "2020-07-23T05:31:14.897998Z",
     "shell.execute_reply.started": "2020-07-23T05:31:13.964682Z"
    }
   },
   "source": [
    "# NLP exploration with Reddit data\n",
    "\n",
    "I came across this old article about [Creating a Data Table using Data from Reddit](https://medium.com/swlh/dashboards-in-python-using-dash-creating-a-data-table-using-data-from-reddit-1d6c0cecb4bd) and I enjoyed the idea of [Reddit](https://www.reddit.com/) data exploration. So I thought, why not try it out with atoti?\n",
    "\n",
    "That is indeed what I did. It's a pretty short notebook used to explore the data downloaded with [atoti](https://www.atoti.io/).\n",
    "Hence I did some additional work:\n",
    "- [Natural Language Processing (NLP)](https://en.wikipedia.org/wiki/Natural_language_processing) with [spaCy](https://spacy.io/) to extract [named entities](https://spacy.io/api/annotation#named-entities)\n",
    "- Real-time dashboarding with atoti\n",
    "\n",
    "To achieve real-time, I used threads to trigger the below process flow on regular intervals:\n",
    "\n",
    "<img src=\"https://data.atoti.io/notebooks/reddit/thread_task.png\" alt=\"atoti table\" width=\"800\"/>\n",
    "\n",
    "### Pre-requisite:\n",
    "You should have the Reddit [API key](https://medium.com/swlh/dashboards-in-python-using-dash-creating-a-data-table-using-data-from-reddit-1d6c0cecb4bd#08db) in order to perform scraping with PRAW.  \n",
    "Also, uncomment and run the next 2 commands if you haven't install spaCy before."
   ]
  },
  {
   "cell_type": "code",
   "execution_count": 1,
   "metadata": {},
   "outputs": [],
   "source": [
    "# if this doesn't work, try running pip install praw in terminal\n",
    "# !pip install praw spacy"
   ]
  },
  {
   "cell_type": "code",
   "execution_count": 2,
   "metadata": {},
   "outputs": [],
   "source": [
    "# This only has to be downloaded once. Uncomment if you haven't\n",
    "# !python -m spacy download en_core_web_sm"
   ]
  },
  {
   "cell_type": "code",
   "execution_count": 3,
   "metadata": {},
   "outputs": [],
   "source": [
    "import sched\n",
    "import time\n",
    "from collections import Counter\n",
    "from datetime import datetime\n",
    "\n",
    "import atoti as tt\n",
    "import pandas as pd\n",
    "import praw\n",
    "import spacy\n",
    "from atoti.config import create_config"
   ]
  },
  {
   "cell_type": "markdown",
   "metadata": {},
   "source": [
    "## NLP with spaCy and atoti  \n",
    "\n",
    "I'm going to use spaCy to perform some NLP to extract different named entities from the posting.  \n",
    "To do so, I have found a nice [reference](https://realpython.com/natural-language-processing-spacy-python/) article. Let's start by loading the [starter model](https://spacy.io/models) from spaCy."
   ]
  },
  {
   "cell_type": "code",
   "execution_count": 4,
   "metadata": {},
   "outputs": [],
   "source": [
    "nlp = spacy.load(\"en_core_web_sm\")"
   ]
  },
  {
   "cell_type": "markdown",
   "metadata": {},
   "source": [
    "#### NLP - Extracting named entities with spaCy\n",
    "\n",
    "Before going into the implementation of the NLP, I'm creating a `entities.csv` to which I will write the entities’ attributes once I extracted them from the post.  \n",
    "This is in preparation for real-time data loading into atoti datacube where I could leverage on the `watch` feature of `session.read_csv` to trigger the loading on update of the file.  "
   ]
  },
  {
   "cell_type": "code",
   "execution_count": 5,
   "metadata": {},
   "outputs": [],
   "source": [
    "entity_file_name = \"entities.csv\"\n",
    "entity_file = open(entity_file_name, \"w\", encoding=\"utf-8\")\n",
    "entity_file.write(\"id|category|text|text count\\n\")\n",
    "entity_file.flush()"
   ]
  },
  {
   "cell_type": "markdown",
   "metadata": {},
   "source": [
    "With spaCy, I am going to extract the following [named entities](https://spacy.io/api/annotation#named-entities) from each Reddit posting:  \n",
    "- Organizations\n",
    "- Person\n",
    "- Geographical Locations\n",
    "- Events\n",
    "- Product\n",
    "- NORP (Nationalities/religious/political groups)\n",
    "\n",
    "In the `get_post_entity` function below, I create a processed [Doc](https://spacy.io/api/doc) object that gives a sequence of [tokens](https://spacy.io/api/token) for each post. Using the tokens, I can identify the entity with its label.  \n",
    "\n",
    "By using `Counter(list).items()`, I will be able to get a list containing all the terms related to the mentioned entity type and the number of time it appeared. \n",
    "Note that you could also get _n_ number of _most common_ items from the list using [Counter](https://docs.python.org/2/library/collections.html). However, I chose to get all items as I could easily use atoti's filter to achieve the same result. \n",
    "\n",
    "The list of entities with its post's id is output to the `entities.csv` created above.  "
   ]
  },
  {
   "cell_type": "code",
   "execution_count": 6,
   "metadata": {},
   "outputs": [],
   "source": [
    "# convert list of tuples to list of entity with its attributes\n",
    "def get_entity_list(id, category, item_list):\n",
    "    # perform data clean up such as trim and removing line break and double-quotes\n",
    "    return list(\n",
    "        map(\n",
    "            lambda a: \"|\".join(\n",
    "                '\"{}\"'.format(str(e).strip().replace(\"\\n\", \" \").replace('\"', '\"\"'))\n",
    "                for e in (\n",
    "                    (\n",
    "                        id,\n",
    "                        category,\n",
    "                    )\n",
    "                    + a\n",
    "                )\n",
    "            ),\n",
    "            list(item_list),\n",
    "        )\n",
    "    )\n",
    "\n",
    "\n",
    "# for each posting/title, we extract the entities\n",
    "def get_post_entity(id, text):\n",
    "\n",
    "    post_entity = []\n",
    "    org_list = []\n",
    "    person_list = []\n",
    "    gpe_list = []\n",
    "    event_list = []\n",
    "    product_list = []\n",
    "    norp_list = []\n",
    "\n",
    "    nlp_text = nlp(text)\n",
    "    # ent is a Span object with various attributes\n",
    "    for ent in nlp_text.ents:\n",
    "        if ent.label_ == \"ORG\":\n",
    "            org_list.append(ent.text)\n",
    "        elif ent.label_ == \"PERSON\":\n",
    "            person_list.append(ent.text)\n",
    "        elif ent.label_ == \"GPE\":\n",
    "            gpe_list.append(ent.text)\n",
    "        elif ent.label_ == \"EVENT\":\n",
    "            event_list.append(ent.text)\n",
    "        elif ent.label_ == \"PRODUCT\":\n",
    "            product_list.append(ent.text)\n",
    "        elif ent.label_ == \"NORP\":\n",
    "            product_list.append(ent.text)\n",
    "\n",
    "    org = Counter(org_list).items()\n",
    "    post_entity = get_entity_list(id, \"Organization\", org)\n",
    "\n",
    "    person = Counter(person_list).items()\n",
    "    post_entity = post_entity + get_entity_list(id, \"Person\", person)\n",
    "\n",
    "    gpe = Counter(gpe_list).items()\n",
    "    post_entity = post_entity + get_entity_list(id, \"Geographical Location\", gpe)\n",
    "\n",
    "    event = Counter(event_list).items()\n",
    "    post_entity = post_entity + get_entity_list(id, \"Event\", event)\n",
    "\n",
    "    products = Counter(product_list).items()\n",
    "    post_entity = post_entity + get_entity_list(id, \"Product\", products)\n",
    "\n",
    "    norp = Counter(norp_list).items()\n",
    "    post_entity = post_entity + get_entity_list(id, \"NORP\", norp)\n",
    "\n",
    "    if len(post_entity) > 0:\n",
    "        entity_file.writelines(\"%s\\n\" % x for x in post_entity)\n",
    "\n",
    "    return post_entity"
   ]
  },
  {
   "cell_type": "markdown",
   "metadata": {},
   "source": [
    "#### NLP - Preprocessing with spaCy\n",
    "\n",
    "Through preprocessing, I normalized the text:\n",
    "- lowercase\n",
    "- remove [stop words](https://en.wikipedia.org/wiki/Stop_words) (words that doesn't add much meaning to the sentence) and punctuation symbols\n",
    "- [lemmatizes](https://en.wikipedia.org/wiki/Lemmatisation) each token.\n",
    "\n",
    "This way, the named entities extracted can easily be grouped to compute the number of times it is mentioned."
   ]
  },
  {
   "cell_type": "code",
   "execution_count": 7,
   "metadata": {},
   "outputs": [],
   "source": [
    "# https://realpython.com/natural-language-processing-spacy-python/\n",
    "def is_token_allowed(token):\n",
    "    if not token or not token.text.strip() or token.is_stop or token.is_punct:\n",
    "        return False\n",
    "    return True\n",
    "\n",
    "\n",
    "def preprocess_token(token):\n",
    "    # Reduce token to its lowercase lemma form\n",
    "    return token.lemma_.strip().lower()\n",
    "\n",
    "\n",
    "def normalize(category, id, post):\n",
    "    nlp_text = nlp(post)\n",
    "\n",
    "    complete_filtered_tokens = [\n",
    "        preprocess_token(token) for token in nlp_text if is_token_allowed(token)\n",
    "    ]\n",
    "\n",
    "    lemmatized_sentence = \" \".join(complete_filtered_tokens)\n",
    "\n",
    "    if category == \"title\":\n",
    "        get_post_entity(id, lemmatized_sentence)\n",
    "\n",
    "    return lemmatized_sentence"
   ]
  },
  {
   "cell_type": "markdown",
   "metadata": {},
   "source": [
    "Normalizing the post invokes `get_post_entity`, triggering the extraction of named entities into csv."
   ]
  },
  {
   "cell_type": "markdown",
   "metadata": {},
   "source": [
    "## Using PRAW to connect to Reddit\n",
    "\n",
    "[PRAW](https://praw.readthedocs.io/en/latest/) is the Python Reddit API Wrapper that we used to download the submissions from the _subreddits_.\n",
    "I'm not going into the details of the data scraping.  \n",
    "**You can check out how you can get the API key from my article on [Reddit Scraping](https://medium.com/atoti/reddit-data-analytics-trilogy-1-data-scraping-with-praw-89f3df7dfa90#eb02)**.  \n",
    "\n",
    "While the below variables are placeholders for the Reddit API keys, it is __NOT recommended__ to add these variables in your source files and commit them. Instead, secure your API keys for example, using environment variable instead. Refer to the article on [securely storing configuration credentials](http://veekaybee.github.io/2020/02/25/secrets/).\n"
   ]
  },
  {
   "cell_type": "code",
   "execution_count": 8,
   "metadata": {},
   "outputs": [],
   "source": [
    "# reddit_cid = \"placeholder - cid\"\n",
    "# reddit_csec = \"placeholder - csec\"\n",
    "# reddit_ua = \"placeholder - ua\"\n",
    "\n",
    "reddit_cid = \"vcJSENEMmnCztA\"\n",
    "reddit_csec = \"CIxOTX27NWFg0m2_kjrZvqHHiWk\"\n",
    "reddit_ua = \"atoti-scrape\""
   ]
  },
  {
   "cell_type": "code",
   "execution_count": 9,
   "metadata": {},
   "outputs": [],
   "source": [
    "# create a reddit connection\n",
    "reddit = praw.Reddit(\n",
    "    client_id=reddit_cid, client_secret=reddit_csec, user_agent=reddit_ua\n",
    ")"
   ]
  },
  {
   "cell_type": "markdown",
   "metadata": {},
   "source": [
    "In order to do more analysis, I created a function to get the latest postings. This function will allow me to configure the number of postings to download, and from which subreddit to download the postings from.\n",
    "\n",
    "Unlike the original article, I decided to format `created` into _datetime_ and splitted it into `created_date` and `created_time` as I figured this would allow me to have consolidated view on date level or drill down to the time level.\n",
    "\n",
    "Referencing the [PRAW documentation](https://praw.readthedocs.io/en/latest/code_overview/models/submission.html#submission) for the submission attributes, I added _id_ and _author_ to the list as well. Important to note is that for real-time, I will be polling the latest 100 postings at a 30 seconds intervals. Potentially there will be duplicated postings across the pollings. Storing the _id_ allows me to **leverage on atoti's capability to update existing posts instead of inserting duplicated postings**."
   ]
  },
  {
   "cell_type": "code",
   "execution_count": 10,
   "metadata": {},
   "outputs": [],
   "source": [
    "def get_latest_posts(subreddit, count):\n",
    "    # list for df conversion\n",
    "    _posts = []\n",
    "    # return 100 new posts from wallstreetbets\n",
    "    new_bets = reddit.subreddit(subreddit).new(limit=count)\n",
    "    # return the important attributes\n",
    "    for post in new_bets:\n",
    "        # normalize the post and perform NLP named entities extraction\n",
    "        lemmatized_post = normalize(\"post\", post.id, post.selftext)\n",
    "        lemmatized_title = normalize(\"title\", post.id, post.title)\n",
    "        _posts.append(\n",
    "            [\n",
    "                post.id,\n",
    "                post.author,\n",
    "                post.title,\n",
    "                post.score,\n",
    "                post.num_comments,\n",
    "                post.selftext,\n",
    "                lemmatized_post,\n",
    "                lemmatized_title,\n",
    "                post.created,\n",
    "                post.pinned,\n",
    "                post.total_awards_received,\n",
    "            ]\n",
    "        )\n",
    "\n",
    "    # create a dataframe\n",
    "    _posts = pd.DataFrame(\n",
    "        _posts,\n",
    "        columns=[\n",
    "            \"id\",\n",
    "            \"author\",\n",
    "            \"title\",\n",
    "            \"score\",\n",
    "            \"comments\",\n",
    "            \"post\",\n",
    "            \"lemmatized post\",\n",
    "            \"lemmatized title\",\n",
    "            \"created\",\n",
    "            \"pinned\",\n",
    "            \"total awards\",\n",
    "        ],\n",
    "    )\n",
    "\n",
    "    _posts[\"created\"] = pd.to_datetime(_posts[\"created\"], unit=\"s\")\n",
    "    _posts[\"created date\"] = pd.to_datetime(_posts[\"created\"], unit=\"s\").dt.date\n",
    "    _posts[\"created time\"] = pd.to_datetime(_posts[\"created\"], unit=\"s\").dt.time\n",
    "    _posts[\"subreddit\"] = subreddit\n",
    "\n",
    "    return _posts"
   ]
  },
  {
   "cell_type": "markdown",
   "metadata": {},
   "source": [
    "To kickstart, I test downloaded the newest 500 post from the subreddit _wallstreetbets_.  \n",
    "This data will be loaded into atoti's **in-memory datacube** later on. This means that the **amount of data that can be loaded is limited only by the hosting machine's capacity**. You could adjust the number of postings you want to look at according to your machine's memory capacity."
   ]
  },
  {
   "cell_type": "code",
   "execution_count": 11,
   "metadata": {},
   "outputs": [
    {
     "data": {
      "text/plain": [
       "500"
      ]
     },
     "execution_count": 11,
     "metadata": {},
     "output_type": "execute_result"
    }
   ],
   "source": [
    "posts = get_latest_posts(\"wallstreetbets\", 500)\n",
    "entity_file.flush()\n",
    "\n",
    "# check the number of posts retrieved\n",
    "len(posts)"
   ]
  },
  {
   "cell_type": "markdown",
   "metadata": {},
   "source": [
    "I adapted the below code from the original article and used the Reddit's title instead of post for NLP. Mainly because the Subreddits that I chose has more text in the title than the post.  \n",
    "The function uses Pandas dataframe to compute some simple statistics about the text in the posts."
   ]
  },
  {
   "cell_type": "code",
   "execution_count": 12,
   "metadata": {},
   "outputs": [],
   "source": [
    "def get_nlp_features(_posts):\n",
    "    # copy the dataframe\n",
    "    df = _posts.copy()\n",
    "    # count words in post\n",
    "    df[\"words\"] = df[\"title\"].apply(lambda x: len(x.split()))\n",
    "    # count characters in post\n",
    "    df[\"chars\"] = df[\"title\"].apply(lambda x: len(x.replace(\" \", \"\")))\n",
    "    # calculate word density\n",
    "    df[\"word density\"] = (df[\"words\"] / (df[\"chars\"] + 1)).round(3)\n",
    "    # count unique words\n",
    "    df[\"unique words\"] = df[\"title\"].apply(lambda x: len(set(w for w in x.split())))\n",
    "    # percent of unique words\n",
    "    df[\"unique density\"] = (df[\"unique words\"] / df[\"words\"]).round(3)\n",
    "\n",
    "    return df"
   ]
  },
  {
   "cell_type": "markdown",
   "metadata": {},
   "source": [
    "By running the function above on the posts that I have downloaded, we will get a dataset with similar structure to the original article."
   ]
  },
  {
   "cell_type": "code",
   "execution_count": 13,
   "metadata": {},
   "outputs": [
    {
     "data": {
      "text/html": [
       "<div>\n",
       "<style scoped>\n",
       "    .dataframe tbody tr th:only-of-type {\n",
       "        vertical-align: middle;\n",
       "    }\n",
       "\n",
       "    .dataframe tbody tr th {\n",
       "        vertical-align: top;\n",
       "    }\n",
       "\n",
       "    .dataframe thead th {\n",
       "        text-align: right;\n",
       "    }\n",
       "</style>\n",
       "<table border=\"1\" class=\"dataframe\">\n",
       "  <thead>\n",
       "    <tr style=\"text-align: right;\">\n",
       "      <th></th>\n",
       "      <th>id</th>\n",
       "      <th>author</th>\n",
       "      <th>title</th>\n",
       "      <th>score</th>\n",
       "      <th>comments</th>\n",
       "      <th>post</th>\n",
       "      <th>lemmatized post</th>\n",
       "      <th>lemmatized title</th>\n",
       "      <th>created</th>\n",
       "      <th>pinned</th>\n",
       "      <th>total awards</th>\n",
       "      <th>created date</th>\n",
       "      <th>created time</th>\n",
       "      <th>subreddit</th>\n",
       "      <th>words</th>\n",
       "      <th>chars</th>\n",
       "      <th>word density</th>\n",
       "      <th>unique words</th>\n",
       "      <th>unique density</th>\n",
       "    </tr>\n",
       "  </thead>\n",
       "  <tbody>\n",
       "    <tr>\n",
       "      <th>0</th>\n",
       "      <td>mdidik</td>\n",
       "      <td>TanisIsGoodOutHere</td>\n",
       "      <td>Made a whole lot of tendies at work. I hope we...</td>\n",
       "      <td>8</td>\n",
       "      <td>4</td>\n",
       "      <td></td>\n",
       "      <td></td>\n",
       "      <td>lot tendie work hope consume gme moon 🚀 🚀 🚀</td>\n",
       "      <td>2021-03-26 14:29:31</td>\n",
       "      <td>False</td>\n",
       "      <td>0</td>\n",
       "      <td>2021-03-26</td>\n",
       "      <td>14:29:31</td>\n",
       "      <td>wallstreetbets</td>\n",
       "      <td>19</td>\n",
       "      <td>66</td>\n",
       "      <td>0.284</td>\n",
       "      <td>19</td>\n",
       "      <td>1.0</td>\n",
       "    </tr>\n",
       "    <tr>\n",
       "      <th>1</th>\n",
       "      <td>mdibzi</td>\n",
       "      <td>GreatGoogelyMoogly</td>\n",
       "      <td>Poke-stock - when I catch them all, stock goes...</td>\n",
       "      <td>1</td>\n",
       "      <td>0</td>\n",
       "      <td></td>\n",
       "      <td></td>\n",
       "      <td>poke stock catch stock go boom $ mvis</td>\n",
       "      <td>2021-03-26 14:26:06</td>\n",
       "      <td>False</td>\n",
       "      <td>0</td>\n",
       "      <td>2021-03-26</td>\n",
       "      <td>14:26:06</td>\n",
       "      <td>wallstreetbets</td>\n",
       "      <td>11</td>\n",
       "      <td>47</td>\n",
       "      <td>0.229</td>\n",
       "      <td>11</td>\n",
       "      <td>1.0</td>\n",
       "    </tr>\n",
       "    <tr>\n",
       "      <th>2</th>\n",
       "      <td>mdhkmh</td>\n",
       "      <td>Breadboy108</td>\n",
       "      <td>Gush loss porn fap away fellas</td>\n",
       "      <td>25</td>\n",
       "      <td>18</td>\n",
       "      <td></td>\n",
       "      <td></td>\n",
       "      <td>gush loss porn fap away fella</td>\n",
       "      <td>2021-03-26 13:29:31</td>\n",
       "      <td>False</td>\n",
       "      <td>0</td>\n",
       "      <td>2021-03-26</td>\n",
       "      <td>13:29:31</td>\n",
       "      <td>wallstreetbets</td>\n",
       "      <td>6</td>\n",
       "      <td>25</td>\n",
       "      <td>0.231</td>\n",
       "      <td>6</td>\n",
       "      <td>1.0</td>\n",
       "    </tr>\n",
       "  </tbody>\n",
       "</table>\n",
       "</div>"
      ],
      "text/plain": [
       "       id              author  \\\n",
       "0  mdidik  TanisIsGoodOutHere   \n",
       "1  mdibzi  GreatGoogelyMoogly   \n",
       "2  mdhkmh         Breadboy108   \n",
       "\n",
       "                                               title  score  comments post  \\\n",
       "0  Made a whole lot of tendies at work. I hope we...      8         4        \n",
       "1  Poke-stock - when I catch them all, stock goes...      1         0        \n",
       "2                     Gush loss porn fap away fellas     25        18        \n",
       "\n",
       "  lemmatized post                             lemmatized title  \\\n",
       "0                  lot tendie work hope consume gme moon 🚀 🚀 🚀   \n",
       "1                        poke stock catch stock go boom $ mvis   \n",
       "2                                gush loss porn fap away fella   \n",
       "\n",
       "              created  pinned  total awards created date created time  \\\n",
       "0 2021-03-26 14:29:31   False             0   2021-03-26     14:29:31   \n",
       "1 2021-03-26 14:26:06   False             0   2021-03-26     14:26:06   \n",
       "2 2021-03-26 13:29:31   False             0   2021-03-26     13:29:31   \n",
       "\n",
       "        subreddit  words  chars  word density  unique words  unique density  \n",
       "0  wallstreetbets     19     66         0.284            19             1.0  \n",
       "1  wallstreetbets     11     47         0.229            11             1.0  \n",
       "2  wallstreetbets      6     25         0.231             6             1.0  "
      ]
     },
     "execution_count": 13,
     "metadata": {},
     "output_type": "execute_result"
    }
   ],
   "source": [
    "df = get_nlp_features(posts)\n",
    "df.head(3)"
   ]
  },
  {
   "cell_type": "markdown",
   "metadata": {},
   "source": [
    "## atoti cube creation for NLP analysis\n",
    "\n",
    "Finally we can get started with atoti. Let's create a session with the [sampling_mode](https://docs.atoti.io/0.4.2/lib/atoti.html#module-atoti.sampling) to set full, so that I can see all the data once it is loaded."
   ]
  },
  {
   "cell_type": "code",
   "execution_count": 14,
   "metadata": {},
   "outputs": [],
   "source": [
    "config = create_config(metadata_db=\"./metadata.db\", sampling_mode=tt.sampling.FULL)\n",
    "session = tt.create_session(config=config)"
   ]
  },
  {
   "cell_type": "markdown",
   "metadata": {},
   "source": [
    "#### atoti datastores\n",
    "\n",
    "I will create a `Reddit Posts` store for the data as per the original article. "
   ]
  },
  {
   "cell_type": "code",
   "execution_count": 15,
   "metadata": {},
   "outputs": [
    {
     "data": {
      "text/html": [
       "<div>\n",
       "<style scoped>\n",
       "    .dataframe tbody tr th:only-of-type {\n",
       "        vertical-align: middle;\n",
       "    }\n",
       "\n",
       "    .dataframe tbody tr th {\n",
       "        vertical-align: top;\n",
       "    }\n",
       "\n",
       "    .dataframe thead th {\n",
       "        text-align: right;\n",
       "    }\n",
       "</style>\n",
       "<table border=\"1\" class=\"dataframe\">\n",
       "  <thead>\n",
       "    <tr style=\"text-align: right;\">\n",
       "      <th></th>\n",
       "      <th>author</th>\n",
       "      <th>title</th>\n",
       "      <th>score</th>\n",
       "      <th>comments</th>\n",
       "      <th>post</th>\n",
       "      <th>lemmatized post</th>\n",
       "      <th>lemmatized title</th>\n",
       "      <th>created</th>\n",
       "      <th>pinned</th>\n",
       "      <th>total awards</th>\n",
       "      <th>created date</th>\n",
       "      <th>created time</th>\n",
       "      <th>subreddit</th>\n",
       "      <th>words</th>\n",
       "      <th>chars</th>\n",
       "      <th>word density</th>\n",
       "      <th>unique words</th>\n",
       "      <th>unique density</th>\n",
       "    </tr>\n",
       "    <tr>\n",
       "      <th>id</th>\n",
       "      <th></th>\n",
       "      <th></th>\n",
       "      <th></th>\n",
       "      <th></th>\n",
       "      <th></th>\n",
       "      <th></th>\n",
       "      <th></th>\n",
       "      <th></th>\n",
       "      <th></th>\n",
       "      <th></th>\n",
       "      <th></th>\n",
       "      <th></th>\n",
       "      <th></th>\n",
       "      <th></th>\n",
       "      <th></th>\n",
       "      <th></th>\n",
       "      <th></th>\n",
       "      <th></th>\n",
       "    </tr>\n",
       "  </thead>\n",
       "  <tbody>\n",
       "    <tr>\n",
       "      <th>mdidik</th>\n",
       "      <td>TanisIsGoodOutHere</td>\n",
       "      <td>Made a whole lot of tendies at work. I hope we...</td>\n",
       "      <td>8</td>\n",
       "      <td>4</td>\n",
       "      <td>N/A</td>\n",
       "      <td>N/A</td>\n",
       "      <td>lot tendie work hope consume gme moon 🚀 🚀 🚀</td>\n",
       "      <td>2021-03-26 14:29:31</td>\n",
       "      <td>False</td>\n",
       "      <td>0</td>\n",
       "      <td>2021-03-26</td>\n",
       "      <td>14:29:31</td>\n",
       "      <td>wallstreetbets</td>\n",
       "      <td>19</td>\n",
       "      <td>66</td>\n",
       "      <td>0.284</td>\n",
       "      <td>19</td>\n",
       "      <td>1.0</td>\n",
       "    </tr>\n",
       "    <tr>\n",
       "      <th>mdibzi</th>\n",
       "      <td>GreatGoogelyMoogly</td>\n",
       "      <td>Poke-stock - when I catch them all, stock goes...</td>\n",
       "      <td>1</td>\n",
       "      <td>0</td>\n",
       "      <td>N/A</td>\n",
       "      <td>N/A</td>\n",
       "      <td>poke stock catch stock go boom $ mvis</td>\n",
       "      <td>2021-03-26 14:26:06</td>\n",
       "      <td>False</td>\n",
       "      <td>0</td>\n",
       "      <td>2021-03-26</td>\n",
       "      <td>14:26:06</td>\n",
       "      <td>wallstreetbets</td>\n",
       "      <td>11</td>\n",
       "      <td>47</td>\n",
       "      <td>0.229</td>\n",
       "      <td>11</td>\n",
       "      <td>1.0</td>\n",
       "    </tr>\n",
       "    <tr>\n",
       "      <th>mdhkmh</th>\n",
       "      <td>Breadboy108</td>\n",
       "      <td>Gush loss porn fap away fellas</td>\n",
       "      <td>25</td>\n",
       "      <td>18</td>\n",
       "      <td>N/A</td>\n",
       "      <td>N/A</td>\n",
       "      <td>gush loss porn fap away fella</td>\n",
       "      <td>2021-03-26 13:29:31</td>\n",
       "      <td>False</td>\n",
       "      <td>0</td>\n",
       "      <td>2021-03-26</td>\n",
       "      <td>13:29:31</td>\n",
       "      <td>wallstreetbets</td>\n",
       "      <td>6</td>\n",
       "      <td>25</td>\n",
       "      <td>0.231</td>\n",
       "      <td>6</td>\n",
       "      <td>1.0</td>\n",
       "    </tr>\n",
       "  </tbody>\n",
       "</table>\n",
       "</div>"
      ],
      "text/plain": [
       "                    author                                              title  \\\n",
       "id                                                                              \n",
       "mdidik  TanisIsGoodOutHere  Made a whole lot of tendies at work. I hope we...   \n",
       "mdibzi  GreatGoogelyMoogly  Poke-stock - when I catch them all, stock goes...   \n",
       "mdhkmh         Breadboy108                     Gush loss porn fap away fellas   \n",
       "\n",
       "        score  comments post lemmatized post  \\\n",
       "id                                             \n",
       "mdidik      8         4  N/A             N/A   \n",
       "mdibzi      1         0  N/A             N/A   \n",
       "mdhkmh     25        18  N/A             N/A   \n",
       "\n",
       "                                   lemmatized title             created  \\\n",
       "id                                                                        \n",
       "mdidik  lot tendie work hope consume gme moon 🚀 🚀 🚀 2021-03-26 14:29:31   \n",
       "mdibzi        poke stock catch stock go boom $ mvis 2021-03-26 14:26:06   \n",
       "mdhkmh                gush loss porn fap away fella 2021-03-26 13:29:31   \n",
       "\n",
       "        pinned  total awards created date created time       subreddit  words  \\\n",
       "id                                                                              \n",
       "mdidik   False             0   2021-03-26     14:29:31  wallstreetbets     19   \n",
       "mdibzi   False             0   2021-03-26     14:26:06  wallstreetbets     11   \n",
       "mdhkmh   False             0   2021-03-26     13:29:31  wallstreetbets      6   \n",
       "\n",
       "        chars  word density  unique words  unique density  \n",
       "id                                                         \n",
       "mdidik     66         0.284            19             1.0  \n",
       "mdibzi     47         0.229            11             1.0  \n",
       "mdhkmh     25         0.231             6             1.0  "
      ]
     },
     "execution_count": 15,
     "metadata": {},
     "output_type": "execute_result"
    }
   ],
   "source": [
    "reddit_store = session.read_pandas(df, keys=[\"id\"], store_name=\"Reddit_Posts\")\n",
    "reddit_store.head(3)"
   ]
  },
  {
   "cell_type": "markdown",
   "metadata": {},
   "source": [
    "For my experiment with spaCy, I create a `Entities` store to store the named entities.  \n",
    "Below, I set `watch=True` for the entities.csv such that any update to the file will trigger an upload to the datastore."
   ]
  },
  {
   "cell_type": "code",
   "execution_count": 16,
   "metadata": {},
   "outputs": [],
   "source": [
    "entity_store = session.read_csv(\n",
    "    entity_file_name,\n",
    "    keys=[\"id\", \"category\", \"text\"],\n",
    "    store_name=\"Entities\",\n",
    "    watch=True,\n",
    "    sep=\"|\",\n",
    ")"
   ]
  },
  {
   "cell_type": "code",
   "execution_count": 17,
   "metadata": {},
   "outputs": [
    {
     "data": {
      "text/html": [
       "<div>\n",
       "<style scoped>\n",
       "    .dataframe tbody tr th:only-of-type {\n",
       "        vertical-align: middle;\n",
       "    }\n",
       "\n",
       "    .dataframe tbody tr th {\n",
       "        vertical-align: top;\n",
       "    }\n",
       "\n",
       "    .dataframe thead th {\n",
       "        text-align: right;\n",
       "    }\n",
       "</style>\n",
       "<table border=\"1\" class=\"dataframe\">\n",
       "  <thead>\n",
       "    <tr style=\"text-align: right;\">\n",
       "      <th></th>\n",
       "      <th></th>\n",
       "      <th></th>\n",
       "      <th>text count</th>\n",
       "    </tr>\n",
       "    <tr>\n",
       "      <th>id</th>\n",
       "      <th>category</th>\n",
       "      <th>text</th>\n",
       "      <th></th>\n",
       "    </tr>\n",
       "  </thead>\n",
       "  <tbody>\n",
       "    <tr>\n",
       "      <th>mdidik</th>\n",
       "      <th>Product</th>\n",
       "      <th>🚀 🚀</th>\n",
       "      <td>1</td>\n",
       "    </tr>\n",
       "    <tr>\n",
       "      <th>mdh73n</th>\n",
       "      <th>Product</th>\n",
       "      <th>👋</th>\n",
       "      <td>2</td>\n",
       "    </tr>\n",
       "    <tr>\n",
       "      <th>mdgard</th>\n",
       "      <th>Product</th>\n",
       "      <th>412k</th>\n",
       "      <td>1</td>\n",
       "    </tr>\n",
       "    <tr>\n",
       "      <th>mdf8vn</th>\n",
       "      <th>Product</th>\n",
       "      <th>🚀 🌙</th>\n",
       "      <td>1</td>\n",
       "    </tr>\n",
       "    <tr>\n",
       "      <th>mdewv2</th>\n",
       "      <th>Organization</th>\n",
       "      <th>🚀</th>\n",
       "      <td>1</td>\n",
       "    </tr>\n",
       "  </tbody>\n",
       "</table>\n",
       "</div>"
      ],
      "text/plain": [
       "                          text count\n",
       "id     category     text            \n",
       "mdidik Product      🚀 🚀            1\n",
       "mdh73n Product      👋              2\n",
       "mdgard Product      412k           1\n",
       "mdf8vn Product      🚀 🌙            1\n",
       "mdewv2 Organization 🚀              1"
      ]
     },
     "execution_count": 17,
     "metadata": {},
     "output_type": "execute_result"
    }
   ],
   "source": [
    "entity_store.head()"
   ]
  },
  {
   "cell_type": "markdown",
   "metadata": {},
   "source": [
    "I join the `Entities` store to `Reddit Posts` which I decided to use as the base store.  \n",
    "Note that atoti automatically joins columns with the same name across both stores. You could define your own [mapping](https://docs.atoti.io/0.4.2/lib/atoti.html?highlight=join#atoti.store.Store.join) otherwise."
   ]
  },
  {
   "cell_type": "code",
   "execution_count": 18,
   "metadata": {},
   "outputs": [],
   "source": [
    "reddit_store.join(entity_store)"
   ]
  },
  {
   "cell_type": "markdown",
   "metadata": {},
   "source": [
    "#### atoti cube creation - No measures\n",
    "\n",
    "By default, atoti will automatically create hierarchies and measures from the datastore based on the data type of the columns.  \n",
    "In this case, I prefer to manually create my measures, hence I set the [mode](https://docs.atoti.io/0.4.2/lib/atoti.html?highlight=create_cube#atoti.session.Session.create_cube) of creation to `no_measures`"
   ]
  },
  {
   "cell_type": "code",
   "execution_count": 19,
   "metadata": {},
   "outputs": [],
   "source": [
    "cube = session.create_cube(reddit_store, \"Reddit\", mode=\"no_measures\")"
   ]
  },
  {
   "cell_type": "code",
   "execution_count": 20,
   "metadata": {},
   "outputs": [
    {
     "data": {
      "image/svg+xml": [
       "<svg xmlns=\"http://www.w3.org/2000/svg\" xmlns:xlink=\"http://www.w3.org/1999/xlink\" width=\"480px\" height=\"498px\" viewBox=\"0.00 0.00 480.00 498.00\">\n",
       "<g id=\"graph0\" class=\"graph\" transform=\"scale(1.0 1.0) rotate(0) translate(4 494)\">\n",
       "<title>Reddit schema</title>\n",
       "<polygon fill=\"white\" stroke=\"none\" points=\"-4,4 -4,-494 476,-494 476,4 -4,4\"/>\n",
       "<!-- Reddit_Posts -->\n",
       "<g id=\"node1\" class=\"node\"><title>Reddit_Posts</title>\n",
       "<text text-anchor=\"start\" x=\"81.5\" y=\"-470.6\" font-family=\"-apple-system, BlinkMacSystemFont, 'Segoe UI', Helvetica, Arial, sans-serif, 'Apple Color Emoji', 'Segoe UI Emoji', 'Segoe UI Symbol'\" font-weight=\"bold\" font-size=\"13.00\">Reddit_Posts</text>\n",
       "<polygon fill=\"#f5f5f5\" stroke=\"none\" points=\"9,-437 9,-461 40,-461 40,-437 9,-437\"/>\n",
       "<text text-anchor=\"start\" x=\"14\" y=\"-446.6\" font-family=\"-apple-system, BlinkMacSystemFont, 'Segoe UI', Helvetica, Arial, sans-serif, 'Apple Color Emoji', 'Segoe UI Emoji', 'Segoe UI Symbol'\" font-weight=\"bold\" font-size=\"13.00\">key</text>\n",
       "<polygon fill=\"#f5f5f5\" stroke=\"none\" points=\"40,-437 40,-461 138,-461 138,-437 40,-437\"/>\n",
       "<text text-anchor=\"start\" x=\"45\" y=\"-445.6\" font-family=\"-apple-system, BlinkMacSystemFont, 'Segoe UI', Helvetica, Arial, sans-serif, 'Apple Color Emoji', 'Segoe UI Emoji', 'Segoe UI Symbol'\" font-size=\"13.00\">id</text>\n",
       "<polygon fill=\"#f5f5f5\" stroke=\"none\" points=\"138,-437 138,-461 233,-461 233,-437 138,-437\"/>\n",
       "<text text-anchor=\"start\" x=\"195\" y=\"-446.6\" font-family=\"-apple-system, BlinkMacSystemFont, 'Segoe UI', Helvetica, Arial, sans-serif, 'Apple Color Emoji', 'Segoe UI Emoji', 'Segoe UI Symbol'\" font-style=\"italic\" font-size=\"13.00\">String</text>\n",
       "<polygon fill=\"#ffffff\" stroke=\"none\" points=\"9,-413 9,-437 40,-437 40,-413 9,-413\"/>\n",
       "<polygon fill=\"#ffffff\" stroke=\"none\" points=\"40,-413 40,-437 138,-437 138,-413 40,-413\"/>\n",
       "<text text-anchor=\"start\" x=\"45\" y=\"-421.6\" font-family=\"-apple-system, BlinkMacSystemFont, 'Segoe UI', Helvetica, Arial, sans-serif, 'Apple Color Emoji', 'Segoe UI Emoji', 'Segoe UI Symbol'\" font-size=\"13.00\">author</text>\n",
       "<polygon fill=\"#ffffff\" stroke=\"none\" points=\"138,-413 138,-437 233,-437 233,-413 138,-413\"/>\n",
       "<text text-anchor=\"start\" x=\"195\" y=\"-422.6\" font-family=\"-apple-system, BlinkMacSystemFont, 'Segoe UI', Helvetica, Arial, sans-serif, 'Apple Color Emoji', 'Segoe UI Emoji', 'Segoe UI Symbol'\" font-style=\"italic\" font-size=\"13.00\">String</text>\n",
       "<polygon fill=\"#f5f5f5\" stroke=\"none\" points=\"9,-389 9,-413 40,-413 40,-389 9,-389\"/>\n",
       "<polygon fill=\"#f5f5f5\" stroke=\"none\" points=\"40,-389 40,-413 138,-413 138,-389 40,-389\"/>\n",
       "<text text-anchor=\"start\" x=\"45\" y=\"-397.6\" font-family=\"-apple-system, BlinkMacSystemFont, 'Segoe UI', Helvetica, Arial, sans-serif, 'Apple Color Emoji', 'Segoe UI Emoji', 'Segoe UI Symbol'\" font-size=\"13.00\">title</text>\n",
       "<polygon fill=\"#f5f5f5\" stroke=\"none\" points=\"138,-389 138,-413 233,-413 233,-389 138,-389\"/>\n",
       "<text text-anchor=\"start\" x=\"195\" y=\"-398.6\" font-family=\"-apple-system, BlinkMacSystemFont, 'Segoe UI', Helvetica, Arial, sans-serif, 'Apple Color Emoji', 'Segoe UI Emoji', 'Segoe UI Symbol'\" font-style=\"italic\" font-size=\"13.00\">String</text>\n",
       "<polygon fill=\"#ffffff\" stroke=\"none\" points=\"9,-365 9,-389 40,-389 40,-365 9,-365\"/>\n",
       "<polygon fill=\"#ffffff\" stroke=\"none\" points=\"40,-365 40,-389 138,-389 138,-365 40,-365\"/>\n",
       "<text text-anchor=\"start\" x=\"45\" y=\"-373.6\" font-family=\"-apple-system, BlinkMacSystemFont, 'Segoe UI', Helvetica, Arial, sans-serif, 'Apple Color Emoji', 'Segoe UI Emoji', 'Segoe UI Symbol'\" font-size=\"13.00\">score</text>\n",
       "<polygon fill=\"#ffffff\" stroke=\"none\" points=\"138,-365 138,-389 233,-389 233,-365 138,-365\"/>\n",
       "<text text-anchor=\"start\" x=\"205\" y=\"-374.6\" font-family=\"-apple-system, BlinkMacSystemFont, 'Segoe UI', Helvetica, Arial, sans-serif, 'Apple Color Emoji', 'Segoe UI Emoji', 'Segoe UI Symbol'\" font-style=\"italic\" font-size=\"13.00\">long</text>\n",
       "<polygon fill=\"#f5f5f5\" stroke=\"none\" points=\"9,-341 9,-365 40,-365 40,-341 9,-341\"/>\n",
       "<polygon fill=\"#f5f5f5\" stroke=\"none\" points=\"40,-341 40,-365 138,-365 138,-341 40,-341\"/>\n",
       "<text text-anchor=\"start\" x=\"45\" y=\"-349.6\" font-family=\"-apple-system, BlinkMacSystemFont, 'Segoe UI', Helvetica, Arial, sans-serif, 'Apple Color Emoji', 'Segoe UI Emoji', 'Segoe UI Symbol'\" font-size=\"13.00\">comments</text>\n",
       "<polygon fill=\"#f5f5f5\" stroke=\"none\" points=\"138,-341 138,-365 233,-365 233,-341 138,-341\"/>\n",
       "<text text-anchor=\"start\" x=\"205\" y=\"-350.6\" font-family=\"-apple-system, BlinkMacSystemFont, 'Segoe UI', Helvetica, Arial, sans-serif, 'Apple Color Emoji', 'Segoe UI Emoji', 'Segoe UI Symbol'\" font-style=\"italic\" font-size=\"13.00\">long</text>\n",
       "<polygon fill=\"#ffffff\" stroke=\"none\" points=\"9,-317 9,-341 40,-341 40,-317 9,-317\"/>\n",
       "<polygon fill=\"#ffffff\" stroke=\"none\" points=\"40,-317 40,-341 138,-341 138,-317 40,-317\"/>\n",
       "<text text-anchor=\"start\" x=\"45\" y=\"-325.6\" font-family=\"-apple-system, BlinkMacSystemFont, 'Segoe UI', Helvetica, Arial, sans-serif, 'Apple Color Emoji', 'Segoe UI Emoji', 'Segoe UI Symbol'\" font-size=\"13.00\">post</text>\n",
       "<polygon fill=\"#ffffff\" stroke=\"none\" points=\"138,-317 138,-341 233,-341 233,-317 138,-317\"/>\n",
       "<text text-anchor=\"start\" x=\"195\" y=\"-326.6\" font-family=\"-apple-system, BlinkMacSystemFont, 'Segoe UI', Helvetica, Arial, sans-serif, 'Apple Color Emoji', 'Segoe UI Emoji', 'Segoe UI Symbol'\" font-style=\"italic\" font-size=\"13.00\">String</text>\n",
       "<polygon fill=\"#f5f5f5\" stroke=\"none\" points=\"9,-293 9,-317 40,-317 40,-293 9,-293\"/>\n",
       "<polygon fill=\"#f5f5f5\" stroke=\"none\" points=\"40,-293 40,-317 138,-317 138,-293 40,-293\"/>\n",
       "<text text-anchor=\"start\" x=\"45\" y=\"-301.6\" font-family=\"-apple-system, BlinkMacSystemFont, 'Segoe UI', Helvetica, Arial, sans-serif, 'Apple Color Emoji', 'Segoe UI Emoji', 'Segoe UI Symbol'\" font-size=\"13.00\">lemmatized post</text>\n",
       "<polygon fill=\"#f5f5f5\" stroke=\"none\" points=\"138,-293 138,-317 233,-317 233,-293 138,-293\"/>\n",
       "<text text-anchor=\"start\" x=\"195\" y=\"-302.6\" font-family=\"-apple-system, BlinkMacSystemFont, 'Segoe UI', Helvetica, Arial, sans-serif, 'Apple Color Emoji', 'Segoe UI Emoji', 'Segoe UI Symbol'\" font-style=\"italic\" font-size=\"13.00\">String</text>\n",
       "<polygon fill=\"#ffffff\" stroke=\"none\" points=\"9,-269 9,-293 40,-293 40,-269 9,-269\"/>\n",
       "<polygon fill=\"#ffffff\" stroke=\"none\" points=\"40,-269 40,-293 138,-293 138,-269 40,-269\"/>\n",
       "<text text-anchor=\"start\" x=\"45\" y=\"-277.6\" font-family=\"-apple-system, BlinkMacSystemFont, 'Segoe UI', Helvetica, Arial, sans-serif, 'Apple Color Emoji', 'Segoe UI Emoji', 'Segoe UI Symbol'\" font-size=\"13.00\">lemmatized title</text>\n",
       "<polygon fill=\"#ffffff\" stroke=\"none\" points=\"138,-269 138,-293 233,-293 233,-269 138,-269\"/>\n",
       "<text text-anchor=\"start\" x=\"195\" y=\"-278.6\" font-family=\"-apple-system, BlinkMacSystemFont, 'Segoe UI', Helvetica, Arial, sans-serif, 'Apple Color Emoji', 'Segoe UI Emoji', 'Segoe UI Symbol'\" font-style=\"italic\" font-size=\"13.00\">String</text>\n",
       "<polygon fill=\"#f5f5f5\" stroke=\"none\" points=\"9,-245 9,-269 40,-269 40,-245 9,-245\"/>\n",
       "<polygon fill=\"#f5f5f5\" stroke=\"none\" points=\"40,-245 40,-269 138,-269 138,-245 40,-245\"/>\n",
       "<text text-anchor=\"start\" x=\"45\" y=\"-253.6\" font-family=\"-apple-system, BlinkMacSystemFont, 'Segoe UI', Helvetica, Arial, sans-serif, 'Apple Color Emoji', 'Segoe UI Emoji', 'Segoe UI Symbol'\" font-size=\"13.00\">created</text>\n",
       "<polygon fill=\"#f5f5f5\" stroke=\"none\" points=\"138,-245 138,-269 233,-269 233,-245 138,-245\"/>\n",
       "<text text-anchor=\"start\" x=\"143\" y=\"-254.6\" font-family=\"-apple-system, BlinkMacSystemFont, 'Segoe UI', Helvetica, Arial, sans-serif, 'Apple Color Emoji', 'Segoe UI Emoji', 'Segoe UI Symbol'\" font-style=\"italic\" font-size=\"13.00\">LocalDateTime</text>\n",
       "<polygon fill=\"#ffffff\" stroke=\"none\" points=\"9,-221 9,-245 40,-245 40,-221 9,-221\"/>\n",
       "<polygon fill=\"#ffffff\" stroke=\"none\" points=\"40,-221 40,-245 138,-245 138,-221 40,-221\"/>\n",
       "<text text-anchor=\"start\" x=\"45\" y=\"-229.6\" font-family=\"-apple-system, BlinkMacSystemFont, 'Segoe UI', Helvetica, Arial, sans-serif, 'Apple Color Emoji', 'Segoe UI Emoji', 'Segoe UI Symbol'\" font-size=\"13.00\">pinned</text>\n",
       "<polygon fill=\"#ffffff\" stroke=\"none\" points=\"138,-221 138,-245 233,-245 233,-221 138,-221\"/>\n",
       "<text text-anchor=\"start\" x=\"184\" y=\"-230.6\" font-family=\"-apple-system, BlinkMacSystemFont, 'Segoe UI', Helvetica, Arial, sans-serif, 'Apple Color Emoji', 'Segoe UI Emoji', 'Segoe UI Symbol'\" font-style=\"italic\" font-size=\"13.00\">boolean</text>\n",
       "<polygon fill=\"#f5f5f5\" stroke=\"none\" points=\"9,-197 9,-221 40,-221 40,-197 9,-197\"/>\n",
       "<polygon fill=\"#f5f5f5\" stroke=\"none\" points=\"40,-197 40,-221 138,-221 138,-197 40,-197\"/>\n",
       "<text text-anchor=\"start\" x=\"45\" y=\"-205.6\" font-family=\"-apple-system, BlinkMacSystemFont, 'Segoe UI', Helvetica, Arial, sans-serif, 'Apple Color Emoji', 'Segoe UI Emoji', 'Segoe UI Symbol'\" font-size=\"13.00\">total awards</text>\n",
       "<polygon fill=\"#f5f5f5\" stroke=\"none\" points=\"138,-197 138,-221 233,-221 233,-197 138,-197\"/>\n",
       "<text text-anchor=\"start\" x=\"205\" y=\"-206.6\" font-family=\"-apple-system, BlinkMacSystemFont, 'Segoe UI', Helvetica, Arial, sans-serif, 'Apple Color Emoji', 'Segoe UI Emoji', 'Segoe UI Symbol'\" font-style=\"italic\" font-size=\"13.00\">long</text>\n",
       "<polygon fill=\"#ffffff\" stroke=\"none\" points=\"9,-173 9,-197 40,-197 40,-173 9,-173\"/>\n",
       "<polygon fill=\"#ffffff\" stroke=\"none\" points=\"40,-173 40,-197 138,-197 138,-173 40,-173\"/>\n",
       "<text text-anchor=\"start\" x=\"45\" y=\"-181.6\" font-family=\"-apple-system, BlinkMacSystemFont, 'Segoe UI', Helvetica, Arial, sans-serif, 'Apple Color Emoji', 'Segoe UI Emoji', 'Segoe UI Symbol'\" font-size=\"13.00\">created date</text>\n",
       "<polygon fill=\"#ffffff\" stroke=\"none\" points=\"138,-173 138,-197 233,-197 233,-173 138,-173\"/>\n",
       "<text text-anchor=\"start\" x=\"171\" y=\"-182.6\" font-family=\"-apple-system, BlinkMacSystemFont, 'Segoe UI', Helvetica, Arial, sans-serif, 'Apple Color Emoji', 'Segoe UI Emoji', 'Segoe UI Symbol'\" font-style=\"italic\" font-size=\"13.00\">LocalDate</text>\n",
       "<polygon fill=\"#f5f5f5\" stroke=\"none\" points=\"9,-149 9,-173 40,-173 40,-149 9,-149\"/>\n",
       "<polygon fill=\"#f5f5f5\" stroke=\"none\" points=\"40,-149 40,-173 138,-173 138,-149 40,-149\"/>\n",
       "<text text-anchor=\"start\" x=\"45\" y=\"-157.6\" font-family=\"-apple-system, BlinkMacSystemFont, 'Segoe UI', Helvetica, Arial, sans-serif, 'Apple Color Emoji', 'Segoe UI Emoji', 'Segoe UI Symbol'\" font-size=\"13.00\">created time</text>\n",
       "<polygon fill=\"#f5f5f5\" stroke=\"none\" points=\"138,-149 138,-173 233,-173 233,-149 138,-149\"/>\n",
       "<text text-anchor=\"start\" x=\"195\" y=\"-158.6\" font-family=\"-apple-system, BlinkMacSystemFont, 'Segoe UI', Helvetica, Arial, sans-serif, 'Apple Color Emoji', 'Segoe UI Emoji', 'Segoe UI Symbol'\" font-style=\"italic\" font-size=\"13.00\">String</text>\n",
       "<polygon fill=\"#ffffff\" stroke=\"none\" points=\"9,-125 9,-149 40,-149 40,-125 9,-125\"/>\n",
       "<polygon fill=\"#ffffff\" stroke=\"none\" points=\"40,-125 40,-149 138,-149 138,-125 40,-125\"/>\n",
       "<text text-anchor=\"start\" x=\"45\" y=\"-133.6\" font-family=\"-apple-system, BlinkMacSystemFont, 'Segoe UI', Helvetica, Arial, sans-serif, 'Apple Color Emoji', 'Segoe UI Emoji', 'Segoe UI Symbol'\" font-size=\"13.00\">subreddit</text>\n",
       "<polygon fill=\"#ffffff\" stroke=\"none\" points=\"138,-125 138,-149 233,-149 233,-125 138,-125\"/>\n",
       "<text text-anchor=\"start\" x=\"195\" y=\"-134.6\" font-family=\"-apple-system, BlinkMacSystemFont, 'Segoe UI', Helvetica, Arial, sans-serif, 'Apple Color Emoji', 'Segoe UI Emoji', 'Segoe UI Symbol'\" font-style=\"italic\" font-size=\"13.00\">String</text>\n",
       "<polygon fill=\"#f5f5f5\" stroke=\"none\" points=\"9,-101 9,-125 40,-125 40,-101 9,-101\"/>\n",
       "<polygon fill=\"#f5f5f5\" stroke=\"none\" points=\"40,-101 40,-125 138,-125 138,-101 40,-101\"/>\n",
       "<text text-anchor=\"start\" x=\"45\" y=\"-109.6\" font-family=\"-apple-system, BlinkMacSystemFont, 'Segoe UI', Helvetica, Arial, sans-serif, 'Apple Color Emoji', 'Segoe UI Emoji', 'Segoe UI Symbol'\" font-size=\"13.00\">words</text>\n",
       "<polygon fill=\"#f5f5f5\" stroke=\"none\" points=\"138,-101 138,-125 233,-125 233,-101 138,-101\"/>\n",
       "<text text-anchor=\"start\" x=\"205\" y=\"-110.6\" font-family=\"-apple-system, BlinkMacSystemFont, 'Segoe UI', Helvetica, Arial, sans-serif, 'Apple Color Emoji', 'Segoe UI Emoji', 'Segoe UI Symbol'\" font-style=\"italic\" font-size=\"13.00\">long</text>\n",
       "<polygon fill=\"#ffffff\" stroke=\"none\" points=\"9,-77 9,-101 40,-101 40,-77 9,-77\"/>\n",
       "<polygon fill=\"#ffffff\" stroke=\"none\" points=\"40,-77 40,-101 138,-101 138,-77 40,-77\"/>\n",
       "<text text-anchor=\"start\" x=\"45\" y=\"-85.6\" font-family=\"-apple-system, BlinkMacSystemFont, 'Segoe UI', Helvetica, Arial, sans-serif, 'Apple Color Emoji', 'Segoe UI Emoji', 'Segoe UI Symbol'\" font-size=\"13.00\">chars</text>\n",
       "<polygon fill=\"#ffffff\" stroke=\"none\" points=\"138,-77 138,-101 233,-101 233,-77 138,-77\"/>\n",
       "<text text-anchor=\"start\" x=\"205\" y=\"-86.6\" font-family=\"-apple-system, BlinkMacSystemFont, 'Segoe UI', Helvetica, Arial, sans-serif, 'Apple Color Emoji', 'Segoe UI Emoji', 'Segoe UI Symbol'\" font-style=\"italic\" font-size=\"13.00\">long</text>\n",
       "<polygon fill=\"#f5f5f5\" stroke=\"none\" points=\"9,-53 9,-77 40,-77 40,-53 9,-53\"/>\n",
       "<polygon fill=\"#f5f5f5\" stroke=\"none\" points=\"40,-53 40,-77 138,-77 138,-53 40,-53\"/>\n",
       "<text text-anchor=\"start\" x=\"45\" y=\"-61.6\" font-family=\"-apple-system, BlinkMacSystemFont, 'Segoe UI', Helvetica, Arial, sans-serif, 'Apple Color Emoji', 'Segoe UI Emoji', 'Segoe UI Symbol'\" font-size=\"13.00\">word density</text>\n",
       "<polygon fill=\"#f5f5f5\" stroke=\"none\" points=\"138,-53 138,-77 233,-77 233,-53 138,-53\"/>\n",
       "<text text-anchor=\"start\" x=\"191\" y=\"-62.6\" font-family=\"-apple-system, BlinkMacSystemFont, 'Segoe UI', Helvetica, Arial, sans-serif, 'Apple Color Emoji', 'Segoe UI Emoji', 'Segoe UI Symbol'\" font-style=\"italic\" font-size=\"13.00\">double</text>\n",
       "<polygon fill=\"#ffffff\" stroke=\"none\" points=\"9,-29 9,-53 40,-53 40,-29 9,-29\"/>\n",
       "<polygon fill=\"#ffffff\" stroke=\"none\" points=\"40,-29 40,-53 138,-53 138,-29 40,-29\"/>\n",
       "<text text-anchor=\"start\" x=\"45\" y=\"-37.6\" font-family=\"-apple-system, BlinkMacSystemFont, 'Segoe UI', Helvetica, Arial, sans-serif, 'Apple Color Emoji', 'Segoe UI Emoji', 'Segoe UI Symbol'\" font-size=\"13.00\">unique words</text>\n",
       "<polygon fill=\"#ffffff\" stroke=\"none\" points=\"138,-29 138,-53 233,-53 233,-29 138,-29\"/>\n",
       "<text text-anchor=\"start\" x=\"205\" y=\"-38.6\" font-family=\"-apple-system, BlinkMacSystemFont, 'Segoe UI', Helvetica, Arial, sans-serif, 'Apple Color Emoji', 'Segoe UI Emoji', 'Segoe UI Symbol'\" font-style=\"italic\" font-size=\"13.00\">long</text>\n",
       "<polygon fill=\"#f5f5f5\" stroke=\"none\" points=\"9,-5 9,-29 40,-29 40,-5 9,-5\"/>\n",
       "<polygon fill=\"#f5f5f5\" stroke=\"none\" points=\"40,-5 40,-29 138,-29 138,-5 40,-5\"/>\n",
       "<text text-anchor=\"start\" x=\"45\" y=\"-13.6\" font-family=\"-apple-system, BlinkMacSystemFont, 'Segoe UI', Helvetica, Arial, sans-serif, 'Apple Color Emoji', 'Segoe UI Emoji', 'Segoe UI Symbol'\" font-size=\"13.00\">unique density</text>\n",
       "<polygon fill=\"#f5f5f5\" stroke=\"none\" points=\"138,-5 138,-29 233,-29 233,-5 138,-5\"/>\n",
       "<text text-anchor=\"start\" x=\"191\" y=\"-14.6\" font-family=\"-apple-system, BlinkMacSystemFont, 'Segoe UI', Helvetica, Arial, sans-serif, 'Apple Color Emoji', 'Segoe UI Emoji', 'Segoe UI Symbol'\" font-style=\"italic\" font-size=\"13.00\">double</text>\n",
       "<polygon fill=\"none\" stroke=\"black\" points=\"8,-4 8,-486 234,-486 234,-4 8,-4\"/>\n",
       "</g>\n",
       "<!-- Entities -->\n",
       "<g id=\"node2\" class=\"node\"><title>Entities</title>\n",
       "<text text-anchor=\"start\" x=\"372.5\" y=\"-290.6\" font-family=\"-apple-system, BlinkMacSystemFont, 'Segoe UI', Helvetica, Arial, sans-serif, 'Apple Color Emoji', 'Segoe UI Emoji', 'Segoe UI Symbol'\" font-weight=\"bold\" font-size=\"13.00\">Entities</text>\n",
       "<polygon fill=\"#f5f5f5\" stroke=\"none\" points=\"327,-257 327,-281 358,-281 358,-257 327,-257\"/>\n",
       "<text text-anchor=\"start\" x=\"332\" y=\"-266.6\" font-family=\"-apple-system, BlinkMacSystemFont, 'Segoe UI', Helvetica, Arial, sans-serif, 'Apple Color Emoji', 'Segoe UI Emoji', 'Segoe UI Symbol'\" font-weight=\"bold\" font-size=\"13.00\">key</text>\n",
       "<polygon fill=\"#f5f5f5\" stroke=\"none\" points=\"358,-257 358,-281 420,-281 420,-257 358,-257\"/>\n",
       "<text text-anchor=\"start\" x=\"363\" y=\"-265.6\" font-family=\"-apple-system, BlinkMacSystemFont, 'Segoe UI', Helvetica, Arial, sans-serif, 'Apple Color Emoji', 'Segoe UI Emoji', 'Segoe UI Symbol'\" font-size=\"13.00\">id</text>\n",
       "<polygon fill=\"#f5f5f5\" stroke=\"none\" points=\"420,-257 420,-281 463,-281 463,-257 420,-257\"/>\n",
       "<text text-anchor=\"start\" x=\"425\" y=\"-266.6\" font-family=\"-apple-system, BlinkMacSystemFont, 'Segoe UI', Helvetica, Arial, sans-serif, 'Apple Color Emoji', 'Segoe UI Emoji', 'Segoe UI Symbol'\" font-style=\"italic\" font-size=\"13.00\">String</text>\n",
       "<polygon fill=\"#ffffff\" stroke=\"none\" points=\"327,-233 327,-257 358,-257 358,-233 327,-233\"/>\n",
       "<text text-anchor=\"start\" x=\"332\" y=\"-242.6\" font-family=\"-apple-system, BlinkMacSystemFont, 'Segoe UI', Helvetica, Arial, sans-serif, 'Apple Color Emoji', 'Segoe UI Emoji', 'Segoe UI Symbol'\" font-weight=\"bold\" font-size=\"13.00\">key</text>\n",
       "<polygon fill=\"#ffffff\" stroke=\"none\" points=\"358,-233 358,-257 420,-257 420,-233 358,-233\"/>\n",
       "<text text-anchor=\"start\" x=\"363\" y=\"-241.6\" font-family=\"-apple-system, BlinkMacSystemFont, 'Segoe UI', Helvetica, Arial, sans-serif, 'Apple Color Emoji', 'Segoe UI Emoji', 'Segoe UI Symbol'\" font-size=\"13.00\">category</text>\n",
       "<polygon fill=\"#ffffff\" stroke=\"none\" points=\"420,-233 420,-257 463,-257 463,-233 420,-233\"/>\n",
       "<text text-anchor=\"start\" x=\"425\" y=\"-242.6\" font-family=\"-apple-system, BlinkMacSystemFont, 'Segoe UI', Helvetica, Arial, sans-serif, 'Apple Color Emoji', 'Segoe UI Emoji', 'Segoe UI Symbol'\" font-style=\"italic\" font-size=\"13.00\">String</text>\n",
       "<polygon fill=\"#f5f5f5\" stroke=\"none\" points=\"327,-209 327,-233 358,-233 358,-209 327,-209\"/>\n",
       "<text text-anchor=\"start\" x=\"332\" y=\"-218.6\" font-family=\"-apple-system, BlinkMacSystemFont, 'Segoe UI', Helvetica, Arial, sans-serif, 'Apple Color Emoji', 'Segoe UI Emoji', 'Segoe UI Symbol'\" font-weight=\"bold\" font-size=\"13.00\">key</text>\n",
       "<polygon fill=\"#f5f5f5\" stroke=\"none\" points=\"358,-209 358,-233 420,-233 420,-209 358,-209\"/>\n",
       "<text text-anchor=\"start\" x=\"363\" y=\"-217.6\" font-family=\"-apple-system, BlinkMacSystemFont, 'Segoe UI', Helvetica, Arial, sans-serif, 'Apple Color Emoji', 'Segoe UI Emoji', 'Segoe UI Symbol'\" font-size=\"13.00\">text</text>\n",
       "<polygon fill=\"#f5f5f5\" stroke=\"none\" points=\"420,-209 420,-233 463,-233 463,-209 420,-209\"/>\n",
       "<text text-anchor=\"start\" x=\"425\" y=\"-218.6\" font-family=\"-apple-system, BlinkMacSystemFont, 'Segoe UI', Helvetica, Arial, sans-serif, 'Apple Color Emoji', 'Segoe UI Emoji', 'Segoe UI Symbol'\" font-style=\"italic\" font-size=\"13.00\">String</text>\n",
       "<polygon fill=\"#ffffff\" stroke=\"none\" points=\"327,-185 327,-209 358,-209 358,-185 327,-185\"/>\n",
       "<polygon fill=\"#ffffff\" stroke=\"none\" points=\"358,-185 358,-209 420,-209 420,-185 358,-185\"/>\n",
       "<text text-anchor=\"start\" x=\"363\" y=\"-193.6\" font-family=\"-apple-system, BlinkMacSystemFont, 'Segoe UI', Helvetica, Arial, sans-serif, 'Apple Color Emoji', 'Segoe UI Emoji', 'Segoe UI Symbol'\" font-size=\"13.00\">text count</text>\n",
       "<polygon fill=\"#ffffff\" stroke=\"none\" points=\"420,-185 420,-209 463,-209 463,-185 420,-185\"/>\n",
       "<text text-anchor=\"start\" x=\"444\" y=\"-194.6\" font-family=\"-apple-system, BlinkMacSystemFont, 'Segoe UI', Helvetica, Arial, sans-serif, 'Apple Color Emoji', 'Segoe UI Emoji', 'Segoe UI Symbol'\" font-style=\"italic\" font-size=\"13.00\">int</text>\n",
       "<polygon fill=\"none\" stroke=\"black\" points=\"326,-184 326,-306 464,-306 464,-184 326,-184\"/>\n",
       "</g>\n",
       "<!-- Reddit_Posts&#45;&gt;Entities -->\n",
       "<g id=\"edge1\" class=\"edge\"><title>Reddit_Posts-&gt;Entities</title>\n",
       "<path fill=\"none\" stroke=\"black\" stroke-dasharray=\"5,2\" d=\"M242.095,-245C264.232,-245 286.938,-245 307.825,-245\"/>\n",
       "<polygon fill=\"black\" stroke=\"black\" points=\"307.922,-248.5 317.922,-245 307.922,-241.5 307.922,-248.5\"/>\n",
       "<text text-anchor=\"middle\" x=\"280\" y=\"-248.6\" font-family=\"-apple-system, BlinkMacSystemFont, 'Segoe UI', Helvetica, Arial, sans-serif, 'Apple Color Emoji', 'Segoe UI Emoji', 'Segoe UI Symbol'\" font-size=\"13.00\">id → id</text>\n",
       "</g>\n",
       "</g>\n",
       "</svg>"
      ],
      "text/plain": [
       "<IPython.core.display.SVG object>"
      ]
     },
     "execution_count": 20,
     "metadata": {},
     "output_type": "execute_result"
    }
   ],
   "source": [
    "cube.schema"
   ]
  },
  {
   "cell_type": "markdown",
   "metadata": {},
   "source": [
    "Take a look at the structure of the cube created. Only a `Count` measure is created."
   ]
  },
  {
   "cell_type": "code",
   "execution_count": 21,
   "metadata": {},
   "outputs": [
    {
     "data": {
      "application/json": {
       "Dimensions": {
        "Entities": {
         "category": [
          "category"
         ],
         "text": [
          "text"
         ],
         "text count": [
          "text count"
         ]
        },
        "Reddit_Posts": {
         "author": [
          "author"
         ],
         "chars": [
          "chars"
         ],
         "comments": [
          "comments"
         ],
         "created": [
          "created"
         ],
         "created date": [
          "created date"
         ],
         "created time": [
          "created time"
         ],
         "id": [
          "id"
         ],
         "lemmatized post": [
          "lemmatized post"
         ],
         "lemmatized title": [
          "lemmatized title"
         ],
         "pinned": [
          "pinned"
         ],
         "post": [
          "post"
         ],
         "score": [
          "score"
         ],
         "subreddit": [
          "subreddit"
         ],
         "title": [
          "title"
         ],
         "total awards": [
          "total awards"
         ],
         "unique words": [
          "unique words"
         ],
         "words": [
          "words"
         ]
        }
       },
       "Measures": {
        "contributors.COUNT": {
         "formatter": "INT[#,###]"
        }
       }
      },
      "text/html": [
       "<ul>\n",
       "<li>Reddit\n",
       "  <ul>\n",
       "  <li>Dimensions\n",
       "    <ul>\n",
       "    <li>Entities\n",
       "      <ul>\n",
       "      <li>category\n",
       "        <ol>\n",
       "        <li>category</li>\n",
       "        </ol>      </li>\n",
       "      <li>text\n",
       "        <ol>\n",
       "        <li>text</li>\n",
       "        </ol>      </li>\n",
       "      <li>text count\n",
       "        <ol>\n",
       "        <li>text count</li>\n",
       "        </ol>      </li>\n",
       "      </ul>\n",
       "    </li>\n",
       "    <li>Reddit_Posts\n",
       "      <ul>\n",
       "      <li>author\n",
       "        <ol>\n",
       "        <li>author</li>\n",
       "        </ol>      </li>\n",
       "      <li>chars\n",
       "        <ol>\n",
       "        <li>chars</li>\n",
       "        </ol>      </li>\n",
       "      <li>comments\n",
       "        <ol>\n",
       "        <li>comments</li>\n",
       "        </ol>      </li>\n",
       "      <li>created\n",
       "        <ol>\n",
       "        <li>created</li>\n",
       "        </ol>      </li>\n",
       "      <li>created date\n",
       "        <ol>\n",
       "        <li>created date</li>\n",
       "        </ol>      </li>\n",
       "      <li>created time\n",
       "        <ol>\n",
       "        <li>created time</li>\n",
       "        </ol>      </li>\n",
       "      <li>id\n",
       "        <ol>\n",
       "        <li>id</li>\n",
       "        </ol>      </li>\n",
       "      <li>lemmatized post\n",
       "        <ol>\n",
       "        <li>lemmatized post</li>\n",
       "        </ol>      </li>\n",
       "      <li>lemmatized title\n",
       "        <ol>\n",
       "        <li>lemmatized title</li>\n",
       "        </ol>      </li>\n",
       "      <li>pinned\n",
       "        <ol>\n",
       "        <li>pinned</li>\n",
       "        </ol>      </li>\n",
       "      <li>post\n",
       "        <ol>\n",
       "        <li>post</li>\n",
       "        </ol>      </li>\n",
       "      <li>score\n",
       "        <ol>\n",
       "        <li>score</li>\n",
       "        </ol>      </li>\n",
       "      <li>subreddit\n",
       "        <ol>\n",
       "        <li>subreddit</li>\n",
       "        </ol>      </li>\n",
       "      <li>title\n",
       "        <ol>\n",
       "        <li>title</li>\n",
       "        </ol>      </li>\n",
       "      <li>total awards\n",
       "        <ol>\n",
       "        <li>total awards</li>\n",
       "        </ol>      </li>\n",
       "      <li>unique words\n",
       "        <ol>\n",
       "        <li>unique words</li>\n",
       "        </ol>      </li>\n",
       "      <li>words\n",
       "        <ol>\n",
       "        <li>words</li>\n",
       "        </ol>      </li>\n",
       "      </ul>\n",
       "    </li>\n",
       "    </ul>\n",
       "  </li>\n",
       "  <li>Measures\n",
       "    <ul>\n",
       "    <li>contributors.COUNT\n",
       "      <ul>\n",
       "      <li>formatter: INT[#,###]</li>\n",
       "      </ul>\n",
       "    </li>\n",
       "    </ul>\n",
       "  </li>\n",
       "  </ul>\n",
       "</li>\n",
       "</ul>\n"
      ],
      "text/plain": [
       "Cube(_name='Reddit', _hierarchies=Hierarchies(), _measures=Measures())"
      ]
     },
     "execution_count": 21,
     "metadata": {
      "application/json": {
       "expanded": false,
       "root": "Reddit"
      }
     },
     "output_type": "execute_result"
    }
   ],
   "source": [
    "m = cube.measures\n",
    "l = cube.levels\n",
    "h = cube.hierarchies\n",
    "cube"
   ]
  },
  {
   "cell_type": "markdown",
   "metadata": {},
   "source": [
    "#### Managing hierarchies\n",
    "\n",
    "Since I am going to create my own measures, I will delete the numeric columns from my hierarchies to avoid confusion with the measures that I will be creating."
   ]
  },
  {
   "cell_type": "code",
   "execution_count": 22,
   "metadata": {},
   "outputs": [],
   "source": [
    "del h[\"text count\"]\n",
    "del h[\"score\"]\n",
    "del h[\"comments\"]\n",
    "del h[\"total awards\"]\n",
    "del h[\"words\"]\n",
    "del h[\"chars\"]\n",
    "del h[\"unique words\"]"
   ]
  },
  {
   "cell_type": "markdown",
   "metadata": {},
   "source": [
    "#### Measures creation\n",
    "\n",
    "In default `auto` mode, atoti will create a `MEAN` and a `SUM` measure.  \n",
    "However, as I only require `sum` in my simple use case and in order to demonstrate how simple aggregation can be done with atoti, I created the below measures instead."
   ]
  },
  {
   "cell_type": "code",
   "execution_count": 23,
   "metadata": {},
   "outputs": [],
   "source": [
    "m[\"Text Count\"] = tt.agg.sum(entity_store[\"text count\"])\n",
    "m[\"Score\"] = tt.agg.sum(reddit_store[\"score\"])\n",
    "m[\"Comments\"] = tt.agg.sum(reddit_store[\"comments\"])\n",
    "m[\"Total awards\"] = tt.agg.sum(reddit_store[\"total awards\"])\n",
    "m[\"Words\"] = tt.agg.sum(reddit_store[\"words\"])\n",
    "m[\"Chars\"] = tt.agg.sum(reddit_store[\"chars\"])\n",
    "m[\"Unique words\"] = tt.agg.sum(reddit_store[\"unique words\"])\n",
    "m[\"Word density\"] = tt.agg.sum(reddit_store[\"word density\"])\n",
    "m[\"Unique density\"] = tt.agg.sum(reddit_store[\"unique density\"])"
   ]
  },
  {
   "cell_type": "markdown",
   "metadata": {},
   "source": [
    "##### Distinct measure\n",
    "\n",
    "I use the [`count_distinct`](https://docs.atoti.io/0.4.2/lib/atoti.html?highlight=count_distinct#atoti.agg.count_distinct) function to compute the number of days the data span across."
   ]
  },
  {
   "cell_type": "code",
   "execution_count": 24,
   "metadata": {},
   "outputs": [],
   "source": [
    "m[\"Number days\"] = tt.agg.count_distinct(reddit_store[\"created date\"])"
   ]
  },
  {
   "cell_type": "markdown",
   "metadata": {},
   "source": [
    "##### Cumulative measure\n",
    "\n",
    "Aggregation with the [`cumulative`](https://docs.atoti.io/0.4.2/lib/atoti.scope.html?highlight=cumulative#atoti.scope.cumulative) scope allows me to see the trend of the posting over the `created` level. By setting the parameter `dense=True`, we can see a continuous plot of the trend even if there are no postings on days in between. "
   ]
  },
  {
   "cell_type": "code",
   "execution_count": 25,
   "metadata": {},
   "outputs": [],
   "source": [
    "m[\"Cumulative Count\"] = tt.agg.sum(\n",
    "    m[\"contributors.COUNT\"], scope=tt.scope.cumulative(l[\"created\"], dense=True)\n",
    ")"
   ]
  },
  {
   "cell_type": "code",
   "execution_count": 26,
   "metadata": {
    "atoti": {
     "widget": {
      "mapping": {
       "horizontalSubplots": [],
       "splitBy": [
        "[Reddit_Posts].[subreddit].[subreddit]"
       ],
       "values": [
        "[Measures].[Cumulative Count]"
       ],
       "verticalSubplots": [],
       "xAxis": [
        "[Reddit_Posts].[created].[created]"
       ]
      },
      "name": "Posting Trends",
      "plotly": {
       "data": {
        "commonTraceOverride": {
         "mode": "lines"
        }
       }
      },
      "query": {
       "context": {
        "queriesResultLimit.intermediateSize": 1000000,
        "queriesResultLimit.transientSize": 10000000
       },
       "mdx": "SELECT NON EMPTY Crossjoin([Reddit_Posts].[created].[created].Members, [Reddit_Posts].[subreddit].[subreddit].Members) ON ROWS, NON EMPTY [Measures].[Cumulative Count] ON COLUMNS FROM [Reddit] CELL PROPERTIES VALUE, FORMATTED_VALUE, BACK_COLOR, FORE_COLOR, FONT_FLAGS",
       "updateMode": "once"
      },
      "serverKey": "default",
      "widgetKey": "plotly-line-chart"
     }
    }
   },
   "outputs": [
    {
     "data": {
      "application/vnd.atoti.widget.v0+json": {
       "name": "Posting Trends",
       "session": "Unnamed"
      },
      "text/html": [
       "<img src=\"data:image/svg+xml;charset=utf8,%3C%3Fxml%20version%3D%221.0%22%20standalone%3D%22no%22%3F%3E%3Csvg%20xmlns%3D%22http%3A%2F%2Fwww.w3.org%2F2000%2Fsvg%22%20xmlns%3Axlink%3D%22http%3A%2F%2Fwww.w3.org%2F1999%2Fxlink%22%20height%3D%22348%22%20width%3D%22930%22%20viewBox%3D%220%200%20930%20348%22%3E%3Cdefs%20id%3D%22defs-3c9aa1%22%3E%3Cg%20class%3D%22clips%22%3E%3CclipPath%20id%3D%22clip3c9aa1xyplot%22%20class%3D%22plotclip%22%3E%3Crect%20width%3D%22706%22%20height%3D%22238%22%2F%3E%3C%2FclipPath%3E%3CclipPath%20class%3D%22axesclip%22%20id%3D%22clip3c9aa1x%22%3E%3Crect%20x%3D%2280%22%20y%3D%220%22%20width%3D%22706%22%20height%3D%22348%22%2F%3E%3C%2FclipPath%3E%3CclipPath%20class%3D%22axesclip%22%20id%3D%22clip3c9aa1y%22%3E%3Crect%20x%3D%220%22%20y%3D%2230%22%20width%3D%22930%22%20height%3D%22238%22%2F%3E%3C%2FclipPath%3E%3CclipPath%20class%3D%22axesclip%22%20id%3D%22clip3c9aa1xy%22%3E%3Crect%20x%3D%2280%22%20y%3D%2230%22%20width%3D%22706%22%20height%3D%22238%22%2F%3E%3C%2FclipPath%3E%3C%2Fg%3E%3Cg%20class%3D%22gradients%22%2F%3E%3C%2Fdefs%3E%3Cg%20class%3D%22bglayer%22%2F%3E%3Cg%20class%3D%22draglayer%20cursor-crosshair%22%3E%3Cg%20class%3D%22xy%22%3E%3Crect%20class%3D%22nsewdrag%20drag%22%20data-subplot%3D%22xy%22%20x%3D%2280%22%20y%3D%2230%22%20width%3D%22706%22%20height%3D%22238%22%20style%3D%22fill%3A%20transparent%3B%20stroke-width%3A%200%3B%20pointer-events%3A%20all%3B%22%2F%3E%3Crect%20class%3D%22nwdrag%20drag%20cursor-nw-resize%22%20data-subplot%3D%22xy%22%20x%3D%2260%22%20y%3D%2210%22%20width%3D%2220%22%20height%3D%2220%22%20style%3D%22fill%3A%20transparent%3B%20stroke-width%3A%200%3B%20pointer-events%3A%20all%3B%22%2F%3E%3Crect%20class%3D%22nedrag%20drag%20cursor-ne-resize%22%20data-subplot%3D%22xy%22%20x%3D%22786%22%20y%3D%2210%22%20width%3D%2220%22%20height%3D%2220%22%20style%3D%22fill%3A%20transparent%3B%20stroke-width%3A%200%3B%20pointer-events%3A%20all%3B%22%2F%3E%3Crect%20class%3D%22swdrag%20drag%20cursor-sw-resize%22%20data-subplot%3D%22xy%22%20x%3D%2260%22%20y%3D%22268%22%20width%3D%2220%22%20height%3D%2220%22%20style%3D%22fill%3A%20transparent%3B%20stroke-width%3A%200%3B%20pointer-events%3A%20all%3B%22%2F%3E%3Crect%20class%3D%22sedrag%20drag%20cursor-se-resize%22%20data-subplot%3D%22xy%22%20x%3D%22786%22%20y%3D%22268%22%20width%3D%2220%22%20height%3D%2220%22%20style%3D%22fill%3A%20transparent%3B%20stroke-width%3A%200%3B%20pointer-events%3A%20all%3B%22%2F%3E%3Crect%20class%3D%22ewdrag%20drag%20cursor-ew-resize%22%20data-subplot%3D%22xy%22%20x%3D%22150.60000000000002%22%20y%3D%22268.5%22%20width%3D%22564.8000000000001%22%20height%3D%2220%22%20style%3D%22fill%3A%20transparent%3B%20stroke-width%3A%200%3B%20pointer-events%3A%20all%3B%22%2F%3E%3Crect%20class%3D%22wdrag%20drag%20cursor-w-resize%22%20data-subplot%3D%22xy%22%20x%3D%2280%22%20y%3D%22268.5%22%20width%3D%2270.60000000000001%22%20height%3D%2220%22%20style%3D%22fill%3A%20transparent%3B%20stroke-width%3A%200%3B%20pointer-events%3A%20all%3B%22%2F%3E%3Crect%20class%3D%22edrag%20drag%20cursor-e-resize%22%20data-subplot%3D%22xy%22%20x%3D%22715.4%22%20y%3D%22268.5%22%20width%3D%2270.60000000000001%22%20height%3D%2220%22%20style%3D%22fill%3A%20transparent%3B%20stroke-width%3A%200%3B%20pointer-events%3A%20all%3B%22%2F%3E%3Crect%20class%3D%22nsdrag%20drag%20cursor-ns-resize%22%20data-subplot%3D%22xy%22%20x%3D%2259.5%22%20y%3D%2253.8%22%20width%3D%2220%22%20height%3D%22190.4%22%20style%3D%22fill%3A%20transparent%3B%20stroke-width%3A%200%3B%20pointer-events%3A%20all%3B%22%2F%3E%3Crect%20class%3D%22sdrag%20drag%20cursor-s-resize%22%20data-subplot%3D%22xy%22%20x%3D%2259.5%22%20y%3D%22244.20000000000002%22%20width%3D%2220%22%20height%3D%2223.8%22%20style%3D%22fill%3A%20transparent%3B%20stroke-width%3A%200%3B%20pointer-events%3A%20all%3B%22%2F%3E%3Crect%20class%3D%22ndrag%20drag%20cursor-n-resize%22%20data-subplot%3D%22xy%22%20x%3D%2259.5%22%20y%3D%2230%22%20width%3D%2220%22%20height%3D%2223.8%22%20style%3D%22fill%3A%20transparent%3B%20stroke-width%3A%200%3B%20pointer-events%3A%20all%3B%22%2F%3E%3C%2Fg%3E%3C%2Fg%3E%3Cg%20class%3D%22layer-below%22%3E%3Cg%20class%3D%22imagelayer%22%2F%3E%3Cg%20class%3D%22shapelayer%22%2F%3E%3C%2Fg%3E%3Cg%20class%3D%22cartesianlayer%22%3E%3Cg%20class%3D%22subplot%20xy%22%3E%3Cg%20class%3D%22layer-subplot%22%3E%3Cg%20class%3D%22shapelayer%22%2F%3E%3Cg%20class%3D%22imagelayer%22%2F%3E%3C%2Fg%3E%3Cg%20class%3D%22gridlayer%22%3E%3Cg%20class%3D%22x%22%3E%3Cpath%20class%3D%22xgrid%20crisp%22%20transform%3D%22translate(107.75%2C0)%22%20d%3D%22M0%2C30v238%22%20style%3D%22stroke%3A%20rgb(89%2C%2089%2C%2089)%3B%20stroke-opacity%3A%200.25%3B%20stroke-width%3A%201px%3B%22%2F%3E%3Cpath%20class%3D%22xgrid%20crisp%22%20transform%3D%22translate(179.79000000000002%2C0)%22%20d%3D%22M0%2C30v238%22%20style%3D%22stroke%3A%20rgb(89%2C%2089%2C%2089)%3B%20stroke-opacity%3A%200.25%3B%20stroke-width%3A%201px%3B%22%2F%3E%3Cpath%20class%3D%22xgrid%20crisp%22%20transform%3D%22translate(251.82%2C0)%22%20d%3D%22M0%2C30v238%22%20style%3D%22stroke%3A%20rgb(89%2C%2089%2C%2089)%3B%20stroke-opacity%3A%200.25%3B%20stroke-width%3A%201px%3B%22%2F%3E%3Cpath%20class%3D%22xgrid%20crisp%22%20transform%3D%22translate(323.86%2C0)%22%20d%3D%22M0%2C30v238%22%20style%3D%22stroke%3A%20rgb(89%2C%2089%2C%2089)%3B%20stroke-opacity%3A%200.25%3B%20stroke-width%3A%201px%3B%22%2F%3E%3Cpath%20class%3D%22xgrid%20crisp%22%20transform%3D%22translate(395.9%2C0)%22%20d%3D%22M0%2C30v238%22%20style%3D%22stroke%3A%20rgb(89%2C%2089%2C%2089)%3B%20stroke-opacity%3A%200.25%3B%20stroke-width%3A%201px%3B%22%2F%3E%3Cpath%20class%3D%22xgrid%20crisp%22%20transform%3D%22translate(467.93%2C0)%22%20d%3D%22M0%2C30v238%22%20style%3D%22stroke%3A%20rgb(89%2C%2089%2C%2089)%3B%20stroke-opacity%3A%200.25%3B%20stroke-width%3A%201px%3B%22%2F%3E%3Cpath%20class%3D%22xgrid%20crisp%22%20transform%3D%22translate(539.97%2C0)%22%20d%3D%22M0%2C30v238%22%20style%3D%22stroke%3A%20rgb(89%2C%2089%2C%2089)%3B%20stroke-opacity%3A%200.25%3B%20stroke-width%3A%201px%3B%22%2F%3E%3Cpath%20class%3D%22xgrid%20crisp%22%20transform%3D%22translate(612.01%2C0)%22%20d%3D%22M0%2C30v238%22%20style%3D%22stroke%3A%20rgb(89%2C%2089%2C%2089)%3B%20stroke-opacity%3A%200.25%3B%20stroke-width%3A%201px%3B%22%2F%3E%3Cpath%20class%3D%22xgrid%20crisp%22%20transform%3D%22translate(684.04%2C0)%22%20d%3D%22M0%2C30v238%22%20style%3D%22stroke%3A%20rgb(89%2C%2089%2C%2089)%3B%20stroke-opacity%3A%200.25%3B%20stroke-width%3A%201px%3B%22%2F%3E%3Cpath%20class%3D%22xgrid%20crisp%22%20transform%3D%22translate(756.08%2C0)%22%20d%3D%22M0%2C30v238%22%20style%3D%22stroke%3A%20rgb(89%2C%2089%2C%2089)%3B%20stroke-opacity%3A%200.25%3B%20stroke-width%3A%201px%3B%22%2F%3E%3C%2Fg%3E%3Cg%20class%3D%22y%22%3E%3Cpath%20class%3D%22ygrid%20crisp%22%20transform%3D%22translate(0%2C213.6)%22%20d%3D%22M80%2C0h706%22%20style%3D%22stroke%3A%20rgb(89%2C%2089%2C%2089)%3B%20stroke-opacity%3A%200.25%3B%20stroke-width%3A%201px%3B%22%2F%3E%3Cpath%20class%3D%22ygrid%20crisp%22%20transform%3D%22translate(0%2C170.68)%22%20d%3D%22M80%2C0h706%22%20style%3D%22stroke%3A%20rgb(89%2C%2089%2C%2089)%3B%20stroke-opacity%3A%200.25%3B%20stroke-width%3A%201px%3B%22%2F%3E%3Cpath%20class%3D%22ygrid%20crisp%22%20transform%3D%22translate(0%2C127.75)%22%20d%3D%22M80%2C0h706%22%20style%3D%22stroke%3A%20rgb(89%2C%2089%2C%2089)%3B%20stroke-opacity%3A%200.25%3B%20stroke-width%3A%201px%3B%22%2F%3E%3Cpath%20class%3D%22ygrid%20crisp%22%20transform%3D%22translate(0%2C84.83)%22%20d%3D%22M80%2C0h706%22%20style%3D%22stroke%3A%20rgb(89%2C%2089%2C%2089)%3B%20stroke-opacity%3A%200.25%3B%20stroke-width%3A%201px%3B%22%2F%3E%3Cpath%20class%3D%22ygrid%20crisp%22%20transform%3D%22translate(0%2C41.9)%22%20d%3D%22M80%2C0h706%22%20style%3D%22stroke%3A%20rgb(89%2C%2089%2C%2089)%3B%20stroke-opacity%3A%200.25%3B%20stroke-width%3A%201px%3B%22%2F%3E%3C%2Fg%3E%3C%2Fg%3E%3Cg%20class%3D%22zerolinelayer%22%3E%3Cpath%20class%3D%22yzl%20zl%20crisp%22%20transform%3D%22translate(0%2C256.53)%22%20d%3D%22M80%2C0h706%22%20style%3D%22stroke%3A%20rgb(89%2C%2089%2C%2089)%3B%20stroke-opacity%3A%200.5%3B%20stroke-width%3A%201px%3B%22%2F%3E%3C%2Fg%3E%3Cpath%20class%3D%22xlines-below%22%2F%3E%3Cpath%20class%3D%22ylines-below%22%2F%3E%3Cg%20class%3D%22overlines-below%22%2F%3E%3Cg%20class%3D%22xaxislayer-below%22%2F%3E%3Cg%20class%3D%22yaxislayer-below%22%2F%3E%3Cg%20class%3D%22overaxes-below%22%2F%3E%3Cg%20class%3D%22plot%22%20transform%3D%22translate(80%2C30)%22%20clip-path%3D%22url('%23clip3c9aa1xyplot')%22%3E%3Cg%20class%3D%22scatterlayer%20mlayer%22%3E%3Cg%20class%3D%22trace%20scatter%20trace9ec4590%22%20style%3D%22stroke-miterlimit%3A%202%3B%20opacity%3A%201%3B%22%3E%3Cg%20class%3D%22fills%22%2F%3E%3Cg%20class%3D%22errorbars%22%2F%3E%3Cg%20class%3D%22lines%22%3E%3Cpath%20class%3D%22js-line%22%20d%3D%22M0%2C226.1L3.81%2C224.81L4.33%2C224.38L9.55%2C220.95L11.18%2C220.52L11.89%2C220.09L14.98%2C219.66L15.34%2C218.8L16.68%2C218.37L26%2C215.8L26.04%2C215.37L28.35%2C214.08L28.52%2C213.65L28.97%2C213.22L31.81%2C212.79L32.35%2C212.36L34.94%2C211.93L35.1%2C211.51L36.48%2C211.08L42.61%2C209.36L51.45%2C208.93L51.78%2C208.5L54.38%2C208.07L66.9%2C205.5L74.97%2C205.07L78.53%2C204.21L79.31%2C203.78L86.3%2C202.49L96.97%2C202.06L105.51%2C200.34L123.46%2C199.92L125.42%2C199.49L142.31%2C199.06L154.14%2C197.77L155.25%2C197.34L171.87%2C194.33L184.39%2C193.91L197.47%2C192.19L198.94%2C191.76L216.51%2C188.75L216.7%2C188.33L216.9%2C187.9L218.02%2C187.47L218.53%2C187.04L221.14%2C186.61L228.7%2C183.6L229.19%2C183.17L232.42%2C181.46L239.14%2C181.03L239.8%2C180.6L242.22%2C180.17L242.82%2C179.31L245.46%2C178.88L246.03%2C178.02L248.06%2C177.59L248.73%2C175.88L249.37%2C175.45L260.4%2C174.16L263.15%2C173.73L264.81%2C173.3L269.67%2C172.87L276.91%2C170.3L277.81%2C169.87L279.58%2C168.58L281.63%2C168.15L284.93%2C166.86L285.16%2C166.43L292.04%2C159.56L292.06%2C159.14L293.04%2C155.27L293.34%2C154.84L294.53%2C150.12L294.82%2C149.69L296.89%2C145.83L297.01%2C145.4L297.92%2C144.54L298.3%2C144.11L299.5%2C142.39L300.07%2C141.97L300.76%2C140.25L301.36%2C139.82L302.92%2C136.81L302.97%2C136.38L304.07%2C135.1L304.56%2C134.67L306.54%2C132.09L306.68%2C131.66L307.45%2C130.8L308.03%2C130.38L308.07%2C129.95L308.98%2C129.52L314.88%2C126.51L315.38%2C126.08L319.03%2C121.79L320.83%2C121.36L324.55%2C118.36L327.74%2C117.93L337.21%2C115.35L337.69%2C114.92L338.15%2C114.06L340.9%2C113.63L343.52%2C111.06L343.56%2C110.63L344.48%2C109.77L347.01%2C109.34L348.97%2C108.48L353.33%2C108.05L354.03%2C106.34L354.53%2C105.91L354.67%2C105.48L356.98%2C105.05L358.22%2C103.76L359.59%2C103.33L363.46%2C102.04L363.64%2C101.62L364.83%2C101.19L372.97%2C100.76L375.45%2C99.9L377%2C99.47L377.66%2C99.04L379.87%2C98.61L388.89%2C97.75L389.35%2C97.32L391.88%2C96.46L397.81%2C96.03L401.31%2C94.32L406.28%2C93.89L406.47%2C93.46L408.55%2C93.03L411.35%2C92.6L419.31%2C92.17L435.92%2C90.03L448.62%2C89.6L454.69%2C88.74L460.02%2C87.88L465.66%2C86.16L476.48%2C85.73L477.13%2C84.87L480.69%2C84.44L481.81%2C84.02L489.26%2C83.59L490.6%2C82.73L494.61%2C82.3L506.45%2C80.58L507%2C80.15L518.27%2C77.58L518.38%2C77.15L532.48%2C74.57L533.62%2C74.14L534.29%2C73.28L534.96%2C72.85L536.02%2C72L537.09%2C71.57L539.48%2C69.85L539.57%2C69.42L549.06%2C66.85L549.22%2C66.42L553.23%2C65.13L556.54%2C64.7L571.94%2C62.55L572.06%2C62.12L573.05%2C60.84L573.41%2C60.41L574.23%2C59.55L574.87%2C59.12L575.81%2C57.83L576.73%2C57.4L578.58%2C56.11L579.36%2C55.68L581.79%2C51.39L582.66%2C50.96L583.77%2C50.1L584.32%2C49.67L587.12%2C47.1L588.69%2C46.67L589.84%2C44.95L590.84%2C44.52L591.65%2C43.67L592.51%2C43.24L593.25%2C42.38L594.27%2C41.95L595.97%2C38.94L596.88%2C38.51L606.68%2C34.22L608.72%2C33.79L610.07%2C32.5L611.41%2C32.08L611.56%2C31.65L612.76%2C31.22L614.13%2C30.79L621.29%2C30.36L624.03%2C29.5L629.16%2C29.07L629.46%2C28.64L631.25%2C28.21L632.3%2C27.78L637.44%2C27.35L639.24%2C26.49L644.31%2C26.07L659.84%2C23.49L660.25%2C23.06L660.72%2C21.77L662.47%2C21.34L665.61%2C20.06L665.99%2C19.63L668.98%2C17.05L669.7%2C16.62L670.05%2C16.19L672.7%2C15.76L691.79%2C13.62L693.63%2C13.19L693.99%2C12.76L705.32%2C12.33L706%2C11.9%22%20style%3D%22vector-effect%3A%20non-scaling-stroke%3B%20fill%3A%20none%3B%20stroke%3A%20rgb(78%2C%20121%2C%20167)%3B%20stroke-opacity%3A%201%3B%20stroke-width%3A%202px%3B%20opacity%3A%201%3B%22%2F%3E%3C%2Fg%3E%3Cg%20class%3D%22points%22%2F%3E%3Cg%20class%3D%22text%22%2F%3E%3C%2Fg%3E%3C%2Fg%3E%3C%2Fg%3E%3Cg%20class%3D%22overplot%22%2F%3E%3Cpath%20class%3D%22xlines-above%20crisp%22%20d%3D%22M79%2C268.5H786%22%20style%3D%22fill%3A%20none%3B%20stroke-width%3A%201px%3B%20stroke%3A%20rgb(89%2C%2089%2C%2089)%3B%20stroke-opacity%3A%200.25%3B%22%2F%3E%3Cpath%20class%3D%22ylines-above%20crisp%22%20d%3D%22M79.5%2C30V268%22%20style%3D%22fill%3A%20none%3B%20stroke-width%3A%201px%3B%20stroke%3A%20rgb(89%2C%2089%2C%2089)%3B%20stroke-opacity%3A%200.25%3B%22%2F%3E%3Cg%20class%3D%22overlines-above%22%2F%3E%3Cg%20class%3D%22xaxislayer-above%22%3E%3Cg%20class%3D%22xtick%22%3E%3Ctext%20text-anchor%3D%22middle%22%20x%3D%220%22%20y%3D%22283.4%22%20data-unformatted%3D%2206%3A00%26lt%3Bbr%26gt%3BMar%2024%2C%202021%22%20data-math%3D%22N%22%20transform%3D%22translate(107.75%2C0)%22%20style%3D%22font-family%3A%20%26quot%3BOpen%20Sans%26quot%3B%2C%20verdana%2C%20arial%2C%20sans-serif%3B%20font-size%3A%2012px%3B%20fill%3A%20rgb(89%2C%2089%2C%2089)%3B%20fill-opacity%3A%201%3B%20white-space%3A%20pre%3B%22%3E%3Ctspan%20class%3D%22line%22%20dy%3D%220em%22%20x%3D%220%22%20y%3D%22283.4%22%3E06%3A00%3C%2Ftspan%3E%3Ctspan%20class%3D%22line%22%20dy%3D%221.3em%22%20x%3D%220%22%20y%3D%22283.4%22%3EMar%2024%2C%202021%3C%2Ftspan%3E%3C%2Ftext%3E%3C%2Fg%3E%3Cg%20class%3D%22xtick%22%3E%3Ctext%20text-anchor%3D%22middle%22%20x%3D%220%22%20y%3D%22283.4%22%20data-unformatted%3D%2212%3A00%22%20data-math%3D%22N%22%20transform%3D%22translate(179.79000000000002%2C0)%22%20style%3D%22font-family%3A%20%26quot%3BOpen%20Sans%26quot%3B%2C%20verdana%2C%20arial%2C%20sans-serif%3B%20font-size%3A%2012px%3B%20fill%3A%20rgb(89%2C%2089%2C%2089)%3B%20fill-opacity%3A%201%3B%20white-space%3A%20pre%3B%22%3E12%3A00%3C%2Ftext%3E%3C%2Fg%3E%3Cg%20class%3D%22xtick%22%3E%3Ctext%20text-anchor%3D%22middle%22%20x%3D%220%22%20y%3D%22283.4%22%20data-unformatted%3D%2218%3A00%22%20data-math%3D%22N%22%20transform%3D%22translate(251.82%2C0)%22%20style%3D%22font-family%3A%20%26quot%3BOpen%20Sans%26quot%3B%2C%20verdana%2C%20arial%2C%20sans-serif%3B%20font-size%3A%2012px%3B%20fill%3A%20rgb(89%2C%2089%2C%2089)%3B%20fill-opacity%3A%201%3B%20white-space%3A%20pre%3B%22%3E18%3A00%3C%2Ftext%3E%3C%2Fg%3E%3Cg%20class%3D%22xtick%22%3E%3Ctext%20text-anchor%3D%22middle%22%20x%3D%220%22%20y%3D%22283.4%22%20data-unformatted%3D%2200%3A00%26lt%3Bbr%26gt%3BMar%2025%2C%202021%22%20data-math%3D%22N%22%20transform%3D%22translate(323.86%2C0)%22%20style%3D%22font-family%3A%20%26quot%3BOpen%20Sans%26quot%3B%2C%20verdana%2C%20arial%2C%20sans-serif%3B%20font-size%3A%2012px%3B%20fill%3A%20rgb(89%2C%2089%2C%2089)%3B%20fill-opacity%3A%201%3B%20white-space%3A%20pre%3B%22%3E%3Ctspan%20class%3D%22line%22%20dy%3D%220em%22%20x%3D%220%22%20y%3D%22283.4%22%3E00%3A00%3C%2Ftspan%3E%3Ctspan%20class%3D%22line%22%20dy%3D%221.3em%22%20x%3D%220%22%20y%3D%22283.4%22%3EMar%2025%2C%202021%3C%2Ftspan%3E%3C%2Ftext%3E%3C%2Fg%3E%3Cg%20class%3D%22xtick%22%3E%3Ctext%20text-anchor%3D%22middle%22%20x%3D%220%22%20y%3D%22283.4%22%20data-unformatted%3D%2206%3A00%22%20data-math%3D%22N%22%20transform%3D%22translate(395.9%2C0)%22%20style%3D%22font-family%3A%20%26quot%3BOpen%20Sans%26quot%3B%2C%20verdana%2C%20arial%2C%20sans-serif%3B%20font-size%3A%2012px%3B%20fill%3A%20rgb(89%2C%2089%2C%2089)%3B%20fill-opacity%3A%201%3B%20white-space%3A%20pre%3B%22%3E06%3A00%3C%2Ftext%3E%3C%2Fg%3E%3Cg%20class%3D%22xtick%22%3E%3Ctext%20text-anchor%3D%22middle%22%20x%3D%220%22%20y%3D%22283.4%22%20data-unformatted%3D%2212%3A00%22%20data-math%3D%22N%22%20transform%3D%22translate(467.93%2C0)%22%20style%3D%22font-family%3A%20%26quot%3BOpen%20Sans%26quot%3B%2C%20verdana%2C%20arial%2C%20sans-serif%3B%20font-size%3A%2012px%3B%20fill%3A%20rgb(89%2C%2089%2C%2089)%3B%20fill-opacity%3A%201%3B%20white-space%3A%20pre%3B%22%3E12%3A00%3C%2Ftext%3E%3C%2Fg%3E%3Cg%20class%3D%22xtick%22%3E%3Ctext%20text-anchor%3D%22middle%22%20x%3D%220%22%20y%3D%22283.4%22%20data-unformatted%3D%2218%3A00%22%20data-math%3D%22N%22%20transform%3D%22translate(539.97%2C0)%22%20style%3D%22font-family%3A%20%26quot%3BOpen%20Sans%26quot%3B%2C%20verdana%2C%20arial%2C%20sans-serif%3B%20font-size%3A%2012px%3B%20fill%3A%20rgb(89%2C%2089%2C%2089)%3B%20fill-opacity%3A%201%3B%20white-space%3A%20pre%3B%22%3E18%3A00%3C%2Ftext%3E%3C%2Fg%3E%3Cg%20class%3D%22xtick%22%3E%3Ctext%20text-anchor%3D%22middle%22%20x%3D%220%22%20y%3D%22283.4%22%20data-unformatted%3D%2200%3A00%26lt%3Bbr%26gt%3BMar%2026%2C%202021%22%20data-math%3D%22N%22%20transform%3D%22translate(612.01%2C0)%22%20style%3D%22font-family%3A%20%26quot%3BOpen%20Sans%26quot%3B%2C%20verdana%2C%20arial%2C%20sans-serif%3B%20font-size%3A%2012px%3B%20fill%3A%20rgb(89%2C%2089%2C%2089)%3B%20fill-opacity%3A%201%3B%20white-space%3A%20pre%3B%22%3E%3Ctspan%20class%3D%22line%22%20dy%3D%220em%22%20x%3D%220%22%20y%3D%22283.4%22%3E00%3A00%3C%2Ftspan%3E%3Ctspan%20class%3D%22line%22%20dy%3D%221.3em%22%20x%3D%220%22%20y%3D%22283.4%22%3EMar%2026%2C%202021%3C%2Ftspan%3E%3C%2Ftext%3E%3C%2Fg%3E%3Cg%20class%3D%22xtick%22%3E%3Ctext%20text-anchor%3D%22middle%22%20x%3D%220%22%20y%3D%22283.4%22%20data-unformatted%3D%2206%3A00%22%20data-math%3D%22N%22%20transform%3D%22translate(684.04%2C0)%22%20style%3D%22font-family%3A%20%26quot%3BOpen%20Sans%26quot%3B%2C%20verdana%2C%20arial%2C%20sans-serif%3B%20font-size%3A%2012px%3B%20fill%3A%20rgb(89%2C%2089%2C%2089)%3B%20fill-opacity%3A%201%3B%20white-space%3A%20pre%3B%22%3E06%3A00%3C%2Ftext%3E%3C%2Fg%3E%3Cg%20class%3D%22xtick%22%3E%3Ctext%20text-anchor%3D%22middle%22%20x%3D%220%22%20y%3D%22283.4%22%20data-unformatted%3D%2212%3A00%22%20data-math%3D%22N%22%20transform%3D%22translate(756.08%2C0)%22%20style%3D%22font-family%3A%20%26quot%3BOpen%20Sans%26quot%3B%2C%20verdana%2C%20arial%2C%20sans-serif%3B%20font-size%3A%2012px%3B%20fill%3A%20rgb(89%2C%2089%2C%2089)%3B%20fill-opacity%3A%201%3B%20white-space%3A%20pre%3B%22%3E12%3A00%3C%2Ftext%3E%3C%2Fg%3E%3C%2Fg%3E%3Cg%20class%3D%22yaxislayer-above%22%3E%3Cg%20class%3D%22ytick%22%3E%3Ctext%20text-anchor%3D%22end%22%20x%3D%2276.6%22%20y%3D%224.199999999999999%22%20data-unformatted%3D%220%22%20data-math%3D%22N%22%20transform%3D%22translate(0%2C256.53)%22%20style%3D%22font-family%3A%20%26quot%3BOpen%20Sans%26quot%3B%2C%20verdana%2C%20arial%2C%20sans-serif%3B%20font-size%3A%2012px%3B%20fill%3A%20rgb(89%2C%2089%2C%2089)%3B%20fill-opacity%3A%201%3B%20white-space%3A%20pre%3B%22%3E0%3C%2Ftext%3E%3C%2Fg%3E%3Cg%20class%3D%22ytick%22%3E%3Ctext%20text-anchor%3D%22end%22%20x%3D%2276.6%22%20y%3D%224.199999999999999%22%20data-unformatted%3D%22100%22%20data-math%3D%22N%22%20transform%3D%22translate(0%2C213.6)%22%20style%3D%22font-family%3A%20%26quot%3BOpen%20Sans%26quot%3B%2C%20verdana%2C%20arial%2C%20sans-serif%3B%20font-size%3A%2012px%3B%20fill%3A%20rgb(89%2C%2089%2C%2089)%3B%20fill-opacity%3A%201%3B%20white-space%3A%20pre%3B%22%3E100%3C%2Ftext%3E%3C%2Fg%3E%3Cg%20class%3D%22ytick%22%3E%3Ctext%20text-anchor%3D%22end%22%20x%3D%2276.6%22%20y%3D%224.199999999999999%22%20data-unformatted%3D%22200%22%20data-math%3D%22N%22%20transform%3D%22translate(0%2C170.68)%22%20style%3D%22font-family%3A%20%26quot%3BOpen%20Sans%26quot%3B%2C%20verdana%2C%20arial%2C%20sans-serif%3B%20font-size%3A%2012px%3B%20fill%3A%20rgb(89%2C%2089%2C%2089)%3B%20fill-opacity%3A%201%3B%20white-space%3A%20pre%3B%22%3E200%3C%2Ftext%3E%3C%2Fg%3E%3Cg%20class%3D%22ytick%22%3E%3Ctext%20text-anchor%3D%22end%22%20x%3D%2276.6%22%20y%3D%224.199999999999999%22%20data-unformatted%3D%22300%22%20data-math%3D%22N%22%20transform%3D%22translate(0%2C127.75)%22%20style%3D%22font-family%3A%20%26quot%3BOpen%20Sans%26quot%3B%2C%20verdana%2C%20arial%2C%20sans-serif%3B%20font-size%3A%2012px%3B%20fill%3A%20rgb(89%2C%2089%2C%2089)%3B%20fill-opacity%3A%201%3B%20white-space%3A%20pre%3B%22%3E300%3C%2Ftext%3E%3C%2Fg%3E%3Cg%20class%3D%22ytick%22%3E%3Ctext%20text-anchor%3D%22end%22%20x%3D%2276.6%22%20y%3D%224.199999999999999%22%20data-unformatted%3D%22400%22%20data-math%3D%22N%22%20transform%3D%22translate(0%2C84.83)%22%20style%3D%22font-family%3A%20%26quot%3BOpen%20Sans%26quot%3B%2C%20verdana%2C%20arial%2C%20sans-serif%3B%20font-size%3A%2012px%3B%20fill%3A%20rgb(89%2C%2089%2C%2089)%3B%20fill-opacity%3A%201%3B%20white-space%3A%20pre%3B%22%3E400%3C%2Ftext%3E%3C%2Fg%3E%3Cg%20class%3D%22ytick%22%3E%3Ctext%20text-anchor%3D%22end%22%20x%3D%2276.6%22%20y%3D%224.199999999999999%22%20data-unformatted%3D%22500%22%20data-math%3D%22N%22%20transform%3D%22translate(0%2C41.9)%22%20style%3D%22font-family%3A%20%26quot%3BOpen%20Sans%26quot%3B%2C%20verdana%2C%20arial%2C%20sans-serif%3B%20font-size%3A%2012px%3B%20fill%3A%20rgb(89%2C%2089%2C%2089)%3B%20fill-opacity%3A%201%3B%20white-space%3A%20pre%3B%22%3E500%3C%2Ftext%3E%3C%2Fg%3E%3C%2Fg%3E%3Cg%20class%3D%22overaxes-above%22%2F%3E%3C%2Fg%3E%3C%2Fg%3E%3Cg%20class%3D%22polarlayer%22%2F%3E%3Cg%20class%3D%22ternarylayer%22%2F%3E%3Cg%20class%3D%22geolayer%22%2F%3E%3Cg%20class%3D%22funnelarealayer%22%2F%3E%3Cg%20class%3D%22pielayer%22%2F%3E%3Cg%20class%3D%22treemaplayer%22%2F%3E%3Cg%20class%3D%22sunburstlayer%22%2F%3E%3Cg%20class%3D%22glimages%22%2F%3E%3Cdefs%20id%3D%22topdefs-3c9aa1%22%3E%3Cg%20class%3D%22clips%22%2F%3E%3CclipPath%20id%3D%22legend3c9aa1%22%3E%3Crect%20width%3D%22130%22%20height%3D%2229%22%20x%3D%220%22%20y%3D%220%22%2F%3E%3C%2FclipPath%3E%3C%2Fdefs%3E%3Cg%20class%3D%22indicatorlayer%22%2F%3E%3Cg%20class%3D%22layer-above%22%3E%3Cg%20class%3D%22imagelayer%22%2F%3E%3Cg%20class%3D%22shapelayer%22%2F%3E%3C%2Fg%3E%3Cg%20class%3D%22infolayer%22%3E%3Cg%20class%3D%22legend%22%20pointer-events%3D%22all%22%20transform%3D%22translate(800%2C30)%22%3E%3Crect%20class%3D%22bg%22%20shape-rendering%3D%22crispEdges%22%20style%3D%22stroke%3A%20rgb(68%2C%2068%2C%2068)%3B%20stroke-opacity%3A%201%3B%20fill%3A%20rgb(255%2C%20255%2C%20255)%3B%20fill-opacity%3A%201%3B%20stroke-width%3A%200px%3B%22%20width%3D%22130%22%20height%3D%2229%22%20x%3D%220%22%20y%3D%220%22%2F%3E%3Cg%20class%3D%22scrollbox%22%20transform%3D%22%22%20clip-path%3D%22url('%23legend3c9aa1')%22%3E%3Cg%20class%3D%22groups%22%20transform%3D%22%22%3E%3Cg%20class%3D%22traces%22%20transform%3D%22translate(0%2C14.5)%22%20style%3D%22opacity%3A%201%3B%22%3E%3Ctext%20class%3D%22legendtext%22%20text-anchor%3D%22start%22%20x%3D%2240%22%20y%3D%224.680000000000001%22%20data-unformatted%3D%22wallstreetbets%22%20data-math%3D%22N%22%20style%3D%22font-family%3A%20%26quot%3BOpen%20Sans%26quot%3B%2C%20verdana%2C%20arial%2C%20sans-serif%3B%20font-size%3A%2012px%3B%20fill%3A%20rgb(89%2C%2089%2C%2089)%3B%20fill-opacity%3A%201%3B%20white-space%3A%20pre%3B%22%3Ewallstreetbets%3C%2Ftext%3E%3Cg%20class%3D%22layers%22%20style%3D%22opacity%3A%201%3B%22%3E%3Cg%20class%3D%22legendfill%22%2F%3E%3Cg%20class%3D%22legendlines%22%3E%3Cpath%20class%3D%22js-line%22%20d%3D%22M5%2C0h30%22%20style%3D%22fill%3A%20none%3B%20stroke%3A%20rgb(78%2C%20121%2C%20167)%3B%20stroke-opacity%3A%201%3B%20stroke-width%3A%202px%3B%22%2F%3E%3C%2Fg%3E%3Cg%20class%3D%22legendsymbols%22%3E%3Cg%20class%3D%22legendpoints%22%2F%3E%3C%2Fg%3E%3C%2Fg%3E%3Crect%20class%3D%22legendtoggle%22%20pointer-events%3D%22all%22%20x%3D%220%22%20y%3D%22-9.5%22%20width%3D%22124.984375%22%20height%3D%2219%22%20style%3D%22cursor%3A%20pointer%3B%20fill%3A%20rgb(0%2C%200%2C%200)%3B%20fill-opacity%3A%200%3B%22%2F%3E%3C%2Fg%3E%3C%2Fg%3E%3C%2Fg%3E%3Crect%20class%3D%22scrollbar%22%20rx%3D%2220%22%20ry%3D%223%22%20width%3D%220%22%20height%3D%220%22%20style%3D%22fill%3A%20rgb(128%2C%20139%2C%20164)%3B%20fill-opacity%3A%201%3B%22%20x%3D%220%22%20y%3D%220%22%2F%3E%3C%2Fg%3E%3Cg%20class%3D%22g-gtitle%22%2F%3E%3Cg%20class%3D%22g-xtitle%22%2F%3E%3Cg%20class%3D%22g-ytitle%22%2F%3E%3C%2Fg%3E%3Cg%20class%3D%22menulayer%22%2F%3E%3Cg%20class%3D%22zoomlayer%22%2F%3E%3Cg%20class%3D%22hoverlayer%22%2F%3E%3C%2Fsvg%3E\">"
      ],
      "text/plain": [
       "Open the notebook in JupyterLab with the atoti extension installed and enabled to start editing this widget."
      ]
     },
     "metadata": {},
     "output_type": "display_data"
    }
   ],
   "source": [
    "session.visualize(\"Posting Trends\")"
   ]
  },
  {
   "cell_type": "markdown",
   "metadata": {},
   "source": [
    "## atoti Pivot table\n",
    "\n",
    "atoti is currently going through UX and performance upgrade. Hang on with us as more features for the Pivot table will come with future release."
   ]
  },
  {
   "cell_type": "markdown",
   "metadata": {},
   "source": [
    "## atoti Pivot table against Dash DataTable\n",
    "\n",
    "atoti is currently going through UX and performance upgrade. Hang on with us as more features for the Pivot table will come with future release.  \n",
    "\n",
    "Let's see how atoti data table fare compared to the [Dash DataTable](https://medium.com/swlh/dashboards-in-python-using-dash-creating-a-data-table-using-data-from-reddit-1d6c0cecb4bd#be7c) in the original article before the upgrade happened? _Maybe_ Dash Datatable has evolved since the article was last published, let's just enjoy the atoti table."
   ]
  },
  {
   "cell_type": "code",
   "execution_count": 35,
   "metadata": {
    "atoti": {
     "widget": {
      "columnWidths": {
       "[Reddit_Posts].[created].[created]": 115,
       "[Reddit_Posts].[pinned].[pinned]": 61,
       "[Reddit_Posts].[title].[title]": 220
      },
      "filters": [
       "[Reddit_Posts].[subreddit].[AllMember].[wallstreetbets]"
      ],
      "mapping": {
       "columns": [
        "ALL_MEASURES"
       ],
       "measures": [
        "[Measures].[Chars]",
        "[Measures].[Comments]",
        "[Measures].[Score]",
        "[Measures].[Total awards]",
        "[Measures].[Unique density]",
        "[Measures].[Unique words]",
        "[Measures].[Word density]"
       ],
       "rows": [
        "[Reddit_Posts].[subreddit].[subreddit] => [Reddit_Posts].[title].[title] => [Reddit_Posts].[post].[post] => [Reddit_Posts].[pinned].[pinned] => [Reddit_Posts].[created].[created]"
       ]
      },
      "query": {
       "mdx": "SELECT NON EMPTY Hierarchize(Union(Crossjoin(Descendants({[Reddit_Posts].[subreddit].[AllMember]}, 1, SELF_AND_BEFORE), [Reddit_Posts].[title].DefaultMember, [Reddit_Posts].[post].DefaultMember, [Reddit_Posts].[pinned].DefaultMember, [Reddit_Posts].[created].DefaultMember), Crossjoin([Reddit_Posts].[subreddit].[AllMember].[wallstreetbets], Hierarchize(Descendants({[Reddit_Posts].[title].[AllMember]}, 1, SELF_AND_BEFORE)), [Reddit_Posts].[post].DefaultMember, [Reddit_Posts].[pinned].DefaultMember, [Reddit_Posts].[created].DefaultMember), Crossjoin([Reddit_Posts].[subreddit].[AllMember].[wallstreetbets], [Reddit_Posts].[title].[AllMember].[\"I know you are going to hate to hear this, but the lower it goes, the more powerful WSB can be stepping up to buy the stock again.\" -Mark Cuban], Hierarchize(Descendants({[Reddit_Posts].[post].[AllMember]}, 1, SELF_AND_BEFORE)), [Reddit_Posts].[pinned].DefaultMember, [Reddit_Posts].[created].DefaultMember), Crossjoin([Reddit_Posts].[subreddit].[AllMember].[wallstreetbets], [Reddit_Posts].[title].[AllMember].[\"I know you are going to hate to hear this, but the lower it goes, the more powerful WSB can be stepping up to buy the stock again.\" -Mark Cuban], [Reddit_Posts].[post].[AllMember].[>So what to do ?\r\n\r\n>If you can afford to hold the stock, you hold. I dont own it, but thats what i would do.\r\n\r\n>Why ? because when RH and the other online brokers open it back up to buyers, then we will see what WSB is really made of. That is when you get to make it all work.\r\n\r\n>**I have no doubt that there are funds and big players that have shorted this stock again thinking they are smarter than everyone on WSB.**\r\n\r\n>I know you are going to hate to hear this, but **the lower it goes, the more powerful WSB can be stepping up to buy the stock again.** \r\n\r\nwords of wisdom from Mark Cuban's AMA on 2/2/2021\r\n\r\nwww.reddit.com/r/wallstreetbets/comments/lawubt/hey_everyone_its_mark_cuban_jumping_on_to_do_an/], Hierarchize(Descendants({[Reddit_Posts].[pinned].[AllMember]}, 1, SELF_AND_BEFORE)), [Reddit_Posts].[created].DefaultMember), Crossjoin([Reddit_Posts].[subreddit].[AllMember].[wallstreetbets], [Reddit_Posts].[title].[AllMember].[\"I know you are going to hate to hear this, but the lower it goes, the more powerful WSB can be stepping up to buy the stock again.\" -Mark Cuban], [Reddit_Posts].[post].[AllMember].[>So what to do ?\r\n\r\n>If you can afford to hold the stock, you hold. I dont own it, but thats what i would do.\r\n\r\n>Why ? because when RH and the other online brokers open it back up to buyers, then we will see what WSB is really made of. That is when you get to make it all work.\r\n\r\n>**I have no doubt that there are funds and big players that have shorted this stock again thinking they are smarter than everyone on WSB.**\r\n\r\n>I know you are going to hate to hear this, but **the lower it goes, the more powerful WSB can be stepping up to buy the stock again.** \r\n\r\nwords of wisdom from Mark Cuban's AMA on 2/2/2021\r\n\r\nwww.reddit.com/r/wallstreetbets/comments/lawubt/hey_everyone_its_mark_cuban_jumping_on_to_do_an/], [Reddit_Posts].[pinned].[AllMember].[false], Hierarchize(Descendants({[Reddit_Posts].[created].[AllMember]}, 1, SELF_AND_BEFORE))))) ON ROWS, NON EMPTY {[Measures].[Chars], [Measures].[Comments], [Measures].[Score], [Measures].[Total awards], [Measures].[Unique density], [Measures].[Unique words], [Measures].[Word density]} ON COLUMNS FROM [Reddit]",
       "updateMode": "once"
      },
      "serverKey": "default",
      "widgetKey": "pivot-table"
     }
    }
   },
   "outputs": [
    {
     "data": {
      "application/vnd.atoti.widget.v0+json": {
       "name": null,
       "session": "Unnamed"
      },
      "text/html": [
       "<img src=\"data:image/svg+xml;charset=utf8,%3C%3Fxml%20version%3D%221.0%22%20standalone%3D%22no%22%3F%3E%3Csvg%20xmlns%3D%22http%3A%2F%2Fwww.w3.org%2F2000%2Fsvg%22%20height%3D%22348%22%20width%3D%22930%22%3E%3CforeignObject%20width%3D%22100%25%22%20height%3D%22100%25%22%20x%3D%220%22%20y%3D%220%22%3E%3Cstyle%20xmlns%3D%22http%3A%2F%2Fwww.w3.org%2F1999%2Fxhtml%22%20type%3D%22text%2Fcss%22%3E.anticon%20%7Bdisplay%3A%20inline-block%3B%20color%3A%20inherit%3B%20font-style%3A%20normal%3B%20line-height%3A%200%3B%20text-align%3A%20center%3B%20text-transform%3A%20none%3B%20vertical-align%3A%20-0.125em%3B%20text-rendering%3A%20optimizelegibility%3B%20-webkit-font-smoothing%3A%20antialiased%7D%0A.anticon%20%26gt%3B%20*%20%7Bline-height%3A%201%7D%0A.anticon%20svg%20%7Bdisplay%3A%20inline-block%7D%0A.anticon%5Btabindex%5D%20%7Bcursor%3A%20pointer%7D%0A*%2C%20%3A%3Abefore%2C%20%3A%3Aafter%20%7Bbox-sizing%3A%20unset%7D%0A.ant-root%20%5Bclass%5E%3D%22ant-%22%5D%2C%20.ant-root%20%5Bclass*%3D%22ant-%22%5D%2C%20.ant-root%20%5Bclass%5E%3D%22ant-%22%5D%20*%2C%20.ant-root%20%5Bclass*%3D%22ant-%22%5D%20*%2C%20.ant-root%20%5Bclass%5E%3D%22ant-%22%5D%20%3A%3Abefore%2C%20.ant-root%20%5Bclass*%3D%22ant-%22%5D%20%3A%3Abefore%2C%20.ant-root%20%5Bclass%5E%3D%22ant-%22%5D%20%3A%3Aafter%2C%20.ant-root%20%5Bclass*%3D%22ant-%22%5D%20%3A%3Aafter%20%7Bbox-sizing%3A%20border-box%7D%0A.ant-root%20html%2C%20.ant-root%20%7Bwidth%3A%20100%25%3B%20height%3A%20100%25%7D%0A.ant-root%20*%2C%20.ant-root%20%3A%3Abefore%2C%20.ant-root%20%3A%3Aafter%20%7Bbox-sizing%3A%20border-box%7D%0A.ant-root%20%7Bmargin-top%3A%200px%3B%20margin-right%3A%200px%3B%20margin-bottom%3A%200px%3B%20margin-left%3A%200px%3B%20color%3A%20rgb(89%2C%2089%2C%2089)%3B%20font-size%3A%2012px%3B%20font-family%3A%20-apple-system%2C%20BlinkMacSystemFont%2C%20%22Segoe%20UI%22%2C%20Roboto%2C%20%22Helvetica%20Neue%22%2C%20Arial%2C%20%22Noto%20Sans%22%2C%20sans-serif%2C%20%22Apple%20Color%20Emoji%22%2C%20%22Segoe%20UI%20Emoji%22%2C%20%22Segoe%20UI%20Symbol%22%2C%20%22Noto%20Color%20Emoji%22%3B%20font-variant-ligatures%3A%20normal%3B%20font-variant-numeric%3A%20tabular-nums%3B%20font-variant-east-asian%3A%20normal%3B%20font-variant-caps%3A%20normal%3B%20line-height%3A%201.66667%3B%20background-color%3A%20rgb(255%2C%20255%2C%20255)%3B%20--antd-wave-shadow-color%3A%20undefined%3B%20--scroll-bar%3A%20undefined%7D%0A.ant-root%20svg%3Anot(%3Aroot)%20%7Boverflow-x%3A%20hidden%3B%20overflow-y%3A%20hidden%7D%0A.ant-root%20.anticon%20%7Bdisplay%3A%20inline-block%3B%20color%3A%20inherit%3B%20font-style%3A%20normal%3B%20line-height%3A%200%3B%20text-align%3A%20center%3B%20text-transform%3A%20none%3B%20vertical-align%3A%20-0.125em%3B%20text-rendering%3A%20optimizelegibility%3B%20-webkit-font-smoothing%3A%20antialiased%7D%0A.ant-root%20.anticon%20%26gt%3B%20*%20%7Bline-height%3A%201%7D%0A.ant-root%20.anticon%20svg%20%7Bdisplay%3A%20inline-block%7D%0A.ant-root%20.anticon%5Btabindex%5D%20%7Bcursor%3A%20pointer%7D%0A.ant-root%20.ant-spin%20%7Bbox-sizing%3A%20border-box%3B%20margin-top%3A%200px%3B%20margin-right%3A%200px%3B%20margin-bottom%3A%200px%3B%20margin-left%3A%200px%3B%20padding-top%3A%200px%3B%20padding-right%3A%200px%3B%20padding-bottom%3A%200px%3B%20padding-left%3A%200px%3B%20font-size%3A%2012px%3B%20font-variant-ligatures%3A%20normal%3B%20font-variant-numeric%3A%20tabular-nums%3B%20font-variant-east-asian%3A%20normal%3B%20font-variant-caps%3A%20normal%3B%20line-height%3A%201.66667%3B%20list-style-position%3A%20initial%3B%20list-style-image%3A%20initial%3B%20list-style-type%3A%20none%3B%20position%3A%20absolute%3B%20display%3A%20none%3B%20color%3A%20rgb(0%2C%20174%2C%20239)%3B%20text-align%3A%20center%3B%20vertical-align%3A%20middle%3B%20opacity%3A%200%3B%20transition-duration%3A%200.3s%3B%20transition-timing-function%3A%20cubic-bezier(0.78%2C%200.14%2C%200.15%2C%200.86)%3B%20transition-delay%3A%200s%3B%20transition-property%3A%20transform%7D%0A.ant-root%20.ant-spin-spinning%20%7Bposition%3A%20static%3B%20display%3A%20inline-block%3B%20opacity%3A%201%7D%0A.ant-root%20.ant-spin-dot%20%7Bposition%3A%20relative%3B%20display%3A%20inline-block%3B%20font-size%3A%2020px%3B%20width%3A%201em%3B%20height%3A%201em%7D%0A.ant-root%20.ant-spin-dot-item%20%7Bposition%3A%20absolute%3B%20display%3A%20block%3B%20width%3A%209px%3B%20height%3A%209px%3B%20background-color%3A%20rgb(0%2C%20174%2C%20239)%3B%20border-top-left-radius%3A%20100%25%3B%20border-top-right-radius%3A%20100%25%3B%20border-bottom-right-radius%3A%20100%25%3B%20border-bottom-left-radius%3A%20100%25%3B%20transform%3A%20scale(0.75)%3B%20transform-origin%3A%2050%25%2050%25%3B%20opacity%3A%200.3%3B%20animation-duration%3A%201s%3B%20animation-timing-function%3A%20linear%3B%20animation-delay%3A%200s%3B%20animation-iteration-count%3A%20infinite%3B%20animation-direction%3A%20alternate%3B%20animation-fill-mode%3A%20none%3B%20animation-play-state%3A%20running%3B%20animation-name%3A%20antSpinMove%7D%0A.ant-root%20.ant-spin-dot-item%3Anth-child(1)%20%7Btop%3A%200px%3B%20left%3A%200px%7D%0A.ant-root%20.ant-spin-dot-item%3Anth-child(2)%20%7Btop%3A%200px%3B%20right%3A%200px%3B%20animation-delay%3A%200.4s%7D%0A.ant-root%20.ant-spin-dot-item%3Anth-child(3)%20%7Bright%3A%200px%3B%20bottom%3A%200px%3B%20animation-delay%3A%200.8s%7D%0A.ant-root%20.ant-spin-dot-item%3Anth-child(4)%20%7Bbottom%3A%200px%3B%20left%3A%200px%3B%20animation-delay%3A%201.2s%7D%0A.ant-root%20.ant-spin-dot-spin%20%7Btransform%3A%20rotate(45deg)%3B%20animation-duration%3A%201.2s%3B%20animation-timing-function%3A%20linear%3B%20animation-delay%3A%200s%3B%20animation-iteration-count%3A%20infinite%3B%20animation-direction%3A%20normal%3B%20animation-fill-mode%3A%20none%3B%20animation-play-state%3A%20running%3B%20animation-name%3A%20antRotate%7D%0A.ant-root%20.ant-spin-lg%20.ant-spin-dot%20%7Bfont-size%3A%2032px%7D%0A.ant-root%20.ant-spin-lg%20.ant-spin-dot%20i%20%7Bwidth%3A%2014px%3B%20height%3A%2014px%7D%0A.css-12ebr42-AWidget%20%7Bheight%3A%20100%25%7D%0A.css-ck2xzt-Spinner%20%7B-webkit-box-align%3A%20center%3B%20align-items%3A%20center%3B%20background-image%3A%20initial%3B%20background-position-x%3A%20initial%3B%20background-position-y%3A%20initial%3B%20background-size%3A%20initial%3B%20background-repeat-x%3A%20initial%3B%20background-repeat-y%3A%20initial%3B%20background-attachment%3A%20initial%3B%20background-origin%3A%20initial%3B%20background-clip%3A%20initial%3B%20background-color%3A%20transparent%3B%20display%3A%20flex%3B%20height%3A%20100%25%3B%20-webkit-box-pack%3A%20center%3B%20justify-content%3A%20center%3B%20position%3A%20absolute%3B%20transition-duration%3A%20300ms%3B%20transition-timing-function%3A%20ease%3B%20transition-delay%3A%200s%3B%20transition-property%3A%20opacity%3B%20width%3A%20100%25%3B%20opacity%3A%200%3B%20pointer-events%3A%20none%3B%20z-index%3A%202%7D%0A.css-1e3kjgr-Spinner%20%7Bheight%3A%20100%25%3B%20position%3A%20relative%7D%0A.css-1hwl8p1-Table%20%7Bpadding-bottom%3A%202px%3B%20padding-right%3A%202px%3B%20height%3A%20100%25%7D%0A.css-1v2r0fb-Table%20%7Bheight%3A%20100%25%3B%20outline-color%3A%20initial%3B%20outline-style%3A%20none%3B%20outline-width%3A%20initial%3B%20position%3A%20relative%7D%0A.css-1rxpjm0-ColumnResizeHint%20%7Bdisplay%3A%20none%3B%20position%3A%20absolute%3B%20z-index%3A%201%7D%0A.css-2vqdc6-ColumnResizeHint%20%7Bheight%3A%2028px%3B%20background-color%3A%20rgb(0%2C%20174%2C%20239)%3B%20width%3A%205px%7D%0A.css-1vf6w7d-ColumnResizeHint%20%7Bdisplay%3A%20none%3B%20float%3A%20right%3B%20height%3A%20318px%3B%20background-color%3A%20rgb(0%2C%20174%2C%20239)%3B%20opacity%3A%200.4%3B%20width%3A%202px%7D%0A.css-16sdsf5-Table%20%7Bdisplay%3A%20flex%3B%20height%3A%20346px%7D%0A.css-1hol363-ResizableCell%20%7Bdisplay%3A%20flex%3B%20flex-direction%3A%20column%3B%20position%3A%20absolute%3B%20top%3A%200px%3B%20left%3A%200px%3B%20height%3A%2028px%3B%20width%3A%20120px%7D%0A.css-xxcrt1-ResizableCell%20%7Bbackground-image%3A%20initial%3B%20background-position-x%3A%20initial%3B%20background-position-y%3A%20initial%3B%20background-size%3A%20initial%3B%20background-repeat-x%3A%20initial%3B%20background-repeat-y%3A%20initial%3B%20background-attachment%3A%20initial%3B%20background-origin%3A%20initial%3B%20background-clip%3A%20initial%3B%20background-color%3A%20transparent%3B%20cursor%3A%20col-resize%3B%20height%3A%20100%25%3B%20position%3A%20absolute%3B%20right%3A%200px%3B%20width%3A%205px%3B%20z-index%3A%201%7D%0A.css-fpuq48-ResizableCell%20%7Bdisplay%3A%20flex%3B%20flex-direction%3A%20column%3B%20position%3A%20absolute%3B%20top%3A%200px%3B%20left%3A%20120px%3B%20height%3A%2028px%3B%20width%3A%20120px%7D%0A.css-3geaec-ResizableCell%20%7Bdisplay%3A%20flex%3B%20flex-direction%3A%20column%3B%20position%3A%20absolute%3B%20top%3A%200px%3B%20left%3A%20240px%3B%20height%3A%2028px%3B%20width%3A%20120px%7D%0A.css-9kbkmr-ResizableCell%20%7Bdisplay%3A%20flex%3B%20flex-direction%3A%20column%3B%20position%3A%20absolute%3B%20top%3A%200px%3B%20left%3A%20360px%3B%20height%3A%2028px%3B%20width%3A%20120px%7D%0A.css-76qu0m-ResizableCell%20%7Bdisplay%3A%20flex%3B%20flex-direction%3A%20column%3B%20position%3A%20absolute%3B%20top%3A%200px%3B%20left%3A%20480px%3B%20height%3A%2028px%3B%20width%3A%20120px%7D%0A.css-g4kd2d-ResizableCell%20%7Bdisplay%3A%20flex%3B%20flex-direction%3A%20column%3B%20position%3A%20absolute%3B%20top%3A%200px%3B%20left%3A%20120px%3B%20height%3A%2028px%3B%20width%3A%20220px%7D%0A.css-1xdpx7h-ResizableCell%20%7Bdisplay%3A%20flex%3B%20flex-direction%3A%20column%3B%20position%3A%20absolute%3B%20top%3A%200px%3B%20left%3A%20340px%3B%20height%3A%2028px%3B%20width%3A%20120px%7D%0A.css-m59v0t%20%7Bcursor%3A%20cell%3B%20height%3A%2028px%3B%20overflow-x%3A%20hidden%3B%20overflow-y%3A%20hidden%3B%20position%3A%20relative%3B%20width%3A%20840px%7D%0A.css-1vd3o64%20%7Bcursor%3A%20cell%3B%20height%3A%2014056px%3B%20overflow-x%3A%20hidden%3B%20overflow-y%3A%20hidden%3B%20position%3A%20relative%3B%20width%3A%20840px%3B%20border-top-width%3A%202px%3B%20border-top-style%3A%20solid%3B%20border-top-color%3A%20rgb(233%2C%20233%2C%20233)%7D%0A.css-m7uip3-ResizableCell%20%7Bdisplay%3A%20flex%3B%20flex-direction%3A%20column%3B%20position%3A%20absolute%3B%20top%3A%200px%3B%20left%3A%20460px%3B%20height%3A%2028px%3B%20width%3A%2061px%7D%0A.css-iub197-Table%20%7Bborder-collapse%3A%20collapse%3B%20height%3A%2028px%3B%20width%3A%20636px%7D%0A.css-1goxwf6%20%7Bheight%3A%2028px%3B%20width%3A%20636px%7D%0A.css-1r4n52c%20%7Bcursor%3A%20cell%3B%20height%3A%2028px%3B%20overflow-x%3A%20hidden%3B%20overflow-y%3A%20hidden%3B%20position%3A%20relative%3B%20width%3A%20636px%3B%20border-right-width%3A%202px%3B%20border-right-style%3A%20solid%3B%20border-right-color%3A%20rgb(233%2C%20233%2C%20233)%7D%0A.css-w3u3bk-ResizableCell%20%7Bdisplay%3A%20flex%3B%20flex-direction%3A%20column%3B%20position%3A%20absolute%3B%20top%3A%200px%3B%20left%3A%20521px%3B%20height%3A%2028px%3B%20width%3A%20115px%7D%0A.css-172ecr7%20%7Bcursor%3A%20cell%3B%20height%3A%2014056px%3B%20overflow-x%3A%20hidden%3B%20overflow-y%3A%20hidden%3B%20position%3A%20relative%3B%20width%3A%20636px%3B%20border-top-width%3A%202px%3B%20border-top-style%3A%20solid%3B%20border-top-color%3A%20rgb(233%2C%20233%2C%20233)%3B%20border-right-width%3A%202px%3B%20border-right-style%3A%20solid%3B%20border-right-color%3A%20rgb(233%2C%20233%2C%20233)%7D%0A.css-5pgd07-SelectionOverlay%20%7Bbackground-image%3A%20initial%3B%20background-position-x%3A%20initial%3B%20background-position-y%3A%20initial%3B%20background-size%3A%20initial%3B%20background-repeat-x%3A%20initial%3B%20background-repeat-y%3A%20initial%3B%20background-attachment%3A%20initial%3B%20background-origin%3A%20initial%3B%20background-clip%3A%20initial%3B%20background-color%3A%20rgba(0%2C%20187%2C%20255%2C%200.1)%3B%20position%3A%20absolute%3B%20top%3A%20112px%3B%20left%3A%20120px%3B%20height%3A%2028px%3B%20width%3A%20120px%3B%20pointer-events%3A%20none%7D%0A.css-15v7fnj-Table%20%7Bwidth%3A%20292px%3B%20border-collapse%3A%20collapse%7D%0A.css-qde0g5%20%7Bheight%3A%2028px%3B%20width%3A%20274px%3B%20overflow-x%3A%20auto%3B%20overflow-y%3A%20hidden%7D%0A.css-s6j5i5%20%7Bheight%3A%20318px%3B%20width%3A%20292px%3B%20overflow-x%3A%20auto%3B%20overflow-y%3A%20auto%7D%0A.css-15rq5ee%20%7Bheight%3A%20318px%3B%20width%3A%20636px%3B%20overflow-x%3A%20hidden%3B%20overflow-y%3A%20auto%7D%0A*%20%7B-ms-overflow-style%3A%20none%3B%20scrollbar-width%3A%20none%7D%0A*%3A%3A-webkit-scrollbar%20%7Bdisplay%3A%20none%7D%3C%2Fstyle%3E%3Cdiv%20xmlns%3D%22http%3A%2F%2Fwww.w3.org%2F1999%2Fxhtml%22%20style%3D%22height%3A%20348px%3B%20width%3A%20930px%3B%22%3E%3Cdiv%20class%3D%22ant-root%20css-0%22%3E%3Cdiv%20class%3D%22ant-dropdown-trigger%20css-12ebr42-AWidget%22%3E%3Cdiv%20class%3D%22css-1e3kjgr-Spinner%22%3E%3Cdiv%20class%3D%22css-ck2xzt-Spinner%22%3E%3Cdiv%20class%3D%22ant-spin%20ant-spin-lg%20ant-spin-spinning%22%3E%3Cspan%20class%3D%22ant-spin-dot%20ant-spin-dot-spin%22%3E%3Ci%20class%3D%22ant-spin-dot-item%22%3E%3C%2Fi%3E%3Ci%20class%3D%22ant-spin-dot-item%22%3E%3C%2Fi%3E%3Ci%20class%3D%22ant-spin-dot-item%22%3E%3C%2Fi%3E%3Ci%20class%3D%22ant-spin-dot-item%22%3E%3C%2Fi%3E%3C%2Fspan%3E%3C%2Fdiv%3E%3C%2Fdiv%3E%3Cdiv%20class%3D%22css-1hwl8p1-Table%22%3E%3Cdiv%20tabindex%3D%220%22%20class%3D%22css-1v2r0fb-Table%22%3E%3Cdiv%20class%3D%22css-1rxpjm0-ColumnResizeHint%22%20style%3D%22display%3A%20none%3B%20left%3A%20636px%3B%22%3E%3Cdiv%20class%3D%22css-2vqdc6-ColumnResizeHint%22%3E%3C%2Fdiv%3E%3Cdiv%20class%3D%22css-1vf6w7d-ColumnResizeHint%22%20style%3D%22display%3A%20none%3B%22%3E%3C%2Fdiv%3E%3C%2Fdiv%3E%3Cdiv%20class%3D%22css-16sdsf5-Table%22%3E%3Cdiv%20class%3D%22css-iub197-Table%22%3E%3Cdiv%20class%3D%22css-1goxwf6%22%3E%3Cdiv%20class%3D%22css-1r4n52c%22%3E%3Cdiv%20class%3D%22css-1hol363-ResizableCell%22%3E%3Cdiv%20class%3D%22aui-table-cell%22%20style%3D%22font-size%3A%2012px%3B%20height%3A%2028px%3B%20left%3A%200px%3B%20padding%3A%204px%204px%203px%3B%20overflow%3A%20hidden%3B%20position%3A%20absolute%3B%20text-align%3A%20left%3B%20top%3A%200px%3B%20width%3A%20115px%3B%20font-weight%3A%20600%3B%20display%3A%20flex%3B%20align-items%3A%20center%3B%22%3E%3Cspan%3Esubreddit%3C%2Fspan%3E%3C%2Fdiv%3E%3Cdiv%20class%3D%22css-xxcrt1-ResizableCell%22%3E%3C%2Fdiv%3E%3C%2Fdiv%3E%3Cdiv%20class%3D%22css-g4kd2d-ResizableCell%22%3E%3Cdiv%20class%3D%22aui-table-cell%22%20style%3D%22font-size%3A%2012px%3B%20height%3A%2028px%3B%20left%3A%200px%3B%20padding%3A%204px%204px%203px%3B%20overflow%3A%20hidden%3B%20position%3A%20absolute%3B%20text-align%3A%20left%3B%20top%3A%200px%3B%20width%3A%20215px%3B%20font-weight%3A%20600%3B%20display%3A%20flex%3B%20align-items%3A%20center%3B%22%3E%3Cspan%3Etitle%3C%2Fspan%3E%3C%2Fdiv%3E%3Cdiv%20class%3D%22css-xxcrt1-ResizableCell%22%3E%3C%2Fdiv%3E%3C%2Fdiv%3E%3Cdiv%20class%3D%22css-1xdpx7h-ResizableCell%22%3E%3Cdiv%20class%3D%22aui-table-cell%22%20style%3D%22font-size%3A%2012px%3B%20height%3A%2028px%3B%20left%3A%200px%3B%20padding%3A%204px%204px%203px%3B%20overflow%3A%20hidden%3B%20position%3A%20absolute%3B%20text-align%3A%20left%3B%20top%3A%200px%3B%20width%3A%20115px%3B%20font-weight%3A%20600%3B%20display%3A%20flex%3B%20align-items%3A%20center%3B%22%3E%3Cspan%3Epost%3C%2Fspan%3E%3C%2Fdiv%3E%3Cdiv%20class%3D%22css-xxcrt1-ResizableCell%22%3E%3C%2Fdiv%3E%3C%2Fdiv%3E%3Cdiv%20class%3D%22css-m7uip3-ResizableCell%22%3E%3Cdiv%20class%3D%22aui-table-cell%22%20style%3D%22font-size%3A%2012px%3B%20height%3A%2028px%3B%20left%3A%200px%3B%20padding%3A%204px%204px%203px%3B%20overflow%3A%20hidden%3B%20position%3A%20absolute%3B%20text-align%3A%20left%3B%20top%3A%200px%3B%20width%3A%2056px%3B%20font-weight%3A%20600%3B%20display%3A%20flex%3B%20align-items%3A%20center%3B%22%3E%3Cspan%3Epinned%3C%2Fspan%3E%3C%2Fdiv%3E%3Cdiv%20class%3D%22css-xxcrt1-ResizableCell%22%3E%3C%2Fdiv%3E%3C%2Fdiv%3E%3Cdiv%20class%3D%22css-w3u3bk-ResizableCell%22%3E%3Cdiv%20class%3D%22aui-table-cell%22%20style%3D%22font-size%3A%2012px%3B%20height%3A%2028px%3B%20left%3A%200px%3B%20padding%3A%204px%204px%203px%3B%20overflow%3A%20hidden%3B%20position%3A%20absolute%3B%20text-align%3A%20left%3B%20top%3A%200px%3B%20width%3A%20110px%3B%20font-weight%3A%20600%3B%20display%3A%20flex%3B%20align-items%3A%20center%3B%22%3E%3Cspan%3Ecreated%3C%2Fspan%3E%3C%2Fdiv%3E%3Cdiv%20class%3D%22css-xxcrt1-ResizableCell%22%3E%3C%2Fdiv%3E%3C%2Fdiv%3E%3C%2Fdiv%3E%3C%2Fdiv%3E%3Cdiv%20class%3D%22css-15rq5ee%22%3E%3Cdiv%20class%3D%22css-172ecr7%22%3E%3Cdiv%20style%3D%22overflow%3A%20hidden%3B%20display%3A%20flex%3B%20align-items%3A%20center%3B%20font-size%3A%2012px%3B%20height%3A%2028px%3B%20left%3A%200px%3B%20padding%3A%204px%204px%203px%3B%20position%3A%20absolute%3B%20text-align%3A%20left%3B%20top%3A%200px%3B%20width%3A%20120px%3B%20font-weight%3A%20600%3B%22%3E%3Cspan%20style%3D%22text-overflow%3A%20ellipsis%3B%20overflow%3A%20hidden%3B%20white-space%3A%20nowrap%3B%20max-width%3A%20calc((100%25%20-%200px)%20-%200px)%3B%22%3ETotal%3C%2Fspan%3E%3C%2Fdiv%3E%3Cdiv%20style%3D%22overflow%3A%20hidden%3B%20display%3A%20flex%3B%20align-items%3A%20center%3B%20font-size%3A%2012px%3B%20height%3A%2028px%3B%20left%3A%20120px%3B%20padding%3A%204px%204px%203px%3B%20position%3A%20absolute%3B%20text-align%3A%20left%3B%20top%3A%200px%3B%20width%3A%20220px%3B%20font-weight%3A%20600%3B%22%3E%3Cspan%20style%3D%22text-overflow%3A%20ellipsis%3B%20overflow%3A%20hidden%3B%20white-space%3A%20nowrap%3B%20max-width%3A%20calc((100%25%20-%200px)%20-%200px)%3B%22%3E%3C%2Fspan%3E%3C%2Fdiv%3E%3Cdiv%20style%3D%22overflow%3A%20hidden%3B%20display%3A%20flex%3B%20align-items%3A%20center%3B%20font-size%3A%2012px%3B%20height%3A%2028px%3B%20left%3A%20340px%3B%20padding%3A%204px%204px%203px%3B%20position%3A%20absolute%3B%20text-align%3A%20left%3B%20top%3A%200px%3B%20width%3A%20120px%3B%20font-weight%3A%20600%3B%22%3E%3Cspan%20style%3D%22text-overflow%3A%20ellipsis%3B%20overflow%3A%20hidden%3B%20white-space%3A%20nowrap%3B%20max-width%3A%20calc((100%25%20-%200px)%20-%200px)%3B%22%3E%3C%2Fspan%3E%3C%2Fdiv%3E%3Cdiv%20style%3D%22overflow%3A%20hidden%3B%20display%3A%20flex%3B%20align-items%3A%20center%3B%20font-size%3A%2012px%3B%20height%3A%2028px%3B%20left%3A%20460px%3B%20padding%3A%204px%204px%203px%3B%20position%3A%20absolute%3B%20text-align%3A%20left%3B%20top%3A%200px%3B%20width%3A%2061px%3B%20font-weight%3A%20600%3B%22%3E%3Cspan%20style%3D%22text-overflow%3A%20ellipsis%3B%20overflow%3A%20hidden%3B%20white-space%3A%20nowrap%3B%20max-width%3A%20calc((100%25%20-%200px)%20-%200px)%3B%22%3E%3C%2Fspan%3E%3C%2Fdiv%3E%3Cdiv%20style%3D%22overflow%3A%20hidden%3B%20display%3A%20flex%3B%20align-items%3A%20center%3B%20font-size%3A%2012px%3B%20height%3A%2028px%3B%20left%3A%20521px%3B%20padding%3A%204px%204px%203px%3B%20position%3A%20absolute%3B%20text-align%3A%20left%3B%20top%3A%200px%3B%20width%3A%20115px%3B%20border-right%3A%202px%20solid%20rgb(233%2C%20233%2C%20233)%3B%22%3E%3Cspan%20style%3D%22text-overflow%3A%20ellipsis%3B%20overflow%3A%20hidden%3B%20white-space%3A%20nowrap%3B%20max-width%3A%20calc((100%25%20-%200px)%20-%200px)%3B%22%3E%3C%2Fspan%3E%3C%2Fdiv%3E%3Cdiv%20style%3D%22overflow%3A%20hidden%3B%20display%3A%20flex%3B%20align-items%3A%20center%3B%20font-size%3A%2012px%3B%20height%3A%2028px%3B%20left%3A%200px%3B%20padding%3A%204px%204px%203px%3B%20position%3A%20absolute%3B%20text-align%3A%20left%3B%20top%3A%2028px%3B%20width%3A%20120px%3B%20border-top%3A%201px%20solid%20rgb(233%2C%20233%2C%20233)%3B%20font-weight%3A%20600%3B%22%3E%3Cspan%20role%3D%22img%22%20aria-label%3D%22down%22%20tabindex%3D%22-1%22%20class%3D%22anticon%20anticon-down%22%20style%3D%22cursor%3A%20pointer%3B%20font-size%3A%2010px%3B%20margin-right%3A%206px%3B%22%3E%3Csvg%20xmlns%3D%22http%3A%2F%2Fwww.w3.org%2F2000%2Fsvg%22%20viewBox%3D%2264%2064%20896%20896%22%20focusable%3D%22false%22%20class%3D%22%22%20data-icon%3D%22down%22%20width%3D%221em%22%20height%3D%221em%22%20fill%3D%22currentColor%22%20aria-hidden%3D%22true%22%3E%3Cpath%20d%3D%22M884%20256h-75c-5.1%200-9.9%202.5-12.9%206.6L512%20654.2%20227.9%20262.6c-3-4.1-7.8-6.6-12.9-6.6h-75c-6.5%200-10.3%207.4-6.5%2012.7l352.6%20486.1c12.8%2017.6%2039%2017.6%2051.7%200l352.6-486.1c3.9-5.3.1-12.7-6.4-12.7z%22%2F%3E%3C%2Fsvg%3E%3C%2Fspan%3E%3Cspan%20style%3D%22text-overflow%3A%20ellipsis%3B%20overflow%3A%20hidden%3B%20white-space%3A%20nowrap%3B%20max-width%3A%20calc((100%25%20-%2016px)%20-%200px)%3B%22%3Ewallstreetbets%3C%2Fspan%3E%3C%2Fdiv%3E%3Cdiv%20style%3D%22overflow%3A%20hidden%3B%20display%3A%20flex%3B%20align-items%3A%20center%3B%20font-size%3A%2012px%3B%20height%3A%2028px%3B%20left%3A%20120px%3B%20padding%3A%204px%204px%203px%3B%20position%3A%20absolute%3B%20text-align%3A%20left%3B%20top%3A%2028px%3B%20width%3A%20220px%3B%20border-top%3A%201px%20solid%20rgb(233%2C%20233%2C%20233)%3B%20font-weight%3A%20600%3B%22%3E%3Cspan%20style%3D%22text-overflow%3A%20ellipsis%3B%20overflow%3A%20hidden%3B%20white-space%3A%20nowrap%3B%20max-width%3A%20calc((100%25%20-%2016px)%20-%200px)%3B%22%3E%3C%2Fspan%3E%3C%2Fdiv%3E%3Cdiv%20style%3D%22overflow%3A%20hidden%3B%20display%3A%20flex%3B%20align-items%3A%20center%3B%20font-size%3A%2012px%3B%20height%3A%2028px%3B%20left%3A%20340px%3B%20padding%3A%204px%204px%203px%3B%20position%3A%20absolute%3B%20text-align%3A%20left%3B%20top%3A%2028px%3B%20width%3A%20120px%3B%20border-top%3A%201px%20solid%20rgb(233%2C%20233%2C%20233)%3B%20font-weight%3A%20600%3B%22%3E%3Cspan%20style%3D%22text-overflow%3A%20ellipsis%3B%20overflow%3A%20hidden%3B%20white-space%3A%20nowrap%3B%20max-width%3A%20calc((100%25%20-%2016px)%20-%200px)%3B%22%3E%3C%2Fspan%3E%3C%2Fdiv%3E%3Cdiv%20style%3D%22overflow%3A%20hidden%3B%20display%3A%20flex%3B%20align-items%3A%20center%3B%20font-size%3A%2012px%3B%20height%3A%2028px%3B%20left%3A%20460px%3B%20padding%3A%204px%204px%203px%3B%20position%3A%20absolute%3B%20text-align%3A%20left%3B%20top%3A%2028px%3B%20width%3A%2061px%3B%20border-top%3A%201px%20solid%20rgb(233%2C%20233%2C%20233)%3B%20font-weight%3A%20600%3B%22%3E%3Cspan%20style%3D%22text-overflow%3A%20ellipsis%3B%20overflow%3A%20hidden%3B%20white-space%3A%20nowrap%3B%20max-width%3A%20calc((100%25%20-%2016px)%20-%200px)%3B%22%3E%3C%2Fspan%3E%3C%2Fdiv%3E%3Cdiv%20style%3D%22overflow%3A%20hidden%3B%20display%3A%20flex%3B%20align-items%3A%20center%3B%20font-size%3A%2012px%3B%20height%3A%2028px%3B%20left%3A%20521px%3B%20padding%3A%204px%204px%203px%3B%20position%3A%20absolute%3B%20text-align%3A%20left%3B%20top%3A%2028px%3B%20width%3A%20115px%3B%20border-right%3A%202px%20solid%20rgb(233%2C%20233%2C%20233)%3B%20border-top%3A%201px%20solid%20rgb(233%2C%20233%2C%20233)%3B%22%3E%3Cspan%20style%3D%22text-overflow%3A%20ellipsis%3B%20overflow%3A%20hidden%3B%20white-space%3A%20nowrap%3B%20max-width%3A%20calc((100%25%20-%2016px)%20-%200px)%3B%22%3E%3C%2Fspan%3E%3C%2Fdiv%3E%3Cdiv%20style%3D%22overflow%3A%20hidden%3B%20display%3A%20none%3B%20align-items%3A%20center%3B%20font-size%3A%2012px%3B%20height%3A%2028px%3B%20left%3A%200px%3B%20padding%3A%204px%204px%203px%3B%20position%3A%20absolute%3B%20text-align%3A%20left%3B%20top%3A%2056px%3B%20width%3A%20120px%3B%20border-top%3A%201px%20solid%20rgb(233%2C%20233%2C%20233)%3B%20font-weight%3A%20600%3B%22%3E%3Cspan%20role%3D%22img%22%20aria-label%3D%22down%22%20tabindex%3D%22-1%22%20class%3D%22anticon%20anticon-down%22%20style%3D%22cursor%3A%20pointer%3B%20font-size%3A%2010px%3B%20margin-right%3A%206px%3B%22%3E%3Csvg%20xmlns%3D%22http%3A%2F%2Fwww.w3.org%2F2000%2Fsvg%22%20viewBox%3D%2264%2064%20896%20896%22%20focusable%3D%22false%22%20class%3D%22%22%20data-icon%3D%22down%22%20width%3D%221em%22%20height%3D%221em%22%20fill%3D%22currentColor%22%20aria-hidden%3D%22true%22%3E%3Cpath%20d%3D%22M884%20256h-75c-5.1%200-9.9%202.5-12.9%206.6L512%20654.2%20227.9%20262.6c-3-4.1-7.8-6.6-12.9-6.6h-75c-6.5%200-10.3%207.4-6.5%2012.7l352.6%20486.1c12.8%2017.6%2039%2017.6%2051.7%200l352.6-486.1c3.9-5.3.1-12.7-6.4-12.7z%22%2F%3E%3C%2Fsvg%3E%3C%2Fspan%3E%3Cspan%20style%3D%22text-overflow%3A%20ellipsis%3B%20overflow%3A%20hidden%3B%20white-space%3A%20nowrap%3B%20max-width%3A%20calc((100%25%20-%2016px)%20-%200px)%3B%22%3Ewallstreetbets%3C%2Fspan%3E%3C%2Fdiv%3E%3Cdiv%20style%3D%22overflow%3A%20hidden%3B%20display%3A%20flex%3B%20align-items%3A%20center%3B%20font-size%3A%2012px%3B%20height%3A%2028px%3B%20left%3A%20120px%3B%20padding%3A%204px%204px%203px%3B%20position%3A%20absolute%3B%20text-align%3A%20left%3B%20top%3A%2056px%3B%20width%3A%20220px%3B%20border-top%3A%201px%20solid%20rgb(233%2C%20233%2C%20233)%3B%20font-weight%3A%20600%3B%22%3E%3Cspan%20role%3D%22img%22%20aria-label%3D%22down%22%20tabindex%3D%22-1%22%20class%3D%22anticon%20anticon-down%22%20style%3D%22cursor%3A%20pointer%3B%20font-size%3A%2010px%3B%20margin-right%3A%206px%3B%22%3E%3Csvg%20xmlns%3D%22http%3A%2F%2Fwww.w3.org%2F2000%2Fsvg%22%20viewBox%3D%2264%2064%20896%20896%22%20focusable%3D%22false%22%20class%3D%22%22%20data-icon%3D%22down%22%20width%3D%221em%22%20height%3D%221em%22%20fill%3D%22currentColor%22%20aria-hidden%3D%22true%22%3E%3Cpath%20d%3D%22M884%20256h-75c-5.1%200-9.9%202.5-12.9%206.6L512%20654.2%20227.9%20262.6c-3-4.1-7.8-6.6-12.9-6.6h-75c-6.5%200-10.3%207.4-6.5%2012.7l352.6%20486.1c12.8%2017.6%2039%2017.6%2051.7%200l352.6-486.1c3.9-5.3.1-12.7-6.4-12.7z%22%2F%3E%3C%2Fsvg%3E%3C%2Fspan%3E%3Cspan%20style%3D%22text-overflow%3A%20ellipsis%3B%20overflow%3A%20hidden%3B%20white-space%3A%20nowrap%3B%20max-width%3A%20calc((100%25%20-%2016px)%20-%200px)%3B%22%3E%22I%20know%20you%20are%20going%20to%20hate%20to%20hear%20this%2C%20but%20the%20lower%20it%20goes%2C%20the%20more%20powerful%20WSB%20can%20be%20stepping%20up%20to%20buy%20the%20stock%20again.%22%20-Mark%20Cuban%3C%2Fspan%3E%3C%2Fdiv%3E%3Cdiv%20style%3D%22overflow%3A%20hidden%3B%20display%3A%20flex%3B%20align-items%3A%20center%3B%20font-size%3A%2012px%3B%20height%3A%2028px%3B%20left%3A%20340px%3B%20padding%3A%204px%204px%203px%3B%20position%3A%20absolute%3B%20text-align%3A%20left%3B%20top%3A%2056px%3B%20width%3A%20120px%3B%20border-top%3A%201px%20solid%20rgb(233%2C%20233%2C%20233)%3B%20font-weight%3A%20600%3B%22%3E%3Cspan%20style%3D%22text-overflow%3A%20ellipsis%3B%20overflow%3A%20hidden%3B%20white-space%3A%20nowrap%3B%20max-width%3A%20calc((100%25%20-%2016px)%20-%200px)%3B%22%3E%3C%2Fspan%3E%3C%2Fdiv%3E%3Cdiv%20style%3D%22overflow%3A%20hidden%3B%20display%3A%20flex%3B%20align-items%3A%20center%3B%20font-size%3A%2012px%3B%20height%3A%2028px%3B%20left%3A%20460px%3B%20padding%3A%204px%204px%203px%3B%20position%3A%20absolute%3B%20text-align%3A%20left%3B%20top%3A%2056px%3B%20width%3A%2061px%3B%20border-top%3A%201px%20solid%20rgb(233%2C%20233%2C%20233)%3B%20font-weight%3A%20600%3B%22%3E%3Cspan%20style%3D%22text-overflow%3A%20ellipsis%3B%20overflow%3A%20hidden%3B%20white-space%3A%20nowrap%3B%20max-width%3A%20calc((100%25%20-%2016px)%20-%200px)%3B%22%3E%3C%2Fspan%3E%3C%2Fdiv%3E%3Cdiv%20style%3D%22overflow%3A%20hidden%3B%20display%3A%20flex%3B%20align-items%3A%20center%3B%20font-size%3A%2012px%3B%20height%3A%2028px%3B%20left%3A%20521px%3B%20padding%3A%204px%204px%203px%3B%20position%3A%20absolute%3B%20text-align%3A%20left%3B%20top%3A%2056px%3B%20width%3A%20115px%3B%20border-right%3A%202px%20solid%20rgb(233%2C%20233%2C%20233)%3B%20border-top%3A%201px%20solid%20rgb(233%2C%20233%2C%20233)%3B%22%3E%3Cspan%20style%3D%22text-overflow%3A%20ellipsis%3B%20overflow%3A%20hidden%3B%20white-space%3A%20nowrap%3B%20max-width%3A%20calc((100%25%20-%2016px)%20-%200px)%3B%22%3E%3C%2Fspan%3E%3C%2Fdiv%3E%3Cdiv%20style%3D%22overflow%3A%20hidden%3B%20display%3A%20none%3B%20align-items%3A%20center%3B%20font-size%3A%2012px%3B%20height%3A%2028px%3B%20left%3A%200px%3B%20padding%3A%204px%204px%203px%3B%20position%3A%20absolute%3B%20text-align%3A%20left%3B%20top%3A%2084px%3B%20width%3A%20120px%3B%20border-top%3A%201px%20solid%20rgb(233%2C%20233%2C%20233)%3B%20font-weight%3A%20600%3B%22%3E%3Cspan%20role%3D%22img%22%20aria-label%3D%22down%22%20tabindex%3D%22-1%22%20class%3D%22anticon%20anticon-down%22%20style%3D%22cursor%3A%20pointer%3B%20font-size%3A%2010px%3B%20margin-right%3A%206px%3B%22%3E%3Csvg%20xmlns%3D%22http%3A%2F%2Fwww.w3.org%2F2000%2Fsvg%22%20viewBox%3D%2264%2064%20896%20896%22%20focusable%3D%22false%22%20class%3D%22%22%20data-icon%3D%22down%22%20width%3D%221em%22%20height%3D%221em%22%20fill%3D%22currentColor%22%20aria-hidden%3D%22true%22%3E%3Cpath%20d%3D%22M884%20256h-75c-5.1%200-9.9%202.5-12.9%206.6L512%20654.2%20227.9%20262.6c-3-4.1-7.8-6.6-12.9-6.6h-75c-6.5%200-10.3%207.4-6.5%2012.7l352.6%20486.1c12.8%2017.6%2039%2017.6%2051.7%200l352.6-486.1c3.9-5.3.1-12.7-6.4-12.7z%22%2F%3E%3C%2Fsvg%3E%3C%2Fspan%3E%3Cspan%20style%3D%22text-overflow%3A%20ellipsis%3B%20overflow%3A%20hidden%3B%20white-space%3A%20nowrap%3B%20max-width%3A%20calc((100%25%20-%2016px)%20-%200px)%3B%22%3Ewallstreetbets%3C%2Fspan%3E%3C%2Fdiv%3E%3Cdiv%20style%3D%22overflow%3A%20hidden%3B%20display%3A%20none%3B%20align-items%3A%20center%3B%20font-size%3A%2012px%3B%20height%3A%2028px%3B%20left%3A%20120px%3B%20padding%3A%204px%204px%203px%3B%20position%3A%20absolute%3B%20text-align%3A%20left%3B%20top%3A%2084px%3B%20width%3A%20220px%3B%20border-top%3A%201px%20solid%20rgb(233%2C%20233%2C%20233)%3B%20font-weight%3A%20600%3B%22%3E%3Cspan%20role%3D%22img%22%20aria-label%3D%22down%22%20tabindex%3D%22-1%22%20class%3D%22anticon%20anticon-down%22%20style%3D%22cursor%3A%20pointer%3B%20font-size%3A%2010px%3B%20margin-right%3A%206px%3B%22%3E%3Csvg%20xmlns%3D%22http%3A%2F%2Fwww.w3.org%2F2000%2Fsvg%22%20viewBox%3D%2264%2064%20896%20896%22%20focusable%3D%22false%22%20class%3D%22%22%20data-icon%3D%22down%22%20width%3D%221em%22%20height%3D%221em%22%20fill%3D%22currentColor%22%20aria-hidden%3D%22true%22%3E%3Cpath%20d%3D%22M884%20256h-75c-5.1%200-9.9%202.5-12.9%206.6L512%20654.2%20227.9%20262.6c-3-4.1-7.8-6.6-12.9-6.6h-75c-6.5%200-10.3%207.4-6.5%2012.7l352.6%20486.1c12.8%2017.6%2039%2017.6%2051.7%200l352.6-486.1c3.9-5.3.1-12.7-6.4-12.7z%22%2F%3E%3C%2Fsvg%3E%3C%2Fspan%3E%3Cspan%20style%3D%22text-overflow%3A%20ellipsis%3B%20overflow%3A%20hidden%3B%20white-space%3A%20nowrap%3B%20max-width%3A%20calc((100%25%20-%2016px)%20-%200px)%3B%22%3E%22I%20know%20you%20are%20going%20to%20hate%20to%20hear%20this%2C%20but%20the%20lower%20it%20goes%2C%20the%20more%20powerful%20WSB%20can%20be%20stepping%20up%20to%20buy%20the%20stock%20again.%22%20-Mark%20Cuban%3C%2Fspan%3E%3C%2Fdiv%3E%3Cdiv%20style%3D%22overflow%3A%20hidden%3B%20display%3A%20flex%3B%20align-items%3A%20center%3B%20font-size%3A%2012px%3B%20height%3A%2028px%3B%20left%3A%20340px%3B%20padding%3A%204px%204px%203px%3B%20position%3A%20absolute%3B%20text-align%3A%20left%3B%20top%3A%2084px%3B%20width%3A%20120px%3B%20border-top%3A%201px%20solid%20rgb(233%2C%20233%2C%20233)%3B%20font-weight%3A%20600%3B%22%3E%3Cspan%20role%3D%22img%22%20aria-label%3D%22down%22%20tabindex%3D%22-1%22%20class%3D%22anticon%20anticon-down%22%20style%3D%22cursor%3A%20pointer%3B%20font-size%3A%2010px%3B%20margin-right%3A%206px%3B%22%3E%3Csvg%20xmlns%3D%22http%3A%2F%2Fwww.w3.org%2F2000%2Fsvg%22%20viewBox%3D%2264%2064%20896%20896%22%20focusable%3D%22false%22%20class%3D%22%22%20data-icon%3D%22down%22%20width%3D%221em%22%20height%3D%221em%22%20fill%3D%22currentColor%22%20aria-hidden%3D%22true%22%3E%3Cpath%20d%3D%22M884%20256h-75c-5.1%200-9.9%202.5-12.9%206.6L512%20654.2%20227.9%20262.6c-3-4.1-7.8-6.6-12.9-6.6h-75c-6.5%200-10.3%207.4-6.5%2012.7l352.6%20486.1c12.8%2017.6%2039%2017.6%2051.7%200l352.6-486.1c3.9-5.3.1-12.7-6.4-12.7z%22%2F%3E%3C%2Fsvg%3E%3C%2Fspan%3E%3Cspan%20style%3D%22text-overflow%3A%20ellipsis%3B%20overflow%3A%20hidden%3B%20white-space%3A%20nowrap%3B%20max-width%3A%20calc((100%25%20-%2016px)%20-%200px)%3B%22%3E%26gt%3BSo%20what%20to%20do%20%3F%0D%0A%0D%0A%26gt%3BIf%20you%20can%20afford%20to%20hold%20the%20stock%2C%20you%20hold.%20I%20dont%20own%20it%2C%20but%20thats%20what%20i%20would%20do.%0D%0A%0D%0A%26gt%3BWhy%20%3F%20because%20when%20RH%20and%20the%20other%20online%20brokers%20open%20it%20back%20up%20to%20buyers%2C%20then%20we%20will%20see%20what%20WSB%20is%20really%20made%20of.%20That%20is%20when%20you%20get%20to%20make%20it%20all%20work.%0D%0A%0D%0A%26gt%3B**I%20have%20no%20doubt%20that%20there%20are%20funds%20and%20big%20players%20that%20have%20shorted%20this%20stock%20again%20thinking%20they%20are%20smarter%20than%20everyone%20on%20WSB.**%0D%0A%0D%0A%26gt%3BI%20know%20you%20are%20going%20to%20hate%20to%20hear%20this%2C%20but%20**the%20lower%20it%20goes%2C%20the%20more%20powerful%20WSB%20can%20be%20stepping%20up%20to%20buy%20the%20stock%20again.**%20%0D%0A%0D%0Awords%20of%20wisdom%20from%20Mark%20Cuban's%20AMA%20on%202%2F2%2F2021%0D%0A%0D%0Awww.reddit.com%2Fr%2Fwallstreetbets%2Fcomments%2Flawubt%2Fhey_everyone_its_mark_cuban_jumping_on_to_do_an%2F%3C%2Fspan%3E%3C%2Fdiv%3E%3Cdiv%20style%3D%22overflow%3A%20hidden%3B%20display%3A%20flex%3B%20align-items%3A%20center%3B%20font-size%3A%2012px%3B%20height%3A%2028px%3B%20left%3A%20460px%3B%20padding%3A%204px%204px%203px%3B%20position%3A%20absolute%3B%20text-align%3A%20left%3B%20top%3A%2084px%3B%20width%3A%2061px%3B%20border-top%3A%201px%20solid%20rgb(233%2C%20233%2C%20233)%3B%20font-weight%3A%20600%3B%22%3E%3Cspan%20style%3D%22text-overflow%3A%20ellipsis%3B%20overflow%3A%20hidden%3B%20white-space%3A%20nowrap%3B%20max-width%3A%20calc((100%25%20-%2016px)%20-%200px)%3B%22%3E%3C%2Fspan%3E%3C%2Fdiv%3E%3Cdiv%20style%3D%22overflow%3A%20hidden%3B%20display%3A%20flex%3B%20align-items%3A%20center%3B%20font-size%3A%2012px%3B%20height%3A%2028px%3B%20left%3A%20521px%3B%20padding%3A%204px%204px%203px%3B%20position%3A%20absolute%3B%20text-align%3A%20left%3B%20top%3A%2084px%3B%20width%3A%20115px%3B%20border-right%3A%202px%20solid%20rgb(233%2C%20233%2C%20233)%3B%20border-top%3A%201px%20solid%20rgb(233%2C%20233%2C%20233)%3B%22%3E%3Cspan%20style%3D%22text-overflow%3A%20ellipsis%3B%20overflow%3A%20hidden%3B%20white-space%3A%20nowrap%3B%20max-width%3A%20calc((100%25%20-%2016px)%20-%200px)%3B%22%3E%3C%2Fspan%3E%3C%2Fdiv%3E%3Cdiv%20style%3D%22overflow%3A%20hidden%3B%20display%3A%20none%3B%20align-items%3A%20center%3B%20font-size%3A%2012px%3B%20height%3A%2028px%3B%20left%3A%200px%3B%20padding%3A%204px%204px%203px%3B%20position%3A%20absolute%3B%20text-align%3A%20left%3B%20top%3A%20112px%3B%20width%3A%20120px%3B%20border-top%3A%201px%20solid%20rgb(233%2C%20233%2C%20233)%3B%20font-weight%3A%20600%3B%22%3E%3Cspan%20role%3D%22img%22%20aria-label%3D%22down%22%20tabindex%3D%22-1%22%20class%3D%22anticon%20anticon-down%22%20style%3D%22cursor%3A%20pointer%3B%20font-size%3A%2010px%3B%20margin-right%3A%206px%3B%22%3E%3Csvg%20xmlns%3D%22http%3A%2F%2Fwww.w3.org%2F2000%2Fsvg%22%20viewBox%3D%2264%2064%20896%20896%22%20focusable%3D%22false%22%20class%3D%22%22%20data-icon%3D%22down%22%20width%3D%221em%22%20height%3D%221em%22%20fill%3D%22currentColor%22%20aria-hidden%3D%22true%22%3E%3Cpath%20d%3D%22M884%20256h-75c-5.1%200-9.9%202.5-12.9%206.6L512%20654.2%20227.9%20262.6c-3-4.1-7.8-6.6-12.9-6.6h-75c-6.5%200-10.3%207.4-6.5%2012.7l352.6%20486.1c12.8%2017.6%2039%2017.6%2051.7%200l352.6-486.1c3.9-5.3.1-12.7-6.4-12.7z%22%2F%3E%3C%2Fsvg%3E%3C%2Fspan%3E%3Cspan%20style%3D%22text-overflow%3A%20ellipsis%3B%20overflow%3A%20hidden%3B%20white-space%3A%20nowrap%3B%20max-width%3A%20calc((100%25%20-%2016px)%20-%200px)%3B%22%3Ewallstreetbets%3C%2Fspan%3E%3C%2Fdiv%3E%3Cdiv%20style%3D%22overflow%3A%20hidden%3B%20display%3A%20none%3B%20align-items%3A%20center%3B%20font-size%3A%2012px%3B%20height%3A%2028px%3B%20left%3A%20120px%3B%20padding%3A%204px%204px%203px%3B%20position%3A%20absolute%3B%20text-align%3A%20left%3B%20top%3A%20112px%3B%20width%3A%20220px%3B%20border-top%3A%201px%20solid%20rgb(233%2C%20233%2C%20233)%3B%20font-weight%3A%20600%3B%22%3E%3Cspan%20role%3D%22img%22%20aria-label%3D%22down%22%20tabindex%3D%22-1%22%20class%3D%22anticon%20anticon-down%22%20style%3D%22cursor%3A%20pointer%3B%20font-size%3A%2010px%3B%20margin-right%3A%206px%3B%22%3E%3Csvg%20xmlns%3D%22http%3A%2F%2Fwww.w3.org%2F2000%2Fsvg%22%20viewBox%3D%2264%2064%20896%20896%22%20focusable%3D%22false%22%20class%3D%22%22%20data-icon%3D%22down%22%20width%3D%221em%22%20height%3D%221em%22%20fill%3D%22currentColor%22%20aria-hidden%3D%22true%22%3E%3Cpath%20d%3D%22M884%20256h-75c-5.1%200-9.9%202.5-12.9%206.6L512%20654.2%20227.9%20262.6c-3-4.1-7.8-6.6-12.9-6.6h-75c-6.5%200-10.3%207.4-6.5%2012.7l352.6%20486.1c12.8%2017.6%2039%2017.6%2051.7%200l352.6-486.1c3.9-5.3.1-12.7-6.4-12.7z%22%2F%3E%3C%2Fsvg%3E%3C%2Fspan%3E%3Cspan%20style%3D%22text-overflow%3A%20ellipsis%3B%20overflow%3A%20hidden%3B%20white-space%3A%20nowrap%3B%20max-width%3A%20calc((100%25%20-%2016px)%20-%200px)%3B%22%3E%22I%20know%20you%20are%20going%20to%20hate%20to%20hear%20this%2C%20but%20the%20lower%20it%20goes%2C%20the%20more%20powerful%20WSB%20can%20be%20stepping%20up%20to%20buy%20the%20stock%20again.%22%20-Mark%20Cuban%3C%2Fspan%3E%3C%2Fdiv%3E%3Cdiv%20style%3D%22overflow%3A%20hidden%3B%20display%3A%20none%3B%20align-items%3A%20center%3B%20font-size%3A%2012px%3B%20height%3A%2028px%3B%20left%3A%20340px%3B%20padding%3A%204px%204px%203px%3B%20position%3A%20absolute%3B%20text-align%3A%20left%3B%20top%3A%20112px%3B%20width%3A%20120px%3B%20border-top%3A%201px%20solid%20rgb(233%2C%20233%2C%20233)%3B%20font-weight%3A%20600%3B%22%3E%3Cspan%20role%3D%22img%22%20aria-label%3D%22down%22%20tabindex%3D%22-1%22%20class%3D%22anticon%20anticon-down%22%20style%3D%22cursor%3A%20pointer%3B%20font-size%3A%2010px%3B%20margin-right%3A%206px%3B%22%3E%3Csvg%20xmlns%3D%22http%3A%2F%2Fwww.w3.org%2F2000%2Fsvg%22%20viewBox%3D%2264%2064%20896%20896%22%20focusable%3D%22false%22%20class%3D%22%22%20data-icon%3D%22down%22%20width%3D%221em%22%20height%3D%221em%22%20fill%3D%22currentColor%22%20aria-hidden%3D%22true%22%3E%3Cpath%20d%3D%22M884%20256h-75c-5.1%200-9.9%202.5-12.9%206.6L512%20654.2%20227.9%20262.6c-3-4.1-7.8-6.6-12.9-6.6h-75c-6.5%200-10.3%207.4-6.5%2012.7l352.6%20486.1c12.8%2017.6%2039%2017.6%2051.7%200l352.6-486.1c3.9-5.3.1-12.7-6.4-12.7z%22%2F%3E%3C%2Fsvg%3E%3C%2Fspan%3E%3Cspan%20style%3D%22text-overflow%3A%20ellipsis%3B%20overflow%3A%20hidden%3B%20white-space%3A%20nowrap%3B%20max-width%3A%20calc((100%25%20-%2016px)%20-%200px)%3B%22%3E%26gt%3BSo%20what%20to%20do%20%3F%0D%0A%0D%0A%26gt%3BIf%20you%20can%20afford%20to%20hold%20the%20stock%2C%20you%20hold.%20I%20dont%20own%20it%2C%20but%20thats%20what%20i%20would%20do.%0D%0A%0D%0A%26gt%3BWhy%20%3F%20because%20when%20RH%20and%20the%20other%20online%20brokers%20open%20it%20back%20up%20to%20buyers%2C%20then%20we%20will%20see%20what%20WSB%20is%20really%20made%20of.%20That%20is%20when%20you%20get%20to%20make%20it%20all%20work.%0D%0A%0D%0A%26gt%3B**I%20have%20no%20doubt%20that%20there%20are%20funds%20and%20big%20players%20that%20have%20shorted%20this%20stock%20again%20thinking%20they%20are%20smarter%20than%20everyone%20on%20WSB.**%0D%0A%0D%0A%26gt%3BI%20know%20you%20are%20going%20to%20hate%20to%20hear%20this%2C%20but%20**the%20lower%20it%20goes%2C%20the%20more%20powerful%20WSB%20can%20be%20stepping%20up%20to%20buy%20the%20stock%20again.**%20%0D%0A%0D%0Awords%20of%20wisdom%20from%20Mark%20Cuban's%20AMA%20on%202%2F2%2F2021%0D%0A%0D%0Awww.reddit.com%2Fr%2Fwallstreetbets%2Fcomments%2Flawubt%2Fhey_everyone_its_mark_cuban_jumping_on_to_do_an%2F%3C%2Fspan%3E%3C%2Fdiv%3E%3Cdiv%20style%3D%22overflow%3A%20hidden%3B%20display%3A%20flex%3B%20align-items%3A%20center%3B%20font-size%3A%2012px%3B%20height%3A%2028px%3B%20left%3A%20460px%3B%20padding%3A%204px%204px%203px%3B%20position%3A%20absolute%3B%20text-align%3A%20left%3B%20top%3A%20112px%3B%20width%3A%2061px%3B%20border-top%3A%201px%20solid%20rgb(233%2C%20233%2C%20233)%3B%20font-weight%3A%20600%3B%22%3E%3Cspan%20role%3D%22img%22%20aria-label%3D%22down%22%20tabindex%3D%22-1%22%20class%3D%22anticon%20anticon-down%22%20style%3D%22cursor%3A%20pointer%3B%20font-size%3A%2010px%3B%20margin-right%3A%206px%3B%22%3E%3Csvg%20xmlns%3D%22http%3A%2F%2Fwww.w3.org%2F2000%2Fsvg%22%20viewBox%3D%2264%2064%20896%20896%22%20focusable%3D%22false%22%20class%3D%22%22%20data-icon%3D%22down%22%20width%3D%221em%22%20height%3D%221em%22%20fill%3D%22currentColor%22%20aria-hidden%3D%22true%22%3E%3Cpath%20d%3D%22M884%20256h-75c-5.1%200-9.9%202.5-12.9%206.6L512%20654.2%20227.9%20262.6c-3-4.1-7.8-6.6-12.9-6.6h-75c-6.5%200-10.3%207.4-6.5%2012.7l352.6%20486.1c12.8%2017.6%2039%2017.6%2051.7%200l352.6-486.1c3.9-5.3.1-12.7-6.4-12.7z%22%2F%3E%3C%2Fsvg%3E%3C%2Fspan%3E%3Cspan%20style%3D%22text-overflow%3A%20ellipsis%3B%20overflow%3A%20hidden%3B%20white-space%3A%20nowrap%3B%20max-width%3A%20calc((100%25%20-%2016px)%20-%200px)%3B%22%3Efalse%3C%2Fspan%3E%3C%2Fdiv%3E%3Cdiv%20style%3D%22overflow%3A%20hidden%3B%20display%3A%20flex%3B%20align-items%3A%20center%3B%20font-size%3A%2012px%3B%20height%3A%2028px%3B%20left%3A%20521px%3B%20padding%3A%204px%204px%203px%3B%20position%3A%20absolute%3B%20text-align%3A%20left%3B%20top%3A%20112px%3B%20width%3A%20115px%3B%20border-right%3A%202px%20solid%20rgb(233%2C%20233%2C%20233)%3B%20border-top%3A%201px%20solid%20rgb(233%2C%20233%2C%20233)%3B%22%3E%3Cspan%20style%3D%22text-overflow%3A%20ellipsis%3B%20overflow%3A%20hidden%3B%20white-space%3A%20nowrap%3B%20max-width%3A%20calc((100%25%20-%2016px)%20-%200px)%3B%22%3E%3C%2Fspan%3E%3C%2Fdiv%3E%3Cdiv%20style%3D%22overflow%3A%20hidden%3B%20display%3A%20none%3B%20align-items%3A%20center%3B%20font-size%3A%2012px%3B%20height%3A%2028px%3B%20left%3A%200px%3B%20padding%3A%204px%204px%203px%3B%20position%3A%20absolute%3B%20text-align%3A%20left%3B%20top%3A%20140px%3B%20width%3A%20120px%3B%20font-weight%3A%20600%3B%22%3E%3Cspan%20style%3D%22text-overflow%3A%20ellipsis%3B%20overflow%3A%20hidden%3B%20white-space%3A%20nowrap%3B%20max-width%3A%20calc((100%25%20-%200px)%20-%200px)%3B%22%3Ewallstreetbets%3C%2Fspan%3E%3C%2Fdiv%3E%3Cdiv%20style%3D%22overflow%3A%20hidden%3B%20display%3A%20none%3B%20align-items%3A%20center%3B%20font-size%3A%2012px%3B%20height%3A%2028px%3B%20left%3A%20120px%3B%20padding%3A%204px%204px%203px%3B%20position%3A%20absolute%3B%20text-align%3A%20left%3B%20top%3A%20140px%3B%20width%3A%20220px%3B%20font-weight%3A%20600%3B%22%3E%3Cspan%20style%3D%22text-overflow%3A%20ellipsis%3B%20overflow%3A%20hidden%3B%20white-space%3A%20nowrap%3B%20max-width%3A%20calc((100%25%20-%200px)%20-%200px)%3B%22%3E%22I%20know%20you%20are%20going%20to%20hate%20to%20hear%20this%2C%20but%20the%20lower%20it%20goes%2C%20the%20more%20powerful%20WSB%20can%20be%20stepping%20up%20to%20buy%20the%20stock%20again.%22%20-Mark%20Cuban%3C%2Fspan%3E%3C%2Fdiv%3E%3Cdiv%20style%3D%22overflow%3A%20hidden%3B%20display%3A%20none%3B%20align-items%3A%20center%3B%20font-size%3A%2012px%3B%20height%3A%2028px%3B%20left%3A%20340px%3B%20padding%3A%204px%204px%203px%3B%20position%3A%20absolute%3B%20text-align%3A%20left%3B%20top%3A%20140px%3B%20width%3A%20120px%3B%20font-weight%3A%20600%3B%22%3E%3Cspan%20style%3D%22text-overflow%3A%20ellipsis%3B%20overflow%3A%20hidden%3B%20white-space%3A%20nowrap%3B%20max-width%3A%20calc((100%25%20-%200px)%20-%200px)%3B%22%3E%26gt%3BSo%20what%20to%20do%20%3F%0D%0A%0D%0A%26gt%3BIf%20you%20can%20afford%20to%20hold%20the%20stock%2C%20you%20hold.%20I%20dont%20own%20it%2C%20but%20thats%20what%20i%20would%20do.%0D%0A%0D%0A%26gt%3BWhy%20%3F%20because%20when%20RH%20and%20the%20other%20online%20brokers%20open%20it%20back%20up%20to%20buyers%2C%20then%20we%20will%20see%20what%20WSB%20is%20really%20made%20of.%20That%20is%20when%20you%20get%20to%20make%20it%20all%20work.%0D%0A%0D%0A%26gt%3B**I%20have%20no%20doubt%20that%20there%20are%20funds%20and%20big%20players%20that%20have%20shorted%20this%20stock%20again%20thinking%20they%20are%20smarter%20than%20everyone%20on%20WSB.**%0D%0A%0D%0A%26gt%3BI%20know%20you%20are%20going%20to%20hate%20to%20hear%20this%2C%20but%20**the%20lower%20it%20goes%2C%20the%20more%20powerful%20WSB%20can%20be%20stepping%20up%20to%20buy%20the%20stock%20again.**%20%0D%0A%0D%0Awords%20of%20wisdom%20from%20Mark%20Cuban's%20AMA%20on%202%2F2%2F2021%0D%0A%0D%0Awww.reddit.com%2Fr%2Fwallstreetbets%2Fcomments%2Flawubt%2Fhey_everyone_its_mark_cuban_jumping_on_to_do_an%2F%3C%2Fspan%3E%3C%2Fdiv%3E%3Cdiv%20style%3D%22overflow%3A%20hidden%3B%20display%3A%20none%3B%20align-items%3A%20center%3B%20font-size%3A%2012px%3B%20height%3A%2028px%3B%20left%3A%20460px%3B%20padding%3A%204px%204px%203px%3B%20position%3A%20absolute%3B%20text-align%3A%20left%3B%20top%3A%20140px%3B%20width%3A%2061px%3B%20font-weight%3A%20600%3B%22%3E%3Cspan%20style%3D%22text-overflow%3A%20ellipsis%3B%20overflow%3A%20hidden%3B%20white-space%3A%20nowrap%3B%20max-width%3A%20calc((100%25%20-%200px)%20-%200px)%3B%22%3Efalse%3C%2Fspan%3E%3C%2Fdiv%3E%3Cdiv%20style%3D%22overflow%3A%20hidden%3B%20display%3A%20flex%3B%20align-items%3A%20center%3B%20font-size%3A%2012px%3B%20height%3A%2028px%3B%20left%3A%20521px%3B%20padding%3A%204px%204px%203px%3B%20position%3A%20absolute%3B%20text-align%3A%20left%3B%20top%3A%20140px%3B%20width%3A%20115px%3B%20background-color%3A%20rgb(250%2C%20250%2C%20250)%3B%20border-right%3A%202px%20solid%20rgb(233%2C%20233%2C%20233)%3B%22%3E%3Cspan%20style%3D%22text-overflow%3A%20ellipsis%3B%20overflow%3A%20hidden%3B%20white-space%3A%20nowrap%3B%20max-width%3A%20calc((100%25%20-%200px)%20-%200px)%3B%22%3E2021-03-25T04%3A13%3C%2Fspan%3E%3C%2Fdiv%3E%3Cdiv%20style%3D%22overflow%3A%20hidden%3B%20display%3A%20none%3B%20align-items%3A%20center%3B%20font-size%3A%2012px%3B%20height%3A%2028px%3B%20left%3A%200px%3B%20padding%3A%204px%204px%203px%3B%20position%3A%20absolute%3B%20text-align%3A%20left%3B%20top%3A%20168px%3B%20width%3A%20120px%3B%20border-top%3A%201px%20solid%20rgb(233%2C%20233%2C%20233)%3B%20font-weight%3A%20600%3B%22%3E%3Cspan%20role%3D%22img%22%20aria-label%3D%22right%22%20tabindex%3D%22-1%22%20class%3D%22anticon%20anticon-right%22%20style%3D%22cursor%3A%20pointer%3B%20font-size%3A%2010px%3B%20margin-right%3A%206px%3B%22%3E%3Csvg%20xmlns%3D%22http%3A%2F%2Fwww.w3.org%2F2000%2Fsvg%22%20viewBox%3D%2264%2064%20896%20896%22%20focusable%3D%22false%22%20class%3D%22%22%20data-icon%3D%22right%22%20width%3D%221em%22%20height%3D%221em%22%20fill%3D%22currentColor%22%20aria-hidden%3D%22true%22%3E%3Cpath%20d%3D%22M765.7%20486.8L314.9%20134.7A7.97%207.97%200%2000302%20141v77.3c0%204.9%202.3%209.6%206.1%2012.6l360%20281.1-360%20281.1c-3.9%203-6.1%207.7-6.1%2012.6V883c0%206.7%207.7%2010.4%2012.9%206.3l450.8-352.1a31.96%2031.96%200%20000-50.4z%22%2F%3E%3C%2Fsvg%3E%3C%2Fspan%3E%3Cspan%20style%3D%22text-overflow%3A%20ellipsis%3B%20overflow%3A%20hidden%3B%20white-space%3A%20nowrap%3B%20max-width%3A%20calc((100%25%20-%2016px)%20-%200px)%3B%22%3Ewallstreetbets%3C%2Fspan%3E%3C%2Fdiv%3E%3Cdiv%20style%3D%22overflow%3A%20hidden%3B%20display%3A%20flex%3B%20align-items%3A%20center%3B%20font-size%3A%2012px%3B%20height%3A%2028px%3B%20left%3A%20120px%3B%20padding%3A%204px%204px%203px%3B%20position%3A%20absolute%3B%20text-align%3A%20left%3B%20top%3A%20168px%3B%20width%3A%20220px%3B%20border-top%3A%201px%20solid%20rgb(233%2C%20233%2C%20233)%3B%20font-weight%3A%20600%3B%22%3E%3Cspan%20role%3D%22img%22%20aria-label%3D%22right%22%20tabindex%3D%22-1%22%20class%3D%22anticon%20anticon-right%22%20style%3D%22cursor%3A%20pointer%3B%20font-size%3A%2010px%3B%20margin-right%3A%206px%3B%22%3E%3Csvg%20xmlns%3D%22http%3A%2F%2Fwww.w3.org%2F2000%2Fsvg%22%20viewBox%3D%2264%2064%20896%20896%22%20focusable%3D%22false%22%20class%3D%22%22%20data-icon%3D%22right%22%20width%3D%221em%22%20height%3D%221em%22%20fill%3D%22currentColor%22%20aria-hidden%3D%22true%22%3E%3Cpath%20d%3D%22M765.7%20486.8L314.9%20134.7A7.97%207.97%200%2000302%20141v77.3c0%204.9%202.3%209.6%206.1%2012.6l360%20281.1-360%20281.1c-3.9%203-6.1%207.7-6.1%2012.6V883c0%206.7%207.7%2010.4%2012.9%206.3l450.8-352.1a31.96%2031.96%200%20000-50.4z%22%2F%3E%3C%2Fsvg%3E%3C%2Fspan%3E%3Cspan%20style%3D%22text-overflow%3A%20ellipsis%3B%20overflow%3A%20hidden%3B%20white-space%3A%20nowrap%3B%20max-width%3A%20calc((100%25%20-%2016px)%20-%200px)%3B%22%3E%22NY%20lawmakers%20reach%20agreement%20on%20bill%20to%20legalize%20recreational%20pot%22%3C%2Fspan%3E%3C%2Fdiv%3E%3Cdiv%20style%3D%22overflow%3A%20hidden%3B%20display%3A%20flex%3B%20align-items%3A%20center%3B%20font-size%3A%2012px%3B%20height%3A%2028px%3B%20left%3A%20340px%3B%20padding%3A%204px%204px%203px%3B%20position%3A%20absolute%3B%20text-align%3A%20left%3B%20top%3A%20168px%3B%20width%3A%20120px%3B%20border-top%3A%201px%20solid%20rgb(233%2C%20233%2C%20233)%3B%20font-weight%3A%20600%3B%22%3E%3Cspan%20style%3D%22text-overflow%3A%20ellipsis%3B%20overflow%3A%20hidden%3B%20white-space%3A%20nowrap%3B%20max-width%3A%20calc((100%25%20-%2016px)%20-%200px)%3B%22%3E%3C%2Fspan%3E%3C%2Fdiv%3E%3Cdiv%20style%3D%22overflow%3A%20hidden%3B%20display%3A%20flex%3B%20align-items%3A%20center%3B%20font-size%3A%2012px%3B%20height%3A%2028px%3B%20left%3A%20460px%3B%20padding%3A%204px%204px%203px%3B%20position%3A%20absolute%3B%20text-align%3A%20left%3B%20top%3A%20168px%3B%20width%3A%2061px%3B%20border-top%3A%201px%20solid%20rgb(233%2C%20233%2C%20233)%3B%20font-weight%3A%20600%3B%22%3E%3Cspan%20style%3D%22text-overflow%3A%20ellipsis%3B%20overflow%3A%20hidden%3B%20white-space%3A%20nowrap%3B%20max-width%3A%20calc((100%25%20-%2016px)%20-%200px)%3B%22%3E%3C%2Fspan%3E%3C%2Fdiv%3E%3Cdiv%20style%3D%22overflow%3A%20hidden%3B%20display%3A%20flex%3B%20align-items%3A%20center%3B%20font-size%3A%2012px%3B%20height%3A%2028px%3B%20left%3A%20521px%3B%20padding%3A%204px%204px%203px%3B%20position%3A%20absolute%3B%20text-align%3A%20left%3B%20top%3A%20168px%3B%20width%3A%20115px%3B%20border-right%3A%202px%20solid%20rgb(233%2C%20233%2C%20233)%3B%20border-top%3A%201px%20solid%20rgb(233%2C%20233%2C%20233)%3B%22%3E%3Cspan%20style%3D%22text-overflow%3A%20ellipsis%3B%20overflow%3A%20hidden%3B%20white-space%3A%20nowrap%3B%20max-width%3A%20calc((100%25%20-%2016px)%20-%200px)%3B%22%3E%3C%2Fspan%3E%3C%2Fdiv%3E%3Cdiv%20style%3D%22overflow%3A%20hidden%3B%20display%3A%20none%3B%20align-items%3A%20center%3B%20font-size%3A%2012px%3B%20height%3A%2028px%3B%20left%3A%200px%3B%20padding%3A%204px%204px%203px%3B%20position%3A%20absolute%3B%20text-align%3A%20left%3B%20top%3A%20196px%3B%20width%3A%20120px%3B%20border-top%3A%201px%20solid%20rgb(233%2C%20233%2C%20233)%3B%20font-weight%3A%20600%3B%22%3E%3Cspan%20role%3D%22img%22%20aria-label%3D%22right%22%20tabindex%3D%22-1%22%20class%3D%22anticon%20anticon-right%22%20style%3D%22cursor%3A%20pointer%3B%20font-size%3A%2010px%3B%20margin-right%3A%206px%3B%22%3E%3Csvg%20xmlns%3D%22http%3A%2F%2Fwww.w3.org%2F2000%2Fsvg%22%20viewBox%3D%2264%2064%20896%20896%22%20focusable%3D%22false%22%20class%3D%22%22%20data-icon%3D%22right%22%20width%3D%221em%22%20height%3D%221em%22%20fill%3D%22currentColor%22%20aria-hidden%3D%22true%22%3E%3Cpath%20d%3D%22M765.7%20486.8L314.9%20134.7A7.97%207.97%200%2000302%20141v77.3c0%204.9%202.3%209.6%206.1%2012.6l360%20281.1-360%20281.1c-3.9%203-6.1%207.7-6.1%2012.6V883c0%206.7%207.7%2010.4%2012.9%206.3l450.8-352.1a31.96%2031.96%200%20000-50.4z%22%2F%3E%3C%2Fsvg%3E%3C%2Fspan%3E%3Cspan%20style%3D%22text-overflow%3A%20ellipsis%3B%20overflow%3A%20hidden%3B%20white-space%3A%20nowrap%3B%20max-width%3A%20calc((100%25%20-%2016px)%20-%200px)%3B%22%3Ewallstreetbets%3C%2Fspan%3E%3C%2Fdiv%3E%3Cdiv%20style%3D%22overflow%3A%20hidden%3B%20display%3A%20flex%3B%20align-items%3A%20center%3B%20font-size%3A%2012px%3B%20height%3A%2028px%3B%20left%3A%20120px%3B%20padding%3A%204px%204px%203px%3B%20position%3A%20absolute%3B%20text-align%3A%20left%3B%20top%3A%20196px%3B%20width%3A%20220px%3B%20border-top%3A%201px%20solid%20rgb(233%2C%20233%2C%20233)%3B%20font-weight%3A%20600%3B%22%3E%3Cspan%20role%3D%22img%22%20aria-label%3D%22right%22%20tabindex%3D%22-1%22%20class%3D%22anticon%20anticon-right%22%20style%3D%22cursor%3A%20pointer%3B%20font-size%3A%2010px%3B%20margin-right%3A%206px%3B%22%3E%3Csvg%20xmlns%3D%22http%3A%2F%2Fwww.w3.org%2F2000%2Fsvg%22%20viewBox%3D%2264%2064%20896%20896%22%20focusable%3D%22false%22%20class%3D%22%22%20data-icon%3D%22right%22%20width%3D%221em%22%20height%3D%221em%22%20fill%3D%22currentColor%22%20aria-hidden%3D%22true%22%3E%3Cpath%20d%3D%22M765.7%20486.8L314.9%20134.7A7.97%207.97%200%2000302%20141v77.3c0%204.9%202.3%209.6%206.1%2012.6l360%20281.1-360%20281.1c-3.9%203-6.1%207.7-6.1%2012.6V883c0%206.7%207.7%2010.4%2012.9%206.3l450.8-352.1a31.96%2031.96%200%20000-50.4z%22%2F%3E%3C%2Fsvg%3E%3C%2Fspan%3E%3Cspan%20style%3D%22text-overflow%3A%20ellipsis%3B%20overflow%3A%20hidden%3B%20white-space%3A%20nowrap%3B%20max-width%3A%20calc((100%25%20-%2016px)%20-%200px)%3B%22%3E%22TaKe%20SoMe%20PrOfItS%22%20I%20held%20through%20both%20peaks%2C%20what%20makes%20you%20think%20I'll%20sell%20before%20%246969420%3F%20%F0%9F%8C%9A%F0%9F%9A%80%3C%2Fspan%3E%3C%2Fdiv%3E%3Cdiv%20style%3D%22overflow%3A%20hidden%3B%20display%3A%20flex%3B%20align-items%3A%20center%3B%20font-size%3A%2012px%3B%20height%3A%2028px%3B%20left%3A%20340px%3B%20padding%3A%204px%204px%203px%3B%20position%3A%20absolute%3B%20text-align%3A%20left%3B%20top%3A%20196px%3B%20width%3A%20120px%3B%20border-top%3A%201px%20solid%20rgb(233%2C%20233%2C%20233)%3B%20font-weight%3A%20600%3B%22%3E%3Cspan%20style%3D%22text-overflow%3A%20ellipsis%3B%20overflow%3A%20hidden%3B%20white-space%3A%20nowrap%3B%20max-width%3A%20calc((100%25%20-%2016px)%20-%200px)%3B%22%3E%3C%2Fspan%3E%3C%2Fdiv%3E%3Cdiv%20style%3D%22overflow%3A%20hidden%3B%20display%3A%20flex%3B%20align-items%3A%20center%3B%20font-size%3A%2012px%3B%20height%3A%2028px%3B%20left%3A%20460px%3B%20padding%3A%204px%204px%203px%3B%20position%3A%20absolute%3B%20text-align%3A%20left%3B%20top%3A%20196px%3B%20width%3A%2061px%3B%20border-top%3A%201px%20solid%20rgb(233%2C%20233%2C%20233)%3B%20font-weight%3A%20600%3B%22%3E%3Cspan%20style%3D%22text-overflow%3A%20ellipsis%3B%20overflow%3A%20hidden%3B%20white-space%3A%20nowrap%3B%20max-width%3A%20calc((100%25%20-%2016px)%20-%200px)%3B%22%3E%3C%2Fspan%3E%3C%2Fdiv%3E%3Cdiv%20style%3D%22overflow%3A%20hidden%3B%20display%3A%20flex%3B%20align-items%3A%20center%3B%20font-size%3A%2012px%3B%20height%3A%2028px%3B%20left%3A%20521px%3B%20padding%3A%204px%204px%203px%3B%20position%3A%20absolute%3B%20text-align%3A%20left%3B%20top%3A%20196px%3B%20width%3A%20115px%3B%20border-right%3A%202px%20solid%20rgb(233%2C%20233%2C%20233)%3B%20border-top%3A%201px%20solid%20rgb(233%2C%20233%2C%20233)%3B%22%3E%3Cspan%20style%3D%22text-overflow%3A%20ellipsis%3B%20overflow%3A%20hidden%3B%20white-space%3A%20nowrap%3B%20max-width%3A%20calc((100%25%20-%2016px)%20-%200px)%3B%22%3E%3C%2Fspan%3E%3C%2Fdiv%3E%3Cdiv%20style%3D%22overflow%3A%20hidden%3B%20display%3A%20none%3B%20align-items%3A%20center%3B%20font-size%3A%2012px%3B%20height%3A%2028px%3B%20left%3A%200px%3B%20padding%3A%204px%204px%203px%3B%20position%3A%20absolute%3B%20text-align%3A%20left%3B%20top%3A%20224px%3B%20width%3A%20120px%3B%20border-top%3A%201px%20solid%20rgb(233%2C%20233%2C%20233)%3B%20font-weight%3A%20600%3B%22%3E%3Cspan%20role%3D%22img%22%20aria-label%3D%22right%22%20tabindex%3D%22-1%22%20class%3D%22anticon%20anticon-right%22%20style%3D%22cursor%3A%20pointer%3B%20font-size%3A%2010px%3B%20margin-right%3A%206px%3B%22%3E%3Csvg%20xmlns%3D%22http%3A%2F%2Fwww.w3.org%2F2000%2Fsvg%22%20viewBox%3D%2264%2064%20896%20896%22%20focusable%3D%22false%22%20class%3D%22%22%20data-icon%3D%22right%22%20width%3D%221em%22%20height%3D%221em%22%20fill%3D%22currentColor%22%20aria-hidden%3D%22true%22%3E%3Cpath%20d%3D%22M765.7%20486.8L314.9%20134.7A7.97%207.97%200%2000302%20141v77.3c0%204.9%202.3%209.6%206.1%2012.6l360%20281.1-360%20281.1c-3.9%203-6.1%207.7-6.1%2012.6V883c0%206.7%207.7%2010.4%2012.9%206.3l450.8-352.1a31.96%2031.96%200%20000-50.4z%22%2F%3E%3C%2Fsvg%3E%3C%2Fspan%3E%3Cspan%20style%3D%22text-overflow%3A%20ellipsis%3B%20overflow%3A%20hidden%3B%20white-space%3A%20nowrap%3B%20max-width%3A%20calc((100%25%20-%2016px)%20-%200px)%3B%22%3Ewallstreetbets%3C%2Fspan%3E%3C%2Fdiv%3E%3Cdiv%20style%3D%22overflow%3A%20hidden%3B%20display%3A%20flex%3B%20align-items%3A%20center%3B%20font-size%3A%2012px%3B%20height%3A%2028px%3B%20left%3A%20120px%3B%20padding%3A%204px%204px%203px%3B%20position%3A%20absolute%3B%20text-align%3A%20left%3B%20top%3A%20224px%3B%20width%3A%20220px%3B%20border-top%3A%201px%20solid%20rgb(233%2C%20233%2C%20233)%3B%20font-weight%3A%20600%3B%22%3E%3Cspan%20role%3D%22img%22%20aria-label%3D%22right%22%20tabindex%3D%22-1%22%20class%3D%22anticon%20anticon-right%22%20style%3D%22cursor%3A%20pointer%3B%20font-size%3A%2010px%3B%20margin-right%3A%206px%3B%22%3E%3Csvg%20xmlns%3D%22http%3A%2F%2Fwww.w3.org%2F2000%2Fsvg%22%20viewBox%3D%2264%2064%20896%20896%22%20focusable%3D%22false%22%20class%3D%22%22%20data-icon%3D%22right%22%20width%3D%221em%22%20height%3D%221em%22%20fill%3D%22currentColor%22%20aria-hidden%3D%22true%22%3E%3Cpath%20d%3D%22M765.7%20486.8L314.9%20134.7A7.97%207.97%200%2000302%20141v77.3c0%204.9%202.3%209.6%206.1%2012.6l360%20281.1-360%20281.1c-3.9%203-6.1%207.7-6.1%2012.6V883c0%206.7%207.7%2010.4%2012.9%206.3l450.8-352.1a31.96%2031.96%200%20000-50.4z%22%2F%3E%3C%2Fsvg%3E%3C%2Fspan%3E%3Cspan%20style%3D%22text-overflow%3A%20ellipsis%3B%20overflow%3A%20hidden%3B%20white-space%3A%20nowrap%3B%20max-width%3A%20calc((100%25%20-%2016px)%20-%200px)%3B%22%3E%24(S)PY%20400%20roarings%2020's%20is%20here%3C%2Fspan%3E%3C%2Fdiv%3E%3Cdiv%20style%3D%22overflow%3A%20hidden%3B%20display%3A%20flex%3B%20align-items%3A%20center%3B%20font-size%3A%2012px%3B%20height%3A%2028px%3B%20left%3A%20340px%3B%20padding%3A%204px%204px%203px%3B%20position%3A%20absolute%3B%20text-align%3A%20left%3B%20top%3A%20224px%3B%20width%3A%20120px%3B%20border-top%3A%201px%20solid%20rgb(233%2C%20233%2C%20233)%3B%20font-weight%3A%20600%3B%22%3E%3Cspan%20style%3D%22text-overflow%3A%20ellipsis%3B%20overflow%3A%20hidden%3B%20white-space%3A%20nowrap%3B%20max-width%3A%20calc((100%25%20-%2016px)%20-%200px)%3B%22%3E%3C%2Fspan%3E%3C%2Fdiv%3E%3Cdiv%20style%3D%22overflow%3A%20hidden%3B%20display%3A%20flex%3B%20align-items%3A%20center%3B%20font-size%3A%2012px%3B%20height%3A%2028px%3B%20left%3A%20460px%3B%20padding%3A%204px%204px%203px%3B%20position%3A%20absolute%3B%20text-align%3A%20left%3B%20top%3A%20224px%3B%20width%3A%2061px%3B%20border-top%3A%201px%20solid%20rgb(233%2C%20233%2C%20233)%3B%20font-weight%3A%20600%3B%22%3E%3Cspan%20style%3D%22text-overflow%3A%20ellipsis%3B%20overflow%3A%20hidden%3B%20white-space%3A%20nowrap%3B%20max-width%3A%20calc((100%25%20-%2016px)%20-%200px)%3B%22%3E%3C%2Fspan%3E%3C%2Fdiv%3E%3Cdiv%20style%3D%22overflow%3A%20hidden%3B%20display%3A%20flex%3B%20align-items%3A%20center%3B%20font-size%3A%2012px%3B%20height%3A%2028px%3B%20left%3A%20521px%3B%20padding%3A%204px%204px%203px%3B%20position%3A%20absolute%3B%20text-align%3A%20left%3B%20top%3A%20224px%3B%20width%3A%20115px%3B%20border-right%3A%202px%20solid%20rgb(233%2C%20233%2C%20233)%3B%20border-top%3A%201px%20solid%20rgb(233%2C%20233%2C%20233)%3B%22%3E%3Cspan%20style%3D%22text-overflow%3A%20ellipsis%3B%20overflow%3A%20hidden%3B%20white-space%3A%20nowrap%3B%20max-width%3A%20calc((100%25%20-%2016px)%20-%200px)%3B%22%3E%3C%2Fspan%3E%3C%2Fdiv%3E%3Cdiv%20style%3D%22overflow%3A%20hidden%3B%20display%3A%20none%3B%20align-items%3A%20center%3B%20font-size%3A%2012px%3B%20height%3A%2028px%3B%20left%3A%200px%3B%20padding%3A%204px%204px%203px%3B%20position%3A%20absolute%3B%20text-align%3A%20left%3B%20top%3A%20252px%3B%20width%3A%20120px%3B%20border-top%3A%201px%20solid%20rgb(233%2C%20233%2C%20233)%3B%20font-weight%3A%20600%3B%22%3E%3Cspan%20role%3D%22img%22%20aria-label%3D%22right%22%20tabindex%3D%22-1%22%20class%3D%22anticon%20anticon-right%22%20style%3D%22cursor%3A%20pointer%3B%20font-size%3A%2010px%3B%20margin-right%3A%206px%3B%22%3E%3Csvg%20xmlns%3D%22http%3A%2F%2Fwww.w3.org%2F2000%2Fsvg%22%20viewBox%3D%2264%2064%20896%20896%22%20focusable%3D%22false%22%20class%3D%22%22%20data-icon%3D%22right%22%20width%3D%221em%22%20height%3D%221em%22%20fill%3D%22currentColor%22%20aria-hidden%3D%22true%22%3E%3Cpath%20d%3D%22M765.7%20486.8L314.9%20134.7A7.97%207.97%200%2000302%20141v77.3c0%204.9%202.3%209.6%206.1%2012.6l360%20281.1-360%20281.1c-3.9%203-6.1%207.7-6.1%2012.6V883c0%206.7%207.7%2010.4%2012.9%206.3l450.8-352.1a31.96%2031.96%200%20000-50.4z%22%2F%3E%3C%2Fsvg%3E%3C%2Fspan%3E%3Cspan%20style%3D%22text-overflow%3A%20ellipsis%3B%20overflow%3A%20hidden%3B%20white-space%3A%20nowrap%3B%20max-width%3A%20calc((100%25%20-%2016px)%20-%200px)%3B%22%3Ewallstreetbets%3C%2Fspan%3E%3C%2Fdiv%3E%3Cdiv%20style%3D%22overflow%3A%20hidden%3B%20display%3A%20flex%3B%20align-items%3A%20center%3B%20font-size%3A%2012px%3B%20height%3A%2028px%3B%20left%3A%20120px%3B%20padding%3A%204px%204px%203px%3B%20position%3A%20absolute%3B%20text-align%3A%20left%3B%20top%3A%20252px%3B%20width%3A%20220px%3B%20border-top%3A%201px%20solid%20rgb(233%2C%20233%2C%20233)%3B%20font-weight%3A%20600%3B%22%3E%3Cspan%20role%3D%22img%22%20aria-label%3D%22right%22%20tabindex%3D%22-1%22%20class%3D%22anticon%20anticon-right%22%20style%3D%22cursor%3A%20pointer%3B%20font-size%3A%2010px%3B%20margin-right%3A%206px%3B%22%3E%3Csvg%20xmlns%3D%22http%3A%2F%2Fwww.w3.org%2F2000%2Fsvg%22%20viewBox%3D%2264%2064%20896%20896%22%20focusable%3D%22false%22%20class%3D%22%22%20data-icon%3D%22right%22%20width%3D%221em%22%20height%3D%221em%22%20fill%3D%22currentColor%22%20aria-hidden%3D%22true%22%3E%3Cpath%20d%3D%22M765.7%20486.8L314.9%20134.7A7.97%207.97%200%2000302%20141v77.3c0%204.9%202.3%209.6%206.1%2012.6l360%20281.1-360%20281.1c-3.9%203-6.1%207.7-6.1%2012.6V883c0%206.7%207.7%2010.4%2012.9%206.3l450.8-352.1a31.96%2031.96%200%20000-50.4z%22%2F%3E%3C%2Fsvg%3E%3C%2Fspan%3E%3Cspan%20style%3D%22text-overflow%3A%20ellipsis%3B%20overflow%3A%20hidden%3B%20white-space%3A%20nowrap%3B%20max-width%3A%20calc((100%25%20-%2016px)%20-%200px)%3B%22%3E%24170K%20Palantir%20(PLTR)%20YOLO%20update.%20What%E2%80%99s%20risk%20management%3F%3C%2Fspan%3E%3C%2Fdiv%3E%3Cdiv%20style%3D%22overflow%3A%20hidden%3B%20display%3A%20flex%3B%20align-items%3A%20center%3B%20font-size%3A%2012px%3B%20height%3A%2028px%3B%20left%3A%20340px%3B%20padding%3A%204px%204px%203px%3B%20position%3A%20absolute%3B%20text-align%3A%20left%3B%20top%3A%20252px%3B%20width%3A%20120px%3B%20border-top%3A%201px%20solid%20rgb(233%2C%20233%2C%20233)%3B%20font-weight%3A%20600%3B%22%3E%3Cspan%20style%3D%22text-overflow%3A%20ellipsis%3B%20overflow%3A%20hidden%3B%20white-space%3A%20nowrap%3B%20max-width%3A%20calc((100%25%20-%2016px)%20-%200px)%3B%22%3E%3C%2Fspan%3E%3C%2Fdiv%3E%3Cdiv%20style%3D%22overflow%3A%20hidden%3B%20display%3A%20flex%3B%20align-items%3A%20center%3B%20font-size%3A%2012px%3B%20height%3A%2028px%3B%20left%3A%20460px%3B%20padding%3A%204px%204px%203px%3B%20position%3A%20absolute%3B%20text-align%3A%20left%3B%20top%3A%20252px%3B%20width%3A%2061px%3B%20border-top%3A%201px%20solid%20rgb(233%2C%20233%2C%20233)%3B%20font-weight%3A%20600%3B%22%3E%3Cspan%20style%3D%22text-overflow%3A%20ellipsis%3B%20overflow%3A%20hidden%3B%20white-space%3A%20nowrap%3B%20max-width%3A%20calc((100%25%20-%2016px)%20-%200px)%3B%22%3E%3C%2Fspan%3E%3C%2Fdiv%3E%3Cdiv%20style%3D%22overflow%3A%20hidden%3B%20display%3A%20flex%3B%20align-items%3A%20center%3B%20font-size%3A%2012px%3B%20height%3A%2028px%3B%20left%3A%20521px%3B%20padding%3A%204px%204px%203px%3B%20position%3A%20absolute%3B%20text-align%3A%20left%3B%20top%3A%20252px%3B%20width%3A%20115px%3B%20border-right%3A%202px%20solid%20rgb(233%2C%20233%2C%20233)%3B%20border-top%3A%201px%20solid%20rgb(233%2C%20233%2C%20233)%3B%22%3E%3Cspan%20style%3D%22text-overflow%3A%20ellipsis%3B%20overflow%3A%20hidden%3B%20white-space%3A%20nowrap%3B%20max-width%3A%20calc((100%25%20-%2016px)%20-%200px)%3B%22%3E%3C%2Fspan%3E%3C%2Fdiv%3E%3Cdiv%20style%3D%22overflow%3A%20hidden%3B%20display%3A%20none%3B%20align-items%3A%20center%3B%20font-size%3A%2012px%3B%20height%3A%2028px%3B%20left%3A%200px%3B%20padding%3A%204px%204px%203px%3B%20position%3A%20absolute%3B%20text-align%3A%20left%3B%20top%3A%20280px%3B%20width%3A%20120px%3B%20border-top%3A%201px%20solid%20rgb(233%2C%20233%2C%20233)%3B%20font-weight%3A%20600%3B%22%3E%3Cspan%20role%3D%22img%22%20aria-label%3D%22right%22%20tabindex%3D%22-1%22%20class%3D%22anticon%20anticon-right%22%20style%3D%22cursor%3A%20pointer%3B%20font-size%3A%2010px%3B%20margin-right%3A%206px%3B%22%3E%3Csvg%20xmlns%3D%22http%3A%2F%2Fwww.w3.org%2F2000%2Fsvg%22%20viewBox%3D%2264%2064%20896%20896%22%20focusable%3D%22false%22%20class%3D%22%22%20data-icon%3D%22right%22%20width%3D%221em%22%20height%3D%221em%22%20fill%3D%22currentColor%22%20aria-hidden%3D%22true%22%3E%3Cpath%20d%3D%22M765.7%20486.8L314.9%20134.7A7.97%207.97%200%2000302%20141v77.3c0%204.9%202.3%209.6%206.1%2012.6l360%20281.1-360%20281.1c-3.9%203-6.1%207.7-6.1%2012.6V883c0%206.7%207.7%2010.4%2012.9%206.3l450.8-352.1a31.96%2031.96%200%20000-50.4z%22%2F%3E%3C%2Fsvg%3E%3C%2Fspan%3E%3Cspan%20style%3D%22text-overflow%3A%20ellipsis%3B%20overflow%3A%20hidden%3B%20white-space%3A%20nowrap%3B%20max-width%3A%20calc((100%25%20-%2016px)%20-%200px)%3B%22%3Ewallstreetbets%3C%2Fspan%3E%3C%2Fdiv%3E%3Cdiv%20style%3D%22overflow%3A%20hidden%3B%20display%3A%20flex%3B%20align-items%3A%20center%3B%20font-size%3A%2012px%3B%20height%3A%2028px%3B%20left%3A%20120px%3B%20padding%3A%204px%204px%203px%3B%20position%3A%20absolute%3B%20text-align%3A%20left%3B%20top%3A%20280px%3B%20width%3A%20220px%3B%20border-top%3A%201px%20solid%20rgb(233%2C%20233%2C%20233)%3B%20font-weight%3A%20600%3B%22%3E%3Cspan%20role%3D%22img%22%20aria-label%3D%22right%22%20tabindex%3D%22-1%22%20class%3D%22anticon%20anticon-right%22%20style%3D%22cursor%3A%20pointer%3B%20font-size%3A%2010px%3B%20margin-right%3A%206px%3B%22%3E%3Csvg%20xmlns%3D%22http%3A%2F%2Fwww.w3.org%2F2000%2Fsvg%22%20viewBox%3D%2264%2064%20896%20896%22%20focusable%3D%22false%22%20class%3D%22%22%20data-icon%3D%22right%22%20width%3D%221em%22%20height%3D%221em%22%20fill%3D%22currentColor%22%20aria-hidden%3D%22true%22%3E%3Cpath%20d%3D%22M765.7%20486.8L314.9%20134.7A7.97%207.97%200%2000302%20141v77.3c0%204.9%202.3%209.6%206.1%2012.6l360%20281.1-360%20281.1c-3.9%203-6.1%207.7-6.1%2012.6V883c0%206.7%207.7%2010.4%2012.9%206.3l450.8-352.1a31.96%2031.96%200%20000-50.4z%22%2F%3E%3C%2Fsvg%3E%3C%2Fspan%3E%3Cspan%20style%3D%22text-overflow%3A%20ellipsis%3B%20overflow%3A%20hidden%3B%20white-space%3A%20nowrap%3B%20max-width%3A%20calc((100%25%20-%2016px)%20-%200px)%3B%22%3E%2442069%20or%20%240%20per%20share%2C%20there%20is%20no%20in%20between.%20I'M%20NOT%20LEAVING%3C%2Fspan%3E%3C%2Fdiv%3E%3Cdiv%20style%3D%22overflow%3A%20hidden%3B%20display%3A%20flex%3B%20align-items%3A%20center%3B%20font-size%3A%2012px%3B%20height%3A%2028px%3B%20left%3A%20340px%3B%20padding%3A%204px%204px%203px%3B%20position%3A%20absolute%3B%20text-align%3A%20left%3B%20top%3A%20280px%3B%20width%3A%20120px%3B%20border-top%3A%201px%20solid%20rgb(233%2C%20233%2C%20233)%3B%20font-weight%3A%20600%3B%22%3E%3Cspan%20style%3D%22text-overflow%3A%20ellipsis%3B%20overflow%3A%20hidden%3B%20white-space%3A%20nowrap%3B%20max-width%3A%20calc((100%25%20-%2016px)%20-%200px)%3B%22%3E%3C%2Fspan%3E%3C%2Fdiv%3E%3Cdiv%20style%3D%22overflow%3A%20hidden%3B%20display%3A%20flex%3B%20align-items%3A%20center%3B%20font-size%3A%2012px%3B%20height%3A%2028px%3B%20left%3A%20460px%3B%20padding%3A%204px%204px%203px%3B%20position%3A%20absolute%3B%20text-align%3A%20left%3B%20top%3A%20280px%3B%20width%3A%2061px%3B%20border-top%3A%201px%20solid%20rgb(233%2C%20233%2C%20233)%3B%20font-weight%3A%20600%3B%22%3E%3Cspan%20style%3D%22text-overflow%3A%20ellipsis%3B%20overflow%3A%20hidden%3B%20white-space%3A%20nowrap%3B%20max-width%3A%20calc((100%25%20-%2016px)%20-%200px)%3B%22%3E%3C%2Fspan%3E%3C%2Fdiv%3E%3Cdiv%20style%3D%22overflow%3A%20hidden%3B%20display%3A%20flex%3B%20align-items%3A%20center%3B%20font-size%3A%2012px%3B%20height%3A%2028px%3B%20left%3A%20521px%3B%20padding%3A%204px%204px%203px%3B%20position%3A%20absolute%3B%20text-align%3A%20left%3B%20top%3A%20280px%3B%20width%3A%20115px%3B%20border-right%3A%202px%20solid%20rgb(233%2C%20233%2C%20233)%3B%20border-top%3A%201px%20solid%20rgb(233%2C%20233%2C%20233)%3B%22%3E%3Cspan%20style%3D%22text-overflow%3A%20ellipsis%3B%20overflow%3A%20hidden%3B%20white-space%3A%20nowrap%3B%20max-width%3A%20calc((100%25%20-%2016px)%20-%200px)%3B%22%3E%3C%2Fspan%3E%3C%2Fdiv%3E%3Cdiv%20style%3D%22overflow%3A%20hidden%3B%20display%3A%20none%3B%20align-items%3A%20center%3B%20font-size%3A%2012px%3B%20height%3A%2028px%3B%20left%3A%200px%3B%20padding%3A%204px%204px%203px%3B%20position%3A%20absolute%3B%20text-align%3A%20left%3B%20top%3A%20308px%3B%20width%3A%20120px%3B%20border-top%3A%201px%20solid%20rgb(233%2C%20233%2C%20233)%3B%20font-weight%3A%20600%3B%22%3E%3Cspan%20role%3D%22img%22%20aria-label%3D%22right%22%20tabindex%3D%22-1%22%20class%3D%22anticon%20anticon-right%22%20style%3D%22cursor%3A%20pointer%3B%20font-size%3A%2010px%3B%20margin-right%3A%206px%3B%22%3E%3Csvg%20xmlns%3D%22http%3A%2F%2Fwww.w3.org%2F2000%2Fsvg%22%20viewBox%3D%2264%2064%20896%20896%22%20focusable%3D%22false%22%20class%3D%22%22%20data-icon%3D%22right%22%20width%3D%221em%22%20height%3D%221em%22%20fill%3D%22currentColor%22%20aria-hidden%3D%22true%22%3E%3Cpath%20d%3D%22M765.7%20486.8L314.9%20134.7A7.97%207.97%200%2000302%20141v77.3c0%204.9%202.3%209.6%206.1%2012.6l360%20281.1-360%20281.1c-3.9%203-6.1%207.7-6.1%2012.6V883c0%206.7%207.7%2010.4%2012.9%206.3l450.8-352.1a31.96%2031.96%200%20000-50.4z%22%2F%3E%3C%2Fsvg%3E%3C%2Fspan%3E%3Cspan%20style%3D%22text-overflow%3A%20ellipsis%3B%20overflow%3A%20hidden%3B%20white-space%3A%20nowrap%3B%20max-width%3A%20calc((100%25%20-%2016px)%20-%200px)%3B%22%3Ewallstreetbets%3C%2Fspan%3E%3C%2Fdiv%3E%3Cdiv%20style%3D%22overflow%3A%20hidden%3B%20display%3A%20flex%3B%20align-items%3A%20center%3B%20font-size%3A%2012px%3B%20height%3A%2028px%3B%20left%3A%20120px%3B%20padding%3A%204px%204px%203px%3B%20position%3A%20absolute%3B%20text-align%3A%20left%3B%20top%3A%20308px%3B%20width%3A%20220px%3B%20border-top%3A%201px%20solid%20rgb(233%2C%20233%2C%20233)%3B%20font-weight%3A%20600%3B%22%3E%3Cspan%20role%3D%22img%22%20aria-label%3D%22right%22%20tabindex%3D%22-1%22%20class%3D%22anticon%20anticon-right%22%20style%3D%22cursor%3A%20pointer%3B%20font-size%3A%2010px%3B%20margin-right%3A%206px%3B%22%3E%3Csvg%20xmlns%3D%22http%3A%2F%2Fwww.w3.org%2F2000%2Fsvg%22%20viewBox%3D%2264%2064%20896%20896%22%20focusable%3D%22false%22%20class%3D%22%22%20data-icon%3D%22right%22%20width%3D%221em%22%20height%3D%221em%22%20fill%3D%22currentColor%22%20aria-hidden%3D%22true%22%3E%3Cpath%20d%3D%22M765.7%20486.8L314.9%20134.7A7.97%207.97%200%2000302%20141v77.3c0%204.9%202.3%209.6%206.1%2012.6l360%20281.1-360%20281.1c-3.9%203-6.1%207.7-6.1%2012.6V883c0%206.7%207.7%2010.4%2012.9%206.3l450.8-352.1a31.96%2031.96%200%20000-50.4z%22%2F%3E%3C%2Fsvg%3E%3C%2Fspan%3E%3Cspan%20style%3D%22text-overflow%3A%20ellipsis%3B%20overflow%3A%20hidden%3B%20white-space%3A%20nowrap%3B%20max-width%3A%20calc((100%25%20-%2016px)%20-%200px)%3B%22%3E%24550K%20YOLO%20PLTR.%20I%20ACCIDENTALLY%20TYPED%20THE%20WRONG%20NUMBER%20OF%20SHARES%20AND%20IT%20IMMEDIATELY%20STARTED%20GOING%20DOWN%20SO%20I%20SAID%20FUCK%20IT%20I%20LIKE%20THE%20STOCK!%20DELETING%20MY%20TD%20APP%20TO%20CHECK%20IN%20ONCE%20A%20MONTH.%3C%2Fspan%3E%3C%2Fdiv%3E%3Cdiv%20style%3D%22overflow%3A%20hidden%3B%20display%3A%20flex%3B%20align-items%3A%20center%3B%20font-size%3A%2012px%3B%20height%3A%2028px%3B%20left%3A%20340px%3B%20padding%3A%204px%204px%203px%3B%20position%3A%20absolute%3B%20text-align%3A%20left%3B%20top%3A%20308px%3B%20width%3A%20120px%3B%20border-top%3A%201px%20solid%20rgb(233%2C%20233%2C%20233)%3B%20font-weight%3A%20600%3B%22%3E%3Cspan%20style%3D%22text-overflow%3A%20ellipsis%3B%20overflow%3A%20hidden%3B%20white-space%3A%20nowrap%3B%20max-width%3A%20calc((100%25%20-%2016px)%20-%200px)%3B%22%3E%3C%2Fspan%3E%3C%2Fdiv%3E%3Cdiv%20style%3D%22overflow%3A%20hidden%3B%20display%3A%20flex%3B%20align-items%3A%20center%3B%20font-size%3A%2012px%3B%20height%3A%2028px%3B%20left%3A%20460px%3B%20padding%3A%204px%204px%203px%3B%20position%3A%20absolute%3B%20text-align%3A%20left%3B%20top%3A%20308px%3B%20width%3A%2061px%3B%20border-top%3A%201px%20solid%20rgb(233%2C%20233%2C%20233)%3B%20font-weight%3A%20600%3B%22%3E%3Cspan%20style%3D%22text-overflow%3A%20ellipsis%3B%20overflow%3A%20hidden%3B%20white-space%3A%20nowrap%3B%20max-width%3A%20calc((100%25%20-%2016px)%20-%200px)%3B%22%3E%3C%2Fspan%3E%3C%2Fdiv%3E%3Cdiv%20style%3D%22overflow%3A%20hidden%3B%20display%3A%20flex%3B%20align-items%3A%20center%3B%20font-size%3A%2012px%3B%20height%3A%2028px%3B%20left%3A%20521px%3B%20padding%3A%204px%204px%203px%3B%20position%3A%20absolute%3B%20text-align%3A%20left%3B%20top%3A%20308px%3B%20width%3A%20115px%3B%20border-right%3A%202px%20solid%20rgb(233%2C%20233%2C%20233)%3B%20border-top%3A%201px%20solid%20rgb(233%2C%20233%2C%20233)%3B%22%3E%3Cspan%20style%3D%22text-overflow%3A%20ellipsis%3B%20overflow%3A%20hidden%3B%20white-space%3A%20nowrap%3B%20max-width%3A%20calc((100%25%20-%2016px)%20-%200px)%3B%22%3E%3C%2Fspan%3E%3C%2Fdiv%3E%3Cdiv%20style%3D%22overflow%3A%20hidden%3B%20display%3A%20none%3B%20align-items%3A%20center%3B%20font-size%3A%2012px%3B%20height%3A%2028px%3B%20left%3A%200px%3B%20padding%3A%204px%204px%203px%3B%20position%3A%20absolute%3B%20text-align%3A%20left%3B%20top%3A%20336px%3B%20width%3A%20120px%3B%20border-top%3A%201px%20solid%20rgb(233%2C%20233%2C%20233)%3B%20font-weight%3A%20600%3B%22%3E%3Cspan%20role%3D%22img%22%20aria-label%3D%22right%22%20tabindex%3D%22-1%22%20class%3D%22anticon%20anticon-right%22%20style%3D%22cursor%3A%20pointer%3B%20font-size%3A%2010px%3B%20margin-right%3A%206px%3B%22%3E%3Csvg%20xmlns%3D%22http%3A%2F%2Fwww.w3.org%2F2000%2Fsvg%22%20viewBox%3D%2264%2064%20896%20896%22%20focusable%3D%22false%22%20class%3D%22%22%20data-icon%3D%22right%22%20width%3D%221em%22%20height%3D%221em%22%20fill%3D%22currentColor%22%20aria-hidden%3D%22true%22%3E%3Cpath%20d%3D%22M765.7%20486.8L314.9%20134.7A7.97%207.97%200%2000302%20141v77.3c0%204.9%202.3%209.6%206.1%2012.6l360%20281.1-360%20281.1c-3.9%203-6.1%207.7-6.1%2012.6V883c0%206.7%207.7%2010.4%2012.9%206.3l450.8-352.1a31.96%2031.96%200%20000-50.4z%22%2F%3E%3C%2Fsvg%3E%3C%2Fspan%3E%3Cspan%20style%3D%22text-overflow%3A%20ellipsis%3B%20overflow%3A%20hidden%3B%20white-space%3A%20nowrap%3B%20max-width%3A%20calc((100%25%20-%2016px)%20-%200px)%3B%22%3Ewallstreetbets%3C%2Fspan%3E%3C%2Fdiv%3E%3Cdiv%20style%3D%22overflow%3A%20hidden%3B%20display%3A%20flex%3B%20align-items%3A%20center%3B%20font-size%3A%2012px%3B%20height%3A%2028px%3B%20left%3A%20120px%3B%20padding%3A%204px%204px%203px%3B%20position%3A%20absolute%3B%20text-align%3A%20left%3B%20top%3A%20336px%3B%20width%3A%20220px%3B%20border-top%3A%201px%20solid%20rgb(233%2C%20233%2C%20233)%3B%20font-weight%3A%20600%3B%22%3E%3Cspan%20role%3D%22img%22%20aria-label%3D%22right%22%20tabindex%3D%22-1%22%20class%3D%22anticon%20anticon-right%22%20style%3D%22cursor%3A%20pointer%3B%20font-size%3A%2010px%3B%20margin-right%3A%206px%3B%22%3E%3Csvg%20xmlns%3D%22http%3A%2F%2Fwww.w3.org%2F2000%2Fsvg%22%20viewBox%3D%2264%2064%20896%20896%22%20focusable%3D%22false%22%20class%3D%22%22%20data-icon%3D%22right%22%20width%3D%221em%22%20height%3D%221em%22%20fill%3D%22currentColor%22%20aria-hidden%3D%22true%22%3E%3Cpath%20d%3D%22M765.7%20486.8L314.9%20134.7A7.97%207.97%200%2000302%20141v77.3c0%204.9%202.3%209.6%206.1%2012.6l360%20281.1-360%20281.1c-3.9%203-6.1%207.7-6.1%2012.6V883c0%206.7%207.7%2010.4%2012.9%206.3l450.8-352.1a31.96%2031.96%200%20000-50.4z%22%2F%3E%3C%2Fsvg%3E%3C%2Fspan%3E%3Cspan%20style%3D%22text-overflow%3A%20ellipsis%3B%20overflow%3A%20hidden%3B%20white-space%3A%20nowrap%3B%20max-width%3A%20calc((100%25%20-%2016px)%20-%200px)%3B%22%3E%2466K%20down%20today%20and%20not%20an%20ounce%20of%20panic.%20There%E2%80%99s%20a%20real%20VIBBEEEEEE%20in%20WSB%20%2F%20WeBull%20right%20now%20and%20that%20vibe%20is%20not%20%E2%80%9Coh%20fuck%2C%20sell%E2%80%9D%20....%20its%20%E2%80%9Cfuck%20you%2C%20pay%20me%E2%80%9D.%20Enjoy%20your%20red%20crayons%20while%20they%20last%20apes%20%F0%9F%A6%8D%20%F0%9F%92%8E%20%F0%9F%9A%80%20WE%20HOLD%20%2F%20We%20Buy%20Dips%20%23notfinancialadvice%3C%2Fspan%3E%3C%2Fdiv%3E%3Cdiv%20style%3D%22overflow%3A%20hidden%3B%20display%3A%20flex%3B%20align-items%3A%20center%3B%20font-size%3A%2012px%3B%20height%3A%2028px%3B%20left%3A%20340px%3B%20padding%3A%204px%204px%203px%3B%20position%3A%20absolute%3B%20text-align%3A%20left%3B%20top%3A%20336px%3B%20width%3A%20120px%3B%20border-top%3A%201px%20solid%20rgb(233%2C%20233%2C%20233)%3B%20font-weight%3A%20600%3B%22%3E%3Cspan%20style%3D%22text-overflow%3A%20ellipsis%3B%20overflow%3A%20hidden%3B%20white-space%3A%20nowrap%3B%20max-width%3A%20calc((100%25%20-%2016px)%20-%200px)%3B%22%3E%3C%2Fspan%3E%3C%2Fdiv%3E%3Cdiv%20style%3D%22overflow%3A%20hidden%3B%20display%3A%20flex%3B%20align-items%3A%20center%3B%20font-size%3A%2012px%3B%20height%3A%2028px%3B%20left%3A%20460px%3B%20padding%3A%204px%204px%203px%3B%20position%3A%20absolute%3B%20text-align%3A%20left%3B%20top%3A%20336px%3B%20width%3A%2061px%3B%20border-top%3A%201px%20solid%20rgb(233%2C%20233%2C%20233)%3B%20font-weight%3A%20600%3B%22%3E%3Cspan%20style%3D%22text-overflow%3A%20ellipsis%3B%20overflow%3A%20hidden%3B%20white-space%3A%20nowrap%3B%20max-width%3A%20calc((100%25%20-%2016px)%20-%200px)%3B%22%3E%3C%2Fspan%3E%3C%2Fdiv%3E%3Cdiv%20style%3D%22overflow%3A%20hidden%3B%20display%3A%20flex%3B%20align-items%3A%20center%3B%20font-size%3A%2012px%3B%20height%3A%2028px%3B%20left%3A%20521px%3B%20padding%3A%204px%204px%203px%3B%20position%3A%20absolute%3B%20text-align%3A%20left%3B%20top%3A%20336px%3B%20width%3A%20115px%3B%20border-right%3A%202px%20solid%20rgb(233%2C%20233%2C%20233)%3B%20border-top%3A%201px%20solid%20rgb(233%2C%20233%2C%20233)%3B%22%3E%3Cspan%20style%3D%22text-overflow%3A%20ellipsis%3B%20overflow%3A%20hidden%3B%20white-space%3A%20nowrap%3B%20max-width%3A%20calc((100%25%20-%2016px)%20-%200px)%3B%22%3E%3C%2Fspan%3E%3C%2Fdiv%3E%3C%2Fdiv%3E%3C%2Fdiv%3E%3C%2Fdiv%3E%3Cdiv%20class%3D%22css-15v7fnj-Table%22%3E%3Cdiv%20class%3D%22css-qde0g5%22%3E%3Cdiv%20class%3D%22css-m59v0t%22%3E%3Cdiv%20class%3D%22css-1hol363-ResizableCell%22%3E%3Cdiv%20style%3D%22overflow%3A%20hidden%3B%20display%3A%20flex%3B%20align-items%3A%20center%3B%20font-size%3A%2012px%3B%20height%3A%2028px%3B%20left%3A%200px%3B%20padding%3A%204px%204px%203px%3B%20position%3A%20absolute%3B%20text-align%3A%20left%3B%20top%3A%200px%3B%20width%3A%20115px%3B%20font-weight%3A%20600%3B%22%3E%3Cspan%20style%3D%22text-overflow%3A%20ellipsis%3B%20overflow%3A%20hidden%3B%20white-space%3A%20nowrap%3B%20max-width%3A%20calc((100%25%20-%200px)%20-%200px)%3B%22%3EChars%3C%2Fspan%3E%3C%2Fdiv%3E%3Cdiv%20class%3D%22css-xxcrt1-ResizableCell%22%3E%3C%2Fdiv%3E%3C%2Fdiv%3E%3Cdiv%20class%3D%22css-fpuq48-ResizableCell%22%3E%3Cdiv%20style%3D%22overflow%3A%20hidden%3B%20display%3A%20flex%3B%20align-items%3A%20center%3B%20font-size%3A%2012px%3B%20height%3A%2028px%3B%20left%3A%200px%3B%20padding%3A%204px%204px%203px%3B%20position%3A%20absolute%3B%20text-align%3A%20left%3B%20top%3A%200px%3B%20width%3A%20115px%3B%20font-weight%3A%20600%3B%22%3E%3Cspan%20style%3D%22text-overflow%3A%20ellipsis%3B%20overflow%3A%20hidden%3B%20white-space%3A%20nowrap%3B%20max-width%3A%20calc((100%25%20-%200px)%20-%200px)%3B%22%3EComments%3C%2Fspan%3E%3C%2Fdiv%3E%3Cdiv%20class%3D%22css-xxcrt1-ResizableCell%22%3E%3C%2Fdiv%3E%3C%2Fdiv%3E%3Cdiv%20class%3D%22css-3geaec-ResizableCell%22%3E%3Cdiv%20style%3D%22overflow%3A%20hidden%3B%20display%3A%20flex%3B%20align-items%3A%20center%3B%20font-size%3A%2012px%3B%20height%3A%2028px%3B%20left%3A%200px%3B%20padding%3A%204px%204px%203px%3B%20position%3A%20absolute%3B%20text-align%3A%20left%3B%20top%3A%200px%3B%20width%3A%20115px%3B%20font-weight%3A%20600%3B%22%3E%3Cspan%20style%3D%22text-overflow%3A%20ellipsis%3B%20overflow%3A%20hidden%3B%20white-space%3A%20nowrap%3B%20max-width%3A%20calc((100%25%20-%200px)%20-%200px)%3B%22%3EScore%3C%2Fspan%3E%3C%2Fdiv%3E%3Cdiv%20class%3D%22css-xxcrt1-ResizableCell%22%3E%3C%2Fdiv%3E%3C%2Fdiv%3E%3Cdiv%20class%3D%22css-9kbkmr-ResizableCell%22%3E%3Cdiv%20style%3D%22overflow%3A%20hidden%3B%20display%3A%20flex%3B%20align-items%3A%20center%3B%20font-size%3A%2012px%3B%20height%3A%2028px%3B%20left%3A%200px%3B%20padding%3A%204px%204px%203px%3B%20position%3A%20absolute%3B%20text-align%3A%20left%3B%20top%3A%200px%3B%20width%3A%20115px%3B%20font-weight%3A%20600%3B%22%3E%3Cspan%20style%3D%22text-overflow%3A%20ellipsis%3B%20overflow%3A%20hidden%3B%20white-space%3A%20nowrap%3B%20max-width%3A%20calc((100%25%20-%200px)%20-%200px)%3B%22%3ETotal%20awards%3C%2Fspan%3E%3C%2Fdiv%3E%3Cdiv%20class%3D%22css-xxcrt1-ResizableCell%22%3E%3C%2Fdiv%3E%3C%2Fdiv%3E%3Cdiv%20class%3D%22css-76qu0m-ResizableCell%22%3E%3Cdiv%20style%3D%22overflow%3A%20hidden%3B%20display%3A%20flex%3B%20align-items%3A%20center%3B%20font-size%3A%2012px%3B%20height%3A%2028px%3B%20left%3A%200px%3B%20padding%3A%204px%204px%203px%3B%20position%3A%20absolute%3B%20text-align%3A%20left%3B%20top%3A%200px%3B%20width%3A%20115px%3B%20font-weight%3A%20600%3B%22%3E%3Cspan%20style%3D%22text-overflow%3A%20ellipsis%3B%20overflow%3A%20hidden%3B%20white-space%3A%20nowrap%3B%20max-width%3A%20calc((100%25%20-%200px)%20-%200px)%3B%22%3EUnique%20density%3C%2Fspan%3E%3C%2Fdiv%3E%3Cdiv%20class%3D%22css-xxcrt1-ResizableCell%22%3E%3C%2Fdiv%3E%3C%2Fdiv%3E%3C%2Fdiv%3E%3C%2Fdiv%3E%3Cdiv%20class%3D%22css-s6j5i5%22%3E%3Cdiv%20class%3D%22css-1vd3o64%22%3E%3Cdiv%20class%3D%22aui-table-cell%22%20style%3D%22font-size%3A%2012px%3B%20height%3A%2028px%3B%20left%3A%200px%3B%20padding%3A%204px%204px%203px%3B%20overflow%3A%20hidden%3B%20position%3A%20absolute%3B%20text-align%3A%20right%3B%20top%3A%200px%3B%20width%3A%20120px%3B%20border-right%3A%201px%20solid%20rgb(233%2C%20233%2C%20233)%3B%22%3E26%2C742%3C%2Fdiv%3E%3Cdiv%20class%3D%22aui-table-cell%22%20style%3D%22font-size%3A%2012px%3B%20height%3A%2028px%3B%20left%3A%20120px%3B%20padding%3A%204px%204px%203px%3B%20overflow%3A%20hidden%3B%20position%3A%20absolute%3B%20text-align%3A%20right%3B%20top%3A%200px%3B%20width%3A%20120px%3B%20border-right%3A%201px%20solid%20rgb(233%2C%20233%2C%20233)%3B%22%3E320%2C271%3C%2Fdiv%3E%3Cdiv%20class%3D%22aui-table-cell%22%20style%3D%22font-size%3A%2012px%3B%20height%3A%2028px%3B%20left%3A%20240px%3B%20padding%3A%204px%204px%203px%3B%20overflow%3A%20hidden%3B%20position%3A%20absolute%3B%20text-align%3A%20right%3B%20top%3A%200px%3B%20width%3A%20120px%3B%20border-right%3A%201px%20solid%20rgb(233%2C%20233%2C%20233)%3B%22%3E1%2C324%2C400%3C%2Fdiv%3E%3Cdiv%20class%3D%22aui-table-cell%22%20style%3D%22font-size%3A%2012px%3B%20height%3A%2028px%3B%20left%3A%20360px%3B%20padding%3A%204px%204px%203px%3B%20overflow%3A%20hidden%3B%20position%3A%20absolute%3B%20text-align%3A%20right%3B%20top%3A%200px%3B%20width%3A%20120px%3B%20border-right%3A%201px%20solid%20rgb(233%2C%20233%2C%20233)%3B%22%3E14%2C922%3C%2Fdiv%3E%3Cdiv%20class%3D%22aui-table-cell%22%20style%3D%22font-size%3A%2012px%3B%20height%3A%2028px%3B%20left%3A%20480px%3B%20padding%3A%204px%204px%203px%3B%20overflow%3A%20hidden%3B%20position%3A%20absolute%3B%20text-align%3A%20right%3B%20top%3A%200px%3B%20width%3A%20120px%3B%20border-right%3A%201px%20solid%20rgb(233%2C%20233%2C%20233)%3B%22%3E486.67%3C%2Fdiv%3E%3Cdiv%20class%3D%22aui-table-cell%22%20style%3D%22font-size%3A%2012px%3B%20height%3A%2028px%3B%20left%3A%200px%3B%20padding%3A%204px%204px%203px%3B%20overflow%3A%20hidden%3B%20position%3A%20absolute%3B%20text-align%3A%20right%3B%20top%3A%2028px%3B%20width%3A%20120px%3B%20border-right%3A%201px%20solid%20rgb(233%2C%20233%2C%20233)%3B%20border-top%3A%201px%20solid%20rgb(233%2C%20233%2C%20233)%3B%22%3E26%2C742%3C%2Fdiv%3E%3Cdiv%20class%3D%22aui-table-cell%22%20style%3D%22font-size%3A%2012px%3B%20height%3A%2028px%3B%20left%3A%20120px%3B%20padding%3A%204px%204px%203px%3B%20overflow%3A%20hidden%3B%20position%3A%20absolute%3B%20text-align%3A%20right%3B%20top%3A%2028px%3B%20width%3A%20120px%3B%20border-right%3A%201px%20solid%20rgb(233%2C%20233%2C%20233)%3B%20border-top%3A%201px%20solid%20rgb(233%2C%20233%2C%20233)%3B%22%3E320%2C271%3C%2Fdiv%3E%3Cdiv%20class%3D%22aui-table-cell%22%20style%3D%22font-size%3A%2012px%3B%20height%3A%2028px%3B%20left%3A%20240px%3B%20padding%3A%204px%204px%203px%3B%20overflow%3A%20hidden%3B%20position%3A%20absolute%3B%20text-align%3A%20right%3B%20top%3A%2028px%3B%20width%3A%20120px%3B%20border-right%3A%201px%20solid%20rgb(233%2C%20233%2C%20233)%3B%20border-top%3A%201px%20solid%20rgb(233%2C%20233%2C%20233)%3B%22%3E1%2C324%2C400%3C%2Fdiv%3E%3Cdiv%20class%3D%22aui-table-cell%22%20style%3D%22font-size%3A%2012px%3B%20height%3A%2028px%3B%20left%3A%20360px%3B%20padding%3A%204px%204px%203px%3B%20overflow%3A%20hidden%3B%20position%3A%20absolute%3B%20text-align%3A%20right%3B%20top%3A%2028px%3B%20width%3A%20120px%3B%20border-right%3A%201px%20solid%20rgb(233%2C%20233%2C%20233)%3B%20border-top%3A%201px%20solid%20rgb(233%2C%20233%2C%20233)%3B%22%3E14%2C922%3C%2Fdiv%3E%3Cdiv%20class%3D%22aui-table-cell%22%20style%3D%22font-size%3A%2012px%3B%20height%3A%2028px%3B%20left%3A%20480px%3B%20padding%3A%204px%204px%203px%3B%20overflow%3A%20hidden%3B%20position%3A%20absolute%3B%20text-align%3A%20right%3B%20top%3A%2028px%3B%20width%3A%20120px%3B%20border-right%3A%201px%20solid%20rgb(233%2C%20233%2C%20233)%3B%20border-top%3A%201px%20solid%20rgb(233%2C%20233%2C%20233)%3B%22%3E486.67%3C%2Fdiv%3E%3Cdiv%20class%3D%22aui-table-cell%22%20style%3D%22font-size%3A%2012px%3B%20height%3A%2028px%3B%20left%3A%200px%3B%20padding%3A%204px%204px%203px%3B%20overflow%3A%20hidden%3B%20position%3A%20absolute%3B%20text-align%3A%20right%3B%20top%3A%2056px%3B%20width%3A%20120px%3B%20border-right%3A%201px%20solid%20rgb(233%2C%20233%2C%20233)%3B%20border-top%3A%201px%20solid%20rgb(233%2C%20233%2C%20233)%3B%22%3E115%3C%2Fdiv%3E%3Cdiv%20class%3D%22aui-table-cell%22%20style%3D%22font-size%3A%2012px%3B%20height%3A%2028px%3B%20left%3A%20120px%3B%20padding%3A%204px%204px%203px%3B%20overflow%3A%20hidden%3B%20position%3A%20absolute%3B%20text-align%3A%20right%3B%20top%3A%2056px%3B%20width%3A%20120px%3B%20border-right%3A%201px%20solid%20rgb(233%2C%20233%2C%20233)%3B%20border-top%3A%201px%20solid%20rgb(233%2C%20233%2C%20233)%3B%22%3E660%3C%2Fdiv%3E%3Cdiv%20class%3D%22aui-table-cell%22%20style%3D%22font-size%3A%2012px%3B%20height%3A%2028px%3B%20left%3A%20240px%3B%20padding%3A%204px%204px%203px%3B%20overflow%3A%20hidden%3B%20position%3A%20absolute%3B%20text-align%3A%20right%3B%20top%3A%2056px%3B%20width%3A%20120px%3B%20border-right%3A%201px%20solid%20rgb(233%2C%20233%2C%20233)%3B%20border-top%3A%201px%20solid%20rgb(233%2C%20233%2C%20233)%3B%22%3E13%2C037%3C%2Fdiv%3E%3Cdiv%20class%3D%22aui-table-cell%22%20style%3D%22font-size%3A%2012px%3B%20height%3A%2028px%3B%20left%3A%20360px%3B%20padding%3A%204px%204px%203px%3B%20overflow%3A%20hidden%3B%20position%3A%20absolute%3B%20text-align%3A%20right%3B%20top%3A%2056px%3B%20width%3A%20120px%3B%20border-right%3A%201px%20solid%20rgb(233%2C%20233%2C%20233)%3B%20border-top%3A%201px%20solid%20rgb(233%2C%20233%2C%20233)%3B%22%3E32%3C%2Fdiv%3E%3Cdiv%20class%3D%22aui-table-cell%22%20style%3D%22font-size%3A%2012px%3B%20height%3A%2028px%3B%20left%3A%20480px%3B%20padding%3A%204px%204px%203px%3B%20overflow%3A%20hidden%3B%20position%3A%20absolute%3B%20text-align%3A%20right%3B%20top%3A%2056px%3B%20width%3A%20120px%3B%20border-right%3A%201px%20solid%20rgb(233%2C%20233%2C%20233)%3B%20border-top%3A%201px%20solid%20rgb(233%2C%20233%2C%20233)%3B%22%3E.87%3C%2Fdiv%3E%3Cdiv%20class%3D%22aui-table-cell%22%20style%3D%22font-size%3A%2012px%3B%20height%3A%2028px%3B%20left%3A%200px%3B%20padding%3A%204px%204px%203px%3B%20overflow%3A%20hidden%3B%20position%3A%20absolute%3B%20text-align%3A%20right%3B%20top%3A%2084px%3B%20width%3A%20120px%3B%20border-right%3A%201px%20solid%20rgb(233%2C%20233%2C%20233)%3B%20border-top%3A%201px%20solid%20rgb(233%2C%20233%2C%20233)%3B%22%3E115%3C%2Fdiv%3E%3Cdiv%20class%3D%22aui-table-cell%22%20style%3D%22font-size%3A%2012px%3B%20height%3A%2028px%3B%20left%3A%20120px%3B%20padding%3A%204px%204px%203px%3B%20overflow%3A%20hidden%3B%20position%3A%20absolute%3B%20text-align%3A%20right%3B%20top%3A%2084px%3B%20width%3A%20120px%3B%20border-right%3A%201px%20solid%20rgb(233%2C%20233%2C%20233)%3B%20border-top%3A%201px%20solid%20rgb(233%2C%20233%2C%20233)%3B%22%3E660%3C%2Fdiv%3E%3Cdiv%20class%3D%22aui-table-cell%22%20style%3D%22font-size%3A%2012px%3B%20height%3A%2028px%3B%20left%3A%20240px%3B%20padding%3A%204px%204px%203px%3B%20overflow%3A%20hidden%3B%20position%3A%20absolute%3B%20text-align%3A%20right%3B%20top%3A%2084px%3B%20width%3A%20120px%3B%20border-right%3A%201px%20solid%20rgb(233%2C%20233%2C%20233)%3B%20border-top%3A%201px%20solid%20rgb(233%2C%20233%2C%20233)%3B%22%3E13%2C037%3C%2Fdiv%3E%3Cdiv%20class%3D%22aui-table-cell%22%20style%3D%22font-size%3A%2012px%3B%20height%3A%2028px%3B%20left%3A%20360px%3B%20padding%3A%204px%204px%203px%3B%20overflow%3A%20hidden%3B%20position%3A%20absolute%3B%20text-align%3A%20right%3B%20top%3A%2084px%3B%20width%3A%20120px%3B%20border-right%3A%201px%20solid%20rgb(233%2C%20233%2C%20233)%3B%20border-top%3A%201px%20solid%20rgb(233%2C%20233%2C%20233)%3B%22%3E32%3C%2Fdiv%3E%3Cdiv%20class%3D%22aui-table-cell%22%20style%3D%22font-size%3A%2012px%3B%20height%3A%2028px%3B%20left%3A%20480px%3B%20padding%3A%204px%204px%203px%3B%20overflow%3A%20hidden%3B%20position%3A%20absolute%3B%20text-align%3A%20right%3B%20top%3A%2084px%3B%20width%3A%20120px%3B%20border-right%3A%201px%20solid%20rgb(233%2C%20233%2C%20233)%3B%20border-top%3A%201px%20solid%20rgb(233%2C%20233%2C%20233)%3B%22%3E.87%3C%2Fdiv%3E%3Cdiv%20class%3D%22aui-table-cell%22%20style%3D%22font-size%3A%2012px%3B%20height%3A%2028px%3B%20left%3A%200px%3B%20padding%3A%204px%204px%203px%3B%20overflow%3A%20hidden%3B%20position%3A%20absolute%3B%20text-align%3A%20right%3B%20top%3A%20112px%3B%20width%3A%20120px%3B%20border-right%3A%201px%20solid%20rgb(233%2C%20233%2C%20233)%3B%20border-top%3A%201px%20solid%20rgb(233%2C%20233%2C%20233)%3B%22%3E115%3C%2Fdiv%3E%3Cdiv%20class%3D%22aui-table-cell%22%20style%3D%22font-size%3A%2012px%3B%20height%3A%2028px%3B%20left%3A%20120px%3B%20padding%3A%204px%204px%203px%3B%20overflow%3A%20hidden%3B%20position%3A%20absolute%3B%20text-align%3A%20right%3B%20top%3A%20112px%3B%20width%3A%20120px%3B%20border-right%3A%201px%20solid%20rgb(233%2C%20233%2C%20233)%3B%20border-top%3A%201px%20solid%20rgb(233%2C%20233%2C%20233)%3B%22%3E660%3C%2Fdiv%3E%3Cdiv%20class%3D%22aui-table-cell%22%20style%3D%22font-size%3A%2012px%3B%20height%3A%2028px%3B%20left%3A%20240px%3B%20padding%3A%204px%204px%203px%3B%20overflow%3A%20hidden%3B%20position%3A%20absolute%3B%20text-align%3A%20right%3B%20top%3A%20112px%3B%20width%3A%20120px%3B%20border-right%3A%201px%20solid%20rgb(233%2C%20233%2C%20233)%3B%20border-top%3A%201px%20solid%20rgb(233%2C%20233%2C%20233)%3B%22%3E13%2C037%3C%2Fdiv%3E%3Cdiv%20class%3D%22aui-table-cell%22%20style%3D%22font-size%3A%2012px%3B%20height%3A%2028px%3B%20left%3A%20360px%3B%20padding%3A%204px%204px%203px%3B%20overflow%3A%20hidden%3B%20position%3A%20absolute%3B%20text-align%3A%20right%3B%20top%3A%20112px%3B%20width%3A%20120px%3B%20border-right%3A%201px%20solid%20rgb(233%2C%20233%2C%20233)%3B%20border-top%3A%201px%20solid%20rgb(233%2C%20233%2C%20233)%3B%22%3E32%3C%2Fdiv%3E%3Cdiv%20class%3D%22aui-table-cell%22%20style%3D%22font-size%3A%2012px%3B%20height%3A%2028px%3B%20left%3A%20480px%3B%20padding%3A%204px%204px%203px%3B%20overflow%3A%20hidden%3B%20position%3A%20absolute%3B%20text-align%3A%20right%3B%20top%3A%20112px%3B%20width%3A%20120px%3B%20border-right%3A%201px%20solid%20rgb(233%2C%20233%2C%20233)%3B%20border-top%3A%201px%20solid%20rgb(233%2C%20233%2C%20233)%3B%22%3E.87%3C%2Fdiv%3E%3Cdiv%20class%3D%22aui-table-cell%22%20style%3D%22font-size%3A%2012px%3B%20height%3A%2028px%3B%20left%3A%200px%3B%20padding%3A%204px%204px%203px%3B%20overflow%3A%20hidden%3B%20position%3A%20absolute%3B%20text-align%3A%20right%3B%20top%3A%20140px%3B%20width%3A%20120px%3B%20background-color%3A%20rgb(250%2C%20250%2C%20250)%3B%20border-right%3A%201px%20solid%20rgb(233%2C%20233%2C%20233)%3B%22%3E115%3C%2Fdiv%3E%3Cdiv%20class%3D%22aui-table-cell%22%20style%3D%22font-size%3A%2012px%3B%20height%3A%2028px%3B%20left%3A%20120px%3B%20padding%3A%204px%204px%203px%3B%20overflow%3A%20hidden%3B%20position%3A%20absolute%3B%20text-align%3A%20right%3B%20top%3A%20140px%3B%20width%3A%20120px%3B%20background-color%3A%20rgb(250%2C%20250%2C%20250)%3B%20border-right%3A%201px%20solid%20rgb(233%2C%20233%2C%20233)%3B%22%3E660%3C%2Fdiv%3E%3Cdiv%20class%3D%22aui-table-cell%22%20style%3D%22font-size%3A%2012px%3B%20height%3A%2028px%3B%20left%3A%20240px%3B%20padding%3A%204px%204px%203px%3B%20overflow%3A%20hidden%3B%20position%3A%20absolute%3B%20text-align%3A%20right%3B%20top%3A%20140px%3B%20width%3A%20120px%3B%20background-color%3A%20rgb(250%2C%20250%2C%20250)%3B%20border-right%3A%201px%20solid%20rgb(233%2C%20233%2C%20233)%3B%22%3E13%2C037%3C%2Fdiv%3E%3Cdiv%20class%3D%22aui-table-cell%22%20style%3D%22font-size%3A%2012px%3B%20height%3A%2028px%3B%20left%3A%20360px%3B%20padding%3A%204px%204px%203px%3B%20overflow%3A%20hidden%3B%20position%3A%20absolute%3B%20text-align%3A%20right%3B%20top%3A%20140px%3B%20width%3A%20120px%3B%20background-color%3A%20rgb(250%2C%20250%2C%20250)%3B%20border-right%3A%201px%20solid%20rgb(233%2C%20233%2C%20233)%3B%22%3E32%3C%2Fdiv%3E%3Cdiv%20class%3D%22aui-table-cell%22%20style%3D%22font-size%3A%2012px%3B%20height%3A%2028px%3B%20left%3A%20480px%3B%20padding%3A%204px%204px%203px%3B%20overflow%3A%20hidden%3B%20position%3A%20absolute%3B%20text-align%3A%20right%3B%20top%3A%20140px%3B%20width%3A%20120px%3B%20background-color%3A%20rgb(250%2C%20250%2C%20250)%3B%20border-right%3A%201px%20solid%20rgb(233%2C%20233%2C%20233)%3B%22%3E.87%3C%2Fdiv%3E%3Cdiv%20class%3D%22aui-table-cell%22%20style%3D%22font-size%3A%2012px%3B%20height%3A%2028px%3B%20left%3A%200px%3B%20padding%3A%204px%204px%203px%3B%20overflow%3A%20hidden%3B%20position%3A%20absolute%3B%20text-align%3A%20right%3B%20top%3A%20168px%3B%20width%3A%20120px%3B%20border-right%3A%201px%20solid%20rgb(233%2C%20233%2C%20233)%3B%20border-top%3A%201px%20solid%20rgb(233%2C%20233%2C%20233)%3B%22%3E58%3C%2Fdiv%3E%3Cdiv%20class%3D%22aui-table-cell%22%20style%3D%22font-size%3A%2012px%3B%20height%3A%2028px%3B%20left%3A%20120px%3B%20padding%3A%204px%204px%203px%3B%20overflow%3A%20hidden%3B%20position%3A%20absolute%3B%20text-align%3A%20right%3B%20top%3A%20168px%3B%20width%3A%20120px%3B%20border-right%3A%201px%20solid%20rgb(233%2C%20233%2C%20233)%3B%20border-top%3A%201px%20solid%20rgb(233%2C%20233%2C%20233)%3B%22%3E88%3C%2Fdiv%3E%3Cdiv%20class%3D%22aui-table-cell%22%20style%3D%22font-size%3A%2012px%3B%20height%3A%2028px%3B%20left%3A%20240px%3B%20padding%3A%204px%204px%203px%3B%20overflow%3A%20hidden%3B%20position%3A%20absolute%3B%20text-align%3A%20right%3B%20top%3A%20168px%3B%20width%3A%20120px%3B%20border-right%3A%201px%20solid%20rgb(233%2C%20233%2C%20233)%3B%20border-top%3A%201px%20solid%20rgb(233%2C%20233%2C%20233)%3B%22%3E709%3C%2Fdiv%3E%3Cdiv%20class%3D%22aui-table-cell%22%20style%3D%22font-size%3A%2012px%3B%20height%3A%2028px%3B%20left%3A%20360px%3B%20padding%3A%204px%204px%203px%3B%20overflow%3A%20hidden%3B%20position%3A%20absolute%3B%20text-align%3A%20right%3B%20top%3A%20168px%3B%20width%3A%20120px%3B%20border-right%3A%201px%20solid%20rgb(233%2C%20233%2C%20233)%3B%20border-top%3A%201px%20solid%20rgb(233%2C%20233%2C%20233)%3B%22%3E0%3C%2Fdiv%3E%3Cdiv%20class%3D%22aui-table-cell%22%20style%3D%22font-size%3A%2012px%3B%20height%3A%2028px%3B%20left%3A%20480px%3B%20padding%3A%204px%204px%203px%3B%20overflow%3A%20hidden%3B%20position%3A%20absolute%3B%20text-align%3A%20right%3B%20top%3A%20168px%3B%20width%3A%20120px%3B%20border-right%3A%201px%20solid%20rgb(233%2C%20233%2C%20233)%3B%20border-top%3A%201px%20solid%20rgb(233%2C%20233%2C%20233)%3B%22%3E1.00%3C%2Fdiv%3E%3Cdiv%20class%3D%22aui-table-cell%22%20style%3D%22font-size%3A%2012px%3B%20height%3A%2028px%3B%20left%3A%200px%3B%20padding%3A%204px%204px%203px%3B%20overflow%3A%20hidden%3B%20position%3A%20absolute%3B%20text-align%3A%20right%3B%20top%3A%20196px%3B%20width%3A%20120px%3B%20border-right%3A%201px%20solid%20rgb(233%2C%20233%2C%20233)%3B%20border-top%3A%201px%20solid%20rgb(233%2C%20233%2C%20233)%3B%22%3E81%3C%2Fdiv%3E%3Cdiv%20class%3D%22aui-table-cell%22%20style%3D%22font-size%3A%2012px%3B%20height%3A%2028px%3B%20left%3A%20120px%3B%20padding%3A%204px%204px%203px%3B%20overflow%3A%20hidden%3B%20position%3A%20absolute%3B%20text-align%3A%20right%3B%20top%3A%20196px%3B%20width%3A%20120px%3B%20border-right%3A%201px%20solid%20rgb(233%2C%20233%2C%20233)%3B%20border-top%3A%201px%20solid%20rgb(233%2C%20233%2C%20233)%3B%22%3E97%3C%2Fdiv%3E%3Cdiv%20class%3D%22aui-table-cell%22%20style%3D%22font-size%3A%2012px%3B%20height%3A%2028px%3B%20left%3A%20240px%3B%20padding%3A%204px%204px%203px%3B%20overflow%3A%20hidden%3B%20position%3A%20absolute%3B%20text-align%3A%20right%3B%20top%3A%20196px%3B%20width%3A%20120px%3B%20border-right%3A%201px%20solid%20rgb(233%2C%20233%2C%20233)%3B%20border-top%3A%201px%20solid%20rgb(233%2C%20233%2C%20233)%3B%22%3E1%2C913%3C%2Fdiv%3E%3Cdiv%20class%3D%22aui-table-cell%22%20style%3D%22font-size%3A%2012px%3B%20height%3A%2028px%3B%20left%3A%20360px%3B%20padding%3A%204px%204px%203px%3B%20overflow%3A%20hidden%3B%20position%3A%20absolute%3B%20text-align%3A%20right%3B%20top%3A%20196px%3B%20width%3A%20120px%3B%20border-right%3A%201px%20solid%20rgb(233%2C%20233%2C%20233)%3B%20border-top%3A%201px%20solid%20rgb(233%2C%20233%2C%20233)%3B%22%3E9%3C%2Fdiv%3E%3Cdiv%20class%3D%22aui-table-cell%22%20style%3D%22font-size%3A%2012px%3B%20height%3A%2028px%3B%20left%3A%20480px%3B%20padding%3A%204px%204px%203px%3B%20overflow%3A%20hidden%3B%20position%3A%20absolute%3B%20text-align%3A%20right%3B%20top%3A%20196px%3B%20width%3A%20120px%3B%20border-right%3A%201px%20solid%20rgb(233%2C%20233%2C%20233)%3B%20border-top%3A%201px%20solid%20rgb(233%2C%20233%2C%20233)%3B%22%3E1.00%3C%2Fdiv%3E%3Cdiv%20class%3D%22aui-table-cell%22%20style%3D%22font-size%3A%2012px%3B%20height%3A%2028px%3B%20left%3A%200px%3B%20padding%3A%204px%204px%203px%3B%20overflow%3A%20hidden%3B%20position%3A%20absolute%3B%20text-align%3A%20right%3B%20top%3A%20224px%3B%20width%3A%20120px%3B%20border-right%3A%201px%20solid%20rgb(233%2C%20233%2C%20233)%3B%20border-top%3A%201px%20solid%20rgb(233%2C%20233%2C%20233)%3B%22%3E27%3C%2Fdiv%3E%3Cdiv%20class%3D%22aui-table-cell%22%20style%3D%22font-size%3A%2012px%3B%20height%3A%2028px%3B%20left%3A%20120px%3B%20padding%3A%204px%204px%203px%3B%20overflow%3A%20hidden%3B%20position%3A%20absolute%3B%20text-align%3A%20right%3B%20top%3A%20224px%3B%20width%3A%20120px%3B%20border-right%3A%201px%20solid%20rgb(233%2C%20233%2C%20233)%3B%20border-top%3A%201px%20solid%20rgb(233%2C%20233%2C%20233)%3B%22%3E58%3C%2Fdiv%3E%3Cdiv%20class%3D%22aui-table-cell%22%20style%3D%22font-size%3A%2012px%3B%20height%3A%2028px%3B%20left%3A%20240px%3B%20padding%3A%204px%204px%203px%3B%20overflow%3A%20hidden%3B%20position%3A%20absolute%3B%20text-align%3A%20right%3B%20top%3A%20224px%3B%20width%3A%20120px%3B%20border-right%3A%201px%20solid%20rgb(233%2C%20233%2C%20233)%3B%20border-top%3A%201px%20solid%20rgb(233%2C%20233%2C%20233)%3B%22%3E40%3C%2Fdiv%3E%3Cdiv%20class%3D%22aui-table-cell%22%20style%3D%22font-size%3A%2012px%3B%20height%3A%2028px%3B%20left%3A%20360px%3B%20padding%3A%204px%204px%203px%3B%20overflow%3A%20hidden%3B%20position%3A%20absolute%3B%20text-align%3A%20right%3B%20top%3A%20224px%3B%20width%3A%20120px%3B%20border-right%3A%201px%20solid%20rgb(233%2C%20233%2C%20233)%3B%20border-top%3A%201px%20solid%20rgb(233%2C%20233%2C%20233)%3B%22%3E2%3C%2Fdiv%3E%3Cdiv%20class%3D%22aui-table-cell%22%20style%3D%22font-size%3A%2012px%3B%20height%3A%2028px%3B%20left%3A%20480px%3B%20padding%3A%204px%204px%203px%3B%20overflow%3A%20hidden%3B%20position%3A%20absolute%3B%20text-align%3A%20right%3B%20top%3A%20224px%3B%20width%3A%20120px%3B%20border-right%3A%201px%20solid%20rgb(233%2C%20233%2C%20233)%3B%20border-top%3A%201px%20solid%20rgb(233%2C%20233%2C%20233)%3B%22%3E1.00%3C%2Fdiv%3E%3Cdiv%20class%3D%22aui-table-cell%22%20style%3D%22font-size%3A%2012px%3B%20height%3A%2028px%3B%20left%3A%200px%3B%20padding%3A%204px%204px%203px%3B%20overflow%3A%20hidden%3B%20position%3A%20absolute%3B%20text-align%3A%20right%3B%20top%3A%20252px%3B%20width%3A%20120px%3B%20border-right%3A%201px%20solid%20rgb(233%2C%20233%2C%20233)%3B%20border-top%3A%201px%20solid%20rgb(233%2C%20233%2C%20233)%3B%22%3E51%3C%2Fdiv%3E%3Cdiv%20class%3D%22aui-table-cell%22%20style%3D%22font-size%3A%2012px%3B%20height%3A%2028px%3B%20left%3A%20120px%3B%20padding%3A%204px%204px%203px%3B%20overflow%3A%20hidden%3B%20position%3A%20absolute%3B%20text-align%3A%20right%3B%20top%3A%20252px%3B%20width%3A%20120px%3B%20border-right%3A%201px%20solid%20rgb(233%2C%20233%2C%20233)%3B%20border-top%3A%201px%20solid%20rgb(233%2C%20233%2C%20233)%3B%22%3E42%3C%2Fdiv%3E%3Cdiv%20class%3D%22aui-table-cell%22%20style%3D%22font-size%3A%2012px%3B%20height%3A%2028px%3B%20left%3A%20240px%3B%20padding%3A%204px%204px%203px%3B%20overflow%3A%20hidden%3B%20position%3A%20absolute%3B%20text-align%3A%20right%3B%20top%3A%20252px%3B%20width%3A%20120px%3B%20border-right%3A%201px%20solid%20rgb(233%2C%20233%2C%20233)%3B%20border-top%3A%201px%20solid%20rgb(233%2C%20233%2C%20233)%3B%22%3E187%3C%2Fdiv%3E%3Cdiv%20class%3D%22aui-table-cell%22%20style%3D%22font-size%3A%2012px%3B%20height%3A%2028px%3B%20left%3A%20360px%3B%20padding%3A%204px%204px%203px%3B%20overflow%3A%20hidden%3B%20position%3A%20absolute%3B%20text-align%3A%20right%3B%20top%3A%20252px%3B%20width%3A%20120px%3B%20border-right%3A%201px%20solid%20rgb(233%2C%20233%2C%20233)%3B%20border-top%3A%201px%20solid%20rgb(233%2C%20233%2C%20233)%3B%22%3E0%3C%2Fdiv%3E%3Cdiv%20class%3D%22aui-table-cell%22%20style%3D%22font-size%3A%2012px%3B%20height%3A%2028px%3B%20left%3A%20480px%3B%20padding%3A%204px%204px%203px%3B%20overflow%3A%20hidden%3B%20position%3A%20absolute%3B%20text-align%3A%20right%3B%20top%3A%20252px%3B%20width%3A%20120px%3B%20border-right%3A%201px%20solid%20rgb(233%2C%20233%2C%20233)%3B%20border-top%3A%201px%20solid%20rgb(233%2C%20233%2C%20233)%3B%22%3E1.00%3C%2Fdiv%3E%3Cdiv%20class%3D%22aui-table-cell%22%20style%3D%22font-size%3A%2012px%3B%20height%3A%2028px%3B%20left%3A%200px%3B%20padding%3A%204px%204px%203px%3B%20overflow%3A%20hidden%3B%20position%3A%20absolute%3B%20text-align%3A%20right%3B%20top%3A%20280px%3B%20width%3A%20120px%3B%20border-right%3A%201px%20solid%20rgb(233%2C%20233%2C%20233)%3B%20border-top%3A%201px%20solid%20rgb(233%2C%20233%2C%20233)%3B%22%3E51%3C%2Fdiv%3E%3Cdiv%20class%3D%22aui-table-cell%22%20style%3D%22font-size%3A%2012px%3B%20height%3A%2028px%3B%20left%3A%20120px%3B%20padding%3A%204px%204px%203px%3B%20overflow%3A%20hidden%3B%20position%3A%20absolute%3B%20text-align%3A%20right%3B%20top%3A%20280px%3B%20width%3A%20120px%3B%20border-right%3A%201px%20solid%20rgb(233%2C%20233%2C%20233)%3B%20border-top%3A%201px%20solid%20rgb(233%2C%20233%2C%20233)%3B%22%3E37%3C%2Fdiv%3E%3Cdiv%20class%3D%22aui-table-cell%22%20style%3D%22font-size%3A%2012px%3B%20height%3A%2028px%3B%20left%3A%20240px%3B%20padding%3A%204px%204px%203px%3B%20overflow%3A%20hidden%3B%20position%3A%20absolute%3B%20text-align%3A%20right%3B%20top%3A%20280px%3B%20width%3A%20120px%3B%20border-right%3A%201px%20solid%20rgb(233%2C%20233%2C%20233)%3B%20border-top%3A%201px%20solid%20rgb(233%2C%20233%2C%20233)%3B%22%3E312%3C%2Fdiv%3E%3Cdiv%20class%3D%22aui-table-cell%22%20style%3D%22font-size%3A%2012px%3B%20height%3A%2028px%3B%20left%3A%20360px%3B%20padding%3A%204px%204px%203px%3B%20overflow%3A%20hidden%3B%20position%3A%20absolute%3B%20text-align%3A%20right%3B%20top%3A%20280px%3B%20width%3A%20120px%3B%20border-right%3A%201px%20solid%20rgb(233%2C%20233%2C%20233)%3B%20border-top%3A%201px%20solid%20rgb(233%2C%20233%2C%20233)%3B%22%3E0%3C%2Fdiv%3E%3Cdiv%20class%3D%22aui-table-cell%22%20style%3D%22font-size%3A%2012px%3B%20height%3A%2028px%3B%20left%3A%20480px%3B%20padding%3A%204px%204px%203px%3B%20overflow%3A%20hidden%3B%20position%3A%20absolute%3B%20text-align%3A%20right%3B%20top%3A%20280px%3B%20width%3A%20120px%3B%20border-right%3A%201px%20solid%20rgb(233%2C%20233%2C%20233)%3B%20border-top%3A%201px%20solid%20rgb(233%2C%20233%2C%20233)%3B%22%3E1.00%3C%2Fdiv%3E%3Cdiv%20class%3D%22aui-table-cell%22%20style%3D%22font-size%3A%2012px%3B%20height%3A%2028px%3B%20left%3A%200px%3B%20padding%3A%204px%204px%203px%3B%20overflow%3A%20hidden%3B%20position%3A%20absolute%3B%20text-align%3A%20right%3B%20top%3A%20308px%3B%20width%3A%20120px%3B%20border-right%3A%201px%20solid%20rgb(233%2C%20233%2C%20233)%3B%20border-top%3A%201px%20solid%20rgb(233%2C%20233%2C%20233)%3B%22%3E148%3C%2Fdiv%3E%3Cdiv%20class%3D%22aui-table-cell%22%20style%3D%22font-size%3A%2012px%3B%20height%3A%2028px%3B%20left%3A%20120px%3B%20padding%3A%204px%204px%203px%3B%20overflow%3A%20hidden%3B%20position%3A%20absolute%3B%20text-align%3A%20right%3B%20top%3A%20308px%3B%20width%3A%20120px%3B%20border-right%3A%201px%20solid%20rgb(233%2C%20233%2C%20233)%3B%20border-top%3A%201px%20solid%20rgb(233%2C%20233%2C%20233)%3B%22%3E195%3C%2Fdiv%3E%3Cdiv%20class%3D%22aui-table-cell%22%20style%3D%22font-size%3A%2012px%3B%20height%3A%2028px%3B%20left%3A%20240px%3B%20padding%3A%204px%204px%203px%3B%20overflow%3A%20hidden%3B%20position%3A%20absolute%3B%20text-align%3A%20right%3B%20top%3A%20308px%3B%20width%3A%20120px%3B%20border-right%3A%201px%20solid%20rgb(233%2C%20233%2C%20233)%3B%20border-top%3A%201px%20solid%20rgb(233%2C%20233%2C%20233)%3B%22%3E1%2C170%3C%2Fdiv%3E%3Cdiv%20class%3D%22aui-table-cell%22%20style%3D%22font-size%3A%2012px%3B%20height%3A%2028px%3B%20left%3A%20360px%3B%20padding%3A%204px%204px%203px%3B%20overflow%3A%20hidden%3B%20position%3A%20absolute%3B%20text-align%3A%20right%3B%20top%3A%20308px%3B%20width%3A%20120px%3B%20border-right%3A%201px%20solid%20rgb(233%2C%20233%2C%20233)%3B%20border-top%3A%201px%20solid%20rgb(233%2C%20233%2C%20233)%3B%22%3E15%3C%2Fdiv%3E%3Cdiv%20class%3D%22aui-table-cell%22%20style%3D%22font-size%3A%2012px%3B%20height%3A%2028px%3B%20left%3A%20480px%3B%20padding%3A%204px%204px%203px%3B%20overflow%3A%20hidden%3B%20position%3A%20absolute%3B%20text-align%3A%20right%3B%20top%3A%20308px%3B%20width%3A%20120px%3B%20border-right%3A%201px%20solid%20rgb(233%2C%20233%2C%20233)%3B%20border-top%3A%201px%20solid%20rgb(233%2C%20233%2C%20233)%3B%22%3E.89%3C%2Fdiv%3E%3Cdiv%20class%3D%22aui-table-cell%22%20style%3D%22font-size%3A%2012px%3B%20height%3A%2028px%3B%20left%3A%200px%3B%20padding%3A%204px%204px%203px%3B%20overflow%3A%20hidden%3B%20position%3A%20absolute%3B%20text-align%3A%20right%3B%20top%3A%20336px%3B%20width%3A%20120px%3B%20border-right%3A%201px%20solid%20rgb(233%2C%20233%2C%20233)%3B%20border-top%3A%201px%20solid%20rgb(233%2C%20233%2C%20233)%3B%22%3E202%3C%2Fdiv%3E%3Cdiv%20class%3D%22aui-table-cell%22%20style%3D%22font-size%3A%2012px%3B%20height%3A%2028px%3B%20left%3A%20120px%3B%20padding%3A%204px%204px%203px%3B%20overflow%3A%20hidden%3B%20position%3A%20absolute%3B%20text-align%3A%20right%3B%20top%3A%20336px%3B%20width%3A%20120px%3B%20border-right%3A%201px%20solid%20rgb(233%2C%20233%2C%20233)%3B%20border-top%3A%201px%20solid%20rgb(233%2C%20233%2C%20233)%3B%22%3E93%3C%2Fdiv%3E%3Cdiv%20class%3D%22aui-table-cell%22%20style%3D%22font-size%3A%2012px%3B%20height%3A%2028px%3B%20left%3A%20240px%3B%20padding%3A%204px%204px%203px%3B%20overflow%3A%20hidden%3B%20position%3A%20absolute%3B%20text-align%3A%20right%3B%20top%3A%20336px%3B%20width%3A%20120px%3B%20border-right%3A%201px%20solid%20rgb(233%2C%20233%2C%20233)%3B%20border-top%3A%201px%20solid%20rgb(233%2C%20233%2C%20233)%3B%22%3E2%2C044%3C%2Fdiv%3E%3Cdiv%20class%3D%22aui-table-cell%22%20style%3D%22font-size%3A%2012px%3B%20height%3A%2028px%3B%20left%3A%20360px%3B%20padding%3A%204px%204px%203px%3B%20overflow%3A%20hidden%3B%20position%3A%20absolute%3B%20text-align%3A%20right%3B%20top%3A%20336px%3B%20width%3A%20120px%3B%20border-right%3A%201px%20solid%20rgb(233%2C%20233%2C%20233)%3B%20border-top%3A%201px%20solid%20rgb(233%2C%20233%2C%20233)%3B%22%3E5%3C%2Fdiv%3E%3Cdiv%20class%3D%22aui-table-cell%22%20style%3D%22font-size%3A%2012px%3B%20height%3A%2028px%3B%20left%3A%20480px%3B%20padding%3A%204px%204px%203px%3B%20overflow%3A%20hidden%3B%20position%3A%20absolute%3B%20text-align%3A%20right%3B%20top%3A%20336px%3B%20width%3A%20120px%3B%20border-right%3A%201px%20solid%20rgb(233%2C%20233%2C%20233)%3B%20border-top%3A%201px%20solid%20rgb(233%2C%20233%2C%20233)%3B%22%3E.94%3C%2Fdiv%3E%3Cdiv%20class%3D%22css-5pgd07-SelectionOverlay%22%3E%3C%2Fdiv%3E%3C%2Fdiv%3E%3C%2Fdiv%3E%3C%2Fdiv%3E%3C%2Fdiv%3E%3C%2Fdiv%3E%3C%2Fdiv%3E%3C%2Fdiv%3E%3C%2Fdiv%3E%3C%2Fdiv%3E%3C%2Fdiv%3E%3C%2FforeignObject%3E%3C%2Fsvg%3E\">"
      ],
      "text/plain": [
       "Open the notebook in JupyterLab with the atoti extension installed and enabled to start editing this widget."
      ]
     },
     "metadata": {},
     "output_type": "display_data"
    }
   ],
   "source": [
    "session.visualize()"
   ]
  },
  {
   "cell_type": "markdown",
   "metadata": {},
   "source": [
    "I can easily adjust the height of the table or the width of the columns. With the atoti Editor, I can easily:\n",
    "- add or remove the levels and measures\n",
    "- filter the data\n",
    "- sort the measures\n",
    "- format the columns\n",
    "\n",
    "Refer to the GIF below to see how these could be done.\n",
    "\n",
    "##### Creating table\n",
    "<img src=\"https://data.atoti.io/notebooks/reddit/creating_table.gif\" alt=\"atoti table\" width=\"1080\"/>\n",
    "\n",
    "##### Table adjustment\n",
    "<img src=\"https://data.atoti.io/notebooks/reddit/table_adjustments.gif\" alt=\"atoti table adjustment\" width=\"1080\"/>\n",
    "\n",
    "##### Cell formatting and misc\n",
    "<img src=\"https://data.atoti.io/notebooks/reddit/table_formatting.gif\" alt=\"atoti cell formatting\" width=\"1080\"/>\n",
    "\n",
    "\n",
    "I can toggle the table from a tabular table to pivot table. Pivot table allows me to drill down on any hierarchies. The measures are computed on the fly as the level changes. "
   ]
  },
  {
   "cell_type": "code",
   "execution_count": 28,
   "metadata": {
    "atoti": {
     "height": 288,
     "widget": {
      "mapping": {
       "columns": [
        "ALL_MEASURES"
       ],
       "measures": [
        "[Measures].[Total awards]",
        "[Measures].[Comments]",
        "[Measures].[contributors.COUNT]"
       ],
       "rows": [
        "[Reddit_Posts].[subreddit].[subreddit]",
        "[Reddit_Posts].[created date].[created date]",
        "[Entities].[category].[category]"
       ]
      },
      "query": {
       "mdx": "SELECT NON EMPTY {[Measures].[Total awards], [Measures].[Comments], [Measures].[contributors.COUNT]} ON COLUMNS, NON EMPTY Crossjoin(Hierarchize(Descendants({[Reddit_Posts].[subreddit].[AllMember]}, 1, SELF_AND_BEFORE)), Hierarchize(Descendants({[Reddit_Posts].[created date].[AllMember]}, 1, SELF_AND_BEFORE)), Hierarchize(Descendants({[Entities].[category].[AllMember]}, 1, SELF_AND_BEFORE))) ON ROWS FROM [Reddit]",
       "updateMode": "once"
      },
      "serverKey": "default",
      "widgetKey": "pivot-table"
     }
    }
   },
   "outputs": [
    {
     "data": {
      "application/vnd.atoti.widget.v0+json": {
       "name": null,
       "session": "Unnamed"
      },
      "text/html": [
       "<img src=\"data:image/svg+xml;charset=utf8,%3C%3Fxml%20version%3D%221.0%22%20standalone%3D%22no%22%3F%3E%3Csvg%20xmlns%3D%22http%3A%2F%2Fwww.w3.org%2F2000%2Fsvg%22%20height%3D%22276%22%20width%3D%22930%22%3E%3CforeignObject%20width%3D%22100%25%22%20height%3D%22100%25%22%20x%3D%220%22%20y%3D%220%22%3E%3Cstyle%20xmlns%3D%22http%3A%2F%2Fwww.w3.org%2F1999%2Fxhtml%22%20type%3D%22text%2Fcss%22%3E*%2C%20%3A%3Abefore%2C%20%3A%3Aafter%20%7Bbox-sizing%3A%20unset%7D%0A.ant-root%20%5Bclass%5E%3D%22ant-%22%5D%2C%20.ant-root%20%5Bclass*%3D%22ant-%22%5D%2C%20.ant-root%20%5Bclass%5E%3D%22ant-%22%5D%20*%2C%20.ant-root%20%5Bclass*%3D%22ant-%22%5D%20*%2C%20.ant-root%20%5Bclass%5E%3D%22ant-%22%5D%20%3A%3Abefore%2C%20.ant-root%20%5Bclass*%3D%22ant-%22%5D%20%3A%3Abefore%2C%20.ant-root%20%5Bclass%5E%3D%22ant-%22%5D%20%3A%3Aafter%2C%20.ant-root%20%5Bclass*%3D%22ant-%22%5D%20%3A%3Aafter%20%7Bbox-sizing%3A%20border-box%7D%0A.ant-root%20html%2C%20.ant-root%20%7Bwidth%3A%20100%25%3B%20height%3A%20100%25%7D%0A.ant-root%20*%2C%20.ant-root%20%3A%3Abefore%2C%20.ant-root%20%3A%3Aafter%20%7Bbox-sizing%3A%20border-box%7D%0A.ant-root%20%7Bmargin-top%3A%200px%3B%20margin-right%3A%200px%3B%20margin-bottom%3A%200px%3B%20margin-left%3A%200px%3B%20color%3A%20rgb(89%2C%2089%2C%2089)%3B%20font-size%3A%2012px%3B%20font-family%3A%20-apple-system%2C%20BlinkMacSystemFont%2C%20%22Segoe%20UI%22%2C%20Roboto%2C%20%22Helvetica%20Neue%22%2C%20Arial%2C%20%22Noto%20Sans%22%2C%20sans-serif%2C%20%22Apple%20Color%20Emoji%22%2C%20%22Segoe%20UI%20Emoji%22%2C%20%22Segoe%20UI%20Symbol%22%2C%20%22Noto%20Color%20Emoji%22%3B%20font-variant-ligatures%3A%20normal%3B%20font-variant-numeric%3A%20tabular-nums%3B%20font-variant-east-asian%3A%20normal%3B%20font-variant-caps%3A%20normal%3B%20line-height%3A%201.66667%3B%20background-color%3A%20rgb(255%2C%20255%2C%20255)%3B%20--antd-wave-shadow-color%3A%20undefined%3B%20--scroll-bar%3A%20undefined%7D%0A.ant-root%20.ant-spin%20%7Bbox-sizing%3A%20border-box%3B%20margin-top%3A%200px%3B%20margin-right%3A%200px%3B%20margin-bottom%3A%200px%3B%20margin-left%3A%200px%3B%20padding-top%3A%200px%3B%20padding-right%3A%200px%3B%20padding-bottom%3A%200px%3B%20padding-left%3A%200px%3B%20font-size%3A%2012px%3B%20font-variant-ligatures%3A%20normal%3B%20font-variant-numeric%3A%20tabular-nums%3B%20font-variant-east-asian%3A%20normal%3B%20font-variant-caps%3A%20normal%3B%20line-height%3A%201.66667%3B%20list-style-position%3A%20initial%3B%20list-style-image%3A%20initial%3B%20list-style-type%3A%20none%3B%20position%3A%20absolute%3B%20display%3A%20none%3B%20color%3A%20rgb(0%2C%20174%2C%20239)%3B%20text-align%3A%20center%3B%20vertical-align%3A%20middle%3B%20opacity%3A%200%3B%20transition-duration%3A%200.3s%3B%20transition-timing-function%3A%20cubic-bezier(0.78%2C%200.14%2C%200.15%2C%200.86)%3B%20transition-delay%3A%200s%3B%20transition-property%3A%20transform%7D%0A.ant-root%20.ant-spin-spinning%20%7Bposition%3A%20static%3B%20display%3A%20inline-block%3B%20opacity%3A%201%7D%0A.ant-root%20.ant-spin-dot%20%7Bposition%3A%20relative%3B%20display%3A%20inline-block%3B%20font-size%3A%2020px%3B%20width%3A%201em%3B%20height%3A%201em%7D%0A.ant-root%20.ant-spin-dot-item%20%7Bposition%3A%20absolute%3B%20display%3A%20block%3B%20width%3A%209px%3B%20height%3A%209px%3B%20background-color%3A%20rgb(0%2C%20174%2C%20239)%3B%20border-top-left-radius%3A%20100%25%3B%20border-top-right-radius%3A%20100%25%3B%20border-bottom-right-radius%3A%20100%25%3B%20border-bottom-left-radius%3A%20100%25%3B%20transform%3A%20scale(0.75)%3B%20transform-origin%3A%2050%25%2050%25%3B%20opacity%3A%200.3%3B%20animation-duration%3A%201s%3B%20animation-timing-function%3A%20linear%3B%20animation-delay%3A%200s%3B%20animation-iteration-count%3A%20infinite%3B%20animation-direction%3A%20alternate%3B%20animation-fill-mode%3A%20none%3B%20animation-play-state%3A%20running%3B%20animation-name%3A%20antSpinMove%7D%0A.ant-root%20.ant-spin-dot-item%3Anth-child(1)%20%7Btop%3A%200px%3B%20left%3A%200px%7D%0A.ant-root%20.ant-spin-dot-item%3Anth-child(2)%20%7Btop%3A%200px%3B%20right%3A%200px%3B%20animation-delay%3A%200.4s%7D%0A.ant-root%20.ant-spin-dot-item%3Anth-child(3)%20%7Bright%3A%200px%3B%20bottom%3A%200px%3B%20animation-delay%3A%200.8s%7D%0A.ant-root%20.ant-spin-dot-item%3Anth-child(4)%20%7Bbottom%3A%200px%3B%20left%3A%200px%3B%20animation-delay%3A%201.2s%7D%0A.ant-root%20.ant-spin-dot-spin%20%7Btransform%3A%20rotate(45deg)%3B%20animation-duration%3A%201.2s%3B%20animation-timing-function%3A%20linear%3B%20animation-delay%3A%200s%3B%20animation-iteration-count%3A%20infinite%3B%20animation-direction%3A%20normal%3B%20animation-fill-mode%3A%20none%3B%20animation-play-state%3A%20running%3B%20animation-name%3A%20antRotate%7D%0A.ant-root%20.ant-spin-lg%20.ant-spin-dot%20%7Bfont-size%3A%2032px%7D%0A.ant-root%20.ant-spin-lg%20.ant-spin-dot%20i%20%7Bwidth%3A%2014px%3B%20height%3A%2014px%7D%0A.css-12ebr42-AWidget%20%7Bheight%3A%20100%25%7D%0A.css-ck2xzt-Spinner%20%7B-webkit-box-align%3A%20center%3B%20align-items%3A%20center%3B%20background-image%3A%20initial%3B%20background-position-x%3A%20initial%3B%20background-position-y%3A%20initial%3B%20background-size%3A%20initial%3B%20background-repeat-x%3A%20initial%3B%20background-repeat-y%3A%20initial%3B%20background-attachment%3A%20initial%3B%20background-origin%3A%20initial%3B%20background-clip%3A%20initial%3B%20background-color%3A%20transparent%3B%20display%3A%20flex%3B%20height%3A%20100%25%3B%20-webkit-box-pack%3A%20center%3B%20justify-content%3A%20center%3B%20position%3A%20absolute%3B%20transition-duration%3A%20300ms%3B%20transition-timing-function%3A%20ease%3B%20transition-delay%3A%200s%3B%20transition-property%3A%20opacity%3B%20width%3A%20100%25%3B%20opacity%3A%200%3B%20pointer-events%3A%20none%3B%20z-index%3A%202%7D%0A.css-1e3kjgr-Spinner%20%7Bheight%3A%20100%25%3B%20position%3A%20relative%7D%0A.css-1hwl8p1-Table%20%7Bpadding-bottom%3A%202px%3B%20padding-right%3A%202px%3B%20height%3A%20100%25%7D%0A.css-1v2r0fb-Table%20%7Bheight%3A%20100%25%3B%20outline-color%3A%20initial%3B%20outline-style%3A%20none%3B%20outline-width%3A%20initial%3B%20position%3A%20relative%7D%0A.css-1rxpjm0-ColumnResizeHint%20%7Bdisplay%3A%20none%3B%20position%3A%20absolute%3B%20z-index%3A%201%7D%0A.css-2vqdc6-ColumnResizeHint%20%7Bheight%3A%2028px%3B%20background-color%3A%20rgb(0%2C%20174%2C%20239)%3B%20width%3A%205px%7D%0A.css-1hol363-ResizableCell%20%7Bdisplay%3A%20flex%3B%20flex-direction%3A%20column%3B%20position%3A%20absolute%3B%20top%3A%200px%3B%20left%3A%200px%3B%20height%3A%2028px%3B%20width%3A%20120px%7D%0A.css-xxcrt1-ResizableCell%20%7Bbackground-image%3A%20initial%3B%20background-position-x%3A%20initial%3B%20background-position-y%3A%20initial%3B%20background-size%3A%20initial%3B%20background-repeat-x%3A%20initial%3B%20background-repeat-y%3A%20initial%3B%20background-attachment%3A%20initial%3B%20background-origin%3A%20initial%3B%20background-clip%3A%20initial%3B%20background-color%3A%20transparent%3B%20cursor%3A%20col-resize%3B%20height%3A%20100%25%3B%20position%3A%20absolute%3B%20right%3A%200px%3B%20width%3A%205px%3B%20z-index%3A%201%7D%0A.css-fpuq48-ResizableCell%20%7Bdisplay%3A%20flex%3B%20flex-direction%3A%20column%3B%20position%3A%20absolute%3B%20top%3A%200px%3B%20left%3A%20120px%3B%20height%3A%2028px%3B%20width%3A%20120px%7D%0A.css-3geaec-ResizableCell%20%7Bdisplay%3A%20flex%3B%20flex-direction%3A%20column%3B%20position%3A%20absolute%3B%20top%3A%200px%3B%20left%3A%20240px%3B%20height%3A%2028px%3B%20width%3A%20120px%7D%0A.css-1jtaj6k%20%7Bcursor%3A%20cell%3B%20height%3A%2028px%3B%20overflow-x%3A%20hidden%3B%20overflow-y%3A%20hidden%3B%20position%3A%20relative%3B%20width%3A%20360px%7D%0A.css-17w6qeo-Table%20%7Bborder-collapse%3A%20collapse%3B%20height%3A%2028px%3B%20width%3A%20360px%7D%0A.css-1mo0147%20%7Bheight%3A%2028px%3B%20width%3A%20360px%7D%0A.css-myz0hl%20%7Bcursor%3A%20cell%3B%20height%3A%2028px%3B%20overflow-x%3A%20hidden%3B%20overflow-y%3A%20hidden%3B%20position%3A%20relative%3B%20width%3A%20360px%3B%20border-right-width%3A%202px%3B%20border-right-style%3A%20solid%3B%20border-right-color%3A%20rgb(233%2C%20233%2C%20233)%7D%0A.css-1et2wjz-Table%20%7Bwidth%3A%20568px%3B%20border-collapse%3A%20collapse%7D%0A.css-4y4wms%20%7Bheight%3A%2028px%3B%20width%3A%20550px%3B%20overflow-x%3A%20auto%3B%20overflow-y%3A%20hidden%7D%0A.css-mxf2la-SelectionOverlay%20%7Bbackground-image%3A%20initial%3B%20background-position-x%3A%20initial%3B%20background-position-y%3A%20initial%3B%20background-size%3A%20initial%3B%20background-repeat-x%3A%20initial%3B%20background-repeat-y%3A%20initial%3B%20background-attachment%3A%20initial%3B%20background-origin%3A%20initial%3B%20background-clip%3A%20initial%3B%20background-color%3A%20rgba(0%2C%20187%2C%20255%2C%200.1)%3B%20position%3A%20absolute%3B%20top%3A%2028px%3B%20left%3A%200px%3B%20height%3A%2028px%3B%20width%3A%20120px%3B%20pointer-events%3A%20none%7D%0A.css-1spgwu4-ColumnResizeHint%20%7Bdisplay%3A%20none%3B%20float%3A%20right%3B%20height%3A%20246px%3B%20background-color%3A%20rgb(0%2C%20174%2C%20239)%3B%20opacity%3A%200.4%3B%20width%3A%202px%7D%0A.css-pbammi-Table%20%7Bdisplay%3A%20flex%3B%20height%3A%20274px%7D%0A.css-1jcxuh3%20%7Bheight%3A%20246px%3B%20width%3A%20360px%3B%20overflow-x%3A%20hidden%3B%20overflow-y%3A%20auto%7D%0A.css-fwex0i%20%7Bcursor%3A%20cell%3B%20height%3A%20532px%3B%20overflow-x%3A%20hidden%3B%20overflow-y%3A%20hidden%3B%20position%3A%20relative%3B%20width%3A%20360px%3B%20border-top-width%3A%202px%3B%20border-top-style%3A%20solid%3B%20border-top-color%3A%20rgb(233%2C%20233%2C%20233)%3B%20border-right-width%3A%202px%3B%20border-right-style%3A%20solid%3B%20border-right-color%3A%20rgb(233%2C%20233%2C%20233)%7D%0A.css-56vdy3%20%7Bcursor%3A%20cell%3B%20height%3A%20532px%3B%20overflow-x%3A%20hidden%3B%20overflow-y%3A%20hidden%3B%20position%3A%20relative%3B%20width%3A%20360px%3B%20border-top-width%3A%202px%3B%20border-top-style%3A%20solid%3B%20border-top-color%3A%20rgb(233%2C%20233%2C%20233)%7D%0A.css-rfrxio%20%7Bheight%3A%20246px%3B%20width%3A%20568px%3B%20overflow-x%3A%20auto%3B%20overflow-y%3A%20auto%7D%0A*%20%7B-ms-overflow-style%3A%20none%3B%20scrollbar-width%3A%20none%7D%0A*%3A%3A-webkit-scrollbar%20%7Bdisplay%3A%20none%7D%3C%2Fstyle%3E%3Cdiv%20xmlns%3D%22http%3A%2F%2Fwww.w3.org%2F1999%2Fxhtml%22%20style%3D%22height%3A%20276px%3B%20width%3A%20930px%3B%22%3E%3Cdiv%20class%3D%22ant-root%20css-0%22%3E%3Cdiv%20class%3D%22ant-dropdown-trigger%20css-12ebr42-AWidget%22%3E%3Cdiv%20class%3D%22css-1e3kjgr-Spinner%22%3E%3Cdiv%20class%3D%22css-ck2xzt-Spinner%22%3E%3Cdiv%20class%3D%22ant-spin%20ant-spin-lg%20ant-spin-spinning%22%3E%3Cspan%20class%3D%22ant-spin-dot%20ant-spin-dot-spin%22%3E%3Ci%20class%3D%22ant-spin-dot-item%22%3E%3C%2Fi%3E%3Ci%20class%3D%22ant-spin-dot-item%22%3E%3C%2Fi%3E%3Ci%20class%3D%22ant-spin-dot-item%22%3E%3C%2Fi%3E%3Ci%20class%3D%22ant-spin-dot-item%22%3E%3C%2Fi%3E%3C%2Fspan%3E%3C%2Fdiv%3E%3C%2Fdiv%3E%3Cdiv%20class%3D%22css-1hwl8p1-Table%22%3E%3Cdiv%20tabindex%3D%220%22%20class%3D%22css-1v2r0fb-Table%22%3E%3Cdiv%20class%3D%22css-1rxpjm0-ColumnResizeHint%22%3E%3Cdiv%20class%3D%22css-2vqdc6-ColumnResizeHint%22%3E%3C%2Fdiv%3E%3Cdiv%20class%3D%22css-1spgwu4-ColumnResizeHint%22%3E%3C%2Fdiv%3E%3C%2Fdiv%3E%3Cdiv%20class%3D%22css-pbammi-Table%22%3E%3Cdiv%20class%3D%22css-17w6qeo-Table%22%3E%3Cdiv%20class%3D%22css-1mo0147%22%3E%3Cdiv%20class%3D%22css-myz0hl%22%3E%3Cdiv%20class%3D%22css-1hol363-ResizableCell%22%3E%3Cdiv%20class%3D%22aui-table-cell%22%20style%3D%22font-size%3A%2012px%3B%20height%3A%2028px%3B%20left%3A%200px%3B%20padding%3A%204px%204px%203px%3B%20overflow%3A%20hidden%3B%20position%3A%20absolute%3B%20text-align%3A%20left%3B%20top%3A%200px%3B%20width%3A%20115px%3B%20font-weight%3A%20600%3B%20display%3A%20flex%3B%20align-items%3A%20center%3B%22%3E%3Cspan%3Esubreddit%3C%2Fspan%3E%3C%2Fdiv%3E%3Cdiv%20class%3D%22css-xxcrt1-ResizableCell%22%3E%3C%2Fdiv%3E%3C%2Fdiv%3E%3Cdiv%20class%3D%22css-fpuq48-ResizableCell%22%3E%3Cdiv%20class%3D%22aui-table-cell%22%20style%3D%22font-size%3A%2012px%3B%20height%3A%2028px%3B%20left%3A%200px%3B%20padding%3A%204px%204px%203px%3B%20overflow%3A%20hidden%3B%20position%3A%20absolute%3B%20text-align%3A%20left%3B%20top%3A%200px%3B%20width%3A%20115px%3B%20font-weight%3A%20600%3B%20display%3A%20flex%3B%20align-items%3A%20center%3B%22%3E%3Cspan%3Ecreated%20date%3C%2Fspan%3E%3C%2Fdiv%3E%3Cdiv%20class%3D%22css-xxcrt1-ResizableCell%22%3E%3C%2Fdiv%3E%3C%2Fdiv%3E%3Cdiv%20class%3D%22css-3geaec-ResizableCell%22%3E%3Cdiv%20class%3D%22aui-table-cell%22%20style%3D%22font-size%3A%2012px%3B%20height%3A%2028px%3B%20left%3A%200px%3B%20padding%3A%204px%204px%203px%3B%20overflow%3A%20hidden%3B%20position%3A%20absolute%3B%20text-align%3A%20left%3B%20top%3A%200px%3B%20width%3A%20115px%3B%20font-weight%3A%20600%3B%20display%3A%20flex%3B%20align-items%3A%20center%3B%22%3E%3Cspan%3Ecategory%3C%2Fspan%3E%3C%2Fdiv%3E%3Cdiv%20class%3D%22css-xxcrt1-ResizableCell%22%3E%3C%2Fdiv%3E%3C%2Fdiv%3E%3C%2Fdiv%3E%3C%2Fdiv%3E%3Cdiv%20class%3D%22css-1jcxuh3%22%3E%3Cdiv%20class%3D%22css-fwex0i%22%3E%3Cdiv%20style%3D%22overflow%3A%20hidden%3B%20display%3A%20flex%3B%20align-items%3A%20center%3B%20font-size%3A%2012px%3B%20height%3A%2028px%3B%20left%3A%200px%3B%20padding%3A%204px%204px%203px%3B%20position%3A%20absolute%3B%20text-align%3A%20left%3B%20top%3A%200px%3B%20width%3A%20120px%3B%20font-weight%3A%20600%3B%22%3E%3Cspan%20style%3D%22text-overflow%3A%20ellipsis%3B%20overflow%3A%20hidden%3B%20white-space%3A%20nowrap%3B%20max-width%3A%20calc((100%25%20-%200px)%20-%200px)%3B%22%3ETotal%3C%2Fspan%3E%3C%2Fdiv%3E%3Cdiv%20style%3D%22overflow%3A%20hidden%3B%20display%3A%20flex%3B%20align-items%3A%20center%3B%20font-size%3A%2012px%3B%20height%3A%2028px%3B%20left%3A%20120px%3B%20padding%3A%204px%204px%203px%3B%20position%3A%20absolute%3B%20text-align%3A%20left%3B%20top%3A%200px%3B%20width%3A%20120px%3B%20font-weight%3A%20600%3B%22%3E%3Cspan%20style%3D%22text-overflow%3A%20ellipsis%3B%20overflow%3A%20hidden%3B%20white-space%3A%20nowrap%3B%20max-width%3A%20calc((100%25%20-%200px)%20-%200px)%3B%22%3E%3C%2Fspan%3E%3C%2Fdiv%3E%3Cdiv%20style%3D%22overflow%3A%20hidden%3B%20display%3A%20flex%3B%20align-items%3A%20center%3B%20font-size%3A%2012px%3B%20height%3A%2028px%3B%20left%3A%20240px%3B%20padding%3A%204px%204px%203px%3B%20position%3A%20absolute%3B%20text-align%3A%20left%3B%20top%3A%200px%3B%20width%3A%20120px%3B%20border-right%3A%202px%20solid%20rgb(233%2C%20233%2C%20233)%3B%22%3E%3Cspan%20style%3D%22text-overflow%3A%20ellipsis%3B%20overflow%3A%20hidden%3B%20white-space%3A%20nowrap%3B%20max-width%3A%20calc((100%25%20-%200px)%20-%200px)%3B%22%3E%3C%2Fspan%3E%3C%2Fdiv%3E%3Cdiv%20style%3D%22overflow%3A%20hidden%3B%20display%3A%20flex%3B%20align-items%3A%20center%3B%20font-size%3A%2012px%3B%20height%3A%2028px%3B%20left%3A%200px%3B%20padding%3A%204px%204px%203px%3B%20position%3A%20absolute%3B%20text-align%3A%20left%3B%20top%3A%2028px%3B%20width%3A%20120px%3B%20border-top%3A%201px%20solid%20rgb(233%2C%20233%2C%20233)%3B%20font-weight%3A%20600%3B%22%3E%3Cspan%20style%3D%22text-overflow%3A%20ellipsis%3B%20overflow%3A%20hidden%3B%20white-space%3A%20nowrap%3B%20max-width%3A%20calc((100%25%20-%200px)%20-%200px)%3B%22%3Ewallstreetbets%3C%2Fspan%3E%3C%2Fdiv%3E%3Cdiv%20style%3D%22overflow%3A%20hidden%3B%20display%3A%20flex%3B%20align-items%3A%20center%3B%20font-size%3A%2012px%3B%20height%3A%2028px%3B%20left%3A%20120px%3B%20padding%3A%204px%204px%203px%3B%20position%3A%20absolute%3B%20text-align%3A%20left%3B%20top%3A%2028px%3B%20width%3A%20120px%3B%20border-top%3A%201px%20solid%20rgb(233%2C%20233%2C%20233)%3B%20font-weight%3A%20600%3B%22%3E%3Cspan%20style%3D%22text-overflow%3A%20ellipsis%3B%20overflow%3A%20hidden%3B%20white-space%3A%20nowrap%3B%20max-width%3A%20calc((100%25%20-%200px)%20-%200px)%3B%22%3E%3C%2Fspan%3E%3C%2Fdiv%3E%3Cdiv%20style%3D%22overflow%3A%20hidden%3B%20display%3A%20flex%3B%20align-items%3A%20center%3B%20font-size%3A%2012px%3B%20height%3A%2028px%3B%20left%3A%20240px%3B%20padding%3A%204px%204px%203px%3B%20position%3A%20absolute%3B%20text-align%3A%20left%3B%20top%3A%2028px%3B%20width%3A%20120px%3B%20border-right%3A%202px%20solid%20rgb(233%2C%20233%2C%20233)%3B%20border-top%3A%201px%20solid%20rgb(233%2C%20233%2C%20233)%3B%22%3E%3Cspan%20style%3D%22text-overflow%3A%20ellipsis%3B%20overflow%3A%20hidden%3B%20white-space%3A%20nowrap%3B%20max-width%3A%20calc((100%25%20-%200px)%20-%200px)%3B%22%3E%3C%2Fspan%3E%3C%2Fdiv%3E%3Cdiv%20style%3D%22overflow%3A%20hidden%3B%20display%3A%20none%3B%20align-items%3A%20center%3B%20font-size%3A%2012px%3B%20height%3A%2028px%3B%20left%3A%200px%3B%20padding%3A%204px%204px%203px%3B%20position%3A%20absolute%3B%20text-align%3A%20left%3B%20top%3A%2056px%3B%20width%3A%20120px%3B%20border-top%3A%201px%20solid%20rgb(233%2C%20233%2C%20233)%3B%20font-weight%3A%20600%3B%22%3E%3Cspan%20style%3D%22text-overflow%3A%20ellipsis%3B%20overflow%3A%20hidden%3B%20white-space%3A%20nowrap%3B%20max-width%3A%20calc((100%25%20-%200px)%20-%200px)%3B%22%3Ewallstreetbets%3C%2Fspan%3E%3C%2Fdiv%3E%3Cdiv%20style%3D%22overflow%3A%20hidden%3B%20display%3A%20flex%3B%20align-items%3A%20center%3B%20font-size%3A%2012px%3B%20height%3A%2028px%3B%20left%3A%20120px%3B%20padding%3A%204px%204px%203px%3B%20position%3A%20absolute%3B%20text-align%3A%20left%3B%20top%3A%2056px%3B%20width%3A%20120px%3B%20border-top%3A%201px%20solid%20rgb(233%2C%20233%2C%20233)%3B%20font-weight%3A%20600%3B%22%3E%3Cspan%20style%3D%22text-overflow%3A%20ellipsis%3B%20overflow%3A%20hidden%3B%20white-space%3A%20nowrap%3B%20max-width%3A%20calc((100%25%20-%200px)%20-%200px)%3B%22%3E2021-03-24%3C%2Fspan%3E%3C%2Fdiv%3E%3Cdiv%20style%3D%22overflow%3A%20hidden%3B%20display%3A%20flex%3B%20align-items%3A%20center%3B%20font-size%3A%2012px%3B%20height%3A%2028px%3B%20left%3A%20240px%3B%20padding%3A%204px%204px%203px%3B%20position%3A%20absolute%3B%20text-align%3A%20left%3B%20top%3A%2056px%3B%20width%3A%20120px%3B%20border-right%3A%202px%20solid%20rgb(233%2C%20233%2C%20233)%3B%20border-top%3A%201px%20solid%20rgb(233%2C%20233%2C%20233)%3B%22%3E%3Cspan%20style%3D%22text-overflow%3A%20ellipsis%3B%20overflow%3A%20hidden%3B%20white-space%3A%20nowrap%3B%20max-width%3A%20calc((100%25%20-%200px)%20-%200px)%3B%22%3E%3C%2Fspan%3E%3C%2Fdiv%3E%3Cdiv%20style%3D%22overflow%3A%20hidden%3B%20display%3A%20none%3B%20align-items%3A%20center%3B%20font-size%3A%2012px%3B%20height%3A%2028px%3B%20left%3A%200px%3B%20padding%3A%204px%204px%203px%3B%20position%3A%20absolute%3B%20text-align%3A%20left%3B%20top%3A%2084px%3B%20width%3A%20120px%3B%20font-weight%3A%20600%3B%22%3E%3Cspan%20style%3D%22text-overflow%3A%20ellipsis%3B%20overflow%3A%20hidden%3B%20white-space%3A%20nowrap%3B%20max-width%3A%20calc((100%25%20-%200px)%20-%200px)%3B%22%3Ewallstreetbets%3C%2Fspan%3E%3C%2Fdiv%3E%3Cdiv%20style%3D%22overflow%3A%20hidden%3B%20display%3A%20none%3B%20align-items%3A%20center%3B%20font-size%3A%2012px%3B%20height%3A%2028px%3B%20left%3A%20120px%3B%20padding%3A%204px%204px%203px%3B%20position%3A%20absolute%3B%20text-align%3A%20left%3B%20top%3A%2084px%3B%20width%3A%20120px%3B%20font-weight%3A%20600%3B%22%3E%3Cspan%20style%3D%22text-overflow%3A%20ellipsis%3B%20overflow%3A%20hidden%3B%20white-space%3A%20nowrap%3B%20max-width%3A%20calc((100%25%20-%200px)%20-%200px)%3B%22%3E2021-03-24%3C%2Fspan%3E%3C%2Fdiv%3E%3Cdiv%20style%3D%22overflow%3A%20hidden%3B%20display%3A%20flex%3B%20align-items%3A%20center%3B%20font-size%3A%2012px%3B%20height%3A%2028px%3B%20left%3A%20240px%3B%20padding%3A%204px%204px%203px%3B%20position%3A%20absolute%3B%20text-align%3A%20left%3B%20top%3A%2084px%3B%20width%3A%20120px%3B%20background-color%3A%20rgb(250%2C%20250%2C%20250)%3B%20border-right%3A%202px%20solid%20rgb(233%2C%20233%2C%20233)%3B%22%3E%3Cspan%20style%3D%22text-overflow%3A%20ellipsis%3B%20overflow%3A%20hidden%3B%20white-space%3A%20nowrap%3B%20max-width%3A%20calc((100%25%20-%200px)%20-%200px)%3B%22%3EGeographical%20Location%3C%2Fspan%3E%3C%2Fdiv%3E%3Cdiv%20style%3D%22overflow%3A%20hidden%3B%20display%3A%20none%3B%20align-items%3A%20center%3B%20font-size%3A%2012px%3B%20height%3A%2028px%3B%20left%3A%200px%3B%20padding%3A%204px%204px%203px%3B%20position%3A%20absolute%3B%20text-align%3A%20left%3B%20top%3A%20112px%3B%20width%3A%20120px%3B%20font-weight%3A%20600%3B%22%3E%3Cspan%20style%3D%22text-overflow%3A%20ellipsis%3B%20overflow%3A%20hidden%3B%20white-space%3A%20nowrap%3B%20max-width%3A%20calc((100%25%20-%200px)%20-%200px)%3B%22%3Ewallstreetbets%3C%2Fspan%3E%3C%2Fdiv%3E%3Cdiv%20style%3D%22overflow%3A%20hidden%3B%20display%3A%20none%3B%20align-items%3A%20center%3B%20font-size%3A%2012px%3B%20height%3A%2028px%3B%20left%3A%20120px%3B%20padding%3A%204px%204px%203px%3B%20position%3A%20absolute%3B%20text-align%3A%20left%3B%20top%3A%20112px%3B%20width%3A%20120px%3B%20font-weight%3A%20600%3B%22%3E%3Cspan%20style%3D%22text-overflow%3A%20ellipsis%3B%20overflow%3A%20hidden%3B%20white-space%3A%20nowrap%3B%20max-width%3A%20calc((100%25%20-%200px)%20-%200px)%3B%22%3E2021-03-24%3C%2Fspan%3E%3C%2Fdiv%3E%3Cdiv%20style%3D%22overflow%3A%20hidden%3B%20display%3A%20flex%3B%20align-items%3A%20center%3B%20font-size%3A%2012px%3B%20height%3A%2028px%3B%20left%3A%20240px%3B%20padding%3A%204px%204px%203px%3B%20position%3A%20absolute%3B%20text-align%3A%20left%3B%20top%3A%20112px%3B%20width%3A%20120px%3B%20border-right%3A%202px%20solid%20rgb(233%2C%20233%2C%20233)%3B%22%3E%3Cspan%20style%3D%22text-overflow%3A%20ellipsis%3B%20overflow%3A%20hidden%3B%20white-space%3A%20nowrap%3B%20max-width%3A%20calc((100%25%20-%200px)%20-%200px)%3B%22%3EN%2FA%3C%2Fspan%3E%3C%2Fdiv%3E%3Cdiv%20style%3D%22overflow%3A%20hidden%3B%20display%3A%20none%3B%20align-items%3A%20center%3B%20font-size%3A%2012px%3B%20height%3A%2028px%3B%20left%3A%200px%3B%20padding%3A%204px%204px%203px%3B%20position%3A%20absolute%3B%20text-align%3A%20left%3B%20top%3A%20140px%3B%20width%3A%20120px%3B%20font-weight%3A%20600%3B%22%3E%3Cspan%20style%3D%22text-overflow%3A%20ellipsis%3B%20overflow%3A%20hidden%3B%20white-space%3A%20nowrap%3B%20max-width%3A%20calc((100%25%20-%200px)%20-%200px)%3B%22%3Ewallstreetbets%3C%2Fspan%3E%3C%2Fdiv%3E%3Cdiv%20style%3D%22overflow%3A%20hidden%3B%20display%3A%20none%3B%20align-items%3A%20center%3B%20font-size%3A%2012px%3B%20height%3A%2028px%3B%20left%3A%20120px%3B%20padding%3A%204px%204px%203px%3B%20position%3A%20absolute%3B%20text-align%3A%20left%3B%20top%3A%20140px%3B%20width%3A%20120px%3B%20font-weight%3A%20600%3B%22%3E%3Cspan%20style%3D%22text-overflow%3A%20ellipsis%3B%20overflow%3A%20hidden%3B%20white-space%3A%20nowrap%3B%20max-width%3A%20calc((100%25%20-%200px)%20-%200px)%3B%22%3E2021-03-24%3C%2Fspan%3E%3C%2Fdiv%3E%3Cdiv%20style%3D%22overflow%3A%20hidden%3B%20display%3A%20flex%3B%20align-items%3A%20center%3B%20font-size%3A%2012px%3B%20height%3A%2028px%3B%20left%3A%20240px%3B%20padding%3A%204px%204px%203px%3B%20position%3A%20absolute%3B%20text-align%3A%20left%3B%20top%3A%20140px%3B%20width%3A%20120px%3B%20background-color%3A%20rgb(250%2C%20250%2C%20250)%3B%20border-right%3A%202px%20solid%20rgb(233%2C%20233%2C%20233)%3B%22%3E%3Cspan%20style%3D%22text-overflow%3A%20ellipsis%3B%20overflow%3A%20hidden%3B%20white-space%3A%20nowrap%3B%20max-width%3A%20calc((100%25%20-%200px)%20-%200px)%3B%22%3EOrganization%3C%2Fspan%3E%3C%2Fdiv%3E%3Cdiv%20style%3D%22overflow%3A%20hidden%3B%20display%3A%20none%3B%20align-items%3A%20center%3B%20font-size%3A%2012px%3B%20height%3A%2028px%3B%20left%3A%200px%3B%20padding%3A%204px%204px%203px%3B%20position%3A%20absolute%3B%20text-align%3A%20left%3B%20top%3A%20168px%3B%20width%3A%20120px%3B%20font-weight%3A%20600%3B%22%3E%3Cspan%20style%3D%22text-overflow%3A%20ellipsis%3B%20overflow%3A%20hidden%3B%20white-space%3A%20nowrap%3B%20max-width%3A%20calc((100%25%20-%200px)%20-%200px)%3B%22%3Ewallstreetbets%3C%2Fspan%3E%3C%2Fdiv%3E%3Cdiv%20style%3D%22overflow%3A%20hidden%3B%20display%3A%20none%3B%20align-items%3A%20center%3B%20font-size%3A%2012px%3B%20height%3A%2028px%3B%20left%3A%20120px%3B%20padding%3A%204px%204px%203px%3B%20position%3A%20absolute%3B%20text-align%3A%20left%3B%20top%3A%20168px%3B%20width%3A%20120px%3B%20font-weight%3A%20600%3B%22%3E%3Cspan%20style%3D%22text-overflow%3A%20ellipsis%3B%20overflow%3A%20hidden%3B%20white-space%3A%20nowrap%3B%20max-width%3A%20calc((100%25%20-%200px)%20-%200px)%3B%22%3E2021-03-24%3C%2Fspan%3E%3C%2Fdiv%3E%3Cdiv%20style%3D%22overflow%3A%20hidden%3B%20display%3A%20flex%3B%20align-items%3A%20center%3B%20font-size%3A%2012px%3B%20height%3A%2028px%3B%20left%3A%20240px%3B%20padding%3A%204px%204px%203px%3B%20position%3A%20absolute%3B%20text-align%3A%20left%3B%20top%3A%20168px%3B%20width%3A%20120px%3B%20border-right%3A%202px%20solid%20rgb(233%2C%20233%2C%20233)%3B%22%3E%3Cspan%20style%3D%22text-overflow%3A%20ellipsis%3B%20overflow%3A%20hidden%3B%20white-space%3A%20nowrap%3B%20max-width%3A%20calc((100%25%20-%200px)%20-%200px)%3B%22%3EPerson%3C%2Fspan%3E%3C%2Fdiv%3E%3Cdiv%20style%3D%22overflow%3A%20hidden%3B%20display%3A%20none%3B%20align-items%3A%20center%3B%20font-size%3A%2012px%3B%20height%3A%2028px%3B%20left%3A%200px%3B%20padding%3A%204px%204px%203px%3B%20position%3A%20absolute%3B%20text-align%3A%20left%3B%20top%3A%20196px%3B%20width%3A%20120px%3B%20font-weight%3A%20600%3B%22%3E%3Cspan%20style%3D%22text-overflow%3A%20ellipsis%3B%20overflow%3A%20hidden%3B%20white-space%3A%20nowrap%3B%20max-width%3A%20calc((100%25%20-%200px)%20-%200px)%3B%22%3Ewallstreetbets%3C%2Fspan%3E%3C%2Fdiv%3E%3Cdiv%20style%3D%22overflow%3A%20hidden%3B%20display%3A%20none%3B%20align-items%3A%20center%3B%20font-size%3A%2012px%3B%20height%3A%2028px%3B%20left%3A%20120px%3B%20padding%3A%204px%204px%203px%3B%20position%3A%20absolute%3B%20text-align%3A%20left%3B%20top%3A%20196px%3B%20width%3A%20120px%3B%20font-weight%3A%20600%3B%22%3E%3Cspan%20style%3D%22text-overflow%3A%20ellipsis%3B%20overflow%3A%20hidden%3B%20white-space%3A%20nowrap%3B%20max-width%3A%20calc((100%25%20-%200px)%20-%200px)%3B%22%3E2021-03-24%3C%2Fspan%3E%3C%2Fdiv%3E%3Cdiv%20style%3D%22overflow%3A%20hidden%3B%20display%3A%20flex%3B%20align-items%3A%20center%3B%20font-size%3A%2012px%3B%20height%3A%2028px%3B%20left%3A%20240px%3B%20padding%3A%204px%204px%203px%3B%20position%3A%20absolute%3B%20text-align%3A%20left%3B%20top%3A%20196px%3B%20width%3A%20120px%3B%20background-color%3A%20rgb(250%2C%20250%2C%20250)%3B%20border-right%3A%202px%20solid%20rgb(233%2C%20233%2C%20233)%3B%22%3E%3Cspan%20style%3D%22text-overflow%3A%20ellipsis%3B%20overflow%3A%20hidden%3B%20white-space%3A%20nowrap%3B%20max-width%3A%20calc((100%25%20-%200px)%20-%200px)%3B%22%3EProduct%3C%2Fspan%3E%3C%2Fdiv%3E%3Cdiv%20style%3D%22overflow%3A%20hidden%3B%20display%3A%20none%3B%20align-items%3A%20center%3B%20font-size%3A%2012px%3B%20height%3A%2028px%3B%20left%3A%200px%3B%20padding%3A%204px%204px%203px%3B%20position%3A%20absolute%3B%20text-align%3A%20left%3B%20top%3A%20224px%3B%20width%3A%20120px%3B%20border-top%3A%201px%20solid%20rgb(233%2C%20233%2C%20233)%3B%20font-weight%3A%20600%3B%22%3E%3Cspan%20style%3D%22text-overflow%3A%20ellipsis%3B%20overflow%3A%20hidden%3B%20white-space%3A%20nowrap%3B%20max-width%3A%20calc((100%25%20-%200px)%20-%200px)%3B%22%3Ewallstreetbets%3C%2Fspan%3E%3C%2Fdiv%3E%3Cdiv%20style%3D%22overflow%3A%20hidden%3B%20display%3A%20flex%3B%20align-items%3A%20center%3B%20font-size%3A%2012px%3B%20height%3A%2028px%3B%20left%3A%20120px%3B%20padding%3A%204px%204px%203px%3B%20position%3A%20absolute%3B%20text-align%3A%20left%3B%20top%3A%20224px%3B%20width%3A%20120px%3B%20border-top%3A%201px%20solid%20rgb(233%2C%20233%2C%20233)%3B%20font-weight%3A%20600%3B%22%3E%3Cspan%20style%3D%22text-overflow%3A%20ellipsis%3B%20overflow%3A%20hidden%3B%20white-space%3A%20nowrap%3B%20max-width%3A%20calc((100%25%20-%200px)%20-%200px)%3B%22%3E2021-03-25%3C%2Fspan%3E%3C%2Fdiv%3E%3Cdiv%20style%3D%22overflow%3A%20hidden%3B%20display%3A%20flex%3B%20align-items%3A%20center%3B%20font-size%3A%2012px%3B%20height%3A%2028px%3B%20left%3A%20240px%3B%20padding%3A%204px%204px%203px%3B%20position%3A%20absolute%3B%20text-align%3A%20left%3B%20top%3A%20224px%3B%20width%3A%20120px%3B%20border-right%3A%202px%20solid%20rgb(233%2C%20233%2C%20233)%3B%20border-top%3A%201px%20solid%20rgb(233%2C%20233%2C%20233)%3B%22%3E%3Cspan%20style%3D%22text-overflow%3A%20ellipsis%3B%20overflow%3A%20hidden%3B%20white-space%3A%20nowrap%3B%20max-width%3A%20calc((100%25%20-%200px)%20-%200px)%3B%22%3E%3C%2Fspan%3E%3C%2Fdiv%3E%3Cdiv%20style%3D%22overflow%3A%20hidden%3B%20display%3A%20none%3B%20align-items%3A%20center%3B%20font-size%3A%2012px%3B%20height%3A%2028px%3B%20left%3A%200px%3B%20padding%3A%204px%204px%203px%3B%20position%3A%20absolute%3B%20text-align%3A%20left%3B%20top%3A%20252px%3B%20width%3A%20120px%3B%20font-weight%3A%20600%3B%22%3E%3Cspan%20style%3D%22text-overflow%3A%20ellipsis%3B%20overflow%3A%20hidden%3B%20white-space%3A%20nowrap%3B%20max-width%3A%20calc((100%25%20-%200px)%20-%200px)%3B%22%3Ewallstreetbets%3C%2Fspan%3E%3C%2Fdiv%3E%3Cdiv%20style%3D%22overflow%3A%20hidden%3B%20display%3A%20none%3B%20align-items%3A%20center%3B%20font-size%3A%2012px%3B%20height%3A%2028px%3B%20left%3A%20120px%3B%20padding%3A%204px%204px%203px%3B%20position%3A%20absolute%3B%20text-align%3A%20left%3B%20top%3A%20252px%3B%20width%3A%20120px%3B%20font-weight%3A%20600%3B%22%3E%3Cspan%20style%3D%22text-overflow%3A%20ellipsis%3B%20overflow%3A%20hidden%3B%20white-space%3A%20nowrap%3B%20max-width%3A%20calc((100%25%20-%200px)%20-%200px)%3B%22%3E2021-03-25%3C%2Fspan%3E%3C%2Fdiv%3E%3Cdiv%20style%3D%22overflow%3A%20hidden%3B%20display%3A%20flex%3B%20align-items%3A%20center%3B%20font-size%3A%2012px%3B%20height%3A%2028px%3B%20left%3A%20240px%3B%20padding%3A%204px%204px%203px%3B%20position%3A%20absolute%3B%20text-align%3A%20left%3B%20top%3A%20252px%3B%20width%3A%20120px%3B%20background-color%3A%20rgb(250%2C%20250%2C%20250)%3B%20border-right%3A%202px%20solid%20rgb(233%2C%20233%2C%20233)%3B%22%3E%3Cspan%20style%3D%22text-overflow%3A%20ellipsis%3B%20overflow%3A%20hidden%3B%20white-space%3A%20nowrap%3B%20max-width%3A%20calc((100%25%20-%200px)%20-%200px)%3B%22%3EN%2FA%3C%2Fspan%3E%3C%2Fdiv%3E%3Cdiv%20class%3D%22css-mxf2la-SelectionOverlay%22%3E%3C%2Fdiv%3E%3C%2Fdiv%3E%3C%2Fdiv%3E%3C%2Fdiv%3E%3Cdiv%20class%3D%22css-1et2wjz-Table%22%3E%3Cdiv%20class%3D%22css-4y4wms%22%3E%3Cdiv%20class%3D%22css-1jtaj6k%22%3E%3Cdiv%20class%3D%22css-1hol363-ResizableCell%22%3E%3Cdiv%20style%3D%22overflow%3A%20hidden%3B%20display%3A%20flex%3B%20align-items%3A%20center%3B%20font-size%3A%2012px%3B%20height%3A%2028px%3B%20left%3A%200px%3B%20padding%3A%204px%204px%203px%3B%20position%3A%20absolute%3B%20text-align%3A%20left%3B%20top%3A%200px%3B%20width%3A%20115px%3B%20font-weight%3A%20600%3B%22%3E%3Cspan%20style%3D%22text-overflow%3A%20ellipsis%3B%20overflow%3A%20hidden%3B%20white-space%3A%20nowrap%3B%20max-width%3A%20calc((100%25%20-%200px)%20-%200px)%3B%22%3ETotal%20awards%3C%2Fspan%3E%3C%2Fdiv%3E%3Cdiv%20class%3D%22css-xxcrt1-ResizableCell%22%3E%3C%2Fdiv%3E%3C%2Fdiv%3E%3Cdiv%20class%3D%22css-fpuq48-ResizableCell%22%3E%3Cdiv%20style%3D%22overflow%3A%20hidden%3B%20display%3A%20flex%3B%20align-items%3A%20center%3B%20font-size%3A%2012px%3B%20height%3A%2028px%3B%20left%3A%200px%3B%20padding%3A%204px%204px%203px%3B%20position%3A%20absolute%3B%20text-align%3A%20left%3B%20top%3A%200px%3B%20width%3A%20115px%3B%20font-weight%3A%20600%3B%22%3E%3Cspan%20style%3D%22text-overflow%3A%20ellipsis%3B%20overflow%3A%20hidden%3B%20white-space%3A%20nowrap%3B%20max-width%3A%20calc((100%25%20-%200px)%20-%200px)%3B%22%3EComments%3C%2Fspan%3E%3C%2Fdiv%3E%3Cdiv%20class%3D%22css-xxcrt1-ResizableCell%22%3E%3C%2Fdiv%3E%3C%2Fdiv%3E%3Cdiv%20class%3D%22css-3geaec-ResizableCell%22%3E%3Cdiv%20style%3D%22overflow%3A%20hidden%3B%20display%3A%20flex%3B%20align-items%3A%20center%3B%20font-size%3A%2012px%3B%20height%3A%2028px%3B%20left%3A%200px%3B%20padding%3A%204px%204px%203px%3B%20position%3A%20absolute%3B%20text-align%3A%20left%3B%20top%3A%200px%3B%20width%3A%20115px%3B%20font-weight%3A%20600%3B%22%3E%3Cspan%20style%3D%22text-overflow%3A%20ellipsis%3B%20overflow%3A%20hidden%3B%20white-space%3A%20nowrap%3B%20max-width%3A%20calc((100%25%20-%200px)%20-%200px)%3B%22%3Econtributors.COUNT%3C%2Fspan%3E%3C%2Fdiv%3E%3Cdiv%20class%3D%22css-xxcrt1-ResizableCell%22%3E%3C%2Fdiv%3E%3C%2Fdiv%3E%3C%2Fdiv%3E%3C%2Fdiv%3E%3Cdiv%20class%3D%22css-rfrxio%22%3E%3Cdiv%20class%3D%22css-56vdy3%22%3E%3Cdiv%20class%3D%22aui-table-cell%22%20style%3D%22font-size%3A%2012px%3B%20height%3A%2028px%3B%20left%3A%200px%3B%20padding%3A%204px%204px%203px%3B%20overflow%3A%20hidden%3B%20position%3A%20absolute%3B%20text-align%3A%20right%3B%20top%3A%200px%3B%20width%3A%20120px%3B%20border-right%3A%201px%20solid%20rgb(233%2C%20233%2C%20233)%3B%22%3E14%2C922%3C%2Fdiv%3E%3Cdiv%20class%3D%22aui-table-cell%22%20style%3D%22font-size%3A%2012px%3B%20height%3A%2028px%3B%20left%3A%20120px%3B%20padding%3A%204px%204px%203px%3B%20overflow%3A%20hidden%3B%20position%3A%20absolute%3B%20text-align%3A%20right%3B%20top%3A%200px%3B%20width%3A%20120px%3B%20border-right%3A%201px%20solid%20rgb(233%2C%20233%2C%20233)%3B%22%3E320%2C271%3C%2Fdiv%3E%3Cdiv%20class%3D%22aui-table-cell%22%20style%3D%22font-size%3A%2012px%3B%20height%3A%2028px%3B%20left%3A%20240px%3B%20padding%3A%204px%204px%203px%3B%20overflow%3A%20hidden%3B%20position%3A%20absolute%3B%20text-align%3A%20right%3B%20top%3A%200px%3B%20width%3A%20120px%3B%20border-right%3A%201px%20solid%20rgb(233%2C%20233%2C%20233)%3B%22%3E500%3C%2Fdiv%3E%3Cdiv%20class%3D%22aui-table-cell%22%20style%3D%22font-size%3A%2012px%3B%20height%3A%2028px%3B%20left%3A%200px%3B%20padding%3A%204px%204px%203px%3B%20overflow%3A%20hidden%3B%20position%3A%20absolute%3B%20text-align%3A%20right%3B%20top%3A%2028px%3B%20width%3A%20120px%3B%20border-right%3A%201px%20solid%20rgb(233%2C%20233%2C%20233)%3B%20border-top%3A%201px%20solid%20rgb(233%2C%20233%2C%20233)%3B%22%3E14%2C922%3C%2Fdiv%3E%3Cdiv%20class%3D%22aui-table-cell%22%20style%3D%22font-size%3A%2012px%3B%20height%3A%2028px%3B%20left%3A%20120px%3B%20padding%3A%204px%204px%203px%3B%20overflow%3A%20hidden%3B%20position%3A%20absolute%3B%20text-align%3A%20right%3B%20top%3A%2028px%3B%20width%3A%20120px%3B%20border-right%3A%201px%20solid%20rgb(233%2C%20233%2C%20233)%3B%20border-top%3A%201px%20solid%20rgb(233%2C%20233%2C%20233)%3B%22%3E320%2C271%3C%2Fdiv%3E%3Cdiv%20class%3D%22aui-table-cell%22%20style%3D%22font-size%3A%2012px%3B%20height%3A%2028px%3B%20left%3A%20240px%3B%20padding%3A%204px%204px%203px%3B%20overflow%3A%20hidden%3B%20position%3A%20absolute%3B%20text-align%3A%20right%3B%20top%3A%2028px%3B%20width%3A%20120px%3B%20border-right%3A%201px%20solid%20rgb(233%2C%20233%2C%20233)%3B%20border-top%3A%201px%20solid%20rgb(233%2C%20233%2C%20233)%3B%22%3E500%3C%2Fdiv%3E%3Cdiv%20class%3D%22aui-table-cell%22%20style%3D%22font-size%3A%2012px%3B%20height%3A%2028px%3B%20left%3A%200px%3B%20padding%3A%204px%204px%203px%3B%20overflow%3A%20hidden%3B%20position%3A%20absolute%3B%20text-align%3A%20right%3B%20top%3A%2056px%3B%20width%3A%20120px%3B%20border-right%3A%201px%20solid%20rgb(233%2C%20233%2C%20233)%3B%20border-top%3A%201px%20solid%20rgb(233%2C%20233%2C%20233)%3B%22%3E7%2C534%3C%2Fdiv%3E%3Cdiv%20class%3D%22aui-table-cell%22%20style%3D%22font-size%3A%2012px%3B%20height%3A%2028px%3B%20left%3A%20120px%3B%20padding%3A%204px%204px%203px%3B%20overflow%3A%20hidden%3B%20position%3A%20absolute%3B%20text-align%3A%20right%3B%20top%3A%2056px%3B%20width%3A%20120px%3B%20border-right%3A%201px%20solid%20rgb(233%2C%20233%2C%20233)%3B%20border-top%3A%201px%20solid%20rgb(233%2C%20233%2C%20233)%3B%22%3E141%2C070%3C%2Fdiv%3E%3Cdiv%20class%3D%22aui-table-cell%22%20style%3D%22font-size%3A%2012px%3B%20height%3A%2028px%3B%20left%3A%20240px%3B%20padding%3A%204px%204px%203px%3B%20overflow%3A%20hidden%3B%20position%3A%20absolute%3B%20text-align%3A%20right%3B%20top%3A%2056px%3B%20width%3A%20120px%3B%20border-right%3A%201px%20solid%20rgb(233%2C%20233%2C%20233)%3B%20border-top%3A%201px%20solid%20rgb(233%2C%20233%2C%20233)%3B%22%3E110%3C%2Fdiv%3E%3Cdiv%20class%3D%22aui-table-cell%22%20style%3D%22font-size%3A%2012px%3B%20height%3A%2028px%3B%20left%3A%200px%3B%20padding%3A%204px%204px%203px%3B%20overflow%3A%20hidden%3B%20position%3A%20absolute%3B%20text-align%3A%20right%3B%20top%3A%2084px%3B%20width%3A%20120px%3B%20background-color%3A%20rgb(250%2C%20250%2C%20250)%3B%20border-right%3A%201px%20solid%20rgb(233%2C%20233%2C%20233)%3B%22%3E0%3C%2Fdiv%3E%3Cdiv%20class%3D%22aui-table-cell%22%20style%3D%22font-size%3A%2012px%3B%20height%3A%2028px%3B%20left%3A%20120px%3B%20padding%3A%204px%204px%203px%3B%20overflow%3A%20hidden%3B%20position%3A%20absolute%3B%20text-align%3A%20right%3B%20top%3A%2084px%3B%20width%3A%20120px%3B%20background-color%3A%20rgb(250%2C%20250%2C%20250)%3B%20border-right%3A%201px%20solid%20rgb(233%2C%20233%2C%20233)%3B%22%3E3%3C%2Fdiv%3E%3Cdiv%20class%3D%22aui-table-cell%22%20style%3D%22font-size%3A%2012px%3B%20height%3A%2028px%3B%20left%3A%20240px%3B%20padding%3A%204px%204px%203px%3B%20overflow%3A%20hidden%3B%20position%3A%20absolute%3B%20text-align%3A%20right%3B%20top%3A%2084px%3B%20width%3A%20120px%3B%20background-color%3A%20rgb(250%2C%20250%2C%20250)%3B%20border-right%3A%201px%20solid%20rgb(233%2C%20233%2C%20233)%3B%22%3E1%3C%2Fdiv%3E%3Cdiv%20class%3D%22aui-table-cell%22%20style%3D%22font-size%3A%2012px%3B%20height%3A%2028px%3B%20left%3A%200px%3B%20padding%3A%204px%204px%203px%3B%20overflow%3A%20hidden%3B%20position%3A%20absolute%3B%20text-align%3A%20right%3B%20top%3A%20112px%3B%20width%3A%20120px%3B%20border-right%3A%201px%20solid%20rgb(233%2C%20233%2C%20233)%3B%22%3E7%2C236%3C%2Fdiv%3E%3Cdiv%20class%3D%22aui-table-cell%22%20style%3D%22font-size%3A%2012px%3B%20height%3A%2028px%3B%20left%3A%20120px%3B%20padding%3A%204px%204px%203px%3B%20overflow%3A%20hidden%3B%20position%3A%20absolute%3B%20text-align%3A%20right%3B%20top%3A%20112px%3B%20width%3A%20120px%3B%20border-right%3A%201px%20solid%20rgb(233%2C%20233%2C%20233)%3B%22%3E139%2C476%3C%2Fdiv%3E%3Cdiv%20class%3D%22aui-table-cell%22%20style%3D%22font-size%3A%2012px%3B%20height%3A%2028px%3B%20left%3A%20240px%3B%20padding%3A%204px%204px%203px%3B%20overflow%3A%20hidden%3B%20position%3A%20absolute%3B%20text-align%3A%20right%3B%20top%3A%20112px%3B%20width%3A%20120px%3B%20border-right%3A%201px%20solid%20rgb(233%2C%20233%2C%20233)%3B%22%3E103%3C%2Fdiv%3E%3Cdiv%20class%3D%22aui-table-cell%22%20style%3D%22font-size%3A%2012px%3B%20height%3A%2028px%3B%20left%3A%200px%3B%20padding%3A%204px%204px%203px%3B%20overflow%3A%20hidden%3B%20position%3A%20absolute%3B%20text-align%3A%20right%3B%20top%3A%20140px%3B%20width%3A%20120px%3B%20background-color%3A%20rgb(250%2C%20250%2C%20250)%3B%20border-right%3A%201px%20solid%20rgb(233%2C%20233%2C%20233)%3B%22%3E221%3C%2Fdiv%3E%3Cdiv%20class%3D%22aui-table-cell%22%20style%3D%22font-size%3A%2012px%3B%20height%3A%2028px%3B%20left%3A%20120px%3B%20padding%3A%204px%204px%203px%3B%20overflow%3A%20hidden%3B%20position%3A%20absolute%3B%20text-align%3A%20right%3B%20top%3A%20140px%3B%20width%3A%20120px%3B%20background-color%3A%20rgb(250%2C%20250%2C%20250)%3B%20border-right%3A%201px%20solid%20rgb(233%2C%20233%2C%20233)%3B%22%3E625%3C%2Fdiv%3E%3Cdiv%20class%3D%22aui-table-cell%22%20style%3D%22font-size%3A%2012px%3B%20height%3A%2028px%3B%20left%3A%20240px%3B%20padding%3A%204px%204px%203px%3B%20overflow%3A%20hidden%3B%20position%3A%20absolute%3B%20text-align%3A%20right%3B%20top%3A%20140px%3B%20width%3A%20120px%3B%20background-color%3A%20rgb(250%2C%20250%2C%20250)%3B%20border-right%3A%201px%20solid%20rgb(233%2C%20233%2C%20233)%3B%22%3E3%3C%2Fdiv%3E%3Cdiv%20class%3D%22aui-table-cell%22%20style%3D%22font-size%3A%2012px%3B%20height%3A%2028px%3B%20left%3A%200px%3B%20padding%3A%204px%204px%203px%3B%20overflow%3A%20hidden%3B%20position%3A%20absolute%3B%20text-align%3A%20right%3B%20top%3A%20168px%3B%20width%3A%20120px%3B%20border-right%3A%201px%20solid%20rgb(233%2C%20233%2C%20233)%3B%22%3E0%3C%2Fdiv%3E%3Cdiv%20class%3D%22aui-table-cell%22%20style%3D%22font-size%3A%2012px%3B%20height%3A%2028px%3B%20left%3A%20120px%3B%20padding%3A%204px%204px%203px%3B%20overflow%3A%20hidden%3B%20position%3A%20absolute%3B%20text-align%3A%20right%3B%20top%3A%20168px%3B%20width%3A%20120px%3B%20border-right%3A%201px%20solid%20rgb(233%2C%20233%2C%20233)%3B%22%3E78%3C%2Fdiv%3E%3Cdiv%20class%3D%22aui-table-cell%22%20style%3D%22font-size%3A%2012px%3B%20height%3A%2028px%3B%20left%3A%20240px%3B%20padding%3A%204px%204px%203px%3B%20overflow%3A%20hidden%3B%20position%3A%20absolute%3B%20text-align%3A%20right%3B%20top%3A%20168px%3B%20width%3A%20120px%3B%20border-right%3A%201px%20solid%20rgb(233%2C%20233%2C%20233)%3B%22%3E1%3C%2Fdiv%3E%3Cdiv%20class%3D%22aui-table-cell%22%20style%3D%22font-size%3A%2012px%3B%20height%3A%2028px%3B%20left%3A%200px%3B%20padding%3A%204px%204px%203px%3B%20overflow%3A%20hidden%3B%20position%3A%20absolute%3B%20text-align%3A%20right%3B%20top%3A%20196px%3B%20width%3A%20120px%3B%20background-color%3A%20rgb(250%2C%20250%2C%20250)%3B%20border-right%3A%201px%20solid%20rgb(233%2C%20233%2C%20233)%3B%22%3E77%3C%2Fdiv%3E%3Cdiv%20class%3D%22aui-table-cell%22%20style%3D%22font-size%3A%2012px%3B%20height%3A%2028px%3B%20left%3A%20120px%3B%20padding%3A%204px%204px%203px%3B%20overflow%3A%20hidden%3B%20position%3A%20absolute%3B%20text-align%3A%20right%3B%20top%3A%20196px%3B%20width%3A%20120px%3B%20background-color%3A%20rgb(250%2C%20250%2C%20250)%3B%20border-right%3A%201px%20solid%20rgb(233%2C%20233%2C%20233)%3B%22%3E901%3C%2Fdiv%3E%3Cdiv%20class%3D%22aui-table-cell%22%20style%3D%22font-size%3A%2012px%3B%20height%3A%2028px%3B%20left%3A%20240px%3B%20padding%3A%204px%204px%203px%3B%20overflow%3A%20hidden%3B%20position%3A%20absolute%3B%20text-align%3A%20right%3B%20top%3A%20196px%3B%20width%3A%20120px%3B%20background-color%3A%20rgb(250%2C%20250%2C%20250)%3B%20border-right%3A%201px%20solid%20rgb(233%2C%20233%2C%20233)%3B%22%3E4%3C%2Fdiv%3E%3Cdiv%20class%3D%22aui-table-cell%22%20style%3D%22font-size%3A%2012px%3B%20height%3A%2028px%3B%20left%3A%200px%3B%20padding%3A%204px%204px%203px%3B%20overflow%3A%20hidden%3B%20position%3A%20absolute%3B%20text-align%3A%20right%3B%20top%3A%20224px%3B%20width%3A%20120px%3B%20border-right%3A%201px%20solid%20rgb(233%2C%20233%2C%20233)%3B%20border-top%3A%201px%20solid%20rgb(233%2C%20233%2C%20233)%3B%22%3E5%2C578%3C%2Fdiv%3E%3Cdiv%20class%3D%22aui-table-cell%22%20style%3D%22font-size%3A%2012px%3B%20height%3A%2028px%3B%20left%3A%20120px%3B%20padding%3A%204px%204px%203px%3B%20overflow%3A%20hidden%3B%20position%3A%20absolute%3B%20text-align%3A%20right%3B%20top%3A%20224px%3B%20width%3A%20120px%3B%20border-right%3A%201px%20solid%20rgb(233%2C%20233%2C%20233)%3B%20border-top%3A%201px%20solid%20rgb(233%2C%20233%2C%20233)%3B%22%3E149%2C546%3C%2Fdiv%3E%3Cdiv%20class%3D%22aui-table-cell%22%20style%3D%22font-size%3A%2012px%3B%20height%3A%2028px%3B%20left%3A%20240px%3B%20padding%3A%204px%204px%203px%3B%20overflow%3A%20hidden%3B%20position%3A%20absolute%3B%20text-align%3A%20right%3B%20top%3A%20224px%3B%20width%3A%20120px%3B%20border-right%3A%201px%20solid%20rgb(233%2C%20233%2C%20233)%3B%20border-top%3A%201px%20solid%20rgb(233%2C%20233%2C%20233)%3B%22%3E243%3C%2Fdiv%3E%3Cdiv%20class%3D%22aui-table-cell%22%20style%3D%22font-size%3A%2012px%3B%20height%3A%2028px%3B%20left%3A%200px%3B%20padding%3A%204px%204px%203px%3B%20overflow%3A%20hidden%3B%20position%3A%20absolute%3B%20text-align%3A%20right%3B%20top%3A%20252px%3B%20width%3A%20120px%3B%20background-color%3A%20rgb(250%2C%20250%2C%20250)%3B%20border-right%3A%201px%20solid%20rgb(233%2C%20233%2C%20233)%3B%22%3E5%2C407%3C%2Fdiv%3E%3Cdiv%20class%3D%22aui-table-cell%22%20style%3D%22font-size%3A%2012px%3B%20height%3A%2028px%3B%20left%3A%20120px%3B%20padding%3A%204px%204px%203px%3B%20overflow%3A%20hidden%3B%20position%3A%20absolute%3B%20text-align%3A%20right%3B%20top%3A%20252px%3B%20width%3A%20120px%3B%20background-color%3A%20rgb(250%2C%20250%2C%20250)%3B%20border-right%3A%201px%20solid%20rgb(233%2C%20233%2C%20233)%3B%22%3E146%2C504%3C%2Fdiv%3E%3Cdiv%20class%3D%22aui-table-cell%22%20style%3D%22font-size%3A%2012px%3B%20height%3A%2028px%3B%20left%3A%20240px%3B%20padding%3A%204px%204px%203px%3B%20overflow%3A%20hidden%3B%20position%3A%20absolute%3B%20text-align%3A%20right%3B%20top%3A%20252px%3B%20width%3A%20120px%3B%20background-color%3A%20rgb(250%2C%20250%2C%20250)%3B%20border-right%3A%201px%20solid%20rgb(233%2C%20233%2C%20233)%3B%22%3E220%3C%2Fdiv%3E%3C%2Fdiv%3E%3C%2Fdiv%3E%3C%2Fdiv%3E%3C%2Fdiv%3E%3C%2Fdiv%3E%3C%2Fdiv%3E%3C%2Fdiv%3E%3C%2Fdiv%3E%3C%2Fdiv%3E%3C%2Fdiv%3E%3C%2FforeignObject%3E%3C%2Fsvg%3E\">"
      ],
      "text/plain": [
       "Open the notebook in JupyterLab with the atoti extension installed and enabled to start editing this widget."
      ]
     },
     "metadata": {},
     "output_type": "display_data"
    }
   ],
   "source": [
    "session.visualize()"
   ]
  },
  {
   "cell_type": "markdown",
   "metadata": {},
   "source": [
    "### Real-time dashboarding with atoti\n",
    "\n",
    "At the moment, I have only loaded data from the subreddit _wallstreetbets_. In the next few cell, I have created functions that allow me to poll the latest 200 postings from some other subreddit groups:\n",
    "- news\n",
    "- worldnews\n",
    "- politics\n",
    "- technology\n",
    "- wallstreetbets\n",
    "\n",
    "Let's switch over to a dashboard that I have prepared in advance by accessing the url from the next cell. After loading the dashboard, trigger the rest of the cells to start the data polling. You can then go back to the dashboard to see it getting refreshed each time new data is downloaded."
   ]
  },
  {
   "cell_type": "code",
   "execution_count": 29,
   "metadata": {},
   "outputs": [
    {
     "data": {
      "text/plain": [
       "'http://localhost:56360/#/dashboard/c7c'"
      ]
     },
     "execution_count": 29,
     "metadata": {},
     "output_type": "execute_result"
    }
   ],
   "source": [
    "session.url + \"/#/dashboard/c7c\""
   ]
  },
  {
   "cell_type": "markdown",
   "metadata": {},
   "source": [
    "I used [`store.load_pandas`](https://docs.atoti.io/0.4.2/lib/atoti.html?highlight=load_pandas#atoti.store.Store.load_pandas) to load the Pandas dataframe incrementally into the `Reddit Posts` store. For the `Entities` store, the csv file is on `watch` mode, hence any update will trigger data to be uploaded into the datastore. Based on the stores' keys, existing data will be updated and new data will be inserted."
   ]
  },
  {
   "cell_type": "code",
   "execution_count": 30,
   "metadata": {},
   "outputs": [],
   "source": [
    "def load_new_subreddit(subreddit):\n",
    "    posts_news = get_latest_posts(subreddit, 200)\n",
    "    df_news = get_nlp_features(posts_news)\n",
    "\n",
    "    reddit_store.load_pandas(df_news)"
   ]
  },
  {
   "cell_type": "markdown",
   "metadata": {},
   "source": [
    "For demo purpose, I have only set the polling to iterate 10 times with intervals of 30s."
   ]
  },
  {
   "cell_type": "code",
   "execution_count": 31,
   "metadata": {},
   "outputs": [],
   "source": [
    "import queue\n",
    "import threading\n",
    "\n",
    "should_publish = threading.Event()\n",
    "update_queue = queue.Queue()\n",
    "\n",
    "\n",
    "def start_publisher():\n",
    "    # Do 10 iterations with 30s interval\n",
    "    starttime = time.time()\n",
    "    print(\"Start polling\", starttime)\n",
    "    poll_iteration = 1\n",
    "\n",
    "    while poll_iteration <= 10:\n",
    "        print(\"\\rpublishing update \", end=\"\")\n",
    "        update_queue.put((poll_iteration))\n",
    "        poll_iteration += 1\n",
    "        time.sleep(30)\n",
    "        print(\"\\rawaiting for publishing update\", end=\"\")\n",
    "        should_publish.wait()\n",
    "        update_queue.join()\n",
    "\n",
    "\n",
    "def start_update_listener():\n",
    "    while True:\n",
    "        poll_iteration = update_queue.get()\n",
    "        print(poll_iteration, \">>> Start polling from subreddit... \")\n",
    "        # poll from subreddit\n",
    "        load_new_subreddit(\"news\")\n",
    "        print(poll_iteration, \"........ Loaded news \")\n",
    "\n",
    "        load_new_subreddit(\"worldnews\")\n",
    "        print(poll_iteration, \"........ Loaded worldnews \")\n",
    "\n",
    "        load_new_subreddit(\"politics\")\n",
    "        print(poll_iteration, \"........ Loaded politics \")\n",
    "\n",
    "        load_new_subreddit(\"technology\")\n",
    "        print(poll_iteration, \"........ Loaded technology \")\n",
    "\n",
    "        load_new_subreddit(\"wallstreetbets\")\n",
    "        print(poll_iteration, \"........ Loaded wallstreetbets \")\n",
    "        entity_file.flush()\n",
    "        print(poll_iteration, \">>> End polling from subreddit... \")\n",
    "        update_queue.task_done()\n",
    "\n",
    "\n",
    "listener_thread = threading.Thread(target=start_update_listener, daemon=True)\n",
    "publisher_thread = threading.Thread(target=start_publisher, daemon=True)"
   ]
  },
  {
   "cell_type": "code",
   "execution_count": 32,
   "metadata": {},
   "outputs": [
    {
     "name": "stdout",
     "output_type": "stream",
     "text": [
      "Start polling 1616740512.413595\n",
      "publishing update 1 >>> Start polling from subreddit... \n"
     ]
    }
   ],
   "source": [
    "publisher_thread.start()\n",
    "listener_thread.start()\n",
    "# start publishing\n",
    "should_publish.set()"
   ]
  },
  {
   "cell_type": "markdown",
   "metadata": {},
   "source": [
    "If you would like to stop the data polling before the 10 iterations end, run the below cell."
   ]
  },
  {
   "cell_type": "code",
   "execution_count": 33,
   "metadata": {},
   "outputs": [],
   "source": [
    "# pause publishing\n",
    "should_publish.clear()"
   ]
  },
  {
   "cell_type": "code",
   "execution_count": 34,
   "metadata": {},
   "outputs": [
    {
     "name": "stderr",
     "output_type": "stream",
     "text": [
      "Exception in thread Thread-8:\n",
      "Traceback (most recent call last):\n",
      "  File \"C:\\Apps\\miniconda3\\envs\\atoti\\lib\\threading.py\", line 954, in _bootstrap_inner\n",
      "    self.run()\n",
      "  File \"C:\\Apps\\miniconda3\\envs\\atoti\\lib\\threading.py\", line 892, in run\n",
      "    self._target(*self._args, **self._kwargs)\n",
      "  File \"<ipython-input-31-cf3ea888647e>\", line 29, in start_update_listener\n",
      "  File \"<ipython-input-30-d195cc565785>\", line 2, in load_new_subreddit\n",
      "  File \"<ipython-input-10-f5e80723cc2c>\", line 10, in get_latest_posts\n",
      "  File \"<ipython-input-7-e5afd54dffe5>\", line 23, in normalize\n",
      "  File \"<ipython-input-6-84034344cb64>\", line 67, in get_post_entity\n",
      "ValueError: I/O operation on closed file.\n"
     ]
    },
    {
     "name": "stdout",
     "output_type": "stream",
     "text": [
      "awaiting for publishing update"
     ]
    }
   ],
   "source": [
    "entity_file.close()"
   ]
  },
  {
   "cell_type": "markdown",
   "metadata": {},
   "source": [
    "#### Dashboard Page - Post Frequency \n",
    "\n",
    "This is how the real-time dashboard will look like when the scheduler is running:\n",
    "\n",
    "<img src=\"https://data.atoti.io/notebooks/reddit/real-time_dashboarding.gif\" alt=\"atoti table\" width=\"1080\"/>\n",
    "\n",
    "Using the Subreddit's submission id as a unique key, atoti is able to update an existing posting and insert new ones.  \n",
    "You can see the frequency of posting and trend from each Subreddit.  \n",
    "From the tree map, you can also see which author's posting generates the most comments."
   ]
  },
  {
   "cell_type": "markdown",
   "metadata": {},
   "source": [
    "#### Dashboard Page - NLP Stats\n",
    "\n",
    "Go to second tab of the dashboard to play with the NLP Statistics using quick filters:\n",
    "\n",
    "<img src=\"https://data.atoti.io/notebooks/reddit/NLP_Stats.gif\" alt=\"atoti table\" width=\"1080\"/>\n",
    "\n",
    "If there are too many values to choose, you can also use the \"Label contains...\" filter option to do a _partial label_ search. Try selecting Trump and Biden to see the number of postings related to them."
   ]
  },
  {
   "cell_type": "markdown",
   "metadata": {},
   "source": [
    "#### Dashboard Page - Author Analysis\n",
    "\n",
    "Go to third tab of the dashboard for interactive analysis of authors:\n",
    "\n",
    "<img src=\"https://data.atoti.io/notebooks/reddit/author_analysis.gif\" alt=\"atoti table\" width=\"1080\"/>\n",
    "\n",
    "Perform a drillthrough to see the underlying data behind the selected cell."
   ]
  },
  {
   "cell_type": "markdown",
   "metadata": {},
   "source": [
    "Have fun exploring the dashboard! Do play around with some of the ootb widgets such as \"Quick Page Filter\" that allow you to easily filter the page from the dashboard."
   ]
  }
 ],
 "metadata": {
  "kernelspec": {
   "display_name": "Python 3",
   "language": "python",
   "name": "python3"
  },
  "language_info": {
   "codemirror_mode": {
    "name": "ipython",
    "version": 3
   },
   "file_extension": ".py",
   "mimetype": "text/x-python",
   "name": "python",
   "nbconvert_exporter": "python",
   "pygments_lexer": "ipython3",
   "version": "3.9.1"
  }
 },
 "nbformat": 4,
 "nbformat_minor": 4
}
