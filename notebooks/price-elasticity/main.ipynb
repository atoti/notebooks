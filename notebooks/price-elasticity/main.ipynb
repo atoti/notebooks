{
 "cells": [
  {
   "cell_type": "markdown",
   "id": "3504596b-ad19-4b26-9469-ea4f9c920924",
   "metadata": {},
   "source": [
    "# Unraveling price elasticity of demand with atoti\n",
    "\\[_In case you’re unable to see the atoti visualizations in GitHub, try viewing the notebook in [nbviewer](https://nbviewer.org/github/atoti/notebooks/blob/master/notebooks/price-elasticity/main.ipynb)._]"
   ]
  },
  {
   "cell_type": "markdown",
   "id": "deca0d04-2010-42aa-b1af-e10fed7fae8d",
   "metadata": {
    "tags": []
   },
   "source": [
    "## Overview\n",
    "\n",
    "In this notebook, we will apply the concept of [price elasticity of demand](https://en.wikipedia.org/wiki/Price_elasticity_of_demand) in the domain of insurance pricing.  \n",
    "Insurance companies give their customers a quote for the premium they would charge to insure the customer's vehicle, just like most applications of price elasticity, the customer may choose one insurance provider over other based on the quoted price, amongst other factors.  \n",
    "\n",
    "Here, we are using this [dataset from Kaggle](https://www.kaggle.com/ranja7/vehicle-insurance-customer-data) which has been further augmented by adding synthetic data to it.  \n",
    "\n",
    "The dataset is the quotes data for vehicle insuarnce, with the policy sales being the target variable.  We will be building a predictive model for the quotes sales and then using atoti and the model to identify different buckets of customers across different segments depending on their price sensitivity.  \n",
    "\n",
    "So, the notebook has three main sections:\n",
    "1. **Predictive Modelling** - We will start off with building a predictive model, and identify the feature importance to see which factors are affecting the model. \n",
    "2. **Identifying and visualising the  KPIs** - We will use the model to identify different KPIs from the data.\n",
    "3. **Price Elasticity with atoti** - Now we wil create different what-if scenarios based on the price using atoti and find out the impact of these on the above-mentioned KPIs.\n",
    "\n",
    "**So, let us get started with demystifying the price elasticity modeling, thanks to atoti!**\n",
    "\n",
    "\n",
    "\n",
    "<div style=\"text-align: center;\" ><a href=\"https://www.atoti.io/?utm_source=gallery&utm_content=creditcard-fraud-detection\" target=\"_blank\" rel=\"noopener noreferrer\"><img src=\"https://data.atoti.io/notebooks/banners/discover.png\" alt=\"Try atoti\"></a></div>"
   ]
  },
  {
   "cell_type": "code",
   "execution_count": 1,
   "id": "c524ca35-33f3-48e0-b020-e8e0346731ba",
   "metadata": {},
   "outputs": [
    {
     "name": "stderr",
     "output_type": "stream",
     "text": [
      "C:\\Users\\Yeo Hui Fang\\AppData\\Local\\pypoetry\\Cache\\virtualenvs\\notebooks-bWtx623B-py3.9\\lib\\site-packages\\xgboost\\compat.py:36: FutureWarning: pandas.Int64Index is deprecated and will be removed from pandas in a future version. Use pandas.Index with the appropriate dtype instead.\n",
      "  from pandas import MultiIndex, Int64Index\n",
      "C:\\Users\\Yeo Hui Fang\\AppData\\Local\\pypoetry\\Cache\\virtualenvs\\notebooks-bWtx623B-py3.9\\lib\\site-packages\\statsmodels\\tsa\\base\\tsa_model.py:7: FutureWarning: pandas.Int64Index is deprecated and will be removed from pandas in a future version. Use pandas.Index with the appropriate dtype instead.\n",
      "  from pandas import (to_datetime, Int64Index, DatetimeIndex, Period,\n",
      "C:\\Users\\Yeo Hui Fang\\AppData\\Local\\pypoetry\\Cache\\virtualenvs\\notebooks-bWtx623B-py3.9\\lib\\site-packages\\statsmodels\\tsa\\base\\tsa_model.py:7: FutureWarning: pandas.Float64Index is deprecated and will be removed from pandas in a future version. Use pandas.Index with the appropriate dtype instead.\n",
      "  from pandas import (to_datetime, Int64Index, DatetimeIndex, Period,\n"
     ]
    }
   ],
   "source": [
    "# Importing the necessary packages\n",
    "\n",
    "import pandas as pd\n",
    "import numpy as np\n",
    "\n",
    "from xgboost import XGBClassifier\n",
    "\n",
    "from sklearn.model_selection import train_test_split\n",
    "\n",
    "from sklearn.ensemble import RandomForestClassifier\n",
    "from sklearn.neighbors import KNeighborsClassifier\n",
    "from sklearn.svm import SVC\n",
    "from sklearn.naive_bayes import GaussianNB\n",
    "\n",
    "from sklearn.metrics import f1_score, classification_report, recall_score, roc_auc_score\n",
    "\n",
    "import statsmodels.api as sm"
   ]
  },
  {
   "cell_type": "code",
   "execution_count": 2,
   "id": "067b6ec9-ae68-45df-86d8-b4cedc1e54a7",
   "metadata": {},
   "outputs": [],
   "source": [
    "# Importing atoti\n",
    "import atoti as tt"
   ]
  },
  {
   "cell_type": "markdown",
   "id": "c403d3ae-5bfb-40d7-bea3-11116315c8c8",
   "metadata": {
    "tags": []
   },
   "source": [
    "# Part 1: Predictive Modelling\n",
    "\n",
    "We begin with loading the training and test datasets and then we try different models to find the best results.  \n",
    "Once, we have found the best model, we shall see which features are the main rivers for the predictive ability of the selected model. "
   ]
  },
  {
   "cell_type": "markdown",
   "id": "3843a9d6-3613-48aa-ada8-1dd02a9fc3d6",
   "metadata": {},
   "source": [
    "## 1.1 Loading and preparing the data  \n",
    "### Loading and viewing the training and the test dataset"
   ]
  },
  {
   "cell_type": "code",
   "execution_count": 3,
   "id": "e7bcc93b-b289-4290-973b-b796bc6ee9d9",
   "metadata": {},
   "outputs": [],
   "source": [
    "df = pd.read_csv(\"s3://data.atoti.io/notebooks/price-elasticity/data.csv\")\n",
    "test_df = pd.read_csv(\"s3://data.atoti.io/notebooks/price-elasticity/test_df.csv\")"
   ]
  },
  {
   "cell_type": "code",
   "execution_count": 4,
   "id": "780dcaf1-b54d-4147-8f0c-386c602b1767",
   "metadata": {},
   "outputs": [
    {
     "name": "stdout",
     "output_type": "stream",
     "text": [
      "(45707, 19)\n"
     ]
    },
    {
     "data": {
      "text/html": [
       "<div>\n",
       "<style scoped>\n",
       "    .dataframe tbody tr th:only-of-type {\n",
       "        vertical-align: middle;\n",
       "    }\n",
       "\n",
       "    .dataframe tbody tr th {\n",
       "        vertical-align: top;\n",
       "    }\n",
       "\n",
       "    .dataframe thead th {\n",
       "        text-align: right;\n",
       "    }\n",
       "</style>\n",
       "<table border=\"1\" class=\"dataframe\">\n",
       "  <thead>\n",
       "    <tr style=\"text-align: right;\">\n",
       "      <th></th>\n",
       "      <th>cust_id</th>\n",
       "      <th>Sale</th>\n",
       "      <th>Driver_Age</th>\n",
       "      <th>Vehicle_Value</th>\n",
       "      <th>Price</th>\n",
       "      <th>Vehicle_Mileage</th>\n",
       "      <th>Credit_Score</th>\n",
       "      <th>Licence_Length_Years</th>\n",
       "      <th>Marital_Status</th>\n",
       "      <th>Tax</th>\n",
       "      <th>State</th>\n",
       "      <th>CLTV</th>\n",
       "      <th>Coverage_Type</th>\n",
       "      <th>Education</th>\n",
       "      <th>Employment_Status</th>\n",
       "      <th>Location_Code</th>\n",
       "      <th>Sales_Channel</th>\n",
       "      <th>Months_Policy_Inception</th>\n",
       "      <th>Policy_Type</th>\n",
       "    </tr>\n",
       "  </thead>\n",
       "  <tbody>\n",
       "    <tr>\n",
       "      <th>0</th>\n",
       "      <td>402933470644</td>\n",
       "      <td>0</td>\n",
       "      <td>67.0</td>\n",
       "      <td>2000.0</td>\n",
       "      <td>445.82</td>\n",
       "      <td>9000.0</td>\n",
       "      <td>386.17</td>\n",
       "      <td>0.79</td>\n",
       "      <td>D</td>\n",
       "      <td>NaN</td>\n",
       "      <td>Washington</td>\n",
       "      <td>2962.7</td>\n",
       "      <td>Extended</td>\n",
       "      <td>Doctor</td>\n",
       "      <td>Disabled</td>\n",
       "      <td>Rural</td>\n",
       "      <td>Agent</td>\n",
       "      <td>90</td>\n",
       "      <td>Corporate Auto</td>\n",
       "    </tr>\n",
       "    <tr>\n",
       "      <th>1</th>\n",
       "      <td>1727686457919</td>\n",
       "      <td>1</td>\n",
       "      <td>35.0</td>\n",
       "      <td>9000.0</td>\n",
       "      <td>NaN</td>\n",
       "      <td>9000.0</td>\n",
       "      <td>406.26</td>\n",
       "      <td>10.58</td>\n",
       "      <td>M</td>\n",
       "      <td>52.37</td>\n",
       "      <td>Nevada</td>\n",
       "      <td>2615.1</td>\n",
       "      <td>Basic</td>\n",
       "      <td>High School or Below</td>\n",
       "      <td>Employed</td>\n",
       "      <td>Rural</td>\n",
       "      <td>Web</td>\n",
       "      <td>92</td>\n",
       "      <td>Corporate Auto</td>\n",
       "    </tr>\n",
       "    <tr>\n",
       "      <th>2</th>\n",
       "      <td>54216290243</td>\n",
       "      <td>1</td>\n",
       "      <td>34.0</td>\n",
       "      <td>10000.0</td>\n",
       "      <td>737.83</td>\n",
       "      <td>7000.0</td>\n",
       "      <td>437.45</td>\n",
       "      <td>9.09</td>\n",
       "      <td>M</td>\n",
       "      <td>73.78</td>\n",
       "      <td>California</td>\n",
       "      <td>10629.2</td>\n",
       "      <td>Extended</td>\n",
       "      <td>Master</td>\n",
       "      <td>Medical Leave</td>\n",
       "      <td>Rural</td>\n",
       "      <td>Web</td>\n",
       "      <td>93</td>\n",
       "      <td>Special Auto</td>\n",
       "    </tr>\n",
       "    <tr>\n",
       "      <th>3</th>\n",
       "      <td>844267021428</td>\n",
       "      <td>1</td>\n",
       "      <td>34.0</td>\n",
       "      <td>10000.0</td>\n",
       "      <td>582.42</td>\n",
       "      <td>6000.0</td>\n",
       "      <td>506.71</td>\n",
       "      <td>2.78</td>\n",
       "      <td>M</td>\n",
       "      <td>58.24</td>\n",
       "      <td>Arizona</td>\n",
       "      <td>9624.9</td>\n",
       "      <td>Premium</td>\n",
       "      <td>Master</td>\n",
       "      <td>Employed</td>\n",
       "      <td>Rural</td>\n",
       "      <td>Branch</td>\n",
       "      <td>39</td>\n",
       "      <td>Special Auto</td>\n",
       "    </tr>\n",
       "    <tr>\n",
       "      <th>4</th>\n",
       "      <td>4695160115211</td>\n",
       "      <td>0</td>\n",
       "      <td>25.0</td>\n",
       "      <td>9000.0</td>\n",
       "      <td>622.56</td>\n",
       "      <td>10000.0</td>\n",
       "      <td>501.31</td>\n",
       "      <td>1.73</td>\n",
       "      <td>M</td>\n",
       "      <td>62.26</td>\n",
       "      <td>California</td>\n",
       "      <td>7781.0</td>\n",
       "      <td>Basic</td>\n",
       "      <td>Bachelor</td>\n",
       "      <td>Unemployed</td>\n",
       "      <td>Urban</td>\n",
       "      <td>Branch</td>\n",
       "      <td>52</td>\n",
       "      <td>Personal Auto</td>\n",
       "    </tr>\n",
       "  </tbody>\n",
       "</table>\n",
       "</div>"
      ],
      "text/plain": [
       "         cust_id  Sale  Driver_Age  Vehicle_Value   Price  Vehicle_Mileage  \\\n",
       "0   402933470644     0        67.0         2000.0  445.82           9000.0   \n",
       "1  1727686457919     1        35.0         9000.0     NaN           9000.0   \n",
       "2    54216290243     1        34.0        10000.0  737.83           7000.0   \n",
       "3   844267021428     1        34.0        10000.0  582.42           6000.0   \n",
       "4  4695160115211     0        25.0         9000.0  622.56          10000.0   \n",
       "\n",
       "   Credit_Score  Licence_Length_Years Marital_Status    Tax       State  \\\n",
       "0        386.17                  0.79              D    NaN  Washington   \n",
       "1        406.26                 10.58              M  52.37      Nevada   \n",
       "2        437.45                  9.09              M  73.78  California   \n",
       "3        506.71                  2.78              M  58.24     Arizona   \n",
       "4        501.31                  1.73              M  62.26  California   \n",
       "\n",
       "      CLTV Coverage_Type             Education Employment_Status  \\\n",
       "0   2962.7      Extended                Doctor          Disabled   \n",
       "1   2615.1         Basic  High School or Below          Employed   \n",
       "2  10629.2      Extended                Master     Medical Leave   \n",
       "3   9624.9       Premium                Master          Employed   \n",
       "4   7781.0         Basic              Bachelor        Unemployed   \n",
       "\n",
       "  Location_Code Sales_Channel  Months_Policy_Inception     Policy_Type  \n",
       "0         Rural         Agent                       90  Corporate Auto  \n",
       "1         Rural           Web                       92  Corporate Auto  \n",
       "2         Rural           Web                       93    Special Auto  \n",
       "3         Rural        Branch                       39    Special Auto  \n",
       "4         Urban        Branch                       52   Personal Auto  "
      ]
     },
     "execution_count": 4,
     "metadata": {},
     "output_type": "execute_result"
    }
   ],
   "source": [
    "print(df.shape)\n",
    "df.head()"
   ]
  },
  {
   "cell_type": "code",
   "execution_count": 5,
   "id": "c8eb109b-7e03-46ac-b15d-405d687a80ad",
   "metadata": {},
   "outputs": [
    {
     "name": "stdout",
     "output_type": "stream",
     "text": [
      "(11427, 19)\n"
     ]
    },
    {
     "data": {
      "text/html": [
       "<div>\n",
       "<style scoped>\n",
       "    .dataframe tbody tr th:only-of-type {\n",
       "        vertical-align: middle;\n",
       "    }\n",
       "\n",
       "    .dataframe tbody tr th {\n",
       "        vertical-align: top;\n",
       "    }\n",
       "\n",
       "    .dataframe thead th {\n",
       "        text-align: right;\n",
       "    }\n",
       "</style>\n",
       "<table border=\"1\" class=\"dataframe\">\n",
       "  <thead>\n",
       "    <tr style=\"text-align: right;\">\n",
       "      <th></th>\n",
       "      <th>cust_id</th>\n",
       "      <th>Sale</th>\n",
       "      <th>Driver_Age</th>\n",
       "      <th>Vehicle_Value</th>\n",
       "      <th>Price</th>\n",
       "      <th>Vehicle_Mileage</th>\n",
       "      <th>Credit_Score</th>\n",
       "      <th>Licence_Length_Years</th>\n",
       "      <th>Marital_Status</th>\n",
       "      <th>Tax</th>\n",
       "      <th>State</th>\n",
       "      <th>CLTV</th>\n",
       "      <th>Coverage_Type</th>\n",
       "      <th>Education</th>\n",
       "      <th>Employment_Status</th>\n",
       "      <th>Location_Code</th>\n",
       "      <th>Sales_Channel</th>\n",
       "      <th>Months_Policy_Inception</th>\n",
       "      <th>Policy_Type</th>\n",
       "    </tr>\n",
       "  </thead>\n",
       "  <tbody>\n",
       "    <tr>\n",
       "      <th>0</th>\n",
       "      <td>9447656335642</td>\n",
       "      <td>1</td>\n",
       "      <td>NaN</td>\n",
       "      <td>8000.0</td>\n",
       "      <td>447.64</td>\n",
       "      <td>4000.0</td>\n",
       "      <td>409.44</td>\n",
       "      <td>4.00</td>\n",
       "      <td>M</td>\n",
       "      <td>44.76</td>\n",
       "      <td>Washington</td>\n",
       "      <td>7319.6</td>\n",
       "      <td>Premium</td>\n",
       "      <td>High School or Below</td>\n",
       "      <td>Unemployed</td>\n",
       "      <td>Urban</td>\n",
       "      <td>Agent</td>\n",
       "      <td>87</td>\n",
       "      <td>Special Auto</td>\n",
       "    </tr>\n",
       "    <tr>\n",
       "      <th>1</th>\n",
       "      <td>1123349069299</td>\n",
       "      <td>0</td>\n",
       "      <td>37.0</td>\n",
       "      <td>6000.0</td>\n",
       "      <td>252.39</td>\n",
       "      <td>5000.0</td>\n",
       "      <td>359.11</td>\n",
       "      <td>4.42</td>\n",
       "      <td>M</td>\n",
       "      <td>25.24</td>\n",
       "      <td>California</td>\n",
       "      <td>9890.2</td>\n",
       "      <td>Extended</td>\n",
       "      <td>Bachelor</td>\n",
       "      <td>Employed</td>\n",
       "      <td>Rural</td>\n",
       "      <td>Agent</td>\n",
       "      <td>12</td>\n",
       "      <td>Personal Auto</td>\n",
       "    </tr>\n",
       "    <tr>\n",
       "      <th>2</th>\n",
       "      <td>4467098784674</td>\n",
       "      <td>1</td>\n",
       "      <td>27.0</td>\n",
       "      <td>10000.0</td>\n",
       "      <td>477.80</td>\n",
       "      <td>6000.0</td>\n",
       "      <td>401.06</td>\n",
       "      <td>0.68</td>\n",
       "      <td>S</td>\n",
       "      <td>47.78</td>\n",
       "      <td>Arizona</td>\n",
       "      <td>6297.0</td>\n",
       "      <td>Premium</td>\n",
       "      <td>Master</td>\n",
       "      <td>Disabled</td>\n",
       "      <td>Urban</td>\n",
       "      <td>Branch</td>\n",
       "      <td>65</td>\n",
       "      <td>Corporate Auto</td>\n",
       "    </tr>\n",
       "    <tr>\n",
       "      <th>3</th>\n",
       "      <td>869569892903</td>\n",
       "      <td>0</td>\n",
       "      <td>27.0</td>\n",
       "      <td>10000.0</td>\n",
       "      <td>340.29</td>\n",
       "      <td>6000.0</td>\n",
       "      <td>304.35</td>\n",
       "      <td>7.19</td>\n",
       "      <td>M</td>\n",
       "      <td>34.03</td>\n",
       "      <td>Washington</td>\n",
       "      <td>8709.8</td>\n",
       "      <td>Premium</td>\n",
       "      <td>Bachelor</td>\n",
       "      <td>Employed</td>\n",
       "      <td>Rural</td>\n",
       "      <td>Call Center</td>\n",
       "      <td>47</td>\n",
       "      <td>Corporate Auto</td>\n",
       "    </tr>\n",
       "    <tr>\n",
       "      <th>4</th>\n",
       "      <td>2237607703548</td>\n",
       "      <td>1</td>\n",
       "      <td>18.0</td>\n",
       "      <td>8000.0</td>\n",
       "      <td>645.61</td>\n",
       "      <td>7000.0</td>\n",
       "      <td>345.25</td>\n",
       "      <td>0.43</td>\n",
       "      <td>M</td>\n",
       "      <td>64.56</td>\n",
       "      <td>Oregon</td>\n",
       "      <td>16675.9</td>\n",
       "      <td>Extended</td>\n",
       "      <td>Bachelor</td>\n",
       "      <td>Medical Leave</td>\n",
       "      <td>Urban</td>\n",
       "      <td>Web</td>\n",
       "      <td>89</td>\n",
       "      <td>Personal Auto</td>\n",
       "    </tr>\n",
       "  </tbody>\n",
       "</table>\n",
       "</div>"
      ],
      "text/plain": [
       "         cust_id  Sale  Driver_Age  Vehicle_Value   Price  Vehicle_Mileage  \\\n",
       "0  9447656335642     1         NaN         8000.0  447.64           4000.0   \n",
       "1  1123349069299     0        37.0         6000.0  252.39           5000.0   \n",
       "2  4467098784674     1        27.0        10000.0  477.80           6000.0   \n",
       "3   869569892903     0        27.0        10000.0  340.29           6000.0   \n",
       "4  2237607703548     1        18.0         8000.0  645.61           7000.0   \n",
       "\n",
       "   Credit_Score  Licence_Length_Years Marital_Status    Tax       State  \\\n",
       "0        409.44                  4.00              M  44.76  Washington   \n",
       "1        359.11                  4.42              M  25.24  California   \n",
       "2        401.06                  0.68              S  47.78     Arizona   \n",
       "3        304.35                  7.19              M  34.03  Washington   \n",
       "4        345.25                  0.43              M  64.56      Oregon   \n",
       "\n",
       "      CLTV Coverage_Type             Education Employment_Status  \\\n",
       "0   7319.6       Premium  High School or Below        Unemployed   \n",
       "1   9890.2      Extended              Bachelor          Employed   \n",
       "2   6297.0       Premium                Master          Disabled   \n",
       "3   8709.8       Premium              Bachelor          Employed   \n",
       "4  16675.9      Extended              Bachelor     Medical Leave   \n",
       "\n",
       "  Location_Code Sales_Channel  Months_Policy_Inception     Policy_Type  \n",
       "0         Urban         Agent                       87    Special Auto  \n",
       "1         Rural         Agent                       12   Personal Auto  \n",
       "2         Urban        Branch                       65  Corporate Auto  \n",
       "3         Rural   Call Center                       47  Corporate Auto  \n",
       "4         Urban           Web                       89   Personal Auto  "
      ]
     },
     "execution_count": 5,
     "metadata": {},
     "output_type": "execute_result"
    }
   ],
   "source": [
    "print(test_df.shape)\n",
    "test_df.head()"
   ]
  },
  {
   "cell_type": "markdown",
   "id": "5b3f54ec-6ab7-44b1-8588-3b5b2a14360c",
   "metadata": {},
   "source": [
    "### Splitting the training data into train and validation dataset  \n",
    "Now for building the machine learning model, we need to split the training data into training and validation datasets.  \n"
   ]
  },
  {
   "cell_type": "code",
   "execution_count": 6,
   "id": "a7915f82-6f68-44b9-a11d-7a25dec444d3",
   "metadata": {},
   "outputs": [],
   "source": [
    "train_df, val_df = train_test_split(df, test_size=0.1, random_state=36)"
   ]
  },
  {
   "cell_type": "code",
   "execution_count": 7,
   "id": "5042e31d-b6bc-4c66-96ff-1d93c2bd50f1",
   "metadata": {},
   "outputs": [],
   "source": [
    "# dropping rows with NA\n",
    "train_df = train_df.dropna()\n",
    "val_df = val_df.dropna()\n",
    "test_df = test_df.dropna()"
   ]
  },
  {
   "cell_type": "markdown",
   "id": "7df16005-3b08-4aec-be69-9b390b085884",
   "metadata": {},
   "source": [
    "## 1.2 Feature Engineering\n",
    "We split the labels from the features for all the dataset.  \n",
    "And then, we perform one-hot encoding for all the categorical variables."
   ]
  },
  {
   "cell_type": "code",
   "execution_count": 8,
   "id": "116ec74c-3eeb-49dd-b91d-5687b2cb60f4",
   "metadata": {},
   "outputs": [],
   "source": [
    "# split data into the features (X) and labels (y)\n",
    "\n",
    "# Training data\n",
    "X_train = train_df.iloc[:, 2:]\n",
    "Y_train = train_df.iloc[:, 1]\n",
    "\n",
    "# Validation data\n",
    "X_val = val_df.iloc[:, 2:]\n",
    "Y_val = val_df.iloc[:, 1]\n",
    "\n",
    "# Test data\n",
    "X_test = test_df.iloc[:, 2:]\n",
    "Y_test = test_df.iloc[:, 1]"
   ]
  },
  {
   "cell_type": "code",
   "execution_count": 9,
   "id": "59f85f2e-bf1b-4ead-83c6-d09b2a96ffb8",
   "metadata": {},
   "outputs": [],
   "source": [
    "# One hot encoding for categorical variables\n",
    "def OH_df(X):\n",
    "    one_hot = pd.get_dummies(X[\"Marital_Status\"])\n",
    "    X = X.drop(\"Marital_Status\", axis=1)\n",
    "    X = X.join(one_hot)\n",
    "\n",
    "    one_hot = pd.get_dummies(X[\"State\"])\n",
    "    X = X.drop(\"State\", axis=1)\n",
    "    X = X.join(one_hot)\n",
    "\n",
    "    one_hot = pd.get_dummies(X[\"Coverage_Type\"])\n",
    "    X = X.drop(\"Coverage_Type\", axis=1)\n",
    "    X = X.join(one_hot)\n",
    "\n",
    "    one_hot = pd.get_dummies(X[\"Education\"])\n",
    "    X = X.drop(\"Education\", axis=1)\n",
    "    X = X.join(one_hot)\n",
    "\n",
    "    one_hot = pd.get_dummies(X[\"Employment_Status\"])\n",
    "    X = X.drop(\"Employment_Status\", axis=1)\n",
    "    X = X.join(one_hot)\n",
    "\n",
    "    one_hot = pd.get_dummies(X[\"Location_Code\"])\n",
    "    X = X.drop(\"Location_Code\", axis=1)\n",
    "    X = X.join(one_hot)\n",
    "\n",
    "    one_hot = pd.get_dummies(X[\"Sales_Channel\"])\n",
    "    X = X.drop(\"Sales_Channel\", axis=1)\n",
    "    X = X.join(one_hot)\n",
    "\n",
    "    one_hot = pd.get_dummies(X[\"Policy_Type\"])\n",
    "    X = X.drop(\"Policy_Type\", axis=1)\n",
    "    X = X.join(one_hot)\n",
    "    return X"
   ]
  },
  {
   "cell_type": "code",
   "execution_count": 10,
   "id": "248d61d3-6780-4542-9a09-649bf0f4f3a9",
   "metadata": {},
   "outputs": [],
   "source": [
    "X_train = OH_df(X_train)\n",
    "X_val = OH_df(X_val)\n",
    "X_test = OH_df(X_test)"
   ]
  },
  {
   "cell_type": "markdown",
   "id": "3f87f049-7e7a-4dca-b442-00b399f0d28e",
   "metadata": {},
   "source": [
    "## 1.3 Time to do some predictive modelling!\n",
    "Here we will be testing the below models for the predictions:  \n",
    "1. Random forest classifier\n",
    "2. KNeighbors Classifier\n",
    "3. Gaussian Naive Bayes Classifier\n",
    "4. Support Vector Machine based Classifier\n",
    "5. XG Boost Classifier"
   ]
  },
  {
   "cell_type": "code",
   "execution_count": 11,
   "id": "2a30a3f6-2824-485f-8dbe-bad6d3235e8c",
   "metadata": {},
   "outputs": [],
   "source": [
    "rf = RandomForestClassifier(n_jobs=-1)\n",
    "knn = KNeighborsClassifier(n_jobs=-1)\n",
    "nb = GaussianNB()\n",
    "svm = SVC()\n",
    "xgbc = XGBClassifier(use_label_encoder=False)"
   ]
  },
  {
   "cell_type": "code",
   "execution_count": 12,
   "id": "30e241ab-a094-445c-96a4-7d2ae445e574",
   "metadata": {},
   "outputs": [],
   "source": [
    "model_list = [rf, knn, nb, svm, xgbc]"
   ]
  },
  {
   "cell_type": "code",
   "execution_count": 13,
   "id": "27ba1b95-6058-4f97-b630-f700e8bb5e29",
   "metadata": {},
   "outputs": [
    {
     "name": "stderr",
     "output_type": "stream",
     "text": [
      "C:\\Users\\Yeo Hui Fang\\AppData\\Local\\pypoetry\\Cache\\virtualenvs\\notebooks-bWtx623B-py3.9\\lib\\site-packages\\xgboost\\data.py:262: FutureWarning: pandas.Int64Index is deprecated and will be removed from pandas in a future version. Use pandas.Index with the appropriate dtype instead.\n",
      "  elif isinstance(data.columns, (pd.Int64Index, pd.RangeIndex)):\n"
     ]
    },
    {
     "name": "stdout",
     "output_type": "stream",
     "text": [
      "[18:12:12] WARNING: C:/Users/Administrator/workspace/xgboost-win64_release_1.5.1/src/learner.cc:1115: Starting in XGBoost 1.3.0, the default evaluation metric used with the objective 'binary:logistic' was changed from 'error' to 'logloss'. Explicitly set eval_metric if you'd like to restore the old behavior.\n"
     ]
    }
   ],
   "source": [
    "# Training the models on the training dataset\n",
    "models = []\n",
    "f1 = []\n",
    "roc_auc = []\n",
    "recall = []\n",
    "\n",
    "for estimator in model_list:\n",
    "\n",
    "    estimator.fit(X_train, Y_train.values.ravel())\n",
    "    result = estimator.predict(X_val)\n",
    "\n",
    "    models.append(estimator)\n",
    "    f1.append(f1_score(Y_val, result))\n",
    "    recall.append(recall_score(Y_val, result))\n",
    "    roc_auc.append(roc_auc_score(Y_val, result))"
   ]
  },
  {
   "cell_type": "code",
   "execution_count": 14,
   "id": "25ef2b61-0999-4ee7-bcd0-856117260596",
   "metadata": {},
   "outputs": [
    {
     "data": {
      "text/html": [
       "<div>\n",
       "<style scoped>\n",
       "    .dataframe tbody tr th:only-of-type {\n",
       "        vertical-align: middle;\n",
       "    }\n",
       "\n",
       "    .dataframe tbody tr th {\n",
       "        vertical-align: top;\n",
       "    }\n",
       "\n",
       "    .dataframe thead th {\n",
       "        text-align: right;\n",
       "    }\n",
       "</style>\n",
       "<table border=\"1\" class=\"dataframe\">\n",
       "  <thead>\n",
       "    <tr style=\"text-align: right;\">\n",
       "      <th></th>\n",
       "      <th>model_name</th>\n",
       "      <th>f1_score</th>\n",
       "      <th>roc_auc_score</th>\n",
       "      <th>recall</th>\n",
       "    </tr>\n",
       "  </thead>\n",
       "  <tbody>\n",
       "    <tr>\n",
       "      <th>0</th>\n",
       "      <td>(DecisionTreeClassifier(max_features='auto', r...</td>\n",
       "      <td>0.933487</td>\n",
       "      <td>0.874309</td>\n",
       "      <td>0.951172</td>\n",
       "    </tr>\n",
       "    <tr>\n",
       "      <th>1</th>\n",
       "      <td>KNeighborsClassifier(n_jobs=-1)</td>\n",
       "      <td>0.860897</td>\n",
       "      <td>0.731611</td>\n",
       "      <td>0.895703</td>\n",
       "    </tr>\n",
       "    <tr>\n",
       "      <th>2</th>\n",
       "      <td>GaussianNB()</td>\n",
       "      <td>0.907729</td>\n",
       "      <td>0.853806</td>\n",
       "      <td>0.899219</td>\n",
       "    </tr>\n",
       "    <tr>\n",
       "      <th>3</th>\n",
       "      <td>SVC()</td>\n",
       "      <td>0.893333</td>\n",
       "      <td>0.751059</td>\n",
       "      <td>0.968359</td>\n",
       "    </tr>\n",
       "    <tr>\n",
       "      <th>4</th>\n",
       "      <td>XGBClassifier(base_score=0.5, booster='gbtree'...</td>\n",
       "      <td>0.936097</td>\n",
       "      <td>0.879652</td>\n",
       "      <td>0.952734</td>\n",
       "    </tr>\n",
       "  </tbody>\n",
       "</table>\n",
       "</div>"
      ],
      "text/plain": [
       "                                          model_name  f1_score  roc_auc_score  \\\n",
       "0  (DecisionTreeClassifier(max_features='auto', r...  0.933487       0.874309   \n",
       "1                    KNeighborsClassifier(n_jobs=-1)  0.860897       0.731611   \n",
       "2                                       GaussianNB()  0.907729       0.853806   \n",
       "3                                              SVC()  0.893333       0.751059   \n",
       "4  XGBClassifier(base_score=0.5, booster='gbtree'...  0.936097       0.879652   \n",
       "\n",
       "     recall  \n",
       "0  0.951172  \n",
       "1  0.895703  \n",
       "2  0.899219  \n",
       "3  0.968359  \n",
       "4  0.952734  "
      ]
     },
     "execution_count": 14,
     "metadata": {},
     "output_type": "execute_result"
    }
   ],
   "source": [
    "# Compiling the results from all the models on the validation dataset\n",
    "\n",
    "df_results = pd.DataFrame(\n",
    "    {\"model_name\": models, \"f1_score\": f1, \"roc_auc_score\": roc_auc, \"recall\": recall}\n",
    ")\n",
    "df_results.head(10)"
   ]
  },
  {
   "cell_type": "markdown",
   "id": "8f56c6ff-8a9e-4ddb-8277-31ffd25dedd0",
   "metadata": {},
   "source": [
    "**Hence for this dataset, the best model is XGBClassifier with an F1 of 0.934 and recall of 0.948 on the validation dataset.**"
   ]
  },
  {
   "cell_type": "markdown",
   "id": "ed7e636b-45fe-46ff-944e-3819e70f76dc",
   "metadata": {},
   "source": [
    "### 1.4 Find the importance of the various features in the model.\n",
    "Here the hypothesis is, amongst other factors, price should be a very critical factor in deciding whether a customer buys a quote or not.  \n"
   ]
  },
  {
   "cell_type": "code",
   "execution_count": 15,
   "id": "8549748e-c8f0-4052-875a-3c34e5bffd2a",
   "metadata": {},
   "outputs": [
    {
     "name": "stdout",
     "output_type": "stream",
     "text": [
      "['Price', 0.20924321]\n",
      "['Driver_Age', 0.06532796]\n",
      "['Employed', 0.061190005]\n",
      "['Personal Auto', 0.056500446]\n",
      "['Suburban', 0.04785541]\n",
      "['Special Auto', 0.0455167]\n",
      "['Premium', 0.036693245]\n",
      "['Unemployed', 0.034293536]\n",
      "['Basic', 0.033415023]\n",
      "['Master', 0.032274764]\n"
     ]
    }
   ],
   "source": [
    "# Finding feature importance from the model\n",
    "\n",
    "sorted_idx = np.argsort(xgbc.feature_importances_)[::-1]\n",
    "\n",
    "# Finding the top 10 features contributing to the results\n",
    "for index in sorted_idx[:10]:\n",
    "    print([X_train.columns[index], xgbc.feature_importances_[index]])"
   ]
  },
  {
   "cell_type": "markdown",
   "id": "9e1a9220-35a4-4486-a2f8-8b52601b8683",
   "metadata": {},
   "source": [
    "### Hence, Price is the most important feature - which makes business sense and goes completely with our hypothesis.\n",
    "\n",
    "It is important to note that price of the quote has **4 times** more predictive power than the second next feature and **10 times** more predictive than the 10th feature in the list."
   ]
  },
  {
   "cell_type": "markdown",
   "id": "2bbcab7c-75fe-40a9-9897-61800aa6b6cf",
   "metadata": {},
   "source": [
    "Now since we have established that price is one of the most important feature to predict sale, let us try to find the correlation between   price and sales using OLS."
   ]
  },
  {
   "cell_type": "code",
   "execution_count": 16,
   "id": "0149536a-4cdb-452d-a7fe-fb9a84b700e4",
   "metadata": {
    "tags": []
   },
   "outputs": [
    {
     "data": {
      "text/html": [
       "<table class=\"simpletable\">\n",
       "<caption>OLS Regression Results</caption>\n",
       "<tr>\n",
       "  <th>Dep. Variable:</th>          <td>Sale</td>       <th>  R-squared:         </th> <td>   0.556</td> \n",
       "</tr>\n",
       "<tr>\n",
       "  <th>Model:</th>                   <td>OLS</td>       <th>  Adj. R-squared:    </th> <td>   0.555</td> \n",
       "</tr>\n",
       "<tr>\n",
       "  <th>Method:</th>             <td>Least Squares</td>  <th>  F-statistic:       </th> <td>   1299.</td> \n",
       "</tr>\n",
       "<tr>\n",
       "  <th>Date:</th>             <td>Fri, 01 Apr 2022</td> <th>  Prob (F-statistic):</th>  <td>  0.00</td>  \n",
       "</tr>\n",
       "<tr>\n",
       "  <th>Time:</th>                 <td>18:12:16</td>     <th>  Log-Likelihood:    </th> <td> -7876.8</td> \n",
       "</tr>\n",
       "<tr>\n",
       "  <th>No. Observations:</th>      <td> 33264</td>      <th>  AIC:               </th> <td>1.582e+04</td>\n",
       "</tr>\n",
       "<tr>\n",
       "  <th>Df Residuals:</th>          <td> 33231</td>      <th>  BIC:               </th> <td>1.610e+04</td>\n",
       "</tr>\n",
       "<tr>\n",
       "  <th>Df Model:</th>              <td>    32</td>      <th>                     </th>     <td> </td>    \n",
       "</tr>\n",
       "<tr>\n",
       "  <th>Covariance Type:</th>      <td>nonrobust</td>    <th>                     </th>     <td> </td>    \n",
       "</tr>\n",
       "</table>\n",
       "<table class=\"simpletable\">\n",
       "<tr>\n",
       "             <td></td>                <th>coef</th>     <th>std err</th>      <th>t</th>      <th>P>|t|</th>  <th>[0.025</th>    <th>0.975]</th>  \n",
       "</tr>\n",
       "<tr>\n",
       "  <th>Driver_Age</th>              <td>   -0.0139</td> <td>    0.000</td> <td>  -45.113</td> <td> 0.000</td> <td>   -0.015</td> <td>   -0.013</td>\n",
       "</tr>\n",
       "<tr>\n",
       "  <th>Vehicle_Value</th>           <td> 2.274e-06</td> <td>    1e-06</td> <td>    2.263</td> <td> 0.024</td> <td> 3.05e-07</td> <td> 4.24e-06</td>\n",
       "</tr>\n",
       "<tr>\n",
       "  <th>Price</th>                   <td>    0.0022</td> <td> 2.06e-05</td> <td>  108.697</td> <td> 0.000</td> <td>    0.002</td> <td>    0.002</td>\n",
       "</tr>\n",
       "<tr>\n",
       "  <th>Vehicle_Mileage</th>         <td>-3.099e-05</td> <td> 1.26e-06</td> <td>  -24.579</td> <td> 0.000</td> <td>-3.35e-05</td> <td>-2.85e-05</td>\n",
       "</tr>\n",
       "<tr>\n",
       "  <th>Credit_Score</th>            <td>-2.296e-06</td> <td> 1.76e-06</td> <td>   -1.307</td> <td> 0.191</td> <td>-5.74e-06</td> <td> 1.15e-06</td>\n",
       "</tr>\n",
       "<tr>\n",
       "  <th>Licence_Length_Years</th>    <td>    0.0089</td> <td>    0.001</td> <td>   12.759</td> <td> 0.000</td> <td>    0.008</td> <td>    0.010</td>\n",
       "</tr>\n",
       "<tr>\n",
       "  <th>Tax</th>                     <td>   -0.0025</td> <td>    0.000</td> <td>  -15.158</td> <td> 0.000</td> <td>   -0.003</td> <td>   -0.002</td>\n",
       "</tr>\n",
       "<tr>\n",
       "  <th>CLTV</th>                    <td>-1.203e-07</td> <td> 2.46e-07</td> <td>   -0.490</td> <td> 0.624</td> <td>-6.02e-07</td> <td> 3.61e-07</td>\n",
       "</tr>\n",
       "<tr>\n",
       "  <th>Months_Policy_Inception</th> <td> 2.933e-05</td> <td>  5.9e-05</td> <td>    0.497</td> <td> 0.619</td> <td>-8.63e-05</td> <td>    0.000</td>\n",
       "</tr>\n",
       "<tr>\n",
       "  <th>D</th>                       <td>    0.0251</td> <td>    0.005</td> <td>    5.350</td> <td> 0.000</td> <td>    0.016</td> <td>    0.034</td>\n",
       "</tr>\n",
       "<tr>\n",
       "  <th>M</th>                       <td>    0.0262</td> <td>    0.004</td> <td>    7.411</td> <td> 0.000</td> <td>    0.019</td> <td>    0.033</td>\n",
       "</tr>\n",
       "<tr>\n",
       "  <th>S</th>                       <td>    0.0295</td> <td>    0.004</td> <td>    8.199</td> <td> 0.000</td> <td>    0.022</td> <td>    0.037</td>\n",
       "</tr>\n",
       "<tr>\n",
       "  <th>Arizona</th>                 <td>    0.0138</td> <td>    0.004</td> <td>    3.685</td> <td> 0.000</td> <td>    0.006</td> <td>    0.021</td>\n",
       "</tr>\n",
       "<tr>\n",
       "  <th>California</th>              <td>   -0.0147</td> <td>    0.004</td> <td>   -4.149</td> <td> 0.000</td> <td>   -0.022</td> <td>   -0.008</td>\n",
       "</tr>\n",
       "<tr>\n",
       "  <th>Nevada</th>                  <td>    0.0400</td> <td>    0.004</td> <td>   10.447</td> <td> 0.000</td> <td>    0.033</td> <td>    0.048</td>\n",
       "</tr>\n",
       "<tr>\n",
       "  <th>Oregon</th>                  <td>   -0.0042</td> <td>    0.004</td> <td>   -1.166</td> <td> 0.244</td> <td>   -0.011</td> <td>    0.003</td>\n",
       "</tr>\n",
       "<tr>\n",
       "  <th>Washington</th>              <td>    0.0459</td> <td>    0.004</td> <td>   11.818</td> <td> 0.000</td> <td>    0.038</td> <td>    0.054</td>\n",
       "</tr>\n",
       "<tr>\n",
       "  <th>Basic</th>                   <td>   -0.0103</td> <td>    0.003</td> <td>   -2.984</td> <td> 0.003</td> <td>   -0.017</td> <td>   -0.004</td>\n",
       "</tr>\n",
       "<tr>\n",
       "  <th>Extended</th>                <td>    0.0259</td> <td>    0.004</td> <td>    7.353</td> <td> 0.000</td> <td>    0.019</td> <td>    0.033</td>\n",
       "</tr>\n",
       "<tr>\n",
       "  <th>Premium</th>                 <td>    0.0652</td> <td>    0.004</td> <td>   17.918</td> <td> 0.000</td> <td>    0.058</td> <td>    0.072</td>\n",
       "</tr>\n",
       "<tr>\n",
       "  <th>Bachelor</th>                <td>   -0.0075</td> <td>    0.004</td> <td>   -2.083</td> <td> 0.037</td> <td>   -0.015</td> <td>   -0.000</td>\n",
       "</tr>\n",
       "<tr>\n",
       "  <th>College</th>                 <td>   -0.0071</td> <td>    0.004</td> <td>   -1.960</td> <td> 0.050</td> <td>   -0.014</td> <td> -9.3e-07</td>\n",
       "</tr>\n",
       "<tr>\n",
       "  <th>Doctor</th>                  <td>    0.0557</td> <td>    0.004</td> <td>   14.131</td> <td> 0.000</td> <td>    0.048</td> <td>    0.063</td>\n",
       "</tr>\n",
       "<tr>\n",
       "  <th>High School or Below</th>    <td>   -0.0033</td> <td>    0.004</td> <td>   -0.898</td> <td> 0.369</td> <td>   -0.010</td> <td>    0.004</td>\n",
       "</tr>\n",
       "<tr>\n",
       "  <th>Master</th>                  <td>    0.0430</td> <td>    0.004</td> <td>   11.049</td> <td> 0.000</td> <td>    0.035</td> <td>    0.051</td>\n",
       "</tr>\n",
       "<tr>\n",
       "  <th>Disabled</th>                <td>    0.0445</td> <td>    0.004</td> <td>   11.246</td> <td> 0.000</td> <td>    0.037</td> <td>    0.052</td>\n",
       "</tr>\n",
       "<tr>\n",
       "  <th>Employed</th>                <td>   -0.0770</td> <td>    0.003</td> <td>  -22.761</td> <td> 0.000</td> <td>   -0.084</td> <td>   -0.070</td>\n",
       "</tr>\n",
       "<tr>\n",
       "  <th>Medical Leave</th>           <td>    0.0549</td> <td>    0.004</td> <td>   13.991</td> <td> 0.000</td> <td>    0.047</td> <td>    0.063</td>\n",
       "</tr>\n",
       "<tr>\n",
       "  <th>Retired</th>                 <td>    0.0638</td> <td>    0.004</td> <td>   16.011</td> <td> 0.000</td> <td>    0.056</td> <td>    0.072</td>\n",
       "</tr>\n",
       "<tr>\n",
       "  <th>Unemployed</th>              <td>   -0.0054</td> <td>    0.004</td> <td>   -1.476</td> <td> 0.140</td> <td>   -0.013</td> <td>    0.002</td>\n",
       "</tr>\n",
       "<tr>\n",
       "  <th>Rural</th>                   <td>    0.0486</td> <td>    0.004</td> <td>   13.573</td> <td> 0.000</td> <td>    0.042</td> <td>    0.056</td>\n",
       "</tr>\n",
       "<tr>\n",
       "  <th>Suburban</th>                <td>   -0.0182</td> <td>    0.003</td> <td>   -5.312</td> <td> 0.000</td> <td>   -0.025</td> <td>   -0.012</td>\n",
       "</tr>\n",
       "<tr>\n",
       "  <th>Urban</th>                   <td>    0.0505</td> <td>    0.004</td> <td>   14.086</td> <td> 0.000</td> <td>    0.043</td> <td>    0.058</td>\n",
       "</tr>\n",
       "<tr>\n",
       "  <th>Agent</th>                   <td>   -0.0005</td> <td>    0.003</td> <td>   -0.144</td> <td> 0.885</td> <td>   -0.007</td> <td>    0.006</td>\n",
       "</tr>\n",
       "<tr>\n",
       "  <th>Branch</th>                  <td>    0.0156</td> <td>    0.003</td> <td>    4.484</td> <td> 0.000</td> <td>    0.009</td> <td>    0.022</td>\n",
       "</tr>\n",
       "<tr>\n",
       "  <th>Call Center</th>             <td>    0.0308</td> <td>    0.004</td> <td>    8.693</td> <td> 0.000</td> <td>    0.024</td> <td>    0.038</td>\n",
       "</tr>\n",
       "<tr>\n",
       "  <th>Web</th>                     <td>    0.0349</td> <td>    0.004</td> <td>    9.721</td> <td> 0.000</td> <td>    0.028</td> <td>    0.042</td>\n",
       "</tr>\n",
       "<tr>\n",
       "  <th>Corporate Auto</th>          <td>    0.0393</td> <td>    0.004</td> <td>   10.999</td> <td> 0.000</td> <td>    0.032</td> <td>    0.046</td>\n",
       "</tr>\n",
       "<tr>\n",
       "  <th>Personal Auto</th>           <td>   -0.0354</td> <td>    0.003</td> <td>  -10.371</td> <td> 0.000</td> <td>   -0.042</td> <td>   -0.029</td>\n",
       "</tr>\n",
       "<tr>\n",
       "  <th>Special Auto</th>            <td>    0.0769</td> <td>    0.004</td> <td>   21.025</td> <td> 0.000</td> <td>    0.070</td> <td>    0.084</td>\n",
       "</tr>\n",
       "</table>\n",
       "<table class=\"simpletable\">\n",
       "<tr>\n",
       "  <th>Omnibus:</th>       <td>474.556</td> <th>  Durbin-Watson:     </th> <td>   2.000</td> \n",
       "</tr>\n",
       "<tr>\n",
       "  <th>Prob(Omnibus):</th> <td> 0.000</td>  <th>  Jarque-Bera (JB):  </th> <td> 494.973</td> \n",
       "</tr>\n",
       "<tr>\n",
       "  <th>Skew:</th>          <td>-0.299</td>  <th>  Prob(JB):          </th> <td>3.30e-108</td>\n",
       "</tr>\n",
       "<tr>\n",
       "  <th>Kurtosis:</th>      <td> 2.990</td>  <th>  Cond. No.          </th> <td>1.80e+19</td> \n",
       "</tr>\n",
       "</table><br/><br/>Notes:<br/>[1] Standard Errors assume that the covariance matrix of the errors is correctly specified.<br/>[2] The smallest eigenvalue is 2.11e-26. This might indicate that there are<br/>strong multicollinearity problems or that the design matrix is singular."
      ],
      "text/plain": [
       "<class 'statsmodels.iolib.summary.Summary'>\n",
       "\"\"\"\n",
       "                            OLS Regression Results                            \n",
       "==============================================================================\n",
       "Dep. Variable:                   Sale   R-squared:                       0.556\n",
       "Model:                            OLS   Adj. R-squared:                  0.555\n",
       "Method:                 Least Squares   F-statistic:                     1299.\n",
       "Date:                Fri, 01 Apr 2022   Prob (F-statistic):               0.00\n",
       "Time:                        18:12:16   Log-Likelihood:                -7876.8\n",
       "No. Observations:               33264   AIC:                         1.582e+04\n",
       "Df Residuals:                   33231   BIC:                         1.610e+04\n",
       "Df Model:                          32                                         \n",
       "Covariance Type:            nonrobust                                         \n",
       "===========================================================================================\n",
       "                              coef    std err          t      P>|t|      [0.025      0.975]\n",
       "-------------------------------------------------------------------------------------------\n",
       "Driver_Age                 -0.0139      0.000    -45.113      0.000      -0.015      -0.013\n",
       "Vehicle_Value            2.274e-06      1e-06      2.263      0.024    3.05e-07    4.24e-06\n",
       "Price                       0.0022   2.06e-05    108.697      0.000       0.002       0.002\n",
       "Vehicle_Mileage         -3.099e-05   1.26e-06    -24.579      0.000   -3.35e-05   -2.85e-05\n",
       "Credit_Score            -2.296e-06   1.76e-06     -1.307      0.191   -5.74e-06    1.15e-06\n",
       "Licence_Length_Years        0.0089      0.001     12.759      0.000       0.008       0.010\n",
       "Tax                        -0.0025      0.000    -15.158      0.000      -0.003      -0.002\n",
       "CLTV                    -1.203e-07   2.46e-07     -0.490      0.624   -6.02e-07    3.61e-07\n",
       "Months_Policy_Inception  2.933e-05    5.9e-05      0.497      0.619   -8.63e-05       0.000\n",
       "D                           0.0251      0.005      5.350      0.000       0.016       0.034\n",
       "M                           0.0262      0.004      7.411      0.000       0.019       0.033\n",
       "S                           0.0295      0.004      8.199      0.000       0.022       0.037\n",
       "Arizona                     0.0138      0.004      3.685      0.000       0.006       0.021\n",
       "California                 -0.0147      0.004     -4.149      0.000      -0.022      -0.008\n",
       "Nevada                      0.0400      0.004     10.447      0.000       0.033       0.048\n",
       "Oregon                     -0.0042      0.004     -1.166      0.244      -0.011       0.003\n",
       "Washington                  0.0459      0.004     11.818      0.000       0.038       0.054\n",
       "Basic                      -0.0103      0.003     -2.984      0.003      -0.017      -0.004\n",
       "Extended                    0.0259      0.004      7.353      0.000       0.019       0.033\n",
       "Premium                     0.0652      0.004     17.918      0.000       0.058       0.072\n",
       "Bachelor                   -0.0075      0.004     -2.083      0.037      -0.015      -0.000\n",
       "College                    -0.0071      0.004     -1.960      0.050      -0.014    -9.3e-07\n",
       "Doctor                      0.0557      0.004     14.131      0.000       0.048       0.063\n",
       "High School or Below       -0.0033      0.004     -0.898      0.369      -0.010       0.004\n",
       "Master                      0.0430      0.004     11.049      0.000       0.035       0.051\n",
       "Disabled                    0.0445      0.004     11.246      0.000       0.037       0.052\n",
       "Employed                   -0.0770      0.003    -22.761      0.000      -0.084      -0.070\n",
       "Medical Leave               0.0549      0.004     13.991      0.000       0.047       0.063\n",
       "Retired                     0.0638      0.004     16.011      0.000       0.056       0.072\n",
       "Unemployed                 -0.0054      0.004     -1.476      0.140      -0.013       0.002\n",
       "Rural                       0.0486      0.004     13.573      0.000       0.042       0.056\n",
       "Suburban                   -0.0182      0.003     -5.312      0.000      -0.025      -0.012\n",
       "Urban                       0.0505      0.004     14.086      0.000       0.043       0.058\n",
       "Agent                      -0.0005      0.003     -0.144      0.885      -0.007       0.006\n",
       "Branch                      0.0156      0.003      4.484      0.000       0.009       0.022\n",
       "Call Center                 0.0308      0.004      8.693      0.000       0.024       0.038\n",
       "Web                         0.0349      0.004      9.721      0.000       0.028       0.042\n",
       "Corporate Auto              0.0393      0.004     10.999      0.000       0.032       0.046\n",
       "Personal Auto              -0.0354      0.003    -10.371      0.000      -0.042      -0.029\n",
       "Special Auto                0.0769      0.004     21.025      0.000       0.070       0.084\n",
       "==============================================================================\n",
       "Omnibus:                      474.556   Durbin-Watson:                   2.000\n",
       "Prob(Omnibus):                  0.000   Jarque-Bera (JB):              494.973\n",
       "Skew:                          -0.299   Prob(JB):                    3.30e-108\n",
       "Kurtosis:                       2.990   Cond. No.                     1.80e+19\n",
       "==============================================================================\n",
       "\n",
       "Notes:\n",
       "[1] Standard Errors assume that the covariance matrix of the errors is correctly specified.\n",
       "[2] The smallest eigenvalue is 2.11e-26. This might indicate that there are\n",
       "strong multicollinearity problems or that the design matrix is singular.\n",
       "\"\"\""
      ]
     },
     "execution_count": 16,
     "metadata": {},
     "output_type": "execute_result"
    }
   ],
   "source": [
    "# Verifying these findings by using an OLS model\n",
    "model = sm.OLS(Y_train, X_train)\n",
    "results = model.fit()\n",
    "results.summary()"
   ]
  },
  {
   "cell_type": "markdown",
   "id": "9ffb0ee1-26c3-4c23-ae4a-cd249b1bffbd",
   "metadata": {},
   "source": [
    "Here, we can see that the **price is positively correlated with the sales.** This means the policies which were quoted a higher price had a better chance to be bought.  \n",
    "This means they were probably specialized policies and for the policies with normal vehicles, we lose to the competitors. "
   ]
  },
  {
   "cell_type": "markdown",
   "id": "696ec842-4963-4669-a9b8-c85ccfe14769",
   "metadata": {},
   "source": [
    "### Making predictions on the test dataset  \n",
    "\n",
    "We shall be using the best model from the list i.e. XGBoost Classifier model to make predictions on the test dataset "
   ]
  },
  {
   "cell_type": "code",
   "execution_count": 17,
   "id": "6972742f-5acd-4c78-a634-c310944494ff",
   "metadata": {},
   "outputs": [
    {
     "name": "stdout",
     "output_type": "stream",
     "text": [
      "F1 score for test data is: 0.9372835706040786\n",
      "Recall for test data is: 0.9468283582089553\n",
      "ROC AUC Score for test data is: 0.8882503332276322\n"
     ]
    },
    {
     "name": "stderr",
     "output_type": "stream",
     "text": [
      "C:\\Users\\Yeo Hui Fang\\AppData\\Local\\pypoetry\\Cache\\virtualenvs\\notebooks-bWtx623B-py3.9\\lib\\site-packages\\xgboost\\data.py:262: FutureWarning: pandas.Int64Index is deprecated and will be removed from pandas in a future version. Use pandas.Index with the appropriate dtype instead.\n",
      "  elif isinstance(data.columns, (pd.Int64Index, pd.RangeIndex)):\n"
     ]
    }
   ],
   "source": [
    "test_result = xgbc.predict(X_test)\n",
    "\n",
    "print(\"F1 score for test data is:\", f1_score(Y_test, test_result))\n",
    "print(\"Recall for test data is:\", recall_score(Y_test, test_result))\n",
    "print(\"ROC AUC Score for test data is:\", roc_auc_score(Y_test, test_result))"
   ]
  },
  {
   "cell_type": "markdown",
   "id": "5cfc5c61-9f05-425c-afb2-5ebbc1ecd4e3",
   "metadata": {
    "tags": []
   },
   "source": [
    "# Part 2: Identifying and visualising the KPIs  \n",
    "\n",
    "In oder to understand what is the business implications of the model predictions we will use atoti to create widgets.  \n",
    "\n",
    "### 2.1 We will start by creating the dataframe which can be laoded into atoti"
   ]
  },
  {
   "cell_type": "code",
   "execution_count": 18,
   "id": "b5abd1f1-9a2d-4385-9848-c6af46d0769a",
   "metadata": {},
   "outputs": [],
   "source": [
    "# Adding the sales prediction column to the test dataset\n",
    "prediction_df = test_df.copy()\n",
    "prediction_df.drop(\"Sale\", axis=1, inplace=True)\n",
    "prediction_df[\"Sales_prediction\"] = test_result.tolist()"
   ]
  },
  {
   "cell_type": "code",
   "execution_count": 19,
   "id": "91d69097-b300-41dd-b299-779570d8abba",
   "metadata": {
    "tags": []
   },
   "outputs": [
    {
     "name": "stderr",
     "output_type": "stream",
     "text": [
      "C:\\Users\\Yeo Hui Fang\\AppData\\Local\\pypoetry\\Cache\\virtualenvs\\notebooks-bWtx623B-py3.9\\lib\\site-packages\\xgboost\\data.py:262: FutureWarning: pandas.Int64Index is deprecated and will be removed from pandas in a future version. Use pandas.Index with the appropriate dtype instead.\n",
      "  elif isinstance(data.columns, (pd.Int64Index, pd.RangeIndex)):\n"
     ]
    }
   ],
   "source": [
    "# finding the prediction probability from the model\n",
    "\n",
    "xbg_predictions = xgbc.predict_proba(X_test)\n",
    "probability = []\n",
    "for i in range(len(xbg_predictions)):\n",
    "    probability.append(xbg_predictions[i][1])"
   ]
  },
  {
   "cell_type": "code",
   "execution_count": 20,
   "id": "158681aa-84ee-49d3-965a-e94c2a8cd5d6",
   "metadata": {},
   "outputs": [],
   "source": [
    "# Adding the column for the sales probability\n",
    "\n",
    "prediction_df[\"sales_prediction_probability\"] = probability"
   ]
  },
  {
   "cell_type": "markdown",
   "id": "ef78a4ec-e0a8-4ffb-a0c4-48a156046ad9",
   "metadata": {},
   "source": [
    "### 2.2 Creating the session in atoti\n",
    "\n",
    "Creating a session - it spins up an in-memory database - similar to Apache Spark - ready to slice’n’dice your big data set.  \n",
    "In addition to that, it launches a dashboarding Tableau-like web-app\n"
   ]
  },
  {
   "cell_type": "code",
   "execution_count": 21,
   "id": "bf504042-e21d-44ac-90c8-822cbb636722",
   "metadata": {},
   "outputs": [],
   "source": [
    "session = tt.Session(user_content_storage=\"content\")"
   ]
  },
  {
   "cell_type": "code",
   "execution_count": 22,
   "id": "b3378755-13e9-41d0-bb00-9b212d7cec3c",
   "metadata": {},
   "outputs": [
    {
     "data": {
      "text/html": [
       "<div>\n",
       "<style scoped>\n",
       "    .dataframe tbody tr th:only-of-type {\n",
       "        vertical-align: middle;\n",
       "    }\n",
       "\n",
       "    .dataframe tbody tr th {\n",
       "        vertical-align: top;\n",
       "    }\n",
       "\n",
       "    .dataframe thead th {\n",
       "        text-align: right;\n",
       "    }\n",
       "</style>\n",
       "<table border=\"1\" class=\"dataframe\">\n",
       "  <thead>\n",
       "    <tr style=\"text-align: right;\">\n",
       "      <th></th>\n",
       "      <th>Driver_Age</th>\n",
       "      <th>Vehicle_Value</th>\n",
       "      <th>Price</th>\n",
       "      <th>Vehicle_Mileage</th>\n",
       "      <th>Credit_Score</th>\n",
       "      <th>Licence_Length_Years</th>\n",
       "      <th>Marital_Status</th>\n",
       "      <th>Tax</th>\n",
       "      <th>State</th>\n",
       "      <th>CLTV</th>\n",
       "      <th>Coverage_Type</th>\n",
       "      <th>Education</th>\n",
       "      <th>Employment_Status</th>\n",
       "      <th>Location_Code</th>\n",
       "      <th>Sales_Channel</th>\n",
       "      <th>Months_Policy_Inception</th>\n",
       "      <th>Policy_Type</th>\n",
       "      <th>Sales_prediction</th>\n",
       "      <th>sales_prediction_probability</th>\n",
       "    </tr>\n",
       "    <tr>\n",
       "      <th>cust_id</th>\n",
       "      <th></th>\n",
       "      <th></th>\n",
       "      <th></th>\n",
       "      <th></th>\n",
       "      <th></th>\n",
       "      <th></th>\n",
       "      <th></th>\n",
       "      <th></th>\n",
       "      <th></th>\n",
       "      <th></th>\n",
       "      <th></th>\n",
       "      <th></th>\n",
       "      <th></th>\n",
       "      <th></th>\n",
       "      <th></th>\n",
       "      <th></th>\n",
       "      <th></th>\n",
       "      <th></th>\n",
       "      <th></th>\n",
       "    </tr>\n",
       "  </thead>\n",
       "  <tbody>\n",
       "    <tr>\n",
       "      <th>1123349069299</th>\n",
       "      <td>37.0</td>\n",
       "      <td>6000.0</td>\n",
       "      <td>252.39</td>\n",
       "      <td>5000.0</td>\n",
       "      <td>359.11</td>\n",
       "      <td>4.42</td>\n",
       "      <td>M</td>\n",
       "      <td>25.24</td>\n",
       "      <td>California</td>\n",
       "      <td>9890.2</td>\n",
       "      <td>Extended</td>\n",
       "      <td>Bachelor</td>\n",
       "      <td>Employed</td>\n",
       "      <td>Rural</td>\n",
       "      <td>Agent</td>\n",
       "      <td>12</td>\n",
       "      <td>Personal Auto</td>\n",
       "      <td>0</td>\n",
       "      <td>0.001590</td>\n",
       "    </tr>\n",
       "    <tr>\n",
       "      <th>4467098784674</th>\n",
       "      <td>27.0</td>\n",
       "      <td>10000.0</td>\n",
       "      <td>477.80</td>\n",
       "      <td>6000.0</td>\n",
       "      <td>401.06</td>\n",
       "      <td>0.68</td>\n",
       "      <td>S</td>\n",
       "      <td>47.78</td>\n",
       "      <td>Arizona</td>\n",
       "      <td>6297.0</td>\n",
       "      <td>Premium</td>\n",
       "      <td>Master</td>\n",
       "      <td>Disabled</td>\n",
       "      <td>Urban</td>\n",
       "      <td>Branch</td>\n",
       "      <td>65</td>\n",
       "      <td>Corporate Auto</td>\n",
       "      <td>1</td>\n",
       "      <td>0.766472</td>\n",
       "    </tr>\n",
       "    <tr>\n",
       "      <th>869569892903</th>\n",
       "      <td>27.0</td>\n",
       "      <td>10000.0</td>\n",
       "      <td>340.29</td>\n",
       "      <td>6000.0</td>\n",
       "      <td>304.35</td>\n",
       "      <td>7.19</td>\n",
       "      <td>M</td>\n",
       "      <td>34.03</td>\n",
       "      <td>Washington</td>\n",
       "      <td>8709.8</td>\n",
       "      <td>Premium</td>\n",
       "      <td>Bachelor</td>\n",
       "      <td>Employed</td>\n",
       "      <td>Rural</td>\n",
       "      <td>Call Center</td>\n",
       "      <td>47</td>\n",
       "      <td>Corporate Auto</td>\n",
       "      <td>0</td>\n",
       "      <td>0.115257</td>\n",
       "    </tr>\n",
       "    <tr>\n",
       "      <th>2237607703548</th>\n",
       "      <td>18.0</td>\n",
       "      <td>8000.0</td>\n",
       "      <td>645.61</td>\n",
       "      <td>7000.0</td>\n",
       "      <td>345.25</td>\n",
       "      <td>0.43</td>\n",
       "      <td>M</td>\n",
       "      <td>64.56</td>\n",
       "      <td>Oregon</td>\n",
       "      <td>16675.9</td>\n",
       "      <td>Extended</td>\n",
       "      <td>Bachelor</td>\n",
       "      <td>Medical Leave</td>\n",
       "      <td>Urban</td>\n",
       "      <td>Web</td>\n",
       "      <td>89</td>\n",
       "      <td>Personal Auto</td>\n",
       "      <td>1</td>\n",
       "      <td>0.998519</td>\n",
       "    </tr>\n",
       "    <tr>\n",
       "      <th>2354445725997</th>\n",
       "      <td>25.0</td>\n",
       "      <td>5000.0</td>\n",
       "      <td>384.88</td>\n",
       "      <td>8000.0</td>\n",
       "      <td>353.73</td>\n",
       "      <td>5.17</td>\n",
       "      <td>M</td>\n",
       "      <td>19.24</td>\n",
       "      <td>Washington</td>\n",
       "      <td>7163.8</td>\n",
       "      <td>Extended</td>\n",
       "      <td>Doctor</td>\n",
       "      <td>Disabled</td>\n",
       "      <td>Urban</td>\n",
       "      <td>Web</td>\n",
       "      <td>51</td>\n",
       "      <td>Corporate Auto</td>\n",
       "      <td>0</td>\n",
       "      <td>0.260724</td>\n",
       "    </tr>\n",
       "  </tbody>\n",
       "</table>\n",
       "</div>"
      ],
      "text/plain": [
       "               Driver_Age  Vehicle_Value   Price  Vehicle_Mileage  \\\n",
       "cust_id                                                             \n",
       "1123349069299        37.0         6000.0  252.39           5000.0   \n",
       "4467098784674        27.0        10000.0  477.80           6000.0   \n",
       "869569892903         27.0        10000.0  340.29           6000.0   \n",
       "2237607703548        18.0         8000.0  645.61           7000.0   \n",
       "2354445725997        25.0         5000.0  384.88           8000.0   \n",
       "\n",
       "               Credit_Score  Licence_Length_Years Marital_Status    Tax  \\\n",
       "cust_id                                                                   \n",
       "1123349069299        359.11                  4.42              M  25.24   \n",
       "4467098784674        401.06                  0.68              S  47.78   \n",
       "869569892903         304.35                  7.19              M  34.03   \n",
       "2237607703548        345.25                  0.43              M  64.56   \n",
       "2354445725997        353.73                  5.17              M  19.24   \n",
       "\n",
       "                    State     CLTV Coverage_Type Education Employment_Status  \\\n",
       "cust_id                                                                        \n",
       "1123349069299  California   9890.2      Extended  Bachelor          Employed   \n",
       "4467098784674     Arizona   6297.0       Premium    Master          Disabled   \n",
       "869569892903   Washington   8709.8       Premium  Bachelor          Employed   \n",
       "2237607703548      Oregon  16675.9      Extended  Bachelor     Medical Leave   \n",
       "2354445725997  Washington   7163.8      Extended    Doctor          Disabled   \n",
       "\n",
       "              Location_Code Sales_Channel  Months_Policy_Inception  \\\n",
       "cust_id                                                              \n",
       "1123349069299         Rural         Agent                       12   \n",
       "4467098784674         Urban        Branch                       65   \n",
       "869569892903          Rural   Call Center                       47   \n",
       "2237607703548         Urban           Web                       89   \n",
       "2354445725997         Urban           Web                       51   \n",
       "\n",
       "                  Policy_Type  Sales_prediction  sales_prediction_probability  \n",
       "cust_id                                                                        \n",
       "1123349069299   Personal Auto                 0                      0.001590  \n",
       "4467098784674  Corporate Auto                 1                      0.766472  \n",
       "869569892903   Corporate Auto                 0                      0.115257  \n",
       "2237607703548   Personal Auto                 1                      0.998519  \n",
       "2354445725997  Corporate Auto                 0                      0.260724  "
      ]
     },
     "execution_count": 22,
     "metadata": {},
     "output_type": "execute_result"
    }
   ],
   "source": [
    "# loading the data:  load the prediction dataframe into an atoti data store\n",
    "predictions = session.read_pandas(\n",
    "    prediction_df, table_name=\"predictions\", keys=[\"cust_id\"]\n",
    ")\n",
    "predictions.head()"
   ]
  },
  {
   "cell_type": "code",
   "execution_count": 23,
   "id": "63b5086c-f40e-4a9a-9ef3-16a4cf23c010",
   "metadata": {},
   "outputs": [],
   "source": [
    "# create a data cube in atoti\n",
    "cube = session.create_cube(predictions, name=\"predictions\")"
   ]
  },
  {
   "cell_type": "code",
   "execution_count": 24,
   "id": "66fa3886-04af-4a1a-960d-d8caae4223f9",
   "metadata": {},
   "outputs": [],
   "source": [
    "# defining the measure, level and hierarchy in the cube.\n",
    "\n",
    "h, l, m = cube.hierarchies, cube.levels, cube.measures"
   ]
  },
  {
   "cell_type": "code",
   "execution_count": 25,
   "id": "a3da51f1-3ee7-4069-b072-0214e724540c",
   "metadata": {},
   "outputs": [],
   "source": [
    "# Let us create some new measures\n",
    "\n",
    "# this is nuber of predicted successful sales\n",
    "m[\"sale_propotion\"] = m[\"Sales_prediction.SUM\"] / m[\"contributors.COUNT\"]\n",
    "\n",
    "# this is sum of quotes from the predicted sales\n",
    "m[\"revenue_realised\"] = tt.agg.sum(\n",
    "    m[\"sales_prediction_probability.SUM\"] * m[\"Price.SUM\"],\n",
    "    scope=tt.scope.origin(l[\"cust_id\"]),\n",
    ")\n",
    "# This is the propotion of revenue being realised\n",
    "m[\"revenue_realised_propotion\"] = m[\"revenue_realised\"] / m[\"Price.SUM\"]"
   ]
  },
  {
   "cell_type": "markdown",
   "id": "4a65fd0f-adf0-47c0-8518-afcdcc1c8b8f",
   "metadata": {},
   "source": [
    "### 2.3 Visualising KPIs with atoti widgets"
   ]
  },
  {
   "cell_type": "code",
   "execution_count": 26,
   "id": "e907f423-8dbb-444b-8db3-c9ff98d2a9b3",
   "metadata": {
    "atoti": {
     "height": 478,
     "widget": {
      "mapping": {
       "horizontalSubplots": [],
       "splitBy": [
        "ALL_MEASURES",
        "[predictions].[Sales_Channel].[Sales_Channel]"
       ],
       "values": [
        "[Measures].[sale_propotion]"
       ],
       "verticalSubplots": [],
       "xAxis": [
        "[predictions].[Coverage_Type].[Coverage_Type]"
       ]
      },
      "query": {
       "mdx": "SELECT NON EMPTY Crossjoin(Hierarchize(Descendants({[predictions].[Sales_Channel].[AllMember]}, 1, SELF_AND_BEFORE)), {[Measures].[sale_propotion]}) ON COLUMNS, NON EMPTY Hierarchize(Descendants({[predictions].[Coverage_Type].[AllMember]}, 1, SELF_AND_BEFORE)) ON ROWS FROM [predictions] CELL PROPERTIES VALUE, FORMATTED_VALUE, BACK_COLOR, FORE_COLOR, FONT_FLAGS",
       "updateMode": "once"
      },
      "serverKey": "default",
      "widgetKey": "plotly-clustered-column-chart"
     }
    },
    "tags": []
   },
   "outputs": [
    {
     "data": {
      "application/vnd.atoti.widget.v0+json": {
       "name": "Sales propotion by channel and coverage type",
       "sessionId": "1648807936_ZMGVTD",
       "sessionLocation": {
        "https": null,
        "port": 62008
       },
       "widgetCreationCode": "session.visualize()"
      },
      "text/html": [
       "<img src=\"data:image/svg+xml;charset=utf8,%3C%3Fxml%20version%3D%221.0%22%20standalone%3D%22no%22%3F%3E%3Csvg%20xmlns%3D%22http%3A%2F%2Fwww.w3.org%2F2000%2Fsvg%22%20xmlns%3Axlink%3D%22http%3A%2F%2Fwww.w3.org%2F1999%2Fxlink%22%20height%3D%22470%22%20width%3D%22967%22%20viewBox%3D%220%200%20967%20470%22%3E%3Cdefs%20id%3D%22defs-567e4e%22%3E%3Cg%20class%3D%22clips%22%3E%3CclipPath%20id%3D%22clip567e4exyplot%22%20class%3D%22plotclip%22%3E%3Crect%20width%3D%22760%22%20height%3D%22360%22%2F%3E%3C%2FclipPath%3E%3CclipPath%20class%3D%22axesclip%22%20id%3D%22clip567e4ex%22%3E%3Crect%20x%3D%2280%22%20y%3D%220%22%20width%3D%22760%22%20height%3D%22470%22%2F%3E%3C%2FclipPath%3E%3CclipPath%20class%3D%22axesclip%22%20id%3D%22clip567e4ey%22%3E%3Crect%20x%3D%220%22%20y%3D%2230%22%20width%3D%22967%22%20height%3D%22360%22%2F%3E%3C%2FclipPath%3E%3CclipPath%20class%3D%22axesclip%22%20id%3D%22clip567e4exy%22%3E%3Crect%20x%3D%2280%22%20y%3D%2230%22%20width%3D%22760%22%20height%3D%22360%22%2F%3E%3C%2FclipPath%3E%3C%2Fg%3E%3Cg%20class%3D%22gradients%22%2F%3E%3C%2Fdefs%3E%3Cg%20class%3D%22bglayer%22%2F%3E%3Cg%20class%3D%22draglayer%20cursor-crosshair%22%3E%3Cg%20class%3D%22xy%22%3E%3Crect%20class%3D%22nsewdrag%20drag%22%20data-subplot%3D%22xy%22%20x%3D%2280%22%20y%3D%2230%22%20width%3D%22760%22%20height%3D%22360%22%20style%3D%22fill%3A%20transparent%3B%20stroke-width%3A%200%3B%20pointer-events%3A%20all%3B%22%2F%3E%3Crect%20class%3D%22nwdrag%20drag%20cursor-nw-resize%22%20data-subplot%3D%22xy%22%20x%3D%2260%22%20y%3D%2210%22%20width%3D%2220%22%20height%3D%2220%22%20style%3D%22fill%3A%20transparent%3B%20stroke-width%3A%200%3B%20pointer-events%3A%20all%3B%22%2F%3E%3Crect%20class%3D%22nedrag%20drag%20cursor-ne-resize%22%20data-subplot%3D%22xy%22%20x%3D%22840%22%20y%3D%2210%22%20width%3D%2220%22%20height%3D%2220%22%20style%3D%22fill%3A%20transparent%3B%20stroke-width%3A%200%3B%20pointer-events%3A%20all%3B%22%2F%3E%3Crect%20class%3D%22swdrag%20drag%20cursor-sw-resize%22%20data-subplot%3D%22xy%22%20x%3D%2260%22%20y%3D%22390%22%20width%3D%2220%22%20height%3D%2220%22%20style%3D%22fill%3A%20transparent%3B%20stroke-width%3A%200%3B%20pointer-events%3A%20all%3B%22%2F%3E%3Crect%20class%3D%22sedrag%20drag%20cursor-se-resize%22%20data-subplot%3D%22xy%22%20x%3D%22840%22%20y%3D%22390%22%20width%3D%2220%22%20height%3D%2220%22%20style%3D%22fill%3A%20transparent%3B%20stroke-width%3A%200%3B%20pointer-events%3A%20all%3B%22%2F%3E%3Crect%20class%3D%22ewdrag%20drag%20cursor-ew-resize%22%20data-subplot%3D%22xy%22%20x%3D%22156%22%20y%3D%22390.5%22%20width%3D%22608%22%20height%3D%2220%22%20style%3D%22fill%3A%20transparent%3B%20stroke-width%3A%200%3B%20pointer-events%3A%20all%3B%22%2F%3E%3Crect%20class%3D%22wdrag%20drag%20cursor-w-resize%22%20data-subplot%3D%22xy%22%20x%3D%2280%22%20y%3D%22390.5%22%20width%3D%2276%22%20height%3D%2220%22%20style%3D%22fill%3A%20transparent%3B%20stroke-width%3A%200%3B%20pointer-events%3A%20all%3B%22%2F%3E%3Crect%20class%3D%22edrag%20drag%20cursor-e-resize%22%20data-subplot%3D%22xy%22%20x%3D%22764%22%20y%3D%22390.5%22%20width%3D%2276%22%20height%3D%2220%22%20style%3D%22fill%3A%20transparent%3B%20stroke-width%3A%200%3B%20pointer-events%3A%20all%3B%22%2F%3E%3Crect%20class%3D%22nsdrag%20drag%20cursor-ns-resize%22%20data-subplot%3D%22xy%22%20x%3D%2259.5%22%20y%3D%2266%22%20width%3D%2220%22%20height%3D%22288%22%20style%3D%22fill%3A%20transparent%3B%20stroke-width%3A%200%3B%20pointer-events%3A%20all%3B%22%2F%3E%3Crect%20class%3D%22sdrag%20drag%20cursor-s-resize%22%20data-subplot%3D%22xy%22%20x%3D%2259.5%22%20y%3D%22354%22%20width%3D%2220%22%20height%3D%2236%22%20style%3D%22fill%3A%20transparent%3B%20stroke-width%3A%200%3B%20pointer-events%3A%20all%3B%22%2F%3E%3Crect%20class%3D%22ndrag%20drag%20cursor-n-resize%22%20data-subplot%3D%22xy%22%20x%3D%2259.5%22%20y%3D%2230%22%20width%3D%2220%22%20height%3D%2236%22%20style%3D%22fill%3A%20transparent%3B%20stroke-width%3A%200%3B%20pointer-events%3A%20all%3B%22%2F%3E%3C%2Fg%3E%3C%2Fg%3E%3Cg%20class%3D%22layer-below%22%3E%3Cg%20class%3D%22imagelayer%22%2F%3E%3Cg%20class%3D%22shapelayer%22%2F%3E%3C%2Fg%3E%3Cg%20class%3D%22cartesianlayer%22%3E%3Cg%20class%3D%22subplot%20xy%22%3E%3Cg%20class%3D%22layer-subplot%22%3E%3Cg%20class%3D%22shapelayer%22%2F%3E%3Cg%20class%3D%22imagelayer%22%2F%3E%3C%2Fg%3E%3Cg%20class%3D%22gridlayer%22%3E%3Cg%20class%3D%22x%22%3E%3Cpath%20class%3D%22xgrid%20crisp%22%20transform%3D%22translate(206.67000000000002%2C0)%22%20d%3D%22M0%2C30v360%22%20style%3D%22stroke%3A%20rgb(0%2C%200%2C%200)%3B%20stroke-opacity%3A%200%3B%20stroke-width%3A%201px%3B%22%2F%3E%3Cpath%20class%3D%22xgrid%20crisp%22%20transform%3D%22translate(460%2C0)%22%20d%3D%22M0%2C30v360%22%20style%3D%22stroke%3A%20rgb(0%2C%200%2C%200)%3B%20stroke-opacity%3A%200%3B%20stroke-width%3A%201px%3B%22%2F%3E%3Cpath%20class%3D%22xgrid%20crisp%22%20transform%3D%22translate(713.33%2C0)%22%20d%3D%22M0%2C30v360%22%20style%3D%22stroke%3A%20rgb(0%2C%200%2C%200)%3B%20stroke-opacity%3A%200%3B%20stroke-width%3A%201px%3B%22%2F%3E%3C%2Fg%3E%3Cg%20class%3D%22y%22%3E%3Cpath%20class%3D%22ygrid%20crisp%22%20transform%3D%22translate(0%2C349.39)%22%20d%3D%22M80%2C0h760%22%20style%3D%22stroke%3A%20rgb(89%2C%2089%2C%2089)%3B%20stroke-opacity%3A%200.25%3B%20stroke-width%3A%201px%3B%22%2F%3E%3Cpath%20class%3D%22ygrid%20crisp%22%20transform%3D%22translate(0%2C308.77)%22%20d%3D%22M80%2C0h760%22%20style%3D%22stroke%3A%20rgb(89%2C%2089%2C%2089)%3B%20stroke-opacity%3A%200.25%3B%20stroke-width%3A%201px%3B%22%2F%3E%3Cpath%20class%3D%22ygrid%20crisp%22%20transform%3D%22translate(0%2C268.15999999999997)%22%20d%3D%22M80%2C0h760%22%20style%3D%22stroke%3A%20rgb(89%2C%2089%2C%2089)%3B%20stroke-opacity%3A%200.25%3B%20stroke-width%3A%201px%3B%22%2F%3E%3Cpath%20class%3D%22ygrid%20crisp%22%20transform%3D%22translate(0%2C227.55)%22%20d%3D%22M80%2C0h760%22%20style%3D%22stroke%3A%20rgb(89%2C%2089%2C%2089)%3B%20stroke-opacity%3A%200.25%3B%20stroke-width%3A%201px%3B%22%2F%3E%3Cpath%20class%3D%22ygrid%20crisp%22%20transform%3D%22translate(0%2C186.94)%22%20d%3D%22M80%2C0h760%22%20style%3D%22stroke%3A%20rgb(89%2C%2089%2C%2089)%3B%20stroke-opacity%3A%200.25%3B%20stroke-width%3A%201px%3B%22%2F%3E%3Cpath%20class%3D%22ygrid%20crisp%22%20transform%3D%22translate(0%2C146.32999999999998)%22%20d%3D%22M80%2C0h760%22%20style%3D%22stroke%3A%20rgb(89%2C%2089%2C%2089)%3B%20stroke-opacity%3A%200.25%3B%20stroke-width%3A%201px%3B%22%2F%3E%3Cpath%20class%3D%22ygrid%20crisp%22%20transform%3D%22translate(0%2C105.71)%22%20d%3D%22M80%2C0h760%22%20style%3D%22stroke%3A%20rgb(89%2C%2089%2C%2089)%3B%20stroke-opacity%3A%200.25%3B%20stroke-width%3A%201px%3B%22%2F%3E%3Cpath%20class%3D%22ygrid%20crisp%22%20transform%3D%22translate(0%2C65.1)%22%20d%3D%22M80%2C0h760%22%20style%3D%22stroke%3A%20rgb(89%2C%2089%2C%2089)%3B%20stroke-opacity%3A%200.25%3B%20stroke-width%3A%201px%3B%22%2F%3E%3C%2Fg%3E%3C%2Fg%3E%3Cg%20class%3D%22zerolinelayer%22%3E%3Cpath%20class%3D%22yzl%20zl%20crisp%22%20transform%3D%22translate(0%2C390)%22%20d%3D%22M80%2C0h760%22%20style%3D%22stroke%3A%20rgb(89%2C%2089%2C%2089)%3B%20stroke-opacity%3A%200.5%3B%20stroke-width%3A%201px%3B%22%2F%3E%3C%2Fg%3E%3Cpath%20class%3D%22xlines-below%22%2F%3E%3Cpath%20class%3D%22ylines-below%22%2F%3E%3Cg%20class%3D%22overlines-below%22%2F%3E%3Cg%20class%3D%22xaxislayer-below%22%2F%3E%3Cg%20class%3D%22yaxislayer-below%22%2F%3E%3Cg%20class%3D%22overaxes-below%22%2F%3E%3Cg%20class%3D%22plot%22%20transform%3D%22translate(80%2C30)%22%20clip-path%3D%22url('%23clip567e4exyplot')%22%3E%3Cg%20class%3D%22barlayer%20mlayer%22%3E%3Cg%20class%3D%22trace%20bars%22%20style%3D%22opacity%3A%201%3B%22%3E%3Cg%20class%3D%22points%22%3E%3Cg%20class%3D%22point%22%3E%3Cpath%20d%3D%22M25.33%2C360V148.59H76V360Z%22%20style%3D%22vector-effect%3A%20non-scaling-stroke%3B%20opacity%3A%201%3B%20stroke-width%3A%200px%3B%20fill%3A%20rgb(78%2C%20121%2C%20167)%3B%20fill-opacity%3A%201%3B%22%2F%3E%3C%2Fg%3E%3Cg%20class%3D%22point%22%3E%3Cpath%20d%3D%22M278.67%2C360V91.03H329.33V360Z%22%20style%3D%22vector-effect%3A%20non-scaling-stroke%3B%20opacity%3A%201%3B%20stroke-width%3A%200px%3B%20fill%3A%20rgb(78%2C%20121%2C%20167)%3B%20fill-opacity%3A%201%3B%22%2F%3E%3C%2Fg%3E%3Cg%20class%3D%22point%22%3E%3Cpath%20d%3D%22M532%2C360V29.3H582.67V360Z%22%20style%3D%22vector-effect%3A%20non-scaling-stroke%3B%20opacity%3A%201%3B%20stroke-width%3A%200px%3B%20fill%3A%20rgb(78%2C%20121%2C%20167)%3B%20fill-opacity%3A%201%3B%22%2F%3E%3C%2Fg%3E%3C%2Fg%3E%3C%2Fg%3E%3Cg%20class%3D%22trace%20bars%22%20style%3D%22opacity%3A%201%3B%22%3E%3Cg%20class%3D%22points%22%3E%3Cg%20class%3D%22point%22%3E%3Cpath%20d%3D%22M76%2C360V112.52H126.67V360Z%22%20style%3D%22vector-effect%3A%20non-scaling-stroke%3B%20opacity%3A%201%3B%20stroke-width%3A%200px%3B%20fill%3A%20rgb(242%2C%20142%2C%2044)%3B%20fill-opacity%3A%201%3B%22%2F%3E%3C%2Fg%3E%3Cg%20class%3D%22point%22%3E%3Cpath%20d%3D%22M329.33%2C360V72.31H380V360Z%22%20style%3D%22vector-effect%3A%20non-scaling-stroke%3B%20opacity%3A%201%3B%20stroke-width%3A%200px%3B%20fill%3A%20rgb(242%2C%20142%2C%2044)%3B%20fill-opacity%3A%201%3B%22%2F%3E%3C%2Fg%3E%3Cg%20class%3D%22point%22%3E%3Cpath%20d%3D%22M582.67%2C360V24.48H633.33V360Z%22%20style%3D%22vector-effect%3A%20non-scaling-stroke%3B%20opacity%3A%201%3B%20stroke-width%3A%200px%3B%20fill%3A%20rgb(242%2C%20142%2C%2044)%3B%20fill-opacity%3A%201%3B%22%2F%3E%3C%2Fg%3E%3C%2Fg%3E%3C%2Fg%3E%3Cg%20class%3D%22trace%20bars%22%20style%3D%22opacity%3A%201%3B%22%3E%3Cg%20class%3D%22points%22%3E%3Cg%20class%3D%22point%22%3E%3Cpath%20d%3D%22M126.67%2C360V91.16H177.33V360Z%22%20style%3D%22vector-effect%3A%20non-scaling-stroke%3B%20opacity%3A%201%3B%20stroke-width%3A%200px%3B%20fill%3A%20rgb(225%2C%2087%2C%2089)%3B%20fill-opacity%3A%201%3B%22%2F%3E%3C%2Fg%3E%3Cg%20class%3D%22point%22%3E%3Cpath%20d%3D%22M380%2C360V57.44H430.67V360Z%22%20style%3D%22vector-effect%3A%20non-scaling-stroke%3B%20opacity%3A%201%3B%20stroke-width%3A%200px%3B%20fill%3A%20rgb(225%2C%2087%2C%2089)%3B%20fill-opacity%3A%201%3B%22%2F%3E%3C%2Fg%3E%3Cg%20class%3D%22point%22%3E%3Cpath%20d%3D%22M633.33%2C360V18H684V360Z%22%20style%3D%22vector-effect%3A%20non-scaling-stroke%3B%20opacity%3A%201%3B%20stroke-width%3A%200px%3B%20fill%3A%20rgb(225%2C%2087%2C%2089)%3B%20fill-opacity%3A%201%3B%22%2F%3E%3C%2Fg%3E%3C%2Fg%3E%3C%2Fg%3E%3Cg%20class%3D%22trace%20bars%22%20style%3D%22opacity%3A%201%3B%22%3E%3Cg%20class%3D%22points%22%3E%3Cg%20class%3D%22point%22%3E%3Cpath%20d%3D%22M177.33%2C360V67.8H228V360Z%22%20style%3D%22vector-effect%3A%20non-scaling-stroke%3B%20opacity%3A%201%3B%20stroke-width%3A%200px%3B%20fill%3A%20rgb(118%2C%20183%2C%20178)%3B%20fill-opacity%3A%201%3B%22%2F%3E%3C%2Fg%3E%3Cg%20class%3D%22point%22%3E%3Cpath%20d%3D%22M430.67%2C360V48.87H481.33V360Z%22%20style%3D%22vector-effect%3A%20non-scaling-stroke%3B%20opacity%3A%201%3B%20stroke-width%3A%200px%3B%20fill%3A%20rgb(118%2C%20183%2C%20178)%3B%20fill-opacity%3A%201%3B%22%2F%3E%3C%2Fg%3E%3Cg%20class%3D%22point%22%3E%3Cpath%20d%3D%22M684%2C360V19.73H734.67V360Z%22%20style%3D%22vector-effect%3A%20non-scaling-stroke%3B%20opacity%3A%201%3B%20stroke-width%3A%200px%3B%20fill%3A%20rgb(118%2C%20183%2C%20178)%3B%20fill-opacity%3A%201%3B%22%2F%3E%3C%2Fg%3E%3C%2Fg%3E%3C%2Fg%3E%3C%2Fg%3E%3C%2Fg%3E%3Cg%20class%3D%22overplot%22%2F%3E%3Cpath%20class%3D%22xlines-above%20crisp%22%20style%3D%22fill%3A%20none%3B%20stroke-width%3A%201px%3B%20stroke%3A%20rgb(89%2C%2089%2C%2089)%3B%20stroke-opacity%3A%200.25%3B%22%20d%3D%22M79%2C390.5H840%22%2F%3E%3Cpath%20class%3D%22ylines-above%20crisp%22%20style%3D%22fill%3A%20none%3B%20stroke-width%3A%201px%3B%20stroke%3A%20rgb(89%2C%2089%2C%2089)%3B%20stroke-opacity%3A%200.25%3B%22%20d%3D%22M79.5%2C30V390%22%2F%3E%3Cg%20class%3D%22overlines-above%22%2F%3E%3Cg%20class%3D%22xaxislayer-above%22%3E%3Cg%20class%3D%22xtick%22%3E%3Ctext%20text-anchor%3D%22middle%22%20x%3D%220%22%20y%3D%22405.4%22%20data-unformatted%3D%22Basic%22%20data-math%3D%22N%22%20transform%3D%22translate(206.67000000000002%2C0)%22%20style%3D%22font-family%3A%20%26quot%3BOpen%20Sans%26quot%3B%2C%20verdana%2C%20arial%2C%20sans-serif%3B%20font-size%3A%2012px%3B%20fill%3A%20rgb(89%2C%2089%2C%2089)%3B%20fill-opacity%3A%201%3B%20white-space%3A%20pre%3B%22%3EBasic%3C%2Ftext%3E%3C%2Fg%3E%3Cg%20class%3D%22xtick%22%3E%3Ctext%20text-anchor%3D%22middle%22%20x%3D%220%22%20y%3D%22405.4%22%20data-unformatted%3D%22Extended%22%20data-math%3D%22N%22%20transform%3D%22translate(460%2C0)%22%20style%3D%22font-family%3A%20%26quot%3BOpen%20Sans%26quot%3B%2C%20verdana%2C%20arial%2C%20sans-serif%3B%20font-size%3A%2012px%3B%20fill%3A%20rgb(89%2C%2089%2C%2089)%3B%20fill-opacity%3A%201%3B%20white-space%3A%20pre%3B%22%3EExtended%3C%2Ftext%3E%3C%2Fg%3E%3Cg%20class%3D%22xtick%22%3E%3Ctext%20text-anchor%3D%22middle%22%20x%3D%220%22%20y%3D%22405.4%22%20data-unformatted%3D%22Premium%22%20data-math%3D%22N%22%20transform%3D%22translate(713.33%2C0)%22%20style%3D%22font-family%3A%20%26quot%3BOpen%20Sans%26quot%3B%2C%20verdana%2C%20arial%2C%20sans-serif%3B%20font-size%3A%2012px%3B%20fill%3A%20rgb(89%2C%2089%2C%2089)%3B%20fill-opacity%3A%201%3B%20white-space%3A%20pre%3B%22%3EPremium%3C%2Ftext%3E%3C%2Fg%3E%3C%2Fg%3E%3Cg%20class%3D%22yaxislayer-above%22%3E%3Cg%20class%3D%22ytick%22%3E%3Ctext%20text-anchor%3D%22end%22%20x%3D%2276.6%22%20y%3D%224.199999999999999%22%20data-unformatted%3D%220%22%20data-math%3D%22N%22%20transform%3D%22translate(0%2C390)%22%20style%3D%22font-family%3A%20%26quot%3BOpen%20Sans%26quot%3B%2C%20verdana%2C%20arial%2C%20sans-serif%3B%20font-size%3A%2012px%3B%20fill%3A%20rgb(89%2C%2089%2C%2089)%3B%20fill-opacity%3A%201%3B%20white-space%3A%20pre%3B%22%3E0%3C%2Ftext%3E%3C%2Fg%3E%3Cg%20class%3D%22ytick%22%3E%3Ctext%20text-anchor%3D%22end%22%20x%3D%2276.6%22%20y%3D%224.199999999999999%22%20data-unformatted%3D%220.1%22%20data-math%3D%22N%22%20transform%3D%22translate(0%2C349.39)%22%20style%3D%22font-family%3A%20%26quot%3BOpen%20Sans%26quot%3B%2C%20verdana%2C%20arial%2C%20sans-serif%3B%20font-size%3A%2012px%3B%20fill%3A%20rgb(89%2C%2089%2C%2089)%3B%20fill-opacity%3A%201%3B%20white-space%3A%20pre%3B%22%3E0.1%3C%2Ftext%3E%3C%2Fg%3E%3Cg%20class%3D%22ytick%22%3E%3Ctext%20text-anchor%3D%22end%22%20x%3D%2276.6%22%20y%3D%224.199999999999999%22%20data-unformatted%3D%220.2%22%20data-math%3D%22N%22%20transform%3D%22translate(0%2C308.77)%22%20style%3D%22font-family%3A%20%26quot%3BOpen%20Sans%26quot%3B%2C%20verdana%2C%20arial%2C%20sans-serif%3B%20font-size%3A%2012px%3B%20fill%3A%20rgb(89%2C%2089%2C%2089)%3B%20fill-opacity%3A%201%3B%20white-space%3A%20pre%3B%22%3E0.2%3C%2Ftext%3E%3C%2Fg%3E%3Cg%20class%3D%22ytick%22%3E%3Ctext%20text-anchor%3D%22end%22%20x%3D%2276.6%22%20y%3D%224.199999999999999%22%20data-unformatted%3D%220.3%22%20data-math%3D%22N%22%20transform%3D%22translate(0%2C268.15999999999997)%22%20style%3D%22font-family%3A%20%26quot%3BOpen%20Sans%26quot%3B%2C%20verdana%2C%20arial%2C%20sans-serif%3B%20font-size%3A%2012px%3B%20fill%3A%20rgb(89%2C%2089%2C%2089)%3B%20fill-opacity%3A%201%3B%20white-space%3A%20pre%3B%22%3E0.3%3C%2Ftext%3E%3C%2Fg%3E%3Cg%20class%3D%22ytick%22%3E%3Ctext%20text-anchor%3D%22end%22%20x%3D%2276.6%22%20y%3D%224.199999999999999%22%20data-unformatted%3D%220.4%22%20data-math%3D%22N%22%20transform%3D%22translate(0%2C227.55)%22%20style%3D%22font-family%3A%20%26quot%3BOpen%20Sans%26quot%3B%2C%20verdana%2C%20arial%2C%20sans-serif%3B%20font-size%3A%2012px%3B%20fill%3A%20rgb(89%2C%2089%2C%2089)%3B%20fill-opacity%3A%201%3B%20white-space%3A%20pre%3B%22%3E0.4%3C%2Ftext%3E%3C%2Fg%3E%3Cg%20class%3D%22ytick%22%3E%3Ctext%20text-anchor%3D%22end%22%20x%3D%2276.6%22%20y%3D%224.199999999999999%22%20data-unformatted%3D%220.5%22%20data-math%3D%22N%22%20transform%3D%22translate(0%2C186.94)%22%20style%3D%22font-family%3A%20%26quot%3BOpen%20Sans%26quot%3B%2C%20verdana%2C%20arial%2C%20sans-serif%3B%20font-size%3A%2012px%3B%20fill%3A%20rgb(89%2C%2089%2C%2089)%3B%20fill-opacity%3A%201%3B%20white-space%3A%20pre%3B%22%3E0.5%3C%2Ftext%3E%3C%2Fg%3E%3Cg%20class%3D%22ytick%22%3E%3Ctext%20text-anchor%3D%22end%22%20x%3D%2276.6%22%20y%3D%224.199999999999999%22%20data-unformatted%3D%220.6%22%20data-math%3D%22N%22%20transform%3D%22translate(0%2C146.32999999999998)%22%20style%3D%22font-family%3A%20%26quot%3BOpen%20Sans%26quot%3B%2C%20verdana%2C%20arial%2C%20sans-serif%3B%20font-size%3A%2012px%3B%20fill%3A%20rgb(89%2C%2089%2C%2089)%3B%20fill-opacity%3A%201%3B%20white-space%3A%20pre%3B%22%3E0.6%3C%2Ftext%3E%3C%2Fg%3E%3Cg%20class%3D%22ytick%22%3E%3Ctext%20text-anchor%3D%22end%22%20x%3D%2276.6%22%20y%3D%224.199999999999999%22%20data-unformatted%3D%220.7%22%20data-math%3D%22N%22%20transform%3D%22translate(0%2C105.71)%22%20style%3D%22font-family%3A%20%26quot%3BOpen%20Sans%26quot%3B%2C%20verdana%2C%20arial%2C%20sans-serif%3B%20font-size%3A%2012px%3B%20fill%3A%20rgb(89%2C%2089%2C%2089)%3B%20fill-opacity%3A%201%3B%20white-space%3A%20pre%3B%22%3E0.7%3C%2Ftext%3E%3C%2Fg%3E%3Cg%20class%3D%22ytick%22%3E%3Ctext%20text-anchor%3D%22end%22%20x%3D%2276.6%22%20y%3D%224.199999999999999%22%20data-unformatted%3D%220.8%22%20data-math%3D%22N%22%20transform%3D%22translate(0%2C65.1)%22%20style%3D%22font-family%3A%20%26quot%3BOpen%20Sans%26quot%3B%2C%20verdana%2C%20arial%2C%20sans-serif%3B%20font-size%3A%2012px%3B%20fill%3A%20rgb(89%2C%2089%2C%2089)%3B%20fill-opacity%3A%201%3B%20white-space%3A%20pre%3B%22%3E0.8%3C%2Ftext%3E%3C%2Fg%3E%3C%2Fg%3E%3Cg%20class%3D%22overaxes-above%22%2F%3E%3C%2Fg%3E%3C%2Fg%3E%3Cg%20class%3D%22polarlayer%22%2F%3E%3Cg%20class%3D%22ternarylayer%22%2F%3E%3Cg%20class%3D%22geolayer%22%2F%3E%3Cg%20class%3D%22funnelarealayer%22%2F%3E%3Cg%20class%3D%22pielayer%22%2F%3E%3Cg%20class%3D%22treemaplayer%22%2F%3E%3Cg%20class%3D%22sunburstlayer%22%2F%3E%3Cg%20class%3D%22glimages%22%2F%3E%3Cdefs%20id%3D%22topdefs-567e4e%22%3E%3Cg%20class%3D%22clips%22%2F%3E%3CclipPath%20id%3D%22legend567e4e%22%3E%3Crect%20width%3D%22112%22%20height%3D%22116%22%20x%3D%220%22%20y%3D%220%22%2F%3E%3C%2FclipPath%3E%3C%2Fdefs%3E%3Cg%20class%3D%22indicatorlayer%22%2F%3E%3Cg%20class%3D%22layer-above%22%3E%3Cg%20class%3D%22imagelayer%22%2F%3E%3Cg%20class%3D%22shapelayer%22%2F%3E%3C%2Fg%3E%3Cg%20class%3D%22infolayer%22%3E%3Cg%20class%3D%22legend%22%20pointer-events%3D%22all%22%20transform%3D%22translate(855%2C30)%22%3E%3Crect%20class%3D%22bg%22%20shape-rendering%3D%22crispEdges%22%20style%3D%22stroke%3A%20rgb(68%2C%2068%2C%2068)%3B%20stroke-opacity%3A%201%3B%20fill%3A%20rgb(255%2C%20255%2C%20255)%3B%20fill-opacity%3A%201%3B%20stroke-width%3A%200px%3B%22%20width%3D%22112%22%20height%3D%22116%22%20x%3D%220%22%20y%3D%220%22%2F%3E%3Cg%20class%3D%22scrollbox%22%20transform%3D%22%22%20clip-path%3D%22url('%23legend567e4e')%22%3E%3Cg%20class%3D%22groups%22%20transform%3D%22%22%3E%3Cg%20class%3D%22traces%22%20style%3D%22opacity%3A%201%3B%22%20transform%3D%22translate(0%2C14.5)%22%3E%3Ctext%20class%3D%22legendtext%22%20text-anchor%3D%22start%22%20x%3D%2240%22%20y%3D%224.680000000000001%22%20data-unformatted%3D%22Agent%22%20data-math%3D%22N%22%20style%3D%22font-family%3A%20%26quot%3BOpen%20Sans%26quot%3B%2C%20verdana%2C%20arial%2C%20sans-serif%3B%20font-size%3A%2012px%3B%20fill%3A%20rgb(89%2C%2089%2C%2089)%3B%20fill-opacity%3A%201%3B%20white-space%3A%20pre%3B%22%3EAgent%3C%2Ftext%3E%3Cg%20class%3D%22layers%22%20style%3D%22opacity%3A%201%3B%22%3E%3Cg%20class%3D%22legendfill%22%2F%3E%3Cg%20class%3D%22legendlines%22%2F%3E%3Cg%20class%3D%22legendsymbols%22%3E%3Cg%20class%3D%22legendpoints%22%3E%3Cpath%20class%3D%22legendundefined%22%20d%3D%22M6%2C6H-6V-6H6Z%22%20transform%3D%22translate(20%2C0)%22%20style%3D%22stroke-width%3A%200px%3B%20fill%3A%20rgb(78%2C%20121%2C%20167)%3B%20fill-opacity%3A%201%3B%22%2F%3E%3C%2Fg%3E%3C%2Fg%3E%3C%2Fg%3E%3Crect%20class%3D%22legendtoggle%22%20pointer-events%3D%22all%22%20x%3D%220%22%20y%3D%22-9.5%22%20width%3D%22106.98906707763672%22%20height%3D%2219%22%20style%3D%22cursor%3A%20pointer%3B%20fill%3A%20rgb(0%2C%200%2C%200)%3B%20fill-opacity%3A%200%3B%22%2F%3E%3C%2Fg%3E%3C%2Fg%3E%3Cg%20class%3D%22groups%22%20transform%3D%22translate(0%2C10)%22%3E%3Cg%20class%3D%22traces%22%20style%3D%22opacity%3A%201%3B%22%20transform%3D%22translate(0%2C33.5)%22%3E%3Ctext%20class%3D%22legendtext%22%20text-anchor%3D%22start%22%20x%3D%2240%22%20y%3D%224.680000000000001%22%20data-unformatted%3D%22Branch%22%20data-math%3D%22N%22%20style%3D%22font-family%3A%20%26quot%3BOpen%20Sans%26quot%3B%2C%20verdana%2C%20arial%2C%20sans-serif%3B%20font-size%3A%2012px%3B%20fill%3A%20rgb(89%2C%2089%2C%2089)%3B%20fill-opacity%3A%201%3B%20white-space%3A%20pre%3B%22%3EBranch%3C%2Ftext%3E%3Cg%20class%3D%22layers%22%20style%3D%22opacity%3A%201%3B%22%3E%3Cg%20class%3D%22legendfill%22%2F%3E%3Cg%20class%3D%22legendlines%22%2F%3E%3Cg%20class%3D%22legendsymbols%22%3E%3Cg%20class%3D%22legendpoints%22%3E%3Cpath%20class%3D%22legendundefined%22%20d%3D%22M6%2C6H-6V-6H6Z%22%20transform%3D%22translate(20%2C0)%22%20style%3D%22stroke-width%3A%200px%3B%20fill%3A%20rgb(242%2C%20142%2C%2044)%3B%20fill-opacity%3A%201%3B%22%2F%3E%3C%2Fg%3E%3C%2Fg%3E%3C%2Fg%3E%3Crect%20class%3D%22legendtoggle%22%20pointer-events%3D%22all%22%20x%3D%220%22%20y%3D%22-9.5%22%20width%3D%22106.98906707763672%22%20height%3D%2219%22%20style%3D%22cursor%3A%20pointer%3B%20fill%3A%20rgb(0%2C%200%2C%200)%3B%20fill-opacity%3A%200%3B%22%2F%3E%3C%2Fg%3E%3C%2Fg%3E%3Cg%20class%3D%22groups%22%20transform%3D%22translate(0%2C20)%22%3E%3Cg%20class%3D%22traces%22%20style%3D%22opacity%3A%201%3B%22%20transform%3D%22translate(0%2C52.5)%22%3E%3Ctext%20class%3D%22legendtext%22%20text-anchor%3D%22start%22%20x%3D%2240%22%20y%3D%224.680000000000001%22%20data-unformatted%3D%22Call%20Center%22%20data-math%3D%22N%22%20style%3D%22font-family%3A%20%26quot%3BOpen%20Sans%26quot%3B%2C%20verdana%2C%20arial%2C%20sans-serif%3B%20font-size%3A%2012px%3B%20fill%3A%20rgb(89%2C%2089%2C%2089)%3B%20fill-opacity%3A%201%3B%20white-space%3A%20pre%3B%22%3ECall%20Center%3C%2Ftext%3E%3Cg%20class%3D%22layers%22%20style%3D%22opacity%3A%201%3B%22%3E%3Cg%20class%3D%22legendfill%22%2F%3E%3Cg%20class%3D%22legendlines%22%2F%3E%3Cg%20class%3D%22legendsymbols%22%3E%3Cg%20class%3D%22legendpoints%22%3E%3Cpath%20class%3D%22legendundefined%22%20d%3D%22M6%2C6H-6V-6H6Z%22%20transform%3D%22translate(20%2C0)%22%20style%3D%22stroke-width%3A%200px%3B%20fill%3A%20rgb(225%2C%2087%2C%2089)%3B%20fill-opacity%3A%201%3B%22%2F%3E%3C%2Fg%3E%3C%2Fg%3E%3C%2Fg%3E%3Crect%20class%3D%22legendtoggle%22%20pointer-events%3D%22all%22%20x%3D%220%22%20y%3D%22-9.5%22%20width%3D%22106.98906707763672%22%20height%3D%2219%22%20style%3D%22cursor%3A%20pointer%3B%20fill%3A%20rgb(0%2C%200%2C%200)%3B%20fill-opacity%3A%200%3B%22%2F%3E%3C%2Fg%3E%3C%2Fg%3E%3Cg%20class%3D%22groups%22%20transform%3D%22translate(0%2C30)%22%3E%3Cg%20class%3D%22traces%22%20style%3D%22opacity%3A%201%3B%22%20transform%3D%22translate(0%2C71.5)%22%3E%3Ctext%20class%3D%22legendtext%22%20text-anchor%3D%22start%22%20x%3D%2240%22%20y%3D%224.680000000000001%22%20data-unformatted%3D%22Web%22%20data-math%3D%22N%22%20style%3D%22font-family%3A%20%26quot%3BOpen%20Sans%26quot%3B%2C%20verdana%2C%20arial%2C%20sans-serif%3B%20font-size%3A%2012px%3B%20fill%3A%20rgb(89%2C%2089%2C%2089)%3B%20fill-opacity%3A%201%3B%20white-space%3A%20pre%3B%22%3EWeb%3C%2Ftext%3E%3Cg%20class%3D%22layers%22%20style%3D%22opacity%3A%201%3B%22%3E%3Cg%20class%3D%22legendfill%22%2F%3E%3Cg%20class%3D%22legendlines%22%2F%3E%3Cg%20class%3D%22legendsymbols%22%3E%3Cg%20class%3D%22legendpoints%22%3E%3Cpath%20class%3D%22legendundefined%22%20d%3D%22M6%2C6H-6V-6H6Z%22%20transform%3D%22translate(20%2C0)%22%20style%3D%22stroke-width%3A%200px%3B%20fill%3A%20rgb(118%2C%20183%2C%20178)%3B%20fill-opacity%3A%201%3B%22%2F%3E%3C%2Fg%3E%3C%2Fg%3E%3C%2Fg%3E%3Crect%20class%3D%22legendtoggle%22%20pointer-events%3D%22all%22%20x%3D%220%22%20y%3D%22-9.5%22%20width%3D%22106.98906707763672%22%20height%3D%2219%22%20style%3D%22cursor%3A%20pointer%3B%20fill%3A%20rgb(0%2C%200%2C%200)%3B%20fill-opacity%3A%200%3B%22%2F%3E%3C%2Fg%3E%3C%2Fg%3E%3C%2Fg%3E%3Crect%20class%3D%22scrollbar%22%20rx%3D%2220%22%20ry%3D%223%22%20width%3D%220%22%20height%3D%220%22%20style%3D%22fill%3A%20rgb(128%2C%20139%2C%20164)%3B%20fill-opacity%3A%201%3B%22%20x%3D%220%22%20y%3D%220%22%2F%3E%3C%2Fg%3E%3Cg%20class%3D%22g-gtitle%22%2F%3E%3Cg%20class%3D%22g-xtitle%22%2F%3E%3Cg%20class%3D%22g-ytitle%22%2F%3E%3C%2Fg%3E%3Cg%20class%3D%22menulayer%22%2F%3E%3Cg%20class%3D%22zoomlayer%22%2F%3E%3Cg%20class%3D%22hoverlayer%22%2F%3E%3C%2Fsvg%3E\">"
      ],
      "text/plain": [
       "Open the notebook in JupyterLab with the atoti extension enabled to build this widget."
      ]
     },
     "metadata": {},
     "output_type": "display_data"
    }
   ],
   "source": [
    "session.visualize(\"Sales propotion by channel and coverage type\")"
   ]
  },
  {
   "cell_type": "code",
   "execution_count": 27,
   "id": "bca735b8-689b-437e-b00e-9a691ed59506",
   "metadata": {
    "atoti": {
     "widget": {
      "mapping": {
       "groupBy": [
        "[predictions].[State].[State]"
       ],
       "horizontalSubplots": [],
       "splitBy": [
        "[predictions].[Location_Code].[Location_Code]"
       ],
       "values": [
        "[Measures].[revenue_realised]"
       ],
       "verticalSubplots": []
      },
      "name": "Sales by State",
      "query": {
       "mdx": "SELECT NON EMPTY {[Measures].[revenue_realised]} ON COLUMNS, NON EMPTY Crossjoin(Hierarchize(Descendants({[predictions].[State].[AllMember]}, 1, SELF_AND_BEFORE)), Hierarchize(Descendants({[predictions].[Location_Code].[AllMember]}, 1, SELF_AND_BEFORE))) ON ROWS FROM [predictions] CELL PROPERTIES VALUE, FORMATTED_VALUE, BACK_COLOR, FORE_COLOR, FONT_FLAGS",
       "updateMode": "once"
      },
      "serverKey": "default",
      "widgetKey": "plotly-tree-map"
     }
    },
    "tags": []
   },
   "outputs": [
    {
     "data": {
      "application/vnd.atoti.widget.v0+json": {
       "name": "Revenue realized by State and location code",
       "sessionId": "1648807936_ZMGVTD",
       "sessionLocation": {
        "https": null,
        "port": 62008
       },
       "widgetCreationCode": "session.visualize()"
      },
      "text/html": [
       "<img src=\"data:image/svg+xml;charset=utf8,%3C%3Fxml%20version%3D%221.0%22%20standalone%3D%22no%22%3F%3E%3Csvg%20xmlns%3D%22http%3A%2F%2Fwww.w3.org%2F2000%2Fsvg%22%20height%3D%22352%22%20width%3D%22967%22%3E%3CforeignObject%20width%3D%22100%25%22%20height%3D%22100%25%22%20x%3D%220%22%20y%3D%220%22%3E%3Cstyle%20xmlns%3D%22http%3A%2F%2Fwww.w3.org%2F1999%2Fxhtml%22%20type%3D%22text%2Fcss%22%3E*%2C%20%3A%3Abefore%2C%20%3A%3Aafter%20%7Bbox-sizing%3A%20unset%7D%0Aa%20%7Bcolor%3A%20unset%3B%20text-decoration-line%3A%20unset%3B%20text-decoration-thickness%3A%20unset%3B%20text-decoration-style%3A%20unset%3B%20text-decoration-color%3A%20unset%7D%0A.ant-root%20%5Bclass%5E%3D%22ant-%22%5D%2C%20.ant-root%20%5Bclass*%3D%22ant-%22%5D%2C%20.ant-root%20%5Bclass%5E%3D%22ant-%22%5D%20*%2C%20.ant-root%20%5Bclass*%3D%22ant-%22%5D%20*%2C%20.ant-root%20%5Bclass%5E%3D%22ant-%22%5D%20%3A%3Abefore%2C%20.ant-root%20%5Bclass*%3D%22ant-%22%5D%20%3A%3Abefore%2C%20.ant-root%20%5Bclass%5E%3D%22ant-%22%5D%20%3A%3Aafter%2C%20.ant-root%20%5Bclass*%3D%22ant-%22%5D%20%3A%3Aafter%20%7Bbox-sizing%3A%20border-box%7D%0A.ant-root%20html%2C%20.ant-root%20%7Bwidth%3A%20100%25%3B%20height%3A%20100%25%7D%0A.ant-root%20*%2C%20.ant-root%20%3A%3Abefore%2C%20.ant-root%20%3A%3Aafter%20%7Bbox-sizing%3A%20border-box%7D%0A.ant-root%20%7Bmargin-top%3A%200px%3B%20margin-right%3A%200px%3B%20margin-bottom%3A%200px%3B%20margin-left%3A%200px%3B%20color%3A%20rgb(89%2C%2089%2C%2089)%3B%20font-size%3A%2012px%3B%20font-family%3A%20-apple-system%2C%20BlinkMacSystemFont%2C%20%22Segoe%20UI%22%2C%20Roboto%2C%20%22Helvetica%20Neue%22%2C%20Arial%2C%20%22Noto%20Sans%22%2C%20sans-serif%2C%20%22Apple%20Color%20Emoji%22%2C%20%22Segoe%20UI%20Emoji%22%2C%20%22Segoe%20UI%20Symbol%22%2C%20%22Noto%20Color%20Emoji%22%3B%20font-variant-ligatures%3A%20normal%3B%20font-variant-numeric%3A%20tabular-nums%3B%20font-variant-east-asian%3A%20normal%3B%20font-variant-caps%3A%20normal%3B%20line-height%3A%201.66667%3B%20background-color%3A%20rgb(255%2C%20255%2C%20255)%3B%20--antd-wave-shadow-color%3A%20%20%231890FF%3B%20--scroll-bar%3A%20%200%7D%0A.ant-root%20a%20%7Bcolor%3A%20rgb(24%2C%20144%2C%20255)%3B%20text-decoration-line%3A%20none%3B%20text-decoration-thickness%3A%20initial%3B%20text-decoration-style%3A%20initial%3B%20text-decoration-color%3A%20initial%3B%20background-color%3A%20transparent%3B%20outline-color%3A%20initial%3B%20outline-style%3A%20none%3B%20outline-width%3A%20initial%3B%20cursor%3A%20pointer%3B%20transition-duration%3A%200.3s%3B%20transition-timing-function%3A%20ease%3B%20transition-delay%3A%200s%3B%20transition-property%3A%20color%7D%0A.ant-root%20svg%3Anot(%3Aroot)%20%7Boverflow-x%3A%20hidden%3B%20overflow-y%3A%20hidden%7D%0A.ant-root%20a%2C%20.ant-root%20area%2C%20.ant-root%20button%2C%20.ant-root%20%5Brole%3D%22button%22%5D%2C%20.ant-root%20input%3Anot(%5Btype%3D%22range%22%5D)%2C%20.ant-root%20label%2C%20.ant-root%20select%2C%20.ant-root%20summary%2C%20.ant-root%20textarea%20%7Btouch-action%3A%20manipulation%7D%0A.ant-root%20.ant-spin%20%7Bbox-sizing%3A%20border-box%3B%20margin-top%3A%200px%3B%20margin-right%3A%200px%3B%20margin-bottom%3A%200px%3B%20margin-left%3A%200px%3B%20padding-top%3A%200px%3B%20padding-right%3A%200px%3B%20padding-bottom%3A%200px%3B%20padding-left%3A%200px%3B%20font-size%3A%2012px%3B%20font-variant-ligatures%3A%20normal%3B%20font-variant-numeric%3A%20tabular-nums%3B%20font-variant-east-asian%3A%20normal%3B%20font-variant-caps%3A%20normal%3B%20line-height%3A%201.66667%3B%20list-style-position%3A%20initial%3B%20list-style-image%3A%20initial%3B%20list-style-type%3A%20none%3B%20position%3A%20absolute%3B%20display%3A%20none%3B%20color%3A%20rgb(24%2C%20144%2C%20255)%3B%20text-align%3A%20center%3B%20vertical-align%3A%20middle%3B%20opacity%3A%200%3B%20transition-duration%3A%200.3s%3B%20transition-timing-function%3A%20cubic-bezier(0.78%2C%200.14%2C%200.15%2C%200.86)%3B%20transition-delay%3A%200s%3B%20transition-property%3A%20transform%7D%0A.ant-root%20.ant-spin-spinning%20%7Bposition%3A%20static%3B%20display%3A%20inline-block%3B%20opacity%3A%201%7D%0A.ant-root%20.ant-spin-dot%20%7Bposition%3A%20relative%3B%20display%3A%20inline-block%3B%20font-size%3A%2020px%3B%20width%3A%201em%3B%20height%3A%201em%7D%0A.ant-root%20.ant-spin-dot-item%20%7Bposition%3A%20absolute%3B%20display%3A%20block%3B%20width%3A%209px%3B%20height%3A%209px%3B%20background-color%3A%20rgb(24%2C%20144%2C%20255)%3B%20border-top-left-radius%3A%20100%25%3B%20border-top-right-radius%3A%20100%25%3B%20border-bottom-right-radius%3A%20100%25%3B%20border-bottom-left-radius%3A%20100%25%3B%20transform%3A%20scale(0.75)%3B%20transform-origin%3A%2050%25%2050%25%3B%20opacity%3A%200.3%3B%20animation-duration%3A%201s%3B%20animation-timing-function%3A%20linear%3B%20animation-delay%3A%200s%3B%20animation-iteration-count%3A%20infinite%3B%20animation-direction%3A%20alternate%3B%20animation-fill-mode%3A%20none%3B%20animation-play-state%3A%20running%3B%20animation-name%3A%20antSpinMove%7D%0A.ant-root%20.ant-spin-dot-item%3Anth-child(1)%20%7Btop%3A%200px%3B%20left%3A%200px%7D%0A.ant-root%20.ant-spin-dot-item%3Anth-child(2)%20%7Btop%3A%200px%3B%20right%3A%200px%3B%20animation-delay%3A%200.4s%7D%0A.ant-root%20.ant-spin-dot-item%3Anth-child(3)%20%7Bright%3A%200px%3B%20bottom%3A%200px%3B%20animation-delay%3A%200.8s%7D%0A.ant-root%20.ant-spin-dot-item%3Anth-child(4)%20%7Bbottom%3A%200px%3B%20left%3A%200px%3B%20animation-delay%3A%201.2s%7D%0A.ant-root%20.ant-spin-dot-spin%20%7Btransform%3A%20rotate(45deg)%3B%20animation-duration%3A%201.2s%3B%20animation-timing-function%3A%20linear%3B%20animation-delay%3A%200s%3B%20animation-iteration-count%3A%20infinite%3B%20animation-direction%3A%20normal%3B%20animation-fill-mode%3A%20none%3B%20animation-play-state%3A%20running%3B%20animation-name%3A%20antRotate%7D%0A.ant-root%20.ant-spin-lg%20.ant-spin-dot%20%7Bfont-size%3A%2032px%7D%0A.ant-root%20.ant-spin-lg%20.ant-spin-dot%20i%20%7Bwidth%3A%2014px%3B%20height%3A%2014px%7D%0A.css-12ebr42-AWidget%20%7Bheight%3A%20100%25%7D%0A.css-6bqf7m-Spinner-ChartWithSpinner%20%7Bposition%3A%20relative%3B%20height%3A%20100%25%7D%0A.css-ck2xzt-Spinner%20%7B-webkit-box-align%3A%20center%3B%20align-items%3A%20center%3B%20background-image%3A%20initial%3B%20background-position-x%3A%20initial%3B%20background-position-y%3A%20initial%3B%20background-size%3A%20initial%3B%20background-repeat-x%3A%20initial%3B%20background-repeat-y%3A%20initial%3B%20background-attachment%3A%20initial%3B%20background-origin%3A%20initial%3B%20background-clip%3A%20initial%3B%20background-color%3A%20transparent%3B%20display%3A%20flex%3B%20height%3A%20100%25%3B%20-webkit-box-pack%3A%20center%3B%20justify-content%3A%20center%3B%20position%3A%20absolute%3B%20transition-duration%3A%20300ms%3B%20transition-timing-function%3A%20ease%3B%20transition-delay%3A%200s%3B%20transition-property%3A%20opacity%3B%20width%3A%20100%25%3B%20opacity%3A%200%3B%20pointer-events%3A%20none%3B%20z-index%3A%202%7D%0A.css-1u8fyhz-ChartWithMetaData%20%7Bheight%3A%20100%25%7D%0A.css-znpfyj-Plot%20%7Bheight%3A%20100%25%3B%20position%3A%20relative%3B%20width%3A%20100%25%7D%0A.css-mb8m0v-Plot%20%7Bposition%3A%20absolute%3B%20top%3A%200px%3B%20bottom%3A%200px%3B%20left%3A%200px%3B%20right%3A%200px%7D%0A.css-mb8m0v-Plot%20.js-plotly-plot%20%7Bheight%3A%20100%25%7D%0A.js-plotly-plot%20.plotly%20.modebar-btn%20svg%20%7Bposition%3A%20relative%3B%20top%3A%202px%7D%0A.js-plotly-plot%20.plotly%20.modebar-btn%20%7Bposition%3A%20relative%3B%20font-size%3A%2016px%3B%20padding-top%3A%203px%3B%20padding-right%3A%204px%3B%20padding-bottom%3A%203px%3B%20padding-left%3A%204px%3B%20height%3A%2022px%3B%20cursor%3A%20pointer%3B%20line-height%3A%20normal%3B%20box-sizing%3A%20border-box%7D%0A.js-plotly-plot%20.plotly%20.modebar-group%20%7Bfloat%3A%20left%3B%20display%3A%20inline-block%3B%20box-sizing%3A%20border-box%3B%20padding-left%3A%208px%3B%20position%3A%20relative%3B%20vertical-align%3A%20middle%3B%20white-space%3A%20nowrap%7D%0A.js-plotly-plot%20.plotly%20.modebar--hover%20%26gt%3B%20%3Anot(.watermark)%20%7Bopacity%3A%200%3B%20transition-duration%3A%200.3s%3B%20transition-timing-function%3A%20ease%3B%20transition-delay%3A%200s%3B%20transition-property%3A%20opacity%7D%0A.js-plotly-plot%20.plotly%20.ease-bg%20%7Btransition-duration%3A%200.3s%3B%20transition-timing-function%3A%20ease%3B%20transition-delay%3A%200s%3B%20transition-property%3A%20background-color%7D%0A.js-plotly-plot%20.plotly%20.modebar%20%7Bposition%3A%20absolute%3B%20top%3A%202px%3B%20right%3A%202px%7D%0A.js-plotly-plot%20.plotly%20.cursor-pointer%20%7Bcursor%3A%20pointer%7D%0A.js-plotly-plot%20.plotly%20.main-svg%20.draglayer%20%7Bpointer-events%3A%20all%7D%0A.js-plotly-plot%20.plotly%20.main-svg%20%7Bposition%3A%20absolute%3B%20top%3A%200px%3B%20left%3A%200px%3B%20pointer-events%3A%20none%7D%0A.js-plotly-plot%20.plotly%20svg%20%7Boverflow-x%3A%20hidden%3B%20overflow-y%3A%20hidden%7D%0A.js-plotly-plot%20.plotly%20.user-select-none%20%7Buser-select%3A%20none%7D%0A.js-plotly-plot%20.plotly%20a%20%7Btext-decoration-line%3A%20none%3B%20text-decoration-thickness%3A%20initial%3B%20text-decoration-style%3A%20initial%3B%20text-decoration-color%3A%20initial%7D%0A.js-plotly-plot%20.plotly%2C%20.js-plotly-plot%20.plotly%20div%20%7Bdirection%3A%20ltr%3B%20font-family%3A%20%22Open%20Sans%22%2C%20verdana%2C%20arial%2C%20sans-serif%3B%20margin-top%3A%200px%3B%20margin-right%3A%200px%3B%20margin-bottom%3A%200px%3B%20margin-left%3A%200px%3B%20padding-top%3A%200px%3B%20padding-right%3A%200px%3B%20padding-bottom%3A%200px%3B%20padding-left%3A%200px%7D%0A%23modebar-f72acd%20.modebar-btn%20.icon%20path%20%7Bfill%3A%20rgba(68%2C%2068%2C%2068%2C%200.3)%7D%0A*%20%7B-ms-overflow-style%3A%20none%3B%20scrollbar-width%3A%20none%7D%0A*%3A%3A-webkit-scrollbar%20%7Bdisplay%3A%20none%7D%0A.atoti-hidden-in-snapshot%20%7Bdisplay%3A%20none%7D%3C%2Fstyle%3E%3Cdiv%20xmlns%3D%22http%3A%2F%2Fwww.w3.org%2F1999%2Fxhtml%22%20style%3D%22height%3A%20352px%3B%20width%3A%20967px%3B%22%3E%3Cdiv%20class%3D%22ant-root%20css-0%22%3E%3Cdiv%20class%3D%22ant-dropdown-trigger%20css-12ebr42-AWidget%22%3E%3Cdiv%20class%3D%22css-6bqf7m-Spinner-ChartWithSpinner%22%3E%3Cdiv%20class%3D%22css-ck2xzt-Spinner%22%3E%3Cdiv%20class%3D%22ant-spin%20ant-spin-lg%20ant-spin-spinning%22%3E%3Cspan%20class%3D%22ant-spin-dot%20ant-spin-dot-spin%22%3E%3Ci%20class%3D%22ant-spin-dot-item%22%3E%3C%2Fi%3E%3Ci%20class%3D%22ant-spin-dot-item%22%3E%3C%2Fi%3E%3Ci%20class%3D%22ant-spin-dot-item%22%3E%3C%2Fi%3E%3Ci%20class%3D%22ant-spin-dot-item%22%3E%3C%2Fi%3E%3C%2Fspan%3E%3C%2Fdiv%3E%3C%2Fdiv%3E%3Cdiv%20class%3D%22css-1u8fyhz-ChartWithMetaData%22%3E%3Cdiv%20tabindex%3D%220%22%20class%3D%22css-znpfyj-Plot%22%3E%3Cdiv%20class%3D%22css-mb8m0v-Plot%22%3E%3Cdiv%20style%3D%22position%3A%20relative%3B%20display%3A%20inline-block%3B%22%20class%3D%22js-plotly-plot%22%3E%3Cdiv%20class%3D%22plot-container%20plotly%22%3E%3Cdiv%20class%3D%22user-select-none%20svg-container%22%20style%3D%22position%3A%20relative%3B%20width%3A%20967px%3B%20height%3A%20352px%3B%22%3E%3Csvg%20class%3D%22main-svg%22%20xmlns%3D%22http%3A%2F%2Fwww.w3.org%2F2000%2Fsvg%22%20xmlns%3Axlink%3D%22http%3A%2F%2Fwww.w3.org%2F1999%2Fxlink%22%20width%3D%22967%22%20height%3D%22352%22%20style%3D%22background%3A%20rgb(255%2C%20255%2C%20255)%3B%22%3E%3Cdefs%20id%3D%22defs-f72acd%22%3E%3Cg%20class%3D%22clips%22%2F%3E%3Cg%20class%3D%22gradients%22%2F%3E%3C%2Fdefs%3E%3Cg%20class%3D%22bglayer%22%2F%3E%3Cg%20class%3D%22draglayer%22%2F%3E%3Cg%20class%3D%22layer-below%22%3E%3Cg%20class%3D%22imagelayer%22%2F%3E%3Cg%20class%3D%22shapelayer%22%2F%3E%3C%2Fg%3E%3Cg%20class%3D%22cartesianlayer%22%2F%3E%3Cg%20class%3D%22polarlayer%22%2F%3E%3Cg%20class%3D%22ternarylayer%22%2F%3E%3Cg%20class%3D%22geolayer%22%2F%3E%3Cg%20class%3D%22funnelarealayer%22%2F%3E%3Cg%20class%3D%22pielayer%22%2F%3E%3Cg%20class%3D%22treemaplayer%22%3E%3Cg%20class%3D%22trace%20treemap%22%20style%3D%22opacity%3A%201%3B%22%3E%3Cg%20class%3D%22slice%20cursor-pointer%22%3E%3Cpath%20class%3D%22surface%22%20d%3D%22M80%2C30L967%2C30L967%2C272L80%2C272Z%22%20style%3D%22pointer-events%3A%20all%3B%20stroke-width%3A%200%3B%20fill%3A%20rgb(0%2C%200%2C%200)%3B%20fill-opacity%3A%200%3B%20stroke%3A%20rgb(0%2C%200%2C%200)%3B%20stroke-opacity%3A%200%3B%20opacity%3A%20100%3B%22%2F%3E%3Cg%20class%3D%22slicetext%22%3E%3Ctext%20data-notex%3D%221%22%20class%3D%22slicetext%22%20text-anchor%3D%22start%22%20data-unformatted%3D%22%20%22%20data-math%3D%22N%22%20x%3D%220%22%20y%3D%220%22%20style%3D%22font-family%3A%20%26quot%3BOpen%20Sans%26quot%3B%2C%20verdana%2C%20arial%2C%20sans-serif%3B%20font-size%3A%2012px%3B%20fill%3A%20rgb(89%2C%2089%2C%2089)%3B%20fill-opacity%3A%201%3B%20white-space%3A%20pre%3B%22%20transform%3D%22translate(86%2C45)%22%3E%20%3C%2Ftext%3E%3C%2Fg%3E%3C%2Fg%3E%3Cg%20class%3D%22slice%20cursor-pointer%22%3E%3Cpath%20class%3D%22surface%22%20d%3D%22M86%2C54L263.9579507098065%2C54L263.9579507098065%2C266L86%2C266Z%22%20style%3D%22pointer-events%3A%20all%3B%20stroke-width%3A%201%3B%20fill%3A%20rgb(111%2C%20146%2C%20184)%3B%20fill-opacity%3A%201%3B%20stroke%3A%20rgb(255%2C%20255%2C%20255)%3B%20stroke-opacity%3A%201%3B%20opacity%3A%201%3B%22%2F%3E%3Cg%20class%3D%22slicetext%22%3E%3Ctext%20data-notex%3D%221%22%20class%3D%22slicetext%22%20text-anchor%3D%22start%22%20data-unformatted%3D%22Arizona%22%20data-math%3D%22N%22%20x%3D%220%22%20y%3D%220%22%20style%3D%22font-family%3A%20%26quot%3BOpen%20Sans%26quot%3B%2C%20verdana%2C%20arial%2C%20sans-serif%3B%20font-size%3A%2012px%3B%20fill%3A%20rgb(255%2C%20255%2C%20255)%3B%20fill-opacity%3A%201%3B%20white-space%3A%20pre%3B%22%20transform%3D%22translate(92%2C69)%22%3EArizona%3C%2Ftext%3E%3C%2Fg%3E%3C%2Fg%3E%3Cg%20class%3D%22slice%20cursor-pointer%22%3E%3Cpath%20class%3D%22surface%22%20d%3D%22M266.9579507098065%2C54L440.23570566547517%2C54L440.23570566547517%2C266.00000000000006L266.9579507098065%2C266.00000000000006Z%22%20style%3D%22pointer-events%3A%20all%3B%20stroke-width%3A%201%3B%20fill%3A%20rgb(245%2C%20163%2C%2084)%3B%20fill-opacity%3A%201%3B%20stroke%3A%20rgb(255%2C%20255%2C%20255)%3B%20stroke-opacity%3A%201%3B%20opacity%3A%201%3B%22%2F%3E%3Cg%20class%3D%22slicetext%22%3E%3Ctext%20data-notex%3D%221%22%20class%3D%22slicetext%22%20text-anchor%3D%22start%22%20data-unformatted%3D%22California%22%20data-math%3D%22N%22%20x%3D%220%22%20y%3D%220%22%20style%3D%22font-family%3A%20%26quot%3BOpen%20Sans%26quot%3B%2C%20verdana%2C%20arial%2C%20sans-serif%3B%20font-size%3A%2012px%3B%20fill%3A%20rgb(68%2C%2068%2C%2068)%3B%20fill-opacity%3A%201%3B%20white-space%3A%20pre%3B%22%20transform%3D%22translate(272.9579507098065%2C69)%22%3ECalifornia%3C%2Ftext%3E%3C%2Fg%3E%3C%2Fg%3E%3Cg%20class%3D%22slice%20cursor-pointer%22%3E%3Cpath%20class%3D%22surface%22%20d%3D%22M443.23570566547517%2C54L616.4861478683624%2C54L616.4861478683624%2C266L443.23570566547517%2C266Z%22%20style%3D%22pointer-events%3A%20all%3B%20stroke-width%3A%201%3B%20fill%3A%20rgb(231%2C%20119%2C%20120)%3B%20fill-opacity%3A%201%3B%20stroke%3A%20rgb(255%2C%20255%2C%20255)%3B%20stroke-opacity%3A%201%3B%20opacity%3A%201%3B%22%2F%3E%3Cg%20class%3D%22slicetext%22%3E%3Ctext%20data-notex%3D%221%22%20class%3D%22slicetext%22%20text-anchor%3D%22start%22%20data-unformatted%3D%22Oregon%22%20data-math%3D%22N%22%20x%3D%220%22%20y%3D%220%22%20style%3D%22font-family%3A%20%26quot%3BOpen%20Sans%26quot%3B%2C%20verdana%2C%20arial%2C%20sans-serif%3B%20font-size%3A%2012px%3B%20fill%3A%20rgb(68%2C%2068%2C%2068)%3B%20fill-opacity%3A%201%3B%20white-space%3A%20pre%3B%22%20transform%3D%22translate(449.23570566547517%2C69)%22%3EOregon%3C%2Ftext%3E%3C%2Fg%3E%3C%2Fg%3E%3Cg%20class%3D%22slice%20cursor-pointer%22%3E%3Cpath%20class%3D%22surface%22%20d%3D%22M619.4861478683624%2C54L791.7357847678813%2C54L791.7357847678813%2C266L619.4861478683624%2C266Z%22%20style%3D%22pointer-events%3A%20all%3B%20stroke-width%3A%201%3B%20fill%3A%20rgb(144%2C%20197%2C%20193)%3B%20fill-opacity%3A%201%3B%20stroke%3A%20rgb(255%2C%20255%2C%20255)%3B%20stroke-opacity%3A%201%3B%20opacity%3A%201%3B%22%2F%3E%3Cg%20class%3D%22slicetext%22%3E%3Ctext%20data-notex%3D%221%22%20class%3D%22slicetext%22%20text-anchor%3D%22start%22%20data-unformatted%3D%22Nevada%22%20data-math%3D%22N%22%20x%3D%220%22%20y%3D%220%22%20style%3D%22font-family%3A%20%26quot%3BOpen%20Sans%26quot%3B%2C%20verdana%2C%20arial%2C%20sans-serif%3B%20font-size%3A%2012px%3B%20fill%3A%20rgb(68%2C%2068%2C%2068)%3B%20fill-opacity%3A%201%3B%20white-space%3A%20pre%3B%22%20transform%3D%22translate(625.4861478683624%2C69)%22%3ENevada%3C%2Ftext%3E%3C%2Fg%3E%3C%2Fg%3E%3Cg%20class%3D%22slice%20cursor-pointer%22%3E%3Cpath%20class%3D%22surface%22%20d%3D%22M794.7357847678813%2C54L961%2C54L961%2C265.99999999999994L794.7357847678813%2C265.99999999999994Z%22%20style%3D%22pointer-events%3A%20all%3B%20stroke-width%3A%201%3B%20fill%3A%20rgb(120%2C%20179%2C%20112)%3B%20fill-opacity%3A%201%3B%20stroke%3A%20rgb(255%2C%20255%2C%20255)%3B%20stroke-opacity%3A%201%3B%20opacity%3A%201%3B%22%2F%3E%3Cg%20class%3D%22slicetext%22%3E%3Ctext%20data-notex%3D%221%22%20class%3D%22slicetext%22%20text-anchor%3D%22start%22%20data-unformatted%3D%22Washington%22%20data-math%3D%22N%22%20x%3D%220%22%20y%3D%220%22%20style%3D%22font-family%3A%20%26quot%3BOpen%20Sans%26quot%3B%2C%20verdana%2C%20arial%2C%20sans-serif%3B%20font-size%3A%2012px%3B%20fill%3A%20rgb(68%2C%2068%2C%2068)%3B%20fill-opacity%3A%201%3B%20white-space%3A%20pre%3B%22%20transform%3D%22translate(800.7357847678813%2C69)%22%3EWashington%3C%2Ftext%3E%3C%2Fg%3E%3C%2Fg%3E%3Cg%20class%3D%22slice%20cursor-pointer%22%3E%3Cpath%20class%3D%22surface%22%20d%3D%22M92%2C78L176.84195028241646%2C78L176.84195028241646%2C200.85402387670592L92%2C200.85402387670592Z%22%20style%3D%22pointer-events%3A%20all%3B%20stroke-width%3A%201%3B%20fill%3A%20rgb(78%2C%20121%2C%20167)%3B%20fill-opacity%3A%201%3B%20stroke%3A%20rgb(255%2C%20255%2C%20255)%3B%20stroke-opacity%3A%201%3B%20opacity%3A%201%3B%22%2F%3E%3Cg%20class%3D%22slicetext%22%3E%3Ctext%20data-notex%3D%221%22%20class%3D%22slicetext%22%20text-anchor%3D%22start%22%20data-unformatted%3D%22Suburban%22%20data-math%3D%22N%22%20x%3D%220%22%20y%3D%220%22%20style%3D%22font-family%3A%20%26quot%3BOpen%20Sans%26quot%3B%2C%20verdana%2C%20arial%2C%20sans-serif%3B%20font-size%3A%2012px%3B%20fill%3A%20rgb(255%2C%20255%2C%20255)%3B%20fill-opacity%3A%201%3B%20white-space%3A%20pre%3B%22%20transform%3D%22translate(95%2C93)%22%3ESuburban%3C%2Ftext%3E%3C%2Fg%3E%3C%2Fg%3E%3Cg%20class%3D%22slice%20cursor-pointer%22%3E%3Cpath%20class%3D%22surface%22%20d%3D%22M179.84195028241646%2C78L257.9579507098065%2C78L257.9579507098065%2C200.85402387670592L179.84195028241646%2C200.85402387670592Z%22%20style%3D%22pointer-events%3A%20all%3B%20stroke-width%3A%201%3B%20fill%3A%20rgb(78%2C%20121%2C%20167)%3B%20fill-opacity%3A%201%3B%20stroke%3A%20rgb(255%2C%20255%2C%20255)%3B%20stroke-opacity%3A%201%3B%20opacity%3A%201%3B%22%2F%3E%3Cg%20class%3D%22slicetext%22%3E%3Ctext%20data-notex%3D%221%22%20class%3D%22slicetext%22%20text-anchor%3D%22start%22%20data-unformatted%3D%22Rural%22%20data-math%3D%22N%22%20x%3D%220%22%20y%3D%220%22%20style%3D%22font-family%3A%20%26quot%3BOpen%20Sans%26quot%3B%2C%20verdana%2C%20arial%2C%20sans-serif%3B%20font-size%3A%2012px%3B%20fill%3A%20rgb(255%2C%20255%2C%20255)%3B%20fill-opacity%3A%201%3B%20white-space%3A%20pre%3B%22%20transform%3D%22translate(182.84195028241646%2C93)%22%3ERural%3C%2Ftext%3E%3C%2Fg%3E%3C%2Fg%3E%3Cg%20class%3D%22slice%20cursor-pointer%22%3E%3Cpath%20class%3D%22surface%22%20d%3D%22M92%2C203.85402387670592L257.9579507098065%2C203.85402387670592L257.9579507098065%2C260L92%2C260Z%22%20style%3D%22pointer-events%3A%20all%3B%20stroke-width%3A%201%3B%20fill%3A%20rgb(78%2C%20121%2C%20167)%3B%20fill-opacity%3A%201%3B%20stroke%3A%20rgb(255%2C%20255%2C%20255)%3B%20stroke-opacity%3A%201%3B%20opacity%3A%201%3B%22%2F%3E%3Cg%20class%3D%22slicetext%22%3E%3Ctext%20data-notex%3D%221%22%20class%3D%22slicetext%22%20text-anchor%3D%22start%22%20data-unformatted%3D%22Urban%22%20data-math%3D%22N%22%20x%3D%220%22%20y%3D%220%22%20style%3D%22font-family%3A%20%26quot%3BOpen%20Sans%26quot%3B%2C%20verdana%2C%20arial%2C%20sans-serif%3B%20font-size%3A%2012px%3B%20fill%3A%20rgb(255%2C%20255%2C%20255)%3B%20fill-opacity%3A%201%3B%20white-space%3A%20pre%3B%22%20transform%3D%22translate(95%2C218.85402387670592)%22%3EUrban%3C%2Ftext%3E%3C%2Fg%3E%3C%2Fg%3E%3Cg%20class%3D%22slice%20cursor-pointer%22%3E%3Cpath%20class%3D%22surface%22%20d%3D%22M272.9579507098065%2C78L352.5157461775646%2C78L352.5157461775646%2C201.88972223718693L272.9579507098065%2C201.88972223718693Z%22%20style%3D%22pointer-events%3A%20all%3B%20stroke-width%3A%201%3B%20fill%3A%20rgb(242%2C%20142%2C%2044)%3B%20fill-opacity%3A%201%3B%20stroke%3A%20rgb(255%2C%20255%2C%20255)%3B%20stroke-opacity%3A%201%3B%20opacity%3A%201%3B%22%2F%3E%3Cg%20class%3D%22slicetext%22%3E%3Ctext%20data-notex%3D%221%22%20class%3D%22slicetext%22%20text-anchor%3D%22start%22%20data-unformatted%3D%22Suburban%22%20data-math%3D%22N%22%20x%3D%220%22%20y%3D%220%22%20style%3D%22font-family%3A%20%26quot%3BOpen%20Sans%26quot%3B%2C%20verdana%2C%20arial%2C%20sans-serif%3B%20font-size%3A%2012px%3B%20fill%3A%20rgb(68%2C%2068%2C%2068)%3B%20fill-opacity%3A%201%3B%20white-space%3A%20pre%3B%22%20transform%3D%22translate(275.9579507098065%2C93)%22%3ESuburban%3C%2Ftext%3E%3C%2Fg%3E%3C%2Fg%3E%3Cg%20class%3D%22slice%20cursor-pointer%22%3E%3Cpath%20class%3D%22surface%22%20d%3D%22M355.5157461775646%2C78L434.2357056654752%2C78L434.2357056654752%2C201.88972223718693L355.5157461775646%2C201.88972223718693Z%22%20style%3D%22pointer-events%3A%20all%3B%20stroke-width%3A%201%3B%20fill%3A%20rgb(242%2C%20142%2C%2044)%3B%20fill-opacity%3A%201%3B%20stroke%3A%20rgb(255%2C%20255%2C%20255)%3B%20stroke-opacity%3A%201%3B%20opacity%3A%201%3B%22%2F%3E%3Cg%20class%3D%22slicetext%22%3E%3Ctext%20data-notex%3D%221%22%20class%3D%22slicetext%22%20text-anchor%3D%22start%22%20data-unformatted%3D%22Rural%22%20data-math%3D%22N%22%20x%3D%220%22%20y%3D%220%22%20style%3D%22font-family%3A%20%26quot%3BOpen%20Sans%26quot%3B%2C%20verdana%2C%20arial%2C%20sans-serif%3B%20font-size%3A%2012px%3B%20fill%3A%20rgb(68%2C%2068%2C%2068)%3B%20fill-opacity%3A%201%3B%20white-space%3A%20pre%3B%22%20transform%3D%22translate(358.5157461775646%2C93)%22%3ERural%3C%2Ftext%3E%3C%2Fg%3E%3C%2Fg%3E%3Cg%20class%3D%22slice%20cursor-pointer%22%3E%3Cpath%20class%3D%22surface%22%20d%3D%22M272.9579507098065%2C204.88972223718693L434.23570566547517%2C204.88972223718693L434.23570566547517%2C260.00000000000006L272.9579507098065%2C260.00000000000006Z%22%20style%3D%22pointer-events%3A%20all%3B%20stroke-width%3A%201%3B%20fill%3A%20rgb(242%2C%20142%2C%2044)%3B%20fill-opacity%3A%201%3B%20stroke%3A%20rgb(255%2C%20255%2C%20255)%3B%20stroke-opacity%3A%201%3B%20opacity%3A%201%3B%22%2F%3E%3Cg%20class%3D%22slicetext%22%3E%3Ctext%20data-notex%3D%221%22%20class%3D%22slicetext%22%20text-anchor%3D%22start%22%20data-unformatted%3D%22Urban%22%20data-math%3D%22N%22%20x%3D%220%22%20y%3D%220%22%20style%3D%22font-family%3A%20%26quot%3BOpen%20Sans%26quot%3B%2C%20verdana%2C%20arial%2C%20sans-serif%3B%20font-size%3A%2012px%3B%20fill%3A%20rgb(68%2C%2068%2C%2068)%3B%20fill-opacity%3A%201%3B%20white-space%3A%20pre%3B%22%20transform%3D%22translate(275.9579507098065%2C219.88972223718693)%22%3EUrban%3C%2Ftext%3E%3C%2Fg%3E%3C%2Fg%3E%3Cg%20class%3D%22slice%20cursor-pointer%22%3E%3Cpath%20class%3D%22surface%22%20d%3D%22M449.23570566547517%2C78L533.3008419824599%2C78L533.3008419824599%2C202.86038430990473L449.23570566547517%2C202.86038430990473Z%22%20style%3D%22pointer-events%3A%20all%3B%20stroke-width%3A%201%3B%20fill%3A%20rgb(225%2C%2087%2C%2089)%3B%20fill-opacity%3A%201%3B%20stroke%3A%20rgb(255%2C%20255%2C%20255)%3B%20stroke-opacity%3A%201%3B%20opacity%3A%201%3B%22%2F%3E%3Cg%20class%3D%22slicetext%22%3E%3Ctext%20data-notex%3D%221%22%20class%3D%22slicetext%22%20text-anchor%3D%22start%22%20data-unformatted%3D%22Rural%22%20data-math%3D%22N%22%20x%3D%220%22%20y%3D%220%22%20style%3D%22font-family%3A%20%26quot%3BOpen%20Sans%26quot%3B%2C%20verdana%2C%20arial%2C%20sans-serif%3B%20font-size%3A%2012px%3B%20fill%3A%20rgb(68%2C%2068%2C%2068)%3B%20fill-opacity%3A%201%3B%20white-space%3A%20pre%3B%22%20transform%3D%22translate(452.23570566547517%2C93)%22%3ERural%3C%2Ftext%3E%3C%2Fg%3E%3C%2Fg%3E%3Cg%20class%3D%22slice%20cursor-pointer%22%3E%3Cpath%20class%3D%22surface%22%20d%3D%22M536.3008419824599%2C78L610.4861478683624%2C78L610.4861478683624%2C202.86038430990473L536.3008419824599%2C202.86038430990473Z%22%20style%3D%22pointer-events%3A%20all%3B%20stroke-width%3A%201%3B%20fill%3A%20rgb(225%2C%2087%2C%2089)%3B%20fill-opacity%3A%201%3B%20stroke%3A%20rgb(255%2C%20255%2C%20255)%3B%20stroke-opacity%3A%201%3B%20opacity%3A%201%3B%22%2F%3E%3Cg%20class%3D%22slicetext%22%3E%3Ctext%20data-notex%3D%221%22%20class%3D%22slicetext%22%20text-anchor%3D%22start%22%20data-unformatted%3D%22Suburban%22%20data-math%3D%22N%22%20x%3D%220%22%20y%3D%220%22%20style%3D%22font-family%3A%20%26quot%3BOpen%20Sans%26quot%3B%2C%20verdana%2C%20arial%2C%20sans-serif%3B%20font-size%3A%2012px%3B%20fill%3A%20rgb(68%2C%2068%2C%2068)%3B%20fill-opacity%3A%201%3B%20white-space%3A%20pre%3B%22%20transform%3D%22translate(539.3008419824599%2C93)%22%3ESuburban%3C%2Ftext%3E%3C%2Fg%3E%3C%2Fg%3E%3Cg%20class%3D%22slice%20cursor-pointer%22%3E%3Cpath%20class%3D%22surface%22%20d%3D%22M449.23570566547517%2C205.86038430990473L610.4861478683624%2C205.86038430990473L610.4861478683624%2C260L449.23570566547517%2C260Z%22%20style%3D%22pointer-events%3A%20all%3B%20stroke-width%3A%201%3B%20fill%3A%20rgb(225%2C%2087%2C%2089)%3B%20fill-opacity%3A%201%3B%20stroke%3A%20rgb(255%2C%20255%2C%20255)%3B%20stroke-opacity%3A%201%3B%20opacity%3A%201%3B%22%2F%3E%3Cg%20class%3D%22slicetext%22%3E%3Ctext%20data-notex%3D%221%22%20class%3D%22slicetext%22%20text-anchor%3D%22start%22%20data-unformatted%3D%22Urban%22%20data-math%3D%22N%22%20x%3D%220%22%20y%3D%220%22%20style%3D%22font-family%3A%20%26quot%3BOpen%20Sans%26quot%3B%2C%20verdana%2C%20arial%2C%20sans-serif%3B%20font-size%3A%2012px%3B%20fill%3A%20rgb(68%2C%2068%2C%2068)%3B%20fill-opacity%3A%201%3B%20white-space%3A%20pre%3B%22%20transform%3D%22translate(452.23570566547517%2C220.86038430990473)%22%3EUrban%3C%2Ftext%3E%3C%2Fg%3E%3C%2Fg%3E%3Cg%20class%3D%22slice%20cursor-pointer%22%3E%3Cpath%20class%3D%22surface%22%20d%3D%22M625.4861478683624%2C78L710.5997765775171%2C78L710.5997765775171%2C202.7278245646664L625.4861478683624%2C202.7278245646664Z%22%20style%3D%22pointer-events%3A%20all%3B%20stroke-width%3A%201%3B%20fill%3A%20rgb(118%2C%20183%2C%20178)%3B%20fill-opacity%3A%201%3B%20stroke%3A%20rgb(255%2C%20255%2C%20255)%3B%20stroke-opacity%3A%201%3B%20opacity%3A%201%3B%22%2F%3E%3Cg%20class%3D%22slicetext%22%3E%3Ctext%20data-notex%3D%221%22%20class%3D%22slicetext%22%20text-anchor%3D%22start%22%20data-unformatted%3D%22Suburban%22%20data-math%3D%22N%22%20x%3D%220%22%20y%3D%220%22%20style%3D%22font-family%3A%20%26quot%3BOpen%20Sans%26quot%3B%2C%20verdana%2C%20arial%2C%20sans-serif%3B%20font-size%3A%2012px%3B%20fill%3A%20rgb(68%2C%2068%2C%2068)%3B%20fill-opacity%3A%201%3B%20white-space%3A%20pre%3B%22%20transform%3D%22translate(628.4861478683624%2C93)%22%3ESuburban%3C%2Ftext%3E%3C%2Fg%3E%3C%2Fg%3E%3Cg%20class%3D%22slice%20cursor-pointer%22%3E%3Cpath%20class%3D%22surface%22%20d%3D%22M713.5997765775171%2C78L785.7357847678813%2C78L785.7357847678813%2C202.7278245646664L713.5997765775171%2C202.7278245646664Z%22%20style%3D%22pointer-events%3A%20all%3B%20stroke-width%3A%201%3B%20fill%3A%20rgb(118%2C%20183%2C%20178)%3B%20fill-opacity%3A%201%3B%20stroke%3A%20rgb(255%2C%20255%2C%20255)%3B%20stroke-opacity%3A%201%3B%20opacity%3A%201%3B%22%2F%3E%3Cg%20class%3D%22slicetext%22%3E%3Ctext%20data-notex%3D%221%22%20class%3D%22slicetext%22%20text-anchor%3D%22start%22%20data-unformatted%3D%22Urban%22%20data-math%3D%22N%22%20x%3D%220%22%20y%3D%220%22%20style%3D%22font-family%3A%20%26quot%3BOpen%20Sans%26quot%3B%2C%20verdana%2C%20arial%2C%20sans-serif%3B%20font-size%3A%2012px%3B%20fill%3A%20rgb(68%2C%2068%2C%2068)%3B%20fill-opacity%3A%201%3B%20white-space%3A%20pre%3B%22%20transform%3D%22translate(716.5997765775171%2C93)%22%3EUrban%3C%2Ftext%3E%3C%2Fg%3E%3C%2Fg%3E%3Cg%20class%3D%22slice%20cursor-pointer%22%3E%3Cpath%20class%3D%22surface%22%20d%3D%22M625.4861478683624%2C205.7278245646664L785.7357847678813%2C205.7278245646664L785.7357847678813%2C260L625.4861478683624%2C260Z%22%20style%3D%22pointer-events%3A%20all%3B%20stroke-width%3A%201%3B%20fill%3A%20rgb(118%2C%20183%2C%20178)%3B%20fill-opacity%3A%201%3B%20stroke%3A%20rgb(255%2C%20255%2C%20255)%3B%20stroke-opacity%3A%201%3B%20opacity%3A%201%3B%22%2F%3E%3Cg%20class%3D%22slicetext%22%3E%3Ctext%20data-notex%3D%221%22%20class%3D%22slicetext%22%20text-anchor%3D%22start%22%20data-unformatted%3D%22Rural%22%20data-math%3D%22N%22%20x%3D%220%22%20y%3D%220%22%20style%3D%22font-family%3A%20%26quot%3BOpen%20Sans%26quot%3B%2C%20verdana%2C%20arial%2C%20sans-serif%3B%20font-size%3A%2012px%3B%20fill%3A%20rgb(68%2C%2068%2C%2068)%3B%20fill-opacity%3A%201%3B%20white-space%3A%20pre%3B%22%20transform%3D%22translate(628.4861478683624%2C220.7278245646664)%22%3ERural%3C%2Ftext%3E%3C%2Fg%3E%3C%2Fg%3E%3Cg%20class%3D%22slice%20cursor-pointer%22%3E%3Cpath%20class%3D%22surface%22%20d%3D%22M800.7357847678813%2C78L877.4689524275038%2C78L877.4689524275038%2C199.8700749591984L800.7357847678813%2C199.8700749591984Z%22%20style%3D%22pointer-events%3A%20all%3B%20stroke-width%3A%201%3B%20fill%3A%20rgb(89%2C%20161%2C%2079)%3B%20fill-opacity%3A%201%3B%20stroke%3A%20rgb(255%2C%20255%2C%20255)%3B%20stroke-opacity%3A%201%3B%20opacity%3A%201%3B%22%2F%3E%3Cg%20class%3D%22slicetext%22%3E%3Ctext%20data-notex%3D%221%22%20class%3D%22slicetext%22%20text-anchor%3D%22start%22%20data-unformatted%3D%22Urban%22%20data-math%3D%22N%22%20x%3D%220%22%20y%3D%220%22%20style%3D%22font-family%3A%20%26quot%3BOpen%20Sans%26quot%3B%2C%20verdana%2C%20arial%2C%20sans-serif%3B%20font-size%3A%2012px%3B%20fill%3A%20rgb(68%2C%2068%2C%2068)%3B%20fill-opacity%3A%201%3B%20white-space%3A%20pre%3B%22%20transform%3D%22translate(803.7357847678813%2C93)%22%3EUrban%3C%2Ftext%3E%3C%2Fg%3E%3C%2Fg%3E%3Cg%20class%3D%22slice%20cursor-pointer%22%3E%3Cpath%20class%3D%22surface%22%20d%3D%22M880.4689524275038%2C78L954.9999999999999%2C78L954.9999999999999%2C199.8700749591984L880.4689524275038%2C199.8700749591984Z%22%20style%3D%22pointer-events%3A%20all%3B%20stroke-width%3A%201%3B%20fill%3A%20rgb(89%2C%20161%2C%2079)%3B%20fill-opacity%3A%201%3B%20stroke%3A%20rgb(255%2C%20255%2C%20255)%3B%20stroke-opacity%3A%201%3B%20opacity%3A%201%3B%22%2F%3E%3Cg%20class%3D%22slicetext%22%3E%3Ctext%20data-notex%3D%221%22%20class%3D%22slicetext%22%20text-anchor%3D%22start%22%20data-unformatted%3D%22Suburban%22%20data-math%3D%22N%22%20x%3D%220%22%20y%3D%220%22%20style%3D%22font-family%3A%20%26quot%3BOpen%20Sans%26quot%3B%2C%20verdana%2C%20arial%2C%20sans-serif%3B%20font-size%3A%2012px%3B%20fill%3A%20rgb(68%2C%2068%2C%2068)%3B%20fill-opacity%3A%201%3B%20white-space%3A%20pre%3B%22%20transform%3D%22translate(883.4689524275038%2C93)%22%3ESuburban%3C%2Ftext%3E%3C%2Fg%3E%3C%2Fg%3E%3Cg%20class%3D%22slice%20cursor-pointer%22%3E%3Cpath%20class%3D%22surface%22%20d%3D%22M800.7357847678813%2C202.8700749591984L955%2C202.8700749591984L955%2C259.99999999999994L800.7357847678813%2C259.99999999999994Z%22%20style%3D%22pointer-events%3A%20all%3B%20stroke-width%3A%201%3B%20fill%3A%20rgb(89%2C%20161%2C%2079)%3B%20fill-opacity%3A%201%3B%20stroke%3A%20rgb(255%2C%20255%2C%20255)%3B%20stroke-opacity%3A%201%3B%20opacity%3A%201%3B%22%2F%3E%3Cg%20class%3D%22slicetext%22%3E%3Ctext%20data-notex%3D%221%22%20class%3D%22slicetext%22%20text-anchor%3D%22start%22%20data-unformatted%3D%22Rural%22%20data-math%3D%22N%22%20x%3D%220%22%20y%3D%220%22%20style%3D%22font-family%3A%20%26quot%3BOpen%20Sans%26quot%3B%2C%20verdana%2C%20arial%2C%20sans-serif%3B%20font-size%3A%2012px%3B%20fill%3A%20rgb(68%2C%2068%2C%2068)%3B%20fill-opacity%3A%201%3B%20white-space%3A%20pre%3B%22%20transform%3D%22translate(803.7357847678813%2C217.8700749591984)%22%3ERural%3C%2Ftext%3E%3C%2Fg%3E%3C%2Fg%3E%3C%2Fg%3E%3C%2Fg%3E%3Cg%20class%3D%22sunburstlayer%22%2F%3E%3Cg%20class%3D%22glimages%22%2F%3E%3C%2Fsvg%3E%3Cdiv%20class%3D%22gl-container%22%3E%3C%2Fdiv%3E%3Csvg%20class%3D%22main-svg%22%20xmlns%3D%22http%3A%2F%2Fwww.w3.org%2F2000%2Fsvg%22%20xmlns%3Axlink%3D%22http%3A%2F%2Fwww.w3.org%2F1999%2Fxlink%22%20width%3D%22967%22%20height%3D%22352%22%3E%3Cdefs%20id%3D%22topdefs-f72acd%22%3E%3Cg%20class%3D%22clips%22%2F%3E%3C%2Fdefs%3E%3Cg%20class%3D%22indicatorlayer%22%2F%3E%3Cg%20class%3D%22layer-above%22%3E%3Cg%20class%3D%22imagelayer%22%2F%3E%3Cg%20class%3D%22shapelayer%22%2F%3E%3C%2Fg%3E%3Cg%20class%3D%22infolayer%22%3E%3Cg%20class%3D%22g-gtitle%22%2F%3E%3C%2Fg%3E%3Cg%20class%3D%22menulayer%22%2F%3E%3Cg%20class%3D%22zoomlayer%22%2F%3E%3C%2Fsvg%3E%3Cdiv%20class%3D%22modebar-container%22%20style%3D%22position%3A%20absolute%3B%20top%3A%200px%3B%20right%3A%200px%3B%20width%3A%20100%25%3B%22%3E%3Cdiv%20id%3D%22modebar-f72acd%22%20class%3D%22modebar%20modebar--hover%20ease-bg%22%3E%3Cdiv%20class%3D%22modebar-group%22%3E%3Ca%20rel%3D%22tooltip%22%20class%3D%22modebar-btn%22%20data-title%3D%22Download%20plot%20as%20a%20png%22%20data-toggle%3D%22false%22%20data-gravity%3D%22n%22%3E%3Csvg%20xmlns%3D%22http%3A%2F%2Fwww.w3.org%2F2000%2Fsvg%22%20viewBox%3D%220%200%201000%201000%22%20class%3D%22icon%22%20height%3D%221em%22%20width%3D%221em%22%3E%3Cpath%20d%3D%22m500%20450c-83%200-150-67-150-150%200-83%2067-150%20150-150%2083%200%20150%2067%20150%20150%200%2083-67%20150-150%20150z%20m400%20150h-120c-16%200-34%2013-39%2029l-31%2093c-6%2015-23%2028-40%2028h-340c-16%200-34-13-39-28l-31-94c-6-15-23-28-40-28h-120c-55%200-100-45-100-100v-450c0-55%2045-100%20100-100h800c55%200%20100%2045%20100%20100v450c0%2055-45%20100-100%20100z%20m-400-550c-138%200-250%20112-250%20250%200%20138%20112%20250%20250%20250%20138%200%20250-112%20250-250%200-138-112-250-250-250z%20m365%20380c-19%200-35%2016-35%2035%200%2019%2016%2035%2035%2035%2019%200%2035-16%2035-35%200-19-16-35-35-35z%22%20transform%3D%22matrix(1%200%200%20-1%200%20850)%22%2F%3E%3C%2Fsvg%3E%3C%2Fa%3E%3C%2Fdiv%3E%3Cdiv%20class%3D%22modebar-group%22%3E%3C%2Fdiv%3E%3C%2Fdiv%3E%3C%2Fdiv%3E%3Csvg%20class%3D%22main-svg%22%20xmlns%3D%22http%3A%2F%2Fwww.w3.org%2F2000%2Fsvg%22%20xmlns%3Axlink%3D%22http%3A%2F%2Fwww.w3.org%2F1999%2Fxlink%22%20width%3D%22967%22%20height%3D%22352%22%3E%3Cg%20class%3D%22hoverlayer%22%2F%3E%3C%2Fsvg%3E%3C%2Fdiv%3E%3C%2Fdiv%3E%3C%2Fdiv%3E%3C%2Fdiv%3E%3C%2Fdiv%3E%3C%2Fdiv%3E%3C%2Fdiv%3E%3C%2Fdiv%3E%3C%2Fdiv%3E%3C%2Fdiv%3E%3C%2FforeignObject%3E%3C%2Fsvg%3E\">"
      ],
      "text/plain": [
       "Open the notebook in JupyterLab with the atoti extension enabled to build this widget."
      ]
     },
     "metadata": {},
     "output_type": "display_data"
    }
   ],
   "source": [
    "session.visualize(\"Revenue realized by State and location code\")"
   ]
  },
  {
   "cell_type": "code",
   "execution_count": 28,
   "id": "f1b5f2fb-e29d-4ce7-b80b-1240ed577a99",
   "metadata": {
    "atoti": {
     "height": 352,
     "widget": {
      "mapping": {
       "horizontalSubplots": [],
       "splitBy": [
        "ALL_MEASURES"
       ],
       "values": [
        "[Measures].[revenue_realised_propotion]"
       ],
       "verticalSubplots": [],
       "xAxis": [
        "[predictions].[Policy_Type].[Policy_Type]"
       ]
      },
      "name": "Sales by demogrpahics",
      "query": {
       "mdx": "WITH  Member [Measures].[[predictions]].[Policy_Type]].[Policy_Type]]_for_order] AS [predictions].[Policy_Type].CurrentMember.MEMBER_VALUE  SELECT NON EMPTY Order({[Measures].[revenue_realised_propotion]}, [Measures].[[predictions]].[Policy_Type]].[Policy_Type]]_for_order], BASC) ON COLUMNS, NON EMPTY Hierarchize(Descendants({[predictions].[Policy_Type].[AllMember]}, 1, SELF_AND_BEFORE)) ON ROWS FROM [predictions] CELL PROPERTIES VALUE, FORMATTED_VALUE, BACK_COLOR, FORE_COLOR, FONT_FLAGS",
       "updateMode": "once"
      },
      "serverKey": "default",
      "widgetKey": "plotly-clustered-column-chart"
     }
    },
    "tags": []
   },
   "outputs": [
    {
     "data": {
      "application/vnd.atoti.widget.v0+json": {
       "name": "Sales by policy types",
       "sessionId": "1648807936_ZMGVTD",
       "sessionLocation": {
        "https": null,
        "port": 62008
       },
       "widgetCreationCode": "session.visualize()"
      },
      "text/html": [
       "<img src=\"data:image/svg+xml;charset=utf8,%3C%3Fxml%20version%3D%221.0%22%20standalone%3D%22no%22%3F%3E%3Csvg%20xmlns%3D%22http%3A%2F%2Fwww.w3.org%2F2000%2Fsvg%22%20xmlns%3Axlink%3D%22http%3A%2F%2Fwww.w3.org%2F1999%2Fxlink%22%20height%3D%22344%22%20width%3D%22967%22%20viewBox%3D%220%200%20967%20344%22%3E%3Cdefs%20id%3D%22defs-faa7e1%22%3E%3Cg%20class%3D%22clips%22%3E%3CclipPath%20id%3D%22clipfaa7e1xyplot%22%20class%3D%22plotclip%22%3E%3Crect%20width%3D%22660%22%20height%3D%22234%22%2F%3E%3C%2FclipPath%3E%3CclipPath%20class%3D%22axesclip%22%20id%3D%22clipfaa7e1x%22%3E%3Crect%20x%3D%2280%22%20y%3D%220%22%20width%3D%22660%22%20height%3D%22344%22%2F%3E%3C%2FclipPath%3E%3CclipPath%20class%3D%22axesclip%22%20id%3D%22clipfaa7e1y%22%3E%3Crect%20x%3D%220%22%20y%3D%2230%22%20width%3D%22967%22%20height%3D%22234%22%2F%3E%3C%2FclipPath%3E%3CclipPath%20class%3D%22axesclip%22%20id%3D%22clipfaa7e1xy%22%3E%3Crect%20x%3D%2280%22%20y%3D%2230%22%20width%3D%22660%22%20height%3D%22234%22%2F%3E%3C%2FclipPath%3E%3C%2Fg%3E%3Cg%20class%3D%22gradients%22%2F%3E%3C%2Fdefs%3E%3Cg%20class%3D%22bglayer%22%2F%3E%3Cg%20class%3D%22draglayer%20cursor-crosshair%22%3E%3Cg%20class%3D%22xy%22%3E%3Crect%20class%3D%22nsewdrag%20drag%22%20data-subplot%3D%22xy%22%20x%3D%2280%22%20y%3D%2230%22%20width%3D%22660%22%20height%3D%22234%22%20style%3D%22fill%3A%20transparent%3B%20stroke-width%3A%200%3B%20pointer-events%3A%20all%3B%22%2F%3E%3Crect%20class%3D%22nwdrag%20drag%20cursor-nw-resize%22%20data-subplot%3D%22xy%22%20x%3D%2260%22%20y%3D%2210%22%20width%3D%2220%22%20height%3D%2220%22%20style%3D%22fill%3A%20transparent%3B%20stroke-width%3A%200%3B%20pointer-events%3A%20all%3B%22%2F%3E%3Crect%20class%3D%22nedrag%20drag%20cursor-ne-resize%22%20data-subplot%3D%22xy%22%20x%3D%22740%22%20y%3D%2210%22%20width%3D%2220%22%20height%3D%2220%22%20style%3D%22fill%3A%20transparent%3B%20stroke-width%3A%200%3B%20pointer-events%3A%20all%3B%22%2F%3E%3Crect%20class%3D%22swdrag%20drag%20cursor-sw-resize%22%20data-subplot%3D%22xy%22%20x%3D%2260%22%20y%3D%22264%22%20width%3D%2220%22%20height%3D%2220%22%20style%3D%22fill%3A%20transparent%3B%20stroke-width%3A%200%3B%20pointer-events%3A%20all%3B%22%2F%3E%3Crect%20class%3D%22sedrag%20drag%20cursor-se-resize%22%20data-subplot%3D%22xy%22%20x%3D%22740%22%20y%3D%22264%22%20width%3D%2220%22%20height%3D%2220%22%20style%3D%22fill%3A%20transparent%3B%20stroke-width%3A%200%3B%20pointer-events%3A%20all%3B%22%2F%3E%3Crect%20class%3D%22ewdrag%20drag%20cursor-ew-resize%22%20data-subplot%3D%22xy%22%20x%3D%22146%22%20y%3D%22264.5%22%20width%3D%22528%22%20height%3D%2220%22%20style%3D%22fill%3A%20transparent%3B%20stroke-width%3A%200%3B%20pointer-events%3A%20all%3B%22%2F%3E%3Crect%20class%3D%22wdrag%20drag%20cursor-w-resize%22%20data-subplot%3D%22xy%22%20x%3D%2280%22%20y%3D%22264.5%22%20width%3D%2266%22%20height%3D%2220%22%20style%3D%22fill%3A%20transparent%3B%20stroke-width%3A%200%3B%20pointer-events%3A%20all%3B%22%2F%3E%3Crect%20class%3D%22edrag%20drag%20cursor-e-resize%22%20data-subplot%3D%22xy%22%20x%3D%22674%22%20y%3D%22264.5%22%20width%3D%2266%22%20height%3D%2220%22%20style%3D%22fill%3A%20transparent%3B%20stroke-width%3A%200%3B%20pointer-events%3A%20all%3B%22%2F%3E%3Crect%20class%3D%22nsdrag%20drag%20cursor-ns-resize%22%20data-subplot%3D%22xy%22%20x%3D%2259.5%22%20y%3D%2253.400000000000006%22%20width%3D%2220%22%20height%3D%22187.20000000000002%22%20style%3D%22fill%3A%20transparent%3B%20stroke-width%3A%200%3B%20pointer-events%3A%20all%3B%22%2F%3E%3Crect%20class%3D%22sdrag%20drag%20cursor-s-resize%22%20data-subplot%3D%22xy%22%20x%3D%2259.5%22%20y%3D%22240.6%22%20width%3D%2220%22%20height%3D%2223.400000000000002%22%20style%3D%22fill%3A%20transparent%3B%20stroke-width%3A%200%3B%20pointer-events%3A%20all%3B%22%2F%3E%3Crect%20class%3D%22ndrag%20drag%20cursor-n-resize%22%20data-subplot%3D%22xy%22%20x%3D%2259.5%22%20y%3D%2230%22%20width%3D%2220%22%20height%3D%2223.400000000000002%22%20style%3D%22fill%3A%20transparent%3B%20stroke-width%3A%200%3B%20pointer-events%3A%20all%3B%22%2F%3E%3C%2Fg%3E%3C%2Fg%3E%3Cg%20class%3D%22layer-below%22%3E%3Cg%20class%3D%22imagelayer%22%2F%3E%3Cg%20class%3D%22shapelayer%22%2F%3E%3C%2Fg%3E%3Cg%20class%3D%22cartesianlayer%22%3E%3Cg%20class%3D%22subplot%20xy%22%3E%3Cg%20class%3D%22layer-subplot%22%3E%3Cg%20class%3D%22shapelayer%22%2F%3E%3Cg%20class%3D%22imagelayer%22%2F%3E%3C%2Fg%3E%3Cg%20class%3D%22gridlayer%22%3E%3Cg%20class%3D%22x%22%3E%3Cpath%20class%3D%22xgrid%20crisp%22%20transform%3D%22translate(190%2C0)%22%20d%3D%22M0%2C30v234%22%20style%3D%22stroke%3A%20rgb(0%2C%200%2C%200)%3B%20stroke-opacity%3A%200%3B%20stroke-width%3A%201px%3B%22%2F%3E%3Cpath%20class%3D%22xgrid%20crisp%22%20transform%3D%22translate(410%2C0)%22%20d%3D%22M0%2C30v234%22%20style%3D%22stroke%3A%20rgb(0%2C%200%2C%200)%3B%20stroke-opacity%3A%200%3B%20stroke-width%3A%201px%3B%22%2F%3E%3Cpath%20class%3D%22xgrid%20crisp%22%20transform%3D%22translate(630%2C0)%22%20d%3D%22M0%2C30v234%22%20style%3D%22stroke%3A%20rgb(0%2C%200%2C%200)%3B%20stroke-opacity%3A%200%3B%20stroke-width%3A%201px%3B%22%2F%3E%3C%2Fg%3E%3Cg%20class%3D%22y%22%3E%3Cpath%20class%3D%22ygrid%20crisp%22%20transform%3D%22translate(0%2C213.27)%22%20d%3D%22M80%2C0h660%22%20style%3D%22stroke%3A%20rgb(89%2C%2089%2C%2089)%3B%20stroke-opacity%3A%200.25%3B%20stroke-width%3A%201px%3B%22%2F%3E%3Cpath%20class%3D%22ygrid%20crisp%22%20transform%3D%22translate(0%2C162.55)%22%20d%3D%22M80%2C0h660%22%20style%3D%22stroke%3A%20rgb(89%2C%2089%2C%2089)%3B%20stroke-opacity%3A%200.25%3B%20stroke-width%3A%201px%3B%22%2F%3E%3Cpath%20class%3D%22ygrid%20crisp%22%20transform%3D%22translate(0%2C111.82)%22%20d%3D%22M80%2C0h660%22%20style%3D%22stroke%3A%20rgb(89%2C%2089%2C%2089)%3B%20stroke-opacity%3A%200.25%3B%20stroke-width%3A%201px%3B%22%2F%3E%3Cpath%20class%3D%22ygrid%20crisp%22%20transform%3D%22translate(0%2C61.09)%22%20d%3D%22M80%2C0h660%22%20style%3D%22stroke%3A%20rgb(89%2C%2089%2C%2089)%3B%20stroke-opacity%3A%200.25%3B%20stroke-width%3A%201px%3B%22%2F%3E%3C%2Fg%3E%3C%2Fg%3E%3Cg%20class%3D%22zerolinelayer%22%3E%3Cpath%20class%3D%22yzl%20zl%20crisp%22%20transform%3D%22translate(0%2C264)%22%20d%3D%22M80%2C0h660%22%20style%3D%22stroke%3A%20rgb(89%2C%2089%2C%2089)%3B%20stroke-opacity%3A%200.5%3B%20stroke-width%3A%201px%3B%22%2F%3E%3C%2Fg%3E%3Cpath%20class%3D%22xlines-below%22%2F%3E%3Cpath%20class%3D%22ylines-below%22%2F%3E%3Cg%20class%3D%22overlines-below%22%2F%3E%3Cg%20class%3D%22xaxislayer-below%22%2F%3E%3Cg%20class%3D%22yaxislayer-below%22%2F%3E%3Cg%20class%3D%22overaxes-below%22%2F%3E%3Cg%20class%3D%22plot%22%20transform%3D%22translate(80%2C30)%22%20clip-path%3D%22url('%23clipfaa7e1xyplot')%22%3E%3Cg%20class%3D%22barlayer%20mlayer%22%3E%3Cg%20class%3D%22trace%20bars%22%20style%3D%22opacity%3A%201%3B%22%3E%3Cg%20class%3D%22points%22%3E%3Cg%20class%3D%22point%22%3E%3Cpath%20d%3D%22M22%2C234V27.2H198V234Z%22%20style%3D%22vector-effect%3A%20non-scaling-stroke%3B%20opacity%3A%201%3B%20stroke-width%3A%200px%3B%20fill%3A%20rgb(78%2C%20121%2C%20167)%3B%20fill-opacity%3A%201%3B%22%2F%3E%3C%2Fg%3E%3Cg%20class%3D%22point%22%3E%3Cpath%20d%3D%22M242%2C234V66.76H418V234Z%22%20style%3D%22vector-effect%3A%20non-scaling-stroke%3B%20opacity%3A%201%3B%20stroke-width%3A%200px%3B%20fill%3A%20rgb(78%2C%20121%2C%20167)%3B%20fill-opacity%3A%201%3B%22%2F%3E%3C%2Fg%3E%3Cg%20class%3D%22point%22%3E%3Cpath%20d%3D%22M462%2C234V11.7H638V234Z%22%20style%3D%22vector-effect%3A%20non-scaling-stroke%3B%20opacity%3A%201%3B%20stroke-width%3A%200px%3B%20fill%3A%20rgb(78%2C%20121%2C%20167)%3B%20fill-opacity%3A%201%3B%22%2F%3E%3C%2Fg%3E%3C%2Fg%3E%3C%2Fg%3E%3C%2Fg%3E%3C%2Fg%3E%3Cg%20class%3D%22overplot%22%2F%3E%3Cpath%20class%3D%22xlines-above%20crisp%22%20style%3D%22fill%3A%20none%3B%20stroke-width%3A%201px%3B%20stroke%3A%20rgb(89%2C%2089%2C%2089)%3B%20stroke-opacity%3A%200.25%3B%22%20d%3D%22M79%2C264.5H740%22%2F%3E%3Cpath%20class%3D%22ylines-above%20crisp%22%20style%3D%22fill%3A%20none%3B%20stroke-width%3A%201px%3B%20stroke%3A%20rgb(89%2C%2089%2C%2089)%3B%20stroke-opacity%3A%200.25%3B%22%20d%3D%22M79.5%2C30V264%22%2F%3E%3Cg%20class%3D%22overlines-above%22%2F%3E%3Cg%20class%3D%22xaxislayer-above%22%3E%3Cg%20class%3D%22xtick%22%3E%3Ctext%20text-anchor%3D%22middle%22%20x%3D%220%22%20y%3D%22279.4%22%20data-unformatted%3D%22Corporate%20Auto%22%20data-math%3D%22N%22%20transform%3D%22translate(190%2C0)%22%20style%3D%22font-family%3A%20%26quot%3BOpen%20Sans%26quot%3B%2C%20verdana%2C%20arial%2C%20sans-serif%3B%20font-size%3A%2012px%3B%20fill%3A%20rgb(89%2C%2089%2C%2089)%3B%20fill-opacity%3A%201%3B%20white-space%3A%20pre%3B%22%3ECorporate%20Auto%3C%2Ftext%3E%3C%2Fg%3E%3Cg%20class%3D%22xtick%22%3E%3Ctext%20text-anchor%3D%22middle%22%20x%3D%220%22%20y%3D%22279.4%22%20data-unformatted%3D%22Personal%20Auto%22%20data-math%3D%22N%22%20transform%3D%22translate(410%2C0)%22%20style%3D%22font-family%3A%20%26quot%3BOpen%20Sans%26quot%3B%2C%20verdana%2C%20arial%2C%20sans-serif%3B%20font-size%3A%2012px%3B%20fill%3A%20rgb(89%2C%2089%2C%2089)%3B%20fill-opacity%3A%201%3B%20white-space%3A%20pre%3B%22%3EPersonal%20Auto%3C%2Ftext%3E%3C%2Fg%3E%3Cg%20class%3D%22xtick%22%3E%3Ctext%20text-anchor%3D%22middle%22%20x%3D%220%22%20y%3D%22279.4%22%20data-unformatted%3D%22Special%20Auto%22%20data-math%3D%22N%22%20transform%3D%22translate(630%2C0)%22%20style%3D%22font-family%3A%20%26quot%3BOpen%20Sans%26quot%3B%2C%20verdana%2C%20arial%2C%20sans-serif%3B%20font-size%3A%2012px%3B%20fill%3A%20rgb(89%2C%2089%2C%2089)%3B%20fill-opacity%3A%201%3B%20white-space%3A%20pre%3B%22%3ESpecial%20Auto%3C%2Ftext%3E%3C%2Fg%3E%3C%2Fg%3E%3Cg%20class%3D%22yaxislayer-above%22%3E%3Cg%20class%3D%22ytick%22%3E%3Ctext%20text-anchor%3D%22end%22%20x%3D%2276.6%22%20y%3D%224.199999999999999%22%20data-unformatted%3D%220%22%20data-math%3D%22N%22%20transform%3D%22translate(0%2C264)%22%20style%3D%22font-family%3A%20%26quot%3BOpen%20Sans%26quot%3B%2C%20verdana%2C%20arial%2C%20sans-serif%3B%20font-size%3A%2012px%3B%20fill%3A%20rgb(89%2C%2089%2C%2089)%3B%20fill-opacity%3A%201%3B%20white-space%3A%20pre%3B%22%3E0%3C%2Ftext%3E%3C%2Fg%3E%3Cg%20class%3D%22ytick%22%3E%3Ctext%20text-anchor%3D%22end%22%20x%3D%2276.6%22%20y%3D%224.199999999999999%22%20data-unformatted%3D%220.2%22%20data-math%3D%22N%22%20transform%3D%22translate(0%2C213.27)%22%20style%3D%22font-family%3A%20%26quot%3BOpen%20Sans%26quot%3B%2C%20verdana%2C%20arial%2C%20sans-serif%3B%20font-size%3A%2012px%3B%20fill%3A%20rgb(89%2C%2089%2C%2089)%3B%20fill-opacity%3A%201%3B%20white-space%3A%20pre%3B%22%3E0.2%3C%2Ftext%3E%3C%2Fg%3E%3Cg%20class%3D%22ytick%22%3E%3Ctext%20text-anchor%3D%22end%22%20x%3D%2276.6%22%20y%3D%224.199999999999999%22%20data-unformatted%3D%220.4%22%20data-math%3D%22N%22%20transform%3D%22translate(0%2C162.55)%22%20style%3D%22font-family%3A%20%26quot%3BOpen%20Sans%26quot%3B%2C%20verdana%2C%20arial%2C%20sans-serif%3B%20font-size%3A%2012px%3B%20fill%3A%20rgb(89%2C%2089%2C%2089)%3B%20fill-opacity%3A%201%3B%20white-space%3A%20pre%3B%22%3E0.4%3C%2Ftext%3E%3C%2Fg%3E%3Cg%20class%3D%22ytick%22%3E%3Ctext%20text-anchor%3D%22end%22%20x%3D%2276.6%22%20y%3D%224.199999999999999%22%20data-unformatted%3D%220.6%22%20data-math%3D%22N%22%20transform%3D%22translate(0%2C111.82)%22%20style%3D%22font-family%3A%20%26quot%3BOpen%20Sans%26quot%3B%2C%20verdana%2C%20arial%2C%20sans-serif%3B%20font-size%3A%2012px%3B%20fill%3A%20rgb(89%2C%2089%2C%2089)%3B%20fill-opacity%3A%201%3B%20white-space%3A%20pre%3B%22%3E0.6%3C%2Ftext%3E%3C%2Fg%3E%3Cg%20class%3D%22ytick%22%3E%3Ctext%20text-anchor%3D%22end%22%20x%3D%2276.6%22%20y%3D%224.199999999999999%22%20data-unformatted%3D%220.8%22%20data-math%3D%22N%22%20transform%3D%22translate(0%2C61.09)%22%20style%3D%22font-family%3A%20%26quot%3BOpen%20Sans%26quot%3B%2C%20verdana%2C%20arial%2C%20sans-serif%3B%20font-size%3A%2012px%3B%20fill%3A%20rgb(89%2C%2089%2C%2089)%3B%20fill-opacity%3A%201%3B%20white-space%3A%20pre%3B%22%3E0.8%3C%2Ftext%3E%3C%2Fg%3E%3C%2Fg%3E%3Cg%20class%3D%22overaxes-above%22%2F%3E%3C%2Fg%3E%3C%2Fg%3E%3Cg%20class%3D%22polarlayer%22%2F%3E%3Cg%20class%3D%22ternarylayer%22%2F%3E%3Cg%20class%3D%22geolayer%22%2F%3E%3Cg%20class%3D%22funnelarealayer%22%2F%3E%3Cg%20class%3D%22pielayer%22%2F%3E%3Cg%20class%3D%22treemaplayer%22%2F%3E%3Cg%20class%3D%22sunburstlayer%22%2F%3E%3Cg%20class%3D%22glimages%22%2F%3E%3Cdefs%20id%3D%22topdefs-faa7e1%22%3E%3Cg%20class%3D%22clips%22%2F%3E%3CclipPath%20id%3D%22legendfaa7e1%22%3E%3Crect%20width%3D%22214%22%20height%3D%2229%22%20x%3D%220%22%20y%3D%220%22%2F%3E%3C%2FclipPath%3E%3C%2Fdefs%3E%3Cg%20class%3D%22indicatorlayer%22%2F%3E%3Cg%20class%3D%22layer-above%22%3E%3Cg%20class%3D%22imagelayer%22%2F%3E%3Cg%20class%3D%22shapelayer%22%2F%3E%3C%2Fg%3E%3Cg%20class%3D%22infolayer%22%3E%3Cg%20class%3D%22legend%22%20pointer-events%3D%22all%22%20transform%3D%22translate(753%2C30)%22%3E%3Crect%20class%3D%22bg%22%20shape-rendering%3D%22crispEdges%22%20style%3D%22stroke%3A%20rgb(68%2C%2068%2C%2068)%3B%20stroke-opacity%3A%201%3B%20fill%3A%20rgb(255%2C%20255%2C%20255)%3B%20fill-opacity%3A%201%3B%20stroke-width%3A%200px%3B%22%20width%3D%22214%22%20height%3D%2229%22%20x%3D%220%22%20y%3D%220%22%2F%3E%3Cg%20class%3D%22scrollbox%22%20transform%3D%22%22%20clip-path%3D%22url('%23legendfaa7e1')%22%3E%3Cg%20class%3D%22groups%22%20transform%3D%22%22%3E%3Cg%20class%3D%22traces%22%20style%3D%22opacity%3A%201%3B%22%20transform%3D%22translate(0%2C14.5)%22%3E%3Ctext%20class%3D%22legendtext%22%20text-anchor%3D%22start%22%20x%3D%2240%22%20y%3D%224.680000000000001%22%20data-unformatted%3D%22revenue_realised_propotion%22%20data-math%3D%22N%22%20style%3D%22font-family%3A%20%26quot%3BOpen%20Sans%26quot%3B%2C%20verdana%2C%20arial%2C%20sans-serif%3B%20font-size%3A%2012px%3B%20fill%3A%20rgb(89%2C%2089%2C%2089)%3B%20fill-opacity%3A%201%3B%20white-space%3A%20pre%3B%22%3Erevenue_realised_propotion%3C%2Ftext%3E%3Cg%20class%3D%22layers%22%20style%3D%22opacity%3A%201%3B%22%3E%3Cg%20class%3D%22legendfill%22%2F%3E%3Cg%20class%3D%22legendlines%22%2F%3E%3Cg%20class%3D%22legendsymbols%22%3E%3Cg%20class%3D%22legendpoints%22%3E%3Cpath%20class%3D%22legendundefined%22%20d%3D%22M6%2C6H-6V-6H6Z%22%20transform%3D%22translate(20%2C0)%22%20style%3D%22stroke-width%3A%200px%3B%20fill%3A%20rgb(78%2C%20121%2C%20167)%3B%20fill-opacity%3A%201%3B%22%2F%3E%3C%2Fg%3E%3C%2Fg%3E%3C%2Fg%3E%3Crect%20class%3D%22legendtoggle%22%20pointer-events%3D%22all%22%20x%3D%220%22%20y%3D%22-9.5%22%20width%3D%22208.4875030517578%22%20height%3D%2219%22%20style%3D%22cursor%3A%20pointer%3B%20fill%3A%20rgb(0%2C%200%2C%200)%3B%20fill-opacity%3A%200%3B%22%2F%3E%3C%2Fg%3E%3C%2Fg%3E%3C%2Fg%3E%3Crect%20class%3D%22scrollbar%22%20rx%3D%2220%22%20ry%3D%223%22%20width%3D%220%22%20height%3D%220%22%20style%3D%22fill%3A%20rgb(128%2C%20139%2C%20164)%3B%20fill-opacity%3A%201%3B%22%20x%3D%220%22%20y%3D%220%22%2F%3E%3C%2Fg%3E%3Cg%20class%3D%22g-gtitle%22%2F%3E%3Cg%20class%3D%22g-xtitle%22%2F%3E%3Cg%20class%3D%22g-ytitle%22%2F%3E%3C%2Fg%3E%3Cg%20class%3D%22menulayer%22%2F%3E%3Cg%20class%3D%22zoomlayer%22%2F%3E%3Cg%20class%3D%22hoverlayer%22%2F%3E%3C%2Fsvg%3E\">"
      ],
      "text/plain": [
       "Open the notebook in JupyterLab with the atoti extension enabled to build this widget."
      ]
     },
     "metadata": {},
     "output_type": "display_data"
    }
   ],
   "source": [
    "session.visualize(\"Sales by policy types\")"
   ]
  },
  {
   "cell_type": "code",
   "execution_count": 29,
   "id": "66135561-f02a-4777-80eb-eed7f490c0fb",
   "metadata": {
    "atoti": {
     "widget": {
      "mapping": {
       "color": [
        "[predictions].[Coverage_Type].[Coverage_Type]"
       ],
       "horizontalSubplots": [
        "[predictions].[Policy_Type].[Policy_Type]"
       ],
       "size": [
        "[Measures].[revenue_realised]"
       ],
       "splitBy": [],
       "verticalSubplots": [],
       "xValues": [
        "[Measures].[sale_propotion]"
       ],
       "yValues": [
        "[Measures].[revenue_realised_propotion]"
       ]
      },
      "query": {
       "mdx": "SELECT NON EMPTY Crossjoin(Hierarchize(Descendants({[predictions].[Policy_Type].[AllMember]}, 1, SELF_AND_BEFORE)), {[Measures].[sale_propotion], [Measures].[revenue_realised_propotion], [Measures].[revenue_realised]}) ON COLUMNS, NON EMPTY Hierarchize(Descendants({[predictions].[Coverage_Type].[AllMember]}, 1, SELF_AND_BEFORE)) ON ROWS FROM [predictions] CELL PROPERTIES VALUE, FORMATTED_VALUE, BACK_COLOR, FORE_COLOR, FONT_FLAGS",
       "updateMode": "once"
      },
      "serverKey": "default",
      "widgetKey": "plotly-scatter-plot"
     }
    },
    "tags": []
   },
   "outputs": [
    {
     "data": {
      "application/vnd.atoti.widget.v0+json": {
       "name": "Revenue and sales by policy and coverage type",
       "sessionId": "1648807936_ZMGVTD",
       "sessionLocation": {
        "https": null,
        "port": 62008
       },
       "widgetCreationCode": "session.visualize()"
      },
      "text/html": [
       "<img src=\"data:image/svg+xml;charset=utf8,%3C%3Fxml%20version%3D%221.0%22%20standalone%3D%22no%22%3F%3E%3Csvg%20xmlns%3D%22http%3A%2F%2Fwww.w3.org%2F2000%2Fsvg%22%20height%3D%22352%22%20width%3D%22967%22%3E%3CforeignObject%20width%3D%22100%25%22%20height%3D%22100%25%22%20x%3D%220%22%20y%3D%220%22%3E%3Cstyle%20xmlns%3D%22http%3A%2F%2Fwww.w3.org%2F1999%2Fxhtml%22%20type%3D%22text%2Fcss%22%3E*%2C%20%3A%3Abefore%2C%20%3A%3Aafter%20%7Bbox-sizing%3A%20unset%7D%0Aa%20%7Bcolor%3A%20unset%3B%20text-decoration-line%3A%20unset%3B%20text-decoration-thickness%3A%20unset%3B%20text-decoration-style%3A%20unset%3B%20text-decoration-color%3A%20unset%7D%0A.ant-root%20%5Bclass%5E%3D%22ant-%22%5D%2C%20.ant-root%20%5Bclass*%3D%22ant-%22%5D%2C%20.ant-root%20%5Bclass%5E%3D%22ant-%22%5D%20*%2C%20.ant-root%20%5Bclass*%3D%22ant-%22%5D%20*%2C%20.ant-root%20%5Bclass%5E%3D%22ant-%22%5D%20%3A%3Abefore%2C%20.ant-root%20%5Bclass*%3D%22ant-%22%5D%20%3A%3Abefore%2C%20.ant-root%20%5Bclass%5E%3D%22ant-%22%5D%20%3A%3Aafter%2C%20.ant-root%20%5Bclass*%3D%22ant-%22%5D%20%3A%3Aafter%20%7Bbox-sizing%3A%20border-box%7D%0A.ant-root%20html%2C%20.ant-root%20%7Bwidth%3A%20100%25%3B%20height%3A%20100%25%7D%0A.ant-root%20*%2C%20.ant-root%20%3A%3Abefore%2C%20.ant-root%20%3A%3Aafter%20%7Bbox-sizing%3A%20border-box%7D%0A.ant-root%20%7Bmargin-top%3A%200px%3B%20margin-right%3A%200px%3B%20margin-bottom%3A%200px%3B%20margin-left%3A%200px%3B%20color%3A%20rgb(89%2C%2089%2C%2089)%3B%20font-size%3A%2012px%3B%20font-family%3A%20-apple-system%2C%20BlinkMacSystemFont%2C%20%22Segoe%20UI%22%2C%20Roboto%2C%20%22Helvetica%20Neue%22%2C%20Arial%2C%20%22Noto%20Sans%22%2C%20sans-serif%2C%20%22Apple%20Color%20Emoji%22%2C%20%22Segoe%20UI%20Emoji%22%2C%20%22Segoe%20UI%20Symbol%22%2C%20%22Noto%20Color%20Emoji%22%3B%20font-variant-ligatures%3A%20normal%3B%20font-variant-numeric%3A%20tabular-nums%3B%20font-variant-east-asian%3A%20normal%3B%20font-variant-caps%3A%20normal%3B%20line-height%3A%201.66667%3B%20background-color%3A%20rgb(255%2C%20255%2C%20255)%3B%20--antd-wave-shadow-color%3A%20%20%231890FF%3B%20--scroll-bar%3A%20%200%7D%0A.ant-root%20a%20%7Bcolor%3A%20rgb(24%2C%20144%2C%20255)%3B%20text-decoration-line%3A%20none%3B%20text-decoration-thickness%3A%20initial%3B%20text-decoration-style%3A%20initial%3B%20text-decoration-color%3A%20initial%3B%20background-color%3A%20transparent%3B%20outline-color%3A%20initial%3B%20outline-style%3A%20none%3B%20outline-width%3A%20initial%3B%20cursor%3A%20pointer%3B%20transition-duration%3A%200.3s%3B%20transition-timing-function%3A%20ease%3B%20transition-delay%3A%200s%3B%20transition-property%3A%20color%7D%0A.ant-root%20svg%3Anot(%3Aroot)%20%7Boverflow-x%3A%20hidden%3B%20overflow-y%3A%20hidden%7D%0A.ant-root%20a%2C%20.ant-root%20area%2C%20.ant-root%20button%2C%20.ant-root%20%5Brole%3D%22button%22%5D%2C%20.ant-root%20input%3Anot(%5Btype%3D%22range%22%5D)%2C%20.ant-root%20label%2C%20.ant-root%20select%2C%20.ant-root%20summary%2C%20.ant-root%20textarea%20%7Btouch-action%3A%20manipulation%7D%0A.ant-root%20.ant-spin%20%7Bbox-sizing%3A%20border-box%3B%20margin-top%3A%200px%3B%20margin-right%3A%200px%3B%20margin-bottom%3A%200px%3B%20margin-left%3A%200px%3B%20padding-top%3A%200px%3B%20padding-right%3A%200px%3B%20padding-bottom%3A%200px%3B%20padding-left%3A%200px%3B%20font-size%3A%2012px%3B%20font-variant-ligatures%3A%20normal%3B%20font-variant-numeric%3A%20tabular-nums%3B%20font-variant-east-asian%3A%20normal%3B%20font-variant-caps%3A%20normal%3B%20line-height%3A%201.66667%3B%20list-style-position%3A%20initial%3B%20list-style-image%3A%20initial%3B%20list-style-type%3A%20none%3B%20position%3A%20absolute%3B%20display%3A%20none%3B%20color%3A%20rgb(24%2C%20144%2C%20255)%3B%20text-align%3A%20center%3B%20vertical-align%3A%20middle%3B%20opacity%3A%200%3B%20transition-duration%3A%200.3s%3B%20transition-timing-function%3A%20cubic-bezier(0.78%2C%200.14%2C%200.15%2C%200.86)%3B%20transition-delay%3A%200s%3B%20transition-property%3A%20transform%7D%0A.ant-root%20.ant-spin-spinning%20%7Bposition%3A%20static%3B%20display%3A%20inline-block%3B%20opacity%3A%201%7D%0A.ant-root%20.ant-spin-dot%20%7Bposition%3A%20relative%3B%20display%3A%20inline-block%3B%20font-size%3A%2020px%3B%20width%3A%201em%3B%20height%3A%201em%7D%0A.ant-root%20.ant-spin-dot-item%20%7Bposition%3A%20absolute%3B%20display%3A%20block%3B%20width%3A%209px%3B%20height%3A%209px%3B%20background-color%3A%20rgb(24%2C%20144%2C%20255)%3B%20border-top-left-radius%3A%20100%25%3B%20border-top-right-radius%3A%20100%25%3B%20border-bottom-right-radius%3A%20100%25%3B%20border-bottom-left-radius%3A%20100%25%3B%20transform%3A%20scale(0.75)%3B%20transform-origin%3A%2050%25%2050%25%3B%20opacity%3A%200.3%3B%20animation-duration%3A%201s%3B%20animation-timing-function%3A%20linear%3B%20animation-delay%3A%200s%3B%20animation-iteration-count%3A%20infinite%3B%20animation-direction%3A%20alternate%3B%20animation-fill-mode%3A%20none%3B%20animation-play-state%3A%20running%3B%20animation-name%3A%20antSpinMove%7D%0A.ant-root%20.ant-spin-dot-item%3Anth-child(1)%20%7Btop%3A%200px%3B%20left%3A%200px%7D%0A.ant-root%20.ant-spin-dot-item%3Anth-child(2)%20%7Btop%3A%200px%3B%20right%3A%200px%3B%20animation-delay%3A%200.4s%7D%0A.ant-root%20.ant-spin-dot-item%3Anth-child(3)%20%7Bright%3A%200px%3B%20bottom%3A%200px%3B%20animation-delay%3A%200.8s%7D%0A.ant-root%20.ant-spin-dot-item%3Anth-child(4)%20%7Bbottom%3A%200px%3B%20left%3A%200px%3B%20animation-delay%3A%201.2s%7D%0A.ant-root%20.ant-spin-dot-spin%20%7Btransform%3A%20rotate(45deg)%3B%20animation-duration%3A%201.2s%3B%20animation-timing-function%3A%20linear%3B%20animation-delay%3A%200s%3B%20animation-iteration-count%3A%20infinite%3B%20animation-direction%3A%20normal%3B%20animation-fill-mode%3A%20none%3B%20animation-play-state%3A%20running%3B%20animation-name%3A%20antRotate%7D%0A.ant-root%20.ant-spin-lg%20.ant-spin-dot%20%7Bfont-size%3A%2032px%7D%0A.ant-root%20.ant-spin-lg%20.ant-spin-dot%20i%20%7Bwidth%3A%2014px%3B%20height%3A%2014px%7D%0A.css-12ebr42-AWidget%20%7Bheight%3A%20100%25%7D%0A.css-6bqf7m-Spinner-ChartWithSpinner%20%7Bposition%3A%20relative%3B%20height%3A%20100%25%7D%0A.css-ck2xzt-Spinner%20%7B-webkit-box-align%3A%20center%3B%20align-items%3A%20center%3B%20background-image%3A%20initial%3B%20background-position-x%3A%20initial%3B%20background-position-y%3A%20initial%3B%20background-size%3A%20initial%3B%20background-repeat-x%3A%20initial%3B%20background-repeat-y%3A%20initial%3B%20background-attachment%3A%20initial%3B%20background-origin%3A%20initial%3B%20background-clip%3A%20initial%3B%20background-color%3A%20transparent%3B%20display%3A%20flex%3B%20height%3A%20100%25%3B%20-webkit-box-pack%3A%20center%3B%20justify-content%3A%20center%3B%20position%3A%20absolute%3B%20transition-duration%3A%20300ms%3B%20transition-timing-function%3A%20ease%3B%20transition-delay%3A%200s%3B%20transition-property%3A%20opacity%3B%20width%3A%20100%25%3B%20opacity%3A%200%3B%20pointer-events%3A%20none%3B%20z-index%3A%202%7D%0A.css-1u8fyhz-ChartWithMetaData%20%7Bheight%3A%20100%25%7D%0A.css-znpfyj-Plot%20%7Bheight%3A%20100%25%3B%20position%3A%20relative%3B%20width%3A%20100%25%7D%0A.css-mb8m0v-Plot%20%7Bposition%3A%20absolute%3B%20top%3A%200px%3B%20bottom%3A%200px%3B%20left%3A%200px%3B%20right%3A%200px%7D%0A.css-mb8m0v-Plot%20.js-plotly-plot%20%7Bheight%3A%20100%25%7D%0A.js-plotly-plot%20.plotly%20.modebar-btn%20svg%20%7Bposition%3A%20relative%3B%20top%3A%202px%7D%0A.js-plotly-plot%20.plotly%20.modebar-btn%20%7Bposition%3A%20relative%3B%20font-size%3A%2016px%3B%20padding-top%3A%203px%3B%20padding-right%3A%204px%3B%20padding-bottom%3A%203px%3B%20padding-left%3A%204px%3B%20height%3A%2022px%3B%20cursor%3A%20pointer%3B%20line-height%3A%20normal%3B%20box-sizing%3A%20border-box%7D%0A.js-plotly-plot%20.plotly%20.modebar-group%20%7Bfloat%3A%20left%3B%20display%3A%20inline-block%3B%20box-sizing%3A%20border-box%3B%20padding-left%3A%208px%3B%20position%3A%20relative%3B%20vertical-align%3A%20middle%3B%20white-space%3A%20nowrap%7D%0A.js-plotly-plot%20.plotly%20.modebar--hover%20%26gt%3B%20%3Anot(.watermark)%20%7Bopacity%3A%200%3B%20transition-duration%3A%200.3s%3B%20transition-timing-function%3A%20ease%3B%20transition-delay%3A%200s%3B%20transition-property%3A%20opacity%7D%0A.js-plotly-plot%20.plotly%20.ease-bg%20%7Btransition-duration%3A%200.3s%3B%20transition-timing-function%3A%20ease%3B%20transition-delay%3A%200s%3B%20transition-property%3A%20background-color%7D%0A.js-plotly-plot%20.plotly%20.modebar%20%7Bposition%3A%20absolute%3B%20top%3A%202px%3B%20right%3A%202px%7D%0A.js-plotly-plot%20.plotly%20.cursor-ne-resize%20%7Bcursor%3A%20ne-resize%7D%0A.js-plotly-plot%20.plotly%20.cursor-n-resize%20%7Bcursor%3A%20n-resize%7D%0A.js-plotly-plot%20.plotly%20.cursor-nw-resize%20%7Bcursor%3A%20nw-resize%7D%0A.js-plotly-plot%20.plotly%20.cursor-e-resize%20%7Bcursor%3A%20e-resize%7D%0A.js-plotly-plot%20.plotly%20.cursor-w-resize%20%7Bcursor%3A%20w-resize%7D%0A.js-plotly-plot%20.plotly%20.cursor-se-resize%20%7Bcursor%3A%20se-resize%7D%0A.js-plotly-plot%20.plotly%20.cursor-s-resize%20%7Bcursor%3A%20s-resize%7D%0A.js-plotly-plot%20.plotly%20.cursor-sw-resize%20%7Bcursor%3A%20sw-resize%7D%0A.js-plotly-plot%20.plotly%20.cursor-ew-resize%20%7Bcursor%3A%20ew-resize%7D%0A.js-plotly-plot%20.plotly%20.cursor-ns-resize%20%7Bcursor%3A%20ns-resize%7D%0A.js-plotly-plot%20.plotly%20.cursor-crosshair%20%7Bcursor%3A%20crosshair%7D%0A.js-plotly-plot%20.plotly%20.main-svg%20.draglayer%20%7Bpointer-events%3A%20all%7D%0A.js-plotly-plot%20.plotly%20.main-svg%20%7Bposition%3A%20absolute%3B%20top%3A%200px%3B%20left%3A%200px%3B%20pointer-events%3A%20none%7D%0A.js-plotly-plot%20.plotly%20svg%20%7Boverflow-x%3A%20hidden%3B%20overflow-y%3A%20hidden%7D%0A.js-plotly-plot%20.plotly%20.user-select-none%20%7Buser-select%3A%20none%7D%0A.js-plotly-plot%20.plotly%20.crisp%20%7Bshape-rendering%3A%20crispedges%7D%0A.js-plotly-plot%20.plotly%20a%20%7Btext-decoration-line%3A%20none%3B%20text-decoration-thickness%3A%20initial%3B%20text-decoration-style%3A%20initial%3B%20text-decoration-color%3A%20initial%7D%0A.js-plotly-plot%20.plotly%2C%20.js-plotly-plot%20.plotly%20div%20%7Bdirection%3A%20ltr%3B%20font-family%3A%20%22Open%20Sans%22%2C%20verdana%2C%20arial%2C%20sans-serif%3B%20margin-top%3A%200px%3B%20margin-right%3A%200px%3B%20margin-bottom%3A%200px%3B%20margin-left%3A%200px%3B%20padding-top%3A%200px%3B%20padding-right%3A%200px%3B%20padding-bottom%3A%200px%3B%20padding-left%3A%200px%7D%0A%23modebar-89b206%20.modebar-btn.active%20.icon%20path%20%7Bfill%3A%20rgba(68%2C%2068%2C%2068%2C%200.7)%7D%0A%23modebar-89b206%20.modebar-btn%20.icon%20path%20%7Bfill%3A%20rgba(68%2C%2068%2C%2068%2C%200.3)%7D%0A*%20%7B-ms-overflow-style%3A%20none%3B%20scrollbar-width%3A%20none%7D%0A*%3A%3A-webkit-scrollbar%20%7Bdisplay%3A%20none%7D%0A.atoti-hidden-in-snapshot%20%7Bdisplay%3A%20none%7D%3C%2Fstyle%3E%3Cdiv%20xmlns%3D%22http%3A%2F%2Fwww.w3.org%2F1999%2Fxhtml%22%20style%3D%22height%3A%20352px%3B%20width%3A%20967px%3B%22%3E%3Cdiv%20class%3D%22ant-root%20css-0%22%3E%3Cdiv%20class%3D%22ant-dropdown-trigger%20css-12ebr42-AWidget%22%3E%3Cdiv%20class%3D%22css-6bqf7m-Spinner-ChartWithSpinner%22%3E%3Cdiv%20class%3D%22css-ck2xzt-Spinner%22%3E%3Cdiv%20class%3D%22ant-spin%20ant-spin-lg%20ant-spin-spinning%22%3E%3Cspan%20class%3D%22ant-spin-dot%20ant-spin-dot-spin%22%3E%3Ci%20class%3D%22ant-spin-dot-item%22%3E%3C%2Fi%3E%3Ci%20class%3D%22ant-spin-dot-item%22%3E%3C%2Fi%3E%3Ci%20class%3D%22ant-spin-dot-item%22%3E%3C%2Fi%3E%3Ci%20class%3D%22ant-spin-dot-item%22%3E%3C%2Fi%3E%3C%2Fspan%3E%3C%2Fdiv%3E%3C%2Fdiv%3E%3Cdiv%20class%3D%22css-1u8fyhz-ChartWithMetaData%22%3E%3Cdiv%20tabindex%3D%220%22%20class%3D%22css-znpfyj-Plot%22%3E%3Cdiv%20class%3D%22css-mb8m0v-Plot%22%3E%3Cdiv%20style%3D%22position%3A%20relative%3B%20display%3A%20inline-block%3B%22%20class%3D%22js-plotly-plot%22%3E%3Cdiv%20class%3D%22plot-container%20plotly%22%3E%3Cdiv%20class%3D%22user-select-none%20svg-container%22%20style%3D%22position%3A%20relative%3B%20width%3A%20967px%3B%20height%3A%20352px%3B%22%3E%3Csvg%20class%3D%22main-svg%22%20xmlns%3D%22http%3A%2F%2Fwww.w3.org%2F2000%2Fsvg%22%20xmlns%3Axlink%3D%22http%3A%2F%2Fwww.w3.org%2F1999%2Fxlink%22%20width%3D%22967%22%20height%3D%22352%22%20style%3D%22background%3A%20rgb(255%2C%20255%2C%20255)%3B%22%3E%3Cdefs%20id%3D%22defs-89b206%22%3E%3Cg%20class%3D%22clips%22%3E%3CclipPath%20id%3D%22clip89b206xyplot%22%20class%3D%22plotclip%22%3E%3Crect%20width%3D%22220.00000000000003%22%20height%3D%22242%22%2F%3E%3C%2FclipPath%3E%3CclipPath%20id%3D%22clip89b206x2yplot%22%20class%3D%22plotclip%22%3E%3Crect%20width%3D%22220.00000000000003%22%20height%3D%22242%22%2F%3E%3C%2FclipPath%3E%3CclipPath%20id%3D%22clip89b206x3yplot%22%20class%3D%22plotclip%22%3E%3Crect%20width%3D%22220%22%20height%3D%22242%22%2F%3E%3C%2FclipPath%3E%3CclipPath%20class%3D%22axesclip%22%20id%3D%22clip89b206x%22%3E%3Crect%20x%3D%2280%22%20y%3D%220%22%20width%3D%22220.00000000000003%22%20height%3D%22352%22%2F%3E%3C%2FclipPath%3E%3CclipPath%20class%3D%22axesclip%22%20id%3D%22clip89b206y%22%3E%3Crect%20x%3D%220%22%20y%3D%2230%22%20width%3D%22967%22%20height%3D%22242%22%2F%3E%3C%2FclipPath%3E%3CclipPath%20class%3D%22axesclip%22%20id%3D%22clip89b206xy%22%3E%3Crect%20x%3D%2280%22%20y%3D%2230%22%20width%3D%22220.00000000000003%22%20height%3D%22242%22%2F%3E%3C%2FclipPath%3E%3CclipPath%20class%3D%22axesclip%22%20id%3D%22clip89b206x2%22%3E%3Crect%20x%3D%22355%22%20y%3D%220%22%20width%3D%22220.00000000000003%22%20height%3D%22352%22%2F%3E%3C%2FclipPath%3E%3CclipPath%20class%3D%22axesclip%22%20id%3D%22clip89b206x2y%22%3E%3Crect%20x%3D%22355%22%20y%3D%2230%22%20width%3D%22220.00000000000003%22%20height%3D%22242%22%2F%3E%3C%2FclipPath%3E%3CclipPath%20class%3D%22axesclip%22%20id%3D%22clip89b206x3%22%3E%3Crect%20x%3D%22630%22%20y%3D%220%22%20width%3D%22220%22%20height%3D%22352%22%2F%3E%3C%2FclipPath%3E%3CclipPath%20class%3D%22axesclip%22%20id%3D%22clip89b206x3y%22%3E%3Crect%20x%3D%22630%22%20y%3D%2230%22%20width%3D%22220%22%20height%3D%22242%22%2F%3E%3C%2FclipPath%3E%3C%2Fg%3E%3Cg%20class%3D%22gradients%22%2F%3E%3C%2Fdefs%3E%3Cg%20class%3D%22bglayer%22%2F%3E%3Cg%20class%3D%22draglayer%20cursor-crosshair%22%3E%3Cg%20class%3D%22xy%22%3E%3Crect%20class%3D%22nsewdrag%20drag%22%20data-subplot%3D%22xy%22%20x%3D%2280%22%20y%3D%2230%22%20width%3D%22220.00000000000003%22%20height%3D%22242%22%20style%3D%22fill%3A%20transparent%3B%20stroke-width%3A%200%3B%20pointer-events%3A%20all%3B%22%2F%3E%3Crect%20class%3D%22nwdrag%20drag%20cursor-nw-resize%22%20data-subplot%3D%22xy%22%20x%3D%2260%22%20y%3D%2210%22%20width%3D%2220%22%20height%3D%2220%22%20style%3D%22fill%3A%20transparent%3B%20stroke-width%3A%200%3B%20pointer-events%3A%20all%3B%22%2F%3E%3Crect%20class%3D%22nedrag%20drag%20cursor-ne-resize%22%20data-subplot%3D%22xy%22%20x%3D%22300%22%20y%3D%2210%22%20width%3D%2220%22%20height%3D%2220%22%20style%3D%22fill%3A%20transparent%3B%20stroke-width%3A%200%3B%20pointer-events%3A%20all%3B%22%2F%3E%3Crect%20class%3D%22swdrag%20drag%20cursor-sw-resize%22%20data-subplot%3D%22xy%22%20x%3D%2260%22%20y%3D%22272%22%20width%3D%2220%22%20height%3D%2220%22%20style%3D%22fill%3A%20transparent%3B%20stroke-width%3A%200%3B%20pointer-events%3A%20all%3B%22%2F%3E%3Crect%20class%3D%22sedrag%20drag%20cursor-se-resize%22%20data-subplot%3D%22xy%22%20x%3D%22300%22%20y%3D%22272%22%20width%3D%2220%22%20height%3D%2220%22%20style%3D%22fill%3A%20transparent%3B%20stroke-width%3A%200%3B%20pointer-events%3A%20all%3B%22%2F%3E%3Crect%20class%3D%22ewdrag%20drag%20cursor-ew-resize%22%20data-subplot%3D%22xy%22%20x%3D%22102%22%20y%3D%22272.5%22%20width%3D%22176.00000000000003%22%20height%3D%2220%22%20style%3D%22fill%3A%20transparent%3B%20stroke-width%3A%200%3B%20pointer-events%3A%20all%3B%22%2F%3E%3Crect%20class%3D%22wdrag%20drag%20cursor-w-resize%22%20data-subplot%3D%22xy%22%20x%3D%2280%22%20y%3D%22272.5%22%20width%3D%2222.000000000000004%22%20height%3D%2220%22%20style%3D%22fill%3A%20transparent%3B%20stroke-width%3A%200%3B%20pointer-events%3A%20all%3B%22%2F%3E%3Crect%20class%3D%22edrag%20drag%20cursor-e-resize%22%20data-subplot%3D%22xy%22%20x%3D%22278%22%20y%3D%22272.5%22%20width%3D%2222.000000000000004%22%20height%3D%2220%22%20style%3D%22fill%3A%20transparent%3B%20stroke-width%3A%200%3B%20pointer-events%3A%20all%3B%22%2F%3E%3Crect%20class%3D%22nsdrag%20drag%20cursor-ns-resize%22%20data-subplot%3D%22xy%22%20x%3D%2259.5%22%20y%3D%2254.2%22%20width%3D%2220%22%20height%3D%22193.60000000000002%22%20style%3D%22fill%3A%20transparent%3B%20stroke-width%3A%200%3B%20pointer-events%3A%20all%3B%22%2F%3E%3Crect%20class%3D%22sdrag%20drag%20cursor-s-resize%22%20data-subplot%3D%22xy%22%20x%3D%2259.5%22%20y%3D%22247.8%22%20width%3D%2220%22%20height%3D%2224.200000000000003%22%20style%3D%22fill%3A%20transparent%3B%20stroke-width%3A%200%3B%20pointer-events%3A%20all%3B%22%2F%3E%3Crect%20class%3D%22ndrag%20drag%20cursor-n-resize%22%20data-subplot%3D%22xy%22%20x%3D%2259.5%22%20y%3D%2230%22%20width%3D%2220%22%20height%3D%2224.200000000000003%22%20style%3D%22fill%3A%20transparent%3B%20stroke-width%3A%200%3B%20pointer-events%3A%20all%3B%22%2F%3E%3C%2Fg%3E%3Cg%20class%3D%22x2y%22%3E%3Crect%20class%3D%22nsewdrag%20drag%22%20data-subplot%3D%22x2y%22%20x%3D%22355%22%20y%3D%2230%22%20width%3D%22220.00000000000003%22%20height%3D%22242%22%20style%3D%22fill%3A%20transparent%3B%20stroke-width%3A%200%3B%20pointer-events%3A%20all%3B%22%2F%3E%3Crect%20class%3D%22nwdrag%20drag%20cursor-nw-resize%22%20data-subplot%3D%22x2y%22%20x%3D%22335%22%20y%3D%2210%22%20width%3D%2220%22%20height%3D%2220%22%20style%3D%22fill%3A%20transparent%3B%20stroke-width%3A%200%3B%20pointer-events%3A%20all%3B%22%2F%3E%3Crect%20class%3D%22nedrag%20drag%20cursor-ne-resize%22%20data-subplot%3D%22x2y%22%20x%3D%22575%22%20y%3D%2210%22%20width%3D%2220%22%20height%3D%2220%22%20style%3D%22fill%3A%20transparent%3B%20stroke-width%3A%200%3B%20pointer-events%3A%20all%3B%22%2F%3E%3Crect%20class%3D%22swdrag%20drag%20cursor-sw-resize%22%20data-subplot%3D%22x2y%22%20x%3D%22335%22%20y%3D%22272%22%20width%3D%2220%22%20height%3D%2220%22%20style%3D%22fill%3A%20transparent%3B%20stroke-width%3A%200%3B%20pointer-events%3A%20all%3B%22%2F%3E%3Crect%20class%3D%22sedrag%20drag%20cursor-se-resize%22%20data-subplot%3D%22x2y%22%20x%3D%22575%22%20y%3D%22272%22%20width%3D%2220%22%20height%3D%2220%22%20style%3D%22fill%3A%20transparent%3B%20stroke-width%3A%200%3B%20pointer-events%3A%20all%3B%22%2F%3E%3Crect%20class%3D%22ewdrag%20drag%20cursor-ew-resize%22%20data-subplot%3D%22x2y%22%20x%3D%22377%22%20y%3D%22272.5%22%20width%3D%22176.00000000000003%22%20height%3D%2220%22%20style%3D%22fill%3A%20transparent%3B%20stroke-width%3A%200%3B%20pointer-events%3A%20all%3B%22%2F%3E%3Crect%20class%3D%22wdrag%20drag%20cursor-w-resize%22%20data-subplot%3D%22x2y%22%20x%3D%22355%22%20y%3D%22272.5%22%20width%3D%2222.000000000000004%22%20height%3D%2220%22%20style%3D%22fill%3A%20transparent%3B%20stroke-width%3A%200%3B%20pointer-events%3A%20all%3B%22%2F%3E%3Crect%20class%3D%22edrag%20drag%20cursor-e-resize%22%20data-subplot%3D%22x2y%22%20x%3D%22553%22%20y%3D%22272.5%22%20width%3D%2222.000000000000004%22%20height%3D%2220%22%20style%3D%22fill%3A%20transparent%3B%20stroke-width%3A%200%3B%20pointer-events%3A%20all%3B%22%2F%3E%3C%2Fg%3E%3Cg%20class%3D%22x3y%22%3E%3Crect%20class%3D%22nsewdrag%20drag%22%20data-subplot%3D%22x3y%22%20x%3D%22630%22%20y%3D%2230%22%20width%3D%22220%22%20height%3D%22242%22%20style%3D%22fill%3A%20transparent%3B%20stroke-width%3A%200%3B%20pointer-events%3A%20all%3B%22%2F%3E%3Crect%20class%3D%22nwdrag%20drag%20cursor-nw-resize%22%20data-subplot%3D%22x3y%22%20x%3D%22610%22%20y%3D%2210%22%20width%3D%2220%22%20height%3D%2220%22%20style%3D%22fill%3A%20transparent%3B%20stroke-width%3A%200%3B%20pointer-events%3A%20all%3B%22%2F%3E%3Crect%20class%3D%22nedrag%20drag%20cursor-ne-resize%22%20data-subplot%3D%22x3y%22%20x%3D%22850%22%20y%3D%2210%22%20width%3D%2220%22%20height%3D%2220%22%20style%3D%22fill%3A%20transparent%3B%20stroke-width%3A%200%3B%20pointer-events%3A%20all%3B%22%2F%3E%3Crect%20class%3D%22swdrag%20drag%20cursor-sw-resize%22%20data-subplot%3D%22x3y%22%20x%3D%22610%22%20y%3D%22272%22%20width%3D%2220%22%20height%3D%2220%22%20style%3D%22fill%3A%20transparent%3B%20stroke-width%3A%200%3B%20pointer-events%3A%20all%3B%22%2F%3E%3Crect%20class%3D%22sedrag%20drag%20cursor-se-resize%22%20data-subplot%3D%22x3y%22%20x%3D%22850%22%20y%3D%22272%22%20width%3D%2220%22%20height%3D%2220%22%20style%3D%22fill%3A%20transparent%3B%20stroke-width%3A%200%3B%20pointer-events%3A%20all%3B%22%2F%3E%3Crect%20class%3D%22ewdrag%20drag%20cursor-ew-resize%22%20data-subplot%3D%22x3y%22%20x%3D%22652%22%20y%3D%22272.5%22%20width%3D%22176%22%20height%3D%2220%22%20style%3D%22fill%3A%20transparent%3B%20stroke-width%3A%200%3B%20pointer-events%3A%20all%3B%22%2F%3E%3Crect%20class%3D%22wdrag%20drag%20cursor-w-resize%22%20data-subplot%3D%22x3y%22%20x%3D%22630%22%20y%3D%22272.5%22%20width%3D%2222%22%20height%3D%2220%22%20style%3D%22fill%3A%20transparent%3B%20stroke-width%3A%200%3B%20pointer-events%3A%20all%3B%22%2F%3E%3Crect%20class%3D%22edrag%20drag%20cursor-e-resize%22%20data-subplot%3D%22x3y%22%20x%3D%22828%22%20y%3D%22272.5%22%20width%3D%2222%22%20height%3D%2220%22%20style%3D%22fill%3A%20transparent%3B%20stroke-width%3A%200%3B%20pointer-events%3A%20all%3B%22%2F%3E%3C%2Fg%3E%3C%2Fg%3E%3Cg%20class%3D%22layer-below%22%3E%3Cg%20class%3D%22imagelayer%22%2F%3E%3Cg%20class%3D%22shapelayer%22%2F%3E%3C%2Fg%3E%3Cg%20class%3D%22cartesianlayer%22%3E%3Cg%20class%3D%22subplot%20xy%22%3E%3Cg%20class%3D%22layer-subplot%22%3E%3Cg%20class%3D%22shapelayer%22%2F%3E%3Cg%20class%3D%22imagelayer%22%2F%3E%3C%2Fg%3E%3Cg%20class%3D%22gridlayer%22%3E%3Cg%20class%3D%22x%22%3E%3Cpath%20class%3D%22xgrid%20crisp%22%20transform%3D%22translate(97.2%2C0)%22%20d%3D%22M0%2C30v242%22%20style%3D%22stroke%3A%20rgb(89%2C%2089%2C%2089)%3B%20stroke-opacity%3A%200.25%3B%20stroke-width%3A%201px%3B%22%2F%3E%3Cpath%20class%3D%22xgrid%20crisp%22%20transform%3D%22translate(153.19%2C0)%22%20d%3D%22M0%2C30v242%22%20style%3D%22stroke%3A%20rgb(89%2C%2089%2C%2089)%3B%20stroke-opacity%3A%200.25%3B%20stroke-width%3A%201px%3B%22%2F%3E%3Cpath%20class%3D%22xgrid%20crisp%22%20transform%3D%22translate(209.18%2C0)%22%20d%3D%22M0%2C30v242%22%20style%3D%22stroke%3A%20rgb(89%2C%2089%2C%2089)%3B%20stroke-opacity%3A%200.25%3B%20stroke-width%3A%201px%3B%22%2F%3E%3Cpath%20class%3D%22xgrid%20crisp%22%20transform%3D%22translate(265.16999999999996%2C0)%22%20d%3D%22M0%2C30v242%22%20style%3D%22stroke%3A%20rgb(89%2C%2089%2C%2089)%3B%20stroke-opacity%3A%200.25%3B%20stroke-width%3A%201px%3B%22%2F%3E%3C%2Fg%3E%3Cg%20class%3D%22y%22%3E%3Cpath%20class%3D%22ygrid%20crisp%22%20transform%3D%22translate(0%2C245.33)%22%20d%3D%22M80%2C0h220.00000000000003%22%20style%3D%22stroke%3A%20rgb(89%2C%2089%2C%2089)%3B%20stroke-opacity%3A%200.25%3B%20stroke-width%3A%201px%3B%22%2F%3E%3Cpath%20class%3D%22ygrid%20crisp%22%20transform%3D%22translate(0%2C186.37)%22%20d%3D%22M80%2C0h220.00000000000003%22%20style%3D%22stroke%3A%20rgb(89%2C%2089%2C%2089)%3B%20stroke-opacity%3A%200.25%3B%20stroke-width%3A%201px%3B%22%2F%3E%3Cpath%20class%3D%22ygrid%20crisp%22%20transform%3D%22translate(0%2C127.41)%22%20d%3D%22M80%2C0h220.00000000000003%22%20style%3D%22stroke%3A%20rgb(89%2C%2089%2C%2089)%3B%20stroke-opacity%3A%200.25%3B%20stroke-width%3A%201px%3B%22%2F%3E%3Cpath%20class%3D%22ygrid%20crisp%22%20transform%3D%22translate(0%2C68.46000000000001)%22%20d%3D%22M80%2C0h220.00000000000003%22%20style%3D%22stroke%3A%20rgb(89%2C%2089%2C%2089)%3B%20stroke-opacity%3A%200.25%3B%20stroke-width%3A%201px%3B%22%2F%3E%3C%2Fg%3E%3C%2Fg%3E%3Cg%20class%3D%22zerolinelayer%22%2F%3E%3Cpath%20class%3D%22xlines-below%22%2F%3E%3Cpath%20class%3D%22ylines-below%22%2F%3E%3Cg%20class%3D%22overlines-below%22%2F%3E%3Cg%20class%3D%22xaxislayer-below%22%2F%3E%3Cg%20class%3D%22yaxislayer-below%22%2F%3E%3Cg%20class%3D%22overaxes-below%22%2F%3E%3Cg%20class%3D%22plot%22%20transform%3D%22translate(80%2C30)%22%20clip-path%3D%22url('%23clip89b206xyplot')%22%3E%3Cg%20class%3D%22scatterlayer%20mlayer%22%3E%3Cg%20class%3D%22trace%20scatter%20traced71074%22%20style%3D%22stroke-miterlimit%3A%202%3B%20opacity%3A%201%3B%22%3E%3Cg%20class%3D%22fills%22%2F%3E%3Cg%20class%3D%22errorbars%22%2F%3E%3Cg%20class%3D%22lines%22%2F%3E%3Cg%20class%3D%22points%22%3E%3Cpath%20class%3D%22point%22%20transform%3D%22translate(73.5%2C106.81)%22%20d%3D%22M50%2C0A50%2C50%200%201%2C1%200%2C-50A50%2C50%200%200%2C1%2050%2C0Z%22%20style%3D%22opacity%3A%200.7%3B%20stroke-width%3A%201px%3B%20fill%3A%20rgb(78%2C%20121%2C%20167)%3B%20fill-opacity%3A%201%3B%20stroke%3A%20rgb(255%2C%20255%2C%20255)%3B%20stroke-opacity%3A%201%3B%22%2F%3E%3C%2Fg%3E%3Cg%20class%3D%22text%22%2F%3E%3C%2Fg%3E%3Cg%20class%3D%22trace%20scatter%20trace58e87e%22%20style%3D%22stroke-miterlimit%3A%202%3B%20opacity%3A%201%3B%22%3E%3Cg%20class%3D%22fills%22%2F%3E%3Cg%20class%3D%22errorbars%22%2F%3E%3Cg%20class%3D%22lines%22%2F%3E%3Cg%20class%3D%22points%22%3E%3Cpath%20class%3D%22point%22%20transform%3D%22translate(115.74%2C90.56)%22%20d%3D%22M49.51%2C0A49.51%2C49.51%200%201%2C1%200%2C-49.51A49.51%2C49.51%200%200%2C1%2049.51%2C0Z%22%20style%3D%22opacity%3A%200.7%3B%20stroke-width%3A%201px%3B%20fill%3A%20rgb(242%2C%20142%2C%2044)%3B%20fill-opacity%3A%201%3B%20stroke%3A%20rgb(255%2C%20255%2C%20255)%3B%20stroke-opacity%3A%201%3B%22%2F%3E%3C%2Fg%3E%3Cg%20class%3D%22text%22%2F%3E%3C%2Fg%3E%3Cg%20class%3D%22trace%20scatter%20traceef00c0%22%20style%3D%22stroke-miterlimit%3A%202%3B%20opacity%3A%201%3B%22%3E%3Cg%20class%3D%22fills%22%2F%3E%3Cg%20class%3D%22errorbars%22%2F%3E%3Cg%20class%3D%22lines%22%2F%3E%3Cg%20class%3D%22points%22%3E%3Cpath%20class%3D%22point%22%20transform%3D%22translate(154.87%2C77.55)%22%20d%3D%22M43.31%2C0A43.31%2C43.31%200%201%2C1%200%2C-43.31A43.31%2C43.31%200%200%2C1%2043.31%2C0Z%22%20style%3D%22opacity%3A%200.7%3B%20stroke-width%3A%201px%3B%20fill%3A%20rgb(225%2C%2087%2C%2089)%3B%20fill-opacity%3A%201%3B%20stroke%3A%20rgb(255%2C%20255%2C%20255)%3B%20stroke-opacity%3A%201%3B%22%2F%3E%3C%2Fg%3E%3Cg%20class%3D%22text%22%2F%3E%3C%2Fg%3E%3C%2Fg%3E%3C%2Fg%3E%3Cg%20class%3D%22overplot%22%2F%3E%3Cpath%20class%3D%22xlines-above%20crisp%22%20style%3D%22fill%3A%20none%3B%20stroke-width%3A%201px%3B%20stroke%3A%20rgb(89%2C%2089%2C%2089)%3B%20stroke-opacity%3A%200.25%3B%22%20d%3D%22M79%2C272.5H300%22%2F%3E%3Cpath%20class%3D%22ylines-above%20crisp%22%20style%3D%22fill%3A%20none%3B%20stroke-width%3A%201px%3B%20stroke%3A%20rgb(89%2C%2089%2C%2089)%3B%20stroke-opacity%3A%200.25%3B%22%20d%3D%22M79.5%2C30V272%22%2F%3E%3Cg%20class%3D%22overlines-above%22%2F%3E%3Cg%20class%3D%22xaxislayer-above%22%3E%3Cg%20class%3D%22xtick%22%3E%3Ctext%20text-anchor%3D%22middle%22%20x%3D%220%22%20y%3D%22287.4%22%20data-unformatted%3D%220.6%22%20data-math%3D%22N%22%20transform%3D%22translate(97.2%2C0)%22%20style%3D%22font-family%3A%20%26quot%3BOpen%20Sans%26quot%3B%2C%20verdana%2C%20arial%2C%20sans-serif%3B%20font-size%3A%2012px%3B%20fill%3A%20rgb(89%2C%2089%2C%2089)%3B%20fill-opacity%3A%201%3B%20white-space%3A%20pre%3B%22%3E0.6%3C%2Ftext%3E%3C%2Fg%3E%3Cg%20class%3D%22xtick%22%3E%3Ctext%20text-anchor%3D%22middle%22%20x%3D%220%22%20y%3D%22287.4%22%20data-unformatted%3D%220.7%22%20data-math%3D%22N%22%20transform%3D%22translate(153.19%2C0)%22%20style%3D%22font-family%3A%20%26quot%3BOpen%20Sans%26quot%3B%2C%20verdana%2C%20arial%2C%20sans-serif%3B%20font-size%3A%2012px%3B%20fill%3A%20rgb(89%2C%2089%2C%2089)%3B%20fill-opacity%3A%201%3B%20white-space%3A%20pre%3B%22%3E0.7%3C%2Ftext%3E%3C%2Fg%3E%3Cg%20class%3D%22xtick%22%3E%3Ctext%20text-anchor%3D%22middle%22%20x%3D%220%22%20y%3D%22287.4%22%20data-unformatted%3D%220.8%22%20data-math%3D%22N%22%20transform%3D%22translate(209.18%2C0)%22%20style%3D%22font-family%3A%20%26quot%3BOpen%20Sans%26quot%3B%2C%20verdana%2C%20arial%2C%20sans-serif%3B%20font-size%3A%2012px%3B%20fill%3A%20rgb(89%2C%2089%2C%2089)%3B%20fill-opacity%3A%201%3B%20white-space%3A%20pre%3B%22%3E0.8%3C%2Ftext%3E%3C%2Fg%3E%3Cg%20class%3D%22xtick%22%3E%3Ctext%20text-anchor%3D%22middle%22%20x%3D%220%22%20y%3D%22287.4%22%20data-unformatted%3D%220.9%22%20data-math%3D%22N%22%20transform%3D%22translate(265.16999999999996%2C0)%22%20style%3D%22font-family%3A%20%26quot%3BOpen%20Sans%26quot%3B%2C%20verdana%2C%20arial%2C%20sans-serif%3B%20font-size%3A%2012px%3B%20fill%3A%20rgb(89%2C%2089%2C%2089)%3B%20fill-opacity%3A%201%3B%20white-space%3A%20pre%3B%22%3E0.9%3C%2Ftext%3E%3C%2Fg%3E%3C%2Fg%3E%3Cg%20class%3D%22yaxislayer-above%22%3E%3Cg%20class%3D%22ytick%22%3E%3Ctext%20text-anchor%3D%22end%22%20x%3D%2276.6%22%20y%3D%224.199999999999999%22%20data-unformatted%3D%220.4%22%20data-math%3D%22N%22%20transform%3D%22translate(0%2C245.33)%22%20style%3D%22font-family%3A%20%26quot%3BOpen%20Sans%26quot%3B%2C%20verdana%2C%20arial%2C%20sans-serif%3B%20font-size%3A%2012px%3B%20fill%3A%20rgb(89%2C%2089%2C%2089)%3B%20fill-opacity%3A%201%3B%20white-space%3A%20pre%3B%22%3E0.4%3C%2Ftext%3E%3C%2Fg%3E%3Cg%20class%3D%22ytick%22%3E%3Ctext%20text-anchor%3D%22end%22%20x%3D%2276.6%22%20y%3D%224.199999999999999%22%20data-unformatted%3D%220.6%22%20data-math%3D%22N%22%20transform%3D%22translate(0%2C186.37)%22%20style%3D%22font-family%3A%20%26quot%3BOpen%20Sans%26quot%3B%2C%20verdana%2C%20arial%2C%20sans-serif%3B%20font-size%3A%2012px%3B%20fill%3A%20rgb(89%2C%2089%2C%2089)%3B%20fill-opacity%3A%201%3B%20white-space%3A%20pre%3B%22%3E0.6%3C%2Ftext%3E%3C%2Fg%3E%3Cg%20class%3D%22ytick%22%3E%3Ctext%20text-anchor%3D%22end%22%20x%3D%2276.6%22%20y%3D%224.199999999999999%22%20data-unformatted%3D%220.8%22%20data-math%3D%22N%22%20transform%3D%22translate(0%2C127.41)%22%20style%3D%22font-family%3A%20%26quot%3BOpen%20Sans%26quot%3B%2C%20verdana%2C%20arial%2C%20sans-serif%3B%20font-size%3A%2012px%3B%20fill%3A%20rgb(89%2C%2089%2C%2089)%3B%20fill-opacity%3A%201%3B%20white-space%3A%20pre%3B%22%3E0.8%3C%2Ftext%3E%3C%2Fg%3E%3Cg%20class%3D%22ytick%22%3E%3Ctext%20text-anchor%3D%22end%22%20x%3D%2276.6%22%20y%3D%224.199999999999999%22%20data-unformatted%3D%221%22%20data-math%3D%22N%22%20transform%3D%22translate(0%2C68.46000000000001)%22%20style%3D%22font-family%3A%20%26quot%3BOpen%20Sans%26quot%3B%2C%20verdana%2C%20arial%2C%20sans-serif%3B%20font-size%3A%2012px%3B%20fill%3A%20rgb(89%2C%2089%2C%2089)%3B%20fill-opacity%3A%201%3B%20white-space%3A%20pre%3B%22%3E1%3C%2Ftext%3E%3C%2Fg%3E%3C%2Fg%3E%3Cg%20class%3D%22overaxes-above%22%2F%3E%3C%2Fg%3E%3Cg%20class%3D%22subplot%20x2y%22%3E%3Cg%20class%3D%22layer-subplot%22%3E%3Cg%20class%3D%22shapelayer%22%2F%3E%3Cg%20class%3D%22imagelayer%22%2F%3E%3C%2Fg%3E%3Cg%20class%3D%22gridlayer%22%3E%3Cg%20class%3D%22x2%22%3E%3Cpath%20class%3D%22x2grid%20crisp%22%20transform%3D%22translate(364.49%2C0)%22%20d%3D%22M0%2C30v242%22%20style%3D%22stroke%3A%20rgb(238%2C%20238%2C%20238)%3B%20stroke-opacity%3A%201%3B%20stroke-width%3A%201px%3B%22%2F%3E%3Cpath%20class%3D%22x2grid%20crisp%22%20transform%3D%22translate(413.3%2C0)%22%20d%3D%22M0%2C30v242%22%20style%3D%22stroke%3A%20rgb(238%2C%20238%2C%20238)%3B%20stroke-opacity%3A%201%3B%20stroke-width%3A%201px%3B%22%2F%3E%3Cpath%20class%3D%22x2grid%20crisp%22%20transform%3D%22translate(462.11%2C0)%22%20d%3D%22M0%2C30v242%22%20style%3D%22stroke%3A%20rgb(238%2C%20238%2C%20238)%3B%20stroke-opacity%3A%201%3B%20stroke-width%3A%201px%3B%22%2F%3E%3Cpath%20class%3D%22x2grid%20crisp%22%20transform%3D%22translate(510.91999999999996%2C0)%22%20d%3D%22M0%2C30v242%22%20style%3D%22stroke%3A%20rgb(238%2C%20238%2C%20238)%3B%20stroke-opacity%3A%201%3B%20stroke-width%3A%201px%3B%22%2F%3E%3Cpath%20class%3D%22x2grid%20crisp%22%20transform%3D%22translate(559.73%2C0)%22%20d%3D%22M0%2C30v242%22%20style%3D%22stroke%3A%20rgb(238%2C%20238%2C%20238)%3B%20stroke-opacity%3A%201%3B%20stroke-width%3A%201px%3B%22%2F%3E%3C%2Fg%3E%3Cg%20class%3D%22y%22%3E%3Cpath%20class%3D%22ygrid%20crisp%22%20transform%3D%22translate(0%2C245.33)%22%20d%3D%22M355%2C0h220.00000000000003%22%20style%3D%22stroke%3A%20rgb(89%2C%2089%2C%2089)%3B%20stroke-opacity%3A%200.25%3B%20stroke-width%3A%201px%3B%22%2F%3E%3Cpath%20class%3D%22ygrid%20crisp%22%20transform%3D%22translate(0%2C186.37)%22%20d%3D%22M355%2C0h220.00000000000003%22%20style%3D%22stroke%3A%20rgb(89%2C%2089%2C%2089)%3B%20stroke-opacity%3A%200.25%3B%20stroke-width%3A%201px%3B%22%2F%3E%3Cpath%20class%3D%22ygrid%20crisp%22%20transform%3D%22translate(0%2C127.41)%22%20d%3D%22M355%2C0h220.00000000000003%22%20style%3D%22stroke%3A%20rgb(89%2C%2089%2C%2089)%3B%20stroke-opacity%3A%200.25%3B%20stroke-width%3A%201px%3B%22%2F%3E%3Cpath%20class%3D%22ygrid%20crisp%22%20transform%3D%22translate(0%2C68.46000000000001)%22%20d%3D%22M355%2C0h220.00000000000003%22%20style%3D%22stroke%3A%20rgb(89%2C%2089%2C%2089)%3B%20stroke-opacity%3A%200.25%3B%20stroke-width%3A%201px%3B%22%2F%3E%3C%2Fg%3E%3C%2Fg%3E%3Cg%20class%3D%22zerolinelayer%22%2F%3E%3Cpath%20class%3D%22xlines-below%22%2F%3E%3Cpath%20class%3D%22ylines-below%22%2F%3E%3Cg%20class%3D%22overlines-below%22%2F%3E%3Cg%20class%3D%22xaxislayer-below%22%2F%3E%3Cg%20class%3D%22yaxislayer-below%22%2F%3E%3Cg%20class%3D%22overaxes-below%22%2F%3E%3Cg%20class%3D%22plot%22%20transform%3D%22translate(355%2C30)%22%20clip-path%3D%22url('%23clip89b206x2yplot')%22%3E%3Cg%20class%3D%22scatterlayer%20mlayer%22%3E%3Cg%20class%3D%22trace%20scatter%20trace74bd40%22%20style%3D%22stroke-miterlimit%3A%202%3B%20opacity%3A%201%3B%22%3E%3Cg%20class%3D%22fills%22%2F%3E%3Cg%20class%3D%22errorbars%22%2F%3E%3Cg%20class%3D%22lines%22%2F%3E%3Cg%20class%3D%22points%22%3E%3Cpath%20class%3D%22point%22%20transform%3D%22translate(68.19%2C172.71)%22%20d%3D%22M45.75%2C0A45.75%2C45.75%200%201%2C1%200%2C-45.75A45.75%2C45.75%200%200%2C1%2045.75%2C0Z%22%20style%3D%22opacity%3A%200.7%3B%20stroke-width%3A%201px%3B%20fill%3A%20rgb(78%2C%20121%2C%20167)%3B%20fill-opacity%3A%201%3B%20stroke%3A%20rgb(255%2C%20255%2C%20255)%3B%20stroke-opacity%3A%201%3B%22%2F%3E%3C%2Fg%3E%3Cg%20class%3D%22text%22%2F%3E%3C%2Fg%3E%3Cg%20class%3D%22trace%20scatter%20trace643c5c%22%20style%3D%22stroke-miterlimit%3A%202%3B%20opacity%3A%201%3B%22%3E%3Cg%20class%3D%22fills%22%2F%3E%3Cg%20class%3D%22errorbars%22%2F%3E%3Cg%20class%3D%22lines%22%2F%3E%3Cg%20class%3D%22points%22%3E%3Cpath%20class%3D%22point%22%20transform%3D%22translate(102.28%2C136.12)%22%20d%3D%22M47.44%2C0A47.44%2C47.44%200%201%2C1%200%2C-47.44A47.44%2C47.44%200%200%2C1%2047.44%2C0Z%22%20style%3D%22opacity%3A%200.7%3B%20stroke-width%3A%201px%3B%20fill%3A%20rgb(242%2C%20142%2C%2044)%3B%20fill-opacity%3A%201%3B%20stroke%3A%20rgb(255%2C%20255%2C%20255)%3B%20stroke-opacity%3A%201%3B%22%2F%3E%3C%2Fg%3E%3Cg%20class%3D%22text%22%2F%3E%3C%2Fg%3E%3Cg%20class%3D%22trace%20scatter%20tracee3b7df%22%20style%3D%22stroke-miterlimit%3A%202%3B%20opacity%3A%201%3B%22%3E%3Cg%20class%3D%22fills%22%2F%3E%3Cg%20class%3D%22errorbars%22%2F%3E%3Cg%20class%3D%22lines%22%2F%3E%3Cg%20class%3D%22points%22%3E%3Cpath%20class%3D%22point%22%20transform%3D%22translate(151.08%2C92.15)%22%20d%3D%22M46.33%2C0A46.33%2C46.33%200%201%2C1%200%2C-46.33A46.33%2C46.33%200%200%2C1%2046.33%2C0Z%22%20style%3D%22opacity%3A%200.7%3B%20stroke-width%3A%201px%3B%20fill%3A%20rgb(225%2C%2087%2C%2089)%3B%20fill-opacity%3A%201%3B%20stroke%3A%20rgb(255%2C%20255%2C%20255)%3B%20stroke-opacity%3A%201%3B%22%2F%3E%3C%2Fg%3E%3Cg%20class%3D%22text%22%2F%3E%3C%2Fg%3E%3C%2Fg%3E%3C%2Fg%3E%3Cg%20class%3D%22overplot%22%2F%3E%3Cpath%20class%3D%22xlines-above%20crisp%22%20style%3D%22fill%3A%20none%3B%22%20d%3D%22M0%2C0%22%2F%3E%3Cpath%20class%3D%22ylines-above%20crisp%22%20style%3D%22fill%3A%20none%3B%22%20d%3D%22M0%2C0%22%2F%3E%3Cg%20class%3D%22overlines-above%22%2F%3E%3Cg%20class%3D%22xaxislayer-above%22%3E%3Cg%20class%3D%22x2tick%22%3E%3Ctext%20text-anchor%3D%22middle%22%20x%3D%220%22%20y%3D%22285%22%20data-unformatted%3D%220.2%22%20data-math%3D%22N%22%20transform%3D%22translate(364.49%2C0)%22%20style%3D%22font-family%3A%20%26quot%3BOpen%20Sans%26quot%3B%2C%20verdana%2C%20arial%2C%20sans-serif%3B%20font-size%3A%2012px%3B%20fill%3A%20rgb(89%2C%2089%2C%2089)%3B%20fill-opacity%3A%201%3B%20white-space%3A%20pre%3B%22%3E0.2%3C%2Ftext%3E%3C%2Fg%3E%3Cg%20class%3D%22x2tick%22%3E%3Ctext%20text-anchor%3D%22middle%22%20x%3D%220%22%20y%3D%22285%22%20data-unformatted%3D%220.4%22%20data-math%3D%22N%22%20transform%3D%22translate(413.3%2C0)%22%20style%3D%22font-family%3A%20%26quot%3BOpen%20Sans%26quot%3B%2C%20verdana%2C%20arial%2C%20sans-serif%3B%20font-size%3A%2012px%3B%20fill%3A%20rgb(89%2C%2089%2C%2089)%3B%20fill-opacity%3A%201%3B%20white-space%3A%20pre%3B%22%3E0.4%3C%2Ftext%3E%3C%2Fg%3E%3Cg%20class%3D%22x2tick%22%3E%3Ctext%20text-anchor%3D%22middle%22%20x%3D%220%22%20y%3D%22285%22%20data-unformatted%3D%220.6%22%20data-math%3D%22N%22%20transform%3D%22translate(462.11%2C0)%22%20style%3D%22font-family%3A%20%26quot%3BOpen%20Sans%26quot%3B%2C%20verdana%2C%20arial%2C%20sans-serif%3B%20font-size%3A%2012px%3B%20fill%3A%20rgb(89%2C%2089%2C%2089)%3B%20fill-opacity%3A%201%3B%20white-space%3A%20pre%3B%22%3E0.6%3C%2Ftext%3E%3C%2Fg%3E%3Cg%20class%3D%22x2tick%22%3E%3Ctext%20text-anchor%3D%22middle%22%20x%3D%220%22%20y%3D%22285%22%20data-unformatted%3D%220.8%22%20data-math%3D%22N%22%20transform%3D%22translate(510.91999999999996%2C0)%22%20style%3D%22font-family%3A%20%26quot%3BOpen%20Sans%26quot%3B%2C%20verdana%2C%20arial%2C%20sans-serif%3B%20font-size%3A%2012px%3B%20fill%3A%20rgb(89%2C%2089%2C%2089)%3B%20fill-opacity%3A%201%3B%20white-space%3A%20pre%3B%22%3E0.8%3C%2Ftext%3E%3C%2Fg%3E%3Cg%20class%3D%22x2tick%22%3E%3Ctext%20text-anchor%3D%22middle%22%20x%3D%220%22%20y%3D%22285%22%20data-unformatted%3D%221%22%20data-math%3D%22N%22%20transform%3D%22translate(559.73%2C0)%22%20style%3D%22font-family%3A%20%26quot%3BOpen%20Sans%26quot%3B%2C%20verdana%2C%20arial%2C%20sans-serif%3B%20font-size%3A%2012px%3B%20fill%3A%20rgb(89%2C%2089%2C%2089)%3B%20fill-opacity%3A%201%3B%20white-space%3A%20pre%3B%22%3E1%3C%2Ftext%3E%3C%2Fg%3E%3C%2Fg%3E%3Cg%20class%3D%22yaxislayer-above%22%2F%3E%3Cg%20class%3D%22overaxes-above%22%2F%3E%3C%2Fg%3E%3Cg%20class%3D%22subplot%20x3y%22%3E%3Cg%20class%3D%22layer-subplot%22%3E%3Cg%20class%3D%22shapelayer%22%2F%3E%3Cg%20class%3D%22imagelayer%22%2F%3E%3C%2Fg%3E%3Cg%20class%3D%22gridlayer%22%3E%3Cg%20class%3D%22x3%22%3E%3Cpath%20class%3D%22x3grid%20crisp%22%20transform%3D%22translate(681.47%2C0)%22%20d%3D%22M0%2C30v242%22%20style%3D%22stroke%3A%20rgb(238%2C%20238%2C%20238)%3B%20stroke-opacity%3A%201%3B%20stroke-width%3A%201px%3B%22%2F%3E%3Cpath%20class%3D%22x3grid%20crisp%22%20transform%3D%22translate(748.28%2C0)%22%20d%3D%22M0%2C30v242%22%20style%3D%22stroke%3A%20rgb(238%2C%20238%2C%20238)%3B%20stroke-opacity%3A%201%3B%20stroke-width%3A%201px%3B%22%2F%3E%3Cpath%20class%3D%22x3grid%20crisp%22%20transform%3D%22translate(815.1%2C0)%22%20d%3D%22M0%2C30v242%22%20style%3D%22stroke%3A%20rgb(238%2C%20238%2C%20238)%3B%20stroke-opacity%3A%201%3B%20stroke-width%3A%201px%3B%22%2F%3E%3C%2Fg%3E%3Cg%20class%3D%22y%22%3E%3Cpath%20class%3D%22ygrid%20crisp%22%20transform%3D%22translate(0%2C245.33)%22%20d%3D%22M630%2C0h220%22%20style%3D%22stroke%3A%20rgb(89%2C%2089%2C%2089)%3B%20stroke-opacity%3A%200.25%3B%20stroke-width%3A%201px%3B%22%2F%3E%3Cpath%20class%3D%22ygrid%20crisp%22%20transform%3D%22translate(0%2C186.37)%22%20d%3D%22M630%2C0h220%22%20style%3D%22stroke%3A%20rgb(89%2C%2089%2C%2089)%3B%20stroke-opacity%3A%200.25%3B%20stroke-width%3A%201px%3B%22%2F%3E%3Cpath%20class%3D%22ygrid%20crisp%22%20transform%3D%22translate(0%2C127.41)%22%20d%3D%22M630%2C0h220%22%20style%3D%22stroke%3A%20rgb(89%2C%2089%2C%2089)%3B%20stroke-opacity%3A%200.25%3B%20stroke-width%3A%201px%3B%22%2F%3E%3Cpath%20class%3D%22ygrid%20crisp%22%20transform%3D%22translate(0%2C68.46000000000001)%22%20d%3D%22M630%2C0h220%22%20style%3D%22stroke%3A%20rgb(89%2C%2089%2C%2089)%3B%20stroke-opacity%3A%200.25%3B%20stroke-width%3A%201px%3B%22%2F%3E%3C%2Fg%3E%3C%2Fg%3E%3Cg%20class%3D%22zerolinelayer%22%2F%3E%3Cpath%20class%3D%22xlines-below%22%2F%3E%3Cpath%20class%3D%22ylines-below%22%2F%3E%3Cg%20class%3D%22overlines-below%22%2F%3E%3Cg%20class%3D%22xaxislayer-below%22%2F%3E%3Cg%20class%3D%22yaxislayer-below%22%2F%3E%3Cg%20class%3D%22overaxes-below%22%2F%3E%3Cg%20class%3D%22plot%22%20transform%3D%22translate(630%2C30)%22%20clip-path%3D%22url('%23clip89b206x3yplot')%22%3E%3Cg%20class%3D%22scatterlayer%20mlayer%22%3E%3Cg%20class%3D%22trace%20scatter%20traceabcb79%22%20style%3D%22stroke-miterlimit%3A%202%3B%20opacity%3A%201%3B%22%3E%3Cg%20class%3D%22fills%22%2F%3E%3Cg%20class%3D%22errorbars%22%2F%3E%3Cg%20class%3D%22lines%22%2F%3E%3Cg%20class%3D%22points%22%3E%3Cpath%20class%3D%22point%22%20transform%3D%22translate(68.46%2C79.07)%22%20d%3D%22M45.97%2C0A45.97%2C45.97%200%201%2C1%200%2C-45.97A45.97%2C45.97%200%200%2C1%2045.97%2C0Z%22%20style%3D%22opacity%3A%200.7%3B%20stroke-width%3A%201px%3B%20fill%3A%20rgb(78%2C%20121%2C%20167)%3B%20fill-opacity%3A%201%3B%20stroke%3A%20rgb(255%2C%20255%2C%20255)%3B%20stroke-opacity%3A%201%3B%22%2F%3E%3C%2Fg%3E%3Cg%20class%3D%22text%22%2F%3E%3C%2Fg%3E%3Cg%20class%3D%22trace%20scatter%20tracef4db39%22%20style%3D%22stroke-miterlimit%3A%202%3B%20opacity%3A%201%3B%22%3E%3Cg%20class%3D%22fills%22%2F%3E%3Cg%20class%3D%22errorbars%22%2F%3E%3Cg%20class%3D%22lines%22%2F%3E%3Cg%20class%3D%22points%22%3E%3Cpath%20class%3D%22point%22%20transform%3D%22translate(94.24%2C74.35)%22%20d%3D%22M47.17%2C0A47.17%2C47.17%200%201%2C1%200%2C-47.17A47.17%2C47.17%200%200%2C1%2047.17%2C0Z%22%20style%3D%22opacity%3A%200.7%3B%20stroke-width%3A%201px%3B%20fill%3A%20rgb(242%2C%20142%2C%2044)%3B%20fill-opacity%3A%201%3B%20stroke%3A%20rgb(255%2C%20255%2C%20255)%3B%20stroke-opacity%3A%201%3B%22%2F%3E%3C%2Fg%3E%3Cg%20class%3D%22text%22%2F%3E%3C%2Fg%3E%3Cg%20class%3D%22trace%20scatter%20trace315b57%22%20style%3D%22stroke-miterlimit%3A%202%3B%20opacity%3A%201%3B%22%3E%3Cg%20class%3D%22fills%22%2F%3E%3Cg%20class%3D%22errorbars%22%2F%3E%3Cg%20class%3D%22lines%22%2F%3E%3Cg%20class%3D%22points%22%3E%3Cpath%20class%3D%22point%22%20transform%3D%22translate(149.9%2C71.2)%22%20d%3D%22M47.28%2C0A47.28%2C47.28%200%201%2C1%200%2C-47.28A47.28%2C47.28%200%200%2C1%2047.28%2C0Z%22%20style%3D%22opacity%3A%200.7%3B%20stroke-width%3A%201px%3B%20fill%3A%20rgb(225%2C%2087%2C%2089)%3B%20fill-opacity%3A%201%3B%20stroke%3A%20rgb(255%2C%20255%2C%20255)%3B%20stroke-opacity%3A%201%3B%22%2F%3E%3C%2Fg%3E%3Cg%20class%3D%22text%22%2F%3E%3C%2Fg%3E%3C%2Fg%3E%3C%2Fg%3E%3Cg%20class%3D%22overplot%22%2F%3E%3Cpath%20class%3D%22xlines-above%20crisp%22%20style%3D%22fill%3A%20none%3B%22%20d%3D%22M0%2C0%22%2F%3E%3Cpath%20class%3D%22ylines-above%20crisp%22%20style%3D%22fill%3A%20none%3B%22%20d%3D%22M0%2C0%22%2F%3E%3Cg%20class%3D%22overlines-above%22%2F%3E%3Cg%20class%3D%22xaxislayer-above%22%3E%3Cg%20class%3D%22x3tick%22%3E%3Ctext%20text-anchor%3D%22middle%22%20x%3D%220%22%20y%3D%22285%22%20data-unformatted%3D%220.84%22%20data-math%3D%22N%22%20transform%3D%22translate(681.47%2C0)%22%20style%3D%22font-family%3A%20%26quot%3BOpen%20Sans%26quot%3B%2C%20verdana%2C%20arial%2C%20sans-serif%3B%20font-size%3A%2012px%3B%20fill%3A%20rgb(89%2C%2089%2C%2089)%3B%20fill-opacity%3A%201%3B%20white-space%3A%20pre%3B%22%3E0.84%3C%2Ftext%3E%3C%2Fg%3E%3Cg%20class%3D%22x3tick%22%3E%3Ctext%20text-anchor%3D%22middle%22%20x%3D%220%22%20y%3D%22285%22%20data-unformatted%3D%220.86%22%20data-math%3D%22N%22%20transform%3D%22translate(748.28%2C0)%22%20style%3D%22font-family%3A%20%26quot%3BOpen%20Sans%26quot%3B%2C%20verdana%2C%20arial%2C%20sans-serif%3B%20font-size%3A%2012px%3B%20fill%3A%20rgb(89%2C%2089%2C%2089)%3B%20fill-opacity%3A%201%3B%20white-space%3A%20pre%3B%22%3E0.86%3C%2Ftext%3E%3C%2Fg%3E%3Cg%20class%3D%22x3tick%22%3E%3Ctext%20text-anchor%3D%22middle%22%20x%3D%220%22%20y%3D%22285%22%20data-unformatted%3D%220.88%22%20data-math%3D%22N%22%20transform%3D%22translate(815.1%2C0)%22%20style%3D%22font-family%3A%20%26quot%3BOpen%20Sans%26quot%3B%2C%20verdana%2C%20arial%2C%20sans-serif%3B%20font-size%3A%2012px%3B%20fill%3A%20rgb(89%2C%2089%2C%2089)%3B%20fill-opacity%3A%201%3B%20white-space%3A%20pre%3B%22%3E0.88%3C%2Ftext%3E%3C%2Fg%3E%3C%2Fg%3E%3Cg%20class%3D%22yaxislayer-above%22%2F%3E%3Cg%20class%3D%22overaxes-above%22%2F%3E%3C%2Fg%3E%3C%2Fg%3E%3Cg%20class%3D%22polarlayer%22%2F%3E%3Cg%20class%3D%22ternarylayer%22%2F%3E%3Cg%20class%3D%22geolayer%22%2F%3E%3Cg%20class%3D%22funnelarealayer%22%2F%3E%3Cg%20class%3D%22pielayer%22%2F%3E%3Cg%20class%3D%22treemaplayer%22%2F%3E%3Cg%20class%3D%22sunburstlayer%22%2F%3E%3Cg%20class%3D%22glimages%22%2F%3E%3C%2Fsvg%3E%3Cdiv%20class%3D%22gl-container%22%3E%3C%2Fdiv%3E%3Csvg%20class%3D%22main-svg%22%20xmlns%3D%22http%3A%2F%2Fwww.w3.org%2F2000%2Fsvg%22%20xmlns%3Axlink%3D%22http%3A%2F%2Fwww.w3.org%2F1999%2Fxlink%22%20width%3D%22967%22%20height%3D%22352%22%3E%3Cdefs%20id%3D%22topdefs-89b206%22%3E%3Cg%20class%3D%22clips%22%2F%3E%3CclipPath%20id%3D%22legend89b206%22%3E%3Crect%20width%3D%22102%22%20height%3D%2287%22%20x%3D%220%22%20y%3D%220%22%2F%3E%3C%2FclipPath%3E%3C%2Fdefs%3E%3Cg%20class%3D%22indicatorlayer%22%2F%3E%3Cg%20class%3D%22layer-above%22%3E%3Cg%20class%3D%22imagelayer%22%2F%3E%3Cg%20class%3D%22shapelayer%22%2F%3E%3C%2Fg%3E%3Cg%20class%3D%22infolayer%22%3E%3Cg%20class%3D%22legend%22%20pointer-events%3D%22all%22%20transform%3D%22translate(865%2C30)%22%3E%3Crect%20class%3D%22bg%22%20shape-rendering%3D%22crispEdges%22%20style%3D%22stroke%3A%20rgb(68%2C%2068%2C%2068)%3B%20stroke-opacity%3A%201%3B%20fill%3A%20rgb(255%2C%20255%2C%20255)%3B%20fill-opacity%3A%201%3B%20stroke-width%3A%200px%3B%22%20width%3D%22102%22%20height%3D%2287%22%20x%3D%220%22%20y%3D%220%22%2F%3E%3Cg%20class%3D%22scrollbox%22%20transform%3D%22%22%20clip-path%3D%22url('%23legend89b206')%22%3E%3Cg%20class%3D%22groups%22%20transform%3D%22%22%3E%3Cg%20class%3D%22traces%22%20style%3D%22opacity%3A%201%3B%22%20transform%3D%22translate(0%2C14.5)%22%3E%3Ctext%20class%3D%22legendtext%22%20text-anchor%3D%22start%22%20x%3D%2240%22%20y%3D%224.680000000000001%22%20data-unformatted%3D%22Basic%22%20data-math%3D%22N%22%20style%3D%22font-family%3A%20%26quot%3BOpen%20Sans%26quot%3B%2C%20verdana%2C%20arial%2C%20sans-serif%3B%20font-size%3A%2012px%3B%20fill%3A%20rgb(89%2C%2089%2C%2089)%3B%20fill-opacity%3A%201%3B%20white-space%3A%20pre%3B%22%3EBasic%3C%2Ftext%3E%3Cg%20class%3D%22layers%22%20style%3D%22opacity%3A%201%3B%22%3E%3Cg%20class%3D%22legendfill%22%2F%3E%3Cg%20class%3D%22legendlines%22%2F%3E%3Cg%20class%3D%22legendsymbols%22%3E%3Cg%20class%3D%22legendpoints%22%3E%3Cpath%20class%3D%22scatterpts%22%20transform%3D%22translate(20%2C0)%22%20d%3D%22M8%2C0A8%2C8%200%201%2C1%200%2C-8A8%2C8%200%200%2C1%208%2C0Z%22%20style%3D%22opacity%3A%200.7%3B%20stroke-width%3A%201px%3B%20fill%3A%20rgb(78%2C%20121%2C%20167)%3B%20fill-opacity%3A%201%3B%20stroke%3A%20rgb(255%2C%20255%2C%20255)%3B%20stroke-opacity%3A%201%3B%22%2F%3E%3C%2Fg%3E%3C%2Fg%3E%3C%2Fg%3E%3Crect%20class%3D%22legendtoggle%22%20pointer-events%3D%22all%22%20x%3D%220%22%20y%3D%22-9.5%22%20width%3D%2296.26250076293945%22%20height%3D%2219%22%20style%3D%22cursor%3A%20pointer%3B%20fill%3A%20rgb(0%2C%200%2C%200)%3B%20fill-opacity%3A%200%3B%22%2F%3E%3C%2Fg%3E%3C%2Fg%3E%3Cg%20class%3D%22groups%22%20transform%3D%22translate(0%2C10)%22%3E%3Cg%20class%3D%22traces%22%20style%3D%22opacity%3A%201%3B%22%20transform%3D%22translate(0%2C33.5)%22%3E%3Ctext%20class%3D%22legendtext%22%20text-anchor%3D%22start%22%20x%3D%2240%22%20y%3D%224.680000000000001%22%20data-unformatted%3D%22Extended%22%20data-math%3D%22N%22%20style%3D%22font-family%3A%20%26quot%3BOpen%20Sans%26quot%3B%2C%20verdana%2C%20arial%2C%20sans-serif%3B%20font-size%3A%2012px%3B%20fill%3A%20rgb(89%2C%2089%2C%2089)%3B%20fill-opacity%3A%201%3B%20white-space%3A%20pre%3B%22%3EExtended%3C%2Ftext%3E%3Cg%20class%3D%22layers%22%20style%3D%22opacity%3A%201%3B%22%3E%3Cg%20class%3D%22legendfill%22%2F%3E%3Cg%20class%3D%22legendlines%22%2F%3E%3Cg%20class%3D%22legendsymbols%22%3E%3Cg%20class%3D%22legendpoints%22%3E%3Cpath%20class%3D%22scatterpts%22%20transform%3D%22translate(20%2C0)%22%20d%3D%22M8%2C0A8%2C8%200%201%2C1%200%2C-8A8%2C8%200%200%2C1%208%2C0Z%22%20style%3D%22opacity%3A%200.7%3B%20stroke-width%3A%201px%3B%20fill%3A%20rgb(242%2C%20142%2C%2044)%3B%20fill-opacity%3A%201%3B%20stroke%3A%20rgb(255%2C%20255%2C%20255)%3B%20stroke-opacity%3A%201%3B%22%2F%3E%3C%2Fg%3E%3C%2Fg%3E%3C%2Fg%3E%3Crect%20class%3D%22legendtoggle%22%20pointer-events%3D%22all%22%20x%3D%220%22%20y%3D%22-9.5%22%20width%3D%2296.26250076293945%22%20height%3D%2219%22%20style%3D%22cursor%3A%20pointer%3B%20fill%3A%20rgb(0%2C%200%2C%200)%3B%20fill-opacity%3A%200%3B%22%2F%3E%3C%2Fg%3E%3C%2Fg%3E%3Cg%20class%3D%22groups%22%20transform%3D%22translate(0%2C20)%22%3E%3Cg%20class%3D%22traces%22%20style%3D%22opacity%3A%201%3B%22%20transform%3D%22translate(0%2C52.5)%22%3E%3Ctext%20class%3D%22legendtext%22%20text-anchor%3D%22start%22%20x%3D%2240%22%20y%3D%224.680000000000001%22%20data-unformatted%3D%22Premium%22%20data-math%3D%22N%22%20style%3D%22font-family%3A%20%26quot%3BOpen%20Sans%26quot%3B%2C%20verdana%2C%20arial%2C%20sans-serif%3B%20font-size%3A%2012px%3B%20fill%3A%20rgb(89%2C%2089%2C%2089)%3B%20fill-opacity%3A%201%3B%20white-space%3A%20pre%3B%22%3EPremium%3C%2Ftext%3E%3Cg%20class%3D%22layers%22%20style%3D%22opacity%3A%201%3B%22%3E%3Cg%20class%3D%22legendfill%22%2F%3E%3Cg%20class%3D%22legendlines%22%2F%3E%3Cg%20class%3D%22legendsymbols%22%3E%3Cg%20class%3D%22legendpoints%22%3E%3Cpath%20class%3D%22scatterpts%22%20transform%3D%22translate(20%2C0)%22%20d%3D%22M8%2C0A8%2C8%200%201%2C1%200%2C-8A8%2C8%200%200%2C1%208%2C0Z%22%20style%3D%22opacity%3A%200.7%3B%20stroke-width%3A%201px%3B%20fill%3A%20rgb(225%2C%2087%2C%2089)%3B%20fill-opacity%3A%201%3B%20stroke%3A%20rgb(255%2C%20255%2C%20255)%3B%20stroke-opacity%3A%201%3B%22%2F%3E%3C%2Fg%3E%3C%2Fg%3E%3C%2Fg%3E%3Crect%20class%3D%22legendtoggle%22%20pointer-events%3D%22all%22%20x%3D%220%22%20y%3D%22-9.5%22%20width%3D%2296.26250076293945%22%20height%3D%2219%22%20style%3D%22cursor%3A%20pointer%3B%20fill%3A%20rgb(0%2C%200%2C%200)%3B%20fill-opacity%3A%200%3B%22%2F%3E%3C%2Fg%3E%3C%2Fg%3E%3C%2Fg%3E%3Crect%20class%3D%22scrollbar%22%20rx%3D%2220%22%20ry%3D%223%22%20width%3D%220%22%20height%3D%220%22%20style%3D%22fill%3A%20rgb(128%2C%20139%2C%20164)%3B%20fill-opacity%3A%201%3B%22%20x%3D%220%22%20y%3D%220%22%2F%3E%3C%2Fg%3E%3Cg%20class%3D%22g-gtitle%22%2F%3E%3Cg%20class%3D%22g-xtitle%22%3E%3Ctext%20class%3D%22xtitle%22%20x%3D%22190%22%20y%3D%22324%22%20text-anchor%3D%22middle%22%20data-unformatted%3D%22Corporate%20Auto%22%20data-math%3D%22N%22%20style%3D%22font-family%3A%20%26quot%3BOpen%20Sans%26quot%3B%2C%20verdana%2C%20arial%2C%20sans-serif%3B%20font-size%3A%2014px%3B%20fill%3A%20rgb(89%2C%2089%2C%2089)%3B%20opacity%3A%201%3B%20font-weight%3A%20normal%3B%20white-space%3A%20pre%3B%22%3ECorporate%20Auto%3C%2Ftext%3E%3C%2Fg%3E%3Cg%20class%3D%22g-x2title%22%3E%3Ctext%20class%3D%22x2title%22%20x%3D%22465%22%20y%3D%22324%22%20text-anchor%3D%22middle%22%20data-unformatted%3D%22Personal%20Auto%22%20data-math%3D%22N%22%20style%3D%22font-family%3A%20%26quot%3BOpen%20Sans%26quot%3B%2C%20verdana%2C%20arial%2C%20sans-serif%3B%20font-size%3A%2014px%3B%20fill%3A%20rgb(89%2C%2089%2C%2089)%3B%20opacity%3A%201%3B%20font-weight%3A%20normal%3B%20white-space%3A%20pre%3B%22%3EPersonal%20Auto%3C%2Ftext%3E%3C%2Fg%3E%3Cg%20class%3D%22g-x3title%22%3E%3Ctext%20class%3D%22x3title%22%20x%3D%22740%22%20y%3D%22324%22%20text-anchor%3D%22middle%22%20data-unformatted%3D%22Special%20Auto%22%20data-math%3D%22N%22%20style%3D%22font-family%3A%20%26quot%3BOpen%20Sans%26quot%3B%2C%20verdana%2C%20arial%2C%20sans-serif%3B%20font-size%3A%2014px%3B%20fill%3A%20rgb(89%2C%2089%2C%2089)%3B%20opacity%3A%201%3B%20font-weight%3A%20normal%3B%20white-space%3A%20pre%3B%22%3ESpecial%20Auto%3C%2Ftext%3E%3C%2Fg%3E%3Cg%20class%3D%22g-ytitle%22%2F%3E%3C%2Fg%3E%3Cg%20class%3D%22menulayer%22%2F%3E%3Cg%20class%3D%22zoomlayer%22%2F%3E%3C%2Fsvg%3E%3Cdiv%20class%3D%22modebar-container%22%20style%3D%22position%3A%20absolute%3B%20top%3A%200px%3B%20right%3A%200px%3B%20width%3A%20100%25%3B%22%3E%3Cdiv%20id%3D%22modebar-89b206%22%20class%3D%22modebar%20modebar--hover%20ease-bg%22%3E%3Cdiv%20class%3D%22modebar-group%22%3E%3Ca%20rel%3D%22tooltip%22%20class%3D%22modebar-btn%22%20data-title%3D%22Download%20plot%20as%20a%20png%22%20data-toggle%3D%22false%22%20data-gravity%3D%22n%22%3E%3Csvg%20xmlns%3D%22http%3A%2F%2Fwww.w3.org%2F2000%2Fsvg%22%20viewBox%3D%220%200%201000%201000%22%20class%3D%22icon%22%20height%3D%221em%22%20width%3D%221em%22%3E%3Cpath%20d%3D%22m500%20450c-83%200-150-67-150-150%200-83%2067-150%20150-150%2083%200%20150%2067%20150%20150%200%2083-67%20150-150%20150z%20m400%20150h-120c-16%200-34%2013-39%2029l-31%2093c-6%2015-23%2028-40%2028h-340c-16%200-34-13-39-28l-31-94c-6-15-23-28-40-28h-120c-55%200-100-45-100-100v-450c0-55%2045-100%20100-100h800c55%200%20100%2045%20100%20100v450c0%2055-45%20100-100%20100z%20m-400-550c-138%200-250%20112-250%20250%200%20138%20112%20250%20250%20250%20138%200%20250-112%20250-250%200-138-112-250-250-250z%20m365%20380c-19%200-35%2016-35%2035%200%2019%2016%2035%2035%2035%2019%200%2035-16%2035-35%200-19-16-35-35-35z%22%20transform%3D%22matrix(1%200%200%20-1%200%20850)%22%2F%3E%3C%2Fsvg%3E%3C%2Fa%3E%3C%2Fdiv%3E%3Cdiv%20class%3D%22modebar-group%22%3E%3Ca%20rel%3D%22tooltip%22%20class%3D%22modebar-btn%20active%22%20data-title%3D%22Zoom%22%20data-attr%3D%22dragmode%22%20data-val%3D%22zoom%22%20data-toggle%3D%22false%22%20data-gravity%3D%22n%22%3E%3Csvg%20xmlns%3D%22http%3A%2F%2Fwww.w3.org%2F2000%2Fsvg%22%20viewBox%3D%220%200%201000%201000%22%20class%3D%22icon%22%20height%3D%221em%22%20width%3D%221em%22%3E%3Cpath%20d%3D%22m1000-25l-250%20251c40%2063%2063%20138%2063%20218%200%20224-182%20406-407%20406-224%200-406-182-406-406s183-406%20407-406c80%200%20155%2022%20218%2062l250-250%20125%20125z%20m-812%20250l0%20438%20437%200%200-438-437%200z%20m62%20375l313%200%200-312-313%200%200%20312z%22%20transform%3D%22matrix(1%200%200%20-1%200%20850)%22%2F%3E%3C%2Fsvg%3E%3C%2Fa%3E%3Ca%20rel%3D%22tooltip%22%20class%3D%22modebar-btn%22%20data-title%3D%22Pan%22%20data-attr%3D%22dragmode%22%20data-val%3D%22pan%22%20data-toggle%3D%22false%22%20data-gravity%3D%22n%22%3E%3Csvg%20xmlns%3D%22http%3A%2F%2Fwww.w3.org%2F2000%2Fsvg%22%20viewBox%3D%220%200%201000%201000%22%20class%3D%22icon%22%20height%3D%221em%22%20width%3D%221em%22%3E%3Cpath%20d%3D%22m1000%20350l-187%20188%200-125-250%200%200%20250%20125%200-188%20187-187-187%20125%200%200-250-250%200%200%20125-188-188%20186-187%200%20125%20252%200%200-250-125%200%20187-188%20188%20188-125%200%200%20250%20250%200%200-126%20187%20188z%22%20transform%3D%22matrix(1%200%200%20-1%200%20850)%22%2F%3E%3C%2Fsvg%3E%3C%2Fa%3E%3Ca%20rel%3D%22tooltip%22%20class%3D%22modebar-btn%22%20data-title%3D%22Box%20Select%22%20data-attr%3D%22dragmode%22%20data-val%3D%22select%22%20data-toggle%3D%22false%22%20data-gravity%3D%22n%22%3E%3Csvg%20xmlns%3D%22http%3A%2F%2Fwww.w3.org%2F2000%2Fsvg%22%20viewBox%3D%220%200%201000%201000%22%20class%3D%22icon%22%20height%3D%221em%22%20width%3D%221em%22%3E%3Cpath%20d%3D%22m0%20850l0-143%20143%200%200%20143-143%200z%20m286%200l0-143%20143%200%200%20143-143%200z%20m285%200l0-143%20143%200%200%20143-143%200z%20m286%200l0-143%20143%200%200%20143-143%200z%20m-857-286l0-143%20143%200%200%20143-143%200z%20m857%200l0-143%20143%200%200%20143-143%200z%20m-857-285l0-143%20143%200%200%20143-143%200z%20m857%200l0-143%20143%200%200%20143-143%200z%20m-857-286l0-143%20143%200%200%20143-143%200z%20m286%200l0-143%20143%200%200%20143-143%200z%20m285%200l0-143%20143%200%200%20143-143%200z%20m286%200l0-143%20143%200%200%20143-143%200z%22%20transform%3D%22matrix(1%200%200%20-1%200%20850)%22%2F%3E%3C%2Fsvg%3E%3C%2Fa%3E%3Ca%20rel%3D%22tooltip%22%20class%3D%22modebar-btn%22%20data-title%3D%22Lasso%20Select%22%20data-attr%3D%22dragmode%22%20data-val%3D%22lasso%22%20data-toggle%3D%22false%22%20data-gravity%3D%22n%22%3E%3Csvg%20xmlns%3D%22http%3A%2F%2Fwww.w3.org%2F2000%2Fsvg%22%20viewBox%3D%220%200%201031%201000%22%20class%3D%22icon%22%20height%3D%221em%22%20width%3D%221em%22%3E%3Cpath%20d%3D%22m1018%20538c-36%20207-290%20336-568%20286-277-48-473-256-436-463%2010-57%2036-108%2076-151-13-66%2011-137%2068-183%2034-28%2075-41%20114-42l-55-70%200%200c-2-1-3-2-4-3-10-14-8-34%205-45%2014-11%2034-8%2045%204%201%201%202%203%202%205l0%200%20113%20140c16%2011%2031%2024%2045%2040%204%203%206%207%208%2011%2048-3%20100%200%20151%209%20278%2048%20473%20255%20436%20462z%20m-624-379c-80%2014-149%2048-197%2096%2042%2042%20109%2047%20156%209%2033-26%2047-66%2041-105z%20m-187-74c-19%2016-33%2037-39%2060%2050-32%20109-55%20174-68-42-25-95-24-135%208z%20m360%2075c-34-7-69-9-102-8%208%2062-16%20128-68%20170-73%2059-175%2054-244-5-9%2020-16%2040-20%2061-28%20159%20121%20317%20333%20354s407-60%20434-217c28-159-121-318-333-355z%22%20transform%3D%22matrix(1%200%200%20-1%200%20850)%22%2F%3E%3C%2Fsvg%3E%3C%2Fa%3E%3C%2Fdiv%3E%3Cdiv%20class%3D%22modebar-group%22%3E%3Ca%20rel%3D%22tooltip%22%20class%3D%22modebar-btn%22%20data-title%3D%22Zoom%20in%22%20data-attr%3D%22zoom%22%20data-val%3D%22in%22%20data-toggle%3D%22false%22%20data-gravity%3D%22n%22%3E%3Csvg%20xmlns%3D%22http%3A%2F%2Fwww.w3.org%2F2000%2Fsvg%22%20viewBox%3D%220%200%20875%201000%22%20class%3D%22icon%22%20height%3D%221em%22%20width%3D%221em%22%3E%3Cpath%20d%3D%22m1%20787l0-875%20875%200%200%20875-875%200z%20m687-500l-187%200%200-187-125%200%200%20187-188%200%200%20125%20188%200%200%20187%20125%200%200-187%20187%200%200-125z%22%20transform%3D%22matrix(1%200%200%20-1%200%20850)%22%2F%3E%3C%2Fsvg%3E%3C%2Fa%3E%3Ca%20rel%3D%22tooltip%22%20class%3D%22modebar-btn%22%20data-title%3D%22Zoom%20out%22%20data-attr%3D%22zoom%22%20data-val%3D%22out%22%20data-toggle%3D%22false%22%20data-gravity%3D%22n%22%3E%3Csvg%20xmlns%3D%22http%3A%2F%2Fwww.w3.org%2F2000%2Fsvg%22%20viewBox%3D%220%200%20875%201000%22%20class%3D%22icon%22%20height%3D%221em%22%20width%3D%221em%22%3E%3Cpath%20d%3D%22m0%20788l0-876%20875%200%200%20876-875%200z%20m688-500l-500%200%200%20125%20500%200%200-125z%22%20transform%3D%22matrix(1%200%200%20-1%200%20850)%22%2F%3E%3C%2Fsvg%3E%3C%2Fa%3E%3Ca%20rel%3D%22tooltip%22%20class%3D%22modebar-btn%22%20data-title%3D%22Autoscale%22%20data-attr%3D%22zoom%22%20data-val%3D%22auto%22%20data-toggle%3D%22false%22%20data-gravity%3D%22n%22%3E%3Csvg%20xmlns%3D%22http%3A%2F%2Fwww.w3.org%2F2000%2Fsvg%22%20viewBox%3D%220%200%201000%201000%22%20class%3D%22icon%22%20height%3D%221em%22%20width%3D%221em%22%3E%3Cpath%20d%3D%22m250%20850l-187%200-63%200%200-62%200-188%2063%200%200%20188%20187%200%200%2062z%20m688%200l-188%200%200-62%20188%200%200-188%2062%200%200%20188%200%2062-62%200z%20m-875-938l0%20188-63%200%200-188%200-62%2063%200%20187%200%200%2062-187%200z%20m875%20188l0-188-188%200%200-62%20188%200%2062%200%200%2062%200%20188-62%200z%20m-125%20188l-1%200-93-94-156%20156%20156%20156%2092-93%202%200%200%20250-250%200%200-2%2093-92-156-156-156%20156%2094%2092%200%202-250%200%200-250%200%200%2093%2093%20157-156-157-156-93%2094%200%200%200-250%20250%200%200%200-94%2093%20156%20157%20156-157-93-93%200%200%20250%200%200%20250z%22%20transform%3D%22matrix(1%200%200%20-1%200%20850)%22%2F%3E%3C%2Fsvg%3E%3C%2Fa%3E%3C%2Fdiv%3E%3Cdiv%20class%3D%22modebar-group%22%3E%3C%2Fdiv%3E%3C%2Fdiv%3E%3C%2Fdiv%3E%3Csvg%20class%3D%22main-svg%22%20xmlns%3D%22http%3A%2F%2Fwww.w3.org%2F2000%2Fsvg%22%20xmlns%3Axlink%3D%22http%3A%2F%2Fwww.w3.org%2F1999%2Fxlink%22%20width%3D%22967%22%20height%3D%22352%22%3E%3Cg%20class%3D%22hoverlayer%22%2F%3E%3C%2Fsvg%3E%3C%2Fdiv%3E%3C%2Fdiv%3E%3C%2Fdiv%3E%3C%2Fdiv%3E%3C%2Fdiv%3E%3C%2Fdiv%3E%3C%2Fdiv%3E%3C%2Fdiv%3E%3C%2Fdiv%3E%3C%2Fdiv%3E%3C%2FforeignObject%3E%3C%2Fsvg%3E\">"
      ],
      "text/plain": [
       "Open the notebook in JupyterLab with the atoti extension enabled to build this widget."
      ]
     },
     "metadata": {},
     "output_type": "display_data"
    }
   ],
   "source": [
    "session.visualize(\"Revenue and sales by policy and coverage type\")"
   ]
  },
  {
   "cell_type": "code",
   "execution_count": 30,
   "id": "0cb7e66b-6548-4413-8958-6626c8d8f27e",
   "metadata": {
    "atoti": {
     "height": 261,
     "widget": {
      "mapping": {
       "goal": [
        "[Measures].[Price.SUM]"
       ],
       "horizontalSubplots": [],
       "maximum": [],
       "minimum": [],
       "value": [
        "[Measures].[revenue_realised]"
       ],
       "verticalSubplots": []
      },
      "query": {
       "mdx": "SELECT NON EMPTY {[Measures].[revenue_realised], [Measures].[Price.SUM]} ON COLUMNS FROM [predictions] CELL PROPERTIES VALUE, FORMATTED_VALUE, BACK_COLOR, FORE_COLOR, FONT_FLAGS",
       "updateMode": "once"
      },
      "serverKey": "default",
      "widgetKey": "plotly-gauge-chart"
     }
    },
    "tags": []
   },
   "outputs": [
    {
     "data": {
      "application/vnd.atoti.widget.v0+json": {
       "name": "Revenue realised gauge",
       "sessionId": "1648807936_ZMGVTD",
       "sessionLocation": {
        "https": null,
        "port": 62008
       },
       "widgetCreationCode": "session.visualize()"
      },
      "text/html": [
       "<img src=\"data:image/svg+xml;charset=utf8,%3C%3Fxml%20version%3D%221.0%22%20standalone%3D%22no%22%3F%3E%3Csvg%20xmlns%3D%22http%3A%2F%2Fwww.w3.org%2F2000%2Fsvg%22%20xmlns%3Axlink%3D%22http%3A%2F%2Fwww.w3.org%2F1999%2Fxlink%22%20height%3D%22253%22%20width%3D%22967%22%20viewBox%3D%220%200%20967%20253%22%3E%3Cdefs%20id%3D%22defs-41d275%22%3E%3Cg%20class%3D%22clips%22%2F%3E%3Cg%20class%3D%22gradients%22%2F%3E%3C%2Fdefs%3E%3Cg%20class%3D%22bglayer%22%2F%3E%3Cg%20class%3D%22draglayer%22%2F%3E%3Cg%20class%3D%22layer-below%22%3E%3Cg%20class%3D%22imagelayer%22%2F%3E%3Cg%20class%3D%22shapelayer%22%2F%3E%3C%2Fg%3E%3Cg%20class%3D%22cartesianlayer%22%2F%3E%3Cg%20class%3D%22polarlayer%22%2F%3E%3Cg%20class%3D%22ternarylayer%22%2F%3E%3Cg%20class%3D%22geolayer%22%2F%3E%3Cg%20class%3D%22funnelarealayer%22%2F%3E%3Cg%20class%3D%22pielayer%22%2F%3E%3Cg%20class%3D%22treemaplayer%22%2F%3E%3Cg%20class%3D%22sunburstlayer%22%2F%3E%3Cg%20class%3D%22glimages%22%2F%3E%3Cdefs%20id%3D%22topdefs-41d275%22%3E%3Cg%20class%3D%22clips%22%2F%3E%3C%2Fdefs%3E%3Cg%20class%3D%22indicatorlayer%22%3E%3Cg%20class%3D%22trace%22%3E%3Cg%20class%3D%22numbers%22%20transform%3D%22translate(493.50030871369546%2C164.17175454316356)scale(0.5255028765378756)%22%3E%3Ctext%20text-anchor%3D%22middle%22%20class%3D%22number%22%20data-unformatted%3D%223.92M%22%20data-math%3D%22N%22%20x%3D%220%22%20y%3D%220%22%20style%3D%22font-family%3A%20%26quot%3BOpen%20Sans%26quot%3B%2C%20verdana%2C%20arial%2C%20sans-serif%3B%20font-size%3A%2080px%3B%20fill%3A%20rgb(89%2C%2089%2C%2089)%3B%20fill-opacity%3A%201%3B%20white-space%3A%20pre%3B%22%3E3.92M%3C%2Ftext%3E%3C%2Fg%3E%3Cg%20class%3D%22angular%22%20transform%3D%22translate(493.5%2C173)%22%3E%3Cg%20class%3D%22bg-arc%22%3E%3Cpath%20d%3D%22M-123%2C-1.5063155629512445e-14A123%2C123%200%200%2C1%20123%2C0L92.25%2C0A92.25%2C92.25%200%200%2C0%20-92.25%2C-1.1297366722134333e-14Z%22%20style%3D%22stroke%3A%20rgb(68%2C%2068%2C%2068)%3B%20stroke-opacity%3A%201%3B%20fill%3A%20rgb(255%2C%20255%2C%20255)%3B%20fill-opacity%3A%201%3B%20stroke-width%3A%200%3B%22%2F%3E%3C%2Fg%3E%3Cg%20class%3D%22value-arc%22%3E%3Cpath%20d%3D%22M-115.3125%2C-1.4121708402667917e-14A115.3125%2C115.3125%200%200%2C1%2057.656250000000036%2C-99.86355437389307L49.968750000000036%2C-86.54841379070731A99.9375%2C99.9375%200%200%2C0%20-99.9375%2C-1.2238813948978861e-14Z%22%20style%3D%22stroke%3A%20rgb(68%2C%2068%2C%2068)%3B%20stroke-opacity%3A%201%3B%20fill%3A%20rgb(78%2C%20121%2C%20167)%3B%20fill-opacity%3A%201%3B%20stroke-width%3A%200%3B%22%2F%3E%3C%2Fg%3E%3Cg%20class%3D%22threshold-arc%22%3E%3Cpath%20d%3D%22M109.61597995850227%2C-50.51057539565083A120.69375%2C120.69375%200%200%2C1%20109.61597995850227%2C-50.51057539565083L85.87748748341261%2C-39.57197945009588A94.55625%2C94.55625%200%200%2C0%2085.87748748341261%2C-39.57197945009588Z%22%20style%3D%22stroke%3A%20rgb(245%2C%2034%2C%2045)%3B%20stroke-opacity%3A%201%3B%20fill%3A%20rgb(0%2C%200%2C%200)%3B%20fill-opacity%3A%201%3B%20stroke-width%3A%203%3B%22%2F%3E%3C%2Fg%3E%3Cg%20class%3D%22gauge-outline%22%3E%3Cpath%20d%3D%22M-123%2C-1.5063155629512445e-14A123%2C123%200%200%2C1%20123%2C0L92.25%2C0A92.25%2C92.25%200%200%2C0%20-92.25%2C-1.1297366722134333e-14Z%22%20style%3D%22stroke%3A%20rgb(68%2C%2068%2C%2068)%3B%20stroke-opacity%3A%201%3B%20fill%3A%20rgb(0%2C%200%2C%200)%3B%20fill-opacity%3A%200%3B%20stroke-width%3A%201%3B%22%2F%3E%3C%2Fg%3E%3C%2Fg%3E%3Cg%20class%3D%22angularaxis%20crisp%22%3E%3Cpath%20class%3D%22xangularaxistick%20ticks%20crisp%22%20d%3D%22M0.5%2C0h5%22%20transform%3D%22translate(370.5%2C172.99999999999997)rotate(-180)%22%20style%3D%22stroke%3A%20rgb(68%2C%2068%2C%2068)%3B%20stroke-opacity%3A%201%3B%20stroke-width%3A%201px%3B%22%2F%3E%3Cpath%20class%3D%22xangularaxistick%20ticks%20crisp%22%20d%3D%22M0.5%2C0h5%22%20transform%3D%22translate(387.6077892016247%2C110.42332948907837)rotate(-149.4191687845912)%22%20style%3D%22stroke%3A%20rgb(68%2C%2068%2C%2068)%3B%20stroke-opacity%3A%201%3B%20stroke-width%3A%201px%3B%22%2F%3E%3Cpath%20class%3D%22xangularaxistick%20ticks%20crisp%22%20d%3D%22M0.5%2C0h5%22%20transform%3D%22translate(434.1721901176008%2C65.25395146661808)rotate(-118.8383375691824)%22%20style%3D%22stroke%3A%20rgb(68%2C%2068%2C%2068)%3B%20stroke-opacity%3A%201%3B%20stroke-width%3A%201px%3B%22%2F%3E%3Cpath%20class%3D%22xangularaxistick%20ticks%20crisp%22%20d%3D%22M0.5%2C0h5%22%20transform%3D%22translate(497.2401303061322%2C50.05687727533048)rotate(-88.25750635377358)%22%20style%3D%22stroke%3A%20rgb(68%2C%2068%2C%2068)%3B%20stroke-opacity%3A%201%3B%20stroke-width%3A%201px%3B%22%2F%3E%3Cpath%20class%3D%22xangularaxistick%20ticks%20crisp%22%20d%3D%22M0.5%2C0h5%22%20transform%3D%22translate(559.2676581228926%2C69.05955962653266)rotate(-57.67667513836477)%22%20style%3D%22stroke%3A%20rgb(68%2C%2068%2C%2068)%3B%20stroke-opacity%3A%201%3B%20stroke-width%3A%201px%3B%22%2F%3E%3Cpath%20class%3D%22xangularaxistick%20ticks%20crisp%22%20d%3D%22M0.5%2C0h5%22%20transform%3D%22translate(603.0002390867917%2C116.97591910673188)rotate(-27.095843922956)%22%20style%3D%22stroke%3A%20rgb(68%2C%2068%2C%2068)%3B%20stroke-opacity%3A%201%3B%20stroke-width%3A%201px%3B%22%2F%3E%3Cg%20class%3D%22xangularaxistick%22%3E%3Ctext%20text-anchor%3D%22end%22%20x%3D%22-7.9%22%20y%3D%224.199999999999998%22%20data-unformatted%3D%220%22%20data-math%3D%22N%22%20transform%3D%22translate(370.5%2C172.99999999999997)%22%20style%3D%22font-family%3A%20%26quot%3BOpen%20Sans%26quot%3B%2C%20verdana%2C%20arial%2C%20sans-serif%3B%20font-size%3A%2012px%3B%20fill%3A%20rgb(89%2C%2089%2C%2089)%3B%20fill-opacity%3A%201%3B%20white-space%3A%20pre%3B%22%3E0%3C%2Ftext%3E%3C%2Fg%3E%3Cg%20class%3D%22xangularaxistick%22%3E%3Ctext%20text-anchor%3D%22end%22%20x%3D%22-6.801207035017601%22%20y%3D%22-1.6243286252789977%22%20data-unformatted%3D%221M%22%20data-math%3D%22N%22%20transform%3D%22translate(387.6077892016247%2C110.42332948907837)%22%20style%3D%22font-family%3A%20%26quot%3BOpen%20Sans%26quot%3B%2C%20verdana%2C%20arial%2C%20sans-serif%3B%20font-size%3A%2012px%3B%20fill%3A%20rgb(89%2C%2089%2C%2089)%3B%20fill-opacity%3A%201%3B%20white-space%3A%20pre%3B%22%3E1M%3C%2Ftext%3E%3C%2Fg%3E%3Cg%20class%3D%22xangularaxistick%22%3E%3Ctext%20text-anchor%3D%22end%22%20x%3D%22-3.8104853501703566%22%20y%3D%22-6.996808929981766%22%20data-unformatted%3D%222M%22%20data-math%3D%22N%22%20transform%3D%22translate(434.1721901176008%2C65.25395146661808)%22%20style%3D%22font-family%3A%20%26quot%3BOpen%20Sans%26quot%3B%2C%20verdana%2C%20arial%2C%20sans-serif%3B%20font-size%3A%2012px%3B%20fill%3A%20rgb(89%2C%2089%2C%2089)%3B%20fill-opacity%3A%201%3B%20white-space%3A%20pre%3B%22%3E2M%3C%2Ftext%3E%3C%2Fg%3E%3Cg%20class%3D%22xangularaxistick%22%3E%3Ctext%20text-anchor%3D%22middle%22%20x%3D%220.24021975136946697%22%20y%3D%22-10.167525339661308%22%20data-unformatted%3D%223M%22%20data-math%3D%22N%22%20transform%3D%22translate(497.2401303061322%2C50.05687727533048)%22%20style%3D%22font-family%3A%20%26quot%3BOpen%20Sans%26quot%3B%2C%20verdana%2C%20arial%2C%20sans-serif%3B%20font-size%3A%2012px%3B%20fill%3A%20rgb(89%2C%2089%2C%2089)%3B%20fill-opacity%3A%201%3B%20white-space%3A%20pre%3B%22%3E3M%3C%2Ftext%3E%3C%2Fg%3E%3Cg%20class%3D%22xangularaxistick%22%3E%3Ctext%20text-anchor%3D%22start%22%20x%3D%224.224101619275216%22%20y%3D%22-6.458230664476135%22%20data-unformatted%3D%224M%22%20data-math%3D%22N%22%20transform%3D%22translate(559.2676581228926%2C69.05955962653266)%22%20style%3D%22font-family%3A%20%26quot%3BOpen%20Sans%26quot%3B%2C%20verdana%2C%20arial%2C%20sans-serif%3B%20font-size%3A%2012px%3B%20fill%3A%20rgb(89%2C%2089%2C%2089)%3B%20fill-opacity%3A%201%3B%20white-space%3A%20pre%3B%22%3E4M%3C%2Ftext%3E%3C%2Fg%3E%3Cg%20class%3D%22xangularaxistick%22%3E%3Ctext%20text-anchor%3D%22start%22%20x%3D%227.032942185249224%22%20y%3D%22-0.9524148702124933%22%20data-unformatted%3D%225M%22%20data-math%3D%22N%22%20transform%3D%22translate(603.0002390867917%2C116.97591910673188)%22%20style%3D%22font-family%3A%20%26quot%3BOpen%20Sans%26quot%3B%2C%20verdana%2C%20arial%2C%20sans-serif%3B%20font-size%3A%2012px%3B%20fill%3A%20rgb(89%2C%2089%2C%2089)%3B%20fill-opacity%3A%201%3B%20white-space%3A%20pre%3B%22%3E5M%3C%2Ftext%3E%3C%2Fg%3E%3C%2Fg%3E%3Ctext%20class%3D%22title%22%20text-anchor%3D%22middle%22%20data-unformatted%3D%22%22%20data-math%3D%22N%22%20x%3D%220%22%20y%3D%220%22%20style%3D%22font-family%3A%20%26quot%3BOpen%20Sans%26quot%3B%2C%20verdana%2C%20arial%2C%20sans-serif%3B%20font-size%3A%2020px%3B%20fill%3A%20rgb(89%2C%2089%2C%2089)%3B%20fill-opacity%3A%201%3B%20white-space%3A%20pre%3B%22%20transform%3D%22translate(493.5%2C22.888671875)%22%3E%3C%2Ftext%3E%3C%2Fg%3E%3C%2Fg%3E%3Cg%20class%3D%22layer-above%22%3E%3Cg%20class%3D%22imagelayer%22%2F%3E%3Cg%20class%3D%22shapelayer%22%2F%3E%3C%2Fg%3E%3Cg%20class%3D%22infolayer%22%3E%3Cg%20class%3D%22g-gtitle%22%2F%3E%3C%2Fg%3E%3Cg%20class%3D%22menulayer%22%2F%3E%3Cg%20class%3D%22zoomlayer%22%2F%3E%3Cg%20class%3D%22hoverlayer%22%2F%3E%3C%2Fsvg%3E\">"
      ],
      "text/plain": [
       "Open the notebook in JupyterLab with the atoti extension enabled to build this widget."
      ]
     },
     "metadata": {},
     "output_type": "display_data"
    }
   ],
   "source": [
    "session.visualize(\"Revenue realised gauge\")"
   ]
  },
  {
   "cell_type": "code",
   "execution_count": 31,
   "id": "99cd63e1-8531-49fe-92ed-d46f6a412619",
   "metadata": {},
   "outputs": [],
   "source": [
    "# Let us compile all of this information in a dashboard"
   ]
  },
  {
   "cell_type": "code",
   "execution_count": 32,
   "id": "487efa1b-b29e-4121-8fde-ddc085dfb85b",
   "metadata": {},
   "outputs": [
    {
     "data": {
      "application/vnd.atoti.link.v0+json": {
       "path": "#/dashboard/39f",
       "sessionLocation": {
        "https": null,
        "port": 62008
       }
      },
      "text/plain": [
       "Open the notebook in JupyterLab with the atoti extension enabled to see this link."
      ]
     },
     "execution_count": 32,
     "metadata": {},
     "output_type": "execute_result"
    }
   ],
   "source": [
    "session.link(path=\"#/dashboard/39f\")"
   ]
  },
  {
   "cell_type": "markdown",
   "id": "5c1bb164-7061-4f15-a44a-7628576aa90b",
   "metadata": {},
   "source": [
    "# Part 3: Price Elasticity with atoti \n",
    "\n",
    "We will use atoti to do simulations and hence understand the price elasticity across different customer segments."
   ]
  },
  {
   "cell_type": "markdown",
   "id": "5eb6855e-9a65-4249-90b0-58006fbba8c6",
   "metadata": {},
   "source": [
    "## Scenario 1: The pareto principle\n",
    "\n",
    "Increase the price by 20% for all the policies for which sales probability is more than 80%\n",
    "Drop the price by 20% for policies that have a probability to be bought less than 20%\n",
    "\n",
    "This will affect the most price-sensitive customers from the customers who have not bought the policy.  \n",
    "On the other hand, this will help identify the most price-insensitive customers from the customers who have actually bought the policy."
   ]
  },
  {
   "cell_type": "code",
   "execution_count": 33,
   "id": "1af06871-9629-46f6-9204-41d84036cba3",
   "metadata": {},
   "outputs": [],
   "source": [
    "# updating the pricing based on above pareto simulation\n",
    "\n",
    "prediction_df_pareto = prediction_df.copy()\n",
    "\n",
    "prediction_df_pareto.loc[\n",
    "    (prediction_df_pareto.sales_prediction_probability > 0.8), \"Price\"\n",
    "] = prediction_df_pareto[\"Price\"].apply(lambda x: x * 1.2)\n",
    "\n",
    "prediction_df_pareto.loc[\n",
    "    (prediction_df_pareto.sales_prediction_probability < 0.2), \"Price\"\n",
    "] = prediction_df_pareto[\"Price\"].apply(lambda x: x * 0.8)"
   ]
  },
  {
   "cell_type": "markdown",
   "id": "e5f256e4-533c-4b78-a611-a7653376ff48",
   "metadata": {},
   "source": [
    "### Using the model to make predictions on the scenario"
   ]
  },
  {
   "cell_type": "code",
   "execution_count": 34,
   "id": "1c28b9b4-0295-4a93-99ac-d4cc53f8658f",
   "metadata": {},
   "outputs": [
    {
     "name": "stderr",
     "output_type": "stream",
     "text": [
      "C:\\Users\\Yeo Hui Fang\\AppData\\Local\\pypoetry\\Cache\\virtualenvs\\notebooks-bWtx623B-py3.9\\lib\\site-packages\\xgboost\\data.py:262: FutureWarning: pandas.Int64Index is deprecated and will be removed from pandas in a future version. Use pandas.Index with the appropriate dtype instead.\n",
      "  elif isinstance(data.columns, (pd.Int64Index, pd.RangeIndex)):\n"
     ]
    }
   ],
   "source": [
    "X_test_pareto = X_test.copy()\n",
    "\n",
    "X_test_pareto[\"Price\"] = prediction_df_pareto[\"Price\"]\n",
    "\n",
    "test_result_pareto = xgbc.predict(X_test_pareto)\n",
    "\n",
    "prediction_df_pareto[\"Sales_prediction\"] = test_result_pareto.tolist()"
   ]
  },
  {
   "cell_type": "markdown",
   "id": "2c123cb9-14e8-4be2-84b3-6680ed75ede2",
   "metadata": {},
   "source": [
    "### Creating a scenario in atoti using the model predictions"
   ]
  },
  {
   "cell_type": "code",
   "execution_count": 35,
   "id": "6a586c24-cadd-4ce9-bfe3-d7e7528785cc",
   "metadata": {},
   "outputs": [],
   "source": [
    "predictions.scenarios[\"Pareto price change\"].load_pandas(prediction_df_pareto)"
   ]
  },
  {
   "cell_type": "markdown",
   "id": "cb0407a5-f6a9-458e-be6f-9bb23b62412f",
   "metadata": {},
   "source": [
    "## Scenario 2: Boost Personal Auto and basic coverage\n",
    "So of all the policy types, personal auto and basic coverage are the weakest sections.  \n",
    "Let us see what happens if we try to boost the personal auto lines by increasing the policy price by 25%? and the basic coverage by 15%.  "
   ]
  },
  {
   "cell_type": "code",
   "execution_count": 36,
   "id": "9f89d4ee-68e4-45b2-bd36-4f0d1ce86c9f",
   "metadata": {},
   "outputs": [],
   "source": [
    "# updating the pricingi\n",
    "prediction_df_personal_auto = prediction_df.copy()\n",
    "\n",
    "prediction_df_personal_auto.loc[\n",
    "    (prediction_df_personal_auto.Policy_Type == \"Personal Auto\"), \"Price\"\n",
    "] = prediction_df_personal_auto[\"Price\"].apply(lambda x: x * 1.25)\n",
    "\n",
    "prediction_df_personal_auto.loc[\n",
    "    (prediction_df_personal_auto.Coverage_Type == \"Basic\"), \"Price\"\n",
    "] = prediction_df_personal_auto[\"Price\"].apply(lambda x: x * 1.15)"
   ]
  },
  {
   "cell_type": "markdown",
   "id": "97bfcebd-8fcf-4e32-9bb4-7b19d6bc457a",
   "metadata": {},
   "source": [
    "### Using the model to make predictions on the scenario"
   ]
  },
  {
   "cell_type": "code",
   "execution_count": 37,
   "id": "11767b08-21b2-4db6-8335-0414ae1ba567",
   "metadata": {},
   "outputs": [],
   "source": [
    "X_test_personal_auto = X_test.copy()\n",
    "X_test_personal_auto[\"Price\"] = prediction_df_personal_auto[\"Price\"]\n",
    "\n",
    "test_result_personal_auto = xgbc.predict(X_test_personal_auto)\n",
    "prediction_df_personal_auto[\"Sales_prediction\"] = test_result_personal_auto.tolist()"
   ]
  },
  {
   "cell_type": "markdown",
   "id": "a61836f1-ac06-4994-9d69-f7071c063257",
   "metadata": {},
   "source": [
    "### Creating a scenario in atoti using the model predictions"
   ]
  },
  {
   "cell_type": "code",
   "execution_count": 38,
   "id": "4458ddb8-263e-4c03-adb5-c249ecabf3cb",
   "metadata": {},
   "outputs": [],
   "source": [
    "predictions.scenarios[\"Personal Auto Boost\"].load_pandas(prediction_df_personal_auto)"
   ]
  },
  {
   "cell_type": "markdown",
   "id": "82e8b041-d684-48db-b42d-87ee2103a980",
   "metadata": {},
   "source": [
    "### Scenario 3: Geographic Improvements\n",
    "In the states of Oregon and Washington, suburban areas are not performing well.  \n",
    "So we can try and drop the prices by 10% for customers in rural areas of Oregon and drop by 15% in urban areas of Washington to see how price-sensitive the customers in the respective segment are. "
   ]
  },
  {
   "cell_type": "code",
   "execution_count": 39,
   "id": "b96e9e91-1e13-44fa-8b59-7ab5b61acb28",
   "metadata": {},
   "outputs": [],
   "source": [
    "# updating the pricing based on above Scenario simulation\n",
    "\n",
    "prediction_df_geo_improvement = prediction_df.copy()\n",
    "\n",
    "prediction_df_geo_improvement.loc[\n",
    "    (prediction_df_geo_improvement.State == \"Oregon\"), \"Price\"\n",
    "] = prediction_df_geo_improvement[\"Price\"].apply(lambda x: x * 0.9)\n",
    "\n",
    "prediction_df_geo_improvement.loc[\n",
    "    (prediction_df_geo_improvement.State == \"Washington\"), \"Price\"\n",
    "] = prediction_df_geo_improvement[\"Price\"].apply(lambda x: x * 0.85)"
   ]
  },
  {
   "cell_type": "markdown",
   "id": "242386a7-c1cb-4d91-9fc2-a3fbc40b0bca",
   "metadata": {},
   "source": [
    "### Using the model to make predictions on the scenario"
   ]
  },
  {
   "cell_type": "code",
   "execution_count": 40,
   "id": "7ac6fef5-04b5-4eb2-b8a0-84b09a0b55a9",
   "metadata": {},
   "outputs": [],
   "source": [
    "X_test_geo_improvement = X_test.copy()\n",
    "\n",
    "X_test_geo_improvement[\"Price\"] = prediction_df_geo_improvement[\"Price\"]\n",
    "\n",
    "test_result_geo_improvement = xgbc.predict(X_test_geo_improvement)\n",
    "prediction_df_geo_improvement[\"Sales_prediction\"] = test_result_geo_improvement.tolist()"
   ]
  },
  {
   "cell_type": "markdown",
   "id": "2b283f94-a62c-49db-9af3-724f2f4b79f2",
   "metadata": {},
   "source": [
    "### Creating a scenario in atoti using the model predictions"
   ]
  },
  {
   "cell_type": "code",
   "execution_count": 41,
   "id": "90a9b49d-76d7-4531-a304-d0c6a24d3926",
   "metadata": {},
   "outputs": [],
   "source": [
    "predictions.scenarios[\"Geographical Improvements\"].load_pandas(\n",
    "    prediction_df_geo_improvement\n",
    ")"
   ]
  },
  {
   "cell_type": "markdown",
   "id": "04e9b59e-ff56-424f-a7aa-f2344874aa5b",
   "metadata": {},
   "source": [
    "## Visualising Scenarios in atoti\n",
    "\n",
    "In atoti, the data model is made of measures chained together. A simulation can be seen as changing one part of the model, either its source data or one of its measure definitions, and then evaluating how it impacts the following measures.  \n",
    "\n",
    "The session now has different scenarios and the only differences between them are the lines corresponding to the price and prediction probability, **everything else is shared between the scenarios and has not been duplicated: source scenarios in atoti are memory-efficient.**"
   ]
  },
  {
   "cell_type": "code",
   "execution_count": 42,
   "id": "4c5ba02f-deb8-4396-b27f-3f809aa6aba1",
   "metadata": {
    "atoti": {
     "height": 465,
     "widget": {
      "filters": [
       "{[Epoch].[Epoch].[Base], [Epoch].[Epoch].[Geographical Improvements], [Epoch].[Epoch].[Personal Auto Boost]}"
      ],
      "mapping": {
       "horizontalSubplots": [
        "[Epoch].[Epoch].[Branch]"
       ],
       "splitBy": [
        "ALL_MEASURES",
        "[predictions].[Sales_Channel].[Sales_Channel]"
       ],
       "values": [
        "[Measures].[sale_propotion]"
       ],
       "verticalSubplots": [],
       "xAxis": [
        "[predictions].[Coverage_Type].[Coverage_Type]"
       ]
      },
      "query": {
       "mdx": "SELECT NON EMPTY Crossjoin({[Measures].[sale_propotion]}, Hierarchize(Descendants({[predictions].[Sales_Channel].[AllMember]}, 1, SELF_AND_BEFORE)), [Epoch].[Epoch].[Branch].Members) ON COLUMNS, NON EMPTY Hierarchize(Descendants({[predictions].[Coverage_Type].[AllMember]}, 1, SELF_AND_BEFORE)) ON ROWS FROM [predictions] CELL PROPERTIES VALUE, FORMATTED_VALUE, BACK_COLOR, FORE_COLOR, FONT_FLAGS",
       "updateMode": "once"
      },
      "serverKey": "default",
      "widgetKey": "plotly-clustered-column-chart"
     }
    },
    "tags": []
   },
   "outputs": [
    {
     "data": {
      "application/vnd.atoti.widget.v0+json": {
       "name": "Scenarios: Sales propotion by channel and coverage type",
       "sessionId": "1648807936_ZMGVTD",
       "sessionLocation": {
        "https": null,
        "port": 62008
       },
       "widgetCreationCode": "session.visualize()"
      },
      "text/html": [
       "<img src=\"data:image/svg+xml;charset=utf8,%3C%3Fxml%20version%3D%221.0%22%20standalone%3D%22no%22%3F%3E%3Csvg%20xmlns%3D%22http%3A%2F%2Fwww.w3.org%2F2000%2Fsvg%22%20xmlns%3Axlink%3D%22http%3A%2F%2Fwww.w3.org%2F1999%2Fxlink%22%20height%3D%22457%22%20width%3D%22967%22%20viewBox%3D%220%200%20967%20457%22%3E%3Cdefs%20id%3D%22defs-90d0e8%22%3E%3Cg%20class%3D%22clips%22%3E%3CclipPath%20id%3D%22clip90d0e8xyplot%22%20class%3D%22plotclip%22%3E%3Crect%20width%3D%22217.14285714285717%22%20height%3D%22347%22%2F%3E%3C%2FclipPath%3E%3CclipPath%20id%3D%22clip90d0e8x2yplot%22%20class%3D%22plotclip%22%3E%3Crect%20width%3D%22217.14285714285717%22%20height%3D%22347%22%2F%3E%3C%2FclipPath%3E%3CclipPath%20id%3D%22clip90d0e8x3yplot%22%20class%3D%22plotclip%22%3E%3Crect%20width%3D%22217.14285714285714%22%20height%3D%22347%22%2F%3E%3C%2FclipPath%3E%3CclipPath%20class%3D%22axesclip%22%20id%3D%22clip90d0e8x%22%3E%3Crect%20x%3D%2280%22%20y%3D%220%22%20width%3D%22217.14285714285717%22%20height%3D%22457%22%2F%3E%3C%2FclipPath%3E%3CclipPath%20class%3D%22axesclip%22%20id%3D%22clip90d0e8y%22%3E%3Crect%20x%3D%220%22%20y%3D%2230%22%20width%3D%22967%22%20height%3D%22347%22%2F%3E%3C%2FclipPath%3E%3CclipPath%20class%3D%22axesclip%22%20id%3D%22clip90d0e8xy%22%3E%3Crect%20x%3D%2280%22%20y%3D%2230%22%20width%3D%22217.14285714285717%22%20height%3D%22347%22%2F%3E%3C%2FclipPath%3E%3CclipPath%20class%3D%22axesclip%22%20id%3D%22clip90d0e8x2%22%3E%3Crect%20x%3D%22351.42857142857144%22%20y%3D%220%22%20width%3D%22217.14285714285717%22%20height%3D%22457%22%2F%3E%3C%2FclipPath%3E%3CclipPath%20class%3D%22axesclip%22%20id%3D%22clip90d0e8x2y%22%3E%3Crect%20x%3D%22351.42857142857144%22%20y%3D%2230%22%20width%3D%22217.14285714285717%22%20height%3D%22347%22%2F%3E%3C%2FclipPath%3E%3CclipPath%20class%3D%22axesclip%22%20id%3D%22clip90d0e8x3%22%3E%3Crect%20x%3D%22622.8571428571429%22%20y%3D%220%22%20width%3D%22217.14285714285714%22%20height%3D%22457%22%2F%3E%3C%2FclipPath%3E%3CclipPath%20class%3D%22axesclip%22%20id%3D%22clip90d0e8x3y%22%3E%3Crect%20x%3D%22622.8571428571429%22%20y%3D%2230%22%20width%3D%22217.14285714285714%22%20height%3D%22347%22%2F%3E%3C%2FclipPath%3E%3C%2Fg%3E%3Cg%20class%3D%22gradients%22%2F%3E%3C%2Fdefs%3E%3Cg%20class%3D%22bglayer%22%2F%3E%3Cg%20class%3D%22draglayer%20cursor-crosshair%22%3E%3Cg%20class%3D%22xy%22%3E%3Crect%20class%3D%22nsewdrag%20drag%22%20data-subplot%3D%22xy%22%20x%3D%2280%22%20y%3D%2230%22%20width%3D%22217.14285714285717%22%20height%3D%22347%22%20style%3D%22fill%3A%20transparent%3B%20stroke-width%3A%200%3B%20pointer-events%3A%20all%3B%22%2F%3E%3Crect%20class%3D%22nwdrag%20drag%20cursor-nw-resize%22%20data-subplot%3D%22xy%22%20x%3D%2260%22%20y%3D%2210%22%20width%3D%2220%22%20height%3D%2220%22%20style%3D%22fill%3A%20transparent%3B%20stroke-width%3A%200%3B%20pointer-events%3A%20all%3B%22%2F%3E%3Crect%20class%3D%22nedrag%20drag%20cursor-ne-resize%22%20data-subplot%3D%22xy%22%20x%3D%22297.14285714285717%22%20y%3D%2210%22%20width%3D%2220%22%20height%3D%2220%22%20style%3D%22fill%3A%20transparent%3B%20stroke-width%3A%200%3B%20pointer-events%3A%20all%3B%22%2F%3E%3Crect%20class%3D%22swdrag%20drag%20cursor-sw-resize%22%20data-subplot%3D%22xy%22%20x%3D%2260%22%20y%3D%22377%22%20width%3D%2220%22%20height%3D%2220%22%20style%3D%22fill%3A%20transparent%3B%20stroke-width%3A%200%3B%20pointer-events%3A%20all%3B%22%2F%3E%3Crect%20class%3D%22sedrag%20drag%20cursor-se-resize%22%20data-subplot%3D%22xy%22%20x%3D%22297.14285714285717%22%20y%3D%22377%22%20width%3D%2220%22%20height%3D%2220%22%20style%3D%22fill%3A%20transparent%3B%20stroke-width%3A%200%3B%20pointer-events%3A%20all%3B%22%2F%3E%3Crect%20class%3D%22ewdrag%20drag%20cursor-ew-resize%22%20data-subplot%3D%22xy%22%20x%3D%22101.71428571428572%22%20y%3D%22377.5%22%20width%3D%22173.71428571428575%22%20height%3D%2220%22%20style%3D%22fill%3A%20transparent%3B%20stroke-width%3A%200%3B%20pointer-events%3A%20all%3B%22%2F%3E%3Crect%20class%3D%22wdrag%20drag%20cursor-w-resize%22%20data-subplot%3D%22xy%22%20x%3D%2280%22%20y%3D%22377.5%22%20width%3D%2221.71428571428572%22%20height%3D%2220%22%20style%3D%22fill%3A%20transparent%3B%20stroke-width%3A%200%3B%20pointer-events%3A%20all%3B%22%2F%3E%3Crect%20class%3D%22edrag%20drag%20cursor-e-resize%22%20data-subplot%3D%22xy%22%20x%3D%22275.42857142857144%22%20y%3D%22377.5%22%20width%3D%2221.71428571428572%22%20height%3D%2220%22%20style%3D%22fill%3A%20transparent%3B%20stroke-width%3A%200%3B%20pointer-events%3A%20all%3B%22%2F%3E%3Crect%20class%3D%22nsdrag%20drag%20cursor-ns-resize%22%20data-subplot%3D%22xy%22%20x%3D%2259.5%22%20y%3D%2264.7%22%20width%3D%2220%22%20height%3D%22277.6%22%20style%3D%22fill%3A%20transparent%3B%20stroke-width%3A%200%3B%20pointer-events%3A%20all%3B%22%2F%3E%3Crect%20class%3D%22sdrag%20drag%20cursor-s-resize%22%20data-subplot%3D%22xy%22%20x%3D%2259.5%22%20y%3D%22342.3%22%20width%3D%2220%22%20height%3D%2234.7%22%20style%3D%22fill%3A%20transparent%3B%20stroke-width%3A%200%3B%20pointer-events%3A%20all%3B%22%2F%3E%3Crect%20class%3D%22ndrag%20drag%20cursor-n-resize%22%20data-subplot%3D%22xy%22%20x%3D%2259.5%22%20y%3D%2230%22%20width%3D%2220%22%20height%3D%2234.7%22%20style%3D%22fill%3A%20transparent%3B%20stroke-width%3A%200%3B%20pointer-events%3A%20all%3B%22%2F%3E%3C%2Fg%3E%3Cg%20class%3D%22x2y%22%3E%3Crect%20class%3D%22nsewdrag%20drag%22%20data-subplot%3D%22x2y%22%20x%3D%22351.42857142857144%22%20y%3D%2230%22%20width%3D%22217.14285714285717%22%20height%3D%22347%22%20style%3D%22fill%3A%20transparent%3B%20stroke-width%3A%200%3B%20pointer-events%3A%20all%3B%22%2F%3E%3Crect%20class%3D%22nwdrag%20drag%20cursor-nw-resize%22%20data-subplot%3D%22x2y%22%20x%3D%22331.42857142857144%22%20y%3D%2210%22%20width%3D%2220%22%20height%3D%2220%22%20style%3D%22fill%3A%20transparent%3B%20stroke-width%3A%200%3B%20pointer-events%3A%20all%3B%22%2F%3E%3Crect%20class%3D%22nedrag%20drag%20cursor-ne-resize%22%20data-subplot%3D%22x2y%22%20x%3D%22568.5714285714287%22%20y%3D%2210%22%20width%3D%2220%22%20height%3D%2220%22%20style%3D%22fill%3A%20transparent%3B%20stroke-width%3A%200%3B%20pointer-events%3A%20all%3B%22%2F%3E%3Crect%20class%3D%22swdrag%20drag%20cursor-sw-resize%22%20data-subplot%3D%22x2y%22%20x%3D%22331.42857142857144%22%20y%3D%22377%22%20width%3D%2220%22%20height%3D%2220%22%20style%3D%22fill%3A%20transparent%3B%20stroke-width%3A%200%3B%20pointer-events%3A%20all%3B%22%2F%3E%3Crect%20class%3D%22sedrag%20drag%20cursor-se-resize%22%20data-subplot%3D%22x2y%22%20x%3D%22568.5714285714287%22%20y%3D%22377%22%20width%3D%2220%22%20height%3D%2220%22%20style%3D%22fill%3A%20transparent%3B%20stroke-width%3A%200%3B%20pointer-events%3A%20all%3B%22%2F%3E%3Crect%20class%3D%22ewdrag%20drag%20cursor-ew-resize%22%20data-subplot%3D%22x2y%22%20x%3D%22373.14285714285717%22%20y%3D%22377.5%22%20width%3D%22173.71428571428575%22%20height%3D%2220%22%20style%3D%22fill%3A%20transparent%3B%20stroke-width%3A%200%3B%20pointer-events%3A%20all%3B%22%2F%3E%3Crect%20class%3D%22wdrag%20drag%20cursor-w-resize%22%20data-subplot%3D%22x2y%22%20x%3D%22351.42857142857144%22%20y%3D%22377.5%22%20width%3D%2221.71428571428572%22%20height%3D%2220%22%20style%3D%22fill%3A%20transparent%3B%20stroke-width%3A%200%3B%20pointer-events%3A%20all%3B%22%2F%3E%3Crect%20class%3D%22edrag%20drag%20cursor-e-resize%22%20data-subplot%3D%22x2y%22%20x%3D%22546.8571428571429%22%20y%3D%22377.5%22%20width%3D%2221.71428571428572%22%20height%3D%2220%22%20style%3D%22fill%3A%20transparent%3B%20stroke-width%3A%200%3B%20pointer-events%3A%20all%3B%22%2F%3E%3C%2Fg%3E%3Cg%20class%3D%22x3y%22%3E%3Crect%20class%3D%22nsewdrag%20drag%22%20data-subplot%3D%22x3y%22%20x%3D%22622.8571428571429%22%20y%3D%2230%22%20width%3D%22217.14285714285714%22%20height%3D%22347%22%20style%3D%22fill%3A%20transparent%3B%20stroke-width%3A%200%3B%20pointer-events%3A%20all%3B%22%2F%3E%3Crect%20class%3D%22nwdrag%20drag%20cursor-nw-resize%22%20data-subplot%3D%22x3y%22%20x%3D%22602.8571428571429%22%20y%3D%2210%22%20width%3D%2220%22%20height%3D%2220%22%20style%3D%22fill%3A%20transparent%3B%20stroke-width%3A%200%3B%20pointer-events%3A%20all%3B%22%2F%3E%3Crect%20class%3D%22nedrag%20drag%20cursor-ne-resize%22%20data-subplot%3D%22x3y%22%20x%3D%22840%22%20y%3D%2210%22%20width%3D%2220%22%20height%3D%2220%22%20style%3D%22fill%3A%20transparent%3B%20stroke-width%3A%200%3B%20pointer-events%3A%20all%3B%22%2F%3E%3Crect%20class%3D%22swdrag%20drag%20cursor-sw-resize%22%20data-subplot%3D%22x3y%22%20x%3D%22602.8571428571429%22%20y%3D%22377%22%20width%3D%2220%22%20height%3D%2220%22%20style%3D%22fill%3A%20transparent%3B%20stroke-width%3A%200%3B%20pointer-events%3A%20all%3B%22%2F%3E%3Crect%20class%3D%22sedrag%20drag%20cursor-se-resize%22%20data-subplot%3D%22x3y%22%20x%3D%22840%22%20y%3D%22377%22%20width%3D%2220%22%20height%3D%2220%22%20style%3D%22fill%3A%20transparent%3B%20stroke-width%3A%200%3B%20pointer-events%3A%20all%3B%22%2F%3E%3Crect%20class%3D%22ewdrag%20drag%20cursor-ew-resize%22%20data-subplot%3D%22x3y%22%20x%3D%22644.5714285714286%22%20y%3D%22377.5%22%20width%3D%22173.71428571428572%22%20height%3D%2220%22%20style%3D%22fill%3A%20transparent%3B%20stroke-width%3A%200%3B%20pointer-events%3A%20all%3B%22%2F%3E%3Crect%20class%3D%22wdrag%20drag%20cursor-w-resize%22%20data-subplot%3D%22x3y%22%20x%3D%22622.8571428571429%22%20y%3D%22377.5%22%20width%3D%2221.714285714285715%22%20height%3D%2220%22%20style%3D%22fill%3A%20transparent%3B%20stroke-width%3A%200%3B%20pointer-events%3A%20all%3B%22%2F%3E%3Crect%20class%3D%22edrag%20drag%20cursor-e-resize%22%20data-subplot%3D%22x3y%22%20x%3D%22818.2857142857143%22%20y%3D%22377.5%22%20width%3D%2221.714285714285715%22%20height%3D%2220%22%20style%3D%22fill%3A%20transparent%3B%20stroke-width%3A%200%3B%20pointer-events%3A%20all%3B%22%2F%3E%3C%2Fg%3E%3C%2Fg%3E%3Cg%20class%3D%22layer-below%22%3E%3Cg%20class%3D%22imagelayer%22%2F%3E%3Cg%20class%3D%22shapelayer%22%2F%3E%3C%2Fg%3E%3Cg%20class%3D%22cartesianlayer%22%3E%3Cg%20class%3D%22subplot%20xy%22%3E%3Cg%20class%3D%22layer-subplot%22%3E%3Cg%20class%3D%22shapelayer%22%2F%3E%3Cg%20class%3D%22imagelayer%22%2F%3E%3C%2Fg%3E%3Cg%20class%3D%22gridlayer%22%3E%3Cg%20class%3D%22x%22%3E%3Cpath%20class%3D%22xgrid%20crisp%22%20transform%3D%22translate(116.19%2C0)%22%20d%3D%22M0%2C30v347%22%20style%3D%22stroke%3A%20rgb(0%2C%200%2C%200)%3B%20stroke-opacity%3A%200%3B%20stroke-width%3A%201px%3B%22%2F%3E%3Cpath%20class%3D%22xgrid%20crisp%22%20transform%3D%22translate(188.57%2C0)%22%20d%3D%22M0%2C30v347%22%20style%3D%22stroke%3A%20rgb(0%2C%200%2C%200)%3B%20stroke-opacity%3A%200%3B%20stroke-width%3A%201px%3B%22%2F%3E%3Cpath%20class%3D%22xgrid%20crisp%22%20transform%3D%22translate(260.95%2C0)%22%20d%3D%22M0%2C30v347%22%20style%3D%22stroke%3A%20rgb(0%2C%200%2C%200)%3B%20stroke-opacity%3A%200%3B%20stroke-width%3A%201px%3B%22%2F%3E%3C%2Fg%3E%3Cg%20class%3D%22y%22%3E%3Cpath%20class%3D%22ygrid%20crisp%22%20transform%3D%22translate(0%2C339.5)%22%20d%3D%22M80%2C0h217.14285714285717%22%20style%3D%22stroke%3A%20rgb(89%2C%2089%2C%2089)%3B%20stroke-opacity%3A%200.25%3B%20stroke-width%3A%201px%3B%22%2F%3E%3Cpath%20class%3D%22ygrid%20crisp%22%20transform%3D%22translate(0%2C302.01)%22%20d%3D%22M80%2C0h217.14285714285717%22%20style%3D%22stroke%3A%20rgb(89%2C%2089%2C%2089)%3B%20stroke-opacity%3A%200.25%3B%20stroke-width%3A%201px%3B%22%2F%3E%3Cpath%20class%3D%22ygrid%20crisp%22%20transform%3D%22translate(0%2C264.51)%22%20d%3D%22M80%2C0h217.14285714285717%22%20style%3D%22stroke%3A%20rgb(89%2C%2089%2C%2089)%3B%20stroke-opacity%3A%200.25%3B%20stroke-width%3A%201px%3B%22%2F%3E%3Cpath%20class%3D%22ygrid%20crisp%22%20transform%3D%22translate(0%2C227.02)%22%20d%3D%22M80%2C0h217.14285714285717%22%20style%3D%22stroke%3A%20rgb(89%2C%2089%2C%2089)%3B%20stroke-opacity%3A%200.25%3B%20stroke-width%3A%201px%3B%22%2F%3E%3Cpath%20class%3D%22ygrid%20crisp%22%20transform%3D%22translate(0%2C189.52)%22%20d%3D%22M80%2C0h217.14285714285717%22%20style%3D%22stroke%3A%20rgb(89%2C%2089%2C%2089)%3B%20stroke-opacity%3A%200.25%3B%20stroke-width%3A%201px%3B%22%2F%3E%3Cpath%20class%3D%22ygrid%20crisp%22%20transform%3D%22translate(0%2C152.03)%22%20d%3D%22M80%2C0h217.14285714285717%22%20style%3D%22stroke%3A%20rgb(89%2C%2089%2C%2089)%3B%20stroke-opacity%3A%200.25%3B%20stroke-width%3A%201px%3B%22%2F%3E%3Cpath%20class%3D%22ygrid%20crisp%22%20transform%3D%22translate(0%2C114.53)%22%20d%3D%22M80%2C0h217.14285714285717%22%20style%3D%22stroke%3A%20rgb(89%2C%2089%2C%2089)%3B%20stroke-opacity%3A%200.25%3B%20stroke-width%3A%201px%3B%22%2F%3E%3Cpath%20class%3D%22ygrid%20crisp%22%20transform%3D%22translate(0%2C77.03999999999999)%22%20d%3D%22M80%2C0h217.14285714285717%22%20style%3D%22stroke%3A%20rgb(89%2C%2089%2C%2089)%3B%20stroke-opacity%3A%200.25%3B%20stroke-width%3A%201px%3B%22%2F%3E%3Cpath%20class%3D%22ygrid%20crisp%22%20transform%3D%22translate(0%2C39.54)%22%20d%3D%22M80%2C0h217.14285714285717%22%20style%3D%22stroke%3A%20rgb(89%2C%2089%2C%2089)%3B%20stroke-opacity%3A%200.25%3B%20stroke-width%3A%201px%3B%22%2F%3E%3C%2Fg%3E%3C%2Fg%3E%3Cg%20class%3D%22zerolinelayer%22%3E%3Cpath%20class%3D%22yzl%20zl%20crisp%22%20transform%3D%22translate(0%2C377)%22%20d%3D%22M80%2C0h217.14285714285717%22%20style%3D%22stroke%3A%20rgb(89%2C%2089%2C%2089)%3B%20stroke-opacity%3A%200.5%3B%20stroke-width%3A%201px%3B%22%2F%3E%3C%2Fg%3E%3Cpath%20class%3D%22xlines-below%22%2F%3E%3Cpath%20class%3D%22ylines-below%22%2F%3E%3Cg%20class%3D%22overlines-below%22%2F%3E%3Cg%20class%3D%22xaxislayer-below%22%2F%3E%3Cg%20class%3D%22yaxislayer-below%22%2F%3E%3Cg%20class%3D%22overaxes-below%22%2F%3E%3Cg%20class%3D%22plot%22%20transform%3D%22translate(80%2C30)%22%20clip-path%3D%22url('%23clip90d0e8xyplot')%22%3E%3Cg%20class%3D%22barlayer%20mlayer%22%3E%3Cg%20class%3D%22trace%20bars%22%20style%3D%22opacity%3A%201%3B%22%3E%3Cg%20class%3D%22points%22%3E%3Cg%20class%3D%22point%22%3E%3Cpath%20d%3D%22M7.24%2C347V151.81H21.71V347Z%22%20style%3D%22vector-effect%3A%20non-scaling-stroke%3B%20opacity%3A%201%3B%20stroke-width%3A%200px%3B%20fill%3A%20rgb(78%2C%20121%2C%20167)%3B%20fill-opacity%3A%201%3B%22%2F%3E%3C%2Fg%3E%3Cg%20class%3D%22point%22%3E%3Cpath%20d%3D%22M79.62%2C347V98.67H94.1V347Z%22%20style%3D%22vector-effect%3A%20non-scaling-stroke%3B%20opacity%3A%201%3B%20stroke-width%3A%200px%3B%20fill%3A%20rgb(78%2C%20121%2C%20167)%3B%20fill-opacity%3A%201%3B%22%2F%3E%3C%2Fg%3E%3Cg%20class%3D%22point%22%3E%3Cpath%20d%3D%22M152%2C347V41.68H166.48V347Z%22%20style%3D%22vector-effect%3A%20non-scaling-stroke%3B%20opacity%3A%201%3B%20stroke-width%3A%200px%3B%20fill%3A%20rgb(78%2C%20121%2C%20167)%3B%20fill-opacity%3A%201%3B%22%2F%3E%3C%2Fg%3E%3C%2Fg%3E%3C%2Fg%3E%3Cg%20class%3D%22trace%20bars%22%20style%3D%22opacity%3A%201%3B%22%3E%3Cg%20class%3D%22points%22%3E%3Cg%20class%3D%22point%22%3E%3Cpath%20d%3D%22M21.71%2C347V118.51H36.19V347Z%22%20style%3D%22vector-effect%3A%20non-scaling-stroke%3B%20opacity%3A%201%3B%20stroke-width%3A%200px%3B%20fill%3A%20rgb(242%2C%20142%2C%2044)%3B%20fill-opacity%3A%201%3B%22%2F%3E%3C%2Fg%3E%3Cg%20class%3D%22point%22%3E%3Cpath%20d%3D%22M94.1%2C347V81.39H108.57V347Z%22%20style%3D%22vector-effect%3A%20non-scaling-stroke%3B%20opacity%3A%201%3B%20stroke-width%3A%200px%3B%20fill%3A%20rgb(242%2C%20142%2C%2044)%3B%20fill-opacity%3A%201%3B%22%2F%3E%3C%2Fg%3E%3Cg%20class%3D%22point%22%3E%3Cpath%20d%3D%22M166.48%2C347V37.23H180.95V347Z%22%20style%3D%22vector-effect%3A%20non-scaling-stroke%3B%20opacity%3A%201%3B%20stroke-width%3A%200px%3B%20fill%3A%20rgb(242%2C%20142%2C%2044)%3B%20fill-opacity%3A%201%3B%22%2F%3E%3C%2Fg%3E%3C%2Fg%3E%3C%2Fg%3E%3Cg%20class%3D%22trace%20bars%22%20style%3D%22opacity%3A%201%3B%22%3E%3Cg%20class%3D%22points%22%3E%3Cg%20class%3D%22point%22%3E%3Cpath%20d%3D%22M36.19%2C347V98.8H50.67V347Z%22%20style%3D%22vector-effect%3A%20non-scaling-stroke%3B%20opacity%3A%201%3B%20stroke-width%3A%200px%3B%20fill%3A%20rgb(225%2C%2087%2C%2089)%3B%20fill-opacity%3A%201%3B%22%2F%3E%3C%2Fg%3E%3Cg%20class%3D%22point%22%3E%3Cpath%20d%3D%22M108.57%2C347V67.66H123.05V347Z%22%20style%3D%22vector-effect%3A%20non-scaling-stroke%3B%20opacity%3A%201%3B%20stroke-width%3A%200px%3B%20fill%3A%20rgb(225%2C%2087%2C%2089)%3B%20fill-opacity%3A%201%3B%22%2F%3E%3C%2Fg%3E%3Cg%20class%3D%22point%22%3E%3Cpath%20d%3D%22M180.95%2C347V31.25H195.43V347Z%22%20style%3D%22vector-effect%3A%20non-scaling-stroke%3B%20opacity%3A%201%3B%20stroke-width%3A%200px%3B%20fill%3A%20rgb(225%2C%2087%2C%2089)%3B%20fill-opacity%3A%201%3B%22%2F%3E%3C%2Fg%3E%3C%2Fg%3E%3C%2Fg%3E%3Cg%20class%3D%22trace%20bars%22%20style%3D%22opacity%3A%201%3B%22%3E%3Cg%20class%3D%22points%22%3E%3Cg%20class%3D%22point%22%3E%3Cpath%20d%3D%22M50.67%2C347V77.23H65.14V347Z%22%20style%3D%22vector-effect%3A%20non-scaling-stroke%3B%20opacity%3A%201%3B%20stroke-width%3A%200px%3B%20fill%3A%20rgb(118%2C%20183%2C%20178)%3B%20fill-opacity%3A%201%3B%22%2F%3E%3C%2Fg%3E%3Cg%20class%3D%22point%22%3E%3Cpath%20d%3D%22M123.05%2C347V59.74H137.52V347Z%22%20style%3D%22vector-effect%3A%20non-scaling-stroke%3B%20opacity%3A%201%3B%20stroke-width%3A%200px%3B%20fill%3A%20rgb(118%2C%20183%2C%20178)%3B%20fill-opacity%3A%201%3B%22%2F%3E%3C%2Fg%3E%3Cg%20class%3D%22point%22%3E%3Cpath%20d%3D%22M195.43%2C347V32.85H209.9V347Z%22%20style%3D%22vector-effect%3A%20non-scaling-stroke%3B%20opacity%3A%201%3B%20stroke-width%3A%200px%3B%20fill%3A%20rgb(118%2C%20183%2C%20178)%3B%20fill-opacity%3A%201%3B%22%2F%3E%3C%2Fg%3E%3C%2Fg%3E%3C%2Fg%3E%3C%2Fg%3E%3C%2Fg%3E%3Cg%20class%3D%22overplot%22%2F%3E%3Cpath%20class%3D%22xlines-above%20crisp%22%20d%3D%22M79%2C377.5H297.14285714285717%22%20style%3D%22fill%3A%20none%3B%20stroke-width%3A%201px%3B%20stroke%3A%20rgb(89%2C%2089%2C%2089)%3B%20stroke-opacity%3A%200.25%3B%22%2F%3E%3Cpath%20class%3D%22ylines-above%20crisp%22%20d%3D%22M79.5%2C30V377%22%20style%3D%22fill%3A%20none%3B%20stroke-width%3A%201px%3B%20stroke%3A%20rgb(89%2C%2089%2C%2089)%3B%20stroke-opacity%3A%200.25%3B%22%2F%3E%3Cg%20class%3D%22overlines-above%22%2F%3E%3Cg%20class%3D%22xaxislayer-above%22%3E%3Cg%20class%3D%22xtick%22%3E%3Ctext%20text-anchor%3D%22middle%22%20x%3D%220%22%20y%3D%22392.4%22%20data-unformatted%3D%22Basic%22%20data-math%3D%22N%22%20transform%3D%22translate(116.19%2C0)%22%20style%3D%22font-family%3A%20%26quot%3BOpen%20Sans%26quot%3B%2C%20verdana%2C%20arial%2C%20sans-serif%3B%20font-size%3A%2012px%3B%20fill%3A%20rgb(89%2C%2089%2C%2089)%3B%20fill-opacity%3A%201%3B%20white-space%3A%20pre%3B%22%3EBasic%3C%2Ftext%3E%3C%2Fg%3E%3Cg%20class%3D%22xtick%22%3E%3Ctext%20text-anchor%3D%22middle%22%20x%3D%220%22%20y%3D%22392.4%22%20data-unformatted%3D%22Extended%22%20data-math%3D%22N%22%20transform%3D%22translate(188.57%2C0)%22%20style%3D%22font-family%3A%20%26quot%3BOpen%20Sans%26quot%3B%2C%20verdana%2C%20arial%2C%20sans-serif%3B%20font-size%3A%2012px%3B%20fill%3A%20rgb(89%2C%2089%2C%2089)%3B%20fill-opacity%3A%201%3B%20white-space%3A%20pre%3B%22%3EExtended%3C%2Ftext%3E%3C%2Fg%3E%3Cg%20class%3D%22xtick%22%3E%3Ctext%20text-anchor%3D%22middle%22%20x%3D%220%22%20y%3D%22392.4%22%20data-unformatted%3D%22Premium%22%20data-math%3D%22N%22%20transform%3D%22translate(260.95%2C0)%22%20style%3D%22font-family%3A%20%26quot%3BOpen%20Sans%26quot%3B%2C%20verdana%2C%20arial%2C%20sans-serif%3B%20font-size%3A%2012px%3B%20fill%3A%20rgb(89%2C%2089%2C%2089)%3B%20fill-opacity%3A%201%3B%20white-space%3A%20pre%3B%22%3EPremium%3C%2Ftext%3E%3C%2Fg%3E%3C%2Fg%3E%3Cg%20class%3D%22yaxislayer-above%22%3E%3Cg%20class%3D%22ytick%22%3E%3Ctext%20text-anchor%3D%22end%22%20x%3D%2276.6%22%20y%3D%224.199999999999999%22%20data-unformatted%3D%220%22%20data-math%3D%22N%22%20transform%3D%22translate(0%2C377)%22%20style%3D%22font-family%3A%20%26quot%3BOpen%20Sans%26quot%3B%2C%20verdana%2C%20arial%2C%20sans-serif%3B%20font-size%3A%2012px%3B%20fill%3A%20rgb(89%2C%2089%2C%2089)%3B%20fill-opacity%3A%201%3B%20white-space%3A%20pre%3B%22%3E0%3C%2Ftext%3E%3C%2Fg%3E%3Cg%20class%3D%22ytick%22%3E%3Ctext%20text-anchor%3D%22end%22%20x%3D%2276.6%22%20y%3D%224.199999999999999%22%20data-unformatted%3D%220.1%22%20data-math%3D%22N%22%20transform%3D%22translate(0%2C339.5)%22%20style%3D%22font-family%3A%20%26quot%3BOpen%20Sans%26quot%3B%2C%20verdana%2C%20arial%2C%20sans-serif%3B%20font-size%3A%2012px%3B%20fill%3A%20rgb(89%2C%2089%2C%2089)%3B%20fill-opacity%3A%201%3B%20white-space%3A%20pre%3B%22%3E0.1%3C%2Ftext%3E%3C%2Fg%3E%3Cg%20class%3D%22ytick%22%3E%3Ctext%20text-anchor%3D%22end%22%20x%3D%2276.6%22%20y%3D%224.199999999999999%22%20data-unformatted%3D%220.2%22%20data-math%3D%22N%22%20transform%3D%22translate(0%2C302.01)%22%20style%3D%22font-family%3A%20%26quot%3BOpen%20Sans%26quot%3B%2C%20verdana%2C%20arial%2C%20sans-serif%3B%20font-size%3A%2012px%3B%20fill%3A%20rgb(89%2C%2089%2C%2089)%3B%20fill-opacity%3A%201%3B%20white-space%3A%20pre%3B%22%3E0.2%3C%2Ftext%3E%3C%2Fg%3E%3Cg%20class%3D%22ytick%22%3E%3Ctext%20text-anchor%3D%22end%22%20x%3D%2276.6%22%20y%3D%224.199999999999999%22%20data-unformatted%3D%220.3%22%20data-math%3D%22N%22%20transform%3D%22translate(0%2C264.51)%22%20style%3D%22font-family%3A%20%26quot%3BOpen%20Sans%26quot%3B%2C%20verdana%2C%20arial%2C%20sans-serif%3B%20font-size%3A%2012px%3B%20fill%3A%20rgb(89%2C%2089%2C%2089)%3B%20fill-opacity%3A%201%3B%20white-space%3A%20pre%3B%22%3E0.3%3C%2Ftext%3E%3C%2Fg%3E%3Cg%20class%3D%22ytick%22%3E%3Ctext%20text-anchor%3D%22end%22%20x%3D%2276.6%22%20y%3D%224.199999999999999%22%20data-unformatted%3D%220.4%22%20data-math%3D%22N%22%20transform%3D%22translate(0%2C227.02)%22%20style%3D%22font-family%3A%20%26quot%3BOpen%20Sans%26quot%3B%2C%20verdana%2C%20arial%2C%20sans-serif%3B%20font-size%3A%2012px%3B%20fill%3A%20rgb(89%2C%2089%2C%2089)%3B%20fill-opacity%3A%201%3B%20white-space%3A%20pre%3B%22%3E0.4%3C%2Ftext%3E%3C%2Fg%3E%3Cg%20class%3D%22ytick%22%3E%3Ctext%20text-anchor%3D%22end%22%20x%3D%2276.6%22%20y%3D%224.199999999999999%22%20data-unformatted%3D%220.5%22%20data-math%3D%22N%22%20transform%3D%22translate(0%2C189.52)%22%20style%3D%22font-family%3A%20%26quot%3BOpen%20Sans%26quot%3B%2C%20verdana%2C%20arial%2C%20sans-serif%3B%20font-size%3A%2012px%3B%20fill%3A%20rgb(89%2C%2089%2C%2089)%3B%20fill-opacity%3A%201%3B%20white-space%3A%20pre%3B%22%3E0.5%3C%2Ftext%3E%3C%2Fg%3E%3Cg%20class%3D%22ytick%22%3E%3Ctext%20text-anchor%3D%22end%22%20x%3D%2276.6%22%20y%3D%224.199999999999999%22%20data-unformatted%3D%220.6%22%20data-math%3D%22N%22%20transform%3D%22translate(0%2C152.03)%22%20style%3D%22font-family%3A%20%26quot%3BOpen%20Sans%26quot%3B%2C%20verdana%2C%20arial%2C%20sans-serif%3B%20font-size%3A%2012px%3B%20fill%3A%20rgb(89%2C%2089%2C%2089)%3B%20fill-opacity%3A%201%3B%20white-space%3A%20pre%3B%22%3E0.6%3C%2Ftext%3E%3C%2Fg%3E%3Cg%20class%3D%22ytick%22%3E%3Ctext%20text-anchor%3D%22end%22%20x%3D%2276.6%22%20y%3D%224.199999999999999%22%20data-unformatted%3D%220.7%22%20data-math%3D%22N%22%20transform%3D%22translate(0%2C114.53)%22%20style%3D%22font-family%3A%20%26quot%3BOpen%20Sans%26quot%3B%2C%20verdana%2C%20arial%2C%20sans-serif%3B%20font-size%3A%2012px%3B%20fill%3A%20rgb(89%2C%2089%2C%2089)%3B%20fill-opacity%3A%201%3B%20white-space%3A%20pre%3B%22%3E0.7%3C%2Ftext%3E%3C%2Fg%3E%3Cg%20class%3D%22ytick%22%3E%3Ctext%20text-anchor%3D%22end%22%20x%3D%2276.6%22%20y%3D%224.199999999999999%22%20data-unformatted%3D%220.8%22%20data-math%3D%22N%22%20transform%3D%22translate(0%2C77.03999999999999)%22%20style%3D%22font-family%3A%20%26quot%3BOpen%20Sans%26quot%3B%2C%20verdana%2C%20arial%2C%20sans-serif%3B%20font-size%3A%2012px%3B%20fill%3A%20rgb(89%2C%2089%2C%2089)%3B%20fill-opacity%3A%201%3B%20white-space%3A%20pre%3B%22%3E0.8%3C%2Ftext%3E%3C%2Fg%3E%3Cg%20class%3D%22ytick%22%3E%3Ctext%20text-anchor%3D%22end%22%20x%3D%2276.6%22%20y%3D%224.199999999999999%22%20data-unformatted%3D%220.9%22%20data-math%3D%22N%22%20transform%3D%22translate(0%2C39.54)%22%20style%3D%22font-family%3A%20%26quot%3BOpen%20Sans%26quot%3B%2C%20verdana%2C%20arial%2C%20sans-serif%3B%20font-size%3A%2012px%3B%20fill%3A%20rgb(89%2C%2089%2C%2089)%3B%20fill-opacity%3A%201%3B%20white-space%3A%20pre%3B%22%3E0.9%3C%2Ftext%3E%3C%2Fg%3E%3C%2Fg%3E%3Cg%20class%3D%22overaxes-above%22%2F%3E%3C%2Fg%3E%3Cg%20class%3D%22subplot%20x2y%22%3E%3Cg%20class%3D%22layer-subplot%22%3E%3Cg%20class%3D%22shapelayer%22%2F%3E%3Cg%20class%3D%22imagelayer%22%2F%3E%3C%2Fg%3E%3Cg%20class%3D%22gridlayer%22%3E%3Cg%20class%3D%22x2%22%2F%3E%3Cg%20class%3D%22y%22%3E%3Cpath%20class%3D%22ygrid%20crisp%22%20transform%3D%22translate(0%2C339.5)%22%20d%3D%22M351.42857142857144%2C0h217.14285714285717%22%20style%3D%22stroke%3A%20rgb(89%2C%2089%2C%2089)%3B%20stroke-opacity%3A%200.25%3B%20stroke-width%3A%201px%3B%22%2F%3E%3Cpath%20class%3D%22ygrid%20crisp%22%20transform%3D%22translate(0%2C302.01)%22%20d%3D%22M351.42857142857144%2C0h217.14285714285717%22%20style%3D%22stroke%3A%20rgb(89%2C%2089%2C%2089)%3B%20stroke-opacity%3A%200.25%3B%20stroke-width%3A%201px%3B%22%2F%3E%3Cpath%20class%3D%22ygrid%20crisp%22%20transform%3D%22translate(0%2C264.51)%22%20d%3D%22M351.42857142857144%2C0h217.14285714285717%22%20style%3D%22stroke%3A%20rgb(89%2C%2089%2C%2089)%3B%20stroke-opacity%3A%200.25%3B%20stroke-width%3A%201px%3B%22%2F%3E%3Cpath%20class%3D%22ygrid%20crisp%22%20transform%3D%22translate(0%2C227.02)%22%20d%3D%22M351.42857142857144%2C0h217.14285714285717%22%20style%3D%22stroke%3A%20rgb(89%2C%2089%2C%2089)%3B%20stroke-opacity%3A%200.25%3B%20stroke-width%3A%201px%3B%22%2F%3E%3Cpath%20class%3D%22ygrid%20crisp%22%20transform%3D%22translate(0%2C189.52)%22%20d%3D%22M351.42857142857144%2C0h217.14285714285717%22%20style%3D%22stroke%3A%20rgb(89%2C%2089%2C%2089)%3B%20stroke-opacity%3A%200.25%3B%20stroke-width%3A%201px%3B%22%2F%3E%3Cpath%20class%3D%22ygrid%20crisp%22%20transform%3D%22translate(0%2C152.03)%22%20d%3D%22M351.42857142857144%2C0h217.14285714285717%22%20style%3D%22stroke%3A%20rgb(89%2C%2089%2C%2089)%3B%20stroke-opacity%3A%200.25%3B%20stroke-width%3A%201px%3B%22%2F%3E%3Cpath%20class%3D%22ygrid%20crisp%22%20transform%3D%22translate(0%2C114.53)%22%20d%3D%22M351.42857142857144%2C0h217.14285714285717%22%20style%3D%22stroke%3A%20rgb(89%2C%2089%2C%2089)%3B%20stroke-opacity%3A%200.25%3B%20stroke-width%3A%201px%3B%22%2F%3E%3Cpath%20class%3D%22ygrid%20crisp%22%20transform%3D%22translate(0%2C77.03999999999999)%22%20d%3D%22M351.42857142857144%2C0h217.14285714285717%22%20style%3D%22stroke%3A%20rgb(89%2C%2089%2C%2089)%3B%20stroke-opacity%3A%200.25%3B%20stroke-width%3A%201px%3B%22%2F%3E%3Cpath%20class%3D%22ygrid%20crisp%22%20transform%3D%22translate(0%2C39.54)%22%20d%3D%22M351.42857142857144%2C0h217.14285714285717%22%20style%3D%22stroke%3A%20rgb(89%2C%2089%2C%2089)%3B%20stroke-opacity%3A%200.25%3B%20stroke-width%3A%201px%3B%22%2F%3E%3C%2Fg%3E%3C%2Fg%3E%3Cg%20class%3D%22zerolinelayer%22%3E%3Cpath%20class%3D%22yzl%20zl%20crisp%22%20transform%3D%22translate(0%2C377)%22%20d%3D%22M351.42857142857144%2C0h217.14285714285717%22%20style%3D%22stroke%3A%20rgb(89%2C%2089%2C%2089)%3B%20stroke-opacity%3A%200.5%3B%20stroke-width%3A%201px%3B%22%2F%3E%3C%2Fg%3E%3Cpath%20class%3D%22xlines-below%22%2F%3E%3Cpath%20class%3D%22ylines-below%22%2F%3E%3Cg%20class%3D%22overlines-below%22%2F%3E%3Cg%20class%3D%22xaxislayer-below%22%2F%3E%3Cg%20class%3D%22yaxislayer-below%22%2F%3E%3Cg%20class%3D%22overaxes-below%22%2F%3E%3Cg%20class%3D%22plot%22%20transform%3D%22translate(351.42857142857144%2C30)%22%20clip-path%3D%22url('%23clip90d0e8x2yplot')%22%3E%3Cg%20class%3D%22barlayer%20mlayer%22%3E%3Cg%20class%3D%22trace%20bars%22%20style%3D%22opacity%3A%201%3B%22%3E%3Cg%20class%3D%22points%22%3E%3Cg%20class%3D%22point%22%3E%3Cpath%20d%3D%22M7.24%2C347V165.73H21.71V347Z%22%20style%3D%22vector-effect%3A%20non-scaling-stroke%3B%20opacity%3A%201%3B%20stroke-width%3A%200px%3B%20fill%3A%20rgb(78%2C%20121%2C%20167)%3B%20fill-opacity%3A%201%3B%22%2F%3E%3C%2Fg%3E%3Cg%20class%3D%22point%22%3E%3Cpath%20d%3D%22M79.62%2C347V114.33H94.1V347Z%22%20style%3D%22vector-effect%3A%20non-scaling-stroke%3B%20opacity%3A%201%3B%20stroke-width%3A%200px%3B%20fill%3A%20rgb(78%2C%20121%2C%20167)%3B%20fill-opacity%3A%201%3B%22%2F%3E%3C%2Fg%3E%3Cg%20class%3D%22point%22%3E%3Cpath%20d%3D%22M152%2C347V60.73H166.48V347Z%22%20style%3D%22vector-effect%3A%20non-scaling-stroke%3B%20opacity%3A%201%3B%20stroke-width%3A%200px%3B%20fill%3A%20rgb(78%2C%20121%2C%20167)%3B%20fill-opacity%3A%201%3B%22%2F%3E%3C%2Fg%3E%3C%2Fg%3E%3C%2Fg%3E%3Cg%20class%3D%22trace%20bars%22%20style%3D%22opacity%3A%201%3B%22%3E%3Cg%20class%3D%22points%22%3E%3Cg%20class%3D%22point%22%3E%3Cpath%20d%3D%22M21.71%2C347V136.09H36.19V347Z%22%20style%3D%22vector-effect%3A%20non-scaling-stroke%3B%20opacity%3A%201%3B%20stroke-width%3A%200px%3B%20fill%3A%20rgb(242%2C%20142%2C%2044)%3B%20fill-opacity%3A%201%3B%22%2F%3E%3C%2Fg%3E%3Cg%20class%3D%22point%22%3E%3Cpath%20d%3D%22M94.1%2C347V98.75H108.57V347Z%22%20style%3D%22vector-effect%3A%20non-scaling-stroke%3B%20opacity%3A%201%3B%20stroke-width%3A%200px%3B%20fill%3A%20rgb(242%2C%20142%2C%2044)%3B%20fill-opacity%3A%201%3B%22%2F%3E%3C%2Fg%3E%3Cg%20class%3D%22point%22%3E%3Cpath%20d%3D%22M166.48%2C347V50.6H180.95V347Z%22%20style%3D%22vector-effect%3A%20non-scaling-stroke%3B%20opacity%3A%201%3B%20stroke-width%3A%200px%3B%20fill%3A%20rgb(242%2C%20142%2C%2044)%3B%20fill-opacity%3A%201%3B%22%2F%3E%3C%2Fg%3E%3C%2Fg%3E%3C%2Fg%3E%3Cg%20class%3D%22trace%20bars%22%20style%3D%22opacity%3A%201%3B%22%3E%3Cg%20class%3D%22points%22%3E%3Cg%20class%3D%22point%22%3E%3Cpath%20d%3D%22M36.19%2C347V120H50.67V347Z%22%20style%3D%22vector-effect%3A%20non-scaling-stroke%3B%20opacity%3A%201%3B%20stroke-width%3A%200px%3B%20fill%3A%20rgb(225%2C%2087%2C%2089)%3B%20fill-opacity%3A%201%3B%22%2F%3E%3C%2Fg%3E%3Cg%20class%3D%22point%22%3E%3Cpath%20d%3D%22M108.57%2C347V87.19H123.05V347Z%22%20style%3D%22vector-effect%3A%20non-scaling-stroke%3B%20opacity%3A%201%3B%20stroke-width%3A%200px%3B%20fill%3A%20rgb(225%2C%2087%2C%2089)%3B%20fill-opacity%3A%201%3B%22%2F%3E%3C%2Fg%3E%3Cg%20class%3D%22point%22%3E%3Cpath%20d%3D%22M180.95%2C347V54.93H195.43V347Z%22%20style%3D%22vector-effect%3A%20non-scaling-stroke%3B%20opacity%3A%201%3B%20stroke-width%3A%200px%3B%20fill%3A%20rgb(225%2C%2087%2C%2089)%3B%20fill-opacity%3A%201%3B%22%2F%3E%3C%2Fg%3E%3C%2Fg%3E%3C%2Fg%3E%3Cg%20class%3D%22trace%20bars%22%20style%3D%22opacity%3A%201%3B%22%3E%3Cg%20class%3D%22points%22%3E%3Cg%20class%3D%22point%22%3E%3Cpath%20d%3D%22M50.67%2C347V96.22H65.14V347Z%22%20style%3D%22vector-effect%3A%20non-scaling-stroke%3B%20opacity%3A%201%3B%20stroke-width%3A%200px%3B%20fill%3A%20rgb(118%2C%20183%2C%20178)%3B%20fill-opacity%3A%201%3B%22%2F%3E%3C%2Fg%3E%3Cg%20class%3D%22point%22%3E%3Cpath%20d%3D%22M123.05%2C347V78.13H137.52V347Z%22%20style%3D%22vector-effect%3A%20non-scaling-stroke%3B%20opacity%3A%201%3B%20stroke-width%3A%200px%3B%20fill%3A%20rgb(118%2C%20183%2C%20178)%3B%20fill-opacity%3A%201%3B%22%2F%3E%3C%2Fg%3E%3Cg%20class%3D%22point%22%3E%3Cpath%20d%3D%22M195.43%2C347V48.35H209.9V347Z%22%20style%3D%22vector-effect%3A%20non-scaling-stroke%3B%20opacity%3A%201%3B%20stroke-width%3A%200px%3B%20fill%3A%20rgb(118%2C%20183%2C%20178)%3B%20fill-opacity%3A%201%3B%22%2F%3E%3C%2Fg%3E%3C%2Fg%3E%3C%2Fg%3E%3C%2Fg%3E%3C%2Fg%3E%3Cg%20class%3D%22overplot%22%2F%3E%3Cpath%20class%3D%22xlines-above%20crisp%22%20d%3D%22M0%2C0%22%20style%3D%22fill%3A%20none%3B%22%2F%3E%3Cpath%20class%3D%22ylines-above%20crisp%22%20d%3D%22M0%2C0%22%20style%3D%22fill%3A%20none%3B%22%2F%3E%3Cg%20class%3D%22overlines-above%22%2F%3E%3Cg%20class%3D%22xaxislayer-above%22%3E%3Cg%20class%3D%22x2tick%22%3E%3Ctext%20text-anchor%3D%22middle%22%20x%3D%220%22%20y%3D%22390%22%20data-unformatted%3D%22Basic%22%20data-math%3D%22N%22%20transform%3D%22translate(387.61857142857144%2C0)%22%20style%3D%22font-family%3A%20%26quot%3BOpen%20Sans%26quot%3B%2C%20verdana%2C%20arial%2C%20sans-serif%3B%20font-size%3A%2012px%3B%20fill%3A%20rgb(89%2C%2089%2C%2089)%3B%20fill-opacity%3A%201%3B%20white-space%3A%20pre%3B%22%3EBasic%3C%2Ftext%3E%3C%2Fg%3E%3Cg%20class%3D%22x2tick%22%3E%3Ctext%20text-anchor%3D%22middle%22%20x%3D%220%22%20y%3D%22390%22%20data-unformatted%3D%22Extended%22%20data-math%3D%22N%22%20transform%3D%22translate(459.99857142857144%2C0)%22%20style%3D%22font-family%3A%20%26quot%3BOpen%20Sans%26quot%3B%2C%20verdana%2C%20arial%2C%20sans-serif%3B%20font-size%3A%2012px%3B%20fill%3A%20rgb(89%2C%2089%2C%2089)%3B%20fill-opacity%3A%201%3B%20white-space%3A%20pre%3B%22%3EExtended%3C%2Ftext%3E%3C%2Fg%3E%3Cg%20class%3D%22x2tick%22%3E%3Ctext%20text-anchor%3D%22middle%22%20x%3D%220%22%20y%3D%22390%22%20data-unformatted%3D%22Premium%22%20data-math%3D%22N%22%20transform%3D%22translate(532.3785714285714%2C0)%22%20style%3D%22font-family%3A%20%26quot%3BOpen%20Sans%26quot%3B%2C%20verdana%2C%20arial%2C%20sans-serif%3B%20font-size%3A%2012px%3B%20fill%3A%20rgb(89%2C%2089%2C%2089)%3B%20fill-opacity%3A%201%3B%20white-space%3A%20pre%3B%22%3EPremium%3C%2Ftext%3E%3C%2Fg%3E%3C%2Fg%3E%3Cg%20class%3D%22yaxislayer-above%22%2F%3E%3Cg%20class%3D%22overaxes-above%22%2F%3E%3C%2Fg%3E%3Cg%20class%3D%22subplot%20x3y%22%3E%3Cg%20class%3D%22layer-subplot%22%3E%3Cg%20class%3D%22shapelayer%22%2F%3E%3Cg%20class%3D%22imagelayer%22%2F%3E%3C%2Fg%3E%3Cg%20class%3D%22gridlayer%22%3E%3Cg%20class%3D%22x3%22%2F%3E%3Cg%20class%3D%22y%22%3E%3Cpath%20class%3D%22ygrid%20crisp%22%20transform%3D%22translate(0%2C339.5)%22%20d%3D%22M622.8571428571429%2C0h217.14285714285714%22%20style%3D%22stroke%3A%20rgb(89%2C%2089%2C%2089)%3B%20stroke-opacity%3A%200.25%3B%20stroke-width%3A%201px%3B%22%2F%3E%3Cpath%20class%3D%22ygrid%20crisp%22%20transform%3D%22translate(0%2C302.01)%22%20d%3D%22M622.8571428571429%2C0h217.14285714285714%22%20style%3D%22stroke%3A%20rgb(89%2C%2089%2C%2089)%3B%20stroke-opacity%3A%200.25%3B%20stroke-width%3A%201px%3B%22%2F%3E%3Cpath%20class%3D%22ygrid%20crisp%22%20transform%3D%22translate(0%2C264.51)%22%20d%3D%22M622.8571428571429%2C0h217.14285714285714%22%20style%3D%22stroke%3A%20rgb(89%2C%2089%2C%2089)%3B%20stroke-opacity%3A%200.25%3B%20stroke-width%3A%201px%3B%22%2F%3E%3Cpath%20class%3D%22ygrid%20crisp%22%20transform%3D%22translate(0%2C227.02)%22%20d%3D%22M622.8571428571429%2C0h217.14285714285714%22%20style%3D%22stroke%3A%20rgb(89%2C%2089%2C%2089)%3B%20stroke-opacity%3A%200.25%3B%20stroke-width%3A%201px%3B%22%2F%3E%3Cpath%20class%3D%22ygrid%20crisp%22%20transform%3D%22translate(0%2C189.52)%22%20d%3D%22M622.8571428571429%2C0h217.14285714285714%22%20style%3D%22stroke%3A%20rgb(89%2C%2089%2C%2089)%3B%20stroke-opacity%3A%200.25%3B%20stroke-width%3A%201px%3B%22%2F%3E%3Cpath%20class%3D%22ygrid%20crisp%22%20transform%3D%22translate(0%2C152.03)%22%20d%3D%22M622.8571428571429%2C0h217.14285714285714%22%20style%3D%22stroke%3A%20rgb(89%2C%2089%2C%2089)%3B%20stroke-opacity%3A%200.25%3B%20stroke-width%3A%201px%3B%22%2F%3E%3Cpath%20class%3D%22ygrid%20crisp%22%20transform%3D%22translate(0%2C114.53)%22%20d%3D%22M622.8571428571429%2C0h217.14285714285714%22%20style%3D%22stroke%3A%20rgb(89%2C%2089%2C%2089)%3B%20stroke-opacity%3A%200.25%3B%20stroke-width%3A%201px%3B%22%2F%3E%3Cpath%20class%3D%22ygrid%20crisp%22%20transform%3D%22translate(0%2C77.03999999999999)%22%20d%3D%22M622.8571428571429%2C0h217.14285714285714%22%20style%3D%22stroke%3A%20rgb(89%2C%2089%2C%2089)%3B%20stroke-opacity%3A%200.25%3B%20stroke-width%3A%201px%3B%22%2F%3E%3Cpath%20class%3D%22ygrid%20crisp%22%20transform%3D%22translate(0%2C39.54)%22%20d%3D%22M622.8571428571429%2C0h217.14285714285714%22%20style%3D%22stroke%3A%20rgb(89%2C%2089%2C%2089)%3B%20stroke-opacity%3A%200.25%3B%20stroke-width%3A%201px%3B%22%2F%3E%3C%2Fg%3E%3C%2Fg%3E%3Cg%20class%3D%22zerolinelayer%22%3E%3Cpath%20class%3D%22yzl%20zl%20crisp%22%20transform%3D%22translate(0%2C377)%22%20d%3D%22M622.8571428571429%2C0h217.14285714285714%22%20style%3D%22stroke%3A%20rgb(89%2C%2089%2C%2089)%3B%20stroke-opacity%3A%200.5%3B%20stroke-width%3A%201px%3B%22%2F%3E%3C%2Fg%3E%3Cpath%20class%3D%22xlines-below%22%2F%3E%3Cpath%20class%3D%22ylines-below%22%2F%3E%3Cg%20class%3D%22overlines-below%22%2F%3E%3Cg%20class%3D%22xaxislayer-below%22%2F%3E%3Cg%20class%3D%22yaxislayer-below%22%2F%3E%3Cg%20class%3D%22overaxes-below%22%2F%3E%3Cg%20class%3D%22plot%22%20transform%3D%22translate(622.8571428571429%2C30)%22%20clip-path%3D%22url('%23clip90d0e8x3yplot')%22%3E%3Cg%20class%3D%22barlayer%20mlayer%22%3E%3Cg%20class%3D%22trace%20bars%22%20style%3D%22opacity%3A%201%3B%22%3E%3Cg%20class%3D%22points%22%3E%3Cg%20class%3D%22point%22%3E%3Cpath%20d%3D%22M7.24%2C347V67.19H21.71V347Z%22%20style%3D%22vector-effect%3A%20non-scaling-stroke%3B%20opacity%3A%201%3B%20stroke-width%3A%200px%3B%20fill%3A%20rgb(78%2C%20121%2C%20167)%3B%20fill-opacity%3A%201%3B%22%2F%3E%3C%2Fg%3E%3Cg%20class%3D%22point%22%3E%3Cpath%20d%3D%22M79.62%2C347V73.17H94.1V347Z%22%20style%3D%22vector-effect%3A%20non-scaling-stroke%3B%20opacity%3A%201%3B%20stroke-width%3A%200px%3B%20fill%3A%20rgb(78%2C%20121%2C%20167)%3B%20fill-opacity%3A%201%3B%22%2F%3E%3C%2Fg%3E%3Cg%20class%3D%22point%22%3E%3Cpath%20d%3D%22M152%2C347V31.56H166.48V347Z%22%20style%3D%22vector-effect%3A%20non-scaling-stroke%3B%20opacity%3A%201%3B%20stroke-width%3A%200px%3B%20fill%3A%20rgb(78%2C%20121%2C%20167)%3B%20fill-opacity%3A%201%3B%22%2F%3E%3C%2Fg%3E%3C%2Fg%3E%3C%2Fg%3E%3Cg%20class%3D%22trace%20bars%22%20style%3D%22opacity%3A%201%3B%22%3E%3Cg%20class%3D%22points%22%3E%3Cg%20class%3D%22point%22%3E%3Cpath%20d%3D%22M21.71%2C347V42.35H36.19V347Z%22%20style%3D%22vector-effect%3A%20non-scaling-stroke%3B%20opacity%3A%201%3B%20stroke-width%3A%200px%3B%20fill%3A%20rgb(242%2C%20142%2C%2044)%3B%20fill-opacity%3A%201%3B%22%2F%3E%3C%2Fg%3E%3Cg%20class%3D%22point%22%3E%3Cpath%20d%3D%22M94.1%2C347V58.39H108.57V347Z%22%20style%3D%22vector-effect%3A%20non-scaling-stroke%3B%20opacity%3A%201%3B%20stroke-width%3A%200px%3B%20fill%3A%20rgb(242%2C%20142%2C%2044)%3B%20fill-opacity%3A%201%3B%22%2F%3E%3C%2Fg%3E%3Cg%20class%3D%22point%22%3E%3Cpath%20d%3D%22M166.48%2C347V22.75H180.95V347Z%22%20style%3D%22vector-effect%3A%20non-scaling-stroke%3B%20opacity%3A%201%3B%20stroke-width%3A%200px%3B%20fill%3A%20rgb(242%2C%20142%2C%2044)%3B%20fill-opacity%3A%201%3B%22%2F%3E%3C%2Fg%3E%3C%2Fg%3E%3C%2Fg%3E%3Cg%20class%3D%22trace%20bars%22%20style%3D%22opacity%3A%201%3B%22%3E%3Cg%20class%3D%22points%22%3E%3Cg%20class%3D%22point%22%3E%3Cpath%20d%3D%22M36.19%2C347V34.32H50.67V347Z%22%20style%3D%22vector-effect%3A%20non-scaling-stroke%3B%20opacity%3A%201%3B%20stroke-width%3A%200px%3B%20fill%3A%20rgb(225%2C%2087%2C%2089)%3B%20fill-opacity%3A%201%3B%22%2F%3E%3C%2Fg%3E%3Cg%20class%3D%22point%22%3E%3Cpath%20d%3D%22M108.57%2C347V47.14H123.05V347Z%22%20style%3D%22vector-effect%3A%20non-scaling-stroke%3B%20opacity%3A%201%3B%20stroke-width%3A%200px%3B%20fill%3A%20rgb(225%2C%2087%2C%2089)%3B%20fill-opacity%3A%201%3B%22%2F%3E%3C%2Fg%3E%3Cg%20class%3D%22point%22%3E%3Cpath%20d%3D%22M180.95%2C347V21.1H195.43V347Z%22%20style%3D%22vector-effect%3A%20non-scaling-stroke%3B%20opacity%3A%201%3B%20stroke-width%3A%200px%3B%20fill%3A%20rgb(225%2C%2087%2C%2089)%3B%20fill-opacity%3A%201%3B%22%2F%3E%3C%2Fg%3E%3C%2Fg%3E%3C%2Fg%3E%3Cg%20class%3D%22trace%20bars%22%20style%3D%22opacity%3A%201%3B%22%3E%3Cg%20class%3D%22points%22%3E%3Cg%20class%3D%22point%22%3E%3Cpath%20d%3D%22M50.67%2C347V23.66H65.14V347Z%22%20style%3D%22vector-effect%3A%20non-scaling-stroke%3B%20opacity%3A%201%3B%20stroke-width%3A%200px%3B%20fill%3A%20rgb(118%2C%20183%2C%20178)%3B%20fill-opacity%3A%201%3B%22%2F%3E%3C%2Fg%3E%3Cg%20class%3D%22point%22%3E%3Cpath%20d%3D%22M123.05%2C347V37.16H137.52V347Z%22%20style%3D%22vector-effect%3A%20non-scaling-stroke%3B%20opacity%3A%201%3B%20stroke-width%3A%200px%3B%20fill%3A%20rgb(118%2C%20183%2C%20178)%3B%20fill-opacity%3A%201%3B%22%2F%3E%3C%2Fg%3E%3Cg%20class%3D%22point%22%3E%3Cpath%20d%3D%22M195.43%2C347V17.35H209.9V347Z%22%20style%3D%22vector-effect%3A%20non-scaling-stroke%3B%20opacity%3A%201%3B%20stroke-width%3A%200px%3B%20fill%3A%20rgb(118%2C%20183%2C%20178)%3B%20fill-opacity%3A%201%3B%22%2F%3E%3C%2Fg%3E%3C%2Fg%3E%3C%2Fg%3E%3C%2Fg%3E%3C%2Fg%3E%3Cg%20class%3D%22overplot%22%2F%3E%3Cpath%20class%3D%22xlines-above%20crisp%22%20d%3D%22M0%2C0%22%20style%3D%22fill%3A%20none%3B%22%2F%3E%3Cpath%20class%3D%22ylines-above%20crisp%22%20d%3D%22M0%2C0%22%20style%3D%22fill%3A%20none%3B%22%2F%3E%3Cg%20class%3D%22overlines-above%22%2F%3E%3Cg%20class%3D%22xaxislayer-above%22%3E%3Cg%20class%3D%22x3tick%22%3E%3Ctext%20text-anchor%3D%22middle%22%20x%3D%220%22%20y%3D%22390%22%20data-unformatted%3D%22Basic%22%20data-math%3D%22N%22%20transform%3D%22translate(659.047142857143%2C0)%22%20style%3D%22font-family%3A%20%26quot%3BOpen%20Sans%26quot%3B%2C%20verdana%2C%20arial%2C%20sans-serif%3B%20font-size%3A%2012px%3B%20fill%3A%20rgb(89%2C%2089%2C%2089)%3B%20fill-opacity%3A%201%3B%20white-space%3A%20pre%3B%22%3EBasic%3C%2Ftext%3E%3C%2Fg%3E%3Cg%20class%3D%22x3tick%22%3E%3Ctext%20text-anchor%3D%22middle%22%20x%3D%220%22%20y%3D%22390%22%20data-unformatted%3D%22Extended%22%20data-math%3D%22N%22%20transform%3D%22translate(731.4271428571428%2C0)%22%20style%3D%22font-family%3A%20%26quot%3BOpen%20Sans%26quot%3B%2C%20verdana%2C%20arial%2C%20sans-serif%3B%20font-size%3A%2012px%3B%20fill%3A%20rgb(89%2C%2089%2C%2089)%3B%20fill-opacity%3A%201%3B%20white-space%3A%20pre%3B%22%3EExtended%3C%2Ftext%3E%3C%2Fg%3E%3Cg%20class%3D%22x3tick%22%3E%3Ctext%20text-anchor%3D%22middle%22%20x%3D%220%22%20y%3D%22390%22%20data-unformatted%3D%22Premium%22%20data-math%3D%22N%22%20transform%3D%22translate(803.8071428571429%2C0)%22%20style%3D%22font-family%3A%20%26quot%3BOpen%20Sans%26quot%3B%2C%20verdana%2C%20arial%2C%20sans-serif%3B%20font-size%3A%2012px%3B%20fill%3A%20rgb(89%2C%2089%2C%2089)%3B%20fill-opacity%3A%201%3B%20white-space%3A%20pre%3B%22%3EPremium%3C%2Ftext%3E%3C%2Fg%3E%3C%2Fg%3E%3Cg%20class%3D%22yaxislayer-above%22%2F%3E%3Cg%20class%3D%22overaxes-above%22%2F%3E%3C%2Fg%3E%3C%2Fg%3E%3Cg%20class%3D%22polarlayer%22%2F%3E%3Cg%20class%3D%22ternarylayer%22%2F%3E%3Cg%20class%3D%22geolayer%22%2F%3E%3Cg%20class%3D%22funnelarealayer%22%2F%3E%3Cg%20class%3D%22pielayer%22%2F%3E%3Cg%20class%3D%22treemaplayer%22%2F%3E%3Cg%20class%3D%22sunburstlayer%22%2F%3E%3Cg%20class%3D%22glimages%22%2F%3E%3Cdefs%20id%3D%22topdefs-90d0e8%22%3E%3Cg%20class%3D%22clips%22%2F%3E%3CclipPath%20id%3D%22legend90d0e8%22%3E%3Crect%20width%3D%22112%22%20height%3D%22116%22%20x%3D%220%22%20y%3D%220%22%2F%3E%3C%2FclipPath%3E%3C%2Fdefs%3E%3Cg%20class%3D%22indicatorlayer%22%2F%3E%3Cg%20class%3D%22layer-above%22%3E%3Cg%20class%3D%22imagelayer%22%2F%3E%3Cg%20class%3D%22shapelayer%22%2F%3E%3C%2Fg%3E%3Cg%20class%3D%22infolayer%22%3E%3Cg%20class%3D%22legend%22%20pointer-events%3D%22all%22%20transform%3D%22translate(855%2C30)%22%3E%3Crect%20class%3D%22bg%22%20shape-rendering%3D%22crispEdges%22%20width%3D%22112%22%20height%3D%22116%22%20x%3D%220%22%20y%3D%220%22%20style%3D%22stroke%3A%20rgb(68%2C%2068%2C%2068)%3B%20stroke-opacity%3A%201%3B%20fill%3A%20rgb(255%2C%20255%2C%20255)%3B%20fill-opacity%3A%201%3B%20stroke-width%3A%200px%3B%22%2F%3E%3Cg%20class%3D%22scrollbox%22%20transform%3D%22%22%20clip-path%3D%22url('%23legend90d0e8')%22%3E%3Cg%20class%3D%22groups%22%20transform%3D%22%22%3E%3Cg%20class%3D%22traces%22%20transform%3D%22translate(0%2C14.5)%22%20style%3D%22opacity%3A%201%3B%22%3E%3Ctext%20class%3D%22legendtext%22%20text-anchor%3D%22start%22%20x%3D%2240%22%20y%3D%224.680000000000001%22%20data-unformatted%3D%22Agent%22%20data-math%3D%22N%22%20style%3D%22font-family%3A%20%26quot%3BOpen%20Sans%26quot%3B%2C%20verdana%2C%20arial%2C%20sans-serif%3B%20font-size%3A%2012px%3B%20fill%3A%20rgb(89%2C%2089%2C%2089)%3B%20fill-opacity%3A%201%3B%20white-space%3A%20pre%3B%22%3EAgent%3C%2Ftext%3E%3Cg%20class%3D%22layers%22%20style%3D%22opacity%3A%201%3B%22%3E%3Cg%20class%3D%22legendfill%22%2F%3E%3Cg%20class%3D%22legendlines%22%2F%3E%3Cg%20class%3D%22legendsymbols%22%3E%3Cg%20class%3D%22legendpoints%22%3E%3Cpath%20class%3D%22legendundefined%22%20d%3D%22M6%2C6H-6V-6H6Z%22%20transform%3D%22translate(20%2C0)%22%20style%3D%22stroke-width%3A%200px%3B%20fill%3A%20rgb(78%2C%20121%2C%20167)%3B%20fill-opacity%3A%201%3B%22%2F%3E%3C%2Fg%3E%3C%2Fg%3E%3C%2Fg%3E%3Crect%20class%3D%22legendtoggle%22%20pointer-events%3D%22all%22%20x%3D%220%22%20y%3D%22-9.5%22%20width%3D%22106.98906707763672%22%20height%3D%2219%22%20style%3D%22cursor%3A%20pointer%3B%20fill%3A%20rgb(0%2C%200%2C%200)%3B%20fill-opacity%3A%200%3B%22%2F%3E%3C%2Fg%3E%3C%2Fg%3E%3Cg%20class%3D%22groups%22%20transform%3D%22translate(0%2C10)%22%3E%3Cg%20class%3D%22traces%22%20transform%3D%22translate(0%2C33.5)%22%20style%3D%22opacity%3A%201%3B%22%3E%3Ctext%20class%3D%22legendtext%22%20text-anchor%3D%22start%22%20x%3D%2240%22%20y%3D%224.680000000000001%22%20data-unformatted%3D%22Branch%22%20data-math%3D%22N%22%20style%3D%22font-family%3A%20%26quot%3BOpen%20Sans%26quot%3B%2C%20verdana%2C%20arial%2C%20sans-serif%3B%20font-size%3A%2012px%3B%20fill%3A%20rgb(89%2C%2089%2C%2089)%3B%20fill-opacity%3A%201%3B%20white-space%3A%20pre%3B%22%3EBranch%3C%2Ftext%3E%3Cg%20class%3D%22layers%22%20style%3D%22opacity%3A%201%3B%22%3E%3Cg%20class%3D%22legendfill%22%2F%3E%3Cg%20class%3D%22legendlines%22%2F%3E%3Cg%20class%3D%22legendsymbols%22%3E%3Cg%20class%3D%22legendpoints%22%3E%3Cpath%20class%3D%22legendundefined%22%20d%3D%22M6%2C6H-6V-6H6Z%22%20transform%3D%22translate(20%2C0)%22%20style%3D%22stroke-width%3A%200px%3B%20fill%3A%20rgb(242%2C%20142%2C%2044)%3B%20fill-opacity%3A%201%3B%22%2F%3E%3C%2Fg%3E%3C%2Fg%3E%3C%2Fg%3E%3Crect%20class%3D%22legendtoggle%22%20pointer-events%3D%22all%22%20x%3D%220%22%20y%3D%22-9.5%22%20width%3D%22106.98906707763672%22%20height%3D%2219%22%20style%3D%22cursor%3A%20pointer%3B%20fill%3A%20rgb(0%2C%200%2C%200)%3B%20fill-opacity%3A%200%3B%22%2F%3E%3C%2Fg%3E%3C%2Fg%3E%3Cg%20class%3D%22groups%22%20transform%3D%22translate(0%2C20)%22%3E%3Cg%20class%3D%22traces%22%20transform%3D%22translate(0%2C52.5)%22%20style%3D%22opacity%3A%201%3B%22%3E%3Ctext%20class%3D%22legendtext%22%20text-anchor%3D%22start%22%20x%3D%2240%22%20y%3D%224.680000000000001%22%20data-unformatted%3D%22Call%20Center%22%20data-math%3D%22N%22%20style%3D%22font-family%3A%20%26quot%3BOpen%20Sans%26quot%3B%2C%20verdana%2C%20arial%2C%20sans-serif%3B%20font-size%3A%2012px%3B%20fill%3A%20rgb(89%2C%2089%2C%2089)%3B%20fill-opacity%3A%201%3B%20white-space%3A%20pre%3B%22%3ECall%20Center%3C%2Ftext%3E%3Cg%20class%3D%22layers%22%20style%3D%22opacity%3A%201%3B%22%3E%3Cg%20class%3D%22legendfill%22%2F%3E%3Cg%20class%3D%22legendlines%22%2F%3E%3Cg%20class%3D%22legendsymbols%22%3E%3Cg%20class%3D%22legendpoints%22%3E%3Cpath%20class%3D%22legendundefined%22%20d%3D%22M6%2C6H-6V-6H6Z%22%20transform%3D%22translate(20%2C0)%22%20style%3D%22stroke-width%3A%200px%3B%20fill%3A%20rgb(225%2C%2087%2C%2089)%3B%20fill-opacity%3A%201%3B%22%2F%3E%3C%2Fg%3E%3C%2Fg%3E%3C%2Fg%3E%3Crect%20class%3D%22legendtoggle%22%20pointer-events%3D%22all%22%20x%3D%220%22%20y%3D%22-9.5%22%20width%3D%22106.98906707763672%22%20height%3D%2219%22%20style%3D%22cursor%3A%20pointer%3B%20fill%3A%20rgb(0%2C%200%2C%200)%3B%20fill-opacity%3A%200%3B%22%2F%3E%3C%2Fg%3E%3C%2Fg%3E%3Cg%20class%3D%22groups%22%20transform%3D%22translate(0%2C30)%22%3E%3Cg%20class%3D%22traces%22%20transform%3D%22translate(0%2C71.5)%22%20style%3D%22opacity%3A%201%3B%22%3E%3Ctext%20class%3D%22legendtext%22%20text-anchor%3D%22start%22%20x%3D%2240%22%20y%3D%224.680000000000001%22%20data-unformatted%3D%22Web%22%20data-math%3D%22N%22%20style%3D%22font-family%3A%20%26quot%3BOpen%20Sans%26quot%3B%2C%20verdana%2C%20arial%2C%20sans-serif%3B%20font-size%3A%2012px%3B%20fill%3A%20rgb(89%2C%2089%2C%2089)%3B%20fill-opacity%3A%201%3B%20white-space%3A%20pre%3B%22%3EWeb%3C%2Ftext%3E%3Cg%20class%3D%22layers%22%20style%3D%22opacity%3A%201%3B%22%3E%3Cg%20class%3D%22legendfill%22%2F%3E%3Cg%20class%3D%22legendlines%22%2F%3E%3Cg%20class%3D%22legendsymbols%22%3E%3Cg%20class%3D%22legendpoints%22%3E%3Cpath%20class%3D%22legendundefined%22%20d%3D%22M6%2C6H-6V-6H6Z%22%20transform%3D%22translate(20%2C0)%22%20style%3D%22stroke-width%3A%200px%3B%20fill%3A%20rgb(118%2C%20183%2C%20178)%3B%20fill-opacity%3A%201%3B%22%2F%3E%3C%2Fg%3E%3C%2Fg%3E%3C%2Fg%3E%3Crect%20class%3D%22legendtoggle%22%20pointer-events%3D%22all%22%20x%3D%220%22%20y%3D%22-9.5%22%20width%3D%22106.98906707763672%22%20height%3D%2219%22%20style%3D%22cursor%3A%20pointer%3B%20fill%3A%20rgb(0%2C%200%2C%200)%3B%20fill-opacity%3A%200%3B%22%2F%3E%3C%2Fg%3E%3C%2Fg%3E%3C%2Fg%3E%3Crect%20class%3D%22scrollbar%22%20rx%3D%2220%22%20ry%3D%223%22%20width%3D%220%22%20height%3D%220%22%20x%3D%220%22%20y%3D%220%22%20style%3D%22fill%3A%20rgb(128%2C%20139%2C%20164)%3B%20fill-opacity%3A%201%3B%22%2F%3E%3C%2Fg%3E%3Cg%20class%3D%22g-gtitle%22%2F%3E%3Cg%20class%3D%22g-xtitle%22%3E%3Ctext%20class%3D%22xtitle%22%20x%3D%22188.57142857142858%22%20y%3D%22429%22%20text-anchor%3D%22middle%22%20data-unformatted%3D%22Base%22%20data-math%3D%22N%22%20style%3D%22font-family%3A%20%26quot%3BOpen%20Sans%26quot%3B%2C%20verdana%2C%20arial%2C%20sans-serif%3B%20font-size%3A%2014px%3B%20fill%3A%20rgb(89%2C%2089%2C%2089)%3B%20opacity%3A%201%3B%20font-weight%3A%20normal%3B%20white-space%3A%20pre%3B%22%3EBase%3C%2Ftext%3E%3C%2Fg%3E%3Cg%20class%3D%22g-x2title%22%3E%3Ctext%20class%3D%22x2title%22%20x%3D%22460%22%20y%3D%22429%22%20text-anchor%3D%22middle%22%20data-unformatted%3D%22Geographical%20Improvements%22%20data-math%3D%22N%22%20style%3D%22font-family%3A%20%26quot%3BOpen%20Sans%26quot%3B%2C%20verdana%2C%20arial%2C%20sans-serif%3B%20font-size%3A%2014px%3B%20fill%3A%20rgb(89%2C%2089%2C%2089)%3B%20opacity%3A%201%3B%20font-weight%3A%20normal%3B%20white-space%3A%20pre%3B%22%3EGeographical%20Improvements%3C%2Ftext%3E%3C%2Fg%3E%3Cg%20class%3D%22g-x3title%22%3E%3Ctext%20class%3D%22x3title%22%20x%3D%22731.4285714285714%22%20y%3D%22429%22%20text-anchor%3D%22middle%22%20data-unformatted%3D%22Personal%20Auto%20Boost%22%20data-math%3D%22N%22%20style%3D%22font-family%3A%20%26quot%3BOpen%20Sans%26quot%3B%2C%20verdana%2C%20arial%2C%20sans-serif%3B%20font-size%3A%2014px%3B%20fill%3A%20rgb(89%2C%2089%2C%2089)%3B%20opacity%3A%201%3B%20font-weight%3A%20normal%3B%20white-space%3A%20pre%3B%22%3EPersonal%20Auto%20Boost%3C%2Ftext%3E%3C%2Fg%3E%3Cg%20class%3D%22g-ytitle%22%2F%3E%3C%2Fg%3E%3Cg%20class%3D%22menulayer%22%2F%3E%3Cg%20class%3D%22zoomlayer%22%2F%3E%3Cg%20class%3D%22hoverlayer%22%2F%3E%3C%2Fsvg%3E\">"
      ],
      "text/plain": [
       "Open the notebook in JupyterLab with the atoti extension enabled to build this widget."
      ]
     },
     "metadata": {},
     "output_type": "display_data"
    }
   ],
   "source": [
    "session.visualize(\"Scenarios: Sales propotion by channel and coverage type\")"
   ]
  },
  {
   "cell_type": "code",
   "execution_count": 43,
   "id": "1d9d11d8-8dab-4283-a401-f9964a84307a",
   "metadata": {
    "atoti": {
     "height": 676,
     "widget": {
      "filters": [
       "{[Epoch].[Epoch].[Base], [Epoch].[Epoch].[Geographical Improvements], [Epoch].[Epoch].[Pareto price change]}"
      ],
      "mapping": {
       "groupBy": [
        "[Epoch].[Epoch].[Branch]"
       ],
       "horizontalSubplots": [
        "[predictions].[Location_Code].[Location_Code]"
       ],
       "splitBy": [
        "[predictions].[State].[State]"
       ],
       "values": [
        "[Measures].[revenue_realised]"
       ],
       "verticalSubplots": []
      },
      "name": "Sales by State",
      "query": {
       "mdx": "SELECT NON EMPTY Crossjoin(Hierarchize(Descendants({[predictions].[Location_Code].[AllMember]}, 1, SELF_AND_BEFORE)), {[Measures].[revenue_realised]}) ON COLUMNS, NON EMPTY Order(Crossjoin([Epoch].[Epoch].[Branch].Members, Hierarchize(Descendants({[predictions].[State].[AllMember]}, 1, SELF_AND_BEFORE))), [Measures].[revenue_realised], BASC) ON ROWS FROM [predictions] CELL PROPERTIES VALUE, FORMATTED_VALUE, BACK_COLOR, FORE_COLOR, FONT_FLAGS",
       "updateMode": "once"
      },
      "serverKey": "default",
      "widgetKey": "plotly-tree-map"
     }
    },
    "tags": []
   },
   "outputs": [
    {
     "data": {
      "application/vnd.atoti.widget.v0+json": {
       "name": "Scenarios: Revenue realised by State and location code",
       "sessionId": "1648807936_ZMGVTD",
       "sessionLocation": {
        "https": null,
        "port": 62008
       },
       "widgetCreationCode": "session.visualize()"
      },
      "text/html": [
       "<img src=\"data:image/svg+xml;charset=utf8,%3C%3Fxml%20version%3D%221.0%22%20standalone%3D%22no%22%3F%3E%3Csvg%20xmlns%3D%22http%3A%2F%2Fwww.w3.org%2F2000%2Fsvg%22%20height%3D%22668%22%20width%3D%22967%22%3E%3CforeignObject%20width%3D%22100%25%22%20height%3D%22100%25%22%20x%3D%220%22%20y%3D%220%22%3E%3Cstyle%20xmlns%3D%22http%3A%2F%2Fwww.w3.org%2F1999%2Fxhtml%22%20type%3D%22text%2Fcss%22%3E*%2C%20%3A%3Abefore%2C%20%3A%3Aafter%20%7Bbox-sizing%3A%20unset%7D%0Aa%20%7Bcolor%3A%20unset%3B%20text-decoration-line%3A%20unset%3B%20text-decoration-thickness%3A%20unset%3B%20text-decoration-style%3A%20unset%3B%20text-decoration-color%3A%20unset%7D%0A.ant-root%20%5Bclass%5E%3D%22ant-%22%5D%2C%20.ant-root%20%5Bclass*%3D%22ant-%22%5D%2C%20.ant-root%20%5Bclass%5E%3D%22ant-%22%5D%20*%2C%20.ant-root%20%5Bclass*%3D%22ant-%22%5D%20*%2C%20.ant-root%20%5Bclass%5E%3D%22ant-%22%5D%20%3A%3Abefore%2C%20.ant-root%20%5Bclass*%3D%22ant-%22%5D%20%3A%3Abefore%2C%20.ant-root%20%5Bclass%5E%3D%22ant-%22%5D%20%3A%3Aafter%2C%20.ant-root%20%5Bclass*%3D%22ant-%22%5D%20%3A%3Aafter%20%7Bbox-sizing%3A%20border-box%7D%0A.ant-root%20html%2C%20.ant-root%20%7Bwidth%3A%20100%25%3B%20height%3A%20100%25%7D%0A.ant-root%20*%2C%20.ant-root%20%3A%3Abefore%2C%20.ant-root%20%3A%3Aafter%20%7Bbox-sizing%3A%20border-box%7D%0A.ant-root%20%7Bmargin-top%3A%200px%3B%20margin-right%3A%200px%3B%20margin-bottom%3A%200px%3B%20margin-left%3A%200px%3B%20color%3A%20rgb(89%2C%2089%2C%2089)%3B%20font-size%3A%2012px%3B%20font-family%3A%20-apple-system%2C%20BlinkMacSystemFont%2C%20%22Segoe%20UI%22%2C%20Roboto%2C%20%22Helvetica%20Neue%22%2C%20Arial%2C%20%22Noto%20Sans%22%2C%20sans-serif%2C%20%22Apple%20Color%20Emoji%22%2C%20%22Segoe%20UI%20Emoji%22%2C%20%22Segoe%20UI%20Symbol%22%2C%20%22Noto%20Color%20Emoji%22%3B%20font-variant-ligatures%3A%20normal%3B%20font-variant-numeric%3A%20tabular-nums%3B%20font-variant-east-asian%3A%20normal%3B%20font-variant-caps%3A%20normal%3B%20line-height%3A%201.66667%3B%20background-color%3A%20rgb(255%2C%20255%2C%20255)%3B%20--antd-wave-shadow-color%3A%20%20%231890FF%3B%20--scroll-bar%3A%20%200%7D%0A.ant-root%20a%20%7Bcolor%3A%20rgb(24%2C%20144%2C%20255)%3B%20text-decoration-line%3A%20none%3B%20text-decoration-thickness%3A%20initial%3B%20text-decoration-style%3A%20initial%3B%20text-decoration-color%3A%20initial%3B%20background-color%3A%20transparent%3B%20outline-color%3A%20initial%3B%20outline-style%3A%20none%3B%20outline-width%3A%20initial%3B%20cursor%3A%20pointer%3B%20transition-duration%3A%200.3s%3B%20transition-timing-function%3A%20ease%3B%20transition-delay%3A%200s%3B%20transition-property%3A%20color%7D%0A.ant-root%20svg%3Anot(%3Aroot)%20%7Boverflow-x%3A%20hidden%3B%20overflow-y%3A%20hidden%7D%0A.ant-root%20a%2C%20.ant-root%20area%2C%20.ant-root%20button%2C%20.ant-root%20%5Brole%3D%22button%22%5D%2C%20.ant-root%20input%3Anot(%5Btype%3D%22range%22%5D)%2C%20.ant-root%20label%2C%20.ant-root%20select%2C%20.ant-root%20summary%2C%20.ant-root%20textarea%20%7Btouch-action%3A%20manipulation%7D%0A.ant-root%20.ant-spin%20%7Bbox-sizing%3A%20border-box%3B%20margin-top%3A%200px%3B%20margin-right%3A%200px%3B%20margin-bottom%3A%200px%3B%20margin-left%3A%200px%3B%20padding-top%3A%200px%3B%20padding-right%3A%200px%3B%20padding-bottom%3A%200px%3B%20padding-left%3A%200px%3B%20font-size%3A%2012px%3B%20font-variant-ligatures%3A%20normal%3B%20font-variant-numeric%3A%20tabular-nums%3B%20font-variant-east-asian%3A%20normal%3B%20font-variant-caps%3A%20normal%3B%20line-height%3A%201.66667%3B%20list-style-position%3A%20initial%3B%20list-style-image%3A%20initial%3B%20list-style-type%3A%20none%3B%20position%3A%20absolute%3B%20display%3A%20none%3B%20color%3A%20rgb(24%2C%20144%2C%20255)%3B%20text-align%3A%20center%3B%20vertical-align%3A%20middle%3B%20opacity%3A%200%3B%20transition-duration%3A%200.3s%3B%20transition-timing-function%3A%20cubic-bezier(0.78%2C%200.14%2C%200.15%2C%200.86)%3B%20transition-delay%3A%200s%3B%20transition-property%3A%20transform%7D%0A.ant-root%20.ant-spin-spinning%20%7Bposition%3A%20static%3B%20display%3A%20inline-block%3B%20opacity%3A%201%7D%0A.ant-root%20.ant-spin-dot%20%7Bposition%3A%20relative%3B%20display%3A%20inline-block%3B%20font-size%3A%2020px%3B%20width%3A%201em%3B%20height%3A%201em%7D%0A.ant-root%20.ant-spin-dot-item%20%7Bposition%3A%20absolute%3B%20display%3A%20block%3B%20width%3A%209px%3B%20height%3A%209px%3B%20background-color%3A%20rgb(24%2C%20144%2C%20255)%3B%20border-top-left-radius%3A%20100%25%3B%20border-top-right-radius%3A%20100%25%3B%20border-bottom-right-radius%3A%20100%25%3B%20border-bottom-left-radius%3A%20100%25%3B%20transform%3A%20scale(0.75)%3B%20transform-origin%3A%2050%25%2050%25%3B%20opacity%3A%200.3%3B%20animation-duration%3A%201s%3B%20animation-timing-function%3A%20linear%3B%20animation-delay%3A%200s%3B%20animation-iteration-count%3A%20infinite%3B%20animation-direction%3A%20alternate%3B%20animation-fill-mode%3A%20none%3B%20animation-play-state%3A%20running%3B%20animation-name%3A%20antSpinMove%7D%0A.ant-root%20.ant-spin-dot-item%3Anth-child(1)%20%7Btop%3A%200px%3B%20left%3A%200px%7D%0A.ant-root%20.ant-spin-dot-item%3Anth-child(2)%20%7Btop%3A%200px%3B%20right%3A%200px%3B%20animation-delay%3A%200.4s%7D%0A.ant-root%20.ant-spin-dot-item%3Anth-child(3)%20%7Bright%3A%200px%3B%20bottom%3A%200px%3B%20animation-delay%3A%200.8s%7D%0A.ant-root%20.ant-spin-dot-item%3Anth-child(4)%20%7Bbottom%3A%200px%3B%20left%3A%200px%3B%20animation-delay%3A%201.2s%7D%0A.ant-root%20.ant-spin-dot-spin%20%7Btransform%3A%20rotate(45deg)%3B%20animation-duration%3A%201.2s%3B%20animation-timing-function%3A%20linear%3B%20animation-delay%3A%200s%3B%20animation-iteration-count%3A%20infinite%3B%20animation-direction%3A%20normal%3B%20animation-fill-mode%3A%20none%3B%20animation-play-state%3A%20running%3B%20animation-name%3A%20antRotate%7D%0A.ant-root%20.ant-spin-lg%20.ant-spin-dot%20%7Bfont-size%3A%2032px%7D%0A.ant-root%20.ant-spin-lg%20.ant-spin-dot%20i%20%7Bwidth%3A%2014px%3B%20height%3A%2014px%7D%0A.css-12ebr42-AWidget%20%7Bheight%3A%20100%25%7D%0A.css-6bqf7m-Spinner-ChartWithSpinner%20%7Bposition%3A%20relative%3B%20height%3A%20100%25%7D%0A.css-ck2xzt-Spinner%20%7B-webkit-box-align%3A%20center%3B%20align-items%3A%20center%3B%20background-image%3A%20initial%3B%20background-position-x%3A%20initial%3B%20background-position-y%3A%20initial%3B%20background-size%3A%20initial%3B%20background-repeat-x%3A%20initial%3B%20background-repeat-y%3A%20initial%3B%20background-attachment%3A%20initial%3B%20background-origin%3A%20initial%3B%20background-clip%3A%20initial%3B%20background-color%3A%20transparent%3B%20display%3A%20flex%3B%20height%3A%20100%25%3B%20-webkit-box-pack%3A%20center%3B%20justify-content%3A%20center%3B%20position%3A%20absolute%3B%20transition-duration%3A%20300ms%3B%20transition-timing-function%3A%20ease%3B%20transition-delay%3A%200s%3B%20transition-property%3A%20opacity%3B%20width%3A%20100%25%3B%20opacity%3A%200%3B%20pointer-events%3A%20none%3B%20z-index%3A%202%7D%0A.css-1u8fyhz-ChartWithMetaData%20%7Bheight%3A%20100%25%7D%0A.css-znpfyj-Plot%20%7Bheight%3A%20100%25%3B%20position%3A%20relative%3B%20width%3A%20100%25%7D%0A.css-mb8m0v-Plot%20%7Bposition%3A%20absolute%3B%20top%3A%200px%3B%20bottom%3A%200px%3B%20left%3A%200px%3B%20right%3A%200px%7D%0A.css-mb8m0v-Plot%20.js-plotly-plot%20%7Bheight%3A%20100%25%7D%0A.js-plotly-plot%20.plotly%20.modebar-btn%20svg%20%7Bposition%3A%20relative%3B%20top%3A%202px%7D%0A.js-plotly-plot%20.plotly%20.modebar-btn%20%7Bposition%3A%20relative%3B%20font-size%3A%2016px%3B%20padding-top%3A%203px%3B%20padding-right%3A%204px%3B%20padding-bottom%3A%203px%3B%20padding-left%3A%204px%3B%20height%3A%2022px%3B%20cursor%3A%20pointer%3B%20line-height%3A%20normal%3B%20box-sizing%3A%20border-box%7D%0A.js-plotly-plot%20.plotly%20.modebar-group%20%7Bfloat%3A%20left%3B%20display%3A%20inline-block%3B%20box-sizing%3A%20border-box%3B%20padding-left%3A%208px%3B%20position%3A%20relative%3B%20vertical-align%3A%20middle%3B%20white-space%3A%20nowrap%7D%0A.js-plotly-plot%20.plotly%20.modebar--hover%20%26gt%3B%20%3Anot(.watermark)%20%7Bopacity%3A%200%3B%20transition-duration%3A%200.3s%3B%20transition-timing-function%3A%20ease%3B%20transition-delay%3A%200s%3B%20transition-property%3A%20opacity%7D%0A.js-plotly-plot%20.plotly%20.ease-bg%20%7Btransition-duration%3A%200.3s%3B%20transition-timing-function%3A%20ease%3B%20transition-delay%3A%200s%3B%20transition-property%3A%20background-color%7D%0A.js-plotly-plot%20.plotly%20.modebar%20%7Bposition%3A%20absolute%3B%20top%3A%202px%3B%20right%3A%202px%7D%0A.js-plotly-plot%20.plotly%20.cursor-pointer%20%7Bcursor%3A%20pointer%7D%0A.js-plotly-plot%20.plotly%20.main-svg%20.draglayer%20%7Bpointer-events%3A%20all%7D%0A.js-plotly-plot%20.plotly%20.main-svg%20%7Bposition%3A%20absolute%3B%20top%3A%200px%3B%20left%3A%200px%3B%20pointer-events%3A%20none%7D%0A.js-plotly-plot%20.plotly%20svg%20%7Boverflow-x%3A%20hidden%3B%20overflow-y%3A%20hidden%7D%0A.js-plotly-plot%20.plotly%20.user-select-none%20%7Buser-select%3A%20none%7D%0A.js-plotly-plot%20.plotly%20a%20%7Btext-decoration-line%3A%20none%3B%20text-decoration-thickness%3A%20initial%3B%20text-decoration-style%3A%20initial%3B%20text-decoration-color%3A%20initial%7D%0A.js-plotly-plot%20.plotly%2C%20.js-plotly-plot%20.plotly%20div%20%7Bdirection%3A%20ltr%3B%20font-family%3A%20%22Open%20Sans%22%2C%20verdana%2C%20arial%2C%20sans-serif%3B%20margin-top%3A%200px%3B%20margin-right%3A%200px%3B%20margin-bottom%3A%200px%3B%20margin-left%3A%200px%3B%20padding-top%3A%200px%3B%20padding-right%3A%200px%3B%20padding-bottom%3A%200px%3B%20padding-left%3A%200px%7D%0A%23modebar-4dd5e6%20.modebar-btn%20.icon%20path%20%7Bfill%3A%20rgba(68%2C%2068%2C%2068%2C%200.3)%7D%0A*%20%7B-ms-overflow-style%3A%20none%3B%20scrollbar-width%3A%20none%7D%0A*%3A%3A-webkit-scrollbar%20%7Bdisplay%3A%20none%7D%0A.atoti-hidden-in-snapshot%20%7Bdisplay%3A%20none%7D%3C%2Fstyle%3E%3Cdiv%20xmlns%3D%22http%3A%2F%2Fwww.w3.org%2F1999%2Fxhtml%22%20style%3D%22height%3A%20668px%3B%20width%3A%20967px%3B%22%3E%3Cdiv%20class%3D%22ant-root%20css-0%22%3E%3Cdiv%20class%3D%22ant-dropdown-trigger%20css-12ebr42-AWidget%22%3E%3Cdiv%20class%3D%22css-6bqf7m-Spinner-ChartWithSpinner%22%3E%3Cdiv%20class%3D%22css-ck2xzt-Spinner%22%3E%3Cdiv%20class%3D%22ant-spin%20ant-spin-lg%20ant-spin-spinning%22%3E%3Cspan%20class%3D%22ant-spin-dot%20ant-spin-dot-spin%22%3E%3Ci%20class%3D%22ant-spin-dot-item%22%3E%3C%2Fi%3E%3Ci%20class%3D%22ant-spin-dot-item%22%3E%3C%2Fi%3E%3Ci%20class%3D%22ant-spin-dot-item%22%3E%3C%2Fi%3E%3Ci%20class%3D%22ant-spin-dot-item%22%3E%3C%2Fi%3E%3C%2Fspan%3E%3C%2Fdiv%3E%3C%2Fdiv%3E%3Cdiv%20class%3D%22css-1u8fyhz-ChartWithMetaData%22%3E%3Cdiv%20tabindex%3D%220%22%20class%3D%22css-znpfyj-Plot%22%3E%3Cdiv%20class%3D%22css-mb8m0v-Plot%22%3E%3Cdiv%20style%3D%22position%3A%20relative%3B%20display%3A%20inline-block%3B%22%20class%3D%22js-plotly-plot%22%3E%3Cdiv%20class%3D%22plot-container%20plotly%22%3E%3Cdiv%20class%3D%22user-select-none%20svg-container%22%20style%3D%22position%3A%20relative%3B%20width%3A%20967px%3B%20height%3A%20668px%3B%22%3E%3Csvg%20class%3D%22main-svg%22%20xmlns%3D%22http%3A%2F%2Fwww.w3.org%2F2000%2Fsvg%22%20xmlns%3Axlink%3D%22http%3A%2F%2Fwww.w3.org%2F1999%2Fxlink%22%20width%3D%22967%22%20height%3D%22668%22%20style%3D%22background%3A%20rgb(255%2C%20255%2C%20255)%3B%22%3E%3Cdefs%20id%3D%22defs-4dd5e6%22%3E%3Cg%20class%3D%22clips%22%2F%3E%3Cg%20class%3D%22gradients%22%2F%3E%3C%2Fdefs%3E%3Cg%20class%3D%22bglayer%22%2F%3E%3Cg%20class%3D%22draglayer%22%2F%3E%3Cg%20class%3D%22layer-below%22%3E%3Cg%20class%3D%22imagelayer%22%2F%3E%3Cg%20class%3D%22shapelayer%22%2F%3E%3C%2Fg%3E%3Cg%20class%3D%22cartesianlayer%22%2F%3E%3Cg%20class%3D%22polarlayer%22%2F%3E%3Cg%20class%3D%22ternarylayer%22%2F%3E%3Cg%20class%3D%22geolayer%22%2F%3E%3Cg%20class%3D%22funnelarealayer%22%2F%3E%3Cg%20class%3D%22pielayer%22%2F%3E%3Cg%20class%3D%22treemaplayer%22%3E%3Cg%20class%3D%22trace%20treemap%22%20style%3D%22opacity%3A%201%3B%22%3E%3Cg%20class%3D%22slice%20cursor-pointer%22%3E%3Cpath%20class%3D%22surface%22%20d%3D%22M80%2C30L333.42857142857144%2C30L333.42857142857144%2C588L80%2C588Z%22%20style%3D%22pointer-events%3A%20all%3B%20stroke-width%3A%200%3B%20fill%3A%20rgb(0%2C%200%2C%200)%3B%20fill-opacity%3A%200%3B%20stroke%3A%20rgb(0%2C%200%2C%200)%3B%20stroke-opacity%3A%200%3B%20opacity%3A%20100%3B%22%2F%3E%3Cg%20class%3D%22slicetext%22%3E%3Ctext%20data-notex%3D%221%22%20class%3D%22slicetext%22%20text-anchor%3D%22start%22%20data-unformatted%3D%22Rural%22%20data-math%3D%22N%22%20x%3D%220%22%20y%3D%220%22%20style%3D%22font-family%3A%20%26quot%3BOpen%20Sans%26quot%3B%2C%20verdana%2C%20arial%2C%20sans-serif%3B%20font-size%3A%2012px%3B%20fill%3A%20rgb(89%2C%2089%2C%2089)%3B%20fill-opacity%3A%201%3B%20white-space%3A%20pre%3B%22%20transform%3D%22translate(86%2C45)%22%3ERural%3C%2Ftext%3E%3C%2Fg%3E%3C%2Fg%3E%3Cg%20class%3D%22slice%20cursor-pointer%22%3E%3Cpath%20class%3D%22surface%22%20d%3D%22M86%2C54L327.42857142857144%2C54L327.42857142857144%2C251.46671058779813L86%2C251.46671058779813Z%22%20style%3D%22pointer-events%3A%20all%3B%20stroke-width%3A%201%3B%20fill%3A%20rgb(111%2C%20146%2C%20184)%3B%20fill-opacity%3A%201%3B%20stroke%3A%20rgb(255%2C%20255%2C%20255)%3B%20stroke-opacity%3A%201%3B%20opacity%3A%201%3B%22%2F%3E%3Cg%20class%3D%22slicetext%22%3E%3Ctext%20data-notex%3D%221%22%20class%3D%22slicetext%22%20text-anchor%3D%22start%22%20data-unformatted%3D%22Pareto%20price%20change%22%20data-math%3D%22N%22%20x%3D%220%22%20y%3D%220%22%20style%3D%22font-family%3A%20%26quot%3BOpen%20Sans%26quot%3B%2C%20verdana%2C%20arial%2C%20sans-serif%3B%20font-size%3A%2012px%3B%20fill%3A%20rgb(255%2C%20255%2C%20255)%3B%20fill-opacity%3A%201%3B%20white-space%3A%20pre%3B%22%20transform%3D%22translate(92%2C69)%22%3EPareto%20price%20change%3C%2Ftext%3E%3C%2Fg%3E%3C%2Fg%3E%3Cg%20class%3D%22slice%20cursor-pointer%22%3E%3Cpath%20class%3D%22surface%22%20d%3D%22M86%2C254.46671058779813L327.42857142857144%2C254.46671058779813L327.42857142857144%2C420.9872780519336L86%2C420.9872780519336Z%22%20style%3D%22pointer-events%3A%20all%3B%20stroke-width%3A%201%3B%20fill%3A%20rgb(245%2C%20163%2C%2084)%3B%20fill-opacity%3A%201%3B%20stroke%3A%20rgb(255%2C%20255%2C%20255)%3B%20stroke-opacity%3A%201%3B%20opacity%3A%201%3B%22%2F%3E%3Cg%20class%3D%22slicetext%22%3E%3Ctext%20data-notex%3D%221%22%20class%3D%22slicetext%22%20text-anchor%3D%22start%22%20data-unformatted%3D%22Base%22%20data-math%3D%22N%22%20x%3D%220%22%20y%3D%220%22%20style%3D%22font-family%3A%20%26quot%3BOpen%20Sans%26quot%3B%2C%20verdana%2C%20arial%2C%20sans-serif%3B%20font-size%3A%2012px%3B%20fill%3A%20rgb(68%2C%2068%2C%2068)%3B%20fill-opacity%3A%201%3B%20white-space%3A%20pre%3B%22%20transform%3D%22translate(92%2C269.46671058779816)%22%3EBase%3C%2Ftext%3E%3C%2Fg%3E%3C%2Fg%3E%3Cg%20class%3D%22slice%20cursor-pointer%22%3E%3Cpath%20class%3D%22surface%22%20d%3D%22M86%2C423.9872780519336L327.4285714285715%2C423.9872780519336L327.4285714285715%2C582L86%2C582Z%22%20style%3D%22pointer-events%3A%20all%3B%20stroke-width%3A%201%3B%20fill%3A%20rgb(231%2C%20119%2C%20120)%3B%20fill-opacity%3A%201%3B%20stroke%3A%20rgb(255%2C%20255%2C%20255)%3B%20stroke-opacity%3A%201%3B%20opacity%3A%201%3B%22%2F%3E%3Cg%20class%3D%22slicetext%22%3E%3Ctext%20data-notex%3D%221%22%20class%3D%22slicetext%22%20text-anchor%3D%22start%22%20data-unformatted%3D%22Geographical%20Improvements%22%20data-math%3D%22N%22%20x%3D%220%22%20y%3D%220%22%20style%3D%22font-family%3A%20%26quot%3BOpen%20Sans%26quot%3B%2C%20verdana%2C%20arial%2C%20sans-serif%3B%20font-size%3A%2012px%3B%20fill%3A%20rgb(68%2C%2068%2C%2068)%3B%20fill-opacity%3A%201%3B%20white-space%3A%20pre%3B%22%20transform%3D%22translate(92%2C438.9872780519336)%22%3EGeographical%20Improvements%3C%2Ftext%3E%3C%2Fg%3E%3C%2Fg%3E%3Cg%20class%3D%22slice%20cursor-pointer%22%3E%3Cpath%20class%3D%22surface%22%20d%3D%22M92%2C78L187.67909616260846%2C78L187.67909616260846%2C163.51331448190058L92%2C163.51331448190058Z%22%20style%3D%22pointer-events%3A%20all%3B%20stroke-width%3A%201%3B%20fill%3A%20rgb(78%2C%20121%2C%20167)%3B%20fill-opacity%3A%201%3B%20stroke%3A%20rgb(255%2C%20255%2C%20255)%3B%20stroke-opacity%3A%201%3B%20opacity%3A%201%3B%22%2F%3E%3Cg%20class%3D%22slicetext%22%3E%3Ctext%20data-notex%3D%221%22%20class%3D%22slicetext%22%20text-anchor%3D%22start%22%20data-unformatted%3D%22Oregon%22%20data-math%3D%22N%22%20x%3D%220%22%20y%3D%220%22%20style%3D%22font-family%3A%20%26quot%3BOpen%20Sans%26quot%3B%2C%20verdana%2C%20arial%2C%20sans-serif%3B%20font-size%3A%2012px%3B%20fill%3A%20rgb(255%2C%20255%2C%20255)%3B%20fill-opacity%3A%201%3B%20white-space%3A%20pre%3B%22%20transform%3D%22translate(95%2C93)%22%3EOregon%3C%2Ftext%3E%3C%2Fg%3E%3C%2Fg%3E%3Cg%20class%3D%22slice%20cursor-pointer%22%3E%3Cpath%20class%3D%22surface%22%20d%3D%22M92%2C166.51331448190058L187.67909616260846%2C166.51331448190058L187.67909616260846%2C245.4667105877981L92%2C245.4667105877981Z%22%20style%3D%22pointer-events%3A%20all%3B%20stroke-width%3A%201%3B%20fill%3A%20rgb(78%2C%20121%2C%20167)%3B%20fill-opacity%3A%201%3B%20stroke%3A%20rgb(255%2C%20255%2C%20255)%3B%20stroke-opacity%3A%201%3B%20opacity%3A%201%3B%22%2F%3E%3Cg%20class%3D%22slicetext%22%3E%3Ctext%20data-notex%3D%221%22%20class%3D%22slicetext%22%20text-anchor%3D%22start%22%20data-unformatted%3D%22California%22%20data-math%3D%22N%22%20x%3D%220%22%20y%3D%220%22%20style%3D%22font-family%3A%20%26quot%3BOpen%20Sans%26quot%3B%2C%20verdana%2C%20arial%2C%20sans-serif%3B%20font-size%3A%2012px%3B%20fill%3A%20rgb(255%2C%20255%2C%20255)%3B%20fill-opacity%3A%201%3B%20white-space%3A%20pre%3B%22%20transform%3D%22translate(95%2C181.51331448190058)%22%3ECalifornia%3C%2Ftext%3E%3C%2Fg%3E%3C%2Fg%3E%3Cg%20class%3D%22slice%20cursor-pointer%22%3E%3Cpath%20class%3D%22surface%22%20d%3D%22M190.67909616260846%2C78L256.8659529758691%2C78L256.8659529758691%2C190.5961018018449L190.67909616260846%2C190.5961018018449Z%22%20style%3D%22pointer-events%3A%20all%3B%20stroke-width%3A%201%3B%20fill%3A%20rgb(78%2C%20121%2C%20167)%3B%20fill-opacity%3A%201%3B%20stroke%3A%20rgb(255%2C%20255%2C%20255)%3B%20stroke-opacity%3A%201%3B%20opacity%3A%201%3B%22%2F%3E%3Cg%20class%3D%22slicetext%22%3E%3Ctext%20data-notex%3D%221%22%20class%3D%22slicetext%22%20text-anchor%3D%22start%22%20data-unformatted%3D%22Arizona%22%20data-math%3D%22N%22%20x%3D%220%22%20y%3D%220%22%20style%3D%22font-family%3A%20%26quot%3BOpen%20Sans%26quot%3B%2C%20verdana%2C%20arial%2C%20sans-serif%3B%20font-size%3A%2012px%3B%20fill%3A%20rgb(255%2C%20255%2C%20255)%3B%20fill-opacity%3A%201%3B%20white-space%3A%20pre%3B%22%20transform%3D%22translate(193.67909616260846%2C93)%22%3EArizona%3C%2Ftext%3E%3C%2Fg%3E%3C%2Fg%3E%3Cg%20class%3D%22slice%20cursor-pointer%22%3E%3Cpath%20class%3D%22surface%22%20d%3D%22M259.8659529758691%2C78L321.42857142857144%2C78L321.42857142857144%2C190.5961018018449L259.8659529758691%2C190.5961018018449Z%22%20style%3D%22pointer-events%3A%20all%3B%20stroke-width%3A%201%3B%20fill%3A%20rgb(78%2C%20121%2C%20167)%3B%20fill-opacity%3A%201%3B%20stroke%3A%20rgb(255%2C%20255%2C%20255)%3B%20stroke-opacity%3A%201%3B%20opacity%3A%201%3B%22%2F%3E%3Cg%20class%3D%22slicetext%22%3E%3Ctext%20data-notex%3D%221%22%20class%3D%22slicetext%22%20text-anchor%3D%22start%22%20data-unformatted%3D%22Washington%22%20data-math%3D%22N%22%20x%3D%220%22%20y%3D%220%22%20style%3D%22font-family%3A%20%26quot%3BOpen%20Sans%26quot%3B%2C%20verdana%2C%20arial%2C%20sans-serif%3B%20font-size%3A%2012px%3B%20fill%3A%20rgb(255%2C%20255%2C%20255)%3B%20fill-opacity%3A%201%3B%20white-space%3A%20pre%3B%22%20transform%3D%22translate(262.8659529758691%2C90.48352965720274)scale(0.7902941381002284)%22%3EWashington%3C%2Ftext%3E%3C%2Fg%3E%3C%2Fg%3E%3Cg%20class%3D%22slice%20cursor-pointer%22%3E%3Cpath%20class%3D%22surface%22%20d%3D%22M190.67909616260846%2C193.5961018018449L321.42857142857156%2C193.5961018018449L321.42857142857156%2C245.46671058779813L190.67909616260846%2C245.46671058779813Z%22%20style%3D%22pointer-events%3A%20all%3B%20stroke-width%3A%201%3B%20fill%3A%20rgb(78%2C%20121%2C%20167)%3B%20fill-opacity%3A%201%3B%20stroke%3A%20rgb(255%2C%20255%2C%20255)%3B%20stroke-opacity%3A%201%3B%20opacity%3A%201%3B%22%2F%3E%3Cg%20class%3D%22slicetext%22%3E%3Ctext%20data-notex%3D%221%22%20class%3D%22slicetext%22%20text-anchor%3D%22start%22%20data-unformatted%3D%22Nevada%22%20data-math%3D%22N%22%20x%3D%220%22%20y%3D%220%22%20style%3D%22font-family%3A%20%26quot%3BOpen%20Sans%26quot%3B%2C%20verdana%2C%20arial%2C%20sans-serif%3B%20font-size%3A%2012px%3B%20fill%3A%20rgb(255%2C%20255%2C%20255)%3B%20fill-opacity%3A%201%3B%20white-space%3A%20pre%3B%22%20transform%3D%22translate(193.67909616260846%2C208.5961018018449)%22%3ENevada%3C%2Ftext%3E%3C%2Fg%3E%3C%2Fg%3E%3Cg%20class%3D%22slice%20cursor-pointer%22%3E%3Cpath%20class%3D%22surface%22%20d%3D%22M92%2C278.46671058779816L187.90410685452827%2C278.46671058779816L187.90410685452827%2C347.7021003360052L92%2C347.7021003360052Z%22%20style%3D%22pointer-events%3A%20all%3B%20stroke-width%3A%201%3B%20fill%3A%20rgb(242%2C%20142%2C%2044)%3B%20fill-opacity%3A%201%3B%20stroke%3A%20rgb(255%2C%20255%2C%20255)%3B%20stroke-opacity%3A%201%3B%20opacity%3A%201%3B%22%2F%3E%3Cg%20class%3D%22slicetext%22%3E%3Ctext%20data-notex%3D%221%22%20class%3D%22slicetext%22%20text-anchor%3D%22start%22%20data-unformatted%3D%22Oregon%22%20data-math%3D%22N%22%20x%3D%220%22%20y%3D%220%22%20style%3D%22font-family%3A%20%26quot%3BOpen%20Sans%26quot%3B%2C%20verdana%2C%20arial%2C%20sans-serif%3B%20font-size%3A%2012px%3B%20fill%3A%20rgb(68%2C%2068%2C%2068)%3B%20fill-opacity%3A%201%3B%20white-space%3A%20pre%3B%22%20transform%3D%22translate(95%2C293.46671058779816)%22%3EOregon%3C%2Ftext%3E%3C%2Fg%3E%3C%2Fg%3E%3Cg%20class%3D%22slice%20cursor-pointer%22%3E%3Cpath%20class%3D%22surface%22%20d%3D%22M92%2C350.7021003360052L187.90410685452827%2C350.7021003360052L187.90410685452827%2C414.9872780519336L92%2C414.9872780519336Z%22%20style%3D%22pointer-events%3A%20all%3B%20stroke-width%3A%201%3B%20fill%3A%20rgb(242%2C%20142%2C%2044)%3B%20fill-opacity%3A%201%3B%20stroke%3A%20rgb(255%2C%20255%2C%20255)%3B%20stroke-opacity%3A%201%3B%20opacity%3A%201%3B%22%2F%3E%3Cg%20class%3D%22slicetext%22%3E%3Ctext%20data-notex%3D%221%22%20class%3D%22slicetext%22%20text-anchor%3D%22start%22%20data-unformatted%3D%22California%22%20data-math%3D%22N%22%20x%3D%220%22%20y%3D%220%22%20style%3D%22font-family%3A%20%26quot%3BOpen%20Sans%26quot%3B%2C%20verdana%2C%20arial%2C%20sans-serif%3B%20font-size%3A%2012px%3B%20fill%3A%20rgb(68%2C%2068%2C%2068)%3B%20fill-opacity%3A%201%3B%20white-space%3A%20pre%3B%22%20transform%3D%22translate(95%2C365.7021003360052)%22%3ECalifornia%3C%2Ftext%3E%3C%2Fg%3E%3C%2Fg%3E%3Cg%20class%3D%22slice%20cursor-pointer%22%3E%3Cpath%20class%3D%22surface%22%20d%3D%22M190.90410685452827%2C278.46671058779816L257.0570470430149%2C278.46671058779816L257.0570470430149%2C370.029964729553L190.90410685452827%2C370.029964729553Z%22%20style%3D%22pointer-events%3A%20all%3B%20stroke-width%3A%201%3B%20fill%3A%20rgb(242%2C%20142%2C%2044)%3B%20fill-opacity%3A%201%3B%20stroke%3A%20rgb(255%2C%20255%2C%20255)%3B%20stroke-opacity%3A%201%3B%20opacity%3A%201%3B%22%2F%3E%3Cg%20class%3D%22slicetext%22%3E%3Ctext%20data-notex%3D%221%22%20class%3D%22slicetext%22%20text-anchor%3D%22start%22%20data-unformatted%3D%22Arizona%22%20data-math%3D%22N%22%20x%3D%220%22%20y%3D%220%22%20style%3D%22font-family%3A%20%26quot%3BOpen%20Sans%26quot%3B%2C%20verdana%2C%20arial%2C%20sans-serif%3B%20font-size%3A%2012px%3B%20fill%3A%20rgb(68%2C%2068%2C%2068)%3B%20fill-opacity%3A%201%3B%20white-space%3A%20pre%3B%22%20transform%3D%22translate(193.90410685452827%2C293.46671058779816)%22%3EArizona%3C%2Ftext%3E%3C%2Fg%3E%3C%2Fg%3E%3Cg%20class%3D%22slice%20cursor-pointer%22%3E%3Cpath%20class%3D%22surface%22%20d%3D%22M260.0570470430149%2C278.46671058779816L321.4285714285714%2C278.46671058779816L321.4285714285714%2C370.029964729553L260.0570470430149%2C370.029964729553Z%22%20style%3D%22pointer-events%3A%20all%3B%20stroke-width%3A%201%3B%20fill%3A%20rgb(242%2C%20142%2C%2044)%3B%20fill-opacity%3A%201%3B%20stroke%3A%20rgb(255%2C%20255%2C%20255)%3B%20stroke-opacity%3A%201%3B%20opacity%3A%201%3B%22%2F%3E%3Cg%20class%3D%22slicetext%22%3E%3Ctext%20data-notex%3D%221%22%20class%3D%22slicetext%22%20text-anchor%3D%22start%22%20data-unformatted%3D%22Washington%22%20data-math%3D%22N%22%20x%3D%220%22%20y%3D%220%22%20style%3D%22font-family%3A%20%26quot%3BOpen%20Sans%26quot%3B%2C%20verdana%2C%20arial%2C%20sans-serif%3B%20font-size%3A%2012px%3B%20fill%3A%20rgb(68%2C%2068%2C%2068)%3B%20fill-opacity%3A%201%3B%20white-space%3A%20pre%3B%22%20transform%3D%22translate(263.0570470430149%2C290.91762395902373)scale(0.7875761142687987)%22%3EWashington%3C%2Ftext%3E%3C%2Fg%3E%3C%2Fg%3E%3Cg%20class%3D%22slice%20cursor-pointer%22%3E%3Cpath%20class%3D%22surface%22%20d%3D%22M190.90410685452827%2C373.029964729553L321.42857142857133%2C373.029964729553L321.42857142857133%2C414.9872780519336L190.90410685452827%2C414.9872780519336Z%22%20style%3D%22pointer-events%3A%20all%3B%20stroke-width%3A%201%3B%20fill%3A%20rgb(242%2C%20142%2C%2044)%3B%20fill-opacity%3A%201%3B%20stroke%3A%20rgb(255%2C%20255%2C%20255)%3B%20stroke-opacity%3A%201%3B%20opacity%3A%201%3B%22%2F%3E%3Cg%20class%3D%22slicetext%22%3E%3Ctext%20data-notex%3D%221%22%20class%3D%22slicetext%22%20text-anchor%3D%22start%22%20data-unformatted%3D%22Nevada%22%20data-math%3D%22N%22%20x%3D%220%22%20y%3D%220%22%20style%3D%22font-family%3A%20%26quot%3BOpen%20Sans%26quot%3B%2C%20verdana%2C%20arial%2C%20sans-serif%3B%20font-size%3A%2012px%3B%20fill%3A%20rgb(68%2C%2068%2C%2068)%3B%20fill-opacity%3A%201%3B%20white-space%3A%20pre%3B%22%20transform%3D%22translate(193.90410685452827%2C388.029964729553)%22%3ENevada%3C%2Ftext%3E%3C%2Fg%3E%3C%2Fg%3E%3Cg%20class%3D%22slice%20cursor-pointer%22%3E%3Cpath%20class%3D%22surface%22%20d%3D%22M92%2C447.9872780519336L188.56437884731372%2C447.9872780519336L188.56437884731372%2C511.06684405448743L92%2C511.06684405448743Z%22%20style%3D%22pointer-events%3A%20all%3B%20stroke-width%3A%201%3B%20fill%3A%20rgb(225%2C%2087%2C%2089)%3B%20fill-opacity%3A%201%3B%20stroke%3A%20rgb(255%2C%20255%2C%20255)%3B%20stroke-opacity%3A%201%3B%20opacity%3A%201%3B%22%2F%3E%3Cg%20class%3D%22slicetext%22%3E%3Ctext%20data-notex%3D%221%22%20class%3D%22slicetext%22%20text-anchor%3D%22start%22%20data-unformatted%3D%22California%22%20data-math%3D%22N%22%20x%3D%220%22%20y%3D%220%22%20style%3D%22font-family%3A%20%26quot%3BOpen%20Sans%26quot%3B%2C%20verdana%2C%20arial%2C%20sans-serif%3B%20font-size%3A%2012px%3B%20fill%3A%20rgb(68%2C%2068%2C%2068)%3B%20fill-opacity%3A%201%3B%20white-space%3A%20pre%3B%22%20transform%3D%22translate(95%2C462.9872780519336)%22%3ECalifornia%3C%2Ftext%3E%3C%2Fg%3E%3C%2Fg%3E%3Cg%20class%3D%22slice%20cursor-pointer%22%3E%3Cpath%20class%3D%22surface%22%20d%3D%22M92%2C514.0668440544874L188.56437884731372%2C514.0668440544874L188.56437884731372%2C576L92%2C576Z%22%20style%3D%22pointer-events%3A%20all%3B%20stroke-width%3A%201%3B%20fill%3A%20rgb(225%2C%2087%2C%2089)%3B%20fill-opacity%3A%201%3B%20stroke%3A%20rgb(255%2C%20255%2C%20255)%3B%20stroke-opacity%3A%201%3B%20opacity%3A%201%3B%22%2F%3E%3Cg%20class%3D%22slicetext%22%3E%3Ctext%20data-notex%3D%221%22%20class%3D%22slicetext%22%20text-anchor%3D%22start%22%20data-unformatted%3D%22Arizona%22%20data-math%3D%22N%22%20x%3D%220%22%20y%3D%220%22%20style%3D%22font-family%3A%20%26quot%3BOpen%20Sans%26quot%3B%2C%20verdana%2C%20arial%2C%20sans-serif%3B%20font-size%3A%2012px%3B%20fill%3A%20rgb(68%2C%2068%2C%2068)%3B%20fill-opacity%3A%201%3B%20white-space%3A%20pre%3B%22%20transform%3D%22translate(95%2C529.0668440544874)%22%3EArizona%3C%2Ftext%3E%3C%2Fg%3E%3C%2Fg%3E%3Cg%20class%3D%22slice%20cursor-pointer%22%3E%3Cpath%20class%3D%22surface%22%20d%3D%22M191.56437884731372%2C447.9872780519336L282.3841402628626%2C447.9872780519336L282.3841402628626%2C512.74362332226L191.56437884731372%2C512.74362332226Z%22%20style%3D%22pointer-events%3A%20all%3B%20stroke-width%3A%201%3B%20fill%3A%20rgb(225%2C%2087%2C%2089)%3B%20fill-opacity%3A%201%3B%20stroke%3A%20rgb(255%2C%20255%2C%20255)%3B%20stroke-opacity%3A%201%3B%20opacity%3A%201%3B%22%2F%3E%3Cg%20class%3D%22slicetext%22%3E%3Ctext%20data-notex%3D%221%22%20class%3D%22slicetext%22%20text-anchor%3D%22start%22%20data-unformatted%3D%22Oregon%22%20data-math%3D%22N%22%20x%3D%220%22%20y%3D%220%22%20style%3D%22font-family%3A%20%26quot%3BOpen%20Sans%26quot%3B%2C%20verdana%2C%20arial%2C%20sans-serif%3B%20font-size%3A%2012px%3B%20fill%3A%20rgb(68%2C%2068%2C%2068)%3B%20fill-opacity%3A%201%3B%20white-space%3A%20pre%3B%22%20transform%3D%22translate(194.56437884731372%2C462.9872780519336)%22%3EOregon%3C%2Ftext%3E%3C%2Fg%3E%3C%2Fg%3E%3Cg%20class%3D%22slice%20cursor-pointer%22%3E%3Cpath%20class%3D%22surface%22%20d%3D%22M191.56437884731372%2C515.74362332226L282.3841402628626%2C515.74362332226L282.3841402628626%2C576L191.56437884731372%2C576Z%22%20style%3D%22pointer-events%3A%20all%3B%20stroke-width%3A%201%3B%20fill%3A%20rgb(225%2C%2087%2C%2089)%3B%20fill-opacity%3A%201%3B%20stroke%3A%20rgb(255%2C%20255%2C%20255)%3B%20stroke-opacity%3A%201%3B%20opacity%3A%201%3B%22%2F%3E%3Cg%20class%3D%22slicetext%22%3E%3Ctext%20data-notex%3D%221%22%20class%3D%22slicetext%22%20text-anchor%3D%22start%22%20data-unformatted%3D%22Nevada%22%20data-math%3D%22N%22%20x%3D%220%22%20y%3D%220%22%20style%3D%22font-family%3A%20%26quot%3BOpen%20Sans%26quot%3B%2C%20verdana%2C%20arial%2C%20sans-serif%3B%20font-size%3A%2012px%3B%20fill%3A%20rgb(68%2C%2068%2C%2068)%3B%20fill-opacity%3A%201%3B%20white-space%3A%20pre%3B%22%20transform%3D%22translate(194.56437884731372%2C530.74362332226)%22%3ENevada%3C%2Ftext%3E%3C%2Fg%3E%3C%2Fg%3E%3Cg%20class%3D%22slice%20cursor-pointer%22%3E%3Cpath%20class%3D%22surface%22%20d%3D%22M285.3841402628626%2C447.9872780519336L321.4285714285715%2C447.9872780519336L321.4285714285715%2C576L285.3841402628626%2C576Z%22%20style%3D%22pointer-events%3A%20all%3B%20stroke-width%3A%201%3B%20fill%3A%20rgb(225%2C%2087%2C%2089)%3B%20fill-opacity%3A%201%3B%20stroke%3A%20rgb(255%2C%20255%2C%20255)%3B%20stroke-opacity%3A%201%3B%20opacity%3A%201%3B%22%2F%3E%3Cg%20class%3D%22slicetext%22%3E%3Ctext%20data-notex%3D%221%22%20class%3D%22slicetext%22%20text-anchor%3D%22start%22%20data-unformatted%3D%22Washington%22%20data-math%3D%22N%22%20x%3D%220%22%20y%3D%220%22%20style%3D%22font-family%3A%20%26quot%3BOpen%20Sans%26quot%3B%2C%20verdana%2C%20arial%2C%20sans-serif%3B%20font-size%3A%2012px%3B%20fill%3A%20rgb(68%2C%2068%2C%2068)%3B%20fill-opacity%3A%201%3B%20white-space%3A%20pre%3B%22%20transform%3D%22translate(288.3841402628626%2C456.11531668525197)scale(0.42733655277653204)%22%3EWashington%3C%2Ftext%3E%3C%2Fg%3E%3C%2Fg%3E%3C%2Fg%3E%3Cg%20class%3D%22trace%20treemap%22%20style%3D%22opacity%3A%201%3B%22%3E%3Cg%20class%3D%22slice%20cursor-pointer%22%3E%3Cpath%20class%3D%22surface%22%20d%3D%22M396.7857142857143%2C30L650.2142857142858%2C30L650.2142857142858%2C588L396.7857142857143%2C588Z%22%20style%3D%22pointer-events%3A%20all%3B%20stroke-width%3A%200%3B%20fill%3A%20rgb(0%2C%200%2C%200)%3B%20fill-opacity%3A%200%3B%20stroke%3A%20rgb(0%2C%200%2C%200)%3B%20stroke-opacity%3A%200%3B%20opacity%3A%20100%3B%22%2F%3E%3Cg%20class%3D%22slicetext%22%3E%3Ctext%20data-notex%3D%221%22%20class%3D%22slicetext%22%20text-anchor%3D%22start%22%20data-unformatted%3D%22Suburban%22%20data-math%3D%22N%22%20x%3D%220%22%20y%3D%220%22%20style%3D%22font-family%3A%20%26quot%3BOpen%20Sans%26quot%3B%2C%20verdana%2C%20arial%2C%20sans-serif%3B%20font-size%3A%2012px%3B%20fill%3A%20rgb(89%2C%2089%2C%2089)%3B%20fill-opacity%3A%201%3B%20white-space%3A%20pre%3B%22%20transform%3D%22translate(402.7857142857143%2C45)%22%3ESuburban%3C%2Ftext%3E%3C%2Fg%3E%3C%2Fg%3E%3Cg%20class%3D%22slice%20cursor-pointer%22%3E%3Cpath%20class%3D%22surface%22%20d%3D%22M402.7857142857143%2C54L644.2142857142858%2C54L644.2142857142858%2C250.3695806069879L402.7857142857143%2C250.3695806069879Z%22%20style%3D%22pointer-events%3A%20all%3B%20stroke-width%3A%201%3B%20fill%3A%20rgb(111%2C%20146%2C%20184)%3B%20fill-opacity%3A%201%3B%20stroke%3A%20rgb(255%2C%20255%2C%20255)%3B%20stroke-opacity%3A%201%3B%20opacity%3A%201%3B%22%2F%3E%3Cg%20class%3D%22slicetext%22%3E%3Ctext%20data-notex%3D%221%22%20class%3D%22slicetext%22%20text-anchor%3D%22start%22%20data-unformatted%3D%22Pareto%20price%20change%22%20data-math%3D%22N%22%20x%3D%220%22%20y%3D%220%22%20style%3D%22font-family%3A%20%26quot%3BOpen%20Sans%26quot%3B%2C%20verdana%2C%20arial%2C%20sans-serif%3B%20font-size%3A%2012px%3B%20fill%3A%20rgb(255%2C%20255%2C%20255)%3B%20fill-opacity%3A%201%3B%20white-space%3A%20pre%3B%22%20transform%3D%22translate(408.7857142857143%2C69)%22%3EPareto%20price%20change%3C%2Ftext%3E%3C%2Fg%3E%3C%2Fg%3E%3Cg%20class%3D%22slice%20cursor-pointer%22%3E%3Cpath%20class%3D%22surface%22%20d%3D%22M402.7857142857143%2C253.3695806069879L644.2142857142858%2C253.3695806069879L644.2142857142858%2C420.1471479866783L402.7857142857143%2C420.1471479866783Z%22%20style%3D%22pointer-events%3A%20all%3B%20stroke-width%3A%201%3B%20fill%3A%20rgb(245%2C%20163%2C%2084)%3B%20fill-opacity%3A%201%3B%20stroke%3A%20rgb(255%2C%20255%2C%20255)%3B%20stroke-opacity%3A%201%3B%20opacity%3A%201%3B%22%2F%3E%3Cg%20class%3D%22slicetext%22%3E%3Ctext%20data-notex%3D%221%22%20class%3D%22slicetext%22%20text-anchor%3D%22start%22%20data-unformatted%3D%22Base%22%20data-math%3D%22N%22%20x%3D%220%22%20y%3D%220%22%20style%3D%22font-family%3A%20%26quot%3BOpen%20Sans%26quot%3B%2C%20verdana%2C%20arial%2C%20sans-serif%3B%20font-size%3A%2012px%3B%20fill%3A%20rgb(68%2C%2068%2C%2068)%3B%20fill-opacity%3A%201%3B%20white-space%3A%20pre%3B%22%20transform%3D%22translate(408.7857142857143%2C268.36958060698794)%22%3EBase%3C%2Ftext%3E%3C%2Fg%3E%3C%2Fg%3E%3Cg%20class%3D%22slice%20cursor-pointer%22%3E%3Cpath%20class%3D%22surface%22%20d%3D%22M402.7857142857143%2C423.1471479866783L644.2142857142858%2C423.1471479866783L644.2142857142858%2C582L402.7857142857143%2C582Z%22%20style%3D%22pointer-events%3A%20all%3B%20stroke-width%3A%201%3B%20fill%3A%20rgb(231%2C%20119%2C%20120)%3B%20fill-opacity%3A%201%3B%20stroke%3A%20rgb(255%2C%20255%2C%20255)%3B%20stroke-opacity%3A%201%3B%20opacity%3A%201%3B%22%2F%3E%3Cg%20class%3D%22slicetext%22%3E%3Ctext%20data-notex%3D%221%22%20class%3D%22slicetext%22%20text-anchor%3D%22start%22%20data-unformatted%3D%22Geographical%20Improvements%22%20data-math%3D%22N%22%20x%3D%220%22%20y%3D%220%22%20style%3D%22font-family%3A%20%26quot%3BOpen%20Sans%26quot%3B%2C%20verdana%2C%20arial%2C%20sans-serif%3B%20font-size%3A%2012px%3B%20fill%3A%20rgb(68%2C%2068%2C%2068)%3B%20fill-opacity%3A%201%3B%20white-space%3A%20pre%3B%22%20transform%3D%22translate(408.7857142857143%2C438.1471479866783)%22%3EGeographical%20Improvements%3C%2Ftext%3E%3C%2Fg%3E%3C%2Fg%3E%3Cg%20class%3D%22slice%20cursor-pointer%22%3E%3Cpath%20class%3D%22surface%22%20d%3D%22M408.7857142857143%2C78L505.1150155411185%2C78L505.1150155411185%2C160.83216608211472L408.7857142857143%2C160.83216608211472Z%22%20style%3D%22pointer-events%3A%20all%3B%20stroke-width%3A%201%3B%20fill%3A%20rgb(78%2C%20121%2C%20167)%3B%20fill-opacity%3A%201%3B%20stroke%3A%20rgb(255%2C%20255%2C%20255)%3B%20stroke-opacity%3A%201%3B%20opacity%3A%201%3B%22%2F%3E%3Cg%20class%3D%22slicetext%22%3E%3Ctext%20data-notex%3D%221%22%20class%3D%22slicetext%22%20text-anchor%3D%22start%22%20data-unformatted%3D%22Nevada%22%20data-math%3D%22N%22%20x%3D%220%22%20y%3D%220%22%20style%3D%22font-family%3A%20%26quot%3BOpen%20Sans%26quot%3B%2C%20verdana%2C%20arial%2C%20sans-serif%3B%20font-size%3A%2012px%3B%20fill%3A%20rgb(255%2C%20255%2C%20255)%3B%20fill-opacity%3A%201%3B%20white-space%3A%20pre%3B%22%20transform%3D%22translate(411.7857142857143%2C93)%22%3ENevada%3C%2Ftext%3E%3C%2Fg%3E%3C%2Fg%3E%3Cg%20class%3D%22slice%20cursor-pointer%22%3E%3Cpath%20class%3D%22surface%22%20d%3D%22M408.7857142857143%2C163.83216608211472L505.1150155411185%2C163.83216608211472L505.1150155411185%2C244.36958060698794L408.7857142857143%2C244.36958060698794Z%22%20style%3D%22pointer-events%3A%20all%3B%20stroke-width%3A%201%3B%20fill%3A%20rgb(78%2C%20121%2C%20167)%3B%20fill-opacity%3A%201%3B%20stroke%3A%20rgb(255%2C%20255%2C%20255)%3B%20stroke-opacity%3A%201%3B%20opacity%3A%201%3B%22%2F%3E%3Cg%20class%3D%22slicetext%22%3E%3Ctext%20data-notex%3D%221%22%20class%3D%22slicetext%22%20text-anchor%3D%22start%22%20data-unformatted%3D%22Arizona%22%20data-math%3D%22N%22%20x%3D%220%22%20y%3D%220%22%20style%3D%22font-family%3A%20%26quot%3BOpen%20Sans%26quot%3B%2C%20verdana%2C%20arial%2C%20sans-serif%3B%20font-size%3A%2012px%3B%20fill%3A%20rgb(255%2C%20255%2C%20255)%3B%20fill-opacity%3A%201%3B%20white-space%3A%20pre%3B%22%20transform%3D%22translate(411.7857142857143%2C178.83216608211472)%22%3EArizona%3C%2Ftext%3E%3C%2Fg%3E%3C%2Fg%3E%3Cg%20class%3D%22slice%20cursor-pointer%22%3E%3Cpath%20class%3D%22surface%22%20d%3D%22M508.1150155411185%2C78L573.5160638225725%2C78L573.5160638225725%2C189.35048818486848L508.1150155411185%2C189.35048818486848Z%22%20style%3D%22pointer-events%3A%20all%3B%20stroke-width%3A%201%3B%20fill%3A%20rgb(78%2C%20121%2C%20167)%3B%20fill-opacity%3A%201%3B%20stroke%3A%20rgb(255%2C%20255%2C%20255)%3B%20stroke-opacity%3A%201%3B%20opacity%3A%201%3B%22%2F%3E%3Cg%20class%3D%22slicetext%22%3E%3Ctext%20data-notex%3D%221%22%20class%3D%22slicetext%22%20text-anchor%3D%22start%22%20data-unformatted%3D%22California%22%20data-math%3D%22N%22%20x%3D%220%22%20y%3D%220%22%20style%3D%22font-family%3A%20%26quot%3BOpen%20Sans%26quot%3B%2C%20verdana%2C%20arial%2C%20sans-serif%3B%20font-size%3A%2012px%3B%20fill%3A%20rgb(255%2C%20255%2C%20255)%3B%20fill-opacity%3A%201%3B%20white-space%3A%20pre%3B%22%20transform%3D%22translate(511.1150155411185%2C93)%22%3ECalifornia%3C%2Ftext%3E%3C%2Fg%3E%3C%2Fg%3E%3Cg%20class%3D%22slice%20cursor-pointer%22%3E%3Cpath%20class%3D%22surface%22%20d%3D%22M576.5160638225725%2C78L638.2142857142858%2C78L638.2142857142858%2C189.35048818486848L576.5160638225725%2C189.35048818486848Z%22%20style%3D%22pointer-events%3A%20all%3B%20stroke-width%3A%201%3B%20fill%3A%20rgb(78%2C%20121%2C%20167)%3B%20fill-opacity%3A%201%3B%20stroke%3A%20rgb(255%2C%20255%2C%20255)%3B%20stroke-opacity%3A%201%3B%20opacity%3A%201%3B%22%2F%3E%3Cg%20class%3D%22slicetext%22%3E%3Ctext%20data-notex%3D%221%22%20class%3D%22slicetext%22%20text-anchor%3D%22start%22%20data-unformatted%3D%22Oregon%22%20data-math%3D%22N%22%20x%3D%220%22%20y%3D%220%22%20style%3D%22font-family%3A%20%26quot%3BOpen%20Sans%26quot%3B%2C%20verdana%2C%20arial%2C%20sans-serif%3B%20font-size%3A%2012px%3B%20fill%3A%20rgb(255%2C%20255%2C%20255)%3B%20fill-opacity%3A%201%3B%20white-space%3A%20pre%3B%22%20transform%3D%22translate(579.5160638225725%2C93)%22%3EOregon%3C%2Ftext%3E%3C%2Fg%3E%3C%2Fg%3E%3Cg%20class%3D%22slice%20cursor-pointer%22%3E%3Cpath%20class%3D%22surface%22%20d%3D%22M508.1150155411185%2C192.35048818486848L638.2142857142857%2C192.35048818486848L638.2142857142857%2C244.3695806069879L508.1150155411185%2C244.3695806069879Z%22%20style%3D%22pointer-events%3A%20all%3B%20stroke-width%3A%201%3B%20fill%3A%20rgb(78%2C%20121%2C%20167)%3B%20fill-opacity%3A%201%3B%20stroke%3A%20rgb(255%2C%20255%2C%20255)%3B%20stroke-opacity%3A%201%3B%20opacity%3A%201%3B%22%2F%3E%3Cg%20class%3D%22slicetext%22%3E%3Ctext%20data-notex%3D%221%22%20class%3D%22slicetext%22%20text-anchor%3D%22start%22%20data-unformatted%3D%22Washington%22%20data-math%3D%22N%22%20x%3D%220%22%20y%3D%220%22%20style%3D%22font-family%3A%20%26quot%3BOpen%20Sans%26quot%3B%2C%20verdana%2C%20arial%2C%20sans-serif%3B%20font-size%3A%2012px%3B%20fill%3A%20rgb(255%2C%20255%2C%20255)%3B%20fill-opacity%3A%201%3B%20white-space%3A%20pre%3B%22%20transform%3D%22translate(511.1150155411185%2C207.35048818486848)%22%3EWashington%3C%2Ftext%3E%3C%2Fg%3E%3C%2Fg%3E%3Cg%20class%3D%22slice%20cursor-pointer%22%3E%3Cpath%20class%3D%22surface%22%20d%3D%22M408.7857142857143%2C277.36958060698794L504.76922588218565%2C277.36958060698794L504.76922588218565%2C344.96362529942786L408.7857142857143%2C344.96362529942786Z%22%20style%3D%22pointer-events%3A%20all%3B%20stroke-width%3A%201%3B%20fill%3A%20rgb(242%2C%20142%2C%2044)%3B%20fill-opacity%3A%201%3B%20stroke%3A%20rgb(255%2C%20255%2C%20255)%3B%20stroke-opacity%3A%201%3B%20opacity%3A%201%3B%22%2F%3E%3Cg%20class%3D%22slicetext%22%3E%3Ctext%20data-notex%3D%221%22%20class%3D%22slicetext%22%20text-anchor%3D%22start%22%20data-unformatted%3D%22Nevada%22%20data-math%3D%22N%22%20x%3D%220%22%20y%3D%220%22%20style%3D%22font-family%3A%20%26quot%3BOpen%20Sans%26quot%3B%2C%20verdana%2C%20arial%2C%20sans-serif%3B%20font-size%3A%2012px%3B%20fill%3A%20rgb(68%2C%2068%2C%2068)%3B%20fill-opacity%3A%201%3B%20white-space%3A%20pre%3B%22%20transform%3D%22translate(411.7857142857143%2C292.36958060698794)%22%3ENevada%3C%2Ftext%3E%3C%2Fg%3E%3C%2Fg%3E%3Cg%20class%3D%22slice%20cursor-pointer%22%3E%3Cpath%20class%3D%22surface%22%20d%3D%22M408.7857142857143%2C347.96362529942786L504.76922588218565%2C347.96362529942786L504.76922588218565%2C414.1471479866783L408.7857142857143%2C414.1471479866783Z%22%20style%3D%22pointer-events%3A%20all%3B%20stroke-width%3A%201%3B%20fill%3A%20rgb(242%2C%20142%2C%2044)%3B%20fill-opacity%3A%201%3B%20stroke%3A%20rgb(255%2C%20255%2C%20255)%3B%20stroke-opacity%3A%201%3B%20opacity%3A%201%3B%22%2F%3E%3Cg%20class%3D%22slicetext%22%3E%3Ctext%20data-notex%3D%221%22%20class%3D%22slicetext%22%20text-anchor%3D%22start%22%20data-unformatted%3D%22Arizona%22%20data-math%3D%22N%22%20x%3D%220%22%20y%3D%220%22%20style%3D%22font-family%3A%20%26quot%3BOpen%20Sans%26quot%3B%2C%20verdana%2C%20arial%2C%20sans-serif%3B%20font-size%3A%2012px%3B%20fill%3A%20rgb(68%2C%2068%2C%2068)%3B%20fill-opacity%3A%201%3B%20white-space%3A%20pre%3B%22%20transform%3D%22translate(411.7857142857143%2C362.96362529942786)%22%3EArizona%3C%2Ftext%3E%3C%2Fg%3E%3C%2Fg%3E%3Cg%20class%3D%22slice%20cursor-pointer%22%3E%3Cpath%20class%3D%22surface%22%20d%3D%22M507.76922588218565%2C277.36958060698794L573.4814199966912%2C277.36958060698794L573.4814199966912%2C368.98608234471385L507.76922588218565%2C368.98608234471385Z%22%20style%3D%22pointer-events%3A%20all%3B%20stroke-width%3A%201%3B%20fill%3A%20rgb(242%2C%20142%2C%2044)%3B%20fill-opacity%3A%201%3B%20stroke%3A%20rgb(255%2C%20255%2C%20255)%3B%20stroke-opacity%3A%201%3B%20opacity%3A%201%3B%22%2F%3E%3Cg%20class%3D%22slicetext%22%3E%3Ctext%20data-notex%3D%221%22%20class%3D%22slicetext%22%20text-anchor%3D%22start%22%20data-unformatted%3D%22California%22%20data-math%3D%22N%22%20x%3D%220%22%20y%3D%220%22%20style%3D%22font-family%3A%20%26quot%3BOpen%20Sans%26quot%3B%2C%20verdana%2C%20arial%2C%20sans-serif%3B%20font-size%3A%2012px%3B%20fill%3A%20rgb(68%2C%2068%2C%2068)%3B%20fill-opacity%3A%201%3B%20white-space%3A%20pre%3B%22%20transform%3D%22translate(510.76922588218565%2C292.36958060698794)%22%3ECalifornia%3C%2Ftext%3E%3C%2Fg%3E%3C%2Fg%3E%3Cg%20class%3D%22slice%20cursor-pointer%22%3E%3Cpath%20class%3D%22surface%22%20d%3D%22M576.4814199966912%2C277.36958060698794L638.2142857142858%2C277.36958060698794L638.2142857142858%2C368.98608234471385L576.4814199966912%2C368.98608234471385Z%22%20style%3D%22pointer-events%3A%20all%3B%20stroke-width%3A%201%3B%20fill%3A%20rgb(242%2C%20142%2C%2044)%3B%20fill-opacity%3A%201%3B%20stroke%3A%20rgb(255%2C%20255%2C%20255)%3B%20stroke-opacity%3A%201%3B%20opacity%3A%201%3B%22%2F%3E%3Cg%20class%3D%22slicetext%22%3E%3Ctext%20data-notex%3D%221%22%20class%3D%22slicetext%22%20text-anchor%3D%22start%22%20data-unformatted%3D%22Oregon%22%20data-math%3D%22N%22%20x%3D%220%22%20y%3D%220%22%20style%3D%22font-family%3A%20%26quot%3BOpen%20Sans%26quot%3B%2C%20verdana%2C%20arial%2C%20sans-serif%3B%20font-size%3A%2012px%3B%20fill%3A%20rgb(68%2C%2068%2C%2068)%3B%20fill-opacity%3A%201%3B%20white-space%3A%20pre%3B%22%20transform%3D%22translate(579.4814199966912%2C292.36958060698794)%22%3EOregon%3C%2Ftext%3E%3C%2Fg%3E%3C%2Fg%3E%3Cg%20class%3D%22slice%20cursor-pointer%22%3E%3Cpath%20class%3D%22surface%22%20d%3D%22M507.76922588218565%2C371.98608234471385L638.2142857142857%2C371.98608234471385L638.2142857142857%2C414.1471479866783L507.76922588218565%2C414.1471479866783Z%22%20style%3D%22pointer-events%3A%20all%3B%20stroke-width%3A%201%3B%20fill%3A%20rgb(242%2C%20142%2C%2044)%3B%20fill-opacity%3A%201%3B%20stroke%3A%20rgb(255%2C%20255%2C%20255)%3B%20stroke-opacity%3A%201%3B%20opacity%3A%201%3B%22%2F%3E%3Cg%20class%3D%22slicetext%22%3E%3Ctext%20data-notex%3D%221%22%20class%3D%22slicetext%22%20text-anchor%3D%22start%22%20data-unformatted%3D%22Washington%22%20data-math%3D%22N%22%20x%3D%220%22%20y%3D%220%22%20style%3D%22font-family%3A%20%26quot%3BOpen%20Sans%26quot%3B%2C%20verdana%2C%20arial%2C%20sans-serif%3B%20font-size%3A%2012px%3B%20fill%3A%20rgb(68%2C%2068%2C%2068)%3B%20fill-opacity%3A%201%3B%20white-space%3A%20pre%3B%22%20transform%3D%22translate(510.76922588218565%2C386.98608234471385)%22%3EWashington%3C%2Ftext%3E%3C%2Fg%3E%3C%2Fg%3E%3Cg%20class%3D%22slice%20cursor-pointer%22%3E%3Cpath%20class%3D%22surface%22%20d%3D%22M408.7857142857143%2C447.1471479866783L509.6157030718563%2C447.1471479866783L509.6157030718563%2C510.738850091279L408.7857142857143%2C510.738850091279Z%22%20style%3D%22pointer-events%3A%20all%3B%20stroke-width%3A%201%3B%20fill%3A%20rgb(225%2C%2087%2C%2089)%3B%20fill-opacity%3A%201%3B%20stroke%3A%20rgb(255%2C%20255%2C%20255)%3B%20stroke-opacity%3A%201%3B%20opacity%3A%201%3B%22%2F%3E%3Cg%20class%3D%22slicetext%22%3E%3Ctext%20data-notex%3D%221%22%20class%3D%22slicetext%22%20text-anchor%3D%22start%22%20data-unformatted%3D%22Nevada%22%20data-math%3D%22N%22%20x%3D%220%22%20y%3D%220%22%20style%3D%22font-family%3A%20%26quot%3BOpen%20Sans%26quot%3B%2C%20verdana%2C%20arial%2C%20sans-serif%3B%20font-size%3A%2012px%3B%20fill%3A%20rgb(68%2C%2068%2C%2068)%3B%20fill-opacity%3A%201%3B%20white-space%3A%20pre%3B%22%20transform%3D%22translate(411.7857142857143%2C462.1471479866783)%22%3ENevada%3C%2Ftext%3E%3C%2Fg%3E%3C%2Fg%3E%3Cg%20class%3D%22slice%20cursor-pointer%22%3E%3Cpath%20class%3D%22surface%22%20d%3D%22M408.7857142857143%2C513.738850091279L509.6157030718563%2C513.738850091279L509.6157030718563%2C576L408.7857142857143%2C576Z%22%20style%3D%22pointer-events%3A%20all%3B%20stroke-width%3A%201%3B%20fill%3A%20rgb(225%2C%2087%2C%2089)%3B%20fill-opacity%3A%201%3B%20stroke%3A%20rgb(255%2C%20255%2C%20255)%3B%20stroke-opacity%3A%201%3B%20opacity%3A%201%3B%22%2F%3E%3Cg%20class%3D%22slicetext%22%3E%3Ctext%20data-notex%3D%221%22%20class%3D%22slicetext%22%20text-anchor%3D%22start%22%20data-unformatted%3D%22Arizona%22%20data-math%3D%22N%22%20x%3D%220%22%20y%3D%220%22%20style%3D%22font-family%3A%20%26quot%3BOpen%20Sans%26quot%3B%2C%20verdana%2C%20arial%2C%20sans-serif%3B%20font-size%3A%2012px%3B%20fill%3A%20rgb(68%2C%2068%2C%2068)%3B%20fill-opacity%3A%201%3B%20white-space%3A%20pre%3B%22%20transform%3D%22translate(411.7857142857143%2C528.738850091279)%22%3EArizona%3C%2Ftext%3E%3C%2Fg%3E%3C%2Fg%3E%3Cg%20class%3D%22slice%20cursor-pointer%22%3E%3Cpath%20class%3D%22surface%22%20d%3D%22M512.6157030718563%2C447.1471479866783L579.2082632644207%2C447.1471479866783L579.2082632644207%2C536.585009529744L512.6157030718563%2C536.585009529744Z%22%20style%3D%22pointer-events%3A%20all%3B%20stroke-width%3A%201%3B%20fill%3A%20rgb(225%2C%2087%2C%2089)%3B%20fill-opacity%3A%201%3B%20stroke%3A%20rgb(255%2C%20255%2C%20255)%3B%20stroke-opacity%3A%201%3B%20opacity%3A%201%3B%22%2F%3E%3Cg%20class%3D%22slicetext%22%3E%3Ctext%20data-notex%3D%221%22%20class%3D%22slicetext%22%20text-anchor%3D%22start%22%20data-unformatted%3D%22California%22%20data-math%3D%22N%22%20x%3D%220%22%20y%3D%220%22%20style%3D%22font-family%3A%20%26quot%3BOpen%20Sans%26quot%3B%2C%20verdana%2C%20arial%2C%20sans-serif%3B%20font-size%3A%2012px%3B%20fill%3A%20rgb(68%2C%2068%2C%2068)%3B%20fill-opacity%3A%201%3B%20white-space%3A%20pre%3B%22%20transform%3D%22translate(515.6157030718563%2C462.1471479866783)%22%3ECalifornia%3C%2Ftext%3E%3C%2Fg%3E%3C%2Fg%3E%3Cg%20class%3D%22slice%20cursor-pointer%22%3E%3Cpath%20class%3D%22surface%22%20d%3D%22M582.2082632644207%2C447.1471479866783L638.2142857142858%2C447.1471479866783L638.2142857142858%2C536.585009529744L582.2082632644207%2C536.585009529744Z%22%20style%3D%22pointer-events%3A%20all%3B%20stroke-width%3A%201%3B%20fill%3A%20rgb(225%2C%2087%2C%2089)%3B%20fill-opacity%3A%201%3B%20stroke%3A%20rgb(255%2C%20255%2C%20255)%3B%20stroke-opacity%3A%201%3B%20opacity%3A%201%3B%22%2F%3E%3Cg%20class%3D%22slicetext%22%3E%3Ctext%20data-notex%3D%221%22%20class%3D%22slicetext%22%20text-anchor%3D%22start%22%20data-unformatted%3D%22Oregon%22%20data-math%3D%22N%22%20x%3D%220%22%20y%3D%220%22%20style%3D%22font-family%3A%20%26quot%3BOpen%20Sans%26quot%3B%2C%20verdana%2C%20arial%2C%20sans-serif%3B%20font-size%3A%2012px%3B%20fill%3A%20rgb(68%2C%2068%2C%2068)%3B%20fill-opacity%3A%201%3B%20white-space%3A%20pre%3B%22%20transform%3D%22translate(585.2082632644207%2C462.1471479866783)%22%3EOregon%3C%2Ftext%3E%3C%2Fg%3E%3C%2Fg%3E%3Cg%20class%3D%22slice%20cursor-pointer%22%3E%3Cpath%20class%3D%22surface%22%20d%3D%22M512.6157030718563%2C539.585009529744L638.2142857142858%2C539.585009529744L638.2142857142858%2C576L512.6157030718563%2C576Z%22%20style%3D%22pointer-events%3A%20all%3B%20stroke-width%3A%201%3B%20fill%3A%20rgb(225%2C%2087%2C%2089)%3B%20fill-opacity%3A%201%3B%20stroke%3A%20rgb(255%2C%20255%2C%20255)%3B%20stroke-opacity%3A%201%3B%20opacity%3A%201%3B%22%2F%3E%3Cg%20class%3D%22slicetext%22%3E%3Ctext%20data-notex%3D%221%22%20class%3D%22slicetext%22%20text-anchor%3D%22start%22%20data-unformatted%3D%22Washington%22%20data-math%3D%22N%22%20x%3D%220%22%20y%3D%220%22%20style%3D%22font-family%3A%20%26quot%3BOpen%20Sans%26quot%3B%2C%20verdana%2C%20arial%2C%20sans-serif%3B%20font-size%3A%2012px%3B%20fill%3A%20rgb(68%2C%2068%2C%2068)%3B%20fill-opacity%3A%201%3B%20white-space%3A%20pre%3B%22%20transform%3D%22translate(515.6157030718563%2C554.585009529744)%22%3EWashington%3C%2Ftext%3E%3C%2Fg%3E%3C%2Fg%3E%3C%2Fg%3E%3Cg%20class%3D%22trace%20treemap%22%20style%3D%22opacity%3A%201%3B%22%3E%3Cg%20class%3D%22slice%20cursor-pointer%22%3E%3Cpath%20class%3D%22surface%22%20d%3D%22M713.5714285714287%2C30L967.0000000000001%2C30L967.0000000000001%2C588L713.5714285714287%2C588Z%22%20style%3D%22pointer-events%3A%20all%3B%20stroke-width%3A%200%3B%20fill%3A%20rgb(0%2C%200%2C%200)%3B%20fill-opacity%3A%200%3B%20stroke%3A%20rgb(0%2C%200%2C%200)%3B%20stroke-opacity%3A%200%3B%20opacity%3A%20100%3B%22%2F%3E%3Cg%20class%3D%22slicetext%22%3E%3Ctext%20data-notex%3D%221%22%20class%3D%22slicetext%22%20text-anchor%3D%22start%22%20data-unformatted%3D%22Urban%22%20data-math%3D%22N%22%20x%3D%220%22%20y%3D%220%22%20style%3D%22font-family%3A%20%26quot%3BOpen%20Sans%26quot%3B%2C%20verdana%2C%20arial%2C%20sans-serif%3B%20font-size%3A%2012px%3B%20fill%3A%20rgb(89%2C%2089%2C%2089)%3B%20fill-opacity%3A%201%3B%20white-space%3A%20pre%3B%22%20transform%3D%22translate(719.5714285714287%2C45)%22%3EUrban%3C%2Ftext%3E%3C%2Fg%3E%3C%2Fg%3E%3Cg%20class%3D%22slice%20cursor-pointer%22%3E%3Cpath%20class%3D%22surface%22%20d%3D%22M719.5714285714287%2C54L961.0000000000001%2C54L961.0000000000001%2C251.3919324555493L719.5714285714287%2C251.3919324555493Z%22%20style%3D%22pointer-events%3A%20all%3B%20stroke-width%3A%201%3B%20fill%3A%20rgb(111%2C%20146%2C%20184)%3B%20fill-opacity%3A%201%3B%20stroke%3A%20rgb(255%2C%20255%2C%20255)%3B%20stroke-opacity%3A%201%3B%20opacity%3A%201%3B%22%2F%3E%3Cg%20class%3D%22slicetext%22%3E%3Ctext%20data-notex%3D%221%22%20class%3D%22slicetext%22%20text-anchor%3D%22start%22%20data-unformatted%3D%22Pareto%20price%20change%22%20data-math%3D%22N%22%20x%3D%220%22%20y%3D%220%22%20style%3D%22font-family%3A%20%26quot%3BOpen%20Sans%26quot%3B%2C%20verdana%2C%20arial%2C%20sans-serif%3B%20font-size%3A%2012px%3B%20fill%3A%20rgb(255%2C%20255%2C%20255)%3B%20fill-opacity%3A%201%3B%20white-space%3A%20pre%3B%22%20transform%3D%22translate(725.5714285714287%2C69)%22%3EPareto%20price%20change%3C%2Ftext%3E%3C%2Fg%3E%3C%2Fg%3E%3Cg%20class%3D%22slice%20cursor-pointer%22%3E%3Cpath%20class%3D%22surface%22%20d%3D%22M719.5714285714287%2C254.3919324555493L961%2C254.3919324555493L961%2C420.955753202596L719.5714285714287%2C420.955753202596Z%22%20style%3D%22pointer-events%3A%20all%3B%20stroke-width%3A%201%3B%20fill%3A%20rgb(245%2C%20163%2C%2084)%3B%20fill-opacity%3A%201%3B%20stroke%3A%20rgb(255%2C%20255%2C%20255)%3B%20stroke-opacity%3A%201%3B%20opacity%3A%201%3B%22%2F%3E%3Cg%20class%3D%22slicetext%22%3E%3Ctext%20data-notex%3D%221%22%20class%3D%22slicetext%22%20text-anchor%3D%22start%22%20data-unformatted%3D%22Base%22%20data-math%3D%22N%22%20x%3D%220%22%20y%3D%220%22%20style%3D%22font-family%3A%20%26quot%3BOpen%20Sans%26quot%3B%2C%20verdana%2C%20arial%2C%20sans-serif%3B%20font-size%3A%2012px%3B%20fill%3A%20rgb(68%2C%2068%2C%2068)%3B%20fill-opacity%3A%201%3B%20white-space%3A%20pre%3B%22%20transform%3D%22translate(725.5714285714287%2C269.3919324555493)%22%3EBase%3C%2Ftext%3E%3C%2Fg%3E%3C%2Fg%3E%3Cg%20class%3D%22slice%20cursor-pointer%22%3E%3Cpath%20class%3D%22surface%22%20d%3D%22M719.5714285714287%2C423.955753202596L961.0000000000001%2C423.955753202596L961.0000000000001%2C582L719.5714285714287%2C582Z%22%20style%3D%22pointer-events%3A%20all%3B%20stroke-width%3A%201%3B%20fill%3A%20rgb(231%2C%20119%2C%20120)%3B%20fill-opacity%3A%201%3B%20stroke%3A%20rgb(255%2C%20255%2C%20255)%3B%20stroke-opacity%3A%201%3B%20opacity%3A%201%3B%22%2F%3E%3Cg%20class%3D%22slicetext%22%3E%3Ctext%20data-notex%3D%221%22%20class%3D%22slicetext%22%20text-anchor%3D%22start%22%20data-unformatted%3D%22Geographical%20Improvements%22%20data-math%3D%22N%22%20x%3D%220%22%20y%3D%220%22%20style%3D%22font-family%3A%20%26quot%3BOpen%20Sans%26quot%3B%2C%20verdana%2C%20arial%2C%20sans-serif%3B%20font-size%3A%2012px%3B%20fill%3A%20rgb(68%2C%2068%2C%2068)%3B%20fill-opacity%3A%201%3B%20white-space%3A%20pre%3B%22%20transform%3D%22translate(725.5714285714287%2C438.955753202596)%22%3EGeographical%20Improvements%3C%2Ftext%3E%3C%2Fg%3E%3C%2Fg%3E%3Cg%20class%3D%22slice%20cursor-pointer%22%3E%3Cpath%20class%3D%22surface%22%20d%3D%22M725.5714285714287%2C78L818.4223734374558%2C78L818.4223734374558%2C160.35435505517756L725.5714285714287%2C160.35435505517756Z%22%20style%3D%22pointer-events%3A%20all%3B%20stroke-width%3A%201%3B%20fill%3A%20rgb(78%2C%20121%2C%20167)%3B%20fill-opacity%3A%201%3B%20stroke%3A%20rgb(255%2C%20255%2C%20255)%3B%20stroke-opacity%3A%201%3B%20opacity%3A%201%3B%22%2F%3E%3Cg%20class%3D%22slicetext%22%3E%3Ctext%20data-notex%3D%221%22%20class%3D%22slicetext%22%20text-anchor%3D%22start%22%20data-unformatted%3D%22Washington%22%20data-math%3D%22N%22%20x%3D%220%22%20y%3D%220%22%20style%3D%22font-family%3A%20%26quot%3BOpen%20Sans%26quot%3B%2C%20verdana%2C%20arial%2C%20sans-serif%3B%20font-size%3A%2012px%3B%20fill%3A%20rgb(255%2C%20255%2C%20255)%3B%20fill-opacity%3A%201%3B%20white-space%3A%20pre%3B%22%20transform%3D%22translate(728.5714285714287%2C93)%22%3EWashington%3C%2Ftext%3E%3C%2Fg%3E%3C%2Fg%3E%3Cg%20class%3D%22slice%20cursor-pointer%22%3E%3Cpath%20class%3D%22surface%22%20d%3D%22M725.5714285714287%2C163.35435505517756L818.4223734374558%2C163.35435505517756L818.4223734374558%2C245.3919324555493L725.5714285714287%2C245.3919324555493Z%22%20style%3D%22pointer-events%3A%20all%3B%20stroke-width%3A%201%3B%20fill%3A%20rgb(78%2C%20121%2C%20167)%3B%20fill-opacity%3A%201%3B%20stroke%3A%20rgb(255%2C%20255%2C%20255)%3B%20stroke-opacity%3A%201%3B%20opacity%3A%201%3B%22%2F%3E%3Cg%20class%3D%22slicetext%22%3E%3Ctext%20data-notex%3D%221%22%20class%3D%22slicetext%22%20text-anchor%3D%22start%22%20data-unformatted%3D%22Arizona%22%20data-math%3D%22N%22%20x%3D%220%22%20y%3D%220%22%20style%3D%22font-family%3A%20%26quot%3BOpen%20Sans%26quot%3B%2C%20verdana%2C%20arial%2C%20sans-serif%3B%20font-size%3A%2012px%3B%20fill%3A%20rgb(255%2C%20255%2C%20255)%3B%20fill-opacity%3A%201%3B%20white-space%3A%20pre%3B%22%20transform%3D%22translate(728.5714285714287%2C178.35435505517756)%22%3EArizona%3C%2Ftext%3E%3C%2Fg%3E%3C%2Fg%3E%3Cg%20class%3D%22slice%20cursor-pointer%22%3E%3Cpath%20class%3D%22surface%22%20d%3D%22M821.4223734374558%2C78L887.0366125602839%2C78L887.0366125602839%2C189.48466935266038L821.4223734374558%2C189.48466935266038Z%22%20style%3D%22pointer-events%3A%20all%3B%20stroke-width%3A%201%3B%20fill%3A%20rgb(78%2C%20121%2C%20167)%3B%20fill-opacity%3A%201%3B%20stroke%3A%20rgb(255%2C%20255%2C%20255)%3B%20stroke-opacity%3A%201%3B%20opacity%3A%201%3B%22%2F%3E%3Cg%20class%3D%22slicetext%22%3E%3Ctext%20data-notex%3D%221%22%20class%3D%22slicetext%22%20text-anchor%3D%22start%22%20data-unformatted%3D%22Nevada%22%20data-math%3D%22N%22%20x%3D%220%22%20y%3D%220%22%20style%3D%22font-family%3A%20%26quot%3BOpen%20Sans%26quot%3B%2C%20verdana%2C%20arial%2C%20sans-serif%3B%20font-size%3A%2012px%3B%20fill%3A%20rgb(255%2C%20255%2C%20255)%3B%20fill-opacity%3A%201%3B%20white-space%3A%20pre%3B%22%20transform%3D%22translate(824.4223734374558%2C93)%22%3ENevada%3C%2Ftext%3E%3C%2Fg%3E%3C%2Fg%3E%3Cg%20class%3D%22slice%20cursor-pointer%22%3E%3Cpath%20class%3D%22surface%22%20d%3D%22M890.0366125602839%2C78L955.0000000000001%2C78L955.0000000000001%2C189.48466935266038L890.0366125602839%2C189.48466935266038Z%22%20style%3D%22pointer-events%3A%20all%3B%20stroke-width%3A%201%3B%20fill%3A%20rgb(78%2C%20121%2C%20167)%3B%20fill-opacity%3A%201%3B%20stroke%3A%20rgb(255%2C%20255%2C%20255)%3B%20stroke-opacity%3A%201%3B%20opacity%3A%201%3B%22%2F%3E%3Cg%20class%3D%22slicetext%22%3E%3Ctext%20data-notex%3D%221%22%20class%3D%22slicetext%22%20text-anchor%3D%22start%22%20data-unformatted%3D%22California%22%20data-math%3D%22N%22%20x%3D%220%22%20y%3D%220%22%20style%3D%22font-family%3A%20%26quot%3BOpen%20Sans%26quot%3B%2C%20verdana%2C%20arial%2C%20sans-serif%3B%20font-size%3A%2012px%3B%20fill%3A%20rgb(255%2C%20255%2C%20255)%3B%20fill-opacity%3A%201%3B%20white-space%3A%20pre%3B%22%20transform%3D%22translate(893.0366125602839%2C93)%22%3ECalifornia%3C%2Ftext%3E%3C%2Fg%3E%3C%2Fg%3E%3Cg%20class%3D%22slice%20cursor-pointer%22%3E%3Cpath%20class%3D%22surface%22%20d%3D%22M821.4223734374558%2C192.48466935266038L955.0000000000001%2C192.48466935266038L955.0000000000001%2C245.3919324555493L821.4223734374558%2C245.3919324555493Z%22%20style%3D%22pointer-events%3A%20all%3B%20stroke-width%3A%201%3B%20fill%3A%20rgb(78%2C%20121%2C%20167)%3B%20fill-opacity%3A%201%3B%20stroke%3A%20rgb(255%2C%20255%2C%20255)%3B%20stroke-opacity%3A%201%3B%20opacity%3A%201%3B%22%2F%3E%3Cg%20class%3D%22slicetext%22%3E%3Ctext%20data-notex%3D%221%22%20class%3D%22slicetext%22%20text-anchor%3D%22start%22%20data-unformatted%3D%22Oregon%22%20data-math%3D%22N%22%20x%3D%220%22%20y%3D%220%22%20style%3D%22font-family%3A%20%26quot%3BOpen%20Sans%26quot%3B%2C%20verdana%2C%20arial%2C%20sans-serif%3B%20font-size%3A%2012px%3B%20fill%3A%20rgb(255%2C%20255%2C%20255)%3B%20fill-opacity%3A%201%3B%20white-space%3A%20pre%3B%22%20transform%3D%22translate(824.4223734374558%2C207.48466935266038)%22%3EOregon%3C%2Ftext%3E%3C%2Fg%3E%3C%2Fg%3E%3Cg%20class%3D%22slice%20cursor-pointer%22%3E%3Cpath%20class%3D%22surface%22%20d%3D%22M725.5714285714287%2C278.3919324555493L818.2435435932713%2C278.3919324555493L818.2435435932713%2C345.21640322462946L725.5714285714287%2C345.21640322462946Z%22%20style%3D%22pointer-events%3A%20all%3B%20stroke-width%3A%201%3B%20fill%3A%20rgb(242%2C%20142%2C%2044)%3B%20fill-opacity%3A%201%3B%20stroke%3A%20rgb(255%2C%20255%2C%20255)%3B%20stroke-opacity%3A%201%3B%20opacity%3A%201%3B%22%2F%3E%3Cg%20class%3D%22slicetext%22%3E%3Ctext%20data-notex%3D%221%22%20class%3D%22slicetext%22%20text-anchor%3D%22start%22%20data-unformatted%3D%22Washington%22%20data-math%3D%22N%22%20x%3D%220%22%20y%3D%220%22%20style%3D%22font-family%3A%20%26quot%3BOpen%20Sans%26quot%3B%2C%20verdana%2C%20arial%2C%20sans-serif%3B%20font-size%3A%2012px%3B%20fill%3A%20rgb(68%2C%2068%2C%2068)%3B%20fill-opacity%3A%201%3B%20white-space%3A%20pre%3B%22%20transform%3D%22translate(728.5714285714287%2C293.3919324555493)%22%3EWashington%3C%2Ftext%3E%3C%2Fg%3E%3C%2Fg%3E%3Cg%20class%3D%22slice%20cursor-pointer%22%3E%3Cpath%20class%3D%22surface%22%20d%3D%22M725.5714285714287%2C348.21640322462946L818.2435435932713%2C348.21640322462946L818.2435435932713%2C414.95575320259604L725.5714285714287%2C414.95575320259604Z%22%20style%3D%22pointer-events%3A%20all%3B%20stroke-width%3A%201%3B%20fill%3A%20rgb(242%2C%20142%2C%2044)%3B%20fill-opacity%3A%201%3B%20stroke%3A%20rgb(255%2C%20255%2C%20255)%3B%20stroke-opacity%3A%201%3B%20opacity%3A%201%3B%22%2F%3E%3Cg%20class%3D%22slicetext%22%3E%3Ctext%20data-notex%3D%221%22%20class%3D%22slicetext%22%20text-anchor%3D%22start%22%20data-unformatted%3D%22Arizona%22%20data-math%3D%22N%22%20x%3D%220%22%20y%3D%220%22%20style%3D%22font-family%3A%20%26quot%3BOpen%20Sans%26quot%3B%2C%20verdana%2C%20arial%2C%20sans-serif%3B%20font-size%3A%2012px%3B%20fill%3A%20rgb(68%2C%2068%2C%2068)%3B%20fill-opacity%3A%201%3B%20white-space%3A%20pre%3B%22%20transform%3D%22translate(728.5714285714287%2C363.21640322462946)%22%3EArizona%3C%2Ftext%3E%3C%2Fg%3E%3C%2Fg%3E%3Cg%20class%3D%22slice%20cursor-pointer%22%3E%3Cpath%20class%3D%22surface%22%20d%3D%22M821.2435435932713%2C278.3919324555493L886.817640797515%2C278.3919324555493L886.817640797515%2C369.04862891698235L821.2435435932713%2C369.04862891698235Z%22%20style%3D%22pointer-events%3A%20all%3B%20stroke-width%3A%201%3B%20fill%3A%20rgb(242%2C%20142%2C%2044)%3B%20fill-opacity%3A%201%3B%20stroke%3A%20rgb(255%2C%20255%2C%20255)%3B%20stroke-opacity%3A%201%3B%20opacity%3A%201%3B%22%2F%3E%3Cg%20class%3D%22slicetext%22%3E%3Ctext%20data-notex%3D%221%22%20class%3D%22slicetext%22%20text-anchor%3D%22start%22%20data-unformatted%3D%22Nevada%22%20data-math%3D%22N%22%20x%3D%220%22%20y%3D%220%22%20style%3D%22font-family%3A%20%26quot%3BOpen%20Sans%26quot%3B%2C%20verdana%2C%20arial%2C%20sans-serif%3B%20font-size%3A%2012px%3B%20fill%3A%20rgb(68%2C%2068%2C%2068)%3B%20fill-opacity%3A%201%3B%20white-space%3A%20pre%3B%22%20transform%3D%22translate(824.2435435932713%2C293.3919324555493)%22%3ENevada%3C%2Ftext%3E%3C%2Fg%3E%3C%2Fg%3E%3Cg%20class%3D%22slice%20cursor-pointer%22%3E%3Cpath%20class%3D%22surface%22%20d%3D%22M889.817640797515%2C278.3919324555493L955%2C278.3919324555493L955%2C369.04862891698235L889.817640797515%2C369.04862891698235Z%22%20style%3D%22pointer-events%3A%20all%3B%20stroke-width%3A%201%3B%20fill%3A%20rgb(242%2C%20142%2C%2044)%3B%20fill-opacity%3A%201%3B%20stroke%3A%20rgb(255%2C%20255%2C%20255)%3B%20stroke-opacity%3A%201%3B%20opacity%3A%201%3B%22%2F%3E%3Cg%20class%3D%22slicetext%22%3E%3Ctext%20data-notex%3D%221%22%20class%3D%22slicetext%22%20text-anchor%3D%22start%22%20data-unformatted%3D%22California%22%20data-math%3D%22N%22%20x%3D%220%22%20y%3D%220%22%20style%3D%22font-family%3A%20%26quot%3BOpen%20Sans%26quot%3B%2C%20verdana%2C%20arial%2C%20sans-serif%3B%20font-size%3A%2012px%3B%20fill%3A%20rgb(68%2C%2068%2C%2068)%3B%20fill-opacity%3A%201%3B%20white-space%3A%20pre%3B%22%20transform%3D%22translate(892.817640797515%2C293.3919324555493)%22%3ECalifornia%3C%2Ftext%3E%3C%2Fg%3E%3C%2Fg%3E%3Cg%20class%3D%22slice%20cursor-pointer%22%3E%3Cpath%20class%3D%22surface%22%20d%3D%22M821.2435435932713%2C372.04862891698235L955%2C372.04862891698235L955%2C414.955753202596L821.2435435932713%2C414.955753202596Z%22%20style%3D%22pointer-events%3A%20all%3B%20stroke-width%3A%201%3B%20fill%3A%20rgb(242%2C%20142%2C%2044)%3B%20fill-opacity%3A%201%3B%20stroke%3A%20rgb(255%2C%20255%2C%20255)%3B%20stroke-opacity%3A%201%3B%20opacity%3A%201%3B%22%2F%3E%3Cg%20class%3D%22slicetext%22%3E%3Ctext%20data-notex%3D%221%22%20class%3D%22slicetext%22%20text-anchor%3D%22start%22%20data-unformatted%3D%22Oregon%22%20data-math%3D%22N%22%20x%3D%220%22%20y%3D%220%22%20style%3D%22font-family%3A%20%26quot%3BOpen%20Sans%26quot%3B%2C%20verdana%2C%20arial%2C%20sans-serif%3B%20font-size%3A%2012px%3B%20fill%3A%20rgb(68%2C%2068%2C%2068)%3B%20fill-opacity%3A%201%3B%20white-space%3A%20pre%3B%22%20transform%3D%22translate(824.2435435932713%2C387.04862891698235)%22%3EOregon%3C%2Ftext%3E%3C%2Fg%3E%3C%2Fg%3E%3Cg%20class%3D%22slice%20cursor-pointer%22%3E%3Cpath%20class%3D%22surface%22%20d%3D%22M725.5714285714287%2C447.955753202596L821.3596562231147%2C447.955753202596L821.3596562231147%2C511.72725806172883L725.5714285714287%2C511.72725806172883Z%22%20style%3D%22pointer-events%3A%20all%3B%20stroke-width%3A%201%3B%20fill%3A%20rgb(225%2C%2087%2C%2089)%3B%20fill-opacity%3A%201%3B%20stroke%3A%20rgb(255%2C%20255%2C%20255)%3B%20stroke-opacity%3A%201%3B%20opacity%3A%201%3B%22%2F%3E%3Cg%20class%3D%22slicetext%22%3E%3Ctext%20data-notex%3D%221%22%20class%3D%22slicetext%22%20text-anchor%3D%22start%22%20data-unformatted%3D%22Arizona%22%20data-math%3D%22N%22%20x%3D%220%22%20y%3D%220%22%20style%3D%22font-family%3A%20%26quot%3BOpen%20Sans%26quot%3B%2C%20verdana%2C%20arial%2C%20sans-serif%3B%20font-size%3A%2012px%3B%20fill%3A%20rgb(68%2C%2068%2C%2068)%3B%20fill-opacity%3A%201%3B%20white-space%3A%20pre%3B%22%20transform%3D%22translate(728.5714285714287%2C462.955753202596)%22%3EArizona%3C%2Ftext%3E%3C%2Fg%3E%3C%2Fg%3E%3Cg%20class%3D%22slice%20cursor-pointer%22%3E%3Cpath%20class%3D%22surface%22%20d%3D%22M725.5714285714287%2C514.7272580617289L821.3596562231147%2C514.7272580617289L821.3596562231147%2C576L725.5714285714287%2C576Z%22%20style%3D%22pointer-events%3A%20all%3B%20stroke-width%3A%201%3B%20fill%3A%20rgb(225%2C%2087%2C%2089)%3B%20fill-opacity%3A%201%3B%20stroke%3A%20rgb(255%2C%20255%2C%20255)%3B%20stroke-opacity%3A%201%3B%20opacity%3A%201%3B%22%2F%3E%3Cg%20class%3D%22slicetext%22%3E%3Ctext%20data-notex%3D%221%22%20class%3D%22slicetext%22%20text-anchor%3D%22start%22%20data-unformatted%3D%22Nevada%22%20data-math%3D%22N%22%20x%3D%220%22%20y%3D%220%22%20style%3D%22font-family%3A%20%26quot%3BOpen%20Sans%26quot%3B%2C%20verdana%2C%20arial%2C%20sans-serif%3B%20font-size%3A%2012px%3B%20fill%3A%20rgb(68%2C%2068%2C%2068)%3B%20fill-opacity%3A%201%3B%20white-space%3A%20pre%3B%22%20transform%3D%22translate(728.5714285714287%2C529.7272580617289)%22%3ENevada%3C%2Ftext%3E%3C%2Fg%3E%3C%2Fg%3E%3Cg%20class%3D%22slice%20cursor-pointer%22%3E%3Cpath%20class%3D%22surface%22%20d%3D%22M824.3596562231147%2C447.955753202596L912.3729217761185%2C447.955753202596L912.3729217761185%2C514.3205710428815L824.3596562231147%2C514.3205710428815Z%22%20style%3D%22pointer-events%3A%20all%3B%20stroke-width%3A%201%3B%20fill%3A%20rgb(225%2C%2087%2C%2089)%3B%20fill-opacity%3A%201%3B%20stroke%3A%20rgb(255%2C%20255%2C%20255)%3B%20stroke-opacity%3A%201%3B%20opacity%3A%201%3B%22%2F%3E%3Cg%20class%3D%22slicetext%22%3E%3Ctext%20data-notex%3D%221%22%20class%3D%22slicetext%22%20text-anchor%3D%22start%22%20data-unformatted%3D%22California%22%20data-math%3D%22N%22%20x%3D%220%22%20y%3D%220%22%20style%3D%22font-family%3A%20%26quot%3BOpen%20Sans%26quot%3B%2C%20verdana%2C%20arial%2C%20sans-serif%3B%20font-size%3A%2012px%3B%20fill%3A%20rgb(68%2C%2068%2C%2068)%3B%20fill-opacity%3A%201%3B%20white-space%3A%20pre%3B%22%20transform%3D%22translate(827.3596562231147%2C462.955753202596)%22%3ECalifornia%3C%2Ftext%3E%3C%2Fg%3E%3C%2Fg%3E%3Cg%20class%3D%22slice%20cursor-pointer%22%3E%3Cpath%20class%3D%22surface%22%20d%3D%22M824.3596562231147%2C517.3205710428815L912.3729217761185%2C517.3205710428815L912.3729217761185%2C576L824.3596562231147%2C576Z%22%20style%3D%22pointer-events%3A%20all%3B%20stroke-width%3A%201%3B%20fill%3A%20rgb(225%2C%2087%2C%2089)%3B%20fill-opacity%3A%201%3B%20stroke%3A%20rgb(255%2C%20255%2C%20255)%3B%20stroke-opacity%3A%201%3B%20opacity%3A%201%3B%22%2F%3E%3Cg%20class%3D%22slicetext%22%3E%3Ctext%20data-notex%3D%221%22%20class%3D%22slicetext%22%20text-anchor%3D%22start%22%20data-unformatted%3D%22Washington%22%20data-math%3D%22N%22%20x%3D%220%22%20y%3D%220%22%20style%3D%22font-family%3A%20%26quot%3BOpen%20Sans%26quot%3B%2C%20verdana%2C%20arial%2C%20sans-serif%3B%20font-size%3A%2012px%3B%20fill%3A%20rgb(68%2C%2068%2C%2068)%3B%20fill-opacity%3A%201%3B%20white-space%3A%20pre%3B%22%20transform%3D%22translate(827.3596562231147%2C532.3205710428815)%22%3EWashington%3C%2Ftext%3E%3C%2Fg%3E%3C%2Fg%3E%3Cg%20class%3D%22slice%20cursor-pointer%22%3E%3Cpath%20class%3D%22surface%22%20d%3D%22M915.3729217761185%2C447.955753202596L955.0000000000001%2C447.955753202596L955.0000000000001%2C576L915.3729217761185%2C576Z%22%20style%3D%22pointer-events%3A%20all%3B%20stroke-width%3A%201%3B%20fill%3A%20rgb(225%2C%2087%2C%2089)%3B%20fill-opacity%3A%201%3B%20stroke%3A%20rgb(255%2C%20255%2C%20255)%3B%20stroke-opacity%3A%201%3B%20opacity%3A%201%3B%22%2F%3E%3Cg%20class%3D%22slicetext%22%3E%3Ctext%20data-notex%3D%221%22%20class%3D%22slicetext%22%20text-anchor%3D%22start%22%20data-unformatted%3D%22Oregon%22%20data-math%3D%22N%22%20x%3D%220%22%20y%3D%220%22%20style%3D%22font-family%3A%20%26quot%3BOpen%20Sans%26quot%3B%2C%20verdana%2C%20arial%2C%20sans-serif%3B%20font-size%3A%2012px%3B%20fill%3A%20rgb(68%2C%2068%2C%2068)%3B%20fill-opacity%3A%201%3B%20white-space%3A%20pre%3B%22%20transform%3D%22translate(918.3729217761185%2C460.11246669523024)scale(0.7630594577195213)%22%3EOregon%3C%2Ftext%3E%3C%2Fg%3E%3C%2Fg%3E%3C%2Fg%3E%3C%2Fg%3E%3Cg%20class%3D%22sunburstlayer%22%2F%3E%3Cg%20class%3D%22glimages%22%2F%3E%3C%2Fsvg%3E%3Cdiv%20class%3D%22gl-container%22%3E%3C%2Fdiv%3E%3Csvg%20class%3D%22main-svg%22%20xmlns%3D%22http%3A%2F%2Fwww.w3.org%2F2000%2Fsvg%22%20xmlns%3Axlink%3D%22http%3A%2F%2Fwww.w3.org%2F1999%2Fxlink%22%20width%3D%22967%22%20height%3D%22668%22%3E%3Cdefs%20id%3D%22topdefs-4dd5e6%22%3E%3Cg%20class%3D%22clips%22%2F%3E%3C%2Fdefs%3E%3Cg%20class%3D%22indicatorlayer%22%2F%3E%3Cg%20class%3D%22layer-above%22%3E%3Cg%20class%3D%22imagelayer%22%2F%3E%3Cg%20class%3D%22shapelayer%22%2F%3E%3C%2Fg%3E%3Cg%20class%3D%22infolayer%22%3E%3Cg%20class%3D%22g-gtitle%22%2F%3E%3C%2Fg%3E%3Cg%20class%3D%22menulayer%22%2F%3E%3Cg%20class%3D%22zoomlayer%22%2F%3E%3C%2Fsvg%3E%3Cdiv%20class%3D%22modebar-container%22%20style%3D%22position%3A%20absolute%3B%20top%3A%200px%3B%20right%3A%200px%3B%20width%3A%20100%25%3B%22%3E%3Cdiv%20id%3D%22modebar-4dd5e6%22%20class%3D%22modebar%20modebar--hover%20ease-bg%22%3E%3Cdiv%20class%3D%22modebar-group%22%3E%3Ca%20rel%3D%22tooltip%22%20class%3D%22modebar-btn%22%20data-title%3D%22Download%20plot%20as%20a%20png%22%20data-toggle%3D%22false%22%20data-gravity%3D%22n%22%3E%3Csvg%20xmlns%3D%22http%3A%2F%2Fwww.w3.org%2F2000%2Fsvg%22%20viewBox%3D%220%200%201000%201000%22%20class%3D%22icon%22%20height%3D%221em%22%20width%3D%221em%22%3E%3Cpath%20d%3D%22m500%20450c-83%200-150-67-150-150%200-83%2067-150%20150-150%2083%200%20150%2067%20150%20150%200%2083-67%20150-150%20150z%20m400%20150h-120c-16%200-34%2013-39%2029l-31%2093c-6%2015-23%2028-40%2028h-340c-16%200-34-13-39-28l-31-94c-6-15-23-28-40-28h-120c-55%200-100-45-100-100v-450c0-55%2045-100%20100-100h800c55%200%20100%2045%20100%20100v450c0%2055-45%20100-100%20100z%20m-400-550c-138%200-250%20112-250%20250%200%20138%20112%20250%20250%20250%20138%200%20250-112%20250-250%200-138-112-250-250-250z%20m365%20380c-19%200-35%2016-35%2035%200%2019%2016%2035%2035%2035%2019%200%2035-16%2035-35%200-19-16-35-35-35z%22%20transform%3D%22matrix(1%200%200%20-1%200%20850)%22%2F%3E%3C%2Fsvg%3E%3C%2Fa%3E%3C%2Fdiv%3E%3Cdiv%20class%3D%22modebar-group%22%3E%3C%2Fdiv%3E%3C%2Fdiv%3E%3C%2Fdiv%3E%3Csvg%20class%3D%22main-svg%22%20xmlns%3D%22http%3A%2F%2Fwww.w3.org%2F2000%2Fsvg%22%20xmlns%3Axlink%3D%22http%3A%2F%2Fwww.w3.org%2F1999%2Fxlink%22%20width%3D%22967%22%20height%3D%22668%22%3E%3Cg%20class%3D%22hoverlayer%22%2F%3E%3C%2Fsvg%3E%3C%2Fdiv%3E%3C%2Fdiv%3E%3C%2Fdiv%3E%3C%2Fdiv%3E%3C%2Fdiv%3E%3C%2Fdiv%3E%3C%2Fdiv%3E%3C%2Fdiv%3E%3C%2Fdiv%3E%3C%2Fdiv%3E%3C%2FforeignObject%3E%3C%2Fsvg%3E\">"
      ],
      "text/plain": [
       "Open the notebook in JupyterLab with the atoti extension enabled to build this widget."
      ]
     },
     "metadata": {},
     "output_type": "display_data"
    }
   ],
   "source": [
    "session.visualize(\"Scenarios: Revenue realised by State and location code\")"
   ]
  },
  {
   "cell_type": "code",
   "execution_count": 44,
   "id": "b273b901-f015-42ec-bc82-2b96c270618c",
   "metadata": {
    "atoti": {
     "height": 358,
     "widget": {
      "filters": [
       "{[Epoch].[Epoch].[Base], [Epoch].[Epoch].[Personal Auto Boost], [Epoch].[Epoch].[Pareto price change]}"
      ],
      "mapping": {
       "horizontalSubplots": [],
       "splitBy": [
        "ALL_MEASURES",
        "[predictions].[Policy_Type].[Policy_Type]"
       ],
       "values": [
        "[Measures].[revenue_realised_propotion]"
       ],
       "verticalSubplots": [],
       "xAxis": [
        "[Epoch].[Epoch].[Branch]"
       ]
      },
      "name": "Sales by demogrpahics",
      "query": {
       "mdx": "WITH  Member [Measures].[[predictions]].[Policy_Type]].[Policy_Type]]_for_order] AS [predictions].[Policy_Type].CurrentMember.MEMBER_VALUE  SELECT NON EMPTY Order(Crossjoin({[Measures].[revenue_realised_propotion]}, Hierarchize(Descendants({[predictions].[Policy_Type].[AllMember]}, 1, SELF_AND_BEFORE))), [Measures].[[predictions]].[Policy_Type]].[Policy_Type]]_for_order], BASC) ON COLUMNS, NON EMPTY [Epoch].[Epoch].[Branch].Members ON ROWS FROM [predictions] CELL PROPERTIES VALUE, FORMATTED_VALUE, BACK_COLOR, FORE_COLOR, FONT_FLAGS",
       "updateMode": "once"
      },
      "serverKey": "default",
      "widgetKey": "plotly-clustered-column-chart"
     }
    },
    "tags": []
   },
   "outputs": [
    {
     "data": {
      "application/vnd.atoti.widget.v0+json": {
       "name": "Scenarios: Revenue realized by policy types",
       "sessionId": "1648807936_ZMGVTD",
       "sessionLocation": {
        "https": null,
        "port": 62008
       },
       "widgetCreationCode": "session.visualize()"
      },
      "text/html": [
       "<img src=\"data:image/svg+xml;charset=utf8,%3C%3Fxml%20version%3D%221.0%22%20standalone%3D%22no%22%3F%3E%3Csvg%20xmlns%3D%22http%3A%2F%2Fwww.w3.org%2F2000%2Fsvg%22%20xmlns%3Axlink%3D%22http%3A%2F%2Fwww.w3.org%2F1999%2Fxlink%22%20height%3D%22350%22%20width%3D%22967%22%20viewBox%3D%220%200%20967%20350%22%3E%3Cdefs%20id%3D%22defs-6bb0da%22%3E%3Cg%20class%3D%22clips%22%3E%3CclipPath%20id%3D%22clip6bb0daxyplot%22%20class%3D%22plotclip%22%3E%3Crect%20width%3D%22735%22%20height%3D%22240%22%2F%3E%3C%2FclipPath%3E%3CclipPath%20class%3D%22axesclip%22%20id%3D%22clip6bb0dax%22%3E%3Crect%20x%3D%2280%22%20y%3D%220%22%20width%3D%22735%22%20height%3D%22350%22%2F%3E%3C%2FclipPath%3E%3CclipPath%20class%3D%22axesclip%22%20id%3D%22clip6bb0day%22%3E%3Crect%20x%3D%220%22%20y%3D%2230%22%20width%3D%22967%22%20height%3D%22240%22%2F%3E%3C%2FclipPath%3E%3CclipPath%20class%3D%22axesclip%22%20id%3D%22clip6bb0daxy%22%3E%3Crect%20x%3D%2280%22%20y%3D%2230%22%20width%3D%22735%22%20height%3D%22240%22%2F%3E%3C%2FclipPath%3E%3C%2Fg%3E%3Cg%20class%3D%22gradients%22%2F%3E%3C%2Fdefs%3E%3Cg%20class%3D%22bglayer%22%2F%3E%3Cg%20class%3D%22draglayer%20cursor-crosshair%22%3E%3Cg%20class%3D%22xy%22%3E%3Crect%20class%3D%22nsewdrag%20drag%22%20data-subplot%3D%22xy%22%20x%3D%2280%22%20y%3D%2230%22%20width%3D%22735%22%20height%3D%22240%22%20style%3D%22fill%3A%20transparent%3B%20stroke-width%3A%200%3B%20pointer-events%3A%20all%3B%22%2F%3E%3Crect%20class%3D%22nwdrag%20drag%20cursor-nw-resize%22%20data-subplot%3D%22xy%22%20x%3D%2260%22%20y%3D%2210%22%20width%3D%2220%22%20height%3D%2220%22%20style%3D%22fill%3A%20transparent%3B%20stroke-width%3A%200%3B%20pointer-events%3A%20all%3B%22%2F%3E%3Crect%20class%3D%22nedrag%20drag%20cursor-ne-resize%22%20data-subplot%3D%22xy%22%20x%3D%22815%22%20y%3D%2210%22%20width%3D%2220%22%20height%3D%2220%22%20style%3D%22fill%3A%20transparent%3B%20stroke-width%3A%200%3B%20pointer-events%3A%20all%3B%22%2F%3E%3Crect%20class%3D%22swdrag%20drag%20cursor-sw-resize%22%20data-subplot%3D%22xy%22%20x%3D%2260%22%20y%3D%22270%22%20width%3D%2220%22%20height%3D%2220%22%20style%3D%22fill%3A%20transparent%3B%20stroke-width%3A%200%3B%20pointer-events%3A%20all%3B%22%2F%3E%3Crect%20class%3D%22sedrag%20drag%20cursor-se-resize%22%20data-subplot%3D%22xy%22%20x%3D%22815%22%20y%3D%22270%22%20width%3D%2220%22%20height%3D%2220%22%20style%3D%22fill%3A%20transparent%3B%20stroke-width%3A%200%3B%20pointer-events%3A%20all%3B%22%2F%3E%3Crect%20class%3D%22ewdrag%20drag%20cursor-ew-resize%22%20data-subplot%3D%22xy%22%20x%3D%22153.5%22%20y%3D%22270.5%22%20width%3D%22588%22%20height%3D%2220%22%20style%3D%22fill%3A%20transparent%3B%20stroke-width%3A%200%3B%20pointer-events%3A%20all%3B%22%2F%3E%3Crect%20class%3D%22wdrag%20drag%20cursor-w-resize%22%20data-subplot%3D%22xy%22%20x%3D%2280%22%20y%3D%22270.5%22%20width%3D%2273.5%22%20height%3D%2220%22%20style%3D%22fill%3A%20transparent%3B%20stroke-width%3A%200%3B%20pointer-events%3A%20all%3B%22%2F%3E%3Crect%20class%3D%22edrag%20drag%20cursor-e-resize%22%20data-subplot%3D%22xy%22%20x%3D%22741.5%22%20y%3D%22270.5%22%20width%3D%2273.5%22%20height%3D%2220%22%20style%3D%22fill%3A%20transparent%3B%20stroke-width%3A%200%3B%20pointer-events%3A%20all%3B%22%2F%3E%3Crect%20class%3D%22nsdrag%20drag%20cursor-ns-resize%22%20data-subplot%3D%22xy%22%20x%3D%2259.5%22%20y%3D%2254%22%20width%3D%2220%22%20height%3D%22192%22%20style%3D%22fill%3A%20transparent%3B%20stroke-width%3A%200%3B%20pointer-events%3A%20all%3B%22%2F%3E%3Crect%20class%3D%22sdrag%20drag%20cursor-s-resize%22%20data-subplot%3D%22xy%22%20x%3D%2259.5%22%20y%3D%22246%22%20width%3D%2220%22%20height%3D%2224%22%20style%3D%22fill%3A%20transparent%3B%20stroke-width%3A%200%3B%20pointer-events%3A%20all%3B%22%2F%3E%3Crect%20class%3D%22ndrag%20drag%20cursor-n-resize%22%20data-subplot%3D%22xy%22%20x%3D%2259.5%22%20y%3D%2230%22%20width%3D%2220%22%20height%3D%2224%22%20style%3D%22fill%3A%20transparent%3B%20stroke-width%3A%200%3B%20pointer-events%3A%20all%3B%22%2F%3E%3C%2Fg%3E%3C%2Fg%3E%3Cg%20class%3D%22layer-below%22%3E%3Cg%20class%3D%22imagelayer%22%2F%3E%3Cg%20class%3D%22shapelayer%22%2F%3E%3C%2Fg%3E%3Cg%20class%3D%22cartesianlayer%22%3E%3Cg%20class%3D%22subplot%20xy%22%3E%3Cg%20class%3D%22layer-subplot%22%3E%3Cg%20class%3D%22shapelayer%22%2F%3E%3Cg%20class%3D%22imagelayer%22%2F%3E%3C%2Fg%3E%3Cg%20class%3D%22gridlayer%22%3E%3Cg%20class%3D%22x%22%3E%3Cpath%20class%3D%22xgrid%20crisp%22%20transform%3D%22translate(202.5%2C0)%22%20d%3D%22M0%2C30v240%22%20style%3D%22stroke%3A%20rgb(0%2C%200%2C%200)%3B%20stroke-opacity%3A%200%3B%20stroke-width%3A%201px%3B%22%2F%3E%3Cpath%20class%3D%22xgrid%20crisp%22%20transform%3D%22translate(447.5%2C0)%22%20d%3D%22M0%2C30v240%22%20style%3D%22stroke%3A%20rgb(0%2C%200%2C%200)%3B%20stroke-opacity%3A%200%3B%20stroke-width%3A%201px%3B%22%2F%3E%3Cpath%20class%3D%22xgrid%20crisp%22%20transform%3D%22translate(692.5%2C0)%22%20d%3D%22M0%2C30v240%22%20style%3D%22stroke%3A%20rgb(0%2C%200%2C%200)%3B%20stroke-opacity%3A%200%3B%20stroke-width%3A%201px%3B%22%2F%3E%3C%2Fg%3E%3Cg%20class%3D%22y%22%3E%3Cpath%20class%3D%22ygrid%20crisp%22%20transform%3D%22translate(0%2C219.33)%22%20d%3D%22M80%2C0h735%22%20style%3D%22stroke%3A%20rgb(89%2C%2089%2C%2089)%3B%20stroke-opacity%3A%200.25%3B%20stroke-width%3A%201px%3B%22%2F%3E%3Cpath%20class%3D%22ygrid%20crisp%22%20transform%3D%22translate(0%2C168.66)%22%20d%3D%22M80%2C0h735%22%20style%3D%22stroke%3A%20rgb(89%2C%2089%2C%2089)%3B%20stroke-opacity%3A%200.25%3B%20stroke-width%3A%201px%3B%22%2F%3E%3Cpath%20class%3D%22ygrid%20crisp%22%20transform%3D%22translate(0%2C118)%22%20d%3D%22M80%2C0h735%22%20style%3D%22stroke%3A%20rgb(89%2C%2089%2C%2089)%3B%20stroke-opacity%3A%200.25%3B%20stroke-width%3A%201px%3B%22%2F%3E%3Cpath%20class%3D%22ygrid%20crisp%22%20transform%3D%22translate(0%2C67.33)%22%20d%3D%22M80%2C0h735%22%20style%3D%22stroke%3A%20rgb(89%2C%2089%2C%2089)%3B%20stroke-opacity%3A%200.25%3B%20stroke-width%3A%201px%3B%22%2F%3E%3C%2Fg%3E%3C%2Fg%3E%3Cg%20class%3D%22zerolinelayer%22%3E%3Cpath%20class%3D%22yzl%20zl%20crisp%22%20transform%3D%22translate(0%2C270)%22%20d%3D%22M80%2C0h735%22%20style%3D%22stroke%3A%20rgb(89%2C%2089%2C%2089)%3B%20stroke-opacity%3A%200.5%3B%20stroke-width%3A%201px%3B%22%2F%3E%3C%2Fg%3E%3Cpath%20class%3D%22xlines-below%22%2F%3E%3Cpath%20class%3D%22ylines-below%22%2F%3E%3Cg%20class%3D%22overlines-below%22%2F%3E%3Cg%20class%3D%22xaxislayer-below%22%2F%3E%3Cg%20class%3D%22yaxislayer-below%22%2F%3E%3Cg%20class%3D%22overaxes-below%22%2F%3E%3Cg%20class%3D%22plot%22%20transform%3D%22translate(80%2C30)%22%20clip-path%3D%22url('%23clip6bb0daxyplot')%22%3E%3Cg%20class%3D%22barlayer%20mlayer%22%3E%3Cg%20class%3D%22trace%20bars%22%20style%3D%22opacity%3A%201%3B%22%3E%3Cg%20class%3D%22points%22%3E%3Cg%20class%3D%22point%22%3E%3Cpath%20d%3D%22M24.5%2C240V33.44H89.83V240Z%22%20style%3D%22vector-effect%3A%20non-scaling-stroke%3B%20opacity%3A%201%3B%20stroke-width%3A%200px%3B%20fill%3A%20rgb(78%2C%20121%2C%20167)%3B%20fill-opacity%3A%201%3B%22%2F%3E%3C%2Fg%3E%3Cg%20class%3D%22point%22%3E%3Cpath%20d%3D%22M269.5%2C240V24.21H334.83V240Z%22%20style%3D%22vector-effect%3A%20non-scaling-stroke%3B%20opacity%3A%201%3B%20stroke-width%3A%200px%3B%20fill%3A%20rgb(78%2C%20121%2C%20167)%3B%20fill-opacity%3A%201%3B%22%2F%3E%3C%2Fg%3E%3Cg%20class%3D%22point%22%3E%3Cpath%20d%3D%22M514.5%2C240V34.07H579.83V240Z%22%20style%3D%22vector-effect%3A%20non-scaling-stroke%3B%20opacity%3A%201%3B%20stroke-width%3A%200px%3B%20fill%3A%20rgb(78%2C%20121%2C%20167)%3B%20fill-opacity%3A%201%3B%22%2F%3E%3C%2Fg%3E%3C%2Fg%3E%3C%2Fg%3E%3Cg%20class%3D%22trace%20bars%22%20style%3D%22opacity%3A%201%3B%22%3E%3Cg%20class%3D%22points%22%3E%3Cg%20class%3D%22point%22%3E%3Cpath%20d%3D%22M89.83%2C240V72.96H155.17V240Z%22%20style%3D%22vector-effect%3A%20non-scaling-stroke%3B%20opacity%3A%201%3B%20stroke-width%3A%200px%3B%20fill%3A%20rgb(242%2C%20142%2C%2044)%3B%20fill-opacity%3A%201%3B%22%2F%3E%3C%2Fg%3E%3Cg%20class%3D%22point%22%3E%3Cpath%20d%3D%22M334.83%2C240V56.56H400.17V240Z%22%20style%3D%22vector-effect%3A%20non-scaling-stroke%3B%20opacity%3A%201%3B%20stroke-width%3A%200px%3B%20fill%3A%20rgb(242%2C%20142%2C%2044)%3B%20fill-opacity%3A%201%3B%22%2F%3E%3C%2Fg%3E%3Cg%20class%3D%22point%22%3E%3Cpath%20d%3D%22M579.83%2C240V74.59H645.17V240Z%22%20style%3D%22vector-effect%3A%20non-scaling-stroke%3B%20opacity%3A%201%3B%20stroke-width%3A%200px%3B%20fill%3A%20rgb(242%2C%20142%2C%2044)%3B%20fill-opacity%3A%201%3B%22%2F%3E%3C%2Fg%3E%3C%2Fg%3E%3C%2Fg%3E%3Cg%20class%3D%22trace%20bars%22%20style%3D%22opacity%3A%201%3B%22%3E%3Cg%20class%3D%22points%22%3E%3Cg%20class%3D%22point%22%3E%3Cpath%20d%3D%22M155.17%2C240V17.96H220.5V240Z%22%20style%3D%22vector-effect%3A%20non-scaling-stroke%3B%20opacity%3A%201%3B%20stroke-width%3A%200px%3B%20fill%3A%20rgb(225%2C%2087%2C%2089)%3B%20fill-opacity%3A%201%3B%22%2F%3E%3C%2Fg%3E%3Cg%20class%3D%22point%22%3E%3Cpath%20d%3D%22M400.17%2C240V12H465.5V240Z%22%20style%3D%22vector-effect%3A%20non-scaling-stroke%3B%20opacity%3A%201%3B%20stroke-width%3A%200px%3B%20fill%3A%20rgb(225%2C%2087%2C%2089)%3B%20fill-opacity%3A%201%3B%22%2F%3E%3C%2Fg%3E%3Cg%20class%3D%22point%22%3E%3Cpath%20d%3D%22M645.17%2C240V18.13H710.5V240Z%22%20style%3D%22vector-effect%3A%20non-scaling-stroke%3B%20opacity%3A%201%3B%20stroke-width%3A%200px%3B%20fill%3A%20rgb(225%2C%2087%2C%2089)%3B%20fill-opacity%3A%201%3B%22%2F%3E%3C%2Fg%3E%3C%2Fg%3E%3C%2Fg%3E%3C%2Fg%3E%3C%2Fg%3E%3Cg%20class%3D%22overplot%22%2F%3E%3Cpath%20class%3D%22xlines-above%20crisp%22%20style%3D%22fill%3A%20none%3B%20stroke-width%3A%201px%3B%20stroke%3A%20rgb(89%2C%2089%2C%2089)%3B%20stroke-opacity%3A%200.25%3B%22%20d%3D%22M79%2C270.5H815%22%2F%3E%3Cpath%20class%3D%22ylines-above%20crisp%22%20style%3D%22fill%3A%20none%3B%20stroke-width%3A%201px%3B%20stroke%3A%20rgb(89%2C%2089%2C%2089)%3B%20stroke-opacity%3A%200.25%3B%22%20d%3D%22M79.5%2C30V270%22%2F%3E%3Cg%20class%3D%22overlines-above%22%2F%3E%3Cg%20class%3D%22xaxislayer-above%22%3E%3Cg%20class%3D%22xtick%22%3E%3Ctext%20text-anchor%3D%22middle%22%20x%3D%220%22%20y%3D%22285.4%22%20data-unformatted%3D%22Base%22%20data-math%3D%22N%22%20transform%3D%22translate(202.5%2C0)%22%20style%3D%22font-family%3A%20%26quot%3BOpen%20Sans%26quot%3B%2C%20verdana%2C%20arial%2C%20sans-serif%3B%20font-size%3A%2012px%3B%20fill%3A%20rgb(89%2C%2089%2C%2089)%3B%20fill-opacity%3A%201%3B%20white-space%3A%20pre%3B%22%3EBase%3C%2Ftext%3E%3C%2Fg%3E%3Cg%20class%3D%22xtick%22%3E%3Ctext%20text-anchor%3D%22middle%22%20x%3D%220%22%20y%3D%22285.4%22%20data-unformatted%3D%22Pareto%20price%20change%22%20data-math%3D%22N%22%20transform%3D%22translate(447.5%2C0)%22%20style%3D%22font-family%3A%20%26quot%3BOpen%20Sans%26quot%3B%2C%20verdana%2C%20arial%2C%20sans-serif%3B%20font-size%3A%2012px%3B%20fill%3A%20rgb(89%2C%2089%2C%2089)%3B%20fill-opacity%3A%201%3B%20white-space%3A%20pre%3B%22%3EPareto%20price%20change%3C%2Ftext%3E%3C%2Fg%3E%3Cg%20class%3D%22xtick%22%3E%3Ctext%20text-anchor%3D%22middle%22%20x%3D%220%22%20y%3D%22285.4%22%20data-unformatted%3D%22Personal%20Auto%20Boost%22%20data-math%3D%22N%22%20transform%3D%22translate(692.5%2C0)%22%20style%3D%22font-family%3A%20%26quot%3BOpen%20Sans%26quot%3B%2C%20verdana%2C%20arial%2C%20sans-serif%3B%20font-size%3A%2012px%3B%20fill%3A%20rgb(89%2C%2089%2C%2089)%3B%20fill-opacity%3A%201%3B%20white-space%3A%20pre%3B%22%3EPersonal%20Auto%20Boost%3C%2Ftext%3E%3C%2Fg%3E%3C%2Fg%3E%3Cg%20class%3D%22yaxislayer-above%22%3E%3Cg%20class%3D%22ytick%22%3E%3Ctext%20text-anchor%3D%22end%22%20x%3D%2276.6%22%20y%3D%224.199999999999999%22%20data-unformatted%3D%220%22%20data-math%3D%22N%22%20transform%3D%22translate(0%2C270)%22%20style%3D%22font-family%3A%20%26quot%3BOpen%20Sans%26quot%3B%2C%20verdana%2C%20arial%2C%20sans-serif%3B%20font-size%3A%2012px%3B%20fill%3A%20rgb(89%2C%2089%2C%2089)%3B%20fill-opacity%3A%201%3B%20white-space%3A%20pre%3B%22%3E0%3C%2Ftext%3E%3C%2Fg%3E%3Cg%20class%3D%22ytick%22%3E%3Ctext%20text-anchor%3D%22end%22%20x%3D%2276.6%22%20y%3D%224.199999999999999%22%20data-unformatted%3D%220.2%22%20data-math%3D%22N%22%20transform%3D%22translate(0%2C219.33)%22%20style%3D%22font-family%3A%20%26quot%3BOpen%20Sans%26quot%3B%2C%20verdana%2C%20arial%2C%20sans-serif%3B%20font-size%3A%2012px%3B%20fill%3A%20rgb(89%2C%2089%2C%2089)%3B%20fill-opacity%3A%201%3B%20white-space%3A%20pre%3B%22%3E0.2%3C%2Ftext%3E%3C%2Fg%3E%3Cg%20class%3D%22ytick%22%3E%3Ctext%20text-anchor%3D%22end%22%20x%3D%2276.6%22%20y%3D%224.199999999999999%22%20data-unformatted%3D%220.4%22%20data-math%3D%22N%22%20transform%3D%22translate(0%2C168.66)%22%20style%3D%22font-family%3A%20%26quot%3BOpen%20Sans%26quot%3B%2C%20verdana%2C%20arial%2C%20sans-serif%3B%20font-size%3A%2012px%3B%20fill%3A%20rgb(89%2C%2089%2C%2089)%3B%20fill-opacity%3A%201%3B%20white-space%3A%20pre%3B%22%3E0.4%3C%2Ftext%3E%3C%2Fg%3E%3Cg%20class%3D%22ytick%22%3E%3Ctext%20text-anchor%3D%22end%22%20x%3D%2276.6%22%20y%3D%224.199999999999999%22%20data-unformatted%3D%220.6%22%20data-math%3D%22N%22%20transform%3D%22translate(0%2C118)%22%20style%3D%22font-family%3A%20%26quot%3BOpen%20Sans%26quot%3B%2C%20verdana%2C%20arial%2C%20sans-serif%3B%20font-size%3A%2012px%3B%20fill%3A%20rgb(89%2C%2089%2C%2089)%3B%20fill-opacity%3A%201%3B%20white-space%3A%20pre%3B%22%3E0.6%3C%2Ftext%3E%3C%2Fg%3E%3Cg%20class%3D%22ytick%22%3E%3Ctext%20text-anchor%3D%22end%22%20x%3D%2276.6%22%20y%3D%224.199999999999999%22%20data-unformatted%3D%220.8%22%20data-math%3D%22N%22%20transform%3D%22translate(0%2C67.33)%22%20style%3D%22font-family%3A%20%26quot%3BOpen%20Sans%26quot%3B%2C%20verdana%2C%20arial%2C%20sans-serif%3B%20font-size%3A%2012px%3B%20fill%3A%20rgb(89%2C%2089%2C%2089)%3B%20fill-opacity%3A%201%3B%20white-space%3A%20pre%3B%22%3E0.8%3C%2Ftext%3E%3C%2Fg%3E%3C%2Fg%3E%3Cg%20class%3D%22overaxes-above%22%2F%3E%3C%2Fg%3E%3C%2Fg%3E%3Cg%20class%3D%22polarlayer%22%2F%3E%3Cg%20class%3D%22ternarylayer%22%2F%3E%3Cg%20class%3D%22geolayer%22%2F%3E%3Cg%20class%3D%22funnelarealayer%22%2F%3E%3Cg%20class%3D%22pielayer%22%2F%3E%3Cg%20class%3D%22treemaplayer%22%2F%3E%3Cg%20class%3D%22sunburstlayer%22%2F%3E%3Cg%20class%3D%22glimages%22%2F%3E%3Cdefs%20id%3D%22topdefs-6bb0da%22%3E%3Cg%20class%3D%22clips%22%2F%3E%3CclipPath%20id%3D%22legend6bb0da%22%3E%3Crect%20width%3D%22137%22%20height%3D%2287%22%20x%3D%220%22%20y%3D%220%22%2F%3E%3C%2FclipPath%3E%3C%2Fdefs%3E%3Cg%20class%3D%22indicatorlayer%22%2F%3E%3Cg%20class%3D%22layer-above%22%3E%3Cg%20class%3D%22imagelayer%22%2F%3E%3Cg%20class%3D%22shapelayer%22%2F%3E%3C%2Fg%3E%3Cg%20class%3D%22infolayer%22%3E%3Cg%20class%3D%22legend%22%20pointer-events%3D%22all%22%20transform%3D%22translate(829.7%2C30)%22%3E%3Crect%20class%3D%22bg%22%20shape-rendering%3D%22crispEdges%22%20style%3D%22stroke%3A%20rgb(68%2C%2068%2C%2068)%3B%20stroke-opacity%3A%201%3B%20fill%3A%20rgb(255%2C%20255%2C%20255)%3B%20fill-opacity%3A%201%3B%20stroke-width%3A%200px%3B%22%20width%3D%22137%22%20height%3D%2287%22%20x%3D%220%22%20y%3D%220%22%2F%3E%3Cg%20class%3D%22scrollbox%22%20transform%3D%22%22%20clip-path%3D%22url('%23legend6bb0da')%22%3E%3Cg%20class%3D%22groups%22%20transform%3D%22%22%3E%3Cg%20class%3D%22traces%22%20style%3D%22opacity%3A%201%3B%22%20transform%3D%22translate(0%2C14.5)%22%3E%3Ctext%20class%3D%22legendtext%22%20text-anchor%3D%22start%22%20x%3D%2240%22%20y%3D%224.680000000000001%22%20data-unformatted%3D%22Corporate%20Auto%22%20data-math%3D%22N%22%20style%3D%22font-family%3A%20%26quot%3BOpen%20Sans%26quot%3B%2C%20verdana%2C%20arial%2C%20sans-serif%3B%20font-size%3A%2012px%3B%20fill%3A%20rgb(89%2C%2089%2C%2089)%3B%20fill-opacity%3A%201%3B%20white-space%3A%20pre%3B%22%3ECorporate%20Auto%3C%2Ftext%3E%3Cg%20class%3D%22layers%22%20style%3D%22opacity%3A%201%3B%22%3E%3Cg%20class%3D%22legendfill%22%2F%3E%3Cg%20class%3D%22legendlines%22%2F%3E%3Cg%20class%3D%22legendsymbols%22%3E%3Cg%20class%3D%22legendpoints%22%3E%3Cpath%20class%3D%22legendundefined%22%20d%3D%22M6%2C6H-6V-6H6Z%22%20transform%3D%22translate(20%2C0)%22%20style%3D%22stroke-width%3A%200px%3B%20fill%3A%20rgb(78%2C%20121%2C%20167)%3B%20fill-opacity%3A%201%3B%22%2F%3E%3C%2Fg%3E%3C%2Fg%3E%3C%2Fg%3E%3Crect%20class%3D%22legendtoggle%22%20pointer-events%3D%22all%22%20x%3D%220%22%20y%3D%22-9.5%22%20width%3D%22131.5062484741211%22%20height%3D%2219%22%20style%3D%22cursor%3A%20pointer%3B%20fill%3A%20rgb(0%2C%200%2C%200)%3B%20fill-opacity%3A%200%3B%22%2F%3E%3C%2Fg%3E%3C%2Fg%3E%3Cg%20class%3D%22groups%22%20transform%3D%22translate(0%2C10)%22%3E%3Cg%20class%3D%22traces%22%20style%3D%22opacity%3A%201%3B%22%20transform%3D%22translate(0%2C33.5)%22%3E%3Ctext%20class%3D%22legendtext%22%20text-anchor%3D%22start%22%20x%3D%2240%22%20y%3D%224.680000000000001%22%20data-unformatted%3D%22Personal%20Auto%22%20data-math%3D%22N%22%20style%3D%22font-family%3A%20%26quot%3BOpen%20Sans%26quot%3B%2C%20verdana%2C%20arial%2C%20sans-serif%3B%20font-size%3A%2012px%3B%20fill%3A%20rgb(89%2C%2089%2C%2089)%3B%20fill-opacity%3A%201%3B%20white-space%3A%20pre%3B%22%3EPersonal%20Auto%3C%2Ftext%3E%3Cg%20class%3D%22layers%22%20style%3D%22opacity%3A%201%3B%22%3E%3Cg%20class%3D%22legendfill%22%2F%3E%3Cg%20class%3D%22legendlines%22%2F%3E%3Cg%20class%3D%22legendsymbols%22%3E%3Cg%20class%3D%22legendpoints%22%3E%3Cpath%20class%3D%22legendundefined%22%20d%3D%22M6%2C6H-6V-6H6Z%22%20transform%3D%22translate(20%2C0)%22%20style%3D%22stroke-width%3A%200px%3B%20fill%3A%20rgb(242%2C%20142%2C%2044)%3B%20fill-opacity%3A%201%3B%22%2F%3E%3C%2Fg%3E%3C%2Fg%3E%3C%2Fg%3E%3Crect%20class%3D%22legendtoggle%22%20pointer-events%3D%22all%22%20x%3D%220%22%20y%3D%22-9.5%22%20width%3D%22131.5062484741211%22%20height%3D%2219%22%20style%3D%22cursor%3A%20pointer%3B%20fill%3A%20rgb(0%2C%200%2C%200)%3B%20fill-opacity%3A%200%3B%22%2F%3E%3C%2Fg%3E%3C%2Fg%3E%3Cg%20class%3D%22groups%22%20transform%3D%22translate(0%2C20)%22%3E%3Cg%20class%3D%22traces%22%20style%3D%22opacity%3A%201%3B%22%20transform%3D%22translate(0%2C52.5)%22%3E%3Ctext%20class%3D%22legendtext%22%20text-anchor%3D%22start%22%20x%3D%2240%22%20y%3D%224.680000000000001%22%20data-unformatted%3D%22Special%20Auto%22%20data-math%3D%22N%22%20style%3D%22font-family%3A%20%26quot%3BOpen%20Sans%26quot%3B%2C%20verdana%2C%20arial%2C%20sans-serif%3B%20font-size%3A%2012px%3B%20fill%3A%20rgb(89%2C%2089%2C%2089)%3B%20fill-opacity%3A%201%3B%20white-space%3A%20pre%3B%22%3ESpecial%20Auto%3C%2Ftext%3E%3Cg%20class%3D%22layers%22%20style%3D%22opacity%3A%201%3B%22%3E%3Cg%20class%3D%22legendfill%22%2F%3E%3Cg%20class%3D%22legendlines%22%2F%3E%3Cg%20class%3D%22legendsymbols%22%3E%3Cg%20class%3D%22legendpoints%22%3E%3Cpath%20class%3D%22legendundefined%22%20d%3D%22M6%2C6H-6V-6H6Z%22%20transform%3D%22translate(20%2C0)%22%20style%3D%22stroke-width%3A%200px%3B%20fill%3A%20rgb(225%2C%2087%2C%2089)%3B%20fill-opacity%3A%201%3B%22%2F%3E%3C%2Fg%3E%3C%2Fg%3E%3C%2Fg%3E%3Crect%20class%3D%22legendtoggle%22%20pointer-events%3D%22all%22%20x%3D%220%22%20y%3D%22-9.5%22%20width%3D%22131.5062484741211%22%20height%3D%2219%22%20style%3D%22cursor%3A%20pointer%3B%20fill%3A%20rgb(0%2C%200%2C%200)%3B%20fill-opacity%3A%200%3B%22%2F%3E%3C%2Fg%3E%3C%2Fg%3E%3C%2Fg%3E%3Crect%20class%3D%22scrollbar%22%20rx%3D%2220%22%20ry%3D%223%22%20width%3D%220%22%20height%3D%220%22%20style%3D%22fill%3A%20rgb(128%2C%20139%2C%20164)%3B%20fill-opacity%3A%201%3B%22%20x%3D%220%22%20y%3D%220%22%2F%3E%3C%2Fg%3E%3Cg%20class%3D%22g-gtitle%22%2F%3E%3Cg%20class%3D%22g-xtitle%22%2F%3E%3Cg%20class%3D%22g-ytitle%22%2F%3E%3C%2Fg%3E%3Cg%20class%3D%22menulayer%22%2F%3E%3Cg%20class%3D%22zoomlayer%22%2F%3E%3Cg%20class%3D%22hoverlayer%22%2F%3E%3C%2Fsvg%3E\">"
      ],
      "text/plain": [
       "Open the notebook in JupyterLab with the atoti extension enabled to build this widget."
      ]
     },
     "metadata": {},
     "output_type": "display_data"
    }
   ],
   "source": [
    "session.visualize(\"Scenarios: Revenue realized by policy types\")"
   ]
  },
  {
   "cell_type": "code",
   "execution_count": 45,
   "id": "84bc52c5-7903-4780-9bfc-a2e5aa11f0fd",
   "metadata": {
    "atoti": {
     "height": 663,
     "widget": {
      "filters": [
       "{[Epoch].[Epoch].[Base], [Epoch].[Epoch].[Personal Auto Boost], [Epoch].[Epoch].[Pareto price change]}"
      ],
      "mapping": {
       "color": [
        "[predictions].[Coverage_Type].[Coverage_Type]"
       ],
       "horizontalSubplots": [
        "[predictions].[Policy_Type].[Policy_Type]"
       ],
       "size": [
        "[Measures].[revenue_realised]"
       ],
       "splitBy": [],
       "verticalSubplots": [
        "[Epoch].[Epoch].[Branch]"
       ],
       "xValues": [
        "[Measures].[sale_propotion]"
       ],
       "yValues": [
        "[Measures].[revenue_realised_propotion]"
       ]
      },
      "query": {
       "mdx": "SELECT NON EMPTY Crossjoin(Hierarchize(Descendants({[predictions].[Policy_Type].[AllMember]}, 1, SELF_AND_BEFORE)), [Epoch].[Epoch].[Branch].Members, {[Measures].[sale_propotion], [Measures].[revenue_realised_propotion], [Measures].[revenue_realised]}) ON COLUMNS, NON EMPTY Hierarchize(Descendants({[predictions].[Coverage_Type].[AllMember]}, 1, SELF_AND_BEFORE)) ON ROWS FROM [predictions] CELL PROPERTIES VALUE, FORMATTED_VALUE, BACK_COLOR, FORE_COLOR, FONT_FLAGS",
       "updateMode": "once"
      },
      "serverKey": "default",
      "widgetKey": "plotly-scatter-plot"
     }
    },
    "tags": []
   },
   "outputs": [
    {
     "data": {
      "application/vnd.atoti.widget.v0+json": {
       "name": "Scenario: Revenue and sales by policy and coverage type",
       "sessionId": "1648807936_ZMGVTD",
       "sessionLocation": {
        "https": null,
        "port": 62008
       },
       "widgetCreationCode": "session.visualize()"
      },
      "text/html": [
       "<img src=\"data:image/svg+xml;charset=utf8,%3C%3Fxml%20version%3D%221.0%22%20standalone%3D%22no%22%3F%3E%3Csvg%20xmlns%3D%22http%3A%2F%2Fwww.w3.org%2F2000%2Fsvg%22%20height%3D%22655%22%20width%3D%22967%22%3E%3CforeignObject%20width%3D%22100%25%22%20height%3D%22100%25%22%20x%3D%220%22%20y%3D%220%22%3E%3Cstyle%20xmlns%3D%22http%3A%2F%2Fwww.w3.org%2F1999%2Fxhtml%22%20type%3D%22text%2Fcss%22%3E*%2C%20%3A%3Abefore%2C%20%3A%3Aafter%20%7Bbox-sizing%3A%20unset%7D%0Aa%20%7Bcolor%3A%20unset%3B%20text-decoration-line%3A%20unset%3B%20text-decoration-thickness%3A%20unset%3B%20text-decoration-style%3A%20unset%3B%20text-decoration-color%3A%20unset%7D%0A.ant-root%20%5Bclass%5E%3D%22ant-%22%5D%2C%20.ant-root%20%5Bclass*%3D%22ant-%22%5D%2C%20.ant-root%20%5Bclass%5E%3D%22ant-%22%5D%20*%2C%20.ant-root%20%5Bclass*%3D%22ant-%22%5D%20*%2C%20.ant-root%20%5Bclass%5E%3D%22ant-%22%5D%20%3A%3Abefore%2C%20.ant-root%20%5Bclass*%3D%22ant-%22%5D%20%3A%3Abefore%2C%20.ant-root%20%5Bclass%5E%3D%22ant-%22%5D%20%3A%3Aafter%2C%20.ant-root%20%5Bclass*%3D%22ant-%22%5D%20%3A%3Aafter%20%7Bbox-sizing%3A%20border-box%7D%0A.ant-root%20html%2C%20.ant-root%20%7Bwidth%3A%20100%25%3B%20height%3A%20100%25%7D%0A.ant-root%20*%2C%20.ant-root%20%3A%3Abefore%2C%20.ant-root%20%3A%3Aafter%20%7Bbox-sizing%3A%20border-box%7D%0A.ant-root%20%7Bmargin-top%3A%200px%3B%20margin-right%3A%200px%3B%20margin-bottom%3A%200px%3B%20margin-left%3A%200px%3B%20color%3A%20rgb(89%2C%2089%2C%2089)%3B%20font-size%3A%2012px%3B%20font-family%3A%20-apple-system%2C%20BlinkMacSystemFont%2C%20%22Segoe%20UI%22%2C%20Roboto%2C%20%22Helvetica%20Neue%22%2C%20Arial%2C%20%22Noto%20Sans%22%2C%20sans-serif%2C%20%22Apple%20Color%20Emoji%22%2C%20%22Segoe%20UI%20Emoji%22%2C%20%22Segoe%20UI%20Symbol%22%2C%20%22Noto%20Color%20Emoji%22%3B%20font-variant-ligatures%3A%20normal%3B%20font-variant-numeric%3A%20tabular-nums%3B%20font-variant-east-asian%3A%20normal%3B%20font-variant-caps%3A%20normal%3B%20line-height%3A%201.66667%3B%20background-color%3A%20rgb(255%2C%20255%2C%20255)%3B%20--antd-wave-shadow-color%3A%20%20%231890FF%3B%20--scroll-bar%3A%20%200%7D%0A.ant-root%20a%20%7Bcolor%3A%20rgb(24%2C%20144%2C%20255)%3B%20text-decoration-line%3A%20none%3B%20text-decoration-thickness%3A%20initial%3B%20text-decoration-style%3A%20initial%3B%20text-decoration-color%3A%20initial%3B%20background-color%3A%20transparent%3B%20outline-color%3A%20initial%3B%20outline-style%3A%20none%3B%20outline-width%3A%20initial%3B%20cursor%3A%20pointer%3B%20transition-duration%3A%200.3s%3B%20transition-timing-function%3A%20ease%3B%20transition-delay%3A%200s%3B%20transition-property%3A%20color%7D%0A.ant-root%20svg%3Anot(%3Aroot)%20%7Boverflow-x%3A%20hidden%3B%20overflow-y%3A%20hidden%7D%0A.ant-root%20a%2C%20.ant-root%20area%2C%20.ant-root%20button%2C%20.ant-root%20%5Brole%3D%22button%22%5D%2C%20.ant-root%20input%3Anot(%5Btype%3D%22range%22%5D)%2C%20.ant-root%20label%2C%20.ant-root%20select%2C%20.ant-root%20summary%2C%20.ant-root%20textarea%20%7Btouch-action%3A%20manipulation%7D%0A.ant-root%20.ant-spin%20%7Bbox-sizing%3A%20border-box%3B%20margin-top%3A%200px%3B%20margin-right%3A%200px%3B%20margin-bottom%3A%200px%3B%20margin-left%3A%200px%3B%20padding-top%3A%200px%3B%20padding-right%3A%200px%3B%20padding-bottom%3A%200px%3B%20padding-left%3A%200px%3B%20font-size%3A%2012px%3B%20font-variant-ligatures%3A%20normal%3B%20font-variant-numeric%3A%20tabular-nums%3B%20font-variant-east-asian%3A%20normal%3B%20font-variant-caps%3A%20normal%3B%20line-height%3A%201.66667%3B%20list-style-position%3A%20initial%3B%20list-style-image%3A%20initial%3B%20list-style-type%3A%20none%3B%20position%3A%20absolute%3B%20display%3A%20none%3B%20color%3A%20rgb(24%2C%20144%2C%20255)%3B%20text-align%3A%20center%3B%20vertical-align%3A%20middle%3B%20opacity%3A%200%3B%20transition-duration%3A%200.3s%3B%20transition-timing-function%3A%20cubic-bezier(0.78%2C%200.14%2C%200.15%2C%200.86)%3B%20transition-delay%3A%200s%3B%20transition-property%3A%20transform%7D%0A.ant-root%20.ant-spin-spinning%20%7Bposition%3A%20static%3B%20display%3A%20inline-block%3B%20opacity%3A%201%7D%0A.ant-root%20.ant-spin-dot%20%7Bposition%3A%20relative%3B%20display%3A%20inline-block%3B%20font-size%3A%2020px%3B%20width%3A%201em%3B%20height%3A%201em%7D%0A.ant-root%20.ant-spin-dot-item%20%7Bposition%3A%20absolute%3B%20display%3A%20block%3B%20width%3A%209px%3B%20height%3A%209px%3B%20background-color%3A%20rgb(24%2C%20144%2C%20255)%3B%20border-top-left-radius%3A%20100%25%3B%20border-top-right-radius%3A%20100%25%3B%20border-bottom-right-radius%3A%20100%25%3B%20border-bottom-left-radius%3A%20100%25%3B%20transform%3A%20scale(0.75)%3B%20transform-origin%3A%2050%25%2050%25%3B%20opacity%3A%200.3%3B%20animation-duration%3A%201s%3B%20animation-timing-function%3A%20linear%3B%20animation-delay%3A%200s%3B%20animation-iteration-count%3A%20infinite%3B%20animation-direction%3A%20alternate%3B%20animation-fill-mode%3A%20none%3B%20animation-play-state%3A%20running%3B%20animation-name%3A%20antSpinMove%7D%0A.ant-root%20.ant-spin-dot-item%3Anth-child(1)%20%7Btop%3A%200px%3B%20left%3A%200px%7D%0A.ant-root%20.ant-spin-dot-item%3Anth-child(2)%20%7Btop%3A%200px%3B%20right%3A%200px%3B%20animation-delay%3A%200.4s%7D%0A.ant-root%20.ant-spin-dot-item%3Anth-child(3)%20%7Bright%3A%200px%3B%20bottom%3A%200px%3B%20animation-delay%3A%200.8s%7D%0A.ant-root%20.ant-spin-dot-item%3Anth-child(4)%20%7Bbottom%3A%200px%3B%20left%3A%200px%3B%20animation-delay%3A%201.2s%7D%0A.ant-root%20.ant-spin-dot-spin%20%7Btransform%3A%20rotate(45deg)%3B%20animation-duration%3A%201.2s%3B%20animation-timing-function%3A%20linear%3B%20animation-delay%3A%200s%3B%20animation-iteration-count%3A%20infinite%3B%20animation-direction%3A%20normal%3B%20animation-fill-mode%3A%20none%3B%20animation-play-state%3A%20running%3B%20animation-name%3A%20antRotate%7D%0A.ant-root%20.ant-spin-lg%20.ant-spin-dot%20%7Bfont-size%3A%2032px%7D%0A.ant-root%20.ant-spin-lg%20.ant-spin-dot%20i%20%7Bwidth%3A%2014px%3B%20height%3A%2014px%7D%0A.css-12ebr42-AWidget%20%7Bheight%3A%20100%25%7D%0A.css-6bqf7m-Spinner-ChartWithSpinner%20%7Bposition%3A%20relative%3B%20height%3A%20100%25%7D%0A.css-ck2xzt-Spinner%20%7B-webkit-box-align%3A%20center%3B%20align-items%3A%20center%3B%20background-image%3A%20initial%3B%20background-position-x%3A%20initial%3B%20background-position-y%3A%20initial%3B%20background-size%3A%20initial%3B%20background-repeat-x%3A%20initial%3B%20background-repeat-y%3A%20initial%3B%20background-attachment%3A%20initial%3B%20background-origin%3A%20initial%3B%20background-clip%3A%20initial%3B%20background-color%3A%20transparent%3B%20display%3A%20flex%3B%20height%3A%20100%25%3B%20-webkit-box-pack%3A%20center%3B%20justify-content%3A%20center%3B%20position%3A%20absolute%3B%20transition-duration%3A%20300ms%3B%20transition-timing-function%3A%20ease%3B%20transition-delay%3A%200s%3B%20transition-property%3A%20opacity%3B%20width%3A%20100%25%3B%20opacity%3A%200%3B%20pointer-events%3A%20none%3B%20z-index%3A%202%7D%0A.css-1u8fyhz-ChartWithMetaData%20%7Bheight%3A%20100%25%7D%0A.css-znpfyj-Plot%20%7Bheight%3A%20100%25%3B%20position%3A%20relative%3B%20width%3A%20100%25%7D%0A.css-mb8m0v-Plot%20%7Bposition%3A%20absolute%3B%20top%3A%200px%3B%20bottom%3A%200px%3B%20left%3A%200px%3B%20right%3A%200px%7D%0A.css-mb8m0v-Plot%20.js-plotly-plot%20%7Bheight%3A%20100%25%7D%0A.js-plotly-plot%20.plotly%20.modebar-btn%20svg%20%7Bposition%3A%20relative%3B%20top%3A%202px%7D%0A.js-plotly-plot%20.plotly%20.modebar-btn%20%7Bposition%3A%20relative%3B%20font-size%3A%2016px%3B%20padding-top%3A%203px%3B%20padding-right%3A%204px%3B%20padding-bottom%3A%203px%3B%20padding-left%3A%204px%3B%20height%3A%2022px%3B%20cursor%3A%20pointer%3B%20line-height%3A%20normal%3B%20box-sizing%3A%20border-box%7D%0A.js-plotly-plot%20.plotly%20.modebar-group%20%7Bfloat%3A%20left%3B%20display%3A%20inline-block%3B%20box-sizing%3A%20border-box%3B%20padding-left%3A%208px%3B%20position%3A%20relative%3B%20vertical-align%3A%20middle%3B%20white-space%3A%20nowrap%7D%0A.js-plotly-plot%20.plotly%20.modebar--hover%20%26gt%3B%20%3Anot(.watermark)%20%7Bopacity%3A%200%3B%20transition-duration%3A%200.3s%3B%20transition-timing-function%3A%20ease%3B%20transition-delay%3A%200s%3B%20transition-property%3A%20opacity%7D%0A.js-plotly-plot%20.plotly%20.ease-bg%20%7Btransition-duration%3A%200.3s%3B%20transition-timing-function%3A%20ease%3B%20transition-delay%3A%200s%3B%20transition-property%3A%20background-color%7D%0A.js-plotly-plot%20.plotly%20.modebar%20%7Bposition%3A%20absolute%3B%20top%3A%202px%3B%20right%3A%202px%7D%0A.js-plotly-plot%20.plotly%20.cursor-ne-resize%20%7Bcursor%3A%20ne-resize%7D%0A.js-plotly-plot%20.plotly%20.cursor-n-resize%20%7Bcursor%3A%20n-resize%7D%0A.js-plotly-plot%20.plotly%20.cursor-nw-resize%20%7Bcursor%3A%20nw-resize%7D%0A.js-plotly-plot%20.plotly%20.cursor-e-resize%20%7Bcursor%3A%20e-resize%7D%0A.js-plotly-plot%20.plotly%20.cursor-w-resize%20%7Bcursor%3A%20w-resize%7D%0A.js-plotly-plot%20.plotly%20.cursor-se-resize%20%7Bcursor%3A%20se-resize%7D%0A.js-plotly-plot%20.plotly%20.cursor-s-resize%20%7Bcursor%3A%20s-resize%7D%0A.js-plotly-plot%20.plotly%20.cursor-sw-resize%20%7Bcursor%3A%20sw-resize%7D%0A.js-plotly-plot%20.plotly%20.cursor-ew-resize%20%7Bcursor%3A%20ew-resize%7D%0A.js-plotly-plot%20.plotly%20.cursor-ns-resize%20%7Bcursor%3A%20ns-resize%7D%0A.js-plotly-plot%20.plotly%20.cursor-crosshair%20%7Bcursor%3A%20crosshair%7D%0A.js-plotly-plot%20.plotly%20.main-svg%20.draglayer%20%7Bpointer-events%3A%20all%7D%0A.js-plotly-plot%20.plotly%20.main-svg%20%7Bposition%3A%20absolute%3B%20top%3A%200px%3B%20left%3A%200px%3B%20pointer-events%3A%20none%7D%0A.js-plotly-plot%20.plotly%20svg%20%7Boverflow-x%3A%20hidden%3B%20overflow-y%3A%20hidden%7D%0A.js-plotly-plot%20.plotly%20.user-select-none%20%7Buser-select%3A%20none%7D%0A.js-plotly-plot%20.plotly%20.crisp%20%7Bshape-rendering%3A%20crispedges%7D%0A.js-plotly-plot%20.plotly%20a%20%7Btext-decoration-line%3A%20none%3B%20text-decoration-thickness%3A%20initial%3B%20text-decoration-style%3A%20initial%3B%20text-decoration-color%3A%20initial%7D%0A.js-plotly-plot%20.plotly%2C%20.js-plotly-plot%20.plotly%20div%20%7Bdirection%3A%20ltr%3B%20font-family%3A%20%22Open%20Sans%22%2C%20verdana%2C%20arial%2C%20sans-serif%3B%20margin-top%3A%200px%3B%20margin-right%3A%200px%3B%20margin-bottom%3A%200px%3B%20margin-left%3A%200px%3B%20padding-top%3A%200px%3B%20padding-right%3A%200px%3B%20padding-bottom%3A%200px%3B%20padding-left%3A%200px%7D%0A%23modebar-6fabb2%20.modebar-btn.active%20.icon%20path%20%7Bfill%3A%20rgba(68%2C%2068%2C%2068%2C%200.7)%7D%0A%23modebar-6fabb2%20.modebar-btn%20.icon%20path%20%7Bfill%3A%20rgba(68%2C%2068%2C%2068%2C%200.3)%7D%0A*%20%7B-ms-overflow-style%3A%20none%3B%20scrollbar-width%3A%20none%7D%0A*%3A%3A-webkit-scrollbar%20%7Bdisplay%3A%20none%7D%0A.atoti-hidden-in-snapshot%20%7Bdisplay%3A%20none%7D%3C%2Fstyle%3E%3Cdiv%20xmlns%3D%22http%3A%2F%2Fwww.w3.org%2F1999%2Fxhtml%22%20style%3D%22height%3A%20655px%3B%20width%3A%20967px%3B%22%3E%3Cdiv%20class%3D%22ant-root%20css-0%22%3E%3Cdiv%20class%3D%22ant-dropdown-trigger%20css-12ebr42-AWidget%22%3E%3Cdiv%20class%3D%22css-6bqf7m-Spinner-ChartWithSpinner%22%3E%3Cdiv%20class%3D%22css-ck2xzt-Spinner%22%3E%3Cdiv%20class%3D%22ant-spin%20ant-spin-lg%20ant-spin-spinning%22%3E%3Cspan%20class%3D%22ant-spin-dot%20ant-spin-dot-spin%22%3E%3Ci%20class%3D%22ant-spin-dot-item%22%3E%3C%2Fi%3E%3Ci%20class%3D%22ant-spin-dot-item%22%3E%3C%2Fi%3E%3Ci%20class%3D%22ant-spin-dot-item%22%3E%3C%2Fi%3E%3Ci%20class%3D%22ant-spin-dot-item%22%3E%3C%2Fi%3E%3C%2Fspan%3E%3C%2Fdiv%3E%3C%2Fdiv%3E%3Cdiv%20class%3D%22css-1u8fyhz-ChartWithMetaData%22%3E%3Cdiv%20tabindex%3D%220%22%20class%3D%22css-znpfyj-Plot%22%3E%3Cdiv%20class%3D%22css-mb8m0v-Plot%22%3E%3Cdiv%20style%3D%22position%3A%20relative%3B%20display%3A%20inline-block%3B%22%20class%3D%22js-plotly-plot%22%3E%3Cdiv%20class%3D%22plot-container%20plotly%22%3E%3Cdiv%20class%3D%22user-select-none%20svg-container%22%20style%3D%22position%3A%20relative%3B%20width%3A%20967px%3B%20height%3A%20655px%3B%22%3E%3Csvg%20class%3D%22main-svg%22%20xmlns%3D%22http%3A%2F%2Fwww.w3.org%2F2000%2Fsvg%22%20xmlns%3Axlink%3D%22http%3A%2F%2Fwww.w3.org%2F1999%2Fxlink%22%20width%3D%22967%22%20height%3D%22655%22%20style%3D%22background%3A%20rgb(255%2C%20255%2C%20255)%3B%22%3E%3Cdefs%20id%3D%22defs-6fabb2%22%3E%3Cg%20class%3D%22clips%22%3E%3CclipPath%20id%3D%22clip6fabb2xyplot%22%20class%3D%22plotclip%22%3E%3Crect%20width%3D%22220.00000000000003%22%20height%3D%22141.2962962962963%22%2F%3E%3C%2FclipPath%3E%3CclipPath%20id%3D%22clip6fabb2xy3plot%22%20class%3D%22plotclip%22%3E%3Crect%20width%3D%22220.00000000000003%22%20height%3D%22141.29629629629625%22%2F%3E%3C%2FclipPath%3E%3CclipPath%20id%3D%22clip6fabb2xy5plot%22%20class%3D%22plotclip%22%3E%3Crect%20width%3D%22220.00000000000003%22%20height%3D%22141.29629629629628%22%2F%3E%3C%2FclipPath%3E%3CclipPath%20id%3D%22clip6fabb2x2yplot%22%20class%3D%22plotclip%22%3E%3Crect%20width%3D%22220.00000000000003%22%20height%3D%22141.2962962962963%22%2F%3E%3C%2FclipPath%3E%3CclipPath%20id%3D%22clip6fabb2x2y3plot%22%20class%3D%22plotclip%22%3E%3Crect%20width%3D%22220.00000000000003%22%20height%3D%22141.29629629629625%22%2F%3E%3C%2FclipPath%3E%3CclipPath%20id%3D%22clip6fabb2x2y5plot%22%20class%3D%22plotclip%22%3E%3Crect%20width%3D%22220.00000000000003%22%20height%3D%22141.29629629629628%22%2F%3E%3C%2FclipPath%3E%3CclipPath%20id%3D%22clip6fabb2x3yplot%22%20class%3D%22plotclip%22%3E%3Crect%20width%3D%22220%22%20height%3D%22141.2962962962963%22%2F%3E%3C%2FclipPath%3E%3CclipPath%20id%3D%22clip6fabb2x3y3plot%22%20class%3D%22plotclip%22%3E%3Crect%20width%3D%22220%22%20height%3D%22141.29629629629625%22%2F%3E%3C%2FclipPath%3E%3CclipPath%20id%3D%22clip6fabb2x3y5plot%22%20class%3D%22plotclip%22%3E%3Crect%20width%3D%22220%22%20height%3D%22141.29629629629628%22%2F%3E%3C%2FclipPath%3E%3CclipPath%20class%3D%22axesclip%22%20id%3D%22clip6fabb2x%22%3E%3Crect%20x%3D%2280%22%20y%3D%220%22%20width%3D%22220.00000000000003%22%20height%3D%22655%22%2F%3E%3C%2FclipPath%3E%3CclipPath%20class%3D%22axesclip%22%20id%3D%22clip6fabb2y%22%3E%3Crect%20x%3D%220%22%20y%3D%2230%22%20width%3D%22967%22%20height%3D%22141.2962962962963%22%2F%3E%3C%2FclipPath%3E%3CclipPath%20class%3D%22axesclip%22%20id%3D%22clip6fabb2xy%22%3E%3Crect%20x%3D%2280%22%20y%3D%2230%22%20width%3D%22220.00000000000003%22%20height%3D%22141.2962962962963%22%2F%3E%3C%2FclipPath%3E%3CclipPath%20class%3D%22axesclip%22%20id%3D%22clip6fabb2y3%22%3E%3Crect%20x%3D%220%22%20y%3D%22231.8518518518519%22%20width%3D%22967%22%20height%3D%22141.29629629629625%22%2F%3E%3C%2FclipPath%3E%3CclipPath%20class%3D%22axesclip%22%20id%3D%22clip6fabb2xy3%22%3E%3Crect%20x%3D%2280%22%20y%3D%22231.8518518518519%22%20width%3D%22220.00000000000003%22%20height%3D%22141.29629629629625%22%2F%3E%3C%2FclipPath%3E%3CclipPath%20class%3D%22axesclip%22%20id%3D%22clip6fabb2y5%22%3E%3Crect%20x%3D%220%22%20y%3D%22433.7037037037037%22%20width%3D%22967%22%20height%3D%22141.29629629629628%22%2F%3E%3C%2FclipPath%3E%3CclipPath%20class%3D%22axesclip%22%20id%3D%22clip6fabb2xy5%22%3E%3Crect%20x%3D%2280%22%20y%3D%22433.7037037037037%22%20width%3D%22220.00000000000003%22%20height%3D%22141.29629629629628%22%2F%3E%3C%2FclipPath%3E%3CclipPath%20class%3D%22axesclip%22%20id%3D%22clip6fabb2x2%22%3E%3Crect%20x%3D%22355%22%20y%3D%220%22%20width%3D%22220.00000000000003%22%20height%3D%22655%22%2F%3E%3C%2FclipPath%3E%3CclipPath%20class%3D%22axesclip%22%20id%3D%22clip6fabb2x2y%22%3E%3Crect%20x%3D%22355%22%20y%3D%2230%22%20width%3D%22220.00000000000003%22%20height%3D%22141.2962962962963%22%2F%3E%3C%2FclipPath%3E%3CclipPath%20class%3D%22axesclip%22%20id%3D%22clip6fabb2x2y3%22%3E%3Crect%20x%3D%22355%22%20y%3D%22231.8518518518519%22%20width%3D%22220.00000000000003%22%20height%3D%22141.29629629629625%22%2F%3E%3C%2FclipPath%3E%3CclipPath%20class%3D%22axesclip%22%20id%3D%22clip6fabb2x2y5%22%3E%3Crect%20x%3D%22355%22%20y%3D%22433.7037037037037%22%20width%3D%22220.00000000000003%22%20height%3D%22141.29629629629628%22%2F%3E%3C%2FclipPath%3E%3CclipPath%20class%3D%22axesclip%22%20id%3D%22clip6fabb2x3%22%3E%3Crect%20x%3D%22630%22%20y%3D%220%22%20width%3D%22220%22%20height%3D%22655%22%2F%3E%3C%2FclipPath%3E%3CclipPath%20class%3D%22axesclip%22%20id%3D%22clip6fabb2x3y%22%3E%3Crect%20x%3D%22630%22%20y%3D%2230%22%20width%3D%22220%22%20height%3D%22141.2962962962963%22%2F%3E%3C%2FclipPath%3E%3CclipPath%20class%3D%22axesclip%22%20id%3D%22clip6fabb2x3y3%22%3E%3Crect%20x%3D%22630%22%20y%3D%22231.8518518518519%22%20width%3D%22220%22%20height%3D%22141.29629629629625%22%2F%3E%3C%2FclipPath%3E%3CclipPath%20class%3D%22axesclip%22%20id%3D%22clip6fabb2x3y5%22%3E%3Crect%20x%3D%22630%22%20y%3D%22433.7037037037037%22%20width%3D%22220%22%20height%3D%22141.29629629629628%22%2F%3E%3C%2FclipPath%3E%3C%2Fg%3E%3Cg%20class%3D%22gradients%22%2F%3E%3C%2Fdefs%3E%3Cg%20class%3D%22bglayer%22%2F%3E%3Cg%20class%3D%22draglayer%20cursor-crosshair%22%3E%3Cg%20class%3D%22xy%22%3E%3Crect%20class%3D%22nsewdrag%20drag%22%20data-subplot%3D%22xy%22%20x%3D%2280%22%20y%3D%2230%22%20width%3D%22220.00000000000003%22%20height%3D%22141.2962962962963%22%20style%3D%22fill%3A%20transparent%3B%20stroke-width%3A%200%3B%20pointer-events%3A%20all%3B%22%2F%3E%3Crect%20class%3D%22nwdrag%20drag%20cursor-nw-resize%22%20data-subplot%3D%22xy%22%20x%3D%2260%22%20y%3D%2210%22%20width%3D%2220%22%20height%3D%2220%22%20style%3D%22fill%3A%20transparent%3B%20stroke-width%3A%200%3B%20pointer-events%3A%20all%3B%22%2F%3E%3Crect%20class%3D%22nedrag%20drag%20cursor-ne-resize%22%20data-subplot%3D%22xy%22%20x%3D%22300%22%20y%3D%2210%22%20width%3D%2220%22%20height%3D%2220%22%20style%3D%22fill%3A%20transparent%3B%20stroke-width%3A%200%3B%20pointer-events%3A%20all%3B%22%2F%3E%3Crect%20class%3D%22swdrag%20drag%20cursor-sw-resize%22%20data-subplot%3D%22xy%22%20x%3D%2260%22%20y%3D%22171.2962962962963%22%20width%3D%2220%22%20height%3D%2220%22%20style%3D%22fill%3A%20transparent%3B%20stroke-width%3A%200%3B%20pointer-events%3A%20all%3B%22%2F%3E%3Crect%20class%3D%22sedrag%20drag%20cursor-se-resize%22%20data-subplot%3D%22xy%22%20x%3D%22300%22%20y%3D%22171.2962962962963%22%20width%3D%2220%22%20height%3D%2220%22%20style%3D%22fill%3A%20transparent%3B%20stroke-width%3A%200%3B%20pointer-events%3A%20all%3B%22%2F%3E%3Crect%20class%3D%22nsdrag%20drag%20cursor-ns-resize%22%20data-subplot%3D%22xy%22%20x%3D%2259.5%22%20y%3D%2244.12962962962963%22%20width%3D%2220%22%20height%3D%22113.03703703703705%22%20style%3D%22fill%3A%20transparent%3B%20stroke-width%3A%200%3B%20pointer-events%3A%20all%3B%22%2F%3E%3Crect%20class%3D%22sdrag%20drag%20cursor-s-resize%22%20data-subplot%3D%22xy%22%20x%3D%2259.5%22%20y%3D%22157.16666666666669%22%20width%3D%2220%22%20height%3D%2214.129629629629632%22%20style%3D%22fill%3A%20transparent%3B%20stroke-width%3A%200%3B%20pointer-events%3A%20all%3B%22%2F%3E%3Crect%20class%3D%22ndrag%20drag%20cursor-n-resize%22%20data-subplot%3D%22xy%22%20x%3D%2259.5%22%20y%3D%2230%22%20width%3D%2220%22%20height%3D%2214.129629629629632%22%20style%3D%22fill%3A%20transparent%3B%20stroke-width%3A%200%3B%20pointer-events%3A%20all%3B%22%2F%3E%3C%2Fg%3E%3Cg%20class%3D%22xy3%22%3E%3Crect%20class%3D%22nsewdrag%20drag%22%20data-subplot%3D%22xy3%22%20x%3D%2280%22%20y%3D%22231.8518518518519%22%20width%3D%22220.00000000000003%22%20height%3D%22141.29629629629625%22%20style%3D%22fill%3A%20transparent%3B%20stroke-width%3A%200%3B%20pointer-events%3A%20all%3B%22%2F%3E%3Crect%20class%3D%22nwdrag%20drag%20cursor-nw-resize%22%20data-subplot%3D%22xy3%22%20x%3D%2260%22%20y%3D%22211.8518518518519%22%20width%3D%2220%22%20height%3D%2220%22%20style%3D%22fill%3A%20transparent%3B%20stroke-width%3A%200%3B%20pointer-events%3A%20all%3B%22%2F%3E%3Crect%20class%3D%22nedrag%20drag%20cursor-ne-resize%22%20data-subplot%3D%22xy3%22%20x%3D%22300%22%20y%3D%22211.8518518518519%22%20width%3D%2220%22%20height%3D%2220%22%20style%3D%22fill%3A%20transparent%3B%20stroke-width%3A%200%3B%20pointer-events%3A%20all%3B%22%2F%3E%3Crect%20class%3D%22swdrag%20drag%20cursor-sw-resize%22%20data-subplot%3D%22xy3%22%20x%3D%2260%22%20y%3D%22373.14814814814815%22%20width%3D%2220%22%20height%3D%2220%22%20style%3D%22fill%3A%20transparent%3B%20stroke-width%3A%200%3B%20pointer-events%3A%20all%3B%22%2F%3E%3Crect%20class%3D%22sedrag%20drag%20cursor-se-resize%22%20data-subplot%3D%22xy3%22%20x%3D%22300%22%20y%3D%22373.14814814814815%22%20width%3D%2220%22%20height%3D%2220%22%20style%3D%22fill%3A%20transparent%3B%20stroke-width%3A%200%3B%20pointer-events%3A%20all%3B%22%2F%3E%3Crect%20class%3D%22nsdrag%20drag%20cursor-ns-resize%22%20data-subplot%3D%22xy3%22%20x%3D%2259.5%22%20y%3D%22245.98148148148152%22%20width%3D%2220%22%20height%3D%22113.03703703703701%22%20style%3D%22fill%3A%20transparent%3B%20stroke-width%3A%200%3B%20pointer-events%3A%20all%3B%22%2F%3E%3Crect%20class%3D%22sdrag%20drag%20cursor-s-resize%22%20data-subplot%3D%22xy3%22%20x%3D%2259.5%22%20y%3D%22359.01851851851853%22%20width%3D%2220%22%20height%3D%2214.129629629629626%22%20style%3D%22fill%3A%20transparent%3B%20stroke-width%3A%200%3B%20pointer-events%3A%20all%3B%22%2F%3E%3Crect%20class%3D%22ndrag%20drag%20cursor-n-resize%22%20data-subplot%3D%22xy3%22%20x%3D%2259.5%22%20y%3D%22231.8518518518519%22%20width%3D%2220%22%20height%3D%2214.129629629629626%22%20style%3D%22fill%3A%20transparent%3B%20stroke-width%3A%200%3B%20pointer-events%3A%20all%3B%22%2F%3E%3C%2Fg%3E%3Cg%20class%3D%22xy5%22%3E%3Crect%20class%3D%22nsewdrag%20drag%22%20data-subplot%3D%22xy5%22%20x%3D%2280%22%20y%3D%22433.7037037037037%22%20width%3D%22220.00000000000003%22%20height%3D%22141.29629629629628%22%20style%3D%22fill%3A%20transparent%3B%20stroke-width%3A%200%3B%20pointer-events%3A%20all%3B%22%2F%3E%3Crect%20class%3D%22nwdrag%20drag%20cursor-nw-resize%22%20data-subplot%3D%22xy5%22%20x%3D%2260%22%20y%3D%22413.7037037037037%22%20width%3D%2220%22%20height%3D%2220%22%20style%3D%22fill%3A%20transparent%3B%20stroke-width%3A%200%3B%20pointer-events%3A%20all%3B%22%2F%3E%3Crect%20class%3D%22nedrag%20drag%20cursor-ne-resize%22%20data-subplot%3D%22xy5%22%20x%3D%22300%22%20y%3D%22413.7037037037037%22%20width%3D%2220%22%20height%3D%2220%22%20style%3D%22fill%3A%20transparent%3B%20stroke-width%3A%200%3B%20pointer-events%3A%20all%3B%22%2F%3E%3Crect%20class%3D%22swdrag%20drag%20cursor-sw-resize%22%20data-subplot%3D%22xy5%22%20x%3D%2260%22%20y%3D%22575%22%20width%3D%2220%22%20height%3D%2220%22%20style%3D%22fill%3A%20transparent%3B%20stroke-width%3A%200%3B%20pointer-events%3A%20all%3B%22%2F%3E%3Crect%20class%3D%22sedrag%20drag%20cursor-se-resize%22%20data-subplot%3D%22xy5%22%20x%3D%22300%22%20y%3D%22575%22%20width%3D%2220%22%20height%3D%2220%22%20style%3D%22fill%3A%20transparent%3B%20stroke-width%3A%200%3B%20pointer-events%3A%20all%3B%22%2F%3E%3Crect%20class%3D%22ewdrag%20drag%20cursor-ew-resize%22%20data-subplot%3D%22xy5%22%20x%3D%22102%22%20y%3D%22575.5%22%20width%3D%22176.00000000000003%22%20height%3D%2220%22%20style%3D%22fill%3A%20transparent%3B%20stroke-width%3A%200%3B%20pointer-events%3A%20all%3B%22%2F%3E%3Crect%20class%3D%22wdrag%20drag%20cursor-w-resize%22%20data-subplot%3D%22xy5%22%20x%3D%2280%22%20y%3D%22575.5%22%20width%3D%2222.000000000000004%22%20height%3D%2220%22%20style%3D%22fill%3A%20transparent%3B%20stroke-width%3A%200%3B%20pointer-events%3A%20all%3B%22%2F%3E%3Crect%20class%3D%22edrag%20drag%20cursor-e-resize%22%20data-subplot%3D%22xy5%22%20x%3D%22278%22%20y%3D%22575.5%22%20width%3D%2222.000000000000004%22%20height%3D%2220%22%20style%3D%22fill%3A%20transparent%3B%20stroke-width%3A%200%3B%20pointer-events%3A%20all%3B%22%2F%3E%3Crect%20class%3D%22nsdrag%20drag%20cursor-ns-resize%22%20data-subplot%3D%22xy5%22%20x%3D%2259.5%22%20y%3D%22447.8333333333333%22%20width%3D%2220%22%20height%3D%22113.03703703703702%22%20style%3D%22fill%3A%20transparent%3B%20stroke-width%3A%200%3B%20pointer-events%3A%20all%3B%22%2F%3E%3Crect%20class%3D%22sdrag%20drag%20cursor-s-resize%22%20data-subplot%3D%22xy5%22%20x%3D%2259.5%22%20y%3D%22560.8703703703703%22%20width%3D%2220%22%20height%3D%2214.129629629629628%22%20style%3D%22fill%3A%20transparent%3B%20stroke-width%3A%200%3B%20pointer-events%3A%20all%3B%22%2F%3E%3Crect%20class%3D%22ndrag%20drag%20cursor-n-resize%22%20data-subplot%3D%22xy5%22%20x%3D%2259.5%22%20y%3D%22433.7037037037037%22%20width%3D%2220%22%20height%3D%2214.129629629629628%22%20style%3D%22fill%3A%20transparent%3B%20stroke-width%3A%200%3B%20pointer-events%3A%20all%3B%22%2F%3E%3C%2Fg%3E%3Cg%20class%3D%22x2y%22%3E%3Crect%20class%3D%22nsewdrag%20drag%22%20data-subplot%3D%22x2y%22%20x%3D%22355%22%20y%3D%2230%22%20width%3D%22220.00000000000003%22%20height%3D%22141.2962962962963%22%20style%3D%22fill%3A%20transparent%3B%20stroke-width%3A%200%3B%20pointer-events%3A%20all%3B%22%2F%3E%3Crect%20class%3D%22nwdrag%20drag%20cursor-nw-resize%22%20data-subplot%3D%22x2y%22%20x%3D%22335%22%20y%3D%2210%22%20width%3D%2220%22%20height%3D%2220%22%20style%3D%22fill%3A%20transparent%3B%20stroke-width%3A%200%3B%20pointer-events%3A%20all%3B%22%2F%3E%3Crect%20class%3D%22nedrag%20drag%20cursor-ne-resize%22%20data-subplot%3D%22x2y%22%20x%3D%22575%22%20y%3D%2210%22%20width%3D%2220%22%20height%3D%2220%22%20style%3D%22fill%3A%20transparent%3B%20stroke-width%3A%200%3B%20pointer-events%3A%20all%3B%22%2F%3E%3Crect%20class%3D%22swdrag%20drag%20cursor-sw-resize%22%20data-subplot%3D%22x2y%22%20x%3D%22335%22%20y%3D%22171.2962962962963%22%20width%3D%2220%22%20height%3D%2220%22%20style%3D%22fill%3A%20transparent%3B%20stroke-width%3A%200%3B%20pointer-events%3A%20all%3B%22%2F%3E%3Crect%20class%3D%22sedrag%20drag%20cursor-se-resize%22%20data-subplot%3D%22x2y%22%20x%3D%22575%22%20y%3D%22171.2962962962963%22%20width%3D%2220%22%20height%3D%2220%22%20style%3D%22fill%3A%20transparent%3B%20stroke-width%3A%200%3B%20pointer-events%3A%20all%3B%22%2F%3E%3C%2Fg%3E%3Cg%20class%3D%22x2y3%22%3E%3Crect%20class%3D%22nsewdrag%20drag%22%20data-subplot%3D%22x2y3%22%20x%3D%22355%22%20y%3D%22231.8518518518519%22%20width%3D%22220.00000000000003%22%20height%3D%22141.29629629629625%22%20style%3D%22fill%3A%20transparent%3B%20stroke-width%3A%200%3B%20pointer-events%3A%20all%3B%22%2F%3E%3Crect%20class%3D%22nwdrag%20drag%20cursor-nw-resize%22%20data-subplot%3D%22x2y3%22%20x%3D%22335%22%20y%3D%22211.8518518518519%22%20width%3D%2220%22%20height%3D%2220%22%20style%3D%22fill%3A%20transparent%3B%20stroke-width%3A%200%3B%20pointer-events%3A%20all%3B%22%2F%3E%3Crect%20class%3D%22nedrag%20drag%20cursor-ne-resize%22%20data-subplot%3D%22x2y3%22%20x%3D%22575%22%20y%3D%22211.8518518518519%22%20width%3D%2220%22%20height%3D%2220%22%20style%3D%22fill%3A%20transparent%3B%20stroke-width%3A%200%3B%20pointer-events%3A%20all%3B%22%2F%3E%3Crect%20class%3D%22swdrag%20drag%20cursor-sw-resize%22%20data-subplot%3D%22x2y3%22%20x%3D%22335%22%20y%3D%22373.14814814814815%22%20width%3D%2220%22%20height%3D%2220%22%20style%3D%22fill%3A%20transparent%3B%20stroke-width%3A%200%3B%20pointer-events%3A%20all%3B%22%2F%3E%3Crect%20class%3D%22sedrag%20drag%20cursor-se-resize%22%20data-subplot%3D%22x2y3%22%20x%3D%22575%22%20y%3D%22373.14814814814815%22%20width%3D%2220%22%20height%3D%2220%22%20style%3D%22fill%3A%20transparent%3B%20stroke-width%3A%200%3B%20pointer-events%3A%20all%3B%22%2F%3E%3C%2Fg%3E%3Cg%20class%3D%22x2y5%22%3E%3Crect%20class%3D%22nsewdrag%20drag%22%20data-subplot%3D%22x2y5%22%20x%3D%22355%22%20y%3D%22433.7037037037037%22%20width%3D%22220.00000000000003%22%20height%3D%22141.29629629629628%22%20style%3D%22fill%3A%20transparent%3B%20stroke-width%3A%200%3B%20pointer-events%3A%20all%3B%22%2F%3E%3Crect%20class%3D%22nwdrag%20drag%20cursor-nw-resize%22%20data-subplot%3D%22x2y5%22%20x%3D%22335%22%20y%3D%22413.7037037037037%22%20width%3D%2220%22%20height%3D%2220%22%20style%3D%22fill%3A%20transparent%3B%20stroke-width%3A%200%3B%20pointer-events%3A%20all%3B%22%2F%3E%3Crect%20class%3D%22nedrag%20drag%20cursor-ne-resize%22%20data-subplot%3D%22x2y5%22%20x%3D%22575%22%20y%3D%22413.7037037037037%22%20width%3D%2220%22%20height%3D%2220%22%20style%3D%22fill%3A%20transparent%3B%20stroke-width%3A%200%3B%20pointer-events%3A%20all%3B%22%2F%3E%3Crect%20class%3D%22swdrag%20drag%20cursor-sw-resize%22%20data-subplot%3D%22x2y5%22%20x%3D%22335%22%20y%3D%22575%22%20width%3D%2220%22%20height%3D%2220%22%20style%3D%22fill%3A%20transparent%3B%20stroke-width%3A%200%3B%20pointer-events%3A%20all%3B%22%2F%3E%3Crect%20class%3D%22sedrag%20drag%20cursor-se-resize%22%20data-subplot%3D%22x2y5%22%20x%3D%22575%22%20y%3D%22575%22%20width%3D%2220%22%20height%3D%2220%22%20style%3D%22fill%3A%20transparent%3B%20stroke-width%3A%200%3B%20pointer-events%3A%20all%3B%22%2F%3E%3Crect%20class%3D%22ewdrag%20drag%20cursor-ew-resize%22%20data-subplot%3D%22x2y5%22%20x%3D%22377%22%20y%3D%22575.5%22%20width%3D%22176.00000000000003%22%20height%3D%2220%22%20style%3D%22fill%3A%20transparent%3B%20stroke-width%3A%200%3B%20pointer-events%3A%20all%3B%22%2F%3E%3Crect%20class%3D%22wdrag%20drag%20cursor-w-resize%22%20data-subplot%3D%22x2y5%22%20x%3D%22355%22%20y%3D%22575.5%22%20width%3D%2222.000000000000004%22%20height%3D%2220%22%20style%3D%22fill%3A%20transparent%3B%20stroke-width%3A%200%3B%20pointer-events%3A%20all%3B%22%2F%3E%3Crect%20class%3D%22edrag%20drag%20cursor-e-resize%22%20data-subplot%3D%22x2y5%22%20x%3D%22553%22%20y%3D%22575.5%22%20width%3D%2222.000000000000004%22%20height%3D%2220%22%20style%3D%22fill%3A%20transparent%3B%20stroke-width%3A%200%3B%20pointer-events%3A%20all%3B%22%2F%3E%3C%2Fg%3E%3Cg%20class%3D%22x3y%22%3E%3Crect%20class%3D%22nsewdrag%20drag%22%20data-subplot%3D%22x3y%22%20x%3D%22630%22%20y%3D%2230%22%20width%3D%22220%22%20height%3D%22141.2962962962963%22%20style%3D%22fill%3A%20transparent%3B%20stroke-width%3A%200%3B%20pointer-events%3A%20all%3B%22%2F%3E%3Crect%20class%3D%22nwdrag%20drag%20cursor-nw-resize%22%20data-subplot%3D%22x3y%22%20x%3D%22610%22%20y%3D%2210%22%20width%3D%2220%22%20height%3D%2220%22%20style%3D%22fill%3A%20transparent%3B%20stroke-width%3A%200%3B%20pointer-events%3A%20all%3B%22%2F%3E%3Crect%20class%3D%22nedrag%20drag%20cursor-ne-resize%22%20data-subplot%3D%22x3y%22%20x%3D%22850%22%20y%3D%2210%22%20width%3D%2220%22%20height%3D%2220%22%20style%3D%22fill%3A%20transparent%3B%20stroke-width%3A%200%3B%20pointer-events%3A%20all%3B%22%2F%3E%3Crect%20class%3D%22swdrag%20drag%20cursor-sw-resize%22%20data-subplot%3D%22x3y%22%20x%3D%22610%22%20y%3D%22171.2962962962963%22%20width%3D%2220%22%20height%3D%2220%22%20style%3D%22fill%3A%20transparent%3B%20stroke-width%3A%200%3B%20pointer-events%3A%20all%3B%22%2F%3E%3Crect%20class%3D%22sedrag%20drag%20cursor-se-resize%22%20data-subplot%3D%22x3y%22%20x%3D%22850%22%20y%3D%22171.2962962962963%22%20width%3D%2220%22%20height%3D%2220%22%20style%3D%22fill%3A%20transparent%3B%20stroke-width%3A%200%3B%20pointer-events%3A%20all%3B%22%2F%3E%3C%2Fg%3E%3Cg%20class%3D%22x3y3%22%3E%3Crect%20class%3D%22nsewdrag%20drag%22%20data-subplot%3D%22x3y3%22%20x%3D%22630%22%20y%3D%22231.8518518518519%22%20width%3D%22220%22%20height%3D%22141.29629629629625%22%20style%3D%22fill%3A%20transparent%3B%20stroke-width%3A%200%3B%20pointer-events%3A%20all%3B%22%2F%3E%3Crect%20class%3D%22nwdrag%20drag%20cursor-nw-resize%22%20data-subplot%3D%22x3y3%22%20x%3D%22610%22%20y%3D%22211.8518518518519%22%20width%3D%2220%22%20height%3D%2220%22%20style%3D%22fill%3A%20transparent%3B%20stroke-width%3A%200%3B%20pointer-events%3A%20all%3B%22%2F%3E%3Crect%20class%3D%22nedrag%20drag%20cursor-ne-resize%22%20data-subplot%3D%22x3y3%22%20x%3D%22850%22%20y%3D%22211.8518518518519%22%20width%3D%2220%22%20height%3D%2220%22%20style%3D%22fill%3A%20transparent%3B%20stroke-width%3A%200%3B%20pointer-events%3A%20all%3B%22%2F%3E%3Crect%20class%3D%22swdrag%20drag%20cursor-sw-resize%22%20data-subplot%3D%22x3y3%22%20x%3D%22610%22%20y%3D%22373.14814814814815%22%20width%3D%2220%22%20height%3D%2220%22%20style%3D%22fill%3A%20transparent%3B%20stroke-width%3A%200%3B%20pointer-events%3A%20all%3B%22%2F%3E%3Crect%20class%3D%22sedrag%20drag%20cursor-se-resize%22%20data-subplot%3D%22x3y3%22%20x%3D%22850%22%20y%3D%22373.14814814814815%22%20width%3D%2220%22%20height%3D%2220%22%20style%3D%22fill%3A%20transparent%3B%20stroke-width%3A%200%3B%20pointer-events%3A%20all%3B%22%2F%3E%3C%2Fg%3E%3Cg%20class%3D%22x3y5%22%3E%3Crect%20class%3D%22nsewdrag%20drag%22%20data-subplot%3D%22x3y5%22%20x%3D%22630%22%20y%3D%22433.7037037037037%22%20width%3D%22220%22%20height%3D%22141.29629629629628%22%20style%3D%22fill%3A%20transparent%3B%20stroke-width%3A%200%3B%20pointer-events%3A%20all%3B%22%2F%3E%3Crect%20class%3D%22nwdrag%20drag%20cursor-nw-resize%22%20data-subplot%3D%22x3y5%22%20x%3D%22610%22%20y%3D%22413.7037037037037%22%20width%3D%2220%22%20height%3D%2220%22%20style%3D%22fill%3A%20transparent%3B%20stroke-width%3A%200%3B%20pointer-events%3A%20all%3B%22%2F%3E%3Crect%20class%3D%22nedrag%20drag%20cursor-ne-resize%22%20data-subplot%3D%22x3y5%22%20x%3D%22850%22%20y%3D%22413.7037037037037%22%20width%3D%2220%22%20height%3D%2220%22%20style%3D%22fill%3A%20transparent%3B%20stroke-width%3A%200%3B%20pointer-events%3A%20all%3B%22%2F%3E%3Crect%20class%3D%22swdrag%20drag%20cursor-sw-resize%22%20data-subplot%3D%22x3y5%22%20x%3D%22610%22%20y%3D%22575%22%20width%3D%2220%22%20height%3D%2220%22%20style%3D%22fill%3A%20transparent%3B%20stroke-width%3A%200%3B%20pointer-events%3A%20all%3B%22%2F%3E%3Crect%20class%3D%22sedrag%20drag%20cursor-se-resize%22%20data-subplot%3D%22x3y5%22%20x%3D%22850%22%20y%3D%22575%22%20width%3D%2220%22%20height%3D%2220%22%20style%3D%22fill%3A%20transparent%3B%20stroke-width%3A%200%3B%20pointer-events%3A%20all%3B%22%2F%3E%3Crect%20class%3D%22ewdrag%20drag%20cursor-ew-resize%22%20data-subplot%3D%22x3y5%22%20x%3D%22652%22%20y%3D%22575.5%22%20width%3D%22176%22%20height%3D%2220%22%20style%3D%22fill%3A%20transparent%3B%20stroke-width%3A%200%3B%20pointer-events%3A%20all%3B%22%2F%3E%3Crect%20class%3D%22wdrag%20drag%20cursor-w-resize%22%20data-subplot%3D%22x3y5%22%20x%3D%22630%22%20y%3D%22575.5%22%20width%3D%2222%22%20height%3D%2220%22%20style%3D%22fill%3A%20transparent%3B%20stroke-width%3A%200%3B%20pointer-events%3A%20all%3B%22%2F%3E%3Crect%20class%3D%22edrag%20drag%20cursor-e-resize%22%20data-subplot%3D%22x3y5%22%20x%3D%22828%22%20y%3D%22575.5%22%20width%3D%2222%22%20height%3D%2220%22%20style%3D%22fill%3A%20transparent%3B%20stroke-width%3A%200%3B%20pointer-events%3A%20all%3B%22%2F%3E%3C%2Fg%3E%3C%2Fg%3E%3Cg%20class%3D%22layer-below%22%3E%3Cg%20class%3D%22imagelayer%22%2F%3E%3Cg%20class%3D%22shapelayer%22%2F%3E%3C%2Fg%3E%3Cg%20class%3D%22cartesianlayer%22%3E%3Cg%20class%3D%22subplot%20xy%22%3E%3Cg%20class%3D%22layer-subplot%22%3E%3Cg%20class%3D%22shapelayer%22%2F%3E%3Cg%20class%3D%22imagelayer%22%2F%3E%3C%2Fg%3E%3Cg%20class%3D%22gridlayer%22%3E%3Cg%20class%3D%22x%22%3E%3Cpath%20class%3D%22xgrid%20crisp%22%20transform%3D%22translate(82.37%2C0)%22%20d%3D%22M0%2C30v141.2962962962963%22%20style%3D%22stroke%3A%20rgb(89%2C%2089%2C%2089)%3B%20stroke-opacity%3A%200.25%3B%20stroke-width%3A%201px%3B%22%2F%3E%3Cpath%20class%3D%22xgrid%20crisp%22%20transform%3D%22translate(146.59%2C0)%22%20d%3D%22M0%2C30v141.2962962962963%22%20style%3D%22stroke%3A%20rgb(89%2C%2089%2C%2089)%3B%20stroke-opacity%3A%200.25%3B%20stroke-width%3A%201px%3B%22%2F%3E%3Cpath%20class%3D%22xgrid%20crisp%22%20transform%3D%22translate(210.8%2C0)%22%20d%3D%22M0%2C30v141.2962962962963%22%20style%3D%22stroke%3A%20rgb(89%2C%2089%2C%2089)%3B%20stroke-opacity%3A%200.25%3B%20stroke-width%3A%201px%3B%22%2F%3E%3Cpath%20class%3D%22xgrid%20crisp%22%20transform%3D%22translate(275.01%2C0)%22%20d%3D%22M0%2C30v141.2962962962963%22%20style%3D%22stroke%3A%20rgb(89%2C%2089%2C%2089)%3B%20stroke-opacity%3A%200.25%3B%20stroke-width%3A%201px%3B%22%2F%3E%3C%2Fg%3E%3Cg%20class%3D%22y%22%3E%3Cpath%20class%3D%22ygrid%20crisp%22%20transform%3D%22translate(0%2C125.77)%22%20d%3D%22M80%2C0h220.00000000000003%22%20style%3D%22stroke%3A%20rgb(89%2C%2089%2C%2089)%3B%20stroke-opacity%3A%200.25%3B%20stroke-width%3A%201px%3B%22%2F%3E%3Cpath%20class%3D%22ygrid%20crisp%22%20transform%3D%22translate(0%2C69.49000000000001)%22%20d%3D%22M80%2C0h220.00000000000003%22%20style%3D%22stroke%3A%20rgb(89%2C%2089%2C%2089)%3B%20stroke-opacity%3A%200.25%3B%20stroke-width%3A%201px%3B%22%2F%3E%3C%2Fg%3E%3C%2Fg%3E%3Cg%20class%3D%22zerolinelayer%22%2F%3E%3Cpath%20class%3D%22xlines-below%22%2F%3E%3Cpath%20class%3D%22ylines-below%22%2F%3E%3Cg%20class%3D%22overlines-below%22%2F%3E%3Cg%20class%3D%22xaxislayer-below%22%2F%3E%3Cg%20class%3D%22yaxislayer-below%22%2F%3E%3Cg%20class%3D%22overaxes-below%22%2F%3E%3Cg%20class%3D%22plot%22%20transform%3D%22translate(80%2C30)%22%20clip-path%3D%22url('%23clip6fabb2xyplot')%22%3E%3Cg%20class%3D%22scatterlayer%20mlayer%22%3E%3Cg%20class%3D%22trace%20scatter%20trace917a48%22%20style%3D%22stroke-miterlimit%3A%202%3B%20opacity%3A%201%3B%22%3E%3Cg%20class%3D%22fills%22%2F%3E%3Cg%20class%3D%22errorbars%22%2F%3E%3Cg%20class%3D%22lines%22%2F%3E%3Cg%20class%3D%22points%22%3E%3Cpath%20class%3D%22point%22%20transform%3D%22translate(66.94%2C65.59)%22%20d%3D%22M38.01%2C0A38.01%2C38.01%200%201%2C1%200%2C-38.01A38.01%2C38.01%200%200%2C1%2038.01%2C0Z%22%20style%3D%22opacity%3A%200.7%3B%20stroke-width%3A%201px%3B%20fill%3A%20rgb(78%2C%20121%2C%20167)%3B%20fill-opacity%3A%201%3B%20stroke%3A%20rgb(255%2C%20255%2C%20255)%3B%20stroke-opacity%3A%201%3B%22%2F%3E%3C%2Fg%3E%3Cg%20class%3D%22text%22%2F%3E%3C%2Fg%3E%3Cg%20class%3D%22trace%20scatter%20trace434e98%22%20style%3D%22stroke-miterlimit%3A%202%3B%20opacity%3A%201%3B%22%3E%3Cg%20class%3D%22fills%22%2F%3E%3Cg%20class%3D%22errorbars%22%2F%3E%3Cg%20class%3D%22lines%22%2F%3E%3Cg%20class%3D%22points%22%3E%3Cpath%20class%3D%22point%22%20transform%3D%22translate(115.38%2C59.39)%22%20d%3D%22M37.64%2C0A37.64%2C37.64%200%201%2C1%200%2C-37.64A37.64%2C37.64%200%200%2C1%2037.64%2C0Z%22%20style%3D%22opacity%3A%200.7%3B%20stroke-width%3A%201px%3B%20fill%3A%20rgb(242%2C%20142%2C%2044)%3B%20fill-opacity%3A%201%3B%20stroke%3A%20rgb(255%2C%20255%2C%20255)%3B%20stroke-opacity%3A%201%3B%22%2F%3E%3C%2Fg%3E%3Cg%20class%3D%22text%22%2F%3E%3C%2Fg%3E%3Cg%20class%3D%22trace%20scatter%20trace10208a%22%20style%3D%22stroke-miterlimit%3A%202%3B%20opacity%3A%201%3B%22%3E%3Cg%20class%3D%22fills%22%2F%3E%3Cg%20class%3D%22errorbars%22%2F%3E%3Cg%20class%3D%22lines%22%2F%3E%3Cg%20class%3D%22points%22%3E%3Cpath%20class%3D%22point%22%20transform%3D%22translate(160.25%2C54.42)%22%20d%3D%22M32.92%2C0A32.92%2C32.92%200%201%2C1%200%2C-32.92A32.92%2C32.92%200%200%2C1%2032.92%2C0Z%22%20style%3D%22opacity%3A%200.7%3B%20stroke-width%3A%201px%3B%20fill%3A%20rgb(225%2C%2087%2C%2089)%3B%20fill-opacity%3A%201%3B%20stroke%3A%20rgb(255%2C%20255%2C%20255)%3B%20stroke-opacity%3A%201%3B%22%2F%3E%3C%2Fg%3E%3Cg%20class%3D%22text%22%2F%3E%3C%2Fg%3E%3C%2Fg%3E%3C%2Fg%3E%3Cg%20class%3D%22overplot%22%2F%3E%3Cpath%20class%3D%22xlines-above%20crisp%22%20d%3D%22M0%2C0%22%20style%3D%22fill%3A%20none%3B%22%2F%3E%3Cpath%20class%3D%22ylines-above%20crisp%22%20d%3D%22M79.5%2C30V171.2962962962963%22%20style%3D%22fill%3A%20none%3B%20stroke-width%3A%201px%3B%20stroke%3A%20rgb(89%2C%2089%2C%2089)%3B%20stroke-opacity%3A%200.25%3B%22%2F%3E%3Cg%20class%3D%22overlines-above%22%2F%3E%3Cg%20class%3D%22xaxislayer-above%22%2F%3E%3Cg%20class%3D%22yaxislayer-above%22%3E%3Cg%20class%3D%22ytick%22%3E%3Ctext%20text-anchor%3D%22end%22%20x%3D%2276.6%22%20y%3D%224.199999999999999%22%20data-unformatted%3D%220.5%22%20data-math%3D%22N%22%20transform%3D%22translate(0%2C125.77)%22%20style%3D%22font-family%3A%20%26quot%3BOpen%20Sans%26quot%3B%2C%20verdana%2C%20arial%2C%20sans-serif%3B%20font-size%3A%2012px%3B%20fill%3A%20rgb(89%2C%2089%2C%2089)%3B%20fill-opacity%3A%201%3B%20white-space%3A%20pre%3B%22%3E0.5%3C%2Ftext%3E%3C%2Fg%3E%3Cg%20class%3D%22ytick%22%3E%3Ctext%20text-anchor%3D%22end%22%20x%3D%2276.6%22%20y%3D%224.199999999999999%22%20data-unformatted%3D%221%22%20data-math%3D%22N%22%20transform%3D%22translate(0%2C69.49000000000001)%22%20style%3D%22font-family%3A%20%26quot%3BOpen%20Sans%26quot%3B%2C%20verdana%2C%20arial%2C%20sans-serif%3B%20font-size%3A%2012px%3B%20fill%3A%20rgb(89%2C%2089%2C%2089)%3B%20fill-opacity%3A%201%3B%20white-space%3A%20pre%3B%22%3E1%3C%2Ftext%3E%3C%2Fg%3E%3C%2Fg%3E%3Cg%20class%3D%22overaxes-above%22%2F%3E%3C%2Fg%3E%3Cg%20class%3D%22subplot%20xy3%22%3E%3Cg%20class%3D%22layer-subplot%22%3E%3Cg%20class%3D%22shapelayer%22%2F%3E%3Cg%20class%3D%22imagelayer%22%2F%3E%3C%2Fg%3E%3Cg%20class%3D%22gridlayer%22%3E%3Cg%20class%3D%22x%22%3E%3Cpath%20class%3D%22xgrid%20crisp%22%20transform%3D%22translate(82.37%2C0)%22%20d%3D%22M0%2C231.8518518518519v141.29629629629625%22%20style%3D%22stroke%3A%20rgb(89%2C%2089%2C%2089)%3B%20stroke-opacity%3A%200.25%3B%20stroke-width%3A%201px%3B%22%2F%3E%3Cpath%20class%3D%22xgrid%20crisp%22%20transform%3D%22translate(146.59%2C0)%22%20d%3D%22M0%2C231.8518518518519v141.29629629629625%22%20style%3D%22stroke%3A%20rgb(89%2C%2089%2C%2089)%3B%20stroke-opacity%3A%200.25%3B%20stroke-width%3A%201px%3B%22%2F%3E%3Cpath%20class%3D%22xgrid%20crisp%22%20transform%3D%22translate(210.8%2C0)%22%20d%3D%22M0%2C231.8518518518519v141.29629629629625%22%20style%3D%22stroke%3A%20rgb(89%2C%2089%2C%2089)%3B%20stroke-opacity%3A%200.25%3B%20stroke-width%3A%201px%3B%22%2F%3E%3Cpath%20class%3D%22xgrid%20crisp%22%20transform%3D%22translate(275.01%2C0)%22%20d%3D%22M0%2C231.8518518518519v141.29629629629625%22%20style%3D%22stroke%3A%20rgb(89%2C%2089%2C%2089)%3B%20stroke-opacity%3A%200.25%3B%20stroke-width%3A%201px%3B%22%2F%3E%3C%2Fg%3E%3Cg%20class%3D%22y3%22%3E%3Cpath%20class%3D%22y3grid%20crisp%22%20transform%3D%22translate(0%2C325.3718518518519)%22%20d%3D%22M80%2C0h220.00000000000003%22%20style%3D%22stroke%3A%20rgb(238%2C%20238%2C%20238)%3B%20stroke-opacity%3A%201%3B%20stroke-width%3A%201px%3B%22%2F%3E%3Cpath%20class%3D%22y3grid%20crisp%22%20transform%3D%22translate(0%2C285.1218518518519)%22%20d%3D%22M80%2C0h220.00000000000003%22%20style%3D%22stroke%3A%20rgb(238%2C%20238%2C%20238)%3B%20stroke-opacity%3A%201%3B%20stroke-width%3A%201px%3B%22%2F%3E%3Cpath%20class%3D%22y3grid%20crisp%22%20transform%3D%22translate(0%2C244.8618518518519)%22%20d%3D%22M80%2C0h220.00000000000003%22%20style%3D%22stroke%3A%20rgb(238%2C%20238%2C%20238)%3B%20stroke-opacity%3A%201%3B%20stroke-width%3A%201px%3B%22%2F%3E%3C%2Fg%3E%3C%2Fg%3E%3Cg%20class%3D%22zerolinelayer%22%3E%3Cpath%20class%3D%22y3zl%20zl%20crisp%22%20transform%3D%22translate(0%2C365.63185185185193)%22%20d%3D%22M80%2C0h220.00000000000003%22%20style%3D%22stroke%3A%20rgb(68%2C%2068%2C%2068)%3B%20stroke-opacity%3A%201%3B%20stroke-width%3A%201px%3B%22%2F%3E%3C%2Fg%3E%3Cpath%20class%3D%22xlines-below%22%2F%3E%3Cpath%20class%3D%22ylines-below%22%2F%3E%3Cg%20class%3D%22overlines-below%22%2F%3E%3Cg%20class%3D%22xaxislayer-below%22%2F%3E%3Cg%20class%3D%22yaxislayer-below%22%2F%3E%3Cg%20class%3D%22overaxes-below%22%2F%3E%3Cg%20class%3D%22plot%22%20transform%3D%22translate(80%2C231.8518518518519)%22%20clip-path%3D%22url('%23clip6fabb2xy3plot')%22%3E%3Cg%20class%3D%22scatterlayer%20mlayer%22%3E%3Cg%20class%3D%22trace%20scatter%20trace7daa55%22%20style%3D%22stroke-miterlimit%3A%202%3B%20opacity%3A%201%3B%22%3E%3Cg%20class%3D%22fills%22%2F%3E%3Cg%20class%3D%22errorbars%22%2F%3E%3Cg%20class%3D%22lines%22%2F%3E%3Cg%20class%3D%22points%22%3E%3Cpath%20class%3D%22point%22%20transform%3D%22translate(66.94%2C68.26)%22%20d%3D%22M44.75%2C0A44.75%2C44.75%200%201%2C1%200%2C-44.75A44.75%2C44.75%200%200%2C1%2044.75%2C0Z%22%20style%3D%22opacity%3A%200.7%3B%20stroke-width%3A%201px%3B%20fill%3A%20rgb(78%2C%20121%2C%20167)%3B%20fill-opacity%3A%201%3B%20stroke%3A%20rgb(255%2C%20255%2C%20255)%3B%20stroke-opacity%3A%201%3B%22%2F%3E%3C%2Fg%3E%3Cg%20class%3D%22text%22%2F%3E%3C%2Fg%3E%3Cg%20class%3D%22trace%20scatter%20trace0277e0%22%20style%3D%22stroke-miterlimit%3A%202%3B%20opacity%3A%201%3B%22%3E%3Cg%20class%3D%22fills%22%2F%3E%3Cg%20class%3D%22errorbars%22%2F%3E%3Cg%20class%3D%22lines%22%2F%3E%3Cg%20class%3D%22points%22%3E%3Cpath%20class%3D%22point%22%20transform%3D%22translate(115.38%2C64.69)%22%20d%3D%22M44.51%2C0A44.51%2C44.51%200%201%2C1%200%2C-44.51A44.51%2C44.51%200%200%2C1%2044.51%2C0Z%22%20style%3D%22opacity%3A%200.7%3B%20stroke-width%3A%201px%3B%20fill%3A%20rgb(242%2C%20142%2C%2044)%3B%20fill-opacity%3A%201%3B%20stroke%3A%20rgb(255%2C%20255%2C%20255)%3B%20stroke-opacity%3A%201%3B%22%2F%3E%3C%2Fg%3E%3Cg%20class%3D%22text%22%2F%3E%3C%2Fg%3E%3Cg%20class%3D%22trace%20scatter%20trace56c251%22%20style%3D%22stroke-miterlimit%3A%202%3B%20opacity%3A%201%3B%22%3E%3Cg%20class%3D%22fills%22%2F%3E%3Cg%20class%3D%22errorbars%22%2F%3E%3Cg%20class%3D%22lines%22%2F%3E%3Cg%20class%3D%22points%22%3E%3Cpath%20class%3D%22point%22%20transform%3D%22translate(160.25%2C61.95)%22%20d%3D%22M39%2C0A39%2C39%200%201%2C1%200%2C-39A39%2C39%200%200%2C1%2039%2C0Z%22%20style%3D%22opacity%3A%200.7%3B%20stroke-width%3A%201px%3B%20fill%3A%20rgb(225%2C%2087%2C%2089)%3B%20fill-opacity%3A%201%3B%20stroke%3A%20rgb(255%2C%20255%2C%20255)%3B%20stroke-opacity%3A%201%3B%22%2F%3E%3C%2Fg%3E%3Cg%20class%3D%22text%22%2F%3E%3C%2Fg%3E%3C%2Fg%3E%3C%2Fg%3E%3Cg%20class%3D%22overplot%22%2F%3E%3Cpath%20class%3D%22xlines-above%20crisp%22%20d%3D%22M0%2C0%22%20style%3D%22fill%3A%20none%3B%22%2F%3E%3Cpath%20class%3D%22ylines-above%20crisp%22%20d%3D%22M0%2C0%22%20style%3D%22fill%3A%20none%3B%22%2F%3E%3Cg%20class%3D%22overlines-above%22%2F%3E%3Cg%20class%3D%22xaxislayer-above%22%2F%3E%3Cg%20class%3D%22yaxislayer-above%22%3E%3Cg%20class%3D%22y3tick%22%3E%3Ctext%20text-anchor%3D%22end%22%20x%3D%2279%22%20y%3D%224.199999999999999%22%20data-unformatted%3D%220%22%20data-math%3D%22N%22%20transform%3D%22translate(0%2C365.63185185185193)%22%20style%3D%22font-family%3A%20%26quot%3BOpen%20Sans%26quot%3B%2C%20verdana%2C%20arial%2C%20sans-serif%3B%20font-size%3A%2012px%3B%20fill%3A%20rgb(89%2C%2089%2C%2089)%3B%20fill-opacity%3A%201%3B%20white-space%3A%20pre%3B%22%3E0%3C%2Ftext%3E%3C%2Fg%3E%3Cg%20class%3D%22y3tick%22%3E%3Ctext%20text-anchor%3D%22end%22%20x%3D%2279%22%20y%3D%224.199999999999999%22%20data-unformatted%3D%220.5%22%20data-math%3D%22N%22%20transform%3D%22translate(0%2C325.3718518518519)%22%20style%3D%22font-family%3A%20%26quot%3BOpen%20Sans%26quot%3B%2C%20verdana%2C%20arial%2C%20sans-serif%3B%20font-size%3A%2012px%3B%20fill%3A%20rgb(89%2C%2089%2C%2089)%3B%20fill-opacity%3A%201%3B%20white-space%3A%20pre%3B%22%3E0.5%3C%2Ftext%3E%3C%2Fg%3E%3Cg%20class%3D%22y3tick%22%3E%3Ctext%20text-anchor%3D%22end%22%20x%3D%2279%22%20y%3D%224.199999999999999%22%20data-unformatted%3D%221%22%20data-math%3D%22N%22%20transform%3D%22translate(0%2C285.1218518518519)%22%20style%3D%22font-family%3A%20%26quot%3BOpen%20Sans%26quot%3B%2C%20verdana%2C%20arial%2C%20sans-serif%3B%20font-size%3A%2012px%3B%20fill%3A%20rgb(89%2C%2089%2C%2089)%3B%20fill-opacity%3A%201%3B%20white-space%3A%20pre%3B%22%3E1%3C%2Ftext%3E%3C%2Fg%3E%3Cg%20class%3D%22y3tick%22%3E%3Ctext%20text-anchor%3D%22end%22%20x%3D%2279%22%20y%3D%224.199999999999999%22%20data-unformatted%3D%221.5%22%20data-math%3D%22N%22%20transform%3D%22translate(0%2C244.8618518518519)%22%20style%3D%22font-family%3A%20%26quot%3BOpen%20Sans%26quot%3B%2C%20verdana%2C%20arial%2C%20sans-serif%3B%20font-size%3A%2012px%3B%20fill%3A%20rgb(89%2C%2089%2C%2089)%3B%20fill-opacity%3A%201%3B%20white-space%3A%20pre%3B%22%3E1.5%3C%2Ftext%3E%3C%2Fg%3E%3C%2Fg%3E%3Cg%20class%3D%22overaxes-above%22%2F%3E%3C%2Fg%3E%3Cg%20class%3D%22subplot%20xy5%22%3E%3Cg%20class%3D%22layer-subplot%22%3E%3Cg%20class%3D%22shapelayer%22%2F%3E%3Cg%20class%3D%22imagelayer%22%2F%3E%3C%2Fg%3E%3Cg%20class%3D%22gridlayer%22%3E%3Cg%20class%3D%22x%22%3E%3Cpath%20class%3D%22xgrid%20crisp%22%20transform%3D%22translate(82.37%2C0)%22%20d%3D%22M0%2C433.7037037037037v141.29629629629628%22%20style%3D%22stroke%3A%20rgb(89%2C%2089%2C%2089)%3B%20stroke-opacity%3A%200.25%3B%20stroke-width%3A%201px%3B%22%2F%3E%3Cpath%20class%3D%22xgrid%20crisp%22%20transform%3D%22translate(146.59%2C0)%22%20d%3D%22M0%2C433.7037037037037v141.29629629629628%22%20style%3D%22stroke%3A%20rgb(89%2C%2089%2C%2089)%3B%20stroke-opacity%3A%200.25%3B%20stroke-width%3A%201px%3B%22%2F%3E%3Cpath%20class%3D%22xgrid%20crisp%22%20transform%3D%22translate(210.8%2C0)%22%20d%3D%22M0%2C433.7037037037037v141.29629629629628%22%20style%3D%22stroke%3A%20rgb(89%2C%2089%2C%2089)%3B%20stroke-opacity%3A%200.25%3B%20stroke-width%3A%201px%3B%22%2F%3E%3Cpath%20class%3D%22xgrid%20crisp%22%20transform%3D%22translate(275.01%2C0)%22%20d%3D%22M0%2C433.7037037037037v141.29629629629628%22%20style%3D%22stroke%3A%20rgb(89%2C%2089%2C%2089)%3B%20stroke-opacity%3A%200.25%3B%20stroke-width%3A%201px%3B%22%2F%3E%3C%2Fg%3E%3Cg%20class%3D%22y5%22%3E%3Cpath%20class%3D%22y5grid%20crisp%22%20transform%3D%22translate(0%2C484.7437037037037)%22%20d%3D%22M80%2C0h220.00000000000003%22%20style%3D%22stroke%3A%20rgb(238%2C%20238%2C%20238)%3B%20stroke-opacity%3A%201%3B%20stroke-width%3A%201px%3B%22%2F%3E%3Cpath%20class%3D%22y5grid%20crisp%22%20transform%3D%22translate(0%2C439.3137037037037)%22%20d%3D%22M80%2C0h220.00000000000003%22%20style%3D%22stroke%3A%20rgb(238%2C%20238%2C%20238)%3B%20stroke-opacity%3A%201%3B%20stroke-width%3A%201px%3B%22%2F%3E%3C%2Fg%3E%3C%2Fg%3E%3Cg%20class%3D%22zerolinelayer%22%3E%3Cpath%20class%3D%22y5zl%20zl%20crisp%22%20transform%3D%22translate(0%2C530.1737037037037)%22%20d%3D%22M80%2C0h220.00000000000003%22%20style%3D%22stroke%3A%20rgb(68%2C%2068%2C%2068)%3B%20stroke-opacity%3A%201%3B%20stroke-width%3A%201px%3B%22%2F%3E%3C%2Fg%3E%3Cpath%20class%3D%22xlines-below%22%2F%3E%3Cpath%20class%3D%22ylines-below%22%2F%3E%3Cg%20class%3D%22overlines-below%22%2F%3E%3Cg%20class%3D%22xaxislayer-below%22%2F%3E%3Cg%20class%3D%22yaxislayer-below%22%2F%3E%3Cg%20class%3D%22overaxes-below%22%2F%3E%3Cg%20class%3D%22plot%22%20transform%3D%22translate(80%2C433.7037037037037)%22%20clip-path%3D%22url('%23clip6fabb2xy5plot')%22%3E%3Cg%20class%3D%22scatterlayer%20mlayer%22%3E%3Cg%20class%3D%22trace%20scatter%20tracee13dd1%22%20style%3D%22stroke-miterlimit%3A%202%3B%20opacity%3A%201%3B%22%3E%3Cg%20class%3D%22fills%22%2F%3E%3Cg%20class%3D%22errorbars%22%2F%3E%3Cg%20class%3D%22lines%22%2F%3E%3Cg%20class%3D%22points%22%3E%3Cpath%20class%3D%22point%22%20transform%3D%22translate(127.51%2C61.58)%22%20d%3D%22M43.71%2C0A43.71%2C43.71%200%201%2C1%200%2C-43.71A43.71%2C43.71%200%200%2C1%2043.71%2C0Z%22%20style%3D%22opacity%3A%200.7%3B%20stroke-width%3A%201px%3B%20fill%3A%20rgb(78%2C%20121%2C%20167)%3B%20fill-opacity%3A%201%3B%20stroke%3A%20rgb(255%2C%20255%2C%20255)%3B%20stroke-opacity%3A%201%3B%22%2F%3E%3C%2Fg%3E%3Cg%20class%3D%22text%22%2F%3E%3C%2Fg%3E%3Cg%20class%3D%22trace%20scatter%20trace3dceee%22%20style%3D%22stroke-miterlimit%3A%202%3B%20opacity%3A%201%3B%22%3E%3Cg%20class%3D%22fills%22%2F%3E%3Cg%20class%3D%22errorbars%22%2F%3E%3Cg%20class%3D%22lines%22%2F%3E%3Cg%20class%3D%22points%22%3E%3Cpath%20class%3D%22point%22%20transform%3D%22translate(115.38%2C59.07)%22%20d%3D%22M37.64%2C0A37.64%2C37.64%200%201%2C1%200%2C-37.64A37.64%2C37.64%200%200%2C1%2037.64%2C0Z%22%20style%3D%22opacity%3A%200.7%3B%20stroke-width%3A%201px%3B%20fill%3A%20rgb(242%2C%20142%2C%2044)%3B%20fill-opacity%3A%201%3B%20stroke%3A%20rgb(255%2C%20255%2C%20255)%3B%20stroke-opacity%3A%201%3B%22%2F%3E%3C%2Fg%3E%3Cg%20class%3D%22text%22%2F%3E%3C%2Fg%3E%3Cg%20class%3D%22trace%20scatter%20trace0e3aff%22%20style%3D%22stroke-miterlimit%3A%202%3B%20opacity%3A%201%3B%22%3E%3Cg%20class%3D%22fills%22%2F%3E%3Cg%20class%3D%22errorbars%22%2F%3E%3Cg%20class%3D%22lines%22%2F%3E%3Cg%20class%3D%22points%22%3E%3Cpath%20class%3D%22point%22%20transform%3D%22translate(160.25%2C57.07)%22%20d%3D%22M32.92%2C0A32.92%2C32.92%200%201%2C1%200%2C-32.92A32.92%2C32.92%200%200%2C1%2032.92%2C0Z%22%20style%3D%22opacity%3A%200.7%3B%20stroke-width%3A%201px%3B%20fill%3A%20rgb(225%2C%2087%2C%2089)%3B%20fill-opacity%3A%201%3B%20stroke%3A%20rgb(255%2C%20255%2C%20255)%3B%20stroke-opacity%3A%201%3B%22%2F%3E%3C%2Fg%3E%3Cg%20class%3D%22text%22%2F%3E%3C%2Fg%3E%3C%2Fg%3E%3C%2Fg%3E%3Cg%20class%3D%22overplot%22%2F%3E%3Cpath%20class%3D%22xlines-above%20crisp%22%20d%3D%22M80%2C575.5H300%22%20style%3D%22fill%3A%20none%3B%20stroke-width%3A%201px%3B%20stroke%3A%20rgb(89%2C%2089%2C%2089)%3B%20stroke-opacity%3A%200.25%3B%22%2F%3E%3Cpath%20class%3D%22ylines-above%20crisp%22%20d%3D%22M0%2C0%22%20style%3D%22fill%3A%20none%3B%22%2F%3E%3Cg%20class%3D%22overlines-above%22%2F%3E%3Cg%20class%3D%22xaxislayer-above%22%3E%3Cg%20class%3D%22xtick%22%3E%3Ctext%20text-anchor%3D%22middle%22%20x%3D%220%22%20y%3D%22590.4%22%20data-unformatted%3D%220.6%22%20data-math%3D%22N%22%20transform%3D%22translate(82.37%2C0)%22%20style%3D%22font-family%3A%20%26quot%3BOpen%20Sans%26quot%3B%2C%20verdana%2C%20arial%2C%20sans-serif%3B%20font-size%3A%2012px%3B%20fill%3A%20rgb(89%2C%2089%2C%2089)%3B%20fill-opacity%3A%201%3B%20white-space%3A%20pre%3B%22%3E0.6%3C%2Ftext%3E%3C%2Fg%3E%3Cg%20class%3D%22xtick%22%3E%3Ctext%20text-anchor%3D%22middle%22%20x%3D%220%22%20y%3D%22590.4%22%20data-unformatted%3D%220.7%22%20data-math%3D%22N%22%20transform%3D%22translate(146.59%2C0)%22%20style%3D%22font-family%3A%20%26quot%3BOpen%20Sans%26quot%3B%2C%20verdana%2C%20arial%2C%20sans-serif%3B%20font-size%3A%2012px%3B%20fill%3A%20rgb(89%2C%2089%2C%2089)%3B%20fill-opacity%3A%201%3B%20white-space%3A%20pre%3B%22%3E0.7%3C%2Ftext%3E%3C%2Fg%3E%3Cg%20class%3D%22xtick%22%3E%3Ctext%20text-anchor%3D%22middle%22%20x%3D%220%22%20y%3D%22590.4%22%20data-unformatted%3D%220.8%22%20data-math%3D%22N%22%20transform%3D%22translate(210.8%2C0)%22%20style%3D%22font-family%3A%20%26quot%3BOpen%20Sans%26quot%3B%2C%20verdana%2C%20arial%2C%20sans-serif%3B%20font-size%3A%2012px%3B%20fill%3A%20rgb(89%2C%2089%2C%2089)%3B%20fill-opacity%3A%201%3B%20white-space%3A%20pre%3B%22%3E0.8%3C%2Ftext%3E%3C%2Fg%3E%3Cg%20class%3D%22xtick%22%3E%3Ctext%20text-anchor%3D%22middle%22%20x%3D%220%22%20y%3D%22590.4%22%20data-unformatted%3D%220.9%22%20data-math%3D%22N%22%20transform%3D%22translate(275.01%2C0)%22%20style%3D%22font-family%3A%20%26quot%3BOpen%20Sans%26quot%3B%2C%20verdana%2C%20arial%2C%20sans-serif%3B%20font-size%3A%2012px%3B%20fill%3A%20rgb(89%2C%2089%2C%2089)%3B%20fill-opacity%3A%201%3B%20white-space%3A%20pre%3B%22%3E0.9%3C%2Ftext%3E%3C%2Fg%3E%3C%2Fg%3E%3Cg%20class%3D%22yaxislayer-above%22%3E%3Cg%20class%3D%22y5tick%22%3E%3Ctext%20text-anchor%3D%22end%22%20x%3D%2279%22%20y%3D%224.199999999999999%22%20data-unformatted%3D%220%22%20data-math%3D%22N%22%20transform%3D%22translate(0%2C530.1737037037037)%22%20style%3D%22font-family%3A%20%26quot%3BOpen%20Sans%26quot%3B%2C%20verdana%2C%20arial%2C%20sans-serif%3B%20font-size%3A%2012px%3B%20fill%3A%20rgb(89%2C%2089%2C%2089)%3B%20fill-opacity%3A%201%3B%20white-space%3A%20pre%3B%22%3E0%3C%2Ftext%3E%3C%2Fg%3E%3Cg%20class%3D%22y5tick%22%3E%3Ctext%20text-anchor%3D%22end%22%20x%3D%2279%22%20y%3D%224.199999999999999%22%20data-unformatted%3D%221%22%20data-math%3D%22N%22%20transform%3D%22translate(0%2C484.7437037037037)%22%20style%3D%22font-family%3A%20%26quot%3BOpen%20Sans%26quot%3B%2C%20verdana%2C%20arial%2C%20sans-serif%3B%20font-size%3A%2012px%3B%20fill%3A%20rgb(89%2C%2089%2C%2089)%3B%20fill-opacity%3A%201%3B%20white-space%3A%20pre%3B%22%3E1%3C%2Ftext%3E%3C%2Fg%3E%3Cg%20class%3D%22y5tick%22%3E%3Ctext%20text-anchor%3D%22end%22%20x%3D%2279%22%20y%3D%224.199999999999999%22%20data-unformatted%3D%222%22%20data-math%3D%22N%22%20transform%3D%22translate(0%2C439.3137037037037)%22%20style%3D%22font-family%3A%20%26quot%3BOpen%20Sans%26quot%3B%2C%20verdana%2C%20arial%2C%20sans-serif%3B%20font-size%3A%2012px%3B%20fill%3A%20rgb(89%2C%2089%2C%2089)%3B%20fill-opacity%3A%201%3B%20white-space%3A%20pre%3B%22%3E2%3C%2Ftext%3E%3C%2Fg%3E%3C%2Fg%3E%3Cg%20class%3D%22overaxes-above%22%2F%3E%3C%2Fg%3E%3Cg%20class%3D%22subplot%20x2y%22%3E%3Cg%20class%3D%22layer-subplot%22%3E%3Cg%20class%3D%22shapelayer%22%2F%3E%3Cg%20class%3D%22imagelayer%22%2F%3E%3C%2Fg%3E%3Cg%20class%3D%22gridlayer%22%3E%3Cg%20class%3D%22x2%22%3E%3Cpath%20class%3D%22x2grid%20crisp%22%20transform%3D%22translate(429.22%2C0)%22%20d%3D%22M0%2C30v141.2962962962963%22%20style%3D%22stroke%3A%20rgb(238%2C%20238%2C%20238)%3B%20stroke-opacity%3A%201%3B%20stroke-width%3A%201px%3B%22%2F%3E%3Cpath%20class%3D%22x2grid%20crisp%22%20transform%3D%22translate(535.85%2C0)%22%20d%3D%22M0%2C30v141.2962962962963%22%20style%3D%22stroke%3A%20rgb(238%2C%20238%2C%20238)%3B%20stroke-opacity%3A%201%3B%20stroke-width%3A%201px%3B%22%2F%3E%3C%2Fg%3E%3Cg%20class%3D%22y%22%3E%3Cpath%20class%3D%22ygrid%20crisp%22%20transform%3D%22translate(0%2C125.77)%22%20d%3D%22M355%2C0h220.00000000000003%22%20style%3D%22stroke%3A%20rgb(89%2C%2089%2C%2089)%3B%20stroke-opacity%3A%200.25%3B%20stroke-width%3A%201px%3B%22%2F%3E%3Cpath%20class%3D%22ygrid%20crisp%22%20transform%3D%22translate(0%2C69.49000000000001)%22%20d%3D%22M355%2C0h220.00000000000003%22%20style%3D%22stroke%3A%20rgb(89%2C%2089%2C%2089)%3B%20stroke-opacity%3A%200.25%3B%20stroke-width%3A%201px%3B%22%2F%3E%3C%2Fg%3E%3C%2Fg%3E%3Cg%20class%3D%22zerolinelayer%22%2F%3E%3Cpath%20class%3D%22xlines-below%22%2F%3E%3Cpath%20class%3D%22ylines-below%22%2F%3E%3Cg%20class%3D%22overlines-below%22%2F%3E%3Cg%20class%3D%22xaxislayer-below%22%2F%3E%3Cg%20class%3D%22yaxislayer-below%22%2F%3E%3Cg%20class%3D%22overaxes-below%22%2F%3E%3Cg%20class%3D%22plot%22%20transform%3D%22translate(355%2C30)%22%20clip-path%3D%22url('%23clip6fabb2x2yplot')%22%3E%3Cg%20class%3D%22scatterlayer%20mlayer%22%3E%3Cg%20class%3D%22trace%20scatter%20tracef3a9ba%22%20style%3D%22stroke-miterlimit%3A%202%3B%20opacity%3A%201%3B%22%3E%3Cg%20class%3D%22fills%22%2F%3E%3Cg%20class%3D%22errorbars%22%2F%3E%3Cg%20class%3D%22lines%22%2F%3E%3Cg%20class%3D%22points%22%3E%3Cpath%20class%3D%22point%22%20transform%3D%22translate(61.54%2C90.75)%22%20d%3D%22M34.78%2C0A34.78%2C34.78%200%201%2C1%200%2C-34.78A34.78%2C34.78%200%200%2C1%2034.78%2C0Z%22%20style%3D%22opacity%3A%200.7%3B%20stroke-width%3A%201px%3B%20fill%3A%20rgb(78%2C%20121%2C%20167)%3B%20fill-opacity%3A%201%3B%20stroke%3A%20rgb(255%2C%20255%2C%20255)%3B%20stroke-opacity%3A%201%3B%22%2F%3E%3C%2Fg%3E%3Cg%20class%3D%22text%22%2F%3E%3C%2Fg%3E%3Cg%20class%3D%22trace%20scatter%20traceb37656%22%20style%3D%22stroke-miterlimit%3A%202%3B%20opacity%3A%201%3B%22%3E%3Cg%20class%3D%22fills%22%2F%3E%3Cg%20class%3D%22errorbars%22%2F%3E%3Cg%20class%3D%22lines%22%2F%3E%3Cg%20class%3D%22points%22%3E%3Cpath%20class%3D%22point%22%20transform%3D%22translate(91.33%2C76.78)%22%20d%3D%22M36.07%2C0A36.07%2C36.07%200%201%2C1%200%2C-36.07A36.07%2C36.07%200%200%2C1%2036.07%2C0Z%22%20style%3D%22opacity%3A%200.7%3B%20stroke-width%3A%201px%3B%20fill%3A%20rgb(242%2C%20142%2C%2044)%3B%20fill-opacity%3A%201%3B%20stroke%3A%20rgb(255%2C%20255%2C%20255)%3B%20stroke-opacity%3A%201%3B%22%2F%3E%3C%2Fg%3E%3Cg%20class%3D%22text%22%2F%3E%3C%2Fg%3E%3Cg%20class%3D%22trace%20scatter%20trace768004%22%20style%3D%22stroke-miterlimit%3A%202%3B%20opacity%3A%201%3B%22%3E%3Cg%20class%3D%22fills%22%2F%3E%3Cg%20class%3D%22errorbars%22%2F%3E%3Cg%20class%3D%22lines%22%2F%3E%3Cg%20class%3D%22points%22%3E%3Cpath%20class%3D%22point%22%20transform%3D%22translate(133.97%2C59.99)%22%20d%3D%22M35.22%2C0A35.22%2C35.22%200%201%2C1%200%2C-35.22A35.22%2C35.22%200%200%2C1%2035.22%2C0Z%22%20style%3D%22opacity%3A%200.7%3B%20stroke-width%3A%201px%3B%20fill%3A%20rgb(225%2C%2087%2C%2089)%3B%20fill-opacity%3A%201%3B%20stroke%3A%20rgb(255%2C%20255%2C%20255)%3B%20stroke-opacity%3A%201%3B%22%2F%3E%3C%2Fg%3E%3Cg%20class%3D%22text%22%2F%3E%3C%2Fg%3E%3C%2Fg%3E%3C%2Fg%3E%3Cg%20class%3D%22overplot%22%2F%3E%3Cpath%20class%3D%22xlines-above%20crisp%22%20d%3D%22M0%2C0%22%20style%3D%22fill%3A%20none%3B%22%2F%3E%3Cpath%20class%3D%22ylines-above%20crisp%22%20d%3D%22M0%2C0%22%20style%3D%22fill%3A%20none%3B%22%2F%3E%3Cg%20class%3D%22overlines-above%22%2F%3E%3Cg%20class%3D%22xaxislayer-above%22%2F%3E%3Cg%20class%3D%22yaxislayer-above%22%2F%3E%3Cg%20class%3D%22overaxes-above%22%2F%3E%3C%2Fg%3E%3Cg%20class%3D%22subplot%20x2y3%22%3E%3Cg%20class%3D%22layer-subplot%22%3E%3Cg%20class%3D%22shapelayer%22%2F%3E%3Cg%20class%3D%22imagelayer%22%2F%3E%3C%2Fg%3E%3Cg%20class%3D%22gridlayer%22%3E%3Cg%20class%3D%22x2%22%3E%3Cpath%20class%3D%22x2grid%20crisp%22%20transform%3D%22translate(429.22%2C0)%22%20d%3D%22M0%2C231.8518518518519v141.29629629629625%22%20style%3D%22stroke%3A%20rgb(238%2C%20238%2C%20238)%3B%20stroke-opacity%3A%201%3B%20stroke-width%3A%201px%3B%22%2F%3E%3Cpath%20class%3D%22x2grid%20crisp%22%20transform%3D%22translate(535.85%2C0)%22%20d%3D%22M0%2C231.8518518518519v141.29629629629625%22%20style%3D%22stroke%3A%20rgb(238%2C%20238%2C%20238)%3B%20stroke-opacity%3A%201%3B%20stroke-width%3A%201px%3B%22%2F%3E%3C%2Fg%3E%3Cg%20class%3D%22y3%22%3E%3Cpath%20class%3D%22y3grid%20crisp%22%20transform%3D%22translate(0%2C325.3718518518519)%22%20d%3D%22M355%2C0h220.00000000000003%22%20style%3D%22stroke%3A%20rgb(238%2C%20238%2C%20238)%3B%20stroke-opacity%3A%201%3B%20stroke-width%3A%201px%3B%22%2F%3E%3Cpath%20class%3D%22y3grid%20crisp%22%20transform%3D%22translate(0%2C285.1218518518519)%22%20d%3D%22M355%2C0h220.00000000000003%22%20style%3D%22stroke%3A%20rgb(238%2C%20238%2C%20238)%3B%20stroke-opacity%3A%201%3B%20stroke-width%3A%201px%3B%22%2F%3E%3Cpath%20class%3D%22y3grid%20crisp%22%20transform%3D%22translate(0%2C244.8618518518519)%22%20d%3D%22M355%2C0h220.00000000000003%22%20style%3D%22stroke%3A%20rgb(238%2C%20238%2C%20238)%3B%20stroke-opacity%3A%201%3B%20stroke-width%3A%201px%3B%22%2F%3E%3C%2Fg%3E%3C%2Fg%3E%3Cg%20class%3D%22zerolinelayer%22%3E%3Cpath%20class%3D%22y3zl%20zl%20crisp%22%20transform%3D%22translate(0%2C365.63185185185193)%22%20d%3D%22M355%2C0h220.00000000000003%22%20style%3D%22stroke%3A%20rgb(68%2C%2068%2C%2068)%3B%20stroke-opacity%3A%201%3B%20stroke-width%3A%201px%3B%22%2F%3E%3C%2Fg%3E%3Cpath%20class%3D%22xlines-below%22%2F%3E%3Cpath%20class%3D%22ylines-below%22%2F%3E%3Cg%20class%3D%22overlines-below%22%2F%3E%3Cg%20class%3D%22xaxislayer-below%22%2F%3E%3Cg%20class%3D%22yaxislayer-below%22%2F%3E%3Cg%20class%3D%22overaxes-below%22%2F%3E%3Cg%20class%3D%22plot%22%20transform%3D%22translate(355%2C231.8518518518519)%22%20clip-path%3D%22url('%23clip6fabb2x2y3plot')%22%3E%3Cg%20class%3D%22scatterlayer%20mlayer%22%3E%3Cg%20class%3D%22trace%20scatter%20tracec41c78%22%20style%3D%22stroke-miterlimit%3A%202%3B%20opacity%3A%201%3B%22%3E%3Cg%20class%3D%22fills%22%2F%3E%3Cg%20class%3D%22errorbars%22%2F%3E%3Cg%20class%3D%22lines%22%2F%3E%3Cg%20class%3D%22points%22%3E%3Cpath%20class%3D%22point%22%20transform%3D%22translate(61.4%2C83.83)%22%20d%3D%22M40.32%2C0A40.32%2C40.32%200%201%2C1%200%2C-40.32A40.32%2C40.32%200%200%2C1%2040.32%2C0Z%22%20style%3D%22opacity%3A%200.7%3B%20stroke-width%3A%201px%3B%20fill%3A%20rgb(78%2C%20121%2C%20167)%3B%20fill-opacity%3A%201%3B%20stroke%3A%20rgb(255%2C%20255%2C%20255)%3B%20stroke-opacity%3A%201%3B%22%2F%3E%3C%2Fg%3E%3Cg%20class%3D%22text%22%2F%3E%3C%2Fg%3E%3Cg%20class%3D%22trace%20scatter%20trace7f6ba3%22%20style%3D%22stroke-miterlimit%3A%202%3B%20opacity%3A%201%3B%22%3E%3Cg%20class%3D%22fills%22%2F%3E%3Cg%20class%3D%22errorbars%22%2F%3E%3Cg%20class%3D%22lines%22%2F%3E%3Cg%20class%3D%22points%22%3E%3Cpath%20class%3D%22point%22%20transform%3D%22translate(91.33%2C74.92)%22%20d%3D%22M42.2%2C0A42.2%2C42.2%200%201%2C1%200%2C-42.2A42.2%2C42.2%200%200%2C1%2042.2%2C0Z%22%20style%3D%22opacity%3A%200.7%3B%20stroke-width%3A%201px%3B%20fill%3A%20rgb(242%2C%20142%2C%2044)%3B%20fill-opacity%3A%201%3B%20stroke%3A%20rgb(255%2C%20255%2C%20255)%3B%20stroke-opacity%3A%201%3B%22%2F%3E%3C%2Fg%3E%3Cg%20class%3D%22text%22%2F%3E%3C%2Fg%3E%3Cg%20class%3D%22trace%20scatter%20trace7df4e6%22%20style%3D%22stroke-miterlimit%3A%202%3B%20opacity%3A%201%3B%22%3E%3Cg%20class%3D%22fills%22%2F%3E%3Cg%20class%3D%22errorbars%22%2F%3E%3Cg%20class%3D%22lines%22%2F%3E%3Cg%20class%3D%22points%22%3E%3Cpath%20class%3D%22point%22%20transform%3D%22translate(133.97%2C65.01)%22%20d%3D%22M41.6%2C0A41.6%2C41.6%200%201%2C1%200%2C-41.6A41.6%2C41.6%200%200%2C1%2041.6%2C0Z%22%20style%3D%22opacity%3A%200.7%3B%20stroke-width%3A%201px%3B%20fill%3A%20rgb(225%2C%2087%2C%2089)%3B%20fill-opacity%3A%201%3B%20stroke%3A%20rgb(255%2C%20255%2C%20255)%3B%20stroke-opacity%3A%201%3B%22%2F%3E%3C%2Fg%3E%3Cg%20class%3D%22text%22%2F%3E%3C%2Fg%3E%3C%2Fg%3E%3C%2Fg%3E%3Cg%20class%3D%22overplot%22%2F%3E%3Cpath%20class%3D%22xlines-above%20crisp%22%20d%3D%22M0%2C0%22%20style%3D%22fill%3A%20none%3B%22%2F%3E%3Cpath%20class%3D%22ylines-above%20crisp%22%20d%3D%22M0%2C0%22%20style%3D%22fill%3A%20none%3B%22%2F%3E%3Cg%20class%3D%22overlines-above%22%2F%3E%3Cg%20class%3D%22xaxislayer-above%22%2F%3E%3Cg%20class%3D%22yaxislayer-above%22%2F%3E%3Cg%20class%3D%22overaxes-above%22%2F%3E%3C%2Fg%3E%3Cg%20class%3D%22subplot%20x2y5%22%3E%3Cg%20class%3D%22layer-subplot%22%3E%3Cg%20class%3D%22shapelayer%22%2F%3E%3Cg%20class%3D%22imagelayer%22%2F%3E%3C%2Fg%3E%3Cg%20class%3D%22gridlayer%22%3E%3Cg%20class%3D%22x2%22%3E%3Cpath%20class%3D%22x2grid%20crisp%22%20transform%3D%22translate(429.22%2C0)%22%20d%3D%22M0%2C433.7037037037037v141.29629629629628%22%20style%3D%22stroke%3A%20rgb(238%2C%20238%2C%20238)%3B%20stroke-opacity%3A%201%3B%20stroke-width%3A%201px%3B%22%2F%3E%3Cpath%20class%3D%22x2grid%20crisp%22%20transform%3D%22translate(535.85%2C0)%22%20d%3D%22M0%2C433.7037037037037v141.29629629629628%22%20style%3D%22stroke%3A%20rgb(238%2C%20238%2C%20238)%3B%20stroke-opacity%3A%201%3B%20stroke-width%3A%201px%3B%22%2F%3E%3C%2Fg%3E%3Cg%20class%3D%22y5%22%3E%3Cpath%20class%3D%22y5grid%20crisp%22%20transform%3D%22translate(0%2C484.7437037037037)%22%20d%3D%22M355%2C0h220.00000000000003%22%20style%3D%22stroke%3A%20rgb(238%2C%20238%2C%20238)%3B%20stroke-opacity%3A%201%3B%20stroke-width%3A%201px%3B%22%2F%3E%3Cpath%20class%3D%22y5grid%20crisp%22%20transform%3D%22translate(0%2C439.3137037037037)%22%20d%3D%22M355%2C0h220.00000000000003%22%20style%3D%22stroke%3A%20rgb(238%2C%20238%2C%20238)%3B%20stroke-opacity%3A%201%3B%20stroke-width%3A%201px%3B%22%2F%3E%3C%2Fg%3E%3C%2Fg%3E%3Cg%20class%3D%22zerolinelayer%22%3E%3Cpath%20class%3D%22y5zl%20zl%20crisp%22%20transform%3D%22translate(0%2C530.1737037037037)%22%20d%3D%22M355%2C0h220.00000000000003%22%20style%3D%22stroke%3A%20rgb(68%2C%2068%2C%2068)%3B%20stroke-opacity%3A%201%3B%20stroke-width%3A%201px%3B%22%2F%3E%3C%2Fg%3E%3Cpath%20class%3D%22xlines-below%22%2F%3E%3Cpath%20class%3D%22ylines-below%22%2F%3E%3Cg%20class%3D%22overlines-below%22%2F%3E%3Cg%20class%3D%22xaxislayer-below%22%2F%3E%3Cg%20class%3D%22yaxislayer-below%22%2F%3E%3Cg%20class%3D%22overaxes-below%22%2F%3E%3Cg%20class%3D%22plot%22%20transform%3D%22translate(355%2C433.7037037037037)%22%20clip-path%3D%22url('%23clip6fabb2x2y5plot')%22%3E%3Cg%20class%3D%22scatterlayer%20mlayer%22%3E%3Cg%20class%3D%22trace%20scatter%20trace2b49ea%22%20style%3D%22stroke-miterlimit%3A%202%3B%20opacity%3A%201%3B%22%3E%3Cg%20class%3D%22fills%22%2F%3E%3Cg%20class%3D%22errorbars%22%2F%3E%3Cg%20class%3D%22lines%22%2F%3E%3Cg%20class%3D%22points%22%3E%3Cpath%20class%3D%22point%22%20transform%3D%22translate(132.44%2C71.73)%22%20d%3D%22M50%2C0A50%2C50%200%201%2C1%200%2C-50A50%2C50%200%200%2C1%2050%2C0Z%22%20style%3D%22opacity%3A%200.7%3B%20stroke-width%3A%201px%3B%20fill%3A%20rgb(78%2C%20121%2C%20167)%3B%20fill-opacity%3A%201%3B%20stroke%3A%20rgb(255%2C%20255%2C%20255)%3B%20stroke-opacity%3A%201%3B%22%2F%3E%3C%2Fg%3E%3Cg%20class%3D%22text%22%2F%3E%3C%2Fg%3E%3Cg%20class%3D%22trace%20scatter%20trace11ae13%22%20style%3D%22stroke-miterlimit%3A%202%3B%20opacity%3A%201%3B%22%3E%3Cg%20class%3D%22fills%22%2F%3E%3Cg%20class%3D%22errorbars%22%2F%3E%3Cg%20class%3D%22lines%22%2F%3E%3Cg%20class%3D%22points%22%3E%3Cpath%20class%3D%22point%22%20transform%3D%22translate(123.66%2C66.09)%22%20d%3D%22M45.08%2C0A45.08%2C45.08%200%201%2C1%200%2C-45.08A45.08%2C45.08%200%200%2C1%2045.08%2C0Z%22%20style%3D%22opacity%3A%200.7%3B%20stroke-width%3A%201px%3B%20fill%3A%20rgb(242%2C%20142%2C%2044)%3B%20fill-opacity%3A%201%3B%20stroke%3A%20rgb(255%2C%20255%2C%20255)%3B%20stroke-opacity%3A%201%3B%22%2F%3E%3C%2Fg%3E%3Cg%20class%3D%22text%22%2F%3E%3C%2Fg%3E%3Cg%20class%3D%22trace%20scatter%20traceb7a569%22%20style%3D%22stroke-miterlimit%3A%202%3B%20opacity%3A%201%3B%22%3E%3Cg%20class%3D%22fills%22%2F%3E%3Cg%20class%3D%22errorbars%22%2F%3E%3Cg%20class%3D%22lines%22%2F%3E%3Cg%20class%3D%22points%22%3E%3Cpath%20class%3D%22point%22%20transform%3D%22translate(153.96%2C59.32)%22%20d%3D%22M44.03%2C0A44.03%2C44.03%200%201%2C1%200%2C-44.03A44.03%2C44.03%200%200%2C1%2044.03%2C0Z%22%20style%3D%22opacity%3A%200.7%3B%20stroke-width%3A%201px%3B%20fill%3A%20rgb(225%2C%2087%2C%2089)%3B%20fill-opacity%3A%201%3B%20stroke%3A%20rgb(255%2C%20255%2C%20255)%3B%20stroke-opacity%3A%201%3B%22%2F%3E%3C%2Fg%3E%3Cg%20class%3D%22text%22%2F%3E%3C%2Fg%3E%3C%2Fg%3E%3C%2Fg%3E%3Cg%20class%3D%22overplot%22%2F%3E%3Cpath%20class%3D%22xlines-above%20crisp%22%20d%3D%22M0%2C0%22%20style%3D%22fill%3A%20none%3B%22%2F%3E%3Cpath%20class%3D%22ylines-above%20crisp%22%20d%3D%22M0%2C0%22%20style%3D%22fill%3A%20none%3B%22%2F%3E%3Cg%20class%3D%22overlines-above%22%2F%3E%3Cg%20class%3D%22xaxislayer-above%22%3E%3Cg%20class%3D%22x2tick%22%3E%3Ctext%20text-anchor%3D%22middle%22%20x%3D%220%22%20y%3D%22588%22%20data-unformatted%3D%220.5%22%20data-math%3D%22N%22%20transform%3D%22translate(429.22%2C0)%22%20style%3D%22font-family%3A%20%26quot%3BOpen%20Sans%26quot%3B%2C%20verdana%2C%20arial%2C%20sans-serif%3B%20font-size%3A%2012px%3B%20fill%3A%20rgb(89%2C%2089%2C%2089)%3B%20fill-opacity%3A%201%3B%20white-space%3A%20pre%3B%22%3E0.5%3C%2Ftext%3E%3C%2Fg%3E%3Cg%20class%3D%22x2tick%22%3E%3Ctext%20text-anchor%3D%22middle%22%20x%3D%220%22%20y%3D%22588%22%20data-unformatted%3D%221%22%20data-math%3D%22N%22%20transform%3D%22translate(535.85%2C0)%22%20style%3D%22font-family%3A%20%26quot%3BOpen%20Sans%26quot%3B%2C%20verdana%2C%20arial%2C%20sans-serif%3B%20font-size%3A%2012px%3B%20fill%3A%20rgb(89%2C%2089%2C%2089)%3B%20fill-opacity%3A%201%3B%20white-space%3A%20pre%3B%22%3E1%3C%2Ftext%3E%3C%2Fg%3E%3C%2Fg%3E%3Cg%20class%3D%22yaxislayer-above%22%2F%3E%3Cg%20class%3D%22overaxes-above%22%2F%3E%3C%2Fg%3E%3Cg%20class%3D%22subplot%20x3y%22%3E%3Cg%20class%3D%22layer-subplot%22%3E%3Cg%20class%3D%22shapelayer%22%2F%3E%3Cg%20class%3D%22imagelayer%22%2F%3E%3C%2Fg%3E%3Cg%20class%3D%22gridlayer%22%3E%3Cg%20class%3D%22x3%22%3E%3Cpath%20class%3D%22x3grid%20crisp%22%20transform%3D%22translate(702.24%2C0)%22%20d%3D%22M0%2C30v141.2962962962963%22%20style%3D%22stroke%3A%20rgb(238%2C%20238%2C%20238)%3B%20stroke-opacity%3A%201%3B%20stroke-width%3A%201px%3B%22%2F%3E%3Cpath%20class%3D%22x3grid%20crisp%22%20transform%3D%22translate(798.81%2C0)%22%20d%3D%22M0%2C30v141.2962962962963%22%20style%3D%22stroke%3A%20rgb(238%2C%20238%2C%20238)%3B%20stroke-opacity%3A%201%3B%20stroke-width%3A%201px%3B%22%2F%3E%3C%2Fg%3E%3Cg%20class%3D%22y%22%3E%3Cpath%20class%3D%22ygrid%20crisp%22%20transform%3D%22translate(0%2C125.77)%22%20d%3D%22M630%2C0h220%22%20style%3D%22stroke%3A%20rgb(89%2C%2089%2C%2089)%3B%20stroke-opacity%3A%200.25%3B%20stroke-width%3A%201px%3B%22%2F%3E%3Cpath%20class%3D%22ygrid%20crisp%22%20transform%3D%22translate(0%2C69.49000000000001)%22%20d%3D%22M630%2C0h220%22%20style%3D%22stroke%3A%20rgb(89%2C%2089%2C%2089)%3B%20stroke-opacity%3A%200.25%3B%20stroke-width%3A%201px%3B%22%2F%3E%3C%2Fg%3E%3C%2Fg%3E%3Cg%20class%3D%22zerolinelayer%22%2F%3E%3Cpath%20class%3D%22xlines-below%22%2F%3E%3Cpath%20class%3D%22ylines-below%22%2F%3E%3Cg%20class%3D%22overlines-below%22%2F%3E%3Cg%20class%3D%22xaxislayer-below%22%2F%3E%3Cg%20class%3D%22yaxislayer-below%22%2F%3E%3Cg%20class%3D%22overaxes-below%22%2F%3E%3Cg%20class%3D%22plot%22%20transform%3D%22translate(630%2C30)%22%20clip-path%3D%22url('%23clip6fabb2x3yplot')%22%3E%3Cg%20class%3D%22scatterlayer%20mlayer%22%3E%3Cg%20class%3D%22trace%20scatter%20tracebc65b2%22%20style%3D%22stroke-miterlimit%3A%202%3B%20opacity%3A%201%3B%22%3E%3Cg%20class%3D%22fills%22%2F%3E%3Cg%20class%3D%22errorbars%22%2F%3E%3Cg%20class%3D%22lines%22%2F%3E%3Cg%20class%3D%22points%22%3E%3Cpath%20class%3D%22point%22%20transform%3D%22translate(62.75%2C55)%22%20d%3D%22M34.95%2C0A34.95%2C34.95%200%201%2C1%200%2C-34.95A34.95%2C34.95%200%200%2C1%2034.95%2C0Z%22%20style%3D%22opacity%3A%200.7%3B%20stroke-width%3A%201px%3B%20fill%3A%20rgb(78%2C%20121%2C%20167)%3B%20fill-opacity%3A%201%3B%20stroke%3A%20rgb(255%2C%20255%2C%20255)%3B%20stroke-opacity%3A%201%3B%22%2F%3E%3C%2Fg%3E%3Cg%20class%3D%22text%22%2F%3E%3C%2Fg%3E%3Cg%20class%3D%22trace%20scatter%20trace230353%22%20style%3D%22stroke-miterlimit%3A%202%3B%20opacity%3A%201%3B%22%3E%3Cg%20class%3D%22fills%22%2F%3E%3Cg%20class%3D%22errorbars%22%2F%3E%3Cg%20class%3D%22lines%22%2F%3E%3Cg%20class%3D%22points%22%3E%3Cpath%20class%3D%22point%22%20transform%3D%22translate(77.65%2C53.2)%22%20d%3D%22M35.86%2C0A35.86%2C35.86%200%201%2C1%200%2C-35.86A35.86%2C35.86%200%200%2C1%2035.86%2C0Z%22%20style%3D%22opacity%3A%200.7%3B%20stroke-width%3A%201px%3B%20fill%3A%20rgb(242%2C%20142%2C%2044)%3B%20fill-opacity%3A%201%3B%20stroke%3A%20rgb(255%2C%20255%2C%20255)%3B%20stroke-opacity%3A%201%3B%22%2F%3E%3C%2Fg%3E%3Cg%20class%3D%22text%22%2F%3E%3C%2Fg%3E%3Cg%20class%3D%22trace%20scatter%20trace5ec18a%22%20style%3D%22stroke-miterlimit%3A%202%3B%20opacity%3A%201%3B%22%3E%3Cg%20class%3D%22fills%22%2F%3E%3Cg%20class%3D%22errorbars%22%2F%3E%3Cg%20class%3D%22lines%22%2F%3E%3Cg%20class%3D%22points%22%3E%3Cpath%20class%3D%22point%22%20transform%3D%22translate(109.83%2C52)%22%20d%3D%22M35.95%2C0A35.95%2C35.95%200%201%2C1%200%2C-35.95A35.95%2C35.95%200%200%2C1%2035.95%2C0Z%22%20style%3D%22opacity%3A%200.7%3B%20stroke-width%3A%201px%3B%20fill%3A%20rgb(225%2C%2087%2C%2089)%3B%20fill-opacity%3A%201%3B%20stroke%3A%20rgb(255%2C%20255%2C%20255)%3B%20stroke-opacity%3A%201%3B%22%2F%3E%3C%2Fg%3E%3Cg%20class%3D%22text%22%2F%3E%3C%2Fg%3E%3C%2Fg%3E%3C%2Fg%3E%3Cg%20class%3D%22overplot%22%2F%3E%3Cpath%20class%3D%22xlines-above%20crisp%22%20d%3D%22M0%2C0%22%20style%3D%22fill%3A%20none%3B%22%2F%3E%3Cpath%20class%3D%22ylines-above%20crisp%22%20d%3D%22M0%2C0%22%20style%3D%22fill%3A%20none%3B%22%2F%3E%3Cg%20class%3D%22overlines-above%22%2F%3E%3Cg%20class%3D%22xaxislayer-above%22%2F%3E%3Cg%20class%3D%22yaxislayer-above%22%2F%3E%3Cg%20class%3D%22overaxes-above%22%2F%3E%3C%2Fg%3E%3Cg%20class%3D%22subplot%20x3y3%22%3E%3Cg%20class%3D%22layer-subplot%22%3E%3Cg%20class%3D%22shapelayer%22%2F%3E%3Cg%20class%3D%22imagelayer%22%2F%3E%3C%2Fg%3E%3Cg%20class%3D%22gridlayer%22%3E%3Cg%20class%3D%22x3%22%3E%3Cpath%20class%3D%22x3grid%20crisp%22%20transform%3D%22translate(702.24%2C0)%22%20d%3D%22M0%2C231.8518518518519v141.29629629629625%22%20style%3D%22stroke%3A%20rgb(238%2C%20238%2C%20238)%3B%20stroke-opacity%3A%201%3B%20stroke-width%3A%201px%3B%22%2F%3E%3Cpath%20class%3D%22x3grid%20crisp%22%20transform%3D%22translate(798.81%2C0)%22%20d%3D%22M0%2C231.8518518518519v141.29629629629625%22%20style%3D%22stroke%3A%20rgb(238%2C%20238%2C%20238)%3B%20stroke-opacity%3A%201%3B%20stroke-width%3A%201px%3B%22%2F%3E%3C%2Fg%3E%3Cg%20class%3D%22y3%22%3E%3Cpath%20class%3D%22y3grid%20crisp%22%20transform%3D%22translate(0%2C325.3718518518519)%22%20d%3D%22M630%2C0h220%22%20style%3D%22stroke%3A%20rgb(238%2C%20238%2C%20238)%3B%20stroke-opacity%3A%201%3B%20stroke-width%3A%201px%3B%22%2F%3E%3Cpath%20class%3D%22y3grid%20crisp%22%20transform%3D%22translate(0%2C285.1218518518519)%22%20d%3D%22M630%2C0h220%22%20style%3D%22stroke%3A%20rgb(238%2C%20238%2C%20238)%3B%20stroke-opacity%3A%201%3B%20stroke-width%3A%201px%3B%22%2F%3E%3Cpath%20class%3D%22y3grid%20crisp%22%20transform%3D%22translate(0%2C244.8618518518519)%22%20d%3D%22M630%2C0h220%22%20style%3D%22stroke%3A%20rgb(238%2C%20238%2C%20238)%3B%20stroke-opacity%3A%201%3B%20stroke-width%3A%201px%3B%22%2F%3E%3C%2Fg%3E%3C%2Fg%3E%3Cg%20class%3D%22zerolinelayer%22%3E%3Cpath%20class%3D%22y3zl%20zl%20crisp%22%20transform%3D%22translate(0%2C365.63185185185193)%22%20d%3D%22M630%2C0h220%22%20style%3D%22stroke%3A%20rgb(68%2C%2068%2C%2068)%3B%20stroke-opacity%3A%201%3B%20stroke-width%3A%201px%3B%22%2F%3E%3C%2Fg%3E%3Cpath%20class%3D%22xlines-below%22%2F%3E%3Cpath%20class%3D%22ylines-below%22%2F%3E%3Cg%20class%3D%22overlines-below%22%2F%3E%3Cg%20class%3D%22xaxislayer-below%22%2F%3E%3Cg%20class%3D%22yaxislayer-below%22%2F%3E%3Cg%20class%3D%22overaxes-below%22%2F%3E%3Cg%20class%3D%22plot%22%20transform%3D%22translate(630%2C231.8518518518519)%22%20clip-path%3D%22url('%23clip6fabb2x3y3plot')%22%3E%3Cg%20class%3D%22scatterlayer%20mlayer%22%3E%3Cg%20class%3D%22trace%20scatter%20tracedf83e1%22%20style%3D%22stroke-miterlimit%3A%202%3B%20opacity%3A%201%3B%22%3E%3Cg%20class%3D%22fills%22%2F%3E%3Cg%20class%3D%22errorbars%22%2F%3E%3Cg%20class%3D%22lines%22%2F%3E%3Cg%20class%3D%22points%22%3E%3Cpath%20class%3D%22point%22%20transform%3D%22translate(62.75%2C62.23)%22%20d%3D%22M41.4%2C0A41.4%2C41.4%200%201%2C1%200%2C-41.4A41.4%2C41.4%200%200%2C1%2041.4%2C0Z%22%20style%3D%22opacity%3A%200.7%3B%20stroke-width%3A%201px%3B%20fill%3A%20rgb(78%2C%20121%2C%20167)%3B%20fill-opacity%3A%201%3B%20stroke%3A%20rgb(255%2C%20255%2C%20255)%3B%20stroke-opacity%3A%201%3B%22%2F%3E%3C%2Fg%3E%3Cg%20class%3D%22text%22%2F%3E%3C%2Fg%3E%3Cg%20class%3D%22trace%20scatter%20tracee655f7%22%20style%3D%22stroke-miterlimit%3A%202%3B%20opacity%3A%201%3B%22%3E%3Cg%20class%3D%22fills%22%2F%3E%3Cg%20class%3D%22errorbars%22%2F%3E%3Cg%20class%3D%22lines%22%2F%3E%3Cg%20class%3D%22points%22%3E%3Cpath%20class%3D%22point%22%20transform%3D%22translate(77.65%2C61.25)%22%20d%3D%22M42.56%2C0A42.56%2C42.56%200%201%2C1%200%2C-42.56A42.56%2C42.56%200%200%2C1%2042.56%2C0Z%22%20style%3D%22opacity%3A%200.7%3B%20stroke-width%3A%201px%3B%20fill%3A%20rgb(242%2C%20142%2C%2044)%3B%20fill-opacity%3A%201%3B%20stroke%3A%20rgb(255%2C%20255%2C%20255)%3B%20stroke-opacity%3A%201%3B%22%2F%3E%3C%2Fg%3E%3Cg%20class%3D%22text%22%2F%3E%3C%2Fg%3E%3Cg%20class%3D%22trace%20scatter%20trace0c65cb%22%20style%3D%22stroke-miterlimit%3A%202%3B%20opacity%3A%201%3B%22%3E%3Cg%20class%3D%22fills%22%2F%3E%3Cg%20class%3D%22errorbars%22%2F%3E%3Cg%20class%3D%22lines%22%2F%3E%3Cg%20class%3D%22points%22%3E%3Cpath%20class%3D%22point%22%20transform%3D%22translate(109.83%2C60.49)%22%20d%3D%22M42.74%2C0A42.74%2C42.74%200%201%2C1%200%2C-42.74A42.74%2C42.74%200%200%2C1%2042.74%2C0Z%22%20style%3D%22opacity%3A%200.7%3B%20stroke-width%3A%201px%3B%20fill%3A%20rgb(225%2C%2087%2C%2089)%3B%20fill-opacity%3A%201%3B%20stroke%3A%20rgb(255%2C%20255%2C%20255)%3B%20stroke-opacity%3A%201%3B%22%2F%3E%3C%2Fg%3E%3Cg%20class%3D%22text%22%2F%3E%3C%2Fg%3E%3C%2Fg%3E%3C%2Fg%3E%3Cg%20class%3D%22overplot%22%2F%3E%3Cpath%20class%3D%22xlines-above%20crisp%22%20d%3D%22M0%2C0%22%20style%3D%22fill%3A%20none%3B%22%2F%3E%3Cpath%20class%3D%22ylines-above%20crisp%22%20d%3D%22M0%2C0%22%20style%3D%22fill%3A%20none%3B%22%2F%3E%3Cg%20class%3D%22overlines-above%22%2F%3E%3Cg%20class%3D%22xaxislayer-above%22%2F%3E%3Cg%20class%3D%22yaxislayer-above%22%2F%3E%3Cg%20class%3D%22overaxes-above%22%2F%3E%3C%2Fg%3E%3Cg%20class%3D%22subplot%20x3y5%22%3E%3Cg%20class%3D%22layer-subplot%22%3E%3Cg%20class%3D%22shapelayer%22%2F%3E%3Cg%20class%3D%22imagelayer%22%2F%3E%3C%2Fg%3E%3Cg%20class%3D%22gridlayer%22%3E%3Cg%20class%3D%22x3%22%3E%3Cpath%20class%3D%22x3grid%20crisp%22%20transform%3D%22translate(702.24%2C0)%22%20d%3D%22M0%2C433.7037037037037v141.29629629629628%22%20style%3D%22stroke%3A%20rgb(238%2C%20238%2C%20238)%3B%20stroke-opacity%3A%201%3B%20stroke-width%3A%201px%3B%22%2F%3E%3Cpath%20class%3D%22x3grid%20crisp%22%20transform%3D%22translate(798.81%2C0)%22%20d%3D%22M0%2C433.7037037037037v141.29629629629628%22%20style%3D%22stroke%3A%20rgb(238%2C%20238%2C%20238)%3B%20stroke-opacity%3A%201%3B%20stroke-width%3A%201px%3B%22%2F%3E%3C%2Fg%3E%3Cg%20class%3D%22y5%22%3E%3Cpath%20class%3D%22y5grid%20crisp%22%20transform%3D%22translate(0%2C484.7437037037037)%22%20d%3D%22M630%2C0h220%22%20style%3D%22stroke%3A%20rgb(238%2C%20238%2C%20238)%3B%20stroke-opacity%3A%201%3B%20stroke-width%3A%201px%3B%22%2F%3E%3Cpath%20class%3D%22y5grid%20crisp%22%20transform%3D%22translate(0%2C439.3137037037037)%22%20d%3D%22M630%2C0h220%22%20style%3D%22stroke%3A%20rgb(238%2C%20238%2C%20238)%3B%20stroke-opacity%3A%201%3B%20stroke-width%3A%201px%3B%22%2F%3E%3C%2Fg%3E%3C%2Fg%3E%3Cg%20class%3D%22zerolinelayer%22%3E%3Cpath%20class%3D%22y5zl%20zl%20crisp%22%20transform%3D%22translate(0%2C530.1737037037037)%22%20d%3D%22M630%2C0h220%22%20style%3D%22stroke%3A%20rgb(68%2C%2068%2C%2068)%3B%20stroke-opacity%3A%201%3B%20stroke-width%3A%201px%3B%22%2F%3E%3C%2Fg%3E%3Cpath%20class%3D%22xlines-below%22%2F%3E%3Cpath%20class%3D%22ylines-below%22%2F%3E%3Cg%20class%3D%22overlines-below%22%2F%3E%3Cg%20class%3D%22xaxislayer-below%22%2F%3E%3Cg%20class%3D%22yaxislayer-below%22%2F%3E%3Cg%20class%3D%22overaxes-below%22%2F%3E%3Cg%20class%3D%22plot%22%20transform%3D%22translate(630%2C433.7037037037037)%22%20clip-path%3D%22url('%23clip6fabb2x3y5plot')%22%3E%3Cg%20class%3D%22scatterlayer%20mlayer%22%3E%3Cg%20class%3D%22trace%20scatter%20trace0706b8%22%20style%3D%22stroke-miterlimit%3A%202%3B%20opacity%3A%201%3B%22%3E%3Cg%20class%3D%22fills%22%2F%3E%3Cg%20class%3D%22errorbars%22%2F%3E%3Cg%20class%3D%22lines%22%2F%3E%3Cg%20class%3D%22points%22%3E%3Cpath%20class%3D%22point%22%20transform%3D%22translate(158.77%2C57.3)%22%20d%3D%22M40.19%2C0A40.19%2C40.19%200%201%2C1%200%2C-40.19A40.19%2C40.19%200%200%2C1%2040.19%2C0Z%22%20style%3D%22opacity%3A%200.7%3B%20stroke-width%3A%201px%3B%20fill%3A%20rgb(78%2C%20121%2C%20167)%3B%20fill-opacity%3A%201%3B%20stroke%3A%20rgb(255%2C%20255%2C%20255)%3B%20stroke-opacity%3A%201%3B%22%2F%3E%3C%2Fg%3E%3Cg%20class%3D%22text%22%2F%3E%3C%2Fg%3E%3Cg%20class%3D%22trace%20scatter%20traced8e49e%22%20style%3D%22stroke-miterlimit%3A%202%3B%20opacity%3A%201%3B%22%3E%3Cg%20class%3D%22fills%22%2F%3E%3Cg%20class%3D%22errorbars%22%2F%3E%3Cg%20class%3D%22lines%22%2F%3E%3Cg%20class%3D%22points%22%3E%3Cpath%20class%3D%22point%22%20transform%3D%22translate(77.65%2C56.57)%22%20d%3D%22M35.86%2C0A35.86%2C35.86%200%201%2C1%200%2C-35.86A35.86%2C35.86%200%200%2C1%2035.86%2C0Z%22%20style%3D%22opacity%3A%200.7%3B%20stroke-width%3A%201px%3B%20fill%3A%20rgb(242%2C%20142%2C%2044)%3B%20fill-opacity%3A%201%3B%20stroke%3A%20rgb(255%2C%20255%2C%20255)%3B%20stroke-opacity%3A%201%3B%22%2F%3E%3C%2Fg%3E%3Cg%20class%3D%22text%22%2F%3E%3C%2Fg%3E%3Cg%20class%3D%22trace%20scatter%20trace6f4fc8%22%20style%3D%22stroke-miterlimit%3A%202%3B%20opacity%3A%201%3B%22%3E%3Cg%20class%3D%22fills%22%2F%3E%3Cg%20class%3D%22errorbars%22%2F%3E%3Cg%20class%3D%22lines%22%2F%3E%3Cg%20class%3D%22points%22%3E%3Cpath%20class%3D%22point%22%20transform%3D%22translate(109.83%2C56.09)%22%20d%3D%22M35.95%2C0A35.95%2C35.95%200%201%2C1%200%2C-35.95A35.95%2C35.95%200%200%2C1%2035.95%2C0Z%22%20style%3D%22opacity%3A%200.7%3B%20stroke-width%3A%201px%3B%20fill%3A%20rgb(225%2C%2087%2C%2089)%3B%20fill-opacity%3A%201%3B%20stroke%3A%20rgb(255%2C%20255%2C%20255)%3B%20stroke-opacity%3A%201%3B%22%2F%3E%3C%2Fg%3E%3Cg%20class%3D%22text%22%2F%3E%3C%2Fg%3E%3C%2Fg%3E%3C%2Fg%3E%3Cg%20class%3D%22overplot%22%2F%3E%3Cpath%20class%3D%22xlines-above%20crisp%22%20d%3D%22M0%2C0%22%20style%3D%22fill%3A%20none%3B%22%2F%3E%3Cpath%20class%3D%22ylines-above%20crisp%22%20d%3D%22M0%2C0%22%20style%3D%22fill%3A%20none%3B%22%2F%3E%3Cg%20class%3D%22overlines-above%22%2F%3E%3Cg%20class%3D%22xaxislayer-above%22%3E%3Cg%20class%3D%22x3tick%22%3E%3Ctext%20text-anchor%3D%22middle%22%20x%3D%220%22%20y%3D%22588%22%20data-unformatted%3D%220.85%22%20data-math%3D%22N%22%20transform%3D%22translate(702.24%2C0)%22%20style%3D%22font-family%3A%20%26quot%3BOpen%20Sans%26quot%3B%2C%20verdana%2C%20arial%2C%20sans-serif%3B%20font-size%3A%2012px%3B%20fill%3A%20rgb(89%2C%2089%2C%2089)%3B%20fill-opacity%3A%201%3B%20white-space%3A%20pre%3B%22%3E0.85%3C%2Ftext%3E%3C%2Fg%3E%3Cg%20class%3D%22x3tick%22%3E%3Ctext%20text-anchor%3D%22middle%22%20x%3D%220%22%20y%3D%22588%22%20data-unformatted%3D%220.9%22%20data-math%3D%22N%22%20transform%3D%22translate(798.81%2C0)%22%20style%3D%22font-family%3A%20%26quot%3BOpen%20Sans%26quot%3B%2C%20verdana%2C%20arial%2C%20sans-serif%3B%20font-size%3A%2012px%3B%20fill%3A%20rgb(89%2C%2089%2C%2089)%3B%20fill-opacity%3A%201%3B%20white-space%3A%20pre%3B%22%3E0.9%3C%2Ftext%3E%3C%2Fg%3E%3C%2Fg%3E%3Cg%20class%3D%22yaxislayer-above%22%2F%3E%3Cg%20class%3D%22overaxes-above%22%2F%3E%3C%2Fg%3E%3C%2Fg%3E%3Cg%20class%3D%22polarlayer%22%2F%3E%3Cg%20class%3D%22ternarylayer%22%2F%3E%3Cg%20class%3D%22geolayer%22%2F%3E%3Cg%20class%3D%22funnelarealayer%22%2F%3E%3Cg%20class%3D%22pielayer%22%2F%3E%3Cg%20class%3D%22treemaplayer%22%2F%3E%3Cg%20class%3D%22sunburstlayer%22%2F%3E%3Cg%20class%3D%22glimages%22%2F%3E%3C%2Fsvg%3E%3Cdiv%20class%3D%22gl-container%22%3E%3C%2Fdiv%3E%3Csvg%20class%3D%22main-svg%22%20xmlns%3D%22http%3A%2F%2Fwww.w3.org%2F2000%2Fsvg%22%20xmlns%3Axlink%3D%22http%3A%2F%2Fwww.w3.org%2F1999%2Fxlink%22%20width%3D%22967%22%20height%3D%22655%22%3E%3Cdefs%20id%3D%22topdefs-6fabb2%22%3E%3Cg%20class%3D%22clips%22%2F%3E%3CclipPath%20id%3D%22legend6fabb2%22%3E%3Crect%20width%3D%22102%22%20height%3D%2287%22%20x%3D%220%22%20y%3D%220%22%2F%3E%3C%2FclipPath%3E%3C%2Fdefs%3E%3Cg%20class%3D%22indicatorlayer%22%2F%3E%3Cg%20class%3D%22layer-above%22%3E%3Cg%20class%3D%22imagelayer%22%2F%3E%3Cg%20class%3D%22shapelayer%22%2F%3E%3C%2Fg%3E%3Cg%20class%3D%22infolayer%22%3E%3Cg%20class%3D%22legend%22%20pointer-events%3D%22all%22%20transform%3D%22translate(865%2C30)%22%3E%3Crect%20class%3D%22bg%22%20shape-rendering%3D%22crispEdges%22%20width%3D%22102%22%20height%3D%2287%22%20x%3D%220%22%20y%3D%220%22%20style%3D%22stroke%3A%20rgb(68%2C%2068%2C%2068)%3B%20stroke-opacity%3A%201%3B%20fill%3A%20rgb(255%2C%20255%2C%20255)%3B%20fill-opacity%3A%201%3B%20stroke-width%3A%200px%3B%22%2F%3E%3Cg%20class%3D%22scrollbox%22%20transform%3D%22%22%20clip-path%3D%22url('%23legend6fabb2')%22%3E%3Cg%20class%3D%22groups%22%20transform%3D%22%22%3E%3Cg%20class%3D%22traces%22%20transform%3D%22translate(0%2C14.5)%22%20style%3D%22opacity%3A%201%3B%22%3E%3Ctext%20class%3D%22legendtext%22%20text-anchor%3D%22start%22%20x%3D%2240%22%20y%3D%224.680000000000001%22%20data-unformatted%3D%22Basic%22%20data-math%3D%22N%22%20style%3D%22font-family%3A%20%26quot%3BOpen%20Sans%26quot%3B%2C%20verdana%2C%20arial%2C%20sans-serif%3B%20font-size%3A%2012px%3B%20fill%3A%20rgb(89%2C%2089%2C%2089)%3B%20fill-opacity%3A%201%3B%20white-space%3A%20pre%3B%22%3EBasic%3C%2Ftext%3E%3Cg%20class%3D%22layers%22%20style%3D%22opacity%3A%201%3B%22%3E%3Cg%20class%3D%22legendfill%22%2F%3E%3Cg%20class%3D%22legendlines%22%2F%3E%3Cg%20class%3D%22legendsymbols%22%3E%3Cg%20class%3D%22legendpoints%22%3E%3Cpath%20class%3D%22scatterpts%22%20transform%3D%22translate(20%2C0)%22%20d%3D%22M8%2C0A8%2C8%200%201%2C1%200%2C-8A8%2C8%200%200%2C1%208%2C0Z%22%20style%3D%22opacity%3A%200.7%3B%20stroke-width%3A%201px%3B%20fill%3A%20rgb(78%2C%20121%2C%20167)%3B%20fill-opacity%3A%201%3B%20stroke%3A%20rgb(255%2C%20255%2C%20255)%3B%20stroke-opacity%3A%201%3B%22%2F%3E%3C%2Fg%3E%3C%2Fg%3E%3C%2Fg%3E%3Crect%20class%3D%22legendtoggle%22%20pointer-events%3D%22all%22%20x%3D%220%22%20y%3D%22-9.5%22%20width%3D%2296.26250076293945%22%20height%3D%2219%22%20style%3D%22cursor%3A%20pointer%3B%20fill%3A%20rgb(0%2C%200%2C%200)%3B%20fill-opacity%3A%200%3B%22%2F%3E%3C%2Fg%3E%3C%2Fg%3E%3Cg%20class%3D%22groups%22%20transform%3D%22translate(0%2C10)%22%3E%3Cg%20class%3D%22traces%22%20transform%3D%22translate(0%2C33.5)%22%20style%3D%22opacity%3A%201%3B%22%3E%3Ctext%20class%3D%22legendtext%22%20text-anchor%3D%22start%22%20x%3D%2240%22%20y%3D%224.680000000000001%22%20data-unformatted%3D%22Extended%22%20data-math%3D%22N%22%20style%3D%22font-family%3A%20%26quot%3BOpen%20Sans%26quot%3B%2C%20verdana%2C%20arial%2C%20sans-serif%3B%20font-size%3A%2012px%3B%20fill%3A%20rgb(89%2C%2089%2C%2089)%3B%20fill-opacity%3A%201%3B%20white-space%3A%20pre%3B%22%3EExtended%3C%2Ftext%3E%3Cg%20class%3D%22layers%22%20style%3D%22opacity%3A%201%3B%22%3E%3Cg%20class%3D%22legendfill%22%2F%3E%3Cg%20class%3D%22legendlines%22%2F%3E%3Cg%20class%3D%22legendsymbols%22%3E%3Cg%20class%3D%22legendpoints%22%3E%3Cpath%20class%3D%22scatterpts%22%20transform%3D%22translate(20%2C0)%22%20d%3D%22M8%2C0A8%2C8%200%201%2C1%200%2C-8A8%2C8%200%200%2C1%208%2C0Z%22%20style%3D%22opacity%3A%200.7%3B%20stroke-width%3A%201px%3B%20fill%3A%20rgb(242%2C%20142%2C%2044)%3B%20fill-opacity%3A%201%3B%20stroke%3A%20rgb(255%2C%20255%2C%20255)%3B%20stroke-opacity%3A%201%3B%22%2F%3E%3C%2Fg%3E%3C%2Fg%3E%3C%2Fg%3E%3Crect%20class%3D%22legendtoggle%22%20pointer-events%3D%22all%22%20x%3D%220%22%20y%3D%22-9.5%22%20width%3D%2296.26250076293945%22%20height%3D%2219%22%20style%3D%22cursor%3A%20pointer%3B%20fill%3A%20rgb(0%2C%200%2C%200)%3B%20fill-opacity%3A%200%3B%22%2F%3E%3C%2Fg%3E%3C%2Fg%3E%3Cg%20class%3D%22groups%22%20transform%3D%22translate(0%2C20)%22%3E%3Cg%20class%3D%22traces%22%20transform%3D%22translate(0%2C52.5)%22%20style%3D%22opacity%3A%201%3B%22%3E%3Ctext%20class%3D%22legendtext%22%20text-anchor%3D%22start%22%20x%3D%2240%22%20y%3D%224.680000000000001%22%20data-unformatted%3D%22Premium%22%20data-math%3D%22N%22%20style%3D%22font-family%3A%20%26quot%3BOpen%20Sans%26quot%3B%2C%20verdana%2C%20arial%2C%20sans-serif%3B%20font-size%3A%2012px%3B%20fill%3A%20rgb(89%2C%2089%2C%2089)%3B%20fill-opacity%3A%201%3B%20white-space%3A%20pre%3B%22%3EPremium%3C%2Ftext%3E%3Cg%20class%3D%22layers%22%20style%3D%22opacity%3A%201%3B%22%3E%3Cg%20class%3D%22legendfill%22%2F%3E%3Cg%20class%3D%22legendlines%22%2F%3E%3Cg%20class%3D%22legendsymbols%22%3E%3Cg%20class%3D%22legendpoints%22%3E%3Cpath%20class%3D%22scatterpts%22%20transform%3D%22translate(20%2C0)%22%20d%3D%22M8%2C0A8%2C8%200%201%2C1%200%2C-8A8%2C8%200%200%2C1%208%2C0Z%22%20style%3D%22opacity%3A%200.7%3B%20stroke-width%3A%201px%3B%20fill%3A%20rgb(225%2C%2087%2C%2089)%3B%20fill-opacity%3A%201%3B%20stroke%3A%20rgb(255%2C%20255%2C%20255)%3B%20stroke-opacity%3A%201%3B%22%2F%3E%3C%2Fg%3E%3C%2Fg%3E%3C%2Fg%3E%3Crect%20class%3D%22legendtoggle%22%20pointer-events%3D%22all%22%20x%3D%220%22%20y%3D%22-9.5%22%20width%3D%2296.26250076293945%22%20height%3D%2219%22%20style%3D%22cursor%3A%20pointer%3B%20fill%3A%20rgb(0%2C%200%2C%200)%3B%20fill-opacity%3A%200%3B%22%2F%3E%3C%2Fg%3E%3C%2Fg%3E%3C%2Fg%3E%3Crect%20class%3D%22scrollbar%22%20rx%3D%2220%22%20ry%3D%223%22%20width%3D%220%22%20height%3D%220%22%20x%3D%220%22%20y%3D%220%22%20style%3D%22fill%3A%20rgb(128%2C%20139%2C%20164)%3B%20fill-opacity%3A%201%3B%22%2F%3E%3C%2Fg%3E%3Cg%20class%3D%22g-gtitle%22%2F%3E%3Cg%20class%3D%22g-xtitle%22%3E%3Ctext%20class%3D%22xtitle%22%20x%3D%22190%22%20y%3D%22627%22%20text-anchor%3D%22middle%22%20data-unformatted%3D%22Corporate%20Auto%22%20data-math%3D%22N%22%20style%3D%22font-family%3A%20%26quot%3BOpen%20Sans%26quot%3B%2C%20verdana%2C%20arial%2C%20sans-serif%3B%20font-size%3A%2014px%3B%20fill%3A%20rgb(89%2C%2089%2C%2089)%3B%20opacity%3A%201%3B%20font-weight%3A%20normal%3B%20white-space%3A%20pre%3B%22%3ECorporate%20Auto%3C%2Ftext%3E%3C%2Fg%3E%3Cg%20class%3D%22g-x2title%22%3E%3Ctext%20class%3D%22x2title%22%20x%3D%22465%22%20y%3D%22627%22%20text-anchor%3D%22middle%22%20data-unformatted%3D%22Personal%20Auto%22%20data-math%3D%22N%22%20style%3D%22font-family%3A%20%26quot%3BOpen%20Sans%26quot%3B%2C%20verdana%2C%20arial%2C%20sans-serif%3B%20font-size%3A%2014px%3B%20fill%3A%20rgb(89%2C%2089%2C%2089)%3B%20opacity%3A%201%3B%20font-weight%3A%20normal%3B%20white-space%3A%20pre%3B%22%3EPersonal%20Auto%3C%2Ftext%3E%3C%2Fg%3E%3Cg%20class%3D%22g-x3title%22%3E%3Ctext%20class%3D%22x3title%22%20x%3D%22740%22%20y%3D%22627%22%20text-anchor%3D%22middle%22%20data-unformatted%3D%22Special%20Auto%22%20data-math%3D%22N%22%20style%3D%22font-family%3A%20%26quot%3BOpen%20Sans%26quot%3B%2C%20verdana%2C%20arial%2C%20sans-serif%3B%20font-size%3A%2014px%3B%20fill%3A%20rgb(89%2C%2089%2C%2089)%3B%20opacity%3A%201%3B%20font-weight%3A%20normal%3B%20white-space%3A%20pre%3B%22%3ESpecial%20Auto%3C%2Ftext%3E%3C%2Fg%3E%3Cg%20class%3D%22g-ytitle%22%3E%3Ctext%20class%3D%22ytitle%22%20transform%3D%22rotate(-90%2C42%2C100.64814814814815)%22%20x%3D%2242%22%20y%3D%22100.64814814814815%22%20text-anchor%3D%22middle%22%20data-unformatted%3D%22Base%22%20data-math%3D%22N%22%20style%3D%22font-family%3A%20%26quot%3BOpen%20Sans%26quot%3B%2C%20verdana%2C%20arial%2C%20sans-serif%3B%20font-size%3A%2014px%3B%20fill%3A%20rgb(89%2C%2089%2C%2089)%3B%20opacity%3A%201%3B%20font-weight%3A%20normal%3B%20white-space%3A%20pre%3B%22%3EBase%3C%2Ftext%3E%3C%2Fg%3E%3Cg%20class%3D%22g-y3title%22%3E%3Ctext%20class%3D%22y3title%22%20transform%3D%22rotate(-90%2C42%2C302.5)%22%20x%3D%2242%22%20y%3D%22302.5%22%20text-anchor%3D%22middle%22%20data-unformatted%3D%22Pareto%20price%20change%22%20data-math%3D%22N%22%20style%3D%22font-family%3A%20%26quot%3BOpen%20Sans%26quot%3B%2C%20verdana%2C%20arial%2C%20sans-serif%3B%20font-size%3A%2014px%3B%20fill%3A%20rgb(89%2C%2089%2C%2089)%3B%20opacity%3A%201%3B%20font-weight%3A%20normal%3B%20white-space%3A%20pre%3B%22%3EPareto%20price%20change%3C%2Ftext%3E%3C%2Fg%3E%3Cg%20class%3D%22g-y5title%22%3E%3Ctext%20class%3D%22y5title%22%20transform%3D%22rotate(-90%2C42%2C504.35185185185185)%22%20x%3D%2242%22%20y%3D%22504.35185185185185%22%20text-anchor%3D%22middle%22%20data-unformatted%3D%22Personal%20Auto%20Boost%22%20data-math%3D%22N%22%20style%3D%22font-family%3A%20%26quot%3BOpen%20Sans%26quot%3B%2C%20verdana%2C%20arial%2C%20sans-serif%3B%20font-size%3A%2014px%3B%20fill%3A%20rgb(89%2C%2089%2C%2089)%3B%20opacity%3A%201%3B%20font-weight%3A%20normal%3B%20white-space%3A%20pre%3B%22%3EPersonal%20Auto%20Boost%3C%2Ftext%3E%3C%2Fg%3E%3C%2Fg%3E%3Cg%20class%3D%22menulayer%22%2F%3E%3Cg%20class%3D%22zoomlayer%22%2F%3E%3C%2Fsvg%3E%3Cdiv%20class%3D%22modebar-container%22%20style%3D%22position%3A%20absolute%3B%20top%3A%200px%3B%20right%3A%200px%3B%20width%3A%20100%25%3B%22%3E%3Cdiv%20id%3D%22modebar-6fabb2%22%20class%3D%22modebar%20modebar--hover%20ease-bg%22%3E%3Cdiv%20class%3D%22modebar-group%22%3E%3Ca%20rel%3D%22tooltip%22%20class%3D%22modebar-btn%22%20data-title%3D%22Download%20plot%20as%20a%20png%22%20data-toggle%3D%22false%22%20data-gravity%3D%22n%22%3E%3Csvg%20xmlns%3D%22http%3A%2F%2Fwww.w3.org%2F2000%2Fsvg%22%20viewBox%3D%220%200%201000%201000%22%20class%3D%22icon%22%20height%3D%221em%22%20width%3D%221em%22%3E%3Cpath%20d%3D%22m500%20450c-83%200-150-67-150-150%200-83%2067-150%20150-150%2083%200%20150%2067%20150%20150%200%2083-67%20150-150%20150z%20m400%20150h-120c-16%200-34%2013-39%2029l-31%2093c-6%2015-23%2028-40%2028h-340c-16%200-34-13-39-28l-31-94c-6-15-23-28-40-28h-120c-55%200-100-45-100-100v-450c0-55%2045-100%20100-100h800c55%200%20100%2045%20100%20100v450c0%2055-45%20100-100%20100z%20m-400-550c-138%200-250%20112-250%20250%200%20138%20112%20250%20250%20250%20138%200%20250-112%20250-250%200-138-112-250-250-250z%20m365%20380c-19%200-35%2016-35%2035%200%2019%2016%2035%2035%2035%2019%200%2035-16%2035-35%200-19-16-35-35-35z%22%20transform%3D%22matrix(1%200%200%20-1%200%20850)%22%2F%3E%3C%2Fsvg%3E%3C%2Fa%3E%3C%2Fdiv%3E%3Cdiv%20class%3D%22modebar-group%22%3E%3Ca%20rel%3D%22tooltip%22%20class%3D%22modebar-btn%20active%22%20data-title%3D%22Zoom%22%20data-attr%3D%22dragmode%22%20data-val%3D%22zoom%22%20data-toggle%3D%22false%22%20data-gravity%3D%22n%22%3E%3Csvg%20xmlns%3D%22http%3A%2F%2Fwww.w3.org%2F2000%2Fsvg%22%20viewBox%3D%220%200%201000%201000%22%20class%3D%22icon%22%20height%3D%221em%22%20width%3D%221em%22%3E%3Cpath%20d%3D%22m1000-25l-250%20251c40%2063%2063%20138%2063%20218%200%20224-182%20406-407%20406-224%200-406-182-406-406s183-406%20407-406c80%200%20155%2022%20218%2062l250-250%20125%20125z%20m-812%20250l0%20438%20437%200%200-438-437%200z%20m62%20375l313%200%200-312-313%200%200%20312z%22%20transform%3D%22matrix(1%200%200%20-1%200%20850)%22%2F%3E%3C%2Fsvg%3E%3C%2Fa%3E%3Ca%20rel%3D%22tooltip%22%20class%3D%22modebar-btn%22%20data-title%3D%22Pan%22%20data-attr%3D%22dragmode%22%20data-val%3D%22pan%22%20data-toggle%3D%22false%22%20data-gravity%3D%22n%22%3E%3Csvg%20xmlns%3D%22http%3A%2F%2Fwww.w3.org%2F2000%2Fsvg%22%20viewBox%3D%220%200%201000%201000%22%20class%3D%22icon%22%20height%3D%221em%22%20width%3D%221em%22%3E%3Cpath%20d%3D%22m1000%20350l-187%20188%200-125-250%200%200%20250%20125%200-188%20187-187-187%20125%200%200-250-250%200%200%20125-188-188%20186-187%200%20125%20252%200%200-250-125%200%20187-188%20188%20188-125%200%200%20250%20250%200%200-126%20187%20188z%22%20transform%3D%22matrix(1%200%200%20-1%200%20850)%22%2F%3E%3C%2Fsvg%3E%3C%2Fa%3E%3Ca%20rel%3D%22tooltip%22%20class%3D%22modebar-btn%22%20data-title%3D%22Box%20Select%22%20data-attr%3D%22dragmode%22%20data-val%3D%22select%22%20data-toggle%3D%22false%22%20data-gravity%3D%22n%22%3E%3Csvg%20xmlns%3D%22http%3A%2F%2Fwww.w3.org%2F2000%2Fsvg%22%20viewBox%3D%220%200%201000%201000%22%20class%3D%22icon%22%20height%3D%221em%22%20width%3D%221em%22%3E%3Cpath%20d%3D%22m0%20850l0-143%20143%200%200%20143-143%200z%20m286%200l0-143%20143%200%200%20143-143%200z%20m285%200l0-143%20143%200%200%20143-143%200z%20m286%200l0-143%20143%200%200%20143-143%200z%20m-857-286l0-143%20143%200%200%20143-143%200z%20m857%200l0-143%20143%200%200%20143-143%200z%20m-857-285l0-143%20143%200%200%20143-143%200z%20m857%200l0-143%20143%200%200%20143-143%200z%20m-857-286l0-143%20143%200%200%20143-143%200z%20m286%200l0-143%20143%200%200%20143-143%200z%20m285%200l0-143%20143%200%200%20143-143%200z%20m286%200l0-143%20143%200%200%20143-143%200z%22%20transform%3D%22matrix(1%200%200%20-1%200%20850)%22%2F%3E%3C%2Fsvg%3E%3C%2Fa%3E%3Ca%20rel%3D%22tooltip%22%20class%3D%22modebar-btn%22%20data-title%3D%22Lasso%20Select%22%20data-attr%3D%22dragmode%22%20data-val%3D%22lasso%22%20data-toggle%3D%22false%22%20data-gravity%3D%22n%22%3E%3Csvg%20xmlns%3D%22http%3A%2F%2Fwww.w3.org%2F2000%2Fsvg%22%20viewBox%3D%220%200%201031%201000%22%20class%3D%22icon%22%20height%3D%221em%22%20width%3D%221em%22%3E%3Cpath%20d%3D%22m1018%20538c-36%20207-290%20336-568%20286-277-48-473-256-436-463%2010-57%2036-108%2076-151-13-66%2011-137%2068-183%2034-28%2075-41%20114-42l-55-70%200%200c-2-1-3-2-4-3-10-14-8-34%205-45%2014-11%2034-8%2045%204%201%201%202%203%202%205l0%200%20113%20140c16%2011%2031%2024%2045%2040%204%203%206%207%208%2011%2048-3%20100%200%20151%209%20278%2048%20473%20255%20436%20462z%20m-624-379c-80%2014-149%2048-197%2096%2042%2042%20109%2047%20156%209%2033-26%2047-66%2041-105z%20m-187-74c-19%2016-33%2037-39%2060%2050-32%20109-55%20174-68-42-25-95-24-135%208z%20m360%2075c-34-7-69-9-102-8%208%2062-16%20128-68%20170-73%2059-175%2054-244-5-9%2020-16%2040-20%2061-28%20159%20121%20317%20333%20354s407-60%20434-217c28-159-121-318-333-355z%22%20transform%3D%22matrix(1%200%200%20-1%200%20850)%22%2F%3E%3C%2Fsvg%3E%3C%2Fa%3E%3C%2Fdiv%3E%3Cdiv%20class%3D%22modebar-group%22%3E%3Ca%20rel%3D%22tooltip%22%20class%3D%22modebar-btn%22%20data-title%3D%22Zoom%20in%22%20data-attr%3D%22zoom%22%20data-val%3D%22in%22%20data-toggle%3D%22false%22%20data-gravity%3D%22n%22%3E%3Csvg%20xmlns%3D%22http%3A%2F%2Fwww.w3.org%2F2000%2Fsvg%22%20viewBox%3D%220%200%20875%201000%22%20class%3D%22icon%22%20height%3D%221em%22%20width%3D%221em%22%3E%3Cpath%20d%3D%22m1%20787l0-875%20875%200%200%20875-875%200z%20m687-500l-187%200%200-187-125%200%200%20187-188%200%200%20125%20188%200%200%20187%20125%200%200-187%20187%200%200-125z%22%20transform%3D%22matrix(1%200%200%20-1%200%20850)%22%2F%3E%3C%2Fsvg%3E%3C%2Fa%3E%3Ca%20rel%3D%22tooltip%22%20class%3D%22modebar-btn%22%20data-title%3D%22Zoom%20out%22%20data-attr%3D%22zoom%22%20data-val%3D%22out%22%20data-toggle%3D%22false%22%20data-gravity%3D%22n%22%3E%3Csvg%20xmlns%3D%22http%3A%2F%2Fwww.w3.org%2F2000%2Fsvg%22%20viewBox%3D%220%200%20875%201000%22%20class%3D%22icon%22%20height%3D%221em%22%20width%3D%221em%22%3E%3Cpath%20d%3D%22m0%20788l0-876%20875%200%200%20876-875%200z%20m688-500l-500%200%200%20125%20500%200%200-125z%22%20transform%3D%22matrix(1%200%200%20-1%200%20850)%22%2F%3E%3C%2Fsvg%3E%3C%2Fa%3E%3Ca%20rel%3D%22tooltip%22%20class%3D%22modebar-btn%22%20data-title%3D%22Autoscale%22%20data-attr%3D%22zoom%22%20data-val%3D%22auto%22%20data-toggle%3D%22false%22%20data-gravity%3D%22n%22%3E%3Csvg%20xmlns%3D%22http%3A%2F%2Fwww.w3.org%2F2000%2Fsvg%22%20viewBox%3D%220%200%201000%201000%22%20class%3D%22icon%22%20height%3D%221em%22%20width%3D%221em%22%3E%3Cpath%20d%3D%22m250%20850l-187%200-63%200%200-62%200-188%2063%200%200%20188%20187%200%200%2062z%20m688%200l-188%200%200-62%20188%200%200-188%2062%200%200%20188%200%2062-62%200z%20m-875-938l0%20188-63%200%200-188%200-62%2063%200%20187%200%200%2062-187%200z%20m875%20188l0-188-188%200%200-62%20188%200%2062%200%200%2062%200%20188-62%200z%20m-125%20188l-1%200-93-94-156%20156%20156%20156%2092-93%202%200%200%20250-250%200%200-2%2093-92-156-156-156%20156%2094%2092%200%202-250%200%200-250%200%200%2093%2093%20157-156-157-156-93%2094%200%200%200-250%20250%200%200%200-94%2093%20156%20157%20156-157-93-93%200%200%20250%200%200%20250z%22%20transform%3D%22matrix(1%200%200%20-1%200%20850)%22%2F%3E%3C%2Fsvg%3E%3C%2Fa%3E%3C%2Fdiv%3E%3Cdiv%20class%3D%22modebar-group%22%3E%3C%2Fdiv%3E%3C%2Fdiv%3E%3C%2Fdiv%3E%3Csvg%20class%3D%22main-svg%22%20xmlns%3D%22http%3A%2F%2Fwww.w3.org%2F2000%2Fsvg%22%20xmlns%3Axlink%3D%22http%3A%2F%2Fwww.w3.org%2F1999%2Fxlink%22%20width%3D%22967%22%20height%3D%22655%22%3E%3Cg%20class%3D%22hoverlayer%22%2F%3E%3C%2Fsvg%3E%3C%2Fdiv%3E%3C%2Fdiv%3E%3C%2Fdiv%3E%3C%2Fdiv%3E%3C%2Fdiv%3E%3C%2Fdiv%3E%3C%2Fdiv%3E%3C%2Fdiv%3E%3C%2Fdiv%3E%3C%2Fdiv%3E%3C%2FforeignObject%3E%3C%2Fsvg%3E\">"
      ],
      "text/plain": [
       "Open the notebook in JupyterLab with the atoti extension enabled to build this widget."
      ]
     },
     "metadata": {},
     "output_type": "display_data"
    }
   ],
   "source": [
    "session.visualize(\"Scenario: Revenue and sales by policy and coverage type\")"
   ]
  },
  {
   "cell_type": "code",
   "execution_count": 46,
   "id": "6c37b732-4ad0-43c8-9f49-4413d12482aa",
   "metadata": {
    "atoti": {
     "height": 261,
     "widget": {
      "mapping": {
       "goal": [
        "[Measures].[Price.SUM]"
       ],
       "horizontalSubplots": [
        "[Epoch].[Epoch].[Branch]"
       ],
       "maximum": [],
       "minimum": [],
       "value": [
        "[Measures].[revenue_realised]"
       ],
       "verticalSubplots": []
      },
      "query": {
       "mdx": "SELECT NON EMPTY Crossjoin([Epoch].[Epoch].[Branch].Members, {[Measures].[revenue_realised], [Measures].[Price.SUM]}) ON COLUMNS FROM [predictions] CELL PROPERTIES VALUE, FORMATTED_VALUE, BACK_COLOR, FORE_COLOR, FONT_FLAGS",
       "updateMode": "once"
      },
      "serverKey": "default",
      "widgetKey": "plotly-gauge-chart"
     }
    },
    "tags": []
   },
   "outputs": [
    {
     "data": {
      "application/vnd.atoti.widget.v0+json": {
       "name": "Scenarios: Revenue realised gauge",
       "sessionId": "1648807936_ZMGVTD",
       "sessionLocation": {
        "https": null,
        "port": 62008
       },
       "widgetCreationCode": "session.visualize()"
      },
      "text/html": [
       "<img src=\"data:image/svg+xml;charset=utf8,%3C%3Fxml%20version%3D%221.0%22%20standalone%3D%22no%22%3F%3E%3Csvg%20xmlns%3D%22http%3A%2F%2Fwww.w3.org%2F2000%2Fsvg%22%20xmlns%3Axlink%3D%22http%3A%2F%2Fwww.w3.org%2F1999%2Fxlink%22%20height%3D%22253%22%20width%3D%22967%22%20viewBox%3D%220%200%20967%20253%22%3E%3Cdefs%20id%3D%22defs-ed1ccc%22%3E%3Cg%20class%3D%22clips%22%2F%3E%3Cg%20class%3D%22gradients%22%2F%3E%3C%2Fdefs%3E%3Cg%20class%3D%22bglayer%22%2F%3E%3Cg%20class%3D%22draglayer%22%2F%3E%3Cg%20class%3D%22layer-below%22%3E%3Cg%20class%3D%22imagelayer%22%2F%3E%3Cg%20class%3D%22shapelayer%22%2F%3E%3C%2Fg%3E%3Cg%20class%3D%22cartesianlayer%22%2F%3E%3Cg%20class%3D%22polarlayer%22%2F%3E%3Cg%20class%3D%22ternarylayer%22%2F%3E%3Cg%20class%3D%22geolayer%22%2F%3E%3Cg%20class%3D%22funnelarealayer%22%2F%3E%3Cg%20class%3D%22pielayer%22%2F%3E%3Cg%20class%3D%22treemaplayer%22%2F%3E%3Cg%20class%3D%22sunburstlayer%22%2F%3E%3Cg%20class%3D%22glimages%22%2F%3E%3Cdefs%20id%3D%22topdefs-ed1ccc%22%3E%3Cg%20class%3D%22clips%22%2F%3E%3C%2Fdefs%3E%3Cg%20class%3D%22indicatorlayer%22%3E%3Cg%20class%3D%22trace%22%3E%3Cg%20class%3D%22numbers%22%20transform%3D%22translate(167.0528500695132%2C148.77816945416885)scale(0.3719220187392581)%22%3E%3Ctext%20text-anchor%3D%22middle%22%20class%3D%22number%22%20data-unformatted%3D%223.92M%22%20data-math%3D%22N%22%20style%3D%22font-family%3A%20%26quot%3BOpen%20Sans%26quot%3B%2C%20verdana%2C%20arial%2C%20sans-serif%3B%20font-size%3A%2080px%3B%20fill%3A%20rgb(89%2C%2089%2C%2089)%3B%20fill-opacity%3A%201%3B%20white-space%3A%20pre%3B%22%20x%3D%220%22%20y%3D%220%22%3E3.92M%3C%2Ftext%3E%3C%2Fg%3E%3Cg%20class%3D%22angular%22%20transform%3D%22translate(167.05263157894737%2C155.0263157894737)%22%3E%3Cg%20class%3D%22bg-arc%22%3E%3Cpath%20d%3D%22M-87.05263157894737%2C-1.066087266205117e-14A87.05263157894737%2C87.05263157894737%200%200%2C1%2087.05263157894737%2C0L65.28947368421052%2C0A65.28947368421052%2C65.28947368421052%200%200%2C0%20-65.28947368421052%2C-7.995654496538376e-15Z%22%20style%3D%22stroke%3A%20rgb(68%2C%2068%2C%2068)%3B%20stroke-opacity%3A%201%3B%20fill%3A%20rgb(255%2C%20255%2C%20255)%3B%20fill-opacity%3A%201%3B%20stroke-width%3A%200%3B%22%2F%3E%3C%2Fg%3E%3Cg%20class%3D%22value-arc%22%3E%3Cpath%20d%3D%22M-81.61184210526315%2C-9.99456812067297e-15A81.61184210526315%2C81.61184210526315%200%200%2C1%2040.805921052631604%2C-70.67792851280235L35.36513157894739%2C-61.25420471109538A70.73026315789474%2C70.73026315789474%200%200%2C0%20-70.73026315789474%2C-8.661959037916576e-15Z%22%20style%3D%22stroke%3A%20rgb(68%2C%2068%2C%2068)%3B%20stroke-opacity%3A%201%3B%20fill%3A%20rgb(78%2C%20121%2C%20167)%3B%20fill-opacity%3A%201%3B%20stroke-width%3A%200%3B%22%2F%3E%3C%2Fg%3E%3Cg%20class%3D%22threshold-arc%22%3E%3Cpath%20d%3D%22M77.58015868693313%2C-35.74860577852224A85.4203947368421%2C85.4203947368421%200%200%2C1%2077.58015868693313%2C-35.74860577852224L60.779359990399854%2C-28.00686949527539A66.92171052631579%2C66.92171052631579%200%200%2C0%2060.779359990399854%2C-28.00686949527539Z%22%20style%3D%22stroke%3A%20rgb(245%2C%2034%2C%2045)%3B%20stroke-opacity%3A%201%3B%20fill%3A%20rgb(0%2C%200%2C%200)%3B%20fill-opacity%3A%201%3B%20stroke-width%3A%203%3B%22%2F%3E%3C%2Fg%3E%3Cg%20class%3D%22gauge-outline%22%3E%3Cpath%20d%3D%22M-87.05263157894737%2C-1.066087266205117e-14A87.05263157894737%2C87.05263157894737%200%200%2C1%2087.05263157894737%2C0L65.28947368421052%2C0A65.28947368421052%2C65.28947368421052%200%200%2C0%20-65.28947368421052%2C-7.995654496538376e-15Z%22%20style%3D%22stroke%3A%20rgb(68%2C%2068%2C%2068)%3B%20stroke-opacity%3A%201%3B%20fill%3A%20rgb(0%2C%200%2C%200)%3B%20fill-opacity%3A%200%3B%20stroke-width%3A%201%3B%22%2F%3E%3C%2Fg%3E%3C%2Fg%3E%3Cg%20class%3D%22angularaxis%20crisp%22%3E%3Cpath%20class%3D%22xangularaxistick%20ticks%20crisp%22%20d%3D%22M0.5%2C0h5%22%20transform%3D%22translate(80%2C155.0263157894737)rotate(-180)%22%20style%3D%22stroke%3A%20rgb(68%2C%2068%2C%2068)%3B%20stroke-opacity%3A%201%3B%20stroke-width%3A%201px%3B%22%2F%3E%3Cpath%20class%3D%22xangularaxistick%20ticks%20crisp%22%20d%3D%22M0.5%2C0h5%22%20transform%3D%22translate(92.10795179267747%2C110.7379918591937)rotate(-149.4191687845912)%22%20style%3D%22stroke%3A%20rgb(68%2C%2068%2C%2068)%3B%20stroke-opacity%3A%201%3B%20stroke-width%3A%201px%3B%22%2F%3E%3Cpath%20class%3D%22xangularaxistick%20ticks%20crisp%22%20d%3D%22M0.5%2C0h5%22%20transform%3D%22translate(125.06367242383898%2C78.76959166700313)rotate(-118.8383375691824)%22%20style%3D%22stroke%3A%20rgb(68%2C%2068%2C%2068)%3B%20stroke-opacity%3A%201%3B%20stroke-width%3A%201px%3B%22%2F%3E%3Cpath%20class%3D%22xangularaxistick%20ticks%20crisp%22%20d%3D%22M0.5%2C0h5%22%20transform%3D%22translate(169.69968999843502%2C68.01393881617315)rotate(-88.25750635377358)%22%20style%3D%22stroke%3A%20rgb(68%2C%2068%2C%2068)%3B%20stroke-opacity%3A%201%3B%20stroke-width%3A%201px%3B%22%2F%3E%3Cpath%20class%3D%22xangularaxistick%20ticks%20crisp%22%20d%3D%22M0.5%2C0h5%22%20transform%3D%22translate(213.59936094790945%2C81.46299170829485)rotate(-57.67667513836477)%22%20style%3D%22stroke%3A%20rgb(68%2C%2068%2C%2068)%3B%20stroke-opacity%3A%201%3B%20stroke-width%3A%201px%3B%22%2F%3E%3Cpath%20class%3D%22xangularaxistick%20ticks%20crisp%22%20d%3D%22M0.5%2C0h5%22%20transform%3D%22translate(244.55087524585088%2C115.37555421588984)rotate(-27.095843922956)%22%20style%3D%22stroke%3A%20rgb(68%2C%2068%2C%2068)%3B%20stroke-opacity%3A%201%3B%20stroke-width%3A%201px%3B%22%2F%3E%3Cg%20class%3D%22xangularaxistick%22%3E%3Ctext%20text-anchor%3D%22end%22%20x%3D%22-7.9%22%20y%3D%224.199999999999998%22%20data-unformatted%3D%220%22%20data-math%3D%22N%22%20transform%3D%22translate(80%2C155.0263157894737)%22%20style%3D%22font-family%3A%20%26quot%3BOpen%20Sans%26quot%3B%2C%20verdana%2C%20arial%2C%20sans-serif%3B%20font-size%3A%2012px%3B%20fill%3A%20rgb(89%2C%2089%2C%2089)%3B%20fill-opacity%3A%201%3B%20white-space%3A%20pre%3B%22%3E0%3C%2Ftext%3E%3C%2Fg%3E%3Cg%20class%3D%22xangularaxistick%22%3E%3Ctext%20text-anchor%3D%22end%22%20x%3D%22-6.801207035017601%22%20y%3D%22-1.6243286252789977%22%20data-unformatted%3D%221M%22%20data-math%3D%22N%22%20transform%3D%22translate(92.10795179267747%2C110.7379918591937)%22%20style%3D%22font-family%3A%20%26quot%3BOpen%20Sans%26quot%3B%2C%20verdana%2C%20arial%2C%20sans-serif%3B%20font-size%3A%2012px%3B%20fill%3A%20rgb(89%2C%2089%2C%2089)%3B%20fill-opacity%3A%201%3B%20white-space%3A%20pre%3B%22%3E1M%3C%2Ftext%3E%3C%2Fg%3E%3Cg%20class%3D%22xangularaxistick%22%3E%3Ctext%20text-anchor%3D%22end%22%20x%3D%22-3.8104853501703566%22%20y%3D%22-6.996808929981766%22%20data-unformatted%3D%222M%22%20data-math%3D%22N%22%20transform%3D%22translate(125.06367242383898%2C78.76959166700313)%22%20style%3D%22font-family%3A%20%26quot%3BOpen%20Sans%26quot%3B%2C%20verdana%2C%20arial%2C%20sans-serif%3B%20font-size%3A%2012px%3B%20fill%3A%20rgb(89%2C%2089%2C%2089)%3B%20fill-opacity%3A%201%3B%20white-space%3A%20pre%3B%22%3E2M%3C%2Ftext%3E%3C%2Fg%3E%3Cg%20class%3D%22xangularaxistick%22%3E%3Ctext%20text-anchor%3D%22middle%22%20x%3D%220.24021975136946697%22%20y%3D%22-10.167525339661308%22%20data-unformatted%3D%223M%22%20data-math%3D%22N%22%20transform%3D%22translate(169.69968999843502%2C68.01393881617315)%22%20style%3D%22font-family%3A%20%26quot%3BOpen%20Sans%26quot%3B%2C%20verdana%2C%20arial%2C%20sans-serif%3B%20font-size%3A%2012px%3B%20fill%3A%20rgb(89%2C%2089%2C%2089)%3B%20fill-opacity%3A%201%3B%20white-space%3A%20pre%3B%22%3E3M%3C%2Ftext%3E%3C%2Fg%3E%3Cg%20class%3D%22xangularaxistick%22%3E%3Ctext%20text-anchor%3D%22start%22%20x%3D%224.224101619275216%22%20y%3D%22-6.458230664476135%22%20data-unformatted%3D%224M%22%20data-math%3D%22N%22%20transform%3D%22translate(213.59936094790945%2C81.46299170829485)%22%20style%3D%22font-family%3A%20%26quot%3BOpen%20Sans%26quot%3B%2C%20verdana%2C%20arial%2C%20sans-serif%3B%20font-size%3A%2012px%3B%20fill%3A%20rgb(89%2C%2089%2C%2089)%3B%20fill-opacity%3A%201%3B%20white-space%3A%20pre%3B%22%3E4M%3C%2Ftext%3E%3C%2Fg%3E%3Cg%20class%3D%22xangularaxistick%22%3E%3Ctext%20text-anchor%3D%22start%22%20x%3D%227.032942185249224%22%20y%3D%22-0.9524148702124933%22%20data-unformatted%3D%225M%22%20data-math%3D%22N%22%20transform%3D%22translate(244.55087524585088%2C115.37555421588984)%22%20style%3D%22font-family%3A%20%26quot%3BOpen%20Sans%26quot%3B%2C%20verdana%2C%20arial%2C%20sans-serif%3B%20font-size%3A%2012px%3B%20fill%3A%20rgb(89%2C%2089%2C%2089)%3B%20fill-opacity%3A%201%3B%20white-space%3A%20pre%3B%22%3E5M%3C%2Ftext%3E%3C%2Fg%3E%3C%2Fg%3E%3Ctext%20class%3D%22title%22%20text-anchor%3D%22middle%22%20data-unformatted%3D%22Base%22%20data-math%3D%22N%22%20x%3D%220%22%20y%3D%220%22%20style%3D%22font-family%3A%20%26quot%3BOpen%20Sans%26quot%3B%2C%20verdana%2C%20arial%2C%20sans-serif%3B%20font-size%3A%2020px%3B%20fill%3A%20rgb(89%2C%2089%2C%2089)%3B%20fill-opacity%3A%201%3B%20white-space%3A%20pre%3B%22%20transform%3D%22translate(167.05263157894737%2C36.845703125)%22%3EBase%3C%2Ftext%3E%3C%2Fg%3E%3Cg%20class%3D%22trace%22%3E%3Cg%20class%3D%22numbers%22%20transform%3D%22translate(384.68442901688167%2C148.77816945416885)scale(0.3719220187392581)%22%3E%3Ctext%20text-anchor%3D%22middle%22%20class%3D%22number%22%20data-unformatted%3D%223.73M%22%20data-math%3D%22N%22%20style%3D%22font-family%3A%20%26quot%3BOpen%20Sans%26quot%3B%2C%20verdana%2C%20arial%2C%20sans-serif%3B%20font-size%3A%2080px%3B%20fill%3A%20rgb(89%2C%2089%2C%2089)%3B%20fill-opacity%3A%201%3B%20white-space%3A%20pre%3B%22%20x%3D%220%22%20y%3D%220%22%3E3.73M%3C%2Ftext%3E%3C%2Fg%3E%3Cg%20class%3D%22angular%22%20transform%3D%22translate(384.68421052631584%2C155.0263157894737)%22%3E%3Cg%20class%3D%22bg-arc%22%3E%3Cpath%20d%3D%22M-87.05263157894737%2C-1.066087266205117e-14A87.05263157894737%2C87.05263157894737%200%200%2C1%2087.05263157894737%2C0L65.28947368421052%2C0A65.28947368421052%2C65.28947368421052%200%200%2C0%20-65.28947368421052%2C-7.995654496538376e-15Z%22%20style%3D%22stroke%3A%20rgb(68%2C%2068%2C%2068)%3B%20stroke-opacity%3A%201%3B%20fill%3A%20rgb(255%2C%20255%2C%20255)%3B%20fill-opacity%3A%201%3B%20stroke-width%3A%200%3B%22%2F%3E%3C%2Fg%3E%3Cg%20class%3D%22value-arc%22%3E%3Cpath%20d%3D%22M-81.61184210526315%2C-9.99456812067297e-15A81.61184210526315%2C81.61184210526315%200%200%2C1%2040.80592105263157%2C-70.67792851280238L35.36513157894736%2C-61.254204711095404A70.73026315789474%2C70.73026315789474%200%200%2C0%20-70.73026315789474%2C-8.661959037916576e-15Z%22%20style%3D%22stroke%3A%20rgb(68%2C%2068%2C%2068)%3B%20stroke-opacity%3A%201%3B%20fill%3A%20rgb(78%2C%20121%2C%20167)%3B%20fill-opacity%3A%201%3B%20stroke-width%3A%200%3B%22%2F%3E%3C%2Fg%3E%3Cg%20class%3D%22threshold-arc%22%3E%3Cpath%20d%3D%22M77.6933933446847%2C-35.50183752407791A85.4203947368421%2C85.4203947368421%200%200%2C1%2077.6933933446847%2C-35.50183752407791L60.868072492969546%2C-27.813541499755303A66.92171052631579%2C66.92171052631579%200%200%2C0%2060.868072492969546%2C-27.813541499755303Z%22%20style%3D%22stroke%3A%20rgb(245%2C%2034%2C%2045)%3B%20stroke-opacity%3A%201%3B%20fill%3A%20rgb(0%2C%200%2C%200)%3B%20fill-opacity%3A%201%3B%20stroke-width%3A%203%3B%22%2F%3E%3C%2Fg%3E%3Cg%20class%3D%22gauge-outline%22%3E%3Cpath%20d%3D%22M-87.05263157894737%2C-1.066087266205117e-14A87.05263157894737%2C87.05263157894737%200%200%2C1%2087.05263157894737%2C0L65.28947368421052%2C0A65.28947368421052%2C65.28947368421052%200%200%2C0%20-65.28947368421052%2C-7.995654496538376e-15Z%22%20style%3D%22stroke%3A%20rgb(68%2C%2068%2C%2068)%3B%20stroke-opacity%3A%201%3B%20fill%3A%20rgb(0%2C%200%2C%200)%3B%20fill-opacity%3A%200%3B%20stroke-width%3A%201%3B%22%2F%3E%3C%2Fg%3E%3C%2Fg%3E%3Cg%20class%3D%22angularaxis%20crisp%22%3E%3Cpath%20class%3D%22xangularaxistick%20ticks%20crisp%22%20d%3D%22M0.5%2C0h5%22%20transform%3D%22translate(297.63157894736844%2C155.0263157894737)rotate(-180)%22%20style%3D%22stroke%3A%20rgb(68%2C%2068%2C%2068)%3B%20stroke-opacity%3A%201%3B%20stroke-width%3A%201px%3B%22%2F%3E%3Cpath%20class%3D%22xangularaxistick%20ticks%20crisp%22%20d%3D%22M0.5%2C0h5%22%20transform%3D%22translate(310.9854426831654%2C108.6943367337356)rotate(-147.84378233769866)%22%20style%3D%22stroke%3A%20rgb(68%2C%2068%2C%2068)%3B%20stroke-opacity%3A%201%3B%20stroke-width%3A%201px%3B%22%2F%3E%3Cpath%20class%3D%22xangularaxistick%20ticks%20crisp%22%20d%3D%22M0.5%2C0h5%22%20transform%3D%22translate(346.95007154858456%2C76.57699826261941)rotate(-115.68756467539731)%22%20style%3D%22stroke%3A%20rgb(68%2C%2068%2C%2068)%3B%20stroke-opacity%3A%201%3B%20stroke-width%3A%201px%3B%22%2F%3E%3Cpath%20class%3D%22xangularaxistick%20ticks%20crisp%22%20d%3D%22M0.5%2C0h5%22%20transform%3D%22translate(394.4915256278232%2C68.52789247829598)rotate(-83.53134701309598)%22%20style%3D%22stroke%3A%20rgb(68%2C%2068%2C%2068)%3B%20stroke-opacity%3A%201%3B%20stroke-width%3A%201px%3B%22%2F%3E%3Cpath%20class%3D%22xangularaxistick%20ticks%20crisp%22%20d%3D%22M0.5%2C0h5%22%20transform%3D%22translate(439.02409767548806%2C87.01648319568494)rotate(-51.37512935079463)%22%20style%3D%22stroke%3A%20rgb(68%2C%2068%2C%2068)%3B%20stroke-opacity%3A%201%3B%20stroke-width%3A%201px%3B%22%2F%3E%3Cpath%20class%3D%22xangularaxistick%20ticks%20crisp%22%20d%3D%22M0.5%2C0h5%22%20transform%3D%22translate(466.8852047657601%2C126.37047500846016)rotate(-19.218911688493293)%22%20style%3D%22stroke%3A%20rgb(68%2C%2068%2C%2068)%3B%20stroke-opacity%3A%201%3B%20stroke-width%3A%201px%3B%22%2F%3E%3Cg%20class%3D%22xangularaxistick%22%3E%3Ctext%20text-anchor%3D%22end%22%20x%3D%22-7.9%22%20y%3D%224.199999999999998%22%20data-unformatted%3D%220%22%20data-math%3D%22N%22%20transform%3D%22translate(297.63157894736844%2C155.0263157894737)%22%20style%3D%22font-family%3A%20%26quot%3BOpen%20Sans%26quot%3B%2C%20verdana%2C%20arial%2C%20sans-serif%3B%20font-size%3A%2012px%3B%20fill%3A%20rgb(89%2C%2089%2C%2089)%3B%20fill-opacity%3A%201%3B%20white-space%3A%20pre%3B%22%3E0%3C%2Ftext%3E%3C%2Fg%3E%3Cg%20class%3D%22xangularaxistick%22%3E%3Ctext%20text-anchor%3D%22end%22%20x%3D%22-6.68814090281553%22%20y%3D%22-1.9262434264356347%22%20data-unformatted%3D%221M%22%20data-math%3D%22N%22%20transform%3D%22translate(310.9854426831654%2C108.6943367337356)%22%20style%3D%22font-family%3A%20%26quot%3BOpen%20Sans%26quot%3B%2C%20verdana%2C%20arial%2C%20sans-serif%3B%20font-size%3A%2012px%3B%20fill%3A%20rgb(89%2C%2089%2C%2089)%3B%20fill-opacity%3A%201%3B%20white-space%3A%20pre%3B%22%3E1M%3C%2Ftext%3E%3C%2Fg%3E%3Cg%20class%3D%22xangularaxistick%22%3E%3Ctext%20text-anchor%3D%22end%22%20x%3D%22-3.4243617052947184%22%20y%3D%22-7.461515809904734%22%20data-unformatted%3D%222M%22%20data-math%3D%22N%22%20transform%3D%22translate(346.95007154858456%2C76.57699826261941)%22%20style%3D%22font-family%3A%20%26quot%3BOpen%20Sans%26quot%3B%2C%20verdana%2C%20arial%2C%20sans-serif%3B%20font-size%3A%2012px%3B%20fill%3A%20rgb(89%2C%2089%2C%2089)%3B%20fill-opacity%3A%201%3B%20white-space%3A%20pre%3B%22%3E2M%3C%2Ftext%3E%3C%2Fg%3E%3Cg%20class%3D%22xangularaxistick%22%3E%3Ctext%20text-anchor%3D%22start%22%20x%3D%220.8900108807353393%22%20y%3D%22-9.761256164992258%22%20data-unformatted%3D%223M%22%20data-math%3D%22N%22%20transform%3D%22translate(394.4915256278232%2C68.52789247829598)%22%20style%3D%22font-family%3A%20%26quot%3BOpen%20Sans%26quot%3B%2C%20verdana%2C%20arial%2C%20sans-serif%3B%20font-size%3A%2012px%3B%20fill%3A%20rgb(89%2C%2089%2C%2089)%3B%20fill-opacity%3A%201%3B%20white-space%3A%20pre%3B%22%3E3M%3C%2Ftext%3E%3C%2Fg%3E%3Cg%20class%3D%22xangularaxistick%22%3E%3Ctext%20text-anchor%3D%22start%22%20x%3D%224.93132833197748%22%20y%3D%22-5.4251519009072044%22%20data-unformatted%3D%224M%22%20data-math%3D%22N%22%20transform%3D%22translate(439.02409767548806%2C87.01648319568494)%22%20style%3D%22font-family%3A%20%26quot%3BOpen%20Sans%26quot%3B%2C%20verdana%2C%20arial%2C%20sans-serif%3B%20font-size%3A%2012px%3B%20fill%3A%20rgb(89%2C%2089%2C%2089)%3B%20fill-opacity%3A%201%3B%20white-space%3A%20pre%3B%22%3E4M%3C%2Ftext%3E%3C%2Fg%3E%3Cg%20class%3D%22xangularaxistick%22%3E%3Ctext%20text-anchor%3D%22start%22%20x%3D%227.45971537807774%22%20y%3D%220.5753877263986089%22%20data-unformatted%3D%225M%22%20data-math%3D%22N%22%20transform%3D%22translate(466.8852047657601%2C126.37047500846016)%22%20style%3D%22font-family%3A%20%26quot%3BOpen%20Sans%26quot%3B%2C%20verdana%2C%20arial%2C%20sans-serif%3B%20font-size%3A%2012px%3B%20fill%3A%20rgb(89%2C%2089%2C%2089)%3B%20fill-opacity%3A%201%3B%20white-space%3A%20pre%3B%22%3E5M%3C%2Ftext%3E%3C%2Fg%3E%3C%2Fg%3E%3Ctext%20class%3D%22title%22%20text-anchor%3D%22middle%22%20data-unformatted%3D%22Geographical%20Improvements%22%20data-math%3D%22N%22%20x%3D%220%22%20y%3D%220%22%20style%3D%22font-family%3A%20%26quot%3BOpen%20Sans%26quot%3B%2C%20verdana%2C%20arial%2C%20sans-serif%3B%20font-size%3A%2020px%3B%20fill%3A%20rgb(89%2C%2089%2C%2089)%3B%20fill-opacity%3A%201%3B%20white-space%3A%20pre%3B%22%20transform%3D%22translate(384.68421052631584%2C37.7666015625)%22%3EGeographical%20Improvements%3C%2Ftext%3E%3C%2Fg%3E%3Cg%20class%3D%22trace%22%3E%3Cg%20class%3D%22numbers%22%20transform%3D%22translate(602.31600796425%2C148.77816945416885)scale(0.3719220187392581)%22%3E%3Ctext%20text-anchor%3D%22middle%22%20class%3D%22number%22%20data-unformatted%3D%224.63M%22%20data-math%3D%22N%22%20style%3D%22font-family%3A%20%26quot%3BOpen%20Sans%26quot%3B%2C%20verdana%2C%20arial%2C%20sans-serif%3B%20font-size%3A%2080px%3B%20fill%3A%20rgb(89%2C%2089%2C%2089)%3B%20fill-opacity%3A%201%3B%20white-space%3A%20pre%3B%22%20x%3D%220%22%20y%3D%220%22%3E4.63M%3C%2Ftext%3E%3C%2Fg%3E%3Cg%20class%3D%22angular%22%20transform%3D%22translate(602.3157894736843%2C155.0263157894737)%22%3E%3Cg%20class%3D%22bg-arc%22%3E%3Cpath%20d%3D%22M-87.05263157894737%2C-1.066087266205117e-14A87.05263157894737%2C87.05263157894737%200%200%2C1%2087.05263157894737%2C0L65.28947368421052%2C0A65.28947368421052%2C65.28947368421052%200%200%2C0%20-65.28947368421052%2C-7.995654496538376e-15Z%22%20style%3D%22stroke%3A%20rgb(68%2C%2068%2C%2068)%3B%20stroke-opacity%3A%201%3B%20fill%3A%20rgb(255%2C%20255%2C%20255)%3B%20fill-opacity%3A%201%3B%20stroke-width%3A%200%3B%22%2F%3E%3C%2Fg%3E%3Cg%20class%3D%22value-arc%22%3E%3Cpath%20d%3D%22M-81.61184210526315%2C-9.99456812067297e-15A81.61184210526315%2C81.61184210526315%200%200%2C1%2040.80592105263157%2C-70.67792851280238L35.36513157894736%2C-61.254204711095404A70.73026315789474%2C70.73026315789474%200%200%2C0%20-70.73026315789474%2C-8.661959037916576e-15Z%22%20style%3D%22stroke%3A%20rgb(68%2C%2068%2C%2068)%3B%20stroke-opacity%3A%201%3B%20fill%3A%20rgb(78%2C%20121%2C%20167)%3B%20fill-opacity%3A%201%3B%20stroke-width%3A%200%3B%22%2F%3E%3C%2Fg%3E%3Cg%20class%3D%22threshold-arc%22%3E%3Cpath%20d%3D%22M71.2268533122336%2C-47.15272212964463A85.4203947368421%2C85.4203947368421%200%200%2C1%2071.2268533122336%2C-47.15272212964463L55.80192966499831%2C-36.941304598384015A66.92171052631579%2C66.92171052631579%200%200%2C0%2055.80192966499831%2C-36.941304598384015Z%22%20style%3D%22stroke%3A%20rgb(245%2C%2034%2C%2045)%3B%20stroke-opacity%3A%201%3B%20fill%3A%20rgb(0%2C%200%2C%200)%3B%20fill-opacity%3A%201%3B%20stroke-width%3A%203%3B%22%2F%3E%3C%2Fg%3E%3Cg%20class%3D%22gauge-outline%22%3E%3Cpath%20d%3D%22M-87.05263157894737%2C-1.066087266205117e-14A87.05263157894737%2C87.05263157894737%200%200%2C1%2087.05263157894737%2C0L65.28947368421052%2C0A65.28947368421052%2C65.28947368421052%200%200%2C0%20-65.28947368421052%2C-7.995654496538376e-15Z%22%20style%3D%22stroke%3A%20rgb(68%2C%2068%2C%2068)%3B%20stroke-opacity%3A%201%3B%20fill%3A%20rgb(0%2C%200%2C%200)%3B%20fill-opacity%3A%200%3B%20stroke-width%3A%201%3B%22%2F%3E%3C%2Fg%3E%3C%2Fg%3E%3Cg%20class%3D%22angularaxis%20crisp%22%3E%3Cpath%20class%3D%22xangularaxistick%20ticks%20crisp%22%20d%3D%22M0.5%2C0h5%22%20transform%3D%22translate(515.2631578947369%2C155.0263157894737)rotate(-180)%22%20style%3D%22stroke%3A%20rgb(68%2C%2068%2C%2068)%3B%20stroke-opacity%3A%201%3B%20stroke-width%3A%201px%3B%22%2F%3E%3Cpath%20class%3D%22xangularaxistick%20ticks%20crisp%22%20d%3D%22M0.5%2C0h5%22%20transform%3D%22translate(524.0254044270382%2C116.9635219604884)rotate(-154.07215787112858)%22%20style%3D%22stroke%3A%20rgb(68%2C%2068%2C%2068)%3B%20stroke-opacity%3A%201%3B%20stroke-width%3A%201px%3B%22%2F%3E%3Cpath%20class%3D%22xangularaxistick%20ticks%20crisp%22%20d%3D%22M0.5%2C0h5%22%20transform%3D%22translate(548.5482234416402%2C86.56311758920177)rotate(-128.14431574225716)%22%20style%3D%22stroke%3A%20rgb(68%2C%2068%2C%2068)%3B%20stroke-opacity%3A%201%3B%20stroke-width%3A%201px%3B%22%2F%3E%3Cpath%20class%3D%22xangularaxistick%20ticks%20crisp%22%20d%3D%22M0.5%2C0h5%22%20transform%3D%22translate(583.8949465811231%2C69.94498286651388)rotate(-102.2164736133857)%22%20style%3D%22stroke%3A%20rgb(68%2C%2068%2C%2068)%3B%20stroke-opacity%3A%201%3B%20stroke-width%3A%201px%3B%22%2F%3E%3Cpath%20class%3D%22xangularaxistick%20ticks%20crisp%22%20d%3D%22M0.5%2C0h5%22%20transform%3D%22translate(622.9499543256736%2C70.45450071092124)rotate(-76.28863148451428)%22%20style%3D%22stroke%3A%20rgb(68%2C%2068%2C%2068)%3B%20stroke-opacity%3A%201%3B%20stroke-width%3A%201px%3B%22%2F%3E%3Cpath%20class%3D%22xangularaxistick%20ticks%20crisp%22%20d%3D%22M0.5%2C0h5%22%20transform%3D%22translate(657.8511154571597%2C87.98910050774332)rotate(-50.360789355642844)%22%20style%3D%22stroke%3A%20rgb(68%2C%2068%2C%2068)%3B%20stroke-opacity%3A%201%3B%20stroke-width%3A%201px%3B%22%2F%3E%3Cpath%20class%3D%22xangularaxistick%20ticks%20crisp%22%20d%3D%22M0.5%2C0h5%22%20transform%3D%22translate(681.5725061740634%2C119.01890651449531)rotate(-24.432947226771418)%22%20style%3D%22stroke%3A%20rgb(68%2C%2068%2C%2068)%3B%20stroke-opacity%3A%201%3B%20stroke-width%3A%201px%3B%22%2F%3E%3Cg%20class%3D%22xangularaxistick%22%3E%3Ctext%20text-anchor%3D%22end%22%20x%3D%22-7.9%22%20y%3D%224.199999999999998%22%20data-unformatted%3D%220%22%20data-math%3D%22N%22%20transform%3D%22translate(515.2631578947369%2C155.0263157894737)%22%20style%3D%22font-family%3A%20%26quot%3BOpen%20Sans%26quot%3B%2C%20verdana%2C%20arial%2C%20sans-serif%3B%20font-size%3A%2012px%3B%20fill%3A%20rgb(89%2C%2089%2C%2089)%3B%20fill-opacity%3A%201%3B%20white-space%3A%20pre%3B%22%3E0%3C%2Ftext%3E%3C%2Fg%3E%3Cg%20class%3D%22xangularaxistick%22%3E%3Ctext%20text-anchor%3D%22end%22%20x%3D%22-7.104828775998535%22%20y%3D%22-0.7263095680834741%22%20data-unformatted%3D%221M%22%20data-math%3D%22N%22%20transform%3D%22translate(524.0254044270382%2C116.9635219604884)%22%20style%3D%22font-family%3A%20%26quot%3BOpen%20Sans%26quot%3B%2C%20verdana%2C%20arial%2C%20sans-serif%3B%20font-size%3A%2012px%3B%20fill%3A%20rgb(89%2C%2089%2C%2089)%3B%20fill-opacity%3A%201%3B%20white-space%3A%20pre%3B%22%3E1M%3C%2Ftext%3E%3C%2Fg%3E%3Cg%20class%3D%22xangularaxistick%22%3E%3Ctext%20text-anchor%3D%22end%22%20x%3D%22-4.8793903636093265%22%20y%3D%22-5.506406359393044%22%20data-unformatted%3D%222M%22%20data-math%3D%22N%22%20transform%3D%22translate(548.5482234416402%2C86.56311758920177)%22%20style%3D%22font-family%3A%20%26quot%3BOpen%20Sans%26quot%3B%2C%20verdana%2C%20arial%2C%20sans-serif%3B%20font-size%3A%2012px%3B%20fill%3A%20rgb(89%2C%2089%2C%2089)%3B%20fill-opacity%3A%201%3B%20white-space%3A%20pre%3B%22%3E2M%3C%2Ftext%3E%3C%2Fg%3E%3Cg%20class%3D%22xangularaxistick%22%3E%3Ctext%20text-anchor%3D%22end%22%20x%3D%22-1.671685923925893%22%20y%3D%22-9.178013053323372%22%20data-unformatted%3D%223M%22%20data-math%3D%22N%22%20transform%3D%22translate(583.8949465811231%2C69.94498286651388)%22%20style%3D%22font-family%3A%20%26quot%3BOpen%20Sans%26quot%3B%2C%20verdana%2C%20arial%2C%20sans-serif%3B%20font-size%3A%2012px%3B%20fill%3A%20rgb(89%2C%2089%2C%2089)%3B%20fill-opacity%3A%201%3B%20white-space%3A%20pre%3B%22%3E3M%3C%2Ftext%3E%3C%2Fg%3E%3Cg%20class%3D%22xangularaxistick%22%3E%3Ctext%20text-anchor%3D%22start%22%20x%3D%221.872544222662393%22%20y%3D%22-9.010941871634808%22%20data-unformatted%3D%224M%22%20data-math%3D%22N%22%20transform%3D%22translate(622.9499543256736%2C70.45450071092124)%22%20style%3D%22font-family%3A%20%26quot%3BOpen%20Sans%26quot%3B%2C%20verdana%2C%20arial%2C%20sans-serif%3B%20font-size%3A%2012px%3B%20fill%3A%20rgb(89%2C%2089%2C%2089)%3B%20fill-opacity%3A%201%3B%20white-space%3A%20pre%3B%22%3E4M%3C%2Ftext%3E%3C%2Fg%3E%3Cg%20class%3D%22xangularaxistick%22%3E%3Ctext%20text-anchor%3D%22start%22%20x%3D%225.03981404481237%22%20y%3D%22-5.252396624639238%22%20data-unformatted%3D%225M%22%20data-math%3D%22N%22%20transform%3D%22translate(657.8511154571597%2C87.98910050774332)%22%20style%3D%22font-family%3A%20%26quot%3BOpen%20Sans%26quot%3B%2C%20verdana%2C%20arial%2C%20sans-serif%3B%20font-size%3A%2012px%3B%20fill%3A%20rgb(89%2C%2089%2C%2089)%3B%20fill-opacity%3A%201%3B%20white-space%3A%20pre%3B%22%3E5M%3C%2Ftext%3E%3C%2Fg%3E%3Cg%20class%3D%22xangularaxistick%22%3E%3Ctext%20text-anchor%3D%22start%22%20x%3D%227.192523081455198%22%20y%3D%22-0.4364957693004965%22%20data-unformatted%3D%226M%22%20data-math%3D%22N%22%20transform%3D%22translate(681.5725061740634%2C119.01890651449531)%22%20style%3D%22font-family%3A%20%26quot%3BOpen%20Sans%26quot%3B%2C%20verdana%2C%20arial%2C%20sans-serif%3B%20font-size%3A%2012px%3B%20fill%3A%20rgb(89%2C%2089%2C%2089)%3B%20fill-opacity%3A%201%3B%20white-space%3A%20pre%3B%22%3E6M%3C%2Ftext%3E%3C%2Fg%3E%3C%2Fg%3E%3Ctext%20class%3D%22title%22%20text-anchor%3D%22middle%22%20data-unformatted%3D%22Pareto%20price%20change%22%20data-math%3D%22N%22%20x%3D%220%22%20y%3D%220%22%20style%3D%22font-family%3A%20%26quot%3BOpen%20Sans%26quot%3B%2C%20verdana%2C%20arial%2C%20sans-serif%3B%20font-size%3A%2020px%3B%20fill%3A%20rgb(89%2C%2089%2C%2089)%3B%20fill-opacity%3A%201%3B%20white-space%3A%20pre%3B%22%20transform%3D%22translate(602.3157894736843%2C39.7666015625)%22%3EPareto%20price%20change%3C%2Ftext%3E%3C%2Fg%3E%3Cg%20class%3D%22trace%22%3E%3Cg%20class%3D%22numbers%22%20transform%3D%22translate(819.9475869116185%2C148.77816945416885)scale(0.3719220187392581)%22%3E%3Ctext%20text-anchor%3D%22middle%22%20class%3D%22number%22%20data-unformatted%3D%224.46M%22%20data-math%3D%22N%22%20style%3D%22font-family%3A%20%26quot%3BOpen%20Sans%26quot%3B%2C%20verdana%2C%20arial%2C%20sans-serif%3B%20font-size%3A%2080px%3B%20fill%3A%20rgb(89%2C%2089%2C%2089)%3B%20fill-opacity%3A%201%3B%20white-space%3A%20pre%3B%22%20x%3D%220%22%20y%3D%220%22%3E4.46M%3C%2Ftext%3E%3C%2Fg%3E%3Cg%20class%3D%22angular%22%20transform%3D%22translate(819.9473684210527%2C155.0263157894737)%22%3E%3Cg%20class%3D%22bg-arc%22%3E%3Cpath%20d%3D%22M-87.05263157894737%2C-1.066087266205117e-14A87.05263157894737%2C87.05263157894737%200%200%2C1%2087.05263157894737%2C0L65.28947368421052%2C0A65.28947368421052%2C65.28947368421052%200%200%2C0%20-65.28947368421052%2C-7.995654496538376e-15Z%22%20style%3D%22stroke%3A%20rgb(68%2C%2068%2C%2068)%3B%20stroke-opacity%3A%201%3B%20fill%3A%20rgb(255%2C%20255%2C%20255)%3B%20fill-opacity%3A%201%3B%20stroke-width%3A%200%3B%22%2F%3E%3C%2Fg%3E%3Cg%20class%3D%22value-arc%22%3E%3Cpath%20d%3D%22M-81.61184210526315%2C-9.99456812067297e-15A81.61184210526315%2C81.61184210526315%200%200%2C1%2040.805921052631604%2C-70.67792851280235L35.36513157894739%2C-61.25420471109538A70.73026315789474%2C70.73026315789474%200%200%2C0%20-70.73026315789474%2C-8.661959037916576e-15Z%22%20style%3D%22stroke%3A%20rgb(68%2C%2068%2C%2068)%3B%20stroke-opacity%3A%201%3B%20fill%3A%20rgb(78%2C%20121%2C%20167)%3B%20fill-opacity%3A%201%3B%20stroke-width%3A%200%3B%22%2F%3E%3C%2Fg%3E%3Cg%20class%3D%22threshold-arc%22%3E%3Cpath%20d%3D%22M79.28190257554569%2C-31.79659983393828A85.4203947368421%2C85.4203947368421%200%200%2C1%2079.28190257554569%2C-31.79659983393828L62.11257335536382%2C-24.910711971811523A66.92171052631579%2C66.92171052631579%200%200%2C0%2062.11257335536382%2C-24.910711971811523Z%22%20style%3D%22stroke%3A%20rgb(245%2C%2034%2C%2045)%3B%20stroke-opacity%3A%201%3B%20fill%3A%20rgb(0%2C%200%2C%200)%3B%20fill-opacity%3A%201%3B%20stroke-width%3A%203%3B%22%2F%3E%3C%2Fg%3E%3Cg%20class%3D%22gauge-outline%22%3E%3Cpath%20d%3D%22M-87.05263157894737%2C-1.066087266205117e-14A87.05263157894737%2C87.05263157894737%200%200%2C1%2087.05263157894737%2C0L65.28947368421052%2C0A65.28947368421052%2C65.28947368421052%200%200%2C0%20-65.28947368421052%2C-7.995654496538376e-15Z%22%20style%3D%22stroke%3A%20rgb(68%2C%2068%2C%2068)%3B%20stroke-opacity%3A%201%3B%20fill%3A%20rgb(0%2C%200%2C%200)%3B%20fill-opacity%3A%200%3B%20stroke-width%3A%201%3B%22%2F%3E%3C%2Fg%3E%3C%2Fg%3E%3Cg%20class%3D%22angularaxis%20crisp%22%3E%3Cpath%20class%3D%22xangularaxistick%20ticks%20crisp%22%20d%3D%22M0.5%2C0h5%22%20transform%3D%22translate(732.8947368421053%2C155.0263157894737)rotate(-180)%22%20style%3D%22stroke%3A%20rgb(68%2C%2068%2C%2068)%3B%20stroke-opacity%3A%201%3B%20stroke-width%3A%201px%3B%22%2F%3E%3Cpath%20class%3D%22xangularaxistick%20ticks%20crisp%22%20d%3D%22M0.5%2C0h5%22%20transform%3D%22translate(742.3137403912854%2C115.64128736805878)rotate(-153.1004455053615)%22%20style%3D%22stroke%3A%20rgb(68%2C%2068%2C%2068)%3B%20stroke-opacity%3A%201%3B%20stroke-width%3A%201px%3B%22%2F%3E%3Cpath%20class%3D%22xangularaxistick%20ticks%20crisp%22%20d%3D%22M0.5%2C0h5%22%20transform%3D%22translate(768.5324984036018%2C84.77909658537587)rotate(-126.20089101072297)%22%20style%3D%22stroke%3A%20rgb(68%2C%2068%2C%2068)%3B%20stroke-opacity%3A%201%3B%20stroke-width%3A%201px%3B%22%2F%3E%3Cpath%20class%3D%22xangularaxistick%20ticks%20crisp%22%20d%3D%22M0.5%2C0h5%22%20transform%3D%22translate(805.8773265735059%2C69.1182568704862)rotate(-99.30133651608443)%22%20style%3D%22stroke%3A%20rgb(68%2C%2068%2C%2068)%3B%20stroke-opacity%3A%201%3B%20stroke-width%3A%201px%3B%22%2F%3E%3Cpath%20class%3D%22xangularaxistick%20ticks%20crisp%22%20d%3D%22M0.5%2C0h5%22%20transform%3D%22translate(846.2668823224716%2C72.04774112822174)rotate(-72.40178202144592)%22%20style%3D%22stroke%3A%20rgb(68%2C%2068%2C%2068)%3B%20stroke-opacity%3A%201%3B%20stroke-width%3A%201px%3B%22%2F%3E%3Cpath%20class%3D%22xangularaxistick%20ticks%20crisp%22%20d%3D%22M0.5%2C0h5%22%20transform%3D%22translate(880.9609504025703%2C92.93361510248008)rotate(-45.502227526807374)%22%20style%3D%22stroke%3A%20rgb(68%2C%2068%2C%2068)%3B%20stroke-opacity%3A%201%3B%20stroke-width%3A%201px%3B%22%2F%3E%3Cpath%20class%3D%22xangularaxistick%20ticks%20crisp%22%20d%3D%22M0.5%2C0h5%22%20transform%3D%22translate(902.4518071653656%2C127.25621942115232)rotate(-18.602673032168866)%22%20style%3D%22stroke%3A%20rgb(68%2C%2068%2C%2068)%3B%20stroke-opacity%3A%201%3B%20stroke-width%3A%201px%3B%22%2F%3E%3Cg%20class%3D%22xangularaxistick%22%3E%3Ctext%20text-anchor%3D%22end%22%20x%3D%22-7.9%22%20y%3D%224.199999999999998%22%20data-unformatted%3D%220%22%20data-math%3D%22N%22%20transform%3D%22translate(732.8947368421053%2C155.0263157894737)%22%20style%3D%22font-family%3A%20%26quot%3BOpen%20Sans%26quot%3B%2C%20verdana%2C%20arial%2C%20sans-serif%3B%20font-size%3A%2012px%3B%20fill%3A%20rgb(89%2C%2089%2C%2089)%3B%20fill-opacity%3A%201%3B%20white-space%3A%20pre%3B%22%3E0%3C%2Ftext%3E%3C%2Fg%3E%3Cg%20class%3D%22xangularaxistick%22%3E%3Ctext%20text-anchor%3D%22end%22%20x%3D%22-7.0452282752527715%22%20y%3D%22-0.9144416839754932%22%20data-unformatted%3D%221M%22%20data-math%3D%22N%22%20transform%3D%22translate(742.3137403912854%2C115.64128736805878)%22%20style%3D%22font-family%3A%20%26quot%3BOpen%20Sans%26quot%3B%2C%20verdana%2C%20arial%2C%20sans-serif%3B%20font-size%3A%2012px%3B%20fill%3A%20rgb(89%2C%2089%2C%2089)%3B%20fill-opacity%3A%201%3B%20white-space%3A%20pre%3B%22%3E1M%3C%2Ftext%3E%3C%2Fg%3E%3Cg%20class%3D%22xangularaxistick%22%3E%3Ctext%20text-anchor%3D%22end%22%20x%3D%22-4.665883911499024%22%20y%3D%22-5.831000103294656%22%20data-unformatted%3D%222M%22%20data-math%3D%22N%22%20transform%3D%22translate(768.5324984036018%2C84.77909658537587)%22%20style%3D%22font-family%3A%20%26quot%3BOpen%20Sans%26quot%3B%2C%20verdana%2C%20arial%2C%20sans-serif%3B%20font-size%3A%2012px%3B%20fill%3A%20rgb(89%2C%2089%2C%2089)%3B%20fill-opacity%3A%201%3B%20white-space%3A%20pre%3B%22%3E2M%3C%2Ftext%3E%3C%2Fg%3E%3Cg%20class%3D%22xangularaxistick%22%3E%3Ctext%20text-anchor%3D%22end%22%20x%3D%22-1.276852044326952%22%20y%3D%22-9.485742316210168%22%20data-unformatted%3D%223M%22%20data-math%3D%22N%22%20transform%3D%22translate(805.8773265735059%2C69.1182568704862)%22%20style%3D%22font-family%3A%20%26quot%3BOpen%20Sans%26quot%3B%2C%20verdana%2C%20arial%2C%20sans-serif%3B%20font-size%3A%2012px%3B%20fill%3A%20rgb(89%2C%2089%2C%2089)%3B%20fill-opacity%3A%201%3B%20white-space%3A%20pre%3B%22%3E3M%3C%2Ftext%3E%3C%2Fg%3E%3Cg%20class%3D%22xangularaxistick%22%3E%3Ctext%20text-anchor%3D%22start%22%20x%3D%222.3884879302315403%22%20y%3D%22-8.54813171213651%22%20data-unformatted%3D%224M%22%20data-math%3D%22N%22%20transform%3D%22translate(846.2668823224716%2C72.04774112822174)%22%20style%3D%22font-family%3A%20%26quot%3BOpen%20Sans%26quot%3B%2C%20verdana%2C%20arial%2C%20sans-serif%3B%20font-size%3A%2012px%3B%20fill%3A%20rgb(89%2C%2089%2C%2089)%3B%20fill-opacity%3A%201%3B%20white-space%3A%20pre%3B%22%3E4M%3C%2Ftext%3E%3C%2Fg%3E%3Cg%20class%3D%22xangularaxistick%22%3E%3Ctext%20text-anchor%3D%22start%22%20x%3D%225.53696412057182%22%20y%3D%22-4.403057849044467%22%20data-unformatted%3D%225M%22%20data-math%3D%22N%22%20transform%3D%22translate(880.9609504025703%2C92.93361510248008)%22%20style%3D%22font-family%3A%20%26quot%3BOpen%20Sans%26quot%3B%2C%20verdana%2C%20arial%2C%20sans-serif%3B%20font-size%3A%2012px%3B%20fill%3A%20rgb(89%2C%2089%2C%2089)%3B%20fill-opacity%3A%201%3B%20white-space%3A%20pre%3B%22%3E5M%3C%2Ftext%3E%3C%2Fg%3E%3Cg%20class%3D%22xangularaxistick%22%3E%3Ctext%20text-anchor%3D%22start%22%20x%3D%227.487252875164072%22%20y%3D%220.6948285081715109%22%20data-unformatted%3D%226M%22%20data-math%3D%22N%22%20transform%3D%22translate(902.4518071653656%2C127.25621942115232)%22%20style%3D%22font-family%3A%20%26quot%3BOpen%20Sans%26quot%3B%2C%20verdana%2C%20arial%2C%20sans-serif%3B%20font-size%3A%2012px%3B%20fill%3A%20rgb(89%2C%2089%2C%2089)%3B%20fill-opacity%3A%201%3B%20white-space%3A%20pre%3B%22%3E6M%3C%2Ftext%3E%3C%2Fg%3E%3C%2Fg%3E%3Ctext%20class%3D%22title%22%20text-anchor%3D%22middle%22%20data-unformatted%3D%22Personal%20Auto%20Boost%22%20data-math%3D%22N%22%20x%3D%220%22%20y%3D%220%22%20style%3D%22font-family%3A%20%26quot%3BOpen%20Sans%26quot%3B%2C%20verdana%2C%20arial%2C%20sans-serif%3B%20font-size%3A%2020px%3B%20fill%3A%20rgb(89%2C%2089%2C%2089)%3B%20fill-opacity%3A%201%3B%20white-space%3A%20pre%3B%22%20transform%3D%22translate(819.9473684210527%2C38.6328125)%22%3EPersonal%20Auto%20Boost%3C%2Ftext%3E%3C%2Fg%3E%3C%2Fg%3E%3Cg%20class%3D%22layer-above%22%3E%3Cg%20class%3D%22imagelayer%22%2F%3E%3Cg%20class%3D%22shapelayer%22%2F%3E%3C%2Fg%3E%3Cg%20class%3D%22infolayer%22%3E%3Cg%20class%3D%22g-gtitle%22%2F%3E%3C%2Fg%3E%3Cg%20class%3D%22menulayer%22%2F%3E%3Cg%20class%3D%22zoomlayer%22%2F%3E%3Cg%20class%3D%22hoverlayer%22%2F%3E%3C%2Fsvg%3E\">"
      ],
      "text/plain": [
       "Open the notebook in JupyterLab with the atoti extension enabled to build this widget."
      ]
     },
     "metadata": {},
     "output_type": "display_data"
    }
   ],
   "source": [
    "session.visualize(\"Scenarios: Revenue realised gauge\")"
   ]
  },
  {
   "cell_type": "code",
   "execution_count": 47,
   "id": "6e5ce385-1d72-4656-8f78-31774a825744",
   "metadata": {},
   "outputs": [],
   "source": [
    "## Let us summarize this information in a new tab of the dashboard we created above"
   ]
  },
  {
   "cell_type": "code",
   "execution_count": 48,
   "id": "337a9bf0-d459-43e8-8061-8874e465661a",
   "metadata": {},
   "outputs": [
    {
     "data": {
      "application/vnd.atoti.link.v0+json": {
       "path": "#/dashboard/39f",
       "sessionLocation": {
        "https": null,
        "port": 62008
       }
      },
      "text/plain": [
       "Open the notebook in JupyterLab with the atoti extension enabled to see this link."
      ]
     },
     "execution_count": 48,
     "metadata": {},
     "output_type": "execute_result"
    }
   ],
   "source": [
    "session.link(path=\"#/dashboard/39f\")"
   ]
  },
  {
   "cell_type": "markdown",
   "id": "244b64cc-4f50-4007-9e73-6b4f44c4edc5",
   "metadata": {},
   "source": [
    "# Conclusion:\n",
    "\n",
    "In this notebook, we used atoti and a predictive model based on XGBosst classification.  \n",
    "\n",
    "We saw above, how atoti can seamlessly integrate with a predictive model to create different what-if scenarios and hence, identify the price-sensitive and insensitive customers across different segments.\n",
    "\n",
    "**Now we would like to invite you to try for yourself how atoti can help you simplify what-if scenarios and the price elasticity of demand!!**\n",
    "\n",
    "<div style=\"text-align: center;\" ><a href=\"https://www.atoti.io/?utm_source=gallery&utm_content=creditcard-fraud-detection\" target=\"_blank\" rel=\"noopener noreferrer\"><img src=\"https://data.atoti.io/notebooks/banners/discover-try.png\" alt=\"Try atoti\"></a></div>"
   ]
  }
 ],
 "metadata": {
  "kernelspec": {
   "display_name": "Python 3 (ipykernel)",
   "language": "python",
   "name": "python3"
  },
  "language_info": {
   "codemirror_mode": {
    "name": "ipython",
    "version": 3
   },
   "file_extension": ".py",
   "mimetype": "text/x-python",
   "name": "python",
   "nbconvert_exporter": "python",
   "pygments_lexer": "ipython3",
   "version": "3.9.12"
  }
 },
 "nbformat": 4,
 "nbformat_minor": 5
}
